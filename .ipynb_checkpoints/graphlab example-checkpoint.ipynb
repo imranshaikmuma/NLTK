{
 "cells": [
  {
   "cell_type": "code",
   "execution_count": 1,
   "metadata": {
    "collapsed": false
   },
   "outputs": [],
   "source": [
    "import graphlab as gl\n",
    "import pyLDAvis\n",
    "import pyLDAvis.graphlab"
   ]
  },
  {
   "cell_type": "code",
   "execution_count": 2,
   "metadata": {
    "collapsed": false
   },
   "outputs": [
    {
     "name": "stderr",
     "output_type": "stream",
     "text": [
      "C:\\Users\\iimra\\Anaconda2\\lib\\site-packages\\IPython\\core\\formatters.py:98: DeprecationWarning: DisplayFormatter._formatters_default is deprecated: use @default decorator instead.\n",
      "  def _formatters_default(self):\n",
      "C:\\Users\\iimra\\Anaconda2\\lib\\site-packages\\IPython\\core\\formatters.py:677: DeprecationWarning: PlainTextFormatter._deferred_printers_default is deprecated: use @default decorator instead.\n",
      "  def _deferred_printers_default(self):\n",
      "C:\\Users\\iimra\\Anaconda2\\lib\\site-packages\\IPython\\core\\formatters.py:669: DeprecationWarning: PlainTextFormatter._singleton_printers_default is deprecated: use @default decorator instead.\n",
      "  def _singleton_printers_default(self):\n",
      "C:\\Users\\iimra\\Anaconda2\\lib\\site-packages\\IPython\\core\\formatters.py:672: DeprecationWarning: PlainTextFormatter._type_printers_default is deprecated: use @default decorator instead.\n",
      "  def _type_printers_default(self):\n"
     ]
    }
   ],
   "source": [
    "\n",
    "pyLDAvis.enable_notebook()"
   ]
  },
  {
   "cell_type": "code",
   "execution_count": 3,
   "metadata": {
    "collapsed": false
   },
   "outputs": [
    {
     "name": "stdout",
     "output_type": "stream",
     "text": [
      "This non-commercial license of GraphLab Create for academic use is assigned to imranshaik@mail.usf.edu and will expire on March 06, 2018.\n"
     ]
    },
    {
     "name": "stderr",
     "output_type": "stream",
     "text": [
      "[INFO] graphlab.cython.cy_server: GraphLab Create v2.1 started. Logging: C:\\Users\\iimra\\AppData\\Local\\Temp\\graphlab_server_1490033325.log.0\n"
     ]
    },
    {
     "data": {
      "text/html": [
       "<pre>Downloading http://s3.amazonaws.com/GraphLab-Datasets/nytimes/dir_archive.ini to C:/Users/iimra/AppData/Local/Temp/graphlab-iimra/2232/f02d7c4d-b611-4a08-9309-5d7f57895bc8.ini</pre>"
      ],
      "text/plain": [
       "Downloading http://s3.amazonaws.com/GraphLab-Datasets/nytimes/dir_archive.ini to C:/Users/iimra/AppData/Local/Temp/graphlab-iimra/2232/f02d7c4d-b611-4a08-9309-5d7f57895bc8.ini"
      ]
     },
     "metadata": {},
     "output_type": "display_data"
    },
    {
     "data": {
      "text/html": [
       "<pre>Downloading http://s3.amazonaws.com/GraphLab-Datasets/nytimes/objects.bin to C:/Users/iimra/AppData/Local/Temp/graphlab-iimra/2232/9f2f182a-9d66-4cc0-a50c-c15eca1dee61.bin</pre>"
      ],
      "text/plain": [
       "Downloading http://s3.amazonaws.com/GraphLab-Datasets/nytimes/objects.bin to C:/Users/iimra/AppData/Local/Temp/graphlab-iimra/2232/9f2f182a-9d66-4cc0-a50c-c15eca1dee61.bin"
      ]
     },
     "metadata": {},
     "output_type": "display_data"
    },
    {
     "data": {
      "text/html": [
       "<pre>Downloading http://s3.amazonaws.com/GraphLab-Datasets/nytimes/m_2ae8944a.sidx to C:/Users/iimra/AppData/Local/Temp/graphlab-iimra/2232/bdfde327-ae3a-4475-812b-a9144c04bf3a.sidx</pre>"
      ],
      "text/plain": [
       "Downloading http://s3.amazonaws.com/GraphLab-Datasets/nytimes/m_2ae8944a.sidx to C:/Users/iimra/AppData/Local/Temp/graphlab-iimra/2232/bdfde327-ae3a-4475-812b-a9144c04bf3a.sidx"
      ]
     },
     "metadata": {},
     "output_type": "display_data"
    }
   ],
   "source": [
    "docs = gl.SArray('http://s3.amazonaws.com/GraphLab-Datasets/nytimes')"
   ]
  },
  {
   "cell_type": "code",
   "execution_count": 5,
   "metadata": {
    "collapsed": false
   },
   "outputs": [
    {
     "data": {
      "text/html": [
       "<pre>Downloading http://s3.amazonaws.com/GraphLab-Datasets/nytimes/m_2ae8944a.0000 to C:/Users/iimra/AppData/Local/Temp/graphlab-iimra/2232/1ac8e4f6-abdc-420b-8ad3-901ca040527a.0000</pre>"
      ],
      "text/plain": [
       "Downloading http://s3.amazonaws.com/GraphLab-Datasets/nytimes/m_2ae8944a.0000 to C:/Users/iimra/AppData/Local/Temp/graphlab-iimra/2232/1ac8e4f6-abdc-420b-8ad3-901ca040527a.0000"
      ]
     },
     "metadata": {},
     "output_type": "display_data"
    },
    {
     "data": {
      "text/html": [
       "<pre>Downloading http://s3.amazonaws.com/GraphLab-Datasets/nytimes/m_2ae8944a.0001 to C:/Users/iimra/AppData/Local/Temp/graphlab-iimra/2232/092eae8e-2c4f-4f61-abc2-c4e748352a0f.0001</pre>"
      ],
      "text/plain": [
       "Downloading http://s3.amazonaws.com/GraphLab-Datasets/nytimes/m_2ae8944a.0001 to C:/Users/iimra/AppData/Local/Temp/graphlab-iimra/2232/092eae8e-2c4f-4f61-abc2-c4e748352a0f.0001"
      ]
     },
     "metadata": {},
     "output_type": "display_data"
    },
    {
     "data": {
      "text/html": [
       "<pre>Downloading http://s3.amazonaws.com/GraphLab-Datasets/nytimes/m_2ae8944a.0002 to C:/Users/iimra/AppData/Local/Temp/graphlab-iimra/2232/77f0dc6d-742a-4933-8f2f-e800119b62f0.0002</pre>"
      ],
      "text/plain": [
       "Downloading http://s3.amazonaws.com/GraphLab-Datasets/nytimes/m_2ae8944a.0002 to C:/Users/iimra/AppData/Local/Temp/graphlab-iimra/2232/77f0dc6d-742a-4933-8f2f-e800119b62f0.0002"
      ]
     },
     "metadata": {},
     "output_type": "display_data"
    },
    {
     "data": {
      "text/html": [
       "<pre>Downloading http://s3.amazonaws.com/GraphLab-Datasets/nytimes/m_2ae8944a.0003 to C:/Users/iimra/AppData/Local/Temp/graphlab-iimra/2232/339af10a-3f4c-46fe-9baa-55d42721a361.0003</pre>"
      ],
      "text/plain": [
       "Downloading http://s3.amazonaws.com/GraphLab-Datasets/nytimes/m_2ae8944a.0003 to C:/Users/iimra/AppData/Local/Temp/graphlab-iimra/2232/339af10a-3f4c-46fe-9baa-55d42721a361.0003"
      ]
     },
     "metadata": {},
     "output_type": "display_data"
    },
    {
     "data": {
      "text/html": [
       "<pre>Downloading http://s3.amazonaws.com/GraphLab-Datasets/nytimes/m_2ae8944a.0004 to C:/Users/iimra/AppData/Local/Temp/graphlab-iimra/2232/3fe58677-c1e5-4df1-8b58-609ada3eb491.0004</pre>"
      ],
      "text/plain": [
       "Downloading http://s3.amazonaws.com/GraphLab-Datasets/nytimes/m_2ae8944a.0004 to C:/Users/iimra/AppData/Local/Temp/graphlab-iimra/2232/3fe58677-c1e5-4df1-8b58-609ada3eb491.0004"
      ]
     },
     "metadata": {},
     "output_type": "display_data"
    },
    {
     "data": {
      "text/html": [
       "<pre>Downloading http://s3.amazonaws.com/GraphLab-Datasets/nytimes/m_2ae8944a.0005 to C:/Users/iimra/AppData/Local/Temp/graphlab-iimra/2232/d93d28a3-75fd-461a-8a38-1e68b941d566.0005</pre>"
      ],
      "text/plain": [
       "Downloading http://s3.amazonaws.com/GraphLab-Datasets/nytimes/m_2ae8944a.0005 to C:/Users/iimra/AppData/Local/Temp/graphlab-iimra/2232/d93d28a3-75fd-461a-8a38-1e68b941d566.0005"
      ]
     },
     "metadata": {},
     "output_type": "display_data"
    },
    {
     "data": {
      "text/html": [
       "<pre>Downloading http://s3.amazonaws.com/GraphLab-Datasets/nytimes/m_2ae8944a.0006 to C:/Users/iimra/AppData/Local/Temp/graphlab-iimra/2232/dcb3ff6f-c648-4bad-89d8-02f041d302c4.0006</pre>"
      ],
      "text/plain": [
       "Downloading http://s3.amazonaws.com/GraphLab-Datasets/nytimes/m_2ae8944a.0006 to C:/Users/iimra/AppData/Local/Temp/graphlab-iimra/2232/dcb3ff6f-c648-4bad-89d8-02f041d302c4.0006"
      ]
     },
     "metadata": {},
     "output_type": "display_data"
    },
    {
     "data": {
      "text/html": [
       "<pre>Downloading http://s3.amazonaws.com/GraphLab-Datasets/nytimes/m_2ae8944a.0007 to C:/Users/iimra/AppData/Local/Temp/graphlab-iimra/2232/5151fd45-2873-45c5-a639-54450b8c9671.0007</pre>"
      ],
      "text/plain": [
       "Downloading http://s3.amazonaws.com/GraphLab-Datasets/nytimes/m_2ae8944a.0007 to C:/Users/iimra/AppData/Local/Temp/graphlab-iimra/2232/5151fd45-2873-45c5-a639-54450b8c9671.0007"
      ]
     },
     "metadata": {},
     "output_type": "display_data"
    },
    {
     "name": "stdout",
     "output_type": "stream",
     "text": [
      "[{'coach': 2L, 'shot': 1L, 'help': 1L, 'zzz_frozena_jerro': 1L, 'foul': 2L, 'ended': 2L, 'committed': 1L, 'glimpse': 1L, 'cut': 2L, 'hope': 1L, 'board': 1L, 'halftime': 1L, 'momentum': 1L, 'gave': 2L, 'rebound': 2L, 'game': 4L, 'valuable': 1L, 'half': 4L, 'minute': 1L, 'desire': 1L, 'school': 1L, 'level': 2L, 'trailed': 1L, 'admitted': 1L, 'victory': 1L, 'team': 5L, 'right': 1L, 'crowd': 1L, 'hard': 1L, 'begin': 1L, 'past': 1L, 'defense': 1L, 'fewer': 2L, 'close': 1L, 'provided': 1L, 'zzz_ncaa': 2L, 'won': 1L, 'deficit': 1L, 'learned': 1L, 'run': 2L, 'zzz_mississippi_state': 7L, 'schedule': 1L, 'night': 3L, 'deliver': 1L, 'ranked': 4L, 'clues': 1L, 'put': 1L, 'comeback': 1L, 'strong': 1L, 'zzz_division_i': 1L, 'getting': 1L, 'leaves': 1L, 'losses': 1L, 'experience': 1L, 'figures': 1L, 'commit': 1L, 'zzz_illinois': 1L, 'point': 4L, 'win': 3L, 'number': 1L, 'talked': 1L, 'reached': 1L, 'lesson': 1L, 'conference': 1L, 'basketball': 1L, 'mark': 1L, 'needed': 1L, 'basic': 1L, 'percentage': 1L, 'type': 1L, 'footwork': 1L, 'zzz_big_sky': 1L, 'season': 1L, 'completed': 1L, 'took': 1L, 'zzz_bulldog': 4L, 'zzz_dartmouth': 1L, 'attempt': 1L, 'believe': 1L, 'women': 1L, 'shoot': 1L, 'rebounding': 1L, 'player': 3L, 'double': 1L, 'straight': 1L, 'record': 1L, 'weren': 1L, 'era': 1L, 'learn': 1L, 'taking': 2L, 'streak': 1L, 'heart': 1L, 'zzz_northern_arizona': 1L, 'tournament': 2L, 'turned': 1L, 'elevating': 1L, 'hungry': 1L, 'high': 1L, 'talking': 1L, 'nonconference': 1L, 'home': 1L, 'need': 2L, 'seen': 1L, 'shooting': 1L, 'goal': 2L, 'percent': 2L, 'field': 1L, 'zzz_big_sky_conference': 1L, 'difficult': 1L, 'scored': 5L, 'play': 6L, 'caliber': 1L, 'committing': 1L, 'reach': 1L, 'nationally': 2L, 'ball': 1L, 'zzz_northridge': 6L, 'freshman': 1L, 'zzz_christmas': 1L, 'zzz_matador': 3L, 'remain': 1L, 'face': 1L, 'portion': 1L, 'zzz_cal_state_northridge': 1L, 'bunches': 1L, 'responded': 1L, 'turnover': 2L}, {'executive': 1L, 'numbering': 1L, 'assigned': 1L, 'paper': 4L, 'corner': 1L, 'issues': 2L, 'bearing': 1L, 'passage': 1L, 'finally': 1L, 'program': 1L, 'glanced': 1L, 'holiday': 1L, 'decades': 1L, 'propped': 1L, 'skipped': 1L, 'founding': 1L, 'assistant': 1L, 'bound': 1L, 'early': 1L, 'historic': 1L, 'preparing': 1L, 'desk': 2L, 'front': 3L, 'minute': 1L, 'produced': 1L, 'appeal': 1L, 'persisted': 1L, 'scanning': 1L, 'mental': 1L, 'sequence': 1L, 'unpublished': 1L, 'alive': 1L, 'celebrating': 1L, 'computer': 1L, 'curious': 1L, 'message': 1L, 'centuries': 1L, 'zzz_union_square': 1L, 'wondered': 1L, 'clock': 1L, 'numeral': 1L, 'learned': 1L, 'reading': 1L, 'issue': 8L, 'correct': 1L, 'arrival': 1L, 'earlier': 1L, 'recently': 1L, 'zzz_roman': 1L, 'disputes': 1L, 'article': 1L, 'change': 1L, 'extension': 1L, 'newsboy': 1L, 'turn': 1L, 'advertising': 1L, 'published': 2L, 'book': 1L, 'upper': 1L, 'appeared': 1L, 'number': 7L, 'feet': 1L, 'zzz_seattle': 1L, 'perpetuating': 1L, 'labor': 1L, 'necessarily': 1L, 'publication': 1L, 'working': 1L, 'mark': 1L, 'archives': 2L, 'hawking': 1L, 'strike': 1L, 'offer': 1L, 'memo': 1L, 'gap': 1L, 'volume': 1L, 'sobering': 1L, 'zeroed': 1L, 'catch': 1L, 'believe': 1L, 'reel': 1L, 'edition': 1L, 'premature': 1L, 'remain': 1L, 'error': 3L, 'newspaper': 1L, 'treated': 1L, 'noticed': 1L, 'century': 1L, 'calculator': 1L, 'apparently': 1L, 'snowy': 1L, 'spreadsheet': 1L, 'potential': 1L, 'arithmetic': 1L, 'tried': 1L, 'steadily': 1L, 'nightly': 1L, 'date': 1L, 'climbing': 1L, 'microfilm': 1L, 'pages': 1L, 'longer': 1L, 'light': 1L, 'calculated': 1L, 'enter': 1L, 'left': 1L}, {'walking': 1L, 'outdoor': 1L, 'customary': 1L, 'heavily': 1L, 'midnight': 3L, 'actress': 1L, 'zzz_stomp': 1L, 'alien': 1L, 'zzz_new_york': 3L, 'zzz_robert_duvall': 1L, 'fear': 2L, 'find': 1L, 'earlier': 1L, 'busy': 1L, 'entrances': 1L, 'zone': 1L, 'concerned': 2L, 'fenced': 1L, 'bug': 2L, 'production': 1L, 'black': 1L, 'mail': 1L, 'pegged': 1L, 'skies': 1L, 'zzz_maryland': 1L, 'activities': 1L, 'massive': 1L, 'string': 1L, 'spectacular': 1L, 'sitting': 1L, 'zzz_america': 3L, 'stop': 1L, 'nation': 1L, 'scaling': 1L, 'mention': 1L, 'game': 1L, 'anxiety': 1L, 'descending': 1L, 'foot': 1L, 'join': 1L, 'killed': 1L, 'celebrate': 1L, 'zzz_uno': 1L, 'zzz_trisha_yearwood': 1L, 'joked': 2L, 'racing': 1L, 'brother': 1L, 'cascading': 1L, 'worried': 1L, 'leave': 1L, 'festivities': 1L, 'independence': 1L, 'night': 2L, 'security': 3L, 'mayor': 1L, 'lines': 1L, 'futuristic': 1L, 'zzz_don_mclean': 1L, 'set': 1L, 'century': 1L, 'prompted': 1L, 'crowd': 5L, 'house': 1L, 'globe': 1L, 'light': 3L, 'seat': 1L, 'past': 1L, 'pricetag': 1L, 'street': 1L, 'zzz_bobby_mcferrin': 1L, 'booth': 1L, 'needle': 1L, 'hosted': 2L, 'dignitaries': 1L, 'patch': 1L, 'event': 1L, 'zzz_jack_nicholson': 1L, 'concern': 1L, 'large': 1L, 'shown': 1L, 'visiting': 2L, 'memories': 1L, 'section': 1L, 'performer': 1L, 'chaos': 1L, 'daytime': 1L, 'children': 1L, 'waiting': 2L, 'firework': 3L, 'closed': 1L, 'capital': 1L, 'progress': 1L, 'zzz_washington_monument': 2L, 'zzz_sal': 1L, 'reveler': 1L, 'handful': 1L, 'hero': 1L, 'barrier': 1L, 'screen': 2L, 'million': 1L, 'unease': 1L, 'drew': 1L, 'water': 1L, 'host': 1L, 'competed': 1L, 'focused': 1L, 'possibility': 1L, 'nightfall': 1L, 'police': 1L, 'estimate': 1L, 'change': 1L, 'celebration': 4L, 'chapter': 1L, 'remark': 1L, 'y2k': 2L, 'grassy': 1L, 'themed': 1L, 'step': 1L, 'zzz_god': 1L, 'flawless': 1L, 'american': 1L, 'fuse': 1L, 'husband': 1L, 'neighbor': 1L, 'leading': 1L, 'greet': 1L, 'concession': 1L, 'com': 1L, 'major': 1L, 'peering': 1L, 'family': 1L, 'danger': 2L, 'feel': 2L, 'welcome': 1L, 'walk': 1L, 'brought': 1L, 'featured': 1L, 'weather': 1L, 'rising': 1L, 'heated': 1L, 'zzz_seattle': 2L, 'reached': 1L, 'thick': 1L, 'rollover': 1L, 'open': 1L, 'choked': 1L, 'size': 1L, 'sparked': 1L, 'smaller': 2L, 'rushed': 1L, 'zzz_washington': 7L, 'create': 1L, 'destination': 1L, 'thanked': 1L, 'bottled': 1L, 'sunlight': 1L, 'checkpoint': 1L, 'attack': 1L, 'enticed': 1L, 'card': 1L, 'expected': 1L, 'white': 1L, 'stage': 1L, 'cancel': 1L, 'company': 1L, 'musician': 2L, 'gas': 1L, 'throng': 1L, 'zzz_kenny_roger': 1L, 'reflecting': 1L, 'lives': 1L, 'overwhelming': 1L, 'zzz_luther_vandross': 1L, 'endit': 1L, 'case': 1L, 'zzz_diane_keaton': 1L, 'television': 1L, 'hundred': 1L, 'tank': 1L, 'room': 1L, 'hour': 2L, 'famed': 1L, 'official': 1L, 'zzz_julia': 1L, 'submitted': 1L, 'show': 2L, 'shower': 1L, 'weren': 1L, 'protected': 1L, 'friend': 3L, 'faded': 1L, 'newspaper': 1L, 'curb': 1L, 'problem': 1L, 'grass': 1L, 'called': 2L, 'distance': 1L, 'point': 1L, 'nearest': 1L, 'streamed': 1L, 'zzz_richmond': 2L, 'zzz_lincoln_memorial': 5L, 'played': 2L, 'zzz_national_mall': 7L, 'pass': 1L, 'share': 1L, 'pushed': 1L, 'single': 1L, 'embrace': 1L, 'gala': 2L, 'watched': 1L, 'helpless': 1L, 'film': 1L, 'thought': 1L, 'speaking': 1L, 'zzz_peggy': 1L, 'cheering': 1L, 'trip': 2L, 'secured': 1L, 'actor': 2L, 'zzz_clinton': 6L, 'member': 1L, 'teemed': 1L, 'potential': 1L, 'holding': 1L, 'terrorism': 3L, 'zzz_siegel': 2L, 'thousand': 1L, 'zzz_rhode_island': 1L, 'begin': 1L, 'hotel': 1L, 'normal': 1L, 'wonderful': 1L, 'zzz_will_smith': 3L, 'ball': 1L, 'suburb': 1L, 'modest': 1L, 'terrorist': 1L, 'arrived': 1L, 'pair': 1L, 'truly': 1L, 'opportunity': 1L, 'upstate': 1L, 'pool': 1L, 'tomorrow': 1L, 'searches': 1L, 'planet': 1L, 'today': 1L, 'zzz_times_square': 1L, 'wife': 1L, 'zzz_broadway': 1L, 'settled': 2L, 'clear': 1L, 'stronger': 1L, 'zzz_scott_montgomery': 2L, 'zzz_sen_john_glenn': 1L, 'traditional': 1L, 'ignited': 1L, 'zzz_capitol_hill': 1L, 'spectator': 1L, 'sun': 1L, 'dream': 1L, 'original': 1L, 'fact': 1L, 'left': 3L}, {'zzz_faa': 2L, 'affair': 1L, 'desolate': 1L, 'consider': 1L, 'producer': 1L, 'chances': 1L, 'caused': 1L, 'global': 1L, 'midnight': 4L, 'trade': 1L, 'zzz_new_york': 1L, 'follow': 1L, 'fear': 1L, 'adding': 1L, 'group': 1L, 'zzz_long_island': 1L, 'coordinates': 1L, 'operational': 1L, 'surveyed': 1L, 'millennium': 1L, 'handle': 1L, 'read': 1L, 'zzz_greenwich': 2L, 'zzz_sen_slade_gorton': 1L, 'flew': 1L, 'witching': 1L, 'traffic': 5L, 'despite': 1L, 'zzz_california': 1L, 'son': 1L, 'zzz_air_transport_association': 1L, 'zzz_worldwide': 1L, 'officer': 1L, 'flanked': 1L, 'night': 1L, 'found': 1L, 'fixed': 1L, 'boarded': 1L, 'mean': 1L, 'zzz_jane_garvey': 3L, 'observes': 1L, 'globe': 1L, 'seat': 1L, 'computer': 1L, 'result': 1L, 'home': 1L, 'happen': 1L, 'estimated': 2L, 'concern': 1L, 'expert': 1L, 'waiting': 1L, 'score': 1L, 'safety': 1L, 'correctly': 1L, 'progress': 1L, 'subsequently': 1L, 'public': 2L, 'journalist': 1L, 'rolled': 1L, 'lasted': 1L, 'commercial': 4L, 'aloft': 1L, 'incident': 1L, 'put': 1L, 'change': 1L, 'reported': 1L, 'industry': 1L, 'quiet': 1L, 'assure': 1L, 'carrier': 1L, 'expecting': 1L, 'afternoon': 1L, 'zzz_united_states': 1L, 'arrived': 1L, 'executives': 1L, 'major': 1L, 'zzz_newark': 1L, 'appeared': 2L, 'reassure': 1L, 'number': 1L, 'blink': 1L, 'glitch': 1L, 'directly': 1L, 'traveler': 1L, 'difficulty': 1L, 'jet': 2L, 'zzz_washington': 3L, 'flying': 1L, 'airliner': 1L, 'system': 3L, 'airborne': 1L, 'low': 1L, 'entered': 1L, 'recent': 1L, 'tell': 1L, 'empty': 1L, 'head': 1L, 'flight': 5L, 'grandchildren': 1L, 'thousand': 3L, 'airplanes': 1L, 'booked': 1L, 'hoped': 1L, 'failure': 1L, 'zzz_united_airlines': 3L, 'aviation': 3L, 'trying': 1L, 'effort': 2L, 'haven': 1L, 'zzz_london': 1L, 'television': 1L, 'hour': 1L, 'official': 1L, 'told': 1L, 'air': 8L, 'zzz_boeing_co': 1L, 'zzz_kennedy_international': 1L, 'crossed': 1L, 'planes': 2L, 'unusually': 1L, 'problem': 1L, 'minutes': 1L, 'taking': 1L, 'control': 3L, 'passenger': 4L, 'half': 1L, 'ordinarily': 1L, 'canceled': 3L, 'jetliner': 1L, 'zzz_federal_aviation_administration': 1L, 'vulnerable': 1L, 'information': 1L, 'compared': 1L, 'relay': 1L, 'sensitive': 1L, 'zzz_laguardia': 1L, 'percent': 1L, 'mid': 1L, 'zzz_american_airlines': 2L, 'potential': 1L, 'zzz_long_beach': 1L, 'largest': 2L, 'test': 1L, 'terrorism': 1L, 'zzz_dallas': 1L, 'airline': 2L, 'zzz_europe': 1L, 'printer': 1L, 'zzz_alaska': 1L, 'effect': 1L, 'connected': 1L, 'peak': 1L, 'date': 2L, 'zzz_eurocontrol': 1L, 'winter': 1L, 'billion': 1L, 'demand': 1L, 'center': 1L, 'zzz_los_angeles_international_airport': 1L, 'clear': 1L, 'spent': 1L, 'greet': 1L, 'ocean': 1L, 'chief': 1L, 'stayed': 1L, 'organization': 1L, 'zzz_calif': 1L, 'typical': 1L}, {'affair': 1L, 'producer': 2L, 'show': 3L, 'executive': 2L, 'contemporary': 1L, 'zzz_george_foster_peabody': 1L, 'produced': 3L, 'manager': 1L, 'zzz_new_york': 1L, 'guides': 1L, 'group': 1L, 'earned': 1L, 'writer': 1L, 'zzz_oakland': 1L, 'production': 2L, 'zzz_stanford_university': 1L, 'local': 1L, 'scheduled': 1L, 'zzz_marion': 1L, 'suffering': 1L, 'zzz_stephen': 1L, 'zzz_gregory': 1L, 'half': 2L, 'part': 1L, 'recipient': 1L, 'zzz_well': 1L, 'prime': 1L, 'school': 1L, 'zzz_steve_allen': 1L, 'zzz_regis_philbin': 1L, 'series': 2L, 'examples': 1L, 'special': 2L, 'established': 1L, 'pioneer': 1L, 'worked': 1L, 'public': 1L, 'program': 5L, 'zzz_brussel': 1L, 'degree': 1L, 'zzz_san_francisco_museum': 1L, 'zzz_boris_karloff': 1L, 'graduated': 1L, 'zzz_kenwood': 1L, 'earliest': 1L, 'created': 1L, 'disabilities': 1L, 'zzz_dupont': 1L, 'programming': 2L, 'zzz_merv_griffin': 1L, 'nonprofit': 1L, 'zzz_discovery': 1L, 'major': 1L, 'communication': 1L, 'son': 1L, 'learning': 1L, 'zzz_pasadena': 1L, 'zzz_washington': 1L, 'create': 1L, 'system': 1L, 'station': 1L, 'master': 1L, 'zzz_emmy': 1L, 'zzz_westinghouse': 1L, 'featuring': 1L, 'medium': 1L, 'zzz_los_angeles': 1L, 'grandchildren': 1L, 'zzz_mike_wallace': 1L, 'company': 1L, 'award': 2L, 'delivery': 1L, 'dramatic': 1L, 'survived': 1L, 'zzz_craft': 1L, 'zzz_maine': 1L, 'women': 1L, 'television': 3L, 'pavilion': 1L, 'hour': 2L, 'vice': 1L, 'study': 1L, 'interactive': 1L, 'zzz_parkinson': 1L, 'zzz_bruce': 1L, 'zzz_belgium': 1L, 'disease': 1L, 'helped': 1L, 'zzz_fair': 1L, 'hourlong': 1L, 'zzz_baltimore': 1L, 'educational': 1L, 'develop': 1L, 'variety': 1L, 'retiring': 1L, 'responsible': 2L, 'oriented': 1L, 'broadcasting': 2L, 'zzz_benny_goodman': 1L, 'fare': 1L, 'living': 1L, 'hired': 1L, 'president': 1L, 'died': 1L, 'broadcast': 1L, 'theater': 1L, 'wife': 1L, 'zzz_american': 2L, 'zzz_mostel': 1L, 'daily': 1L, 'zzz_washington_post': 1L, 'zzz_calif': 2L}, {'atmosphere': 1L, 'mexican': 2L, 'heavily': 1L, 'welcomed': 1L, 'percent': 1L, 'tequila': 1L, 'zzz_millennium': 4L, 'installed': 1L, 'bring': 2L, 'human': 1L, 'stores': 2L, 'fear': 2L, 'find': 1L, 'crashing': 1L, 'impact': 1L, 'attack': 1L, 'tourism': 2L, 'show': 1L, 'troubles': 1L, 'young': 1L, 'program': 1L, 'fervor': 1L, 'zzz_organization': 1L, 'zzz_mexico': 6L, 'bye': 1L, 'parades': 1L, 'wearing': 1L, 'violating': 1L, 'watching': 1L, 'fiesta': 1L, 'indigenous': 1L, 'famous': 1L, 'historic': 1L, 'glitches': 1L, 'bringing': 1L, 'minute': 1L, 'areas': 1L, 'drop': 1L, 'joined': 1L, 'banking': 1L, 'troop': 1L, 'night': 1L, 'small': 1L, 'luck': 2L, 'prevent': 1L, 'right': 1L, 'neighborhood': 1L, 'concert': 2L, 'street': 2L, 'video': 1L, 'zzz_spain': 1L, 'measure': 1L, 'special': 1L, 'concern': 2L, 'blouse': 1L, 'opted': 1L, 'muted': 1L, 'colonial': 2L, 'celebrated': 1L, 'firecracker': 1L, 'looking': 1L, 'prevailed': 1L, 'firework': 2L, 'millennium': 1L, 'capital': 2L, 'international': 1L, 'filled': 2L, 'toast': 1L, 'business': 2L, 'festive': 1L, 'stopping': 1L, 'rebel': 3L, 'grapes': 1L, 'address': 1L, 'sing': 1L, 'strong': 1L, 'celebration': 2L, 'boy': 1L, 'underwear': 2L, 'ate': 1L, 'country': 1L, 'larger': 1L, 'display': 1L, 'soldier': 1L, 'airport': 1L, 'place': 1L, 'massive': 1L, 'threat': 1L, 'zzz_united_states': 1L, 'military': 1L, 'guerillas': 1L, 'cancellation': 1L, 'comes': 1L, 'highway': 1L, 'zzz_mexico_city': 2L, 'rang': 1L, 'eaten': 1L, 'family': 1L, 'bell': 1L, 'endit': 1L, 'coming': 1L, 'due': 1L, 'square': 1L, 'owner': 1L, 'traveler': 1L, 'armed': 2L, 'market': 1L, 'red': 3L, 'standing': 1L, 'boulevard': 1L, 'families': 1L, 'zzz_ernesto_zedillo': 1L, 'negative': 1L, 'blamed': 1L, 'checkpoint': 1L, 'live': 1L, 'today': 1L, 'flight': 1L, 'innocent': 1L, 'zzz_guerrero': 1L, 'thousand': 1L, 'villages': 3L, 'singer': 1L, 'glass': 1L, 'hemisphere': 1L, 'y2k': 6L, 'hear': 1L, 'known': 1L, 'believe': 1L, 'bug': 1L, 'center': 1L, 'main': 2L, 'cancelled': 1L, 'official': 2L, 'computer': 3L, 'era': 1L, 'error': 1L, 'newspaper': 1L, 'called': 2L, 'history': 1L, 'claim': 1L, 'turned': 1L, 'struggles': 1L, 'seen': 1L, 'mountain': 1L, 'taped': 1L, 'government': 3L, 'tossing': 1L, 'mid': 1L, 'member': 1L, 'planned': 1L, 'reveler': 1L, 'answer': 1L, 'compliant': 1L, 'toasted': 1L, 'stock': 1L, 'traditional': 2L, 'zzz_zocalo': 1L, 'stop': 1L, 'southern': 1L, 'director': 1L, 'fruit': 1L, 'mariachis': 1L, 'supper': 1L, 'song': 1L, 'nation': 1L, 'tradition': 2L, 'stronghold': 1L, 'zzz_cathedral': 2L, 'guerilla': 1L, 'especially': 1L, 'zzz_oaxaca': 1L, 'vehicles': 1L, 'thought': 1L, 'rural': 1L, 'counted': 1L, 'talk': 1L}, {'global': 1L, 'dollar': 1L, 'zzz_millennium': 9L, 'avalanche': 1L, 'religious': 1L, 'children': 1L, 'zzz_berlin': 1L, 'seized': 1L, 'witching': 1L, 'confetti': 1L, 'trouble': 2L, 'vast': 4L, 'auld': 1L, 'joined': 1L, 'culminating': 1L, 'subway': 1L, 'biological': 1L, 'syne': 1L, 'cost': 1L, 'video': 1L, 'blue': 1L, 'power': 2L, 'clock': 1L, 'suspect': 1L, 'revolved': 1L, 'public': 1L, 'terrorism': 1L, 'christian': 1L, 'festive': 1L, 'gathered': 1L, 'drew': 1L, 'reported': 1L, 'poverty': 1L, 'address': 1L, 'consideration': 1L, 'strong': 1L, 'celebration': 2L, 'boy': 1L, 'dusty': 1L, 'zzz_god': 1L, 'airport': 1L, 'descended': 1L, 'skyrocket': 1L, 'zzz_united_states': 1L, 'zzz_pope_john_paul_ii': 1L, 'glittering': 1L, 'torchlight': 1L, 'golden': 1L, 'stray': 1L, 'claim': 1L, 'suddenly': 1L, 'brought': 1L, 'gateway': 1L, 'eye': 1L, 'spoke': 1L, 'angry': 1L, 'music': 2L, 'sweated': 1L, 'today': 1L, 'wary': 1L, 'hurt': 1L, 'train': 1L, 'baby': 1L, 'casualties': 1L, 'town': 2L, 'zzz_paris': 2L, 'hour': 2L, 'science': 1L, 'shrieked': 1L, 'zzz_africa': 2L, 'gunfire': 1L, 'history': 1L, 'heart': 1L, 'rode': 1L, 'high': 1L, 'zzz_christianity': 1L, 'flight': 1L, 'chemical': 1L, 'intelligent': 1L, 'tension': 1L, 'staying': 1L, 'crashes': 1L, 'halted': 1L, 'plane': 1L, 'president': 1L, 'law': 1L, 'zzz_times_square': 4L, 'zzz_nairobi': 1L, 'extravaganzas': 1L, 'light': 1L, 'deserted': 1L, 'zzz_sun': 1L, 'deafening': 1L, 'enter': 1L, 'inhabitant': 1L, 'dream': 1L, 'pulsed': 1L, 'consent': 1L, 'midnight': 2L, 'rang': 1L, 'held': 1L, 'zzz_martian': 1L, 'police': 1L, 'personal': 1L, 'fix': 1L, 'holiday': 1L, 'parades': 1L, 'non': 1L, 'greater': 1L, 'safe': 1L, 'nation': 1L, 'killed': 1L, 'bank': 1L, 'resignation': 1L, 'meal': 1L, 'garish': 1L, 'series': 1L, 'plant': 1L, 'related': 1L, 'zzz_judea': 1L, 'dawn': 1L, 'event': 2L, 'mattered': 1L, 'health': 1L, 'flowed': 1L, 'announced': 1L, 'turning': 1L, 'million': 6L, 'reason': 1L, 'put': 2L, 'care': 1L, 'enormous': 1L, 'zzz_st_peter': 1L, 'zzz_jerusalem': 1L, 'turn': 1L, 'american': 1L, 'threat': 1L, 'major': 1L, 'embraced': 1L, 'traveler': 1L, 'concert': 1L, 'system': 1L, 'elevator': 1L, 'euphoria': 1L, 'attack': 1L, 'inconvenient': 1L, 'hundred': 1L, 'friend': 1L, 'enforcement': 1L, 'exploded': 1L, 'part': 1L, 'surged': 1L, 'unexpectedly': 1L, 'kind': 1L, 'peril': 1L, 'zzz_vatican': 1L, 'midtown': 1L, 'future': 1L, 'ran': 2L, 'zzz_new_delhi': 1L, 'spectrum': 1L, 'voices': 1L, 'saw': 1L, 'marathon': 1L, 'prosperity': 1L, 'zzz_clinton': 1L, 'potential': 1L, 'worldwide': 1L, 'urge': 1L, 'zzz_asia': 2L, 'zzz_moscow': 2L, 'extending': 1L, 'soared': 1L, 'face': 1L, 'looked': 1L, 'fact': 1L, 'show': 1L, 'businesses': 1L, 'zzz_new_york': 2L, 'threshold': 2L, 'earth': 1L, 'fear': 1L, 'giant': 1L, 'collapses': 1L, 'filipinos': 1L, 'loved': 1L, 'publicity': 1L, 'watching': 1L, 'television': 1L, 'conjunction': 1L, 'celebrate': 7L, 'countries': 1L, 'zzz_pacific': 1L, 'calling': 1L, 'banking': 1L, 'common': 1L, 'obscure': 1L, 'insane': 1L, 'set': 1L, 'disaster': 1L, 'burst': 1L, 'zones': 1L, 'computer': 4L, 'explosion': 1L, 'calendar': 1L, 'packed': 1L, 'concern': 2L, 'televised': 1L, 'expert': 1L, 'politic': 1L, 'nuclear': 1L, 'firework': 3L, 'closed': 1L, 'recently': 1L, 'screen': 1L, 'agencies': 1L, 'recent': 1L, 'invisible': 1L, 'cities': 3L, 'zzz_shanghai': 1L, 'faces': 1L, 'bell': 1L, 'appeared': 1L, 'dances': 1L, 'shutdown': 1L, 'zzz_tokyo': 1L, 'tuning': 1L, 'zzz_washington': 1L, 'thanked': 1L, 'airlines': 1L, 'zzz_philippines': 1L, 'senses': 1L, 'raced': 1L, 'thousand': 2L, 'blessing': 1L, 'zzz_roman_catholic_church': 1L, 'lives': 1L, 'westward': 1L, 'case': 1L, 'politician': 1L, 'mount': 1L, 'supernovas': 1L, 'zzz_champagne': 1L, 'pound': 1L, 'zzz_manhattan': 1L, 'century': 2L, 'canceled': 1L, 'zzz_kenya': 1L, 'audiences': 1L, 'ready': 1L, 'hyperbole': 1L, 'terrorist': 1L, 'develop': 1L, 'intercity': 1L, 'harmony': 1L, 'party': 1L, 'zzz_rome': 1L, 'injured': 1L, 'ball': 1L, 'moment': 1L, 'arrived': 1L, 'delicate': 1L, 'changing': 2L, 'opportunity': 1L, 'cycle': 1L, 'zzz_rio_de_janeiro': 1L, 'zzz_kenyan': 1L, 'zzz_americas': 1L, 'lavish': 1L, 'plagued': 1L, 'exercising': 1L, 'celebrator': 2L, 'humanity': 1L, 'gave': 1L, 'zzz_cape_town': 1L, 'zzz_boris_yeltsin': 1L, 'government': 3L, 'elapsed': 1L, 'game': 1L, 'birth': 1L, 'lost': 1L, 'greeting': 1L, 'specific': 1L, 'festivities': 1L, 'night': 1L, 'zzz_christ': 1L, 'crowd': 5L, 'zzz_europe': 2L, 'home': 1L, 'reveler': 1L, 'zzz_australia': 1L, 'mood': 1L, 'lead': 1L, 'firecracker': 1L, 'religion': 1L, 'leader': 1L, 'business': 1L, 'slum': 1L, 'y2k': 1L, 'preoccupied': 1L, 'freedom': 1L, 'zzz_mexico_city': 1L, 'primal': 1L, 'overkill': 1L, 'parties': 1L, 'technically': 1L, 'zzz_beijing': 1L, 'seeker': 1L, 'zzz_russia': 2L, 'biggest': 1L, 'war': 2L, 'happy': 1L, 'zzz_buenos_aires': 1L, 'lang': 1L, 'reiterated': 1L, 'line': 1L, 'ear': 1L, 'true': 1L, 'eat': 1L, 'zzz_london': 1L, 'fulfilling': 1L, 'planet': 1L, 'crystal': 1L, 'tones': 1L, 'problem': 3L, 'stages': 1L, 'guesses': 1L, 'prayer': 1L, 'watched': 1L, 'diplomat': 1L, 'peace': 1L, 'field': 1L, 'setting': 1L, 'irresistible': 1L, 'poor': 1L, 'briefly': 1L, 'energetic': 1L, 'millennial': 1L, 'diet': 1L, 'meaning': 1L, 'authorities': 1L, 'died': 1L, 'billion': 3L, 'age': 1L, 'failures': 1L}, {'limited': 1L, 'chinese': 1L, 'welcomed': 1L, 'midnight': 3L, 'zzz_millennium': 8L, 'ending': 1L, 'beset': 1L, 'dispel': 1L, 'atomic': 1L, 'human': 2L, 'threshold': 1L, 'earth': 2L, 'zzz_dragon': 1L, 'commentaries': 1L, 'religious': 3L, 'zzz_south_africa': 2L, 'atoll': 1L, 'millisecond': 1L, 'communism': 1L, 'outer': 1L, 'exclusion': 1L, 'nines': 1L, 'doomsayer': 1L, 'pledged': 1L, 'shrines': 1L, 'lake': 1L, 'reuniting': 1L, 'countdown': 1L, 'conch': 1L, 'zzz_kiribati': 2L, 'microscopic': 1L, 'absorbed': 1L, 'adequate': 1L, 'literacy': 1L, 'earthquakes': 1L, 'climax': 1L, 'gave': 1L, 'lighted': 2L, 'division': 1L, 'mournful': 1L, 'zzz_jesus': 1L, 'rescue': 1L, 'fire': 1L, 'government': 1L, 'survival': 1L, 'watch': 1L, 'reigning': 1L, 'ship': 1L, 'early': 1L, 'mention': 1L, 'cultural': 1L, 'anxiety': 1L, 'nearly': 1L, 'birth': 1L, 'zzz_voltaire': 1L, 'suggest': 1L, 'trade': 1L, 'humanity': 1L, 'association': 1L, 'areas': 1L, 'articles': 1L, 'ancient': 2L, 'hour': 2L, 'lavish': 1L, 'signal': 1L, 'zzz_pacific': 2L, 'calling': 1L, 'zzz_muslim': 1L, 'miles': 1L, 'common': 1L, 'arbitrary': 1L, 'popular': 1L, 'clean': 1L, 'tower': 1L, 'coming': 1L, 'noted': 1L, 'vision': 1L, 'zzz_bible': 1L, 'apocalyptic': 1L, 'zzz_gregorian': 1L, 'revolution': 1L, 'art': 1L, 'concert': 1L, 'crowd': 1L, 'spring': 1L, 'parties': 2L, 'idea': 2L, 'dead': 1L, 'past': 1L, 'coercive': 1L, 'fires': 1L, 'economic': 1L, 'zzz_jiang_zemin': 1L, 'duration': 1L, 'recently': 1L, 'calendar': 5L, 'strife': 1L, 'event': 1L, 'special': 1L, 'enemies': 1L, 'closer': 1L, 'colonialism': 1L, 'freedom': 1L, 'curse': 1L, 'literature': 1L, 'trapping': 1L, 'zzz_asia': 1L, 'clock': 1L, 'nuclear': 1L, 'zzz_marshall_island': 1L, 'chaos': 1L, 'grinding': 1L, 'cast': 1L, 'case': 1L, 'shell': 1L, 'version': 1L, 'health': 1L, 'flame': 1L, 'afflicted': 1L, 'leader': 1L, 'anew': 1L, 'measuring': 1L, 'islander': 1L, 'million': 1L, 'misstep': 1L, 'rolled': 1L, 'continuing': 1L, 'rock': 1L, 'commercial': 1L, 'costumes': 1L, 'understanding': 1L, 'notably': 1L, 'strides': 1L, 'job': 1L, 'uneven': 1L, 'zzz_b_c': 2L, 'conflagration': 1L, 'resurrection': 1L, 'flowering': 1L, 'wanted': 1L, 'prelude': 1L, 'swept': 1L, 'zzz_gobi_desert': 1L, 'water': 1L, 'zone': 1L, 'ventures': 1L, 'purist': 2L, 'certainty': 1L, 'zzz_samoa': 1L, 'terrible': 1L, 'agree': 2L, 'prompted': 1L, 'foretold': 1L, 'genocide': 1L, 'zzz_buddhist': 1L, 'threat': 2L, 'social': 1L, 'poverty': 1L, 'receding': 1L, 'flood': 1L, 'major': 1L, 'volcanic': 1L, 'eternal': 1L, 'bell': 1L, 'dubbed': 1L, 'communication': 1L, 'zzz_christ': 2L, 'ethnic': 1L, 'flocked': 1L, 'reflected': 1L, 'insist': 1L, 'zzz_great_wall': 1L, 'weather': 1L, 'jewish': 1L, 'coral': 1L, 'speculated': 1L, 'equinox': 1L, 'technicalities': 1L, 'temples': 1L, 'zzz_tokyo': 1L, 'cities': 1L, 'eye': 1L, 'uninhabited': 1L, 'start': 2L, 'billion': 1L, 'revelation': 1L, 'political': 2L, 'terrorism': 1L, 'mark': 1L, 'scenarios': 1L, 'christian': 2L, 'doubt': 1L, 'zeros': 1L, 'unrecognizable': 1L, 'basic': 1L, 'ballistic': 1L, 'celebration': 2L, 'overlooked': 1L, 'zzz_middle_east': 1L, 'racial': 1L, 'zzz_china': 1L, 'historian': 1L, 'swarmed': 1L, 'turned': 1L, 'offered': 1L, 'universe': 1L, 'prediction': 1L, 'hear': 1L, 'western': 4L, 'tolled': 1L, 'zzz_julian': 1L, 'hold': 1L, 'true': 1L, 'zzz_fiji': 1L, 'countless': 1L, 'undreamed': 1L, 'television': 1L, 'troubled': 1L, 'rejuvenation': 1L, 'science': 2L, 'frontier': 1L, 'ranging': 1L, 'annihilation': 1L, 'brilliant': 1L, 'zzz_japan': 1L, 'printing': 1L, 'replaced': 1L, 'era': 1L, 'chant': 1L, 'growing': 1L, 'problem': 2L, 'region': 1L, 'care': 1L, 'history': 2L, 'real': 1L, 'promises': 1L, 'ritual': 1L, 'zzz_ireland': 1L, 'century': 1L, 'celebrant': 1L, 'universal': 1L, 'preserving': 1L, 'mind': 1L, 'purposes': 1L, 'war': 2L, 'westward': 1L, 'tide': 1L, 'overtones': 1L, 'exploration': 1L, 'right': 1L, 'dropped': 1L, 'zzz_ufo': 1L, 'zzz_balkan': 1L, 'education': 1L, 'saw': 1L, 'display': 1L, 'zzz_chapter': 1L, 'zzz_chechnya': 1L, 'lie': 1L, 'marking': 2L, 'wild': 1L, 'ticked': 1L, 'dancing': 1L, 'technology': 2L, 'travel': 1L, 'peace': 2L, 'exception': 1L, 'speak': 1L, 'snakes': 1L, 'sound': 1L, 'need': 1L, 'book': 2L, 'speech': 1L, 'firework': 2L, 'widespread': 1L, 'swelled': 1L, 'beach': 1L, 'thousand': 6L, 'studied': 1L, 'zzz_europe': 1L, 'nonevent': 1L, 'minority': 1L, 'ecstatic': 1L, 'prosperity': 1L, 'shelter': 1L, 'zzz_australia': 1L, 'zzz_biblical': 1L, 'eruption': 1L, 'evil': 1L, 'fascism': 1L, 'wrong': 1L, 'fell': 1L, 'necessity': 1L, 'opinion': 1L, 'date': 1L, 'judgment': 1L, 'tradition': 1L, 'achievement': 2L, 'scholar': 1L, 'ago': 1L, 'especially': 1L, 'torchbearer': 1L, 'largely': 1L, 'space': 1L, 'astounding': 1L, 'greet': 1L, 'traditional': 1L, 'academic': 1L, 'zzz_taiwan': 1L, 'zzz_americas': 1L, 'deadly': 1L, 'inaccuracies': 1L, 'inhabitant': 1L, 'democratic': 1L, 'starting': 1L, 'conceit': 1L, 'talk': 1L, 'sinner': 1L}, {'global': 2L, 'zzz_longitude': 1L, 'pulsing': 1L, 'mile': 1L, 'zzz_canada': 1L, 'follow': 1L, 'amplified': 1L, 'religious': 1L, 'birthplace': 1L, 'sparkling': 2L, 'program': 1L, 'zzz_wall': 1L, 'countless': 3L, 'paying': 1L, 'seized': 1L, 'zzz_south_street': 3L, 'zzz_paris': 1L, 'confetti': 1L, 'zzz_brooklyn': 2L, 'screaming': 1L, 'vast': 1L, 'zzz_flushing_meadows_corona_park': 1L, 'puppeteer': 1L, 'sang': 1L, 'small': 1L, 'force': 1L, 'japanese': 1L, 'sabbath': 1L, 'horn': 1L, 'past': 1L, 'street': 2L, 'video': 2L, 'zzz_millennium_dome': 1L, 'estimated': 1L, 'floodlight': 1L, 'blue': 1L, 'stood': 2L, 'darkness': 1L, 'clock': 1L, 'sun': 2L, 'indian': 1L, 'zoomed': 1L, 'churches': 1L, 'public': 2L, 'filled': 1L, 'underfoot': 1L, 'christian': 1L, 'leg': 1L, 'gathered': 1L, 'muslim': 2L, 'zzz_sri_lankan': 1L, 'celebration': 5L, 'speeches': 1L, 'ahead': 1L, 'chant': 1L, 'experience': 2L, 'zzz_tel_aviv': 1L, 'base': 1L, 'descended': 1L, 'zzz_united_states': 1L, 'glittering': 1L, 'torchlight': 1L, 'gawking': 1L, 'ago': 1L, 'blizzard': 1L, 'claim': 1L, 'private': 1L, 'glitch': 1L, 'singing': 1L, 'crisis': 1L, 'zzz_queen_elizabeth': 1L, 'reflected': 1L, 'working': 1L, 'zzz_gulf': 1L, 'music': 3L, 'sunburst': 1L, 'holy': 3L, 'musician': 1L, 'secular': 1L, 'billed': 1L, 'zzz_russian': 1L, 'town': 2L, 'pageant': 2L, 'hour': 5L, 'reducing': 1L, 'car': 1L, 'aqsa': 1L, 'history': 1L, 'control': 1L, 'fundamentalist': 1L, 'slid': 1L, 'performer': 1L, 'joyous': 1L, 'climax': 1L, 'fortunes': 1L, 'streamer': 1L, 'sense': 1L, 'huge': 2L, 'dazzle': 1L, 'curving': 1L, 'zzz_giza': 2L, 'forest': 1L, 'sacred': 1L, 'bleary': 1L, 'beach': 2L, 'zzz_mosque': 1L, 'encampment': 1L, 'tension': 1L, 'zzz_egypt': 2L, 'sparkled': 1L, 'bonfires': 1L, 'zzz_prospect_park': 1L, 'lighting': 1L, 'adventure': 1L, 'waves': 1L, 'eighth': 1L, 'supersonic': 1L, 'chasing': 1L, 'remember': 1L, 'light': 2L, 'bathed': 1L, 'zzz_washington_mall': 1L, 'deafening': 1L, 'lined': 1L, 'counted': 2L, 'exotic': 2L, 'zzz_queen': 1L, 'midnight': 6L, 'embraces': 1L, 'held': 2L, 'cruise': 1L, 'cold': 1L, 'wickedness': 1L, 'dreamer': 1L, 'perfect': 2L, 'bridges': 1L, 'pray': 1L, 'continued': 1L, 'torn': 1L, 'zzz_westminster': 1L, 'zzz_old_city': 1L, 'tiara': 1L, 'massed': 1L, 'argentine': 1L, 'evening': 1L, 'zzz_jesus': 1L, 'food': 1L, 'material': 1L, 'din': 1L, 'nation': 2L, 'band': 1L, 'armadillos': 1L, 'half': 2L, 'twilight': 1L, 'zzz_new_orlean': 1L, 'opera': 1L, 'holiest': 1L, 'choir': 1L, 'zzz_seventh_avenue': 3L, 'zzz_san_francisco': 1L, 'heavy': 1L, 'generation': 1L, 'house': 1L, 'parties': 2L, 'zzz_central_park': 2L, 'fussing': 1L, 'celebrating': 1L, 'persian': 1L, 'dignitaries': 2L, 'worried': 1L, 'event': 2L, 'easternmost': 1L, 'flower': 1L, 'container': 1L, 'network': 1L, 'entertainment': 2L, 'electronic': 2L, 'washed': 1L, 'chaos': 1L, 'seaport': 1L, 'looking': 1L, 'millennium': 7L, 'print': 1L, 'announced': 1L, 'shut': 1L, 'barrier': 1L, 'million': 4L, 'zzz_temple_mount': 3L, 'wined': 1L, 'attending': 1L, 'ancient': 1L, 'coastline': 1L, 'acre': 1L, 'ate': 1L, 'carnival': 1L, 'islamic': 1L, 'writhing': 1L, 'phrases': 1L, 'transition': 1L, 'zzz_jerusalem': 1L, 'zzz_eiffel_tower': 1L, 'rainforest': 1L, 'feed': 1L, 'major': 2L, 'striking': 1L, 'number': 1L, 'tableaux': 1L, 'zzz_laser': 1L, 'puppet': 1L, 'shoal': 1L, 'hear': 1L, 'reached': 1L, 'ring': 1L, 'zzz_jules_verne': 1L, 'umbrellas': 1L, 'zzz_peter_jenning': 1L, 'boulevard': 1L, 'jew': 2L, 'zzz_lilliputian': 1L, 'families': 1L, 'caught': 1L, 'euphoric': 1L, 'tradition': 1L, 'doomsday': 1L, 'paint': 1L, 'white': 2L, 'hundred': 2L, 'zzz_auld_lang_syne': 1L, 'final': 1L, 'friend': 1L, 'eyes': 1L, 'exploded': 1L, 'released': 1L, 'western': 1L, 'zzz_times_square': 6L, 'distance': 1L, 'television': 2L, 'showed': 1L, 'zzz_newfoundland': 1L, 'scenes': 1L, 'midtown': 2L, 'firework': 5L, 'zzz_great_pyramid': 1L, 'flashes': 1L, 'gigantic': 1L, 'ran': 1L, 'zzz_new_delhi': 1L, 'voices': 1L, 'zzz_st_petersburg': 1L, 'spectacle': 1L, 'border': 1L, 'awed': 1L, 'luxury': 1L, 'converged': 1L, 'blinding': 1L, 'zzz_kenyan': 1L, 'province': 1L, 'lively': 1L, 'paid': 1L, 'reverberated': 1L, 'barrage': 1L, 'plenty': 1L, 'camped': 1L, 'future': 1L, 'especially': 1L, 'zzz_broadway': 1L, 'clear': 1L, 'proud': 1L, 'face': 2L, 'looked': 1L, 'occasion': 2L, 'scream': 1L, 'doves': 1L, 'shrieking': 1L, 'planetary': 1L, 'zzz_judaism': 1L, 'bomb': 1L, 'show': 3L, 'padded': 1L, 'zzz_new_york': 2L, 'zzz_tallinn': 1L, 'imagined': 1L, 'ground': 2L, 'jostling': 1L, 'giant': 1L, 'zzz_estonia': 1L, 'facades': 1L, 'colorful': 1L, 'watching': 1L, 'hostage': 1L, 'banned': 1L, 'watch': 2L, 'congratulatory': 1L, 'revered': 1L, 'international': 1L, 'celebrate': 1L, 'countries': 2L, 'colossus': 1L, 'perfume': 1L, 'ban': 1L, 'precaution': 1L, 'ballerinas': 1L, 'set': 1L, 'concert': 2L, 'swept': 1L, 'burst': 1L, 'seas': 1L, 'zones': 1L, 'sea': 1L, 'packed': 2L, 'closer': 1L, 'record': 1L, 'muted': 1L, 'pictures': 1L, 'festive': 1L, 'sites': 1L, 'determined': 1L, 'skyscraper': 1L, 'closed': 1L, 'tent': 1L, 'missing': 1L, 'screen': 1L, 'attention': 1L, 'cities': 3L, 'optional': 1L, 'goddess': 1L, 'drum': 1L, 'restaurant': 1L, 'zzz_arc_de_triomphe': 1L, 'taking': 2L, 'monk': 1L, 'display': 1L, 'figures': 1L, 'planned': 1L, 'faces': 1L, 'zzz_stockholm': 1L, 'safely': 1L, 'duty': 1L, 'madness': 1L, 'danced': 1L, 'bell': 1L, 'dances': 1L, 'dancer': 3L, 'jammed': 1L, 'zzz_atlantic': 1L, 'create': 1L, 'zzz_ramadan': 2L, 'mark': 2L, 'drank': 1L, 'zzz_yoruba': 1L, 'entered': 1L, 'zzz_miami': 1L, 'flight': 1L, 'zzz_copacabana': 1L, 'thousand': 3L, 'centerpiece': 1L, 'zzz_manger_square': 1L, 'zzz_israel': 2L, 'spirit': 1L, 'volunteer': 1L, 'case': 1L, 'cacophonous': 1L, 'laser': 2L, 'zzz_prime_minister_tony_blair': 1L, 'zzz_los_angeles': 1L, 'air': 2L, 'squeezed': 1L, 'layer': 1L, 'pyramid': 1L, 'century': 1L, 'celebrant': 1L, 'site': 1L, 'watched': 3L, 'zzz_india': 1L, 'watchful': 1L, 'emergency': 1L, 'open': 2L, 'doctor': 1L, 'balloon': 1L, 'party': 1L, 'ball': 3L, 'flooded': 1L, 'hand': 1L, 'suburb': 1L, 'moment': 1L, 'arose': 1L, 'butterfly': 1L, 'clogged': 1L, 'fasting': 1L, 'center': 1L, 'largely': 1L, 'failing': 1L, 'zzz_rio_de_janeiro': 2L, 'edge': 1L, 'illusory': 1L, 'zzz_americas': 1L, 'descending': 1L, 'zzz_iceland': 1L, 'gridlock': 1L, 'rocket': 1L, 'camel': 1L, 'neon': 1L, 'distracting': 1L, 'pyrotechnic': 1L, 'human': 1L, 'echoed': 1L, 'zzz_iran': 1L, 'happiness': 1L, 'ushered': 1L, 'samba': 1L, 'observant': 1L, 'sky': 1L, 'deliberately': 1L, 'zzz_east_river': 1L, 'struck': 1L, 'crossroad': 1L, 'spectacular': 1L, 'zzz_greenwich': 1L, 'early': 1L, 'traffic': 1L, 'marked': 2L, 'intersection': 1L, 'occurring': 1L, 'shoulder': 2L, 'zzz_olives': 1L, 'gift': 1L, 'towed': 1L, 'audience': 1L, 'officer': 3L, 'night': 3L, 'worldwide': 1L, 'right': 1L, 'honored': 1L, 'crowd': 7L, 'images': 1L, 'home': 1L, 'saucer': 1L, 'booming': 1L, 'scale': 1L, 'mood': 1L, 'festivities': 3L, 'religion': 1L, 'pen': 1L, 'cultist': 1L, 'medieval': 1L, 'flashbulb': 1L, 'reflection': 1L, 'zzz_champs_elysees': 1L, 'zzz_south': 1L, 'abroad': 1L, 'stage': 2L, 'comparison': 1L, 'subdued': 1L, 'preoccupied': 1L, 'roar': 1L, 'zzz_christian': 2L, 'dinner': 1L, 'dined': 1L, 'neighbor': 1L, 'block': 1L, 'zzz_giuliani': 1L, 'quietly': 1L, 'garbage': 1L, 'zzz_airlines': 1L, 'capped': 1L, 'zzz_mediterranean': 1L, 'stall': 1L, 'stench': 1L, 'area': 1L, 'flying': 1L, 'desert': 1L, 'zzz_russia': 1L, 'scintillating': 1L, 'brazilian': 1L, 'biggest': 2L, 'war': 2L, 'building': 2L, 'illuminated': 1L, 'peaceful': 1L, 'wealthier': 1L, 'zzz_security': 1L, 'zzz_thames': 1L, 'zzz_london': 1L, 'zzz_reykjavik': 1L, 'places': 2L, 'crystal': 1L, 'pumped': 1L, 'zzz_st_paul': 1L, 'zzz_boston': 1L, 'parades': 1L, 'toss': 1L, 'flocked': 1L, 'partygoer': 1L, 'imagination': 1L, 'exist': 1L, 'fashioned': 1L, 'prayer': 2L, 'lanes': 1L, 'ship': 1L, 'eerie': 1L, 'dressed': 1L, 'stake': 1L, 'yogi': 1L, 'actor': 1L, 'tight': 1L, 'desecrate': 1L, 'witness': 1L, 'digital': 1L, 'zzz_chicago': 1L, 'millennial': 1L, 'inescapable': 1L, 'zzz_overcoming': 1L, 'fell': 1L, 'authorities': 1L, 'zzz_britain': 2L, 'alcohol': 1L, 'billion': 2L, 'vehicles': 2L, 'beamed': 1L, 'summit': 1L, 'mass': 1L}, {'shop': 1L, 'help': 1L, 'bring': 1L, 'sleep': 2L, 'cold': 1L, 'marching': 1L, 'group': 2L, 'young': 1L, 'zzz_pomona': 1L, 'board': 1L, 'evening': 1L, 'stop': 1L, 'band': 1L, 'zzz_calif': 2L, 'traveled': 1L, 'continued': 1L, 'celebrate': 1L, 'distraction': 1L, 'clan': 1L, 'bag': 1L, 'night': 9L, 'dip': 1L, 'side': 1L, 'enjoy': 1L, 'set': 2L, 'partying': 1L, 'parade': 8L, 'crowd': 1L, 'begin': 1L, 'seat': 1L, 'past': 2L, 'decided': 1L, 'uncomfortable': 1L, 'home': 2L, 'special': 1L, 'friend': 3L, 'camping': 1L, 'sun': 1L, 'millennium': 4L, 'unit': 2L, 'tent': 1L, 'unbearable': 1L, 'hasn': 1L, 'zzz_northern_california': 1L, 'missing': 1L, 'million': 1L, 'memorable': 1L, 'wanted': 1L, 'rowdiness': 1L, 'refuge': 2L, 'dry': 1L, 'shift': 1L, 'route': 1L, 'chilly': 1L, 'doorway': 2L, 'games': 1L, 'family': 4L, 'float': 2L, 'prefer': 1L, 'zzz_placerville': 1L, 'brought': 1L, 'weather': 1L, 'zzz_glendale': 1L, 'church': 1L, 'zzz_pasadena': 1L, 'zzz_temecula': 1L, 'crammed': 1L, 'zzz_westwood': 1L, 'low': 1L, 'expected': 1L, 'today': 2L, 'thousand': 1L, 'took': 2L, 'meteorologist': 1L, 'zzz_san_jose': 1L, 'effort': 1L, 'spirit': 1L, 'hour': 1L, 'youth': 1L, 'street': 2L, 'decorate': 1L, 'fun': 1L, 'history': 1L, 'gather': 1L, 'tournament': 1L, 'mind': 1L, 'sleeping': 1L, 'high': 2L, 'rained': 1L, 'chat': 1L, 'dozen': 1L, 'curbside': 1L, 'zzz_rose_parade': 1L, 'mid': 1L, 'stayed': 1L, 'member': 1L, 'roses': 1L, 'party': 2L, 'tarp': 1L, 'play': 1L, 'equestrian': 1L, 'closest': 1L, 'temperatures': 2L, 'watch': 2L, 'camper': 1L, 'rain': 5L, 'camped': 2L, 'kid': 1L, 'dignitary': 1L, 'camp': 1L, 'spent': 2L, 'awning': 1L, 'pulled': 1L, 'spend': 2L}, {'gown': 1L, 'altogether': 1L, 'zzz_s_c': 1L, 'mild': 1L, 'tend': 1L, 'children': 2L, 'anticipation': 1L, 'nervous': 1L, 'explain': 1L, 'danger': 1L, 'young': 1L, 'celebrator': 1L, 'languages': 1L, 'suspicion': 1L, 'glad': 1L, 'venturing': 1L, 'fences': 1L, 'friendly': 2L, 'evening': 3L, 'return': 1L, 'risk': 1L, 'checking': 1L, 'couple': 1L, 'capital': 1L, 'soon': 1L, 'early': 2L, 'potentates': 1L, 'funneled': 1L, 'merchandise': 1L, 'formal': 1L, 'heightened': 1L, 'countries': 1L, 'protest': 1L, 'morning': 1L, 'festivities': 1L, 'stopped': 1L, 'officer': 1L, 'night': 3L, 'found': 1L, 'security': 1L, 'disorder': 1L, 'husband': 1L, 'repulsed': 1L, 'crowd': 4L, 'relative': 1L, 'rate': 1L, 'zzz_u_s_park_police': 1L, 'proper': 1L, 'close': 3L, 'event': 3L, 'alcohol': 1L, 'pictures': 1L, 'section': 1L, 'injuries': 1L, 'laid': 1L, 'millennium': 2L, 'attire': 1L, 'certificates': 1L, 'drawn': 1L, 'tent': 1L, 'zzz_patrick': 1L, 'business': 1L, 'inauguration': 1L, 'pushing': 1L, 'drew': 1L, 'pleasant': 1L, 'reported': 1L, 'greeted': 1L, 'celebration': 4L, 'throng': 1L, 'y2k': 1L, 'getting': 1L, 'country': 1L, 'leaving': 1L, 'dinner': 1L, 'zzz_kuwait': 1L, 'afternoon': 1L, 'zzz_united_states': 1L, 'family': 1L, 'point': 2L, 'feel': 1L, 'shoving': 1L, 'delighted': 1L, 'brought': 1L, 'entrepreneur': 1L, 'zzz_wilson': 3L, 'changing': 1L, 'lovely': 1L, 'miss': 1L, 'speak': 1L, 'zzz_clarence': 1L, 'guest': 1L, 'zzz_washington': 1L, 'cent': 1L, 'noticed': 1L, 'live': 1L, 'focal': 1L, 'memory': 1L, 'hundred': 1L, 'midday': 1L, 'zzz_washingtonian': 1L, 'lived': 1L, 'cosmopolitan': 1L, 'befitting': 1L, 'thousand': 1L, 'pleased': 1L, 'took': 1L, 'gap': 1L, 'downtown': 1L, 'zzz_memorial': 1L, 'survived': 1L, 'remote': 1L, 'line': 1L, 'trying': 1L, 'ceremonies': 1L, 'motorcades': 1L, 'wore': 1L, 'places': 1L, 'pedestrian': 1L, 'hat': 1L, 'parades': 1L, 'labeled': 1L, 'firework': 2L, 'called': 1L, 'control': 1L, 'gathering': 1L, 'injury': 1L, 'sense': 1L, 'turned': 1L, 'pushed': 1L, 'tuxedos': 1L, 'seen': 1L, 'saw': 1L, 'huge': 1L, 'winter': 1L, 'efficient': 1L, 'fencing': 1L, 'travel': 1L, 'airport': 1L, 'zzz_clinton': 2L, 'zzz_america': 1L, 'party': 1L, 'offered': 1L, 'planned': 1L, 'temporary': 1L, 'oppressive': 1L, 'zzz_greenville': 1L, 'hawked': 1L, 'measures': 1L, 'stay': 1L, 'zzz_metro': 1L, 'arrived': 1L, 'stormed': 1L, 'president': 1L, 'nation': 1L, 'pool': 1L, 'shirt': 1L, 'ave': 1L, 'threaded': 1L, 'shortly': 1L, 'remember': 1L, 'room': 1L, 'home': 2L, 'clear': 1L, 'nonchalantly': 1L, 'jewel': 1L, 'order': 1L, 'thought': 1L, 'reflecting': 1L, 'blase': 1L, 'restored': 1L, 'thronged': 1L, 'sunset': 1L, 'talk': 1L}, {'anyway': 1L, 'human': 1L, 'adding': 1L, 'fit': 1L, 'peering': 1L, 'vicinity': 1L, 'window': 1L, 'zillion': 1L, 'include': 1L, 'watching': 2L, 'cushion': 1L, 'half': 2L, 'bit': 1L, 'areas': 1L, 'drop': 1L, 'pavement': 2L, 'filled': 1L, 'zzz_seventh_avenue': 3L, 'side': 4L, 'square': 3L, 'partying': 1L, 'crowd': 1L, 'estimates': 1L, 'zones': 1L, 'street': 1L, 'video': 1L, 'capacity': 1L, 'space': 1L, 'pen': 1L, 'skyscraper': 1L, 'intersect': 1L, 'math': 1L, 'run': 1L, 'screen': 1L, 'million': 3L, 'estimate': 1L, 'celebration': 1L, 'viewing': 1L, 'estimation': 1L, 'block': 4L, 'allowing': 1L, 'feet': 7L, 'simply': 1L, 'impossible': 1L, 'total': 2L, 'theoretically': 1L, 'size': 1L, 'standing': 1L, 'area': 2L, 'approximately': 1L, 'north': 1L, 'inches': 1L, 'inexact': 1L, 'zzz_times_square': 4L, 'case': 1L, 'wide': 1L, 'room': 1L, 'science': 1L, 'official': 1L, 'zzz_broadway': 5L, 'squeezed': 1L, 'trapezoid': 1L, 'enthusiastic': 1L, 'calculation': 1L, 'mind': 1L, 'high': 1L, 'zzz_seventh': 2L, 'mid': 1L, 'figuring': 1L, 'inch': 1L, 'manhattan': 1L, 'ball': 1L, 'practitioner': 1L, 'took': 1L, 'running': 1L, 'plan': 1L, 'zzz_designated': 1L, 'longer': 1L, 'scenario': 1L, 'crowded': 1L, 'assume': 1L, 'average': 1L, 'zzz_central_park_south': 1L, 'person': 1L, 'spectator': 1L, 'typical': 2L}, {'impression': 1L, 'dance': 2L, 'playful': 1L, 'episodes': 1L, 'aspect': 1L, 'polish': 2L, 'ballet': 1L, 'group': 1L, 'hint': 1L, 'young': 1L, 'passive': 1L, 'heroism': 1L, 'score': 1L, 'nobler': 1L, 'women': 1L, 'lighted': 1L, 'eventually': 1L, 'advantage': 1L, 'gobbling': 1L, 'jazz': 1L, 'zzz_cage': 1L, 'dark': 1L, 'happiest': 1L, 'heightened': 1L, 'level': 1L, 'subtler': 1L, 'performing': 1L, 'slide': 1L, 'dancer': 3L, 'small': 1L, 'set': 1L, 'hard': 1L, 'hair': 1L, 'elegant': 1L, 'zzz_ailey': 2L, 'desperate': 1L, 'odd': 1L, 'arm': 1L, 'zzz_city_center': 1L, 'driving': 1L, 'space': 1L, 'crooked': 1L, 'projected': 1L, 'zzz_revelation': 1L, 'limbed': 1L, 'leap': 1L, 'version': 1L, 'longtime': 1L, 'resolutely': 1L, 'body': 1L, 'faceless': 1L, 'associate': 1L, 'burn': 1L, 'diagonal': 1L, 'killing': 1L, 'crossing': 1L, 'strong': 1L, 'slug': 1L, 'stage': 2L, 'pausing': 1L, 'piece': 1L, 'colored': 1L, 'technical': 1L, 'stride': 1L, 'layered': 1L, 'greatly': 1L, 'comes': 1L, 'staggered': 1L, 'danced': 1L, 'right': 1L, 'zzz_judith_jamison': 1L, 'zzz_ulysses': 1L, 'clarity': 1L, 'similarly': 1L, 'program': 1L, 'music': 1L, 'white': 1L, 'females': 1L, 'season': 1L, 'completed': 3L, 'postmodernist': 1L, 'chill': 1L, 'choreographed': 1L, 'embedded': 1L, 'staged': 1L, 'air': 1L, 'cast': 2L, 'lover': 2L, 'duet': 4L, 'male': 1L, 'bittersweet': 1L, 'individuality': 1L, 'performer': 1L, 'enhanced': 1L, 'flow': 1L, 'zzz_jerome_robbin': 1L, 'pieces': 2L, 'dash': 1L, 'clinging': 1L, 'seen': 1L, 'winter': 1L, 'dancing': 1L, 'zzz_alvin_ailey_american_dance_theater': 1L, 'tossing': 1L, 'jewel': 1L, 'zzz_ascension': 1L, 'high': 1L, 'afternoon': 1L, 'emotionally': 1L, 'unobtrusive': 1L, 'evil': 1L, 'director': 2L, 'lighting': 1L, 'troupe': 1L, 'dove': 1L, 'glow': 1L, 'propulsive': 1L, 'variety': 1L, 'lines': 1L, 'looked': 1L, 'artistic': 2L, 'resolution': 1L, 'charged': 1L}, {'zzz_deng_xiaoping': 1L, 'atmosphere': 1L, 'chinese': 2L, 'show': 2L, 'money': 1L, 'midnight': 3L, 'zzz_richard_li': 1L, 'rest': 1L, 'detail': 1L, 'cheerful': 1L, 'held': 1L, 'radio': 1L, 'human': 1L, 'cold': 1L, 'prince': 1L, 'perfect': 1L, 'passage': 1L, 'countdown': 1L, 'window': 1L, 'transformed': 1L, 'rumor': 1L, 'crack': 1L, 'millennium': 2L, 'holiday': 1L, 'local': 2L, 'reverted': 1L, 'lighted': 1L, 'evening': 4L, 'billionaire': 1L, 'largest': 1L, 'crazed': 1L, 'nearly': 1L, 'legendary': 1L, 'gambling': 1L, 'foot': 2L, 'ticket': 1L, 'celebrate': 2L, 'prize': 1L, 'stability': 1L, 'dampen': 1L, 'zzz_jackie_chan': 2L, 'bring': 1L, 'marquee': 1L, 'vied': 1L, 'gun': 1L, 'clown': 1L, 'festivities': 1L, 'race': 2L, 'zzz_whitney_houston': 2L, 'popular': 1L, 'served': 1L, 'guy': 1L, 'set': 1L, 'concert': 1L, 'celebrating': 1L, 'decided': 1L, 'hosted': 1L, 'dawn': 1L, 'event': 1L, 'zzz_australia': 1L, 'splashy': 1L, 'clock': 1L, 'frantically': 1L, 'won': 1L, 'fountain': 1L, 'skyscraper': 1L, 'numeral': 1L, 'racing': 2L, 'leader': 1L, 'led': 1L, 'performed': 1L, 'dizzying': 1L, 'extraordinary': 1L, 'host': 1L, 'cheered': 1L, 'swirled': 1L, 'colony': 1L, 'roughing': 1L, 'throw': 1L, 'bash': 1L, 'paraphrasing': 1L, 'enormous': 1L, 'flames': 1L, 'brilliant': 1L, 'island': 1L, 'british': 1L, 'gambler': 1L, 'dinner': 1L, 'mugging': 1L, 'rule': 1L, 'smoke': 1L, 'caught': 1L, 'dancing': 2L, 'gazed': 1L, 'slipped': 1L, 'simple': 1L, 'win': 1L, 'infield': 1L, 'pop': 1L, 'son': 1L, 'chronic': 1L, 'featured': 1L, 'zzz_bronx': 1L, 'capped': 1L, 'drifted': 1L, 'total': 1L, 'singing': 1L, 'considering': 1L, 'horse': 4L, 'jockey': 1L, 'guest': 1L, 'strictly': 1L, 'mark': 1L, 'ting': 1L, 'zzz_tung': 1L, 'interest': 1L, 'wildly': 1L, 'wrapped': 1L, 'hundred': 1L, 'final': 1L, 'speaking': 1L, 'happy': 2L, 'main': 1L, 'head': 1L, 'erupted': 1L, 'offhand': 1L, 'club': 1L, 'streaked': 1L, 'hotel': 1L, 'remark': 1L, 'biggest': 1L, 'races': 3L, 'eyed': 1L, 'line': 1L, 'mounted': 1L, 'billed': 1L, 'spirit': 1L, 'starter': 1L, 'zzz_chow_yun_fat': 1L, 'ahead': 1L, 'flashed': 1L, 'worth': 1L, 'wisp': 1L, 'firework': 2L, 'light': 1L, 'zzz_michelle_yeoh': 1L, 'arrive': 1L, 'building': 1L, 'display': 1L, 'bet': 1L, 'history': 1L, 'performer': 1L, 'bad': 1L, 'resident': 1L, 'purse': 1L, 'ceiling': 1L, 'threw': 1L, 'stroke': 1L, 'promised': 1L, 'ready': 1L, 'organizer': 2L, 'film': 2L, 'illuminated': 1L, 'zzz_dragon': 2L, 'court': 1L, 'floor': 1L, 'handover': 1L, 'length': 1L, 'hot': 1L, 'book': 1L, 'exuberance': 1L, 'season': 1L, 'party': 3L, 'status': 2L, 'sure': 1L, 'edged': 1L, 'skyline': 1L, 'dusk': 1L, 'track': 2L, 'welcome': 1L, 'zzz_li_ka_shing': 1L, 'rumble': 1L, 'audience': 1L, 'oddsmaker': 1L, 'symbolized': 1L, 'billion': 1L, 'younger': 1L, 'remember': 1L, 'zzz_hong_kong': 6L, 'performances': 1L, 'interval': 1L, 'lost': 1L, 'worked': 1L, 'dragon': 1L, 'zzz_new_zealand': 1L, 'dramatic': 1L, 'ultimate': 1L, 'businessman': 1L, 'zzz_valley': 1L, 'fireball': 1L}, {'lack': 1L, 'dollar': 1L, 'hitch': 1L, 'manager': 2L, 'disk': 1L, 'extra': 1L, 'certainly': 1L, 'concerned': 1L, 'zzz_ibm': 1L, 'program': 3L, 'sputter': 1L, 'digit': 1L, 'zzz_calif': 1L, 'malfunctioned': 1L, 'affect': 1L, 'shock': 1L, 'companies': 1L, 'cascading': 1L, 'try': 1L, 'circuit': 1L, 'small': 1L, 'dip': 1L, 'prediction': 1L, 'crop': 1L, 'past': 1L, 'likely': 2L, 'air': 2L, 'investment': 2L, 'ticketing': 1L, 'clock': 2L, 'specialist': 1L, 'water': 1L, 'reported': 1L, 'zzz_citigroup': 1L, 'address': 1L, 'aftermath': 1L, 'interpret': 1L, 'publisher': 1L, 'ahead': 3L, 'withdrawing': 1L, 'credit': 1L, 'amount': 1L, 'survey': 1L, 'zzz_united_states': 2L, 'zzz_spaniard': 2L, 'buses': 1L, 'strolling': 1L, 'scaled': 1L, 'fixable': 1L, 'rollover': 3L, 'market': 2L, 'minor': 1L, 'relax': 1L, 'company': 2L, 'apparent': 1L, 'testified': 1L, 'occurred': 1L, 'zzz_palo_alto': 1L, 'sharply': 2L, 'known': 2L, 'cases': 1L, 'factories': 1L, 'effort': 1L, 'recession': 3L, 'industry': 1L, 'control': 2L, 'caution': 1L, 'zzz_edward_yardeni': 4L, 'sense': 2L, 'monitoring': 1L, 'nyt': 1L, 'machine': 1L, 'widespread': 1L, 'panic': 2L, 'economy': 1L, 'plant': 2L, 'crowding': 1L, 'countryside': 1L, 'earlier': 1L, 'zzz_social_security': 1L, 'zzz_thai': 1L, 'date': 1L, 'readiness': 1L, 'light': 1L, 'lines': 1L, 'zzz_new_zealand': 1L, 'chief': 1L, 'advocates': 1L, 'green': 1L, 'office': 1L, 'mainly': 1L, 'zzz_council': 1L, 'destructively': 1L, 'fix': 4L, 'farmer': 1L, 'main': 1L, 'decades': 1L, 'zzz_astrologer': 1L, 'eventually': 1L, 'return': 1L, 'greater': 1L, 'food': 2L, 'half': 2L, 'bank': 2L, 'pregnant': 1L, 'warned': 1L, 'found': 1L, 'lasting': 1L, 'rethinking': 1L, 'hard': 1L, 'related': 1L, 'finish': 1L, 'trading': 1L, 'programmer': 1L, 'avoided': 1L, 'event': 1L, 'special': 1L, 'tried': 1L, 'sentiment': 1L, 'space': 1L, 'fathom': 1L, 'research': 2L, 'plaguing': 1L, 'clearing': 1L, 'issue': 2L, 'shut': 1L, 'million': 1L, 'dire': 2L, 'put': 1L, 'afterward': 1L, 'card': 1L, 'programming': 1L, 'terribly': 1L, 'expecting': 1L, 'massive': 1L, 'threat': 1L, 'major': 2L, 'feel': 1L, 'omitted': 1L, 'coming': 1L, 'zzz_gartner_group': 1L, 'district': 1L, 'leading': 1L, 'system': 5L, 'passed': 1L, 'hundred': 1L, 'headache': 1L, 'zzz_president': 1L, 'explanation': 1L, 'shallow': 1L, 'japanese': 2L, 'task': 1L, 'zzz_deutsche_bank_securities': 1L, 'kind': 1L, 'zzz_conversion': 1L, 'preparation': 2L, 'zzz_japan': 2L, 'feeling': 1L, 'prospect': 1L, 'illness': 1L, 'roughly': 1L, 'zzz_federal_aviation_administration': 1L, 'apparently': 2L, 'estimated': 1L, 'isolated': 1L, 'hangover': 1L, 'recommended': 1L, 'chairman': 1L, 'finding': 1L, 'encouraged': 1L, 'villager': 1L, 'worldwide': 2L, 'begin': 1L, 'electric': 1L, 'normal': 2L, 'significant': 1L, 'revising': 1L, 'device': 1L, 'nuclear': 1L, 'zzz_eastern': 1L, 'reactor': 1L, 'zzz_gary_beach': 1L, 'zzz_u_s': 2L, 'planning': 1L, 'businesses': 1L, 'scarce': 1L, 'fear': 2L, 'economist': 2L, 'find': 1L, 'zzz_wall_street': 1L, 'crashing': 1L, 'impact': 1L, 'slow': 1L, 'rash': 1L, 'cautioned': 1L, 'meant': 1L, 'handle': 1L, 'listened': 1L, 'watching': 2L, 'midnight': 3L, 'watch': 1L, 'expectation': 1L, 'nearly': 1L, 'fallout': 1L, 'despite': 1L, 'timing': 1L, 'worried': 1L, 'bad': 1L, 'common': 1L, 'precaution': 1L, 'catastrophic': 1L, 'observed': 1L, 'computer': 15L, 'result': 1L, 'fail': 1L, 'feared': 1L, 'expert': 1L, 'jumped': 1L, 'downturn': 1L, 'infrastructure': 1L, 'recently': 1L, 'rolled': 1L, 'supermarket': 1L, 'reaction': 2L, 'dates': 2L, 'quiet': 1L, 'duty': 1L, 'jammed': 2L, 'zzz_tokyo': 1L, 'quickly': 1L, 'basic': 1L, 'firm': 1L, 'sending': 1L, 'thousand': 1L, 'citizen': 1L, 'airplanes': 1L, 'evidence': 1L, 'case': 1L, 'exception': 1L, 'look': 1L, 'cash': 1L, 'governor': 1L, 'earthquakes': 1L, 'mistake': 1L, 'zzz_thailand': 2L, 'costly': 2L, 'ready': 2L, 'technology': 3L, 'severity': 1L, 'administration': 1L, 'painstaking': 1L, 'zzz_rome': 1L, 'breakdown': 1L, 'oil': 1L, 'zzz_john_koskinen': 2L, 'hand': 1L, 'director': 2L, 'flurry': 1L, 'arrived': 1L, 'student': 1L, 'recent': 1L, 'dark': 1L, 'tracking': 1L, 'center': 1L, 'largely': 2L, 'spent': 2L, 'unconcerned': 1L, 'thought': 2L, 'severe': 2L, 'relief': 1L, 'corporation': 1L, 'grid': 1L, 'corporate': 1L, 'summer': 1L, 'routinely': 1L, 'heavily': 1L, 'percent': 2L, 'danger': 1L, 'teller': 1L, 'technological': 1L, 'humanity': 1L, 'real': 2L, 'government': 5L, 'stockpiling': 1L, 'zzz_greenwich': 1L, 'early': 2L, 'cultural': 1L, 'traffic': 2L, 'desk': 2L, 'bit': 1L, 'glitches': 4L, 'securities': 1L, 'offices': 1L, 'night': 2L, 'searching': 1L, 'economic': 3L, 'zzz_spain': 1L, 'intact': 1L, 'deputy': 1L, 'operation': 3L, 'zzz_ginza': 1L, 'rewarding': 1L, 'minimal': 1L, 'run': 1L, 'power': 2L, 'zzz_congress': 1L, 'roundup': 1L, 'faith': 2L, 'y2k': 4L, 'exaggerated': 1L, 'withdrew': 1L, 'zzz_auckland': 1L, 'stand': 1L, 'mean': 2L, 'software': 1L, 'consulting': 1L, 'malfunction': 2L, 'spreading': 1L, 'zzz_wisconsin': 1L, 'spending': 1L, 'start': 2L, 'ago': 1L, 'head': 1L, 'complacency': 1L, 'relaxed': 1L, 'regard': 1L, 'catalyst': 1L, 'survived': 1L, 'automated': 1L, 'analyst': 4L, 'buying': 1L, 'reset': 1L, 'zzz_madrid': 1L, 'stores': 1L, 'accustomed': 1L, 'planes': 1L, 'problem': 22L, 'panicky': 1L, 'proved': 1L, 'general': 1L, 'globally': 1L, 'warning': 3L, 'check': 1L, 'fixing': 1L, 'storage': 1L, 'insurance': 1L, 'field': 1L, 'zzz_hewlett_packard': 2L, 'digital': 1L, 'test': 2L, 'zzz_australia': 1L, 'felt': 1L, 'chance': 2L, 'invested': 2L, 'rural': 1L, 'tackle': 1L, 'billion': 3L, 'land': 1L, 'status': 1L, 'failures': 3L}, {'decidedly': 1L, 'walking': 1L, 'bomb': 1L, 'help': 1L, 'hordes': 1L, 'zzz_susan': 7L, 'midnight': 1L, 'cropland': 1L, 'rest': 1L, 'hillside': 2L, 'shape': 1L, 'fact': 1L, 'higher': 1L, 'committee': 1L, 'festooned': 1L, 'chicken': 1L, 'plucked': 1L, 'ground': 1L, 'generator': 1L, 'electricity': 1L, 'perhap': 1L, 'point': 1L, 'disheartened': 1L, 'zzz_san_francisco': 1L, 'acres': 1L, 'countdown': 1L, 'compost': 1L, 'spread': 1L, 'differently': 1L, 'easy': 1L, 'farmer': 2L, 'health': 1L, 'grow': 1L, 'local': 2L, 'hope': 1L, 'plump': 1L, 'real': 3L, 'zzz_armed': 1L, 'garden': 1L, 'government': 1L, 'food': 3L, 'big': 2L, 'couple': 2L, 'trees': 2L, 'soon': 1L, 'property': 1L, 'bean': 1L, 'grew': 1L, 'grid': 1L, 'breast': 1L, 'despite': 1L, 'expertly': 1L, 'glitches': 1L, 'realize': 1L, 'celebrate': 1L, 'term': 1L, 'homegrown': 1L, 'sighed': 1L, 'showed': 1L, 'lost': 1L, 'legumes': 1L, 'generally': 2L, 'yield': 1L, 'patch': 1L, 'large': 1L, 'entertaining': 1L, 'steep': 1L, 'dangerous': 1L, 'found': 1L, 'security': 1L, 'spent': 1L, 'refineries': 1L, 'husband': 1L, 'view': 1L, 'intervening': 1L, 'prevent': 1L, 'pork': 1L, 'dealing': 1L, 'chunk': 1L, 'idea': 1L, 'crop': 1L, 'observed': 1L, 'manning': 1L, 'fruit': 1L, 'defense': 1L, 'warmer': 1L, 'perspective': 1L, 'notwithstanding': 1L, 'home': 1L, 'connection': 1L, 'creep': 1L, 'concern': 1L, 'wire': 1L, 'funding': 1L, 'power': 2L, 'harvested': 1L, 'nuclear': 1L, 'diesel': 1L, 'chaos': 1L, 'supplied': 1L, 'wholly': 1L, 'farm': 5L, 'seriously': 1L, 'won': 1L, 'millennium': 1L, 'drawn': 1L, 'offline': 1L, 'champagne': 1L, 'reactor': 1L, 'bird': 1L, 'drink': 1L, 'bought': 1L, 'core': 1L, 'shut': 1L, 'infrastructure': 1L, 'eating': 1L, 'approached': 2L, 'assured': 1L, 'carcass': 1L, 'sheep': 1L, 'digging': 1L, 'dory': 1L, 'plow': 1L, 'water': 1L, 'raspberries': 2L, 'concentrate': 1L, 'focused': 1L, 'rampart': 1L, 'served': 1L, 'aftermath': 1L, 'raspberry': 1L, 'assiduously': 1L, 'dormant': 1L, 'scary': 1L, 'y2k': 8L, 'country': 1L, 'taking': 1L, 'cultivator': 1L, 'insect': 1L, 'experience': 1L, 'piped': 1L, 'dinner': 1L, 'hooted': 1L, 'grain': 2L, 'planned': 1L, 'smoke': 1L, 'decent': 1L, 'bunker': 1L, 'narrow': 1L, 'backup': 1L, 'road': 1L, 'plan': 1L, 'owl': 1L, 'photovoltaic': 1L, 'industrial': 2L, 'secure': 1L, 'supply': 1L, 'foreboding': 1L, 'float': 1L, 'prefer': 1L, 'concertina': 1L, 'community': 2L, 'station': 1L, 'variety': 1L, 'zzz_susan_smith': 1L, 'scalded': 1L, 'simply': 1L, 'names': 2L, 'delicious': 1L, 'loaded': 1L, 'labor': 1L, 'market': 1L, 'engineer': 1L, 'turkey': 3L, 'unusual': 1L, 'necessarily': 1L, 'arsenal': 1L, 'raise': 1L, 'aren': 2L, 'west': 1L, 'vegetables': 1L, 'zzz_marin': 1L, 'hunky': 1L, 'system': 2L, 'quickly': 1L, 'devise': 1L, 'live': 1L, 'wood': 1L, 'draft': 1L, 'interest': 1L, 'spring': 1L, 'survive': 1L, 'hundred': 1L, 'valley': 1L, 'meeting': 1L, 'final': 1L, 'friend': 2L, 'festivity': 1L, 'building': 1L, 'repast': 1L, 'shortages': 1L, 'fire': 1L, 'subsistence': 1L, 'completed': 1L, 'acre': 1L, 'deter': 1L, 'corporate': 1L, 'glass': 1L, 'heat': 1L, 'part': 1L, 'game': 1L, 'zzz_thing': 3L, 'solar': 1L, 'upbeat': 1L, 'cases': 1L, 'convinced': 1L, 'collapses': 1L, 'high': 1L, 'kind': 2L, 'zzz_marin_county': 1L, 'locked': 2L, 'urbanites': 1L, 'protection': 1L, 'isolation': 1L, 'preparation': 3L, 'ugly': 1L, 'protected': 1L, 'thin': 1L, 'drill': 1L, 'grasses': 1L, 'strategies': 1L, 'providing': 1L, 'minor': 1L, 'tractor': 2L, 'result': 1L, 'control': 1L, 'horses': 1L, 'marketplace': 1L, 'give': 1L, 'taste': 1L, 'soil': 1L, 'larder': 1L, 'store': 1L, 'zzz_smith': 7L, 'twist': 1L, 'need': 2L, 'seed': 1L, 'unlikely': 1L, 'beautifully': 1L, 'ready': 1L, 'watched': 1L, 'horse': 1L, 'assurances': 1L, 'survivalist': 1L, 'grown': 2L, 'manner': 1L, 'winter': 1L, 'turn': 1L, 'provide': 1L, 'pit': 1L, 'comfort': 1L, 'radiation': 1L, 'feature': 1L, 'camouflage': 1L, 'coolant': 1L, 'field': 1L, 'potentially': 1L, 'holding': 1L, 'sufficiency': 1L, 'gate': 1L, 'compliant': 1L, 'sufficient': 1L, 'tomatoes': 1L, 'afternoon': 1L, 'poor': 1L, 'fairly': 1L, 'plant': 2L, 'oil': 1L, 'intend': 1L, 'tried': 2L, 'nil': 1L, 'temperatures': 1L, 'shelter': 1L, 'price': 1L, 'felt': 1L, 'sure': 1L, 'running': 2L, 'produce': 2L, 'garlic': 1L, 'preferred': 1L, 'eaten': 1L, 'coming': 1L, 'decapitating': 1L, 'model': 1L, 'slaughtering': 1L, 'ago': 1L, 'organically': 1L, 'land': 1L, 'remote': 1L, 'haven': 1L, 'plowed': 1L, 'shotgun': 1L, 'depending': 1L, 'finished': 1L, 'perimeter': 1L, 'spend': 1L, 'green': 2L, 'talk': 1L, 'rural': 1L, 'publicize': 1L, 'usual': 1L, 'pulled': 1L, 'convened': 1L, 'wind': 2L, 'basically': 1L}, {'decidedly': 1L, 'walking': 1L, 'bomb': 1L, 'help': 1L, 'hordes': 1L, 'zzz_susan': 7L, 'midnight': 1L, 'cropland': 1L, 'rest': 1L, 'hillside': 2L, 'shape': 1L, 'fact': 1L, 'higher': 1L, 'committee': 1L, 'festooned': 1L, 'chicken': 1L, 'plucked': 1L, 'ground': 1L, 'generator': 1L, 'electricity': 1L, 'perhap': 1L, 'point': 1L, 'disheartened': 1L, 'zzz_san_francisco': 1L, 'acres': 1L, 'countdown': 1L, 'compost': 1L, 'spread': 1L, 'differently': 1L, 'easy': 1L, 'farmer': 2L, 'health': 1L, 'grow': 1L, 'local': 2L, 'hope': 1L, 'plump': 1L, 'real': 3L, 'zzz_armed': 1L, 'garden': 1L, 'government': 1L, 'food': 3L, 'big': 2L, 'couple': 2L, 'trees': 2L, 'soon': 1L, 'property': 1L, 'bean': 1L, 'grew': 1L, 'grid': 1L, 'breast': 1L, 'despite': 1L, 'expertly': 1L, 'glitches': 1L, 'realize': 1L, 'celebrate': 1L, 'term': 1L, 'homegrown': 1L, 'sighed': 1L, 'showed': 1L, 'lost': 1L, 'legumes': 1L, 'generally': 2L, 'yield': 1L, 'patch': 1L, 'large': 1L, 'entertaining': 1L, 'steep': 1L, 'dangerous': 1L, 'found': 1L, 'security': 1L, 'spent': 1L, 'refineries': 1L, 'husband': 1L, 'view': 1L, 'intervening': 1L, 'prevent': 1L, 'pork': 1L, 'dealing': 1L, 'chunk': 1L, 'idea': 1L, 'crop': 1L, 'observed': 1L, 'manning': 1L, 'fruit': 1L, 'defense': 1L, 'warmer': 1L, 'perspective': 1L, 'notwithstanding': 1L, 'home': 1L, 'connection': 1L, 'creep': 1L, 'concern': 1L, 'wire': 1L, 'funding': 1L, 'power': 2L, 'harvested': 1L, 'nuclear': 1L, 'diesel': 1L, 'chaos': 1L, 'supplied': 1L, 'wholly': 1L, 'farm': 5L, 'seriously': 1L, 'won': 1L, 'millennium': 1L, 'drawn': 1L, 'offline': 1L, 'champagne': 1L, 'reactor': 1L, 'bird': 1L, 'drink': 1L, 'bought': 1L, 'core': 1L, 'shut': 1L, 'infrastructure': 1L, 'eating': 1L, 'approached': 2L, 'assured': 1L, 'carcass': 1L, 'sheep': 1L, 'digging': 1L, 'dory': 1L, 'plow': 1L, 'water': 1L, 'raspberries': 2L, 'concentrate': 1L, 'focused': 1L, 'rampart': 1L, 'served': 1L, 'aftermath': 1L, 'raspberry': 1L, 'assiduously': 1L, 'dormant': 1L, 'scary': 1L, 'y2k': 8L, 'country': 1L, 'taking': 1L, 'cultivator': 1L, 'insect': 1L, 'experience': 1L, 'piped': 1L, 'dinner': 1L, 'hooted': 1L, 'grain': 2L, 'planned': 1L, 'smoke': 1L, 'decent': 1L, 'bunker': 1L, 'narrow': 1L, 'backup': 1L, 'road': 1L, 'plan': 1L, 'owl': 1L, 'photovoltaic': 1L, 'industrial': 2L, 'secure': 1L, 'supply': 1L, 'foreboding': 1L, 'float': 1L, 'prefer': 1L, 'concertina': 1L, 'community': 2L, 'station': 1L, 'variety': 1L, 'zzz_susan_smith': 1L, 'scalded': 1L, 'simply': 1L, 'names': 2L, 'delicious': 1L, 'loaded': 1L, 'labor': 1L, 'market': 1L, 'engineer': 1L, 'turkey': 3L, 'unusual': 1L, 'necessarily': 1L, 'arsenal': 1L, 'raise': 1L, 'aren': 2L, 'west': 1L, 'vegetables': 1L, 'zzz_marin': 1L, 'hunky': 1L, 'system': 2L, 'quickly': 1L, 'devise': 1L, 'live': 1L, 'wood': 1L, 'draft': 1L, 'interest': 1L, 'spring': 1L, 'survive': 1L, 'hundred': 1L, 'valley': 1L, 'meeting': 1L, 'final': 1L, 'friend': 2L, 'festivity': 1L, 'building': 1L, 'repast': 1L, 'shortages': 1L, 'fire': 1L, 'subsistence': 1L, 'completed': 1L, 'acre': 1L, 'deter': 1L, 'corporate': 1L, 'glass': 1L, 'heat': 1L, 'part': 1L, 'game': 1L, 'zzz_thing': 3L, 'solar': 1L, 'upbeat': 1L, 'cases': 1L, 'convinced': 1L, 'collapses': 1L, 'high': 1L, 'kind': 2L, 'zzz_marin_county': 1L, 'locked': 2L, 'urbanites': 1L, 'protection': 1L, 'isolation': 1L, 'preparation': 3L, 'ugly': 1L, 'protected': 1L, 'thin': 1L, 'drill': 1L, 'grasses': 1L, 'strategies': 1L, 'providing': 1L, 'minor': 1L, 'tractor': 2L, 'result': 1L, 'control': 1L, 'horses': 1L, 'marketplace': 1L, 'give': 1L, 'taste': 1L, 'soil': 1L, 'larder': 1L, 'store': 1L, 'zzz_smith': 7L, 'twist': 1L, 'need': 2L, 'seed': 1L, 'unlikely': 1L, 'beautifully': 1L, 'ready': 1L, 'watched': 1L, 'horse': 1L, 'assurances': 1L, 'survivalist': 1L, 'grown': 2L, 'manner': 1L, 'winter': 1L, 'turn': 1L, 'provide': 1L, 'pit': 1L, 'comfort': 1L, 'radiation': 1L, 'feature': 1L, 'camouflage': 1L, 'coolant': 1L, 'field': 1L, 'potentially': 1L, 'holding': 1L, 'sufficiency': 1L, 'gate': 1L, 'compliant': 1L, 'sufficient': 1L, 'tomatoes': 1L, 'afternoon': 1L, 'poor': 1L, 'fairly': 1L, 'plant': 2L, 'oil': 1L, 'intend': 1L, 'tried': 2L, 'nil': 1L, 'temperatures': 1L, 'shelter': 1L, 'price': 1L, 'felt': 1L, 'sure': 1L, 'running': 2L, 'produce': 2L, 'garlic': 1L, 'preferred': 1L, 'eaten': 1L, 'coming': 1L, 'decapitating': 1L, 'model': 1L, 'slaughtering': 1L, 'ago': 1L, 'organically': 1L, 'land': 1L, 'remote': 1L, 'haven': 1L, 'plowed': 1L, 'shotgun': 1L, 'depending': 1L, 'finished': 1L, 'perimeter': 1L, 'spend': 1L, 'green': 2L, 'talk': 1L, 'rural': 1L, 'publicize': 1L, 'usual': 1L, 'pulled': 1L, 'convened': 1L, 'wind': 2L, 'basically': 1L}, {'outdoor': 1L, 'heavily': 1L, 'issued': 1L, 'wailing': 1L, 'zzz_israel': 2L, 'midnight': 2L, 'crackled': 1L, 'ending': 1L, 'stringent': 1L, 'hanging': 1L, 'battle': 1L, 'especially': 1L, 'religious': 2L, 'find': 1L, 'blocked': 1L, 'violinist': 1L, 'suicide': 1L, 'group': 1L, 'referring': 1L, 'observe': 1L, 'shrines': 1L, 'source': 1L, 'smallest': 1L, 'black': 1L, 'zzz_chronicle': 1L, 'covered': 1L, 'mournful': 1L, 'volunteer': 1L, 'hat': 1L, 'humanity': 1L, 'donned': 1L, 'flowed': 1L, 'scheduled': 1L, 'book': 1L, 'zzz_lion': 1L, 'hit': 1L, 'returned': 1L, 'song': 1L, 'food': 1L, 'big': 2L, 'zzz_council': 1L, 'famous': 1L, 'congregation': 2L, 'trouble': 1L, 'tourism': 1L, 'pilgrim': 3L, 'shoulder': 1L, 'zzz_olives': 4L, 'prosperous': 1L, 'mesmerizing': 1L, 'zzz_armageddon': 1L, 'wooden': 1L, 'descend': 1L, 'grandfather': 1L, 'juxtaposition': 1L, 'sang': 1L, 'coincidences': 1L, 'common': 1L, 'night': 3L, 'waving': 1L, 'zzz_church': 2L, 'quarter': 2L, 'essential': 1L, 'someday': 1L, 'set': 1L, 'significantly': 1L, 'deal': 1L, 'parties': 2L, 'procession': 1L, 'correspondent': 1L, 'extremist': 1L, 'mentioned': 1L, 'louder': 1L, 'usher': 1L, 'flashed': 1L, 'christian': 5L, 'calendar': 2L, 'bay': 1L, 'arm': 1L, 'special': 1L, 'feared': 1L, 'hymn': 1L, 'israeli': 2L, 'business': 1L, 'candlelight': 1L, 'armed': 1L, 'ear': 1L, 'sail': 1L, 'contributed': 1L, 'zzz_revelation': 1L, 'zzz_gethsemane': 1L, 'version': 1L, 'millennium': 2L, 'hill': 1L, 'certificates': 2L, 'churches': 1L, 'weekly': 1L, 'approach': 1L, 'public': 1L, 'highway': 1L, 'officer': 1L, 'apocalyptic': 2L, 'shut': 1L, 'attended': 1L, 'run': 1L, 'zzz_roman': 1L, 'power': 1L, 'associate': 1L, 'rub': 1L, 'sixth': 1L, 'gathered': 1L, 'muslim': 3L, 'threatened': 1L, 'zzz_temple_mount': 5L, 'zzz_roman_catholic': 2L, 'extraordinary': 1L, 'focused': 1L, 'choruses': 1L, 'key': 1L, 'usual': 1L, 'cult': 1L, 'police': 2L, 'hand': 1L, 'beginning': 1L, 'throw': 1L, 'celebration': 1L, 'faith': 2L, 'enormous': 1L, 'firecracker': 1L, 'zzz_lord': 1L, 'ahead': 1L, 'noontime': 1L, 'shift': 1L, 'messianic': 1L, 'kosher': 1L, 'soldier': 1L, 'fell': 1L, 'descended': 1L, 'planned': 1L, 'zzz_biblical': 1L, 'tomb': 2L, 'narrow': 1L, 'studies': 1L, 'zzz_southern_california': 1L, 'zzz_holy_city': 2L, 'deported': 1L, 'partied': 1L, 'major': 2L, 'zzz_jesus_christ': 2L, 'zzz_megiddo': 4L, 'heart': 1L, 'ground': 1L, 'political': 1L, 'tag': 1L, 'number': 1L, 'comforted': 1L, 'walk': 1L, 'zzz_frank_sinatra': 1L, 'jewish': 4L, 'stern': 1L, 'approximately': 1L, 'singing': 1L, 'boat': 1L, 'checkpoint': 1L, 'ancient': 1L, 'jew': 4L, 'zzz_islamic': 3L, 'area': 1L, 'zzz_nation': 1L, 'century': 1L, 'visit': 1L, 'due': 1L, 'zzz_ramadan': 2L, 'doomsday': 1L, 'music': 1L, 'low': 1L, 'wondering': 1L, 'bowed': 1L, 'claim': 1L, 'hundred': 2L, 'part': 1L, 'final': 1L, 'chanted': 1L, 'zzz_sabbath': 3L, 'eyes': 1L, 'graveyard': 1L, 'dumbfounded': 1L, 'started': 1L, 'atop': 1L, 'hotel': 2L, 'park': 1L, 'stone': 1L, 'kitchen': 1L, 'environmental': 1L, 'tightened': 1L, 'wake': 2L, 'western': 1L, 'zzz_security': 3L, 'hang': 1L, 'believe': 2L, 'effort': 1L, 'spirit': 2L, 'women': 1L, 'evangelical': 3L, 'zzz_galilee': 2L, 'target': 1L, 'unlike': 1L, 'redeemed': 1L, 'local': 1L, 'zzz_messiah': 2L, 'morning': 1L, 'believer': 1L, 'spirited': 1L, 'street': 1L, 'neat': 1L, 'growing': 1L, 'feeling': 1L, 'root': 1L, 'zzz_shabbat': 1L, 'connect': 1L, 'bell': 1L, 'prayed': 1L, 'gather': 1L, 'ringing': 1L, 'played': 2L, 'predict': 1L, 'zzz_wis': 1L, 'prayer': 2L, 'site': 3L, 'rooftop': 1L, 'return': 1L, 'middle': 1L, 'fascination': 1L, 'warning': 1L, 'sundown': 2L, 'king': 1L, 'need': 1L, 'seen': 1L, 'counting': 1L, 'dress': 1L, 'everyday': 1L, 'tourist': 2L, 'zzz_jerusalem': 7L, 'zzz_christianity': 1L, 'cafe': 2L, 'zzz_orthodox': 1L, 'wearing': 1L, 'verify': 1L, 'watching': 1L, 'tip': 1L, 'hangover': 1L, 'event': 1L, 'tight': 1L, 'amazing': 1L, 'shrine': 1L, 'packed': 1L, 'forces': 1L, 'zzz_king': 1L, 'sat': 1L, 'thousand': 2L, 'sighting': 1L, 'traditional': 1L, 'catholic': 1L, 'southern': 1L, 'pastor': 1L, 'zzz_jesus': 3L, 'town': 1L, 'afraid': 1L, 'portal': 1L, 'walled': 1L, 'authorities': 1L, 'zzz_christian': 4L, 'explosives': 1L, 'recent': 1L, 'ago': 1L, 'thought': 1L, 'short': 1L, 'zzz_times_square': 1L, 'overlooking': 1L, 'rabbis': 1L, 'coat': 1L, 'professor': 1L, 'zzz_american': 1L, 'spent': 1L, 'theology': 1L, 'zzz_dome': 2L, 'zzz_tom_zoellner': 1L, 'zzz_wall': 2L, 'withdraw': 1L, 'zzz_golden_gate': 3L, 'nearby': 1L, 'minister': 1L}, {'unmolested': 1L, 'cute': 1L, 'soggy': 2L, 'looked': 1L, 'rating': 1L, 'welcomed': 1L, 'midnight': 5L, 'flirted': 1L, 'hitch': 1L, 'decently': 1L, 'front': 1L, 'hugged': 1L, 'sleep': 1L, 'martinis': 1L, 'zzz_copland': 1L, 'appetite': 1L, 'graduate': 1L, 'mayor': 1L, 'row': 1L, 'planned': 1L, 'crush': 1L, 'glimpse': 1L, 'apartment': 1L, 'police': 3L, 'blizzard': 1L, 'zone': 2L, 'bragging': 1L, 'ment': 1L, 'cherry': 1L, 'zzz_southeast_asia': 1L, 'hope': 1L, 'carat': 1L, 'hot': 1L, 'actually': 1L, 'eager': 1L, 'shout': 1L, 'celebrate': 1L, 'homeland': 1L, 'zzz_mexico': 2L, 'friendly': 1L, 'hates': 1L, 'meant': 1L, 'count': 1L, 'triangle': 1L, 'tourist': 1L, 'stay': 1L, 'watching': 4L, 'neon': 1L, 'couple': 1L, 'colleagues': 1L, 'zzz_taylor': 1L, 'coast': 2L, 'break': 1L, 'famous': 1L, 'game': 1L, 'historic': 1L, 'traffic': 1L, 'despite': 1L, 'confetti': 2L, 'bravura': 1L, 'intersection': 1L, 'fireplace': 1L, 'minute': 1L, 'prime': 1L, 'brought': 1L, 'school': 1L, 'hour': 5L, 'marquee': 1L, 'upper': 1L, 'die': 2L, 'marry': 1L, 'drop': 1L, 'admitted': 1L, 'morning': 1L, 'zzz_rudolph_giuliani': 1L, 'bag': 1L, 'festivities': 1L, 'tower': 1L, 'haul': 1L, 'common': 1L, 'night': 2L, 'quick': 1L, 'noisiest': 1L, 'zzz_seventh_avenue': 1L, 'side': 1L, 'zzz_new_york': 1L, 'someday': 1L, 'cookies': 1L, 'right': 2L, 'crowd': 3L, 'peek': 1L, 'throwing': 1L, 'spring': 1L, 'special': 2L, 'hard': 1L, 'arrive': 1L, 'hail': 1L, 'immigrant': 1L, 'past': 2L, 'usher': 1L, 'zzz_east': 1L, 'close': 1L, 'happen': 1L, 'battalion': 1L, 'fanfare': 1L, 'cold': 1L, 'popping': 1L, 'living': 1L, 'alcohol': 1L, 'camping': 1L, 'movie': 2L, 'noon': 1L, 'cameras': 1L, 'lean': 1L, 'whooped': 1L, 'havoc': 1L, 'noisemaker': 1L, 'video': 1L, 'pen': 1L, 'won': 1L, 'millennium': 1L, 'contraband': 2L, 'noting': 1L, 'champagne': 2L, 'order': 1L, 'screen': 1L, 'reveler': 2L, 'officer': 1L, 'undeterred': 1L, 'solo': 1L, 'drink': 1L, 'led': 1L, 'business': 1L, 'schedule': 1L, 'dropped': 1L, 'dismantle': 1L, 'zipped': 1L, 'effect': 1L, 'fun': 2L, 'zzz_disney': 1L, 'zzz_waterford': 1L, 'crazier': 1L, 'making': 1L, 'nightfall': 1L, 'cardboard': 2L, 'teacher': 1L, 'celebration': 4L, 'hoisted': 1L, 'smelling': 1L, 'y2k': 2L, 'soda': 1L, 'ahead': 1L, 'marijuana': 1L, 'country': 1L, 'region': 1L, 'compulsive': 1L, 'quiet': 1L, 'zzz_indonesia': 1L, 'fear': 1L, 'place': 1L, 'hijink': 1L, 'threat': 1L, 'social': 1L, 'platinum': 1L, 'asked': 1L, 'ventured': 1L, 'peacefully': 1L, 'liked': 1L, 'family': 2L, 'wilder': 1L, 'simple': 1L, 'zzz_south_pacific': 1L, 'evocation': 1L, 'sign': 1L, 'swilling': 1L, 'hopeful': 1L, 'zzz_new_york_city': 1L, 'posterity': 1L, 'weather': 1L, 'village': 1L, 'alike': 1L, 'ring': 2L, 'drove': 1L, 'son': 2L, 'bent': 1L, 'mighty': 1L, 'wanted': 1L, 'quilt': 1L, 'wah': 1L, 'blossom': 1L, 'tos': 1L, 'recruiting': 1L, 'zzz_washington_height': 1L, 'parties': 1L, 'resident': 1L, 'secret': 1L, 'symphony': 1L, 'statement': 1L, 'biggest': 1L, 'cultures': 1L, 'huge': 1L, 'jubilant': 1L, 'tell': 1L, 'friend': 1L, 'happy': 1L, 'sort': 1L, 'sweetheart': 1L, 'diamond': 1L, 'families': 2L, 'zzz_new_yorker': 2L, 'started': 1L, 'bottle': 1L, 'atop': 1L, 'worker': 3L, 'downed': 1L, 'improve': 1L, 'sales': 1L, 'moment': 1L, 'train': 1L, 'awake': 1L, 'zzz_lord': 1L, 'squalid': 1L, 'trying': 1L, 'eat': 1L, 'shoot': 1L, 'zones': 1L, 'kind': 1L, 'daylong': 1L, 'kissed': 1L, 'showed': 1L, 'zzz_los_angeles': 1L, 'consonant': 1L, 'resemble': 1L, 'soul': 1L, 'air': 1L, 'shower': 1L, 'crystal': 1L, 'remain': 1L, 'diverse': 1L, 'nervous': 1L, 'venture': 1L, 'island': 2L, 'wild': 1L, 'college': 1L, 'tion': 1L, 'feeling': 1L, 'campsites': 1L, 'called': 1L, 'history': 1L, 'zzz_fort_lauderdale': 1L, 'crazy': 3L, 'dangerous': 1L, 'hoping': 1L, 'zzz_manhattan': 1L, 'taste': 1L, 'celebrant': 1L, 'dent': 1L, 'head': 1L, 'sleeping': 1L, 'sample': 1L, 'strain': 1L, 'excitement': 1L, 'rained': 1L, 'imitation': 1L, 'home': 5L, 'need': 1L, 'station': 1L, 'education': 1L, 'television': 2L, 'trip': 1L, 'film': 2L, 'parent': 1L, 'rainbow': 1L, 'ing': 1L, 'upheaval': 1L, 'objection': 1L, 'pit': 1L, 'travel': 1L, 'stake': 1L, 'makeshift': 1L, 'fire': 1L, 'relatives': 1L, 'grew': 1L, 'boom': 2L, 'animal': 1L, 'stroke': 1L, 'suspiciously': 1L, 'party': 3L, 'terrorism': 2L, 'roll': 1L, 'ultimate': 1L, 'encampment': 1L, 'pink': 1L, 'play': 1L, 'ball': 4L, 'set': 1L, 'tried': 1L, 'diego': 1L, 'broad': 1L, 'await': 1L, 'spot': 1L, 'mosh': 1L, 'rain': 1L, 'took': 1L, 'mother': 1L, 'viewing': 1L, 'flown': 1L, 'arrived': 2L, 'plan': 1L, 'student': 1L, 'waves': 1L, 'watt': 1L, 'witching': 1L, 'zzz_japan': 1L, 'hut': 1L, 'shortly': 1L, 'zzz_times_square': 10L, 'wife': 2L, 'zzz_broadway': 1L, 'proud': 2L, 'rowdy': 2L, 'spent': 1L, 'wedged': 1L, 'zzz_southern_california': 1L, 'thought': 2L, 'beer': 1L, 'luckier': 1L, 'overnight': 1L, 'zzz_armed_forces': 1L, 'spectator': 2L, 'zzz_university': 1L, 'north': 1L, 'san': 1L, 'tirelessly': 1L, 'zzz_new_jersey': 1L, 'transformation': 1L}, {'stores': 1L, 'show': 1L, 'despite': 1L, 'zzz_ohio': 1L, 'loaf': 1L, 'performance': 1L, 'surgical': 1L, 'chair': 2L, 'seller': 1L, 'fine': 1L, 'milk': 1L, 'perfect': 2L, 'busy': 1L, 'gallon': 1L, 'peanut': 1L, 'jar': 1L, 'young': 1L, 'window': 1L, 'sniffling': 1L, 'carton': 1L, 'zzz_maryland': 1L, 'evening': 1L, 'seeking': 1L, 'zzz_america': 1L, 'blanket': 2L, 'kind': 1L, 'wave': 2L, 'pathologist': 1L, 'mom': 1L, 'half': 1L, 'front': 1L, 'mob': 1L, 'bread': 1L, 'mystery': 1L, 'cool': 1L, 'bag': 1L, 'night': 1L, 'pantomime': 1L, 'simultaneously': 1L, 'husband': 1L, 'enjoy': 1L, 'set': 1L, 'picnic': 1L, 'crowd': 1L, 'immigrant': 1L, 'inopportune': 1L, 'full': 1L, 'home': 1L, 'salesman': 1L, 'folk': 1L, 'cameras': 1L, 'denizen': 1L, 'jolly': 1L, 'looking': 1L, 'waiting': 1L, 'millennium': 1L, 'supplies': 1L, 'pressed': 1L, 'zzz_oregon': 1L, 'run': 1L, 'written': 1L, 'prepared': 1L, 'disposable': 1L, 'munchies': 1L, 'souvenir': 1L, 'studio': 1L, 'armenian': 2L, 'scarves': 1L, 'cough': 1L, 'staring': 1L, 'bulletproof': 1L, 'jelly': 1L, 'conversation': 1L, 'stand': 1L, 'camcorder': 1L, 'overnight': 1L, 'nearby': 1L, 'seeing': 1L, 'raised': 1L, 'family': 1L, 'scene': 1L, 'feet': 1L, 'dancer': 1L, 'puppet': 1L, 'table': 1L, 'electronic': 2L, 'zzz_peter_jenning': 1L, 'fed': 1L, 'metaphor': 1L, 'zzz_dick_clark': 1L, 'fast': 1L, 'camera': 2L, 'extravagant': 1L, 'stuffed': 1L, 'wrapped': 1L, 'zzz_abc': 1L, 'syrup': 1L, 'store': 1L, 'toe': 1L, 'head': 1L, 'door': 1L, 'poster': 1L, 'zzz_alaska': 1L, 'zzz_abc_tv': 1L, 'broadcast': 1L, 'repeated': 1L, 'part': 1L, 'commissioned': 1L, 'editing': 1L, 'sound': 1L, 'television': 1L, 'grew': 1L, 'hour': 2L, 'flu': 1L, 'braved': 1L, 'friend': 1L, 'hacking': 1L, 'voice': 1L, 'tissues': 1L, 'turned': 1L, 'comfortable': 1L, 'high': 1L, 'talking': 1L, 'unlikely': 1L, 'pen': 1L, 'seen': 1L, 'occupied': 1L, 'dozen': 1L, 'hoc': 1L, 'turn': 1L, 'watching': 1L, 'square': 1L, 'chess': 1L, 'disappoint': 1L, 'sat': 1L, 'beach': 1L, 'zzz_ok': 1L, 'play': 1L, 'companion': 1L, 'undaunted': 1L, 'butter': 1L, 'lawn': 1L, 'zzz_times_square': 1L, 'crowded': 1L, 'zzz_broadway': 1L, 'light': 1L, 'interval': 1L, 'unpacked': 1L, 'thought': 1L, 'upside': 1L, 'spectator': 1L, 'position': 1L, 'marvel': 1L}, {'migrated': 1L, 'looked': 1L, 'show': 3L, 'dance': 1L, 'visitor': 1L, 'midnight': 1L, 'planning': 2L, 'zzz_canada': 1L, 'police': 1L, 'headline': 1L, 'banner': 1L, 'winner': 1L, 'easterly': 1L, 'morgue': 1L, 'struck': 2L, 'east': 1L, 'local': 1L, 'happened': 1L, 'meant': 1L, 'handle': 1L, 'watching': 1L, 'read': 1L, 'big': 1L, 'rise': 1L, 'nation': 4L, 'early': 1L, 'worst': 1L, 'front': 1L, 'awaiting': 1L, 'lifelong': 1L, 'entire': 1L, 'fortune': 1L, 'augment': 1L, 'opera': 1L, 'zzz_maori': 1L, 'fewer': 1L, 'morning': 1L, 'cobblestones': 1L, 'festivities': 1L, 'miles': 1L, 'officer': 1L, 'small': 1L, 'sidewalk': 1L, 'ceremonial': 1L, 'zzz_san_francisco': 1L, 'force': 1L, 'concert': 1L, 'crowd': 3L, 'idea': 1L, 'past': 1L, 'edition': 1L, 'rate': 1L, 'computer': 1L, 'usher': 1L, 'sea': 1L, 'impossible': 1L, 'home': 2L, 'dawn': 2L, 'event': 1L, 'sunrise': 1L, 'shining': 1L, 'clock': 2L, 'sun': 1L, 'contributed': 1L, 'hour': 1L, 'jockeyed': 1L, 'firework': 1L, 'emerged': 1L, 'capital': 1L, 'leader': 2L, 'gathered': 1L, 'million': 2L, 'drew': 1L, 'souvenir': 1L, 'water': 1L, 'host': 1L, 'poverty': 1L, 'zzz_north_island': 1L, 'worthy': 1L, 'wanted': 1L, 'cop': 1L, 'y2k': 2L, 'country': 2L, 'zzz_auckland': 1L, 'place': 1L, 'smoke': 1L, 'sunshine': 1L, 'honor': 1L, 'raised': 1L, 'zzz_winnipeg': 1L, 'drunk': 1L, 'appeared': 1L, 'zzz_south_pacific': 1L, 'number': 1L, 'brought': 1L, 'visible': 1L, 'dances': 1L, 'reached': 1L, 'readily': 1L, 'casket': 1L, 'deal': 1L, 'aren': 1L, 'live': 1L, 'zzz_dubliner': 1L, 'beer': 1L, 'biggest': 1L, 'tell': 1L, 'lived': 1L, 'north': 1L, 'spit': 1L, 'apparent': 1L, 'downtown': 1L, 'expected': 1L, 'wafted': 1L, 'overflow': 1L, 'haven': 1L, 'resist': 1L, 'main': 1L, 'slogan': 1L, 'room': 1L, 'places': 1L, 'quoting': 1L, 'official': 1L, 'heatedly': 1L, 'air': 2L, 'corpses': 1L, 'matter': 1L, 'determined': 1L, 'hand': 1L, 'island': 2L, 'problem': 2L, 'arrive': 1L, 'minutes': 1L, 'aquamarine': 1L, 'ordered': 1L, 'zzz_ireland': 1L, 'century': 2L, 'resident': 1L, 'celebrant': 1L, 'street': 2L, 'sought': 1L, 'seen': 2L, 'meltdown': 1L, 'counting': 1L, 'sat': 1L, 'zzz_new_zealand': 3L, 'shirt': 1L, 'travel': 1L, 'zzz_wellington': 1L, 'potential': 1L, 'ashore': 1L, 'largest': 2L, 'party': 4L, 'native': 1L, 'toasted': 1L, 'disaster': 1L, 'begin': 1L, 'tally': 1L, 'ray': 1L, 'ecstatic': 1L, 'huge': 1L, 'drink': 1L, 'prepared': 1L, 'crashed': 1L, 'fell': 1L, 'waves': 1L, 'waterfront': 1L, 'refrigerator': 1L, 'included': 1L, 'singer': 1L, 'correspondent': 1L, 'center': 1L, 'considered': 1L, 'light': 1L, 'spent': 1L, 'thought': 3L, 'maintain': 1L, 'truck': 1L, 'steeled': 1L, 'talk': 1L, 'left': 1L}, {'test': 2L, 'item': 1L, 'zzz_houston_chronicle': 1L}, {'zzz_fox_new': 1L, 'zzz_hillary': 1L, 'dollar': 1L, 'primed': 2L, 'cobalt': 1L, 'groceries': 1L, 'battle': 1L, 'shrugged': 1L, 'displaying': 1L, 'apartment': 1L, 'depend': 1L, 'young': 1L, 'program': 2L, 'zzz_millennium': 3L, 'fall': 1L, 'ticket': 1L, 'zzz_brooklyn': 1L, 'readied': 1L, 'entire': 1L, 'try': 1L, 'sleep': 3L, 'zzz_season': 1L, 'noted': 1L, 'concluded': 1L, 'neighborhood': 1L, 'blitz': 1L, 'mishap': 1L, 'video': 1L, 'destitute': 1L, 'port': 1L, 'spokesman': 1L, 'waiting': 1L, 'capital': 1L, 'shared': 1L, 'proclaiming': 1L, 'exchange': 1L, 'stared': 1L, 'zzz_mtv': 1L, 'handmaiden': 1L, 'witch': 1L, 'wearily': 1L, 'zzz_washington_street': 3L, 'detoxification': 1L, 'celebration': 2L, 'daughter': 3L, 'colored': 1L, 'ahead': 1L, 'healthy': 1L, 'zzz_god': 1L, 'donning': 1L, 'zzz_blockbuster': 1L, 'advertising': 2L, 'makes': 1L, 'beautiful': 1L, 'campaign': 1L, 'explained': 1L, 'zzz_richmond_hill': 1L, 'plow': 1L, 'zzz_manhattan': 2L, 'working': 1L, 'positive': 2L, 'destination': 1L, 'zzz_academy': 1L, 'assuring': 1L, 'sort': 1L, 'grandest': 1L, 'started': 1L, 'occurred': 1L, 'award': 1L, 'glass': 1L, 'carrying': 1L, 'basically': 1L, 'women': 2L, 'room': 2L, 'hour': 2L, 'methadone': 1L, 'refusing': 1L, 'zzz_command_center': 1L, 'making': 2L, 'history': 1L, 'control': 1L, 'wearing': 1L, 'confused': 2L, 'david': 1L, 'evidently': 1L, 'machine': 1L, 'interview': 1L, 'goat': 1L, 'nonstop': 1L, 'staying': 1L, 'designer': 1L, 'ubiquitous': 1L, 'tried': 1L, 'beauty': 1L, 'advice': 1L, 'earlier': 1L, 'spot': 1L, 'modest': 1L, 'huddled': 1L, 'nomination': 1L, 'zzz_times_square': 6L, 'effective': 1L, 'crowded': 2L, 'light': 1L, 'switch': 1L, 'agenda': 1L, 'wolves': 1L, 'playing': 1L, 'talk': 1L, 'wine': 2L, 'uncork': 1L, 'salon': 3L, 'help': 2L, 'midnight': 2L, 'trade': 1L, 'mayor': 8L, 'interesting': 1L, 'actually': 1L, 'window': 1L, 'evening': 2L, 'food': 2L, 'gadget': 1L, 'number': 1L, 'alex': 1L, 'drop': 1L, 'zzz_rudolph_giuliani': 6L, 'wrangled': 1L, 'found': 1L, 'glasses': 1L, 'dour': 1L, 'globe': 1L, 'expect': 1L, 'awry': 1L, 'dawn': 1L, 'inflated': 1L, 'event': 1L, 'large': 1L, 'cameras': 1L, 'washed': 1L, 'looking': 2L, 'safety': 1L, 'hairdresser': 1L, 'squished': 1L, 'salami': 1L, 'heroin': 2L, 'wanted': 3L, 'craving': 1L, 'zzz_n_j': 1L, 'ate': 1L, 'wrong': 2L, 'heading': 1L, 'turn': 1L, 'perhap': 2L, 'place': 1L, 'scheduled': 1L, 'waited': 1L, 'cheese': 1L, 'dwelling': 1L, 'blown': 1L, 'zzz_emergency_management': 1L, 'confuse': 1L, 'scene': 1L, 'comforted': 1L, 'zzz_new_york_city': 2L, 'conga': 1L, 'law': 1L, 'ordering': 1L, 'slept': 1L, 'zzz_world_trade_center': 1L, 'plastic': 2L, 'master': 1L, 'statement': 1L, 'zzz_abc': 1L, 'friend': 1L, 'eyes': 1L, 'selling': 1L, 'gear': 1L, 'needle': 1L, 'part': 2L, 'zzz_mindel': 2L, 'convinced': 1L, 'haven': 1L, 'boyfriend': 2L, 'kind': 1L, 'syringes': 1L, 'bed': 1L, 'project': 3L, 'midtown': 1L, 'firework': 1L, 'supposed': 1L, 'dispenses': 1L, 'fashion': 1L, 'ages': 1L, 'tonight': 1L, 'rent': 1L, 'need': 3L, 'couch': 1L, 'causing': 1L, 'sandwiches': 1L, 'colorist': 1L, 'added': 1L, 'bottle': 2L, 'paid': 1L, 'regular': 1L, 'plan': 3L, 'pair': 1L, 'glow': 1L, 'clear': 1L, 'looked': 2L, 'clean': 1L, 'professional': 1L, 'responded': 1L, 'zzz_hillary_clinton': 5L, 'sanctuary': 1L, 'show': 2L, 'headquarter': 1L, 'radio': 1L, 'fear': 2L, 'explain': 1L, 'won': 1L, 'buying': 1L, 'condom': 1L, 'hip': 1L, 'plate': 1L, 'hiv': 1L, 'sunny': 1L, 'zzz_blockbuster_video': 1L, 'listener': 1L, 'basement': 1L, 'zzz_nbc': 1L, 'celebrate': 2L, 'bar': 1L, 'zzz_front': 3L, 'hype': 1L, 'husband': 1L, 'declared': 1L, 'official': 1L, 'swept': 1L, 'excoriated': 1L, 'liquor': 1L, 'computer': 1L, 'injecting': 1L, 'buzzed': 1L, 'yes': 1L, 'subject': 1L, 'spokeswoman': 1L, 'zzz_chicken_little': 1L, 'closed': 1L, 'approach': 1L, 'screen': 2L, 'job': 3L, 'dutiful': 1L, 'taking': 1L, 'drug': 3L, 'planned': 1L, 'womanhood': 1L, 'senator': 1L, 'load': 1L, 'point': 1L, 'simple': 1L, 'pop': 1L, 'walk': 1L, 'simply': 1L, 'picking': 1L, 'conference': 1L, 'patrolling': 1L, 'commission': 1L, 'beer': 1L, 'empty': 1L, 'zzz_cinderella': 1L, 'thousand': 2L, 'citizen': 1L, 'lives': 1L, 'prices': 1L, 'worked': 1L, 'odyssey': 1L, 'case': 1L, 'look': 1L, 'leave': 1L, 'cracker': 1L, 'zzz_champagne': 1L, 'real': 1L, 'conferences': 1L, 'surprisingly': 1L, 'sleeping': 1L, 'ready': 1L, 'zzz_honey': 1L, 'check': 1L, 'big': 2L, 'party': 3L, 'ball': 1L, 'companion': 1L, 'director': 1L, 'moment': 2L, 'user': 1L, 'zzz_u_s_senate': 1L, 'dark': 1L, 'shortly': 1L, 'zzz_cb': 1L, 'zzz_american': 1L, 'spent': 1L, 'zzz_americas': 1L, 'mother': 3L, 'zzz_carl': 8L, 'left': 1L, 'money': 3L, 'zzz_yep': 1L, 'executive': 2L, 'sleepy': 1L, 'rest': 2L, 'victim': 1L, 'skill': 1L, 'weekly': 1L, 'web': 1L, 'family': 1L, 'disappointed': 1L, 'eying': 1L, 'prison': 1L, 'hat': 1L, 'humanity': 1L, 'gave': 2L, 'styles': 1L, 'zzz_mickey_blue': 1L, 'early': 1L, 'zzz_avenue': 1L, 'desk': 1L, 'lady': 1L, 'shoulder': 1L, 'officer': 1L, 'night': 7L, 'right': 1L, 'deal': 1L, 'scared': 1L, 'hair': 3L, 'erase': 1L, 'home': 2L, 'tube': 1L, 'run': 1L, 'y2k': 1L, 'getting': 2L, 'plying': 1L, 'zzz_auckland': 1L, 'ideology': 1L, 'dinner': 3L, 'afternoon': 1L, 'illegal': 1L, 'block': 1L, 'addict': 1L, 'zzz_seat': 1L, 'son': 1L, 'services': 1L, 'homeless': 1L, 'parties': 1L, 'behaving': 1L, 'spending': 1L, 'lone': 1L, 'start': 1L, 'biggest': 1L, 'happy': 1L, 'head': 1L, 'hopes': 2L, 'line': 2L, 'considerable': 1L, 'ceremonies': 1L, 'caller': 1L, 'flip': 1L, 'convince': 1L, 'agree': 1L, 'chuckling': 1L, 'gizmo': 1L, 'zzz_arkansas': 1L, 'zzz_blair': 1L, 'scrape': 1L, 'grabbing': 1L, 'nap': 2L, 'role': 1L, 'zzz_howard_wolfson': 1L, 'shelter': 1L, 'millennial': 1L, 'trouble': 1L, 'included': 1L, 'younger': 1L, 'potato': 1L, 'waxing': 1L, 'hello': 2L}, {'caused': 1L, 'half': 1L, 'manholes': 1L, 'zzz_new_york_city_police_department': 1L, 'batteries': 1L, 'paper': 1L, 'alert': 1L, 'flashlight': 1L, 'midafternoon': 1L, 'apartment': 1L, 'police': 11L, 'knowledge': 1L, 'generator': 2L, 'trying': 1L, 'extra': 2L, 'negligible': 1L, 'investigating': 1L, 'thousand': 2L, 'arrest': 1L, 'black': 1L, 'bank': 1L, 'equipped': 2L, 'worth': 1L, 'lookout': 1L, 'municipal': 1L, 'emergency': 1L, 'powerful': 1L, 'safe': 1L, 'zzz_fbi': 2L, 'zzz_department': 3L, 'dark': 1L, 'famous': 1L, 'putting': 1L, 'nearly': 1L, 'fall': 1L, 'timing': 1L, 'precinct': 1L, 'condition': 1L, 'areas': 2L, 'swelled': 1L, 'level': 1L, 'clad': 1L, 'morning': 1L, 'specific': 1L, 'frozen': 1L, 'planning': 1L, 'officer': 5L, 'team': 1L, 'gathered': 1L, 'found': 1L, 'security': 1L, 'zzz_seventh_avenue': 3L, 'undercover': 1L, 'clothes': 1L, 'saddled': 1L, 'force': 2L, 'portable': 1L, 'crowd': 4L, 'series': 1L, 'past': 1L, 'computer': 1L, 'entering': 2L, 'seal': 1L, 'operation': 1L, 'event': 2L, 'special': 2L, 'concern': 2L, 'zzz_rudolph_giuliani': 1L, 'giant': 1L, 'tracked': 1L, 'cover': 1L, 'federal': 1L, 'scrap': 1L, 'uniform': 2L, 'conduct': 1L, 'officially': 1L, 'method': 1L, 'arrival': 1L, 'shut': 1L, 'beverages': 1L, 'dozen': 1L, 'creating': 1L, 'power': 2L, 'leg': 1L, 'screen': 1L, 'million': 1L, 'detectives': 1L, 'possibility': 1L, 'control': 1L, 'cut': 1L, 'issued': 1L, 'biological': 1L, 'put': 2L, 'cities': 1L, 'celebration': 3L, 'sending': 1L, 'search': 1L, 'disorderly': 1L, 'mingled': 1L, 'country': 1L, 'larger': 1L, 'welded': 1L, 'connection': 1L, 'threat': 1L, 'act': 1L, 'view': 1L, 'smuggle': 1L, 'block': 1L, 'duty': 1L, 'freeing': 1L, 'constantly': 1L, 'supply': 2L, 'circled': 1L, 'symbolic': 1L, 'number': 1L, 'zzz_new_york_city': 1L, 'zzz_ahmed_ressam': 3L, 'anti': 1L, 'aimed': 1L, 'zzz_seattle': 1L, 'illumination': 1L, 'ring': 1L, 'parking': 1L, 'unit': 1L, 'size': 1L, 'plot': 1L, 'zzz_abdel_ghani': 2L, 'additional': 1L, 'working': 1L, 'area': 4L, 'addition': 1L, 'zzz_washington': 1L, 'blanketed': 1L, 'twisted': 1L, 'elevator': 1L, 'strict': 1L, 'attack': 1L, 'poured': 1L, 'biggest': 1L, 'helicopter': 2L, 'stashed': 1L, 'questioned': 1L, 'horses': 2L, 'confiscate': 1L, 'north': 1L, 'stationed': 1L, 'trapped': 1L, 'tool': 1L, 'highest': 1L, 'sophisticated': 1L, 'failure': 1L, 'stick': 1L, 'sharply': 1L, 'hopes': 1L, 'cases': 1L, 'mounted': 3L, 'steel': 1L, 'zones': 1L, 'television': 1L, 'responding': 1L, 'locked': 1L, 'interlocking': 1L, 'tunnel': 1L, 'plain': 1L, 'official': 2L, 'devices': 1L, 'air': 1L, 'crystal': 1L, 'zzz_brooklyn': 3L, 'motorist': 1L, 'believed': 1L, 'making': 1L, 'problem': 2L, 'history': 1L, 'detailed': 1L, 'scheduled': 2L, 'gathering': 2L, 'zzz_algerian': 2L, 'alcoholic': 1L, 'metal': 1L, 'measure': 1L, 'mailboxes': 1L, 'agent': 1L, 'shabby': 1L, 'canceled': 1L, 'purchased': 1L, 'seen': 1L, 'troublemaker': 1L, 'border': 1L, 'car': 1L, 'borough': 2L, 'large': 1L, 'amount': 1L, 'chemical': 2L, 'equipment': 1L, 'department': 1L, 'truck': 2L, 'terrorism': 2L, 'trash': 1L, 'adjusting': 1L, 'ball': 1L, 'electric': 1L, 'spot': 1L, 'barricades': 2L, 'prepared': 1L, 'assault': 1L, 'terrorist': 5L, 'lighting': 1L, 'plan': 2L, 'stormed': 1L, 'included': 1L, 'detained': 1L, 'eighth': 1L, 'explosives': 2L, 'recent': 1L, 'searches': 1L, 'early': 1L, 'task': 1L, 'individual': 1L, 'zzz_times_square': 3L, 'keeping': 1L, 'garages': 1L, 'zzz_broadway': 1L, 'light': 2L, 'removed': 1L, 'rowdy': 1L, 'dog': 1L, 'prepare': 1L, 'zzz_police_commissioner_howard_safir': 1L, 'south': 1L, 'zzz_americas': 1L, 'searched': 1L, 'failures': 2L, 'order': 1L, 'charged': 2L}, {'laureate': 2L, 'zzz_muhammad_ali': 2L, 'dawning': 1L, 'show': 3L, 'beam': 1L, 'midnight': 3L, 'zzz_de_niro': 1L, 'ending': 1L, 'course': 1L, 'scientist': 1L, 'artichoke': 1L, 'roasted': 1L, 'follow': 1L, 'zzz_rose_garden': 1L, 'enjoyed': 1L, 'zzz_neil_simon': 1L, 'tables': 1L, 'giant': 1L, 'group': 1L, 'unfinished': 1L, 'tight': 1L, 'chosen': 1L, 'rose': 1L, 'young': 1L, 'counted': 1L, 'zzz_elizabeth_taylor': 2L, 'praised': 1L, 'blaze': 1L, 'polenta': 1L, 'circle': 1L, 'main': 1L, 'scheduled': 1L, 'evening': 2L, 'captivating': 1L, 'freedom': 1L, 'read': 1L, 'couple': 1L, 'material': 1L, 'tent': 1L, 'nation': 1L, 'band': 2L, 'zzz_robert_pinsky': 1L, 'half': 1L, 'foot': 1L, 'feasted': 1L, 'blast': 1L, 'lady': 2L, 'silver': 4L, 'celebrate': 1L, 'endless': 1L, 'entire': 1L, 'champagne': 2L, 'scholar': 1L, 'zzz_trisha_yearwood': 1L, 'ended': 1L, 'opera': 2L, 'gras': 1L, 'rapper': 1L, 'eve': 1L, 'cascading': 1L, 'bono': 1L, 'filled': 1L, 'burned': 1L, 'served': 3L, 'security': 1L, 'artist': 1L, 'rack': 1L, 'zzz_don_mclean': 1L, 'set': 1L, 'concert': 1L, 'crowd': 4L, 'burst': 1L, 'centuries': 1L, 'torch': 1L, 'seat': 1L, 'past': 1L, 'ball': 1L, 'lobster': 1L, 'zzz_east': 1L, 'hosted': 2L, 'dawn': 1L, 'zzz_itzhak_perlman': 1L, 'orchid': 1L, 'zzz_john_william': 1L, 'splashy': 1L, 'shown': 2L, 'capacity': 1L, 'cast': 1L, 'oyster': 1L, 'sun': 1L, 'scaffold': 1L, 'surrounded': 1L, 'balmy': 1L, 'children': 1L, 'violinist': 1L, 'sparkle': 1L, 'written': 1L, 'score': 1L, 'millennium': 1L, 'capital': 1L, 'truffle': 1L, 'zzz_washington_monument': 2L, 'reading': 1L, 'gathered': 2L, 'reveler': 2L, 'told': 1L, 'pepper': 1L, 'earlier': 2L, 'shuttle': 1L, 'refurbishing': 1L, 'screen': 2L, 'zzz_lincoln_memorial': 4L, 'ragtime': 1L, 'base': 1L, 'china': 1L, 'zzz_rita': 1L, 'musical': 1L, 'optional': 1L, 'zzz_white_house': 5L, 'stage': 1L, 'dining': 1L, 'diner': 1L, 'taper': 1L, 'brilliant': 2L, 'country': 1L, 'elaborate': 1L, 'according': 1L, 'zzz_creator': 1L, 'dinner': 4L, 'fuse': 2L, 'descended': 1L, 'candlestick': 1L, 'threat': 1L, 'invitation': 1L, 'conducted': 1L, 'honor': 1L, 'waited': 1L, 'playwright': 1L, 'projection': 1L, 'amid': 1L, 'caviar': 1L, 'garlic': 1L, 'irish': 1L, 'pop': 1L, 'erected': 1L, 'feet': 2L, 'addressed': 1L, 'weather': 1L, 'composer': 1L, 'heated': 1L, 'table': 1L, 'ring': 1L, 'crispy': 1L, 'select': 1L, 'standing': 1L, 'poem': 1L, 'light': 1L, 'van': 1L, 'guest': 5L, 'west': 1L, 'creativity': 1L, 'ferris': 1L, 'live': 1L, 'production': 1L, 'change': 1L, 'passed': 1L, 'poet': 2L, 'white': 8L, 'zzz_first_lady_hillary_rodham_clinton': 1L, 'final': 2L, 'zzz_robert_de_niro': 1L, 'shower': 1L, 'higher': 1L, 'receiving': 1L, 'historian': 1L, 'zzz_america': 4L, 'exploded': 1L, 'formed': 1L, 'minute': 1L, 'chocolate': 1L, 'draped': 1L, 'zzz_kenny_roger': 1L, 'zzz_steven_spielberg': 1L, 'reflecting': 2L, 'zzz_tom_jones': 1L, 'glitzy': 1L, 'beluga': 1L, 'butler': 1L, 'traveled': 1L, 'zzz_stomp': 1L, 'television': 1L, 'room': 2L, 'hour': 4L, 'solid': 1L, 'inside': 1L, 'scenes': 1L, 'seated': 1L, 'air': 1L, 'spokeswoman': 1L, 'crystal': 1L, 'stunning': 1L, 'foie': 1L, 'monument': 2L, 'program': 1L, 'inventor': 1L, 'century': 1L, 'pool': 3L, 'zzz_national_mall': 2L, 'zzz_smith': 1L, 'zzz_journey': 1L, 'middle': 1L, 'presented': 1L, 'rained': 2L, 'held': 1L, 'gala': 1L, 'zzz_u_s': 1L, 'breakfast': 1L, 'film': 3L, 'returned': 1L, 'lamb': 1L, 'terrorist': 1L, 'author': 1L, 'divas': 1L, 'bowl': 2L, 'length': 1L, 'actor': 1L, 'zzz_maya_angelou': 1L, 'member': 1L, 'roses': 1L, 'high': 1L, 'zzz_jack_nicholson': 1L, 'front': 2L, 'thundering': 1L, 'party': 2L, 'zzz_jessye_norman': 1L, 'lit': 1L, 'toasted': 1L, 'expected': 1L, 'wheel': 1L, 'marinated': 1L, 'express': 1L, 'orchestration': 1L, 'faces': 1L, 'delight': 1L, 'zzz_brian_stokes_mitchell': 1L, 'moment': 1L, 'waterfall': 1L, 'lighting': 1L, 'ushered': 1L, 'successive': 1L, 'included': 1L, 'velvet': 1L, 'tablecloth': 1L, 'president': 4L, 'dove': 1L, 'sides': 2L, 'zzz_mary_tyler_moore': 1L, 'singer': 3L, 'shortly': 1L, 'famous': 1L, 'zzz_broadway': 1L, 'performances': 1L, 'sit': 2L, 'unconcerned': 1L, 'holly': 1L, 'temperature': 1L, 'american': 2L, 'zzz_clinton': 4L, 'original': 1L, 'left': 1L}, {'zzz_eastern': 2L, 'reactor': 1L, 'zzz_energy_secretary_bill_richardson': 1L, 'money': 1L, 'lack': 1L, 'midnight': 4L, 'rest': 1L, 'interpreted': 1L, 'coordination': 1L, 'earlier': 1L, 'slot': 4L, 'busy': 1L, 'referring': 1L, 'zone': 1L, 'electricity': 1L, 'fix': 1L, 'zzz_worldwide': 1L, 'cautioned': 1L, 'holiday': 1L, 'gave': 1L, 'paying': 1L, 'digit': 1L, 'temporarily': 1L, 'government': 2L, 'read': 1L, 'zzz_greenwich': 1L, 'nation': 4L, 'early': 3L, 'grid': 1L, 'half': 1L, 'affect': 1L, 'glitches': 1L, 'easily': 1L, 'zzz_east_coast': 1L, 'lost': 2L, 'millenium': 1L, 'eve': 1L, 'race': 1L, 'zzz_gmt': 1L, 'predicted': 1L, 'night': 1L, 'repaired': 1L, 'mean': 1L, 'heavy': 1L, 'zzz_jane_garvey': 1L, 'preceded': 1L, 'right': 1L, 'swept': 1L, 'smoothly': 1L, 'globe': 1L, 'estimates': 1L, 'japanese': 1L, 'crop': 1L, 'joined': 1L, 'past': 3L, 'computer': 7L, 'result': 1L, 'close': 1L, 'operation': 2L, 'estimated': 1L, 'regionally': 1L, 'machines': 2L, 'bonker': 1L, 'zzz_australia': 1L, 'est': 2L, 'network': 1L, 'lead': 1L, 'clock': 3L, 'nuclear': 4L, 'celebrated': 1L, 'crucial': 1L, 'zzz_central': 1L, 'miles': 1L, 'safety': 1L, 'indication': 1L, 'issue': 1L, 'arrival': 1L, 'shut': 2L, 'infrastructure': 1L, 'business': 1L, 'nature': 1L, 'rolled': 2L, 'attention': 1L, 'effect': 1L, 'reported': 5L, 'host': 1L, 'key': 1L, 'congestion': 1L, 'northwest': 1L, 'zzz_white_house': 3L, 'received': 1L, 'y2k': 9L, 'ahead': 2L, 'country': 1L, 'industry': 1L, 'transition': 1L, 'messages': 1L, 'incident': 2L, 'smattering': 1L, 'airline': 1L, 'circuit': 1L, 'zzz_state_department': 1L, 'zzz_united_states': 5L, 'military': 1L, 'backup': 1L, 'honor': 1L, 'major': 1L, 'airspace': 1L, 'appeared': 1L, 'private': 1L, 'glitch': 1L, 'preparedness': 1L, 'weather': 1L, 'zzz_wisconsin': 2L, 'zzz_tokyo': 1L, 'jet': 1L, 'zzz_washington': 2L, 'system': 5L, 'zzz_commerce_department': 1L, 'quickly': 2L, 'zzz_russia': 4L, 'passed': 2L, 'biggest': 1L, 'upbeat': 1L, 'chip': 1L, 'minor': 1L, 'programmed': 1L, 'zzz_delaware': 2L, 'confused': 1L, 'slipped': 1L, 'part': 1L, 'zzz_ukraine': 1L, 'effort': 1L, 'center': 3L, 'reset': 1L, 'zones': 2L, 'grew': 1L, 'hour': 2L, 'zzz_u_s': 2L, 'originally': 1L, 'official': 3L, 'optimism': 1L, 'air': 1L, 'zzz_japan': 1L, 'crossed': 1L, 'zzz_thomas_pickering': 1L, 'situation': 1L, 'problem': 9L, 'traveling': 1L, 'control': 1L, 'zzz_eastern_standard_time': 1L, 'century': 2L, 'cited': 1L, 'zzz_china': 1L, 'telephone': 2L, 'reassuring': 1L, 'zzz_federal_aviation_administration': 1L, 'seen': 1L, 'occur': 1L, 'chance': 1L, 'aging': 1L, 'haywire': 1L, 'fixing': 1L, 'radiation': 1L, 'note': 1L, 'find': 1L, 'underestimate': 1L, 'test': 1L, 'feared': 1L, 'roll': 2L, 'zzz_dallas': 1L, 'zzz_europe': 1L, 'plant': 5L, 'experienced': 1L, 'normal': 1L, 'track': 1L, 'milestone': 1L, 'felt': 1L, 'zzz_john_koskinen': 4L, 'nationally': 1L, 'running': 1L, 'power': 4L, 'significant': 2L, 'coming': 1L, 'billion': 2L, 'shortly': 1L, 'zzz_d_c': 2L, 'concern': 1L, 'safely': 1L, 'alarm': 1L, 'spent': 3L, 'highlight': 1L, 'zzz_new_zealand': 1L, 'person': 1L, 'chief': 2L, 'virtually': 1L, 'command': 1L, 'zzz_asia': 1L, 'traffic': 2L, 'overseas': 1L, 'fact': 1L}, {'affair': 1L, 'adult': 1L, 'show': 2L, 'midnight': 1L, 'zzz_hollywood': 2L, 'rest': 1L, 'padded': 1L, 'zzz_san_pedro': 3L, 'children': 2L, 'certainly': 1L, 'cut': 1L, 'police': 1L, 'mcdonald': 1L, 'promote': 1L, 'themed': 1L, 'proportion': 1L, 'eager': 1L, 'bike': 1L, 'wet': 1L, 'covered': 1L, 'enjoying': 1L, 'ski': 1L, 'gave': 1L, 'real': 4L, 'activities': 1L, 'evening': 1L, 'spectacular': 3L, 'big': 1L, 'stop': 1L, 'keeping': 1L, 'early': 1L, 'cultural': 1L, 'nixed': 1L, 'private': 1L, 'despite': 1L, 'laser': 3L, 'ticket': 1L, 'blast': 1L, 'continued': 2L, 'minute': 1L, 'gray': 1L, 'backstage': 1L, 'zzz_bob_levy': 2L, 'interfered': 1L, 'brother': 1L, 'cloudy': 1L, 'choir': 2L, 'audience': 1L, 'dancer': 3L, 'gloves': 1L, 'officer': 1L, 'zzz_church': 1L, 'nice': 1L, 'wrote': 1L, 'hanger': 1L, 'concert': 2L, 'crowd': 2L, 'smoothly': 1L, 'zzz_van_nuys_airport': 2L, 'torch': 1L, 'light': 3L, 'dodged': 1L, 'jump': 2L, 'skydiver': 2L, 'reached': 1L, 'link': 1L, 'home': 1L, 'musician': 1L, 'zzz_canyon_country': 1L, 'event': 4L, 'gladiator': 1L, 'hymn': 1L, 'zzz_staples_center': 1L, 'capacity': 1L, 'noon': 2L, 'zzz_aaron': 1L, 'firework': 2L, 'millennium': 2L, 'zzz_national_guard': 1L, 'zzz_grand_avenue': 1L, 'reveler': 1L, 'told': 1L, 'director': 1L, 'zzz_vincent': 1L, 'full': 1L, 'eating': 1L, 'wanted': 2L, 'join': 1L, 'free': 1L, 'puddles': 1L, 'step': 1L, 'busy': 1L, 'drew': 1L, 'scarves': 1L, 'exciting': 1L, 'prelude': 1L, 'throw': 1L, 'change': 1L, 'stage': 2L, 'dry': 1L, 'geared': 1L, 'poles': 1L, 'rare': 1L, 'district': 1L, 'carnival': 1L, 'country': 1L, 'taking': 1L, 'uncertainty': 1L, 'favorite': 1L, 'blimp': 1L, 'nightclub': 1L, 'festival': 3L, 'airport': 1L, 'zzz_pollution': 1L, 'gospel': 1L, 'quashed': 1L, 'swing': 1L, 'zzz_northridge': 1L, 'spotty': 1L, 'cancellation': 1L, 'family': 1L, 'sky': 1L, 'venues': 2L, 'brought': 1L, 'guard': 1L, 'weather': 2L, 'parties': 3L, 'zzz_bmx': 1L, 'array': 1L, 'drove': 1L, 'singing': 1L, 'zzz_van_nuy': 1L, 'cloud': 1L, 'san': 1L, 'attendance': 2L, 'smaller': 1L, 'zzz_dwight_yoakam': 1L, 'failed': 1L, 'trouper': 1L, 'coupled': 1L, 'dud': 1L, 'fast': 1L, 'mark': 1L, 'outing': 1L, 'music': 1L, 'zzz_encino': 1L, 'expected': 2L, 'eagles': 1L, 'featuring': 1L, 'bundled': 1L, 'sort': 1L, 'scalper': 1L, 'prophetic': 1L, 'families': 1L, 'fire': 1L, 'season': 1L, 'zzz_tustin': 1L, 'exactly': 1L, 'singer': 1L, 'joined': 2L, 'downtown': 2L, 'craft': 1L, 'contradictory': 1L, 'zzz_san_jose': 1L, 'daylong': 1L, 'line': 4L, 'sign': 3L, 'zzz_l_a': 1L, 'spirit': 1L, 'volunteer': 1L, 'television': 1L, 'grew': 1L, 'unify': 1L, 'showed': 1L, 'zzz_los_angeles': 5L, 'official': 5L, 'zzz_now': 1L, 'zzz_crenshaw': 2L, 'air': 1L, 'spokeswoman': 1L, 'zzz_take_follow': 1L, 'future': 1L, 'planes': 1L, 'slugging': 1L, 'display': 1L, 'scheduled': 1L, 'gathering': 1L, 'security': 1L, 'stream': 1L, 'played': 1L, 'resident': 2L, 'inflatable': 1L, 'partygoer': 2L, 'high': 1L, 'canceled': 1L, 'zzz_jay_leno': 1L, 'zzz_rose_parade': 1L, 'right': 1L, 'festivities': 1L, 'boredom': 1L, 'zzz_federal_aviation_administration': 1L, 'zzz_valencia': 1L, 'organizer': 1L, 'zzz_christian': 2L, 'demonstration': 1L, 'film': 1L, 'fill': 1L, 'party': 3L, 'unexpected': 1L, 'dancing': 4L, 'perform': 1L, 'member': 1L, 'need': 1L, 'grand': 1L, 'marshal': 1L, 'place': 1L, 'rides': 1L, 'explanation': 1L, 'planned': 2L, 'worldwide': 1L, 'explaining': 1L, 'sure': 1L, 'building': 1L, 'millennial': 2L, 'slowly': 1L, 'rain': 2L, 'promenade': 1L, 'undaunted': 1L, 'running': 1L, 'sponsored': 1L, 'zzz_judy': 1L, 'y2k': 1L, 'rolling': 1L, 'priced': 1L, 'thrown': 1L, 'kid': 2L, 'ago': 1L, 'zzz_rachel': 1L, 'short': 1L, 'wife': 2L, 'performances': 1L, 'rainstorm': 1L, 'steady': 1L, 'game': 1L, 'zzz_alameda': 2L, 'jacket': 1L, 'switch': 1L, 'mass': 1L, 'mother': 1L, 'hazard': 1L, 'lives': 1L, 'zzz_valley': 2L, 'left': 1L, 'pulled': 1L, 'drawing': 1L, 'icon': 1L, 'zzz_riordan': 2L}, {'dance': 1L, 'zzz_jimmy_buffett': 2L, 'ticket': 4L, 'costume': 1L, 'children': 1L, 'gamut': 1L, 'nostalgia': 1L, 'real': 1L, 'indulge': 1L, 'bit': 1L, 'zzz_darth': 1L, 'pillar': 1L, 'performing': 1L, 'guard': 1L, 'leave': 1L, 'audience': 1L, 'continue': 1L, 'rock': 1L, 'security': 1L, 'ticketholder': 1L, 'zzz_star_war': 1L, 'attorney': 1L, 'concert': 5L, 'phones': 1L, 'decided': 1L, 'zzz_texas': 1L, 'home': 1L, 'zzz_universal_city': 1L, 'event': 2L, 'special': 1L, 'zzz_staples_center': 2L, 'missed': 2L, 'cell': 1L, 'closed': 1L, 'business': 1L, 'opening': 1L, 'outfit': 1L, 'reason': 1L, 'zzz_jackson_browne': 1L, 'faced': 1L, 'chilly': 1L, 'swing': 1L, 'zzz_universal_studios': 1L, 'waited': 2L, 'ventured': 1L, 'family': 1L, 'feel': 1L, 'scene': 1L, 'son': 1L, 'twin': 1L, 'stretched': 1L, 'ring': 1L, 'drove': 1L, 'open': 1L, 'taker': 1L, 'working': 1L, 'angry': 1L, 'visit': 1L, 'music': 1L, 'suit': 1L, 'eagles': 2L, 'featuring': 1L, 'friend': 1L, 'door': 1L, 'thousand': 1L, 'deter': 1L, 'zzz_woodland_hill': 1L, 'zzz_l_a': 2L, 'spirit': 1L, 'hour': 1L, 'supposed': 1L, 'highlight': 1L, 'minutes': 1L, 'maul': 1L, 'zzz_college_station': 1L, 'wand': 1L, 'ran': 1L, 'metal': 1L, 'amphitheater': 1L, 'performed': 1L, 'checked': 1L, 'zzz_universal_amphitheatre': 1L, 'rid': 1L, 'clothing': 1L, 'zzz_linda_ronstadt': 2L, 'party': 2L, 'dressed': 1L, 'stayed': 1L, 'drizzle': 1L, 'tight': 1L, 'zzz_scalper': 1L, 'zzz_thousand_oak': 1L, 'detector': 1L, 'offered': 1L, 'begin': 1L, 'paid': 1L, 'model': 1L, 'wife': 2L, 'lines': 1L, 'block': 1L, 'occasion': 1L, 'jean': 1L, 'zzz_citywalk': 1L, 'starting': 1L, 'wind': 1L}, {'coup': 1L, 'relinquishing': 1L, 'shot': 1L, 'office': 1L, 'represent': 1L, 'issued': 1L, 'mainly': 2L, 'mistakes': 1L, 'inconsistent': 1L, 'zzz_west': 2L, 'remarkably': 1L, 'wrought': 1L, 'cut': 1L, 'anointed': 1L, 'buses': 1L, 'character': 1L, 'created': 1L, 'age': 1L, 'zzz_chechnya': 1L, 'easy': 1L, 'speech': 1L, 'criminal': 1L, 'local': 1L, 'grip': 1L, 'adviser': 1L, 'zzz_union': 1L, 'topple': 1L, 'zzz_boris_yeltsin': 16L, 'government': 1L, 'rules': 1L, 'ruler': 2L, 'bureaucrat': 1L, 'introduce': 1L, 'choice': 2L, 'famous': 1L, 'oversaw': 1L, 'birth': 1L, 'tank': 1L, 'entrenched': 1L, 'ruled': 1L, 'desire': 1L, 'term': 1L, 'lost': 1L, 'level': 1L, 'upper': 1L, 'contradict': 1L, 'fragile': 1L, 'democrat': 1L, 'populist': 1L, 'leader': 2L, 'heart': 1L, 'bag': 1L, 'victory': 1L, 'rock': 1L, 'quaking': 1L, 'voluntarily': 1L, 'shaking': 1L, 'revere': 1L, 'respond': 1L, 'zzz_boris_berezovsky': 1L, 'revolution': 1L, 'force': 1L, 'concert': 1L, 'past': 2L, 'mentioned': 1L, 'economic': 1L, 'election': 2L, 'fist': 1L, 'home': 1L, 'empire': 1L, 'odd': 1L, 'stood': 1L, 'driving': 1L, 'unpredictable': 1L, 'zzz_kremlin': 2L, 'surrounded': 1L, 'preserve': 2L, 'thirst': 1L, 'millennium': 1L, 'finger': 1L, 'restraint': 1L, 'surprise': 1L, 'learned': 1L, 'public': 3L, 'czar': 2L, 'body': 1L, 'notice': 1L, 'kicked': 1L, 'run': 1L, 'business': 2L, 'remembered': 1L, 'nimbly': 1L, 'free': 1L, 'broken': 2L, 'retirement': 2L, 'rebel': 1L, 'instinct': 1L, 'regretted': 1L, 'hand': 1L, 'raise': 1L, 'protect': 1L, 'unproven': 1L, 'recovering': 1L, 'getting': 1L, 'recast': 1L, 'freedom': 1L, 'taking': 1L, 'impose': 2L, 'contradiction': 1L, 'surge': 1L, 'rehired': 1L, 'credit': 2L, 'connection': 1L, 'extremes': 1L, 'place': 1L, 'military': 1L, 'successor': 1L, 'allowing': 1L, 'hold': 1L, 'deputy': 1L, 'plutocracy': 1L, 'political': 2L, 'zzz_mikhail_gorbachev': 1L, 'matter': 1L, 'seizure': 2L, 'autocrat': 1L, 'brought': 1L, 'put': 1L, 'guard': 1L, 'promise': 1L, 'financial': 1L, 'wages': 1L, 'market': 2L, 'fired': 2L, 'toppled': 1L, 'zzz_vladimir_putin': 3L, 'ordering': 1L, 'support': 1L, 'classic': 1L, 'totalitarian': 1L, 'system': 1L, 'symbolizes': 1L, 'doubt': 2L, 'zzz_russia': 3L, 'interest': 1L, 'symbolized': 1L, 'guarantor': 1L, 'tycoon': 1L, 'zzz_anatoly_chubais': 1L, 'rode': 1L, 'zzz_lenin': 4L, 'took': 1L, 'zzz_lyndon_johnson': 1L, 'minister': 1L, 'conceded': 1L, 'russian': 2L, 'highest': 1L, 'ceremonies': 1L, 'zzz_russian': 5L, 'bodyguard': 1L, 'toppling': 1L, 'word': 2L, 'succeeded': 1L, 'straight': 1L, 'official': 2L, 'refusing': 1L, 'politic': 1L, 'remain': 1L, 'future': 1L, 'supposed': 1L, 'iron': 1L, 'country': 1L, 'seamlessly': 1L, 'electrifying': 1L, 'zzz_holding': 1L, 'history': 3L, 'real': 1L, 'ritual': 1L, 'embarrassing': 1L, 'sight': 1L, 'clip': 1L, 'played': 1L, 'dacha': 1L, 'turned': 1L, 'shrewd': 1L, 'unveiled': 1L, 'ready': 1L, 'seen': 2L, 'leaving': 1L, 'surgery': 1L, 'viewed': 1L, 'sycophant': 1L, 'hound': 1L, 'democracy': 1L, 'deserves': 1L, 'prime': 1L, 'seeking': 1L, 'administration': 1L, 'feature': 1L, 'prism': 1L, 'role': 1L, 'party': 1L, 'experienced': 1L, 'tried': 1L, 'opposite': 1L, 'uprising': 1L, 'defy': 1L, 'soldier': 1L, 'loyalty': 1L, 'zzz_moscow': 1L, 'corruption': 1L, 'moment': 2L, 'purpose': 1L, 'scores': 1L, 'date': 1L, 'president': 1L, 'misjudgment': 1L, 'flourish': 1L, 'recent': 1L, 'ago': 1L, 'realized': 1L, 'crackdown': 1L, 'theater': 1L, 'surprising': 1L, 'seize': 1L, 'charges': 1L, 'republic': 1L, 'clear': 2L, 'popularity': 1L, 'steady': 1L, 'rule': 1L, 'face': 1L, 'clean': 1L, 'tenure': 1L, 'soviet': 3L, 'crafty': 1L, 'left': 2L}, {'coup': 1L, 'relinquishing': 1L, 'shot': 1L, 'office': 1L, 'represent': 1L, 'issued': 1L, 'mainly': 2L, 'mistakes': 1L, 'inconsistent': 1L, 'zzz_west': 2L, 'remarkably': 1L, 'wrought': 1L, 'cut': 1L, 'anointed': 1L, 'buses': 1L, 'character': 1L, 'created': 1L, 'age': 1L, 'zzz_chechnya': 1L, 'easy': 1L, 'speech': 1L, 'criminal': 1L, 'local': 1L, 'grip': 1L, 'adviser': 1L, 'zzz_union': 1L, 'topple': 1L, 'zzz_boris_yeltsin': 16L, 'government': 1L, 'rules': 1L, 'ruler': 2L, 'bureaucrat': 1L, 'introduce': 1L, 'choice': 2L, 'famous': 1L, 'oversaw': 1L, 'birth': 1L, 'tank': 1L, 'entrenched': 1L, 'ruled': 1L, 'desire': 1L, 'term': 1L, 'lost': 1L, 'level': 1L, 'upper': 1L, 'contradict': 1L, 'fragile': 1L, 'democrat': 1L, 'populist': 1L, 'leader': 2L, 'heart': 1L, 'bag': 1L, 'victory': 1L, 'rock': 1L, 'quaking': 1L, 'voluntarily': 1L, 'shaking': 1L, 'revere': 1L, 'respond': 1L, 'zzz_boris_berezovsky': 1L, 'revolution': 1L, 'force': 1L, 'concert': 1L, 'past': 2L, 'mentioned': 1L, 'economic': 1L, 'election': 2L, 'fist': 1L, 'home': 1L, 'empire': 1L, 'odd': 1L, 'stood': 1L, 'driving': 1L, 'unpredictable': 1L, 'zzz_kremlin': 2L, 'surrounded': 1L, 'preserve': 2L, 'thirst': 1L, 'millennium': 1L, 'finger': 1L, 'restraint': 1L, 'surprise': 1L, 'learned': 1L, 'public': 3L, 'czar': 2L, 'body': 1L, 'notice': 1L, 'kicked': 1L, 'run': 1L, 'business': 2L, 'remembered': 1L, 'nimbly': 1L, 'free': 1L, 'broken': 2L, 'retirement': 2L, 'rebel': 1L, 'instinct': 1L, 'regretted': 1L, 'hand': 1L, 'raise': 1L, 'protect': 1L, 'unproven': 1L, 'recovering': 1L, 'getting': 1L, 'recast': 1L, 'freedom': 1L, 'taking': 1L, 'impose': 2L, 'contradiction': 1L, 'surge': 1L, 'rehired': 1L, 'credit': 2L, 'connection': 1L, 'extremes': 1L, 'place': 1L, 'military': 1L, 'successor': 1L, 'allowing': 1L, 'hold': 1L, 'deputy': 1L, 'plutocracy': 1L, 'political': 2L, 'zzz_mikhail_gorbachev': 1L, 'matter': 1L, 'seizure': 2L, 'autocrat': 1L, 'brought': 1L, 'put': 1L, 'guard': 1L, 'promise': 1L, 'financial': 1L, 'wages': 1L, 'market': 2L, 'fired': 2L, 'toppled': 1L, 'zzz_vladimir_putin': 3L, 'ordering': 1L, 'support': 1L, 'classic': 1L, 'totalitarian': 1L, 'system': 1L, 'symbolizes': 1L, 'doubt': 2L, 'zzz_russia': 3L, 'interest': 1L, 'symbolized': 1L, 'guarantor': 1L, 'tycoon': 1L, 'zzz_anatoly_chubais': 1L, 'rode': 1L, 'zzz_lenin': 4L, 'took': 1L, 'zzz_lyndon_johnson': 1L, 'minister': 1L, 'conceded': 1L, 'russian': 2L, 'highest': 1L, 'ceremonies': 1L, 'zzz_russian': 5L, 'bodyguard': 1L, 'toppling': 1L, 'word': 2L, 'succeeded': 1L, 'straight': 1L, 'official': 2L, 'refusing': 1L, 'politic': 1L, 'remain': 1L, 'future': 1L, 'supposed': 1L, 'iron': 1L, 'country': 1L, 'seamlessly': 1L, 'electrifying': 1L, 'zzz_holding': 1L, 'history': 3L, 'real': 1L, 'ritual': 1L, 'embarrassing': 1L, 'sight': 1L, 'clip': 1L, 'played': 1L, 'dacha': 1L, 'turned': 1L, 'shrewd': 1L, 'unveiled': 1L, 'ready': 1L, 'seen': 2L, 'leaving': 1L, 'surgery': 1L, 'viewed': 1L, 'sycophant': 1L, 'hound': 1L, 'democracy': 1L, 'deserves': 1L, 'prime': 1L, 'seeking': 1L, 'administration': 1L, 'feature': 1L, 'prism': 1L, 'role': 1L, 'party': 1L, 'experienced': 1L, 'tried': 1L, 'opposite': 1L, 'uprising': 1L, 'defy': 1L, 'soldier': 1L, 'loyalty': 1L, 'zzz_moscow': 1L, 'corruption': 1L, 'moment': 2L, 'purpose': 1L, 'scores': 1L, 'date': 1L, 'president': 1L, 'misjudgment': 1L, 'flourish': 1L, 'recent': 1L, 'ago': 1L, 'realized': 1L, 'crackdown': 1L, 'theater': 1L, 'surprising': 1L, 'seize': 1L, 'charges': 1L, 'republic': 1L, 'clear': 2L, 'popularity': 1L, 'steady': 1L, 'rule': 1L, 'face': 1L, 'clean': 1L, 'tenure': 1L, 'soviet': 3L, 'crafty': 1L, 'left': 2L}, {'rating': 1L, 'excessive': 1L, 'chinese': 1L, 'summer': 1L, 'german': 1L, 'money': 2L, 'distribute': 1L, 'terrorist': 1L, 'installed': 2L, 'embezzlement': 1L, 'held': 1L, 'radio': 1L, 'mansion': 1L, 'shot': 1L, 'rough': 1L, 'find': 1L, 'decade': 1L, 'conjure': 1L, 'mounted': 1L, 'group': 1L, 'trigger': 1L, 'associates': 1L, 'raid': 1L, 'young': 1L, 'arrest': 2L, 'air': 1L, 'believing': 1L, 'presidential': 1L, 'fade': 1L, 'citizen': 1L, 'speaker': 1L, 'criminal': 2L, 'decades': 1L, 'earthquakes': 1L, 'gave': 1L, 'colleague': 1L, 'sound': 2L, 'executive': 1L, 'ensued': 1L, 'government': 2L, 'beat': 1L, 'chancellor': 1L, 'dan': 1L, 'multimillionaire': 1L, 'kind': 1L, 'engineered': 1L, 'coast': 2L, 'early': 2L, 'fraud': 1L, 'injuring': 1L, 'nearly': 1L, 'network': 1L, 'judge': 1L, 'stabbed': 1L, 'continued': 1L, 'fled': 1L, 'bank': 2L, 'deny': 1L, 'term': 1L, 'impresario': 1L, 'lavish': 1L, 'zzz_beatle': 2L, 'arrested': 1L, 'gun': 3L, 'indisputable': 1L, 'morning': 1L, 'collect': 1L, 'bad': 2L, 'surging': 1L, 'red': 1L, 'witches': 1L, 'found': 2L, 'blared': 1L, 'quarter': 1L, 'stiffer': 1L, 'patron': 1L, 'vision': 1L, 'zzz_san_francisco': 1L, 'newspaper': 1L, 'declared': 1L, 'disaster': 1L, 'throwing': 1L, 'testing': 1L, 'light': 1L, 'zzz_bradley': 1L, 'past': 1L, 'meted': 1L, 'doubt': 1L, 'entering': 1L, 'home': 1L, 'empire': 1L, 'sport': 1L, 'matching': 1L, 'spasm': 1L, 'taunted': 1L, 'poll': 1L, 'jewelry': 1L, 'matter': 3L, 'zzz_erik_eckholm': 1L, 'movie': 1L, 'noon': 1L, 'wail': 1L, 'attracted': 2L, 'investigation': 2L, 'impending': 1L, 'routine': 1L, 'learned': 1L, 'zzz_germany': 1L, 'zzz_new_hampshire': 1L, 'movement': 2L, 'attention': 2L, 'run': 1L, 'ability': 1L, 'business': 1L, 'zzz_falun_gong': 1L, 'confusion': 1L, 'million': 7L, 'reported': 1L, 'job': 2L, 'china': 1L, 'intruder': 1L, 'violation': 1L, 'latest': 1L, 'cult': 1L, 'cities': 2L, 'throw': 1L, 'received': 1L, 'dates': 1L, 'live': 1L, 'zzz_hubert_herring': 1L, 'zzz_texas_gov_george_bush': 1L, 'violence': 2L, 'guilty': 2L, 'quiet': 1L, 'nightclub': 1L, 'fired': 1L, 'resulting': 1L, 'barry': 1L, 'unwanted': 1L, 'contribution': 1L, 'slightly': 1L, 'comes': 1L, 'chest': 1L, 'collecting': 1L, 'theoretically': 1L, 'resurrected': 1L, 'slipped': 1L, 'point': 2L, 'wall': 1L, 'political': 1L, 'sign': 2L, 'primary': 1L, 'peer': 1L, 'follower': 1L, 'lung': 1L, 'parties': 1L, 'friend': 1L, 'loaded': 1L, 'message': 1L, 'total': 1L, 'open': 1L, 'depicting': 1L, 'zzz_mccain': 1L, 'utility': 1L, 'conference': 1L, 'strong': 1L, 'zzz_manhattan': 1L, 'jet': 1L, 'illegal': 2L, 'zzz_beijing': 1L, 'wad': 1L, 'question': 2L, 'system': 4L, 'earthquake': 1L, 'secret': 1L, 'station': 1L, 'spiritual': 1L, 'low': 1L, 'vehicle': 1L, 'jane': 1L, 'zzz_chancellor_helmut_kohl': 1L, 'john': 1L, 'tell': 1L, 'prosecutor': 1L, 'prone': 1L, 'possession': 1L, 'zzz_jennifer_lopez': 2L, 'inevitable': 1L, 'murder': 2L, 'controlled': 1L, 'ranging': 1L, 'mushroom': 1L, 'drapes': 1L, 'club': 1L, 'attempted': 1L, 'prison': 2L, 'took': 1L, 'sales': 1L, 'fund': 3L, 'cloud': 1L, 'surgeon': 1L, 'broke': 1L, 'charged': 2L, 'zzz_beatles': 1L, 'episode': 1L, 'reunification': 1L, 'photograph': 1L, 'raising': 1L, 'town': 2L, 'zzz_london': 1L, 'account': 1L, 'stolen': 1L, 'fur': 1L, 'look': 1L, 'zzz_comb': 8L, 'challenger': 2L, 'bodyguard': 1L, 'car': 1L, 'require': 1L, 'beg': 1L, 'final': 1L, 'record': 2L, 'echoes': 1L, 'warning': 1L, 'defendant': 1L, 'visit': 1L, 'zzz_george_harrison': 3L, 'zzz_sen_bill_bradley': 1L, 'led': 1L, 'similar': 1L, 'zzz_kohl': 3L, 'strongly': 1L, 'hip': 1L, 'frightened': 1L, 'ran': 1L, 'zzz_puffy_comb': 1L, 'injury': 1L, 'zzz_cold_war': 2L, 'surprisingly': 1L, 'tad': 1L, 'woman': 1L, 'terrifying': 1L, 'rap': 2L, 'sentences': 3L, 'need': 1L, 'relic': 2L, 'organizer': 1L, 'recover': 1L, 'attract': 1L, 'simple': 1L, 'chase': 1L, 'zzz_baltimore': 1L, 'siren': 5L, 'annoying': 1L, 'allegedly': 1L, 'democracy': 1L, 'bystander': 1L, 'demonstration': 1L, 'sending': 1L, 'zzz_olivia': 1L, 'member': 2L, 'started': 1L, 'high': 1L, 'role': 1L, 'angered': 1L, 'hop': 1L, 'big': 1L, 'test': 4L, 'performance': 1L, 'attack': 1L, 'dominance': 1L, 'zzz_sen_john_mccain': 1L, 'zzz_soviet': 1L, 'obsessed': 1L, 'harsh': 1L, 'driver': 1L, 'evil': 1L, 'alert': 1L, 'compared': 1L, 'schoolchildren': 1L, 'authorities': 1L, 'climbing': 1L, 'pleaded': 1L, 'judgment': 1L, 'pull': 1L, 'ago': 1L, 'forever': 1L, 'shootout': 2L, 'natural': 1L, 'wife': 1L, 'zzz_edmund_andrew': 1L, 'pulled': 3L, 'weapon': 1L, 'zzz_al_gore': 1L, 'inquiry': 1L, 'season': 1L, 'face': 1L, 'mark': 1L, 'advocates': 1L, 'put': 1L, 'wounded': 1L, 'model': 1L, 'requirement': 1L, 'zzz_john_lennon': 1L, 'protege': 3L}, {'rating': 1L, 'excessive': 1L, 'chinese': 1L, 'summer': 1L, 'german': 1L, 'money': 2L, 'distribute': 1L, 'terrorist': 1L, 'installed': 2L, 'embezzlement': 1L, 'held': 1L, 'radio': 1L, 'mansion': 1L, 'shot': 1L, 'rough': 1L, 'find': 1L, 'decade': 1L, 'conjure': 1L, 'mounted': 1L, 'group': 1L, 'trigger': 1L, 'associates': 1L, 'raid': 1L, 'young': 1L, 'arrest': 2L, 'air': 1L, 'believing': 1L, 'presidential': 1L, 'fade': 1L, 'citizen': 1L, 'speaker': 1L, 'criminal': 2L, 'decades': 1L, 'earthquakes': 1L, 'gave': 1L, 'colleague': 1L, 'sound': 2L, 'executive': 1L, 'ensued': 1L, 'government': 2L, 'beat': 1L, 'chancellor': 1L, 'dan': 1L, 'multimillionaire': 1L, 'kind': 1L, 'engineered': 1L, 'coast': 2L, 'early': 2L, 'fraud': 1L, 'injuring': 1L, 'nearly': 1L, 'network': 1L, 'judge': 1L, 'stabbed': 1L, 'continued': 1L, 'fled': 1L, 'bank': 2L, 'deny': 1L, 'term': 1L, 'impresario': 1L, 'lavish': 1L, 'zzz_beatle': 2L, 'arrested': 1L, 'gun': 3L, 'indisputable': 1L, 'morning': 1L, 'collect': 1L, 'bad': 2L, 'surging': 1L, 'red': 1L, 'witches': 1L, 'found': 2L, 'blared': 1L, 'quarter': 1L, 'stiffer': 1L, 'patron': 1L, 'vision': 1L, 'zzz_san_francisco': 1L, 'newspaper': 1L, 'declared': 1L, 'disaster': 1L, 'throwing': 1L, 'testing': 1L, 'light': 1L, 'zzz_bradley': 1L, 'past': 1L, 'meted': 1L, 'doubt': 1L, 'entering': 1L, 'home': 1L, 'empire': 1L, 'sport': 1L, 'matching': 1L, 'spasm': 1L, 'taunted': 1L, 'poll': 1L, 'jewelry': 1L, 'matter': 3L, 'zzz_erik_eckholm': 1L, 'movie': 1L, 'noon': 1L, 'wail': 1L, 'attracted': 2L, 'investigation': 2L, 'impending': 1L, 'routine': 1L, 'learned': 1L, 'zzz_germany': 1L, 'zzz_new_hampshire': 1L, 'movement': 2L, 'attention': 2L, 'run': 1L, 'ability': 1L, 'business': 1L, 'zzz_falun_gong': 1L, 'confusion': 1L, 'million': 7L, 'reported': 1L, 'job': 2L, 'china': 1L, 'intruder': 1L, 'violation': 1L, 'latest': 1L, 'cult': 1L, 'cities': 2L, 'throw': 1L, 'received': 1L, 'dates': 1L, 'live': 1L, 'zzz_hubert_herring': 1L, 'zzz_texas_gov_george_bush': 1L, 'violence': 2L, 'guilty': 2L, 'quiet': 1L, 'nightclub': 1L, 'fired': 1L, 'resulting': 1L, 'barry': 1L, 'unwanted': 1L, 'contribution': 1L, 'slightly': 1L, 'comes': 1L, 'chest': 1L, 'collecting': 1L, 'theoretically': 1L, 'resurrected': 1L, 'slipped': 1L, 'point': 2L, 'wall': 1L, 'political': 1L, 'sign': 2L, 'primary': 1L, 'peer': 1L, 'follower': 1L, 'lung': 1L, 'parties': 1L, 'friend': 1L, 'loaded': 1L, 'message': 1L, 'total': 1L, 'open': 1L, 'depicting': 1L, 'zzz_mccain': 1L, 'utility': 1L, 'conference': 1L, 'strong': 1L, 'zzz_manhattan': 1L, 'jet': 1L, 'illegal': 2L, 'zzz_beijing': 1L, 'wad': 1L, 'question': 2L, 'system': 4L, 'earthquake': 1L, 'secret': 1L, 'station': 1L, 'spiritual': 1L, 'low': 1L, 'vehicle': 1L, 'jane': 1L, 'zzz_chancellor_helmut_kohl': 1L, 'john': 1L, 'tell': 1L, 'prosecutor': 1L, 'prone': 1L, 'possession': 1L, 'zzz_jennifer_lopez': 2L, 'inevitable': 1L, 'murder': 2L, 'controlled': 1L, 'ranging': 1L, 'mushroom': 1L, 'drapes': 1L, 'club': 1L, 'attempted': 1L, 'prison': 2L, 'took': 1L, 'sales': 1L, 'fund': 3L, 'cloud': 1L, 'surgeon': 1L, 'broke': 1L, 'charged': 2L, 'zzz_beatles': 1L, 'episode': 1L, 'reunification': 1L, 'photograph': 1L, 'raising': 1L, 'town': 2L, 'zzz_london': 1L, 'account': 1L, 'stolen': 1L, 'fur': 1L, 'look': 1L, 'zzz_comb': 8L, 'challenger': 2L, 'bodyguard': 1L, 'car': 1L, 'require': 1L, 'beg': 1L, 'final': 1L, 'record': 2L, 'echoes': 1L, 'warning': 1L, 'defendant': 1L, 'visit': 1L, 'zzz_george_harrison': 3L, 'zzz_sen_bill_bradley': 1L, 'led': 1L, 'similar': 1L, 'zzz_kohl': 3L, 'strongly': 1L, 'hip': 1L, 'frightened': 1L, 'ran': 1L, 'zzz_puffy_comb': 1L, 'injury': 1L, 'zzz_cold_war': 2L, 'surprisingly': 1L, 'tad': 1L, 'woman': 1L, 'terrifying': 1L, 'rap': 2L, 'sentences': 3L, 'need': 1L, 'relic': 2L, 'organizer': 1L, 'recover': 1L, 'attract': 1L, 'simple': 1L, 'chase': 1L, 'zzz_baltimore': 1L, 'siren': 5L, 'annoying': 1L, 'allegedly': 1L, 'democracy': 1L, 'bystander': 1L, 'demonstration': 1L, 'sending': 1L, 'zzz_olivia': 1L, 'member': 2L, 'started': 1L, 'high': 1L, 'role': 1L, 'angered': 1L, 'hop': 1L, 'big': 1L, 'test': 4L, 'performance': 1L, 'attack': 1L, 'dominance': 1L, 'zzz_sen_john_mccain': 1L, 'zzz_soviet': 1L, 'obsessed': 1L, 'harsh': 1L, 'driver': 1L, 'evil': 1L, 'alert': 1L, 'compared': 1L, 'schoolchildren': 1L, 'authorities': 1L, 'climbing': 1L, 'pleaded': 1L, 'judgment': 1L, 'pull': 1L, 'ago': 1L, 'forever': 1L, 'shootout': 2L, 'natural': 1L, 'wife': 1L, 'zzz_edmund_andrew': 1L, 'pulled': 3L, 'weapon': 1L, 'zzz_al_gore': 1L, 'inquiry': 1L, 'season': 1L, 'face': 1L, 'mark': 1L, 'advocates': 1L, 'put': 1L, 'wounded': 1L, 'model': 1L, 'requirement': 1L, 'zzz_john_lennon': 1L, 'protege': 3L}, {'coup': 3L, 'zzz_huntington': 1L, 'pates': 1L, 'caused': 1L, 'stability': 1L, 'known': 1L, 'nefarious': 1L, 'deadline': 1L, 'left': 1L, 'bail': 3L, 'mayor': 1L, 'contaminated': 2L, 'tore': 1L, 'candidate': 1L, 'zzz_ministry': 1L, 'bypass': 1L, 'mishandling': 1L, 'zzz_senate': 1L, 'customer': 1L, 'government': 1L, 'food': 1L, 'big': 1L, 'internet': 2L, 'trees': 1L, 'damages': 1L, 'historic': 1L, 'grid': 1L, 'recipient': 2L, 'killed': 1L, 'easily': 1L, 'hour': 1L, 'james': 1L, 'shock': 1L, 'zzz_lee': 4L, 'miles': 1L, 'notifying': 1L, 'victory': 2L, 'found': 1L, 'security': 2L, 'quarter': 1L, 'precaution': 1L, 'referred': 1L, 'zzz_newark': 1L, 'declared': 1L, 'set': 1L, 'force': 1L, 'achieved': 1L, 'plant': 1L, 'zzz_france': 5L, 'engaging': 1L, 'donald': 1L, 'computer': 1L, 'distributor': 1L, 'suzanne': 1L, 'insurance': 1L, 'voluntary': 1L, 'nuclear': 1L, 'denied': 1L, 'flooding': 1L, 'evaluation': 1L, 'leader': 1L, 'zzz_wen_ho_lee': 1L, 'ripped': 1L, 'disputed': 1L, 'creating': 1L, 'nationwide': 1L, 'exchange': 1L, 'million': 1L, 'zzz_d_artagnan': 1L, 'refused': 1L, 'downloaded': 1L, 'french': 1L, 'ask': 1L, 'zzz_bedie': 1L, 'repairing': 1L, 'zzz_n_j': 1L, 'zzz_communication': 1L, 'defense': 1L, 'tapes': 1L, 'met': 1L, 'successes': 1L, 'country': 1L, 'sensitive': 1L, 'zzz_n_y': 1L, 'loudly': 1L, 'figures': 1L, 'act': 1L, 'action': 1L, 'military': 1L, 'delete': 1L, 'repair': 1L, 'truffled': 1L, 'simple': 1L, 'merely': 1L, 'retailer': 1L, 'hearing': 2L, 'included': 1L, 'zzz_marian_burros': 1L, 'reached': 1L, 'total': 1L, 'armed': 1L, 'announced': 1L, 'toppled': 1L, 'quality': 1L, 'secret': 2L, 'noting': 1L, 'low': 1L, 'storm': 4L, 'zzz_welfare': 3L, 'war': 1L, 'prosecutor': 2L, 'files': 1L, 'billion': 1L, 'turned': 1L, 'company': 4L, 'took': 1L, 'released': 1L, 'part': 1L, 'recalled': 1L, 'adult': 1L, 'nonviolent': 1L, 'effort': 1L, 'independence': 1L, 'case': 1L, 'zzz_ivory_coast': 2L, 'looting': 1L, 'showed': 1L, 'avalanches': 1L, 'recall': 3L, 'terrines': 1L, 'likely': 1L, 'roof': 1L, 'preparation': 1L, 'cost': 1L, 'zzz_africa': 2L, 'monument': 1L, 'aid': 1L, 'devious': 1L, 'ousted': 1L, 'called': 4L, 'zzz_versailles': 1L, 'mini': 1L, 'ordered': 1L, 'palace': 1L, 'division': 1L, 'history': 1L, 'surface': 1L, 'evidence': 1L, 'high': 1L, 'gale': 1L, 'critic': 1L, 'sought': 1L, 'sees': 1L, 'huge': 1L, 'damaged': 1L, 'open': 1L, 'trial': 1L, 'deadly': 1L, 'damage': 2L, 'junta': 1L, 'potentially': 1L, 'luxury': 1L, 'forces': 1L, 'zzz_frances': 1L, 'listeria': 1L, 'thousand': 2L, 'zzz_europe': 2L, 'product': 2L, 'electric': 1L, 'prosperity': 1L, 'soldier': 1L, 'reach': 1L, 'lab': 2L, 'scientist': 2L, 'catalog': 1L, 'zzz_new_york_city_mayor_rudolph_giuliani': 1L, 'ethnic': 1L, 'peppercorn': 1L, 'wind': 1L, 'spree': 1L, 'data': 1L, 'ago': 1L, 'especially': 1L, 'largely': 1L, 'considered': 1L, 'weapon': 1L, 'bacterium': 1L, 'chief': 1L, 'zzz_culture': 1L, 'pay': 1L, 'model': 1L, 'usual': 1L, 'counted': 1L, 'zzz_los_alamos_national_laboratory': 1L, 'zzz_los_alamos': 1L}, {'coup': 3L, 'zzz_huntington': 1L, 'pates': 1L, 'caused': 1L, 'stability': 1L, 'known': 1L, 'nefarious': 1L, 'deadline': 1L, 'left': 1L, 'bail': 3L, 'mayor': 1L, 'contaminated': 2L, 'tore': 1L, 'candidate': 1L, 'zzz_ministry': 1L, 'bypass': 1L, 'mishandling': 1L, 'zzz_senate': 1L, 'customer': 1L, 'government': 1L, 'food': 1L, 'big': 1L, 'internet': 2L, 'trees': 1L, 'damages': 1L, 'historic': 1L, 'grid': 1L, 'recipient': 2L, 'killed': 1L, 'easily': 1L, 'hour': 1L, 'james': 1L, 'shock': 1L, 'zzz_lee': 4L, 'miles': 1L, 'notifying': 1L, 'victory': 2L, 'found': 1L, 'security': 2L, 'quarter': 1L, 'precaution': 1L, 'referred': 1L, 'zzz_newark': 1L, 'declared': 1L, 'set': 1L, 'force': 1L, 'achieved': 1L, 'plant': 1L, 'zzz_france': 5L, 'engaging': 1L, 'donald': 1L, 'computer': 1L, 'distributor': 1L, 'suzanne': 1L, 'insurance': 1L, 'voluntary': 1L, 'nuclear': 1L, 'denied': 1L, 'flooding': 1L, 'evaluation': 1L, 'leader': 1L, 'zzz_wen_ho_lee': 1L, 'ripped': 1L, 'disputed': 1L, 'creating': 1L, 'nationwide': 1L, 'exchange': 1L, 'million': 1L, 'zzz_d_artagnan': 1L, 'refused': 1L, 'downloaded': 1L, 'french': 1L, 'ask': 1L, 'zzz_bedie': 1L, 'repairing': 1L, 'zzz_n_j': 1L, 'zzz_communication': 1L, 'defense': 1L, 'tapes': 1L, 'met': 1L, 'successes': 1L, 'country': 1L, 'sensitive': 1L, 'zzz_n_y': 1L, 'loudly': 1L, 'figures': 1L, 'act': 1L, 'action': 1L, 'military': 1L, 'delete': 1L, 'repair': 1L, 'truffled': 1L, 'simple': 1L, 'merely': 1L, 'retailer': 1L, 'hearing': 2L, 'included': 1L, 'zzz_marian_burros': 1L, 'reached': 1L, 'total': 1L, 'armed': 1L, 'announced': 1L, 'toppled': 1L, 'quality': 1L, 'secret': 2L, 'noting': 1L, 'low': 1L, 'storm': 4L, 'zzz_welfare': 3L, 'war': 1L, 'prosecutor': 2L, 'files': 1L, 'billion': 1L, 'turned': 1L, 'company': 4L, 'took': 1L, 'released': 1L, 'part': 1L, 'recalled': 1L, 'adult': 1L, 'nonviolent': 1L, 'effort': 1L, 'independence': 1L, 'case': 1L, 'zzz_ivory_coast': 2L, 'looting': 1L, 'showed': 1L, 'avalanches': 1L, 'recall': 3L, 'terrines': 1L, 'likely': 1L, 'roof': 1L, 'preparation': 1L, 'cost': 1L, 'zzz_africa': 2L, 'monument': 1L, 'aid': 1L, 'devious': 1L, 'ousted': 1L, 'called': 4L, 'zzz_versailles': 1L, 'mini': 1L, 'ordered': 1L, 'palace': 1L, 'division': 1L, 'history': 1L, 'surface': 1L, 'evidence': 1L, 'high': 1L, 'gale': 1L, 'critic': 1L, 'sought': 1L, 'sees': 1L, 'huge': 1L, 'damaged': 1L, 'open': 1L, 'trial': 1L, 'deadly': 1L, 'damage': 2L, 'junta': 1L, 'potentially': 1L, 'luxury': 1L, 'forces': 1L, 'zzz_frances': 1L, 'listeria': 1L, 'thousand': 2L, 'zzz_europe': 2L, 'product': 2L, 'electric': 1L, 'prosperity': 1L, 'soldier': 1L, 'reach': 1L, 'lab': 2L, 'scientist': 2L, 'catalog': 1L, 'zzz_new_york_city_mayor_rudolph_giuliani': 1L, 'ethnic': 1L, 'peppercorn': 1L, 'wind': 1L, 'spree': 1L, 'data': 1L, 'ago': 1L, 'especially': 1L, 'largely': 1L, 'considered': 1L, 'weapon': 1L, 'bacterium': 1L, 'chief': 1L, 'zzz_culture': 1L, 'pay': 1L, 'model': 1L, 'usual': 1L, 'counted': 1L, 'zzz_los_alamos_national_laboratory': 1L, 'zzz_los_alamos': 1L}, {'selection': 1L, 'help': 1L, 'sentence': 1L, 'zzz_chairman': 1L, 'consent': 2L, 'executive': 1L, 'rest': 1L, 'reviewed': 1L, 'cottage': 1L, 'manager': 2L, 'zzz_new_york': 1L, 'carefully': 2L, 'follow': 1L, 'wage': 1L, 'hurry': 1L, 'personal': 1L, 'purport': 1L, 'writing': 1L, 'passive': 1L, 'analytic': 1L, 'governmental': 1L, 'convoluted': 1L, 'easy': 1L, 'developed': 1L, 'integrate': 2L, 'easier': 1L, 'crucial': 1L, 'greater': 1L, 'read': 2L, 'advocate': 1L, 'slicing': 1L, 'increases': 1L, 'qualified': 1L, 'decide': 1L, 'ambition': 1L, 'average': 1L, 'difference': 1L, 'discuss': 1L, 'bigger': 1L, 'entire': 1L, 'term': 1L, 'effectiveness': 1L, 'companies': 3L, 'summary': 2L, 'turgid': 1L, 'withdrawal': 3L, 'stock': 2L, 'experiences': 3L, 'prospectus': 1L, 'consultant': 2L, 'right': 2L, 'determine': 1L, 'pronoun': 1L, 'direct': 1L, 'past': 1L, 'growth': 3L, 'perspective': 1L, 'sustaining': 1L, 'investment': 1L, 'philosophy': 1L, 'subject': 1L, 'aim': 1L, 'capacity': 1L, 'parent': 2L, 'expert': 1L, 'investing': 1L, 'sum': 1L, 'interference': 1L, 'integrative': 1L, 'creative': 1L, 'increase': 1L, 'contained': 1L, 'capital': 1L, 'approach': 1L, 'public': 1L, 'contrast': 1L, 'common': 1L, 'zzz_texaco': 2L, 'stamping': 1L, 'business': 2L, 'importance': 1L, 'guardian': 2L, 'sprung': 1L, 'interfere': 1L, 'complicated': 1L, 'proxy': 2L, 'highlight': 1L, 'active': 1L, 'relating': 1L, 'standard': 1L, 'beginning': 1L, 'simpler': 1L, 'faced': 1L, 'language': 4L, 'getting': 1L, 'technical': 1L, 'industry': 2L, 'david': 1L, 'turn': 1L, 'american': 1L, 'wrote': 1L, 'opinion': 1L, 'zzz_gale': 1L, 'consulting': 1L, 'letter': 2L, 'revenue': 1L, 'simple': 1L, 'zzz_marketing': 4L, 'thereof': 1L, 'primarily': 2L, 'vote': 1L, 'impossible': 1L, 'offered': 2L, 'earning': 1L, 'instill': 1L, 'strong': 1L, 'start': 3L, 'leading': 1L, 'strategy': 1L, 'zzz_securities': 2L, 'handbook': 1L, 'statement': 2L, 'basic': 1L, 'war': 1L, 'minor': 3L, 'firm': 1L, 'zzz_exchange_commission': 2L, 'complete': 1L, 'offer': 1L, 'company': 4L, 'fund': 6L, 'part': 2L, 'understand': 1L, 'brochure': 1L, 'synergistic': 1L, 'dicing': 1L, 'believe': 1L, 'effort': 1L, 'sound': 1L, 'account': 1L, 'look': 2L, 'plain': 3L, 'zzz_rutgers_university': 1L, 'matter': 1L, 'simplifying': 1L, 'making': 1L, 'buzzword': 1L, 'detailed': 1L, 'century': 1L, 'reader': 1L, 'manner': 1L, 'sentences': 1L, 'need': 1L, 'zzz_peter_bijur': 1L, 'seek': 2L, 'attach': 1L, 'information': 2L, 'mutual': 3L, 'practices': 1L, 'doctor': 1L, 'cumulative': 1L, 'ideas': 3L, 'zzz_sec': 1L, 'field': 2L, 'entirety': 1L, 'potential': 1L, 'department': 1L, 'performance': 1L, 'document': 4L, 'zzz_siegel': 1L, 'privileged': 1L, 'toughest': 1L, 'draw': 3L, 'samples': 1L, 'hand': 2L, 'simplify': 1L, 'important': 1L, 'shareholder': 1L, 'plan': 2L, 'plenty': 1L, 'urges': 1L, 'recent': 1L, 'short': 1L, 'appreciation': 1L, 'professor': 1L, 'legalese': 1L, 'chief': 1L, 'verb': 1L, 'deposit': 3L, 'fundamental': 1L, 'requires': 1L, 'order': 1L, 'meet': 1L}, {'selection': 1L, 'help': 1L, 'sentence': 1L, 'zzz_chairman': 1L, 'consent': 2L, 'executive': 1L, 'rest': 1L, 'reviewed': 1L, 'cottage': 1L, 'manager': 2L, 'zzz_new_york': 1L, 'carefully': 2L, 'follow': 1L, 'wage': 1L, 'hurry': 1L, 'personal': 1L, 'purport': 1L, 'writing': 1L, 'passive': 1L, 'analytic': 1L, 'governmental': 1L, 'convoluted': 1L, 'easy': 1L, 'developed': 1L, 'integrate': 2L, 'easier': 1L, 'crucial': 1L, 'greater': 1L, 'read': 2L, 'advocate': 1L, 'slicing': 1L, 'increases': 1L, 'qualified': 1L, 'decide': 1L, 'ambition': 1L, 'average': 1L, 'difference': 1L, 'discuss': 1L, 'bigger': 1L, 'entire': 1L, 'term': 1L, 'effectiveness': 1L, 'companies': 3L, 'summary': 2L, 'turgid': 1L, 'withdrawal': 3L, 'stock': 2L, 'experiences': 3L, 'prospectus': 1L, 'consultant': 2L, 'right': 2L, 'determine': 1L, 'pronoun': 1L, 'direct': 1L, 'past': 1L, 'growth': 3L, 'perspective': 1L, 'sustaining': 1L, 'investment': 1L, 'philosophy': 1L, 'subject': 1L, 'aim': 1L, 'capacity': 1L, 'parent': 2L, 'expert': 1L, 'investing': 1L, 'sum': 1L, 'interference': 1L, 'integrative': 1L, 'creative': 1L, 'increase': 1L, 'contained': 1L, 'capital': 1L, 'approach': 1L, 'public': 1L, 'contrast': 1L, 'common': 1L, 'zzz_texaco': 2L, 'stamping': 1L, 'business': 2L, 'importance': 1L, 'guardian': 2L, 'sprung': 1L, 'interfere': 1L, 'complicated': 1L, 'proxy': 2L, 'highlight': 1L, 'active': 1L, 'relating': 1L, 'standard': 1L, 'beginning': 1L, 'simpler': 1L, 'faced': 1L, 'language': 4L, 'getting': 1L, 'technical': 1L, 'industry': 2L, 'david': 1L, 'turn': 1L, 'american': 1L, 'wrote': 1L, 'opinion': 1L, 'zzz_gale': 1L, 'consulting': 1L, 'letter': 2L, 'revenue': 1L, 'simple': 1L, 'zzz_marketing': 4L, 'thereof': 1L, 'primarily': 2L, 'vote': 1L, 'impossible': 1L, 'offered': 2L, 'earning': 1L, 'instill': 1L, 'strong': 1L, 'start': 3L, 'leading': 1L, 'strategy': 1L, 'zzz_securities': 2L, 'handbook': 1L, 'statement': 2L, 'basic': 1L, 'war': 1L, 'minor': 3L, 'firm': 1L, 'zzz_exchange_commission': 2L, 'complete': 1L, 'offer': 1L, 'company': 4L, 'fund': 6L, 'part': 2L, 'understand': 1L, 'brochure': 1L, 'synergistic': 1L, 'dicing': 1L, 'believe': 1L, 'effort': 1L, 'sound': 1L, 'account': 1L, 'look': 2L, 'plain': 3L, 'zzz_rutgers_university': 1L, 'matter': 1L, 'simplifying': 1L, 'making': 1L, 'buzzword': 1L, 'detailed': 1L, 'century': 1L, 'reader': 1L, 'manner': 1L, 'sentences': 1L, 'need': 1L, 'zzz_peter_bijur': 1L, 'seek': 2L, 'attach': 1L, 'information': 2L, 'mutual': 3L, 'practices': 1L, 'doctor': 1L, 'cumulative': 1L, 'ideas': 3L, 'zzz_sec': 1L, 'field': 2L, 'entirety': 1L, 'potential': 1L, 'department': 1L, 'performance': 1L, 'document': 4L, 'zzz_siegel': 1L, 'privileged': 1L, 'toughest': 1L, 'draw': 3L, 'samples': 1L, 'hand': 2L, 'simplify': 1L, 'important': 1L, 'shareholder': 1L, 'plan': 2L, 'plenty': 1L, 'urges': 1L, 'recent': 1L, 'short': 1L, 'appreciation': 1L, 'professor': 1L, 'legalese': 1L, 'chief': 1L, 'verb': 1L, 'deposit': 3L, 'fundamental': 1L, 'requires': 1L, 'order': 1L, 'meet': 1L}, {'rating': 2L, 'passages': 1L, 'consider': 1L, 'represent': 1L, 'existing': 1L, 'selection': 1L, 'identify': 1L, 'zzz_certificates': 2L, 'disciples': 1L, 'eligible': 3L, 'iii': 2L, 'warrant': 1L, 'counsel': 1L, 'fall': 1L, 'applying': 1L, 'installed': 1L, 'procedures': 2L, 'condition': 2L, 'processes': 1L, 'list': 3L, 'identified': 1L, 'fewer': 1L, 'benefit': 1L, 'turgid': 1L, 'withdrawal': 1L, 'requirement': 1L, 'financial': 1L, 'series': 2L, 'hasn': 1L, 'related': 4L, 'computer': 5L, 'design': 1L, 'result': 1L, 'complete': 1L, 'respect': 3L, 'materially': 1L, 'subject': 1L, 'delivered': 2L, 'accomplish': 1L, 'zzz_lutz': 2L, 'written': 3L, 'supplier': 1L, 'insolvent': 1L, 'approach': 1L, 'warranties': 1L, 'trap': 1L, 'notice': 3L, 'run': 1L, 'business': 3L, 'selecting': 1L, 'deliver': 1L, 'agreement': 1L, 'completely': 1L, 'relating': 1L, 'hand': 1L, 'throw': 1L, 'improve': 1L, 'suggested': 1L, 'received': 1L, 'language': 1L, 'employees': 1L, 'amount': 1L, 'hopeless': 1L, 'opinion': 1L, 'asked': 2L, 'comes': 1L, 'breathtaking': 1L, 'clause': 2L, 'approximate': 1L, 'aggregate': 1L, 'utilized': 1L, 'simply': 1L, 'apply': 1L, 'zzz_account': 4L, 'receivable': 2L, 'dated': 1L, 'additional': 11L, 'addition': 4L, 'transfer': 2L, 'give': 1L, 'system': 4L, 'decode': 1L, 'needed': 2L, 'reduction': 1L, 'interest': 2L, 'assessment': 1L, 'inefficient': 1L, 'completed': 1L, 'delivery': 1L, 'automated': 2L, 'cases': 1L, 'careful': 1L, 'true': 1L, 'behalf': 1L, 'circumstances': 1L, 'account': 9L, 'word': 2L, 'plain': 1L, 'transferred': 1L, 'conveyance': 1L, 'believed': 1L, 'making': 1L, 'zzz_automatic': 1L, 'participation': 7L, 'force': 1L, 'receivables': 4L, 'outstanding': 2L, 'cited': 1L, 'talking': 1L, 'file': 2L, 'need': 1L, 'technology': 1L, 'trustee': 4L, 'date': 4L, 'goal': 1L, 'adverse': 1L, 'department': 2L, 'document': 1L, 'revision': 2L, 'provided': 3L, 'assignment': 4L, 'zzz_purchasing': 1L, 'designed': 1L, 'included': 1L, 'fervent': 1L, 'pool': 1L, 'representation': 1L}, {'rating': 2L, 'passages': 1L, 'consider': 1L, 'represent': 1L, 'existing': 1L, 'selection': 1L, 'identify': 1L, 'zzz_certificates': 2L, 'disciples': 1L, 'eligible': 3L, 'iii': 2L, 'warrant': 1L, 'counsel': 1L, 'fall': 1L, 'applying': 1L, 'installed': 1L, 'procedures': 2L, 'condition': 2L, 'processes': 1L, 'list': 3L, 'identified': 1L, 'fewer': 1L, 'benefit': 1L, 'turgid': 1L, 'withdrawal': 1L, 'requirement': 1L, 'financial': 1L, 'series': 2L, 'hasn': 1L, 'related': 4L, 'computer': 5L, 'design': 1L, 'result': 1L, 'complete': 1L, 'respect': 3L, 'materially': 1L, 'subject': 1L, 'delivered': 2L, 'accomplish': 1L, 'zzz_lutz': 2L, 'written': 3L, 'supplier': 1L, 'insolvent': 1L, 'approach': 1L, 'warranties': 1L, 'trap': 1L, 'notice': 3L, 'run': 1L, 'business': 3L, 'selecting': 1L, 'deliver': 1L, 'agreement': 1L, 'completely': 1L, 'relating': 1L, 'hand': 1L, 'throw': 1L, 'improve': 1L, 'suggested': 1L, 'received': 1L, 'language': 1L, 'employees': 1L, 'amount': 1L, 'hopeless': 1L, 'opinion': 1L, 'asked': 2L, 'comes': 1L, 'breathtaking': 1L, 'clause': 2L, 'approximate': 1L, 'aggregate': 1L, 'utilized': 1L, 'simply': 1L, 'apply': 1L, 'zzz_account': 4L, 'receivable': 2L, 'dated': 1L, 'additional': 11L, 'addition': 4L, 'transfer': 2L, 'give': 1L, 'system': 4L, 'decode': 1L, 'needed': 2L, 'reduction': 1L, 'interest': 2L, 'assessment': 1L, 'inefficient': 1L, 'completed': 1L, 'delivery': 1L, 'automated': 2L, 'cases': 1L, 'careful': 1L, 'true': 1L, 'behalf': 1L, 'circumstances': 1L, 'account': 9L, 'word': 2L, 'plain': 1L, 'transferred': 1L, 'conveyance': 1L, 'believed': 1L, 'making': 1L, 'zzz_automatic': 1L, 'participation': 7L, 'force': 1L, 'receivables': 4L, 'outstanding': 2L, 'cited': 1L, 'talking': 1L, 'file': 2L, 'need': 1L, 'technology': 1L, 'trustee': 4L, 'date': 4L, 'goal': 1L, 'adverse': 1L, 'department': 2L, 'document': 1L, 'revision': 2L, 'provided': 3L, 'assignment': 4L, 'zzz_purchasing': 1L, 'designed': 1L, 'included': 1L, 'fervent': 1L, 'pool': 1L, 'representation': 1L}, {'represent': 1L, 'executed': 1L, 'shot': 1L, 'consider': 1L, 'proposed': 1L, 'flesh': 5L, 'german': 1L, 'forbidden': 1L, 'supported': 1L, 'focus': 1L, 'zzz_u_s': 1L, 'beset': 1L, 'brain': 1L, 'mile': 1L, 'zzz_new_york': 1L, 'oven': 1L, 'agricultural': 1L, 'captain': 2L, 'brig': 1L, 'debate': 1L, 'phenomenon': 2L, 'dismaying': 1L, 'cow': 1L, 'cut': 4L, 'patches': 1L, 'propensity': 1L, 'thinking': 1L, 'ruin': 1L, 'bell': 1L, 'crew': 1L, 'culinary': 1L, 'spread': 1L, 'chewing': 1L, 'zzz_berkeley': 1L, 'bout': 1L, 'atavistic': 1L, 'decades': 1L, 'merely': 1L, 'limbo': 1L, 'southwest': 1L, 'lived': 1L, 'animal': 1L, 'myth': 3L, 'food': 2L, 'horror': 1L, 'advocate': 1L, 'assumed': 1L, 'nation': 1L, 'dark': 1L, 'despite': 1L, 'cook': 1L, 'zzz_california': 1L, 'accepted': 1L, 'falling': 1L, 'advanced': 1L, 'societies': 1L, 'desire': 1L, 'enemy': 1L, 'ancestor': 1L, 'showed': 1L, 'airman': 1L, 'course': 2L, 'issue': 1L, 'feast': 1L, 'remove': 1L, 'disbelief': 1L, 'try': 1L, 'book': 2L, 'form': 1L, 'burned': 2L, 'zzz_western_europe': 2L, 'found': 2L, 'beneath': 1L, 'river': 1L, 'summarily': 1L, 'noted': 1L, 'bone': 1L, 'referred': 1L, 'burial': 1L, 'delicately': 1L, 'revolution': 1L, 'accuser': 1L, 'challenged': 1L, 'acquired': 1L, 'house': 1L, 'reported': 1L, 'arouses': 1L, 'japanese': 1L, 'dead': 1L, 'past': 1L, 'strongest': 1L, 'countrymen': 1L, 'desperate': 1L, 'polish': 2L, 'close': 1L, 'operation': 1L, 'epithet': 1L, 'bizarre': 1L, 'concern': 1L, 'zzz_australia': 1L, 'neanderthal': 2L, 'expert': 1L, 'sun': 1L, 'cooking': 1L, 'washed': 1L, 'jocular': 1L, 'find': 1L, 'crush': 1L, 'mate': 1L, 'suspect': 1L, 'civilization': 1L, 'zzz_papua_new_guinea': 1L, 'nurse': 1L, 'numerous': 1L, 'method': 1L, 'oversized': 1L, 'refer': 1L, 'revealing': 1L, 'survivor': 2L, 'eating': 5L, 'belief': 1L, 'leg': 2L, 'routine': 1L, 'sole': 1L, 'pieces': 1L, 'french': 3L, 'broken': 1L, 'base': 1L, 'justify': 1L, 'instinct': 1L, 'skeleton': 1L, 'engaged': 1L, 'archaeologist': 2L, 'cabbage': 1L, 'extreme': 1L, 'central': 1L, 'consumption': 1L, 'zzz_n_m': 1L, 'met': 1L, 'study': 1L, 'ritual': 3L, 'guilty': 2L, 'sacrament': 1L, 'yarn': 1L, 'perhap': 1L, 'les': 1L, 'cradle': 1L, 'suggestion': 1L, 'social': 2L, 'intent': 1L, 'skepticism': 1L, 'shiny': 1L, 'terrorized': 1L, 'unconvincing': 1L, 'zzz_world_war_ii': 1L, 'zzz_paleolithic': 1L, 'natural': 1L, 'extremis': 1L, 'wall': 1L, 'question': 1L, 'pot': 3L, 'recycling': 1L, 'symbolic': 1L, 'zzz_garvey': 1L, 'disease': 1L, 'hopes': 1L, 'lies': 1L, 'moral': 1L, 'names': 1L, 'zzz_state_university': 2L, 'extinct': 1L, 'improvement': 1L, 'shipmates': 1L, 'horrid': 1L, 'doubtless': 2L, 'ancient': 1L, 'zzz_jeffrey_dahmer': 1L, 'resort': 1L, 'leading': 1L, 'support': 1L, 'century': 1L, 'paleoanthropologist': 1L, 'frog': 2L, 'mark': 1L, 'gig': 1L, 'macabre': 1L, 'doubt': 1L, 'zzz_arizona': 1L, 'died': 1L, 'heritage': 1L, 'show': 1L, 'captives': 1L, 'australian': 1L, 'participated': 1L, 'war': 1L, 'recovered': 1L, 'happy': 1L, 'zzz_arizona_state_university': 1L, 'institutionalized': 1L, 'hard': 1L, 'missionaries': 1L, 'repast': 1L, 'allegedly': 1L, 'historian': 1L, 'funerary': 1L, 'turned': 1L, 'mad': 1L, 'peaceful': 1L, 'fore': 1L, 'bold': 1L, 'part': 2L, 'grisly': 1L, 'zzz_france': 1L, 'folklore': 1L, 'muscles': 1L, 'known': 1L, 'zzz_nancy': 2L, 'zzz_tim_white': 2L, 'believe': 1L, 'convinced': 1L, 'eat': 2L, 'population': 1L, 'case': 2L, 'tide': 1L, 'account': 1L, 'circumstantial': 1L, 'zzz_victoria': 1L, 'skull': 1L, 'lament': 1L, 'rival': 1L, 'reliable': 1L, 'zzz_stony_brook': 1L, 'smooth': 1L, 'told': 1L, 'roof': 1L, 'preparation': 1L, 'remain': 3L, 'cannibal': 3L, 'zzz_aboriginal': 1L, 'supposed': 1L, 'behavior': 1L, 'magazine': 1L, 'radius': 1L, 'primitive': 2L, 'cracked': 1L, 'anthropologist': 1L, 'control': 1L, 'claim': 1L, 'headhunting': 1L, 'inhabited': 1L, 'expedition': 1L, 'taste': 1L, 'stripped': 1L, 'antithesis': 1L, 'modern': 1L, 'mind': 1L, 'site': 1L, 'deep': 1L, 'evidence': 3L, 'topic': 1L, 'consumed': 1L, 'critic': 1L, 'writes': 2L, 'fanciful': 1L, 'attributed': 1L, 'scavenger': 1L, 'bones': 6L, 'seen': 1L, 'zzz_rhone': 1L, 'species': 1L, 'influenced': 1L, 'zzz_christianity': 1L, 'cave': 1L, 'adversaries': 1L, 'rubbed': 1L, 'maligned': 1L, 'savor': 1L, 'zzz_aztec': 1L, 'belong': 1L, 'tip': 1L, 'american': 3L, 'dismissed': 2L, 'tight': 1L, 'relatives': 2L, 'strange': 1L, 'ogres': 1L, 'widely': 1L, 'peoples': 2L, 'finding': 2L, 'enemies': 1L, 'survival': 1L, 'dated': 1L, 'clear': 1L, 'practice': 2L, 'indian': 3L, 'zzz_central_african_republic': 1L, 'sacrifice': 2L, 'reporting': 1L, 'southern': 1L, 'polite': 1L, 'companion': 2L, 'reflect': 1L, 'regeneration': 1L, 'designed': 1L, 'echoes': 1L, 'buried': 1L, 'zzz_john_dower': 1L, 'marrow': 1L, 'revisionism': 1L, 'tongue': 1L, 'refrigerator': 1L, 'ago': 5L, 'zzz_anthropology': 2L, 'paradigm': 1L, 'practiced': 2L, 'closet': 1L, 'blood': 1L, 'possessed': 1L, 'domination': 1L, 'deer': 1L, 'zzz_anasazi': 5L, 'cooked': 1L, 'practices': 1L, 'mass': 1L, 'qualities': 1L, 'embracing': 1L, 'position': 1L, 'zzz_cannibalism': 14L, 'surface': 1L, 'liver': 1L}, {'represent': 1L, 'executed': 1L, 'shot': 1L, 'consider': 1L, 'proposed': 1L, 'flesh': 5L, 'german': 1L, 'forbidden': 1L, 'supported': 1L, 'focus': 1L, 'zzz_u_s': 1L, 'beset': 1L, 'brain': 1L, 'mile': 1L, 'zzz_new_york': 1L, 'oven': 1L, 'agricultural': 1L, 'captain': 2L, 'brig': 1L, 'debate': 1L, 'phenomenon': 2L, 'dismaying': 1L, 'cow': 1L, 'cut': 4L, 'patches': 1L, 'propensity': 1L, 'thinking': 1L, 'ruin': 1L, 'bell': 1L, 'crew': 1L, 'culinary': 1L, 'spread': 1L, 'chewing': 1L, 'zzz_berkeley': 1L, 'bout': 1L, 'atavistic': 1L, 'decades': 1L, 'merely': 1L, 'limbo': 1L, 'southwest': 1L, 'lived': 1L, 'animal': 1L, 'myth': 3L, 'food': 2L, 'horror': 1L, 'advocate': 1L, 'assumed': 1L, 'nation': 1L, 'dark': 1L, 'despite': 1L, 'cook': 1L, 'zzz_california': 1L, 'accepted': 1L, 'falling': 1L, 'advanced': 1L, 'societies': 1L, 'desire': 1L, 'enemy': 1L, 'ancestor': 1L, 'showed': 1L, 'airman': 1L, 'course': 2L, 'issue': 1L, 'feast': 1L, 'remove': 1L, 'disbelief': 1L, 'try': 1L, 'book': 2L, 'form': 1L, 'burned': 2L, 'zzz_western_europe': 2L, 'found': 2L, 'beneath': 1L, 'river': 1L, 'summarily': 1L, 'noted': 1L, 'bone': 1L, 'referred': 1L, 'burial': 1L, 'delicately': 1L, 'revolution': 1L, 'accuser': 1L, 'challenged': 1L, 'acquired': 1L, 'house': 1L, 'reported': 1L, 'arouses': 1L, 'japanese': 1L, 'dead': 1L, 'past': 1L, 'strongest': 1L, 'countrymen': 1L, 'desperate': 1L, 'polish': 2L, 'close': 1L, 'operation': 1L, 'epithet': 1L, 'bizarre': 1L, 'concern': 1L, 'zzz_australia': 1L, 'neanderthal': 2L, 'expert': 1L, 'sun': 1L, 'cooking': 1L, 'washed': 1L, 'jocular': 1L, 'find': 1L, 'crush': 1L, 'mate': 1L, 'suspect': 1L, 'civilization': 1L, 'zzz_papua_new_guinea': 1L, 'nurse': 1L, 'numerous': 1L, 'method': 1L, 'oversized': 1L, 'refer': 1L, 'revealing': 1L, 'survivor': 2L, 'eating': 5L, 'belief': 1L, 'leg': 2L, 'routine': 1L, 'sole': 1L, 'pieces': 1L, 'french': 3L, 'broken': 1L, 'base': 1L, 'justify': 1L, 'instinct': 1L, 'skeleton': 1L, 'engaged': 1L, 'archaeologist': 2L, 'cabbage': 1L, 'extreme': 1L, 'central': 1L, 'consumption': 1L, 'zzz_n_m': 1L, 'met': 1L, 'study': 1L, 'ritual': 3L, 'guilty': 2L, 'sacrament': 1L, 'yarn': 1L, 'perhap': 1L, 'les': 1L, 'cradle': 1L, 'suggestion': 1L, 'social': 2L, 'intent': 1L, 'skepticism': 1L, 'shiny': 1L, 'terrorized': 1L, 'unconvincing': 1L, 'zzz_world_war_ii': 1L, 'zzz_paleolithic': 1L, 'natural': 1L, 'extremis': 1L, 'wall': 1L, 'question': 1L, 'pot': 3L, 'recycling': 1L, 'symbolic': 1L, 'zzz_garvey': 1L, 'disease': 1L, 'hopes': 1L, 'lies': 1L, 'moral': 1L, 'names': 1L, 'zzz_state_university': 2L, 'extinct': 1L, 'improvement': 1L, 'shipmates': 1L, 'horrid': 1L, 'doubtless': 2L, 'ancient': 1L, 'zzz_jeffrey_dahmer': 1L, 'resort': 1L, 'leading': 1L, 'support': 1L, 'century': 1L, 'paleoanthropologist': 1L, 'frog': 2L, 'mark': 1L, 'gig': 1L, 'macabre': 1L, 'doubt': 1L, 'zzz_arizona': 1L, 'died': 1L, 'heritage': 1L, 'show': 1L, 'captives': 1L, 'australian': 1L, 'participated': 1L, 'war': 1L, 'recovered': 1L, 'happy': 1L, 'zzz_arizona_state_university': 1L, 'institutionalized': 1L, 'hard': 1L, 'missionaries': 1L, 'repast': 1L, 'allegedly': 1L, 'historian': 1L, 'funerary': 1L, 'turned': 1L, 'mad': 1L, 'peaceful': 1L, 'fore': 1L, 'bold': 1L, 'part': 2L, 'grisly': 1L, 'zzz_france': 1L, 'folklore': 1L, 'muscles': 1L, 'known': 1L, 'zzz_nancy': 2L, 'zzz_tim_white': 2L, 'believe': 1L, 'convinced': 1L, 'eat': 2L, 'population': 1L, 'case': 2L, 'tide': 1L, 'account': 1L, 'circumstantial': 1L, 'zzz_victoria': 1L, 'skull': 1L, 'lament': 1L, 'rival': 1L, 'reliable': 1L, 'zzz_stony_brook': 1L, 'smooth': 1L, 'told': 1L, 'roof': 1L, 'preparation': 1L, 'remain': 3L, 'cannibal': 3L, 'zzz_aboriginal': 1L, 'supposed': 1L, 'behavior': 1L, 'magazine': 1L, 'radius': 1L, 'primitive': 2L, 'cracked': 1L, 'anthropologist': 1L, 'control': 1L, 'claim': 1L, 'headhunting': 1L, 'inhabited': 1L, 'expedition': 1L, 'taste': 1L, 'stripped': 1L, 'antithesis': 1L, 'modern': 1L, 'mind': 1L, 'site': 1L, 'deep': 1L, 'evidence': 3L, 'topic': 1L, 'consumed': 1L, 'critic': 1L, 'writes': 2L, 'fanciful': 1L, 'attributed': 1L, 'scavenger': 1L, 'bones': 6L, 'seen': 1L, 'zzz_rhone': 1L, 'species': 1L, 'influenced': 1L, 'zzz_christianity': 1L, 'cave': 1L, 'adversaries': 1L, 'rubbed': 1L, 'maligned': 1L, 'savor': 1L, 'zzz_aztec': 1L, 'belong': 1L, 'tip': 1L, 'american': 3L, 'dismissed': 2L, 'tight': 1L, 'relatives': 2L, 'strange': 1L, 'ogres': 1L, 'widely': 1L, 'peoples': 2L, 'finding': 2L, 'enemies': 1L, 'survival': 1L, 'dated': 1L, 'clear': 1L, 'practice': 2L, 'indian': 3L, 'zzz_central_african_republic': 1L, 'sacrifice': 2L, 'reporting': 1L, 'southern': 1L, 'polite': 1L, 'companion': 2L, 'reflect': 1L, 'regeneration': 1L, 'designed': 1L, 'echoes': 1L, 'buried': 1L, 'zzz_john_dower': 1L, 'marrow': 1L, 'revisionism': 1L, 'tongue': 1L, 'refrigerator': 1L, 'ago': 5L, 'zzz_anthropology': 2L, 'paradigm': 1L, 'practiced': 2L, 'closet': 1L, 'blood': 1L, 'possessed': 1L, 'domination': 1L, 'deer': 1L, 'zzz_anasazi': 5L, 'cooked': 1L, 'practices': 1L, 'mass': 1L, 'qualities': 1L, 'embracing': 1L, 'position': 1L, 'zzz_cannibalism': 14L, 'surface': 1L, 'liver': 1L}, {'saying': 1L, 'phenomenon': 1L, 'show': 1L, 'increasingly': 1L, 'domestic': 1L, 'soon': 1L, 'profoundly': 1L, 'bring': 1L, 'zzz_u_n': 4L, 'zzz_canada': 1L, 'capitalism': 1L, 'citizenship': 3L, 'tempted': 1L, 'zzz_new_york': 1L, 'find': 2L, 'decade': 1L, 'surplus': 1L, 'style': 2L, 'believe': 1L, 'depend': 1L, 'turkish': 1L, 'thinking': 1L, 'demographic': 1L, 'unskilled': 1L, 'labor': 6L, 'languages': 1L, 'add': 1L, 'program': 1L, 'attractive': 1L, 'citizen': 1L, 'decades': 2L, 'worth': 1L, 'equilibrium': 1L, 'division': 1L, 'zzz_union': 3L, 'forces': 2L, 'food': 1L, 'big': 1L, 'socially': 1L, 'nation': 1L, 'early': 1L, 'answer': 1L, 'cultural': 1L, 'foretell': 1L, 'culturally': 1L, 'decide': 1L, 'import': 1L, 'racially': 1L, 'highly': 1L, 'societies': 3L, 'identity': 1L, 'severely': 1L, 'bar': 1L, 'semi': 1L, 'countries': 6L, 'level': 2L, 'debating': 1L, 'calling': 1L, 'large': 3L, 'demography': 1L, 'fertility': 1L, 'economically': 1L, 'replacement': 1L, 'overpopulated': 1L, 'force': 2L, 'idea': 2L, 'zzz_france': 2L, 'immigrant': 3L, 'society': 1L, 'thinker': 1L, 'computer': 1L, 'fewer': 1L, 'callousness': 1L, 'racial': 2L, 'emulating': 1L, 'zzz_australia': 1L, 'gross': 1L, 'zzz_european': 7L, 'scale': 2L, 'expert': 3L, 'unsettling': 1L, 'freer': 1L, 'unavoidable': 1L, 'weren': 1L, 'rod': 1L, 'waiting': 1L, 'corporate': 1L, 'millennium': 1L, 'zzz_american': 9L, 'surprise': 1L, 'zzz_germany': 2L, 'movement': 1L, 'full': 1L, 'business': 1L, 'million': 5L, 'superficial': 1L, 'pressure': 1L, 'job': 1L, 'concentrate': 1L, 'group': 1L, 'wanted': 1L, 'inevitable': 1L, 'change': 1L, 'care': 1L, 'naturalized': 1L, 'naturalization': 1L, 'language': 1L, 'getting': 1L, 'staked': 1L, 'invited': 2L, 'larger': 1L, 'foreign': 1L, 'published': 1L, 'zzz_united_states': 1L, 'military': 1L, 'geniuses': 1L, 'comes': 1L, 'politic': 1L, 'projection': 2L, 'ethnic': 2L, 'point': 2L, 'wall': 1L, 'skilled': 2L, 'number': 3L, 'rank': 1L, 'migrant': 2L, 'pop': 1L, 'rising': 1L, 'zzz_will_europe': 6L, 'maximize': 1L, 'dissenting': 1L, 'afield': 1L, 'zzz_americanization': 1L, 'quality': 1L, 'size': 1L, 'conference': 1L, 'decline': 1L, 'pensioner': 1L, 'guest': 1L, 'basis': 1L, 'question': 1L, 'fast': 2L, 'response': 1L, 'resentment': 2L, 'migrate': 1L, 'wonderful': 1L, 'slowly': 1L, 'declining': 1L, 'heritage': 1L, 'survive': 1L, 'meeting': 1L, 'store': 1L, 'larder': 1L, 'capita': 1L, 'prosperous': 1L, 'worker': 5L, 'immigration': 3L, 'gap': 1L, 'ended': 1L, 'tolerates': 1L, 'agreeable': 1L, 'demographer': 3L, 'cases': 1L, 'trying': 1L, 'shrunken': 1L, 'population': 2L, 'kind': 4L, 'word': 1L, 'look': 3L, 'places': 1L, 'culture': 2L, 'challenge': 3L, 'economies': 2L, 'triumphant': 1L, 'underclass': 1L, 'zzz_japan': 1L, 'cost': 1L, 'values': 1L, 'today': 1L, 'growing': 1L, 'distribution': 1L, 'feeling': 1L, 'agenda': 1L, 'migration': 5L, 'developing': 1L, 'nationalist': 1L, 'century': 1L, 'predict': 1L, 'share': 1L, 'zzz_gee': 1L, 'voices': 1L, 'high': 1L, 'importing': 1L, 'zzz_joseph_chamie': 2L, 'sense': 1L, 'need': 2L, 'zzz_india': 1L, 'linked': 1L, 'worse': 2L, 'ratio': 1L, 'sought': 1L, 'moves': 1L, 'productivity': 1L, 'goal': 3L, 'author': 1L, 'allow': 1L, 'european': 8L, 'erecting': 1L, 'minorities': 1L, 'machine': 1L, 'zzz_america': 2L, 'ideal': 1L, 'cling': 1L, 'zzz_wang': 1L, 'mass': 1L, 'fill': 1L, 'parameter': 1L, 'shrink': 1L, 'economy': 1L, 'product': 1L, 'babies': 1L, 'emulate': 1L, 'symbol': 1L, 'social': 2L, 'marginalized': 1L, 'effect': 1L, 'barricades': 1L, 'hand': 1L, 'director': 2L, 'running': 1L, 'traditionally': 1L, 'compete': 1L, 'coming': 1L, 'services': 1L, 'equitable': 1L, 'lightning': 1L, 'linguistic': 1L, 'structure': 1L, 'building': 1L, 'lower': 1L, 'intrusion': 1L, 'older': 2L, 'zzz_algerian': 1L, 'restricted': 1L, 'zzz_italy': 1L, 'differ': 1L, 'spent': 1L, 'face': 4L, 'traditional': 1L, 'logical': 1L, 'qualified': 1L, 'unchallenged': 1L, 'fundamental': 1L, 'swollen': 1L, 'zzz_silicon_valley': 1L, 'hear': 1L, 'model': 1L, 'democratic': 1L, 'diverse': 1L, 'preparing': 1L}, {'saying': 1L, 'phenomenon': 1L, 'show': 1L, 'increasingly': 1L, 'domestic': 1L, 'soon': 1L, 'profoundly': 1L, 'bring': 1L, 'zzz_u_n': 4L, 'zzz_canada': 1L, 'capitalism': 1L, 'citizenship': 3L, 'tempted': 1L, 'zzz_new_york': 1L, 'find': 2L, 'decade': 1L, 'surplus': 1L, 'style': 2L, 'believe': 1L, 'depend': 1L, 'turkish': 1L, 'thinking': 1L, 'demographic': 1L, 'unskilled': 1L, 'labor': 6L, 'languages': 1L, 'add': 1L, 'program': 1L, 'attractive': 1L, 'citizen': 1L, 'decades': 2L, 'worth': 1L, 'equilibrium': 1L, 'division': 1L, 'zzz_union': 3L, 'forces': 2L, 'food': 1L, 'big': 1L, 'socially': 1L, 'nation': 1L, 'early': 1L, 'answer': 1L, 'cultural': 1L, 'foretell': 1L, 'culturally': 1L, 'decide': 1L, 'import': 1L, 'racially': 1L, 'highly': 1L, 'societies': 3L, 'identity': 1L, 'severely': 1L, 'bar': 1L, 'semi': 1L, 'countries': 6L, 'level': 2L, 'debating': 1L, 'calling': 1L, 'large': 3L, 'demography': 1L, 'fertility': 1L, 'economically': 1L, 'replacement': 1L, 'overpopulated': 1L, 'force': 2L, 'idea': 2L, 'zzz_france': 2L, 'immigrant': 3L, 'society': 1L, 'thinker': 1L, 'computer': 1L, 'fewer': 1L, 'callousness': 1L, 'racial': 2L, 'emulating': 1L, 'zzz_australia': 1L, 'gross': 1L, 'zzz_european': 7L, 'scale': 2L, 'expert': 3L, 'unsettling': 1L, 'freer': 1L, 'unavoidable': 1L, 'weren': 1L, 'rod': 1L, 'waiting': 1L, 'corporate': 1L, 'millennium': 1L, 'zzz_american': 9L, 'surprise': 1L, 'zzz_germany': 2L, 'movement': 1L, 'full': 1L, 'business': 1L, 'million': 5L, 'superficial': 1L, 'pressure': 1L, 'job': 1L, 'concentrate': 1L, 'group': 1L, 'wanted': 1L, 'inevitable': 1L, 'change': 1L, 'care': 1L, 'naturalized': 1L, 'naturalization': 1L, 'language': 1L, 'getting': 1L, 'staked': 1L, 'invited': 2L, 'larger': 1L, 'foreign': 1L, 'published': 1L, 'zzz_united_states': 1L, 'military': 1L, 'geniuses': 1L, 'comes': 1L, 'politic': 1L, 'projection': 2L, 'ethnic': 2L, 'point': 2L, 'wall': 1L, 'skilled': 2L, 'number': 3L, 'rank': 1L, 'migrant': 2L, 'pop': 1L, 'rising': 1L, 'zzz_will_europe': 6L, 'maximize': 1L, 'dissenting': 1L, 'afield': 1L, 'zzz_americanization': 1L, 'quality': 1L, 'size': 1L, 'conference': 1L, 'decline': 1L, 'pensioner': 1L, 'guest': 1L, 'basis': 1L, 'question': 1L, 'fast': 2L, 'response': 1L, 'resentment': 2L, 'migrate': 1L, 'wonderful': 1L, 'slowly': 1L, 'declining': 1L, 'heritage': 1L, 'survive': 1L, 'meeting': 1L, 'store': 1L, 'larder': 1L, 'capita': 1L, 'prosperous': 1L, 'worker': 5L, 'immigration': 3L, 'gap': 1L, 'ended': 1L, 'tolerates': 1L, 'agreeable': 1L, 'demographer': 3L, 'cases': 1L, 'trying': 1L, 'shrunken': 1L, 'population': 2L, 'kind': 4L, 'word': 1L, 'look': 3L, 'places': 1L, 'culture': 2L, 'challenge': 3L, 'economies': 2L, 'triumphant': 1L, 'underclass': 1L, 'zzz_japan': 1L, 'cost': 1L, 'values': 1L, 'today': 1L, 'growing': 1L, 'distribution': 1L, 'feeling': 1L, 'agenda': 1L, 'migration': 5L, 'developing': 1L, 'nationalist': 1L, 'century': 1L, 'predict': 1L, 'share': 1L, 'zzz_gee': 1L, 'voices': 1L, 'high': 1L, 'importing': 1L, 'zzz_joseph_chamie': 2L, 'sense': 1L, 'need': 2L, 'zzz_india': 1L, 'linked': 1L, 'worse': 2L, 'ratio': 1L, 'sought': 1L, 'moves': 1L, 'productivity': 1L, 'goal': 3L, 'author': 1L, 'allow': 1L, 'european': 8L, 'erecting': 1L, 'minorities': 1L, 'machine': 1L, 'zzz_america': 2L, 'ideal': 1L, 'cling': 1L, 'zzz_wang': 1L, 'mass': 1L, 'fill': 1L, 'parameter': 1L, 'shrink': 1L, 'economy': 1L, 'product': 1L, 'babies': 1L, 'emulate': 1L, 'symbol': 1L, 'social': 2L, 'marginalized': 1L, 'effect': 1L, 'barricades': 1L, 'hand': 1L, 'director': 2L, 'running': 1L, 'traditionally': 1L, 'compete': 1L, 'coming': 1L, 'services': 1L, 'equitable': 1L, 'lightning': 1L, 'linguistic': 1L, 'structure': 1L, 'building': 1L, 'lower': 1L, 'intrusion': 1L, 'older': 2L, 'zzz_algerian': 1L, 'restricted': 1L, 'zzz_italy': 1L, 'differ': 1L, 'spent': 1L, 'face': 4L, 'traditional': 1L, 'logical': 1L, 'qualified': 1L, 'unchallenged': 1L, 'fundamental': 1L, 'swollen': 1L, 'zzz_silicon_valley': 1L, 'hear': 1L, 'model': 1L, 'democratic': 1L, 'diverse': 1L, 'preparing': 1L}, {'restriction': 1L, 'rounded': 1L, 'proposed': 1L, 'foreigner': 1L, 'zzz_arthur_helton': 3L, 'zzz_council': 1L, 'invent': 1L, 'homogeneity': 1L, 'citizenship': 2L, 'fear': 1L, 'zzz_central': 1L, 'debate': 1L, 'depend': 1L, 'labor': 1L, 'program': 1L, 'citizen': 1L, 'overcome': 1L, 'non': 1L, 'zzz_union': 1L, 'combination': 1L, 'government': 1L, 'nation': 1L, 'cultural': 1L, 'racially': 1L, 'zzz_anglo_saxon': 1L, 'societies': 1L, 'term': 1L, 'prosperous': 1L, 'countries': 1L, 'instructive': 1L, 'multicultural': 1L, 'exploit': 1L, 'leader': 1L, 'try': 1L, 'race': 2L, 'common': 1L, 'zzz_immigration': 4L, 'fertility': 1L, 'view': 1L, 'right': 2L, 'deal': 1L, 'immigrant': 2L, 'culture': 1L, 'european': 6L, 'lawyer': 1L, 'recognition': 1L, 'missed': 1L, 'lead': 1L, 'deeply': 1L, 'integration': 1L, 'thirst': 1L, 'zzz_scandinavia': 1L, 'defined': 2L, 'continue': 1L, 'poles': 1L, 'international': 1L, 'zzz_germany': 1L, 'integrated': 1L, 'preserve': 1L, 'model': 3L, 'million': 1L, 'recently': 1L, 'barrier': 1L, 'muslim': 1L, 'french': 5L, 'leadership': 2L, 'put': 1L, 'group': 1L, 'backlash': 1L, 'change': 2L, 'definition': 1L, 'naturalization': 1L, 'language': 4L, 'canadian': 1L, 'country': 1L, 'inspired': 1L, 'violence': 1L, 'british': 1L, 'minorities': 1L, 'american': 2L, 'disastrous': 1L, 'zzz_united_states': 1L, 'settled': 1L, 'comes': 1L, 'blood': 1L, 'origin': 1L, 'dilemma': 1L, 'zzz_foreign_relation': 1L, 'civil': 1L, 'image': 1L, 'manage': 2L, 'number': 1L, 'zzz_denmark': 1L, 'beneficiaries': 1L, 'set': 1L, 'simply': 1L, 'linguistically': 1L, 'speak': 1L, 'necessarily': 1L, 'recalling': 1L, 'discrimination': 1L, 'political': 3L, 'system': 1L, 'borrow': 1L, 'predict': 1L, 'live': 1L, 'low': 1L, 'erupted': 1L, 'scant': 1L, 'war': 1L, 'sort': 1L, 'intolerance': 1L, 'compromises': 1L, 'form': 1L, 'zzz_french': 1L, 'sophisticated': 1L, 'russian': 1L, 'stitches': 1L, 'valued': 1L, 'comity': 1L, 'wish': 1L, 'remain': 1L, 'policies': 1L, 'learn': 1L, 'multiculturalism': 1L, 'balance': 1L, 'control': 1L, 'enforced': 1L, 'camp': 1L, 'nationalist': 1L, 'century': 1L, 'process': 1L, 'fellow': 1L, 'high': 1L, 'diverse': 1L, 'exist': 1L, 'ethnically': 2L, 'ready': 1L, 'seen': 1L, 'zzz_eastern_europe': 5L, 'riot': 1L, 'peace': 1L, 'stigmatized': 1L, 'arrangement': 1L, 'conflict': 1L, 'difficult': 1L, 'status': 1L, 'hurdles': 1L, 'minority': 1L, 'protection': 1L, 'deploy': 1L, 'delicate': 1L, 'profound': 1L, 'class': 1L, 'xenophobic': 1L, 'zzz_britain': 1L, 'zzz_american': 1L, 'senior': 1L, 'wing': 1L}, {'restriction': 1L, 'rounded': 1L, 'proposed': 1L, 'foreigner': 1L, 'zzz_arthur_helton': 3L, 'zzz_council': 1L, 'invent': 1L, 'homogeneity': 1L, 'citizenship': 2L, 'fear': 1L, 'zzz_central': 1L, 'debate': 1L, 'depend': 1L, 'labor': 1L, 'program': 1L, 'citizen': 1L, 'overcome': 1L, 'non': 1L, 'zzz_union': 1L, 'combination': 1L, 'government': 1L, 'nation': 1L, 'cultural': 1L, 'racially': 1L, 'zzz_anglo_saxon': 1L, 'societies': 1L, 'term': 1L, 'prosperous': 1L, 'countries': 1L, 'instructive': 1L, 'multicultural': 1L, 'exploit': 1L, 'leader': 1L, 'try': 1L, 'race': 2L, 'common': 1L, 'zzz_immigration': 4L, 'fertility': 1L, 'view': 1L, 'right': 2L, 'deal': 1L, 'immigrant': 2L, 'culture': 1L, 'european': 6L, 'lawyer': 1L, 'recognition': 1L, 'missed': 1L, 'lead': 1L, 'deeply': 1L, 'integration': 1L, 'thirst': 1L, 'zzz_scandinavia': 1L, 'defined': 2L, 'continue': 1L, 'poles': 1L, 'international': 1L, 'zzz_germany': 1L, 'integrated': 1L, 'preserve': 1L, 'model': 3L, 'million': 1L, 'recently': 1L, 'barrier': 1L, 'muslim': 1L, 'french': 5L, 'leadership': 2L, 'put': 1L, 'group': 1L, 'backlash': 1L, 'change': 2L, 'definition': 1L, 'naturalization': 1L, 'language': 4L, 'canadian': 1L, 'country': 1L, 'inspired': 1L, 'violence': 1L, 'british': 1L, 'minorities': 1L, 'american': 2L, 'disastrous': 1L, 'zzz_united_states': 1L, 'settled': 1L, 'comes': 1L, 'blood': 1L, 'origin': 1L, 'dilemma': 1L, 'zzz_foreign_relation': 1L, 'civil': 1L, 'image': 1L, 'manage': 2L, 'number': 1L, 'zzz_denmark': 1L, 'beneficiaries': 1L, 'set': 1L, 'simply': 1L, 'linguistically': 1L, 'speak': 1L, 'necessarily': 1L, 'recalling': 1L, 'discrimination': 1L, 'political': 3L, 'system': 1L, 'borrow': 1L, 'predict': 1L, 'live': 1L, 'low': 1L, 'erupted': 1L, 'scant': 1L, 'war': 1L, 'sort': 1L, 'intolerance': 1L, 'compromises': 1L, 'form': 1L, 'zzz_french': 1L, 'sophisticated': 1L, 'russian': 1L, 'stitches': 1L, 'valued': 1L, 'comity': 1L, 'wish': 1L, 'remain': 1L, 'policies': 1L, 'learn': 1L, 'multiculturalism': 1L, 'balance': 1L, 'control': 1L, 'enforced': 1L, 'camp': 1L, 'nationalist': 1L, 'century': 1L, 'process': 1L, 'fellow': 1L, 'high': 1L, 'diverse': 1L, 'exist': 1L, 'ethnically': 2L, 'ready': 1L, 'seen': 1L, 'zzz_eastern_europe': 5L, 'riot': 1L, 'peace': 1L, 'stigmatized': 1L, 'arrangement': 1L, 'conflict': 1L, 'difficult': 1L, 'status': 1L, 'hurdles': 1L, 'minority': 1L, 'protection': 1L, 'deploy': 1L, 'delicate': 1L, 'profound': 1L, 'class': 1L, 'xenophobic': 1L, 'zzz_britain': 1L, 'zzz_american': 1L, 'senior': 1L, 'wing': 1L}, {'atmosphere': 1L, 'evidence': 1L, 'remarkable': 1L, 'zzz_england': 1L, 'violation': 1L, 'percent': 2L, 'vary': 1L, 'zzz_s_c': 1L, 'violent': 1L, 'gang': 1L, 'committed': 1L, 'noncommissioned': 1L, 'enlistment': 1L, 'children': 1L, 'discipline': 1L, 'current': 1L, 'group': 2L, 'grounded': 1L, 'rose': 1L, 'boot': 12L, 'young': 2L, 'crime': 2L, 'environment': 1L, 'charge': 1L, 'program': 3L, 'citizen': 1L, 'policy': 1L, 'criminal': 3L, 'zzz_topeka': 1L, 'zzz_maryland': 4L, 'real': 1L, 'assistant': 1L, 'zzz_townsend': 5L, 'nation': 1L, 'chooses': 1L, 'nearly': 1L, 'theft': 1L, 'judge': 1L, 'documented': 1L, 'continued': 1L, 'skeptical': 1L, 'increasing': 1L, 'auto': 1L, 'level': 1L, 'clientele': 1L, 'shaped': 1L, 'advent': 1L, 'fewer': 1L, 'zzz_justice': 3L, 'large': 1L, 'brutal': 1L, 'investigatory': 1L, 'allegation': 1L, 'imprison': 1L, 'shocking': 1L, 'mean': 1L, 'attorney': 1L, 'force': 3L, 'suspended': 1L, 'crimes': 2L, 'idea': 2L, 'breakthrough': 1L, 'elected': 1L, 'street': 2L, 'begun': 1L, 'close': 1L, 'event': 1L, 'annually': 1L, 'shown': 1L, 'attendees': 1L, 'charges': 1L, 'expert': 1L, 'visiting': 1L, 'alarming': 1L, 'associate': 1L, 'camp': 18L, 'increase': 1L, 'experiment': 1L, 'attitudes': 1L, 'routine': 1L, 'suggesting': 1L, 'beating': 2L, 'public': 1L, 'contrast': 1L, 'officer': 1L, 'model': 2L, 'led': 2L, 'chose': 1L, 'ranged': 1L, 'handful': 1L, 'graduates': 1L, 'reason': 1L, 'base': 1L, 'key': 1L, 'delinquency': 1L, 'standard': 1L, 'beginning': 1L, 'throw': 1L, 'zzz_kan': 1L, 'launch': 1L, 'root': 1L, 'study': 1L, 'according': 2L, 'experience': 1L, 'called': 1L, 'turn': 1L, 'leadership': 1L, 'place': 1L, 'oversees': 1L, 'publicized': 1L, 'zzz_united_states': 1L, 'passing': 1L, 'slightly': 1L, 'punishment': 1L, 'comes': 1L, 'deputy': 1L, 'appeared': 1L, 'servicemen': 1L, 'chaired': 1L, 'number': 1L, 'highly': 1L, 'instances': 1L, 'guard': 1L, 'initiative': 1L, 'verge': 1L, 'home': 1L, 'false': 1L, 'fight': 1L, 'custody': 1L, 'accused': 1L, 'working': 1L, 'positive': 1L, 'structured': 1L, 'moderately': 1L, 'system': 1L, 'quickly': 1L, 'intermediate': 1L, 'treat': 1L, 'war': 1L, 'unexamined': 1L, 'exploring': 1L, 'popped': 1L, 'murder': 1L, 'general': 1L, 'initiated': 1L, 'successful': 1L, 'prison': 3L, 'failure': 1L, 'assumption': 1L, 'part': 2L, 'adult': 1L, 'inmates': 1L, 'worked': 1L, 'instructor': 2L, 'potential': 1L, 'population': 1L, 'high': 1L, 'responding': 1L, 'juveniles': 2L, 'showed': 1L, 'offender': 2L, 'zzz_glendening': 2L, 'official': 2L, 'zzz_marine_corp': 1L, 'youth': 1L, 'record': 1L, 'cost': 1L, 'zzz_challenge': 1L, 'drill': 1L, 'promising': 1L, 'problem': 1L, 'similar': 1L, 'rethink': 1L, 'zzz_ohio': 2L, 'penal': 2L, 'sentenced': 1L, 'teen': 2L, 'juvenile': 7L, 'modeled': 1L, 'ordered': 1L, 'ran': 1L, 'reviewing': 1L, 'zzz_u_s_marine_corp': 1L, 'organized': 1L, 'ager': 1L, 'surface': 1L, 'conceding': 1L, 'states': 6L, 'priorities': 1L, 'sentences': 1L, 'zzz_rumor': 1L, 'zzz_gov_parris_glendening': 1L, 'physical': 2L, 'compared': 1L, 'goal': 1L, 'administration': 1L, 'marines': 1L, 'dismissed': 1L, 'zzz_clinton': 1L, 'zzz_west_virginia': 1L, 'widely': 1L, 'largest': 1L, 'higher': 1L, 'zzz_justice_department': 1L, 'clear': 1L, 'added': 1L, 'zzz_georgia': 1L, 'recruitment': 1L, 'zzz_parris_island': 2L, 'greeted': 1L, 'traditionally': 1L, 'designed': 1L, 'included': 1L, 'law': 1L, 'extremely': 1L, 'response': 1L, 'kid': 1L, 'ago': 1L, 'task': 3L, 'shortly': 1L, 'offenses': 1L, 'effective': 1L, 'released': 1L, 'considered': 1L, 'age': 1L, 'inappropriate': 1L, 'spent': 1L, 'thought': 1L, 'contact': 1L, 'zzz_louisiana': 1L, 'recidivism': 1L, 'failures': 1L, 'senior': 1L, 'spend': 1L, 'charged': 2L}, {'atmosphere': 1L, 'evidence': 1L, 'remarkable': 1L, 'zzz_england': 1L, 'violation': 1L, 'percent': 2L, 'vary': 1L, 'zzz_s_c': 1L, 'violent': 1L, 'gang': 1L, 'committed': 1L, 'noncommissioned': 1L, 'enlistment': 1L, 'children': 1L, 'discipline': 1L, 'current': 1L, 'group': 2L, 'grounded': 1L, 'rose': 1L, 'boot': 12L, 'young': 2L, 'crime': 2L, 'environment': 1L, 'charge': 1L, 'program': 3L, 'citizen': 1L, 'policy': 1L, 'criminal': 3L, 'zzz_topeka': 1L, 'zzz_maryland': 4L, 'real': 1L, 'assistant': 1L, 'zzz_townsend': 5L, 'nation': 1L, 'chooses': 1L, 'nearly': 1L, 'theft': 1L, 'judge': 1L, 'documented': 1L, 'continued': 1L, 'skeptical': 1L, 'increasing': 1L, 'auto': 1L, 'level': 1L, 'clientele': 1L, 'shaped': 1L, 'advent': 1L, 'fewer': 1L, 'zzz_justice': 3L, 'large': 1L, 'brutal': 1L, 'investigatory': 1L, 'allegation': 1L, 'imprison': 1L, 'shocking': 1L, 'mean': 1L, 'attorney': 1L, 'force': 3L, 'suspended': 1L, 'crimes': 2L, 'idea': 2L, 'breakthrough': 1L, 'elected': 1L, 'street': 2L, 'begun': 1L, 'close': 1L, 'event': 1L, 'annually': 1L, 'shown': 1L, 'attendees': 1L, 'charges': 1L, 'expert': 1L, 'visiting': 1L, 'alarming': 1L, 'associate': 1L, 'camp': 18L, 'increase': 1L, 'experiment': 1L, 'attitudes': 1L, 'routine': 1L, 'suggesting': 1L, 'beating': 2L, 'public': 1L, 'contrast': 1L, 'officer': 1L, 'model': 2L, 'led': 2L, 'chose': 1L, 'ranged': 1L, 'handful': 1L, 'graduates': 1L, 'reason': 1L, 'base': 1L, 'key': 1L, 'delinquency': 1L, 'standard': 1L, 'beginning': 1L, 'throw': 1L, 'zzz_kan': 1L, 'launch': 1L, 'root': 1L, 'study': 1L, 'according': 2L, 'experience': 1L, 'called': 1L, 'turn': 1L, 'leadership': 1L, 'place': 1L, 'oversees': 1L, 'publicized': 1L, 'zzz_united_states': 1L, 'passing': 1L, 'slightly': 1L, 'punishment': 1L, 'comes': 1L, 'deputy': 1L, 'appeared': 1L, 'servicemen': 1L, 'chaired': 1L, 'number': 1L, 'highly': 1L, 'instances': 1L, 'guard': 1L, 'initiative': 1L, 'verge': 1L, 'home': 1L, 'false': 1L, 'fight': 1L, 'custody': 1L, 'accused': 1L, 'working': 1L, 'positive': 1L, 'structured': 1L, 'moderately': 1L, 'system': 1L, 'quickly': 1L, 'intermediate': 1L, 'treat': 1L, 'war': 1L, 'unexamined': 1L, 'exploring': 1L, 'popped': 1L, 'murder': 1L, 'general': 1L, 'initiated': 1L, 'successful': 1L, 'prison': 3L, 'failure': 1L, 'assumption': 1L, 'part': 2L, 'adult': 1L, 'inmates': 1L, 'worked': 1L, 'instructor': 2L, 'potential': 1L, 'population': 1L, 'high': 1L, 'responding': 1L, 'juveniles': 2L, 'showed': 1L, 'offender': 2L, 'zzz_glendening': 2L, 'official': 2L, 'zzz_marine_corp': 1L, 'youth': 1L, 'record': 1L, 'cost': 1L, 'zzz_challenge': 1L, 'drill': 1L, 'promising': 1L, 'problem': 1L, 'similar': 1L, 'rethink': 1L, 'zzz_ohio': 2L, 'penal': 2L, 'sentenced': 1L, 'teen': 2L, 'juvenile': 7L, 'modeled': 1L, 'ordered': 1L, 'ran': 1L, 'reviewing': 1L, 'zzz_u_s_marine_corp': 1L, 'organized': 1L, 'ager': 1L, 'surface': 1L, 'conceding': 1L, 'states': 6L, 'priorities': 1L, 'sentences': 1L, 'zzz_rumor': 1L, 'zzz_gov_parris_glendening': 1L, 'physical': 2L, 'compared': 1L, 'goal': 1L, 'administration': 1L, 'marines': 1L, 'dismissed': 1L, 'zzz_clinton': 1L, 'zzz_west_virginia': 1L, 'widely': 1L, 'largest': 1L, 'higher': 1L, 'zzz_justice_department': 1L, 'clear': 1L, 'added': 1L, 'zzz_georgia': 1L, 'recruitment': 1L, 'zzz_parris_island': 2L, 'greeted': 1L, 'traditionally': 1L, 'designed': 1L, 'included': 1L, 'law': 1L, 'extremely': 1L, 'response': 1L, 'kid': 1L, 'ago': 1L, 'task': 3L, 'shortly': 1L, 'offenses': 1L, 'effective': 1L, 'released': 1L, 'considered': 1L, 'age': 1L, 'inappropriate': 1L, 'spent': 1L, 'thought': 1L, 'contact': 1L, 'zzz_louisiana': 1L, 'recidivism': 1L, 'failures': 1L, 'senior': 1L, 'spend': 1L, 'charged': 2L}, {'money': 1L, 'follow': 1L, 'find': 1L, 'discipline': 2L, 'voter': 1L, 'justice': 1L, 'extra': 1L, 'young': 1L, 'crime': 2L, 'citing': 1L, 'program': 4L, 'treatment': 1L, 'prison': 1L, 'local': 1L, 'zzz_maryland': 1L, 'jerk': 1L, 'zzz_townsend': 1L, 'nation': 1L, 'scaling': 1L, 'zzz_north_dakota': 1L, 'zzz_california': 1L, 'zzz_well': 1L, 'entire': 1L, 'paramilitary': 1L, 'lost': 1L, 'drop': 2L, 'bad': 1L, 'popular': 1L, 'concluded': 1L, 'cynical': 1L, 'society': 1L, 'likely': 1L, 'led': 1L, 'criminology': 1L, 'expert': 3L, 'experiment': 1L, 'falling': 1L, 'issue': 1L, 'public': 2L, 'maneuver': 1L, 'run': 1L, 'bandwagon': 1L, 'reaction': 1L, 'conducting': 1L, 'drug': 1L, 'agree': 1L, 'zzz_facilities': 1L, 'ineffective': 1L, 'expense': 2L, 'comes': 1L, 'tough': 4L, 'headed': 1L, 'feel': 1L, 'highly': 1L, 'respect': 2L, 'zzz_policy_studies': 1L, 'observer': 1L, 'political': 3L, 'fight': 1L, 'start': 1L, 'zzz_arizona': 1L, 'treat': 1L, 'form': 1L, 'regard': 1L, 'properly': 1L, 'investigation': 1L, 'believe': 1L, 'population': 1L, 'case': 1L, 'juveniles': 1L, 'unfortunately': 1L, 'official': 2L, 'zzz_johns_hopkins_university': 1L, 'learn': 1L, 'individualized': 1L, 'problem': 1L, 'similar': 1L, 'rehabilitation': 1L, 'juvenile': 4L, 'proven': 1L, 'effectively': 1L, 'unlikely': 1L, 'need': 2L, 'incarcerating': 1L, 'zzz_baltimore': 1L, 'education': 1L, 'provide': 1L, 'pay': 1L, 'boot': 5L, 'role': 1L, 'answer': 1L, 'zzz_florida': 1L, 'zzz_colorado': 1L, 'added': 1L, 'zzz_georgia': 1L, 'disagree': 1L, 'harmful': 1L, 'running': 1L, 'resonated': 1L, 'knee': 1L, 'structure': 1L, 'kid': 3L, 'revamped': 1L, 'zzz_justice_department': 1L, 'professor': 1L, 'camp': 5L, 'zzz_university': 1L, 'model': 1L}, {'money': 1L, 'follow': 1L, 'find': 1L, 'discipline': 2L, 'voter': 1L, 'justice': 1L, 'extra': 1L, 'young': 1L, 'crime': 2L, 'citing': 1L, 'program': 4L, 'treatment': 1L, 'prison': 1L, 'local': 1L, 'zzz_maryland': 1L, 'jerk': 1L, 'zzz_townsend': 1L, 'nation': 1L, 'scaling': 1L, 'zzz_north_dakota': 1L, 'zzz_california': 1L, 'zzz_well': 1L, 'entire': 1L, 'paramilitary': 1L, 'lost': 1L, 'drop': 2L, 'bad': 1L, 'popular': 1L, 'concluded': 1L, 'cynical': 1L, 'society': 1L, 'likely': 1L, 'led': 1L, 'criminology': 1L, 'expert': 3L, 'experiment': 1L, 'falling': 1L, 'issue': 1L, 'public': 2L, 'maneuver': 1L, 'run': 1L, 'bandwagon': 1L, 'reaction': 1L, 'conducting': 1L, 'drug': 1L, 'agree': 1L, 'zzz_facilities': 1L, 'ineffective': 1L, 'expense': 2L, 'comes': 1L, 'tough': 4L, 'headed': 1L, 'feel': 1L, 'highly': 1L, 'respect': 2L, 'zzz_policy_studies': 1L, 'observer': 1L, 'political': 3L, 'fight': 1L, 'start': 1L, 'zzz_arizona': 1L, 'treat': 1L, 'form': 1L, 'regard': 1L, 'properly': 1L, 'investigation': 1L, 'believe': 1L, 'population': 1L, 'case': 1L, 'juveniles': 1L, 'unfortunately': 1L, 'official': 2L, 'zzz_johns_hopkins_university': 1L, 'learn': 1L, 'individualized': 1L, 'problem': 1L, 'similar': 1L, 'rehabilitation': 1L, 'juvenile': 4L, 'proven': 1L, 'effectively': 1L, 'unlikely': 1L, 'need': 2L, 'incarcerating': 1L, 'zzz_baltimore': 1L, 'education': 1L, 'provide': 1L, 'pay': 1L, 'boot': 5L, 'role': 1L, 'answer': 1L, 'zzz_florida': 1L, 'zzz_colorado': 1L, 'added': 1L, 'zzz_georgia': 1L, 'disagree': 1L, 'harmful': 1L, 'running': 1L, 'resonated': 1L, 'knee': 1L, 'structure': 1L, 'kid': 3L, 'revamped': 1L, 'zzz_justice_department': 1L, 'professor': 1L, 'camp': 5L, 'zzz_university': 1L, 'model': 1L}, {'ambassador': 2L, 'bomb': 2L, 'consciousness': 1L, 'embassies': 1L, 'german': 1L, 'visitor': 1L, 'oilmen': 1L, 'zzz_u_s': 4L, 'course': 1L, 'embassy': 1L, 'distant': 1L, 'zzz_canada': 1L, 'victim': 1L, 'zzz_sahara': 1L, 'fear': 1L, 'continent': 1L, 'ground': 1L, 'blow': 1L, 'style': 1L, 'police': 2L, 'chain': 1L, 'bringing': 1L, 'explain': 1L, 'stave': 1L, 'sparkling': 1L, 'hipped': 1L, 'easy': 1L, 'suite': 2L, 'communist': 1L, 'eastward': 1L, 'garden': 1L, 'government': 1L, 'rules': 2L, 'familiar': 1L, 'material': 1L, 'seemingly': 1L, 'coast': 1L, 'dark': 1L, 'nearly': 1L, 'compound': 1L, 'front': 1L, 'height': 1L, 'frightening': 1L, 'vast': 1L, 'defied': 1L, 'term': 1L, 'impressive': 1L, 'north': 1L, 'warned': 1L, 'shadowy': 1L, 'arrested': 2L, 'troop': 1L, 'plain': 1L, 'security': 3L, 'heading': 1L, 'view': 2L, 'upper': 1L, 'set': 1L, 'climactic': 1L, 'hour': 1L, 'formidable': 1L, 'magnificent': 1L, 'hail': 1L, 'society': 1L, 'economic': 2L, 'palm': 1L, 'pass': 1L, 'headlines': 2L, 'blue': 1L, 'savage': 1L, 'represent': 1L, 'zzz_algeria': 10L, 'driving': 1L, 'colonial': 3L, 'wrecked': 1L, 'sites': 1L, 'denizen': 1L, 'current': 2L, 'dominated': 1L, 'hill': 1L, 'previous': 1L, 'numerous': 1L, 'public': 1L, 'independence': 2L, 'movement': 1L, 'civil': 1L, 'zzz_wash': 1L, 'knew': 1L, 'policies': 1L, 'importance': 2L, 'million': 1L, 'french': 2L, 'courtyard': 1L, 'focused': 1L, 'trunk': 1L, 'zzz_ahmed_ressam': 1L, 'cities': 1L, 'intense': 1L, 'wall': 1L, 'extreme': 1L, 'enormous': 1L, 'zzz_algier': 2L, 'zzz_port_angeles': 1L, 'country': 3L, 'area': 1L, 'american': 7L, 'allied': 1L, 'figures': 1L, 'threat': 1L, 'scented': 1L, 'zzz_united_states': 2L, 'military': 1L, 'guardianship': 1L, 'guerrilla': 1L, 'zzz_world_war_ii': 2L, 'major': 1L, 'suddenly': 1L, 'armchair': 1L, 'sweep': 1L, 'owned': 1L, 'strategic': 2L, 'political': 1L, 'zzz_mediterranean': 1L, 'wider': 2L, 'watchdog': 1L, 'intellect': 1L, 'brass': 1L, 'wanted': 1L, 'palace': 1L, 'zzz_islamic': 2L, 'army': 1L, 'blossom': 1L, 'zzz_state_department': 1L, 'initial': 1L, 'visit': 1L, 'arches': 1L, 'custom': 1L, 'fought': 1L, 'lovely': 1L, 'war': 3L, 'today': 3L, 'building': 1L, 'grandest': 1L, 'modern': 1L, 'door': 2L, 'form': 1L, 'thrusting': 1L, 'gas': 1L, 'oil': 1L, 'marbled': 1L, 'part': 1L, 'understand': 1L, 'zzz_france': 1L, 'known': 1L, 'smoking': 1L, 'carnage': 1L, 'fort': 1L, 'kind': 1L, 'warfare': 1L, 'places': 1L, 'miseries': 1L, 'socialist': 2L, 'official': 1L, 'attention': 1L, 'recording': 1L, 'remain': 1L, 'venture': 1L, 'learn': 1L, 'making': 1L, 'fact': 4L, 'charm': 1L, 'ferry': 1L, 'claim': 1L, 'larger': 1L, 'whitewashed': 1L, 'century': 1L, 'zzz_armed_islamic_group': 1L, 'slim': 1L, 'command': 1L, 'reserves': 1L, 'fighting': 2L, 'pushing': 1L, 'allowed': 1L, 'graceful': 1L, 'allege': 1L, 'linked': 1L, 'zzz_eastern_europe': 1L, 'car': 2L, 'grown': 1L, 'cavalry': 1L, 'diplomat': 1L, 'terrorist': 2L, 'winter': 1L, 'floor': 1L, 'trip': 1L, 'occupied': 2L, 'travel': 1L, 'puzzled': 1L, 'foreigner': 1L, 'zzz_st_george': 2L, 'zzz_gia': 2L, 'zzz_america': 2L, 'forces': 1L, 'largest': 1L, 'underground': 1L, 'palaces': 1L, 'balcony': 1L, 'target': 1L, 'conflict': 3L, 'economy': 1L, 'independent': 1L, 'begin': 1L, 'exactly': 1L, 'desert': 1L, 'swiftly': 1L, 'springtime': 1L, 'hand': 1L, 'panoramic': 1L, 'moment': 1L, 'intent': 1L, 'utterly': 1L, 'fruitlessly': 1L, 'hostelry': 1L, 'lobby': 1L, 'died': 3L, 'breathtakingly': 1L, 'ago': 1L, 'remote': 1L, 'zzz_algerian': 3L, 'amid': 2L, 'nonetheless': 1L, 'jewel': 1L, 'zzz_indian': 1L, 'rule': 2L, 'thought': 1L, 'contact': 1L, 'venturing': 1L, 'place': 1L, 'earlier': 1L, 'plaque': 1L}, {'ambassador': 2L, 'bomb': 2L, 'consciousness': 1L, 'embassies': 1L, 'german': 1L, 'visitor': 1L, 'oilmen': 1L, 'zzz_u_s': 4L, 'course': 1L, 'embassy': 1L, 'distant': 1L, 'zzz_canada': 1L, 'victim': 1L, 'zzz_sahara': 1L, 'fear': 1L, 'continent': 1L, 'ground': 1L, 'blow': 1L, 'style': 1L, 'police': 2L, 'chain': 1L, 'bringing': 1L, 'explain': 1L, 'stave': 1L, 'sparkling': 1L, 'hipped': 1L, 'easy': 1L, 'suite': 2L, 'communist': 1L, 'eastward': 1L, 'garden': 1L, 'government': 1L, 'rules': 2L, 'familiar': 1L, 'material': 1L, 'seemingly': 1L, 'coast': 1L, 'dark': 1L, 'nearly': 1L, 'compound': 1L, 'front': 1L, 'height': 1L, 'frightening': 1L, 'vast': 1L, 'defied': 1L, 'term': 1L, 'impressive': 1L, 'north': 1L, 'warned': 1L, 'shadowy': 1L, 'arrested': 2L, 'troop': 1L, 'plain': 1L, 'security': 3L, 'heading': 1L, 'view': 2L, 'upper': 1L, 'set': 1L, 'climactic': 1L, 'hour': 1L, 'formidable': 1L, 'magnificent': 1L, 'hail': 1L, 'society': 1L, 'economic': 2L, 'palm': 1L, 'pass': 1L, 'headlines': 2L, 'blue': 1L, 'savage': 1L, 'represent': 1L, 'zzz_algeria': 10L, 'driving': 1L, 'colonial': 3L, 'wrecked': 1L, 'sites': 1L, 'denizen': 1L, 'current': 2L, 'dominated': 1L, 'hill': 1L, 'previous': 1L, 'numerous': 1L, 'public': 1L, 'independence': 2L, 'movement': 1L, 'civil': 1L, 'zzz_wash': 1L, 'knew': 1L, 'policies': 1L, 'importance': 2L, 'million': 1L, 'french': 2L, 'courtyard': 1L, 'focused': 1L, 'trunk': 1L, 'zzz_ahmed_ressam': 1L, 'cities': 1L, 'intense': 1L, 'wall': 1L, 'extreme': 1L, 'enormous': 1L, 'zzz_algier': 2L, 'zzz_port_angeles': 1L, 'country': 3L, 'area': 1L, 'american': 7L, 'allied': 1L, 'figures': 1L, 'threat': 1L, 'scented': 1L, 'zzz_united_states': 2L, 'military': 1L, 'guardianship': 1L, 'guerrilla': 1L, 'zzz_world_war_ii': 2L, 'major': 1L, 'suddenly': 1L, 'armchair': 1L, 'sweep': 1L, 'owned': 1L, 'strategic': 2L, 'political': 1L, 'zzz_mediterranean': 1L, 'wider': 2L, 'watchdog': 1L, 'intellect': 1L, 'brass': 1L, 'wanted': 1L, 'palace': 1L, 'zzz_islamic': 2L, 'army': 1L, 'blossom': 1L, 'zzz_state_department': 1L, 'initial': 1L, 'visit': 1L, 'arches': 1L, 'custom': 1L, 'fought': 1L, 'lovely': 1L, 'war': 3L, 'today': 3L, 'building': 1L, 'grandest': 1L, 'modern': 1L, 'door': 2L, 'form': 1L, 'thrusting': 1L, 'gas': 1L, 'oil': 1L, 'marbled': 1L, 'part': 1L, 'understand': 1L, 'zzz_france': 1L, 'known': 1L, 'smoking': 1L, 'carnage': 1L, 'fort': 1L, 'kind': 1L, 'warfare': 1L, 'places': 1L, 'miseries': 1L, 'socialist': 2L, 'official': 1L, 'attention': 1L, 'recording': 1L, 'remain': 1L, 'venture': 1L, 'learn': 1L, 'making': 1L, 'fact': 4L, 'charm': 1L, 'ferry': 1L, 'claim': 1L, 'larger': 1L, 'whitewashed': 1L, 'century': 1L, 'zzz_armed_islamic_group': 1L, 'slim': 1L, 'command': 1L, 'reserves': 1L, 'fighting': 2L, 'pushing': 1L, 'allowed': 1L, 'graceful': 1L, 'allege': 1L, 'linked': 1L, 'zzz_eastern_europe': 1L, 'car': 2L, 'grown': 1L, 'cavalry': 1L, 'diplomat': 1L, 'terrorist': 2L, 'winter': 1L, 'floor': 1L, 'trip': 1L, 'occupied': 2L, 'travel': 1L, 'puzzled': 1L, 'foreigner': 1L, 'zzz_st_george': 2L, 'zzz_gia': 2L, 'zzz_america': 2L, 'forces': 1L, 'largest': 1L, 'underground': 1L, 'palaces': 1L, 'balcony': 1L, 'target': 1L, 'conflict': 3L, 'economy': 1L, 'independent': 1L, 'begin': 1L, 'exactly': 1L, 'desert': 1L, 'swiftly': 1L, 'springtime': 1L, 'hand': 1L, 'panoramic': 1L, 'moment': 1L, 'intent': 1L, 'utterly': 1L, 'fruitlessly': 1L, 'hostelry': 1L, 'lobby': 1L, 'died': 3L, 'breathtakingly': 1L, 'ago': 1L, 'remote': 1L, 'zzz_algerian': 3L, 'amid': 2L, 'nonetheless': 1L, 'jewel': 1L, 'zzz_indian': 1L, 'rule': 2L, 'thought': 1L, 'contact': 1L, 'venturing': 1L, 'place': 1L, 'earlier': 1L, 'plaque': 1L}, {'zzz_salman_rushdie': 1L, 'insurgency': 1L, 'zzz_u_s': 2L, 'embassy': 1L, 'religious': 1L, 'zzz_iran': 2L, 'anonymously': 1L, 'enfeebled': 1L, 'group': 1L, 'zzz_salvation_front': 3L, 'send': 1L, 'compelling': 1L, 'east': 1L, 'decades': 1L, 'resources': 1L, 'government': 2L, 'zzz_america': 1L, 'secular': 1L, 'rise': 1L, 'nation': 1L, 'cemeteries': 1L, 'cutting': 1L, 'reaches': 1L, 'background': 1L, 'massacring': 1L, 'killed': 1L, 'minute': 1L, 'look': 1L, 'zzz_ressam': 2L, 'moderate': 1L, 'investigator': 1L, 'shadowy': 1L, 'countries': 1L, 'arrested': 1L, 'try': 1L, 'zzz_muslim': 1L, 'victory': 1L, 'fires': 1L, 'zzz_western_europe': 3L, 'triumph': 1L, 'revolution': 1L, 'zzz_morocco': 1L, 'radicalism': 1L, 'tragedies': 1L, 'idea': 1L, 'zzz_france': 1L, 'immigrant': 1L, 'intensity': 1L, 'zzz_spain': 1L, 'zzz_islam': 1L, 'faceless': 1L, 'happen': 1L, 'battalion': 1L, 'zzz_gia': 2L, 'closer': 1L, 'decree': 1L, 'leaf': 1L, 'zzz_algeria': 8L, 'driving': 1L, 'mattered': 1L, 'justifies': 1L, 'custody': 1L, 'learned': 1L, 'propagating': 1L, 'zzz_tehran': 1L, 'independence': 2L, 'breakaway': 1L, 'led': 1L, 'belief': 1L, 'million': 1L, 'sprung': 1L, 'free': 1L, 'killing': 2L, 'extraordinary': 1L, 'french': 1L, 'key': 1L, 'police': 1L, 'disappeared': 1L, 'strewn': 1L, 'allies': 1L, 'zzz_algier': 2L, 'mesmerized': 1L, 'country': 3L, 'sinister': 1L, 'zzz_mauritania': 1L, 'equal': 1L, 'urged': 1L, 'american': 2L, 'west': 1L, 'military': 1L, 'history': 2L, 'radical': 1L, 'seizure': 1L, 'brought': 1L, 'set': 1L, 'verge': 1L, 'strip': 1L, 'anonymity': 1L, 'lesson': 1L, 'unit': 2L, 'zzz_pakistan': 1L, 'zzz_islamic': 6L, 'army': 3L, 'stretch': 1L, 'zzz_washington': 1L, 'support': 1L, 'political': 1L, 'zzz_mediterranean': 1L, 'resulted': 1L, 'relearn': 1L, 'hundred': 1L, 'war': 3L, 'slaughtered': 1L, 'canceling': 1L, 'holy': 1L, 'thousand': 1L, 'villages': 1L, 'worker': 1L, 'guerrillas': 1L, 'carrying': 1L, 'prescription': 1L, 'believe': 1L, 'standard': 1L, 'town': 1L, 'kind': 2L, 'savagery': 1L, 'room': 1L, 'roles': 1L, 'espoused': 1L, 'twenty': 1L, 'zzz_marseilles': 1L, 'matter': 1L, 'stunning': 1L, 'learn': 1L, 'believed': 1L, 'ferry': 2L, 'called': 3L, 'election': 2L, 'counter': 1L, 'played': 1L, 'modern': 1L, 'general': 2L, 'canceled': 1L, 'buried': 2L, 'throat': 1L, 'novelist': 1L, 'fill': 1L, 'parliamentary': 1L, 'diplomat': 1L, 'crescent': 1L, 'form': 1L, 'civilian': 1L, 'generally': 1L, 'zzz_st_george': 1L, 'lit': 1L, 'setting': 1L, 'pivotal': 1L, 'tactic': 1L, 'significance': 2L, 'party': 1L, 'villager': 1L, 'zzz_afghanistan': 1L, 'economy': 1L, 'worldwide': 1L, 'knew': 1L, 'southern': 1L, 'marking': 1L, 'hand': 1L, 'meaning': 1L, 'journey': 1L, 'allowing': 1L, 'significant': 1L, 'mullah': 1L, 'sides': 1L, 'recent': 1L, 'ago': 2L, 'militias': 1L, 'fighter': 2L, 'gravestones': 1L, 'zzz_algerian': 2L, 'profound': 1L, 'overnight': 1L, 'thought': 1L, 'person': 1L, 'rogue': 1L, 'conflict': 1L, 'perhap': 1L, 'reward': 1L, 'responded': 1L}, {'zzz_salman_rushdie': 1L, 'insurgency': 1L, 'zzz_u_s': 2L, 'embassy': 1L, 'religious': 1L, 'zzz_iran': 2L, 'anonymously': 1L, 'enfeebled': 1L, 'group': 1L, 'zzz_salvation_front': 3L, 'send': 1L, 'compelling': 1L, 'east': 1L, 'decades': 1L, 'resources': 1L, 'government': 2L, 'zzz_america': 1L, 'secular': 1L, 'rise': 1L, 'nation': 1L, 'cemeteries': 1L, 'cutting': 1L, 'reaches': 1L, 'background': 1L, 'massacring': 1L, 'killed': 1L, 'minute': 1L, 'look': 1L, 'zzz_ressam': 2L, 'moderate': 1L, 'investigator': 1L, 'shadowy': 1L, 'countries': 1L, 'arrested': 1L, 'try': 1L, 'zzz_muslim': 1L, 'victory': 1L, 'fires': 1L, 'zzz_western_europe': 3L, 'triumph': 1L, 'revolution': 1L, 'zzz_morocco': 1L, 'radicalism': 1L, 'tragedies': 1L, 'idea': 1L, 'zzz_france': 1L, 'immigrant': 1L, 'intensity': 1L, 'zzz_spain': 1L, 'zzz_islam': 1L, 'faceless': 1L, 'happen': 1L, 'battalion': 1L, 'zzz_gia': 2L, 'closer': 1L, 'decree': 1L, 'leaf': 1L, 'zzz_algeria': 8L, 'driving': 1L, 'mattered': 1L, 'justifies': 1L, 'custody': 1L, 'learned': 1L, 'propagating': 1L, 'zzz_tehran': 1L, 'independence': 2L, 'breakaway': 1L, 'led': 1L, 'belief': 1L, 'million': 1L, 'sprung': 1L, 'free': 1L, 'killing': 2L, 'extraordinary': 1L, 'french': 1L, 'key': 1L, 'police': 1L, 'disappeared': 1L, 'strewn': 1L, 'allies': 1L, 'zzz_algier': 2L, 'mesmerized': 1L, 'country': 3L, 'sinister': 1L, 'zzz_mauritania': 1L, 'equal': 1L, 'urged': 1L, 'american': 2L, 'west': 1L, 'military': 1L, 'history': 2L, 'radical': 1L, 'seizure': 1L, 'brought': 1L, 'set': 1L, 'verge': 1L, 'strip': 1L, 'anonymity': 1L, 'lesson': 1L, 'unit': 2L, 'zzz_pakistan': 1L, 'zzz_islamic': 6L, 'army': 3L, 'stretch': 1L, 'zzz_washington': 1L, 'support': 1L, 'political': 1L, 'zzz_mediterranean': 1L, 'resulted': 1L, 'relearn': 1L, 'hundred': 1L, 'war': 3L, 'slaughtered': 1L, 'canceling': 1L, 'holy': 1L, 'thousand': 1L, 'villages': 1L, 'worker': 1L, 'guerrillas': 1L, 'carrying': 1L, 'prescription': 1L, 'believe': 1L, 'standard': 1L, 'town': 1L, 'kind': 2L, 'savagery': 1L, 'room': 1L, 'roles': 1L, 'espoused': 1L, 'twenty': 1L, 'zzz_marseilles': 1L, 'matter': 1L, 'stunning': 1L, 'learn': 1L, 'believed': 1L, 'ferry': 2L, 'called': 3L, 'election': 2L, 'counter': 1L, 'played': 1L, 'modern': 1L, 'general': 2L, 'canceled': 1L, 'buried': 2L, 'throat': 1L, 'novelist': 1L, 'fill': 1L, 'parliamentary': 1L, 'diplomat': 1L, 'crescent': 1L, 'form': 1L, 'civilian': 1L, 'generally': 1L, 'zzz_st_george': 1L, 'lit': 1L, 'setting': 1L, 'pivotal': 1L, 'tactic': 1L, 'significance': 2L, 'party': 1L, 'villager': 1L, 'zzz_afghanistan': 1L, 'economy': 1L, 'worldwide': 1L, 'knew': 1L, 'southern': 1L, 'marking': 1L, 'hand': 1L, 'meaning': 1L, 'journey': 1L, 'allowing': 1L, 'significant': 1L, 'mullah': 1L, 'sides': 1L, 'recent': 1L, 'ago': 2L, 'militias': 1L, 'fighter': 2L, 'gravestones': 1L, 'zzz_algerian': 2L, 'profound': 1L, 'overnight': 1L, 'thought': 1L, 'person': 1L, 'rogue': 1L, 'conflict': 1L, 'perhap': 1L, 'reward': 1L, 'responded': 1L}, {'saying': 1L, 'taller': 1L, 'german': 1L, 'patina': 1L, 'colonist': 3L, 'hillside': 1L, 'meticulously': 1L, 'episodes': 1L, 'earth': 1L, 'fine': 1L, 'children': 1L, 'decade': 1L, 'certainly': 1L, 'position': 1L, 'group': 4L, 'system': 1L, 'zzz_tutsi': 11L, 'explain': 1L, 'zzz_burundi': 8L, 'grotesque': 1L, 'civil': 1L, 'grim': 1L, 'zzz_human_rights_watch': 1L, 'willing': 1L, 'suspicion': 1L, 'easy': 1L, 'farmer': 2L, 'hardened': 1L, 'animosities': 2L, 'inferior': 1L, 'meant': 1L, 'division': 1L, 'halt': 1L, 'stay': 1L, 'ruler': 1L, 'shatter': 1L, 'fluid': 1L, 'preferred': 1L, 'truly': 1L, 'break': 1L, 'preparing': 1L, 'enslaved': 1L, 'half': 1L, 'documented': 1L, 'continued': 1L, 'fled': 1L, 'ruled': 1L, 'exiles': 1L, 'imposed': 1L, 'scholar': 2L, 'stranger': 1L, 'generally': 1L, 'zzz_intermarriage': 1L, 'shape': 1L, 'preying': 1L, 'distrust': 1L, 'race': 1L, 'superiority': 1L, 'common': 1L, 'unifying': 1L, 'relentless': 1L, 'vision': 1L, 'easiest': 1L, 'administrator': 1L, 'tended': 3L, 'extremist': 1L, 'discriminated': 1L, 'today': 2L, 'result': 1L, 'cattle': 1L, 'led': 1L, 'happen': 1L, 'special': 1L, 'spasm': 1L, 'universities': 1L, 'expert': 3L, 'colonial': 1L, 'lend': 1L, 'herded': 1L, 'formula': 1L, 'officially': 1L, 'inaction': 1L, 'run': 1L, 'power': 3L, 'intentioned': 1L, 'million': 1L, 'zzz_twa': 2L, 'french': 1L, 'killing': 2L, 'step': 1L, 'complicated': 1L, 'put': 1L, 'drawn': 1L, 'safer': 1L, 'scarred': 1L, 'periodically': 1L, 'raise': 1L, 'prestige': 1L, 'created': 1L, 'country': 2L, 'spilled': 1L, 'violence': 1L, 'according': 1L, 'surround': 1L, 'agree': 1L, 'perhap': 1L, 'genocide': 3L, 'wrote': 1L, 'logic': 1L, 'hatred': 5L, 'argue': 1L, 'makes': 1L, 'comes': 1L, 'control': 2L, 'thinner': 1L, 'presence': 1L, 'simple': 2L, 'question': 1L, 'tribal': 2L, 'resentment': 1L, 'vis': 2L, 'twin': 1L, 'underlay': 1L, 'crisis': 1L, 'strong': 1L, 'takes': 1L, 'area': 1L, 'distinct': 1L, 'leading': 1L, 'century': 1L, 'political': 2L, 'transform': 1L, 'insult': 1L, 'secret': 1L, 'rivalries': 1L, 'assassinated': 1L, 'war': 1L, 'killed': 1L, 'belgian': 1L, 'firm': 1L, 'partly': 1L, 'outsider': 3L, 'form': 1L, 'historian': 1L, 'started': 1L, 'exploded': 1L, 'took': 1L, 'reign': 1L, 'guerrillas': 2L, 'hierarchical': 1L, 'rigid': 1L, 'zzz_great_lakes': 4L, 'manipulation': 1L, 'known': 1L, 'elite': 3L, 'pygmies': 1L, 'distance': 1L, 'kind': 2L, 'politician': 1L, 'warfare': 1L, 'places': 1L, 'zzz_belgian': 2L, 'consultant': 1L, 'zzz_rwanda': 11L, 'official': 1L, 'monarchies': 1L, 'indifference': 1L, 'zzz_africa': 5L, 'slaughtered': 1L, 'spontaneous': 1L, 'region': 2L, 'zzz_zaire': 1L, 'pre': 1L, 'real': 1L, 'figure': 1L, 'give': 1L, 'lines': 2L, 'trusting': 1L, 'turned': 1L, 'zzz_columbia_university_press': 1L, 'deep': 1L, 'quiet': 1L, 'high': 1L, 'regularity': 1L, 'exist': 1L, 'rent': 1L, 'past': 1L, 'zzz_balkan': 1L, 'seek': 1L, 'viewed': 1L, 'firmly': 1L, 'court': 1L, 'daring': 1L, 'author': 1L, 'authoritative': 1L, 'eastern': 1L, 'percent': 3L, 'ideas': 1L, 'rebellion': 1L, 'book': 1L, 'smarter': 1L, 'wonder': 1L, 'intelligent': 1L, 'conflict': 2L, 'european': 3L, 'tension': 1L, 'product': 1L, 'separate': 1L, 'zzz_hutu': 9L, 'southern': 1L, 'occurred': 1L, 'helping': 1L, 'arrived': 2L, 'arose': 1L, 'violent': 1L, 'ethnic': 6L, 'zzz_ancient': 4L, 'fighting': 3L, 'nation': 1L, 'response': 1L, 'recent': 1L, 'land': 1L, 'fighter': 1L, 'outline': 1L, 'surprising': 1L, 'seize': 1L, 'zzz_north_american': 1L, 'professor': 1L, 'camp': 1L, 'revolt': 1L, 'zzz_antwerp': 1L, 'rule': 1L, 'zzz_congo': 2L, 'person': 1L, 'races': 1L, 'withdraw': 1L, 'broad': 1L, 'nomad': 1L, 'dragged': 1L}, {'saying': 1L, 'taller': 1L, 'german': 1L, 'patina': 1L, 'colonist': 3L, 'hillside': 1L, 'meticulously': 1L, 'episodes': 1L, 'earth': 1L, 'fine': 1L, 'children': 1L, 'decade': 1L, 'certainly': 1L, 'position': 1L, 'group': 4L, 'system': 1L, 'zzz_tutsi': 11L, 'explain': 1L, 'zzz_burundi': 8L, 'grotesque': 1L, 'civil': 1L, 'grim': 1L, 'zzz_human_rights_watch': 1L, 'willing': 1L, 'suspicion': 1L, 'easy': 1L, 'farmer': 2L, 'hardened': 1L, 'animosities': 2L, 'inferior': 1L, 'meant': 1L, 'division': 1L, 'halt': 1L, 'stay': 1L, 'ruler': 1L, 'shatter': 1L, 'fluid': 1L, 'preferred': 1L, 'truly': 1L, 'break': 1L, 'preparing': 1L, 'enslaved': 1L, 'half': 1L, 'documented': 1L, 'continued': 1L, 'fled': 1L, 'ruled': 1L, 'exiles': 1L, 'imposed': 1L, 'scholar': 2L, 'stranger': 1L, 'generally': 1L, 'zzz_intermarriage': 1L, 'shape': 1L, 'preying': 1L, 'distrust': 1L, 'race': 1L, 'superiority': 1L, 'common': 1L, 'unifying': 1L, 'relentless': 1L, 'vision': 1L, 'easiest': 1L, 'administrator': 1L, 'tended': 3L, 'extremist': 1L, 'discriminated': 1L, 'today': 2L, 'result': 1L, 'cattle': 1L, 'led': 1L, 'happen': 1L, 'special': 1L, 'spasm': 1L, 'universities': 1L, 'expert': 3L, 'colonial': 1L, 'lend': 1L, 'herded': 1L, 'formula': 1L, 'officially': 1L, 'inaction': 1L, 'run': 1L, 'power': 3L, 'intentioned': 1L, 'million': 1L, 'zzz_twa': 2L, 'french': 1L, 'killing': 2L, 'step': 1L, 'complicated': 1L, 'put': 1L, 'drawn': 1L, 'safer': 1L, 'scarred': 1L, 'periodically': 1L, 'raise': 1L, 'prestige': 1L, 'created': 1L, 'country': 2L, 'spilled': 1L, 'violence': 1L, 'according': 1L, 'surround': 1L, 'agree': 1L, 'perhap': 1L, 'genocide': 3L, 'wrote': 1L, 'logic': 1L, 'hatred': 5L, 'argue': 1L, 'makes': 1L, 'comes': 1L, 'control': 2L, 'thinner': 1L, 'presence': 1L, 'simple': 2L, 'question': 1L, 'tribal': 2L, 'resentment': 1L, 'vis': 2L, 'twin': 1L, 'underlay': 1L, 'crisis': 1L, 'strong': 1L, 'takes': 1L, 'area': 1L, 'distinct': 1L, 'leading': 1L, 'century': 1L, 'political': 2L, 'transform': 1L, 'insult': 1L, 'secret': 1L, 'rivalries': 1L, 'assassinated': 1L, 'war': 1L, 'killed': 1L, 'belgian': 1L, 'firm': 1L, 'partly': 1L, 'outsider': 3L, 'form': 1L, 'historian': 1L, 'started': 1L, 'exploded': 1L, 'took': 1L, 'reign': 1L, 'guerrillas': 2L, 'hierarchical': 1L, 'rigid': 1L, 'zzz_great_lakes': 4L, 'manipulation': 1L, 'known': 1L, 'elite': 3L, 'pygmies': 1L, 'distance': 1L, 'kind': 2L, 'politician': 1L, 'warfare': 1L, 'places': 1L, 'zzz_belgian': 2L, 'consultant': 1L, 'zzz_rwanda': 11L, 'official': 1L, 'monarchies': 1L, 'indifference': 1L, 'zzz_africa': 5L, 'slaughtered': 1L, 'spontaneous': 1L, 'region': 2L, 'zzz_zaire': 1L, 'pre': 1L, 'real': 1L, 'figure': 1L, 'give': 1L, 'lines': 2L, 'trusting': 1L, 'turned': 1L, 'zzz_columbia_university_press': 1L, 'deep': 1L, 'quiet': 1L, 'high': 1L, 'regularity': 1L, 'exist': 1L, 'rent': 1L, 'past': 1L, 'zzz_balkan': 1L, 'seek': 1L, 'viewed': 1L, 'firmly': 1L, 'court': 1L, 'daring': 1L, 'author': 1L, 'authoritative': 1L, 'eastern': 1L, 'percent': 3L, 'ideas': 1L, 'rebellion': 1L, 'book': 1L, 'smarter': 1L, 'wonder': 1L, 'intelligent': 1L, 'conflict': 2L, 'european': 3L, 'tension': 1L, 'product': 1L, 'separate': 1L, 'zzz_hutu': 9L, 'southern': 1L, 'occurred': 1L, 'helping': 1L, 'arrived': 2L, 'arose': 1L, 'violent': 1L, 'ethnic': 6L, 'zzz_ancient': 4L, 'fighting': 3L, 'nation': 1L, 'response': 1L, 'recent': 1L, 'land': 1L, 'fighter': 1L, 'outline': 1L, 'surprising': 1L, 'seize': 1L, 'zzz_north_american': 1L, 'professor': 1L, 'camp': 1L, 'revolt': 1L, 'zzz_antwerp': 1L, 'rule': 1L, 'zzz_congo': 2L, 'person': 1L, 'races': 1L, 'withdraw': 1L, 'broad': 1L, 'nomad': 1L, 'dragged': 1L}, {'show': 1L, 'pointed': 1L, 'soon': 1L, 'ending': 1L, 'bring': 1L, 'committed': 2L, 'zzz_tutsis': 1L, 'fear': 1L, 'find': 1L, 'zzz_burundian': 1L, 'death': 1L, 'group': 1L, 'justice': 1L, 'zzz_tutsi': 4L, 'mediator': 1L, 'zzz_hang': 1L, 'hope': 1L, 'happened': 1L, 'zzz_cape_town': 1L, 'crash': 1L, 'increased': 1L, 'killer': 1L, 'supporter': 1L, 'seemingly': 1L, 'nation': 2L, 'awful': 1L, 'spur': 1L, 'killed': 1L, 'intractable': 1L, 'oddly': 1L, 'continue': 1L, 'demonized': 1L, 'round': 2L, 'set': 1L, 'force': 1L, 'deal': 1L, 'crimes': 1L, 'past': 1L, 'table': 1L, 'expert': 2L, 'zzz_south_africa': 1L, 'international': 1L, 'approach': 1L, 'leader': 1L, 'independence': 1L, 'opening': 1L, 'continuing': 1L, 'slaughter': 3L, 'leadership': 1L, 'rebel': 2L, 'beginning': 1L, 'oust': 1L, 'country': 3L, 'spilled': 1L, 'violence': 2L, 'experience': 1L, 'ignoring': 1L, 'mutually': 1L, 'amount': 1L, 'place': 1L, 'settled': 1L, 'zzz_burundi': 3L, 'point': 1L, 'merely': 1L, 'powerful': 1L, 'community': 1L, 'zzz_resolution': 1L, 'trust': 1L, 'crisis': 1L, 'rebuild': 1L, 'adopted': 1L, 'uniting': 1L, 'realization': 1L, 'war': 1L, 'offer': 1L, 'negotiating': 1L, 'argument': 1L, 'believe': 1L, 'shoot': 1L, 'room': 1L, 'presidency': 1L, 'consultant': 1L, 'zzz_rwanda': 2L, 'anew': 1L, 'situation': 1L, 'problem': 2L, 'engaged': 1L, 'belonging': 1L, 'alike': 1L, 'guarantee': 1L, 'administration': 1L, 'battles': 1L, 'polarization': 1L, 'ideal': 1L, 'party': 1L, 'conflict': 2L, 'added': 1L, 'zzz_hutu': 4L, 'hand': 1L, 'plane': 1L, 'blood': 2L, 'ethnic': 3L, 'president': 1L, 'died': 1L, 'cycle': 1L, 'zzz_nelson_mandela': 1L, 'fighting': 1L, 'zzz_congo': 1L, 'evenhandedness': 1L, 'starting': 1L}, {'show': 1L, 'pointed': 1L, 'soon': 1L, 'ending': 1L, 'bring': 1L, 'committed': 2L, 'zzz_tutsis': 1L, 'fear': 1L, 'find': 1L, 'zzz_burundian': 1L, 'death': 1L, 'group': 1L, 'justice': 1L, 'zzz_tutsi': 4L, 'mediator': 1L, 'zzz_hang': 1L, 'hope': 1L, 'happened': 1L, 'zzz_cape_town': 1L, 'crash': 1L, 'increased': 1L, 'killer': 1L, 'supporter': 1L, 'seemingly': 1L, 'nation': 2L, 'awful': 1L, 'spur': 1L, 'killed': 1L, 'intractable': 1L, 'oddly': 1L, 'continue': 1L, 'demonized': 1L, 'round': 2L, 'set': 1L, 'force': 1L, 'deal': 1L, 'crimes': 1L, 'past': 1L, 'table': 1L, 'expert': 2L, 'zzz_south_africa': 1L, 'international': 1L, 'approach': 1L, 'leader': 1L, 'independence': 1L, 'opening': 1L, 'continuing': 1L, 'slaughter': 3L, 'leadership': 1L, 'rebel': 2L, 'beginning': 1L, 'oust': 1L, 'country': 3L, 'spilled': 1L, 'violence': 2L, 'experience': 1L, 'ignoring': 1L, 'mutually': 1L, 'amount': 1L, 'place': 1L, 'settled': 1L, 'zzz_burundi': 3L, 'point': 1L, 'merely': 1L, 'powerful': 1L, 'community': 1L, 'zzz_resolution': 1L, 'trust': 1L, 'crisis': 1L, 'rebuild': 1L, 'adopted': 1L, 'uniting': 1L, 'realization': 1L, 'war': 1L, 'offer': 1L, 'negotiating': 1L, 'argument': 1L, 'believe': 1L, 'shoot': 1L, 'room': 1L, 'presidency': 1L, 'consultant': 1L, 'zzz_rwanda': 2L, 'anew': 1L, 'situation': 1L, 'problem': 2L, 'engaged': 1L, 'belonging': 1L, 'alike': 1L, 'guarantee': 1L, 'administration': 1L, 'battles': 1L, 'polarization': 1L, 'ideal': 1L, 'party': 1L, 'conflict': 2L, 'added': 1L, 'zzz_hutu': 4L, 'hand': 1L, 'plane': 1L, 'blood': 2L, 'ethnic': 3L, 'president': 1L, 'died': 1L, 'cycle': 1L, 'zzz_nelson_mandela': 1L, 'fighting': 1L, 'zzz_congo': 1L, 'evenhandedness': 1L, 'starting': 1L}, {'saying': 1L, 'selection': 1L, 'shot': 1L, 'bearer': 1L, 'zzz_michigan': 1L, 'money': 2L, 'competing': 1L, 'recipe': 1L, 'cross': 1L, 'produced': 1L, 'course': 1L, 'zzz_new_york': 1L, 'crowded': 1L, 'faster': 2L, 'supporter': 1L, 'figure': 1L, 'consider': 2L, 'devoted': 1L, 'certainly': 1L, 'death': 1L, 'number': 1L, 'candidate': 4L, 'field': 1L, 'chosen': 1L, 'effort': 1L, 'window': 1L, 'candidates': 8L, 'problematic': 1L, 'holiday': 1L, 'secretaries': 1L, 'suffocates': 1L, 'premium': 1L, 'finance': 1L, 'big': 3L, 'showing': 1L, 'watch': 1L, 'nation': 1L, 'early': 2L, 'earnest': 1L, 'historic': 1L, 'nearly': 1L, 'fall': 1L, 'front': 1L, 'zzz_california': 1L, 'trouble': 1L, 'presidential': 3L, 'insurgent': 1L, 'tumult': 1L, 'drop': 1L, 'zzz_massachusett': 1L, 'democrat': 1L, 'leader': 2L, 'consensus': 1L, 'unpredictable': 1L, 'race': 2L, 'victory': 2L, 'truth': 1L, 'wish': 1L, 'side': 1L, 'mean': 1L, 'credential': 1L, 'zzz_primaries': 6L, 'series': 1L, 'begin': 1L, 'zzz_bradley': 1L, 'engaging': 1L, 'elected': 1L, 'zzz_bruce_babbitt': 1L, 'election': 4L, 'surmount': 1L, 'fail': 1L, 'close': 1L, 'calendar': 5L, 'avoiding': 1L, 'excitement': 1L, 'countenanced': 1L, 'likelihood': 1L, 'cast': 1L, 'selected': 2L, 'continue': 2L, 'zzz_bush': 1L, 'nominees': 2L, 'progress': 1L, 'dilutes': 1L, 'judgment': 1L, 'public': 1L, 'zzz_new_hampshire': 6L, 'inevitably': 1L, 'zzz_national_association': 1L, 'transportation': 1L, 'schedule': 2L, 'equivalent': 1L, 'pushing': 1L, 'delegates': 4L, 'standard': 1L, 'voter': 2L, 'struggle': 1L, 'put': 2L, 'strong': 2L, 'beginning': 1L, 'earlier': 1L, 'raise': 1L, 'protect': 1L, 'feeling': 1L, 'flourished': 1L, 'country': 2L, 'rushed': 2L, 'moment': 1L, 'turn': 1L, 'american': 1L, 'disenfranchise': 1L, 'advertising': 1L, 'faces': 1L, 'seeing': 1L, 'narrow': 1L, 'settled': 1L, 'credible': 1L, 'zzz_iowa': 3L, 'presumably': 2L, 'author': 1L, 'campaign': 3L, 'win': 1L, 'primary': 4L, 'apt': 1L, 'raiser': 1L, 'formidable': 1L, 'vote': 1L, 'zzz_committee': 1L, 'precisely': 1L, 'zzz_mccain': 2L, 'quit': 1L, 'tuning': 1L, 'zzz_william_galvin': 1L, 'similarly': 1L, 'nomination': 1L, 'tinkering': 1L, 'question': 1L, 'shortening': 1L, 'start': 1L, 'assuring': 1L, 'zzz_arizona': 2L, 'zzz_white_house': 1L, 'passed': 1L, 'spring': 1L, 'shouldered': 1L, 'conceivable': 1L, 'especially': 2L, 'type': 1L, 'historically': 1L, 'multistate': 1L, 'season': 1L, 'training': 1L, 'inched': 1L, 'part': 1L, 'survive': 1L, 'known': 1L, 'line': 3L, 'believe': 2L, 'producing': 1L, 'analyst': 1L, 'raising': 1L, 'underfunded': 2L, 'poll': 1L, 'secretary': 1L, 'science': 2L, 'past': 1L, 'accommodating': 1L, 'edged': 1L, 'zzz_south_carolina': 1L, 'final': 1L, 'spirited': 1L, 'politic': 2L, 'remain': 1L, 'supposed': 1L, 'zzz_sen_bill_bradley': 1L, 'voice': 1L, 'examples': 1L, 'president': 1L, 'zzz_al_gore': 1L, 'constant': 1L, 'nominee': 3L, 'largely': 1L, 'process': 3L, 'zzz_paul_tsongas': 1L, 'influence': 2L, 'startling': 1L, 'general': 2L, 'states': 3L, 'middle': 2L, 'single': 1L, 'dropped': 1L, 'nominating': 1L, 'ready': 1L, 'intramural': 1L, 'engages': 1L, 'worse': 1L, 'result': 1L, 'trick': 1L, 'waging': 1L, 'excused': 1L, 'assure': 1L, 'zzz_tennessee_gov_lamar_alexander': 1L, 'travel': 1L, 'judges': 1L, 'percent': 4L, 'ideas': 1L, 'zzz_texas_gov_george_w_bush': 1L, 'haphazard': 1L, 'chairman': 1L, 'grand': 1L, 'finding': 1L, 'party': 1L, 'establishment': 1L, 'defeat': 1L, 'status': 1L, 'badly': 1L, 'zzz_republican': 4L, 'finish': 1L, 'zzz_sen_john_mccain': 1L, 'intended': 1L, 'attend': 1L, 'opposite': 1L, 'await': 1L, 'running': 1L, 'plan': 1L, 'contest': 3L, 'meaningful': 1L, 'retail': 1L, 'remember': 1L, 'fund': 1L, 'slightly': 1L, 'professor': 2L, 'zzz_american': 2L, 'spent': 1L, 'exhausting': 1L, 'prepare': 1L, 'democratic': 4L, 'starting': 1L, 'order': 1L}, {'saying': 1L, 'selection': 1L, 'shot': 1L, 'bearer': 1L, 'zzz_michigan': 1L, 'money': 2L, 'competing': 1L, 'recipe': 1L, 'cross': 1L, 'produced': 1L, 'course': 1L, 'zzz_new_york': 1L, 'crowded': 1L, 'faster': 2L, 'supporter': 1L, 'figure': 1L, 'consider': 2L, 'devoted': 1L, 'certainly': 1L, 'death': 1L, 'number': 1L, 'candidate': 4L, 'field': 1L, 'chosen': 1L, 'effort': 1L, 'window': 1L, 'candidates': 8L, 'problematic': 1L, 'holiday': 1L, 'secretaries': 1L, 'suffocates': 1L, 'premium': 1L, 'finance': 1L, 'big': 3L, 'showing': 1L, 'watch': 1L, 'nation': 1L, 'early': 2L, 'earnest': 1L, 'historic': 1L, 'nearly': 1L, 'fall': 1L, 'front': 1L, 'zzz_california': 1L, 'trouble': 1L, 'presidential': 3L, 'insurgent': 1L, 'tumult': 1L, 'drop': 1L, 'zzz_massachusett': 1L, 'democrat': 1L, 'leader': 2L, 'consensus': 1L, 'unpredictable': 1L, 'race': 2L, 'victory': 2L, 'truth': 1L, 'wish': 1L, 'side': 1L, 'mean': 1L, 'credential': 1L, 'zzz_primaries': 6L, 'series': 1L, 'begin': 1L, 'zzz_bradley': 1L, 'engaging': 1L, 'elected': 1L, 'zzz_bruce_babbitt': 1L, 'election': 4L, 'surmount': 1L, 'fail': 1L, 'close': 1L, 'calendar': 5L, 'avoiding': 1L, 'excitement': 1L, 'countenanced': 1L, 'likelihood': 1L, 'cast': 1L, 'selected': 2L, 'continue': 2L, 'zzz_bush': 1L, 'nominees': 2L, 'progress': 1L, 'dilutes': 1L, 'judgment': 1L, 'public': 1L, 'zzz_new_hampshire': 6L, 'inevitably': 1L, 'zzz_national_association': 1L, 'transportation': 1L, 'schedule': 2L, 'equivalent': 1L, 'pushing': 1L, 'delegates': 4L, 'standard': 1L, 'voter': 2L, 'struggle': 1L, 'put': 2L, 'strong': 2L, 'beginning': 1L, 'earlier': 1L, 'raise': 1L, 'protect': 1L, 'feeling': 1L, 'flourished': 1L, 'country': 2L, 'rushed': 2L, 'moment': 1L, 'turn': 1L, 'american': 1L, 'disenfranchise': 1L, 'advertising': 1L, 'faces': 1L, 'seeing': 1L, 'narrow': 1L, 'settled': 1L, 'credible': 1L, 'zzz_iowa': 3L, 'presumably': 2L, 'author': 1L, 'campaign': 3L, 'win': 1L, 'primary': 4L, 'apt': 1L, 'raiser': 1L, 'formidable': 1L, 'vote': 1L, 'zzz_committee': 1L, 'precisely': 1L, 'zzz_mccain': 2L, 'quit': 1L, 'tuning': 1L, 'zzz_william_galvin': 1L, 'similarly': 1L, 'nomination': 1L, 'tinkering': 1L, 'question': 1L, 'shortening': 1L, 'start': 1L, 'assuring': 1L, 'zzz_arizona': 2L, 'zzz_white_house': 1L, 'passed': 1L, 'spring': 1L, 'shouldered': 1L, 'conceivable': 1L, 'especially': 2L, 'type': 1L, 'historically': 1L, 'multistate': 1L, 'season': 1L, 'training': 1L, 'inched': 1L, 'part': 1L, 'survive': 1L, 'known': 1L, 'line': 3L, 'believe': 2L, 'producing': 1L, 'analyst': 1L, 'raising': 1L, 'underfunded': 2L, 'poll': 1L, 'secretary': 1L, 'science': 2L, 'past': 1L, 'accommodating': 1L, 'edged': 1L, 'zzz_south_carolina': 1L, 'final': 1L, 'spirited': 1L, 'politic': 2L, 'remain': 1L, 'supposed': 1L, 'zzz_sen_bill_bradley': 1L, 'voice': 1L, 'examples': 1L, 'president': 1L, 'zzz_al_gore': 1L, 'constant': 1L, 'nominee': 3L, 'largely': 1L, 'process': 3L, 'zzz_paul_tsongas': 1L, 'influence': 2L, 'startling': 1L, 'general': 2L, 'states': 3L, 'middle': 2L, 'single': 1L, 'dropped': 1L, 'nominating': 1L, 'ready': 1L, 'intramural': 1L, 'engages': 1L, 'worse': 1L, 'result': 1L, 'trick': 1L, 'waging': 1L, 'excused': 1L, 'assure': 1L, 'zzz_tennessee_gov_lamar_alexander': 1L, 'travel': 1L, 'judges': 1L, 'percent': 4L, 'ideas': 1L, 'zzz_texas_gov_george_w_bush': 1L, 'haphazard': 1L, 'chairman': 1L, 'grand': 1L, 'finding': 1L, 'party': 1L, 'establishment': 1L, 'defeat': 1L, 'status': 1L, 'badly': 1L, 'zzz_republican': 4L, 'finish': 1L, 'zzz_sen_john_mccain': 1L, 'intended': 1L, 'attend': 1L, 'opposite': 1L, 'await': 1L, 'running': 1L, 'plan': 1L, 'contest': 3L, 'meaningful': 1L, 'retail': 1L, 'remember': 1L, 'fund': 1L, 'slightly': 1L, 'professor': 2L, 'zzz_american': 2L, 'spent': 1L, 'exhausting': 1L, 'prepare': 1L, 'democratic': 4L, 'starting': 1L, 'order': 1L}, {'summer': 1L, 'help': 1L, 'produces': 1L, 'shape': 1L, 'find': 1L, 'loading': 1L, 'candidate': 3L, 'winning': 2L, 'believing': 1L, 'sway': 1L, 'congressional': 1L, 'happened': 1L, 'hit': 1L, 'posed': 1L, 'zzz_witness': 1L, 'sooner': 1L, 'break': 1L, 'front': 1L, 'republican': 4L, 'struggled': 1L, 'gray': 2L, 'resolve': 1L, 'committees': 1L, 'success': 1L, 'feverish': 1L, 'leave': 1L, 'bad': 2L, 'race': 2L, 'guy': 1L, 'view': 2L, 'set': 1L, 'force': 1L, 'spring': 1L, 'reduce': 1L, 'zzz_bradley': 1L, 'hair': 2L, 'likely': 2L, 'result': 2L, 'concern': 1L, 'reform': 1L, 'supporter': 1L, 'shut': 1L, 'evolved': 1L, 'pushing': 1L, 'notably': 1L, 'voter': 1L, 'change': 1L, 'stage': 1L, 'enormous': 1L, 'prescription': 1L, 'thread': 1L, 'country': 1L, 'zzz_joe_andrew': 1L, 'experience': 1L, 'participating': 1L, 'turn': 1L, 'tactical': 1L, 'mean': 1L, 'campaign': 3L, 'feel': 1L, 'washington': 1L, 'primary': 3L, 'traveled': 1L, 'uphill': 1L, 'likes': 1L, 'reducing': 1L, 'zzz_mccain': 1L, 'disinterested': 1L, 'complication': 1L, 'outsider': 1L, 'political': 2L, 'system': 3L, 'commission': 1L, 'examination': 1L, 'interest': 1L, 'convention': 1L, 'candidates': 2L, 'happy': 1L, 'season': 1L, 'offered': 1L, 'needle': 1L, 'tested': 1L, 'zzz_richard_bond': 2L, 'worked': 1L, 'hold': 2L, 'present': 1L, 'count': 1L, 'distance': 1L, 'exception': 1L, 'consultant': 1L, 'past': 1L, 'record': 1L, 'policies': 1L, 'learn': 1L, 'feeling': 1L, 'zzz_paul_begala': 1L, 'zzz_bob_dole': 1L, 'nominee': 2L, 'played': 1L, 'process': 2L, 'states': 1L, 'examine': 1L, 'campaigning': 1L, 'zzz_james_carville': 2L, 'fill': 1L, 'dominant': 1L, 'contest': 1L, 'zzz_clinton': 1L, 'shorter': 1L, 'role': 1L, 'chairman': 2L, 'zzz_donald_trump': 1L, 'zzz_party': 5L, 'play': 1L, 'zzz_bill_clinton': 2L, 'chance': 2L, 'running': 1L, 'professional': 1L, 'nomination': 2L, 'grow': 1L, 'cycle': 1L, 'early': 3L, 'fighter': 1L, 'largely': 1L, 'traditional': 1L, 'compete': 1L, 'fundamental': 1L, 'position': 1L, 'democratic': 2L}, {'summer': 1L, 'help': 1L, 'produces': 1L, 'shape': 1L, 'find': 1L, 'loading': 1L, 'candidate': 3L, 'winning': 2L, 'believing': 1L, 'sway': 1L, 'congressional': 1L, 'happened': 1L, 'hit': 1L, 'posed': 1L, 'zzz_witness': 1L, 'sooner': 1L, 'break': 1L, 'front': 1L, 'republican': 4L, 'struggled': 1L, 'gray': 2L, 'resolve': 1L, 'committees': 1L, 'success': 1L, 'feverish': 1L, 'leave': 1L, 'bad': 2L, 'race': 2L, 'guy': 1L, 'view': 2L, 'set': 1L, 'force': 1L, 'spring': 1L, 'reduce': 1L, 'zzz_bradley': 1L, 'hair': 2L, 'likely': 2L, 'result': 2L, 'concern': 1L, 'reform': 1L, 'supporter': 1L, 'shut': 1L, 'evolved': 1L, 'pushing': 1L, 'notably': 1L, 'voter': 1L, 'change': 1L, 'stage': 1L, 'enormous': 1L, 'prescription': 1L, 'thread': 1L, 'country': 1L, 'zzz_joe_andrew': 1L, 'experience': 1L, 'participating': 1L, 'turn': 1L, 'tactical': 1L, 'mean': 1L, 'campaign': 3L, 'feel': 1L, 'washington': 1L, 'primary': 3L, 'traveled': 1L, 'uphill': 1L, 'likes': 1L, 'reducing': 1L, 'zzz_mccain': 1L, 'disinterested': 1L, 'complication': 1L, 'outsider': 1L, 'political': 2L, 'system': 3L, 'commission': 1L, 'examination': 1L, 'interest': 1L, 'convention': 1L, 'candidates': 2L, 'happy': 1L, 'season': 1L, 'offered': 1L, 'needle': 1L, 'tested': 1L, 'zzz_richard_bond': 2L, 'worked': 1L, 'hold': 2L, 'present': 1L, 'count': 1L, 'distance': 1L, 'exception': 1L, 'consultant': 1L, 'past': 1L, 'record': 1L, 'policies': 1L, 'learn': 1L, 'feeling': 1L, 'zzz_paul_begala': 1L, 'zzz_bob_dole': 1L, 'nominee': 2L, 'played': 1L, 'process': 2L, 'states': 1L, 'examine': 1L, 'campaigning': 1L, 'zzz_james_carville': 2L, 'fill': 1L, 'dominant': 1L, 'contest': 1L, 'zzz_clinton': 1L, 'shorter': 1L, 'role': 1L, 'chairman': 2L, 'zzz_donald_trump': 1L, 'zzz_party': 5L, 'play': 1L, 'zzz_bill_clinton': 2L, 'chance': 2L, 'running': 1L, 'professional': 1L, 'nomination': 2L, 'grow': 1L, 'cycle': 1L, 'early': 3L, 'fighter': 1L, 'largely': 1L, 'traditional': 1L, 'compete': 1L, 'fundamental': 1L, 'position': 1L, 'democratic': 2L}, {'essay': 2L, 'represent': 1L, 'zzz_bessie_smith': 1L, 'medalist': 1L, 'rom': 2L, 'saying': 2L, 'captures': 1L, 'executive': 1L, 'unseen': 1L, 'fabricated': 1L, 'zzz_u_s': 1L, 'psyche': 1L, 'drawer': 1L, 'paper': 1L, 'human': 3L, 'integrity': 1L, 'principal': 1L, 'zzz_harvard': 1L, 'collaborated': 1L, 'generous': 2L, 'fit': 1L, 'chosen': 1L, 'reel': 1L, 'zzz_northern_mariana_island': 1L, 'winner': 2L, 'values': 1L, 'spoken': 1L, 'finally': 1L, 'wood': 1L, 'black': 2L, 'choose': 1L, 'developed': 1L, 'millennium': 1L, 'smart': 1L, 'congressional': 1L, 'capsules': 1L, 'seeking': 1L, 'compassion': 1L, 'showing': 1L, 'nation': 2L, 'early': 1L, 'capsule': 4L, 'courage': 2L, 'humanities': 1L, 'birth': 1L, 'recipient': 2L, 'realize': 1L, 'presidential': 1L, 'school': 1L, 'scholar': 1L, 'gift': 1L, 'countries': 1L, 'collective': 1L, 'accompanying': 1L, 'composition': 1L, 'large': 1L, 'item': 3L, 'continue': 1L, 'announced': 1L, 'zzz_smithsonian_institution': 2L, 'anti': 1L, 'limit': 1L, 'zzz_august_wilson': 1L, 'wrote': 2L, 'brave': 1L, 'titled': 1L, 'generation': 2L, 'zzz_hillary_rodham_clinton': 1L, 'oppressed': 1L, 'past': 1L, 'culture': 1L, 'defense': 1L, 'design': 2L, 'convey': 1L, 'origami': 1L, 'functioning': 1L, 'profound': 1L, 'blue': 1L, 'shapes': 1L, 'ultimately': 1L, 'computer': 1L, 'space': 2L, 'historic': 1L, 'cell': 1L, 'written': 1L, 'sustain': 1L, 'rotunda': 1L, 'fortitude': 1L, 'zzz_berlin_wall': 1L, 'red': 1L, 'eagle': 2L, 'biology': 1L, 'zzz_cherokee': 2L, 'chose': 1L, 'power': 1L, 'rolled': 1L, 'learn': 1L, 'drawing': 1L, 'twentieth': 1L, 'grapes': 1L, 'resurrection': 1L, 'beginning': 1L, 'properties': 1L, 'bronze': 1L, 'publication': 1L, 'suggested': 2L, 'received': 1L, 'climate': 1L, 'baptism': 1L, 'actual': 1L, 'redemption': 1L, 'language': 2L, 'created': 1L, 'universe': 1L, 'zzz_james_watson': 1L, 'experience': 1L, 'display': 3L, 'silicon': 1L, 'honoring': 1L, 'american': 1L, 'important': 1L, 'place': 1L, 'stand': 2L, 'stainless': 2L, 'discard': 1L, 'contribution': 1L, 'fell': 1L, 'zzz_world_war_ii': 1L, 'playwright': 1L, 'love': 1L, 'reverence': 1L, 'simple': 1L, 'sweet': 1L, 'explained': 1L, 'commitment': 1L, 'grade': 1L, 'submission': 2L, 'feet': 3L, 'thankful': 1L, 'zzz_freedom': 3L, 'ninety': 1L, 'promise': 1L, 'crafted': 1L, 'strip': 2L, 'elementary': 1L, 'respect': 1L, 'fight': 1L, 'open': 1L, 'engineer': 1L, 'stuttered': 1L, 'ancient': 1L, 'legacy': 1L, 'wrath': 1L, 'area': 1L, 'zzz_washington': 1L, 'century': 1L, 'racism': 1L, 'teacher': 2L, 'chief': 1L, 'live': 1L, 'refuge': 1L, 'sealed': 1L, 'zzz_twinkie': 1L, 'expected': 1L, 'architect': 1L, 'white': 1L, 'compartment': 1L, 'today': 1L, 'archives': 1L, 'project': 1L, 'letter': 1L, 'controlled': 1L, 'statement': 1L, 'trait': 1L, 'completed': 2L, 'formed': 2L, 'immemorial': 1L, 'award': 2L, 'symbolizing': 1L, 'flag': 2L, 'part': 1L, 'taught': 1L, 'survived': 1L, 'child': 1L, 'believe': 1L, 'representing': 1L, 'steel': 2L, 'prototype': 3L, 'landing': 1L, 'effective': 1L, 'heard': 1L, 'zzz_right': 2L, 'instruction': 1L, 'submitted': 5L, 'recording': 1L, 'remain': 1L, 'future': 4L, 'obvious': 1L, 'relocated': 1L, 'zzz_w_e_b_du_bois': 1L, 'country': 1L, 'industrial': 2L, 'mighty': 1L, 'piece': 2L, 'called': 1L, 'history': 2L, 'zzz_american': 4L, 'motif': 1L, 'citizenship': 1L, 'inclusive': 1L, 'defined': 1L, 'banded': 1L, 'chip': 1L, 'official': 2L, 'mine': 1L, 'deep': 1L, 'zzz_amidst': 1L, 'high': 1L, 'titanium': 1L, 'smaller': 1L, 'audiences': 1L, 'carved': 1L, 'unveiled': 1L, 'seen': 1L, 'sunglasses': 1L, 'zzz_cold_spring_harbor_laboratory': 1L, 'fairer': 1L, 'film': 1L, 'zzz_oklahoma': 1L, 'helmet': 1L, 'secure': 1L, 'sit': 1L, 'alphabet': 1L, 'song': 2L, 'ideas': 1L, 'actor': 1L, 'zzz_clinton': 1L, 'write': 1L, 'zzz_america': 4L, 'chest': 1L, 'book': 1L, 'republic': 1L, 'genome': 1L, 'explanation': 1L, 'zzz_bill': 1L, 'development': 1L, 'replicas': 1L, 'summer': 2L, 'comprehensive': 1L, 'symbol': 1L, 'object': 1L, 'solicited': 1L, 'director': 4L, 'class': 1L, 'produce': 1L, 'plan': 1L, 'student': 2L, 'society': 1L, 'president': 1L, 'medal': 2L, 'zzz_gregory_peck': 1L, 'lower': 1L, 'land': 2L, 'individual': 1L, 'council': 1L, 'older': 1L, 'zzz_national_museum': 2L, 'age': 1L, 'zzz_encarta_africana': 1L, 'metal': 2L, 'cultural': 1L, 'zzz_neil_armstrong': 1L, 'fondest': 1L, 'construction': 1L, 'encyclopedia': 2L, 'artistic': 1L, 'communication': 1L, 'determination': 1L, 'embodying': 1L, 'zzz_ray_charles': 1L, 'hope': 2L}, {'essay': 2L, 'represent': 1L, 'zzz_bessie_smith': 1L, 'medalist': 1L, 'rom': 2L, 'saying': 2L, 'captures': 1L, 'executive': 1L, 'unseen': 1L, 'fabricated': 1L, 'zzz_u_s': 1L, 'psyche': 1L, 'drawer': 1L, 'paper': 1L, 'human': 3L, 'integrity': 1L, 'principal': 1L, 'zzz_harvard': 1L, 'collaborated': 1L, 'generous': 2L, 'fit': 1L, 'chosen': 1L, 'reel': 1L, 'zzz_northern_mariana_island': 1L, 'winner': 2L, 'values': 1L, 'spoken': 1L, 'finally': 1L, 'wood': 1L, 'black': 2L, 'choose': 1L, 'developed': 1L, 'millennium': 1L, 'smart': 1L, 'congressional': 1L, 'capsules': 1L, 'seeking': 1L, 'compassion': 1L, 'showing': 1L, 'nation': 2L, 'early': 1L, 'capsule': 4L, 'courage': 2L, 'humanities': 1L, 'birth': 1L, 'recipient': 2L, 'realize': 1L, 'presidential': 1L, 'school': 1L, 'scholar': 1L, 'gift': 1L, 'countries': 1L, 'collective': 1L, 'accompanying': 1L, 'composition': 1L, 'large': 1L, 'item': 3L, 'continue': 1L, 'announced': 1L, 'zzz_smithsonian_institution': 2L, 'anti': 1L, 'limit': 1L, 'zzz_august_wilson': 1L, 'wrote': 2L, 'brave': 1L, 'titled': 1L, 'generation': 2L, 'zzz_hillary_rodham_clinton': 1L, 'oppressed': 1L, 'past': 1L, 'culture': 1L, 'defense': 1L, 'design': 2L, 'convey': 1L, 'origami': 1L, 'functioning': 1L, 'profound': 1L, 'blue': 1L, 'shapes': 1L, 'ultimately': 1L, 'computer': 1L, 'space': 2L, 'historic': 1L, 'cell': 1L, 'written': 1L, 'sustain': 1L, 'rotunda': 1L, 'fortitude': 1L, 'zzz_berlin_wall': 1L, 'red': 1L, 'eagle': 2L, 'biology': 1L, 'zzz_cherokee': 2L, 'chose': 1L, 'power': 1L, 'rolled': 1L, 'learn': 1L, 'drawing': 1L, 'twentieth': 1L, 'grapes': 1L, 'resurrection': 1L, 'beginning': 1L, 'properties': 1L, 'bronze': 1L, 'publication': 1L, 'suggested': 2L, 'received': 1L, 'climate': 1L, 'baptism': 1L, 'actual': 1L, 'redemption': 1L, 'language': 2L, 'created': 1L, 'universe': 1L, 'zzz_james_watson': 1L, 'experience': 1L, 'display': 3L, 'silicon': 1L, 'honoring': 1L, 'american': 1L, 'important': 1L, 'place': 1L, 'stand': 2L, 'stainless': 2L, 'discard': 1L, 'contribution': 1L, 'fell': 1L, 'zzz_world_war_ii': 1L, 'playwright': 1L, 'love': 1L, 'reverence': 1L, 'simple': 1L, 'sweet': 1L, 'explained': 1L, 'commitment': 1L, 'grade': 1L, 'submission': 2L, 'feet': 3L, 'thankful': 1L, 'zzz_freedom': 3L, 'ninety': 1L, 'promise': 1L, 'crafted': 1L, 'strip': 2L, 'elementary': 1L, 'respect': 1L, 'fight': 1L, 'open': 1L, 'engineer': 1L, 'stuttered': 1L, 'ancient': 1L, 'legacy': 1L, 'wrath': 1L, 'area': 1L, 'zzz_washington': 1L, 'century': 1L, 'racism': 1L, 'teacher': 2L, 'chief': 1L, 'live': 1L, 'refuge': 1L, 'sealed': 1L, 'zzz_twinkie': 1L, 'expected': 1L, 'architect': 1L, 'white': 1L, 'compartment': 1L, 'today': 1L, 'archives': 1L, 'project': 1L, 'letter': 1L, 'controlled': 1L, 'statement': 1L, 'trait': 1L, 'completed': 2L, 'formed': 2L, 'immemorial': 1L, 'award': 2L, 'symbolizing': 1L, 'flag': 2L, 'part': 1L, 'taught': 1L, 'survived': 1L, 'child': 1L, 'believe': 1L, 'representing': 1L, 'steel': 2L, 'prototype': 3L, 'landing': 1L, 'effective': 1L, 'heard': 1L, 'zzz_right': 2L, 'instruction': 1L, 'submitted': 5L, 'recording': 1L, 'remain': 1L, 'future': 4L, 'obvious': 1L, 'relocated': 1L, 'zzz_w_e_b_du_bois': 1L, 'country': 1L, 'industrial': 2L, 'mighty': 1L, 'piece': 2L, 'called': 1L, 'history': 2L, 'zzz_american': 4L, 'motif': 1L, 'citizenship': 1L, 'inclusive': 1L, 'defined': 1L, 'banded': 1L, 'chip': 1L, 'official': 2L, 'mine': 1L, 'deep': 1L, 'zzz_amidst': 1L, 'high': 1L, 'titanium': 1L, 'smaller': 1L, 'audiences': 1L, 'carved': 1L, 'unveiled': 1L, 'seen': 1L, 'sunglasses': 1L, 'zzz_cold_spring_harbor_laboratory': 1L, 'fairer': 1L, 'film': 1L, 'zzz_oklahoma': 1L, 'helmet': 1L, 'secure': 1L, 'sit': 1L, 'alphabet': 1L, 'song': 2L, 'ideas': 1L, 'actor': 1L, 'zzz_clinton': 1L, 'write': 1L, 'zzz_america': 4L, 'chest': 1L, 'book': 1L, 'republic': 1L, 'genome': 1L, 'explanation': 1L, 'zzz_bill': 1L, 'development': 1L, 'replicas': 1L, 'summer': 2L, 'comprehensive': 1L, 'symbol': 1L, 'object': 1L, 'solicited': 1L, 'director': 4L, 'class': 1L, 'produce': 1L, 'plan': 1L, 'student': 2L, 'society': 1L, 'president': 1L, 'medal': 2L, 'zzz_gregory_peck': 1L, 'lower': 1L, 'land': 2L, 'individual': 1L, 'council': 1L, 'older': 1L, 'zzz_national_museum': 2L, 'age': 1L, 'zzz_encarta_africana': 1L, 'metal': 2L, 'cultural': 1L, 'zzz_neil_armstrong': 1L, 'fondest': 1L, 'construction': 1L, 'encyclopedia': 2L, 'artistic': 1L, 'communication': 1L, 'determination': 1L, 'embodying': 1L, 'zzz_ray_charles': 1L, 'hope': 2L}, {'cave': 2L, 'evidence': 1L, 'shoes': 2L, 'cried': 1L, 'money': 1L, 'surrender': 1L, 'paper': 1L, 'victim': 5L, 'dirty': 1L, 'zzz_jang': 3L, 'children': 4L, 'tables': 1L, 'apartment': 3L, 'police': 9L, 'office': 2L, 'mother': 2L, 'hated': 1L, 'sale': 1L, 'dispose': 1L, 'upstair': 1L, 'actually': 1L, 'finally': 1L, 'spread': 1L, 'easy': 1L, 'wet': 1L, 'tormented': 1L, 'fool': 1L, 'complaint': 1L, 'mixture': 1L, 'fate': 1L, 'entire': 1L, 'read': 1L, 'killer': 5L, 'nation': 1L, 'early': 1L, 'historic': 1L, 'diary': 1L, 'wealthy': 1L, 'son': 1L, 'killed': 2L, 'easily': 1L, 'term': 1L, 'rumpled': 1L, 'announcing': 1L, 'policeman': 1L, 'wooden': 1L, 'notes': 1L, 'confederates': 1L, 'list': 1L, 'satchel': 1L, 'admitted': 1L, 'fretted': 1L, 'large': 2L, 'item': 1L, 'offices': 1L, 'annotated': 1L, 'drainage': 1L, 'small': 1L, 'found': 2L, 'clothes': 2L, 'cry': 1L, 'pledge': 2L, 'badly': 1L, 'arrested': 1L, 'belonged': 1L, 'crimes': 2L, 'dead': 1L, 'past': 1L, 'society': 1L, 'likely': 1L, 'accused': 1L, 'surrendered': 1L, 'unsure': 1L, 'died': 1L, 'acid': 3L, 'contend': 1L, 'army': 1L, 'friend': 1L, 'container': 1L, 'pathetic': 1L, 'section': 1L, 'beaten': 1L, 'recorded': 1L, 'find': 2L, 'looking': 1L, 'written': 2L, 'custody': 2L, 'summoned': 1L, 'shared': 1L, 'learned': 1L, 'public': 2L, 'filled': 1L, 'told': 3L, 'body': 1L, 'earlier': 1L, 'led': 1L, 'parent': 1L, 'missing': 1L, 'slaying': 1L, 'revenge': 2L, 'fugitive': 1L, 'death': 1L, 'notorious': 1L, 'alleyway': 1L, 'killing': 1L, 'business': 1L, 'heroic': 1L, 'hiding': 1L, 'retribution': 1L, 'boy': 1L, 'dates': 1L, 'piles': 2L, 'invited': 1L, 'incriminating': 1L, 'according': 1L, 'acknowledged': 1L, 'called': 1L, 'murderer': 3L, 'bothersome': 1L, 'act': 1L, 'cyanide': 1L, 'enticed': 1L, 'introduced': 1L, 'binge': 1L, 'beggar': 1L, 'staggered': 1L, 'family': 1L, 'danger': 1L, 'search': 1L, 'merely': 2L, 'confession': 1L, 'reflected': 1L, 'young': 2L, 'fantasy': 1L, 'names': 1L, 'traveler': 1L, 'mass': 2L, 'runaway': 1L, 'fed': 1L, 'accomplices': 1L, 'zzz_pakistan': 1L, 'publication': 1L, 'homicidal': 1L, 'caught': 1L, 'slept': 1L, 'deadlines': 1L, 'haggard': 1L, 'breath': 1L, 'immense': 1L, 'poured': 1L, 'zzz_english': 1L, 'calm': 1L, 'interest': 1L, 'mean': 1L, 'unrepentant': 1L, 'tell': 1L, 'today': 1L, 'wobbly': 1L, 'suffocated': 1L, 'rummage': 1L, 'stopped': 1L, 'lived': 1L, 'passed': 1L, 'riot': 1L, 'relieved': 1L, 'ages': 1L, 'thousand': 1L, 'mask': 1L, 'took': 1L, 'zzz_criticism': 1L, 'grief': 1L, 'fund': 1L, 'repeated': 1L, 'drown': 1L, 'wanted': 2L, 'suspected': 1L, 'trying': 1L, 'violate': 1L, 'reporter': 3L, 'count': 1L, 'word': 1L, 'wore': 1L, 'hour': 1L, 'recall': 1L, 'cash': 1L, 'entertained': 1L, 'decided': 1L, 'apples': 1L, 'newspaper': 2L, 'sister': 1L, 'problem': 2L, 'minutes': 1L, 'inhale': 1L, 'gallow': 1L, 'teen': 1L, 'confessional': 1L, 'servant': 1L, 'zzz_lahore': 2L, 'confessed': 1L, 'turned': 1L, 'sleeping': 1L, 'helped': 1L, 'tiny': 1L, 'frantic': 1L, 'receptionist': 2L, 'spectacle': 1L, 'station': 1L, 'deed': 1L, 'clothing': 1L, 'check': 1L, 'charged': 1L, 'huge': 1L, 'terrorist': 1L, 'scoop': 1L, 'saw': 1L, 'seeking': 1L, 'pressing': 1L, 'detail': 1L, 'vat': 2L, 'chemical': 1L, 'action': 1L, 'morbid': 1L, 'holding': 1L, 'place': 1L, 'parental': 1L, 'residue': 1L, 'hunt': 1L, 'intended': 1L, 'diaries': 1L, 'reporting': 1L, 'questioning': 1L, 'helping': 1L, 'wrinkled': 1L, 'vengeance': 1L, 'hide': 1L, 'lobby': 1L, 'culvert': 2L, 'complained': 1L, 'dissolving': 1L, 'drain': 1L, 'succeeded': 1L, 'scourge': 1L, 'request': 1L, 'spent': 1L, 'daily': 1L, 'asked': 1L, 'looked': 1L, 'sodomy': 1L, 'sewer': 1L, 'snapshot': 1L, 'remarked': 1L, 'lined': 1L, 'egg': 1L, 'bodies': 2L, 'left': 1L}, {'summer': 1L, 'show': 1L, 'money': 1L, 'dollar': 1L, 'soon': 1L, 'competitive': 2L, 'founded': 1L, 'catch': 1L, 'zzz_new_york': 1L, 'zzz_minnesota': 1L, 'zzz_california': 1L, 'follow': 1L, 'cold': 1L, 'conservative': 1L, 'zzz_richard_nixon': 1L, 'find': 2L, 'ground': 1L, 'begin': 1L, 'adding': 1L, 'giant': 1L, 'disregarded': 1L, 'campaign': 4L, 'candidate': 1L, 'recover': 1L, 'disposal': 1L, 'mantle': 1L, 'zzz_steve_forbes': 1L, 'add': 1L, 'bracing': 1L, 'candidates': 4L, 'include': 2L, 'jab': 1L, 'hope': 1L, 'real': 2L, 'adviser': 1L, 'greater': 1L, 'aggressively': 1L, 'material': 1L, 'rush': 1L, 'choice': 1L, 'zzz_texas': 1L, 'possibly': 1L, 'candid': 1L, 'half': 1L, 'front': 2L, 'affect': 1L, 'emergence': 1L, 'republican': 3L, 'caucuses': 1L, 'presidential': 2L, 'entire': 1L, 'term': 1L, 'zzz_senator_mccain': 3L, 'fortune': 1L, 'selectman': 1L, 'democrat': 2L, 'loses': 1L, 'race': 1L, 'zzz_new_hampshire': 6L, 'truth': 1L, 'recall': 1L, 'side': 1L, 'mean': 1L, 'upper': 1L, 'politicking': 1L, 'constructing': 1L, 'truncated': 1L, 'deluge': 1L, 'hard': 1L, 'zzz_republican': 2L, 'potent': 1L, 'sign': 2L, 'unexpectedly': 1L, 'challenger': 1L, 'tidily': 1L, 'election': 1L, 'close': 2L, 'calendar': 1L, 'organizing': 1L, 'skill': 1L, 'situation': 1L, 'contend': 1L, 'shown': 1L, 'describing': 1L, 'leader': 1L, 'reform': 1L, 'firecracker': 1L, 'rejiggered': 1L, 'expressed': 1L, 'mayor': 1L, 'zzz_ed_rendell': 2L, 'juggernaut': 1L, 'zzz_bush': 4L, 'nominees': 1L, 'chairmen': 1L, 'commentator': 1L, 'public': 1L, 'exercise': 1L, 'attention': 1L, 'recently': 1L, 'schedule': 3L, 'commercial': 1L, 'million': 2L, 'wrapping': 1L, 'votes': 1L, 'free': 1L, 'electoral': 1L, 'unusually': 1L, 'losing': 1L, 'alert': 1L, 'optional': 1L, 'intense': 1L, 'stage': 1L, 'comparison': 1L, 'dates': 1L, 'zzz_n_h': 1L, 'ahead': 1L, 'battling': 1L, 'seeking': 1L, 'funded': 1L, 'equal': 1L, 'comment': 1L, 'drama': 1L, 'turn': 2L, 'american': 1L, 'stick': 1L, 'survey': 1L, 'threat': 2L, 'faces': 1L, 'retail': 1L, 'traded': 1L, 'asked': 1L, 'stakes': 1L, 'sticking': 1L, 'zzz_iowa': 4L, 'major': 1L, 'hero': 1L, 'family': 1L, 'striking': 1L, 'threatening': 1L, 'contender': 5L, 'period': 1L, 'rank': 1L, 'sway': 1L, 'weather': 1L, 'zzz_nelson_rockefeller': 1L, 'carry': 1L, 'poll': 1L, 'bingo': 1L, 'eye': 1L, 'stretch': 1L, 'beginning': 1L, 'political': 2L, 'quickly': 1L, 'parties': 2L, 'runner': 2L, 'zzz_jim_nicholson': 4L, 'zzz_arizona': 1L, 'dash': 1L, 'leading': 1L, 'head': 2L, 'frenzied': 1L, 'season': 2L, 'government': 1L, 'apparent': 1L, 'zzz_lyndon_johnson': 2L, 'fund': 1L, 'races': 1L, 'zzz_gov_jesse_ventura': 1L, 'qualm': 1L, 'known': 1L, 'zzz_bradley': 2L, 'brushed': 1L, 'potential': 1L, 'raising': 1L, 'twist': 1L, 'keeping': 1L, 'calculus': 1L, 'debates': 1L, 'happen': 1L, 'frozen': 1L, 'rival': 1L, 'challenge': 1L, 'zzz_pat_buchanan': 1L, 'critic': 1L, 'zzz_south_carolina': 1L, 'cast': 1L, 'strategize': 1L, 'zzz_national_committee': 2L, 'prelude': 1L, 'sedate': 1L, 'speediest': 1L, 'zzz_sen_bill_bradley': 1L, 'outcome': 1L, 'playing': 1L, 'recalling': 1L, 'unfolding': 1L, 'zzz_ross_perot': 2L, 'zzz_al_gore': 5L, 'estate': 1L, 'retires': 1L, 'zzz_gov_george_w_bush': 1L, 'zzz_philadelphia': 1L, 'tycoon': 1L, 'general': 2L, 'states': 3L, 'authentic': 1L, 'hearten': 1L, 'comfortably': 1L, 'elbowed': 1L, 'unanticipated': 1L, 'organizational': 1L, 'campaigning': 2L, 'zzz_john_kennedy': 2L, 'television': 1L, 'hastened': 1L, 'viewed': 1L, 'string': 1L, 'democratic': 2L, 'counting': 1L, 'piled': 1L, 'pay': 1L, 'stake': 1L, 'reminded': 1L, 'clearly': 1L, 'high': 2L, 'unaccustomed': 1L, 'chairman': 3L, 'zzz_donald_trump': 1L, 'zzz_party': 2L, 'primaries': 1L, 'ferocious': 1L, 'profile': 1L, 'unbelievable': 1L, 'zzz_sen_john_mccain': 1L, 'handicap': 1L, 'surprise': 1L, 'immersed': 1L, 'enter': 1L, 'reach': 1L, 'primary': 3L, 'hand': 1L, 'donation': 1L, 'regular': 1L, 'favorites': 1L, 'successive': 1L, 'account': 1L, 'advocates': 1L, 'anticipated': 1L, 'nomination': 3L, 'sides': 1L, 'muscle': 1L, 'center': 1L, 'overtaken': 1L, 'practically': 1L, 'considered': 2L, 'contest': 3L, 'face': 2L, 'zzz_national_football_league': 1L, 'credibility': 1L, 'position': 1L, 'voting': 1L, 'unglued': 1L, 'zzz_new_jersey': 1L, 'gain': 1L}, {'managed': 1L, 'zzz_michigan': 1L, 'institutional': 2L, 'dynamic': 1L, 'soon': 1L, 'zzz_gary_hart': 1L, 'zzz_poll': 1L, 'financially': 1L, 'zzz_new_york': 1L, 'committed': 1L, 'sneaking': 1L, 'zzz_rudman': 1L, 'assembled': 1L, 'zzz_supreme_court': 1L, 'retirement': 1L, 'group': 1L, 'candidate': 2L, 'insurgencies': 1L, 'cemetery': 1L, 'labor': 1L, 'failed': 1L, 'program': 1L, 'candidates': 1L, 'raising': 1L, 'pretty': 1L, 'poised': 2L, 'match': 1L, 'alter': 1L, 'resources': 1L, 'luxury': 1L, 'predecessor': 1L, 'adviser': 1L, 'digit': 1L, 'explained': 1L, 'exaggeration': 1L, 'government': 1L, 'showing': 1L, 'endorsement': 1L, 'expectation': 2L, 'break': 1L, 'nightly': 1L, 'nearly': 1L, 'despite': 1L, 'front': 1L, 'affect': 2L, 'republican': 2L, 'presidential': 2L, 'matched': 1L, 'loss': 1L, 'critically': 1L, 'double': 1L, 'impressive': 1L, 'retake': 1L, 'chamber': 1L, 'victories': 1L, 'journalist': 1L, 'lose': 1L, 'redraw': 1L, 'side': 1L, 'triumph': 1L, 'prevailing': 1L, 'zzz_new_york_mayor_rudolph_giuliani': 1L, 'tougher': 1L, 'chunk': 1L, 'showdown': 1L, 'positioned': 1L, 'begin': 1L, 'competition': 1L, 'seat': 3L, 'battle': 1L, 'likely': 1L, 'allure': 1L, 'expect': 1L, 'operation': 1L, 'octane': 1L, 'contend': 1L, 'established': 1L, 'ultimately': 1L, 'opened': 1L, 'mantra': 1L, 'subsequent': 2L, 'candidacies': 1L, 'boundaries': 1L, 'granite': 1L, 'race': 1L, 'legislator': 2L, 'zzz_bush': 6L, 'net': 1L, 'momentum': 1L, 'strategist': 1L, 'public': 1L, 'zzz_new_hampshire': 8L, 'zzz_walter_mondale': 1L, 'led': 1L, 'power': 1L, 'delegates': 1L, 'unstoppable': 1L, 'voter': 3L, 'advantages': 2L, 'zzz_white_house': 4L, 'zzz_gore': 6L, 'convert': 1L, 'census': 1L, 'recites': 1L, 'face': 1L, 'guide': 1L, 'drama': 1L, 'perhap': 1L, 'stand': 1L, 'pick': 1L, 'comes': 1L, 'campaign': 4L, 'firewall': 1L, 'win': 5L, 'northeastern': 1L, 'primary': 2L, 'reaches': 1L, 'governor': 1L, 'zzz_nbc': 1L, 'zzz_mccain': 12L, 'legislative': 1L, 'zzz_karl_rove': 1L, 'district': 1L, 'agree': 1L, 'addition': 1L, 'mastermind': 1L, 'political': 1L, 'process': 1L, 'slowly': 1L, 'interest': 2L, 'expected': 2L, 'zzz_arizona': 1L, 'zzz_hillary_rodham_clinton': 1L, 'opponent': 2L, 'door': 1L, 'snatching': 1L, 'multistate': 1L, 'season': 1L, 'explanation': 1L, 'scrutiny': 1L, 'fund': 1L, 'potent': 1L, 'personally': 1L, 'line': 1L, 'zzz_bradley': 11L, 'reel': 1L, 'zzz_tom_brokaw': 1L, 'longer': 1L, 'charmed': 2L, 'exception': 1L, 'toppling': 1L, 'politician': 1L, 'elected': 1L, 'invincible': 1L, 'vacancies': 1L, 'official': 1L, 'zzz_south_carolina': 1L, 'excitement': 1L, 'evenly': 2L, 'congressional': 1L, 'demonstrate': 1L, 'zzz_boston': 1L, 'anchor': 1L, 'bet': 1L, 'history': 3L, 'control': 3L, 'real': 1L, 'devastating': 1L, 'trump': 1L, 'nominee': 1L, 'runner': 1L, 'election': 3L, 'circuited': 1L, 'states': 1L, 'awakening': 1L, 'need': 1L, 'counting': 1L, 'dozen': 1L, 'result': 1L, 'huge': 1L, 'contest': 1L, 'media': 1L, 'divided': 1L, 'stake': 1L, 'high': 2L, 'potential': 1L, 'zzz_senate': 2L, 'significance': 1L, 'ferment': 1L, 'party': 1L, 'ordinary': 2L, 'fill': 1L, 'independent': 2L, 'zzz_republican': 2L, 'finish': 1L, 'hankering': 1L, 'arguing': 1L, 'whistling': 1L, 'stay': 1L, 'scientist': 1L, 'sure': 1L, 'chance': 2L, 'important': 2L, 'coming': 1L, 'president': 2L, 'nomination': 2L, 'sides': 2L, 'gain': 1L, 'short': 1L, 'branches': 1L, 'remember': 1L, 'energize': 1L, 'concentrating': 1L, 'clear': 1L, 'camp': 1L, 'worked': 1L, 'breather': 1L, 'thought': 1L, 'broadcasting': 1L, 'command': 1L, 'fact': 1L, 'allow': 1L, 'zzz_university': 1L, 'organization': 2L, 'voting': 1L, 'zzz_democrat': 4L, 'dragged': 1L, 'zzz_r_n_h': 1L, 'gallup': 1L}, {'unimpeded': 1L, 'summer': 1L, 'managed': 1L, 'versed': 1L, 'money': 1L, 'half': 1L, 'zzz_ohio': 2L, 'zzz_department': 2L, 'awful': 1L, 'economy': 1L, 'aspect': 1L, 'argued': 1L, 'aggressive': 1L, 'debate': 1L, 'captured': 1L, 'zzz_youngstown': 1L, 'cut': 1L, 'grabbed': 1L, 'burning': 1L, 'glide': 1L, 'point': 1L, 'winning': 1L, 'candidates': 3L, 'zzz_alan_keyes': 1L, 'policy': 1L, 'overcome': 1L, 'chairman': 2L, 'paying': 1L, 'finance': 1L, 'righted': 1L, 'big': 1L, 'expectation': 1L, 'choice': 1L, 'early': 1L, 'football': 1L, 'game': 1L, 'zzz_family_research_council': 1L, 'zzz_utah': 1L, 'despite': 1L, 'front': 1L, 'emergence': 1L, 'republican': 4L, 'discuss': 1L, 'success': 1L, 'towered': 1L, 'democrat': 1L, 'leader': 1L, 'zzz_gov_lamar_alexander': 1L, 'slide': 1L, 'race': 3L, 'rival': 2L, 'reinvent': 1L, 'endorsed': 1L, 'economically': 1L, 'enjoy': 1L, 'shed': 1L, 'set': 2L, 'human': 1L, 'seasoning': 1L, 'lifetimes': 1L, 'incumbency': 1L, 'terrain': 1L, 'zzz_bradley': 1L, 'elected': 2L, 'economic': 1L, 'election': 1L, 'scares': 1L, 'zzz_sen_orrin_hatch': 1L, 'concern': 1L, 'poll': 1L, 'trapping': 1L, 'record': 1L, 'clearing': 1L, 'decision': 1L, 'interference': 1L, 'conservative': 1L, 'crush': 1L, 'health': 2L, 'issues': 8L, 'zzz_bush': 7L, 'nominees': 1L, 'chairmen': 1L, 'issue': 1L, 'public': 1L, 'contrast': 1L, 'million': 1L, 'nation': 1L, 'power': 1L, 'zzz_congress': 1L, 'wrangling': 1L, 'marketing': 1L, 'pushing': 1L, 'expansion': 1L, 'zzz_rochester': 1L, 'zzz_gore': 2L, 'nimble': 1L, 'voter': 1L, 'opposition': 1L, 'practically': 1L, 'crowned': 1L, 'care': 2L, 'faced': 1L, 'defend': 1L, 'candidate': 1L, 'ahead': 1L, 'god': 1L, 'vehemently': 1L, 'experience': 1L, 'foreign': 1L, 'cogent': 1L, 'nominating': 1L, 'social': 1L, 'confronted': 1L, 'bruised': 1L, 'campaign': 4L, 'striking': 1L, 'owe': 1L, 'image': 1L, 'private': 1L, 'feet': 1L, 'moral': 1L, 'determine': 1L, 'parties': 1L, 'electorate': 1L, 'actually': 1L, 'zzz_mccain': 2L, 'standing': 1L, 'aren': 1L, 'leading': 1L, 'create': 2L, 'support': 1L, 'political': 4L, 'runner': 1L, 'poured': 1L, 'devoting': 1L, 'biggest': 1L, 'war': 1L, 'head': 1L, 'zzz_dwight_eisenhower': 1L, 'staggering': 1L, 'company': 1L, 'apparent': 1L, 'excite': 1L, 'hoped': 1L, 'expected': 2L, 'lives': 1L, 'offended': 1L, 'midst': 1L, 'trying': 1L, 'blocking': 1L, 'zzz_d_del': 1L, 'helped': 1L, 'zzz_rendell': 1L, 'zzz_rush_limbaugh': 1L, 'debates': 1L, 'showed': 1L, 'science': 1L, 'challenge': 1L, 'official': 1L, 'abortion': 1L, 'zzz_dan_quayle': 1L, 'governor': 3L, 'zzz_sen_joseph_biden': 1L, 'politic': 1L, 'attention': 1L, 'zzz_bob_dole': 3L, 'meet': 1L, 'amount': 1L, 'agree': 1L, 'zzz_texas': 2L, 'amass': 1L, 'crazy': 1L, 'zzz_elizabeth_dole': 1L, 'nominee': 1L, 'zzz_gary_bauer': 1L, 'tax': 1L, 'popped': 1L, 'eve': 1L, 'high': 1L, 'talking': 1L, 'single': 1L, 'battered': 1L, 'zzz_forbes': 1L, 'need': 1L, 'ship': 1L, 'education': 1L, 'forced': 2L, 'breaking': 1L, 'detail': 1L, 'zzz_clinton': 2L, 'member': 1L, 'field': 2L, 'chest': 1L, 'virtually': 1L, 'party': 1L, 'primaries': 1L, 'higher': 1L, 'foreman': 1L, 'zzz_republican': 4L, 'altered': 1L, 'lend': 1L, 'luminaries': 1L, 'enter': 1L, 'upbringing': 1L, 'running': 2L, 'plane': 1L, 'zzz_rep_john_kasich': 1L, 'zzz_tennessee': 1L, 'robust': 1L, 'president': 2L, 'nomination': 1L, 'tradition': 1L, 'ago': 1L, 'potency': 1L, 'especially': 1L, 'vice': 1L, 'settled': 1L, 'reform': 1L, 'responded': 1L, 'outpouring': 1L, 'zzz_university': 1L, 'perhap': 2L, 'zzz_social_security': 1L, 'democratic': 1L, 'rockier': 1L, 'left': 1L}, {'impression': 1L, 'atmosphere': 1L, 'office': 1L, 'pieces': 1L, 'chances': 1L, 'knowledgeable': 1L, 'demand': 1L, 'focus': 2L, 'competitive': 2L, 'held': 1L, 'session': 1L, 'relation': 1L, 'telling': 1L, 'retired': 1L, 'vilify': 1L, 'children': 1L, 'issues': 1L, 'member': 1L, 'zzz_harvard': 1L, 'boundaries': 1L, 'preserves': 1L, 'bribes': 1L, 'group': 1L, 'remarkable': 1L, 'candidate': 1L, 'pollster': 1L, 'supply': 1L, 'writing': 1L, 'passive': 1L, 'welcomed': 1L, 'interested': 1L, 'candidates': 5L, 'capturing': 1L, 'citizen': 3L, 'covered': 1L, 'struck': 2L, 'bipartisan': 1L, 'decades': 1L, 'achieve': 1L, 'majority': 2L, 'colleague': 1L, 'finance': 1L, 'zzz_theda_skocpol': 2L, 'government': 2L, 'press': 3L, 'big': 1L, 'condemning': 1L, 'condemnation': 1L, 'watch': 1L, 'headquarter': 1L, 'early': 1L, 'zzz_house': 1L, 'half': 1L, 'front': 1L, 'politician': 4L, 'squabbles': 1L, 'highly': 1L, 'enter': 1L, 'struggling': 1L, 'presidential': 3L, 'appeal': 1L, 'married': 1L, 'democrat': 1L, 'large': 1L, 'stuff': 1L, 'participation': 2L, 'treated': 1L, 'conduct': 1L, 'republican': 3L, 'drop': 1L, 'force': 1L, 'observer': 1L, 'trend': 1L, 'generally': 1L, 'parties': 2L, 'direct': 1L, 'zzz_bradley': 1L, 'challenges': 1L, 'electorate': 1L, 'likely': 1L, 'economic': 1L, 'election': 2L, 'unfairly': 1L, 'sketched': 1L, 'download': 1L, 'led': 1L, 'happen': 1L, 'drawing': 1L, 'special': 1L, 'concern': 1L, 'zzz_john_chafee': 1L, 'slice': 1L, 'barrier': 1L, 'expert': 1L, 'deliberate': 1L, 'advocate': 1L, 'antiwar': 1L, 'decision': 1L, 'electoral': 1L, 'legal': 1L, 'portrayed': 1L, 'looking': 1L, 'zzz_former_sen_bill_bradley': 1L, 'adapt': 1L, 'envelopes': 1L, 'capital': 1L, 'zzz_st_louis': 1L, 'moderate': 1L, 'public': 1L, 'zzz_new_hampshire': 1L, 'locate': 1L, 'basis': 1L, 'zzz_lyme': 1L, 'attention': 1L, 'run': 2L, 'chose': 1L, 'parent': 1L, 'zzz_congress': 3L, 'million': 1L, 'lobbyist': 1L, 'votes': 1L, 'disappeared': 1L, 'mobilizing': 1L, 'broken': 1L, 'voter': 6L, 'web': 1L, 'miasma': 1L, 'aide': 1L, 'change': 1L, 'care': 1L, 'thrown': 1L, 'zzz_n_h': 1L, 'district': 1L, 'getting': 1L, 'career': 1L, 'involved': 1L, 'taking': 1L, 'paralysis': 1L, 'messages': 1L, 'shelved': 1L, 'turn': 1L, 'american': 5L, 'involving': 1L, 'zzz_rhode_island': 1L, 'swing': 1L, 'zzz_united_states': 1L, 'senator': 1L, 'contribution': 2L, 'narrow': 1L, 'mad': 1L, 'create': 1L, 'influx': 1L, 'scorned': 1L, 'zzz_iowa': 1L, 'major': 1L, 'tone': 1L, 'thermostat': 1L, 'campaign': 4L, 'drunk': 1L, 'political': 3L, 'skilled': 1L, 'matter': 1L, 'period': 1L, 'insist': 1L, 'incessant': 1L, 'set': 1L, 'brush': 1L, 'registration': 1L, 'speculated': 1L, 'zzz_committee': 1L, 'rarely': 1L, 'died': 1L, 'truly': 1L, 'legislative': 1L, 'overt': 1L, 'working': 1L, 'similarly': 1L, 'zzz_washington': 3L, 'museum': 1L, 'question': 2L, 'system': 7L, 'vote': 5L, 'center': 1L, 'live': 2L, 'doubt': 1L, 'examination': 1L, 'calm': 1L, 'interest': 2L, 'huge': 1L, 'bitter': 1L, 'tell': 1L, 'today': 1L, 'firm': 1L, 'building': 1L, 'head': 1L, 'educated': 1L, 'door': 2L, 'invite': 1L, 'form': 1L, 'believe': 1L, 'offered': 1L, 'scrutiny': 1L, 'fund': 1L, 'majorities': 1L, 'hear': 1L, 'sociology': 1L, 'mail': 1L, 'number': 1L, 'fellow': 1L, 'amiable': 1L, 'wholly': 1L, 'raising': 1L, 'volunteer': 1L, 'paying': 1L, 'observed': 1L, 'television': 2L, 'turnout': 2L, 'presidency': 1L, 'oligarchy': 1L, 'dog': 1L, 'consultant': 2L, 'legislating': 1L, 'harder': 2L, 'recruit': 1L, 'lead': 1L, 'politic': 2L, 'congressional': 2L, 'rate': 1L, 'zzz_national_republican_congressional_committee': 1L, 'study': 1L, 'zzz_texas': 1L, 'zzz_al_gore': 1L, 'age': 2L, 'ran': 1L, 'zzz_gov_george_w_bush': 1L, 'household': 1L, 'evidence': 1L, 'high': 1L, 'incumbent': 1L, 'expertise': 1L, 'insatiable': 1L, 'element': 1L, 'saw': 1L, 'check': 1L, 'dozen': 1L, 'prosperity': 1L, 'democracy': 1L, 'contest': 1L, 'zzz_dwight': 2L, 'media': 2L, 'veteran': 2L, 'percent': 2L, 'ideas': 2L, 'terrific': 1L, 'zzz_america': 1L, 'potential': 1L, 'zzz_missouri': 1L, 'reject': 1L, 'zzz_party': 1L, 'attack': 1L, 'bid': 1L, 'stand': 1L, 'discourages': 1L, 'fairly': 1L, 'fodder': 1L, 'practice': 1L, 'zzz_sen_john_mccain': 1L, 'tried': 1L, 'combat': 1L, 'opposite': 1L, 'blames': 1L, 'weaknesses': 1L, 'effect': 1L, 'savvy': 1L, 'chance': 1L, 'regular': 1L, 'zzz_carter': 1L, 'idea': 1L, 'advertisement': 1L, 'intended': 1L, 'information': 1L, 'nation': 2L, 'nomination': 1L, 'structure': 1L, 'ago': 1L, 'canvassing': 1L, 'especially': 2L, 'obstacles': 2L, 'law': 1L, 'professor': 1L, 'reform': 1L, 'cover': 1L, 'drive': 1L, 'zzz_house_democrat': 1L, 'traditional': 1L, 'seat': 2L, 'compete': 1L, 'legislatures': 1L, 'fundamental': 1L, 'womanizer': 1L, 'challenge': 1L, 'zzz_curtis_gan': 2L, 'voting': 2L, 'consumer': 1L, 'partisan': 2L, 'zzz_john_danforth': 2L, 'typical': 1L}, {'impression': 1L, 'saying': 2L, 'money': 1L, 'press': 1L, 'zzz_pat_buchanan': 1L, 'zzz_minnesota': 1L, 'participate': 2L, 'elect': 1L, 'tend': 1L, 'portrayed': 1L, 'issues': 1L, 'group': 2L, 'knowledge': 1L, 'candidate': 1L, 'pollster': 1L, 'interesting': 1L, 'show': 1L, 'zzz_steve_forbes': 1L, 'candidates': 1L, 'choose': 1L, 'weakening': 1L, 'covered': 1L, 'decades': 1L, 'zzz_maryland': 1L, 'paying': 1L, 'worse': 1L, 'combination': 1L, 'government': 4L, 'kind': 1L, 'nation': 1L, 'heard': 1L, 'revered': 1L, 'front': 1L, 'zzz_california': 1L, 'republican': 1L, 'disappointed': 1L, 'zzz_berkeley': 1L, 'school': 1L, 'covering': 1L, 'level': 1L, 'large': 1L, 'race': 2L, 'victory': 1L, 'polling': 1L, 'activity': 1L, 'reform': 1L, 'consultant': 1L, 'cynical': 1L, 'hard': 1L, 'direct': 1L, 'challenges': 1L, 'culture': 1L, 'actively': 1L, 'election': 1L, 'mirror': 1L, 'zzz_jesse_ventura': 1L, 'zzz_edward_kennedy': 1L, 'mattered': 1L, 'children': 1L, 'increase': 1L, 'seriously': 1L, 'goes': 1L, 'internet': 1L, 'churches': 1L, 'cynically': 1L, 'zzz_new_hampshire': 1L, 'common': 1L, 'implying': 1L, 'zzz_congress': 1L, 'attention': 3L, 'offended': 1L, 'blame': 1L, 'lieutenant': 1L, 'step': 1L, 'confrontation': 1L, 'active': 1L, 'invented': 1L, 'observing': 1L, 'speechwriter': 1L, 'engage': 1L, 'ahead': 1L, 'created': 1L, 'exaggerated': 1L, 'involved': 1L, 'modest': 1L, 'american': 3L, 'columnist': 1L, 'zzz_ithaca': 1L, 'criticism': 2L, 'retired': 1L, 'zzz_chicago_tribune': 1L, 'zzz_walter_cronkite': 2L, 'negative': 1L, 'involvement': 2L, 'bothered': 1L, 'governor': 1L, 'vote': 1L, 'biographer': 1L, 'standing': 1L, 'horse': 1L, 'span': 1L, 'observer': 1L, 'working': 1L, 'political': 3L, 'system': 1L, 'interest': 1L, 'biggest': 1L, 'tell': 1L, 'manufacture': 1L, 'head': 1L, 'disengaged': 1L, 'insisting': 1L, 'attacked': 1L, 'offered': 1L, 'zzz_cornell': 1L, 'nonvoting': 1L, 'societal': 1L, 'zzz_lyndon_johnson': 1L, 'broadcast': 1L, 'failure': 1L, 'part': 1L, 'basically': 1L, 'hopes': 1L, 'captivity': 1L, 'volunteer': 1L, 'continual': 1L, 'television': 3L, 'politician': 1L, 'look': 1L, 'society': 1L, 'local': 1L, 'signed': 1L, 'politic': 3L, 'policies': 1L, 'fault': 1L, 'believed': 1L, 'problem': 2L, 'zzz_kathleen_kennedy_townsend': 1L, 'powerless': 1L, 'urging': 1L, 'history': 1L, 'control': 1L, 'zzz_bob_dole': 2L, 'played': 1L, 'zzz_johnny_carson': 1L, 'influence': 1L, 'involve': 1L, 'talking': 1L, 'zzz_jay_leno': 1L, 'audiences': 1L, 'zzz_david_letterman': 1L, 'uninterrupted': 1L, 'zzz_iran': 1L, 'worry': 1L, 'condemn': 1L, 'democracy': 1L, 'zzz_dwight': 1L, 'media': 3L, 'mid': 1L, 'zzz_clinton': 1L, 'member': 1L, 'potential': 1L, 'role': 1L, 'dismisses': 1L, 'zzz_party': 1L, 'product': 1L, 'interviewed': 1L, 'thread': 1L, 'preferring': 1L, 'zzz_newt_gingrich': 1L, 'president': 2L, 'truly': 1L, 'data': 1L, 'younger': 1L, 'remote': 1L, 'especially': 1L, 'professor': 2L, 'attempting': 1L, 'thought': 1L, 'severe': 1L, 'idiosyncratic': 1L, 'zzz_university': 1L, 'anchorman': 1L, 'entertaining': 1L, 'spend': 1L, 'talk': 1L}, {'saying': 1L, 'taller': 1L, 'german': 1L, 'patina': 1L, 'colonist': 3L, 'hillside': 1L, 'meticulously': 1L, 'episodes': 1L, 'earth': 1L, 'fine': 1L, 'children': 1L, 'decade': 1L, 'certainly': 1L, 'position': 1L, 'group': 4L, 'system': 1L, 'zzz_tutsi': 11L, 'explain': 1L, 'zzz_burundi': 8L, 'grotesque': 1L, 'civil': 1L, 'grim': 1L, 'zzz_human_rights_watch': 1L, 'willing': 1L, 'suspicion': 1L, 'easy': 1L, 'farmer': 2L, 'hardened': 1L, 'animosities': 2L, 'inferior': 1L, 'meant': 1L, 'division': 1L, 'halt': 1L, 'stay': 1L, 'ruler': 1L, 'shatter': 1L, 'fluid': 1L, 'preferred': 1L, 'truly': 1L, 'break': 1L, 'preparing': 1L, 'enslaved': 1L, 'half': 1L, 'documented': 1L, 'continued': 1L, 'fled': 1L, 'ruled': 1L, 'exiles': 1L, 'imposed': 1L, 'scholar': 2L, 'stranger': 1L, 'generally': 1L, 'zzz_intermarriage': 1L, 'shape': 1L, 'preying': 1L, 'distrust': 1L, 'race': 1L, 'superiority': 1L, 'common': 1L, 'unifying': 1L, 'relentless': 1L, 'vision': 1L, 'easiest': 1L, 'administrator': 1L, 'tended': 3L, 'extremist': 1L, 'discriminated': 1L, 'today': 2L, 'result': 1L, 'cattle': 1L, 'led': 1L, 'happen': 1L, 'special': 1L, 'spasm': 1L, 'universities': 1L, 'expert': 3L, 'colonial': 1L, 'lend': 1L, 'herded': 1L, 'formula': 1L, 'officially': 1L, 'inaction': 1L, 'run': 1L, 'power': 3L, 'intentioned': 1L, 'million': 1L, 'zzz_twa': 2L, 'french': 1L, 'killing': 2L, 'step': 1L, 'complicated': 1L, 'put': 1L, 'drawn': 1L, 'safer': 1L, 'scarred': 1L, 'periodically': 1L, 'raise': 1L, 'prestige': 1L, 'created': 1L, 'country': 2L, 'spilled': 1L, 'violence': 1L, 'according': 1L, 'surround': 1L, 'agree': 1L, 'perhap': 1L, 'genocide': 3L, 'wrote': 1L, 'logic': 1L, 'hatred': 5L, 'argue': 1L, 'makes': 1L, 'comes': 1L, 'control': 2L, 'thinner': 1L, 'presence': 1L, 'simple': 2L, 'question': 1L, 'tribal': 2L, 'resentment': 1L, 'vis': 2L, 'twin': 1L, 'underlay': 1L, 'crisis': 1L, 'strong': 1L, 'takes': 1L, 'area': 1L, 'distinct': 1L, 'leading': 1L, 'century': 1L, 'political': 2L, 'transform': 1L, 'insult': 1L, 'secret': 1L, 'rivalries': 1L, 'assassinated': 1L, 'war': 1L, 'killed': 1L, 'belgian': 1L, 'firm': 1L, 'partly': 1L, 'outsider': 3L, 'form': 1L, 'historian': 1L, 'started': 1L, 'exploded': 1L, 'took': 1L, 'reign': 1L, 'guerrillas': 2L, 'hierarchical': 1L, 'rigid': 1L, 'zzz_great_lakes': 4L, 'manipulation': 1L, 'known': 1L, 'elite': 3L, 'pygmies': 1L, 'distance': 1L, 'kind': 2L, 'politician': 1L, 'warfare': 1L, 'places': 1L, 'zzz_belgian': 2L, 'consultant': 1L, 'zzz_rwanda': 11L, 'official': 1L, 'monarchies': 1L, 'indifference': 1L, 'zzz_africa': 5L, 'slaughtered': 1L, 'spontaneous': 1L, 'region': 2L, 'zzz_zaire': 1L, 'pre': 1L, 'real': 1L, 'figure': 1L, 'give': 1L, 'lines': 2L, 'trusting': 1L, 'turned': 1L, 'zzz_columbia_university_press': 1L, 'deep': 1L, 'quiet': 1L, 'high': 1L, 'regularity': 1L, 'exist': 1L, 'rent': 1L, 'past': 1L, 'zzz_balkan': 1L, 'seek': 1L, 'viewed': 1L, 'firmly': 1L, 'court': 1L, 'daring': 1L, 'author': 1L, 'authoritative': 1L, 'eastern': 1L, 'percent': 3L, 'ideas': 1L, 'rebellion': 1L, 'book': 1L, 'smarter': 1L, 'wonder': 1L, 'intelligent': 1L, 'conflict': 2L, 'european': 3L, 'tension': 1L, 'product': 1L, 'separate': 1L, 'zzz_hutu': 9L, 'southern': 1L, 'occurred': 1L, 'helping': 1L, 'arrived': 2L, 'arose': 1L, 'violent': 1L, 'ethnic': 6L, 'zzz_ancient': 4L, 'fighting': 3L, 'nation': 1L, 'response': 1L, 'recent': 1L, 'land': 1L, 'fighter': 1L, 'outline': 1L, 'surprising': 1L, 'seize': 1L, 'zzz_north_american': 1L, 'professor': 1L, 'camp': 1L, 'revolt': 1L, 'zzz_antwerp': 1L, 'rule': 1L, 'zzz_congo': 2L, 'person': 1L, 'races': 1L, 'withdraw': 1L, 'broad': 1L, 'nomad': 1L, 'dragged': 1L}, {'saying': 1L, 'taller': 1L, 'german': 1L, 'patina': 1L, 'colonist': 3L, 'hillside': 1L, 'meticulously': 1L, 'episodes': 1L, 'earth': 1L, 'fine': 1L, 'children': 1L, 'decade': 1L, 'certainly': 1L, 'position': 1L, 'group': 4L, 'system': 1L, 'zzz_tutsi': 11L, 'explain': 1L, 'zzz_burundi': 8L, 'grotesque': 1L, 'civil': 1L, 'grim': 1L, 'zzz_human_rights_watch': 1L, 'willing': 1L, 'suspicion': 1L, 'easy': 1L, 'farmer': 2L, 'hardened': 1L, 'animosities': 2L, 'inferior': 1L, 'meant': 1L, 'division': 1L, 'halt': 1L, 'stay': 1L, 'ruler': 1L, 'shatter': 1L, 'fluid': 1L, 'preferred': 1L, 'truly': 1L, 'break': 1L, 'preparing': 1L, 'enslaved': 1L, 'half': 1L, 'documented': 1L, 'continued': 1L, 'fled': 1L, 'ruled': 1L, 'exiles': 1L, 'imposed': 1L, 'scholar': 2L, 'stranger': 1L, 'generally': 1L, 'zzz_intermarriage': 1L, 'shape': 1L, 'preying': 1L, 'distrust': 1L, 'race': 1L, 'superiority': 1L, 'common': 1L, 'unifying': 1L, 'relentless': 1L, 'vision': 1L, 'easiest': 1L, 'administrator': 1L, 'tended': 3L, 'extremist': 1L, 'discriminated': 1L, 'today': 2L, 'result': 1L, 'cattle': 1L, 'led': 1L, 'happen': 1L, 'special': 1L, 'spasm': 1L, 'universities': 1L, 'expert': 3L, 'colonial': 1L, 'lend': 1L, 'herded': 1L, 'formula': 1L, 'officially': 1L, 'inaction': 1L, 'run': 1L, 'power': 3L, 'intentioned': 1L, 'million': 1L, 'zzz_twa': 2L, 'french': 1L, 'killing': 2L, 'step': 1L, 'complicated': 1L, 'put': 1L, 'drawn': 1L, 'safer': 1L, 'scarred': 1L, 'periodically': 1L, 'raise': 1L, 'prestige': 1L, 'created': 1L, 'country': 2L, 'spilled': 1L, 'violence': 1L, 'according': 1L, 'surround': 1L, 'agree': 1L, 'perhap': 1L, 'genocide': 3L, 'wrote': 1L, 'logic': 1L, 'hatred': 5L, 'argue': 1L, 'makes': 1L, 'comes': 1L, 'control': 2L, 'thinner': 1L, 'presence': 1L, 'simple': 2L, 'question': 1L, 'tribal': 2L, 'resentment': 1L, 'vis': 2L, 'twin': 1L, 'underlay': 1L, 'crisis': 1L, 'strong': 1L, 'takes': 1L, 'area': 1L, 'distinct': 1L, 'leading': 1L, 'century': 1L, 'political': 2L, 'transform': 1L, 'insult': 1L, 'secret': 1L, 'rivalries': 1L, 'assassinated': 1L, 'war': 1L, 'killed': 1L, 'belgian': 1L, 'firm': 1L, 'partly': 1L, 'outsider': 3L, 'form': 1L, 'historian': 1L, 'started': 1L, 'exploded': 1L, 'took': 1L, 'reign': 1L, 'guerrillas': 2L, 'hierarchical': 1L, 'rigid': 1L, 'zzz_great_lakes': 4L, 'manipulation': 1L, 'known': 1L, 'elite': 3L, 'pygmies': 1L, 'distance': 1L, 'kind': 2L, 'politician': 1L, 'warfare': 1L, 'places': 1L, 'zzz_belgian': 2L, 'consultant': 1L, 'zzz_rwanda': 11L, 'official': 1L, 'monarchies': 1L, 'indifference': 1L, 'zzz_africa': 5L, 'slaughtered': 1L, 'spontaneous': 1L, 'region': 2L, 'zzz_zaire': 1L, 'pre': 1L, 'real': 1L, 'figure': 1L, 'give': 1L, 'lines': 2L, 'trusting': 1L, 'turned': 1L, 'zzz_columbia_university_press': 1L, 'deep': 1L, 'quiet': 1L, 'high': 1L, 'regularity': 1L, 'exist': 1L, 'rent': 1L, 'past': 1L, 'zzz_balkan': 1L, 'seek': 1L, 'viewed': 1L, 'firmly': 1L, 'court': 1L, 'daring': 1L, 'author': 1L, 'authoritative': 1L, 'eastern': 1L, 'percent': 3L, 'ideas': 1L, 'rebellion': 1L, 'book': 1L, 'smarter': 1L, 'wonder': 1L, 'intelligent': 1L, 'conflict': 2L, 'european': 3L, 'tension': 1L, 'product': 1L, 'separate': 1L, 'zzz_hutu': 9L, 'southern': 1L, 'occurred': 1L, 'helping': 1L, 'arrived': 2L, 'arose': 1L, 'violent': 1L, 'ethnic': 6L, 'zzz_ancient': 4L, 'fighting': 3L, 'nation': 1L, 'response': 1L, 'recent': 1L, 'land': 1L, 'fighter': 1L, 'outline': 1L, 'surprising': 1L, 'seize': 1L, 'zzz_north_american': 1L, 'professor': 1L, 'camp': 1L, 'revolt': 1L, 'zzz_antwerp': 1L, 'rule': 1L, 'zzz_congo': 2L, 'person': 1L, 'races': 1L, 'withdraw': 1L, 'broad': 1L, 'nomad': 1L, 'dragged': 1L}, {'show': 1L, 'pointed': 1L, 'soon': 1L, 'ending': 1L, 'bring': 1L, 'committed': 2L, 'zzz_tutsis': 1L, 'fear': 1L, 'find': 1L, 'zzz_burundian': 1L, 'death': 1L, 'group': 1L, 'justice': 1L, 'zzz_tutsi': 4L, 'mediator': 1L, 'zzz_hang': 1L, 'hope': 1L, 'happened': 1L, 'zzz_cape_town': 1L, 'crash': 1L, 'increased': 1L, 'killer': 1L, 'supporter': 1L, 'seemingly': 1L, 'nation': 2L, 'awful': 1L, 'spur': 1L, 'killed': 1L, 'intractable': 1L, 'oddly': 1L, 'continue': 1L, 'demonized': 1L, 'round': 2L, 'set': 1L, 'force': 1L, 'deal': 1L, 'crimes': 1L, 'past': 1L, 'table': 1L, 'expert': 2L, 'zzz_south_africa': 1L, 'international': 1L, 'approach': 1L, 'leader': 1L, 'independence': 1L, 'opening': 1L, 'continuing': 1L, 'slaughter': 3L, 'leadership': 1L, 'rebel': 2L, 'beginning': 1L, 'oust': 1L, 'country': 3L, 'spilled': 1L, 'violence': 2L, 'experience': 1L, 'ignoring': 1L, 'mutually': 1L, 'amount': 1L, 'place': 1L, 'settled': 1L, 'zzz_burundi': 3L, 'point': 1L, 'merely': 1L, 'powerful': 1L, 'community': 1L, 'zzz_resolution': 1L, 'trust': 1L, 'crisis': 1L, 'rebuild': 1L, 'adopted': 1L, 'uniting': 1L, 'realization': 1L, 'war': 1L, 'offer': 1L, 'negotiating': 1L, 'argument': 1L, 'believe': 1L, 'shoot': 1L, 'room': 1L, 'presidency': 1L, 'consultant': 1L, 'zzz_rwanda': 2L, 'anew': 1L, 'situation': 1L, 'problem': 2L, 'engaged': 1L, 'belonging': 1L, 'alike': 1L, 'guarantee': 1L, 'administration': 1L, 'battles': 1L, 'polarization': 1L, 'ideal': 1L, 'party': 1L, 'conflict': 2L, 'added': 1L, 'zzz_hutu': 4L, 'hand': 1L, 'plane': 1L, 'blood': 2L, 'ethnic': 3L, 'president': 1L, 'died': 1L, 'cycle': 1L, 'zzz_nelson_mandela': 1L, 'fighting': 1L, 'zzz_congo': 1L, 'evenhandedness': 1L, 'starting': 1L}, {'show': 1L, 'pointed': 1L, 'soon': 1L, 'ending': 1L, 'bring': 1L, 'committed': 2L, 'zzz_tutsis': 1L, 'fear': 1L, 'find': 1L, 'zzz_burundian': 1L, 'death': 1L, 'group': 1L, 'justice': 1L, 'zzz_tutsi': 4L, 'mediator': 1L, 'zzz_hang': 1L, 'hope': 1L, 'happened': 1L, 'zzz_cape_town': 1L, 'crash': 1L, 'increased': 1L, 'killer': 1L, 'supporter': 1L, 'seemingly': 1L, 'nation': 2L, 'awful': 1L, 'spur': 1L, 'killed': 1L, 'intractable': 1L, 'oddly': 1L, 'continue': 1L, 'demonized': 1L, 'round': 2L, 'set': 1L, 'force': 1L, 'deal': 1L, 'crimes': 1L, 'past': 1L, 'table': 1L, 'expert': 2L, 'zzz_south_africa': 1L, 'international': 1L, 'approach': 1L, 'leader': 1L, 'independence': 1L, 'opening': 1L, 'continuing': 1L, 'slaughter': 3L, 'leadership': 1L, 'rebel': 2L, 'beginning': 1L, 'oust': 1L, 'country': 3L, 'spilled': 1L, 'violence': 2L, 'experience': 1L, 'ignoring': 1L, 'mutually': 1L, 'amount': 1L, 'place': 1L, 'settled': 1L, 'zzz_burundi': 3L, 'point': 1L, 'merely': 1L, 'powerful': 1L, 'community': 1L, 'zzz_resolution': 1L, 'trust': 1L, 'crisis': 1L, 'rebuild': 1L, 'adopted': 1L, 'uniting': 1L, 'realization': 1L, 'war': 1L, 'offer': 1L, 'negotiating': 1L, 'argument': 1L, 'believe': 1L, 'shoot': 1L, 'room': 1L, 'presidency': 1L, 'consultant': 1L, 'zzz_rwanda': 2L, 'anew': 1L, 'situation': 1L, 'problem': 2L, 'engaged': 1L, 'belonging': 1L, 'alike': 1L, 'guarantee': 1L, 'administration': 1L, 'battles': 1L, 'polarization': 1L, 'ideal': 1L, 'party': 1L, 'conflict': 2L, 'added': 1L, 'zzz_hutu': 4L, 'hand': 1L, 'plane': 1L, 'blood': 2L, 'ethnic': 3L, 'president': 1L, 'died': 1L, 'cycle': 1L, 'zzz_nelson_mandela': 1L, 'fighting': 1L, 'zzz_congo': 1L, 'evenhandedness': 1L, 'starting': 1L}, {'precise': 1L, 'limited': 1L, 'consider': 1L, 'office': 6L, 'pant': 1L, 'money': 1L, 'dissolution': 1L, 'secretary': 2L, 'held': 1L, 'paper': 1L, 'deadline': 1L, 'aides': 1L, 'battle': 1L, 'follow': 1L, 'houses': 1L, 'sheepskin': 1L, 'staff': 3L, 'access': 1L, 'generous': 1L, 'retirement': 1L, 'campaign': 2L, 'candidate': 1L, 'assuage': 1L, 'guaranteed': 1L, 'fumbles': 1L, 'crew': 1L, 'terminal': 1L, 'air': 1L, 'tape': 1L, 'minute': 1L, 'clause': 1L, 'largest': 1L, 'criminal': 1L, 'friendly': 1L, 'gave': 3L, 'predecessor': 1L, 'belonging': 1L, 'guarded': 1L, 'advantage': 1L, 'government': 3L, 'capital': 1L, 'kind': 1L, 'preferred': 1L, 'nation': 1L, 'early': 2L, 'anxiety': 1L, 'occupant': 1L, 'closely': 1L, 'press': 2L, 'noon': 1L, 'association': 1L, 'successor': 1L, 'prime': 3L, 'term': 1L, 'champagne': 1L, 'publicly': 1L, 'success': 2L, 'legislation': 1L, 'array': 1L, 'zzz_kgb': 1L, 'greeting': 1L, 'morning': 1L, 'leave': 1L, 'benefit': 4L, 'session': 1L, 'officer': 1L, 'found': 1L, 'security': 1L, 'fixed': 1L, 'added': 1L, 'mean': 1L, 'status': 1L, 'unexpected': 1L, 'hour': 1L, 'house': 1L, 'zzz_chechen': 1L, 'discover': 1L, 'past': 1L, 'dislodge': 1L, 'likely': 1L, 'economic': 1L, 'summer': 1L, 'election': 2L, 'close': 1L, 'dawn': 1L, 'taping': 1L, 'event': 1L, 'concern': 1L, 'secretly': 1L, 'decree': 5L, 'flower': 1L, 'televised': 1L, 'mood': 2L, 'channel': 1L, 'giving': 2L, 'apparently': 3L, 'decision': 1L, 'zzz_gudermes': 1L, 'current': 1L, 'acting': 2L, 'investigation': 1L, 'safety': 1L, 'conduct': 1L, 'previous': 1L, 'leader': 1L, 'troop': 2L, 'holiday': 1L, 'full': 1L, 'disputed': 1L, 'power': 3L, 'zzz_kremlin': 5L, 'free': 1L, 'souvenir': 1L, 'extraordinary': 1L, 'job': 3L, 'leadership': 1L, 'key': 1L, 'concluding': 1L, 'prepared': 2L, 'optional': 1L, 'momentous': 1L, 'wait': 1L, 'advance': 1L, 'protect': 1L, 'granting': 1L, 'ahead': 1L, 'package': 1L, 'residence': 1L, 'hinting': 1L, 'losses': 1L, 'according': 1L, 'hinge': 1L, 'soldier': 1L, 'place': 1L, 'suggestion': 1L, 'transfer': 2L, 'military': 1L, 'passing': 1L, 'hunting': 1L, 'concerned': 1L, 'negotiation': 1L, 'named': 1L, 'hero': 1L, 'opposition': 1L, 'family': 3L, 'striking': 1L, 'previously': 1L, 'visit': 2L, 'image': 2L, 'zzz_mikhail_gorbachev': 2L, 'reflected': 1L, 'seizure': 1L, 'active': 1L, 'whim': 1L, 'message': 1L, 'administration': 1L, 'crammed': 1L, 'scarred': 1L, 'zzz_vladimir_putin': 11L, 'perk': 1L, 'unknown': 1L, 'sweater': 1L, 'initial': 1L, 'political': 1L, 'liberate': 1L, 'quickly': 1L, 'breath': 1L, 'secret': 1L, 'drank': 1L, 'zzz_russia': 2L, 'calm': 1L, 'forward': 1L, 'zzz_chechnya': 4L, 'entered': 1L, 'bargained': 1L, 'final': 2L, 'leading': 1L, 'building': 1L, 'offering': 1L, 'search': 1L, 'visibility': 1L, 'cabinet': 1L, 'broadcast': 1L, 'turtleneck': 1L, 'train': 1L, 'minister': 3L, 'russian': 1L, 'worked': 1L, 'hold': 1L, 'casualties': 1L, 'considerable': 1L, 'population': 1L, 'television': 1L, 'guarantees': 2L, 'zzz_grozny': 1L, 'hesitant': 1L, 'presidency': 1L, 'elected': 1L, 'car': 1L, 'official': 1L, 'smooth': 1L, 'signed': 1L, 'worth': 1L, 'preparation': 1L, 'zzz_russian': 7L, 'knives': 1L, 'era': 1L, 'hand': 2L, 'country': 1L, 'scheduled': 1L, 'largely': 1L, 'war': 2L, 'commander': 1L, 'sudden': 1L, 'rent': 1L, 'ready': 1L, 'seek': 1L, 'trip': 1L, 'physical': 1L, 'grown': 1L, 'gaffes': 1L, 'resigned': 1L, 'zzz_boris_yeltsin': 18L, 'depending': 1L, 'describes': 1L, 'granted': 1L, 'seeking': 1L, 'percent': 1L, 'detail': 1L, 'handed': 1L, 'zzz_prime_minister_yevgeny_primakov': 1L, 'democratically': 1L, 'holding': 1L, 'meeting': 2L, 'widespread': 1L, 'proposal': 1L, 'resignation': 2L, 'immunity': 2L, 'difficult': 1L, 'known': 1L, 'handing': 1L, 'material': 1L, 'tried': 1L, 'zzz_union': 1L, 'zzz_parliament': 1L, 'resign': 1L, 'zzz_moscow': 1L, 'corruption': 1L, 'propelling': 1L, 'retain': 1L, 'phase': 1L, 'president': 9L, 'law': 2L, 'presidential': 4L, 'pages': 1L, 'soared': 1L, 'privileges': 3L, 'salary': 2L, 'fighter': 1L, 'wife': 1L, 'coat': 1L, 'clear': 1L, 'popularity': 1L, 'spent': 2L, 'fighting': 1L, 'precedent': 1L, 'ostensibly': 1L, 'goodbye': 1L, 'personnel': 1L, 'zzz_security_council': 1L, 'soviet': 1L, 'spend': 1L, 'left': 3L}, {'saying': 1L, 'extrapolated': 1L, 'help': 1L, 'chinese': 2L, 'money': 1L, 'beware': 1L, 'scientist': 1L, 'human': 1L, 'welfare': 1L, 'dish': 1L, 'zzz_dragon': 1L, 'find': 1L, 'grabbed': 1L, 'severely': 1L, 'personal': 1L, 'sickened': 1L, 'crime': 1L, 'spread': 1L, 'homeland': 1L, 'issued': 1L, 'local': 1L, 'easier': 1L, 'customer': 1L, 'complaint': 1L, 'woman': 1L, 'government': 1L, 'food': 1L, 'stop': 2L, 'campaigner': 1L, 'theft': 3L, 'searched': 1L, 'zzz_eating': 2L, 'northwestern': 1L, 'meat': 5L, 'tear': 1L, 'morning': 1L, 'specific': 1L, 'item': 1L, 'benefit': 1L, 'night': 2L, 'found': 1L, 'inspection': 1L, 'pork': 1L, 'snakes': 1L, 'classical': 1L, 'house': 1L, 'fish': 1L, 'elderly': 1L, 'parasites': 1L, 'zzz_guangdong': 2L, 'carry': 2L, 'street': 1L, 'begun': 1L, 'tether': 1L, 'cat': 17L, 'stood': 1L, 'preferences': 1L, 'confirm': 1L, 'pet': 4L, 'section': 1L, 'veterinary': 1L, 'poison': 1L, 'perilous': 1L, 'anguished': 1L, 'longtime': 1L, 'distraught': 1L, 'newly': 1L, 'bird': 1L, 'told': 1L, 'fight': 1L, 'hasn': 1L, 'fables': 1L, 'leg': 1L, 'sold': 2L, 'refused': 1L, 'group': 1L, 'estimate': 1L, 'sunning': 1L, 'pity': 1L, 'diner': 2L, 'restaurant': 5L, 'favorite': 1L, 'seedy': 1L, 'nearby': 1L, 'major': 1L, 'zzz_cantonese': 2L, 'stray': 2L, 'supply': 1L, 'barbarian': 1L, 'owner': 6L, 'table': 1L, 'actually': 1L, 'market': 1L, 'combines': 1L, 'consumed': 1L, 'zzz_beijing': 6L, 'mark': 1L, 'live': 1L, 'thieves': 2L, 'prowling': 1L, 'empty': 1L, 'families': 2L, 'public': 1L, 'alley': 1L, 'zzz_post': 1L, 'eat': 2L, 'present': 1L, 'case': 1L, 'stolen': 2L, 'zzz_protection': 1L, 'bag': 1L, 'fearful': 1L, 'dangerous': 1L, 'roof': 1L, 'rarity': 1L, 'veterinarian': 1L, 'behavior': 1L, 'lover': 1L, 'problem': 1L, 'property': 1L, 'wandering': 1L, 'called': 2L, 'cages': 3L, 'claim': 1L, 'expanding': 1L, 'lure': 1L, 'dubious': 1L, 'heard': 1L, 'rat': 1L, 'warning': 1L, 'zzz_west': 1L, 'zzz_tiger': 1L, 'pay': 1L, 'member': 1L, 'menus': 1L, 'animal': 5L, 'interview': 1L, 'province': 1L, 'nabbing': 1L, 'literature': 1L, 'minority': 1L, 'combat': 1L, 'measures': 2L, 'southern': 1L, 'demanding': 2L, 'wholesale': 1L, 'membership': 1L, 'lay': 1L, 'law': 1L, 'police': 3L, 'recent': 1L, 'professor': 2L, 'stronger': 1L, 'persistent': 1L, 'traditional': 1L, 'concrete': 1L, 'zzz_university': 1L, 'operate': 1L, 'order': 1L}, {'longer': 1L, 'zzz_rudy_tomjanovich': 5L, 'coach': 3L, 'rocket': 1L, 'chances': 2L, 'soon': 1L, 'foot': 1L, 'manager': 1L, 'selection': 1L, 'zzz_u_s_olympic': 1L, 'zzz_eddie_jones': 5L, 'noncontact': 1L, 'nearer': 1L, 'fined': 1L, 'torn': 1L, 'reminisce': 1L, 'rejoined': 1L, 'zzz_chris_child': 1L, 'zzz_zydrunas_ilgauskas': 4L, 'input': 1L, 'suffered': 2L, 'spot': 1L, 'instigating': 1L, 'wearing': 1L, 'road': 2L, 'return': 6L, 'honest': 1L, 'returning': 1L, 'workout': 1L, 'practice': 3L, 'zzz_nba': 1L, 'layup': 1L, 'game': 5L, 'longest': 1L, 'anticipates': 1L, 'struggling': 1L, 'distraction': 1L, 'loss': 2L, 'school': 1L, 'alma': 1L, 'joked': 1L, 'brace': 1L, 'arrested': 1L, 'guard': 1L, 'zzz_john_wallace': 1L, 'laughing': 1L, 'zzz_shelby': 1L, 'team': 4L, 'quick': 1L, 'reduced': 1L, 'bone': 1L, 'zzz_alvin': 1L, 'woes': 1L, 'series': 1L, 'shake': 1L, 'begin': 1L, 'past': 3L, 'zzz_kurt_thomas': 1L, 'college': 1L, 'reaffirmed': 1L, 'home': 1L, 'barn': 1L, 'zzz_stephon_marbury': 1L, 'zzz_vince': 1L, 'driving': 1L, 'zzz_charlotte': 1L, 'resume': 1L, 'zzz_jalen_rose': 1L, 'zzz_dickey_simpkin': 1L, 'piston': 1L, 'net': 1L, 'told': 3L, 'hasn': 2L, 'drill': 1L, 'power': 1L, 'leg': 1L, 'zzz_olympic': 1L, 'night': 1L, 'met': 1L, 'wear': 2L, 'gentry': 2L, 'active': 1L, 'comeback': 2L, 'legend': 2L, 'improve': 1L, 'arena': 1L, 'league': 1L, 'y2k': 1L, 'license': 1L, 'broken': 1L, 'zzz_n_c': 1L, 'controversy': 1L, 'zzz_west_coast': 1L, 'range': 1L, 'games': 2L, 'diagnosed': 1L, 'postponed': 1L, 'asked': 1L, 'jersey': 1L, 'campaign': 1L, 'blown': 1L, 'getting': 1L, 'playoff': 1L, 'ligament': 1L, 'suspended': 2L, 'fight': 1L, 'spelling': 1L, 'elbow': 1L, 'played': 2L, 'zzz_rod_thorn': 1L, 'low': 1L, 'forward': 2L, 'injury': 3L, 'season': 1L, 'heal': 1L, 'took': 3L, 'bull': 2L, 'attempt': 1L, 'effort': 1L, 'center': 2L, 'physician': 1L, 'throw': 1L, 'word': 1L, 'born': 1L, 'collision': 1L, 'official': 1L, 'lead': 1L, 'zzz_knick': 2L, 'rehab': 1L, 'zzz_cav': 2L, 'newspaper': 1L, 'making': 2L, 'problem': 1L, 'laughter': 1L, 'hornet': 2L, 'prospect': 1L, 'fracturing': 1L, 'prompting': 1L, 'zzz_christmas_day': 1L, 'general': 1L, 'high': 1L, 'player': 2L, 'mater': 1L, 'foreign': 1L, 'trip': 2L, 'selfish': 1L, 'zzz_pacer': 1L, 'sit': 1L, 'elite': 1L, 'mid': 1L, 'squad': 1L, 'zzz_houston': 1L, 'test': 1L, 'jail': 1L, 'zzz_dickey': 1L, 'zzz_chicago': 1L, 'gym': 1L, 'planned': 1L, 'zzz_vince_carter': 3L, 'play': 1L, 'zzz_toronto': 1L, 'scored': 1L, 'zzz_russ_granik': 1L, 'roster': 1L, 'millennial': 1L, 'assist': 1L, 'zzz_cleveland': 1L, 'hand': 1L, 'effectively': 1L, 'zzz_don_casey': 1L, 'fouled': 1L, 'plan': 2L, 'zzz_appalachian_state': 1L, 'eighth': 1L, 'died': 1L, 'ago': 1L, 'dummy': 1L, 'practiced': 1L, 'remember': 1L, 'wife': 1L, 'light': 1L, 'spent': 1L, 'thought': 2L, 'zzz_new_york_knick': 1L, 'zzz_cleveland_clinic': 1L, 'zzz_jayson_william': 2L, 'push': 1L, 'overseas': 1L, 'zzz_new_jersey': 1L, 'left': 1L}, {'rating': 1L, 'emerging': 1L, 'coach': 6L, 'saying': 1L, 'athletic': 1L, 'bowl': 1L, 'fond': 1L, 'zzz_allegheny': 1L, 'held': 1L, 'surpass': 1L, 'zzz_jim_druckenmiller': 3L, 'skill': 1L, 'children': 1L, 'previous': 1L, 'culmination': 1L, 'style': 1L, 'believe': 1L, 'writes': 1L, 'zzz_florida_state': 4L, 'locales': 1L, 'easy': 1L, 'poised': 1L, 'east': 1L, 'surprised': 1L, 'happened': 1L, 'real': 1L, 'hit': 2L, 'tucked': 1L, 'big': 1L, 'showing': 1L, 'practice': 1L, 'kind': 2L, 'coast': 1L, 'unbeaten': 1L, 'game': 4L, 'listening': 1L, 'zzz_florida_international_university': 1L, 'easily': 1L, 'school': 4L, 'unlike': 1L, 'fewer': 1L, 'try': 1L, 'intangibles': 1L, 'team': 2L, 'small': 1L, 'guy': 2L, 'thought': 2L, 'making': 1L, 'zzz_donovan_mcnabb': 3L, 'play': 4L, 'deal': 1L, 'throwing': 1L, 'diplomatic': 1L, 'idea': 1L, 'seat': 1L, 'pocket': 1L, 'finish': 1L, 'palm': 1L, 'zzz_charlie_ward': 1L, 'choosing': 1L, 'pass': 1L, 'growing': 1L, 'close': 1L, 'operation': 1L, 'zzz_newport_new': 1L, 'untested': 1L, 'witness': 1L, 'living': 1L, 'zzz_paul_pasqualoni': 2L, 'stardom': 1L, 'lead': 1L, 'movie': 1L, 'decision': 1L, 'forty': 1L, 'rushing': 1L, 'adjust': 1L, 'freshman': 2L, 'falling': 1L, 'leader': 1L, 'zzz_nebraska': 1L, 'attended': 1L, 'run': 3L, 'business': 1L, 'doubt': 1L, 'redshirt': 1L, 'poise': 1L, 'happening': 1L, 'efficiency': 1L, 'reason': 1L, 'ranked': 1L, 'zzz_orange': 1L, 'defensive': 1L, 'situation': 3L, 'put': 2L, 'zzz_south_florida': 1L, 'finishing': 1L, 'change': 1L, 'zzz_university': 1L, 'dates': 1L, 'yard': 6L, 'ahead': 1L, 'getting': 1L, 'taking': 1L, 'approaches': 1L, 'aren': 1L, 'magazine': 1L, 'zzz_aaron_brook': 1L, 'games': 3L, 'action': 1L, 'passing': 3L, 'history': 1L, 'traded': 1L, 'hold': 1L, 'family': 1L, 'headed': 1L, 'number': 3L, 'brought': 1L, 'zzz_bobby_bowden': 1L, 'likes': 1L, 'reggie': 1L, 'touchdown': 1L, 'respect': 1L, 'zzz_virginia_tech': 3L, 'total': 1L, 'passes': 2L, 'publicly': 1L, 'comparing': 1L, 'tremendous': 1L, 'redshirted': 1L, 'cited': 1L, 'visit': 1L, 'system': 1L, 'fast': 1L, 'throw': 1L, 'posted': 1L, 'needed': 1L, 'zzz_blue_ridge': 1L, 'zzz_herring': 1L, 'biggest': 1L, 'farming': 1L, 'recruited': 1L, 'final': 1L, 'zzz_superprep': 1L, 'gaudy': 1L, 'zzz_miami': 1L, 'option': 1L, 'started': 1L, 'attempted': 1L, 'completed': 2L, 'zzz_tom_d_angelo': 1L, 'took': 1L, 'expected': 1L, 'finished': 1L, 'tying': 1L, 'zzz_texas': 1L, 'overwhelming': 1L, 'pain': 1L, 'starter': 1L, 'faster': 1L, 'town': 1L, 'highest': 1L, 'look': 1L, 'showed': 2L, 'coordinator': 1L, 'athlete': 1L, 'official': 1L, 'zzz_chris_weinke': 2L, 'believes': 2L, 'record': 2L, 'defense': 1L, 'newspaper': 1L, 'college': 1L, 'pressure': 1L, 'balance': 1L, 'expect': 1L, 'prospect': 1L, 'unfairly': 1L, 'played': 2L, 'runner': 1L, 'household': 1L, 'dolphin': 2L, 'influence': 1L, 'confused': 1L, 'zzz_sugar_bowl': 1L, 'high': 4L, 'player': 1L, 'zzz_clemson': 1L, 'offense': 2L, 'host': 1L, 'zzz_north_dallas': 1L, 'saw': 1L, 'backfield': 1L, 'mountain': 2L, 'compared': 1L, 'lacking': 1L, 'zzz_michael_vick': 23L, 'protect': 1L, 'wound': 1L, 'zzz_blacksburg': 2L, 'actor': 1L, 'need': 1L, 'zzz_hokies': 7L, 'zzz_heisman': 2L, 'zzz_joe_hamilton': 1L, 'zzz_syracuse': 5L, 'beach': 1L, 'relaxed': 1L, 'quarterback': 11L, 'zzz_seminoles': 1L, 'staying': 1L, 'championship': 1L, 'led': 2L, 'football': 1L, 'reached': 1L, 'ball': 1L, 'prepared': 1L, 'director': 1L, 'sure': 1L, 'running': 3L, 'zzz_warwick': 1L, 'peak': 1L, 'zzz_heisman_trophy_winning': 1L, 'date': 1L, 'ties': 1L, 'nation': 3L, 'overlooked': 1L, 'built': 1L, 'ago': 3L, 'early': 1L, 'stress': 1L, 'voting': 1L, 'attempt': 1L, 'especially': 1L, 'sturdy': 1L, 'zzz_beamer': 4L, 'steady': 1L, 'season': 3L, 'picked': 1L, 'immeasurable': 1L, 'deserve': 1L, 'zzz_troy_nunes': 1L, 'talk': 1L}, {'coach': 1L, 'shot': 1L, 'help': 1L, 'office': 1L, 'zzz_lavar_arrington': 1L, 'issued': 1L, 'supported': 1L, 'brilliance': 1L, 'bring': 1L, 'manager': 3L, 'zzz_brown': 1L, 'decade': 1L, 'row': 1L, 'fit': 1L, 'eligible': 1L, 'zzz_florida_state': 2L, 'zzz_bruce_coslet': 3L, 'charge': 1L, 'real': 1L, 'cornerback': 1L, 'song': 1L, 'focus': 1L, 'criticized': 1L, 'game': 2L, 'worst': 1L, 'half': 1L, 'stroll': 1L, 'joked': 1L, 'linebacker': 1L, 'continue': 1L, 'team': 4L, 'likes': 1L, 'individually': 1L, 'zzz_ralph_wilson': 1L, 'bill': 2L, 'sign': 2L, 'past': 1L, 'decided': 1L, 'home': 1L, 'retracting': 1L, 'obviously': 1L, 'shown': 1L, 'zzz_kevin_johnson': 1L, 'safety': 1L, 'zzz_peter_warrick': 4L, 'learned': 1L, 'officially': 1L, 'core': 1L, 'million': 4L, 'expansion': 1L, 'base': 1L, 'free': 1L, 'defensive': 2L, 'put': 1L, 'league': 1L, 'protect': 1L, 'diminished': 1L, 'turn': 1L, 'zzz_carl_picken': 3L, 'receiver': 5L, 'zzz_courtney_brown': 1L, 'comment': 1L, 'win': 1L, 'prefer': 1L, 'zzz_jacksonville': 1L, 'guard': 1L, 'zzz_buffalo': 1L, 'privately': 1L, 'owner': 2L, 'zzz_uncertain': 2L, 'zzz_nfl': 1L, 'aren': 1L, 'leading': 1L, 'support': 1L, 'question': 1L, 'fight': 1L, 'zzz_colt': 1L, 'zzz_dwight_clark': 4L, 'statement': 1L, 'draft': 2L, 'today': 2L, 'zzz_cincinnati': 1L, 'season': 5L, 'understand': 1L, 'trying': 2L, 'zzz_penn_state': 1L, 'kind': 1L, 'zzz_andre_reed': 2L, 'look': 1L, 'publicly': 1L, 'cap': 2L, 'zzz_bruce_smith': 1L, 'future': 2L, 'newspaper': 1L, 'making': 1L, 'prospect': 1L, 'figure': 1L, 'give': 2L, 'lobbying': 1L, 'zzz_bengal': 2L, 'proven': 1L, 'general': 3L, 'player': 4L, 'face': 1L, 'aging': 1L, 'zzz_mike_brown': 1L, 'damage': 1L, 'couch': 4L, 'role': 1L, 'zzz_thurman_thomas': 2L, 'zzz_eric_mould': 1L, 'quarterback': 2L, 'development': 1L, 'play': 1L, 'pick': 3L, 'zzz_cleveland': 1L, 'hand': 1L, 'running': 1L, 'tipped': 1L, 'ago': 1L, 'salary': 1L, 'zzz_cowboy': 1L, 'considered': 1L, 'weapon': 2L, 'zzz_john_butler': 1L, 'zzz_kentucky': 1L, 'zzz_thomas_smith': 1L, 'yell': 1L, 'left': 1L}, {'remarkable': 1L, 'battle': 1L, 'holdout': 1L, 'zzz_bob_mcnair': 1L, 'technique': 1L, 'zzz_oakland': 1L, 'zzz_tyrone_wheatley': 1L, 'zzz_jeff_george': 3L, 'zzz_walter_payton': 1L, 'putting': 1L, 'zzz_kansas_city': 1L, 'zzz_dick_vermeil': 2L, 'leave': 1L, 'team': 6L, 'guy': 2L, 'zzz_jerry_jones': 1L, 'zzz_bill_romanowski': 1L, 'tired': 2L, 'regained': 1L, 'prediction': 1L, 'sign': 1L, 'past': 1L, 'fold': 1L, 'cost': 1L, 'pass': 2L, 'buccaneer': 3L, 'zzz_brown': 2L, 'zzz_donnie_abraham': 2L, 'zzz_san_diego': 1L, 'zzz_bill_belichick': 1L, 'learned': 1L, 'drafted': 2L, 'zzz_redskin': 4L, 'million': 1L, 'leg': 1L, 'newspaper': 1L, 'legend': 1L, 'ahead': 1L, 'snubbed': 1L, 'zzz_ryan_leaf': 1L, 'pick': 1L, 'zzz_steeler': 1L, 'sweetness': 1L, 'retired': 2L, 'win': 1L, 'retires': 3L, 'zzz_new_england': 1L, 'handled': 1L, 'illegal': 1L, 'played': 1L, 'zzz_cecil_collin': 1L, 'live': 1L, 'zzz_arizona': 1L, 'injury': 2L, 'zzz_dallas': 2L, 'zzz_ray_lewis': 2L, 'afford': 1L, 'zzz_stephen_davis': 2L, 'landed': 1L, 'broke': 2L, 'zzz_memphis': 1L, 'zzz_marshall_faulk': 3L, 'zzz_brad_johnson': 3L, 'join': 1L, 'zzz_detroit': 1L, 'zzz_ricky_william': 2L, 'cap': 1L, 'worn': 1L, 'huge': 1L, 'making': 1L, 'history': 1L, 'zzz_trent_green': 1L, 'give': 1L, 'zzz_bengal': 2L, 'dolphin': 5L, 'agent': 1L, 'high': 1L, 'heard': 1L, 'slip': 1L, 'offense': 2L, 'sharp': 1L, 'native': 4L, 'pink': 1L, 'zzz_warren_sapp': 1L, 'cardinal': 1L, 'zzz_houston': 2L, 'zzz_florida': 1L, 'zzz_ray_rhodes': 2L, 'profile': 1L, 'zzz_jerry_rice': 2L, 'aging': 1L, 'zzz_rookie': 6L, 'coming': 1L, 'eighth': 1L, 'neck': 1L, 'worst': 1L, 'playing': 4L, 'nearly': 1L, 'zzz_london_fletcher': 1L, 'attitude': 1L, 'shake': 1L, 'fit': 1L, 'fade': 1L, 'troubled': 1L, 'fines': 1L, 'zzz_simeon_rice': 1L, 'return': 4L, 'zzz_kurt_warner': 3L, 'break': 3L, 'zzz_charles_haley': 2L, 'half': 1L, 'zzz_chris_spielman': 1L, 'bank': 1L, 'feet': 1L, 'pregnant': 1L, 'arrested': 1L, 'outplayed': 1L, 'zzz_damien_woody': 1L, 'zzz_san_francisco': 1L, 'development': 1L, 'fired': 1L, 'house': 1L, 'hard': 1L, 'space': 1L, 'zzz_americus': 1L, 'zzz_shannon_sharpe': 1L, 'zzz_bryant_young': 1L, 'zzz_dan_marino': 4L, 'incentives': 1L, 'reason': 2L, 'put': 1L, 'zzz_kansas_state': 1L, 'zzz_michael_westbrook': 3L, 'yard': 2L, 'zzz_chuck_smith': 1L, 'zzz_rae_carruth': 1L, 'zzz_green_bay': 3L, 'zzz_washington_state': 1L, 'zzz_joey_galloway': 1L, 'number': 1L, 'sack': 2L, 'linking': 1L, 'zzz_jacksonville': 1L, 'zzz_indianapolis': 2L, 'fast': 1L, 'owner': 4L, 'zzz_champ_bailey': 1L, 'zzz_nfl': 7L, 'zzz_morten_andersen': 2L, 'passes': 1L, 'sheet': 1L, 'jet': 6L, 'rookies': 1L, 'bite': 1L, 'zzz_corey_dillon': 2L, 'zzz_colt': 6L, 'draft': 1L, 'zzz_olandis_gary': 1L, 'passed': 2L, 'murder': 1L, 'happily': 1L, 'season': 17L, 'antic': 1L, 'convinced': 1L, 'shut': 1L, 'gotten': 1L, 'tackles': 1L, 'outrageous': 1L, 'zzz_tim_brown': 1L, 'zzz_curtis_conway': 1L, 'zzz_ben_coates': 2L, 'zzz_raven': 1L, 'outstanding': 2L, 'pro': 5L, 'couch': 2L, 'wonder': 1L, 'quarterback': 5L, 'hires': 1L, 'knew': 1L, 'regular': 1L, 'mouth': 2L, 'blaming': 1L, 'class': 1L, 'salary': 2L, 'death': 1L, 'zzz_cowboy': 4L, 'cover': 1L, 'zzz_mike_shanahan': 1L, 'clean': 1L, 'zzz_new_orlean': 1L, 'businessman': 1L, 'voting': 1L, 'zzz_saint': 1L, 'stunned': 1L, 'chances': 1L, 'anyway': 1L, 'zzz_tom_benson': 1L, 'staff': 1L, 'slow': 1L, 'zzz_n_c_state': 1L, 'earned': 1L, 'winner': 1L, 'zzz_ray_lucas': 1L, 'zzz_tony_bracken': 1L, 'factor': 1L, 'dominant': 1L, 'beat': 1L, 'assistant': 1L, 'bear': 2L, 'fastest': 1L, 'despite': 2L, 'secondary': 1L, 'prime': 1L, 'jaguar': 2L, 'rounder': 3L, 'zzz_seahawk': 2L, 'set': 2L, 'packer': 2L, 'manning': 2L, 'lion': 2L, 'defense': 1L, 'desperate': 1L, 'close': 1L, 'arm': 1L, 'concern': 1L, 'zzz_mark_schlabach': 1L, 'reporter': 1L, 'rushing': 2L, 'won': 1L, 'zzz_st_louis': 1L, 'linebacker': 2L, 'fearless': 1L, 'job': 2L, 'broncos': 3L, 'franchise': 1L, 'comeback': 1L, 'league': 6L, 'barely': 1L, 'contract': 4L, 'games': 1L, 'receiver': 5L, 'zzz_daunte_culpepper': 1L, 'tough': 1L, 'cancer': 1L, 'coincidence': 1L, 'inexplicably': 1L, 'respect': 1L, 'quit': 1L, 'zzz_washington': 1L, 'zzz_pittsburgh': 1L, 'zzz_cincinnati': 1L, 'zzz_miami': 2L, 'zzz_los_angeles': 1L, 'offered': 1L, 'liver': 1L, 'zzz_bill_parcell': 2L, 'replaces': 1L, 'look': 2L, 'bill': 2L, 'replaced': 1L, 'behavior': 1L, 'zzz_steve_young': 3L, 'zzz_aaron_beasley': 1L, 'overlooked': 1L, 'telephone': 1L, 'disappointing': 1L, 'player': 7L, 'zzz_jimmy_johnson': 2L, 'zzz_giant': 1L, 'confirmed': 1L, 'zzz_deion_sander': 1L, 'sidelined': 1L, 'zzz_jeff_blake': 2L, 'undrafted': 2L, 'injured': 2L, 'zzz_georgia': 1L, 'zzz_norv_turner': 1L, 'hand': 3L, 'coaches': 1L, 'running': 4L, 'zzz_steve_atwater': 2L, 'zzz_act': 1L, 'center': 1L, 'charges': 1L, 'charger': 2L, 'weapon': 1L, 'zzz_vinny_testaverde': 2L, 'thought': 1L, 'charged': 1L, 'zzz_michael_irvin': 2L, 'money': 3L, 'competitive': 1L, 'zzz_denver': 2L, 'zzz_minnesota': 2L, 'injuries': 3L, 'discipline': 1L, 'cut': 1L, 'zzz_ram': 5L, 'zzz_john_elway': 1L, 'viking': 2L, 'zzz_mississippi': 1L, 'preseason': 2L, 'zzz_comeback_player': 1L, 'big': 5L, 'specimen': 1L, 'game': 3L, 'zzz_edgerrin_james': 3L, 'falcon': 5L, 'zzz_terrell_davis': 2L, 'rumor': 1L, 'shoulder': 1L, 'zzz_robert_porcher': 2L, 'zzz_boston_college': 1L, 'laughing': 1L, 'zzz_pete_carroll': 3L, 'zzz_carolina': 1L, 'titan': 2L, 'zzz_barry_sander': 2L, 'scrimmage': 1L, 'mirror': 1L, 'home': 1L, 'lead': 2L, 'zzz_jamal_anderson': 2L, 'decision': 2L, 'quitting': 1L, 'run': 1L, 'zzz_bill_cowher': 2L, 'defensive': 2L, 'losing': 1L, 'raider': 4L, 'throw': 1L, 'takes': 1L, 'trophy': 1L, 'getting': 1L, 'rested': 1L, 'block': 1L, 'zzz_mike_ditka': 2L, 'playoff': 2L, 'zzz_norman': 1L, 'zzz_jim_mora': 2L, 'aren': 2L, 'zzz_alonzo_spellman': 1L, 'awarded': 1L, 'rusher': 1L, 'head': 2L, 'collapsed': 2L, 'succumbed': 1L, 'zzz_gunther_cunningham': 1L, 'zzz_peyton': 1L, 'line': 2L, 'zzz_kevin_carter': 2L, 'patriot': 4L, 'zzz_panther': 1L, 'surprising': 1L, 'record': 6L, 'zzz_oiler': 1L, 'zzz_chan_gailey': 1L, 'horrific': 1L, 'nepotism': 1L, 'zzz_jevon_kearse': 3L, 'deep': 1L, 'disease': 1L, 'girlfriend': 1L, 'shooting': 1L, 'physical': 1L, 'hit': 1L, 'offensive': 1L, 'field': 1L, 'zzz_west_virginia': 2L, 'zzz_heisman': 1L, 'zzz_chicago': 2L, 'scored': 1L, 'stat': 1L, 'dies': 1L, 'welcome': 1L, 'stay': 1L, 'offseason': 1L, 'important': 1L, 'invested': 2L, 'longer': 1L, 'rescued': 1L, 'zzz_robert_kraft': 1L, 'zzz_randall_cunningham': 1L, 'zzz_traded': 1L, 'starting': 1L}, {'zzz_saint': 1L, 'coach': 6L, 'mom': 1L, 'stunned': 1L, 'issued': 1L, 'despite': 1L, 'rest': 1L, 'zzz_denver': 1L, 'zzz_tom_benson': 1L, 'attitude': 1L, 'cocky': 1L, 'helm': 1L, 'adjustment': 1L, 'injuries': 1L, 'zzz_christmas_eve': 1L, 'zzz_virginia': 1L, 'scheduled': 1L, 'return': 1L, 'game': 1L, 'decide': 1L, 'half': 1L, 'discuss': 1L, 'closure': 1L, 'zzz_bill_bidwill': 1L, 'worried': 1L, 'leave': 1L, 'bad': 2L, 'team': 5L, 'speculation': 3L, 'newspaper': 1L, 'right': 1L, 'fired': 1L, 'fair': 1L, 'hard': 1L, 'zzz_vince_tobin': 5L, 'sign': 1L, 'past': 1L, 'owner': 2L, 'decision': 2L, 'unrestricted': 1L, 'red': 1L, 'told': 2L, 'hasn': 1L, 'free': 3L, 'met': 1L, 'resign': 1L, 'losing': 1L, 'wanted': 1L, 'guy': 1L, 'zzz_lord': 1L, 'extension': 2L, 'battling': 1L, 'contract': 3L, 'admit': 2L, 'games': 1L, 'receiver': 1L, 'zzz_mike_ditka': 5L, 'control': 1L, 'slipped': 1L, 'feel': 1L, 'acted': 1L, 'franchise': 1L, 'playoff': 2L, 'duck': 1L, 'touchdown': 1L, 'deal': 1L, 'revelation': 1L, 'confident': 1L, 'live': 1L, 'zzz_arizona': 2L, 'happy': 1L, 'sort': 1L, 'direction': 2L, 'offer': 1L, 'afford': 1L, 'season': 2L, 'yard': 1L, 'believe': 3L, 'effort': 1L, 'haven': 2L, 'town': 1L, 'berth': 1L, 'ultimatum': 1L, 'zzz_panther': 2L, 'publicly': 1L, 'bother': 2L, 'future': 1L, 'knocked': 1L, 'streak': 1L, 'angel': 1L, 'lobbying': 2L, 'zzz_dallas': 1L, 'head': 1L, 'agent': 4L, 'player': 1L, 'need': 1L, 'friendlier': 1L, 'lame': 1L, 'lately': 1L, 'hot': 1L, 'cardinal': 4L, 'play': 2L, 'sure': 1L, 'football': 2L, 'paid': 1L, 'zzz_carolina': 2L, 'moment': 1L, 'mad': 4L, 'coming': 1L, 'ago': 1L, 'zzz_cowboy': 1L, 'sit': 1L, 'spent': 1L, 'reception': 1L, 'fact': 1L, 'left': 1L}, {'coach': 1L, 'half': 2L, 'bombed': 1L, 'trade': 1L, 'manager': 1L, 'deadline': 1L, 'zzz_ken_holland': 3L, 'injuries': 1L, 'zzz_sabres': 1L, 'slow': 1L, 'group': 1L, 'cup': 1L, 'swan': 1L, 'appeared': 1L, 'finally': 1L, 'hockey': 1L, 'suffered': 1L, 'holiday': 1L, 'local': 1L, 'goalie': 1L, 'match': 1L, 'hit': 1L, 'string': 1L, 'assistant': 1L, 'practice': 1L, 'seemingly': 1L, 'period': 1L, 'early': 1L, 'game': 2L, 'fan': 1L, 'despite': 1L, 'zzz_motown': 1L, 'continued': 1L, 'zzz_detroit_red': 1L, 'failed': 1L, 'lost': 1L, 'zzz_chris_osgood': 1L, 'victories': 1L, 'team': 10L, 'guy': 1L, 'set': 2L, 'deal': 1L, 'series': 1L, 'consistent': 1L, 'hard': 2L, 'play': 3L, 'competition': 1L, 'jump': 1L, 'defenseman': 1L, 'defense': 1L, 'result': 1L, 'blues': 1L, 'dives': 1L, 'wonder': 1L, 'closer': 1L, 'imported': 1L, 'lead': 1L, 'record': 1L, 'ice': 1L, 'zzz_nhl': 2L, 'won': 1L, 'consecutive': 2L, 'unrestricted': 1L, 'measuring': 1L, 'hasn': 1L, 'perception': 1L, 'night': 1L, 'free': 1L, 'advantages': 1L, 'key': 1L, 'path': 1L, 'strong': 1L, 'zzz_thrasher': 1L, 'wait': 1L, 'league': 2L, 'training': 1L, 'feeling': 1L, 'career': 1L, 'trades': 2L, 'attributed': 1L, 'stride': 1L, 'amount': 1L, 'produce': 1L, 'games': 5L, 'pick': 1L, 'narrow': 1L, 'midway': 1L, 'jersey': 1L, 'adjusted': 1L, 'tough': 1L, 'family': 1L, 'point': 2L, 'feel': 1L, 'win': 3L, 'zzz_pat_verbeek': 2L, 'coming': 1L, 'primary': 1L, 'traveled': 1L, 'playoff': 7L, 'zzz_buffalo': 1L, 'conference': 1L, 'span': 1L, 'prove': 1L, 'celebratory': 1L, 'start': 1L, 'draft': 1L, 'judging': 1L, 'expected': 1L, 'final': 1L, 'champion': 1L, 'club': 1L, 'season': 6L, 'waxed': 1L, 'took': 1L, 'forward': 3L, 'western': 1L, 'worked': 1L, 'squeeze': 1L, 'matter': 1L, 'look': 2L, 'affirm': 1L, 'dead': 1L, 'zzz_detroit': 2L, 'blah': 1L, 'paired': 1L, 'future': 1L, 'zzz_phoenix': 1L, 'pumped': 1L, 'newspaper': 1L, 'piece': 1L, 'minus': 1L, 'stick': 1L, 'rejuvenated': 1L, 'zzz_dallas': 4L, 'agent': 1L, 'general': 1L, 'middle': 1L, 'defending': 1L, 'zzz_st_louis': 1L, 'ready': 1L, 'watched': 1L, 'awhile': 1L, 'chase': 1L, 'comfortable': 1L, 'goal': 1L, 'personnel': 1L, 'veteran': 2L, 'elevated': 1L, 'started': 2L, 'need': 1L, 'place': 1L, 'zzz_stanley_cup': 4L, 'overtime': 1L, 'nice': 1L, 'zzz_colorado': 3L, 'stat': 1L, 'tried': 1L, 'felt': 1L, 'paid': 1L, 'regular': 1L, 'exported': 1L, 'zzz_chris_chelios': 3L, 'absences': 1L, 'measured': 1L, 'needed': 1L, 'recent': 1L, 'reflected': 1L, 'zzz_slava_kozlov': 1L, 'mortgaged': 1L, 'average': 1L, 'camp': 1L, 'lines': 1L, 'depth': 1L, 'waited': 1L, 'prodded': 1L, 'title': 1L, 'zzz_dave_lewis': 3L, 'wing': 6L, 'turnover': 1L}, {'saying': 1L, 'coach': 1L, 'shot': 1L, 'chances': 1L, 'dollar': 2L, 'zzz_mike_vernon': 3L, 'ice': 1L, 'winger': 1L, 'adding': 1L, 'slow': 1L, 'group': 1L, 'thinking': 1L, 'responsible': 1L, 'bust': 1L, 'winning': 1L, 'hockey': 1L, 'team': 5L, 'remaining': 1L, 'kick': 1L, 'gave': 1L, 'return': 1L, 'returned': 1L, 'zzz_creatively': 1L, 'stop': 1L, 'girlfriend': 1L, 'despite': 2L, 'difference': 1L, 'entire': 1L, 'hook': 1L, 'pinch': 1L, 'try': 1L, 'night': 1L, 'hung': 1L, 'round': 1L, 'zzz_new_york': 1L, 'right': 1L, 'escalation': 1L, 'deal': 3L, 'play': 3L, 'past': 1L, 'defenseman': 1L, 'zzz_trevor_kidd': 1L, 'expect': 1L, 'picked': 1L, 'odd': 1L, 'giving': 1L, 'fact': 1L, 'rejecting': 1L, 'goes': 1L, 'learned': 1L, 'approach': 1L, 'misdirected': 1L, 'burn': 1L, 'slight': 1L, 'million': 8L, 'losing': 1L, 'wanted': 1L, 'zzz_alexei_yashin': 1L, 'dry': 1L, 'league': 1L, 'zzz_coyotes': 1L, 'working': 1L, 'taking': 1L, 'contract': 2L, 'games': 5L, 'pick': 1L, 'zzz_united_states': 1L, 'asked': 1L, 'family': 1L, 'point': 1L, 'win': 1L, 'zzz_john_mcmullen': 2L, 'synonymous': 1L, 'tendered': 1L, 'playoff': 1L, 'zzz_buffalo': 1L, 'send': 1L, 'owner': 1L, 'devil': 1L, 'span': 1L, 'fair': 2L, 'jet': 1L, 'twenty': 1L, 'structured': 1L, 'creativity': 1L, 'ballistic': 1L, 'draft': 1L, 'minor': 1L, 'selling': 1L, 'option': 1L, 'busting': 1L, 'fire': 1L, 'season': 1L, 'offered': 1L, 'rejected': 1L, 'zzz_switzerland': 1L, 'understand': 1L, 'zzz_san_jose': 1L, 'hurricanes': 1L, 'butt': 1L, 'copy': 1L, 'convinced': 1L, 'zzz_panther': 2L, 'likely': 1L, 'poison': 1L, 'zzz_phoenix': 2L, 'newspaper': 1L, 'zzz_keith_tkachuk': 1L, 'zzz_boston': 2L, 'philosophies': 1L, 'result': 1L, 'pre': 1L, 'played': 1L, 'player': 4L, 'sudden': 2L, 'anger': 1L, 'watched': 1L, 'zzz_keith_primeau': 6L, 'sell': 1L, 'anymore': 1L, 'offer': 3L, 'offensive': 1L, 'member': 1L, 'club': 2L, 'endorsement': 1L, 'conclusion': 1L, 'injured': 1L, 'zzz_canes': 1L, 'briefly': 1L, 'minority': 1L, 'zzz_ottawa': 1L, 'price': 1L, 'paid': 1L, 'zzz_carolina': 2L, 'coaches': 1L, 'fell': 1L, 'coming': 1L, 'approved': 1L, 'age': 1L, 'responded': 1L, 'zzz_twelve': 1L, 'zzz_pat_burn': 4L, 'talk': 1L, 'spend': 1L, 'zzz_new_jersey': 1L, 'left': 1L}, {'lumbered': 1L, 'shot': 1L, 'zzz_mike': 1L, 'chances': 1L, 'developed': 1L, 'footstep': 1L, 'retire': 1L, 'trade': 1L, 'zzz_phil': 1L, 'holdout': 1L, 'hate': 1L, 'winger': 1L, 'bunch': 1L, 'style': 1L, 'death': 1L, 'spite': 1L, 'father': 2L, 'bench': 1L, 'voted': 1L, 'zzz_gordie': 1L, 'kick': 1L, 'styles': 1L, 'zzz_marcel': 1L, 'game': 3L, 'foot': 1L, 'zzz_bobby': 2L, 'killed': 1L, 'thrill': 2L, 'level': 1L, 'list': 1L, 'mode': 1L, 'guy': 2L, 'zzz_wayne': 1L, 'approaching': 1L, 'unquote': 1L, 'right': 1L, 'deal': 1L, 'scared': 1L, 'pass': 1L, 'sum': 1L, 'ice': 2L, 'looking': 1L, 'zzz_nhl': 1L, 'score': 2L, 'zzz_brett': 2L, 'told': 1L, 'creating': 1L, 'hull': 1L, 'zzz_dino': 1L, 'fun': 1L, 'strong': 1L, 'change': 1L, 'career': 2L, 'games': 2L, 'zzz_famer': 1L, 'mean': 1L, 'honor': 1L, 'love': 1L, 'family': 2L, 'point': 1L, 'powerful': 1L, 'bound': 1L, 'rink': 1L, 'owner': 1L, 'reached': 1L, 'hoping': 1L, 'quit': 2L, 'zzz_carolina': 1L, 'leading': 1L, 'fast': 1L, 'comparing': 1L, 'stealth': 1L, 'tell': 1L, 'zzz_keith_primeau': 1L, 'hurt': 1L, 'hurricanes': 1L, 'true': 1L, 'kind': 1L, 'arranged': 1L, 'wish': 1L, 'newspaper': 1L, 'bet': 1L, 'crazy': 1L, 'money': 1L, 'zzz_all_star': 1L, 'played': 1L, 'player': 2L, 'counting': 1L, 'apparently': 1L, 'huge': 1L, 'goal': 5L, 'anymore': 1L, 'dallas': 1L, 'pay': 1L, 'zzz_entering': 1L, 'nice': 1L, 'scored': 1L, 'play': 2L, 'phoenix': 1L, 'quote': 1L, 'reach': 1L, 'update': 1L, 'mario': 1L, 'scorer': 1L, 'coming': 1L, 'animosity': 1L, 'eighth': 1L, 'weave': 1L, 'squelched': 1L, 'average': 1L, 'holes': 1L, 'honestly': 1L, 'dream': 2L}, {'saying': 1L, 'coach': 1L, 'bait': 1L, 'money': 1L, 'zzz_mike_vernon': 1L, 'rest': 1L, 'trade': 2L, 'zzz_new_york': 1L, 'chair': 1L, 'injuries': 1L, 'winger': 1L, 'realizing': 1L, 'group': 1L, 'finally': 1L, 'pretty': 1L, 'dressing': 1L, 'playing': 1L, 'goalie': 1L, 'risk': 1L, 'jerk': 1L, 'returning': 1L, 'devastated': 1L, 'zzz_radek_dvorak': 1L, 'zzz_av': 1L, 'preferred': 1L, 'immediately': 1L, 'net': 1L, 'term': 1L, 'trivia': 1L, 'lost': 1L, 'worried': 1L, 'stupid': 1L, 'team': 3L, 'guy': 2L, 'injured': 1L, 'right': 1L, 'deal': 3L, 'acquired': 1L, 'energy': 1L, 'testing': 1L, 'play': 3L, 'sign': 3L, 'defenseman': 1L, 'trading': 1L, 'shown': 1L, 'decision': 2L, 'zzz_bobby_francis': 1L, 'zzz_phil_housley': 1L, 'continue': 1L, 'safety': 1L, 'goes': 1L, 'surprise': 2L, 'unrestricted': 3L, 'leader': 1L, 'red': 1L, 'arbitration': 2L, 'million': 5L, 'expansion': 1L, 'youngest': 1L, 'ranger': 1L, 'free': 3L, 'affectionately': 1L, 'losing': 1L, 'arena': 2L, 'zzz_coyotes': 2L, 'folding': 1L, 'flames': 1L, 'career': 1L, 'leaves': 1L, 'contract': 4L, 'agree': 1L, 'extension': 1L, 'games': 1L, 'backup': 1L, 'block': 1L, 'destination': 1L, 'toughness': 1L, 'point': 1L, 'clause': 1L, 'zzz_joe_sakic': 2L, 'owner': 1L, 'table': 1L, 'market': 1L, 'considering': 1L, 'sheet': 1L, 'dump': 1L, 'dangle': 1L, 'question': 1L, 'add': 2L, 'needed': 1L, 'passed': 1L, 'injury': 1L, 'type': 1L, 'prone': 1L, 'option': 1L, 'big': 1L, 'offer': 1L, 'season': 3L, 'zzz_san_jose': 1L, 'zzz_joe_louis': 1L, 'haven': 1L, 'zzz_panther': 1L, 'zzz_evgeni_nabokov': 1L, 'zzz_detroit': 1L, 'signed': 2L, 'zzz_sergei_fedorov': 1L, 'stall': 1L, 'newspaper': 1L, 'zzz_keith_tkachuk': 4L, 'called': 1L, 'shark': 3L, 'chip': 1L, 'zzz_i': 1L, 'agent': 2L, 'player': 2L, 'goal': 3L, 'perform': 1L, 'veteran': 1L, 'agency': 1L, 'zzz_steve_shield': 1L, 'zzz_minnesota_wild': 1L, 'amusing': 1L, 'rookie': 1L, 'answer': 1L, 'zzz_florida': 1L, 'scored': 1L, 'briefly': 1L, 'sure': 1L, 'phoenix': 1L, 'zzz_jeremy_roenick': 3L, 'felt': 2L, 'zzz_todd_harvey': 2L, 'stay': 1L, 'zzz_carolina': 1L, 'zzz_calgary': 1L, 'scorer': 1L, 'tallied': 1L, 'balloon': 1L, 'salary': 1L, 'wife': 1L, 'traded': 1L, 'average': 1L, 'spend': 1L, 'thought': 1L, 'zzz_gatorade': 1L, 'ramification': 1L, 'teammates': 1L, 'operate': 1L, 'assisted': 1L}, {'help': 1L, 'contacted': 1L, 'money': 1L, 'zzz_memphis': 4L, 'zzz_nba': 1L, 'discovered': 1L, 'relation': 1L, 'plight': 1L, 'find': 1L, 'personal': 1L, 'young': 3L, 'pharmacy': 1L, 'eager': 1L, 'foster': 1L, 'touched': 1L, 'hometown': 1L, 'zzz_south_park': 1L, 'happened': 2L, 'pay': 1L, 'zzz_lorenzen_wright': 6L, 'hit': 1L, 'zzz_national_bank': 1L, 'preparing': 1L, 'hearing': 1L, 'bringing': 1L, 'learned': 2L, 'zzz_commerce': 1L, 'school': 3L, 'level': 1L, 'joined': 1L, 'zzz_hardaway': 2L, 'fixed': 1L, 'meal': 2L, 'house': 2L, 'idea': 1L, 'dead': 1L, 'kicked': 1L, 'zzz_travis': 1L, 'home': 1L, 'living': 1L, 'giving': 1L, 'sun': 1L, 'tales': 1L, 'grandmother': 2L, 'written': 1L, 'net': 1L, 'body': 2L, 'attended': 1L, 'run': 1L, 'parent': 2L, 'circumstance': 1L, 'newspaper': 2L, 'zzz_carthage': 1L, 'imagine': 1L, 'losing': 1L, 'care': 1L, 'wept': 1L, 'reaction': 1L, 'noncancerous': 1L, 'put': 1L, 'tumor': 1L, 'credit': 1L, 'neighbor': 1L, 'published': 1L, 'feel': 1L, 'relate': 1L, 'son': 1L, 'brought': 1L, 'thankful': 1L, 'involvement': 1L, 'elementary': 1L, 'trust': 3L, 'open': 1L, 'caring': 1L, 'complication': 1L, 'basketball': 1L, 'found': 1L, 'tragic': 1L, 'summertime': 1L, 'tell': 1L, 'shopping': 1L, 'boy': 1L, 'fund': 2L, 'child': 1L, 'encountered': 1L, 'grocery': 1L, 'grew': 1L, 'heard': 1L, 'fearful': 1L, 'bill': 1L, 'project': 1L, 'zzz_phoenix': 1L, 'growing': 1L, 'natives': 1L, 'heart': 1L, 'household': 1L, 'penny': 1L, 'fellow': 1L, 'player': 2L, 'saddest': 1L, 'donating': 1L, 'check': 1L, 'afraid': 1L, 'media': 1L, 'zzz_thanksgiving': 2L, 'pizza': 1L, 'maternal': 1L, 'attend': 1L, 'zzz_brandon': 1L, 'reach': 1L, 'prepared': 1L, 'student': 1L, 'president': 1L, 'hawk': 3L, 'died': 1L, 'center': 1L, 'vice': 1L, 'age': 1L, 'camp': 1L, 'allow': 1L, 'mother': 2L, 'zzz_new_jersey': 1L, 'nearly': 1L}, {'cute': 2L, 'coach': 3L, 'shot': 1L, 'show': 1L, 'zzz_orlando': 3L, 'zzz_nba': 4L, 'foul': 1L, 'hanging': 1L, 'zzz_eddie_jones': 2L, 'bunch': 1L, 'doom': 1L, 'grabbed': 1L, 'thank': 1L, 'torn': 1L, 'young': 1L, 'window': 1L, 'suspension': 1L, 'suffered': 1L, 'main': 1L, 'fines': 1L, 'retro': 1L, 'knick': 1L, 'hit': 1L, 'combination': 1L, 'big': 2L, 'rebound': 2L, 'stop': 1L, 'early': 1L, 'game': 2L, 'courage': 1L, 'fan': 1L, 'nearly': 1L, 'zzz_sampson': 1L, 'bit': 2L, 'zzz_indiana': 1L, 'zzz_chris_webber': 1L, 'zzz_afro': 2L, 'victory': 2L, 'team': 6L, 'mediocrity': 1L, 'guy': 3L, 'river': 1L, 'zzz_frank_layden': 1L, 'mean': 1L, 'newspaper': 1L, 'right': 1L, 'fearing': 1L, 'hard': 2L, 'hair': 2L, 'disciplined': 1L, 'zzz_hubie_brown': 1L, 'zzz_darling': 2L, 'zzz_doc': 1L, 'zzz_sacramento': 1L, 'sport': 2L, 'arm': 1L, 'special': 1L, 'provided': 1L, 'humor': 1L, 'decision': 1L, 'creative': 1L, 'zzz_jalen_rose': 1L, 'won': 1L, 'health': 1L, 'zzz_jason_william': 1L, 'darling': 2L, 'row': 3L, 'combed': 1L, 'power': 1L, 'defend': 1L, 'rolled': 1L, 'left': 1L, 'corn': 3L, 'free': 1L, 'elbow': 1L, 'step': 2L, 'chanting': 1L, 'change': 1L, 'thrown': 1L, 'league': 2L, 'quarter': 1L, 'taking': 1L, 'label': 1L, 'experience': 1L, 'perhap': 1L, 'games': 4L, 'blocked': 1L, 'finest': 1L, 'tough': 1L, 'point': 3L, 'win': 2L, 'contender': 1L, 'threes': 1L, 'ligament': 1L, 'zzz_seattle': 1L, 'poll': 1L, 'zzz_tb': 1L, 'zzz_magic': 3L, 'takes': 1L, 'aren': 2L, 'leading': 1L, 'fro': 1L, 'combined': 1L, 'threw': 1L, 'faith': 1L, 'started': 1L, 'season': 2L, 'part': 1L, 'line': 3L, 'zzz_turner': 1L, 'true': 1L, 'symptom': 1L, 'king': 3L, 'wore': 1L, 'showed': 1L, 'zzz_kurt_thomas': 2L, 'worn': 1L, 'matter': 1L, 'neat': 1L, 'zzz_tnt': 1L, 'fun': 1L, 'making': 1L, 'problem': 1L, 'zzz_ben_wallace': 6L, 'hairstyle': 1L, 'punches': 1L, 'century': 1L, 'need': 1L, 'dropped': 1L, 'sense': 1L, 'scheduling': 1L, 'shooting': 2L, 'trip': 1L, 'floor': 1L, 'retiring': 1L, 'percent': 4L, 'lately': 1L, 'assistant': 1L, 'struggling': 1L, 'nice': 1L, 'ball': 1L, 'zzz_nick_anderson': 1L, 'charm': 1L, 'zzz_delilah': 1L, 'president': 1L, 'hawk': 1L, 'kid': 1L, 'layup': 1L, 'likes': 1L, 'longer': 1L, 'zzz_rick_adelman': 1L, 'severe': 1L, 'putting': 1L, 'justify': 1L, 'starting': 1L, 'zzz_charlotte': 1L, 'talk': 1L, 'zzz_utah': 1L}, {'coach': 1L, 'shot': 2L, 'zzz_nba': 2L, 'foul': 2L, 'zzz_denver': 1L, 'bring': 1L, 'zzz_new_york': 1L, 'left': 2L, 'smiling': 1L, 'pointer': 1L, 'zzz_kobe_bryant': 4L, 'rousing': 1L, 'winning': 1L, 'rudder': 1L, 'arrest': 1L, 'finally': 1L, 'zzz_shareef_abdur_rahim': 1L, 'enjoying': 1L, 'yeoman': 1L, 'confidently': 1L, 'gave': 1L, 'returning': 1L, 'beat': 1L, 'big': 1L, 'rebound': 2L, 'jazz': 2L, 'watch': 1L, 'zzz_todd_macculloch': 1L, 'game': 1L, 'zzz_jerry_sloan': 1L, 'nearly': 1L, 'foot': 1L, 'awaken': 1L, 'zzz_greg_ostertag': 1L, 'loss': 2L, 'notified': 1L, 'zzz_raef_lafrentz': 3L, 'zzz_sammy_sosa': 1L, 'tear': 1L, 'victory': 1L, 'night': 1L, 'guy': 2L, 'quarter': 1L, 'repaired': 1L, 'inside': 1L, 'hawk': 1L, 'talked': 1L, 'fired': 1L, 'crowd': 1L, 'hard': 1L, 'alive': 1L, 'resist': 1L, 'pass': 1L, 'blue': 1L, 'zzz_red_auerbach': 1L, 'dugout': 1L, 'goes': 1L, 'zzz_maverick': 1L, 'fadeaway': 1L, 'filled': 1L, 'jumper': 1L, 'turmoil': 1L, 'run': 1L, 'opening': 1L, 'screen': 1L, 'team': 2L, 'drew': 2L, 'unstoppable': 1L, 'baseball': 2L, 'defensive': 1L, 'franchise': 1L, 'span': 1L, 'change': 1L, 'tug': 1L, 'league': 2L, 'getting': 1L, 'career': 1L, 'minutes': 1L, 'favorite': 1L, 'fouled': 1L, 'games': 2L, 'cartilage': 1L, 'history': 1L, 'block': 1L, 'mimicked': 1L, 'major': 2L, 'zzz_michael_olowokandi': 1L, 'point': 3L, 'win': 2L, 'zzz_grizzlies': 2L, 'lofting': 1L, 'guard': 1L, 'suspended': 1L, 'drove': 1L, 'stare': 1L, 'basketball': 1L, 'zzz_phil_jackson': 3L, 'takes': 1L, 'working': 1L, 'concussion': 1L, 'played': 1L, 'charge': 1L, 'forward': 1L, 'injury': 1L, 'final': 1L, 'happy': 2L, 'zzz_los_angeles': 1L, 'form': 1L, 'reaction': 1L, 'mentality': 1L, 'took': 1L, 'appreciation': 1L, 'zzz_laker': 1L, 'line': 1L, 'hold': 1L, 'junior': 1L, 'zzz_utah': 2L, 'kind': 1L, 'hour': 1L, 'zzz_glen_rice': 1L, 'signed': 1L, 'war': 1L, 'excitement': 1L, 'matter': 1L, 'zzz_vancouver': 2L, 'replaced': 1L, 'newspaper': 1L, 'zzz_boston': 1L, 'yelled': 1L, 'zzz_billy_owen': 1L, 'zzz_dallas': 1L, 'zzz_philadelphia': 1L, 'high': 1L, 'player': 1L, 'rim': 1L, 'seen': 1L, 'shooting': 1L, 'saw': 1L, 'zzz_clipper': 1L, 'baseline': 1L, 'floor': 1L, 'pay': 1L, 'zzz_bryant_reeves': 1L, 'field': 2L, 'zzz_leon_smith': 2L, 'rookie': 2L, 'scored': 1L, 'play': 2L, 'continues': 2L, 'zzz_grant_long': 4L, 'zzz_mav': 1L, 'zzz_kansas': 1L, 'tied': 1L, 'hand': 1L, 'coaches': 1L, 'crashed': 1L, 'zzz_karl_malone': 1L, 'letter': 1L, 'knee': 1L, 'zzz_george_lynch': 1L, 'collar': 1L, 'lane': 1L, 'center': 2L, 'suffering': 1L, 'drawing': 1L, 'looked': 1L, 'zzz_keith_closs': 1L, 'zzz_red_holzman': 1L, 'playing': 4L, 'zzz_tyrone_hill': 1L}, {'similarity': 1L, 'broaden': 1L, 'child': 1L, 'epitomized': 1L, 'broader': 1L, 'skin': 1L, 'children': 2L, 'voter': 1L, 'charge': 1L, 'program': 1L, 'suburban': 1L, 'ingredient': 1L, 'case': 1L, 'straightforward': 1L, 'putting': 1L, 'affect': 1L, 'difference': 1L, 'timely': 1L, 'scholar': 1L, 'level': 2L, 'notes': 1L, 'shock': 1L, 'gun': 1L, 'race': 1L, 'small': 1L, 'accumulation': 1L, 'trend': 1L, 'uncomfortably': 1L, 'filled': 1L, 'rate': 1L, 'cost': 1L, 'depression': 1L, 'dribbling': 1L, 'waiting': 1L, 'increasing': 1L, 'doting': 1L, 'contrast': 1L, 'told': 2L, 'impact': 1L, 'loose': 1L, 'lobbyist': 1L, 'met': 1L, 'focused': 1L, 'strong': 1L, 'teacher': 1L, 'speeches': 1L, 'engage': 1L, 'ahead': 1L, 'larger': 1L, 'social': 1L, 'action': 1L, 'makes': 2L, 'control': 1L, 'campaign': 7L, 'ground': 1L, 'ringing': 1L, 'discuss': 1L, 'eye': 1L, 'objectives': 1L, 'prompting': 1L, 'tell': 5L, 'sort': 1L, 'zzz_christmas': 1L, 'cases': 1L, 'hold': 1L, 'communist': 1L, 'town': 1L, 'high': 1L, 'keeping': 1L, 'word': 3L, 'room': 2L, 'believes': 1L, 'locker': 1L, 'growing': 1L, 'streak': 1L, 'performer': 2L, 'give': 1L, 'cited': 1L, 'tax': 1L, 'states': 1L, 'pointedly': 1L, 'sense': 2L, 'sharp': 1L, 'biography': 1L, 'discussion': 1L, 'need': 2L, 'vital': 1L, 'answer': 1L, 'cadence': 1L, 'tension': 1L, 'arthritis': 1L, 'wrong': 1L, 'president': 1L, 'nomination': 1L, 'short': 1L, 'effective': 1L, 'acknowledged': 1L, 'democratic': 4L, 'talk': 2L, 'office': 1L, 'cold': 1L, 'style': 3L, 'group': 2L, 'personal': 1L, 'hot': 1L, 'winning': 1L, 'platform': 2L, 'voiced': 1L, 'tumbling': 1L, 'return': 1L, 'finance': 2L, 'zzz_america': 2L, 'propose': 1L, 'commitment': 1L, 'mention': 1L, 'front': 3L, 'republican': 2L, 'outlines': 1L, 'presidential': 3L, 'swaying': 1L, 'stiff': 1L, 'possibilities': 1L, 'disregard': 1L, 'beneath': 1L, 'zzz_bradley': 16L, 'connect': 1L, 'message': 1L, 'initiatives': 1L, 'motel': 1L, 'laid': 1L, 'health': 2L, 'issue': 1L, 'earlier': 2L, 'boldness': 1L, 'belief': 2L, 'solution': 1L, 'grapes': 1L, 'put': 2L, 'beginning': 1L, 'care': 2L, 'language': 1L, 'subzero': 1L, 'discomfort': 1L, 'noted': 1L, 'american': 1L, 'anecdote': 1L, 'punctuates': 1L, 'zzz_perry': 1L, 'radical': 1L, 'feet': 2L, 'ring': 1L, 'zzz_john_steinbeck': 1L, 'quality': 1L, 'size': 1L, 'legislative': 1L, 'basketball': 1L, 'wrapped': 1L, 'white': 2L, 'bitter': 1L, 'muscles': 1L, 'biggest': 2L, 'explodes': 1L, 'television': 1L, 'rhetorical': 1L, 'distinguishes': 1L, 'bed': 1L, 'matter': 2L, 'defense': 2L, 'zzz_mo': 1L, 'willingness': 1L, 'runner': 1L, 'pro': 1L, 'turned': 1L, 'talking': 1L, 'manner': 2L, 'throat': 1L, 'clearly': 1L, 'microphone': 1L, 'majority': 1L, 'ideal': 2L, 'zzz_missouri': 1L, 'performance': 2L, 'begin': 1L, 'sure': 1L, 'knew': 1L, 'react': 1L, 'sponsored': 1L, 'especially': 1L, 'foot': 1L, 'steady': 1L, 'face': 2L, 'traditional': 1L, 'reputation': 1L, 'businessman': 1L, 'senior': 1L, 'saying': 1L, 'chances': 1L, 'cheap': 1L, 'lozenge': 1L, 'session': 1L, 'debate': 1L, 'setter': 1L, 'toast': 1L, 'candidates': 1L, 'pretty': 1L, 'piano': 1L, 'congressional': 1L, 'hit': 1L, 'stop': 1L, 'expectation': 1L, 'bear': 1L, 'listener': 1L, 'courage': 1L, 'pretending': 1L, 'zzz_crystal_city': 1L, 'prided': 1L, 'mysticism': 1L, 'bar': 1L, 'continuum': 1L, 'public': 1L, 'common': 1L, 'discussing': 1L, 'stump': 3L, 'concert': 1L, 'frame': 1L, 'arc': 1L, 'philosophy': 1L, 'subject': 1L, 'steadfast': 1L, 'reform': 3L, 'staffer': 1L, 'drawn': 1L, 'approach': 1L, 'missing': 1L, 'attention': 1L, 'boss': 2L, 'key': 2L, 'country': 2L, 'distinction': 1L, 'asked': 1L, 'premise': 1L, 'point': 2L, 'period': 1L, 'walk': 1L, 'anti': 1L, 'asserted': 1L, 'poll': 1L, 'conference': 1L, 'question': 3L, 'political': 1L, 'strategy': 1L, 'strengthen': 1L, 'interest': 1L, 'proposal': 2L, 'meeting': 2L, 'dialogue': 2L, 'deeper': 1L, 'zzz_new_jersey_democrat': 1L, 'thousand': 1L, 'fund': 1L, 'foreclosed': 1L, 'leapfrogged': 1L, 'careful': 1L, 'calcified': 1L, 'sound': 1L, 'politician': 2L, 'look': 1L, 'zzz_des_moines': 2L, 'transformation': 1L, 'enact': 1L, 'newspaper': 1L, 'frustrating': 1L, 'hoping': 1L, 'player': 1L, 'audiences': 2L, 'campaigning': 3L, 'decisively': 1L, 'administration': 3L, 'cross': 1L, 'speech': 3L, 'harmony': 2L, 'zzz_party': 3L, 'wheel': 1L, 'tighten': 1L, 'ball': 1L, 'refusal': 1L, 'evil': 2L, 'moment': 1L, 'frequently': 1L, 'tradition': 1L, 'recent': 2L, 'longing': 1L, 'center': 1L, 'settled': 1L, 'spurred': 1L, 'chord': 1L, 'underdog': 1L, 'proposed': 1L, 'money': 1L, 'guided': 1L, 'proposes': 1L, 'shape': 1L, 'zzz_republican_sen_john_mccain': 1L, 'handshake': 1L, 'cut': 1L, 'family': 1L, 'candidate': 2L, 'percent': 1L, 'realize': 1L, 'bank': 1L, 'humanity': 1L, 'kick': 1L, 'real': 1L, 'zzz_mississippi': 1L, 'big': 4L, 'early': 1L, 'rear': 1L, 'desire': 1L, 'stranger': 1L, 'collective': 1L, 'specific': 1L, 'audience': 1L, 'officer': 1L, 'night': 1L, 'simply': 1L, 'unabashedly': 1L, 'right': 1L, 'envision': 1L, 'crowd': 2L, 'play': 1L, 'competition': 1L, 'demeanor': 1L, 'economic': 1L, 'racial': 3L, 'describing': 1L, 'lead': 2L, 'broad': 1L, 'religion': 1L, 'asking': 1L, 'zzz_new_hampshire': 2L, 'run': 1L, 'bold': 1L, 'zzz_congress': 1L, 'agreement': 1L, 'refused': 1L, 'pressure': 1L, 'stage': 1L, 'freedom': 1L, 'stand': 1L, 'neighbor': 2L, 'act': 1L, 'mouth': 1L, 'hospital': 2L, 'road': 1L, 'zzz_iowa': 2L, 'civic': 1L, 'trademark': 1L, 'zzz_ronald_reagan': 3L, 'democrat': 1L, 'weather': 1L, 'determine': 1L, 'parties': 1L, 'spending': 3L, 'constantly': 1L, 'legislation': 1L, 'fast': 1L, 'low': 1L, 'forward': 1L, 'translate': 1L, 'assumes': 1L, 'medium': 1L, 'offer': 1L, 'jewish': 1L, 'relaxed': 1L, 'delivery': 1L, 'hear': 1L, 'library': 2L, 'promote': 1L, 'places': 1L, 'limit': 1L, 'zzz_sen_bill_bradley': 1L, 'problem': 1L, 'irish': 1L, 'liberal': 2L, 'fright': 1L, 'single': 1L, 'goodness': 1L, 'zzz_new_york_knick': 1L, 'tossing': 1L, 'boom': 1L, 'mock': 1L, 'conclusion': 1L, 'draw': 1L, 'chance': 1L, 'coverage': 1L, 'billion': 2L, 'individual': 1L, 'zzz_al_gore': 5L, 'resolving': 1L, 'depth': 1L, 'zzz_rhodes': 1L, 'paced': 1L}, {'similarity': 1L, 'broaden': 1L, 'child': 1L, 'epitomized': 1L, 'broader': 1L, 'skin': 1L, 'children': 2L, 'voter': 1L, 'charge': 1L, 'program': 1L, 'suburban': 1L, 'ingredient': 1L, 'case': 1L, 'straightforward': 1L, 'putting': 1L, 'affect': 1L, 'difference': 1L, 'timely': 1L, 'scholar': 1L, 'level': 2L, 'notes': 1L, 'shock': 1L, 'gun': 1L, 'race': 1L, 'small': 1L, 'accumulation': 1L, 'trend': 1L, 'uncomfortably': 1L, 'rate': 1L, 'cost': 1L, 'depression': 1L, 'dribbling': 1L, 'waiting': 1L, 'increasing': 1L, 'doting': 1L, 'filled': 1L, 'told': 2L, 'impact': 1L, 'loose': 1L, 'lobbyist': 1L, 'met': 1L, 'focused': 1L, 'strong': 1L, 'teacher': 1L, 'speeches': 1L, 'engage': 1L, 'ahead': 1L, 'larger': 1L, 'social': 1L, 'action': 1L, 'makes': 2L, 'control': 1L, 'campaign': 7L, 'ground': 1L, 'ringing': 1L, 'discuss': 1L, 'eye': 1L, 'objectives': 1L, 'prompting': 1L, 'tell': 5L, 'sort': 1L, 'zzz_christmas': 1L, 'cases': 1L, 'hold': 1L, 'communist': 1L, 'town': 1L, 'high': 1L, 'keeping': 1L, 'word': 3L, 'room': 2L, 'believes': 1L, 'locker': 1L, 'growing': 1L, 'streak': 1L, 'performer': 2L, 'give': 1L, 'cited': 1L, 'tax': 1L, 'states': 1L, 'pointedly': 1L, 'sense': 2L, 'sharp': 1L, 'biography': 1L, 'discussion': 1L, 'need': 2L, 'vital': 1L, 'answer': 1L, 'cadence': 1L, 'tension': 1L, 'arthritis': 1L, 'wrong': 1L, 'president': 1L, 'nomination': 1L, 'short': 1L, 'effective': 1L, 'acknowledged': 1L, 'democratic': 4L, 'talk': 2L, 'office': 1L, 'cold': 1L, 'style': 3L, 'group': 2L, 'personal': 1L, 'hot': 1L, 'winning': 1L, 'platform': 2L, 'voiced': 1L, 'tumbling': 1L, 'return': 1L, 'finance': 2L, 'zzz_america': 2L, 'propose': 1L, 'commitment': 1L, 'mention': 1L, 'front': 3L, 'republican': 2L, 'outlines': 1L, 'presidential': 3L, 'swaying': 1L, 'stiff': 1L, 'possibilities': 1L, 'disregard': 1L, 'beneath': 1L, 'zzz_bradley': 16L, 'connect': 1L, 'message': 1L, 'initiatives': 1L, 'motel': 1L, 'laid': 1L, 'health': 2L, 'issue': 1L, 'earlier': 2L, 'boldness': 1L, 'belief': 2L, 'solution': 1L, 'grapes': 1L, 'put': 2L, 'beginning': 1L, 'care': 2L, 'language': 1L, 'subzero': 1L, 'discomfort': 1L, 'noted': 1L, 'american': 1L, 'anecdote': 1L, 'punctuates': 1L, 'zzz_perry': 1L, 'radical': 1L, 'feet': 2L, 'ring': 1L, 'zzz_john_steinbeck': 1L, 'quality': 1L, 'size': 1L, 'legislative': 1L, 'basketball': 1L, 'wrapped': 1L, 'white': 2L, 'bitter': 1L, 'muscles': 1L, 'biggest': 2L, 'explodes': 1L, 'television': 1L, 'rhetorical': 1L, 'distinguishes': 1L, 'bed': 1L, 'matter': 2L, 'defense': 2L, 'zzz_mo': 1L, 'willingness': 1L, 'runner': 1L, 'pro': 1L, 'turned': 1L, 'talking': 1L, 'manner': 2L, 'throat': 1L, 'clearly': 1L, 'microphone': 1L, 'majority': 1L, 'ideal': 2L, 'zzz_missouri': 1L, 'performance': 2L, 'begin': 1L, 'sure': 1L, 'knew': 1L, 'react': 1L, 'sponsored': 1L, 'especially': 1L, 'foot': 1L, 'steady': 1L, 'face': 2L, 'traditional': 1L, 'reputation': 1L, 'businessman': 1L, 'senior': 1L, 'saying': 1L, 'chances': 1L, 'cheap': 1L, 'lozenge': 1L, 'session': 1L, 'debate': 1L, 'setter': 1L, 'toast': 1L, 'candidates': 1L, 'pretty': 1L, 'piano': 1L, 'congressional': 1L, 'hit': 1L, 'stop': 1L, 'expectation': 1L, 'bear': 1L, 'listener': 1L, 'courage': 1L, 'pretending': 1L, 'zzz_crystal_city': 1L, 'prided': 1L, 'mysticism': 1L, 'bar': 1L, 'continuum': 1L, 'public': 1L, 'common': 1L, 'discussing': 1L, 'stump': 3L, 'concert': 1L, 'frame': 1L, 'arc': 1L, 'philosophy': 1L, 'subject': 1L, 'steadfast': 1L, 'reform': 3L, 'staffer': 1L, 'drawn': 1L, 'approach': 1L, 'missing': 1L, 'attention': 1L, 'boss': 2L, 'key': 2L, 'country': 2L, 'distinction': 1L, 'asked': 1L, 'premise': 1L, 'point': 2L, 'period': 1L, 'walk': 1L, 'anti': 1L, 'asserted': 1L, 'poll': 1L, 'conference': 1L, 'question': 3L, 'political': 1L, 'strategy': 1L, 'strengthen': 1L, 'interest': 1L, 'proposal': 2L, 'meeting': 2L, 'dialogue': 2L, 'deeper': 1L, 'zzz_new_jersey_democrat': 1L, 'thousand': 1L, 'fund': 1L, 'foreclosed': 1L, 'leapfrogged': 1L, 'careful': 1L, 'calcified': 1L, 'sound': 1L, 'politician': 2L, 'look': 1L, 'zzz_des_moines': 2L, 'transformation': 1L, 'enact': 1L, 'newspaper': 1L, 'frustrating': 1L, 'hoping': 1L, 'player': 1L, 'audiences': 2L, 'campaigning': 3L, 'decisively': 1L, 'administration': 3L, 'cross': 1L, 'speech': 3L, 'harmony': 2L, 'zzz_party': 3L, 'wheel': 1L, 'tighten': 1L, 'ball': 1L, 'refusal': 1L, 'evil': 2L, 'moment': 1L, 'frequently': 1L, 'tradition': 1L, 'recent': 2L, 'longing': 1L, 'center': 1L, 'settled': 1L, 'spurred': 1L, 'chord': 1L, 'underdog': 1L, 'proposed': 1L, 'money': 1L, 'guided': 1L, 'proposes': 1L, 'shape': 1L, 'zzz_republican_sen_john_mccain': 1L, 'handshake': 1L, 'cut': 1L, 'family': 1L, 'candidate': 2L, 'percent': 1L, 'realize': 1L, 'bank': 1L, 'humanity': 1L, 'kick': 1L, 'real': 1L, 'zzz_mississippi': 1L, 'big': 4L, 'early': 1L, 'rear': 1L, 'desire': 1L, 'stranger': 1L, 'collective': 1L, 'specific': 1L, 'audience': 1L, 'officer': 1L, 'night': 1L, 'simply': 1L, 'unabashedly': 1L, 'right': 1L, 'envision': 1L, 'crowd': 2L, 'play': 1L, 'competition': 1L, 'demeanor': 1L, 'economic': 1L, 'racial': 3L, 'describing': 1L, 'lead': 2L, 'broad': 1L, 'religion': 1L, 'asking': 1L, 'zzz_new_hampshire': 2L, 'run': 1L, 'bold': 1L, 'zzz_congress': 1L, 'agreement': 1L, 'refused': 1L, 'pressure': 1L, 'stage': 1L, 'freedom': 1L, 'stand': 1L, 'neighbor': 2L, 'act': 1L, 'mouth': 1L, 'hospital': 2L, 'road': 1L, 'zzz_iowa': 2L, 'civic': 1L, 'trademark': 1L, 'zzz_ronald_reagan': 3L, 'democrat': 1L, 'weather': 1L, 'determine': 1L, 'parties': 1L, 'spending': 3L, 'constantly': 1L, 'legislation': 1L, 'fast': 1L, 'low': 1L, 'forward': 1L, 'translate': 1L, 'assumes': 1L, 'medium': 1L, 'offer': 1L, 'jewish': 1L, 'relaxed': 1L, 'delivery': 1L, 'hear': 1L, 'library': 2L, 'promote': 1L, 'places': 1L, 'limit': 1L, 'zzz_sen_bill_bradley': 1L, 'problem': 1L, 'irish': 1L, 'liberal': 2L, 'fright': 1L, 'single': 1L, 'goodness': 1L, 'zzz_new_york_knick': 1L, 'tossing': 1L, 'boom': 1L, 'mock': 1L, 'conclusion': 1L, 'draw': 1L, 'chance': 1L, 'coverage': 1L, 'billion': 2L, 'individual': 1L, 'zzz_al_gore': 5L, 'resolving': 1L, 'depth': 1L, 'zzz_rhodes': 1L, 'paced': 1L}, {'exclusive': 1L, 'emerging': 1L, 'selection': 1L, 'help': 1L, 'unemployment': 1L, 'issued': 1L, 'polled': 1L, 'executive': 1L, 'competitive': 1L, 'course': 1L, 'manager': 2L, 'paper': 1L, 'businesses': 1L, 'shares': 2L, 'find': 1L, 'issues': 1L, 'payoff': 3L, 'industries': 1L, 'current': 1L, 'cut': 1L, 'candidate': 1L, 'personal': 1L, 'explain': 2L, 'guaranteed': 1L, 'add': 1L, 'potential': 1L, 'rich': 1L, 'equity': 1L, 'employee': 6L, 'poised': 1L, 'distributes': 1L, 'worth': 1L, 'advises': 1L, 'lure': 1L, 'hit': 1L, 'risk': 1L, 'sitting': 1L, 'big': 4L, 'practice': 1L, 'awarding': 2L, 'seemingly': 1L, 'truly': 1L, 'increases': 2L, 'performance': 3L, 'growing': 1L, 'term': 1L, 'increasing': 1L, 'entitling': 1L, 'fully': 1L, 'companies': 9L, 'serves': 1L, 'collect': 1L, 'benefit': 2L, 'continue': 1L, 'quick': 1L, 'soft': 1L, 'mean': 2L, 'attorney': 3L, 'right': 1L, 'financial': 2L, 'accelerator': 3L, 'trend': 1L, 'house': 1L, 'frame': 1L, 'tech': 3L, 'direct': 1L, 'competition': 1L, 'past': 1L, 'recruitment': 1L, 'growth': 2L, 'trading': 1L, 'lawyer': 3L, 'recently': 1L, 'event': 2L, 'established': 1L, 'record': 1L, 'managing': 2L, 'paralegal': 2L, 'salaries': 1L, 'increase': 2L, 'encourage': 1L, 'future': 4L, 'market': 9L, 'goes': 1L, 'net': 2L, 'retention': 1L, 'public': 2L, 'exercise': 1L, 'ladder': 1L, 'deemed': 1L, 'drink': 1L, 'run': 1L, 'mature': 1L, 'business': 1L, 'eligibility': 1L, 'incentives': 1L, 'water': 1L, 'reported': 1L, 'job': 2L, 'fee': 1L, 'lucrative': 1L, 'graduated': 1L, 'rises': 1L, 'additional': 1L, 'payout': 1L, 'search': 1L, 'rare': 1L, 'getting': 1L, 'money': 2L, 'employees': 7L, 'annual': 1L, 'positioning': 1L, 'reason': 1L, 'range': 1L, 'place': 2L, 'amazingly': 1L, 'zzz_united_states': 1L, 'retain': 2L, 'maker': 1L, 'executives': 1L, 'seeing': 1L, 'raised': 1L, 'betting': 1L, 'requirement': 1L, 'linking': 1L, 'morale': 2L, 'lieu': 1L, 'wider': 1L, 'total': 2L, 'quality': 1L, 'unit': 1L, 'worthless': 1L, 'packages': 1L, 'wealth': 1L, 'spending': 1L, 'leading': 1L, 'placing': 1L, 'negative': 1L, 'liquidated': 1L, 'noticed': 1L, 'start': 1L, 'low': 1L, 'interest': 1L, 'today': 3L, 'firm': 7L, 'ago': 2L, 'option': 31L, 'form': 2L, 'expose': 1L, 'worker': 1L, 'zzz_home_depot': 1L, 'award': 3L, 'unending': 1L, 'larger': 1L, 'part': 2L, 'tying': 1L, 'bull': 2L, 'prices': 2L, 'cases': 1L, 'trying': 1L, 'holder': 2L, 'handsome': 1L, 'package': 2L, 'permit': 1L, 'cash': 3L, 'windfall': 1L, 'compensation': 8L, 'converted': 1L, 'netting': 1L, 'zzz_coke': 1L, 'newspaper': 1L, 'making': 1L, 'launched': 1L, 'receptionist': 1L, 'marketplace': 1L, 'performer': 2L, 'supervisor': 1L, 'zzz_coca_cola': 1L, 'recognize': 1L, 'zzz_atlanta_area': 1L, 'share': 4L, 'accept': 1L, 'high': 4L, 'middle': 1L, 'negotiating': 1L, 'zzz_red_hot': 4L, 'slip': 1L, 'need': 1L, 'partner': 3L, 'seek': 1L, 'viewed': 1L, 'brethren': 1L, 'huge': 1L, 'traditionally': 1L, 'offering': 4L, 'attract': 2L, 'granted': 1L, 'stake': 1L, 'percent': 4L, 'amount': 1L, 'incentive': 3L, 'investment': 1L, 'oriented': 1L, 'hot': 1L, 'setting': 1L, 'role': 1L, 'tie': 1L, 'company': 2L, 'stock': 1L, 'sell': 1L, 'play': 1L, 'price': 4L, 'swiftly': 1L, 'tool': 1L, 'expectation': 1L, 'director': 1L, 'important': 1L, 'shareholder': 3L, 'plan': 1L, 'position': 1L, 'changing': 1L, 'salary': 2L, 'purchase': 2L, 'lower': 2L, 'organization': 1L, 'individual': 1L, 'considered': 1L, 'corporate': 4L, 'average': 2L, 'spent': 1L, 'profit': 1L, 'client': 4L, 'upside': 2L, 'talk': 2L, 'pay': 3L, 'zzz_silicon_valley': 1L, 'american': 1L, 'reward': 2L, 'typically': 1L, 'migrate': 1L}, {'saying': 1L, 'managed': 1L, 'office': 2L, 'zzz_england': 1L, 'groundwork': 1L, 'caused': 1L, 'lack': 1L, 'dollar': 1L, 'soon': 2L, 'competitive': 1L, 'interpreted': 1L, 'discovered': 1L, 'ended': 1L, 'manager': 1L, 'planning': 1L, 'gauge': 1L, 'zzz_new_york': 3L, 'cooperative': 1L, 'mirage': 1L, 'carefully': 1L, 'functioned': 1L, 'defend': 1L, 'issues': 1L, 'devoted': 1L, 'constituted': 1L, 'wry': 1L, 'unique': 1L, 'group': 2L, 'catastrophe': 1L, 'acknowledge': 1L, 'lining': 1L, 'fix': 1L, 'percent': 2L, 'difficulties': 1L, 'condition': 1L, 'anticlimax': 1L, 'developed': 1L, 'pegged': 1L, 'holiday': 1L, 'decades': 1L, 'zzz_north_texas': 1L, 'real': 4L, 'activities': 1L, 'vendor': 1L, 'belatedly': 1L, 'advantage': 1L, 'government': 4L, 'dependent': 2L, 'workout': 1L, 'nation': 2L, 'early': 1L, 'insist': 1L, 'deployment': 1L, 'press': 1L, 'glitches': 2L, 'silver': 1L, 'encounter': 1L, 'success': 2L, 'level': 1L, 'tram': 1L, 'warned': 3L, 'array': 1L, 'companies': 1L, 'unnecessary': 1L, 'puffery': 1L, 'yorker': 1L, 'gotten': 1L, 'hype': 1L, 'failures': 2L, 'fixed': 2L, 'wrote': 1L, 'deceived': 1L, 'heavy': 1L, 'slow': 1L, 'right': 2L, 'financial': 1L, 'broader': 1L, 'deal': 1L, 'higher': 1L, 'list': 1L, 'globe': 1L, 'testing': 1L, 'related': 1L, 'zzz_working_group': 1L, 'responsive': 1L, 'individual': 1L, 'expect': 1L, 'statistic': 1L, 'proper': 1L, 'laundry': 1L, 'operation': 1L, 'zzz_council': 1L, 'investment': 3L, 'recognition': 1L, 'zzz_australia': 1L, 'instance': 1L, 'business': 4L, 'expert': 4L, 'avoid': 1L, 'normal': 1L, 'felt': 1L, 'looking': 1L, 'laid': 1L, 'critical': 2L, 'millennium': 1L, 'john': 1L, 'internet': 3L, 'international': 1L, 'fall': 1L, 'microchip': 1L, 'numerous': 1L, 'leader': 1L, 'zzz_society': 1L, 'impact': 1L, 'full': 2L, 'transportation': 1L, 'power': 1L, 'associate': 1L, 'million': 2L, 'deliver': 1L, 'gym': 1L, 'extraordinary': 1L, 'fluke': 1L, 'disastrous': 1L, 'betrayed': 1L, 'chairman': 3L, 'obligation': 1L, 'reaction': 1L, 'accident': 1L, 'ahead': 1L, 'face': 2L, 'exaggerated': 1L, 'changed': 1L, 'programming': 1L, 'according': 2L, 'british': 1L, 'amount': 1L, 'breakdown': 1L, 'massive': 1L, 'threat': 3L, 'resumes': 1L, 'skin': 2L, 'misused': 1L, 'studies': 1L, 'software': 1L, 'emerge': 1L, 'major': 2L, 'benefited': 1L, 'precautionary': 1L, 'danger': 1L, 'feel': 1L, 'vast': 1L, 'private': 1L, 'zzz_securities_industry_association': 1L, 'computing': 1L, 'exchanges': 1L, 'rollover': 2L, 'risk': 1L, 'dawned': 1L, 'conference': 1L, 'management': 1L, 'fascinating': 1L, 'working': 1L, 'zzz_delta_airlines': 1L, 'spending': 2L, 'termed': 1L, 'support': 1L, 'flying': 1L, 'question': 1L, 'system': 5L, 'quickly': 1L, 'zzz_securities': 1L, 'program': 2L, 'listed': 1L, 'zzz_president': 1L, 'wildly': 1L, 'expected': 1L, 'hundred': 1L, 'company': 1L, 'start': 2L, 'flaw': 2L, 'arises': 1L, 'form': 1L, 'relax': 1L, 'thousand': 1L, 'technological': 2L, 'worker': 1L, 'disruption': 2L, 'part': 1L, 'understand': 1L, 'automated': 1L, 'wasted': 1L, 'printed': 1L, 'evidence': 1L, 'effort': 1L, 'analyst': 1L, 'belated': 1L, 'cheated': 1L, 'case': 1L, 'commerce': 1L, 'kind': 1L, 'zzz_conversion': 1L, 'truly': 1L, 'hour': 1L, 'science': 1L, 'zzz_adelaide': 1L, 'official': 1L, 'signed': 1L, 'project': 1L, 'underpinning': 1L, 'remain': 1L, 'computer': 14L, 'problem': 5L, 'zzz_hunter_college': 1L, 'result': 1L, 'money': 1L, 'give': 1L, 'confused': 1L, 'quiet': 1L, 'tide': 1L, 'sense': 1L, 'voice': 1L, 'technology': 4L, 'trade': 1L, 'worse': 1L, 'chance': 1L, 'overstated': 1L, 'discussion': 1L, 'upgrading': 1L, 'perhap': 1L, 'denying': 1L, 'note': 1L, 'prevented': 1L, 'inventory': 1L, 'department': 1L, 'widespread': 1L, 'zzz_exchange_commission': 1L, 'failure': 2L, 'stock': 1L, 'fare': 1L, 'abused': 1L, 'added': 1L, 'temporary': 1L, 'huge': 1L, 'zzz_sydney': 1L, 'collection': 1L, 'director': 2L, 'zzz_united_states': 3L, 'wrong': 1L, 'important': 2L, 'arrived': 1L, 'user': 1L, 'significant': 3L, 'organization': 1L, 'services': 1L, 'frequently': 1L, 'future': 2L, 'needed': 3L, 'refrigerator': 1L, 'billion': 2L, 'correspondent': 1L, 'chasing': 1L, 'center': 1L, 'won': 1L, 'charges': 1L, 'light': 1L, 'professor': 1L, 'spent': 4L, 'filing': 1L, 'definitely': 1L, 'reflect': 1L, 'auditor': 1L, 'zzz_university': 1L, 'predictable': 1L, 'position': 1L, 'spend': 2L}, {'unimpeded': 1L, 'affair': 1L, 'rutted': 1L, 'pant': 1L, 'hijacker': 13L, 'pointed': 1L, 'defended': 1L, 'ended': 3L, 'zzz_quetta': 2L, 'follow': 1L, 'asylum': 1L, 'hijacked': 1L, 'tarmac': 1L, 'aggravate': 1L, 'clashed': 1L, 'assertion': 1L, 'winning': 1L, 'add': 1L, 'jam': 1L, 'easy': 1L, 'issued': 1L, 'terror': 1L, 'humanity': 1L, 'extradition': 1L, 'gave': 1L, 'wearing': 1L, 'hijacking': 4L, 'government': 4L, 'rules': 1L, 'blanket': 1L, 'material': 1L, 'stop': 1L, 'nation': 1L, 'criticized': 1L, 'traffic': 1L, 'emphasized': 1L, 'provision': 1L, 'comment': 1L, 'countries': 1L, 'pleasures': 1L, 'loosely': 1L, 'public': 1L, 'crossing': 3L, 'told': 2L, 'heading': 1L, 'right': 1L, 'savored': 1L, 'deal': 1L, 'donkey': 1L, 'past': 1L, 'implicated': 1L, 'likely': 1L, 'summer': 1L, 'expect': 2L, 'sea': 1L, 'home': 2L, 'special': 1L, 'opened': 1L, 'unabated': 1L, 'nuclear': 1L, 'decision': 1L, 'denied': 1L, 'increased': 1L, 'crisis': 1L, 'spokesman': 1L, 'indian': 1L, 'suspect': 1L, 'masked': 2L, 'capital': 1L, 'leader': 1L, 'independence': 1L, 'freed': 1L, 'muslim': 1L, 'zzz_muslim_kashmir': 4L, 'leg': 1L, 'listing': 1L, 'attention': 1L, 'cart': 1L, 'darkly': 1L, 'believed': 1L, 'step': 1L, 'hostages': 5L, 'nationalities': 1L, 'scarves': 1L, 'detecting': 1L, 'refused': 1L, 'optional': 1L, 'remark': 2L, 'freedom': 1L, 'ill': 1L, 'attributed': 1L, 'meal': 1L, 'greatly': 1L, 'faces': 2L, 'military': 1L, 'asked': 2L, 'road': 1L, 'load': 1L, 'headed': 4L, 'simple': 1L, 'zzz_airlines': 1L, 'sweep': 1L, 'zzz_pakistanis': 2L, 'accusation': 1L, 'names': 1L, 'directly': 1L, 'zzz_taliban': 5L, 'wrap': 1L, 'patrol': 2L, 'drove': 1L, 'armed': 1L, 'zzz_singh': 7L, 'risk': 1L, 'conference': 1L, 'zzz_kashmiris': 1L, 'wanted': 1L, 'zzz_pakistan': 17L, 'hinted': 1L, 'jet': 1L, 'unknown': 1L, 'support': 1L, 'political': 1L, 'detected': 1L, 'stark': 1L, 'militant': 3L, 'statement': 2L, 'vehicle': 1L, 'pakistani': 2L, 'patrolled': 1L, 'archrival': 1L, 'bloodshed': 1L, 'shifted': 1L, 'direction': 1L, 'turban': 1L, 'relieved': 1L, 'releasing': 1L, 'took': 2L, 'released': 2L, 'zzz_indian': 2L, 'carrying': 1L, 'minister': 2L, 'claim': 1L, 'evidence': 1L, 'convinced': 1L, 'territory': 1L, 'tunic': 1L, 'hour': 3L, 'iranian': 1L, 'official': 1L, 'jailed': 1L, 'shower': 1L, 'huge': 1L, 'newspaper': 2L, 'making': 1L, 'feeling': 1L, 'taking': 2L, 'zzz_border': 5L, 'supreme': 1L, 'fashion': 1L, 'zzz_himalayan': 1L, 'cited': 1L, 'head': 1L, 'sleeping': 1L, 'heard': 1L, 'sought': 2L, 'foreign': 1L, 'seek': 2L, 'disappear': 1L, 'string': 1L, 'mountain': 1L, 'diplomat': 1L, 'zzz_india': 5L, 'zzz_kandahar': 2L, 'winter': 1L, 'permission': 1L, 'offensive': 1L, 'handed': 1L, 'predominantly': 1L, 'inch': 1L, 'recent': 1L, 'zzz_afghanistan': 4L, 'difficult': 2L, 'wheel': 1L, 'bearded': 1L, 'added': 1L, 'trace': 1L, 'normal': 1L, 'ladder': 1L, 'act': 1L, 'yesterday': 1L, 'terrorist': 2L, 'sponsored': 1L, 'coming': 1L, 'outstretched': 1L, 'information': 1L, 'revealed': 1L, 'zzz_airbus': 1L, 'zzz_mullah_muhammad_omar': 1L, 'task': 1L, 'episode': 1L, 'largely': 1L, 'charges': 1L, 'neighboring': 1L, 'clear': 1L, 'cover': 1L, 'drive': 2L, 'rule': 1L, 'punishment': 2L, 'traditional': 1L, 'cooked': 1L, 'eating': 1L, 'truck': 1L, 'enter': 1L, 'authoritatively': 1L, 'wind': 1L, 'latest': 1L}, {'replied': 1L, 'concept': 1L, 'shot': 1L, 'consider': 1L, 'producer': 1L, 'show': 1L, 'executive': 1L, 'zzz_nbc': 1L, 'produced': 1L, 'bring': 2L, 'attitude': 1L, 'zzz_new_york': 1L, 'zzz_martha_stewart': 1L, 'fear': 1L, 'caregiver': 1L, 'saved': 1L, 'find': 1L, 'issues': 1L, 'web': 1L, 'position': 2L, 'group': 6L, 'thank': 1L, 'rousing': 1L, 'rose': 1L, 'unemployment': 1L, 'midseason': 1L, 'leap': 1L, 'writing': 1L, 'shouting': 1L, 'conducted': 1L, 'version': 1L, 'zzz_census_bureau': 1L, 'zzz_america_online': 1L, 'mail': 1L, 'pilot': 1L, 'postpartum': 1L, 'norm': 1L, 'gave': 1L, 'dad': 1L, 'apron': 1L, 'increased': 1L, 'familiar': 1L, 'couple': 1L, 'lurk': 1L, 'fat': 1L, 'zzz_james_levine': 2L, 'slickest': 1L, 'cultural': 1L, 'intellectual': 1L, 'mom': 1L, 'foot': 1L, 'tank': 1L, 'hall': 1L, 'look': 1L, 'gray': 1L, 'school': 1L, 'roles': 1L, 'brain': 1L, 'list': 1L, 'identified': 1L, 'zzz_work_institute': 1L, 'jokes': 1L, 'benefit': 1L, 'mode': 1L, 'night': 2L, 'small': 2L, 'found': 1L, 'guy': 1L, 'reduced': 1L, 'development': 1L, 'nut': 1L, 'bacon': 1L, 'idea': 2L, 'pantry': 1L, 'born': 1L, 'decided': 1L, 'fist': 2L, 'demeaning': 1L, 'quantum': 1L, 'home': 10L, 'air': 1L, 'yes': 2L, 'subject': 1L, 'blue': 1L, 'attendees': 1L, 'network': 1L, 'expert': 1L, 'broad': 1L, 'section': 1L, 'sites': 2L, 'pump': 1L, 'won': 1L, 'tainted': 1L, 'masculinity': 1L, 'internet': 2L, 'lecture': 1L, 'newly': 1L, 'movement': 1L, 'unsuccessfully': 1L, 'full': 1L, 'run': 1L, 'chose': 1L, 'proud': 1L, 'million': 2L, 'caretaker': 1L, 'sprung': 1L, 'drew': 1L, 'met': 1L, 'reason': 1L, 'firemen': 1L, 'shifting': 1L, 'wear': 1L, 'emotional': 1L, 'approval': 1L, 'hand': 1L, 'constituency': 1L, 'change': 1L, 'care': 2L, 'cop': 1L, 'responsibilities': 1L, 'reared': 1L, 'reported': 1L, 'zzz_n_c': 1L, 'chant': 1L, 'taking': 1L, 'sitcom': 1L, 'called': 1L, 'admit': 1L, 'zzz_disney': 1L, 'figures': 1L, 'stand': 1L, 'social': 1L, 'zzz_mom': 1L, 'slightly': 1L, 'asked': 1L, 'zzz_labor_statistic': 1L, 'consulting': 1L, 'unclear': 1L, 'barometer': 1L, 'necessity': 1L, 'father': 7L, 'child': 1L, 'number': 2L, 'pop': 1L, 'son': 1L, 'affirmation': 1L, 'playground': 1L, 'esteem': 1L, 'cheerleader': 1L, 'elementary': 1L, 'respect': 1L, 'researched': 1L, 'quit': 1L, 'attendance': 1L, 'raise': 3L, 'support': 1L, 'secret': 1L, 'clinical': 1L, 'convention': 3L, 'kid': 3L, 'meeting': 1L, 'duties': 1L, 'firm': 1L, 'ago': 1L, 'families': 2L, 'complete': 1L, 'reaction': 1L, 'ages': 1L, 'zzz_daddio': 1L, 'released': 1L, 'wake': 1L, 'diaper': 1L, 'zzz_army': 1L, 'butt': 1L, 'known': 2L, 'pitched': 1L, 'funk': 1L, 'women': 2L, 'states': 1L, 'kind': 1L, 'slogan': 1L, 'room': 1L, 'showed': 1L, 'emboldened': 1L, 'isolation': 1L, 'zzz_anatomy': 1L, 'average': 1L, 'believes': 1L, 'recession': 1L, 'economic': 1L, 'zzz_pta': 1L, 'shift': 1L, 'meet': 1L, 'problem': 1L, 'fried': 1L, 'study': 2L, 'versus': 1L, 'pound': 1L, 'teaching': 1L, 'household': 1L, 'organized': 1L, 'commander': 1L, 'topic': 1L, 'middle': 1L, 'reserves': 1L, 'comedian': 1L, 'partner': 1L, 'aged': 1L, 'seminar': 1L, 'dozen': 1L, 'proudly': 1L, 'traditionally': 1L, 'nonetheless': 1L, 'percent': 4L, 'isolated': 1L, 'virtual': 1L, 'instructed': 1L, 'high': 1L, 'book': 2L, 'forest': 1L, 'online': 1L, 'survey': 1L, 'unwilling': 1L, 'zzz_chicago': 1L, 'unemployed': 3L, 'higher': 1L, 'gaining': 1L, 'zzz_free_press': 1L, 'play': 1L, 'felt': 1L, 'breadwinner': 1L, 'primary': 2L, 'stay': 6L, 'director': 1L, 'suburb': 1L, 'connecting': 1L, 'cater': 1L, 'significant': 1L, 'weigh': 1L, 'choice': 2L, 'collar': 1L, 'recent': 1L, 'salary': 1L, 'newsletter': 1L, 'longer': 1L, 'wife': 2L, 'considered': 1L, 'zzz_robert_frank': 1L, 'professor': 1L, 'zzz_american': 1L, 'psychologist': 1L, 'clenched': 1L, 'face': 3L, 'psychology': 1L, 'stayed': 1L, 'lives': 1L, 'wives': 2L, 'pulled': 1L}, {'essay': 1L, 'cute': 1L, 'pervert': 1L, 'consider': 1L, 'equally': 1L, 'attitude': 1L, 'industrial': 1L, 'distant': 1L, 'touch': 1L, 'echoed': 1L, 'yes': 1L, 'adjustment': 1L, 'stir': 1L, 'children': 2L, 'principal': 1L, 'crush': 1L, 'group': 2L, 'craziness': 1L, 'freakish': 1L, 'father': 4L, 'bench': 1L, 'potential': 1L, 'differently': 1L, 'pretty': 1L, 'aviator': 1L, 'gave': 1L, 'dad': 1L, 'steel': 1L, 'woman': 1L, 'familiar': 1L, 'couple': 1L, 'males': 1L, 'birth': 1L, 'gonna': 2L, 'choice': 1L, 'lunch': 1L, 'corollary': 1L, 'putting': 1L, 'makes': 1L, 'mom': 1L, 'nurturing': 1L, 'difference': 1L, 'complain': 1L, 'minute': 1L, 'look': 1L, 'school': 1L, 'places': 1L, 'shop': 1L, 'zzz_edward_howard': 1L, 'fully': 1L, 'married': 1L, 'identified': 1L, 'admitted': 1L, 'manifest': 1L, 'rearing': 1L, 'audience': 3L, 'adjust': 1L, 'ovation': 1L, 'small': 1L, 'guy': 2L, 'ponytailed': 1L, 'husband': 4L, 'revolution': 1L, 'weight': 2L, 'tired': 1L, 'house': 3L, 'hard': 1L, 'begin': 1L, 'decided': 1L, 'design': 1L, 'result': 1L, 'fist': 1L, 'separating': 1L, 'home': 9L, 'girl': 1L, 'newsletter': 1L, 'sexual': 1L, 'depression': 1L, 'zzz_pensacola': 1L, 'zzz_loneliness': 1L, 'attendees': 1L, 'nationwide': 1L, 'whooped': 1L, 'expressed': 1L, 'find': 1L, 'looking': 1L, 'encourage': 1L, 'playground': 1L, 'zzz_working_woman': 1L, 'nurse': 1L, 'issue': 1L, 'math': 1L, 'told': 3L, 'run': 1L, 'parent': 1L, 'tables': 1L, 'rolled': 1L, 'gathered': 1L, 'pumping': 1L, 'cheered': 1L, 'web': 2L, 'schoolyard': 1L, 'making': 1L, 'pasta': 1L, 'approval': 1L, 'wanted': 1L, 'teacher': 1L, 'homemaker': 1L, 'care': 2L, 'chapter': 1L, 'publisher': 1L, 'training': 1L, 'daughter': 1L, 'certificate': 1L, 'zzz_anatomy': 1L, 'career': 3L, 'frustrating': 1L, 'route': 1L, 'called': 4L, 'participating': 1L, 'credit': 1L, 'zzz_pueblo': 1L, 'workplace': 1L, 'published': 1L, 'blacksmith': 1L, 'zzz_mom': 1L, 'documentary': 1L, 'asked': 2L, 'comment': 1L, 'named': 1L, 'motioning': 1L, 'point': 1L, 'wall': 2L, 'hometown': 1L, 'ages': 1L, 'profession': 1L, 'commitment': 1L, 'son': 3L, 'twin': 1L, 'zzz_chris_cooper': 2L, 'balanced': 1L, 'open': 1L, 'closing': 1L, 'standing': 1L, 'quit': 1L, 'bathroom': 2L, 'strangled': 1L, 'working': 2L, 'zzz_colo': 1L, 'grow': 1L, 'live': 1L, 'listed': 1L, 'convention': 3L, 'outweighed': 1L, 'prosecutor': 1L, 'loving': 1L, 'zzz_up': 1L, 'ago': 1L, 'door': 1L, 'form': 1L, 'reaction': 1L, 'started': 2L, 'bouncing': 1L, 'company': 2L, 'regard': 1L, 'park': 1L, 'problem': 1L, 'filmmaker': 1L, 'glass': 1L, 'lives': 1L, 'boredom': 1L, 'child': 4L, 'lifestyle': 1L, 'screening': 1L, 'raising': 1L, 'women': 3L, 'town': 1L, 'kind': 1L, 'occasional': 1L, 'room': 1L, 'hour': 1L, 'cluster': 1L, 'frozen': 1L, 'isolation': 1L, 'athlete': 1L, 'zzz_san_diego': 1L, 'defense': 1L, 'accustomed': 1L, 'endure': 1L, 'evolved': 1L, 'growing': 1L, 'manly': 2L, 'zzz_st_paul': 2L, 'feeling': 1L, 'similar': 1L, 'zzz_foot': 1L, 'meant': 1L, 'required': 1L, 'listening': 1L, 'site': 2L, 'rapt': 1L, 'pushed': 1L, 'single': 1L, 'classroom': 1L, 'shopping': 1L, 'happen': 2L, 'film': 2L, 'jacket': 1L, 'squat': 1L, 'sit': 1L, 'ambivalence': 1L, 'discussion': 1L, 'zzz_fla': 1L, 'clearly': 1L, 'workday': 1L, 'housework': 1L, 'zzz_burger_king': 1L, 'seminar': 1L, 'big': 2L, 'answer': 1L, 'zzz_chicago': 1L, 'play': 1L, 'salad': 1L, 'conventioneer': 1L, 'zzz_minn': 2L, 'farm': 1L, 'retrograde': 1L, 'stay': 7L, 'driven': 1L, 'chance': 1L, 'experiences': 1L, 'cleaning': 1L, 'date': 1L, 'burly': 1L, 'totally': 1L, 'sides': 1L, 'kid': 3L, 'salary': 1L, 'compendium': 1L, 'longer': 1L, 'wife': 3L, 'considered': 1L, 'traded': 1L, 'awkwardness': 1L, 'humiliated': 1L, 'drive': 1L, 'gruffly': 1L, 'looked': 1L, 'sensitive': 1L, 'clean': 4L, 'mother': 1L, 'recalled': 1L, 'intimacy': 1L, 'talk': 1L, 'gain': 3L}, {'zzz_anatoly_sobchak': 1L, 'coup': 1L, 'restore': 1L, 'money': 1L, 'domestic': 1L, 'merit': 1L, 'course': 1L, 'economy': 2L, 'freight': 1L, 'left': 1L, 'inherit': 1L, 'fear': 2L, 'mayor': 1L, 'industries': 2L, 'bridges': 1L, 'bribes': 1L, 'electricity': 1L, 'interesting': 1L, 'regarded': 1L, 'acting': 1L, 'writing': 1L, 'zzz_ministry': 4L, 'experiment': 1L, 'zzz_chechnya': 1L, 'atrophied': 1L, 'workable': 1L, 'policy': 1L, 'pay': 1L, 'communist': 2L, 'advanced': 1L, 'predecessor': 1L, 'customer': 1L, 'return': 1L, 'added': 2L, 'zzz_boris_yeltsin': 3L, 'government': 3L, 'read': 1L, 'material': 1L, 'bureaucrat': 2L, 'judiciary': 1L, 'congratulating': 1L, 'nation': 5L, 'heard': 1L, 'hiring': 1L, 'mistaken': 1L, 'accumulate': 1L, 'railroad': 2L, 'daily': 1L, 'enter': 1L, 'realize': 1L, 'bigger': 1L, 'prime': 1L, 'beseech': 1L, 'progressive': 1L, 'autocracy': 1L, 'held': 1L, 'benevolent': 1L, 'fully': 1L, 'level': 2L, 'corruption': 2L, 'ignore': 1L, 'collect': 1L, 'indication': 1L, 'streamlined': 1L, 'ideologically': 1L, 'promise': 1L, 'quarter': 1L, 'rote': 1L, 'ceremonial': 1L, 'wrote': 2L, 'mean': 1L, 'dwindled': 1L, 'westerner': 1L, 'accomplishment': 1L, 'pledge': 1L, 'thwarting': 1L, 'fantastically': 1L, 'fanned': 1L, 'rate': 1L, 'growth': 1L, 'election': 2L, 'pass': 1L, 'corrupt': 1L, 'led': 1L, 'odd': 1L, 'mill': 1L, 'packed': 1L, 'belief': 1L, 'closer': 1L, 'gross': 1L, 'reform': 1L, 'zzz_kremlin': 5L, 'zzz_portugal': 1L, 'crucial': 1L, 'chaos': 1L, 'zzz_soviet_era': 1L, 'icy': 1L, 'won': 1L, 'millennium': 1L, 'remain': 2L, 'internet': 1L, 'crackdown': 1L, 'gov': 1L, 'tolerance': 1L, 'method': 1L, 'law': 2L, 'victory': 1L, 'recently': 1L, 'dictatorial': 1L, 'power': 6L, 'rail': 1L, 'dictates': 1L, 'agencies': 1L, 'free': 1L, 'reported': 1L, 'communism': 1L, 'opposition': 1L, 'rewarding': 1L, 'backed': 1L, 'region': 1L, 'unnamed': 1L, 'remainder': 1L, 'zzz_stalin': 1L, 'remark': 1L, 'central': 1L, 'extraordinary': 1L, 'country': 2L, 'employees': 1L, 'annual': 1L, 'according': 1L, 'shipping': 1L, 'unpaid': 1L, 'stand': 1L, 'steadily': 1L, 'zzz_united_states': 1L, 'railway': 1L, 'mistake': 1L, 'asked': 1L, 'ago': 1L, 'prices': 1L, 'major': 1L, 'industrial': 2L, 'tone': 1L, 'divide': 1L, 'deputy': 1L, 'civil': 1L, 'political': 1L, 'merely': 1L, 'powerful': 1L, 'scene': 1L, 'rank': 1L, 'insist': 1L, 'plurality': 1L, 'simply': 1L, 'raises': 1L, 'right': 1L, 'president': 4L, 'swallowed': 1L, 'strong': 4L, 'zzz_vladimir_putin': 8L, 'capable': 1L, 'aren': 1L, 'zzz_nicholas_ii': 1L, 'flustered': 1L, 'tougher': 1L, 'visit': 1L, 'system': 2L, 'tradition': 1L, 'immense': 1L, 'live': 1L, 'doubt': 1L, 'zzz_russia': 10L, 'opposed': 1L, 'meeting': 1L, 'achieving': 1L, 'duties': 1L, 'bureaucracy': 3L, 'direction': 1L, 'parliament': 1L, 'offering': 1L, 'untamed': 1L, 'fire': 1L, 'worker': 1L, 'award': 1L, 'needed': 2L, 'sobering': 1L, 'zzz_france': 2L, 'demand': 1L, 'russian': 3L, 'believe': 1L, 'present': 1L, 'steel': 1L, 'look': 1L, 'minister': 1L, 'pushed': 1L, 'structures': 3L, 'require': 1L, 'bill': 1L, 'liberties': 1L, 'believes': 1L, 'outrageous': 1L, 'zzz_japan': 1L, 'individual': 1L, 'www': 1L, 'subjugate': 1L, 'root': 1L, 'idle': 1L, 'performed': 1L, 'control': 1L, 'mountain': 1L, 'promises': 1L, 'buying': 1L, 'recognize': 1L, 'admirer': 1L, 'turned': 1L, 'site': 1L, 'praising': 1L, 'raw': 1L, 'fortunes': 1L, 'ideological': 1L, 'doling': 1L, 'zzz_st_petersburg': 1L, 'allowed': 1L, 'need': 1L, 'indifferent': 1L, 'pit': 1L, 'trip': 1L, 'physical': 1L, 'parliamentary': 1L, 'provincial': 1L, 'compared': 1L, 'productivity': 1L, 'turn': 1L, 'personnel': 1L, 'granted': 1L, 'percent': 4L, 'equipment': 1L, 'html': 1L, 'special': 2L, 'discount': 1L, 'document': 1L, 'zzz_investment': 1L, 'conflict': 1L, 'mentor': 1L, 'product': 1L, 'war': 1L, 'making': 1L, 'zzz_soviet': 2L, 'savage': 1L, 'price': 1L, 'published': 1L, 'reach': 1L, 'zzz_moscow': 3L, 'zzz_kommersant': 1L, 'rise': 1L, 'ties': 2L, 'truly': 1L, 'contribution': 1L, 'infirmity': 1L, 'authoritarian': 1L, 'task': 1L, 'regime': 1L, 'zzz_britain': 2L, 'statistic': 1L, 'sale': 1L, 'rule': 4L, 'person': 1L, 'loyal': 1L, 'suggest': 1L, 'democratic': 5L, 'nearly': 1L}, {'shape': 1L, 'mistakes': 1L, 'businesses': 2L, 'zzz_west': 1L, 'follow': 1L, 'saved': 1L, 'mayor': 1L, 'slow': 1L, 'overcome': 1L, 'zzz_western': 2L, 'crash': 1L, 'government': 4L, 'zzz_america': 2L, 'nation': 1L, 'early': 1L, 'devising': 1L, 'politician': 1L, 'entrenched': 1L, 'benefit': 1L, 'thrive': 1L, 'team': 1L, 'small': 1L, 'wrote': 1L, 'zzz_east_germany': 1L, 'financial': 1L, 'intelligence': 1L, 'competition': 1L, 'economic': 2L, 'shortcoming': 1L, 'expect': 1L, 'recommendation': 1L, 'depression': 1L, 'expert': 1L, 'federal': 1L, 'interference': 1L, 'supporter': 1L, 'sustain': 1L, 'reformist': 1L, 'contrast': 1L, 'power': 1L, 'restructuring': 1L, 'beginning': 1L, 'improve': 1L, 'country': 2L, 'american': 1L, 'amassed': 1L, 'market': 1L, 'reworked': 1L, 'outsider': 1L, 'start': 1L, 'transfer': 1L, 'create': 1L, 'political': 1L, 'system': 3L, 'fast': 1L, 'needed': 1L, 'regulation': 1L, 'wonderful': 1L, 'zzz_russia': 2L, 'decisive': 1L, 'recruited': 1L, 'today': 1L, 'prone': 1L, 'took': 1L, 'carrying': 1L, 'blindly': 1L, 'convinced': 1L, 'zzz_russian': 1L, 'word': 1L, 'inside': 1L, 'plunged': 1L, 'monopolies': 1L, 'capitalistic': 1L, 'aid': 1L, 'history': 1L, 'exist': 1L, 'zzz_st_petersburg': 1L, 'education': 1L, 'recovery': 1L, 'majority': 1L, 'economy': 3L, 'poor': 1L, 'zzz_theodore_roosevelt': 2L, 'paramount': 1L, 'zzz_roosevelt': 1L, 'swiftly': 1L, 'helping': 1L, 'regular': 1L, 'plan': 1L, 'president': 3L, 'law': 1L, 'flourish': 1L, 'zzz_franklin_roosevelt': 3L, 'capitalism': 1L, 'zzz_putin': 3L, 'contact': 1L, 'model': 1L, 'opportunity': 1L}, {'zzz_saint': 1L, 'walking': 1L, 'outspoken': 1L, 'dogged': 1L, 'office': 1L, 'show': 1L, 'chances': 1L, 'executive': 2L, 'dollar': 1L, 'named': 1L, 'attitude': 1L, 'mistakes': 2L, 'zzz_new_york': 1L, 'zzz_minnesota': 1L, 'fear': 1L, 'longer': 1L, 'zzz_giant': 2L, 'decade': 1L, 'slot': 1L, 'rapid': 1L, 'excuses': 1L, 'pray': 1L, 'fix': 1L, 'blown': 1L, 'laid': 1L, 'improvement': 1L, 'zzz_emmitt_smith': 4L, 'starter': 1L, 'humiliate': 1L, 'wearing': 2L, 'cornerback': 1L, 'entire': 1L, 'beat': 3L, 'zzz_texas_stadium': 1L, 'nation': 1L, 'game': 1L, 'worst': 1L, 'unique': 1L, 'silver': 1L, 'minute': 1L, 'loss': 2L, 'earn': 1L, 'lost': 1L, 'quarterback': 1L, 'victories': 1L, 'indication': 1L, 'victory': 1L, 'team': 8L, 'foolish': 1L, 'luck': 1L, 'zzz_hawaii': 1L, 'signing': 1L, 'challenged': 1L, 'penalties': 1L, 'direct': 1L, 'experienced': 1L, 'bare': 1L, 'changed': 1L, 'close': 1L, 'special': 1L, 'blue': 1L, 'mood': 1L, 'lead': 2L, 'beaten': 1L, 'bonuses': 1L, 'longtime': 1L, 'closed': 1L, 'zzz_new_york_giant': 1L, 'learned': 1L, 'correct': 2L, 'contrast': 1L, 'football': 1L, 'run': 1L, 'business': 1L, 'reach': 3L, 'zzz_jerry_jones': 6L, 'million': 2L, 'newspaper': 1L, 'step': 1L, 'losing': 2L, 'afterward': 1L, 'card': 1L, 'improve': 1L, 'dry': 1L, 'league': 1L, 'passionate': 1L, 'talent': 1L, 'zzz_dallas_cowboy': 9L, 'chance': 1L, 'games': 1L, 'stand': 1L, 'encourage': 2L, 'turf': 1L, 'heavy': 1L, 'zzz_green_bay': 2L, 'session': 1L, 'extra': 1L, 'appeared': 1L, 'running': 1L, 'franchise': 1L, 'playoff': 6L, 'zzz_nfc': 1L, 'lowly': 1L, 'stern': 1L, 'owner': 1L, 'message': 1L, 'zzz_nfl': 2L, 'postseason': 1L, 'standing': 1L, 'jet': 1L, 'capable': 1L, 'zzz_washington': 2L, 'respond': 1L, 'night': 1L, 'zzz_arizona': 1L, 'frustration': 1L, 'seriously': 1L, 'meeting': 2L, 'final': 1L, 'today': 1L, 'considerably': 1L, 'zzz_miami': 1L, 'door': 1L, 'season': 5L, 'gas': 1L, 'took': 2L, 'moment': 1L, 'failure': 1L, 'zzz_troy_aikman': 1L, 'understand': 1L, 'personally': 1L, 'wasted': 1L, 'trying': 1L, 'zzz_superdome': 1L, 'countless': 1L, 'paying': 1L, 'word': 1L, 'showed': 1L, 'rage': 1L, 'zzz_tampa_bay': 1L, 'remain': 1L, 'sour': 1L, 'wild': 1L, 'making': 1L, 'agree': 1L, 'heart': 1L, 'losses': 1L, 'embarrassing': 1L, 'hoping': 1L, 'pro': 1L, 'zzz_philadelphia': 1L, 'sting': 1L, 'according': 1L, 'player': 6L, 'promised': 1L, 'seen': 1L, 'helmet': 1L, 'harsh': 1L, 'veteran': 1L, 'brightened': 1L, 'zzz_all_pro': 1L, 'potential': 1L, 'speech': 2L, 'laughed': 1L, 'zzz_dallas': 3L, 'oil': 1L, 'cupboard': 1L, 'roster': 1L, 'price': 1L, 'felt': 1L, 'spot': 1L, 'wrong': 1L, 'opportunity': 1L, 'blamed': 1L, 'especially': 2L, 'quarter': 1L, 'playing': 1L, 'chief': 1L, 'zzz_new_orlean': 2L, 'organization': 1L, 'zzz_deion_sander': 5L, 'urgency': 1L, 'travel': 1L}, {'zzz_u_s_army': 1L, 'help': 1L, 'visitor': 1L, 'zzz_tuzla': 1L, 'global': 1L, 'cheap': 1L, 'anyway': 1L, 'course': 1L, 'batteries': 1L, 'zzz_eagle_base': 1L, 'sleep': 1L, 'defiant': 1L, 'quake': 1L, 'follow': 1L, 'remarkably': 1L, 'captain': 1L, 'earlier': 1L, 'dawned': 1L, 'web': 2L, 'family': 1L, 'zone': 2L, 'radiologist': 1L, 'assurances': 1L, 'logged': 1L, 'actually': 1L, 'program': 1L, 'anticlimax': 1L, 'technological': 1L, 'mail': 3L, 'sorry': 1L, 'dreaded': 1L, 'humanity': 1L, 'gave': 1L, 'evening': 1L, 'zzz_wellington': 2L, 'midnight': 6L, 'flowing': 1L, 'watch': 1L, 'kind': 1L, 'break': 1L, 'spraying': 1L, 'game': 3L, 'harbinger': 1L, 'traffic': 1L, 'nearly': 1L, 'fall': 1L, 'immediately': 1L, 'bit': 1L, 'continued': 1L, 'net': 1L, 'minute': 1L, 'clan': 1L, 'zzz_germany': 1L, 'showed': 1L, 'list': 1L, 'server': 1L, 'offering': 1L, 'night': 3L, 'small': 2L, 'served': 1L, 'doomsayer': 1L, 'fixed': 1L, 'round': 1L, 'wrote': 6L, 'luck': 1L, 'gallon': 1L, 'talked': 1L, 'disaster': 1L, 'wishes': 1L, 'globe': 1L, 'grandfather': 1L, 'related': 3L, 'challenges': 1L, 'computer': 1L, 'asleep': 1L, 'educator': 1L, 'corner': 1L, 'images': 1L, 'home': 1L, 'happen': 2L, 'intact': 1L, 'event': 1L, 'concern': 1L, 'dial': 1L, 'network': 1L, 'clock': 1L, 'pictures': 1L, 'avoid': 1L, 'intimate': 1L, 'sites': 1L, 'hour': 2L, 'zzz_diana': 1L, 'looking': 1L, 'millennium': 2L, 'internet': 6L, 'resilient': 1L, 'zzz_maui': 1L, 'offline': 1L, 'champagne': 2L, 'novices': 1L, 'apocalyptic': 1L, 'prosaic': 1L, 'drink': 1L, 'zzz_am_i': 1L, 'zzz_yahoo': 1L, 'million': 1L, 'material': 1L, 'lack': 1L, 'reported': 1L, 'poignant': 1L, 'devour': 1L, 'zzz_fort_knox': 1L, 'address': 1L, 'engineer': 2L, 'optional': 1L, 'momentous': 1L, 'wait': 1L, 'box': 1L, 'faith': 1L, 'y2k': 3L, 'daughter': 2L, 'struck': 1L, 'auction': 1L, 'deprived': 1L, 'favorite': 1L, 'zzz_wales': 1L, 'experience': 1L, 'turn': 1L, 'connection': 1L, 'supplies': 1L, 'stand': 1L, 'shared': 1L, 'zzz_san_francisco': 1L, 'com': 1L, 'sooo': 1L, 'fake': 1L, 'presumably': 1L, 'shorthand': 1L, 'slipped': 1L, 'zzz_america_online': 2L, 'zones': 1L, 'period': 1L, 'community': 1L, 'height': 1L, 'feet': 1L, 'preparedness': 1L, 'harness': 1L, 'laugh': 1L, 'parties': 1L, 'zzz_seattle': 1L, 'zzz_bosnia': 1L, 'speak': 1L, 'necessarily': 1L, 'silent': 1L, 'working': 1L, 'zzz_colo': 1L, 'zzz_louisville': 1L, 'bottled': 1L, 'concede': 1L, 'noticed': 1L, 'sleeping': 1L, 'maintenance': 1L, 'collected': 1L, 'survive': 1L, 'celebration': 3L, 'type': 1L, 'friend': 3L, 'happy': 6L, 'yes': 1L, 'families': 1L, 'receiving': 1L, 'stationed': 1L, 'mind': 1L, 'company': 1L, 'took': 2L, 'meaningless': 1L, 'broadcast': 1L, 'expected': 1L, 'correspondent': 1L, 'bidding': 1L, 'doom': 1L, 'surged': 1L, 'zzz_world_wide': 1L, 'zzz_really': 1L, 'boyfriend': 1L, 'tempered': 1L, 'television': 1L, 'hundred': 1L, 'room': 1L, 'places': 1L, 'heard': 1L, 'past': 1L, 'signed': 2L, 'ebay': 2L, 'firework': 1L, 'universe': 2L, 'fun': 1L, 'problem': 2L, 'voice': 1L, 'bidder': 1L, 'called': 1L, 'care': 1L, 'alike': 1L, 'gathering': 1L, 'messages': 1L, 'turned': 1L, 'site': 4L, 'watcher': 1L, 'tonight': 1L, 'player': 1L, 'sudden': 2L, 'comrades': 1L, 'dropped': 1L, 'chat': 3L, 'sense': 3L, 'ready': 1L, 'wove': 1L, 'survivalist': 1L, 'happened': 1L, 'technology': 1L, 'sleepy': 1L, 'posting': 2L, 'cafe': 1L, 'inches': 1L, 'tone': 1L, 'country': 2L, 'water': 1L, 'virtual': 1L, 'zzz_duesseldorf': 1L, 'relatives': 1L, 'potential': 1L, 'ambitious': 1L, 'online': 2L, 'party': 2L, 'dozen': 1L, 'thousand': 2L, 'realize': 1L, 'breakdown': 1L, 'cyberspace': 1L, 'thereof': 1L, 'sure': 1L, 'retired': 1L, 'typed': 1L, 'knew': 1L, 'zzz_bahrain': 1L, 'noise': 1L, 'circled': 1L, 'waterfront': 1L, 'zzz_ky': 1L, 'dedicated': 1L, 'kid': 1L, 'apocalypse': 1L, 'shortly': 1L, 'observation': 1L, 'bug': 1L, 'light': 1L, 'stronger': 1L, 'zapped': 1L, 'playing': 1L, 'zzz_new_zealand': 2L, 'person': 4L, 'chemical': 1L, 'messenger': 1L, 'procedure': 1L, 'allow': 1L, 'stayed': 1L, 'businessman': 1L, 'responded': 1L, 'left': 1L}, {'zzz_eastern': 1L, 'gates': 1L, 'atmosphere': 1L, 'zzz_mass': 1L, 'office': 1L, 'advised': 1L, 'midnight': 3L, 'satisfied': 1L, 'vacancy': 1L, 'cries': 1L, 'session': 1L, 'businesses': 1L, 'zzz_new_york': 1L, 'directorship': 1L, 'zzz_clinton': 1L, 'staff': 1L, 'web': 2L, 'busy': 1L, 'catastrophe': 1L, 'zone': 1L, 'crises': 1L, 'leap': 1L, 'expert': 2L, 'finally': 1L, 'hubbub': 1L, 'bank': 1L, 'pretty': 1L, 'safety': 1L, 'suffered': 1L, 'occurring': 1L, 'applied': 1L, 'return': 1L, 'risk': 1L, 'casually': 1L, 'big': 2L, 'zzz_marion': 1L, 'zzz_government': 5L, 'zzz_council': 1L, 'early': 2L, 'shuttle': 1L, 'traffic': 3L, 'nearly': 1L, 'fall': 1L, 'press': 1L, 'bit': 1L, 'glitches': 1L, 'zzz_lincoln': 1L, 'rumor': 2L, 'areas': 1L, 'entire': 1L, 'shouted': 1L, 'hour': 2L, 'sleeve': 1L, 'held': 1L, 'leading': 1L, 'morning': 2L, 'victory': 1L, 'night': 2L, 'quick': 2L, 'nerves': 1L, 'guy': 1L, 'noted': 2L, 'prevent': 1L, 'declared': 1L, 'set': 1L, 'determine': 1L, 'deal': 1L, 'crop': 1L, 'seat': 3L, 'martial': 5L, 'street': 1L, 'asleep': 1L, 'proclaimed': 1L, 'begun': 1L, 'close': 1L, 'happen': 1L, 'worried': 1L, 'aggressive': 1L, 'computer': 6L, 'drill': 1L, 'culprit': 1L, 'clock': 2L, 'federal': 3L, 'fact': 1L, 'truly': 1L, 'slick': 1L, 'zzz_central': 1L, 'seriously': 1L, 'turnaround': 1L, 'closed': 2L, 'attire': 1L, 'supplies': 1L, 'public': 2L, 'arrival': 1L, 'shut': 1L, 'blowing': 1L, 'run': 1L, 'zzz_red_cross': 1L, 'written': 1L, 'wayward': 1L, 'million': 1L, 'free': 1L, 'reported': 2L, 'job': 2L, 'operating': 1L, 'possibility': 1L, 'attendant': 2L, 'beginning': 1L, 'celebration': 1L, 'ahead': 1L, 'country': 2L, 'taking': 1L, 'sinister': 1L, 'moment': 2L, 'round': 1L, 'zzz_wyo': 1L, 'historical': 1L, 'context': 1L, 'swing': 1L, 'settled': 1L, 'midway': 1L, 'commando': 1L, 'insurance': 1L, 'flying': 1L, 'distress': 1L, 'point': 3L, 'feel': 1L, 'zzz_delta': 1L, 'hearing': 1L, 'date': 1L, 'elevator': 1L, 'directly': 1L, 'reached': 1L, 'ring': 1L, 'rollover': 1L, 'open': 2L, 'conference': 1L, 'worries': 1L, 'law': 5L, 'eye': 1L, 'addition': 1L, 'zzz_washington': 2L, 'hoarding': 1L, 'slept': 1L, 'system': 2L, 'fast': 1L, 'strategy': 1L, 'avail': 1L, 'intention': 1L, 'rerouted': 1L, 'spread': 1L, 'calm': 1L, 'zzz_president': 5L, 'suit': 1L, 'hysterical': 1L, 'empty': 1L, 'happy': 1L, 'eyes': 1L, 'door': 1L, 'offering': 1L, 'successful': 1L, 'attempted': 1L, 'relaxed': 1L, 'downtown': 1L, 'excuse': 2L, 'related': 1L, 'upright': 1L, 'aviation': 1L, 'slowdown': 1L, 'effort': 1L, 'behalf': 1L, 'countless': 1L, 'shoot': 1L, 'zzz_conversion': 1L, 'arranged': 1L, 'look': 1L, 'places': 1L, 'society': 1L, 'meeting': 1L, 'straight': 1L, 'official': 3L, 'mishap': 1L, 'snoozer': 1L, 'catching': 1L, 'encountered': 1L, 'minor': 1L, 'sedate': 1L, 'briefing': 2L, 'making': 2L, 'problem': 2L, 'declare': 1L, 'urging': 1L, 'control': 1L, 'transition': 1L, 'zzz_quincy': 1L, 'behavior': 1L, 'transportation': 1L, 'half': 1L, 'flung': 1L, 'condition': 1L, 'site': 2L, 'reassuring': 1L, 'coordinator': 1L, 'pulling': 1L, 'home': 1L, 'ready': 1L, 'flight': 3L, 'zzz_la_guardia_airport': 1L, 'trip': 1L, 'information': 1L, 'debilitating': 1L, 'monitoring': 1L, 'zzz_ohio': 1L, 'air': 2L, 'dressed': 1L, 'snow': 1L, 'camouflage': 1L, 'reality': 1L, 'member': 1L, 'nap': 1L, 'potential': 1L, 'potentially': 1L, 'airlines': 1L, 'rioting': 1L, 'test': 1L, 'tie': 1L, 'begin': 1L, 'sir': 1L, 'zzz_civil_war': 1L, 'declaring': 1L, 'zzz_john_koskinen': 8L, 'collection': 1L, 'hand': 1L, 'running': 1L, 'arrived': 2L, 'position': 1L, 'head': 1L, 'nation': 1L, 'totally': 1L, 'careful': 1L, 'warn': 1L, 'zzz_delta_flight': 1L, 'center': 2L, 'corporate': 1L, 'devastating': 1L, 'command': 2L, 'road': 1L, 'worst': 1L, 'speechifying': 1L, 'order': 1L, 'talk': 1L, 'left': 1L}, {'stones': 1L, 'ambassador': 2L, 'rubies': 1L, 'zzz_muhammad_ali': 1L, 'gown': 2L, 'entryway': 1L, 'lack': 1L, 'midnight': 1L, 'major': 2L, 'course': 1L, 'openly': 1L, 'businesses': 1L, 'artichoke': 1L, 'stepping': 1L, 'roasted': 1L, 'argued': 1L, 'follow': 1L, 'rough': 1L, 'supporter': 1L, 'toast': 2L, 'cut': 2L, 'zzz_terry_mcauliffe': 1L, 'beluga': 1L, 'pant': 1L, 'father': 1L, 'sparkling': 1L, 'winning': 1L, 'shouting': 1L, 'zzz_hand': 1L, 'black': 2L, 'zzz_sophia_loren': 1L, 'pretty': 1L, 'dressing': 1L, 'main': 1L, 'worth': 1L, 'hope': 1L, 'scheduled': 1L, 'evening': 1L, 'return': 1L, 'watching': 1L, 'zzz_america': 2L, 'dessert': 1L, 'material': 1L, 'bear': 1L, 'traffic': 1L, 'despite': 1L, 'arriving': 1L, 'join': 1L, 'silk': 2L, 'bringing': 1L, 'accommodate': 1L, 'outright': 1L, 'champagne': 1L, 'crowed': 1L, 'prize': 1L, 'lost': 1L, 'artist': 1L, 'conspicuous': 1L, 'performing': 1L, 'list': 1L, 'joined': 1L, 'zzz_east': 3L, 'oddly': 1L, 'jokes': 1L, 'festivities': 1L, 'scientist': 2L, 'flashy': 1L, 'gotten': 1L, 'haltingly': 1L, 'accompanied': 1L, 'baldly': 1L, 'noted': 1L, 'gras': 1L, 'crowd': 1L, 'zzz_hillary_rodham_clinton': 1L, 'past': 2L, 'celebrating': 2L, 'zzz_bobby_mcferrin': 1L, 'seated': 1L, 'begun': 1L, 'reunion': 1L, 'dear': 1L, 'led': 1L, 'donation': 1L, 'packed': 1L, 'contingent': 1L, 'blue': 1L, 'project': 1L, 'velvet': 2L, 'jewelry': 1L, 'movie': 1L, 'appreciative': 1L, 'raising': 1L, 'zzz_supremes': 1L, 'zzz_julie_harris': 1L, 'sentimentalist': 1L, 'receiving': 1L, 'announced': 1L, 'zzz_mary_wilson': 1L, 'pepper': 1L, 'infrastructure': 1L, 'run': 1L, 'telecommunication': 1L, 'business': 1L, 'reporter': 3L, 'million': 1L, 'host': 1L, 'gamely': 1L, 'key': 1L, 'served': 1L, 'optional': 1L, 'zzz_white_house': 4L, 'guest': 6L, 'plug': 1L, 'sister': 2L, 'zzz_rhoda': 1L, 'employees': 1L, 'favorite': 1L, 'gusto': 1L, 'zzz_robert_deniro': 1L, 'rack': 2L, 'dinner': 4L, 'assistant': 1L, 'zzz_nobel': 1L, 'boa': 1L, 'asked': 3L, 'glittering': 1L, 'presumably': 1L, 'salad': 1L, 'caviar': 1L, 'imagine': 1L, 'bused': 1L, 'included': 2L, 'pink': 1L, 'raiser': 1L, 'zzz_ossie_davis': 1L, 'wrap': 1L, 'table': 1L, 'zzz_elizabeth_taylor': 2L, 'singing': 1L, 'red': 2L, 'unusual': 1L, 'foie': 1L, 'spoke': 1L, 'caught': 1L, 'neck': 1L, 'political': 1L, 'joking': 1L, 'zzz_abc': 1L, 'zzz_mary_tyler_moore': 1L, 'expected': 1L, 'john': 1L, 'duties': 1L, 'low': 2L, 'diamond': 1L, 'raced': 1L, 'taffeta': 1L, 'glad': 1L, 'took': 1L, 'chocolate': 1L, 'fund': 1L, 'part': 1L, 'zzz_tom_jones': 1L, 'hopes': 1L, 'smoking': 1L, 'line': 1L, 'zzz_d_mass': 1L, 'behalf': 1L, 'women': 1L, 'keeping': 1L, 'zzz_nicholson': 1L, 'tunic': 1L, 'room': 4L, 'hour': 2L, 'brocade': 1L, 'wish': 1L, 'official': 1L, 'show': 2L, 'single': 1L, 'worn': 1L, 'spokeswoman': 1L, 'donor': 1L, 'future': 2L, 'zzz_commerce_secretary_william_daley': 1L, 'display': 1L, 'zzz_sen_edward_m_kennedy': 1L, 'wearing': 1L, 'money': 1L, 'zzz_ireland': 1L, 'zzz_lincoln_memorial': 1L, 'century': 2L, 'lobbying': 1L, 'likewise': 1L, 'deep': 1L, 'tastes': 1L, 'hug': 1L, 'pushing': 1L, 'seen': 1L, 'dress': 2L, 'zzz_jessye_norman': 1L, 'parent': 1L, 'recap': 1L, 'dressed': 1L, 'responsible': 1L, 'american': 1L, 'actor': 1L, 'dining': 1L, 'recommended': 1L, 'laughed': 1L, 'eclectic': 1L, 'zzz_sid_caesar': 1L, 'extravaganza': 1L, 'lamb': 2L, 'product': 1L, 'senator': 1L, 'tried': 1L, 'millennial': 1L, 'felt': 1L, 'moment': 1L, 'arrived': 1L, 'offset': 1L, 'supper': 1L, 'ragout': 1L, 'president': 2L, 'zzz_lyndon_johnson': 1L, 'opportunity': 1L, 'collar': 1L, 'oyster': 1L, 'zzz_chelsea_clinton': 3L, 'zzz_monica_lewinsky': 1L, 'wife': 1L, 'foot': 1L, 'wheelchair': 1L, 'proud': 1L, 'jacket': 2L, 'loyal': 1L, 'warm': 2L, 'green': 1L, 'gesture': 1L, 'pay': 2L, 'executives': 1L, 'talk': 1L, 'hostess': 1L}, {'refund': 2L, 'zzz_eastern': 2L, 'stores': 2L, 'office': 1L, 'dollar': 1L, 'focus': 3L, 'making': 1L, 'zzz_u_s': 1L, 'bring': 1L, 'manager': 1L, 'epitomized': 1L, 'cases': 1L, 'web': 1L, 'style': 1L, 'cut': 1L, 'layout': 1L, 'zzz_tom_oder': 1L, 'generator': 1L, 'fined': 1L, 'headed': 1L, 'zzz_contreras': 1L, 'israel': 1L, 'employer': 1L, 'platform': 1L, 'policy': 1L, 'health': 1L, 'piano': 1L, 'clamping': 1L, 'warrant': 1L, 'zzz_aetna': 2L, 'toder': 1L, 'non': 1L, 'return': 1L, 'emergency': 2L, 'government': 1L, 'awarding': 1L, 'zzz_ace_hardware': 1L, 'arab': 1L, 'bankroll': 1L, 'putting': 1L, 'front': 1L, 'bit': 1L, 'look': 3L, 'stage': 1L, 'stuff': 1L, 'lozenge': 1L, 'overshadowed': 1L, 'investigator': 1L, 'postcard': 1L, 'notes': 1L, 'turner': 1L, 'charging': 1L, 'continue': 1L, 'common': 1L, 'night': 2L, 'disregard': 1L, 'found': 1L, 'noted': 1L, 'mean': 2L, 'www': 1L, 'zzz_todd_duncan': 1L, 'art': 1L, 'concert': 1L, 'crowd': 1L, 'nytsyn': 1L, 'series': 1L, 'breathtaking': 1L, 'play': 1L, 'zzz_e_t_a': 1L, 'zzz_bradley': 2L, 'demeanor': 1L, 'economic': 1L, 'pageex': 1L, 'amazing': 1L, 'concludes': 1L, 'patient': 2L, 'sport': 1L, 'event': 1L, 'special': 3L, 'restocking': 1L, 'initiatives': 1L, 'est': 1L, 'caribbean': 1L, 'federal': 1L, 'dribbling': 1L, 'missing': 1L, 'compensation': 1L, 'paying': 1L, 'won': 1L, 'millennium': 6L, 'rickc': 1L, 'goes': 1L, 'zzz_miller': 1L, 'supplies': 2L, 'reading': 1L, 'zzz_geewax': 1L, 'public': 1L, 'tduncan': 1L, 'attention': 1L, 'run': 1L, 'business': 5L, 'opening': 1L, 'reach': 1L, 'loose': 1L, 'reported': 1L, 'host': 1L, 'focused': 1L, 'key': 1L, 'strategies': 1L, 'approval': 1L, 'cities': 1L, 'zzz_mallory': 1L, 'celebration': 1L, 'speeches': 1L, 'y2k': 12L, 'package': 1L, 'employees': 1L, 'larger': 1L, 'zzz_atlanta_olympic': 3L, 'zzz_walker': 1L, 'foreign': 1L, 'zzz_jerusalem': 1L, 'turn': 1L, 'amount': 1L, 'eta': 1L, 'expecting': 1L, 'threat': 1L, 'act': 1L, 'zzz_prudential': 2L, 'com': 7L, 'comes': 1L, 'zzz_mexico_city': 1L, 'major': 1L, 'zzz_sear': 2L, 'coverage': 1L, 'shopper': 1L, 'point': 1L, 'question': 2L, 'deal': 2L, 'address': 1L, 'marked': 1L, 'political': 1L, 'zzz_coker': 1L, 'names': 1L, 'verge': 2L, 'church': 1L, 'wrap': 1L, 'stump': 1L, 'ring': 1L, 'quality': 1L, 'market': 1L, 'fee': 1L, 'additional': 1L, 'prepare': 1L, 'area': 1L, 'zzz_st_croix': 1L, 'zzz_washington': 3L, 'hospital': 1L, 'constantly': 1L, 'threatening': 1L, 'subscriber': 1L, 'papal': 1L, 'attack': 1L, 'proposes': 1L, 'treat': 1L, 'spike': 1L, 'forward': 1L, 'care': 1L, 'assessment': 1L, 'final': 1L, 'assumes': 1L, 'artd': 1L, 'exploring': 1L, 'direction': 1L, 'muscles': 1L, 'option': 3L, 'zzz_bond': 1L, 'thousand': 1L, 'acquire': 2L, 'zzz_rick_christie': 1L, 'zzz_home_depot': 1L, 'improve': 1L, 'fund': 1L, 'part': 1L, 'plague': 1L, 'eyed': 1L, 'survived': 2L, 'syndicate': 1L, 'line': 1L, 'general': 1L, 'bill': 1L, 'zzz_dalglish': 1L, 'customer': 2L, 'zzz_london': 1L, 'holiday': 1L, 'room': 1L, 'zzz_sherman': 1L, 'distinguishes': 1L, 'getting': 2L, 'chief': 1L, 'britain': 1L, 'raises': 1L, 'politic': 1L, 'locker': 1L, 'growth': 1L, 'light': 1L, 'newspaper': 2L, 'zzz_sen_bill_bradley': 1L, 'problem': 2L, 'directed': 1L, 'russia': 1L, 'zzz_sports_stories': 1L, 'zzz_andy_alexander': 2L, 'performer': 1L, 'liberal': 1L, 'person': 1L, 'fright': 1L, 'mexico': 1L, 'face': 1L, 'zzz_roughton': 1L, 'sales': 1L, 'sale': 1L, 'blip': 1L, 'critic': 1L, 'outraged': 1L, 'throat': 1L, 'seen': 1L, 'zzz_paul_foutch': 1L, 'recover': 1L, 'meltdown': 1L, 'information': 3L, 'zzz_christianity': 2L, 'century': 1L, 'italy': 1L, 'doctor': 1L, 'counter': 1L, 'congratulation': 1L, 'percent': 1L, 'zzz_retailer': 2L, 'nyt': 1L, 'note': 1L, 'zzz_greg_laudick': 1L, 'zzz_salt_lake_city': 1L, 'tumbling': 1L, 'low': 1L, 'main': 1L, 'commentary': 1L, 'zzz_rome': 1L, 'company': 2L, 'zzz_freeman': 1L, 'stock': 4L, 'development': 2L, 'tension': 1L, 'tighten': 1L, 'ball': 1L, 'zzz_georgia': 1L, 'games': 2L, 'separate': 1L, 'millennial': 1L, 'dow': 1L, 'spot': 1L, 'staffed': 1L, 'zzz_moscow': 1L, 'react': 1L, 'terrorist': 1L, 'mouth': 1L, 'plan': 2L, 'additionally': 1L, 'refusing': 1L, 'zzz_pope_john_paul_ii': 1L, 'funding': 1L, 'future': 1L, 'payment': 1L, 'zzz_congressional': 2L, 'billion': 1L, 'million': 1L, 'short': 1L, 'insured': 1L, 'zzz_kaplow': 1L, 'clear': 1L, 'zzz_american': 1L, 'lax': 1L, 'spent': 1L, 'daily': 1L, 'pfoutch': 1L, 'traditional': 1L, 'zzz_ace': 1L, 'recent': 1L, 'edge': 1L, 'andya': 1L, 'increasing': 1L, 'democratic': 1L, 'corporate': 1L, 'spend': 1L}, ... ]\n"
     ]
    },
    {
     "name": "stderr",
     "output_type": "stream",
     "text": [
      "C:\\Users\\iimra\\Anaconda2\\lib\\site-packages\\IPython\\core\\formatters.py:92: DeprecationWarning: DisplayFormatter._ipython_display_formatter_default is deprecated: use @default decorator instead.\n",
      "  def _ipython_display_formatter_default(self):\n",
      "C:\\Users\\iimra\\Anaconda2\\lib\\site-packages\\IPython\\core\\formatters.py:669: DeprecationWarning: PlainTextFormatter._singleton_printers_default is deprecated: use @default decorator instead.\n",
      "  def _singleton_printers_default(self):\n",
      "C:\\Users\\iimra\\Anaconda2\\lib\\site-packages\\IPython\\core\\formatters.py:672: DeprecationWarning: PlainTextFormatter._type_printers_default is deprecated: use @default decorator instead.\n",
      "  def _type_printers_default(self):\n",
      "C:\\Users\\iimra\\Anaconda2\\lib\\site-packages\\IPython\\core\\formatters.py:677: DeprecationWarning: PlainTextFormatter._deferred_printers_default is deprecated: use @default decorator instead.\n",
      "  def _deferred_printers_default(self):\n"
     ]
    },
    {
     "data": {
      "text/plain": [
       "<function graphlab.toolkits.topic_model.topic_model.create>"
      ]
     },
     "execution_count": 5,
     "metadata": {},
     "output_type": "execute_result"
    }
   ],
   "source": [
    "print docs\n",
    "gl.topic_model.create"
   ]
  },
  {
   "cell_type": "code",
   "execution_count": 17,
   "metadata": {
    "collapsed": false
   },
   "outputs": [
    {
     "data": {
      "text/html": [
       "<pre>Learning a topic model</pre>"
      ],
      "text/plain": [
       "Learning a topic model"
      ]
     },
     "metadata": {},
     "output_type": "display_data"
    },
    {
     "data": {
      "text/html": [
       "<pre>       Number of documents     10000</pre>"
      ],
      "text/plain": [
       "       Number of documents     10000"
      ]
     },
     "metadata": {},
     "output_type": "display_data"
    },
    {
     "data": {
      "text/html": [
       "<pre>           Vocabulary size     63958</pre>"
      ],
      "text/plain": [
       "           Vocabulary size     63958"
      ]
     },
     "metadata": {},
     "output_type": "display_data"
    },
    {
     "data": {
      "text/html": [
       "<pre>   Running collapsed Gibbs sampling</pre>"
      ],
      "text/plain": [
       "   Running collapsed Gibbs sampling"
      ]
     },
     "metadata": {},
     "output_type": "display_data"
    },
    {
     "data": {
      "text/html": [
       "<pre>+-----------+---------------+----------------+-----------------+</pre>"
      ],
      "text/plain": [
       "+-----------+---------------+----------------+-----------------+"
      ]
     },
     "metadata": {},
     "output_type": "display_data"
    },
    {
     "data": {
      "text/html": [
       "<pre>| Iteration | Elapsed Time  | Tokens/Second  | Est. Perplexity |</pre>"
      ],
      "text/plain": [
       "| Iteration | Elapsed Time  | Tokens/Second  | Est. Perplexity |"
      ]
     },
     "metadata": {},
     "output_type": "display_data"
    },
    {
     "data": {
      "text/html": [
       "<pre>+-----------+---------------+----------------+-----------------+</pre>"
      ],
      "text/plain": [
       "+-----------+---------------+----------------+-----------------+"
      ]
     },
     "metadata": {},
     "output_type": "display_data"
    },
    {
     "data": {
      "text/html": [
       "<pre>| 10        | 2.91s         | 8.5085e+006    | 0               |</pre>"
      ],
      "text/plain": [
       "| 10        | 2.91s         | 8.5085e+006    | 0               |"
      ]
     },
     "metadata": {},
     "output_type": "display_data"
    },
    {
     "data": {
      "text/html": [
       "<pre>| 20        | 5.64s         | 5.7704e+006    | 0               |</pre>"
      ],
      "text/plain": [
       "| 20        | 5.64s         | 5.7704e+006    | 0               |"
      ]
     },
     "metadata": {},
     "output_type": "display_data"
    },
    {
     "data": {
      "text/html": [
       "<pre>| 30        | 8.21s         | 8.36098e+006   | 0               |</pre>"
      ],
      "text/plain": [
       "| 30        | 8.21s         | 8.36098e+006   | 0               |"
      ]
     },
     "metadata": {},
     "output_type": "display_data"
    },
    {
     "data": {
      "text/html": [
       "<pre>| 40        | 11.29s        | 8.3129e+006    | 0               |</pre>"
      ],
      "text/plain": [
       "| 40        | 11.29s        | 8.3129e+006    | 0               |"
      ]
     },
     "metadata": {},
     "output_type": "display_data"
    },
    {
     "data": {
      "text/html": [
       "<pre>| 50        | 14.24s        | 7.49453e+006   | 0               |</pre>"
      ],
      "text/plain": [
       "| 50        | 14.24s        | 7.49453e+006   | 0               |"
      ]
     },
     "metadata": {},
     "output_type": "display_data"
    },
    {
     "data": {
      "text/html": [
       "<pre>| 60        | 17.26s        | 7.03295e+006   | 0               |</pre>"
      ],
      "text/plain": [
       "| 60        | 17.26s        | 7.03295e+006   | 0               |"
      ]
     },
     "metadata": {},
     "output_type": "display_data"
    },
    {
     "data": {
      "text/html": [
       "<pre>| 70        | 20.21s        | 8.31246e+006   | 0               |</pre>"
      ],
      "text/plain": [
       "| 70        | 20.21s        | 8.31246e+006   | 0               |"
      ]
     },
     "metadata": {},
     "output_type": "display_data"
    },
    {
     "data": {
      "text/html": [
       "<pre>| 80        | 22.75s        | 8.5085e+006    | 0               |</pre>"
      ],
      "text/plain": [
       "| 80        | 22.75s        | 8.5085e+006    | 0               |"
      ]
     },
     "metadata": {},
     "output_type": "display_data"
    },
    {
     "data": {
      "text/html": [
       "<pre>| 90        | 25.29s        | 8.6269e+006    | 0               |</pre>"
      ],
      "text/plain": [
       "| 90        | 25.29s        | 8.6269e+006    | 0               |"
      ]
     },
     "metadata": {},
     "output_type": "display_data"
    },
    {
     "data": {
      "text/html": [
       "<pre>| 100       | 27.83s        | 8.6441e+006    | 0               |</pre>"
      ],
      "text/plain": [
       "| 100       | 27.83s        | 8.6441e+006    | 0               |"
      ]
     },
     "metadata": {},
     "output_type": "display_data"
    },
    {
     "data": {
      "text/html": [
       "<pre>| 110       | 30.37s        | 8.89207e+006   | 0               |</pre>"
      ],
      "text/plain": [
       "| 110       | 30.37s        | 8.89207e+006   | 0               |"
      ]
     },
     "metadata": {},
     "output_type": "display_data"
    },
    {
     "data": {
      "text/html": [
       "<pre>| 120       | 32.91s        | 7.66663e+006   | 0               |</pre>"
      ],
      "text/plain": [
       "| 120       | 32.91s        | 7.66663e+006   | 0               |"
      ]
     },
     "metadata": {},
     "output_type": "display_data"
    },
    {
     "data": {
      "text/html": [
       "<pre>| 130       | 35.52s        | 8.60986e+006   | 0               |</pre>"
      ],
      "text/plain": [
       "| 130       | 35.52s        | 8.60986e+006   | 0               |"
      ]
     },
     "metadata": {},
     "output_type": "display_data"
    },
    {
     "data": {
      "text/html": [
       "<pre>| 140       | 38.03s        | 8.69604e+006   | 0               |</pre>"
      ],
      "text/plain": [
       "| 140       | 38.03s        | 8.69604e+006   | 0               |"
      ]
     },
     "metadata": {},
     "output_type": "display_data"
    },
    {
     "data": {
      "text/html": [
       "<pre>| 150       | 40.56s        | 8.57575e+006   | 0               |</pre>"
      ],
      "text/plain": [
       "| 150       | 40.56s        | 8.57575e+006   | 0               |"
      ]
     },
     "metadata": {},
     "output_type": "display_data"
    },
    {
     "data": {
      "text/html": [
       "<pre>| 160       | 43.09s        | 8.37712e+006   | 0               |</pre>"
      ],
      "text/plain": [
       "| 160       | 43.09s        | 8.37712e+006   | 0               |"
      ]
     },
     "metadata": {},
     "output_type": "display_data"
    },
    {
     "data": {
      "text/html": [
       "<pre>| 170       | 45.60s        | 8.71356e+006   | 0               |</pre>"
      ],
      "text/plain": [
       "| 170       | 45.60s        | 8.71356e+006   | 0               |"
      ]
     },
     "metadata": {},
     "output_type": "display_data"
    },
    {
     "data": {
      "text/html": [
       "<pre>| 180       | 48.13s        | 8.36095e+006   | 0               |</pre>"
      ],
      "text/plain": [
       "| 180       | 48.13s        | 8.36095e+006   | 0               |"
      ]
     },
     "metadata": {},
     "output_type": "display_data"
    },
    {
     "data": {
      "text/html": [
       "<pre>| 190       | 50.64s        | 8.71352e+006   | 0               |</pre>"
      ],
      "text/plain": [
       "| 190       | 50.64s        | 8.71352e+006   | 0               |"
      ]
     },
     "metadata": {},
     "output_type": "display_data"
    },
    {
     "data": {
      "text/html": [
       "<pre>| 200       | 53.15s        | 8.94703e+006   | 0               |</pre>"
      ],
      "text/plain": [
       "| 200       | 53.15s        | 8.94703e+006   | 0               |"
      ]
     },
     "metadata": {},
     "output_type": "display_data"
    },
    {
     "data": {
      "text/html": [
       "<pre>| 210       | 55.69s        | 8.81979e+006   | 0               |</pre>"
      ],
      "text/plain": [
       "| 210       | 55.69s        | 8.81979e+006   | 0               |"
      ]
     },
     "metadata": {},
     "output_type": "display_data"
    },
    {
     "data": {
      "text/html": [
       "<pre>| 220       | 58.22s        | 8.67859e+006   | 0               |</pre>"
      ],
      "text/plain": [
       "| 220       | 58.22s        | 8.67859e+006   | 0               |"
      ]
     },
     "metadata": {},
     "output_type": "display_data"
    },
    {
     "data": {
      "text/html": [
       "<pre>| 230       | 1m 0s         | 8.64407e+006   | 0               |</pre>"
      ],
      "text/plain": [
       "| 230       | 1m 0s         | 8.64407e+006   | 0               |"
      ]
     },
     "metadata": {},
     "output_type": "display_data"
    },
    {
     "data": {
      "text/html": [
       "<pre>| 240       | 1m 3s         | 8.37708e+006   | 0               |</pre>"
      ],
      "text/plain": [
       "| 240       | 1m 3s         | 8.37708e+006   | 0               |"
      ]
     },
     "metadata": {},
     "output_type": "display_data"
    },
    {
     "data": {
      "text/html": [
       "<pre>| 250       | 1m 5s         | 8.64414e+006   | 0               |</pre>"
      ],
      "text/plain": [
       "| 250       | 1m 5s         | 8.64414e+006   | 0               |"
      ]
     },
     "metadata": {},
     "output_type": "display_data"
    },
    {
     "data": {
      "text/html": [
       "<pre>| 260       | 1m 8s         | 8.49186e+006   | 0               |</pre>"
      ],
      "text/plain": [
       "| 260       | 1m 8s         | 8.49186e+006   | 0               |"
      ]
     },
     "metadata": {},
     "output_type": "display_data"
    },
    {
     "data": {
      "text/html": [
       "<pre>| 270       | 1m 10s        | 8.87389e+006   | 0               |</pre>"
      ],
      "text/plain": [
       "| 270       | 1m 10s        | 8.87389e+006   | 0               |"
      ]
     },
     "metadata": {},
     "output_type": "display_data"
    },
    {
     "data": {
      "text/html": [
       "<pre>| 280       | 1m 13s        | 8.69607e+006   | 0               |</pre>"
      ],
      "text/plain": [
       "| 280       | 1m 13s        | 8.69607e+006   | 0               |"
      ]
     },
     "metadata": {},
     "output_type": "display_data"
    },
    {
     "data": {
      "text/html": [
       "<pre>| 290       | 1m 15s        | 8.71356e+006   | 0               |</pre>"
      ],
      "text/plain": [
       "| 290       | 1m 15s        | 8.71356e+006   | 0               |"
      ]
     },
     "metadata": {},
     "output_type": "display_data"
    },
    {
     "data": {
      "text/html": [
       "<pre>| 300       | 1m 18s        | 8.26546e+006   | 0               |</pre>"
      ],
      "text/plain": [
       "| 300       | 1m 18s        | 8.26546e+006   | 0               |"
      ]
     },
     "metadata": {},
     "output_type": "display_data"
    },
    {
     "data": {
      "text/html": [
       "<pre>| 310       | 1m 21s        | 7.38691e+006   | 0               |</pre>"
      ],
      "text/plain": [
       "| 310       | 1m 21s        | 7.38691e+006   | 0               |"
      ]
     },
     "metadata": {},
     "output_type": "display_data"
    },
    {
     "data": {
      "text/html": [
       "<pre>| 320       | 1m 23s        | 8.64373e+006   | 0               |</pre>"
      ],
      "text/plain": [
       "| 320       | 1m 23s        | 8.64373e+006   | 0               |"
      ]
     },
     "metadata": {},
     "output_type": "display_data"
    },
    {
     "data": {
      "text/html": [
       "<pre>| 330       | 1m 26s        | 8.54201e+006   | 0               |</pre>"
      ],
      "text/plain": [
       "| 330       | 1m 26s        | 8.54201e+006   | 0               |"
      ]
     },
     "metadata": {},
     "output_type": "display_data"
    },
    {
     "data": {
      "text/html": [
       "<pre>| 340       | 1m 28s        | 8.6441e+006    | 0               |</pre>"
      ],
      "text/plain": [
       "| 340       | 1m 28s        | 8.6441e+006    | 0               |"
      ]
     },
     "metadata": {},
     "output_type": "display_data"
    },
    {
     "data": {
      "text/html": [
       "<pre>| 350       | 1m 31s        | 8.83777e+006   | 0               |</pre>"
      ],
      "text/plain": [
       "| 350       | 1m 31s        | 8.83777e+006   | 0               |"
      ]
     },
     "metadata": {},
     "output_type": "display_data"
    },
    {
     "data": {
      "text/html": [
       "<pre>| 360       | 1m 34s        | 7.86114e+006   | 0               |</pre>"
      ],
      "text/plain": [
       "| 360       | 1m 34s        | 7.86114e+006   | 0               |"
      ]
     },
     "metadata": {},
     "output_type": "display_data"
    },
    {
     "data": {
      "text/html": [
       "<pre>| 370       | 1m 36s        | 7.91848e+006   | 0               |</pre>"
      ],
      "text/plain": [
       "| 370       | 1m 36s        | 7.91848e+006   | 0               |"
      ]
     },
     "metadata": {},
     "output_type": "display_data"
    },
    {
     "data": {
      "text/html": [
       "<pre>| 380       | 1m 39s        | 6.52533e+006   | 0               |</pre>"
      ],
      "text/plain": [
       "| 380       | 1m 39s        | 6.52533e+006   | 0               |"
      ]
     },
     "metadata": {},
     "output_type": "display_data"
    },
    {
     "data": {
      "text/html": [
       "<pre>| 390       | 1m 42s        | 8.81982e+006   | 0               |</pre>"
      ],
      "text/plain": [
       "| 390       | 1m 42s        | 8.81982e+006   | 0               |"
      ]
     },
     "metadata": {},
     "output_type": "display_data"
    },
    {
     "data": {
      "text/html": [
       "<pre>| 400       | 1m 45s        | 7.43018e+006   | 0               |</pre>"
      ],
      "text/plain": [
       "| 400       | 1m 45s        | 7.43018e+006   | 0               |"
      ]
     },
     "metadata": {},
     "output_type": "display_data"
    },
    {
     "data": {
      "text/html": [
       "<pre>| 410       | 1m 47s        | 9.00276e+006   | 0               |</pre>"
      ],
      "text/plain": [
       "| 410       | 1m 47s        | 9.00276e+006   | 0               |"
      ]
     },
     "metadata": {},
     "output_type": "display_data"
    },
    {
     "data": {
      "text/html": [
       "<pre>| 420       | 1m 50s        | 8.61665e+006   | 0               |</pre>"
      ],
      "text/plain": [
       "| 420       | 1m 50s        | 8.61665e+006   | 0               |"
      ]
     },
     "metadata": {},
     "output_type": "display_data"
    },
    {
     "data": {
      "text/html": [
       "<pre>| 430       | 1m 52s        | 9.07816e+006   | 0               |</pre>"
      ],
      "text/plain": [
       "| 430       | 1m 52s        | 9.07816e+006   | 0               |"
      ]
     },
     "metadata": {},
     "output_type": "display_data"
    },
    {
     "data": {
      "text/html": [
       "<pre>| 440       | 1m 55s        | 9.07808e+006   | 0               |</pre>"
      ],
      "text/plain": [
       "| 440       | 1m 55s        | 9.07808e+006   | 0               |"
      ]
     },
     "metadata": {},
     "output_type": "display_data"
    },
    {
     "data": {
      "text/html": [
       "<pre>| 450       | 1m 57s        | 9.11627e+006   | 0               |</pre>"
      ],
      "text/plain": [
       "| 450       | 1m 57s        | 9.11627e+006   | 0               |"
      ]
     },
     "metadata": {},
     "output_type": "display_data"
    },
    {
     "data": {
      "text/html": [
       "<pre>| 460       | 1m 59s        | 8.8905e+006    | 0               |</pre>"
      ],
      "text/plain": [
       "| 460       | 1m 59s        | 8.8905e+006    | 0               |"
      ]
     },
     "metadata": {},
     "output_type": "display_data"
    },
    {
     "data": {
      "text/html": [
       "<pre>| 470       | 2m 2s         | 8.42591e+006   | 0               |</pre>"
      ],
      "text/plain": [
       "| 470       | 2m 2s         | 8.42591e+006   | 0               |"
      ]
     },
     "metadata": {},
     "output_type": "display_data"
    },
    {
     "data": {
      "text/html": [
       "<pre>| 480       | 2m 4s         | 8.89207e+006   | 0               |</pre>"
      ],
      "text/plain": [
       "| 480       | 2m 4s         | 8.89207e+006   | 0               |"
      ]
     },
     "metadata": {},
     "output_type": "display_data"
    },
    {
     "data": {
      "text/html": [
       "<pre>| 490       | 2m 7s         | 9.07566e+006   | 0               |</pre>"
      ],
      "text/plain": [
       "| 490       | 2m 7s         | 9.07566e+006   | 0               |"
      ]
     },
     "metadata": {},
     "output_type": "display_data"
    },
    {
     "data": {
      "text/html": [
       "<pre>| 500       | 2m 9s         | 8.18747e+006   | 0               |</pre>"
      ],
      "text/plain": [
       "| 500       | 2m 9s         | 8.18747e+006   | 0               |"
      ]
     },
     "metadata": {},
     "output_type": "display_data"
    },
    {
     "data": {
      "text/html": [
       "<pre>| 510       | 2m 12s        | 8.71356e+006   | 0               |</pre>"
      ],
      "text/plain": [
       "| 510       | 2m 12s        | 8.71356e+006   | 0               |"
      ]
     },
     "metadata": {},
     "output_type": "display_data"
    },
    {
     "data": {
      "text/html": [
       "<pre>| 520       | 2m 15s        | 8.34488e+006   | 0               |</pre>"
      ],
      "text/plain": [
       "| 520       | 2m 15s        | 8.34488e+006   | 0               |"
      ]
     },
     "metadata": {},
     "output_type": "display_data"
    },
    {
     "data": {
      "text/html": [
       "<pre>| 530       | 2m 18s        | 8.94707e+006   | 0               |</pre>"
      ],
      "text/plain": [
       "| 530       | 2m 18s        | 8.94707e+006   | 0               |"
      ]
     },
     "metadata": {},
     "output_type": "display_data"
    },
    {
     "data": {
      "text/html": [
       "<pre>| 540       | 2m 20s        | 8.5085e+006    | 0               |</pre>"
      ],
      "text/plain": [
       "| 540       | 2m 20s        | 8.5085e+006    | 0               |"
      ]
     },
     "metadata": {},
     "output_type": "display_data"
    },
    {
     "data": {
      "text/html": [
       "<pre>| 550       | 2m 23s        | 8.96554e+006   | 0               |</pre>"
      ],
      "text/plain": [
       "| 550       | 2m 23s        | 8.96554e+006   | 0               |"
      ]
     },
     "metadata": {},
     "output_type": "display_data"
    },
    {
     "data": {
      "text/html": [
       "<pre>| 560       | 2m 26s        | 7.73503e+006   | 0               |</pre>"
      ],
      "text/plain": [
       "| 560       | 2m 26s        | 7.73503e+006   | 0               |"
      ]
     },
     "metadata": {},
     "output_type": "display_data"
    },
    {
     "data": {
      "text/html": [
       "<pre>| 570       | 2m 29s        | 7.62881e+006   | 0               |</pre>"
      ],
      "text/plain": [
       "| 570       | 2m 29s        | 7.62881e+006   | 0               |"
      ]
     },
     "metadata": {},
     "output_type": "display_data"
    },
    {
     "data": {
      "text/html": [
       "<pre>| 580       | 2m 31s        | 7.72124e+006   | 0               |</pre>"
      ],
      "text/plain": [
       "| 580       | 2m 31s        | 7.72124e+006   | 0               |"
      ]
     },
     "metadata": {},
     "output_type": "display_data"
    },
    {
     "data": {
      "text/html": [
       "<pre>| 590       | 2m 34s        | 7.79054e+006   | 0               |</pre>"
      ],
      "text/plain": [
       "| 590       | 2m 34s        | 7.79054e+006   | 0               |"
      ]
     },
     "metadata": {},
     "output_type": "display_data"
    },
    {
     "data": {
      "text/html": [
       "<pre>| 600       | 2m 37s        | 7.66669e+006   | 0               |</pre>"
      ],
      "text/plain": [
       "| 600       | 2m 37s        | 7.66669e+006   | 0               |"
      ]
     },
     "metadata": {},
     "output_type": "display_data"
    },
    {
     "data": {
      "text/html": [
       "<pre>| 610       | 2m 39s        | 9.04581e+006   | 0               |</pre>"
      ],
      "text/plain": [
       "| 610       | 2m 39s        | 9.04581e+006   | 0               |"
      ]
     },
     "metadata": {},
     "output_type": "display_data"
    },
    {
     "data": {
      "text/html": [
       "<pre>| 620       | 2m 42s        | 8.94707e+006   | 0               |</pre>"
      ],
      "text/plain": [
       "| 620       | 2m 42s        | 8.94707e+006   | 0               |"
      ]
     },
     "metadata": {},
     "output_type": "display_data"
    },
    {
     "data": {
      "text/html": [
       "<pre>| 630       | 2m 44s        | 9.09718e+006   | 0               |</pre>"
      ],
      "text/plain": [
       "| 630       | 2m 44s        | 9.09718e+006   | 0               |"
      ]
     },
     "metadata": {},
     "output_type": "display_data"
    },
    {
     "data": {
      "text/html": [
       "<pre>| 640       | 2m 47s        | 8.81971e+006   | 0               |</pre>"
      ],
      "text/plain": [
       "| 640       | 2m 47s        | 8.81971e+006   | 0               |"
      ]
     },
     "metadata": {},
     "output_type": "display_data"
    },
    {
     "data": {
      "text/html": [
       "<pre>| 650       | 2m 49s        | 9.07808e+006   | 0               |</pre>"
      ],
      "text/plain": [
       "| 650       | 2m 49s        | 9.07808e+006   | 0               |"
      ]
     },
     "metadata": {},
     "output_type": "display_data"
    },
    {
     "data": {
      "text/html": [
       "<pre>| 660       | 2m 52s        | 9.04028e+006   | 0               |</pre>"
      ],
      "text/plain": [
       "| 660       | 2m 52s        | 9.04028e+006   | 0               |"
      ]
     },
     "metadata": {},
     "output_type": "display_data"
    },
    {
     "data": {
      "text/html": [
       "<pre>| 670       | 2m 54s        | 8.8558e+006    | 0               |</pre>"
      ],
      "text/plain": [
       "| 670       | 2m 54s        | 8.8558e+006    | 0               |"
      ]
     },
     "metadata": {},
     "output_type": "display_data"
    },
    {
     "data": {
      "text/html": [
       "<pre>| 680       | 2m 56s        | 8.98435e+006   | 0               |</pre>"
      ],
      "text/plain": [
       "| 680       | 2m 56s        | 8.98435e+006   | 0               |"
      ]
     },
     "metadata": {},
     "output_type": "display_data"
    },
    {
     "data": {
      "text/html": [
       "<pre>| 690       | 2m 59s        | 8.6441e+006    | 0               |</pre>"
      ],
      "text/plain": [
       "| 690       | 2m 59s        | 8.6441e+006    | 0               |"
      ]
     },
     "metadata": {},
     "output_type": "display_data"
    },
    {
     "data": {
      "text/html": [
       "<pre>| 700       | 3m 1s         | 8.95631e+006   | 0               |</pre>"
      ],
      "text/plain": [
       "| 700       | 3m 1s         | 8.95631e+006   | 0               |"
      ]
     },
     "metadata": {},
     "output_type": "display_data"
    },
    {
     "data": {
      "text/html": [
       "<pre>| 710       | 3m 4s         | 8.8558e+006    | 0               |</pre>"
      ],
      "text/plain": [
       "| 710       | 3m 4s         | 8.8558e+006    | 0               |"
      ]
     },
     "metadata": {},
     "output_type": "display_data"
    },
    {
     "data": {
      "text/html": [
       "<pre>| 720       | 3m 6s         | 9.3319e+006    | 0               |</pre>"
      ],
      "text/plain": [
       "| 720       | 3m 6s         | 9.3319e+006    | 0               |"
      ]
     },
     "metadata": {},
     "output_type": "display_data"
    },
    {
     "data": {
      "text/html": [
       "<pre>| 730       | 3m 9s         | 7.97673e+006   | 0               |</pre>"
      ],
      "text/plain": [
       "| 730       | 3m 9s         | 7.97673e+006   | 0               |"
      ]
     },
     "metadata": {},
     "output_type": "display_data"
    },
    {
     "data": {
      "text/html": [
       "<pre>| 740       | 3m 11s        | 8.98413e+006   | 0               |</pre>"
      ],
      "text/plain": [
       "| 740       | 3m 11s        | 8.98413e+006   | 0               |"
      ]
     },
     "metadata": {},
     "output_type": "display_data"
    },
    {
     "data": {
      "text/html": [
       "<pre>| 750       | 3m 14s        | 8.69607e+006   | 0               |</pre>"
      ],
      "text/plain": [
       "| 750       | 3m 14s        | 8.69607e+006   | 0               |"
      ]
     },
     "metadata": {},
     "output_type": "display_data"
    },
    {
     "data": {
      "text/html": [
       "<pre>| 760       | 3m 16s        | 8.94707e+006   | 0               |</pre>"
      ],
      "text/plain": [
       "| 760       | 3m 16s        | 8.94707e+006   | 0               |"
      ]
     },
     "metadata": {},
     "output_type": "display_data"
    },
    {
     "data": {
      "text/html": [
       "<pre>| 770       | 3m 18s        | 9.11624e+006   | 0               |</pre>"
      ],
      "text/plain": [
       "| 770       | 3m 18s        | 9.11624e+006   | 0               |"
      ]
     },
     "metadata": {},
     "output_type": "display_data"
    },
    {
     "data": {
      "text/html": [
       "<pre>| 780       | 3m 21s        | 8.70484e+006   | 0               |</pre>"
      ],
      "text/plain": [
       "| 780       | 3m 21s        | 8.70484e+006   | 0               |"
      ]
     },
     "metadata": {},
     "output_type": "display_data"
    },
    {
     "data": {
      "text/html": [
       "<pre>| 790       | 3m 24s        | 8.29695e+006   | 0               |</pre>"
      ],
      "text/plain": [
       "| 790       | 3m 24s        | 8.29695e+006   | 0               |"
      ]
     },
     "metadata": {},
     "output_type": "display_data"
    },
    {
     "data": {
      "text/html": [
       "<pre>| 800       | 3m 26s        | 8.94711e+006   | 0               |</pre>"
      ],
      "text/plain": [
       "| 800       | 3m 26s        | 8.94711e+006   | 0               |"
      ]
     },
     "metadata": {},
     "output_type": "display_data"
    },
    {
     "data": {
      "text/html": [
       "<pre>| 810       | 3m 29s        | 8.74867e+006   | 0               |</pre>"
      ],
      "text/plain": [
       "| 810       | 3m 29s        | 8.74867e+006   | 0               |"
      ]
     },
     "metadata": {},
     "output_type": "display_data"
    },
    {
     "data": {
      "text/html": [
       "<pre>| 820       | 3m 32s        | 6.06052e+006   | 0               |</pre>"
      ],
      "text/plain": [
       "| 820       | 3m 32s        | 6.06052e+006   | 0               |"
      ]
     },
     "metadata": {},
     "output_type": "display_data"
    },
    {
     "data": {
      "text/html": [
       "<pre>| 830       | 3m 34s        | 9.00276e+006   | 0               |</pre>"
      ],
      "text/plain": [
       "| 830       | 3m 34s        | 9.00276e+006   | 0               |"
      ]
     },
     "metadata": {},
     "output_type": "display_data"
    },
    {
     "data": {
      "text/html": [
       "<pre>| 840       | 3m 37s        | 6.92077e+006   | 0               |</pre>"
      ],
      "text/plain": [
       "| 840       | 3m 37s        | 6.92077e+006   | 0               |"
      ]
     },
     "metadata": {},
     "output_type": "display_data"
    },
    {
     "data": {
      "text/html": [
       "<pre>| 850       | 3m 41s        | 6.23471e+006   | 0               |</pre>"
      ],
      "text/plain": [
       "| 850       | 3m 41s        | 6.23471e+006   | 0               |"
      ]
     },
     "metadata": {},
     "output_type": "display_data"
    },
    {
     "data": {
      "text/html": [
       "<pre>| 860       | 3m 44s        | 5.87189e+006   | 0               |</pre>"
      ],
      "text/plain": [
       "| 860       | 3m 44s        | 5.87189e+006   | 0               |"
      ]
     },
     "metadata": {},
     "output_type": "display_data"
    },
    {
     "data": {
      "text/html": [
       "<pre>| 870       | 3m 47s        | 8.78407e+006   | 0               |</pre>"
      ],
      "text/plain": [
       "| 870       | 3m 47s        | 8.78407e+006   | 0               |"
      ]
     },
     "metadata": {},
     "output_type": "display_data"
    },
    {
     "data": {
      "text/html": [
       "<pre>| 880       | 3m 50s        | 7.07598e+006   | 0               |</pre>"
      ],
      "text/plain": [
       "| 880       | 3m 50s        | 7.07598e+006   | 0               |"
      ]
     },
     "metadata": {},
     "output_type": "display_data"
    },
    {
     "data": {
      "text/html": [
       "<pre>| 890       | 3m 53s        | 6.63507e+006   | 0               |</pre>"
      ],
      "text/plain": [
       "| 890       | 3m 53s        | 6.63507e+006   | 0               |"
      ]
     },
     "metadata": {},
     "output_type": "display_data"
    },
    {
     "data": {
      "text/html": [
       "<pre>| 900       | 3m 56s        | 8.60979e+006   | 0               |</pre>"
      ],
      "text/plain": [
       "| 900       | 3m 56s        | 8.60979e+006   | 0               |"
      ]
     },
     "metadata": {},
     "output_type": "display_data"
    },
    {
     "data": {
      "text/html": [
       "<pre>| 910       | 4m 0s         | 5.39718e+006   | 0               |</pre>"
      ],
      "text/plain": [
       "| 910       | 4m 0s         | 5.39718e+006   | 0               |"
      ]
     },
     "metadata": {},
     "output_type": "display_data"
    },
    {
     "data": {
      "text/html": [
       "<pre>| 920       | 4m 3s         | 5.5067e+006    | 0               |</pre>"
      ],
      "text/plain": [
       "| 920       | 4m 3s         | 5.5067e+006    | 0               |"
      ]
     },
     "metadata": {},
     "output_type": "display_data"
    },
    {
     "data": {
      "text/html": [
       "<pre>| 930       | 4m 7s         | 5.89581e+006   | 0               |</pre>"
      ],
      "text/plain": [
       "| 930       | 4m 7s         | 5.89581e+006   | 0               |"
      ]
     },
     "metadata": {},
     "output_type": "display_data"
    },
    {
     "data": {
      "text/html": [
       "<pre>| 940       | 4m 10s        | 5.84027e+006   | 0               |</pre>"
      ],
      "text/plain": [
       "| 940       | 4m 10s        | 5.84027e+006   | 0               |"
      ]
     },
     "metadata": {},
     "output_type": "display_data"
    },
    {
     "data": {
      "text/html": [
       "<pre>| 950       | 4m 14s        | 8.2654e+006    | 0               |</pre>"
      ],
      "text/plain": [
       "| 950       | 4m 14s        | 8.2654e+006    | 0               |"
      ]
     },
     "metadata": {},
     "output_type": "display_data"
    },
    {
     "data": {
      "text/html": [
       "<pre>| 960       | 4m 16s        | 8.14136e+006   | 0               |</pre>"
      ],
      "text/plain": [
       "| 960       | 4m 16s        | 8.14136e+006   | 0               |"
      ]
     },
     "metadata": {},
     "output_type": "display_data"
    },
    {
     "data": {
      "text/html": [
       "<pre>| 970       | 4m 19s        | 8.32888e+006   | 0               |</pre>"
      ],
      "text/plain": [
       "| 970       | 4m 19s        | 8.32888e+006   | 0               |"
      ]
     },
     "metadata": {},
     "output_type": "display_data"
    },
    {
     "data": {
      "text/html": [
       "<pre>| 980       | 4m 22s        | 7.9621e+006    | 0               |</pre>"
      ],
      "text/plain": [
       "| 980       | 4m 22s        | 7.9621e+006    | 0               |"
      ]
     },
     "metadata": {},
     "output_type": "display_data"
    },
    {
     "data": {
      "text/html": [
       "<pre>| 990       | 4m 25s        | 5.11114e+006   | 0               |</pre>"
      ],
      "text/plain": [
       "| 990       | 4m 25s        | 5.11114e+006   | 0               |"
      ]
     },
     "metadata": {},
     "output_type": "display_data"
    },
    {
     "data": {
      "text/html": [
       "<pre>| 1000      | 4m 27s        | 7.36727e+006   | 0               |</pre>"
      ],
      "text/plain": [
       "| 1000      | 4m 27s        | 7.36727e+006   | 0               |"
      ]
     },
     "metadata": {},
     "output_type": "display_data"
    },
    {
     "data": {
      "text/html": [
       "<pre>| 1010      | 4m 31s        | 6.84436e+006   | 0               |</pre>"
      ],
      "text/plain": [
       "| 1010      | 4m 31s        | 6.84436e+006   | 0               |"
      ]
     },
     "metadata": {},
     "output_type": "display_data"
    },
    {
     "data": {
      "text/html": [
       "<pre>| 1020      | 4m 33s        | 8.47525e+006   | 0               |</pre>"
      ],
      "text/plain": [
       "| 1020      | 4m 33s        | 8.47525e+006   | 0               |"
      ]
     },
     "metadata": {},
     "output_type": "display_data"
    },
    {
     "data": {
      "text/html": [
       "<pre>| 1030      | 4m 36s        | 7.72127e+006   | 0               |</pre>"
      ],
      "text/plain": [
       "| 1030      | 4m 36s        | 7.72127e+006   | 0               |"
      ]
     },
     "metadata": {},
     "output_type": "display_data"
    },
    {
     "data": {
      "text/html": [
       "<pre>| 1040      | 4m 39s        | 7.69059e+006   | 0               |</pre>"
      ],
      "text/plain": [
       "| 1040      | 4m 39s        | 7.69059e+006   | 0               |"
      ]
     },
     "metadata": {},
     "output_type": "display_data"
    },
    {
     "data": {
      "text/html": [
       "<pre>| 1050      | 4m 42s        | 8.66135e+006   | 0               |</pre>"
      ],
      "text/plain": [
       "| 1050      | 4m 42s        | 8.66135e+006   | 0               |"
      ]
     },
     "metadata": {},
     "output_type": "display_data"
    },
    {
     "data": {
      "text/html": [
       "<pre>| 1060      | 4m 45s        | 7.52052e+006   | 0               |</pre>"
      ],
      "text/plain": [
       "| 1060      | 4m 45s        | 7.52052e+006   | 0               |"
      ]
     },
     "metadata": {},
     "output_type": "display_data"
    },
    {
     "data": {
      "text/html": [
       "<pre>| 1070      | 4m 47s        | 8.05073e+006   | 0               |</pre>"
      ],
      "text/plain": [
       "| 1070      | 4m 47s        | 8.05073e+006   | 0               |"
      ]
     },
     "metadata": {},
     "output_type": "display_data"
    },
    {
     "data": {
      "text/html": [
       "<pre>| 1080      | 4m 50s        | 5.38379e+006   | 0               |</pre>"
      ],
      "text/plain": [
       "| 1080      | 4m 50s        | 5.38379e+006   | 0               |"
      ]
     },
     "metadata": {},
     "output_type": "display_data"
    },
    {
     "data": {
      "text/html": [
       "<pre>| 1090      | 4m 53s        | 8.2654e+006    | 0               |</pre>"
      ],
      "text/plain": [
       "| 1090      | 4m 53s        | 8.2654e+006    | 0               |"
      ]
     },
     "metadata": {},
     "output_type": "display_data"
    },
    {
     "data": {
      "text/html": [
       "<pre>| 1100      | 4m 56s        | 7.90404e+006   | 0               |</pre>"
      ],
      "text/plain": [
       "| 1100      | 4m 56s        | 7.90404e+006   | 0               |"
      ]
     },
     "metadata": {},
     "output_type": "display_data"
    },
    {
     "data": {
      "text/html": [
       "<pre>| 1110      | 4m 58s        | 7.9767e+006    | 0               |</pre>"
      ],
      "text/plain": [
       "| 1110      | 4m 58s        | 7.9767e+006    | 0               |"
      ]
     },
     "metadata": {},
     "output_type": "display_data"
    },
    {
     "data": {
      "text/html": [
       "<pre>| 1120      | 5m 1s         | 7.61292e+006   | 0               |</pre>"
      ],
      "text/plain": [
       "| 1120      | 5m 1s         | 7.61292e+006   | 0               |"
      ]
     },
     "metadata": {},
     "output_type": "display_data"
    },
    {
     "data": {
      "text/html": [
       "<pre>| 1130      | 5m 4s         | 8.28116e+006   | 0               |</pre>"
      ],
      "text/plain": [
       "| 1130      | 5m 4s         | 8.28116e+006   | 0               |"
      ]
     },
     "metadata": {},
     "output_type": "display_data"
    },
    {
     "data": {
      "text/html": [
       "<pre>| 1140      | 5m 7s         | 6.67589e+006   | 0               |</pre>"
      ],
      "text/plain": [
       "| 1140      | 5m 7s         | 6.67589e+006   | 0               |"
      ]
     },
     "metadata": {},
     "output_type": "display_data"
    },
    {
     "data": {
      "text/html": [
       "<pre>| 1150      | 5m 10s        | 8.28113e+006   | 0               |</pre>"
      ],
      "text/plain": [
       "| 1150      | 5m 10s        | 8.28113e+006   | 0               |"
      ]
     },
     "metadata": {},
     "output_type": "display_data"
    },
    {
     "data": {
      "text/html": [
       "<pre>| 1160      | 5m 13s        | 7.14883e+006   | 0               |</pre>"
      ],
      "text/plain": [
       "| 1160      | 5m 13s        | 7.14883e+006   | 0               |"
      ]
     },
     "metadata": {},
     "output_type": "display_data"
    },
    {
     "data": {
      "text/html": [
       "<pre>| 1170      | 5m 16s        | 8.26537e+006   | 0               |</pre>"
      ],
      "text/plain": [
       "| 1170      | 5m 16s        | 8.26537e+006   | 0               |"
      ]
     },
     "metadata": {},
     "output_type": "display_data"
    },
    {
     "data": {
      "text/html": [
       "<pre>| 1180      | 5m 19s        | 7.8754e+006    | 0               |</pre>"
      ],
      "text/plain": [
       "| 1180      | 5m 19s        | 7.8754e+006    | 0               |"
      ]
     },
     "metadata": {},
     "output_type": "display_data"
    },
    {
     "data": {
      "text/html": [
       "<pre>| 1190      | 5m 22s        | 7.99144e+006   | 0               |</pre>"
      ],
      "text/plain": [
       "| 1190      | 5m 22s        | 7.99144e+006   | 0               |"
      ]
     },
     "metadata": {},
     "output_type": "display_data"
    },
    {
     "data": {
      "text/html": [
       "<pre>| 1200      | 5m 25s        | 7.43041e+006   | 0               |</pre>"
      ],
      "text/plain": [
       "| 1200      | 5m 25s        | 7.43041e+006   | 0               |"
      ]
     },
     "metadata": {},
     "output_type": "display_data"
    },
    {
     "data": {
      "text/html": [
       "<pre>| 1210      | 5m 27s        | 8.14136e+006   | 0               |</pre>"
      ],
      "text/plain": [
       "| 1210      | 5m 27s        | 8.14136e+006   | 0               |"
      ]
     },
     "metadata": {},
     "output_type": "display_data"
    },
    {
     "data": {
      "text/html": [
       "<pre>| 1220      | 5m 30s        | 8.08058e+006   | 0               |</pre>"
      ],
      "text/plain": [
       "| 1220      | 5m 30s        | 8.08058e+006   | 0               |"
      ]
     },
     "metadata": {},
     "output_type": "display_data"
    },
    {
     "data": {
      "text/html": [
       "<pre>| 1230      | 5m 33s        | 8.15665e+006   | 0               |</pre>"
      ],
      "text/plain": [
       "| 1230      | 5m 33s        | 8.15665e+006   | 0               |"
      ]
     },
     "metadata": {},
     "output_type": "display_data"
    },
    {
     "data": {
      "text/html": [
       "<pre>| 1240      | 5m 36s        | 7.58624e+006   | 0               |</pre>"
      ],
      "text/plain": [
       "| 1240      | 5m 36s        | 7.58624e+006   | 0               |"
      ]
     },
     "metadata": {},
     "output_type": "display_data"
    },
    {
     "data": {
      "text/html": [
       "<pre>| 1250      | 5m 39s        | 7.53357e+006   | 0               |</pre>"
      ],
      "text/plain": [
       "| 1250      | 5m 39s        | 7.53357e+006   | 0               |"
      ]
     },
     "metadata": {},
     "output_type": "display_data"
    },
    {
     "data": {
      "text/html": [
       "<pre>| 1260      | 5m 42s        | 7.34238e+006   | 0               |</pre>"
      ],
      "text/plain": [
       "| 1260      | 5m 42s        | 7.34238e+006   | 0               |"
      ]
     },
     "metadata": {},
     "output_type": "display_data"
    },
    {
     "data": {
      "text/html": [
       "<pre>| 1270      | 5m 45s        | 7.62626e+006   | 0               |</pre>"
      ],
      "text/plain": [
       "| 1270      | 5m 45s        | 7.62626e+006   | 0               |"
      ]
     },
     "metadata": {},
     "output_type": "display_data"
    },
    {
     "data": {
      "text/html": [
       "<pre>| 1280      | 5m 47s        | 7.96207e+006   | 0               |</pre>"
      ],
      "text/plain": [
       "| 1280      | 5m 47s        | 7.96207e+006   | 0               |"
      ]
     },
     "metadata": {},
     "output_type": "display_data"
    },
    {
     "data": {
      "text/html": [
       "<pre>| 1290      | 5m 50s        | 8.29702e+006   | 0               |</pre>"
      ],
      "text/plain": [
       "| 1290      | 5m 50s        | 8.29702e+006   | 0               |"
      ]
     },
     "metadata": {},
     "output_type": "display_data"
    },
    {
     "data": {
      "text/html": [
       "<pre>| 1300      | 5m 53s        | 7.99144e+006   | 0               |</pre>"
      ],
      "text/plain": [
       "| 1300      | 5m 53s        | 7.99144e+006   | 0               |"
      ]
     },
     "metadata": {},
     "output_type": "display_data"
    },
    {
     "data": {
      "text/html": [
       "<pre>| 1310      | 5m 56s        | 8.20288e+006   | 0               |</pre>"
      ],
      "text/plain": [
       "| 1310      | 5m 56s        | 8.20288e+006   | 0               |"
      ]
     },
     "metadata": {},
     "output_type": "display_data"
    },
    {
     "data": {
      "text/html": [
       "<pre>| 1320      | 5m 58s        | 7.09042e+006   | 0               |</pre>"
      ],
      "text/plain": [
       "| 1320      | 5m 58s        | 7.09042e+006   | 0               |"
      ]
     },
     "metadata": {},
     "output_type": "display_data"
    },
    {
     "data": {
      "text/html": [
       "<pre>| 1330      | 6m 1s         | 4.9423e+006    | 0               |</pre>"
      ],
      "text/plain": [
       "| 1330      | 6m 1s         | 4.9423e+006    | 0               |"
      ]
     },
     "metadata": {},
     "output_type": "display_data"
    },
    {
     "data": {
      "text/html": [
       "<pre>| 1340      | 6m 5s         | 5.59194e+006   | 0               |</pre>"
      ],
      "text/plain": [
       "| 1340      | 6m 5s         | 5.59194e+006   | 0               |"
      ]
     },
     "metadata": {},
     "output_type": "display_data"
    },
    {
     "data": {
      "text/html": [
       "<pre>| 1350      | 6m 10s        | 5.56324e+006   | 0               |</pre>"
      ],
      "text/plain": [
       "| 1350      | 6m 10s        | 5.56324e+006   | 0               |"
      ]
     },
     "metadata": {},
     "output_type": "display_data"
    },
    {
     "data": {
      "text/html": [
       "<pre>| 1360      | 6m 14s        | 4.94228e+006   | 0               |</pre>"
      ],
      "text/plain": [
       "| 1360      | 6m 14s        | 4.94228e+006   | 0               |"
      ]
     },
     "metadata": {},
     "output_type": "display_data"
    },
    {
     "data": {
      "text/html": [
       "<pre>| 1370      | 6m 18s        | 7.04434e+006   | 0               |</pre>"
      ],
      "text/plain": [
       "| 1370      | 6m 18s        | 7.04434e+006   | 0               |"
      ]
     },
     "metadata": {},
     "output_type": "display_data"
    },
    {
     "data": {
      "text/html": [
       "<pre>| 1380      | 6m 21s        | 7.76271e+006   | 0               |</pre>"
      ],
      "text/plain": [
       "| 1380      | 6m 21s        | 7.76271e+006   | 0               |"
      ]
     },
     "metadata": {},
     "output_type": "display_data"
    },
    {
     "data": {
      "text/html": [
       "<pre>| 1390      | 6m 24s        | 7.58624e+006   | 0               |</pre>"
      ],
      "text/plain": [
       "| 1390      | 6m 24s        | 7.58624e+006   | 0               |"
      ]
     },
     "metadata": {},
     "output_type": "display_data"
    },
    {
     "data": {
      "text/html": [
       "<pre>| 1400      | 6m 27s        | 8.11092e+006   | 0               |</pre>"
      ],
      "text/plain": [
       "| 1400      | 6m 27s        | 8.11092e+006   | 0               |"
      ]
     },
     "metadata": {},
     "output_type": "display_data"
    },
    {
     "data": {
      "text/html": [
       "<pre>| 1410      | 6m 30s        | 7.97673e+006   | 0               |</pre>"
      ],
      "text/plain": [
       "| 1410      | 6m 30s        | 7.97673e+006   | 0               |"
      ]
     },
     "metadata": {},
     "output_type": "display_data"
    },
    {
     "data": {
      "text/html": [
       "<pre>| 1420      | 6m 32s        | 8.2654e+006    | 0               |</pre>"
      ],
      "text/plain": [
       "| 1420      | 6m 32s        | 8.2654e+006    | 0               |"
      ]
     },
     "metadata": {},
     "output_type": "display_data"
    },
    {
     "data": {
      "text/html": [
       "<pre>| 1430      | 6m 35s        | 8.3129e+006    | 0               |</pre>"
      ],
      "text/plain": [
       "| 1430      | 6m 35s        | 8.3129e+006    | 0               |"
      ]
     },
     "metadata": {},
     "output_type": "display_data"
    },
    {
     "data": {
      "text/html": [
       "<pre>| 1440      | 6m 38s        | 8.39328e+006   | 0               |</pre>"
      ],
      "text/plain": [
       "| 1440      | 6m 38s        | 8.39328e+006   | 0               |"
      ]
     },
     "metadata": {},
     "output_type": "display_data"
    },
    {
     "data": {
      "text/html": [
       "<pre>| 1450      | 6m 40s        | 8.23393e+006   | 0               |</pre>"
      ],
      "text/plain": [
       "| 1450      | 6m 40s        | 8.23393e+006   | 0               |"
      ]
     },
     "metadata": {},
     "output_type": "display_data"
    },
    {
     "data": {
      "text/html": [
       "<pre>| 1460      | 6m 43s        | 8.14127e+006   | 0               |</pre>"
      ],
      "text/plain": [
       "| 1460      | 6m 43s        | 8.14127e+006   | 0               |"
      ]
     },
     "metadata": {},
     "output_type": "display_data"
    },
    {
     "data": {
      "text/html": [
       "<pre>| 1470      | 6m 46s        | 8.172e+006     | 0               |</pre>"
      ],
      "text/plain": [
       "| 1470      | 6m 46s        | 8.172e+006     | 0               |"
      ]
     },
     "metadata": {},
     "output_type": "display_data"
    },
    {
     "data": {
      "text/html": [
       "<pre>| 1480      | 6m 49s        | 8.34488e+006   | 0               |</pre>"
      ],
      "text/plain": [
       "| 1480      | 6m 49s        | 8.34488e+006   | 0               |"
      ]
     },
     "metadata": {},
     "output_type": "display_data"
    },
    {
     "data": {
      "text/html": [
       "<pre>| 1490      | 6m 51s        | 8.34488e+006   | 0               |</pre>"
      ],
      "text/plain": [
       "| 1490      | 6m 51s        | 8.34488e+006   | 0               |"
      ]
     },
     "metadata": {},
     "output_type": "display_data"
    },
    {
     "data": {
      "text/html": [
       "<pre>| 1500      | 6m 54s        | 8.5085e+006    | 0               |</pre>"
      ],
      "text/plain": [
       "| 1500      | 6m 54s        | 8.5085e+006    | 0               |"
      ]
     },
     "metadata": {},
     "output_type": "display_data"
    },
    {
     "data": {
      "text/html": [
       "<pre>| 1510      | 6m 57s        | 7.735e+006     | 0               |</pre>"
      ],
      "text/plain": [
       "| 1510      | 6m 57s        | 7.735e+006     | 0               |"
      ]
     },
     "metadata": {},
     "output_type": "display_data"
    },
    {
     "data": {
      "text/html": [
       "<pre>| 1520      | 6m 59s        | 8.36092e+006   | 0               |</pre>"
      ],
      "text/plain": [
       "| 1520      | 6m 59s        | 8.36092e+006   | 0               |"
      ]
     },
     "metadata": {},
     "output_type": "display_data"
    },
    {
     "data": {
      "text/html": [
       "<pre>| 1530      | 7m 2s         | 8.32891e+006   | 0               |</pre>"
      ],
      "text/plain": [
       "| 1530      | 7m 2s         | 8.32891e+006   | 0               |"
      ]
     },
     "metadata": {},
     "output_type": "display_data"
    },
    {
     "data": {
      "text/html": [
       "<pre>| 1540      | 7m 5s         | 8.29705e+006   | 0               |</pre>"
      ],
      "text/plain": [
       "| 1540      | 7m 5s         | 8.29705e+006   | 0               |"
      ]
     },
     "metadata": {},
     "output_type": "display_data"
    },
    {
     "data": {
      "text/html": [
       "<pre>| 1550      | 7m 7s         | 8.20288e+006   | 0               |</pre>"
      ],
      "text/plain": [
       "| 1550      | 7m 7s         | 8.20288e+006   | 0               |"
      ]
     },
     "metadata": {},
     "output_type": "display_data"
    },
    {
     "data": {
      "text/html": [
       "<pre>| 1560      | 7m 10s        | 8.18738e+006   | 0               |</pre>"
      ],
      "text/plain": [
       "| 1560      | 7m 10s        | 8.18738e+006   | 0               |"
      ]
     },
     "metadata": {},
     "output_type": "display_data"
    },
    {
     "data": {
      "text/html": [
       "<pre>| 1570      | 7m 13s        | 7.83272e+006   | 0               |</pre>"
      ],
      "text/plain": [
       "| 1570      | 7m 13s        | 7.83272e+006   | 0               |"
      ]
     },
     "metadata": {},
     "output_type": "display_data"
    },
    {
     "data": {
      "text/html": [
       "<pre>| 1580      | 7m 15s        | 8.09579e+006   | 0               |</pre>"
      ],
      "text/plain": [
       "| 1580      | 7m 15s        | 8.09579e+006   | 0               |"
      ]
     },
     "metadata": {},
     "output_type": "display_data"
    },
    {
     "data": {
      "text/html": [
       "<pre>| 1590      | 7m 18s        | 8.14136e+006   | 0               |</pre>"
      ],
      "text/plain": [
       "| 1590      | 7m 18s        | 8.14136e+006   | 0               |"
      ]
     },
     "metadata": {},
     "output_type": "display_data"
    },
    {
     "data": {
      "text/html": [
       "<pre>| 1600      | 7m 21s        | 8.24963e+006   | 0               |</pre>"
      ],
      "text/plain": [
       "| 1600      | 7m 21s        | 8.24963e+006   | 0               |"
      ]
     },
     "metadata": {},
     "output_type": "display_data"
    },
    {
     "data": {
      "text/html": [
       "<pre>| 1610      | 7m 23s        | 8.20291e+006   | 0               |</pre>"
      ],
      "text/plain": [
       "| 1610      | 7m 23s        | 8.20291e+006   | 0               |"
      ]
     },
     "metadata": {},
     "output_type": "display_data"
    },
    {
     "data": {
      "text/html": [
       "<pre>| 1620      | 7m 26s        | 7.97673e+006   | 0               |</pre>"
      ],
      "text/plain": [
       "| 1620      | 7m 26s        | 7.97673e+006   | 0               |"
      ]
     },
     "metadata": {},
     "output_type": "display_data"
    },
    {
     "data": {
      "text/html": [
       "<pre>| 1630      | 7m 29s        | 8.21847e+006   | 0               |</pre>"
      ],
      "text/plain": [
       "| 1630      | 7m 29s        | 8.21847e+006   | 0               |"
      ]
     },
     "metadata": {},
     "output_type": "display_data"
    },
    {
     "data": {
      "text/html": [
       "<pre>| 1640      | 7m 32s        | 7.06734e+006   | 0               |</pre>"
      ],
      "text/plain": [
       "| 1640      | 7m 32s        | 7.06734e+006   | 0               |"
      ]
     },
     "metadata": {},
     "output_type": "display_data"
    },
    {
     "data": {
      "text/html": [
       "<pre>| 1650      | 7m 35s        | 8.36098e+006   | 0               |</pre>"
      ],
      "text/plain": [
       "| 1650      | 7m 35s        | 8.36098e+006   | 0               |"
      ]
     },
     "metadata": {},
     "output_type": "display_data"
    },
    {
     "data": {
      "text/html": [
       "<pre>| 1660      | 7m 38s        | 8.55885e+006   | 0               |</pre>"
      ],
      "text/plain": [
       "| 1660      | 7m 38s        | 8.55885e+006   | 0               |"
      ]
     },
     "metadata": {},
     "output_type": "display_data"
    },
    {
     "data": {
      "text/html": [
       "<pre>| 1670      | 7m 40s        | 8.36095e+006   | 0               |</pre>"
      ],
      "text/plain": [
       "| 1670      | 7m 40s        | 8.36095e+006   | 0               |"
      ]
     },
     "metadata": {},
     "output_type": "display_data"
    },
    {
     "data": {
      "text/html": [
       "<pre>| 1680      | 7m 43s        | 8.00617e+006   | 0               |</pre>"
      ],
      "text/plain": [
       "| 1680      | 7m 43s        | 8.00617e+006   | 0               |"
      ]
     },
     "metadata": {},
     "output_type": "display_data"
    },
    {
     "data": {
      "text/html": [
       "<pre>| 1690      | 7m 45s        | 8.49186e+006   | 0               |</pre>"
      ],
      "text/plain": [
       "| 1690      | 7m 45s        | 8.49186e+006   | 0               |"
      ]
     },
     "metadata": {},
     "output_type": "display_data"
    },
    {
     "data": {
      "text/html": [
       "<pre>| 1700      | 7m 48s        | 8.18747e+006   | 0               |</pre>"
      ],
      "text/plain": [
       "| 1700      | 7m 48s        | 8.18747e+006   | 0               |"
      ]
     },
     "metadata": {},
     "output_type": "display_data"
    },
    {
     "data": {
      "text/html": [
       "<pre>| 1710      | 7m 51s        | 8.85572e+006   | 0               |</pre>"
      ],
      "text/plain": [
       "| 1710      | 7m 51s        | 8.85572e+006   | 0               |"
      ]
     },
     "metadata": {},
     "output_type": "display_data"
    },
    {
     "data": {
      "text/html": [
       "<pre>| 1720      | 7m 53s        | 8.5085e+006    | 0               |</pre>"
      ],
      "text/plain": [
       "| 1720      | 7m 53s        | 8.5085e+006    | 0               |"
      ]
     },
     "metadata": {},
     "output_type": "display_data"
    },
    {
     "data": {
      "text/html": [
       "<pre>| 1730      | 7m 56s        | 8.4096e+006    | 0               |</pre>"
      ],
      "text/plain": [
       "| 1730      | 7m 56s        | 8.4096e+006    | 0               |"
      ]
     },
     "metadata": {},
     "output_type": "display_data"
    },
    {
     "data": {
      "text/html": [
       "<pre>| 1740      | 7m 58s        | 8.96558e+006   | 0               |</pre>"
      ],
      "text/plain": [
       "| 1740      | 7m 58s        | 8.96558e+006   | 0               |"
      ]
     },
     "metadata": {},
     "output_type": "display_data"
    },
    {
     "data": {
      "text/html": [
       "<pre>| 1750      | 8m 1s         | 8.32885e+006   | 0               |</pre>"
      ],
      "text/plain": [
       "| 1750      | 8m 1s         | 8.32885e+006   | 0               |"
      ]
     },
     "metadata": {},
     "output_type": "display_data"
    },
    {
     "data": {
      "text/html": [
       "<pre>| 1760      | 8m 4s         | 8.36095e+006   | 0               |</pre>"
      ],
      "text/plain": [
       "| 1760      | 8m 4s         | 8.36095e+006   | 0               |"
      ]
     },
     "metadata": {},
     "output_type": "display_data"
    },
    {
     "data": {
      "text/html": [
       "<pre>| 1770      | 8m 6s         | 7.9621e+006    | 0               |</pre>"
      ],
      "text/plain": [
       "| 1770      | 8m 6s         | 7.9621e+006    | 0               |"
      ]
     },
     "metadata": {},
     "output_type": "display_data"
    },
    {
     "data": {
      "text/html": [
       "<pre>| 1780      | 8m 9s         | 7.53357e+006   | 0               |</pre>"
      ],
      "text/plain": [
       "| 1780      | 8m 9s         | 7.53357e+006   | 0               |"
      ]
     },
     "metadata": {},
     "output_type": "display_data"
    },
    {
     "data": {
      "text/html": [
       "<pre>| 1790      | 8m 12s        | 7.93295e+006   | 0               |</pre>"
      ],
      "text/plain": [
       "| 1790      | 8m 12s        | 7.93295e+006   | 0               |"
      ]
     },
     "metadata": {},
     "output_type": "display_data"
    },
    {
     "data": {
      "text/html": [
       "<pre>| 1800      | 8m 15s        | 5.97701e+006   | 0               |</pre>"
      ],
      "text/plain": [
       "| 1800      | 8m 15s        | 5.97701e+006   | 0               |"
      ]
     },
     "metadata": {},
     "output_type": "display_data"
    },
    {
     "data": {
      "text/html": [
       "<pre>| 1810      | 8m 18s        | 8.172e+006     | 0               |</pre>"
      ],
      "text/plain": [
       "| 1810      | 8m 18s        | 8.172e+006     | 0               |"
      ]
     },
     "metadata": {},
     "output_type": "display_data"
    },
    {
     "data": {
      "text/html": [
       "<pre>| 1820      | 8m 21s        | 8.49186e+006   | 0               |</pre>"
      ],
      "text/plain": [
       "| 1820      | 8m 21s        | 8.49186e+006   | 0               |"
      ]
     },
     "metadata": {},
     "output_type": "display_data"
    },
    {
     "data": {
      "text/html": [
       "<pre>| 1830      | 8m 24s        | 8.69604e+006   | 0               |</pre>"
      ],
      "text/plain": [
       "| 1830      | 8m 24s        | 8.69604e+006   | 0               |"
      ]
     },
     "metadata": {},
     "output_type": "display_data"
    },
    {
     "data": {
      "text/html": [
       "<pre>| 1840      | 8m 27s        | 8.32888e+006   | 0               |</pre>"
      ],
      "text/plain": [
       "| 1840      | 8m 27s        | 8.32888e+006   | 0               |"
      ]
     },
     "metadata": {},
     "output_type": "display_data"
    },
    {
     "data": {
      "text/html": [
       "<pre>| 1850      | 8m 29s        | 7.54663e+006   | 0               |</pre>"
      ],
      "text/plain": [
       "| 1850      | 8m 29s        | 7.54663e+006   | 0               |"
      ]
     },
     "metadata": {},
     "output_type": "display_data"
    },
    {
     "data": {
      "text/html": [
       "<pre>| 1860      | 8m 32s        | 7.76265e+006   | 0               |</pre>"
      ],
      "text/plain": [
       "| 1860      | 8m 32s        | 7.76265e+006   | 0               |"
      ]
     },
     "metadata": {},
     "output_type": "display_data"
    },
    {
     "data": {
      "text/html": [
       "<pre>| 1870      | 8m 35s        | 8.03583e+006   | 0               |</pre>"
      ],
      "text/plain": [
       "| 1870      | 8m 35s        | 8.03583e+006   | 0               |"
      ]
     },
     "metadata": {},
     "output_type": "display_data"
    },
    {
     "data": {
      "text/html": [
       "<pre>| 1880      | 8m 38s        | 7.96207e+006   | 0               |</pre>"
      ],
      "text/plain": [
       "| 1880      | 8m 38s        | 7.96207e+006   | 0               |"
      ]
     },
     "metadata": {},
     "output_type": "display_data"
    },
    {
     "data": {
      "text/html": [
       "<pre>| 1890      | 8m 41s        | 8.34485e+006   | 0               |</pre>"
      ],
      "text/plain": [
       "| 1890      | 8m 41s        | 8.34485e+006   | 0               |"
      ]
     },
     "metadata": {},
     "output_type": "display_data"
    },
    {
     "data": {
      "text/html": [
       "<pre>| 1900      | 8m 44s        | 7.07886e+006   | 0               |</pre>"
      ],
      "text/plain": [
       "| 1900      | 8m 44s        | 7.07886e+006   | 0               |"
      ]
     },
     "metadata": {},
     "output_type": "display_data"
    },
    {
     "data": {
      "text/html": [
       "<pre>| 1910      | 8m 47s        | 7.52052e+006   | 0               |</pre>"
      ],
      "text/plain": [
       "| 1910      | 8m 47s        | 7.52052e+006   | 0               |"
      ]
     },
     "metadata": {},
     "output_type": "display_data"
    },
    {
     "data": {
      "text/html": [
       "<pre>| 1920      | 8m 50s        | 6.19015e+006   | 0               |</pre>"
      ],
      "text/plain": [
       "| 1920      | 8m 50s        | 6.19015e+006   | 0               |"
      ]
     },
     "metadata": {},
     "output_type": "display_data"
    },
    {
     "data": {
      "text/html": [
       "<pre>| 1930      | 8m 53s        | 6.84436e+006   | 0               |</pre>"
      ],
      "text/plain": [
       "| 1930      | 8m 53s        | 6.84436e+006   | 0               |"
      ]
     },
     "metadata": {},
     "output_type": "display_data"
    },
    {
     "data": {
      "text/html": [
       "<pre>| 1940      | 8m 57s        | 5.11112e+006   | 0               |</pre>"
      ],
      "text/plain": [
       "| 1940      | 8m 57s        | 5.11112e+006   | 0               |"
      ]
     },
     "metadata": {},
     "output_type": "display_data"
    },
    {
     "data": {
      "text/html": [
       "<pre>| 1950      | 9m 0s         | 7.39238e+006   | 0               |</pre>"
      ],
      "text/plain": [
       "| 1950      | 9m 0s         | 7.39238e+006   | 0               |"
      ]
     },
     "metadata": {},
     "output_type": "display_data"
    },
    {
     "data": {
      "text/html": [
       "<pre>| 1960      | 9m 3s         | 7.8754e+006    | 0               |</pre>"
      ],
      "text/plain": [
       "| 1960      | 9m 3s         | 7.8754e+006    | 0               |"
      ]
     },
     "metadata": {},
     "output_type": "display_data"
    },
    {
     "data": {
      "text/html": [
       "<pre>| 1970      | 9m 6s         | 5.89584e+006   | 0               |</pre>"
      ],
      "text/plain": [
       "| 1970      | 9m 6s         | 5.89584e+006   | 0               |"
      ]
     },
     "metadata": {},
     "output_type": "display_data"
    },
    {
     "data": {
      "text/html": [
       "<pre>| 1980      | 9m 9s         | 8.34485e+006   | 0               |</pre>"
      ],
      "text/plain": [
       "| 1980      | 9m 9s         | 8.34485e+006   | 0               |"
      ]
     },
     "metadata": {},
     "output_type": "display_data"
    },
    {
     "data": {
      "text/html": [
       "<pre>| 1990      | 9m 12s        | 8.49547e+006   | 0               |</pre>"
      ],
      "text/plain": [
       "| 1990      | 9m 12s        | 8.49547e+006   | 0               |"
      ]
     },
     "metadata": {},
     "output_type": "display_data"
    },
    {
     "data": {
      "text/html": [
       "<pre>| 2000      | 9m 14s        | 8.71352e+006   | 0               |</pre>"
      ],
      "text/plain": [
       "| 2000      | 9m 14s        | 8.71352e+006   | 0               |"
      ]
     },
     "metadata": {},
     "output_type": "display_data"
    },
    {
     "data": {
      "text/html": [
       "<pre>| 2010      | 9m 17s        | 7.13706e+006   | 0               |</pre>"
      ],
      "text/plain": [
       "| 2010      | 9m 17s        | 7.13706e+006   | 0               |"
      ]
     },
     "metadata": {},
     "output_type": "display_data"
    },
    {
     "data": {
      "text/html": [
       "<pre>| 2020      | 9m 20s        | 7.99138e+006   | 0               |</pre>"
      ],
      "text/plain": [
       "| 2020      | 9m 20s        | 7.99138e+006   | 0               |"
      ]
     },
     "metadata": {},
     "output_type": "display_data"
    },
    {
     "data": {
      "text/html": [
       "<pre>| 2030      | 9m 22s        | 8.67873e+006   | 0               |</pre>"
      ],
      "text/plain": [
       "| 2030      | 9m 22s        | 8.67873e+006   | 0               |"
      ]
     },
     "metadata": {},
     "output_type": "display_data"
    },
    {
     "data": {
      "text/html": [
       "<pre>| 2040      | 9m 25s        | 8.80187e+006   | 0               |</pre>"
      ],
      "text/plain": [
       "| 2040      | 9m 25s        | 8.80187e+006   | 0               |"
      ]
     },
     "metadata": {},
     "output_type": "display_data"
    },
    {
     "data": {
      "text/html": [
       "<pre>| 2050      | 9m 27s        | 8.81982e+006   | 0               |</pre>"
      ],
      "text/plain": [
       "| 2050      | 9m 27s        | 8.81982e+006   | 0               |"
      ]
     },
     "metadata": {},
     "output_type": "display_data"
    },
    {
     "data": {
      "text/html": [
       "<pre>| 2060      | 9m 30s        | 8.50853e+006   | 0               |</pre>"
      ],
      "text/plain": [
       "| 2060      | 9m 30s        | 8.50853e+006   | 0               |"
      ]
     },
     "metadata": {},
     "output_type": "display_data"
    },
    {
     "data": {
      "text/html": [
       "<pre>| 2070      | 9m 33s        | 8.69607e+006   | 0               |</pre>"
      ],
      "text/plain": [
       "| 2070      | 9m 33s        | 8.69607e+006   | 0               |"
      ]
     },
     "metadata": {},
     "output_type": "display_data"
    },
    {
     "data": {
      "text/html": [
       "<pre>| 2080      | 9m 35s        | 5.63549e+006   | 0               |</pre>"
      ],
      "text/plain": [
       "| 2080      | 9m 35s        | 5.63549e+006   | 0               |"
      ]
     },
     "metadata": {},
     "output_type": "display_data"
    },
    {
     "data": {
      "text/html": [
       "<pre>| 2090      | 9m 39s        | 6.56481e+006   | 0               |</pre>"
      ],
      "text/plain": [
       "| 2090      | 9m 39s        | 6.56481e+006   | 0               |"
      ]
     },
     "metadata": {},
     "output_type": "display_data"
    },
    {
     "data": {
      "text/html": [
       "<pre>| 2100      | 9m 42s        | 7.30528e+006   | 0               |</pre>"
      ],
      "text/plain": [
       "| 2100      | 9m 42s        | 7.30528e+006   | 0               |"
      ]
     },
     "metadata": {},
     "output_type": "display_data"
    },
    {
     "data": {
      "text/html": [
       "<pre>| 2110      | 9m 45s        | 8.09453e+006   | 0               |</pre>"
      ],
      "text/plain": [
       "| 2110      | 9m 45s        | 8.09453e+006   | 0               |"
      ]
     },
     "metadata": {},
     "output_type": "display_data"
    },
    {
     "data": {
      "text/html": [
       "<pre>| 2120      | 9m 48s        | 8.12606e+006   | 0               |</pre>"
      ],
      "text/plain": [
       "| 2120      | 9m 48s        | 8.12606e+006   | 0               |"
      ]
     },
     "metadata": {},
     "output_type": "display_data"
    },
    {
     "data": {
      "text/html": [
       "<pre>| 2130      | 9m 50s        | 7.12534e+006   | 0               |</pre>"
      ],
      "text/plain": [
       "| 2130      | 9m 50s        | 7.12534e+006   | 0               |"
      ]
     },
     "metadata": {},
     "output_type": "display_data"
    },
    {
     "data": {
      "text/html": [
       "<pre>| 2140      | 9m 53s        | 7.41769e+006   | 0               |</pre>"
      ],
      "text/plain": [
       "| 2140      | 9m 53s        | 7.41769e+006   | 0               |"
      ]
     },
     "metadata": {},
     "output_type": "display_data"
    },
    {
     "data": {
      "text/html": [
       "<pre>| 2150      | 9m 56s        | 7.90407e+006   | 0               |</pre>"
      ],
      "text/plain": [
       "| 2150      | 9m 56s        | 7.90407e+006   | 0               |"
      ]
     },
     "metadata": {},
     "output_type": "display_data"
    },
    {
     "data": {
      "text/html": [
       "<pre>| 2160      | 9m 59s        | 8.02096e+006   | 0               |</pre>"
      ],
      "text/plain": [
       "| 2160      | 9m 59s        | 8.02096e+006   | 0               |"
      ]
     },
     "metadata": {},
     "output_type": "display_data"
    },
    {
     "data": {
      "text/html": [
       "<pre>| 2170      | 10m 2s        | 7.58621e+006   | 0               |</pre>"
      ],
      "text/plain": [
       "| 2170      | 10m 2s        | 7.58621e+006   | 0               |"
      ]
     },
     "metadata": {},
     "output_type": "display_data"
    },
    {
     "data": {
      "text/html": [
       "<pre>| 2180      | 10m 5s        | 7.81851e+006   | 0               |</pre>"
      ],
      "text/plain": [
       "| 2180      | 10m 5s        | 7.81851e+006   | 0               |"
      ]
     },
     "metadata": {},
     "output_type": "display_data"
    },
    {
     "data": {
      "text/html": [
       "<pre>| 2190      | 10m 7s        | 8.15668e+006   | 0               |</pre>"
      ],
      "text/plain": [
       "| 2190      | 10m 7s        | 8.15668e+006   | 0               |"
      ]
     },
     "metadata": {},
     "output_type": "display_data"
    },
    {
     "data": {
      "text/html": [
       "<pre>| 2200      | 10m 10s       | 8.0482e+006    | 0               |</pre>"
      ],
      "text/plain": [
       "| 2200      | 10m 10s       | 8.0482e+006    | 0               |"
      ]
     },
     "metadata": {},
     "output_type": "display_data"
    },
    {
     "data": {
      "text/html": [
       "<pre>| 2210      | 10m 13s       | 8.18741e+006   | 0               |</pre>"
      ],
      "text/plain": [
       "| 2210      | 10m 13s       | 8.18741e+006   | 0               |"
      ]
     },
     "metadata": {},
     "output_type": "display_data"
    },
    {
     "data": {
      "text/html": [
       "<pre>| 2220      | 10m 16s       | 8.05067e+006   | 0               |</pre>"
      ],
      "text/plain": [
       "| 2220      | 10m 16s       | 8.05067e+006   | 0               |"
      ]
     },
     "metadata": {},
     "output_type": "display_data"
    },
    {
     "data": {
      "text/html": [
       "<pre>| 2230      | 10m 18s       | 7.50749e+006   | 0               |</pre>"
      ],
      "text/plain": [
       "| 2230      | 10m 18s       | 7.50749e+006   | 0               |"
      ]
     },
     "metadata": {},
     "output_type": "display_data"
    },
    {
     "data": {
      "text/html": [
       "<pre>| 2240      | 10m 22s       | 7.03297e+006   | 0               |</pre>"
      ],
      "text/plain": [
       "| 2240      | 10m 22s       | 7.03297e+006   | 0               |"
      ]
     },
     "metadata": {},
     "output_type": "display_data"
    },
    {
     "data": {
      "text/html": [
       "<pre>| 2250      | 10m 25s       | 8.17204e+006   | 0               |</pre>"
      ],
      "text/plain": [
       "| 2250      | 10m 25s       | 8.17204e+006   | 0               |"
      ]
     },
     "metadata": {},
     "output_type": "display_data"
    },
    {
     "data": {
      "text/html": [
       "<pre>| 2260      | 10m 27s       | 7.87537e+006   | 0               |</pre>"
      ],
      "text/plain": [
       "| 2260      | 10m 27s       | 7.87537e+006   | 0               |"
      ]
     },
     "metadata": {},
     "output_type": "display_data"
    },
    {
     "data": {
      "text/html": [
       "<pre>| 2270      | 10m 30s       | 8.14136e+006   | 0               |</pre>"
      ],
      "text/plain": [
       "| 2270      | 10m 30s       | 8.14136e+006   | 0               |"
      ]
     },
     "metadata": {},
     "output_type": "display_data"
    },
    {
     "data": {
      "text/html": [
       "<pre>| 2280      | 10m 33s       | 7.49453e+006   | 0               |</pre>"
      ],
      "text/plain": [
       "| 2280      | 10m 33s       | 7.49453e+006   | 0               |"
      ]
     },
     "metadata": {},
     "output_type": "display_data"
    },
    {
     "data": {
      "text/html": [
       "<pre>| 2290      | 10m 36s       | 7.86111e+006   | 0               |</pre>"
      ],
      "text/plain": [
       "| 2290      | 10m 36s       | 7.86111e+006   | 0               |"
      ]
     },
     "metadata": {},
     "output_type": "display_data"
    },
    {
     "data": {
      "text/html": [
       "<pre>| 2300      | 10m 38s       | 7.19624e+006   | 0               |</pre>"
      ],
      "text/plain": [
       "| 2300      | 10m 38s       | 7.19624e+006   | 0               |"
      ]
     },
     "metadata": {},
     "output_type": "display_data"
    },
    {
     "data": {
      "text/html": [
       "<pre>| 2310      | 10m 41s       | 8.21844e+006   | 0               |</pre>"
      ],
      "text/plain": [
       "| 2310      | 10m 41s       | 8.21844e+006   | 0               |"
      ]
     },
     "metadata": {},
     "output_type": "display_data"
    },
    {
     "data": {
      "text/html": [
       "<pre>| 2320      | 10m 44s       | 7.02155e+006   | 0               |</pre>"
      ],
      "text/plain": [
       "| 2320      | 10m 44s       | 7.02155e+006   | 0               |"
      ]
     },
     "metadata": {},
     "output_type": "display_data"
    },
    {
     "data": {
      "text/html": [
       "<pre>| 2330      | 10m 47s       | 8.29711e+006   | 0               |</pre>"
      ],
      "text/plain": [
       "| 2330      | 10m 47s       | 8.29711e+006   | 0               |"
      ]
     },
     "metadata": {},
     "output_type": "display_data"
    },
    {
     "data": {
      "text/html": [
       "<pre>| 2340      | 10m 49s       | 8.58424e+006   | 0               |</pre>"
      ],
      "text/plain": [
       "| 2340      | 10m 49s       | 8.58424e+006   | 0               |"
      ]
     },
     "metadata": {},
     "output_type": "display_data"
    },
    {
     "data": {
      "text/html": [
       "<pre>| 2350      | 10m 52s       | 8.59272e+006   | 0               |</pre>"
      ],
      "text/plain": [
       "| 2350      | 10m 52s       | 8.59272e+006   | 0               |"
      ]
     },
     "metadata": {},
     "output_type": "display_data"
    },
    {
     "data": {
      "text/html": [
       "<pre>| 2360      | 10m 55s       | 6.71722e+006   | 0               |</pre>"
      ],
      "text/plain": [
       "| 2360      | 10m 55s       | 6.71722e+006   | 0               |"
      ]
     },
     "metadata": {},
     "output_type": "display_data"
    },
    {
     "data": {
      "text/html": [
       "<pre>| 2370      | 10m 58s       | 8.2497e+006    | 0               |</pre>"
      ],
      "text/plain": [
       "| 2370      | 10m 58s       | 8.2497e+006    | 0               |"
      ]
     },
     "metadata": {},
     "output_type": "display_data"
    },
    {
     "data": {
      "text/html": [
       "<pre>| 2380      | 11m 1s        | 6.85517e+006   | 0               |</pre>"
      ],
      "text/plain": [
       "| 2380      | 11m 1s        | 6.85517e+006   | 0               |"
      ]
     },
     "metadata": {},
     "output_type": "display_data"
    },
    {
     "data": {
      "text/html": [
       "<pre>| 2390      | 11m 4s        | 8.2497e+006    | 0               |</pre>"
      ],
      "text/plain": [
       "| 2390      | 11m 4s        | 8.2497e+006    | 0               |"
      ]
     },
     "metadata": {},
     "output_type": "display_data"
    },
    {
     "data": {
      "text/html": [
       "<pre>| 2400      | 11m 7s        | 7.54666e+006   | 0               |</pre>"
      ],
      "text/plain": [
       "| 2400      | 11m 7s        | 7.54666e+006   | 0               |"
      ]
     },
     "metadata": {},
     "output_type": "display_data"
    },
    {
     "data": {
      "text/html": [
       "<pre>| 2410      | 11m 10s       | 6.86603e+006   | 0               |</pre>"
      ],
      "text/plain": [
       "| 2410      | 11m 10s       | 6.86603e+006   | 0               |"
      ]
     },
     "metadata": {},
     "output_type": "display_data"
    },
    {
     "data": {
      "text/html": [
       "<pre>| 2420      | 11m 12s       | 7.77659e+006   | 0               |</pre>"
      ],
      "text/plain": [
       "| 2420      | 11m 12s       | 7.77659e+006   | 0               |"
      ]
     },
     "metadata": {},
     "output_type": "display_data"
    },
    {
     "data": {
      "text/html": [
       "<pre>| 2430      | 11m 15s       | 8.09579e+006   | 0               |</pre>"
      ],
      "text/plain": [
       "| 2430      | 11m 15s       | 8.09579e+006   | 0               |"
      ]
     },
     "metadata": {},
     "output_type": "display_data"
    },
    {
     "data": {
      "text/html": [
       "<pre>| 2440      | 11m 18s       | 6.41912e+006   | 0               |</pre>"
      ],
      "text/plain": [
       "| 2440      | 11m 18s       | 6.41912e+006   | 0               |"
      ]
     },
     "metadata": {},
     "output_type": "display_data"
    },
    {
     "data": {
      "text/html": [
       "<pre>| 2450      | 11m 21s       | 8.55881e+006   | 0               |</pre>"
      ],
      "text/plain": [
       "| 2450      | 11m 21s       | 8.55881e+006   | 0               |"
      ]
     },
     "metadata": {},
     "output_type": "display_data"
    },
    {
     "data": {
      "text/html": [
       "<pre>| 2460      | 11m 24s       | 8.33446e+006   | 0               |</pre>"
      ],
      "text/plain": [
       "| 2460      | 11m 24s       | 8.33446e+006   | 0               |"
      ]
     },
     "metadata": {},
     "output_type": "display_data"
    },
    {
     "data": {
      "text/html": [
       "<pre>| 2470      | 11m 27s       | 8.78407e+006   | 0               |</pre>"
      ],
      "text/plain": [
       "| 2470      | 11m 27s       | 8.78407e+006   | 0               |"
      ]
     },
     "metadata": {},
     "output_type": "display_data"
    },
    {
     "data": {
      "text/html": [
       "<pre>| 2480      | 11m 29s       | 8.32888e+006   | 0               |</pre>"
      ],
      "text/plain": [
       "| 2480      | 11m 29s       | 8.32888e+006   | 0               |"
      ]
     },
     "metadata": {},
     "output_type": "display_data"
    },
    {
     "data": {
      "text/html": [
       "<pre>| 2490      | 11m 32s       | 8.73108e+006   | 0               |</pre>"
      ],
      "text/plain": [
       "| 2490      | 11m 32s       | 8.73108e+006   | 0               |"
      ]
     },
     "metadata": {},
     "output_type": "display_data"
    },
    {
     "data": {
      "text/html": [
       "<pre>| 2500      | 11m 34s       | 7.7488e+006    | 0               |</pre>"
      ],
      "text/plain": [
       "| 2500      | 11m 34s       | 7.7488e+006    | 0               |"
      ]
     },
     "metadata": {},
     "output_type": "display_data"
    },
    {
     "data": {
      "text/html": [
       "<pre>| 2510      | 11m 37s       | 8.52524e+006   | 0               |</pre>"
      ],
      "text/plain": [
       "| 2510      | 11m 37s       | 8.52524e+006   | 0               |"
      ]
     },
     "metadata": {},
     "output_type": "display_data"
    },
    {
     "data": {
      "text/html": [
       "<pre>| 2520      | 11m 40s       | 8.6441e+006    | 0               |</pre>"
      ],
      "text/plain": [
       "| 2520      | 11m 40s       | 8.6441e+006    | 0               |"
      ]
     },
     "metadata": {},
     "output_type": "display_data"
    },
    {
     "data": {
      "text/html": [
       "<pre>| 2530      | 11m 43s       | 7.8754e+006    | 0               |</pre>"
      ],
      "text/plain": [
       "| 2530      | 11m 43s       | 7.8754e+006    | 0               |"
      ]
     },
     "metadata": {},
     "output_type": "display_data"
    },
    {
     "data": {
      "text/html": [
       "<pre>| 2540      | 11m 46s       | 6.96522e+006   | 0               |</pre>"
      ],
      "text/plain": [
       "| 2540      | 11m 46s       | 6.96522e+006   | 0               |"
      ]
     },
     "metadata": {},
     "output_type": "display_data"
    },
    {
     "data": {
      "text/html": [
       "<pre>| 2550      | 11m 49s       | 7.04436e+006   | 0               |</pre>"
      ],
      "text/plain": [
       "| 2550      | 11m 49s       | 7.04436e+006   | 0               |"
      ]
     },
     "metadata": {},
     "output_type": "display_data"
    },
    {
     "data": {
      "text/html": [
       "<pre>| 2560      | 11m 52s       | 7.34236e+006   | 0               |</pre>"
      ],
      "text/plain": [
       "| 2560      | 11m 52s       | 7.34236e+006   | 0               |"
      ]
     },
     "metadata": {},
     "output_type": "display_data"
    },
    {
     "data": {
      "text/html": [
       "<pre>| 2570      | 11m 55s       | 7.52052e+006   | 0               |</pre>"
      ],
      "text/plain": [
       "| 2570      | 11m 55s       | 7.52052e+006   | 0               |"
      ]
     },
     "metadata": {},
     "output_type": "display_data"
    },
    {
     "data": {
      "text/html": [
       "<pre>| 2580      | 11m 58s       | 7.44327e+006   | 0               |</pre>"
      ],
      "text/plain": [
       "| 2580      | 11m 58s       | 7.44327e+006   | 0               |"
      ]
     },
     "metadata": {},
     "output_type": "display_data"
    },
    {
     "data": {
      "text/html": [
       "<pre>| 2590      | 12m 2s        | 5.42441e+006   | 0               |</pre>"
      ],
      "text/plain": [
       "| 2590      | 12m 2s        | 5.42441e+006   | 0               |"
      ]
     },
     "metadata": {},
     "output_type": "display_data"
    },
    {
     "data": {
      "text/html": [
       "<pre>| 2600      | 12m 5s        | 6.36267e+006   | 0               |</pre>"
      ],
      "text/plain": [
       "| 2600      | 12m 5s        | 6.36267e+006   | 0               |"
      ]
     },
     "metadata": {},
     "output_type": "display_data"
    },
    {
     "data": {
      "text/html": [
       "<pre>| 2610      | 12m 8s        | 5.82462e+006   | 0               |</pre>"
      ],
      "text/plain": [
       "| 2610      | 12m 8s        | 5.82462e+006   | 0               |"
      ]
     },
     "metadata": {},
     "output_type": "display_data"
    },
    {
     "data": {
      "text/html": [
       "<pre>| 2620      | 12m 12s       | 7.36715e+006   | 0               |</pre>"
      ],
      "text/plain": [
       "| 2620      | 12m 12s       | 7.36715e+006   | 0               |"
      ]
     },
     "metadata": {},
     "output_type": "display_data"
    },
    {
     "data": {
      "text/html": [
       "<pre>| 2630      | 12m 15s       | 6.88783e+006   | 0               |</pre>"
      ],
      "text/plain": [
       "| 2630      | 12m 15s       | 6.88783e+006   | 0               |"
      ]
     },
     "metadata": {},
     "output_type": "display_data"
    },
    {
     "data": {
      "text/html": [
       "<pre>| 2640      | 12m 18s       | 7.48165e+006   | 0               |</pre>"
      ],
      "text/plain": [
       "| 2640      | 12m 18s       | 7.48165e+006   | 0               |"
      ]
     },
     "metadata": {},
     "output_type": "display_data"
    },
    {
     "data": {
      "text/html": [
       "<pre>| 2650      | 12m 21s       | 6.86614e+006   | 0               |</pre>"
      ],
      "text/plain": [
       "| 2650      | 12m 21s       | 6.86614e+006   | 0               |"
      ]
     },
     "metadata": {},
     "output_type": "display_data"
    },
    {
     "data": {
      "text/html": [
       "<pre>| 2660      | 12m 24s       | 8.03583e+006   | 0               |</pre>"
      ],
      "text/plain": [
       "| 2660      | 12m 24s       | 8.03583e+006   | 0               |"
      ]
     },
     "metadata": {},
     "output_type": "display_data"
    },
    {
     "data": {
      "text/html": [
       "<pre>| 2670      | 12m 27s       | 7.99141e+006   | 0               |</pre>"
      ],
      "text/plain": [
       "| 2670      | 12m 27s       | 7.99141e+006   | 0               |"
      ]
     },
     "metadata": {},
     "output_type": "display_data"
    },
    {
     "data": {
      "text/html": [
       "<pre>| 2680      | 12m 30s       | 8.20291e+006   | 0               |</pre>"
      ],
      "text/plain": [
       "| 2680      | 12m 30s       | 8.20291e+006   | 0               |"
      ]
     },
     "metadata": {},
     "output_type": "display_data"
    },
    {
     "data": {
      "text/html": [
       "<pre>| 2690      | 12m 33s       | 7.9621e+006    | 0               |</pre>"
      ],
      "text/plain": [
       "| 2690      | 12m 33s       | 7.9621e+006    | 0               |"
      ]
     },
     "metadata": {},
     "output_type": "display_data"
    },
    {
     "data": {
      "text/html": [
       "<pre>| 2700      | 12m 35s       | 8.21844e+006   | 0               |</pre>"
      ],
      "text/plain": [
       "| 2700      | 12m 35s       | 8.21844e+006   | 0               |"
      ]
     },
     "metadata": {},
     "output_type": "display_data"
    },
    {
     "data": {
      "text/html": [
       "<pre>| 2710      | 12m 38s       | 8.18744e+006   | 0               |</pre>"
      ],
      "text/plain": [
       "| 2710      | 12m 38s       | 8.18744e+006   | 0               |"
      ]
     },
     "metadata": {},
     "output_type": "display_data"
    },
    {
     "data": {
      "text/html": [
       "<pre>| 2720      | 12m 41s       | 8.29695e+006   | 0               |</pre>"
      ],
      "text/plain": [
       "| 2720      | 12m 41s       | 8.29695e+006   | 0               |"
      ]
     },
     "metadata": {},
     "output_type": "display_data"
    },
    {
     "data": {
      "text/html": [
       "<pre>| 2730      | 12m 43s       | 8.20291e+006   | 0               |</pre>"
      ],
      "text/plain": [
       "| 2730      | 12m 43s       | 8.20291e+006   | 0               |"
      ]
     },
     "metadata": {},
     "output_type": "display_data"
    },
    {
     "data": {
      "text/html": [
       "<pre>| 2740      | 12m 46s       | 7.93298e+006   | 0               |</pre>"
      ],
      "text/plain": [
       "| 2740      | 12m 46s       | 7.93298e+006   | 0               |"
      ]
     },
     "metadata": {},
     "output_type": "display_data"
    },
    {
     "data": {
      "text/html": [
       "<pre>| 2750      | 12m 49s       | 8.11095e+006   | 0               |</pre>"
      ],
      "text/plain": [
       "| 2750      | 12m 49s       | 8.11095e+006   | 0               |"
      ]
     },
     "metadata": {},
     "output_type": "display_data"
    },
    {
     "data": {
      "text/html": [
       "<pre>| 2760      | 12m 51s       | 8.32885e+006   | 0               |</pre>"
      ],
      "text/plain": [
       "| 2760      | 12m 51s       | 8.32885e+006   | 0               |"
      ]
     },
     "metadata": {},
     "output_type": "display_data"
    },
    {
     "data": {
      "text/html": [
       "<pre>| 2770      | 12m 54s       | 8.29702e+006   | 0               |</pre>"
      ],
      "text/plain": [
       "| 2770      | 12m 54s       | 8.29702e+006   | 0               |"
      ]
     },
     "metadata": {},
     "output_type": "display_data"
    },
    {
     "data": {
      "text/html": [
       "<pre>| 2780      | 12m 57s       | 8.31287e+006   | 0               |</pre>"
      ],
      "text/plain": [
       "| 2780      | 12m 57s       | 8.31287e+006   | 0               |"
      ]
     },
     "metadata": {},
     "output_type": "display_data"
    },
    {
     "data": {
      "text/html": [
       "<pre>| 2790      | 13m 0s        | 7.91846e+006   | 0               |</pre>"
      ],
      "text/plain": [
       "| 2790      | 13m 0s        | 7.91846e+006   | 0               |"
      ]
     },
     "metadata": {},
     "output_type": "display_data"
    },
    {
     "data": {
      "text/html": [
       "<pre>| 2800      | 13m 2s        | 8.21844e+006   | 0               |</pre>"
      ],
      "text/plain": [
       "| 2800      | 13m 2s        | 8.21844e+006   | 0               |"
      ]
     },
     "metadata": {},
     "output_type": "display_data"
    },
    {
     "data": {
      "text/html": [
       "<pre>| 2810      | 13m 5s        | 8.14136e+006   | 0               |</pre>"
      ],
      "text/plain": [
       "| 2810      | 13m 5s        | 8.14136e+006   | 0               |"
      ]
     },
     "metadata": {},
     "output_type": "display_data"
    },
    {
     "data": {
      "text/html": [
       "<pre>| 2820      | 13m 8s        | 7.72124e+006   | 0               |</pre>"
      ],
      "text/plain": [
       "| 2820      | 13m 8s        | 7.72124e+006   | 0               |"
      ]
     },
     "metadata": {},
     "output_type": "display_data"
    },
    {
     "data": {
      "text/html": [
       "<pre>| 2830      | 13m 11s       | 8.29699e+006   | 0               |</pre>"
      ],
      "text/plain": [
       "| 2830      | 13m 11s       | 8.29699e+006   | 0               |"
      ]
     },
     "metadata": {},
     "output_type": "display_data"
    },
    {
     "data": {
      "text/html": [
       "<pre>| 2840      | 13m 13s       | 8.24966e+006   | 0               |</pre>"
      ],
      "text/plain": [
       "| 2840      | 13m 13s       | 8.24966e+006   | 0               |"
      ]
     },
     "metadata": {},
     "output_type": "display_data"
    },
    {
     "data": {
      "text/html": [
       "<pre>| 2850      | 13m 16s       | 8.0358e+006    | 0               |</pre>"
      ],
      "text/plain": [
       "| 2850      | 13m 16s       | 8.0358e+006    | 0               |"
      ]
     },
     "metadata": {},
     "output_type": "display_data"
    },
    {
     "data": {
      "text/html": [
       "<pre>| 2860      | 13m 19s       | 8.15665e+006   | 0               |</pre>"
      ],
      "text/plain": [
       "| 2860      | 13m 19s       | 8.15665e+006   | 0               |"
      ]
     },
     "metadata": {},
     "output_type": "display_data"
    },
    {
     "data": {
      "text/html": [
       "<pre>| 2870      | 13m 22s       | 7.79054e+006   | 0               |</pre>"
      ],
      "text/plain": [
       "| 2870      | 13m 22s       | 7.79054e+006   | 0               |"
      ]
     },
     "metadata": {},
     "output_type": "display_data"
    },
    {
     "data": {
      "text/html": [
       "<pre>| 2880      | 13m 24s       | 8.32888e+006   | 0               |</pre>"
      ],
      "text/plain": [
       "| 2880      | 13m 24s       | 8.32888e+006   | 0               |"
      ]
     },
     "metadata": {},
     "output_type": "display_data"
    },
    {
     "data": {
      "text/html": [
       "<pre>| 2890      | 13m 27s       | 7.9041e+006    | 0               |</pre>"
      ],
      "text/plain": [
       "| 2890      | 13m 27s       | 7.9041e+006    | 0               |"
      ]
     },
     "metadata": {},
     "output_type": "display_data"
    },
    {
     "data": {
      "text/html": [
       "<pre>| 2900      | 13m 30s       | 8.09582e+006   | 0               |</pre>"
      ],
      "text/plain": [
       "| 2900      | 13m 30s       | 8.09582e+006   | 0               |"
      ]
     },
     "metadata": {},
     "output_type": "display_data"
    },
    {
     "data": {
      "text/html": [
       "<pre>| 2910      | 13m 33s       | 7.96213e+006   | 0               |</pre>"
      ],
      "text/plain": [
       "| 2910      | 13m 33s       | 7.96213e+006   | 0               |"
      ]
     },
     "metadata": {},
     "output_type": "display_data"
    },
    {
     "data": {
      "text/html": [
       "<pre>| 2920      | 13m 36s       | 7.9767e+006    | 0               |</pre>"
      ],
      "text/plain": [
       "| 2920      | 13m 36s       | 7.9767e+006    | 0               |"
      ]
     },
     "metadata": {},
     "output_type": "display_data"
    },
    {
     "data": {
      "text/html": [
       "<pre>| 2930      | 13m 39s       | 7.53359e+006   | 0               |</pre>"
      ],
      "text/plain": [
       "| 2930      | 13m 39s       | 7.53359e+006   | 0               |"
      ]
     },
     "metadata": {},
     "output_type": "display_data"
    },
    {
     "data": {
      "text/html": [
       "<pre>| 2940      | 13m 42s       | 8.76637e+006   | 0               |</pre>"
      ],
      "text/plain": [
       "| 2940      | 13m 42s       | 8.76637e+006   | 0               |"
      ]
     },
     "metadata": {},
     "output_type": "display_data"
    },
    {
     "data": {
      "text/html": [
       "<pre>| 2950      | 13m 44s       | 8.5085e+006    | 0               |</pre>"
      ],
      "text/plain": [
       "| 2950      | 13m 44s       | 8.5085e+006    | 0               |"
      ]
     },
     "metadata": {},
     "output_type": "display_data"
    },
    {
     "data": {
      "text/html": [
       "<pre>| 2960      | 13m 47s       | 8.45871e+006   | 0               |</pre>"
      ],
      "text/plain": [
       "| 2960      | 13m 47s       | 8.45871e+006   | 0               |"
      ]
     },
     "metadata": {},
     "output_type": "display_data"
    },
    {
     "data": {
      "text/html": [
       "<pre>| 2970      | 13m 50s       | 8.42591e+006   | 0               |</pre>"
      ],
      "text/plain": [
       "| 2970      | 13m 50s       | 8.42591e+006   | 0               |"
      ]
     },
     "metadata": {},
     "output_type": "display_data"
    },
    {
     "data": {
      "text/html": [
       "<pre>| 2980      | 13m 53s       | 8.09576e+006   | 0               |</pre>"
      ],
      "text/plain": [
       "| 2980      | 13m 53s       | 8.09576e+006   | 0               |"
      ]
     },
     "metadata": {},
     "output_type": "display_data"
    },
    {
     "data": {
      "text/html": [
       "<pre>| 2990      | 13m 55s       | 8.96562e+006   | 0               |</pre>"
      ],
      "text/plain": [
       "| 2990      | 13m 55s       | 8.96562e+006   | 0               |"
      ]
     },
     "metadata": {},
     "output_type": "display_data"
    },
    {
     "data": {
      "text/html": [
       "<pre>| 3000      | 13m 58s       | 8.87393e+006   | 0               |</pre>"
      ],
      "text/plain": [
       "| 3000      | 13m 58s       | 8.87393e+006   | 0               |"
      ]
     },
     "metadata": {},
     "output_type": "display_data"
    },
    {
     "data": {
      "text/html": [
       "<pre>+-----------+---------------+----------------+-----------------+</pre>"
      ],
      "text/plain": [
       "+-----------+---------------+----------------+-----------------+"
      ]
     },
     "metadata": {},
     "output_type": "display_data"
    }
   ],
   "source": [
    "topic_model = gl.topic_model.create(docs, num_topics=15, num_iterations=3000)"
   ]
  },
  {
   "cell_type": "code",
   "execution_count": 18,
   "metadata": {
    "collapsed": false
   },
   "outputs": [
    {
     "data": {
      "text/html": [
       "\n",
       "<link rel=\"stylesheet\" type=\"text/css\" href=\"https://cdn.rawgit.com/bmabey/pyLDAvis/files/ldavis.v1.0.0.css\">\n",
       "\n",
       "\n",
       "<div id=\"ldavis_el86446843376966669924637\"></div>\n",
       "<script type=\"text/javascript\">\n",
       "\n",
       "var ldavis_el86446843376966669924637_data = {\"plot.opts\": {\"xlab\": \"PC1\", \"ylab\": \"PC2\"}, \"topic.order\": [7, 15, 5, 10, 6, 9, 11, 1, 13, 14, 4, 8, 12, 3, 2], \"token.table\": {\"Topic\": [2, 6, 7, 10, 13, 14, 1, 7, 7, 1, 5, 6, 7, 8, 11, 12, 14, 15, 6, 10, 4, 7, 8, 10, 11, 12, 13, 14, 15, 2, 3, 9, 11, 12, 13, 6, 8, 12, 14, 1, 2, 3, 4, 5, 6, 7, 8, 9, 10, 12, 13, 14, 15, 1, 5, 6, 12, 4, 6, 7, 8, 13, 14, 9, 13, 13, 7, 11, 1, 2, 5, 6, 7, 9, 10, 13, 14, 1, 5, 6, 13, 14, 8, 4, 1, 5, 8, 11, 13, 15, 6, 12, 6, 9, 13, 6, 9, 15, 7, 8, 14, 15, 14, 1, 2, 3, 4, 6, 9, 12, 13, 14, 1, 4, 9, 10, 12, 13, 9, 12, 2, 3, 6, 9, 13, 14, 5, 9, 2, 4, 7, 10, 11, 14, 5, 14, 8, 7, 9, 10, 12, 14, 15, 3, 4, 7, 8, 14, 15, 1, 4, 8, 13, 15, 3, 8, 15, 2, 3, 7, 13, 14, 7, 8, 12, 1, 2, 3, 7, 13, 15, 2, 6, 9, 10, 14, 1, 2, 4, 5, 6, 10, 14, 3, 5, 9, 1, 5, 10, 7, 8, 10, 15, 4, 7, 8, 9, 14, 9, 13, 13, 4, 7, 8, 10, 11, 12, 15, 11, 5, 6, 13, 4, 10, 14, 15, 3, 12, 15, 4, 7, 9, 11, 14, 10, 4, 7, 8, 14, 1, 7, 8, 11, 15, 12, 15, 4, 7, 9, 10, 11, 12, 11, 3, 1, 3, 5, 6, 8, 11, 13, 1, 3, 5, 8, 10, 11, 13, 1, 6, 9, 11, 12, 13, 14, 9, 15, 8, 1, 2, 3, 4, 5, 6, 7, 8, 9, 10, 11, 12, 13, 14, 15, 2, 6, 10, 2, 13, 3, 11, 12, 13, 14, 2, 9, 12, 2, 8, 9, 12, 13, 3, 4, 9, 11, 12, 15, 2, 4, 5, 14, 3, 4, 7, 10, 12, 6, 8, 14, 13, 2, 6, 7, 8, 9, 11, 12, 13, 14, 1, 5, 9, 14, 2, 7, 13, 14, 15, 2, 2, 6, 8, 11, 14, 1, 6, 7, 8, 10, 11, 12, 13, 14, 2, 4, 7, 2, 3, 9, 12, 1, 2, 3, 6, 9, 12, 4, 11, 15, 4, 15, 1, 2, 5, 6, 9, 11, 13, 14, 4, 9, 14, 2, 3, 4, 5, 9, 11, 12, 14, 15, 15, 9, 10, 5, 3, 5, 6, 10, 2, 4, 5, 7, 9, 13, 14, 3, 4, 5, 6, 11, 14, 4, 8, 10, 3, 4, 7, 12, 3, 12, 13, 3, 12, 3, 12, 7, 8, 11, 11, 14, 7, 7, 4, 6, 13, 6, 7, 14, 4, 5, 9, 10, 11, 13, 1, 3, 5, 11, 1, 6, 10, 11, 1, 7, 11, 11, 1, 7, 14, 13, 3, 7, 1, 2, 3, 4, 5, 9, 10, 1, 11, 1, 9, 12, 1, 2, 5, 6, 8, 9, 11, 12, 13, 14, 8, 9, 4, 14, 15, 15, 3, 12, 4, 6, 10, 11, 3, 1, 2, 9, 1, 5, 11, 13, 15, 1, 6, 13, 14, 15, 2, 4, 5, 6, 7, 8, 9, 10, 13, 15, 6, 11, 12, 1, 3, 6, 7, 9, 1, 6, 7, 13, 14, 15, 7, 11, 13, 6, 7, 9, 4, 12, 15, 9, 10, 15, 8, 9, 1, 11, 11, 1, 4, 11, 4, 5, 6, 8, 10, 11, 14, 2, 4, 9, 11, 14, 1, 5, 6, 7, 11, 12, 6, 7, 9, 10, 11, 14, 2, 5, 6, 9, 12, 14, 15, 2, 1, 2, 5, 1, 2, 3, 5, 6, 9, 12, 13, 14, 5, 8, 9, 3, 6, 9, 2, 6, 2, 5, 6, 4, 7, 8, 11, 11, 6, 7, 8, 11, 14, 11, 13, 4, 6, 9, 10, 12, 14, 11, 1, 2, 5, 7, 9, 10, 11, 12, 13, 14, 14, 14, 3, 15, 15, 4, 14, 3, 8, 11, 12, 1, 4, 8, 10, 9, 14, 7, 8, 9, 10, 11, 4, 6, 7, 8, 10, 12, 15, 3, 5, 12, 7, 9, 2, 3, 4, 6, 8, 11, 12, 13, 3, 8, 9, 13, 4, 5, 9, 13, 14, 1, 2, 3, 4, 5, 6, 7, 8, 9, 10, 11, 12, 13, 14, 1, 2, 4, 14, 1, 2, 5, 6, 10, 4, 1, 2, 3, 5, 6, 7, 9, 10, 13, 14, 15, 14, 15, 2, 6, 1, 11, 5, 10, 14, 14, 1, 2, 6, 8, 10, 13, 1, 2, 5, 7, 9, 11, 12, 14, 1, 6, 7, 3, 8, 9, 1, 5, 8, 9, 10, 4, 7, 9, 15, 3, 7, 12, 14, 15, 4, 9, 2, 5, 9, 13, 3, 4, 7, 8, 10, 11, 12, 14, 3, 4, 8, 13, 7, 9, 9, 2, 3, 6, 8, 11, 12, 13, 14, 8, 11, 14, 7, 2, 3, 4, 6, 7, 8, 10, 11, 12, 13, 14, 15, 2, 4, 6, 8, 10, 12, 13, 14, 15, 7, 8, 1, 9, 15, 4, 13, 15, 5, 8, 10, 15, 9, 10, 11, 13, 3, 4, 5, 7, 8, 9, 10, 14, 14, 15, 2, 3, 8, 13, 3, 12, 14, 1, 6, 11, 1, 2, 5, 6, 14, 2, 3, 4, 6, 8, 9, 10, 11, 13, 14, 15, 8, 5, 13, 2, 3, 5, 6, 7, 8, 9, 11, 12, 13, 15, 3, 6, 7, 8, 14, 15, 2, 4, 6, 7, 9, 12, 15, 2, 3, 4, 5, 6, 7, 8, 10, 12, 13, 5, 6, 9, 10, 13, 1, 2, 5, 7, 8, 8, 9, 8, 8, 5, 7, 3, 8, 12, 3, 12, 15, 1, 13, 2, 10, 7, 8, 1, 2, 3, 4, 5, 6, 8, 9, 13, 1, 2, 5, 6, 9, 1, 4, 6, 10, 13, 15, 1, 4, 11, 14, 4, 15, 4, 13, 4, 9, 9, 8, 13, 15, 4, 5, 2, 5, 6, 8, 9, 10, 13, 15, 1, 2, 5, 6, 7, 8, 9, 10, 11, 14, 1, 5, 14, 7, 3, 4, 7, 8, 12, 1, 3, 5, 6, 7, 8, 10, 13, 14, 15, 3, 1, 2, 3, 4, 6, 7, 8, 9, 10, 12, 13, 14, 15, 11, 1, 3, 4, 5, 6, 7, 8, 12, 13, 14, 2, 5, 14, 4, 7, 9, 10, 11, 12, 2, 3, 4, 7, 8, 10, 14, 15, 13, 2, 3, 4, 5, 6, 8, 11, 12, 13, 14, 15, 10, 13, 1, 2, 3, 4, 5, 6, 7, 8, 10, 11, 12, 13, 14, 15, 10, 13, 10, 7, 10, 1, 2, 3, 4, 6, 8, 10, 11, 12, 13, 1, 3, 4, 7, 9, 11, 12, 13, 15, 2, 3, 4, 5, 8, 9, 11, 12, 13, 14, 15, 4, 6, 7, 9, 11, 14, 1, 3, 7, 8, 11, 12, 14, 15, 2, 8, 10, 13, 4, 5, 6, 7, 8, 11, 12, 13, 14, 15, 4, 6, 7, 8, 9, 2, 5, 6, 8, 9, 14, 4, 6, 7, 8, 9, 10, 13, 14, 4, 11, 15, 1, 2, 5, 12, 14, 9, 1, 5, 11, 14, 1, 6, 11, 14, 15, 9, 1, 2, 5, 1, 3, 6, 7, 9, 13, 14, 1, 5, 10, 11, 6, 9, 13, 1, 1, 5, 5, 13, 14, 7, 8, 11, 3, 8, 7, 12, 5, 12, 13, 10, 5, 7, 10, 1, 4, 5, 7, 12, 14, 2, 3, 4, 15, 9, 15, 5, 9, 9, 3, 4, 7, 12, 14, 2, 3, 4, 5, 6, 7, 8, 10, 11, 12, 14, 15, 7, 13, 15, 2, 3, 4, 6, 7, 12, 14, 1, 2, 5, 6, 7, 8, 9, 10, 11, 12, 13, 14, 13, 8, 5, 7, 9, 10, 11, 1, 2, 5, 6, 9, 10, 11, 12, 13, 14, 15, 8, 12, 13, 3, 4, 5, 6, 9, 1, 5, 9, 5, 9, 11, 14, 1, 2, 3, 6, 7, 9, 11, 13, 14, 2, 5, 6, 9, 10, 3, 12, 3, 4, 6, 7, 11, 14, 15, 4, 6, 12, 13, 14, 6, 8, 2, 4, 5, 12, 13, 15, 1, 2, 3, 4, 6, 8, 9, 10, 11, 12, 13, 14, 15, 4, 5, 6, 9, 12, 1, 3, 4, 5, 6, 12, 13, 14, 6, 7, 8, 9, 13, 15, 6, 9, 10, 11, 13, 14, 15, 2, 4, 5, 7, 8, 9, 10, 11, 12, 13, 15, 4, 11, 1, 3, 4, 7, 9, 10, 11, 13, 14, 4, 6, 7, 8, 9, 10, 11, 13, 14, 1, 2, 3, 4, 7, 8, 11, 12, 13, 14, 15, 1, 2, 3, 4, 6, 7, 8, 10, 11, 12, 13, 14, 15, 4, 7, 8, 9, 10, 11, 12, 15, 2, 4, 5, 8, 12, 5, 8, 9, 11, 14, 1, 3, 4, 7, 8, 9, 11, 12, 14, 15, 1, 2, 3, 4, 8, 10, 12, 13, 14, 3, 9, 13, 14, 1, 6, 15, 1, 7, 10, 11, 12, 1, 4, 7, 3, 14, 15, 14, 15, 1, 2, 3, 6, 7, 9, 10, 11, 12, 9, 14, 14, 10, 14, 1, 5, 8, 11, 15, 2, 4, 5, 6, 9, 10, 13, 1, 8, 15, 5, 6, 8, 13, 2, 6, 15, 1, 2, 5, 10, 12, 13, 6, 10, 11, 13, 3, 7, 12, 13, 15, 6, 6, 4, 7, 1, 2, 4, 5, 6, 9, 11, 12, 13, 15, 2, 4, 6, 8, 9, 11, 12, 13, 14, 4, 7, 9, 11, 2, 6, 10, 13, 7, 15, 2, 7, 11, 11, 8, 7, 11, 15, 7, 15, 7, 4, 5, 7, 9, 10, 13, 14, 15, 1, 2, 3, 5, 6, 7, 9, 10, 13, 14, 15, 1, 2, 3, 4, 5, 6, 7, 11, 12, 14, 15, 5, 9, 1, 7, 10, 11, 2, 3, 4, 5, 9, 10, 11, 12, 13, 14, 15, 2, 3, 4, 7, 8, 9, 10, 12, 13, 14, 15, 13, 6, 1, 2, 3, 5, 6, 7, 8, 9, 10, 11, 12, 13, 14, 14, 1, 8, 9, 10, 3, 4, 11, 12, 1, 3, 5, 6, 7, 8, 9, 11, 12, 14, 15, 1, 6, 9, 13, 1, 2, 5, 6, 9, 12, 13, 14, 1, 6, 13, 15, 15, 6, 15, 1, 11, 1, 2, 3, 5, 6, 7, 8, 9, 10, 11, 13, 14, 15, 2, 7, 6, 11, 15, 1, 6, 8, 12, 15, 12, 14, 8, 5, 10, 12, 15, 8, 1, 4, 7, 9, 14, 1, 8, 9, 4, 8, 12, 6, 1, 2, 3, 4, 5, 6, 7, 8, 9, 10, 11, 12, 13, 14, 15, 3, 5, 8, 9, 11, 12, 13, 14, 6, 8, 13, 14, 12, 1, 3, 4, 5, 6, 8, 11, 12, 13, 5, 6, 12, 6, 15, 1, 2, 5, 13, 14, 15, 1, 2, 4, 5, 6, 10, 11, 14, 14, 11, 14, 1, 2, 3, 5, 8, 9, 11, 12, 13, 15, 8, 7, 11, 13, 4, 12, 2, 3, 4, 5, 6, 7, 8, 9, 10, 11, 12, 13, 15, 1, 2, 3, 4, 5, 8, 9, 12, 15, 4, 6, 9, 13, 13, 3, 5, 7, 12, 15, 3, 6, 7, 10, 12, 13, 3, 12, 1, 2, 3, 4, 7, 8, 12, 3, 12, 1, 2, 3, 4, 5, 6, 7, 9, 10, 13, 14, 3, 6, 9, 13, 2, 5, 6, 9, 10, 1, 2, 6, 9, 2, 6, 7, 10, 11, 11, 1, 14, 15, 3, 12, 13, 15, 1, 2, 3, 5, 6, 7, 8, 9, 10, 11, 12, 13, 8, 10, 7, 1, 2, 5, 6, 9, 12, 2, 6, 4, 5, 1, 5, 8, 10, 11, 1, 15, 10, 2, 2, 11, 4, 7, 9, 13, 1, 2, 3, 4, 5, 6, 9, 11, 12, 13, 14, 1, 5, 7, 15, 1, 11, 14, 15, 1, 3, 6, 7, 13, 14, 1, 5, 13, 5, 10, 11, 14, 2, 5, 11, 1, 5, 9, 10, 11, 9, 1, 2, 4, 5, 6, 9, 10, 14, 5, 6, 10, 11, 14, 1, 3, 15, 3, 12, 2, 3, 4, 5, 6, 9, 10, 11, 12, 13, 14, 7, 2, 3, 10, 13, 14, 7, 10, 10, 5, 10, 4, 13, 15, 1, 3, 5, 14, 1, 2, 3, 4, 6, 7, 8, 11, 12, 14, 15, 8, 6, 3, 12, 3, 7, 12, 13, 14, 15, 15, 3, 4, 6, 8, 15, 9, 11, 10, 2, 6, 10, 3, 4, 7, 8, 10, 12, 1, 6, 9, 10, 12, 13, 14, 2, 3, 4, 5, 9, 10, 2, 5, 1, 2, 10, 11, 14, 8, 14, 8, 12, 15, 1, 2, 3, 4, 5, 6, 7, 9, 11, 13, 14, 15, 1, 3, 5, 6, 7, 9, 11, 12, 15, 1, 5, 1, 14, 2, 3, 4, 5, 6, 7, 8, 9, 10, 12, 13, 14, 1, 2, 4, 6, 13, 14, 2, 3, 8, 12, 13, 1, 3, 4, 7, 8, 14, 15, 6, 9, 1, 2, 3, 4, 6, 7, 8, 11, 12, 15, 6, 13, 13, 5, 12, 1, 11, 7, 14, 15, 2, 3, 4, 10, 13, 14, 11, 12, 13, 15, 4, 5, 11, 2, 4, 5, 8, 10, 14, 7, 10, 14, 6, 8, 10, 13, 14, 3, 3, 7, 6, 7, 4, 9, 10, 11, 12, 13, 15, 3, 7, 12, 15, 2, 3, 6, 8, 12, 13, 8, 4, 2, 9, 15, 2, 3, 4, 5, 6, 7, 8, 11, 13, 14, 2, 5, 6, 9, 15, 1, 5, 11, 4, 5, 6, 9, 10, 11, 15, 1, 2, 3, 5, 6, 7, 8, 9, 11, 13, 15, 5, 1, 3, 4, 5, 6, 8, 12, 1, 1, 13, 2, 3, 4, 6, 7, 8, 9, 10, 2, 5, 7, 8, 9, 10, 11, 13, 14, 2, 3, 5, 6, 7, 8, 9, 12, 13, 14, 15, 7, 4, 9, 10, 5, 11, 6, 8, 10, 11, 12, 8, 7, 8, 6, 8, 1, 2, 5, 6, 7, 8, 9, 10, 11, 12, 13, 15, 2, 6, 13, 14, 6, 10, 14, 11, 8, 4, 6, 1, 4, 5, 9, 11, 15, 7, 10, 2, 3, 7, 8, 10, 11, 13, 14, 7, 15, 4, 6, 10, 11, 5, 8, 11, 13, 14, 1, 2, 5, 2, 4, 8, 11, 12, 14, 1, 8, 15, 5, 14, 7, 3, 4, 14, 1, 15, 5, 10, 12, 13, 1, 3, 12, 4, 5, 5, 9, 10, 14, 7, 15, 5, 13, 14, 7, 8, 13, 15, 2, 4, 5, 6, 9, 11, 13, 14, 2, 6, 9, 3, 14, 15, 5, 8, 10, 11, 14, 5, 1, 2, 5, 6, 7, 9, 11, 13, 15, 3, 9, 12, 1, 2, 4, 5, 6, 7, 10, 12, 13, 7, 11, 15, 1, 2, 5, 5, 14, 3, 12, 15, 1, 10, 11, 4, 7, 11, 12, 15, 1, 2, 4, 6, 7, 9, 11, 12, 14, 2, 3, 4, 6, 7, 8, 11, 12, 1, 11, 13, 15, 15, 6, 2, 6, 13, 14, 9, 9, 7, 4, 6, 8, 14, 2, 3, 4, 5, 6, 7, 8, 9, 12, 13, 3, 7, 8, 9, 11, 13, 15, 3, 1, 2, 3, 4, 6, 7, 9, 10, 11, 12, 13, 14, 15, 14, 2, 3, 4, 5, 6, 7, 9, 10, 12, 13, 3, 3, 5, 7, 8, 13, 8, 10, 11, 3, 2, 4, 5, 6, 7, 8, 10, 12, 13, 4, 9, 11, 13, 13, 4, 6, 10, 13, 13, 14, 4, 9, 11, 14, 5, 6, 13, 5, 1, 3, 9, 2, 5, 8, 12, 11, 13, 1, 6, 7, 8, 11, 14, 15, 7, 11, 1, 2, 6, 7, 8, 9, 10, 15, 7, 11, 3, 3, 9, 13, 3, 6, 11, 8, 10, 11, 13, 2, 2, 4, 2, 14, 2, 2, 5, 6, 7, 8, 10, 11, 13, 1, 2, 3, 4, 6, 7, 9, 12, 5, 6, 9, 10, 13, 5, 8, 9, 13, 15, 3, 6, 11, 2, 3, 5, 8, 13, 15, 11, 14, 13, 8, 9, 13, 7, 8, 10, 15, 4, 7, 9, 11, 2, 3, 4, 5, 9, 12, 8, 10, 13, 6, 8, 11, 13, 5, 15, 15, 5, 14, 7, 12, 2, 4, 9, 14, 2, 3, 4, 6, 7, 8, 9, 11, 12, 13, 14, 15, 2, 4, 6, 7, 9, 10, 11, 12, 5, 6, 11, 13, 14, 7, 10, 11, 15, 2, 4, 7, 9, 10, 11, 14, 15, 4, 11, 13, 9, 11, 13, 12, 3, 8, 4, 7, 9, 10, 11, 12, 14, 7, 4, 4, 7, 10, 12, 13, 4, 2, 12, 1, 7, 2, 7, 13, 11, 1, 2, 6, 7, 10, 11, 13, 1, 1, 6, 7, 9, 10, 11, 15, 5, 14, 7, 4, 1, 1, 6, 13, 11, 5, 6, 7, 13, 5, 1, 10, 12, 4, 2, 2, 11, 12, 10, 6, 3, 12, 13, 13, 6, 2, 3, 3, 3, 2, 12, 7, 10, 12, 6, 6, 2, 6, 10, 14, 10, 10, 10, 8, 2, 5, 6, 9, 1, 1, 2, 5, 9, 15, 9, 9, 14, 12, 3, 12, 10, 1, 13, 7, 4, 3, 12, 14, 12, 11, 10, 14, 3, 9, 9, 4, 14, 1, 9, 14, 3, 5, 9, 10, 11, 12, 13, 3, 3, 7, 4, 2, 2, 1, 12, 5, 5, 2, 11, 2, 2, 6, 5, 10, 5, 6, 5, 7, 7, 10, 14, 5, 4, 7, 8, 9, 6, 1, 11, 2, 8, 6, 6, 13, 10, 6, 5, 10, 5, 5, 10, 3, 4, 5, 9, 10, 5, 4, 3, 12, 13, 10, 4, 13, 2, 12, 12, 1, 9, 10, 6, 6, 3, 5, 9, 3, 4, 12, 11, 11, 1, 12, 2, 1, 13, 3, 9, 1, 12, 11, 5, 8, 12, 13, 8, 6, 11, 10, 1, 4, 11, 13, 1, 6, 9, 2, 4, 5, 11, 13, 1, 2, 7, 10, 12, 13, 2, 11, 5, 9, 13, 1, 2, 4, 5, 7, 8, 9, 10, 11, 12, 13, 3, 3, 12, 12, 7, 1, 7, 13, 2, 6, 5, 13, 14, 12, 6, 13, 12, 3, 13, 11, 3, 11, 12, 9, 2, 14, 12, 10, 11, 4, 2, 3, 6, 6, 4, 10, 6, 6, 6, 5, 5, 3, 7, 8, 10, 15, 6, 3, 8, 12, 11, 1, 2, 3, 13, 3, 12, 8, 12, 4, 5, 3, 2, 3, 7, 4, 10, 1, 6, 8, 6, 11, 14, 7, 12, 12, 1, 5, 6, 9, 11, 13, 5, 6, 9, 13, 6, 10, 1, 5, 6, 9, 10, 11, 13, 14, 3, 3, 4, 6, 1, 1, 6, 4, 12, 4, 6, 11, 4, 12, 14, 5], \"Freq\": [0.9970542097147571, 0.008363337756569231, 0.019514454765328208, 0.0027877792521897437, 0.9478449457445128, 0.019514454765328208, 0.9938699357546771, 0.9982110256004113, 0.9969272633425078, 0.06303357054818887, 0.0422786143920779, 0.0061496166388476945, 0.2106243698805335, 0.0015374041597119236, 0.09993127038127503, 0.009224424958271542, 0.039972508152510015, 0.5265609247013339, 0.21263111835998785, 0.7832361448450186, 0.5153152748786375, 0.07219712720022041, 0.03311794825698184, 0.08080779374703569, 0.14439425440044082, 0.01457189723307201, 0.002649435860558547, 0.13180943406278772, 0.0046365127559774575, 0.0007737412541042318, 0.002321223762312695, 0.09594391550892474, 0.08124283168094433, 0.4348425848065782, 0.38377566203569896, 0.006220665908628719, 0.0031103329543143597, 0.10575132044668822, 0.8833345590252781, 0.1623941505851291, 0.057956923000346425, 0.014345773019887728, 0.1850604719565517, 0.028691546039775456, 0.0530793601735846, 0.0008607463811932637, 0.13341568908495588, 0.007172886509943864, 0.08636155357972412, 0.16067265782274257, 0.0530793601735846, 0.05652234569835765, 0.0002869154603977546, 0.0885991456903784, 0.7324196043737947, 0.11517888939749192, 0.0630038369353802, 0.0035102307973915435, 0.07511893906417903, 0.18112790914540364, 0.26467140212332235, 0.47458320380733665, 0.0007020461594783087, 0.004905302010685106, 0.9908710061583914, 0.9859594093966884, 0.9576669444081982, 0.04052488183464536, 0.01945954578520296, 0.07450226100620562, 0.13315889187303168, 0.08451002741002428, 0.02168349387494044, 0.032525240812410657, 0.3010669726482115, 0.04614692286205273, 0.28688930357613507, 0.9122334813991535, 0.0005634548989494463, 0.08564514464031583, 0.0011269097978988925, 0.993268399557196, 0.9721320448977867, 0.9878659825634212, 0.0014012714365525863, 0.17025447954113926, 0.30407590173191124, 0.029426700167604316, 0.4736297455547742, 0.020318435830012502, 0.9896419315047492, 0.007497287359884463, 0.0049001442268159735, 0.9677784847961548, 0.02450072113407987, 0.009773099978622711, 0.9748667228676153, 0.012216374973278387, 0.23010021681437018, 0.5256056322437839, 0.2356163179023859, 0.00709212997030593, 0.993268399557196, 0.00317146123665141, 0.24948828394991093, 0.028190766548012534, 0.27133612802462065, 0.04545761105867021, 0.1666779072151241, 0.19204959710833538, 0.01162869120105517, 0.032066996948364256, 0.0012263430990608363, 0.017168803386851707, 0.035563949872764254, 0.024526861981216726, 0.7897649557951786, 0.13121871159950949, 0.986876057597109, 0.993112773768218, 0.37924412419736053, 0.03371058881754316, 0.43402383102586817, 0.027389853414253817, 0.002809215734795263, 0.12220088446359395, 0.002905501659117339, 0.9951343182476886, 0.2535556222958666, 0.018957429704363857, 0.5817561240526659, 0.14336556213925167, 0.9843374368154812, 0.006350564108486976, 0.9789233487979707, 0.9965733484644873, 0.9947631042580672, 0.6812641058266005, 0.023349777820669774, 0.16070141205990374, 0.11537537276095652, 0.013735163423923396, 0.004120549027177019, 0.0020869339242924967, 0.7575570145181764, 0.0020869339242924967, 0.0041738678485849934, 0.09599896051745485, 0.1377376390033048, 0.01931250273938951, 0.12875001826259674, 0.7188542686328317, 0.006437500913129836, 0.12445835098717684, 0.9151925656196827, 0.04772240459917605, 0.036946377754200815, 0.9977491452295201, 0.004598589898024883, 0.8484398361855909, 0.14025699188975893, 0.0022992949490124415, 0.0017353147397210528, 0.008676573698605264, 0.9873940869012791, 0.022193182816735876, 0.06750426440090496, 0.7730625347829664, 0.045311081584169084, 0.0425369337320771, 0.04993466133765572, 0.16799930576778374, 0.01633326583853453, 0.025666560603411406, 0.7396636101164923, 0.04899979751560359, 0.12802053896498608, 0.11389413466540142, 0.001765800537448084, 0.588011578970212, 0.00441450134362021, 0.000882900268724042, 0.16245364944522372, 0.1429165558867333, 0.5385439316246861, 0.317728652143038, 0.5894862101282584, 0.4098857386312376, 0.9855441268075893, 0.001278390539654475, 0.1103677165901697, 0.8032553890828952, 0.08522603597696501, 0.03981493699076523, 0.007109810176922362, 0.0014219620353844724, 0.03128316477845839, 0.9185874748583691, 0.1251510169053143, 0.8728064425734257, 0.9887281952374457, 0.004913204703191328, 0.172617258572122, 0.0003275469802127552, 0.4887000944774308, 0.31641038288552154, 0.0009826409406382657, 0.015722255050212252, 0.9930811104495505, 0.09946290183215983, 0.31607099915553016, 0.5824105473949803, 0.3732101359150856, 0.5893550022751738, 0.03458317861761411, 0.0014409657757339213, 0.025115062510868546, 0.0025115062510868546, 0.966929906668439, 0.2149472505856383, 0.059853197825675705, 0.6920252945683965, 0.031455695207654386, 0.000873769311323733, 0.9877224381606561, 0.008058756456792025, 0.028205647598772088, 0.08058756456792025, 0.8824338320187267, 0.8941330989042907, 0.0012198268743578318, 0.04513359435123978, 0.015857749366651814, 0.041474113728166284, 0.9947037646303363, 0.9921960102684096, 0.6785173892650201, 0.1457378899477684, 0.17082392018467937, 0.0011945728684243312, 0.0011945728684243312, 0.0011945728684243312, 0.9883293742441652, 0.9951737398734161, 0.0876238033578342, 0.0006395898055316366, 0.15861827177184587, 0.06843610919188511, 0.5890622108946373, 0.0006395898055316366, 0.0946592912186822, 0.09745808203527129, 0.03248602734509043, 0.0009844250710633463, 0.451851107618076, 0.04528355326891393, 0.1378195099488685, 0.23330874184201308, 0.6120354701363768, 0.021896556959503884, 0.0005340623648659484, 0.17170105030440241, 0.06034904722985217, 0.05287217412172889, 0.08037638591232524, 0.003548037637975386, 0.9934505386331081, 0.9729075004844553, 0.0002552511217244912, 0.07044930959595956, 0.03547990591970428, 0.09750592849875563, 0.0750438297870004, 0.03879817050212266, 0.02782237226796954, 0.0811698567083882, 0.053092233318694164, 0.11613926038464349, 0.19884062382337864, 0.08065935446493921, 0.059984013605255425, 0.06457853379629627, 0.9929121605181054, 0.9849297747147614, 0.014633035904603022, 0.0001806547642543583, 0.9959728935926113, 0.9803553267700652, 0.0012892086279364568, 0.0012892086279364568, 0.0012892086279364568, 0.01675971216317394, 0.9785093486037707, 0.9451111201671091, 0.0012226534542912149, 0.05257409853452224, 0.9992017616746165, 0.7928524307012124, 0.0645676230990209, 0.00047476193455162416, 0.141479056496384, 0.15697732443536402, 0.07554533738451893, 0.00196221655544205, 0.701492418570533, 0.059847604940982534, 0.0039244331108841, 0.27189016327262683, 0.08175075855156685, 0.40599814921115224, 0.2397409885613365, 0.26866874384582073, 0.17756508772531565, 0.19381287353024648, 0.029594181287552607, 0.3301782186787732, 0.006593179608793867, 0.9757905821014924, 0.006593179608793867, 0.9811706270027718, 0.024493510537311726, 0.0003180975394456068, 0.018131559748399587, 0.0003180975394456068, 0.8913093055265903, 0.0028628778550104615, 0.02004014498507323, 0.022584925300638083, 0.01972204744562762, 0.00822927872238004, 0.0027430929074600137, 0.6373119188332098, 0.35111589215488176, 0.2627133772279821, 0.6747585688802908, 0.024888635737387775, 0.002765403970820864, 0.0345675496352608, 0.9970385989849292, 0.9986189381221713, 0.002489920731044092, 0.2054184603111376, 0.001244960365522046, 0.7893048717409772, 0.9971577176874501, 0.05083310631292624, 0.037696460861271146, 0.12851066202706074, 0.5254658180662038, 0.1485012094534924, 0.0005711584978980477, 0.03655414386547505, 0.07082365373935791, 0.008138721914852, 0.1277779340631764, 0.8635183951657971, 0.026956012877310174, 0.002995112541923353, 0.9629286822283579, 0.004492668812885029, 0.1311834068445812, 0.01338606192291645, 0.001338606192291645, 0.05756006626854073, 0.7937934720289455, 0.00267721238458329, 0.10612344042178011, 0.8914368995429529, 0.9955469535297923, 0.004659281780983325, 0.9924270193494482, 0.5487826335963326, 0.09599312840063645, 0.0008766495744350361, 0.11484109425098973, 0.02279288893531094, 0.0582971966999299, 0.0013149743616525543, 0.15648194903665394, 0.581193389829461, 0.3872245529784016, 0.03066419111983659, 0.0019659589142260866, 0.0003931917828452173, 0.7922814424331128, 0.1360443568644452, 0.04718301394142608, 0.010616178136820868, 0.0007863835656904346, 0.009043411005439999, 0.001179575348535652, 0.9927608647858128, 0.04393850095512591, 0.9545260552320456, 0.9898281717178782, 0.00265374816955008, 0.00265374816955008, 0.9898480672421799, 0.00265374816955008, 0.04169893620134281, 0.6316945228799166, 0.18986324142739064, 0.01863143957932338, 0.015969805353705756, 0.10114210057346978, 0.0008872114085392086, 0.0039324609293158105, 0.8887361700253733, 0.07471675765700041, 0.027527226505210677, 0.993871283323154, 0.9929457729652794, 0.028130210432928834, 0.8551583971610366, 0.11252084173171534, 0.10270104583251417, 0.004053988651283454, 0.16080821650091034, 0.7297179572310217, 0.37285435906323716, 0.626610776788458, 0.0002992410586382321, 0.2616819288584641, 0.7363011135527371, 0.13149449992578577, 0.8661104395111756, 0.007195209143516497, 0.9785484435182434, 0.007195209143516497, 0.5339041386324502, 0.4655902098563048, 0.9950727173230683, 0.994361252472747, 0.005639824757246546, 0.9841494201395222, 0.005639824757246546, 0.007366275113997486, 0.004910850075998324, 0.984625440237664, 0.11195322867223018, 0.1984274466811252, 0.21309718009334847, 0.4478129146889207, 0.01775809834111237, 0.010809277251111879, 0.9122287216722883, 0.0005625832387741524, 0.0002812916193870762, 0.08663781877121948, 0.9013093625366148, 0.00033307810884575565, 0.0004996171632686335, 0.09759188589180641, 0.015515719657154111, 0.9774903384007091, 0.9995965542866717, 0.9835535054106188, 0.010611036696375345, 0.9514562904416559, 0.03537012232125115, 0.9830399857582747, 0.9911252921794727, 0.006061928392535001, 0.038204563798880015, 0.8574802097081959, 0.011673616716324449, 0.0021224757666044453, 0.0010612378833022226, 0.012734854599626672, 0.07640912759776003, 0.6897567483306066, 0.3099105867250837, 0.09169246723522187, 0.0008043198880282621, 0.9064685138078513, 0.03760907992285037, 0.04855855888773086, 0.23089118686813204, 0.21946564360043067, 0.0775984813598052, 0.0014281929084626723, 0.0518910090074771, 0.03665695131720859, 0.23517576559352005, 0.06046016645825313, 0.0039564190019359844, 0.989104750483996, 0.011225637346252705, 0.0028064093365631764, 0.9822432677971117, 0.9963845229054039, 0.14156845656718234, 0.8559953187783118, 0.016577473515509387, 0.004144368378877347, 0.07045426244091489, 0.9034723065952616, 0.9950324113666649, 0.8891665473688443, 0.10635371776595355, 0.002473342273626827, 0.40723377864379084, 0.4052424154230388, 0.046299194882484775, 0.14039110706301836, 0.0004978408051880083, 0.0859143804706251, 0.7807823368044722, 0.07741735383067318, 0.050038045768605835, 0.003776456284423082, 0.07324114207141687, 0.05485672584296405, 0.05989761416366886, 0.40386411134117317, 0.025204441603524023, 0.015419187804508815, 0.13551093897424094, 0.1008177664140961, 0.1037829948380401, 0.027280101500284825, 0.9851976560702742, 0.004192330451362869, 0.004192330451362869, 0.0004069012745910499, 0.04394533765583339, 0.0004069012745910499, 0.0004069012745910499, 0.954183488916012, 0.09189013213971726, 0.018918556617000613, 0.02972916039814382, 0.8567403496555992, 0.010690728566998892, 0.9862197103056477, 0.15544937109065593, 0.07254303984230609, 0.7689562223284446, 0.13904138823304193, 0.0016751974485908665, 0.8560258962299329, 0.9706653365194426, 0.009610547886331115, 0.009610547886331115, 0.9940974126803995, 0.003987021708611228, 0.9980841597280969, 0.9777604935759716, 0.9971673410218411, 0.8632397584754987, 0.13576605116477566, 0.9892618930900647, 0.00539408819613664, 0.9709358753045952, 0.01618226458840992, 0.0018681831534348716, 0.008406824190456923, 0.05324321987289384, 0.0009340915767174358, 0.026154564148088203, 0.11676144708967948, 0.7911755654796682, 0.0009090098428907242, 0.827198957030559, 0.06272167915945998, 0.10817217130399619, 0.9946437213173699, 0.5263068085037149, 0.14091213079082057, 0.020784539291646035, 0.0123298114441968, 0.029943827793049375, 0.2691421698104673, 0.004320597426474012, 0.07399023092836746, 0.4871473598349449, 0.25437517348365746, 0.0534673931526159, 0.12637747472436486, 0.824820554998679, 0.04109160373634723, 0.0537926448912182, 0.07471200679335861, 0.002988480271734344, 0.000747120067933586, 0.000747120067933586, 0.9969532274656149, 0.2335592250498787, 0.05401057079278444, 0.7094361460890065, 0.023524012410323668, 0.141144074461942, 0.0022765173300313226, 0.09902850385636253, 0.048945122595673435, 0.478448058861583, 0.19236571438764677, 0.0015176782200208817, 0.012900264870177494, 0.9826322178860475, 0.9861634849061292, 0.9943905819386971, 0.6650289987024993, 0.2660115994809997, 0.06779421831433245, 0.9544822813158146, 0.04426897458591447, 0.8822335930557853, 0.0011048636105895871, 0.11601067911190664, 0.008258796180629793, 0.002752932060209931, 0.8836911913273878, 0.10185848622776744, 0.9892618930900647, 0.02788641034269604, 0.003983772906099434, 0.007967545812198868, 0.9481379516516653, 0.007967545812198868, 0.9865729189160636, 0.010170854834186224, 0.23968102257523133, 0.04186209640868766, 0.1625234331160815, 0.4621247113351207, 0.010670730457116463, 0.08208254197781895, 0.9967552274893939, 0.12006914411913987, 0.03231218557334651, 0.2507866221204053, 0.2886065665982995, 0.03781994447789421, 0.09069442996155214, 0.0007343678539396934, 0.04185896767456252, 0.0007343678539396934, 0.13585805297884326, 0.9984509359273205, 0.9956755507667457, 0.003163611094490693, 0.9933738836700776, 0.9943294291110927, 0.005289003060297413, 0.9890435722756163, 0.029412818233168214, 0.8004488390597921, 0.1575686691062583, 0.008403662352333776, 0.9897524330066271, 0.9631961629372172, 0.022142440527292348, 0.005535610131823087, 0.006140214423098612, 0.9929603895639469, 0.9943156926780522, 0.01837065410772669, 0.006123551369242229, 0.006123551369242229, 0.96139756497103, 0.2696123627429821, 0.012255107397408278, 0.01414050853547109, 0.5439382283311213, 0.125379175681177, 0.0018854011380628121, 0.03205181934706781, 0.06418397881263269, 0.08099406850165553, 0.852730004224977, 0.9956711342846656, 0.002310141842887855, 0.05790962491665897, 0.24147220955814402, 0.09833709891508127, 0.002185268864779584, 0.46764753706283096, 0.05353908718709981, 0.002185268864779584, 0.07539177583489565, 0.0013599683613212904, 0.6228655094851511, 0.07751819659531356, 0.29647310276804134, 0.963292717323439, 0.20946619894149535, 0.00954671684183759, 0.1909343368367518, 0.5896501578782041, 0.09244150492939328, 0.0881030949507575, 0.13882911931634515, 0.03637589905163851, 0.007008200734719346, 0.0770902080819128, 0.060737739700900996, 0.08910426648428882, 0.03871196596321162, 0.09911598181960217, 0.027365355249856494, 0.03737707058516984, 0.1518443492522525, 0.05539815818873388, 0.9831768966408698, 0.0013712369548687167, 0.010969895638949734, 0.0027424739097374334, 0.2296341685667838, 0.0891596352815166, 0.24182145684267453, 0.43810094170702046, 0.0006414362250468821, 0.9771426146227681, 0.05588367866739178, 0.14127393967116642, 0.02414174918431325, 0.36257330719403785, 0.13233255108438374, 0.02011812432026104, 0.08986095529716598, 0.021459332608278443, 0.11310856562280096, 0.03889504035250468, 0.00044706942933913426, 0.015035059789981264, 0.9802858983067784, 0.7430798217143146, 0.2564564294436407, 0.16204643428152857, 0.8372399104545643, 0.9691299759128558, 0.006873262240516708, 0.020619786721550123, 0.9946092473454187, 0.1568703499145874, 0.001254962799316699, 0.7605074563859197, 0.04266873517676777, 0.03388399558155088, 0.0037648883979500974, 0.6516737476252928, 0.019294559515182618, 0.14567392433962875, 0.051130582715233935, 0.0265300193333761, 0.06222495443646394, 0.038589119030365236, 0.004341275890916089, 0.928535113300925, 0.003304395420999733, 0.0671893735603279, 0.014083649855412175, 0.9811609399270482, 0.9883891842173691, 0.01104845992578106, 0.002209691985156212, 0.004419383970312424, 0.002209691985156212, 0.9788935494242019, 0.6866210763582347, 0.00030652726623135474, 0.3123512842897505, 0.00030652726623135474, 0.2901669698322766, 0.19504147736367647, 0.5132670456938855, 0.08570707118261657, 0.9135594632874358, 0.4951193346896206, 0.5043206674581888, 0.0903817786696916, 0.3933352942964261, 0.47479526648799364, 0.041505795354751074, 0.11798145085607835, 0.42947035709352765, 0.10502136723931217, 0.10233997062894676, 0.08178259661614522, 0.0040220949155481255, 0.1099372610249821, 0.04960583729176021, 0.07842739113029452, 0.001985503572918849, 0.7405928326987307, 0.17770256977623697, 0.9908527540560718, 0.9939515248152117, 0.9914237821209633, 0.08687061460869884, 0.592249976325972, 0.0786752736078782, 0.09834409200984774, 0.0016390682001641292, 0.10216858447689738, 0.004370848533771011, 0.03496678827016809, 0.10568812446761928, 0.8545639778381787, 0.03623592838889804, 0.9994113106302194, 0.0019647970995928963, 0.02390503137838024, 0.15816616651722817, 0.021285301912256378, 0.1309864733061931, 0.07793695161718489, 0.08252147818290166, 0.34056483059610204, 0.010478917864495448, 0.0550143187886011, 0.03503888160940666, 0.06221857482044172, 0.07939623121176477, 0.001167591635467129, 0.12960267153685132, 0.10625083882750874, 0.001167591635467129, 0.07122308976349487, 0.5079023614282011, 0.001167591635467129, 0.10158047228564022, 0.03406896319478806, 0.9607447620930233, 0.9571704957358607, 0.0005908459850221362, 0.04195006493657167, 0.957589972181729, 0.030171714431385287, 0.9676499842637138, 0.00858122840409757, 0.9782600380671229, 0.9980993605116576, 0.9938983612572714, 0.0073871424070700974, 0.0018467856017675244, 0.0018467856017675244, 0.986183511343858, 0.13594008987154013, 0.18628827130544387, 0.0025174090716951875, 0.0012587045358475938, 0.6054368817426926, 0.039019840611275405, 0.028950204324494657, 0.9950057872617288, 0.07342598908467939, 0.9259833067901234, 0.0010389783131568558, 0.31481042888652727, 0.5454636144073493, 0.13714513733670497, 0.43965123772273745, 0.5584110536423855, 0.0011995941001984652, 0.002551759220945844, 0.8956674865519911, 0.10079448922736083, 0.12270272733203513, 0.06917469191873121, 0.057645576598942684, 0.5303393047102727, 0.2190531910759822, 0.004483086334901491, 0.001724263974962112, 0.16863301675129455, 0.05483159440379516, 0.05379703601881789, 0.15345949377162796, 0.0693154117934769, 0.05138306645387094, 0.13138891489211293, 0.31036751549318015, 0.0003448527949924224, 0.9842733442678009, 0.9822687882954649, 0.00861639287978478, 0.025262094285253254, 0.15679920590846846, 0.0561863821172012, 0.08449734985067467, 0.00827551364516917, 0.024826540935507506, 0.06271968236338739, 0.34974933984583384, 0.19556345403583983, 0.006533300246186186, 0.02961762778271071, 0.03385427867603425, 0.008060542541912916, 0.10156283602810275, 0.14025344022928476, 0.0016121085083825833, 0.7141640692134844, 0.06777094449312816, 0.8040538485934705, 0.008713407149116477, 0.04017848852092598, 0.03727401947122049, 0.029044690497054926, 0.013070110723674717, 0.26978956861601916, 0.1191427394312781, 0.0704546007213808, 0.0028640081594057238, 0.014892842428909762, 0.0034368097912868684, 0.2789543947261175, 0.04811533707801616, 0.10654110352989292, 0.08534744315029057, 0.0028601045079057153, 0.045761672126491446, 0.0028601045079057153, 0.0028601045079057153, 0.943834487608886, 0.5829651369531659, 0.23171484938832462, 0.18436042580301226, 0.0004597516852942949, 0.9849324055028519, 0.9940251925025919, 0.9932378787693246, 0.9864882835016667, 0.9823103970049206, 0.9659907565064598, 0.02773179205281703, 0.9208113983220857, 0.0009790658142712235, 0.07799890987027414, 0.8815728604217675, 0.11790669860947962, 0.9938983612572714, 0.00988637485708963, 0.9787511108518734, 0.4805332364331384, 0.5179617045975285, 0.9855090659749577, 0.9777604935759716, 0.120253817520581, 0.0074090029752016725, 0.681628273718554, 0.0011398466115694881, 0.15615898578501988, 0.01709769917354232, 0.0011398466115694881, 0.01253831272726437, 0.0017097699173542322, 0.009039848636589258, 0.0007136722607833625, 0.35778769340605904, 0.4748299441745305, 0.15748367887952866, 0.003667353839636504, 0.8214872600785769, 0.051342953754911054, 0.09901855367018561, 0.003667353839636504, 0.01833676919818252, 0.003707937880899454, 0.8639495262495728, 0.003707937880899454, 0.12606988795058144, 0.9697612308666521, 0.9950162763132807, 0.9251049588517921, 0.06869591278602417, 0.03797385660837643, 0.9611314051913208, 0.992863526684484, 0.29411679243704164, 0.0606907666933578, 0.6442558310525675, 0.9686207987947916, 0.0167003585999102, 0.04053168516105083, 0.05836562663191319, 0.06485069625768132, 0.12321632288959453, 0.011348871845094232, 0.03242534812884066, 0.35830009682368935, 0.30966207463042833, 0.03045009404072821, 0.05154937180123279, 0.26326144296629583, 0.11508696960275229, 0.05922183644141628, 0.007432700120177752, 0.18653679656446098, 0.15153117664362384, 0.05130960728122706, 0.08343805296199541, 0.9068028837527897, 0.051976419130149665, 0.03991046468922207, 0.990783100059813, 0.4062118906414483, 0.12438804786873726, 0.10786417435111903, 0.00045899648660050656, 0.36077123846799813, 0.11540332388360063, 0.4059895327761019, 0.049230226809070625, 0.026533174189304298, 0.04315636765730217, 0.0658534202770685, 0.01054933431622942, 0.12467395100998405, 0.04091863007507169, 0.11732138466836961, 0.9948302226415745, 0.023549681149388053, 0.07513469700042855, 0.06915382559740936, 0.21792800174751167, 0.07737752377656075, 0.05457545155255009, 0.15139080738892322, 0.03625903288080383, 0.0007476089253773985, 0.07476089253773985, 0.018690223134434962, 0.009718916029906181, 0.19064027597123662, 0.9918868933089227, 0.00032479833645067136, 0.04059979205633392, 0.07502841572010509, 0.007795160074816113, 0.069182045663993, 0.04319817874793929, 0.15070642811311152, 0.5586531386951548, 0.035403018673123184, 0.01883830351413894, 0.2558318919135636, 0.40166028499773654, 0.3422331074692152, 0.057572679239287855, 0.03310429056259052, 0.8247286301027985, 0.010075218866875376, 0.0014393169809821965, 0.07196584904910983, 0.03993757653037203, 0.008875017006749341, 0.249240060939544, 0.07321889030568207, 0.019229203514623573, 0.025145881519123135, 0.5657823341802706, 0.01701044926293624, 0.9960664213543389, 0.0508305857871827, 0.02072979196907451, 0.3064033634881013, 0.23285519746083697, 0.043163402456155145, 0.006247334566022455, 0.10819247589338887, 0.038619886408138814, 0.031236672830112274, 0.11330393144740725, 0.047990888257172494, 0.9904506142067049, 0.0041441448293167565, 0.1910773036877489, 0.03381489253140768, 0.10260272185899728, 0.11858373271288174, 0.09750732709399064, 0.02107640561889109, 0.03589937220800131, 0.08384240476965467, 0.0018528708236387771, 0.07596770376918986, 0.0442372909143758, 0.02246605873662017, 0.07550448606328017, 0.09542284741739702, 0.011192603555859661, 0.9849491129156501, 0.995599436065865, 0.07505960126671651, 0.9217319035552788, 0.02888290981734889, 0.0169899469513817, 0.16904997216624792, 0.0012742460213536276, 0.027608663795995265, 0.044173862073592425, 0.5640662387858725, 0.050969840854145104, 0.0917457135374612, 0.004247486737845425, 0.048008316173619725, 0.34052410309195386, 0.05135773358108157, 0.32266054358549073, 0.0011164724691539471, 0.0022329449383078942, 0.10159899469300919, 0.12225373537235722, 0.009490015987808551, 0.0002218968531095371, 0.10695428319879688, 0.35902910833123103, 0.049926791949645846, 0.0945280594246628, 0.15199934438003293, 0.10140686187105846, 0.061909222017560855, 0.0002218968531095371, 0.03062176572911612, 0.04282609265014066, 0.9925375756482209, 0.07146393837505727, 0.037993486224714, 0.016282922667734567, 0.024424384001601854, 0.8485211923519459, 0.06229810049131223, 0.06817527978294546, 0.0717015873579254, 0.1763153787489969, 0.009403486866613167, 0.012929794441593104, 0.002350871716653292, 0.5947705443132828, 0.005455068712732031, 0.7937124977025105, 0.0722796604436994, 0.1268303475710197, 0.2536469103918731, 0.01733198336449067, 0.001999844234364308, 0.16632037882463163, 0.07799392514020802, 0.008332684309851283, 0.03466396672898134, 0.2759785043422745, 0.016998675992096618, 0.14632193648098854, 0.32842039171872417, 0.003069349455315179, 0.041129282701223395, 0.5371361546801563, 0.08962500409520323, 0.002781571235615871, 0.10569970695340311, 0.050068282241085685, 0.7899662309149075, 0.019470998649311098, 0.030597283591774584, 0.1189307113641372, 0.16378457965004037, 0.022426934142951587, 0.0027184162597517075, 0.0428150560910894, 0.16038655932535076, 0.05164990893528244, 0.43630580969014904, 0.8784265004805173, 0.11852665264995631, 0.001107725725700526, 0.14213663764049028, 0.07106831882024514, 0.7535692426629442, 0.0036759475251850935, 0.029407580201480748, 0.9923004075449954, 0.7063391096210685, 0.16887058935340876, 0.12398804068805094, 0.9950013893643289, 0.996733448670913, 0.024637648638294842, 0.5232368431149735, 0.45182942079042404, 0.9953153165649629, 0.9960195379600111, 0.1707652381208391, 0.10029069540430233, 0.7277851815150047, 0.10435117329705147, 0.0009317069044379597, 0.6726923850042068, 0.0027951207133138788, 0.09037556973048208, 0.07826337997278861, 0.04938046593521186, 0.29280662088062803, 0.0005927259531996519, 0.0011854519063993038, 0.7047511583543861, 0.0015147541352948017, 0.833114774412141, 0.16359344661183858, 0.9987611988049406, 0.9990488216922153, 0.996150985213679, 0.9843263251538458, 0.0035793684551048937, 0.0071587369102097875, 0.013950329572642929, 0.976523070085005, 0.0046501098575476435, 0.9764711780571674, 0.020485409329870644, 0.9781786796797597, 0.01716102946806596, 0.002149861202668497, 0.8943422603100947, 0.10247671732719835, 0.9954573070759719, 0.2149069897673594, 0.0069324835408825615, 0.7764381565788468, 0.15170025709768234, 0.30128094972493796, 0.1710791322558693, 0.0003027949243466713, 0.36910701277859237, 0.006055898486933426, 0.12911188495370585, 0.012911188495370584, 0.8435309816975448, 0.008607458996913722, 0.9980977929312239, 0.9958983172596703, 0.0033302889451803175, 0.9924261056637346, 0.995766414256966, 0.024455125258806897, 0.7602050366166259, 0.09851921889976493, 0.0838461437444808, 0.032839739633254976, 0.05739273477451331, 0.07822708369950787, 0.26848793048625064, 0.04638590892734637, 0.0483514135429119, 0.19026084678674274, 0.07704778093016855, 0.12421989170374113, 0.06250304677498367, 0.02987567015659597, 0.01297233046273246, 0.004717211077357258, 0.9890495518813964, 0.002511302372613503, 0.9944757395549471, 0.000786425869159714, 0.17694582056093563, 0.580382291439869, 0.059768366056138264, 0.01572851738319428, 0.1336923977571514, 0.033029886504707985, 0.08466344551019996, 0.0318025125266741, 0.0004297636827928932, 0.11259808489173802, 0.04899305983838982, 0.11302784857453091, 0.06962171661244869, 0.20628656774058873, 0.13451603271417556, 0.07177053502641316, 0.022347711505230447, 0.10314328387029437, 0.9823194399661598, 0.9743924125303797, 0.02425607137017241, 0.20375099950944825, 0.01940485709613793, 0.743852855351954, 0.006468285698712643, 0.23430721146940361, 0.0857097808188944, 0.0796238792222865, 0.06187333289884684, 0.01014316932767981, 0.06136617443246285, 0.03448677571411136, 0.0005071584663839905, 0.04564426197455915, 0.0588303821005429, 0.32711721081767386, 0.9802040132835413, 0.006902845163968601, 0.006902845163968601, 0.016126835513517214, 0.9756735485677915, 0.1594691592339578, 0.030717420016377114, 0.8094366955379374, 0.04909745523269823, 0.011330181976776514, 0.9385167404096546, 0.0007275225175536656, 0.9661499033112678, 0.03201099077236128, 0.988848557588728, 0.00046420286518392536, 0.16432781427510956, 0.5050527173201108, 0.05524014095688712, 0.04084985213618543, 0.029244780506587294, 0.06081057533909422, 0.09469738449752077, 0.049205503709496085, 0.1440509571271583, 0.16748324615317603, 0.4782491776621655, 0.08450989484793286, 0.12484416284353718, 0.3996773237083796, 0.5990824960574627, 0.03901056736389453, 0.6478540651503912, 0.0027864690974210376, 0.1044925911532889, 0.13653698577363085, 0.0668752583381049, 0.0027864690974210376, 0.739651973043285, 0.0648598694742847, 0.0498922072879113, 0.0848167523894492, 0.05987064874549356, 0.006509974942481762, 0.9830062163147459, 0.005390736964230567, 0.07367340517781774, 0.12758077482012342, 0.09523635303474001, 0.023359860178332456, 0.6738421205288209, 0.0008793384118974594, 0.04396692059487297, 0.41768574565129324, 0.1389354690797986, 0.06419170406851454, 0.0562776583614374, 0.052760304713847565, 0.045139371810736253, 0.0011724512158632792, 0.08412337473819029, 0.09291675885716488, 0.0011724512158632792, 0.0008793384118974594, 0.002171088463175542, 0.002171088463175542, 0.001085544231587771, 0.9921874276712227, 0.001085544231587771, 0.16019285101706157, 0.08955225351995456, 0.03671086169140994, 0.17910450703990913, 0.024473907794273296, 0.03782331204569509, 0.1240382145027942, 0.3476407357141093, 0.002210276334054042, 0.06557153124360324, 0.6232979262032398, 0.000736758778018014, 0.212186528069188, 0.0950418823643238, 0.05512176815262869, 0.09779668543208316, 0.023115580193037836, 0.761036024816938, 0.014224972426484824, 0.033784309512901456, 0.01244685087317422, 0.008463839641495278, 0.17703531250127622, 0.10509267554856636, 0.01199043949211831, 0.01199043949211831, 0.0007053199701246064, 0.13048419447305218, 0.41966538222414085, 0.10509267554856636, 0.0007053199701246064, 0.02962343874523347, 0.012864273399292117, 0.9776847783462009, 0.0027072345330320983, 0.0006768086332580246, 0.49339349364509993, 0.07106490649209259, 0.019627450364482713, 0.10558214678825184, 0.11641108492038023, 0.08866193095680122, 0.10152129498870369, 0.5396292440232404, 0.023728378105986457, 0.11098757501187215, 0.0773085867324075, 0.03980244069391277, 0.044395030004748856, 0.13165422691063455, 0.006123452414448119, 0.027555535865016533, 0.031051780415873097, 0.0410515063125102, 0.073682190817326, 0.10368136850723729, 0.10078671101084234, 0.3070968452993551, 0.11104958758896989, 0.08762917693631984, 0.00026315068149045, 0.10078671101084234, 0.04289356108294334, 0.0817149937580304, 0.021714473865770318, 0.05714335227834294, 0.2348591778639895, 0.0017143005683502883, 0.04171464716319035, 0.2520021835474924, 0.03771461250370634, 0.047428982391024645, 0.11771530569338647, 0.06628628864287782, 0.03257171079865548, 0.007428635796184583, 0.3062291937961614, 0.435893807385527, 0.01862204556868549, 0.0172426347858199, 0.09173081706056187, 0.04552055583456453, 0.08207494158050271, 0.000689705391432796, 0.004608559850665091, 0.004608559850665091, 0.009217119701330182, 0.963189008789004, 0.013825679551995275, 0.0012364274697344907, 0.030292473008495024, 0.0006182137348672453, 0.937212022058744, 0.029674259273627778, 0.07785432274602831, 0.04411744955608271, 0.14844224203576065, 0.17491271176941028, 0.039446190191321014, 0.004671259364761699, 0.1235288587570316, 0.06851180401650492, 0.058650256468674666, 0.26055246679004146, 0.2762917569581313, 0.013322244046199203, 0.0005792280020086609, 0.0017376840060259829, 0.06950736024103932, 0.004633824016069287, 0.4604862615968855, 0.012743016044190541, 0.1604461565563991, 0.0017783340294460959, 0.0035566680588921917, 0.035566680588921915, 0.9567437078419996, 0.9607927499396925, 0.021635629331975298, 0.01736543933224333, 0.8907736795744882, 0.06581317563866493, 0.00306107793668209, 0.00306107793668209, 0.03673293524018508, 0.008359690834036027, 0.8046202427759676, 0.18391319834879258, 0.003286668255451027, 0.026293346043608216, 0.966280467102602, 0.08603685094646583, 0.9103253906593803, 0.5276947185793539, 0.11597076359945843, 0.01942094127263658, 0.02275024549080285, 0.012762332836304038, 0.08045818527235155, 0.05215909941793824, 0.0005548840363610451, 0.16812986301739666, 0.07695657543598033, 0.9213111143744124, 0.9871355579784818, 0.004490937376844774, 0.9880062229058502, 0.10669755018884704, 0.0045403212846317886, 0.0045403212846317886, 0.029512088350106627, 0.8535804015107763, 0.08060259329880785, 0.07692363675819837, 0.3217414720060297, 0.10836199265067943, 0.18729233297648298, 0.15886403243540967, 0.0658867671363699, 0.9983763400854472, 0.9517399221161414, 0.04287116766288925, 0.0024412411447371335, 0.013426826296054236, 0.2429034939013448, 0.7396960668553515, 0.10030783382049209, 0.8992242678352195, 0.9953040848983974, 0.4285807183846888, 0.05562826141195994, 0.29973479670814407, 0.001573035669746939, 0.17546497879813586, 0.03903988525826495, 0.8806006011312265, 0.09389689406874749, 0.02283978504374939, 0.0012688769468749662, 0.34289833039261053, 0.15068690673932447, 0.0004280878032367172, 0.027397619407149902, 0.47817407621541314, 0.9961422329957291, 0.9900403404223639, 0.9651936492499841, 0.03005793371366732, 0.2676540217761276, 0.22407098419160637, 0.07362332337724209, 0.3560512561989701, 0.000984927403040028, 0.000492463701520014, 0.00246231850760007, 0.04062825537540116, 0.03324129985260094, 0.000492463701520014, 0.10837673446043758, 0.2114109538418395, 0.0053425150790356556, 0.10074457006181521, 0.009158597278346838, 0.04884585215118314, 0.11066638378002429, 0.3403945321785575, 0.0648733973882901, 0.6850128290049733, 0.03894129777289254, 0.2731791040734734, 0.002360078652902578, 0.014167028842488534, 0.1515872086146273, 0.655933435407219, 0.17708786053110667, 0.9982562905831306, 0.0006704206115400475, 0.0013719931848757614, 0.9192354338667602, 0.0782036115379184, 0.9871924448296622, 0.9957433039682284, 0.865055821991699, 0.1333094099839159, 0.0005821371615018162, 0.9915883749861748, 0.005448287774649312, 0.9914828318204415, 0.022847198399509456, 0.0038078663999182426, 0.125659591197302, 0.03807866399918242, 0.675896285985488, 0.04379046359905979, 0.06854159519852837, 0.022847198399509456, 0.16566835130092564, 0.07215520527043799, 0.08658624632452559, 0.12410695306515335, 0.03521174017197374, 0.06407382228014893, 0.04271588152009929, 0.08023658826072705, 0.24763666448814317, 0.03925243166711827, 0.04271588152009929, 0.0680701137765966, 0.054221366491013154, 0.049761600415994756, 0.17956426565205655, 0.16008212964013407, 0.06642704206474771, 0.004225041544754272, 0.08919532150036795, 0.07229515532135086, 0.21571184331273197, 0.04060734373569383, 0.9750711205646813, 0.018751367703166946, 0.22761026342791024, 0.5588586295117566, 0.0006559373585818738, 0.21186776682194527, 0.037634111649628016, 0.029497006428086826, 0.1274813151374787, 0.03526078929334517, 0.1274813151374787, 0.24241792639174806, 0.1664716109906969, 0.02475036171552113, 0.01084947362872159, 0.16511542678710672, 0.03322651298795987, 0.18287875708460313, 0.21383957966133652, 0.12331853060224314, 0.11308571636078041, 0.039356977851779724, 0.042243156227576906, 0.0005247597046903964, 0.043817435341648094, 0.13302658513901547, 0.08396155275046342, 0.02413894641575823, 0.9861851219619825, 0.9984440179805597, 0.18558293872684523, 0.09189058131135054, 0.02972930571837812, 0.1552530409737524, 0.023723385371231025, 0.029128713683663408, 0.009309176538077996, 0.03963907429117082, 0.09519383750228144, 0.1657634015812598, 0.033633153944023726, 0.06576482780126068, 0.07507400433933868, 0.9944593699498989, 0.005389537563396453, 0.9728115301930599, 0.0026947687816982267, 0.016168612690189363, 0.9834325127186812, 0.0012755285508672908, 0.0012755285508672908, 0.012755285508672908, 0.2273054248765092, 0.0004715880184159942, 0.041971333639023486, 0.024994164976047693, 0.043857685712687465, 0.09101648755428689, 0.010374936405151873, 0.34944672164625173, 0.08771537142537493, 0.059891678338831265, 0.06224961843091124, 0.17305190096104062, 0.17745685844004894, 0.5216728214425551, 0.1277437668912409, 0.0026856820478731625, 0.022105229163263723, 0.28261638780696047, 0.22084570070587775, 0.3286861644743232, 0.0010329546337973703, 0.14110160297672078, 0.0004131818535189481, 0.10075382270709095, 0.12848423262647377, 0.000924346997312761, 0.7681323547669043, 0.9956640111295418, 0.0036283035075385496, 0.9905268575580239, 0.07364156013241119, 0.9258817511793446, 0.05804994557424168, 0.042745869013759784, 0.11926625181616926, 0.15567939949455722, 0.044329049347602734, 0.043273595791707434, 0.2728347441989359, 0.01952589078406311, 0.06965993468909001, 0.01002680878100538, 0.043273595791707434, 0.025330885341487277, 0.0960462735864726, 0.0033114525538869427, 0.9934357661660829, 0.03277793534300884, 0.957115712015858, 0.9958953718289588, 0.04163176351795737, 0.0005863628664501037, 0.20698609185688663, 0.7487853804567826, 0.0011727257329002074, 0.9915929939396624, 0.993882841363377, 0.9964838993111783, 0.9958620628025118, 0.0027407981171452015, 0.005481596234290403, 0.9894281202894178, 0.9925771362010916, 0.006213663949501123, 0.8194269333404606, 0.0007767079936876404, 0.13747731488271234, 0.036505275703319094, 0.011611394963747497, 0.876660319762936, 0.10740540341466435, 0.005523706872787444, 0.9445538752466528, 0.04418965498229955, 0.9905967570828382, 0.0928405436163333, 0.047093029370603855, 0.026686049976675515, 0.11436878561432363, 0.10965948267726325, 0.05852990793203622, 0.08095516001327614, 0.04081395878785667, 0.014800666373618354, 0.11795682594732203, 0.08588871547114893, 0.0930647961371457, 0.08342193774221254, 0.015921928977680348, 0.017940201664991943, 0.7835782837815956, 0.11011588916686374, 0.04388676742157613, 0.03670529638895458, 0.0007979412258468387, 0.004787647355081032, 0.014362942065243096, 0.006383529806774709, 0.0046971632118401494, 0.23016099738016732, 0.7632890219240243, 0.9989052599901255, 0.9982756808902673, 0.23972167255744806, 0.0016052790573043397, 0.07330774361689818, 0.5350930191014466, 0.0005350930191014466, 0.003745651133710126, 0.03638632529889837, 0.10862388287759366, 0.0005350930191014466, 0.7026122283751304, 0.2949122379627192, 0.0009244897741778032, 0.00218137894394631, 0.9947087984395172, 0.5521383385465076, 0.20110184529372688, 0.07994874583542659, 0.0003689942115481227, 0.14095578881138288, 0.025337602526304424, 0.03686134896521855, 0.1523138759128842, 0.13840393290714137, 0.028515383161772843, 0.00278198860114857, 0.13005796710369566, 0.41173431296998836, 0.09806509819048709, 0.9931620425390307, 0.06567431161568055, 0.9313811465496514, 0.008411686699151351, 0.051521581032302026, 0.14194721304817903, 0.001051460837393919, 0.08096248447933176, 0.04941865935751419, 0.03154382512181757, 0.5930239122901703, 0.013668990886120945, 0.028389442609635808, 0.9888493768796202, 0.055677485742158674, 0.046769088023413286, 0.8952939707339115, 0.026827708121271533, 0.9696300220973855, 0.09827774137211996, 0.056443297409663494, 0.14774863145470737, 0.023241357756920263, 0.07868859697700147, 0.056775316806190926, 0.1676697952463533, 0.006640387930548646, 0.16036536852274982, 0.043494540945093633, 0.09728168318253767, 0.05113098706522458, 0.012284717671514995, 0.1569213581172733, 0.20252662782010586, 0.01103353299262078, 0.030403513135221702, 0.5575612005604367, 0.0007355688661747187, 0.012259481102911977, 0.013975808457319654, 0.014466187701436133, 0.006712493579816002, 0.07831242509785336, 0.004474995719877335, 0.9084241311350989, 0.9929892326039657, 0.7153864106494969, 0.00020197244795299178, 0.221159830508526, 0.06281343131338045, 0.00020197244795299178, 0.7450387066186314, 0.01087993031887525, 0.16745631882094952, 0.01371817301075575, 0.061495258324077505, 0.00047304044864675005, 0.42336564315902175, 0.5761184484746396, 0.0005901742855885709, 0.004131219999119996, 0.6686674655718509, 0.04131219999119996, 0.20951187138394267, 0.010032962855005705, 0.06550934570033137, 0.8845614967608755, 0.11462146294041729, 0.09952899835530907, 0.09613596432046898, 0.6303503229169574, 0.06654116746103049, 0.005089551052260123, 0.0030160302531911836, 0.022997230680582775, 0.019792698536567142, 0.02186621933563608, 0.03449584602087417, 0.00037700378164889795, 0.9935620142726248, 0.15312179366894849, 0.7451927291888826, 0.10072011316890833, 0.738950053553868, 0.0007244608368175176, 0.13402525481124075, 0.08476191790764956, 0.04129426769859851, 0.00080104424232483, 0.5188096542790482, 0.3914436197494003, 0.08864889615061453, 0.9985542477397807, 0.0007576284125491509, 0.9120934706231757, 0.014987451395216502, 0.07065512800602065, 0.989986702058665, 0.9916325759199263, 0.9890072517165435, 0.9919299079227507, 0.13584214225947658, 0.03223372867174021, 0.3016156039998548, 0.5295541138928749, 0.04184820813650541, 0.0213343806186106, 0.04225848468686331, 0.0073849779064421315, 0.4648433315554964, 0.0004102765503578962, 0.04882290949258965, 0.008205531007157924, 0.060310652902610735, 0.06646480115797918, 0.04841263294223175, 0.18954776626534803, 0.0039066147255838604, 0.9922801402983006, 0.9905453133721184, 0.17407335846295996, 0.4306125421058561, 0.19616581971208835, 0.14721959091014009, 0.0001904522521476586, 0.05161256033201548, 0.9261048794642832, 0.07334131116269041, 0.9698094914923387, 0.016437449008344724, 0.7933144126054265, 0.03259107306294838, 0.09697831496779762, 0.0007949042210475215, 0.07551590099951454, 0.9934732684513807, 0.005223308456631865, 0.9978470122874341, 0.9956176462489643, 0.9989880831516489, 0.9832275086667, 0.0013272137447984868, 0.0013272137447984868, 0.9887742398748727, 0.006636068723992434, 0.1047887538801207, 0.051990307195021325, 0.02990116113288791, 0.10694379252032883, 0.08808720441850763, 0.0686918566566344, 0.0002693798300260172, 0.09320542118900196, 0.030439920792939945, 0.2785387442469018, 0.1470813871942054, 0.045324271598467115, 0.0016187239856595397, 0.9437160836395118, 0.008093619928297699, 0.5446761719167605, 0.2687870376961346, 0.09997566646014763, 0.08577147341116491, 0.2577136716050758, 0.013015842000256354, 0.048158615400948505, 0.6221572476122537, 0.053364952201051044, 0.005206336800102541, 0.9892713183265467, 0.0022820560976390927, 0.006846168292917278, 0.6380842660925061, 0.00029554620939903017, 0.29525066318963117, 0.06590680469598373, 0.27206897514088235, 0.7263728298572614, 0.000855562814908435, 0.10162855429257203, 0.8772148896832533, 0.014709396016030163, 0.0026744356392782113, 0.0026744356392782113, 0.9980008254963124, 0.12743203110023374, 0.15446306800028334, 0.005346798507702115, 0.38081087149300624, 0.05851773922318426, 0.09950986111556714, 0.11436207919251747, 0.05970591666934029, 0.0013977043661629527, 0.07547603577279943, 0.5856381294222771, 0.11740716675768802, 0.2180418811214206, 0.4868016432805281, 0.47693053205072017, 0.0358477197293025, 0.901809102462277, 0.09720587245743746, 0.2807629725946956, 0.026918789318762765, 0.11090541199330259, 0.03741711715308024, 0.02180421934819784, 0.0535683907443379, 0.04979976023971111, 0.0837174347813522, 0.07106560380153369, 0.010767515727505105, 0.2533058074895576, 0.9890495518813964, 0.6698577633409531, 0.0040527263123480315, 0.0914758224787127, 0.23390020431265782, 0.0005789609017640045, 0.006818359298944807, 0.9909348847799785, 0.9934921612147384, 0.006287639507114244, 0.9871594026169364, 0.005615832846892785, 0.9771549153593447, 0.014039582117231964, 0.8990169808194087, 0.0011660401826451474, 0.0011660401826451474, 0.09678133515954723, 0.11557747873185462, 0.0811308576196156, 0.0226622507317362, 0.3798193222638987, 0.06390754706349608, 0.13869297447822554, 0.10243337330744763, 0.01812980058538896, 0.07115946729765167, 0.000906490029269448, 0.00453245014634724, 0.9923866300797951, 0.9983062672557788, 0.991645456315136, 0.004958227281575679, 0.92468620244541, 0.0028672440385904188, 0.06594661288757964, 0.0028672440385904188, 0.0028672440385904188, 0.9964390542292102, 0.9950869260250105, 0.023021604154008123, 0.07545970250480441, 0.007673868051336042, 0.38369340256680207, 0.5103122254138468, 0.9384716810458549, 0.05943193267300701, 0.9969933133086784, 0.08785998838474825, 0.024330458321930284, 0.8867100366214593, 0.11678276723965339, 0.6650129801146929, 0.005406609594428398, 0.11786408915853906, 0.006487931513314077, 0.08650575351085436, 0.15121496397232403, 0.05850578963214918, 0.15211505304358786, 0.0036003562850553342, 0.0009000890712638336, 0.4383433777054869, 0.19441923939298805, 0.31974874715168145, 0.000551290943364968, 0.06615491320379616, 0.07387298641090571, 0.15601533697228595, 0.3831472056386528, 0.972861022838833, 0.02635602580884671, 0.21290233511597909, 0.0007713852721593445, 0.00848523799375279, 0.07251021558297839, 0.705046138753641, 0.12065578174338248, 0.8778748257880588, 0.13854317605713476, 0.0011642283702280234, 0.8592005372282812, 0.2729510758844793, 0.11987014929527515, 0.030097266922623198, 0.009859449509135185, 0.09029180076786959, 0.029059430132187914, 0.025945919760882067, 0.014010796670876315, 0.017124307042182162, 0.061232370635681675, 0.27917809662709103, 0.05033508433611121, 0.05510008994650328, 0.14273960308976047, 0.17658060321438454, 0.03557643602845094, 0.03904730783610469, 0.3631399628757736, 0.05379851301863313, 0.11106789784492001, 0.022560666749749377, 0.9335800774976699, 0.06425449926097324, 0.9950892760265655, 0.9910251152341035, 0.12467503614797987, 0.15245588659399711, 0.10570274803850467, 0.02981359560060388, 0.07521157071970525, 0.025748105291430623, 0.03980792594398814, 0.17786520102632997, 0.13348359848452193, 0.10350060745436915, 0.03150754989609274, 0.0003387908590977714, 0.2876503285140646, 0.023606561914528097, 0.016612025050964218, 0.09180329633427593, 0.06557378309591139, 0.5140984594719452, 0.009231305370764714, 0.34540467595611307, 0.3815606219916082, 0.0007692754475637261, 0.2630922030667944, 0.003081637159443859, 0.07483975958649372, 0.3733183301726275, 0.0004402338799205513, 0.39841166132809896, 0.04666479127157844, 0.103014727901409, 0.0567155266908485, 0.9411711726535399, 0.10999358118664855, 0.16111331343527371, 0.2837432329305712, 0.05715071189593488, 0.033313982813710785, 0.048822216192507185, 0.1025266540042651, 0.010626011759545683, 0.17690873632108486, 0.0155082333787964, 0.9978327762028845, 0.9898255148113606, 0.9799316859125987, 0.10060433297195907, 0.8945628526425551, 0.7195860127052801, 0.2796954609527704, 0.003698660835595506, 0.003698660835595506, 0.9875424431040001, 0.002708511333455027, 0.11646598733856615, 0.7854682867019578, 0.0812553400036508, 0.002708511333455027, 0.005417022666910054, 0.02710943198952901, 0.006777357997382253, 0.9556074776308976, 0.9942045003581998, 0.6429155841874808, 0.3024760052906591, 0.05423367658023227, 0.021940431335607476, 0.0016877254873544213, 0.0016877254873544213, 0.010126352924126529, 0.18396207812163193, 0.7797291751577426, 0.003599806081996904, 0.07199612163993808, 0.9215503569912075, 0.06642244207170626, 0.04608904143751046, 0.0013555600422797195, 0.1802894856232027, 0.7035356619431744, 0.9972552731752554, 0.9895547012022994, 0.007937604555098659, 0.056183352949010286, 0.9426318105889504, 0.09936898553097784, 0.029662383740590402, 0.00148311918702952, 0.6748192300984316, 0.0444935756108856, 0.12903136927156825, 0.01928054943138376, 0.650650410191468, 0.017355820070311834, 0.27865733335111775, 0.05303167243706393, 0.20916433232182566, 0.001230378425422504, 0.0947391387575328, 0.5290627229316767, 0.0639796781219702, 0.09966065245922281, 0.9817899174444037, 0.9852713406484304, 0.9535022421029878, 0.04316265293470316, 0.0013079591798394895, 0.005677815350130756, 0.018452899887924958, 0.0007097269187663445, 0.044003068963513366, 0.035486345938317225, 0.6841767496907561, 0.027679349831887436, 0.06742405728280274, 0.11355630700261513, 0.002838907675065378, 0.2334668329322854, 0.04265259447801368, 0.10101930271108503, 0.049387214658752676, 0.5724427153628151, 0.43780044581942573, 0.12066584725765091, 0.4401209428820729, 0.00719967585180397, 0.03455844408865905, 0.02591883306649429, 0.0057597406814431755, 0.0719967585180397, 0.11375487845850273, 0.7401266775654481, 0.05127299428310047, 0.02861748518126538, 0.11059465627343183, 0.14159693188646932, 0.03606995528055324, 0.17170491108759228, 0.09449732085897006, 0.04292622777189807, 0.16872392304787712, 0.06349504524593257, 0.09062203640734037, 0.9781030870541826, 0.8591761595738585, 0.0007330854603872513, 0.07330854603872514, 0.0036654273019362566, 0.04251895670246058, 0.00586468368309801, 0.014661709207745026, 0.9974245940675448, 0.9981570578717737, 0.9976814477773437, 0.022455206118641827, 0.7129527942668781, 0.08216564057048487, 0.01837244136979786, 0.0392966107076232, 0.0392966107076232, 0.06736561835592549, 0.017862095776192365, 0.07031605599655436, 0.032345385758415, 0.6724223983441926, 0.11210388356022094, 0.02491197412449354, 0.018282174559104133, 0.028528228432887767, 0.004018060342660249, 0.03676525213534128, 0.14799357414721537, 0.049331191382405125, 0.02752161203439444, 0.036868574612113306, 0.05192756987621592, 0.2991028024870037, 0.05867815396012399, 0.034272196118302505, 0.08671904169328058, 0.06387091094774558, 0.14435864425588027, 0.997048983343991, 0.8167823415051707, 0.1779759187715547, 0.003178141406634905, 0.0004064561502758263, 0.9990692173779812, 0.0015534359130605728, 0.034175590087332605, 0.0031068718261211456, 0.9592466763149038, 0.0007767179565302864, 0.9927482193553964, 0.009538006674907182, 0.9824146875154397, 0.012279761340660037, 0.982380907252803, 0.15097683619867208, 0.05288454149332017, 0.042222335547086265, 0.07591490633718541, 0.03710447669289399, 0.27337896046143734, 0.01791250598967296, 0.059281865061060514, 0.03028066488730429, 0.012794647135480685, 0.02217738836816652, 0.2247593013466107, 0.012675070563286553, 0.0015843838204108191, 0.9823179686547079, 0.0015843838204108191, 0.2341191163009167, 0.6812338196124418, 0.08449411716123309, 0.9985806661450768, 0.9764682525595367, 0.02249162105091013, 0.9751724269930321, 0.0005739166788792014, 0.7357611823231361, 0.0005739166788792014, 0.256540755459003, 0.0005739166788792014, 0.005165250109912812, 0.9542658145739629, 0.04337571884427104, 0.07735385736911547, 0.0009100453808131233, 0.4586628719298141, 0.2029401199213265, 0.03640181523252493, 0.1574378508806703, 0.007280363046504986, 0.05733285899122676, 0.9851336969168805, 0.9940477883933988, 0.0030082724084542815, 0.9626471707053701, 0.0030082724084542815, 0.027074451676088535, 0.0011475366741602665, 0.7619643516424169, 0.14229454759587304, 0.08950786058450079, 0.0034426100224807994, 0.12084530732789996, 0.16817638603132745, 0.7109732247791448, 0.0005886736530655621, 0.0011773473061311242, 0.10713860485793229, 0.044739197632982716, 0.6369448926169381, 0.20897914683827454, 0.0611748531197539, 0.8670870485669466, 0.0691541817875479, 0.004766266345753889, 0.9866171335710551, 0.9961600379199027, 0.002802728165358787, 0.014013640826793934, 0.9809548578755753, 0.9701705825343662, 0.0291896137262913, 0.001912736965798432, 0.001912736965798432, 0.021040106623782754, 0.973583115591402, 0.005569357257430165, 0.9885609131938543, 0.0027846786287150827, 0.7277834890175636, 0.27198094306068743, 0.017112194844685534, 0.0017112194844685533, 0.26866145906156286, 0.7118673055389182, 0.9882005158041715, 0.008823218891108674, 0.16766754205151982, 0.021660400169335094, 0.8094571766984856, 0.09086317416606485, 0.741252210302108, 0.03825817859623783, 0.1267302166000378, 0.4429328236202773, 0.03028255403055679, 0.12113021612222716, 0.22409089982612024, 0.14091481808885759, 0.003230139096592724, 0.023822275837371343, 0.013324323773444988, 0.8428053594566678, 0.09084129622886239, 0.06459825509607993, 0.20037609027497102, 0.794970358156135, 0.002178000981249685, 0.9882417921319908, 0.005383850514772728, 0.9879365694607956, 0.002691925257386364, 0.9944593699498989, 0.998216236973382, 0.024370231321534166, 0.028751396502933565, 0.24096408497696703, 0.06462218642564116, 0.0008214684715123876, 0.0043811651813994, 0.3817090164294228, 0.25383375769732774, 0.9975472333027658, 0.9803649534070189, 0.005173429833282422, 0.010346859666564843, 0.03527213901633962, 0.0544198716252097, 0.21028913356408194, 0.41822679119374123, 0.01108552940513531, 0.06248207482894447, 0.06516947589685607, 0.14176040633233639, 0.0006718502669778976, 0.019072758109039977, 0.002384094763629997, 0.9750947583246689, 0.005949656597073438, 0.5562928918263664, 0.43729975988489767, 0.9926498010910093, 0.9931620425390307, 0.5439370891400169, 0.4559110709879993, 0.9961198204652508, 0.3690196786881146, 0.0005694748127903003, 0.6298391429460721, 0.9712923461901938, 0.040704345228253815, 0.8059460355194256, 0.04680999701249189, 0.10379608033204724, 0.09770892153030852, 0.21468439096800182, 0.0018349093245128361, 0.04266164179492344, 0.3633120462535416, 0.030734731185590006, 0.18532584177579645, 0.06330437169569285, 0.00045872733112820903, 0.1533819280282926, 0.02847807784238657, 0.5320904017919597, 0.01998461602974496, 0.019485000629001336, 0.06644884829890199, 0.12940038879259863, 0.049961540074362404, 0.00593746806538833, 0.01187493613077666, 0.9559323585275211, 0.017812404196164987, 0.9893037629980151, 0.9931783407900593, 0.08882554675392675, 0.06538547191608497, 0.16654790016361265, 0.6791453262227316, 0.9872117632597729, 0.991366091156228, 0.9971813984497945, 0.02117170422271446, 0.05645787792723856, 0.00352861737045241, 0.9174405163176266, 0.02425820933112183, 0.1503142613910585, 0.46610416500512664, 0.002165911547421592, 0.08100509187356754, 0.04288504863894752, 0.06281143487522617, 0.006064552332780458, 0.1459824382962153, 0.01862683930782569, 0.8819051700349028, 0.06570485538339507, 0.005840431589635118, 0.02336172635854047, 0.005840431589635118, 0.0014601078974087794, 0.014601078974087793, 0.9989193192352531, 0.08383219539388664, 0.04717997973330365, 0.11580540479992714, 0.14543911107869636, 0.06745567350298787, 0.035872381284825915, 0.0007798343757570851, 0.08734145008479353, 0.028463954715133608, 0.0658960047514737, 0.061996832872688264, 0.23940915335742513, 0.020665610957562756, 0.9931620425390307, 0.12931326763523018, 0.048572894061989454, 0.33293341294145085, 0.04953791844732699, 0.03506255266726391, 0.0006433495902250258, 0.1769211373118821, 0.07076845492475284, 0.11355120267471706, 0.04213939815973919, 0.9985013421279284, 0.13622357017023032, 0.003967676801074669, 0.3002208779479833, 0.5554747521504537, 0.002645117867383113, 0.8960582463373706, 0.09515662792963227, 0.003964859497068011, 0.997215471524457, 0.19224329355974704, 0.11098581896232818, 0.0006606298747757629, 0.07531180572443698, 0.0013212597495515259, 0.28605273577790535, 0.22065037817510483, 0.001981889624327289, 0.11032518908755241, 0.01552426114955487, 0.06209704459821948, 0.11643195862166152, 0.8053210471331589, 0.9833876143432235, 0.11050264000456173, 0.026310152382038505, 0.007893045714611552, 0.8524489371780476, 0.06431354817659668, 0.9332027092563315, 0.0009093597208056099, 0.6692887545129288, 0.04364926659866927, 0.2855389523329615, 0.028932245611500755, 0.964975485983584, 0.00340379360135303, 0.989249025188861, 0.006887900876448325, 0.9884137757703347, 0.9932298497596616, 0.008875840167373377, 0.9452769778252645, 0.002218960041843344, 0.04326972081594521, 0.9901241506527458, 0.00870712192785078, 0.9900331501079501, 0.004243667946296444, 0.2885694203481582, 0.033949343570371555, 0.5495549990453895, 0.05092401535555733, 0.07214235508703955, 0.28423178752562656, 0.7141146900519473, 0.09892863242255069, 0.19019827394787164, 0.11297011573413854, 0.06765441959219595, 0.13722358690869935, 0.07276041352368244, 0.3191246207179055, 0.0012764984828716219, 0.8914537612867314, 0.10583469312079916, 0.9957585461147082, 0.017154826662963994, 0.9675322237911692, 0.010292895997778396, 0.008000013407724021, 0.004000006703862011, 0.9840016491500547, 0.8555761724553634, 0.02021046076666213, 0.11228033759256738, 0.00898242700740539, 0.9988951258380983, 0.9974964652256961, 0.001597698556154345, 0.9943490561104529, 0.001988698112220906, 0.9957215504257882, 0.014595036440089306, 0.9778674414859835, 0.03121817862985383, 0.03800473920156119, 0.8673224410641999, 0.050220548230634425, 0.0013573121143414708, 0.009501184800390297, 0.02472109751701029, 0.02126014386462885, 0.09295132666395868, 0.4494295528592471, 0.055869680388443255, 0.04499239748095873, 0.11569473637960816, 0.19430782648370087, 0.0004644475773416468, 0.7960631475635827, 0.05573370928099762, 0.002322237886708234, 0.14490764413059382, 0.0006418913529181477, 0.19128362316960804, 0.0006418913529181477, 0.28050652122523057, 0.5269928007457992, 0.03203337034737355, 0.920611208678866, 0.04596092267231858, 0.0030994305561012456, 0.03719316667321495, 0.004649145834151869, 0.13017608335625233, 0.8105010904204758, 0.012397722224404982, 0.961496852397572, 0.038317955741305455, 0.9940489238016134, 0.9188048928078736, 0.022807213651259275, 0.055388947438772526, 0.006801088295302241, 0.1718820496449112, 0.5595440824771389, 0.26153275899207706, 0.8764336063035425, 0.03934748992818221, 0.06219441956390092, 0.020943018832742147, 0.2888920254308188, 0.5631971382475199, 0.0007115567128837902, 0.0003557783564418951, 0.0003557783564418951, 0.145869126141177, 0.1755205501239427, 0.00354586969947359, 0.8190959005783992, 0.0011673493107347682, 0.37588647805659536, 0.619862484000162, 0.0011673493107347682, 0.0021570020394207734, 0.9943779401729765, 0.991462367561337, 0.9890976546450075, 0.004643650960774683, 0.0051882567589795585, 0.985768784206116, 0.019267221814285588, 0.6073912712929702, 0.12192045279203666, 0.2507897396810288, 0.10670674011925715, 0.3191588983747151, 0.06697209815292716, 0.04325948923753668, 0.07017650476311507, 0.04454125188161184, 0.01185630445769524, 0.020187761644183788, 0.2707723585608778, 0.010254101152601289, 0.017624236356033465, 0.018585558339089835, 0.061000951294384986, 0.32702013739019925, 0.044489415605679275, 0.09906921413223427, 0.007338460306091427, 0.2683124549414678, 0.13300959304790713, 0.06008364375612356, 0.9051425164919366, 0.026662052978236803, 0.0177747019854912, 0.025978410594179446, 0.023927483442007385, 0.46584847689726866, 0.47966601646625545, 0.04638745426731277, 0.006908769784493392, 0.0037043285905539207, 0.12372457492450095, 0.19855201245369017, 0.1452096807497137, 0.4719314624365695, 0.005926925744886274, 0.048897137395311756, 0.0014817314362215684, 0.01836931946570767, 0.9789316498600045, 0.0015307766221423057, 0.9878679733739991, 0.12101707185168824, 0.875692978260133, 0.99526375753252, 0.9965919728229837, 0.0026658724194997337, 0.6492905892119776, 0.19450731013031225, 0.008862443387232452, 0.02145644188487857, 0.025187996995292235, 0.0760304353746784, 0.024721552606490525, 0.9962077279469563, 0.9873118095102071, 0.011217665526955535, 0.10095898974259981, 0.8712386892602132, 0.011217665526955535, 0.987676101516827, 0.9753747277827555, 0.999709021395052, 0.9924990624290193, 0.9910793088866735, 0.005342745600467242, 0.9975075182709456, 0.06509914442125575, 0.9314185278733514, 0.9887068380254836, 0.09570903241945117, 0.19194978168567706, 0.16270535511306697, 0.02445897495163752, 0.2929759825728755, 0.06540117215329162, 0.16642737304049007, 0.9982941055131362, 0.10333750824656249, 0.41883324770953695, 0.09237107879998852, 0.041335003298624995, 0.278378593643801, 0.02488535912876403, 0.040913217550679844, 0.005234404663186923, 0.9893024813423285, 0.9861510744475258, 0.9614771897269945, 0.9986164882636445, 0.9887239950662451, 0.005203810500348658, 0.9857540470710935, 0.9936978897683878, 0.9866636046519465, 0.2995629737069515, 0.003915855865450346, 0.6950644161174364, 0.9961111402408929, 0.005756389320540989, 0.9843425738125091, 0.9988037464072358, 0.972031127389636, 0.9995779725028487, 0.9987068317919905, 0.9922767089438073, 0.999034425066411, 0.9984195384200457, 0.9971402238920819, 0.9908848875541819, 0.9889780202530422, 0.9956021079034025, 0.9853137813986884, 0.9987620918752674, 0.9989690799547879, 0.9947566540951195, 0.9901615721589477, 0.9972685388680749, 0.9994290534520679, 0.9909739180999959, 0.9786055971035165, 0.01806656486960338, 0.9954103813298038, 0.9953761815951584, 0.9981055015094665, 0.08057267108249176, 0.905747957685942, 0.0013891839841808926, 0.01111347187344714, 0.981677647454438, 0.9943654622136192, 0.9870690543537366, 0.9835237906970763, 0.24353724467654037, 0.6892803478573623, 0.028931970320581164, 0.03783411503460614, 0.9938668828172595, 0.995682046999405, 0.15740991356294692, 0.6133342448787334, 0.22890286235249255, 0.9937826287479983, 0.9988588610022165, 0.9891227068447332, 0.993268399557196, 0.9884909615273207, 0.9942581360607188, 0.9921706525357336, 0.992389607310072, 0.008073654691594424, 0.9849858723745197, 0.990190966933931, 0.9751875320689726, 0.9957171067399135, 0.0021883892455822275, 0.9880219054785672, 0.9856477952453355, 0.9827190488336187, 0.9959744924578103, 0.9972245241292611, 0.9962215874994881, 0.9988438728640855, 0.9974277688631915, 0.9807379704609802, 0.9881918132060199, 0.9957940130953433, 0.9937824502595611, 0.0023774699766975146, 0.1356511450293, 0.011899223248184211, 0.7579805209093342, 0.0035697669744552633, 0.0011899223248184212, 0.03093798044527895, 0.05830619391610264, 0.9924905742425578, 0.010131959195597546, 0.9861773617048278, 0.9740657495441715, 0.9975634131873048, 0.9996194633011741, 0.9946123140554584, 0.9939822500466903, 0.9904515013158536, 0.9939886905835011, 0.9949474752423498, 0.001966299358186462, 0.998166988996344, 0.9985692465871739, 0.9965901550611885, 0.9841633235584295, 0.9931209767991434, 0.996370042224272, 0.9942336455196259, 0.9897400911340691, 0.9978367244699549, 0.009800179498838723, 0.9849180396332916, 0.9937910905873868, 0.9909172113090711, 0.9555059443310798, 0.9922730197680086, 0.9837996278371045, 0.9969684180167455, 0.9949976231306236, 0.4411465957095147, 0.5583531912362583, 0.9989221492754602, 0.0004555048560307616, 0.9941290402157065, 0.991102741191158, 0.0036843968074020744, 0.9902118019641447, 0.9905967570828382, 0.9966933925892927, 0.001859502598114352, 0.9945105306878891, 0.9772629472354591, 0.9893833411130197, 0.9977689047683915, 0.957589972181729, 0.9690270273616385, 0.023072072080039013, 0.991931428051071, 0.988480883896817, 0.9555059443310798, 0.9960281056220854, 0.9956079224413148, 0.9807681712940453, 0.9966487465292994, 0.9790237697242579, 0.9891794897099512, 0.9989368549786678, 0.9978950967968037, 0.9918097580035944, 0.011225970430626488, 0.9841434077515888, 0.9976745571960538, 0.9973164623655797, 0.9957616081832806, 0.9986580254759557, 0.9859182435398918, 0.005833835760591075, 0.995470139420243, 0.9812486286325945, 0.992897497745506, 0.9827190488336187, 0.9923749273575291, 0.991805531185027, 0.994960690043414, 0.9995666976135191, 0.9861674473229146, 0.9900330598309832, 0.23431552804338582, 0.765430724941727, 0.9918753233203926, 0.9976774495831316, 0.9983122239683914, 0.9689119663892751, 0.02306933253307798, 0.9062962593717957, 0.09062962593717958, 0.9873086292092761, 0.9975893961333766, 0.9843092018504365, 0.9849705717024635, 0.007649390436044047, 0.007649390436044047, 0.007649390436044047, 0.9638231949415499, 0.9936324663371827, 0.9923748055964436, 0.9908727343250245, 0.01002619871454289, 0.003342066238180963, 0.003342066238180963, 0.07686752347816216, 0.905699950547041, 0.0030394668242879337, 0.027355201418591404, 0.9665504501235629, 0.008787059110265817, 0.8312557918311462, 0.1581670639847847, 0.9989710408721917, 0.00041797951500928524, 0.0038632680459430697, 0.06567555678103218, 0.9271843310263367, 0.06766128078386924, 0.1149668372641168, 0.00028670034230453067, 0.038991246553416174, 0.11726044000255305, 0.0719617859184372, 0.18176801702107245, 0.20671094680156663, 0.023796128411276044, 0.14879747765605142, 0.028096633545844005, 0.9908848875541819, 0.4643127367308726, 0.5347041720370107, 0.993506171531921, 0.9916885385762779, 0.007061398308196484, 0.007061398308196484, 0.9744729665311148, 0.7775534452674069, 0.22093478951430726, 0.9924711912752604, 0.9927919240587615, 0.9931620425390307, 0.9889780202530422, 0.9873459630291836, 0.007368253455441669, 0.9929173532228206, 0.9927696502844974, 0.9949147893856565, 0.9906018594697842, 0.9991239283122503, 0.9909823070989948, 0.9892899898086148, 0.9951288634261285, 0.9991071426159823, 0.9937831655630224, 0.987803179271846, 0.9886525412392828, 0.005991833583268381, 0.9804078277167123, 0.9957820101546134, 0.0007497977579723615, 0.9979808158612132, 0.9986386978792652, 0.9595782365065509, 0.9841818260665023, 0.9945826232450959, 0.9976819732247376, 0.9945836278165036, 0.9781030870541826, 0.9880892103054185, 0.9952561977053149, 0.9910728451873396, 0.98533009699978, 0.9195363444049419, 0.07623099228227498, 0.9959440182161691, 0.9725834910996467, 0.008933028620892278, 0.017866057241784555, 0.989986702058665, 0.9939985287506039, 0.9987596376214997, 0.9968903900344165, 0.9945459627598094, 0.8301536307402212, 0.16914658427950888, 0.9792137027195484, 0.010200142736661963, 0.9595782365065509, 0.998216236973382, 0.9960818760644173, 0.019999907324171753, 0.9781772854913093, 0.0009090866965532614, 0.980155537551422, 0.9845689114481271, 0.9974372594486319, 0.0010014430315749316, 0.9919988741341308, 0.9897566951167657, 0.9868994026163308, 0.9931620425390307, 0.9882932479576559, 0.006376085470694555, 0.9881527794167781, 0.05220094021599373, 0.1239772330129851, 0.48687415393763384, 0.1771820374639018, 0.013552167171459911, 0.1450583819463672, 0.3078685802584498, 0.6890392034355782, 0.001221700715311309, 0.9799316859125987, 0.9829499723133222, 0.013019204931302281, 0.08557643679942252, 0.0027275358342445425, 0.5431205729939446, 0.21649815684316057, 0.03170760407309281, 0.0003409419792805678, 0.09785034805352297, 0.02182028667395634, 0.994508306273649, 0.9941324817475202, 0.9823946990994858, 0.9978834703403185, 0.9960025854319212, 0.9891085794471313, 0.9934195463939589, 0.963292717323439, 0.9868752629632526, 0.017429036583805176, 0.017429036583805176, 0.9585970121092847, 0.9309777840854321, 0.042317172003883276, 0.010579293000970819, 0.9820190872253877], \"Term\": [\"abortion\", \"accident\", \"accident\", \"accident\", \"accident\", \"accident\", \"acquisition\", \"actor\", \"actress\", \"add\", \"add\", \"add\", \"add\", \"add\", \"add\", \"add\", \"add\", \"add\", \"african\", \"african\", \"age\", \"age\", \"age\", \"age\", \"age\", \"age\", \"age\", \"age\", \"age\", \"agent\", \"agent\", \"agent\", \"agent\", \"agent\", \"agent\", \"aging\", \"aging\", \"aging\", \"aging\", \"ago\", \"ago\", \"ago\", \"ago\", \"ago\", \"ago\", \"ago\", \"ago\", \"ago\", \"ago\", \"ago\", \"ago\", \"ago\", \"ago\", \"agreement\", \"agreement\", \"agreement\", \"agreement\", \"air\", \"air\", \"air\", \"air\", \"air\", \"air\", \"airline\", \"airline\", \"airlines\", \"album\", \"album\", \"american\", \"american\", \"american\", \"american\", \"american\", \"american\", \"american\", \"american\", \"american\", \"analyst\", \"analyst\", \"analyst\", \"analyst\", \"andya\", \"antiques\", \"applicant\", \"area\", \"area\", \"area\", \"area\", \"area\", \"area\", \"army\", \"army\", \"arrest\", \"arrest\", \"arrest\", \"arrested\", \"arrested\", \"arrested\", \"art\", \"art\", \"art\", \"art\", \"artd\", \"asked\", \"asked\", \"asked\", \"asked\", \"asked\", \"asked\", \"asked\", \"asked\", \"asked\", \"assistant\", \"assistant\", \"assistant\", \"assistant\", \"assistant\", \"assistant\", \"asylum\", \"athletes\", \"attack\", \"attack\", \"attack\", \"attack\", \"attack\", \"attack\", \"attorney\", \"attorney\", \"audience\", \"audience\", \"audience\", \"audience\", \"audio\", \"audio\", \"audit\", \"austin\", \"avalanche\", \"award\", \"award\", \"award\", \"award\", \"award\", \"award\", \"baby\", \"baby\", \"baby\", \"baby\", \"baby\", \"baby\", \"bag\", \"bag\", \"bag\", \"bag\", \"bag\", \"ball\", \"ball\", \"ball\", \"ballot\", \"band\", \"band\", \"band\", \"band\", \"baseball\", \"baseball\", \"baseball\", \"beat\", \"beat\", \"beat\", \"beat\", \"beat\", \"beat\", \"belief\", \"belief\", \"belief\", \"belief\", \"belief\", \"benefit\", \"benefit\", \"benefit\", \"benefit\", \"benefit\", \"benefit\", \"benefit\", \"bill\", \"bill\", \"bill\", \"billion\", \"billion\", \"bishop\", \"black\", \"black\", \"black\", \"black\", \"blood\", \"blood\", \"blood\", \"blood\", \"blood\", \"boat\", \"boat\", \"bonfire\", \"book\", \"book\", \"book\", \"book\", \"book\", \"book\", \"book\", \"bookstores\", \"border\", \"border\", \"border\", \"born\", \"born\", \"born\", \"born\", \"bowl\", \"bowl\", \"bowl\", \"boy\", \"boy\", \"boy\", \"boy\", \"boy\", \"boycott\", \"brain\", \"brain\", \"brain\", \"brain\", \"brand\", \"brand\", \"brand\", \"brand\", \"brand\", \"braves\", \"bread\", \"brother\", \"brother\", \"brother\", \"brother\", \"brother\", \"brother\", \"browser\", \"buccaneer\", \"building\", \"building\", \"building\", \"building\", \"building\", \"building\", \"building\", \"built\", \"built\", \"built\", \"built\", \"built\", \"built\", \"built\", \"business\", \"business\", \"business\", \"business\", \"business\", \"business\", \"business\", \"butter\", \"butter\", \"cab\", \"called\", \"called\", \"called\", \"called\", \"called\", \"called\", \"called\", \"called\", \"called\", \"called\", \"called\", \"called\", \"called\", \"called\", \"calories\", \"campaign\", \"campaign\", \"campaign\", \"campaigning\", \"canal\", \"cancer\", \"cancer\", \"cancer\", \"cancer\", \"cancer\", \"candidate\", \"candidate\", \"candidate\", \"candidates\", \"car\", \"car\", \"car\", \"car\", \"card\", \"card\", \"card\", \"card\", \"card\", \"card\", \"care\", \"care\", \"care\", \"care\", \"career\", \"career\", \"career\", \"career\", \"career\", \"carpet\", \"carpet\", \"carpet\", \"cartel\", \"case\", \"case\", \"case\", \"case\", \"case\", \"case\", \"case\", \"case\", \"case\", \"cases\", \"cases\", \"cases\", \"cases\", \"cast\", \"cast\", \"cast\", \"cast\", \"cast\", \"caucus\", \"caucuses\", \"cell\", \"cell\", \"cell\", \"cell\", \"cent\", \"century\", \"century\", \"century\", \"century\", \"century\", \"century\", \"century\", \"century\", \"character\", \"character\", \"character\", \"charged\", \"charged\", \"charged\", \"charged\", \"charges\", \"charges\", \"charges\", \"charges\", \"charges\", \"charges\", \"chat\", \"chat\", \"cheese\", \"chicken\", \"chicken\", \"chief\", \"chief\", \"chief\", \"chief\", \"chief\", \"chief\", \"chief\", \"chief\", \"child\", \"child\", \"child\", \"children\", \"children\", \"children\", \"children\", \"children\", \"children\", \"children\", \"children\", \"children\", \"chopped\", \"church\", \"church\", \"cigarettes\", \"civilian\", \"civilian\", \"civilian\", \"civilian\", \"class\", \"class\", \"class\", \"class\", \"class\", \"class\", \"class\", \"classes\", \"classes\", \"classes\", \"classes\", \"click\", \"clinical\", \"clothes\", \"clothes\", \"clothes\", \"club\", \"club\", \"club\", \"club\", \"coach\", \"coach\", \"coach\", \"coaches\", \"coaches\", \"coaching\", \"coaching\", \"collector\", \"collector\", \"collector\", \"com\", \"com\", \"comedy\", \"comic\", \"commander\", \"commander\", \"commander\", \"commentary\", \"commentary\", \"commentary\", \"community\", \"community\", \"community\", \"community\", \"community\", \"community\", \"companies\", \"companies\", \"companies\", \"companies\", \"company\", \"company\", \"company\", \"company\", \"composer\", \"composer\", \"computer\", \"computing\", \"concert\", \"concert\", \"concert\", \"congestion\", \"consecutive\", \"consecutive\", \"conservative\", \"conservative\", \"conservative\", \"conservative\", \"conservative\", \"conservative\", \"conservative\", \"consumer\", \"consumer\", \"contract\", \"contract\", \"contract\", \"control\", \"control\", \"control\", \"control\", \"control\", \"control\", \"control\", \"control\", \"control\", \"control\", \"convicted\", \"convicted\", \"cook\", \"cook\", \"cook\", \"cooking\", \"coordinator\", \"coordinator\", \"copy\", \"copy\", \"copy\", \"copy\", \"cornerback\", \"corporate\", \"corporate\", \"corporate\", \"cost\", \"cost\", \"cost\", \"cost\", \"cost\", \"countries\", \"countries\", \"countries\", \"countries\", \"countries\", \"country\", \"country\", \"country\", \"country\", \"country\", \"country\", \"country\", \"country\", \"country\", \"country\", \"coup\", \"coup\", \"coup\", \"court\", \"court\", \"court\", \"court\", \"court\", \"crash\", \"crash\", \"crash\", \"crash\", \"cream\", \"cream\", \"crew\", \"crew\", \"crew\", \"criminal\", \"criminal\", \"criminal\", \"crying\", \"crying\", \"crying\", \"cuban\", \"cuban\", \"cup\", \"curator\", \"custody\", \"customer\", \"customer\", \"cyberspace\", \"dad\", \"dad\", \"dad\", \"daily\", \"daily\", \"daily\", \"daily\", \"daily\", \"daily\", \"daily\", \"daughter\", \"daughter\", \"daughter\", \"daughter\", \"dayton\", \"deal\", \"deal\", \"deal\", \"deal\", \"deal\", \"deal\", \"death\", \"death\", \"death\", \"death\", \"death\", \"death\", \"debate\", \"debate\", \"debate\", \"debate\", \"debate\", \"debate\", \"debate\", \"debates\", \"debt\", \"debt\", \"debt\", \"decision\", \"decision\", \"decision\", \"decision\", \"decision\", \"decision\", \"decision\", \"decision\", \"decision\", \"deduction\", \"deer\", \"defendant\", \"defense\", \"defense\", \"defense\", \"democrat\", \"democrat\", \"democratic\", \"democratic\", \"democratic\", \"designer\", \"designer\", \"designer\", \"designer\", \"desktop\", \"device\", \"device\", \"device\", \"device\", \"device\", \"devices\", \"devices\", \"died\", \"died\", \"died\", \"died\", \"died\", \"died\", \"digital\", \"director\", \"director\", \"director\", \"director\", \"director\", \"director\", \"director\", \"director\", \"director\", \"director\", \"disease\", \"diseases\", \"dish\", \"dish\", \"dishes\", \"disorder\", \"disorder\", \"display\", \"display\", \"display\", \"display\", \"dividend\", \"divorce\", \"divorce\", \"divorce\", \"doctor\", \"doctor\", \"documentary\", \"domain\", \"domain\", \"domain\", \"domain\", \"door\", \"door\", \"door\", \"door\", \"door\", \"door\", \"door\", \"draft\", \"draft\", \"draft\", \"drama\", \"drama\", \"drive\", \"drive\", \"drive\", \"drive\", \"drive\", \"drive\", \"drive\", \"drive\", \"driver\", \"driver\", \"driver\", \"driver\", \"dropout\", \"drug\", \"drug\", \"drug\", \"drug\", \"early\", \"early\", \"early\", \"early\", \"early\", \"early\", \"early\", \"early\", \"early\", \"early\", \"early\", \"early\", \"early\", \"early\", \"earning\", \"earning\", \"earning\", \"earning\", \"economic\", \"economic\", \"economic\", \"economic\", \"economic\", \"educator\", \"effort\", \"effort\", \"effort\", \"effort\", \"effort\", \"effort\", \"effort\", \"effort\", \"effort\", \"effort\", \"effort\", \"egg\", \"egg\", \"election\", \"election\", \"electronic\", \"electronic\", \"employer\", \"employer\", \"employer\", \"eta\", \"european\", \"european\", \"european\", \"european\", \"european\", \"european\", \"executive\", \"executive\", \"executive\", \"executive\", \"executive\", \"executive\", \"executive\", \"executive\", \"executives\", \"executives\", \"executives\", \"exhibition\", \"exhibition\", \"exile\", \"faith\", \"faith\", \"faith\", \"faith\", \"faith\", \"family\", \"family\", \"family\", \"family\", \"fan\", \"fan\", \"fan\", \"fat\", \"fat\", \"father\", \"father\", \"federal\", \"federal\", \"federal\", \"federal\", \"feel\", \"feel\", \"feel\", \"feel\", \"feel\", \"feel\", \"feel\", \"feel\", \"feet\", \"feet\", \"feet\", \"feet\", \"festival\", \"fff\", \"ffx\", \"field\", \"field\", \"field\", \"field\", \"field\", \"field\", \"field\", \"field\", \"files\", \"files\", \"files\", \"film\", \"find\", \"find\", \"find\", \"find\", \"find\", \"find\", \"find\", \"find\", \"find\", \"find\", \"find\", \"find\", \"fire\", \"fire\", \"fire\", \"fire\", \"fire\", \"fire\", \"fire\", \"fire\", \"fire\", \"firework\", \"firework\", \"firm\", \"firm\", \"firm\", \"firsthand\", \"fish\", \"fish\", \"fishing\", \"fishing\", \"flag\", \"flavor\", \"flight\", \"flight\", \"flight\", \"flight\", \"floor\", \"floor\", \"floor\", \"floor\", \"floor\", \"floor\", \"floor\", \"flu\", \"food\", \"food\", \"foot\", \"foot\", \"foot\", \"foot\", \"football\", \"football\", \"football\", \"forces\", \"forces\", \"forces\", \"foreign\", \"foreign\", \"foreign\", \"foreign\", \"foreign\", \"found\", \"found\", \"found\", \"found\", \"found\", \"found\", \"found\", \"found\", \"found\", \"found\", \"found\", \"frames\", \"framework\", \"framework\", \"free\", \"free\", \"free\", \"free\", \"free\", \"free\", \"free\", \"free\", \"free\", \"free\", \"free\", \"fresh\", \"fresh\", \"fresh\", \"fresh\", \"fresh\", \"fresh\", \"friend\", \"friend\", \"friend\", \"friend\", \"friend\", \"friend\", \"friend\", \"front\", \"front\", \"front\", \"front\", \"front\", \"front\", \"front\", \"front\", \"front\", \"front\", \"fuel\", \"fuel\", \"fuel\", \"fuel\", \"fuel\", \"fund\", \"fund\", \"fund\", \"fund\", \"fur\", \"furniture\", \"fxf\", \"galaxies\", \"galleries\", \"gambling\", \"gambling\", \"game\", \"game\", \"game\", \"games\", \"games\", \"garlic\", \"gasoline\", \"gasoline\", \"gay\", \"gay\", \"genre\", \"glow\", \"goal\", \"goal\", \"goal\", \"goal\", \"goal\", \"goal\", \"goal\", \"goal\", \"goal\", \"government\", \"government\", \"government\", \"government\", \"government\", \"grade\", \"grade\", \"grade\", \"grade\", \"grade\", \"grade\", \"graduate\", \"graduate\", \"graduate\", \"graduate\", \"graduation\", \"gram\", \"grandchildren\", \"grandchildren\", \"grandmother\", \"grandmother\", \"grandparent\", \"green\", \"green\", \"green\", \"grief\", \"grief\", \"ground\", \"ground\", \"ground\", \"ground\", \"ground\", \"ground\", \"ground\", \"ground\", \"group\", \"group\", \"group\", \"group\", \"group\", \"group\", \"group\", \"group\", \"group\", \"group\", \"growth\", \"growth\", \"growth\", \"guitar\", \"guy\", \"guy\", \"guy\", \"guy\", \"guy\", \"half\", \"half\", \"half\", \"half\", \"half\", \"half\", \"half\", \"half\", \"half\", \"half\", \"halftime\", \"hand\", \"hand\", \"hand\", \"hand\", \"hand\", \"hand\", \"hand\", \"hand\", \"hand\", \"hand\", \"hand\", \"hand\", \"hand\", \"hardware\", \"head\", \"head\", \"head\", \"head\", \"head\", \"head\", \"head\", \"head\", \"head\", \"head\", \"health\", \"health\", \"health\", \"hearing\", \"hearing\", \"hearing\", \"hearing\", \"hearing\", \"hearing\", \"heart\", \"heart\", \"heart\", \"heart\", \"heart\", \"heart\", \"heart\", \"heart\", \"helicopter\", \"help\", \"help\", \"help\", \"help\", \"help\", \"help\", \"help\", \"help\", \"help\", \"help\", \"help\", \"heritage\", \"heritage\", \"high\", \"high\", \"high\", \"high\", \"high\", \"high\", \"high\", \"high\", \"high\", \"high\", \"high\", \"high\", \"high\", \"high\", \"highway\", \"highway\", \"hispanic\", \"historical\", \"historical\", \"history\", \"history\", \"history\", \"history\", \"history\", \"history\", \"history\", \"history\", \"history\", \"history\", \"hit\", \"hit\", \"hit\", \"hit\", \"hit\", \"hit\", \"hit\", \"hit\", \"hit\", \"home\", \"home\", \"home\", \"home\", \"home\", \"home\", \"home\", \"home\", \"home\", \"home\", \"home\", \"homeless\", \"hospital\", \"hospital\", \"hospital\", \"hospital\", \"hospital\", \"hot\", \"hot\", \"hot\", \"hot\", \"hot\", \"hot\", \"hot\", \"hot\", \"hotel\", \"hotel\", \"hotel\", \"hotel\", \"hour\", \"hour\", \"hour\", \"hour\", \"hour\", \"hour\", \"hour\", \"hour\", \"hour\", \"hour\", \"house\", \"house\", \"house\", \"house\", \"house\", \"houses\", \"houses\", \"houses\", \"houses\", \"houses\", \"houses\", \"human\", \"human\", \"human\", \"human\", \"human\", \"human\", \"human\", \"human\", \"husband\", \"husband\", \"husband\", \"income\", \"income\", \"income\", \"income\", \"income\", \"indictment\", \"industry\", \"industry\", \"industry\", \"infection\", \"inflation\", \"information\", \"information\", \"information\", \"ingredient\", \"inmates\", \"insurance\", \"insurance\", \"insurance\", \"international\", \"international\", \"international\", \"international\", \"international\", \"international\", \"international\", \"internet\", \"internet\", \"internet\", \"internet\", \"investigation\", \"investigation\", \"investigation\", \"investment\", \"investor\", \"israeli\", \"israelis\", \"israelis\", \"israelis\", \"jacket\", \"jacket\", \"jacket\", \"jaguar\", \"jaguar\", \"jazz\", \"jazz\", \"jet\", \"jet\", \"jet\", \"jew\", \"jewish\", \"jewish\", \"jewish\", \"job\", \"job\", \"job\", \"job\", \"job\", \"job\", \"joke\", \"joke\", \"joke\", \"joke\", \"judge\", \"juice\", \"jury\", \"jury\", \"juvenile\", \"kid\", \"kid\", \"kid\", \"kid\", \"kid\", \"kind\", \"kind\", \"kind\", \"kind\", \"kind\", \"kind\", \"kind\", \"kind\", \"kind\", \"kind\", \"kind\", \"kind\", \"kiss\", \"kitchen\", \"kitchen\", \"knew\", \"knew\", \"knew\", \"knew\", \"knew\", \"knew\", \"knew\", \"known\", \"known\", \"known\", \"known\", \"known\", \"known\", \"known\", \"known\", \"known\", \"known\", \"known\", \"known\", \"lake\", \"landlord\", \"language\", \"language\", \"language\", \"language\", \"language\", \"large\", \"large\", \"large\", \"large\", \"large\", \"large\", \"large\", \"large\", \"large\", \"large\", \"large\", \"laser\", \"laser\", \"laser\", \"laughed\", \"laughed\", \"law\", \"law\", \"law\", \"lawsuit\", \"lawsuit\", \"lawsuit\", \"lawyer\", \"lawyer\", \"lawyer\", \"layout\", \"lead\", \"lead\", \"lead\", \"lead\", \"lead\", \"lead\", \"lead\", \"lead\", \"lead\", \"leader\", \"leader\", \"leader\", \"leader\", \"leader\", \"league\", \"league\", \"learn\", \"learn\", \"learn\", \"learn\", \"learn\", \"learn\", \"learn\", \"learned\", \"learned\", \"learned\", \"learned\", \"learned\", \"leather\", \"leather\", \"leaves\", \"leaves\", \"leaves\", \"leaves\", \"leaves\", \"leaves\", \"left\", \"left\", \"left\", \"left\", \"left\", \"left\", \"left\", \"left\", \"left\", \"left\", \"left\", \"left\", \"left\", \"legal\", \"legal\", \"legal\", \"legal\", \"legal\", \"level\", \"level\", \"level\", \"level\", \"level\", \"level\", \"level\", \"level\", \"light\", \"light\", \"light\", \"light\", \"light\", \"light\", \"link\", \"link\", \"link\", \"link\", \"link\", \"link\", \"link\", \"list\", \"list\", \"list\", \"list\", \"list\", \"list\", \"list\", \"list\", \"list\", \"list\", \"list\", \"listing\", \"listing\", \"live\", \"live\", \"live\", \"live\", \"live\", \"live\", \"live\", \"live\", \"live\", \"lives\", \"lives\", \"lives\", \"lives\", \"lives\", \"lives\", \"lives\", \"lives\", \"lives\", \"look\", \"look\", \"look\", \"look\", \"look\", \"look\", \"look\", \"look\", \"look\", \"look\", \"look\", \"looking\", \"looking\", \"looking\", \"looking\", \"looking\", \"looking\", \"looking\", \"looking\", \"looking\", \"looking\", \"looking\", \"looking\", \"looking\", \"love\", \"love\", \"love\", \"love\", \"love\", \"love\", \"love\", \"love\", \"luxury\", \"luxury\", \"luxury\", \"luxury\", \"luxury\", \"mail\", \"mail\", \"mail\", \"mail\", \"mail\", \"makes\", \"makes\", \"makes\", \"makes\", \"makes\", \"makes\", \"makes\", \"makes\", \"makes\", \"makes\", \"manager\", \"manager\", \"manager\", \"manager\", \"manager\", \"manager\", \"manager\", \"manager\", \"manager\", \"marked\", \"marked\", \"marked\", \"marked\", \"market\", \"market\", \"market\", \"marketing\", \"marketing\", \"marketing\", \"marketing\", \"marketing\", \"married\", \"married\", \"married\", \"meal\", \"meal\", \"meal\", \"meat\", \"meat\", \"media\", \"media\", \"media\", \"media\", \"media\", \"media\", \"media\", \"media\", \"media\", \"medical\", \"medical\", \"medication\", \"medicine\", \"medicine\", \"medium\", \"medium\", \"medium\", \"medium\", \"medium\", \"member\", \"member\", \"member\", \"member\", \"member\", \"member\", \"member\", \"merger\", \"metal\", \"metal\", \"miles\", \"miles\", \"miles\", \"miles\", \"military\", \"military\", \"milk\", \"million\", \"million\", \"million\", \"million\", \"million\", \"million\", \"minister\", \"minister\", \"minister\", \"minister\", \"minutes\", \"minutes\", \"minutes\", \"minutes\", \"minutes\", \"missile\", \"missiles\", \"mom\", \"mom\", \"money\", \"money\", \"money\", \"money\", \"money\", \"money\", \"money\", \"money\", \"money\", \"money\", \"morning\", \"morning\", \"morning\", \"morning\", \"morning\", \"morning\", \"morning\", \"morning\", \"morning\", \"mother\", \"mother\", \"mother\", \"mother\", \"movement\", \"movement\", \"movement\", \"movement\", \"movie\", \"movie\", \"movies\", \"movies\", \"movies\", \"mp3\", \"museum\", \"music\", \"music\", \"music\", \"musical\", \"musical\", \"musician\", \"nature\", \"nature\", \"nature\", \"nature\", \"nature\", \"nature\", \"nature\", \"nature\", \"nearly\", \"nearly\", \"nearly\", \"nearly\", \"nearly\", \"nearly\", \"nearly\", \"nearly\", \"nearly\", \"nearly\", \"nearly\", \"need\", \"need\", \"need\", \"need\", \"need\", \"need\", \"need\", \"need\", \"need\", \"need\", \"need\", \"negotiator\", \"negotiator\", \"network\", \"network\", \"network\", \"network\", \"newspaper\", \"newspaper\", \"newspaper\", \"newspaper\", \"newspaper\", \"newspaper\", \"newspaper\", \"newspaper\", \"newspaper\", \"newspaper\", \"newspaper\", \"night\", \"night\", \"night\", \"night\", \"night\", \"night\", \"night\", \"night\", \"night\", \"night\", \"night\", \"northwest\", \"nuclear\", \"number\", \"number\", \"number\", \"number\", \"number\", \"number\", \"number\", \"number\", \"number\", \"number\", \"number\", \"number\", \"number\", \"nytsyn\", \"object\", \"object\", \"object\", \"object\", \"offense\", \"offense\", \"offense\", \"offense\", \"offer\", \"offer\", \"offer\", \"offer\", \"offer\", \"offer\", \"offer\", \"offer\", \"offer\", \"offer\", \"offer\", \"officer\", \"officer\", \"officer\", \"officer\", \"official\", \"official\", \"official\", \"official\", \"official\", \"official\", \"official\", \"official\", \"oil\", \"oil\", \"oil\", \"oil\", \"olive\", \"onion\", \"onion\", \"online\", \"online\", \"open\", \"open\", \"open\", \"open\", \"open\", \"open\", \"open\", \"open\", \"open\", \"open\", \"open\", \"open\", \"open\", \"opera\", \"opera\", \"org\", \"org\", \"oven\", \"owner\", \"owner\", \"owner\", \"owner\", \"owner\", \"packer\", \"pageex\", \"painting\", \"palestinian\", \"pan\", \"pan\", \"pan\", \"pant\", \"parent\", \"parent\", \"parent\", \"parent\", \"parent\", \"park\", \"park\", \"park\", \"parking\", \"parking\", \"parking\", \"parliamentary\", \"part\", \"part\", \"part\", \"part\", \"part\", \"part\", \"part\", \"part\", \"part\", \"part\", \"part\", \"part\", \"part\", \"part\", \"part\", \"pass\", \"pass\", \"pass\", \"pass\", \"pass\", \"pass\", \"pass\", \"pass\", \"passenger\", \"passenger\", \"passenger\", \"patient\", \"patriot\", \"pay\", \"pay\", \"pay\", \"pay\", \"pay\", \"pay\", \"pay\", \"pay\", \"pay\", \"peace\", \"peace\", \"peace\", \"pepper\", \"pepper\", \"percent\", \"percent\", \"percent\", \"percent\", \"percent\", \"percent\", \"personal\", \"personal\", \"personal\", \"personal\", \"personal\", \"personal\", \"personal\", \"personal\", \"pfoutch\", \"physician\", \"physician\", \"pick\", \"pick\", \"pick\", \"pick\", \"pick\", \"pick\", \"pick\", \"pick\", \"pick\", \"pick\", \"pigeon\", \"pilot\", \"pilot\", \"pilot\", \"pitcher\", \"pitcher\", \"place\", \"place\", \"place\", \"place\", \"place\", \"place\", \"place\", \"place\", \"place\", \"place\", \"place\", \"place\", \"place\", \"plan\", \"plan\", \"plan\", \"plan\", \"plan\", \"plan\", \"plan\", \"plan\", \"plan\", \"plane\", \"plane\", \"plane\", \"plane\", \"planes\", \"play\", \"play\", \"play\", \"play\", \"play\", \"played\", \"played\", \"played\", \"played\", \"played\", \"played\", \"player\", \"player\", \"playing\", \"playing\", \"playing\", \"playing\", \"playing\", \"playing\", \"playing\", \"playoff\", \"playoff\", \"point\", \"point\", \"point\", \"point\", \"point\", \"point\", \"point\", \"point\", \"point\", \"point\", \"point\", \"pointer\", \"police\", \"police\", \"police\", \"politic\", \"politic\", \"politic\", \"politic\", \"politic\", \"political\", \"political\", \"political\", \"political\", \"poll\", \"poll\", \"pop\", \"pop\", \"pop\", \"portable\", \"portfolio\", \"potassium\", \"potatoes\", \"pound\", \"pound\", \"pound\", \"pound\", \"power\", \"power\", \"power\", \"power\", \"power\", \"power\", \"power\", \"power\", \"power\", \"power\", \"power\", \"power\", \"prayer\", \"prayer\", \"premiere\", \"president\", \"president\", \"president\", \"president\", \"president\", \"president\", \"presidential\", \"presidential\", \"pretend\", \"pretend\", \"price\", \"price\", \"price\", \"price\", \"price\", \"prices\", \"prices\", \"priest\", \"primaries\", \"primary\", \"printer\", \"prison\", \"prison\", \"prison\", \"prison\", \"problem\", \"problem\", \"problem\", \"problem\", \"problem\", \"problem\", \"problem\", \"problem\", \"problem\", \"problem\", \"problem\", \"producer\", \"producer\", \"producer\", \"producer\", \"product\", \"product\", \"product\", \"product\", \"production\", \"production\", \"production\", \"production\", \"production\", \"production\", \"profit\", \"profit\", \"profit\", \"program\", \"program\", \"program\", \"program\", \"proposal\", \"proposal\", \"proposal\", \"proposed\", \"proposed\", \"proposed\", \"proposed\", \"proposed\", \"prosecutor\", \"public\", \"public\", \"public\", \"public\", \"public\", \"public\", \"public\", \"public\", \"published\", \"published\", \"published\", \"published\", \"published\", \"quarter\", \"quarter\", \"quarter\", \"quarterback\", \"quarterback\", \"question\", \"question\", \"question\", \"question\", \"question\", \"question\", \"question\", \"question\", \"question\", \"question\", \"question\", \"quiz\", \"race\", \"race\", \"race\", \"race\", \"race\", \"racial\", \"racial\", \"racism\", \"racist\", \"racist\", \"rain\", \"rain\", \"rain\", \"rates\", \"rates\", \"rates\", \"rates\", \"real\", \"real\", \"real\", \"real\", \"real\", \"real\", \"real\", \"real\", \"real\", \"real\", \"real\", \"rear\", \"rebel\", \"rebound\", \"rebound\", \"receiver\", \"receiver\", \"receiver\", \"receiver\", \"receiver\", \"recipe\", \"recipes\", \"red\", \"red\", \"red\", \"red\", \"red\", \"relatives\", \"relatives\", \"religion\", \"religious\", \"religious\", \"religious\", \"remember\", \"remember\", \"remember\", \"remember\", \"remember\", \"remember\", \"reported\", \"reported\", \"reported\", \"reported\", \"reported\", \"reported\", \"reported\", \"reporter\", \"reporter\", \"reporter\", \"reporter\", \"reporter\", \"reporter\", \"republican\", \"republican\", \"research\", \"research\", \"research\", \"research\", \"research\", \"researcher\", \"researcher\", \"restaurant\", \"restaurant\", \"restaurant\", \"result\", \"result\", \"result\", \"result\", \"result\", \"result\", \"result\", \"result\", \"result\", \"result\", \"result\", \"result\", \"return\", \"return\", \"return\", \"return\", \"return\", \"return\", \"return\", \"return\", \"return\", \"revenue\", \"revenue\", \"revenues\", \"rickc\", \"right\", \"right\", \"right\", \"right\", \"right\", \"right\", \"right\", \"right\", \"right\", \"right\", \"right\", \"right\", \"risk\", \"risk\", \"risk\", \"risk\", \"risk\", \"risk\", \"road\", \"road\", \"road\", \"road\", \"road\", \"room\", \"room\", \"room\", \"room\", \"room\", \"room\", \"room\", \"ruling\", \"ruling\", \"run\", \"run\", \"run\", \"run\", \"run\", \"run\", \"run\", \"run\", \"run\", \"run\", \"russian\", \"sail\", \"sailing\", \"salary\", \"salary\", \"sales\", \"sales\", \"salt\", \"salt\", \"salt\", \"sat\", \"sat\", \"sat\", \"sat\", \"sat\", \"sat\", \"satellites\", \"satellites\", \"satellites\", \"sauce\", \"school\", \"school\", \"school\", \"science\", \"science\", \"science\", \"science\", \"science\", \"science\", \"scientific\", \"scientific\", \"scientific\", \"scientist\", \"scientist\", \"scientist\", \"scientist\", \"scientist\", \"scored\", \"scoring\", \"scoring\", \"script\", \"script\", \"search\", \"search\", \"search\", \"search\", \"search\", \"search\", \"search\", \"season\", \"season\", \"season\", \"season\", \"seat\", \"seat\", \"seat\", \"seat\", \"seat\", \"seat\", \"sedan\", \"semester\", \"senator\", \"senator\", \"senator\", \"series\", \"series\", \"series\", \"series\", \"series\", \"series\", \"series\", \"series\", \"series\", \"series\", \"serve\", \"serve\", \"serve\", \"serve\", \"serve\", \"services\", \"services\", \"services\", \"serving\", \"serving\", \"serving\", \"serving\", \"serving\", \"serving\", \"serving\", \"set\", \"set\", \"set\", \"set\", \"set\", \"set\", \"set\", \"set\", \"set\", \"set\", \"set\", \"sharaa\", \"share\", \"share\", \"share\", \"share\", \"share\", \"share\", \"share\", \"shareholder\", \"shares\", \"ship\", \"shot\", \"shot\", \"shot\", \"shot\", \"shot\", \"shot\", \"shot\", \"shot\", \"show\", \"show\", \"show\", \"show\", \"show\", \"show\", \"show\", \"show\", \"show\", \"side\", \"side\", \"side\", \"side\", \"side\", \"side\", \"side\", \"side\", \"side\", \"side\", \"side\", \"singer\", \"sister\", \"sister\", \"sister\", \"site\", \"site\", \"sites\", \"sites\", \"sites\", \"sites\", \"sites\", \"ski\", \"skier\", \"skier\", \"sky\", \"sky\", \"small\", \"small\", \"small\", \"small\", \"small\", \"small\", \"small\", \"small\", \"small\", \"small\", \"small\", \"small\", \"snow\", \"snow\", \"snow\", \"snow\", \"society\", \"society\", \"society\", \"software\", \"solar\", \"soldier\", \"soldier\", \"son\", \"son\", \"son\", \"son\", \"son\", \"son\", \"song\", \"song\", \"sound\", \"sound\", \"sound\", \"sound\", \"sound\", \"sound\", \"sound\", \"sound\", \"soundtrack\", \"soup\", \"soviet\", \"soviet\", \"soviet\", \"soviet\", \"space\", \"space\", \"space\", \"space\", \"space\", \"spending\", \"spending\", \"spending\", \"sport\", \"sport\", \"sport\", \"sport\", \"sport\", \"sport\", \"square\", \"square\", \"square\", \"staffed\", \"staffed\", \"starring\", \"statesman\", \"statesman\", \"statesman\", \"stock\", \"stock\", \"storm\", \"storm\", \"storm\", \"storm\", \"streak\", \"streak\", \"streak\", \"student\", \"student\", \"studies\", \"studies\", \"studies\", \"studies\", \"studio\", \"studio\", \"study\", \"study\", \"study\", \"sun\", \"sun\", \"sun\", \"sun\", \"support\", \"support\", \"support\", \"support\", \"support\", \"support\", \"support\", \"support\", \"supporter\", \"supporter\", \"supporter\", \"surgery\", \"surgery\", \"surgery\", \"surpluses\", \"symbol\", \"symbol\", \"symbol\", \"symptom\", \"syrian\", \"system\", \"system\", \"system\", \"system\", \"system\", \"system\", \"system\", \"system\", \"tablespoon\", \"tackle\", \"tackle\", \"tackle\", \"talk\", \"talk\", \"talk\", \"talk\", \"talk\", \"talk\", \"talk\", \"talk\", \"talk\", \"taste\", \"taste\", \"taste\", \"tax\", \"tax\", \"tax\", \"taxpayer\", \"tduncan\", \"team\", \"team\", \"teaspoon\", \"technology\", \"technology\", \"technology\", \"teenage\", \"telegram\", \"telegram\", \"telegram\", \"telegram\", \"television\", \"television\", \"television\", \"television\", \"television\", \"television\", \"television\", \"television\", \"television\", \"tell\", \"tell\", \"tell\", \"tell\", \"tell\", \"tell\", \"tell\", \"tell\", \"temperatures\", \"temperatures\", \"temperatures\", \"temperatures\", \"tender\", \"terrorism\", \"test\", \"test\", \"test\", \"test\", \"testified\", \"testimony\", \"theater\", \"therapy\", \"therapy\", \"therapy\", \"therapy\", \"thought\", \"thought\", \"thought\", \"thought\", \"thought\", \"thought\", \"thought\", \"thought\", \"thought\", \"thought\", \"throw\", \"throw\", \"throw\", \"throw\", \"throw\", \"throw\", \"throw\", \"titan\", \"today\", \"today\", \"today\", \"today\", \"today\", \"today\", \"today\", \"today\", \"today\", \"today\", \"today\", \"today\", \"today\", \"toder\", \"told\", \"told\", \"told\", \"told\", \"told\", \"told\", \"told\", \"told\", \"told\", \"told\", \"touchdown\", \"tour\", \"tour\", \"tour\", \"tour\", \"tour\", \"tourist\", \"tourist\", \"tourist\", \"tournament\", \"town\", \"town\", \"town\", \"town\", \"town\", \"town\", \"town\", \"town\", \"town\", \"traffic\", \"traffic\", \"traffic\", \"traffic\", \"trafficking\", \"train\", \"train\", \"train\", \"train\", \"treatment\", \"treatment\", \"trial\", \"trial\", \"trial\", \"trial\", \"troop\", \"troop\", \"troop\", \"tuition\", \"turnover\", \"turnover\", \"uncle\", \"union\", \"union\", \"union\", \"union\", \"user\", \"user\", \"valuation\", \"version\", \"version\", \"version\", \"version\", \"version\", \"version\", \"video\", \"video\", \"view\", \"view\", \"view\", \"view\", \"view\", \"view\", \"view\", \"view\", \"viewer\", \"viewer\", \"viking\", \"violation\", \"violation\", \"violation\", \"virtual\", \"virtual\", \"virtual\", \"visitor\", \"visitor\", \"visitor\", \"visitor\", \"vote\", \"voter\", \"voter\", \"votes\", \"votes\", \"voting\", \"voucher\", \"voucher\", \"wall\", \"wall\", \"wall\", \"wall\", \"wall\", \"wall\", \"wanted\", \"wanted\", \"wanted\", \"wanted\", \"wanted\", \"wanted\", \"wanted\", \"wanted\", \"war\", \"war\", \"war\", \"war\", \"war\", \"water\", \"water\", \"water\", \"water\", \"water\", \"weapon\", \"weapon\", \"weapon\", \"weather\", \"weather\", \"weather\", \"weather\", \"weather\", \"weather\", \"web\", \"web\", \"west\", \"wheel\", \"wheel\", \"wheel\", \"white\", \"white\", \"white\", \"white\", \"wife\", \"wife\", \"wife\", \"wife\", \"win\", \"win\", \"win\", \"win\", \"win\", \"win\", \"wind\", \"wind\", \"wind\", \"window\", \"window\", \"window\", \"window\", \"wine\", \"wine\", \"wines\", \"withdrawal\", \"withdrawal\", \"wizard\", \"wizard\", \"women\", \"women\", \"women\", \"women\", \"won\", \"won\", \"won\", \"won\", \"won\", \"won\", \"won\", \"won\", \"won\", \"won\", \"won\", \"won\", \"word\", \"word\", \"word\", \"word\", \"word\", \"word\", \"word\", \"word\", \"worker\", \"worker\", \"worker\", \"worker\", \"worker\", \"writer\", \"writer\", \"writer\", \"writer\", \"wrote\", \"wrote\", \"wrote\", \"wrote\", \"wrote\", \"wrote\", \"wrote\", \"wrote\", \"www\", \"www\", \"www\", \"xff\", \"y2k\", \"y2k\", \"yankees\", \"yard\", \"yard\", \"young\", \"young\", \"young\", \"young\", \"young\", \"young\", \"young\", \"zzz_abc\", \"zzz_abc_executive\", \"zzz_african_american\", \"zzz_african_american\", \"zzz_african_american\", \"zzz_african_american\", \"zzz_airbus\", \"zzz_akira_hareruya\", \"zzz_al_gore\", \"zzz_al_groh\", \"zzz_alan_greenspan\", \"zzz_alan_greenspan\", \"zzz_alan_keyes\", \"zzz_alaska\", \"zzz_alaska\", \"zzz_amazon\", \"zzz_america\", \"zzz_america\", \"zzz_america\", \"zzz_america\", \"zzz_america\", \"zzz_america\", \"zzz_america\", \"zzz_america_online\", \"zzz_american\", \"zzz_american\", \"zzz_american\", \"zzz_american\", \"zzz_american\", \"zzz_american\", \"zzz_american\", \"zzz_andy_alexander\", \"zzz_andy_alexander\", \"zzz_angela\", \"zzz_ann_bowden\", \"zzz_aol\", \"zzz_aol_time_warner\", \"zzz_aol_time_warner\", \"zzz_apache\", \"zzz_apple\", \"zzz_arafat\", \"zzz_army\", \"zzz_army\", \"zzz_army\", \"zzz_barak\", \"zzz_bible\", \"zzz_bible\", \"zzz_bill_belichick\", \"zzz_bill_bennett\", \"zzz_bill_bradley\", \"zzz_bill_clinton\", \"zzz_bill_gates\", \"zzz_bill_parcell\", \"zzz_black\", \"zzz_bleated_nato\", \"zzz_bobby_bowden\", \"zzz_bobby_phill\", \"zzz_boeing\", \"zzz_border_patrol\", \"zzz_boris_yeltsin\", \"zzz_bradley\", \"zzz_bruin\", \"zzz_bud_adam\", \"zzz_buffalo\", \"zzz_bush\", \"zzz_carlton_fisk\", \"zzz_cb\", \"zzz_cb\", \"zzz_chan_gailey\", \"zzz_chechen\", \"zzz_chechnya\", \"zzz_china\", \"zzz_china\", \"zzz_china\", \"zzz_china\", \"zzz_christ\", \"zzz_christian\", \"zzz_christianity\", \"zzz_christie\", \"zzz_clinton\", \"zzz_clinton\", \"zzz_clinton\", \"zzz_clinton\", \"zzz_coca_cola\", \"zzz_coke\", \"zzz_congress\", \"zzz_congress\", \"zzz_congress\", \"zzz_craig_claiborne\", \"zzz_cuba\", \"zzz_cuban_american\", \"zzz_dalglish\", \"zzz_dallas_maverick\", \"zzz_dan_marino\", \"zzz_dave_campo\", \"zzz_david_irving\", \"zzz_delta\", \"zzz_delta\", \"zzz_denzel_washington\", \"zzz_derrick_thomas\", \"zzz_dick_vermeil\", \"zzz_dick_vermeil\", \"zzz_dna\", \"zzz_don_nelson\", \"zzz_dsl\", \"zzz_earl_caldwell\", \"zzz_eastern\", \"zzz_eddie_george\", \"zzz_elian\", \"zzz_elian_gonzalez\", \"zzz_faith\", \"zzz_fda\", \"zzz_fed\", \"zzz_fidel_castro\", \"zzz_fidel_castro\", \"zzz_florida\", \"zzz_florida\", \"zzz_florida\", \"zzz_florida\", \"zzz_florida\", \"zzz_florida\", \"zzz_florida\", \"zzz_florida_state\", \"zzz_fox\", \"zzz_fox\", \"zzz_fred\", \"zzz_gary_bauer\", \"zzz_george_bush\", \"zzz_gerald_levin\", \"zzz_giant\", \"zzz_golan\", \"zzz_golan_height\", \"zzz_gop\", \"zzz_gop\", \"zzz_gore\", \"zzz_governor_bush\", \"zzz_grozny\", \"zzz_hafez_assad\", \"zzz_harlem\", \"zzz_harvard_pilgrim\", \"zzz_helmut_kohl\", \"zzz_hmo\", \"zzz_hollywood\", \"zzz_holocaust\", \"zzz_holocaust\", \"zzz_homocysteine\", \"zzz_house_republican\", \"zzz_hub\", \"zzz_hurricane\", \"zzz_ice\", \"zzz_immigration\", \"zzz_india\", \"zzz_internet\", \"zzz_internet\", \"zzz_iowa\", \"zzz_iowa\", \"zzz_iran\", \"zzz_iraq\", \"zzz_iraq\", \"zzz_islam\", \"zzz_islamic\", \"zzz_israel\", \"zzz_israel\", \"zzz_israeli\", \"zzz_israeli_syrian\", \"zzz_jackson\", \"zzz_jacksonville\", \"zzz_james_casserly\", \"zzz_james_rubin\", \"zzz_james_rubin\", \"zzz_jane_fonda\", \"zzz_jane_hull\", \"zzz_jane_swift\", \"zzz_jeff_fisher\", \"zzz_jerry_jones\", \"zzz_jerry_thomas\", \"zzz_jesus\", \"zzz_jim_washburn\", \"zzz_john_koskinen\", \"zzz_john_mccain\", \"zzz_john_rocker\", \"zzz_johnson\", \"zzz_justice_department\", \"zzz_justice_department\", \"zzz_king\", \"zzz_kosovo\", \"zzz_kremlin\", \"zzz_kurt_warner\", \"zzz_labor\", \"zzz_labor\", \"zzz_laker\", \"zzz_laura_bush\", \"zzz_leon_smith\", \"zzz_levine_scholastic\", \"zzz_mac\", \"zzz_mannesmann\", \"zzz_mark_cuban\", \"zzz_mccain\", \"zzz_merrill_lynch\", \"zzz_mexican\", \"zzz_miami\", \"zzz_miami\", \"zzz_michael_dell\", \"zzz_michael_jordan\", \"zzz_microsoft\", \"zzz_middle_east\", \"zzz_middle_east\", \"zzz_mike_tyson\", \"zzz_mike_tyson\", \"zzz_modern_art\", \"zzz_moscow\", \"zzz_motorola\", \"zzz_naacp\", \"zzz_nasa\", \"zzz_nasa\", \"zzz_nasa\", \"zzz_nasa\", \"zzz_nasdaq\", \"zzz_nato\", \"zzz_naturalization_service\", \"zzz_navy\", \"zzz_navy\", \"zzz_navy\", \"zzz_navy\", \"zzz_navy\", \"zzz_nbc\", \"zzz_nbc\", \"zzz_nbc\", \"zzz_new_england\", \"zzz_new_england\", \"zzz_new_england\", \"zzz_new_hampshire\", \"zzz_new_hampshire\", \"zzz_new_mexico\", \"zzz_new_mexico\", \"zzz_new_mexico\", \"zzz_new_york\", \"zzz_new_york\", \"zzz_new_york\", \"zzz_new_york\", \"zzz_new_york\", \"zzz_new_york\", \"zzz_new_york\", \"zzz_new_york\", \"zzz_new_york\", \"zzz_new_york\", \"zzz_new_york\", \"zzz_nfc\", \"zzz_nfl\", \"zzz_nfl\", \"zzz_olympic\", \"zzz_oscar\", \"zzz_pacific\", \"zzz_pacific\", \"zzz_pacific\", \"zzz_party\", \"zzz_party\", \"zzz_pataki\", \"zzz_paul_cayard\", \"zzz_paul_foutch\", \"zzz_paul_tagliabue\", \"zzz_pentagon\", \"zzz_pentagon\", \"zzz_pete_carroll\", \"zzz_phil_jackson\", \"zzz_prada\", \"zzz_putnam\", \"zzz_ram\", \"zzz_random_house\", \"zzz_red_sox\", \"zzz_reno\", \"zzz_republican\", \"zzz_rick_christie\", \"zzz_robert_kraft\", \"zzz_roman_catholic\", \"zzz_roman_catholic\", \"zzz_roman_polanski\", \"zzz_rudolph_giuliani\", \"zzz_russia\", \"zzz_russia\", \"zzz_russian\", \"zzz_sat\", \"zzz_schulke\", \"zzz_security_council\", \"zzz_serb\", \"zzz_serbia\", \"zzz_sharaa\", \"zzz_shepherdstown\", \"zzz_sonic\", \"zzz_sopranos\", \"zzz_sotheby\", \"zzz_southern\", \"zzz_southern\", \"zzz_soviet\", \"zzz_st_louis\", \"zzz_st_louis\", \"zzz_st_louis\", \"zzz_steve_ballmer\", \"zzz_steve_case\", \"zzz_steve_forbes\", \"zzz_steve_mcnair\", \"zzz_stripes\", \"zzz_super_bowl\", \"zzz_super_bowl\", \"zzz_suv\", \"zzz_suv\", \"zzz_swift\", \"zzz_syria\", \"zzz_tampa_bay\", \"zzz_tennessee\", \"zzz_tennessee\", \"zzz_tennessee\", \"zzz_thad_steele\", \"zzz_thomas_jefferson\", \"zzz_time_warner\", \"zzz_time_warner\", \"zzz_times_square\", \"zzz_today_russia\", \"zzz_tom_brokaw\", \"zzz_tom_oder\", \"zzz_tony\", \"zzz_tony\", \"zzz_tony_perez\", \"zzz_u_s\", \"zzz_u_s\", \"zzz_u_s\", \"zzz_u_s\", \"zzz_u_s\", \"zzz_u_s\", \"zzz_union\", \"zzz_union\", \"zzz_union\", \"zzz_united\", \"zzz_united_nation\", \"zzz_united_nation\", \"zzz_united_states\", \"zzz_united_states\", \"zzz_united_states\", \"zzz_united_states\", \"zzz_united_states\", \"zzz_united_states\", \"zzz_united_states\", \"zzz_united_states\", \"zzz_usc\", \"zzz_virginia_tech\", \"zzz_virtue\", \"zzz_vladimir_putin\", \"zzz_wall_street\", \"zzz_warner_lambert\", \"zzz_will_putin\", \"zzz_wolf\", \"zzz_world_series\", \"zzz_world_wide\", \"zzz_world_wide\", \"zzz_world_wide\", \"zzz_yale\", \"zzz_yale\", \"zzz_yale\", \"zzz_yasser_arafat\"]}, \"mdsDat\": {\"y\": [-0.11065660785497788, 0.07397037371498329, 0.2471922414424776, 0.12220569633009312, -0.05666524548393978, 0.01646140414508983, 0.02244392139488773, -0.06626941510857666, 0.06098020941836745, -0.012953969702987643, -0.17274883017143758, 0.21176976070621933, -0.05270667745513375, -0.13221330760553704, -0.15080955376952684], \"cluster\": [1, 1, 1, 1, 1, 1, 1, 1, 1, 1, 1, 1, 1, 1, 1], \"Freq\": [8.341027114045145, 8.266866888480454, 7.688328433390956, 7.4176733754241875, 7.254663218743759, 7.037523822544246, 7.016593983297664, 6.716628583491429, 6.460550128347843, 6.217595047997858, 5.878394619195471, 5.8024759579753775, 5.678665745950559, 5.565539673375812, 4.657473407739237], \"topics\": [1, 2, 3, 4, 5, 6, 7, 8, 9, 10, 11, 12, 13, 14, 15], \"x\": [0.0906893284983158, 0.1563421969572949, -0.13386944070924212, -0.07909782787134519, 0.2102323052574763, 0.15724847141633205, -0.1565862909200111, -0.19766002051470122, 0.18141251196655245, 0.04411369172226518, -0.05353279591141653, -0.03280894217151337, -0.003914157664841861, 0.0235498166079447, -0.20611884666310995]}, \"R\": 30, \"lambda.step\": 0.01, \"tinfo\": {\"Category\": [\"Default\", \"Default\", \"Default\", \"Default\", \"Default\", \"Default\", \"Default\", \"Default\", \"Default\", \"Default\", \"Default\", \"Default\", \"Default\", \"Default\", \"Default\", \"Default\", \"Default\", \"Default\", \"Default\", \"Default\", \"Default\", \"Default\", \"Default\", \"Default\", \"Default\", \"Default\", \"Default\", \"Default\", \"Default\", \"Default\", \"Topic1\", \"Topic1\", \"Topic1\", \"Topic1\", \"Topic1\", \"Topic1\", \"Topic1\", \"Topic1\", \"Topic1\", \"Topic1\", \"Topic1\", \"Topic1\", \"Topic1\", \"Topic1\", \"Topic1\", \"Topic1\", \"Topic1\", \"Topic1\", \"Topic1\", \"Topic1\", \"Topic1\", \"Topic1\", \"Topic1\", \"Topic1\", \"Topic1\", \"Topic1\", \"Topic1\", \"Topic1\", \"Topic1\", \"Topic1\", \"Topic1\", \"Topic1\", \"Topic1\", \"Topic1\", \"Topic1\", \"Topic1\", \"Topic1\", \"Topic1\", \"Topic1\", \"Topic1\", \"Topic1\", \"Topic1\", \"Topic1\", \"Topic1\", \"Topic1\", \"Topic1\", \"Topic1\", \"Topic1\", \"Topic1\", \"Topic1\", \"Topic1\", \"Topic1\", \"Topic1\", \"Topic1\", \"Topic1\", \"Topic1\", \"Topic1\", \"Topic1\", \"Topic1\", \"Topic1\", \"Topic1\", \"Topic1\", \"Topic2\", \"Topic2\", \"Topic2\", \"Topic2\", \"Topic2\", \"Topic2\", \"Topic2\", \"Topic2\", \"Topic2\", \"Topic2\", \"Topic2\", \"Topic2\", \"Topic2\", \"Topic2\", \"Topic2\", \"Topic2\", \"Topic2\", \"Topic2\", \"Topic2\", \"Topic2\", \"Topic2\", \"Topic2\", \"Topic2\", \"Topic2\", \"Topic2\", \"Topic2\", \"Topic2\", \"Topic2\", \"Topic2\", \"Topic2\", \"Topic2\", \"Topic2\", \"Topic2\", \"Topic2\", \"Topic2\", \"Topic2\", \"Topic2\", \"Topic2\", \"Topic2\", \"Topic2\", \"Topic2\", \"Topic2\", \"Topic2\", \"Topic2\", \"Topic2\", \"Topic2\", \"Topic2\", \"Topic2\", \"Topic2\", \"Topic2\", \"Topic2\", \"Topic2\", \"Topic3\", \"Topic3\", \"Topic3\", \"Topic3\", \"Topic3\", \"Topic3\", \"Topic3\", \"Topic3\", \"Topic3\", \"Topic3\", \"Topic3\", \"Topic3\", \"Topic3\", \"Topic3\", \"Topic3\", \"Topic3\", \"Topic3\", \"Topic3\", \"Topic3\", \"Topic3\", \"Topic3\", \"Topic3\", \"Topic3\", \"Topic3\", \"Topic3\", \"Topic3\", \"Topic3\", \"Topic3\", \"Topic3\", \"Topic3\", \"Topic3\", \"Topic3\", \"Topic3\", \"Topic3\", \"Topic3\", \"Topic3\", \"Topic3\", \"Topic3\", \"Topic3\", \"Topic3\", \"Topic3\", \"Topic3\", \"Topic3\", \"Topic3\", \"Topic3\", \"Topic3\", \"Topic3\", \"Topic3\", \"Topic3\", \"Topic3\", \"Topic3\", \"Topic3\", \"Topic3\", \"Topic3\", \"Topic3\", \"Topic3\", \"Topic3\", \"Topic3\", \"Topic3\", \"Topic3\", \"Topic3\", \"Topic3\", \"Topic3\", \"Topic3\", \"Topic3\", \"Topic3\", \"Topic3\", \"Topic3\", \"Topic3\", \"Topic4\", \"Topic4\", \"Topic4\", \"Topic4\", \"Topic4\", \"Topic4\", \"Topic4\", \"Topic4\", \"Topic4\", \"Topic4\", \"Topic4\", \"Topic4\", \"Topic4\", \"Topic4\", \"Topic4\", \"Topic4\", \"Topic4\", \"Topic4\", \"Topic4\", \"Topic4\", \"Topic4\", \"Topic4\", \"Topic4\", \"Topic4\", \"Topic4\", \"Topic4\", \"Topic4\", \"Topic4\", \"Topic4\", \"Topic4\", \"Topic4\", \"Topic4\", \"Topic4\", \"Topic4\", \"Topic4\", \"Topic4\", \"Topic4\", \"Topic4\", \"Topic4\", \"Topic4\", \"Topic4\", \"Topic4\", \"Topic4\", \"Topic4\", \"Topic4\", \"Topic4\", \"Topic4\", \"Topic4\", \"Topic4\", \"Topic4\", \"Topic4\", \"Topic4\", \"Topic4\", \"Topic4\", \"Topic4\", \"Topic4\", \"Topic4\", \"Topic4\", \"Topic4\", \"Topic4\", \"Topic4\", \"Topic4\", \"Topic4\", \"Topic4\", \"Topic4\", \"Topic4\", \"Topic4\", \"Topic4\", \"Topic4\", \"Topic4\", \"Topic4\", \"Topic4\", \"Topic4\", \"Topic4\", \"Topic4\", \"Topic4\", \"Topic4\", \"Topic4\", \"Topic4\", \"Topic4\", \"Topic4\", \"Topic5\", \"Topic5\", \"Topic5\", \"Topic5\", \"Topic5\", \"Topic5\", \"Topic5\", \"Topic5\", \"Topic5\", \"Topic5\", \"Topic5\", \"Topic5\", \"Topic5\", \"Topic5\", \"Topic5\", \"Topic5\", \"Topic5\", \"Topic5\", \"Topic5\", \"Topic5\", \"Topic5\", \"Topic5\", \"Topic5\", \"Topic5\", \"Topic5\", \"Topic5\", \"Topic5\", \"Topic5\", \"Topic5\", \"Topic5\", \"Topic5\", \"Topic5\", \"Topic5\", \"Topic5\", \"Topic5\", \"Topic5\", \"Topic5\", \"Topic5\", \"Topic5\", \"Topic5\", \"Topic5\", \"Topic5\", \"Topic5\", \"Topic5\", \"Topic5\", \"Topic5\", \"Topic5\", \"Topic5\", \"Topic5\", \"Topic5\", \"Topic5\", \"Topic5\", \"Topic5\", \"Topic5\", \"Topic5\", \"Topic5\", \"Topic5\", \"Topic5\", \"Topic5\", \"Topic5\", \"Topic5\", \"Topic5\", \"Topic5\", \"Topic5\", \"Topic5\", \"Topic5\", \"Topic5\", \"Topic5\", \"Topic5\", \"Topic5\", \"Topic5\", \"Topic5\", \"Topic5\", \"Topic6\", \"Topic6\", \"Topic6\", \"Topic6\", \"Topic6\", \"Topic6\", \"Topic6\", \"Topic6\", \"Topic6\", \"Topic6\", \"Topic6\", \"Topic6\", \"Topic6\", \"Topic6\", \"Topic6\", \"Topic6\", \"Topic6\", \"Topic6\", \"Topic6\", \"Topic6\", \"Topic6\", \"Topic6\", \"Topic6\", \"Topic6\", \"Topic6\", \"Topic6\", \"Topic6\", \"Topic6\", \"Topic6\", \"Topic6\", \"Topic6\", \"Topic6\", \"Topic6\", \"Topic6\", \"Topic6\", \"Topic6\", \"Topic6\", \"Topic6\", \"Topic6\", \"Topic6\", \"Topic6\", \"Topic6\", \"Topic6\", \"Topic6\", \"Topic6\", \"Topic6\", \"Topic6\", \"Topic6\", \"Topic6\", \"Topic6\", \"Topic6\", \"Topic6\", \"Topic6\", \"Topic6\", \"Topic6\", \"Topic6\", \"Topic6\", \"Topic6\", \"Topic6\", \"Topic6\", \"Topic6\", \"Topic6\", \"Topic7\", \"Topic7\", \"Topic7\", \"Topic7\", \"Topic7\", \"Topic7\", \"Topic7\", \"Topic7\", \"Topic7\", \"Topic7\", \"Topic7\", \"Topic7\", \"Topic7\", \"Topic7\", \"Topic7\", \"Topic7\", \"Topic7\", \"Topic7\", \"Topic7\", \"Topic7\", \"Topic7\", \"Topic7\", \"Topic7\", \"Topic7\", \"Topic7\", \"Topic7\", \"Topic7\", \"Topic7\", \"Topic7\", \"Topic7\", \"Topic7\", \"Topic7\", \"Topic7\", \"Topic7\", \"Topic7\", \"Topic7\", \"Topic7\", \"Topic7\", \"Topic7\", \"Topic7\", \"Topic7\", \"Topic7\", \"Topic7\", \"Topic7\", \"Topic7\", \"Topic7\", \"Topic7\", \"Topic7\", \"Topic7\", \"Topic7\", \"Topic7\", \"Topic7\", \"Topic7\", \"Topic7\", \"Topic7\", \"Topic7\", \"Topic7\", \"Topic7\", \"Topic7\", \"Topic7\", \"Topic7\", \"Topic7\", \"Topic7\", \"Topic7\", \"Topic8\", \"Topic8\", \"Topic8\", \"Topic8\", \"Topic8\", \"Topic8\", \"Topic8\", \"Topic8\", \"Topic8\", \"Topic8\", \"Topic8\", \"Topic8\", \"Topic8\", \"Topic8\", \"Topic8\", \"Topic8\", \"Topic8\", \"Topic8\", \"Topic8\", \"Topic8\", \"Topic8\", \"Topic8\", \"Topic8\", \"Topic8\", \"Topic8\", \"Topic8\", \"Topic8\", \"Topic8\", \"Topic8\", \"Topic8\", \"Topic8\", \"Topic8\", \"Topic8\", \"Topic8\", \"Topic8\", \"Topic8\", \"Topic8\", \"Topic8\", \"Topic8\", \"Topic8\", \"Topic8\", \"Topic8\", \"Topic8\", \"Topic8\", \"Topic8\", \"Topic8\", \"Topic8\", \"Topic8\", \"Topic8\", \"Topic8\", \"Topic8\", \"Topic8\", \"Topic8\", \"Topic8\", \"Topic8\", \"Topic8\", \"Topic8\", \"Topic8\", \"Topic8\", \"Topic8\", \"Topic8\", \"Topic8\", \"Topic8\", \"Topic8\", \"Topic8\", \"Topic8\", \"Topic8\", \"Topic8\", \"Topic8\", \"Topic8\", \"Topic8\", \"Topic8\", \"Topic8\", \"Topic8\", \"Topic8\", \"Topic8\", \"Topic8\", \"Topic8\", \"Topic8\", \"Topic8\", \"Topic8\", \"Topic8\", \"Topic9\", \"Topic9\", \"Topic9\", \"Topic9\", \"Topic9\", \"Topic9\", \"Topic9\", \"Topic9\", \"Topic9\", \"Topic9\", \"Topic9\", \"Topic9\", \"Topic9\", \"Topic9\", \"Topic9\", \"Topic9\", \"Topic9\", \"Topic9\", \"Topic9\", \"Topic9\", \"Topic9\", \"Topic9\", \"Topic9\", \"Topic9\", \"Topic9\", \"Topic9\", \"Topic9\", \"Topic9\", \"Topic9\", \"Topic9\", \"Topic9\", \"Topic9\", \"Topic9\", \"Topic9\", \"Topic9\", \"Topic9\", \"Topic9\", \"Topic9\", \"Topic9\", \"Topic9\", \"Topic9\", \"Topic9\", \"Topic9\", \"Topic9\", \"Topic9\", \"Topic9\", \"Topic9\", \"Topic9\", \"Topic9\", \"Topic9\", \"Topic9\", \"Topic9\", \"Topic9\", \"Topic9\", \"Topic9\", \"Topic9\", \"Topic9\", \"Topic9\", \"Topic9\", \"Topic9\", \"Topic9\", \"Topic9\", \"Topic9\", \"Topic9\", \"Topic9\", \"Topic9\", \"Topic10\", \"Topic10\", \"Topic10\", \"Topic10\", \"Topic10\", \"Topic10\", \"Topic10\", \"Topic10\", \"Topic10\", \"Topic10\", \"Topic10\", \"Topic10\", \"Topic10\", \"Topic10\", \"Topic10\", \"Topic10\", \"Topic10\", \"Topic10\", \"Topic10\", \"Topic10\", \"Topic10\", \"Topic10\", \"Topic10\", \"Topic10\", \"Topic10\", \"Topic10\", \"Topic10\", \"Topic10\", \"Topic10\", \"Topic10\", \"Topic10\", \"Topic10\", \"Topic10\", \"Topic10\", \"Topic10\", \"Topic10\", \"Topic10\", \"Topic10\", \"Topic10\", \"Topic10\", \"Topic10\", \"Topic10\", \"Topic10\", \"Topic10\", \"Topic10\", \"Topic10\", \"Topic10\", \"Topic10\", \"Topic10\", \"Topic10\", \"Topic10\", \"Topic10\", \"Topic10\", \"Topic10\", \"Topic10\", \"Topic10\", \"Topic10\", \"Topic10\", \"Topic10\", \"Topic10\", \"Topic10\", \"Topic10\", \"Topic10\", \"Topic10\", \"Topic10\", \"Topic10\", \"Topic10\", \"Topic10\", \"Topic10\", \"Topic10\", \"Topic10\", \"Topic11\", \"Topic11\", \"Topic11\", \"Topic11\", \"Topic11\", \"Topic11\", \"Topic11\", \"Topic11\", \"Topic11\", \"Topic11\", \"Topic11\", \"Topic11\", \"Topic11\", \"Topic11\", \"Topic11\", \"Topic11\", \"Topic11\", \"Topic11\", \"Topic11\", \"Topic11\", \"Topic11\", \"Topic11\", \"Topic11\", \"Topic11\", \"Topic11\", \"Topic11\", \"Topic11\", \"Topic11\", \"Topic11\", \"Topic11\", \"Topic11\", \"Topic11\", \"Topic11\", \"Topic11\", \"Topic11\", \"Topic11\", \"Topic11\", \"Topic11\", \"Topic11\", \"Topic11\", \"Topic11\", \"Topic11\", \"Topic11\", \"Topic11\", \"Topic11\", \"Topic11\", \"Topic11\", \"Topic11\", \"Topic11\", \"Topic11\", \"Topic11\", \"Topic11\", \"Topic11\", \"Topic11\", \"Topic11\", \"Topic11\", \"Topic11\", \"Topic11\", \"Topic11\", \"Topic11\", \"Topic11\", \"Topic11\", \"Topic11\", \"Topic11\", \"Topic11\", \"Topic11\", \"Topic11\", \"Topic11\", \"Topic11\", \"Topic11\", \"Topic12\", \"Topic12\", \"Topic12\", \"Topic12\", \"Topic12\", \"Topic12\", \"Topic12\", \"Topic12\", \"Topic12\", \"Topic12\", \"Topic12\", \"Topic12\", \"Topic12\", \"Topic12\", \"Topic12\", \"Topic12\", \"Topic12\", \"Topic12\", \"Topic12\", \"Topic12\", \"Topic12\", \"Topic12\", \"Topic12\", \"Topic12\", \"Topic12\", \"Topic12\", \"Topic12\", \"Topic12\", \"Topic12\", \"Topic12\", \"Topic12\", \"Topic12\", \"Topic12\", \"Topic12\", \"Topic12\", \"Topic12\", \"Topic12\", \"Topic12\", \"Topic12\", \"Topic12\", \"Topic12\", \"Topic12\", \"Topic12\", \"Topic12\", \"Topic12\", \"Topic12\", \"Topic12\", \"Topic12\", \"Topic12\", \"Topic12\", \"Topic12\", \"Topic12\", \"Topic12\", \"Topic12\", \"Topic12\", \"Topic12\", \"Topic12\", \"Topic12\", \"Topic12\", \"Topic12\", \"Topic12\", \"Topic12\", \"Topic12\", \"Topic12\", \"Topic13\", \"Topic13\", \"Topic13\", \"Topic13\", \"Topic13\", \"Topic13\", \"Topic13\", \"Topic13\", \"Topic13\", \"Topic13\", \"Topic13\", \"Topic13\", \"Topic13\", \"Topic13\", \"Topic13\", \"Topic13\", \"Topic13\", \"Topic13\", \"Topic13\", \"Topic13\", \"Topic13\", \"Topic13\", \"Topic13\", \"Topic13\", \"Topic13\", \"Topic13\", \"Topic13\", \"Topic13\", \"Topic13\", \"Topic13\", \"Topic13\", \"Topic13\", \"Topic13\", \"Topic13\", \"Topic13\", \"Topic13\", \"Topic13\", \"Topic13\", \"Topic13\", \"Topic13\", \"Topic13\", \"Topic13\", \"Topic13\", \"Topic13\", \"Topic13\", \"Topic13\", \"Topic13\", \"Topic13\", \"Topic13\", \"Topic13\", \"Topic13\", \"Topic13\", \"Topic13\", \"Topic13\", \"Topic13\", \"Topic13\", \"Topic13\", \"Topic13\", \"Topic13\", \"Topic13\", \"Topic13\", \"Topic13\", \"Topic13\", \"Topic13\", \"Topic13\", \"Topic13\", \"Topic13\", \"Topic13\", \"Topic13\", \"Topic13\", \"Topic13\", \"Topic13\", \"Topic13\", \"Topic13\", \"Topic14\", \"Topic14\", \"Topic14\", \"Topic14\", \"Topic14\", \"Topic14\", \"Topic14\", \"Topic14\", \"Topic14\", \"Topic14\", \"Topic14\", \"Topic14\", \"Topic14\", \"Topic14\", \"Topic14\", \"Topic14\", \"Topic14\", \"Topic14\", \"Topic14\", \"Topic14\", \"Topic14\", \"Topic14\", \"Topic14\", \"Topic14\", \"Topic14\", \"Topic14\", \"Topic14\", \"Topic14\", \"Topic14\", \"Topic14\", \"Topic14\", \"Topic14\", \"Topic14\", \"Topic14\", \"Topic14\", \"Topic14\", \"Topic14\", \"Topic14\", \"Topic14\", \"Topic14\", \"Topic14\", \"Topic14\", \"Topic14\", \"Topic14\", \"Topic14\", \"Topic14\", \"Topic14\", \"Topic14\", \"Topic14\", \"Topic14\", \"Topic14\", \"Topic14\", \"Topic14\", \"Topic14\", \"Topic14\", \"Topic14\", \"Topic14\", \"Topic14\", \"Topic14\", \"Topic14\", \"Topic14\", \"Topic14\", \"Topic14\", \"Topic14\", \"Topic14\", \"Topic14\", \"Topic14\", \"Topic14\", \"Topic14\", \"Topic14\", \"Topic14\", \"Topic14\", \"Topic14\", \"Topic14\", \"Topic15\", \"Topic15\", \"Topic15\", \"Topic15\", \"Topic15\", \"Topic15\", \"Topic15\", \"Topic15\", \"Topic15\", \"Topic15\", \"Topic15\", \"Topic15\", \"Topic15\", \"Topic15\", \"Topic15\", \"Topic15\", \"Topic15\", \"Topic15\", \"Topic15\", \"Topic15\", \"Topic15\", \"Topic15\", \"Topic15\", \"Topic15\", \"Topic15\", \"Topic15\", \"Topic15\", \"Topic15\", \"Topic15\", \"Topic15\", \"Topic15\", \"Topic15\", \"Topic15\", \"Topic15\", \"Topic15\", \"Topic15\", \"Topic15\", \"Topic15\", \"Topic15\", \"Topic15\", \"Topic15\", \"Topic15\", \"Topic15\", \"Topic15\", \"Topic15\", \"Topic15\", \"Topic15\", \"Topic15\", \"Topic15\", \"Topic15\", \"Topic15\", \"Topic15\", \"Topic15\", \"Topic15\", \"Topic15\", \"Topic15\", \"Topic15\", \"Topic15\", \"Topic15\", \"Topic15\", \"Topic15\", \"Topic15\", \"Topic15\", \"Topic15\", \"Topic15\"], \"Term\": [\"team\", \"game\", \"campaign\", \"company\", \"zzz_al_gore\", \"percent\", \"season\", \"play\", \"million\", \"computer\", \"player\", \"market\", \"companies\", \"web\", \"com\", \"school\", \"coach\", \"show\", \"site\", \"case\", \"film\", \"government\", \"law\", \"zzz_bill_bradley\", \"family\", \"point\", \"court\", \"zzz_george_bush\", \"program\", \"official\", \"investment\", \"investor\", \"zzz_aol\", \"merger\", \"shares\", \"zzz_america_online\", \"zzz_time_warner\", \"cent\", \"zzz_wall_street\", \"zzz_fed\", \"inflation\", \"shareholder\", \"zzz_coke\", \"revenues\", \"zzz_coca_cola\", \"acquisition\", \"zzz_nasdaq\", \"zzz_steve_case\", \"portfolio\", \"prices\", \"zzz_gerald_levin\", \"zzz_michael_dell\", \"zzz_alan_greenspan\", \"zzz_mannesmann\", \"valuation\", \"zzz_warner_lambert\", \"profit\", \"zzz_merrill_lynch\", \"dividend\", \"zzz_aol_time_warner\", \"earning\", \"stock\", \"market\", \"firm\", \"company\", \"companies\", \"analyst\", \"executives\", \"growth\", \"rates\", \"revenue\", \"customer\", \"share\", \"brand\", \"corporate\", \"price\", \"percent\", \"marketing\", \"business\", \"industry\", \"sales\", \"executive\", \"billion\", \"million\", \"deal\", \"fund\", \"chief\", \"consumer\", \"product\", \"zzz_internet\", \"money\", \"media\", \"zzz_al_gore\", \"zzz_bill_bradley\", \"zzz_george_bush\", \"candidates\", \"zzz_mccain\", \"zzz_bush\", \"primary\", \"zzz_john_mccain\", \"zzz_steve_forbes\", \"vote\", \"zzz_bradley\", \"zzz_new_hampshire\", \"zzz_republican\", \"zzz_iowa\", \"zzz_governor_bush\", \"zzz_bill_clinton\", \"poll\", \"caucuses\", \"voter\", \"zzz_alan_keyes\", \"zzz_gore\", \"ballot\", \"zzz_gary_bauer\", \"abortion\", \"debates\", \"campaigning\", \"voting\", \"caucus\", \"primaries\", \"zzz_rudolph_giuliani\", \"campaign\", \"zzz_gop\", \"votes\", \"republican\", \"candidate\", \"presidential\", \"democrat\", \"senator\", \"democratic\", \"debate\", \"election\", \"conservative\", \"supporter\", \"political\", \"politic\", \"president\", \"tax\", \"race\", \"zzz_party\", \"percent\", \"support\", \"question\", \"zzz_ram\", \"titan\", \"touchdown\", \"zzz_kurt_warner\", \"scored\", \"zzz_jacksonville\", \"zzz_steve_mcnair\", \"yard\", \"zzz_tampa_bay\", \"zzz_laker\", \"viking\", \"zzz_buffalo\", \"zzz_eddie_george\", \"zzz_jeff_fisher\", \"tournament\", \"pointer\", \"zzz_dick_vermeil\", \"zzz_bruin\", \"zzz_usc\", \"zzz_dan_marino\", \"zzz_phil_jackson\", \"zzz_florida_state\", \"cornerback\", \"zzz_virginia_tech\", \"zzz_sonic\", \"zzz_bobby_bowden\", \"zzz_nfc\", \"zzz_bud_adam\", \"buccaneer\", \"halftime\", \"rebound\", \"offense\", \"scoring\", \"consecutive\", \"zzz_tennessee\", \"streak\", \"zzz_st_louis\", \"turnover\", \"game\", \"tackle\", \"jaguar\", \"ball\", \"games\", \"quarterback\", \"playoff\", \"receiver\", \"zzz_super_bowl\", \"play\", \"season\", \"played\", \"point\", \"throw\", \"pass\", \"shot\", \"team\", \"goal\", \"beat\", \"playing\", \"win\", \"defense\", \"field\", \"player\", \"left\", \"lead\", \"half\", \"coach\", \"won\", \"run\", \"quarter\", \"homeless\", \"applicant\", \"zzz_abc_executive\", \"zzz_roman_polanski\", \"zzz_virtue\", \"zzz_faith\", \"educator\", \"zzz_derrick_thomas\", \"zzz_bill_bennett\", \"graduation\", \"semester\", \"zzz_laura_bush\", \"zzz_thad_steele\", \"zzz_jim_washburn\", \"laughed\", \"zzz_akira_hareruya\", \"zzz_fred\", \"teenage\", \"dad\", \"dropout\", \"zzz_wolf\", \"zzz_ann_bowden\", \"crying\", \"zzz_swift\", \"zzz_sat\", \"zzz_james_casserly\", \"firsthand\", \"mom\", \"zzz_jane_swift\", \"zzz_hub\", \"divorce\", \"pretend\", \"grief\", \"wife\", \"grandchildren\", \"husband\", \"friend\", \"daughter\", \"classes\", \"children\", \"parent\", \"sister\", \"zzz_yale\", \"kid\", \"graduate\", \"student\", \"son\", \"family\", \"married\", \"school\", \"mother\", \"learned\", \"young\", \"women\", \"joke\", \"baby\", \"sat\", \"brother\", \"remember\", \"grade\", \"class\", \"child\", \"tell\", \"knew\", \"father\", \"thought\", \"lives\", \"age\", \"learn\", \"home\", \"wanted\", \"feel\", \"live\", \"told\", \"help\", \"job\", \"room\", \"real\", \"asked\", \"hour\", \"need\", \"syrian\", \"zzz_syria\", \"israeli\", \"zzz_israel\", \"palestinian\", \"zzz_barak\", \"zzz_harvard_pilgrim\", \"zzz_israeli\", \"zzz_golan_height\", \"taxpayer\", \"zzz_golan\", \"zzz_pataki\", \"zzz_jane_hull\", \"zzz_shepherdstown\", \"zzz_house_republican\", \"tuition\", \"withdrawal\", \"zzz_hmo\", \"surpluses\", \"zzz_arafat\", \"deduction\", \"zzz_labor\", \"cigarettes\", \"israelis\", \"zzz_hafez_assad\", \"zzz_yasser_arafat\", \"audit\", \"sharaa\", \"zzz_sharaa\", \"zzz_israeli_syrian\", \"framework\", \"employer\", \"union\", \"negotiator\", \"voucher\", \"gambling\", \"zzz_james_rubin\", \"zzz_middle_east\", \"worker\", \"proposed\", \"zzz_clinton\", \"program\", \"proposal\", \"agreement\", \"income\", \"plan\", \"peace\", \"spending\", \"insurance\", \"zzz_congress\", \"debt\", \"pay\", \"bill\", \"benefit\", \"tax\", \"talk\", \"million\", \"government\", \"money\", \"public\", \"billion\", \"federal\", \"official\", \"health\", \"school\", \"care\", \"group\", \"member\", \"cost\", \"president\", \"effort\", \"system\", \"help\", \"zzz_russian\", \"zzz_russia\", \"zzz_vladimir_putin\", \"russian\", \"zzz_boris_yeltsin\", \"nuclear\", \"rebel\", \"zzz_chechnya\", \"zzz_kosovo\", \"zzz_moscow\", \"zzz_serb\", \"zzz_bleated_nato\", \"zzz_kremlin\", \"zzz_chechen\", \"zzz_grozny\", \"zzz_soviet\", \"zzz_iran\", \"zzz_india\", \"missile\", \"zzz_nato\", \"zzz_security_council\", \"zzz_helmut_kohl\", \"zzz_serbia\", \"zzz_will_putin\", \"terrorism\", \"zzz_iraq\", \"parliamentary\", \"zzz_islamic\", \"missiles\", \"zzz_today_russia\", \"army\", \"civilian\", \"commander\", \"zzz_pentagon\", \"soldier\", \"zzz_united_nation\", \"coup\", \"troop\", \"military\", \"weapon\", \"zzz_china\", \"forces\", \"war\", \"minister\", \"soviet\", \"countries\", \"zzz_united_states\", \"european\", \"government\", \"international\", \"leader\", \"political\", \"power\", \"country\", \"zzz_u_s\", \"zzz_american\", \"zzz_union\", \"official\", \"foreign\", \"economic\", \"president\", \"attack\", \"film\", \"movie\", \"actor\", \"theater\", \"zzz_hollywood\", \"zzz_abc\", \"comedy\", \"singer\", \"actress\", \"starring\", \"drama\", \"comic\", \"zzz_oscar\", \"musician\", \"festival\", \"opera\", \"documentary\", \"musical\", \"zzz_sopranos\", \"guitar\", \"zzz_denzel_washington\", \"zzz_tony\", \"genre\", \"soundtrack\", \"zzz_hurricane\", \"premiere\", \"kiss\", \"quiz\", \"studio\", \"zzz_angela\", \"zzz_fox\", \"jazz\", \"zzz_cb\", \"song\", \"composer\", \"album\", \"zzz_nbc\", \"producer\", \"movies\", \"music\", \"character\", \"pop\", \"script\", \"concert\", \"viewer\", \"show\", \"series\", \"band\", \"network\", \"award\", \"cast\", \"production\", \"television\", \"love\", \"play\", \"audience\", \"director\", \"sound\", \"hit\", \"writer\", \"set\", \"book\", \"hour\", \"kind\", \"museum\", \"painting\", \"ski\", \"avalanche\", \"furniture\", \"pant\", \"rear\", \"zzz_times_square\", \"zzz_sotheby\", \"zzz_christie\", \"pigeon\", \"zzz_modern_art\", \"galaxies\", \"leather\", \"frames\", \"zzz_ice\", \"galleries\", \"sedan\", \"sky\", \"glow\", \"curator\", \"solar\", \"exhibition\", \"landlord\", \"fishing\", \"cab\", \"antiques\", \"deer\", \"carpet\", \"fur\", \"object\", \"jacket\", \"laser\", \"collector\", \"skier\", \"luxury\", \"zzz_suv\", \"metal\", \"firework\", \"wheel\", \"wall\", \"parking\", \"car\", \"designer\", \"park\", \"visitor\", \"square\", \"hotel\", \"tourist\", \"space\", \"clothes\", \"feet\", \"display\", \"light\", \"building\", \"house\", \"houses\", \"art\", \"driver\", \"floor\", \"door\", \"bag\", \"room\", \"foot\", \"look\", \"sun\", \"tour\", \"seat\", \"built\", \"small\", \"road\", \"side\", \"drive\", \"open\", \"front\", \"area\", \"place\", \"show\", \"looking\", \"town\", \"head\", \"ago\", \"zzz_elian\", \"zzz_cuba\", \"judge\", \"prosecutor\", \"zzz_immigration\", \"zzz_elian_gonzalez\", \"inmates\", \"custody\", \"attorney\", \"zzz_reno\", \"zzz_fidel_castro\", \"cuban\", \"defendant\", \"juvenile\", \"uncle\", \"grandparent\", \"indictment\", \"fff\", \"jury\", \"legal\", \"testimony\", \"exile\", \"convicted\", \"fxf\", \"ffx\", \"zzz_naturalization_service\", \"zzz_cuban_american\", \"xff\", \"testified\", \"asylum\", \"prison\", \"zzz_justice_department\", \"lawyer\", \"court\", \"arrested\", \"charged\", \"grandmother\", \"arrest\", \"case\", \"relatives\", \"ruling\", \"lawsuit\", \"violation\", \"law\", \"zzz_miami\", \"boy\", \"police\", \"criminal\", \"investigation\", \"hearing\", \"charges\", \"zzz_florida\", \"decision\", \"father\", \"federal\", \"trial\", \"official\", \"death\", \"officer\", \"cases\", \"family\", \"return\", \"right\", \"group\", \"home\", \"government\", \"flag\", \"zzz_black\", \"zzz_king\", \"priest\", \"religion\", \"hispanic\", \"jew\", \"zzz_jesus\", \"racism\", \"zzz_earl_caldwell\", \"zzz_christian\", \"zzz_david_irving\", \"zzz_jackson\", \"zzz_harlem\", \"prayer\", \"zzz_islam\", \"racial\", \"heritage\", \"bishop\", \"zzz_naacp\", \"symbol\", \"zzz_jane_fonda\", \"boycott\", \"zzz_bible\", \"zzz_christianity\", \"zzz_roman_catholic\", \"zzz_thomas_jefferson\", \"racist\", \"zzz_schulke\", \"zzz_christ\", \"faith\", \"zzz_holocaust\", \"church\", \"religious\", \"historical\", \"black\", \"zzz_southern\", \"zzz_african_american\", \"language\", \"history\", \"book\", \"white\", \"jewish\", \"century\", \"movement\", \"society\", \"african\", \"belief\", \"wrote\", \"american\", \"nature\", \"died\", \"community\", \"reporter\", \"published\", \"born\", \"writer\", \"zzz_american\", \"newspaper\", \"zzz_new_york\", \"word\", \"right\", \"zzz_america\", \"gay\", \"view\", \"group\", \"part\", \"known\", \"place\", \"death\", \"member\", \"computer\", \"site\", \"software\", \"zzz_microsoft\", \"digital\", \"zzz_apple\", \"click\", \"zzz_bill_gates\", \"zzz_random_house\", \"zzz_amazon\", \"mp3\", \"bookstores\", \"zzz_mac\", \"hardware\", \"user\", \"zzz_putnam\", \"browser\", \"zzz_motorola\", \"computing\", \"portable\", \"zzz_steve_ballmer\", \"cyberspace\", \"desktop\", \"devices\", \"audio\", \"zzz_tom_brokaw\", \"printer\", \"zzz_levine_scholastic\", \"zzz_dsl\", \"virtual\", \"www\", \"web\", \"sites\", \"mail\", \"listing\", \"online\", \"zzz_world_wide\", \"device\", \"domain\", \"org\", \"electronic\", \"chat\", \"internet\", \"copy\", \"telegram\", \"files\", \"card\", \"technology\", \"com\", \"link\", \"zzz_internet\", \"video\", \"information\", \"search\", \"window\", \"system\", \"find\", \"version\", \"book\", \"program\", \"free\", \"offer\", \"list\", \"personal\", \"services\", \"called\", \"business\", \"company\", \"set\", \"number\", \"zzz_bill_belichick\", \"zzz_bill_parcell\", \"patriot\", \"zzz_john_rocker\", \"zzz_michael_jordan\", \"zzz_jerry_jones\", \"zzz_chan_gailey\", \"braves\", \"zzz_giant\", \"athletes\", \"zzz_leon_smith\", \"zzz_johnson\", \"yankees\", \"zzz_mark_cuban\", \"zzz_olympic\", \"zzz_pete_carroll\", \"zzz_al_groh\", \"zzz_dave_campo\", \"packer\", \"zzz_carlton_fisk\", \"zzz_red_sox\", \"zzz_bobby_phill\", \"zzz_paul_tagliabue\", \"zzz_dallas_maverick\", \"zzz_tony_perez\", \"zzz_robert_kraft\", \"wizard\", \"zzz_world_series\", \"baseball\", \"zzz_don_nelson\", \"pitcher\", \"contract\", \"jet\", \"zzz_mike_tyson\", \"coaching\", \"draft\", \"coordinator\", \"salary\", \"owner\", \"zzz_new_england\", \"assistant\", \"coach\", \"player\", \"sport\", \"head\", \"coaches\", \"team\", \"club\", \"football\", \"league\", \"zzz_nfl\", \"fan\", \"job\", \"manager\", \"season\", \"pick\", \"guy\", \"million\", \"won\", \"deal\", \"agent\", \"run\", \"career\", \"right\", \"ship\", \"helicopter\", \"zzz_boeing\", \"west\", \"planes\", \"zzz_prada\", \"zzz_stripes\", \"zzz_paul_cayard\", \"zzz_airbus\", \"airlines\", \"zzz_apache\", \"airline\", \"zzz_mexican\", \"sail\", \"zzz_john_koskinen\", \"bonfire\", \"flight\", \"northwest\", \"zzz_border_patrol\", \"highway\", \"trafficking\", \"congestion\", \"lake\", \"cartel\", \"snow\", \"zzz_jerry_thomas\", \"canal\", \"sailing\", \"zzz_united\", \"zzz_delta\", \"storm\", \"rain\", \"zzz_pacific\", \"accident\", \"fuel\", \"gasoline\", \"zzz_nasa\", \"temperatures\", \"plane\", \"zzz_new_mexico\", \"pilot\", \"y2k\", \"boat\", \"zzz_navy\", \"zzz_alaska\", \"satellites\", \"weather\", \"wind\", \"crash\", \"train\", \"traffic\", \"miles\", \"crew\", \"passenger\", \"border\", \"zzz_army\", \"air\", \"area\", \"problem\", \"system\", \"hour\", \"fire\", \"reported\", \"agent\", \"official\", \"ground\", \"morning\", \"control\", \"water\", \"night\", \"power\", \"nearly\", \"early\", \"race\", \"patient\", \"disease\", \"zzz_eastern\", \"flu\", \"austin\", \"eta\", \"zzz_homocysteine\", \"diseases\", \"infection\", \"dayton\", \"symptom\", \"nytsyn\", \"doctor\", \"pageex\", \"zzz_rick_christie\", \"andya\", \"artd\", \"zzz_dalglish\", \"zzz_tom_oder\", \"pfoutch\", \"tduncan\", \"toder\", \"zzz_paul_foutch\", \"clinical\", \"rickc\", \"potassium\", \"layout\", \"zzz_fda\", \"zzz_dna\", \"medication\", \"commentary\", \"cancer\", \"medicine\", \"staffed\", \"statesman\", \"marked\", \"treatment\", \"medical\", \"blood\", \"zzz_andy_alexander\", \"hospital\", \"disorder\", \"study\", \"physician\", \"brain\", \"daily\", \"researcher\", \"cell\", \"test\", \"research\", \"scientific\", \"science\", \"therapy\", \"drug\", \"aging\", \"com\", \"scientist\", \"surgery\", \"heart\", \"information\", \"studies\", \"risk\", \"american\", \"found\", \"health\", \"human\", \"question\", \"need\", \"percent\", \"women\", \"level\", \"today\", \"result\", \"problem\", \"cup\", \"tablespoon\", \"cooking\", \"teaspoon\", \"sauce\", \"recipes\", \"ingredient\", \"cheese\", \"olive\", \"flavor\", \"garlic\", \"wine\", \"pepper\", \"juice\", \"recipe\", \"chopped\", \"soup\", \"gram\", \"milk\", \"kitchen\", \"oven\", \"bread\", \"wines\", \"potatoes\", \"dish\", \"calories\", \"zzz_craig_claiborne\", \"chicken\", \"dishes\", \"tender\", \"butter\", \"onion\", \"pan\", \"cream\", \"cook\", \"salt\", \"taste\", \"food\", \"egg\", \"fish\", \"bowl\", \"restaurant\", \"fat\", \"meal\", \"oil\", \"serving\", \"medium\", \"meat\", \"minutes\", \"water\", \"add\", \"fresh\", \"hot\", \"serve\", \"green\", \"large\", \"pound\", \"leaves\", \"small\", \"makes\", \"hand\", \"red\", \"white\", \"hour\", \"high\"], \"loglift\": [30.0, 29.0, 28.0, 27.0, 26.0, 25.0, 24.0, 23.0, 22.0, 21.0, 20.0, 19.0, 18.0, 17.0, 16.0, 15.0, 14.0, 13.0, 12.0, 11.0, 10.0, 9.0, 8.0, 7.0, 6.0, 5.0, 4.0, 3.0, 2.0, 1.0, 2.4827, 2.4826, 2.4825, 2.4824, 2.4823, 2.4818, 2.4816, 2.4814, 2.4809, 2.4803, 2.4802, 2.48, 2.4792, 2.4791, 2.479, 2.4783, 2.4783, 2.4779, 2.4777, 2.4771, 2.4769, 2.4766, 2.4751, 2.474, 2.4737, 2.4735, 2.4734, 2.4731, 2.4723, 2.4718, 2.4674, 2.4539, 2.4439, 2.4399, 2.3802, 2.392, 2.3919, 2.4093, 2.3864, 2.378, 2.416, 2.3368, 2.332, 2.3727, 2.3668, 2.2526, 1.8901, 2.3677, 1.9931, 2.1363, 2.1548, 2.0558, 1.9557, 1.6367, 1.8423, 1.944, 1.8842, 2.1123, 1.8766, 1.6656, 1.1662, 1.8444, 2.4926, 2.4924, 2.4924, 2.4923, 2.4923, 2.4923, 2.492, 2.492, 2.492, 2.492, 2.4919, 2.4919, 2.4919, 2.4918, 2.4912, 2.4912, 2.4911, 2.4911, 2.4907, 2.4905, 2.4904, 2.4904, 2.4899, 2.4899, 2.4894, 2.4893, 2.4893, 2.4892, 2.4888, 2.4886, 2.4777, 2.4883, 2.4882, 2.4654, 2.4366, 2.4163, 2.4465, 2.4455, 2.3676, 2.3005, 2.1956, 2.3387, 2.3223, 1.8369, 2.1904, 1.6503, 1.9061, 2.0921, 2.2414, 0.8891, 1.6782, 1.2227, 2.5647, 2.5646, 2.5638, 2.5636, 2.5633, 2.5629, 2.5626, 2.5623, 2.5622, 2.5621, 2.562, 2.5617, 2.5612, 2.5612, 2.5611, 2.5606, 2.5603, 2.5602, 2.5601, 2.5601, 2.5597, 2.5597, 2.5591, 2.559, 2.5586, 2.5582, 2.5582, 2.5581, 2.5581, 2.5581, 2.5571, 2.5485, 2.5541, 2.5554, 2.5431, 2.5535, 2.5371, 2.5542, 2.483, 2.5465, 2.5421, 2.4765, 2.4396, 2.462, 2.4428, 2.4867, 2.379, 2.2305, 2.1356, 2.2714, 2.1041, 2.4402, 2.3211, 2.2268, 1.9564, 2.1823, 2.3077, 2.1631, 1.9913, 2.158, 2.0418, 1.7062, 1.6923, 1.8823, 1.6644, 1.5789, 1.4231, 1.3059, 1.8246, 2.593, 2.5873, 2.5872, 2.5854, 2.5825, 2.582, 2.5809, 2.5803, 2.5793, 2.5786, 2.5783, 2.5767, 2.5762, 2.5758, 2.5748, 2.5743, 2.5738, 2.5727, 2.5726, 2.5695, 2.5695, 2.5688, 2.5681, 2.568, 2.568, 2.5672, 2.5672, 2.567, 2.5664, 2.5664, 2.5661, 2.5624, 2.5618, 2.4695, 2.5243, 2.4718, 2.3831, 2.4115, 2.4839, 2.3686, 2.4017, 2.3997, 2.5321, 2.3272, 2.4543, 2.2833, 2.2941, 2.2254, 2.3842, 2.1596, 2.2229, 2.2996, 2.1692, 2.1028, 2.4333, 2.3239, 2.3608, 2.2135, 2.1933, 2.4056, 2.1415, 2.0588, 1.9705, 2.0566, 1.8985, 1.8376, 1.9844, 1.938, 2.1664, 1.5768, 1.8015, 1.7558, 1.8948, 1.5019, 1.4189, 1.4018, 1.6156, 1.6334, 1.2971, 1.2289, 0.8845, 2.621, 2.621, 2.6205, 2.6204, 2.6204, 2.6199, 2.6195, 2.6185, 2.6177, 2.6175, 2.6161, 2.6147, 2.614, 2.614, 2.6132, 2.6129, 2.6125, 2.6114, 2.6111, 2.6107, 2.6099, 2.6098, 2.6092, 2.6079, 2.6078, 2.6072, 2.6065, 2.6063, 2.6063, 2.6061, 2.6031, 2.5912, 2.5669, 2.5964, 2.5993, 2.5898, 2.5928, 2.5927, 2.5241, 2.4925, 2.2515, 2.1741, 2.3036, 2.3119, 2.3405, 2.0394, 2.2706, 2.2819, 2.3051, 2.1344, 2.2803, 1.9979, 2.0051, 2.0918, 1.7966, 1.7518, 1.4185, 1.5956, 1.5912, 1.6583, 1.7318, 1.6904, 1.36, 1.7113, 1.4277, 1.7223, 1.2889, 1.49, 1.7208, 0.995, 1.6086, 1.2008, 1.1664, 2.6528, 2.6522, 2.6521, 2.652, 2.652, 2.6519, 2.6518, 2.6516, 2.6515, 2.6513, 2.6508, 2.6505, 2.6504, 2.6503, 2.6499, 2.6498, 2.6492, 2.6489, 2.6485, 2.648, 2.6476, 2.6476, 2.6457, 2.6455, 2.6454, 2.6452, 2.6449, 2.6449, 2.6448, 2.6447, 2.643, 2.6426, 2.639, 2.6415, 2.6283, 2.6366, 2.6399, 2.6184, 2.5474, 2.5711, 2.5552, 2.5431, 2.4256, 2.5265, 2.6169, 2.4068, 2.0432, 2.3797, 1.9091, 2.2573, 1.9165, 1.7159, 1.8879, 1.7475, 1.9337, 1.7834, 2.2817, 1.1438, 2.0204, 1.8288, 0.7383, 1.8198, 2.6564, 2.6553, 2.6548, 2.6547, 2.6543, 2.654, 2.6532, 2.6531, 2.6524, 2.6518, 2.6515, 2.6501, 2.6496, 2.6496, 2.6495, 2.6492, 2.6491, 2.6475, 2.6468, 2.6468, 2.6466, 2.6462, 2.6454, 2.6453, 2.645, 2.6444, 2.644, 2.644, 2.6436, 2.6431, 2.6427, 2.6358, 2.6349, 2.6106, 2.6349, 2.6135, 2.6231, 2.5985, 2.5727, 2.5121, 2.5099, 2.5642, 2.5965, 2.6058, 2.5427, 2.2599, 2.2771, 2.4938, 2.0753, 2.274, 2.263, 2.1824, 1.6446, 1.8268, 1.1477, 2.1145, 1.4146, 1.8779, 1.5256, 1.8935, 0.8948, 0.8993, 0.8638, 0.9972, 2.6971, 2.6964, 2.6947, 2.6942, 2.6928, 2.6925, 2.6924, 2.6923, 2.6884, 2.6879, 2.6863, 2.6857, 2.6854, 2.6853, 2.6845, 2.6843, 2.6837, 2.6835, 2.683, 2.6819, 2.6819, 2.6814, 2.6807, 2.6806, 2.6805, 2.68, 2.6797, 2.679, 2.6785, 2.6783, 2.673, 2.6759, 2.6773, 2.6765, 2.6781, 2.6623, 2.6763, 2.6489, 2.6574, 2.6158, 2.5582, 2.6423, 2.4684, 2.5769, 2.5705, 2.5458, 2.5576, 2.4702, 2.5925, 2.4292, 2.5455, 2.4006, 2.4792, 2.2276, 2.1712, 2.0791, 2.4646, 2.0578, 2.2262, 2.1987, 2.0909, 2.3694, 1.7806, 2.0942, 1.5197, 2.402, 2.1138, 2.0645, 1.9073, 1.4036, 1.7363, 1.4929, 1.9412, 1.4018, 1.4235, 1.5104, 0.9155, 0.5123, 1.3222, 1.4494, 0.809, 0.6871, 2.7385, 2.7383, 2.7379, 2.737, 2.7367, 2.7361, 2.736, 2.7358, 2.7347, 2.7343, 2.7339, 2.7337, 2.7336, 2.7331, 2.7326, 2.7326, 2.7325, 2.7317, 2.7317, 2.7317, 2.7312, 2.7306, 2.7302, 2.7301, 2.7297, 2.7295, 2.7291, 2.7288, 2.7286, 2.7285, 2.7285, 2.7236, 2.7053, 2.6926, 2.7137, 2.7022, 2.6993, 2.7067, 2.6244, 2.6763, 2.6792, 2.6757, 2.708, 2.5281, 2.4717, 2.3716, 2.4458, 2.5848, 2.5573, 2.5459, 2.5084, 2.4617, 2.0026, 2.0547, 1.9942, 2.3373, 1.627, 2.0207, 2.0883, 2.2886, 1.5757, 1.727, 1.0126, 1.0606, 0.8557, 0.8907, 2.7764, 2.7756, 2.7755, 2.7747, 2.7738, 2.7736, 2.773, 2.7726, 2.7719, 2.7714, 2.771, 2.7705, 2.7698, 2.7691, 2.7686, 2.7682, 2.768, 2.768, 2.7668, 2.7666, 2.7662, 2.7662, 2.7645, 2.7644, 2.7643, 2.7637, 2.7633, 2.7631, 2.7631, 2.7621, 2.7555, 2.7615, 2.7305, 2.6575, 2.6947, 2.5585, 2.6936, 2.6403, 2.4823, 2.2056, 2.0618, 2.1967, 2.5244, 2.1346, 2.3564, 2.3933, 2.5329, 2.4771, 2.0275, 1.5772, 2.3873, 2.0058, 1.9738, 1.8186, 2.2429, 2.2498, 2.0424, 1.4988, 1.3603, 1.2008, 1.4614, 0.7642, 1.5505, 2.1196, 1.6363, 0.89, 0.6399, 1.1988, 0.9469, 1.4088, 0.9378, 2.8334, 2.8329, 2.8326, 2.8324, 2.8313, 2.8287, 2.8272, 2.8269, 2.8252, 2.8247, 2.8243, 2.824, 2.8237, 2.8236, 2.8235, 2.8232, 2.8225, 2.8213, 2.821, 2.8199, 2.8199, 2.8196, 2.8196, 2.8191, 2.8188, 2.8187, 2.8172, 2.817, 2.817, 2.8169, 2.8128, 2.7944, 2.7926, 2.7691, 2.8126, 2.7568, 2.7936, 2.7806, 2.7949, 2.7924, 2.6554, 2.7175, 2.4836, 2.7346, 2.618, 2.6761, 2.479, 2.3713, 2.2065, 2.5611, 2.2511, 2.4974, 2.1861, 2.4415, 2.3565, 1.871, 1.7571, 2.2349, 1.6835, 1.6144, 1.7839, 1.7826, 1.9653, 1.9463, 2.014, 1.2188, 1.0713, 0.507, 1.0536, 1.0366, 2.8456, 2.8455, 2.8452, 2.8442, 2.8435, 2.8428, 2.8428, 2.8413, 2.841, 2.8407, 2.8406, 2.8402, 2.8394, 2.8392, 2.8384, 2.8381, 2.8378, 2.8377, 2.8373, 2.837, 2.8361, 2.8359, 2.8359, 2.8356, 2.8354, 2.8352, 2.8347, 2.8347, 2.8343, 2.834, 2.8155, 2.7488, 2.7353, 2.749, 2.7026, 2.6878, 2.6923, 2.736, 2.5574, 2.6619, 2.6115, 2.3792, 2.2956, 2.3954, 2.2646, 2.5408, 2.0615, 2.5324, 2.2641, 2.3345, 2.221, 2.1805, 1.8505, 2.0715, 1.5693, 2.3245, 1.8275, 1.1068, 1.54, 1.5348, 2.0143, 1.1142, 1.7389, 0.5782, 2.8657, 2.8643, 2.8642, 2.8628, 2.8624, 2.8614, 2.8613, 2.8606, 2.8586, 2.8579, 2.8578, 2.857, 2.8559, 2.8558, 2.8554, 2.8552, 2.8551, 2.8538, 2.8533, 2.8523, 2.8522, 2.852, 2.8516, 2.851, 2.8509, 2.8507, 2.8505, 2.8503, 2.8503, 2.8496, 2.8409, 2.8444, 2.845, 2.8142, 2.8103, 2.8454, 2.8355, 2.8237, 2.7722, 2.793, 2.7578, 2.7366, 2.7329, 2.7681, 2.796, 2.8252, 2.6592, 2.6693, 2.714, 2.7087, 2.6515, 2.5675, 2.6067, 2.5982, 2.3286, 2.5035, 2.1238, 2.1218, 1.5902, 1.4977, 1.5805, 2.19, 2.0435, 1.9103, 0.9107, 1.8431, 1.7917, 1.4206, 1.5962, 0.8505, 1.2058, 1.4718, 0.9842, 1.4155, 2.8877, 2.8867, 2.8853, 2.8849, 2.8837, 2.8831, 2.8829, 2.8819, 2.8817, 2.8815, 2.8815, 2.8815, 2.8814, 2.8812, 2.8812, 2.881, 2.881, 2.881, 2.881, 2.881, 2.881, 2.881, 2.881, 2.8809, 2.8801, 2.8793, 2.8792, 2.879, 2.8789, 2.8786, 2.8732, 2.8663, 2.878, 2.8775, 2.8685, 2.845, 2.8197, 2.8071, 2.8036, 2.8764, 2.7246, 2.8762, 2.6776, 2.8181, 2.7626, 2.6549, 2.7578, 2.6522, 2.5019, 2.5387, 2.8064, 2.6404, 2.8018, 2.3603, 2.7629, 2.1242, 2.5361, 2.6578, 2.3197, 2.0937, 2.5484, 2.2227, 1.64, 1.7183, 1.8162, 2.0592, 1.5157, 1.3543, 0.929, 1.5056, 1.8324, 1.4596, 1.6133, 0.9722, 3.0652, 3.064, 3.0636, 3.0624, 3.0622, 3.0621, 3.0621, 3.062, 3.062, 3.0618, 3.0618, 3.0617, 3.0616, 3.0614, 3.0614, 3.0613, 3.0611, 3.0609, 3.0609, 3.0608, 3.0608, 3.0606, 3.0597, 3.0596, 3.0594, 3.0594, 3.0591, 3.059, 3.059, 3.0588, 3.0584, 3.0582, 3.0548, 3.0524, 3.0492, 3.0544, 3.0424, 2.9897, 3.0476, 3.0334, 3.0343, 2.9144, 2.9754, 3.0326, 2.803, 2.7663, 2.9087, 2.9738, 2.3287, 2.4258, 2.4248, 2.7291, 2.547, 2.5091, 2.6259, 1.9495, 2.4315, 2.6722, 1.5735, 1.7214, 1.4096, 2.3939, 1.7252, 1.1458, 0.7184], \"Freq\": [6907.0, 6128.0, 5535.0, 6004.0, 4454.0, 8130.0, 5185.0, 4951.0, 6992.0, 2894.0, 3868.0, 3512.0, 3555.0, 2818.0, 3410.0, 4056.0, 3341.0, 4977.0, 2460.0, 3143.0, 2540.0, 4203.0, 3060.0, 2665.0, 3262.0, 5304.0, 2457.0, 2491.0, 3383.0, 4840.0, 1074.9682016270017, 971.5602641304497, 945.9454539248818, 870.0497199824582, 795.102682714315, 635.7216414352255, 996.2263776617374, 535.1597939615143, 438.39273318492417, 368.1891792881824, 356.80481919681887, 343.5230657568947, 281.8577819286756, 279.0116919058347, 273.3195118601529, 240.11512826034257, 239.1664315860623, 223.98728479757756, 215.44901472905494, 950.6889372962833, 192.68029454632784, 184.1420244778052, 371.0352693110233, 135.75849408951015, 131.96370739238898, 130.0663140438284, 867.2036299596174, 124.37413399814663, 115.83586392962397, 189.83420452348696, 717.3095554233308, 2526.4741132758527, 3374.608940082436, 1619.5200926638909, 5412.409396436509, 3242.740102357475, 1618.5713959896107, 842.5375164283297, 977.2524441761315, 771.3852658573077, 494.3658369674616, 1188.8118025406372, 1171.7352624035918, 733.4373988860958, 719.2069487718915, 998.1237710102979, 4489.327532361783, 581.6459310012486, 2292.14603472862, 1259.015356437379, 1113.8647652724937, 1351.0389338425678, 1605.2896425496865, 2997.027663718879, 1494.292131658892, 1267.5536265059015, 1252.374479717417, 1005.7133444045404, 997.1750743360177, 1019.9437945187448, 1087.3012583926457, 950.6889372962833, 4452.931751382001, 2663.7604024457205, 2490.5839242866473, 2250.433117557767, 2224.60016225227, 2217.902729395289, 1547.2026675747907, 1502.2341898207771, 1496.4935330862222, 1479.2715628825574, 1395.0752641090853, 2390.1224314319365, 1355.847443089627, 2193.026550212218, 803.7876204499299, 784.6520980014136, 1317.5763981925943, 761.6894710631939, 1873.4633253219947, 576.0749033125852, 541.6309629052557, 536.8470822931266, 450.73723127480304, 445.95335066267387, 382.8061265825699, 375.1519176031633, 373.23836535831174, 362.71382801162775, 332.0969920940015, 312.9614696454852, 5451.806023194555, 506.2302463755004, 500.4895896409456, 2104.046370826617, 1546.2458914523647, 2033.2449377671064, 884.1568147336988, 729.159082900716, 1596.9550259409332, 1104.2153228916368, 1384.5507267624016, 807.6147249396332, 835.361232489982, 1943.3079822590794, 1020.0190241181648, 2260.957654904451, 1495.5367569637963, 1156.8380096250569, 908.0762177943441, 1635.2260708379658, 1096.5611139122302, 1042.9816510563844, 1769.1851992099469, 1575.3379830846081, 832.8843252064911, 725.6096522050902, 618.3349792036893, 530.8214301762306, 478.12509957905115, 2243.4521745845614, 412.25468633257685, 408.4906627184926, 395.3165800691978, 358.61734983187637, 322.8591254980761, 321.91811959455504, 312.50806055934436, 281.45486574314936, 454.5999519910246, 256.9887122516018, 256.04770634808074, 255.10670044455966, 235.34557647061737, 234.4045705670963, 213.70244068963297, 210.87942297906977, 199.58735213681703, 187.35427539104325, 187.35427539104325, 185.47226358400113, 184.53125768048005, 183.590251776959, 400.0216095868031, 770.7779355741011, 373.6734442882134, 326.6231491121603, 1075.6638483149247, 354.85332621779213, 870.5245613473336, 287.10090116427574, 5643.306504006156, 379.31947970933976, 429.19279259595595, 1188.584556737452, 2101.3602831528815, 1103.8940254205565, 1118.9501198768935, 644.683144502279, 1491.5884576712338, 3542.040321443626, 3373.600264713356, 1575.3379830846081, 3344.429081704203, 604.2198906508733, 981.5632579628186, 1396.5468614156066, 3756.589667446428, 1196.1126039656206, 835.7073429170543, 1133.0652084297096, 1582.8660303127767, 1030.4955649459139, 1084.1329014466144, 1638.3853786205193, 1424.7770385212384, 1087.8969250606985, 1270.4520703437843, 1245.9859168522369, 995.6783465156346, 988.1502992874662, 917.5748565233866, 163.86878164635874, 96.82719944153635, 95.86946255289602, 85.3343567778525, 71.92604033688802, 70.01056655960738, 66.1796190050461, 64.26414522776547, 61.39093456184451, 59.47546078456388, 58.51772389592356, 54.686776341362275, 53.729039452721956, 52.77130256408164, 120.77062165754434, 49.89809189816068, 48.94035500952035, 47.024881232239714, 180.1503087532442, 42.23619678903811, 42.23619678903811, 41.2784599003978, 100.65814699609763, 40.32072301175747, 40.32072301175747, 39.36298612311715, 39.36298612311715, 289.3323140582407, 38.405249234476834, 38.405249234476834, 174.4038874214023, 58.51772389592356, 57.55998700728323, 1381.1523671082055, 202.17825719197154, 793.1019174830491, 1660.8115385911788, 909.945817897168, 226.12167940797954, 2015.1741873880974, 1054.5640880818564, 514.4004828887159, 88.20756744377347, 1088.0848791842675, 232.82583762846178, 1551.6295332861823, 1281.5477306896123, 2240.2423562185727, 385.1060029222727, 2608.0133214564553, 1160.8728827209318, 592.9349077572222, 1391.687472883249, 1923.2314460786265, 196.43183586012964, 363.0780544835453, 290.290050946881, 568.0337486525739, 614.9628561959495, 224.20620563069895, 711.6942819486218, 815.1298659217764, 1065.0991938568998, 737.5531779419105, 1130.2253022844416, 1075.6342996319433, 704.9901237281396, 777.7781272648039, 464.59816467941926, 1617.7133786023646, 908.9880810085277, 960.7058729951051, 728.9335459441476, 1035.40935030905, 1079.4652471865047, 995.1844009861563, 847.6929201355473, 838.1155512491441, 770.1162321556814, 760.5388632692782, 765.3275477124797, 537.5968192166521, 537.5968192166521, 457.401236168883, 1072.2340395351125, 435.44292176294624, 379.1150717651084, 341.8814082072156, 273.1423370234135, 233.04454549952897, 227.31628956754548, 183.3996607556719, 153.80367177375715, 143.30186923178738, 142.34715990979012, 131.84535736782036, 128.02652007983136, 212.9956497375867, 111.79646160587808, 108.93233363988634, 106.06820567389458, 99.38524041991381, 169.07902092571317, 94.61169380992756, 275.05175566740803, 86.0193099119523, 83.15518194596056, 79.33634465797155, 78.38163533597431, 78.38163533597431, 77.42692601397705, 113.70588024987258, 281.7347209213888, 851.6961861537476, 155.71309041775163, 133.75477601181487, 209.1768124495977, 168.12431160371588, 168.12431160371588, 1324.2773005423867, 655.9807751443111, 2168.240341187957, 2158.693247967984, 848.8320581877559, 743.8140327680583, 614.9282742984294, 2274.2130759296515, 760.0440912420115, 705.6256598881682, 536.6421098946548, 977.7178166573847, 486.0425158288005, 999.6761310633213, 878.4280471696705, 665.5278683642837, 1176.2973556328127, 1245.036426816615, 2095.6824327161653, 1503.76265307787, 1446.4800937580349, 1282.2700903745076, 1116.150668346986, 1013.9967708932801, 1368.1939293542603, 952.8953742854562, 1226.8969496986672, 884.1563031016542, 1098.0111912290383, 962.4424675054288, 814.4625225958549, 1030.2268293672334, 810.6436853078658, 880.3374658136653, 820.1907785278383, 1272.3706564797785, 1331.3886855614198, 741.2083947450068, 712.1831345409208, 702.5080478062256, 667.6777355613225, 636.7174580102975, 576.7319202551868, 564.1543075000828, 512.8763478061977, 430.63811056128765, 396.7753069898542, 382.2626768878112, 378.3926421939331, 336.78976923474335, 330.98471719392614, 290.3493529082059, 270.9991794388153, 252.61651464289423, 229.39630647962548, 216.81869372452164, 214.88367637758256, 165.54073403063654, 160.70319066328886, 159.73568198981937, 269.06416209187626, 150.06059525512407, 150.06059525512407, 148.125577908185, 147.15806923471547, 395.8077983163846, 372.5875901531159, 349.3673819898472, 268.09665341840673, 606.7246891327421, 301.95945698984025, 235.20135852044268, 567.0568335204914, 1774.5076580104644, 660.9051748470357, 652.19759678581, 701.540539132756, 1713.554611581884, 693.8004697449998, 320.3421217857613, 827.3166666837949, 1592.616027398193, 605.7571804592726, 1996.067144234987, 721.8582212756162, 1245.2804136226316, 1465.8723911736843, 1133.0494075001664, 1362.3489631124448, 969.5404416838157, 992.7606498470843, 564.1543075000828, 1069.1938350511773, 644.4575273980538, 683.157874336835, 773.1361809695013, 618.3347932143765, 2539.1324783905857, 1489.199114220831, 644.7928721230876, 625.4035209842185, 518.7620897204392, 466.41084164549306, 369.46408595114826, 361.70834549560067, 302.57082452205026, 267.66999247208616, 430.54054203858544, 200.77673104298816, 187.20418524577988, 186.23471768883644, 183.3263150180061, 299.66242185121996, 173.6316394485716, 363.64728060948755, 134.85293717083368, 133.88346961389024, 131.94453450000333, 310.32656497759785, 118.37198870279504, 117.4025211458516, 113.5246509180778, 108.67731313336056, 104.79944290558677, 104.79944290558677, 335.5327214581275, 98.01317000698263, 291.90668139567236, 342.31899435673165, 324.8685783317496, 814.449694588191, 189.1431203596668, 448.96042562051105, 318.08230543314545, 582.7469484787068, 669.9990286036173, 1486.2907115500007, 1060.6944540518268, 425.69320425386826, 301.60135696510685, 268.6394600290296, 438.29628249413304, 3346.698953324478, 963.747698357482, 369.46408595114826, 852.2589293089854, 496.4643359107399, 487.73912789824897, 478.0444523288145, 792.1519407784917, 632.1897938828228, 1094.6258185448476, 490.6475305690792, 786.335135436831, 504.2200763662875, 577.8996106939896, 472.2276469871538, 575.9606755801027, 526.5178301759869, 499.37273858157033, 483.86125767047514, 388.2961647119313, 328.798385140397, 229.3102947093068, 211.7535728685262, 174.68938231576712, 166.88639483097572, 165.9110213953768, 163.96027452417894, 111.29010900183711, 106.4132418238425, 94.70876059665542, 90.80726685425972, 88.85651998306189, 151.28041986139297, 83.97965280506726, 83.00427936946835, 80.07815906267157, 79.10278562707265, 240.03940250089497, 72.27517157788019, 72.27517157788019, 70.32442470668235, 208.82745256172942, 67.39830439988557, 114.21622930863387, 65.44755752868774, 64.47218409308881, 62.52143722189096, 148.3542995545962, 60.57069035069312, 360.98570851516143, 209.80282599732834, 141.52668550540372, 135.67444489181017, 102.5117480814468, 208.82745256172942, 95.68413403225433, 221.50730722451542, 140.5513120698048, 281.98046023164864, 638.9671376608545, 170.78788857337142, 1669.936859088916, 320.9953976556056, 302.46330237922604, 381.4685506627388, 325.8722648336002, 582.3954783961169, 226.38417440251, 664.3268469864265, 304.4140492504239, 746.258215576736, 381.4685506627388, 845.7463060078262, 920.8500605489431, 875.0075090757938, 283.9312071028465, 667.2529672932233, 457.5476786394548, 480.9566410938289, 576.5432377825234, 334.6506257539905, 905.2440855793603, 524.8484456957805, 1166.6441663198718, 310.26628986401744, 420.48348808669573, 430.237222442685, 459.4984255106526, 640.9178845320523, 495.5872426278128, 575.5678643469245, 428.2864755714871, 517.0454582109891, 486.80888170742253, 434.1387161850806, 505.340976983802, 558.0111425061439, 440.9663302342731, 433.16334274948167, 464.3752926886472, 465.3506661242462, 1396.2528131201068, 1176.9816465818926, 873.300783190472, 564.7687877959935, 488.12090214767966, 404.6814316950848, 388.1875828846882, 371.69373407429157, 685.0768614718279, 265.9390564076307, 418.26460130364677, 748.1415775115797, 232.95135878683737, 213.54683077460598, 198.9934347654325, 197.05298196420938, 194.14230276237464, 175.70800115075488, 297.9565276278124, 914.0502920161579, 164.06528434341607, 152.42256753607725, 250.4154339978456, 145.63098273179628, 138.8393979275153, 136.89894512629218, 131.07758672262275, 127.19668112017649, 125.25622831895338, 124.2860019183418, 745.230898309745, 263.028377205796, 1328.336965077297, 2345.13423291822, 398.86007329141546, 643.3571262455305, 733.5881815024062, 394.9791676889692, 2802.110867606268, 679.2555030681584, 614.2503342271834, 496.85293975318376, 282.4329052180273, 2477.085023401393, 1224.5227402118592, 1584.4767348387509, 1095.4826289305208, 511.40633576235734, 550.21539178682, 572.530599000886, 592.905353413729, 636.5655414412495, 1261.3913434350989, 1150.7855337653803, 1223.5525138112478, 735.5286343036294, 1591.2683196430319, 902.4075752088189, 828.6703687623399, 696.7195782791667, 1018.8347432822071, 837.402406367844, 1049.881988101777, 778.2185959305383, 685.0768614718279, 661.7914278571502, 958.4621409916867, 625.6287961472649, 606.050364097593, 441.5915348803492, 344.6782962344734, 326.07878578728514, 285.9430000854578, 259.5121168184008, 230.14446874389293, 213.50280150167183, 200.77682066938507, 187.07191823461477, 169.4513293899101, 156.72534855762336, 253.63858720349918, 142.04152452036948, 435.71800526544763, 238.95476316624527, 123.44201407318118, 121.48417086821398, 367.19349309159605, 116.58956285579603, 101.9057388185421, 171.40917259487728, 99.94789561357493, 164.55672137749212, 93.09544439618978, 156.72534855762336, 92.11652279370617, 86.24299317880461, 442.5704564828328, 200.77682066938507, 629.5444825571992, 655.9753658242563, 306.5003537376133, 1884.5219769411665, 192.94544784951634, 233.0812335513437, 460.1910453275375, 1328.4945067304852, 1491.9744143452451, 904.621452855089, 335.86800181212107, 920.2841984948267, 463.1278101349883, 386.77192514126796, 290.8376080978757, 317.26849136493274, 637.375855377068, 1082.785184507103, 355.4464338617929, 562.9778135883148, 579.619480830536, 695.1322299236, 419.0763380232265, 409.2871219983906, 485.64300699211094, 659.8910522341906, 714.7106619732718, 720.5841915881734, 584.5140888429539, 788.1297821595415, 551.2307543585117, 428.8655540480625, 500.3268310293649, 631.5023257621664, 525.7787926939383, 479.7694773772094, 482.70624218466014, 470.959182954857, 474.87486936479144, 2892.805104474383, 2457.9727507971984, 1050.1298837347435, 930.2097503215291, 534.3758140144954, 264.3117737261991, 202.88926636821108, 193.13966202567332, 157.06612595828352, 147.31652161574576, 141.46675901022311, 136.59195683895422, 133.66707553619287, 131.71715466768532, 795.6652103945078, 126.84235249641644, 119.04266902238622, 107.3431438113409, 105.39322294283333, 96.61857903454933, 96.61857903454933, 94.6686581660418, 94.6686581660418, 290.6357054510511, 155.116205089776, 88.81889556051912, 81.0192120864889, 80.04425165223512, 80.04425165223512, 245.78752547537727, 1279.2455857843813, 2709.512542834673, 1235.3723662429613, 1516.160971308049, 152.19132378701465, 1294.8449527324417, 220.43855418477906, 237.98784200134708, 157.06612595828352, 146.34156118149198, 526.5761305404652, 251.63728808089996, 1188.57426539878, 218.4886333162715, 395.93143235045903, 282.83602197702083, 714.7434943514442, 1105.7026284872088, 1821.3235872294813, 428.1051266808337, 1290.9451109954266, 505.1270009868821, 1252.9216540595291, 455.4040188399395, 531.450932711734, 1394.290917026327, 1040.3802793922057, 517.8014866321812, 966.2832863889189, 999.4319411535472, 803.4648938685381, 741.0674260762962, 594.8233609382296, 591.8984796354683, 569.4743896476314, 779.0908830121937, 642.5964222166647, 586.0487170299456, 565.5745479106164, 551.9251018310634, 1039.8846842836174, 962.5698378684787, 799.0192012210695, 497.6895433979643, 398.56794542983755, 336.1213387099177, 331.1652588115114, 243.93825259955983, 232.04366084338466, 219.15785310752818, 216.18420516848437, 202.30718145294665, 180.50042989995876, 176.5355659812337, 159.68489432665214, 153.73759844856454, 149.77273452983948, 146.79908659079567, 141.84300669238934, 136.886926793983, 124.99233503780779, 123.00990307844525, 123.00990307844525, 120.03625513940145, 118.05382318003892, 116.07139122067639, 190.41258969677145, 111.11531132227005, 569.0570939350155, 105.16801544418244, 252.85919641669125, 1127.1116904955688, 1248.0400400166834, 330.17404283183015, 493.7246794792392, 558.1537181585217, 520.4875109306334, 329.1828268521489, 1276.78530342744, 472.9091439059326, 644.3895083907919, 2093.5472706848045, 2229.343859901138, 1081.5157554302305, 1719.8588463449667, 574.0131738334219, 3149.192289045354, 540.3118305242589, 930.8509265186781, 690.9766594358114, 790.0982574039382, 750.4496182166874, 1219.294776605927, 795.0543373023445, 1445.2920199732557, 564.1010140366093, 786.1333934852131, 1227.2245044433769, 844.6151362864078, 764.3266419322251, 562.1185820772467, 615.6442449800351, 569.0570939350155, 610.6881650816288, 494.78905998377047, 326.9300693686418, 318.04341692431143, 238.06354492533833, 225.22726917241673, 193.63028270368665, 189.6806593950954, 172.89476033358252, 137.34815055626115, 128.4614981119308, 127.474092284783, 201.52952932086916, 107.72597574182669, 106.73856991467886, 103.77635243323542, 101.8015407789398, 534.2852930696831, 91.92748250746162, 88.96526502601817, 263.7360964311816, 83.0408300631313, 82.05342423598347, 80.07861258168784, 77.11639510024439, 620.189600031543, 76.12898927309658, 75.14158344594877, 74.15417761880094, 74.15417761880094, 121.5496573218961, 508.61274156383985, 347.66559173874595, 138.33555638340897, 339.7663451215634, 329.89228685008527, 98.83932329749634, 126.48668645763517, 161.0458904078087, 405.92253554046704, 240.03835657963398, 401.9729122318758, 521.4490173167615, 537.2475105511265, 270.6479372212163, 185.7310360865041, 141.29777386485242, 523.4238289710571, 462.20466768789254, 317.0560110971636, 323.9678518871984, 414.8091879847974, 606.3659184514736, 371.3633315902935, 324.95525771434615, 527.3734522796483, 354.5774325287806, 676.4717321789685, 676.4717321789685, 1033.9126416064778, 927.2728122745137, 827.5448237325843, 434.5573045277537, 486.88981336658793, 495.77646581091824, 683.3835729690032, 442.4565511449362, 446.40617445352746, 493.80165415662265, 436.53211618204926, 506.63792990954425, 462.20466768789254, 428.6328695648668, 455.29282689785776, 403.9477238861714, 1497.2793493664644, 740.7883648570578, 420.8104549601284, 367.48080331064017, 278.59805056149315, 247.98288017012024, 237.11943261189114, 204.5290899372039, 196.6284008039464, 192.6780562373176, 190.70288395400323, 190.70288395400323, 1131.8724769533046, 184.77736710406012, 183.78978096240292, 178.85185025411695, 178.85185025411695, 178.85185025411695, 177.8642641124598, 177.8642641124598, 177.8642641124598, 177.8642641124598, 177.8642641124598, 175.8890918291454, 160.08771356263037, 146.26150757942975, 145.27392143777254, 141.32357687114379, 140.3359907294866, 135.39806002120065, 401.0587321269846, 758.5649154068872, 220.3304682037189, 207.49184836217546, 349.70425276081073, 538.3332058173339, 711.1607806073421, 850.4104265810057, 645.9800952579675, 188.72771167068888, 938.3055931884955, 186.7525393873745, 1009.4117953878132, 312.17597937783756, 437.59941936830063, 847.4476681560341, 421.79804110178554, 634.1290615580813, 1101.2573065619317, 913.6159396470658, 255.88356930337778, 462.28907290973035, 259.83391387000654, 1049.902827195758, 283.5359812697791, 1588.1372743989261, 518.5814829841902, 364.5180448856686, 765.4780183984875, 1081.505583728788, 415.87252425184244, 587.7125129001934, 1032.1262766459286, 899.7897336638651, 811.8945670563753, 642.0297506913388, 941.2683516134671, 918.5538703553518, 1145.6986829365053, 794.1180165065459, 625.2407862831666, 614.3773387249374, 538.3332058173339, 546.2338949505914, 920.409797244155, 503.88307487093965, 432.21139446258087, 315.8747537997377, 303.4101137287188, 295.1003536813728, 293.02291366953636, 290.94547365769984, 289.90675365178157, 274.32595356300794, 274.32595356300794, 461.29555462829165, 456.10195459870044, 257.70643346831605, 253.55155344464308, 251.47411343280658, 241.08691337362416, 233.81587333219647, 231.73843332035997, 395.85619425544235, 227.583553296687, 222.3899532670958, 193.30579310138498, 190.18963308363027, 313.7973137879012, 183.9573130481208, 178.7637130185296, 425.97907442707145, 175.64755300077485, 171.49267297710188, 279.51955359259915, 273.28723355708973, 360.53971405422215, 368.84947410156803, 350.15251399503967, 267.05491352158026, 409.35955433237956, 1361.865799759408, 326.2619538589201, 448.83091455727276, 385.4689941962599, 737.5950762025443, 468.56659466971934, 294.0616336754546, 831.0798767351861, 514.270274930122, 376.1205141429958, 328.33939387075657, 1116.7278783627028, 820.6926766760037, 684.6203559007139, 442.5985945217633, 505.96051488277607, 510.1153949064491, 413.5144343560525, 645.1489956758206, 460.25683462237345, 375.0817941370775, 526.734915001141, 501.8056348591031, 510.1153949064491, 398.97235427319714, 422.86291440931666, 439.48243450400855, 412.47571435013424], \"Total\": [6907.0, 6128.0, 5535.0, 6004.0, 4454.0, 8130.0, 5185.0, 4951.0, 6992.0, 2894.0, 3868.0, 3512.0, 3555.0, 2818.0, 3410.0, 4056.0, 3341.0, 4977.0, 2460.0, 3143.0, 2540.0, 4203.0, 3060.0, 2665.0, 3262.0, 5304.0, 2457.0, 2491.0, 3383.0, 4840.0, 1076.3333630564366, 972.9254255598847, 947.3106153543168, 871.4148814118932, 796.4678441437501, 637.0868028646605, 998.559047764642, 536.5249553909493, 439.7578946143591, 369.5543407176173, 358.1699806262538, 344.88822718632963, 283.2229433581105, 280.37685333526963, 274.6846732895878, 241.48028968977752, 240.53159301549724, 225.3524462270125, 216.8141761584899, 957.2476987553094, 194.0454559757628, 185.50718590724014, 374.33936585434515, 137.1236555189451, 133.32886882182393, 131.43147547326336, 876.4026449959339, 125.73929542758162, 117.20102535905896, 192.16687462639146, 729.2685603676287, 2603.6658351373194, 3512.7242583916704, 1692.488440896378, 6004.597561006854, 3555.0294821401435, 1774.7649401300546, 907.8816599656105, 1077.4116596946633, 857.6033784114649, 529.1458246668004, 1377.3693673467976, 1364.0974402517156, 819.7884642658345, 808.6224140208733, 1258.01319646058, 8130.208838272663, 653.3646125220206, 3744.880994379762, 1782.4299728715557, 1548.112359510606, 2073.12325365731, 2722.710001393908, 6992.848421402686, 2838.648438251117, 2175.0871872495322, 2281.413301647829, 1458.4851868934743, 1830.4454121638448, 2312.156570900181, 4061.213027126465, 1802.178355243459, 4454.296104866619, 2665.124755930341, 2491.948277771268, 2251.7974710423878, 2225.9645157368905, 2219.2670828799096, 1548.567021059411, 1503.5985433053975, 1497.8578865708425, 1480.6359163671777, 1396.4396175937056, 2392.461745350811, 1357.2117965742473, 2195.3662771324375, 805.1519739345505, 786.0164514860342, 1319.908260350684, 763.0538245478144, 1877.700889472536, 577.4392567972058, 542.9953163898763, 538.2114357777472, 452.1015847594234, 447.31770414729425, 384.1704800671903, 376.5162710877837, 374.6027188429321, 364.07818149624813, 333.4613455786219, 314.32582313010556, 5535.420026853098, 508.5695602943746, 502.84152926722317, 2162.693283631073, 1635.7864879704782, 2195.215731047669, 926.1565325040395, 764.5498540120482, 1810.1781802124358, 1338.4729482181347, 1863.8643649409696, 942.2957997770768, 990.7388350476323, 3745.1114950820347, 1380.3368645748992, 5250.659883111778, 2689.230838611795, 1727.2323518792969, 1167.7653870953288, 8130.208838272663, 2476.673530387193, 3714.8773228927735, 1770.5511297164578, 1576.703913591119, 834.250255713002, 726.9755827116012, 619.7009097102002, 532.1873606827415, 479.491030085562, 2250.670345704666, 413.6206168390877, 409.85659322500345, 396.68251057570865, 359.9832803383872, 324.2250560045869, 323.2840501010659, 313.8739910658552, 282.8207962496602, 456.95709847721673, 258.3546427581126, 257.4136368545916, 256.4726309510705, 236.71150697712827, 235.7705010736072, 215.06837119614386, 212.24535348558067, 200.95328264332792, 188.72020589755414, 188.72020589755414, 186.83819409051202, 185.89718818699095, 184.9561822834699, 403.3699720526765, 783.9887232003186, 377.94777746555457, 329.9280147325581, 1100.005097194173, 359.1078660525448, 895.5529350135362, 290.36422501934715, 6128.29077733263, 386.59072693579884, 439.3370840228571, 1299.1801339589342, 2383.2403359091913, 1224.2058734888194, 1265.0335834168695, 697.533929125625, 1797.2576939398937, 4951.170370687123, 5185.580377959229, 2113.984127278648, 5304.98657401424, 684.880892552309, 1253.2251343934768, 1959.4565183470816, 6907.048765400324, 1754.6220515110726, 1081.4131617886553, 1694.4147253090107, 2810.738713846742, 1548.8046416164937, 1830.3082200603935, 3868.9960474302006, 3411.6558078323014, 2154.230563837176, 3128.1594658756608, 3341.7874022727324, 3120.7025875575796, 3482.021367684045, 1924.8086216094325, 165.2330390543577, 98.19145684953534, 97.23371996089502, 86.6986141858515, 73.29029774488701, 71.37482396760637, 67.5438764130451, 65.62840263576446, 62.75519196984349, 60.839718192562856, 59.88198130392254, 56.05103374936125, 55.09329686072093, 54.135559972080614, 124.01689087258545, 51.262349306159656, 50.30461241751933, 48.38913864023869, 185.3881441382848, 43.60045419703709, 43.60045419703709, 42.642717308396776, 104.05234038969614, 41.68498041975645, 41.68498041975645, 40.72724353111613, 40.72724353111613, 299.4217794787306, 39.76950664247581, 39.76950664247581, 180.64856017428053, 60.836690625919786, 59.87895373727946, 1575.704069386982, 218.35360200718773, 902.7505426648818, 2065.7820404759996, 1100.0980988499748, 254.2936898737313, 2543.2881449449237, 1287.4851400102345, 629.2986195720125, 94.52427491215472, 1431.192832978667, 269.6916809613393, 2132.502349146513, 1742.4132052633395, 3262.352521831579, 478.4865947092466, 4056.520115772276, 1694.8587688298185, 801.7284095925709, 2143.8782929064537, 3165.998740657662, 232.35661078572863, 479.1718551122866, 369.2065038267282, 837.1192971417664, 924.7939790497513, 272.6761702653477, 1127.12707521029, 1402.2871117635125, 2001.5395812691263, 1271.5756681154032, 2282.2780708177597, 2308.4968571095374, 1306.4525464628775, 1509.7553632254114, 717.7542366613939, 4506.598385630824, 2022.5639240165451, 2237.6398839343383, 1477.5225238871367, 3108.7297332395215, 3521.5018128934516, 3302.56526643457, 2271.519857082488, 2206.3121881349603, 2837.808608848916, 3000.233666652155, 4260.313137594693, 538.9613793813154, 538.9613793813154, 458.7657963335462, 1075.5564429047429, 436.80748192760944, 380.4796319297716, 343.2459683718788, 274.5068971880767, 234.40910566419223, 228.68084973220874, 184.76422092033516, 155.1682319384204, 144.66642939645064, 143.71172007445338, 133.20991753248362, 129.39108024449462, 215.34779604390715, 113.16102177054137, 110.29689380454963, 107.43276583855787, 100.7498005845771, 171.41380749098798, 95.97625397459085, 279.37889394253347, 87.3838700766156, 84.51974211062385, 80.70090482263484, 79.7461955006376, 79.7461955006376, 78.79148617864034, 116.05784624168368, 290.98264114096236, 901.3231253765847, 159.98832978424957, 137.03288842132977, 216.35817795592163, 173.3697773708254, 173.39036551077484, 1462.753075760302, 747.8213237316, 3145.309461874633, 3383.5656428597777, 1168.8212514320448, 1015.8111491787638, 816.1161114096541, 4078.476044807767, 1081.6777296313007, 993.0050463142411, 737.8550891653854, 1594.5628475275616, 685.0510827214406, 1868.8339490566466, 1630.321963430613, 1132.6307573166664, 2689.230838611795, 2976.853769808498, 6992.848421402686, 4203.610207165751, 4061.213027126465, 3366.5005281330173, 2722.710001393908, 2577.9532493105676, 4840.483634425349, 2372.6518045102976, 4056.520115772276, 2177.3498271299945, 4170.758876151005, 2989.9782393672003, 2008.674237987287, 5250.659883111778, 2236.789040749705, 3651.9965209093975, 3521.5018128934516, 1273.7339367092943, 1333.692971694457, 742.5716749745229, 713.546414770437, 703.8713280357417, 669.0410157908386, 638.0807382398136, 578.0952004847029, 565.517587729599, 514.2396280357138, 432.00139079080367, 398.1385872193702, 383.62595711732723, 379.75592242344914, 338.15304946425937, 332.34799742344217, 291.7126331377219, 272.3624596683313, 253.97979487241028, 230.75958670914153, 218.1819739540377, 216.2469566070986, 166.9040142601526, 162.06647089280492, 161.09896221933542, 271.4148481485401, 151.42387548464012, 151.42387548464012, 149.48885813770104, 148.52134946423152, 400.14472648494444, 376.8255072106338, 354.6209476509395, 271.4347453022184, 622.4540226918631, 307.23842362929065, 238.5308151638938, 587.5796932002537, 1973.9235955821248, 718.0012515256857, 719.8470550966164, 783.7730078853887, 2153.0955242003593, 788.0984854069849, 332.41670441468517, 1059.1940429706492, 2933.050374465857, 796.8363688106763, 4203.610207165751, 1073.2989046627677, 2603.2454589591916, 3745.1114950820347, 2437.380345349182, 3372.4214698775754, 1992.3012798174786, 2370.87195305147, 818.5310751374849, 4840.483634425349, 1214.3169368746312, 1559.0014423131634, 5250.659883111778, 1423.8849478363475, 2540.495562731755, 1491.600918567918, 646.1559564642563, 626.7666053253872, 520.1251740616079, 467.7739259866617, 370.8271702923169, 363.0714298367693, 303.9339088632189, 269.0330768132548, 432.87385278036567, 202.1398153841568, 188.56726958694853, 187.59780203000508, 184.68939935917476, 301.9822823148144, 174.99472378974025, 367.08780496249267, 136.21602151200233, 135.24655395505889, 133.30761884117197, 313.67208127812904, 119.7350730439637, 118.76560548702025, 114.88773525924645, 110.04039747452921, 106.16252724675543, 106.16252724675543, 340.0119658170509, 99.37625434815129, 296.0927834474042, 349.6293745759879, 332.10519228781976, 853.0117998237364, 193.35229472367632, 468.84775821250145, 329.00507155042675, 617.7705457255925, 728.8665942539309, 1717.8082179467253, 1228.694149354266, 467.0573945770505, 320.37959742872704, 282.724495809611, 491.33226985075186, 4977.526043513459, 1408.9926330231513, 434.91592952418085, 1524.535821777226, 728.0583194650872, 723.2216417937425, 768.2945137013069, 2179.9442329729236, 1449.8944222004661, 4951.170370687123, 843.9962721484823, 2723.4307564941982, 1098.846300507017, 1791.3563077068816, 1013.204987045794, 3354.5924595375354, 3052.997158912773, 3000.233666652155, 2543.875990116348, 389.6586584652344, 330.1608788937001, 230.6727884626099, 213.1160666218293, 176.05187606907023, 168.24888858427883, 167.2735151486799, 165.32276827748206, 112.65260275514022, 107.77573557714561, 96.07125434995854, 92.16976060756284, 90.219013736365, 153.6104222881656, 85.34214655837037, 84.36677312277146, 81.44065281597469, 80.46527938037576, 244.30442227460668, 73.6376653311833, 73.6376653311833, 71.68691845998546, 213.01296402559572, 68.76079815318869, 116.53343238393424, 66.81005128199085, 65.83467784639193, 63.883930975194076, 151.67188812302604, 61.93318410399623, 371.08935163253824, 215.0486828557156, 144.86780106553593, 138.98136663631053, 104.84370939169335, 216.987525909137, 98.03784376523872, 233.25700103700095, 146.76114360782515, 306.92043785074566, 736.7502208474515, 181.037847052765, 2106.3188247061603, 363.2490661334166, 344.48918605288986, 445.31394429392816, 375.9714789175864, 733.2629909251323, 252.21574704967318, 871.4318439816057, 355.4896975919575, 1007.3011337168435, 475.98295032512374, 1357.2963496819712, 1563.5020936094895, 1629.0096884672164, 359.50903834342705, 1269.012276661897, 735.3112237320288, 794.4676224802942, 1060.782217440971, 466.0193513730215, 2271.519857082488, 962.4839973430984, 3800.1041621330214, 418.21123187431044, 756.1099732688489, 812.7580745384141, 1015.8213452648357, 2344.7305488251686, 1299.9244980025971, 1925.7592881465152, 915.219189837187, 1894.919950602158, 1745.8050821466552, 1427.2752215091232, 3011.872229330365, 4977.526043513459, 1749.9848366071362, 1513.7069003115082, 3078.8335030523613, 3485.347212080127, 1397.6158215769085, 1178.3446550386943, 874.6637916472739, 566.1317962527954, 489.4839106044815, 406.04444015188665, 389.55059134149, 373.0567425310934, 688.3492885726243, 267.3020648644325, 420.61519590210577, 752.4413507758325, 234.31436724363923, 214.90983923140783, 200.35644322223436, 198.41599042101123, 195.5053112191765, 177.07100960755673, 300.2742454066115, 921.1969175473856, 165.42829280021792, 153.7855759928791, 252.75381589024636, 146.99399118859813, 140.20240638431716, 138.26195358309403, 132.4405951794246, 128.55968957697831, 126.61923677575523, 125.64901037514365, 753.4581403478697, 267.2374756854387, 1374.527902397516, 2457.598593184637, 409.28671647168665, 667.7545407745088, 763.6832966184177, 408.15125176418826, 3143.6898309331164, 723.5167706321265, 652.3786722758275, 529.5590143475371, 291.46316067387795, 3060.1528367253345, 1600.4060982700432, 2288.9336740037975, 1469.418523704426, 596.9445576944822, 660.1731440762034, 694.7739887829264, 747.0457000412022, 840.3909895148805, 2635.60479898365, 2282.2780708177597, 2577.9532493105676, 1099.6748339744927, 4840.483634425349, 1851.5957888093972, 1589.1186313053624, 1093.6559938751295, 3262.352521831579, 2304.8964189224444, 5903.346995034543, 4170.758876151005, 4506.598385630824, 4203.610207165751, 959.8242799283015, 626.9909350838797, 607.4125030342078, 442.9536738169638, 346.04043517108806, 327.4409247238998, 287.30513902207247, 260.87425575501544, 231.50660768050756, 214.86494043828645, 202.1389596059997, 188.4340571712294, 170.8134683265247, 158.087487494238, 255.97609957571274, 143.4036634569841, 439.9885468728926, 241.30430793000772, 124.80415300979583, 122.84630980482862, 371.4813393336623, 117.95170179241067, 103.26787775515675, 173.7200082057722, 101.31003455018957, 166.89382074836055, 94.45758333280442, 159.04219681623525, 93.47866173032081, 87.60513211541925, 452.5517613846556, 204.07789471988661, 660.013413512161, 739.8134372082782, 333.06864915475757, 2346.7007201186293, 209.88838687490463, 267.4353226873397, 618.4018743631104, 2354.333425199248, 3052.997158912773, 1617.3882064724994, 432.7453476532994, 1750.8274912833406, 705.8643072716038, 568.0868871427533, 371.53545825899175, 428.57319957929866, 1349.7722671660542, 3597.2062643532004, 525.228511179631, 1218.2858570221042, 1295.1837273449446, 1813.9242300920146, 715.4588797237928, 693.9790082735824, 1013.204987045794, 2370.87195305147, 2949.4518439389585, 3487.962351080169, 2180.293867191582, 5903.346995034543, 1880.700237477463, 828.2465599138176, 1566.78603761501, 4170.758876151005, 4459.258680247167, 2326.860179299768, 3011.872229330365, 1851.5957888093972, 2989.9782393672003, 2894.167639527821, 2460.2899951726336, 1051.492418788181, 931.5722853749668, 535.7383490679331, 265.67430877963665, 204.2518014216487, 194.50219707911094, 158.42866101172115, 148.67905666918338, 142.82929406366074, 137.95449189239184, 135.0296105896305, 133.07968972112295, 803.9395862379802, 128.20488754985405, 120.40520407582385, 108.70567886477852, 106.75575799627096, 97.98111408798695, 97.98111408798695, 96.03119321947942, 96.03119321947942, 294.9604579859321, 157.46632628487083, 90.18143061395675, 82.38174713992653, 81.40678670567274, 81.40678670567274, 249.99958100932653, 1306.5263547081227, 2818.5219673287443, 1287.4686256349053, 1617.5635441272411, 155.46933261773293, 1398.666728608151, 229.5020714866561, 251.01832448052707, 163.30392932161308, 152.54163960227726, 629.4492097418945, 282.68966668218746, 1687.1203202792155, 241.29129183996102, 491.34803392237205, 331.1630344119059, 1019.2554916801412, 1756.0039136765713, 3410.7246380676793, 562.3912483025392, 2312.156570900181, 707.1693203276136, 2394.7090433092303, 674.2546443639907, 856.6416160134338, 3651.9965209093975, 3053.750436237509, 942.5808170243151, 3052.997158912773, 3383.5656428597777, 2295.9299947612617, 2120.4949255472525, 1417.7962376754106, 1437.8204131924058, 1292.8264587319566, 3917.710501109428, 3744.880994379762, 6004.597561006854, 3354.5924595375354, 3330.0474938033954, 1041.2455937825123, 963.9307473673736, 800.3801107199644, 499.05045289685916, 399.9288549287324, 337.48224820881256, 332.52616831040626, 245.2991620984547, 233.40457034227953, 220.51876260642305, 217.54511466737924, 203.66809095184152, 181.86133939885363, 177.89647548012857, 161.045803825547, 155.0985079474594, 151.13364402873435, 148.15999608969054, 143.2039161912842, 138.24783629287788, 126.35324453670268, 124.37081257734013, 124.37081257734013, 121.39716463829633, 119.4147326789338, 117.43230071957127, 192.7429667526098, 112.47622082116493, 576.2643381688484, 106.52892494307733, 260.92426413606836, 1243.2864273087105, 1395.4389224180034, 364.1193446266029, 570.366061259819, 654.3689060257132, 607.4799576499449, 367.7773999089365, 1705.4285958694734, 569.0185916876967, 815.4324844049146, 3341.7874022727324, 3868.9960474302006, 1698.734086012556, 3078.8335030523613, 779.5723643963871, 6907.048765400324, 740.0119383783249, 1667.2306071437938, 1153.4304616600261, 1477.4524705696863, 1461.2276519449547, 3302.56526643457, 1726.4358707316906, 5185.580377959229, 951.0577707093055, 2178.6659139950298, 6992.848421402686, 3120.7025875575796, 2838.648438251117, 1292.4217168150228, 3482.021367684045, 1723.3117383602275, 5903.346995034543, 496.1503504979187, 328.29135988279, 319.40470743845964, 239.42483543948657, 226.58855968656496, 194.99157321783488, 191.04194990924364, 174.25605084773076, 138.70944107040938, 129.82278862607905, 128.83538279893122, 203.86104623562895, 109.08726625597491, 108.09986042882709, 105.13764294738364, 103.16283129308802, 541.481371223015, 93.28877302160984, 90.3265555401664, 268.0341517527806, 84.40212057727952, 83.4147147501317, 81.43990309583606, 78.47768561439261, 631.1601943402245, 77.4902797872448, 76.50287396009699, 75.51546813294917, 75.51546813294917, 123.85964451032463, 522.8110387789629, 356.13595605976604, 141.61501112878094, 358.7084591488083, 349.6375734648384, 101.14931048592486, 130.7293709689578, 168.42195848249952, 446.9278017666624, 258.8482052261761, 449.014528345883, 594.9573799656893, 615.2566867135887, 299.2160923011164, 199.69540484091715, 147.55012209569702, 645.2798227929286, 564.0365184024993, 370.0070857260671, 380.08141704366676, 515.3224313177304, 819.2554038799615, 482.47219962222323, 425.7889091353257, 904.8599864085189, 510.74402856500143, 1424.4077636477653, 1427.2752215091232, 3712.230421644479, 3651.9965209093975, 3000.233666652155, 856.4638265843014, 1111.0011574697596, 1292.4217168150228, 4840.483634425349, 1233.6027925147264, 1310.2443131079617, 2100.5565720314657, 1557.8960449518897, 3811.2682473971254, 2437.380345349182, 1732.3767499725004, 2996.4895120603273, 1727.2323518792969, 1498.6406218491616, 742.1496373397551, 422.1717274428257, 368.8420757933375, 279.95932304419046, 249.3441526528175, 238.48070509458842, 205.89036241990118, 197.98967328664367, 194.03932872001488, 192.0641564367005, 192.0641564367005, 1140.0253342402827, 186.1386395867574, 185.1510534451002, 180.21312273681423, 180.21312273681423, 180.21312273681423, 179.22553659515708, 179.22553659515708, 179.22553659515708, 179.22553659515708, 179.22553659515708, 177.25036431184267, 161.44898604532764, 147.62278006212702, 146.63519392046982, 142.68484935384106, 141.69726321218388, 136.75933250389792, 407.26146574397734, 775.6696459599622, 222.6706622888998, 209.80783016687, 356.79521559023067, 562.3240535477318, 761.8923444474302, 922.5982263083475, 703.2536559456163, 191.0436934753834, 1105.4526492143764, 189.0715487587121, 1246.5143667208995, 334.98638141411794, 496.35449606232334, 1070.558845540796, 480.7063462848193, 803.2384224381894, 1621.1552336280342, 1296.3690597834368, 277.7927413926904, 592.5134196838734, 283.3971198956571, 1780.7168979286257, 321.50898784417745, 3410.7246380676793, 737.7024763272346, 459.1366159193481, 1352.1100850707269, 2394.7090433092303, 584.3785727524988, 1143.7497801568254, 3597.2062643532004, 2899.7880096113863, 2372.6518045102976, 1471.4449950962803, 3714.8773228927735, 4260.313137594693, 8130.208838272663, 3165.998740657662, 1797.833037938292, 2564.64713812897, 1927.0852781786366, 3712.230421644479, 921.7659563404262, 505.23923396721085, 433.56755355885207, 317.2309128960089, 304.76627282499, 296.456512777644, 294.37907276580756, 292.30163275397103, 291.26291274805277, 275.68211265927914, 275.68211265927914, 463.6064230465601, 458.42562236844117, 259.06259256458725, 254.90771254091428, 252.83027252907777, 242.44307246989536, 235.17203242846767, 233.09459241663117, 398.19975917886137, 228.9397123929582, 223.746112363367, 194.66195219765618, 191.54579217990147, 316.09447878769345, 185.313472144392, 180.11987211480078, 429.2507073006233, 177.00371209704605, 172.84883207337307, 281.84593908948193, 275.61090132683046, 364.85722671233947, 374.155977764468, 356.32720678752935, 270.3681263164521, 419.4464143184521, 1470.8688482963128, 332.5560436634772, 464.0107552336134, 398.16743421094407, 858.9380104215654, 513.3765439989069, 304.25948780850433, 1081.8448081804513, 694.4757101456431, 440.49746143949284, 360.31072335840065, 2335.9693792701582, 1557.8960449518897, 1300.8940995546395, 620.3056399741309, 850.7482504605595, 890.9188401091997, 642.6018672172795, 1971.770297220788, 868.6553232840239, 556.5101803159853, 2344.7305488251686, 1926.6752918694183, 2675.1954559536393, 781.8742725131146, 1617.3882064724994, 3000.233666652155, 4317.624249859538], \"logprob\": [30.0, 29.0, 28.0, 27.0, 26.0, 25.0, 24.0, 23.0, 22.0, 21.0, 20.0, 19.0, 18.0, 17.0, 16.0, 15.0, 14.0, 13.0, 12.0, 11.0, 10.0, 9.0, 8.0, 7.0, 6.0, 5.0, 4.0, 3.0, 2.0, 1.0, -5.4785, -5.5797, -5.6064, -5.69, -5.7801, -6.0038, -5.5546, -6.176, -6.3755, -6.55, -6.5814, -6.6193, -6.8172, -6.8273, -6.8479, -6.9775, -6.9814, -7.047, -7.0859, -5.6014, -7.1976, -7.2429, -6.5423, -7.5477, -7.5761, -7.5905, -5.6933, -7.6353, -7.7064, -7.2124, -5.8831, -4.624, -4.3345, -5.0687, -3.8621, -4.3744, -5.0693, -5.7222, -5.5738, -5.8104, -6.2553, -5.3779, -5.3923, -5.8608, -5.8804, -5.5527, -4.0491, -6.0927, -4.7213, -5.3205, -5.443, -5.25, -5.0775, -4.4532, -5.1492, -5.3137, -5.3258, -5.5451, -5.5537, -5.5311, -5.4671, -5.6014, -4.0483, -4.5622, -4.6294, -4.7308, -4.7423, -4.7453, -5.1054, -5.1349, -5.1388, -5.1503, -5.2089, -4.6706, -5.2375, -4.7566, -5.7603, -5.7844, -5.2661, -5.8141, -4.9141, -6.0934, -6.1551, -6.1639, -6.3388, -6.3494, -6.5021, -6.5223, -6.5274, -6.556, -6.6442, -6.7036, -3.8459, -6.2227, -6.2341, -4.798, -5.1061, -4.8323, -5.665, -5.8578, -5.0738, -5.4428, -5.2165, -5.7556, -5.7218, -4.8775, -5.5221, -4.7261, -5.1394, -5.3962, -5.6383, -5.0501, -5.4497, -5.4998, -4.8988, -5.0149, -5.6522, -5.7901, -5.9501, -6.1027, -6.2072, -4.6613, -6.3555, -6.3646, -6.3974, -6.4948, -6.5999, -6.6028, -6.6325, -6.7371, -6.2577, -6.8281, -6.8317, -6.8354, -6.916, -6.9201, -7.0125, -7.0258, -7.0808, -7.1441, -7.1441, -7.1542, -7.1593, -7.1644, -6.3856, -5.7297, -6.4537, -6.5883, -5.3964, -6.5054, -5.608, -6.7173, -3.7389, -6.4387, -6.3152, -5.2966, -4.7268, -5.3705, -5.357, -5.9083, -5.0695, -4.2046, -4.2534, -5.0149, -4.262, -5.9732, -5.488, -5.1353, -4.1458, -5.2903, -5.6488, -5.3444, -5.0101, -5.4393, -5.3886, -4.9756, -5.1153, -5.3851, -5.23, -5.2494, -5.4737, -5.4813, -5.5554, -7.2422, -7.7683, -7.7783, -7.8947, -8.0656, -8.0926, -8.1489, -8.1783, -8.224, -8.2557, -8.2719, -8.3396, -8.3573, -8.3753, -7.5474, -8.4313, -8.4507, -8.4906, -7.1475, -8.598, -8.598, -8.6209, -7.7295, -8.6444, -8.6444, -8.6684, -8.6684, -6.6737, -8.6931, -8.6931, -7.1799, -8.2719, -8.2884, -5.1106, -7.0321, -5.6653, -4.9262, -5.5279, -6.9202, -4.7328, -5.3804, -6.0983, -7.8616, -5.3491, -6.891, -4.9942, -5.1854, -4.6269, -6.3877, -4.4749, -5.2843, -5.9562, -5.103, -4.7795, -7.0609, -6.4466, -6.6704, -5.9991, -5.9197, -6.9287, -5.7736, -5.6379, -5.3704, -5.7379, -5.3111, -5.3606, -5.7831, -5.6848, -6.2001, -4.9525, -5.5289, -5.4736, -5.7497, -5.3987, -5.357, -5.4383, -5.5987, -5.6101, -5.6947, -5.7072, -5.701, -6.0319, -6.0319, -6.1935, -5.3415, -6.2427, -6.3812, -6.4846, -6.709, -6.8678, -6.8927, -7.1074, -7.2834, -7.3541, -7.3608, -7.4374, -7.4668, -6.9578, -7.6024, -7.6283, -7.655, -7.72, -7.1887, -7.7693, -6.7021, -7.8645, -7.8983, -7.9453, -7.9575, -7.9575, -7.9697, -7.5854, -6.6781, -5.5718, -7.271, -7.423, -6.9759, -7.1943, -7.1943, -5.1304, -5.8329, -4.6374, -4.6418, -5.5752, -5.7072, -5.8975, -4.5897, -5.6857, -5.76, -6.0337, -5.4338, -6.1327, -5.4116, -5.5409, -5.8185, -5.2489, -5.1921, -4.6714, -5.0033, -5.0422, -5.1627, -5.3014, -5.3974, -5.0978, -5.4595, -5.2068, -5.5344, -5.3178, -5.4496, -5.6165, -5.3815, -5.6212, -5.5387, -5.6095, -5.14, -5.0947, -5.6804, -5.7203, -5.734, -5.7848, -5.8323, -5.9313, -5.9533, -6.0486, -6.2234, -6.3053, -6.3425, -6.3527, -6.4692, -6.4866, -6.6176, -6.6865, -6.7568, -6.8532, -6.9096, -6.9186, -7.1794, -7.2091, -7.2151, -6.6937, -7.2776, -7.2776, -7.2906, -7.2971, -6.3077, -6.3682, -6.4325, -6.6973, -5.8806, -6.5784, -6.8282, -5.9482, -4.8074, -5.795, -5.8083, -5.7354, -4.8423, -5.7465, -6.5193, -5.5705, -4.9155, -5.8822, -4.6897, -5.7068, -5.1615, -4.9984, -5.256, -5.0717, -5.4118, -5.3882, -5.9533, -5.314, -5.8202, -5.7619, -5.6382, -5.8616, -4.4461, -4.9797, -5.8167, -5.8473, -6.0342, -6.1406, -6.3736, -6.3948, -6.5734, -6.6959, -6.2206, -6.9835, -7.0535, -7.0587, -7.0744, -6.583, -7.1287, -6.3895, -7.3815, -7.3887, -7.4033, -6.548, -7.5118, -7.5201, -7.5537, -7.5973, -7.6336, -7.6336, -6.47, -7.7006, -6.6092, -6.4499, -6.5023, -5.5832, -7.0432, -6.1787, -6.5234, -5.9179, -5.7784, -4.9816, -5.319, -6.232, -6.5766, -6.6923, -6.2028, -4.1699, -5.4148, -6.3736, -5.5378, -6.0782, -6.0959, -6.116, -5.6109, -5.8365, -5.2875, -6.0899, -5.6183, -6.0627, -5.9263, -6.1282, -5.9296, -6.0194, -6.0723, -6.1039, -6.2802, -6.4465, -6.8069, -6.8866, -7.079, -7.1247, -7.1305, -7.1424, -7.5298, -7.5747, -7.6912, -7.7332, -7.755, -7.2228, -7.8114, -7.8231, -7.859, -7.8712, -6.7612, -7.9615, -7.9615, -7.9889, -6.9005, -8.0314, -7.5039, -8.0607, -8.0757, -8.1065, -7.2424, -8.1382, -6.3531, -6.8958, -7.2895, -7.3317, -7.612, -6.9005, -7.6809, -6.8415, -7.2964, -6.6001, -5.7821, -7.1016, -4.8214, -6.4706, -6.53, -6.298, -6.4555, -5.8748, -6.8197, -5.7432, -6.5236, -5.6269, -6.298, -5.5018, -5.4167, -5.4678, -6.5933, -5.7388, -6.1161, -6.0662, -5.8849, -6.4289, -5.4338, -5.9789, -5.1801, -6.5046, -6.2006, -6.1776, -6.1118, -5.7791, -6.0362, -5.8866, -6.1822, -5.9939, -6.0541, -6.1686, -6.0167, -5.9176, -6.153, -6.1709, -6.1013, -6.0992, -4.9616, -5.1324, -5.4308, -5.8667, -6.0125, -6.2, -6.2416, -6.285, -5.6736, -6.6198, -6.167, -5.5855, -6.7523, -6.8393, -6.9098, -6.9196, -6.9345, -7.0343, -6.5062, -5.3852, -7.1028, -7.1765, -6.68, -7.222, -7.2698, -7.2839, -7.3273, -7.3574, -7.3727, -7.3805, -5.5894, -6.6308, -5.0114, -4.443, -6.2145, -5.7364, -5.6052, -6.2243, -4.265, -5.6821, -5.7827, -5.9948, -6.5597, -4.3883, -5.0928, -4.8351, -5.2042, -5.9659, -5.8928, -5.853, -5.8181, -5.747, -5.0631, -5.1549, -5.0936, -5.6025, -4.8308, -5.398, -5.4833, -5.6567, -5.2767, -5.4728, -5.2467, -5.5461, -5.6736, -5.7082, -5.2994, -5.726, -5.7578, -6.0744, -6.3222, -6.3776, -6.509, -6.606, -6.7261, -6.8011, -6.8626, -6.9333, -7.0322, -7.1103, -6.6289, -7.2087, -6.0878, -6.6885, -7.349, -7.365, -6.2589, -7.4061, -7.5407, -7.0207, -7.5601, -7.0615, -7.6312, -7.1103, -7.6417, -7.7076, -6.0722, -6.8626, -5.7198, -5.6787, -6.4396, -4.6233, -6.9024, -6.7134, -6.0331, -4.973, -4.8569, -5.3573, -6.3481, -5.3401, -6.0268, -6.2069, -6.492, -6.405, -5.7074, -5.1775, -6.2914, -5.8315, -5.8024, -5.6207, -6.1267, -6.1504, -5.9793, -5.6727, -5.5929, -5.5847, -5.794, -5.4951, -5.8526, -6.1036, -5.9495, -5.7167, -5.8999, -5.9915, -5.9854, -6.01, -6.0017, -4.1387, -4.3016, -5.152, -5.2733, -5.8276, -6.5316, -6.796, -6.8453, -7.052, -7.1161, -7.1566, -7.1917, -7.2133, -7.228, -5.4295, -7.2657, -7.3292, -7.4326, -7.451, -7.5379, -7.5379, -7.5583, -7.5583, -6.4366, -7.0645, -7.6221, -7.714, -7.7261, -7.7261, -6.6042, -4.9547, -4.2042, -4.9896, -4.7847, -7.0835, -4.9425, -6.7131, -6.6365, -7.052, -7.1227, -5.8423, -6.5807, -5.0282, -6.7219, -6.1274, -6.4638, -5.5368, -5.1004, -4.6014, -6.0493, -4.9456, -5.8839, -4.9754, -5.9875, -5.8331, -4.8685, -5.1613, -5.8591, -5.2352, -5.2015, -5.4197, -5.5006, -5.7204, -5.7253, -5.764, -5.4506, -5.6432, -5.7353, -5.7708, -5.7953, -5.1488, -5.2261, -5.4123, -5.8857, -6.1078, -6.2782, -6.2931, -6.5988, -6.6488, -6.7059, -6.7196, -6.7859, -6.8999, -6.9222, -7.0225, -7.0604, -7.0866, -7.1066, -7.141, -7.1765, -7.2674, -7.2834, -7.2834, -7.3079, -7.3245, -7.3415, -6.8465, -7.3851, -5.7517, -7.4401, -6.5628, -5.0683, -4.9664, -6.2961, -5.8937, -5.771, -5.8409, -6.2991, -4.9436, -5.9368, -5.6274, -4.4491, -4.3862, -5.1096, -4.6457, -5.743, -4.0408, -5.8035, -5.2596, -5.5576, -5.4235, -5.475, -4.9897, -5.4173, -4.8196, -5.7604, -5.4286, -4.9832, -5.3568, -5.4567, -5.764, -5.673, -5.7517, -5.6811, -5.87, -6.2844, -6.3119, -6.6016, -6.657, -6.8082, -6.8288, -6.9214, -7.1516, -7.2185, -7.2262, -6.7682, -7.3945, -7.4037, -7.4319, -7.4511, -5.7932, -7.5531, -7.5859, -6.4992, -7.6548, -7.6667, -7.6911, -7.7288, -5.6441, -7.7417, -7.7547, -7.768, -7.768, -7.2738, -5.8424, -6.2229, -7.1444, -6.2459, -6.2753, -7.4806, -7.234, -6.9924, -6.068, -6.5933, -6.0777, -5.8175, -5.7877, -6.4733, -6.8498, -7.1232, -5.8137, -5.9381, -6.315, -6.2935, -6.0463, -5.6666, -6.1569, -6.2904, -5.8062, -6.2032, -5.5572, -5.5572, -5.133, -5.2419, -5.3556, -5.9998, -5.8861, -5.868, -5.5471, -5.9818, -5.9729, -5.872, -5.9953, -5.8463, -5.9381, -6.0135, -5.9532, -6.0728, -4.7426, -5.4463, -6.0118, -6.1473, -6.4242, -6.5406, -6.5854, -6.7333, -6.7727, -6.793, -6.8033, -6.8033, -5.0224, -6.8348, -6.8402, -6.8674, -6.8674, -6.8674, -6.873, -6.873, -6.873, -6.873, -6.873, -6.8841, -6.9783, -7.0686, -7.0754, -7.1029, -7.11, -7.1458, -6.0599, -5.4226, -6.6589, -6.7189, -6.1969, -5.7655, -5.4871, -5.3083, -5.5832, -6.8137, -5.2099, -6.8242, -5.1369, -6.3104, -5.9727, -5.3118, -6.0095, -5.6017, -5.0498, -5.2366, -6.5093, -5.9178, -6.4939, -5.0975, -6.4067, -4.6837, -5.8029, -6.1554, -5.4135, -5.0679, -6.0236, -5.6778, -5.1146, -5.2518, -5.3546, -5.5894, -5.2068, -5.2312, -5.0102, -5.3768, -5.6159, -5.6334, -5.7655, -5.7509, -5.0511, -5.6535, -5.807, -6.1205, -6.1608, -6.1886, -6.1956, -6.2027, -6.2063, -6.2616, -6.2616, -5.7418, -5.7532, -6.324, -6.3403, -6.3485, -6.3907, -6.4213, -6.4303, -5.8948, -6.4484, -6.4714, -6.6116, -6.6278, -6.1271, -6.6612, -6.6898, -5.8215, -6.7074, -6.7313, -6.2428, -6.2653, -5.9883, -5.9655, -6.0175, -6.2884, -5.8613, -4.6593, -6.0882, -5.7692, -5.9214, -5.2725, -5.7262, -6.1921, -5.1531, -5.6331, -5.946, -6.0818, -4.8577, -5.1657, -5.347, -5.7832, -5.6494, -5.6412, -5.8512, -5.4064, -5.7441, -5.9487, -5.6092, -5.6577, -5.6412, -5.887, -5.8288, -5.7903, -5.8537]}};\n",
       "\n",
       "function LDAvis_load_lib(url, callback){\n",
       "  var s = document.createElement('script');\n",
       "  s.src = url;\n",
       "  s.async = true;\n",
       "  s.onreadystatechange = s.onload = callback;\n",
       "  s.onerror = function(){console.warn(\"failed to load library \" + url);};\n",
       "  document.getElementsByTagName(\"head\")[0].appendChild(s);\n",
       "}\n",
       "\n",
       "if(typeof(LDAvis) !== \"undefined\"){\n",
       "   // already loaded: just create the visualization\n",
       "   !function(LDAvis){\n",
       "       new LDAvis(\"#\" + \"ldavis_el86446843376966669924637\", ldavis_el86446843376966669924637_data);\n",
       "   }(LDAvis);\n",
       "}else if(typeof define === \"function\" && define.amd){\n",
       "   // require.js is available: use it to load d3/LDAvis\n",
       "   require.config({paths: {d3: \"https://cdnjs.cloudflare.com/ajax/libs/d3/3.5.5/d3.min\"}});\n",
       "   require([\"d3\"], function(d3){\n",
       "      window.d3 = d3;\n",
       "      LDAvis_load_lib(\"https://cdn.rawgit.com/bmabey/pyLDAvis/files/ldavis.v1.0.0.js\", function(){\n",
       "        new LDAvis(\"#\" + \"ldavis_el86446843376966669924637\", ldavis_el86446843376966669924637_data);\n",
       "      });\n",
       "    });\n",
       "}else{\n",
       "    // require.js not available: dynamically load d3 & LDAvis\n",
       "    LDAvis_load_lib(\"https://cdnjs.cloudflare.com/ajax/libs/d3/3.5.5/d3.min.js\", function(){\n",
       "         LDAvis_load_lib(\"https://cdn.rawgit.com/bmabey/pyLDAvis/files/ldavis.v1.0.0.js\", function(){\n",
       "                 new LDAvis(\"#\" + \"ldavis_el86446843376966669924637\", ldavis_el86446843376966669924637_data);\n",
       "            })\n",
       "         });\n",
       "}\n",
       "</script>"
      ],
      "text/plain": [
       "PreparedData(topic_coordinates=           Freq  cluster  topics         x         y\n",
       "topic                                               \n",
       "6      8.341027        1       1  0.090689 -0.110657\n",
       "14     8.266867        1       2  0.156342  0.073970\n",
       "4      7.688328        1       3 -0.133869  0.247192\n",
       "9      7.417673        1       4 -0.079098  0.122206\n",
       "5      7.254663        1       5  0.210232 -0.056665\n",
       "8      7.037524        1       6  0.157248  0.016461\n",
       "10     7.016594        1       7 -0.156586  0.022444\n",
       "0      6.716629        1       8 -0.197660 -0.066269\n",
       "12     6.460550        1       9  0.181413  0.060980\n",
       "13     6.217595        1      10  0.044114 -0.012954\n",
       "3      5.878395        1      11 -0.053533 -0.172749\n",
       "7      5.802476        1      12 -0.032809  0.211770\n",
       "11     5.678666        1      13 -0.003914 -0.052707\n",
       "2      5.565540        1      14  0.023550 -0.132213\n",
       "1      4.657473        1      15 -0.206119 -0.150810, topic_info=      Category         Freq              Term        Total  loglift  logprob\n",
       "term                                                                        \n",
       "16975  Default  6907.000000              team  6907.000000  30.0000  30.0000\n",
       "38603  Default  6128.000000              game  6128.000000  29.0000  29.0000\n",
       "55971  Default  5535.000000          campaign  5535.000000  28.0000  28.0000\n",
       "2124   Default  6004.000000           company  6004.000000  27.0000  27.0000\n",
       "36803  Default  4454.000000       zzz_al_gore  4454.000000  26.0000  26.0000\n",
       "63714  Default  8130.000000           percent  8130.000000  25.0000  25.0000\n",
       "48402  Default  5185.000000            season  5185.000000  24.0000  24.0000\n",
       "18415  Default  4951.000000              play  4951.000000  23.0000  23.0000\n",
       "17274  Default  6992.000000           million  6992.000000  22.0000  22.0000\n",
       "55419  Default  2894.000000          computer  2894.000000  21.0000  21.0000\n",
       "36018  Default  3868.000000            player  3868.000000  20.0000  20.0000\n",
       "53029  Default  3512.000000            market  3512.000000  19.0000  19.0000\n",
       "23905  Default  3555.000000         companies  3555.000000  18.0000  18.0000\n",
       "3691   Default  2818.000000               web  2818.000000  17.0000  17.0000\n",
       "20486  Default  3410.000000               com  3410.000000  16.0000  16.0000\n",
       "7636   Default  4056.000000            school  4056.000000  15.0000  15.0000\n",
       "44901  Default  3341.000000             coach  3341.000000  14.0000  14.0000\n",
       "41339  Default  4977.000000              show  4977.000000  13.0000  13.0000\n",
       "22043  Default  2460.000000              site  2460.000000  12.0000  12.0000\n",
       "13484  Default  3143.000000              case  3143.000000  11.0000  11.0000\n",
       "41811  Default  2540.000000              film  2540.000000  10.0000  10.0000\n",
       "35640  Default  4203.000000        government  4203.000000   9.0000   9.0000\n",
       "52110  Default  3060.000000               law  3060.000000   8.0000   8.0000\n",
       "42644  Default  2665.000000  zzz_bill_bradley  2665.000000   7.0000   7.0000\n",
       "37935  Default  3262.000000            family  3262.000000   6.0000   6.0000\n",
       "10411  Default  5304.000000             point  5304.000000   5.0000   5.0000\n",
       "46130  Default  2457.000000             court  2457.000000   4.0000   4.0000\n",
       "31870  Default  2491.000000   zzz_george_bush  2491.000000   3.0000   3.0000\n",
       "30002  Default  3383.000000           program  3383.000000   2.0000   2.0000\n",
       "19811  Default  4840.000000          official  4840.000000   1.0000   1.0000\n",
       "...        ...          ...               ...          ...      ...      ...\n",
       "49442  Topic15   267.054914              salt   270.368126   3.0544  -6.2884\n",
       "19534  Topic15   409.359554             taste   419.446414   3.0424  -5.8613\n",
       "22154  Topic15  1361.865800              food  1470.868848   2.9897  -4.6593\n",
       "54068  Topic15   326.261954               egg   332.556044   3.0476  -6.0882\n",
       "42209  Topic15   448.830915              fish   464.010755   3.0334  -5.7692\n",
       "50201  Topic15   385.468994              bowl   398.167434   3.0343  -5.9214\n",
       "10394  Topic15   737.595076        restaurant   858.938010   2.9144  -5.2725\n",
       "61937  Topic15   468.566595               fat   513.376544   2.9754  -5.7262\n",
       "42511  Topic15   294.061634              meal   304.259488   3.0326  -6.1921\n",
       "58173  Topic15   831.079877               oil  1081.844808   2.8030  -5.1531\n",
       "5154   Topic15   514.270275           serving   694.475710   2.7663  -5.6331\n",
       "28846  Topic15   376.120514            medium   440.497461   2.9087  -5.9460\n",
       "40147  Topic15   328.339394              meat   360.310723   2.9738  -6.0818\n",
       "27846  Topic15  1116.727878           minutes  2335.969379   2.3287  -4.8577\n",
       "60961  Topic15   820.692677             water  1557.896045   2.4258  -5.1657\n",
       "43704  Topic15   684.620356               add  1300.894100   2.4248  -5.3470\n",
       "34852  Topic15   442.598595             fresh   620.305640   2.7291  -5.7832\n",
       "48149  Topic15   505.960515               hot   850.748250   2.5470  -5.6494\n",
       "28338  Topic15   510.115395             serve   890.918840   2.5091  -5.6412\n",
       "57313  Topic15   413.514434             green   642.601867   2.6259  -5.8512\n",
       "33928  Topic15   645.148996             large  1971.770297   1.9495  -5.4064\n",
       "50636  Topic15   460.256835             pound   868.655323   2.4315  -5.7441\n",
       "11885  Topic15   375.081794            leaves   556.510180   2.6722  -5.9487\n",
       "2024   Topic15   526.734915             small  2344.730549   1.5735  -5.6092\n",
       "3069   Topic15   501.805635             makes  1926.675292   1.7214  -5.6577\n",
       "4651   Topic15   510.115395              hand  2675.195456   1.4096  -5.6412\n",
       "35913  Topic15   398.972354               red   781.874273   2.3939  -5.8870\n",
       "61292  Topic15   422.862914             white  1617.388206   1.7252  -5.8288\n",
       "9973   Topic15   439.482435              hour  3000.233667   1.1458  -5.7903\n",
       "19107  Topic15   412.475714              high  4317.624250   0.7184  -5.8537\n",
       "\n",
       "[1059 rows x 6 columns], token_table=       Topic      Freq                Term\n",
       "term                                      \n",
       "1163       2  0.997054            abortion\n",
       "48559      6  0.008363            accident\n",
       "48559      7  0.019514            accident\n",
       "48559     10  0.002788            accident\n",
       "48559     13  0.947845            accident\n",
       "48559     14  0.019514            accident\n",
       "48371      1  0.993870         acquisition\n",
       "16882      7  0.998211               actor\n",
       "45675      7  0.996927             actress\n",
       "43704      1  0.063034                 add\n",
       "43704      5  0.042279                 add\n",
       "43704      6  0.006150                 add\n",
       "43704      7  0.210624                 add\n",
       "43704      8  0.001537                 add\n",
       "43704     11  0.099931                 add\n",
       "43704     12  0.009224                 add\n",
       "43704     14  0.039973                 add\n",
       "43704     15  0.526561                 add\n",
       "57102      6  0.212631             african\n",
       "57102     10  0.783236             african\n",
       "50926      4  0.515315                 age\n",
       "50926      7  0.072197                 age\n",
       "50926      8  0.033118                 age\n",
       "50926     10  0.080808                 age\n",
       "50926     11  0.144394                 age\n",
       "50926     12  0.014572                 age\n",
       "50926     13  0.002649                 age\n",
       "50926     14  0.131809                 age\n",
       "50926     15  0.004637                 age\n",
       "57055      2  0.000774               agent\n",
       "...      ...       ...                 ...\n",
       "13088      5  0.307869           zzz_union\n",
       "13088      6  0.689039           zzz_union\n",
       "13088      9  0.001222           zzz_union\n",
       "2974      13  0.979932          zzz_united\n",
       "32145      6  0.982950   zzz_united_nation\n",
       "32145     10  0.013019   zzz_united_nation\n",
       "24573      1  0.085576   zzz_united_states\n",
       "24573      5  0.002728   zzz_united_states\n",
       "24573      6  0.543121   zzz_united_states\n",
       "24573      9  0.216498   zzz_united_states\n",
       "24573     10  0.031708   zzz_united_states\n",
       "24573     11  0.000341   zzz_united_states\n",
       "24573     13  0.097850   zzz_united_states\n",
       "24573     14  0.021820   zzz_united_states\n",
       "28353      3  0.994508             zzz_usc\n",
       "22517      3  0.994132   zzz_virginia_tech\n",
       "17257      4  0.982395          zzz_virtue\n",
       "53972      6  0.997883  zzz_vladimir_putin\n",
       "37329      1  0.996003     zzz_wall_street\n",
       "56072      1  0.989109  zzz_warner_lambert\n",
       "43716      6  0.993420      zzz_will_putin\n",
       "47766      4  0.963293            zzz_wolf\n",
       "27110     12  0.986875    zzz_world_series\n",
       "12310      4  0.017429      zzz_world_wide\n",
       "12310      6  0.017429      zzz_world_wide\n",
       "12310     11  0.958597      zzz_world_wide\n",
       "27039      4  0.930978            zzz_yale\n",
       "27039     12  0.042317            zzz_yale\n",
       "27039     14  0.010579            zzz_yale\n",
       "8910       5  0.982019   zzz_yasser_arafat\n",
       "\n",
       "[3118 rows x 3 columns], R=30, lambda_step=0.01, plot_opts={'xlab': 'PC1', 'ylab': 'PC2'}, topic_order=[7, 15, 5, 10, 6, 9, 11, 1, 13, 14, 4, 8, 12, 3, 2])"
      ]
     },
     "execution_count": 18,
     "metadata": {},
     "output_type": "execute_result"
    }
   ],
   "source": [
    "pyLDAvis.graphlab.prepare(topic_model, docs)"
   ]
  },
  {
   "cell_type": "code",
   "execution_count": null,
   "metadata": {
    "collapsed": false
   },
   "outputs": [],
   "source": [
    "print topic_model"
   ]
  },
  {
   "cell_type": "code",
   "execution_count": 19,
   "metadata": {
    "collapsed": false
   },
   "outputs": [
    {
     "name": "stdout",
     "output_type": "stream",
     "text": [
      "Class                          : TopicModel\n",
      "\n",
      "Schema\n",
      "------\n",
      "Vocabulary Size                : 63958\n",
      "\n",
      "Settings\n",
      "--------\n",
      "Number of Topics               : 15\n",
      "alpha                          : 3.3333\n",
      "beta                           : 0.1\n",
      "Iterations                     : 3000\n",
      "Training time                  : 838.4709\n",
      "Verbose                        : False\n",
      "\n",
      "Accessible fields             : \n",
      "m['topics']                   : An SFrame containing the topics.\n",
      "m['vocabulary']               : An SArray containing the words in the vocabulary.\n",
      "Useful methods                : \n",
      "m.get_topics()                : Get the most probable words per topic.\n",
      "m.predict(new_docs)           : Make predictions for new documents.\n"
     ]
    }
   ],
   "source": []
  },
  {
   "cell_type": "code",
   "execution_count": null,
   "metadata": {
    "collapsed": true
   },
   "outputs": [],
   "source": []
  }
 ],
 "metadata": {
  "kernelspec": {
   "display_name": "Python 2",
   "language": "python",
   "name": "python2"
  },
  "language_info": {
   "codemirror_mode": {
    "name": "ipython",
    "version": 2
   },
   "file_extension": ".py",
   "mimetype": "text/x-python",
   "name": "python",
   "nbconvert_exporter": "python",
   "pygments_lexer": "ipython2",
   "version": "2.7.13"
  }
 },
 "nbformat": 4,
 "nbformat_minor": 0
}
