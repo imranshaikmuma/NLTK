{
 "cells": [
  {
   "cell_type": "code",
   "execution_count": 13,
   "metadata": {
    "collapsed": false
   },
   "outputs": [],
   "source": [
    "import graphlab as gl\n",
    "import pyLDAvis\n",
    "import pyLDAvis.graphlab"
   ]
  },
  {
   "cell_type": "code",
   "execution_count": 14,
   "metadata": {
    "collapsed": false
   },
   "outputs": [],
   "source": [
    "\n",
    "pyLDAvis.enable_notebook()"
   ]
  },
  {
   "cell_type": "code",
   "execution_count": 15,
   "metadata": {
    "collapsed": false
   },
   "outputs": [],
   "source": [
    "docs = gl.SArray('http://s3.amazonaws.com/GraphLab-Datasets/nytimes')"
   ]
  },
  {
   "cell_type": "code",
   "execution_count": 16,
   "metadata": {
    "collapsed": false
   },
   "outputs": [
    {
     "data": {
      "text/plain": [
       "<function graphlab.toolkits.topic_model.topic_model.create>"
      ]
     },
     "execution_count": 16,
     "metadata": {},
     "output_type": "execute_result"
    }
   ],
   "source": [
    "\n",
    "gl.topic_model.create"
   ]
  },
  {
   "cell_type": "code",
   "execution_count": 17,
   "metadata": {
    "collapsed": false
   },
   "outputs": [
    {
     "data": {
      "text/html": [
       "<pre>Learning a topic model</pre>"
      ],
      "text/plain": [
       "Learning a topic model"
      ]
     },
     "metadata": {},
     "output_type": "display_data"
    },
    {
     "data": {
      "text/html": [
       "<pre>       Number of documents     10000</pre>"
      ],
      "text/plain": [
       "       Number of documents     10000"
      ]
     },
     "metadata": {},
     "output_type": "display_data"
    },
    {
     "data": {
      "text/html": [
       "<pre>           Vocabulary size     63958</pre>"
      ],
      "text/plain": [
       "           Vocabulary size     63958"
      ]
     },
     "metadata": {},
     "output_type": "display_data"
    },
    {
     "data": {
      "text/html": [
       "<pre>   Running collapsed Gibbs sampling</pre>"
      ],
      "text/plain": [
       "   Running collapsed Gibbs sampling"
      ]
     },
     "metadata": {},
     "output_type": "display_data"
    },
    {
     "data": {
      "text/html": [
       "<pre>+-----------+---------------+----------------+-----------------+</pre>"
      ],
      "text/plain": [
       "+-----------+---------------+----------------+-----------------+"
      ]
     },
     "metadata": {},
     "output_type": "display_data"
    },
    {
     "data": {
      "text/html": [
       "<pre>| Iteration | Elapsed Time  | Tokens/Second  | Est. Perplexity |</pre>"
      ],
      "text/plain": [
       "| Iteration | Elapsed Time  | Tokens/Second  | Est. Perplexity |"
      ]
     },
     "metadata": {},
     "output_type": "display_data"
    },
    {
     "data": {
      "text/html": [
       "<pre>+-----------+---------------+----------------+-----------------+</pre>"
      ],
      "text/plain": [
       "+-----------+---------------+----------------+-----------------+"
      ]
     },
     "metadata": {},
     "output_type": "display_data"
    },
    {
     "data": {
      "text/html": [
       "<pre>| 10        | 2.91s         | 8.5085e+006    | 0               |</pre>"
      ],
      "text/plain": [
       "| 10        | 2.91s         | 8.5085e+006    | 0               |"
      ]
     },
     "metadata": {},
     "output_type": "display_data"
    },
    {
     "data": {
      "text/html": [
       "<pre>| 20        | 5.64s         | 5.7704e+006    | 0               |</pre>"
      ],
      "text/plain": [
       "| 20        | 5.64s         | 5.7704e+006    | 0               |"
      ]
     },
     "metadata": {},
     "output_type": "display_data"
    },
    {
     "data": {
      "text/html": [
       "<pre>| 30        | 8.21s         | 8.36098e+006   | 0               |</pre>"
      ],
      "text/plain": [
       "| 30        | 8.21s         | 8.36098e+006   | 0               |"
      ]
     },
     "metadata": {},
     "output_type": "display_data"
    },
    {
     "data": {
      "text/html": [
       "<pre>| 40        | 11.29s        | 8.3129e+006    | 0               |</pre>"
      ],
      "text/plain": [
       "| 40        | 11.29s        | 8.3129e+006    | 0               |"
      ]
     },
     "metadata": {},
     "output_type": "display_data"
    },
    {
     "data": {
      "text/html": [
       "<pre>| 50        | 14.24s        | 7.49453e+006   | 0               |</pre>"
      ],
      "text/plain": [
       "| 50        | 14.24s        | 7.49453e+006   | 0               |"
      ]
     },
     "metadata": {},
     "output_type": "display_data"
    },
    {
     "data": {
      "text/html": [
       "<pre>| 60        | 17.26s        | 7.03295e+006   | 0               |</pre>"
      ],
      "text/plain": [
       "| 60        | 17.26s        | 7.03295e+006   | 0               |"
      ]
     },
     "metadata": {},
     "output_type": "display_data"
    },
    {
     "data": {
      "text/html": [
       "<pre>| 70        | 20.21s        | 8.31246e+006   | 0               |</pre>"
      ],
      "text/plain": [
       "| 70        | 20.21s        | 8.31246e+006   | 0               |"
      ]
     },
     "metadata": {},
     "output_type": "display_data"
    },
    {
     "data": {
      "text/html": [
       "<pre>| 80        | 22.75s        | 8.5085e+006    | 0               |</pre>"
      ],
      "text/plain": [
       "| 80        | 22.75s        | 8.5085e+006    | 0               |"
      ]
     },
     "metadata": {},
     "output_type": "display_data"
    },
    {
     "data": {
      "text/html": [
       "<pre>| 90        | 25.29s        | 8.6269e+006    | 0               |</pre>"
      ],
      "text/plain": [
       "| 90        | 25.29s        | 8.6269e+006    | 0               |"
      ]
     },
     "metadata": {},
     "output_type": "display_data"
    },
    {
     "data": {
      "text/html": [
       "<pre>| 100       | 27.83s        | 8.6441e+006    | 0               |</pre>"
      ],
      "text/plain": [
       "| 100       | 27.83s        | 8.6441e+006    | 0               |"
      ]
     },
     "metadata": {},
     "output_type": "display_data"
    },
    {
     "data": {
      "text/html": [
       "<pre>| 110       | 30.37s        | 8.89207e+006   | 0               |</pre>"
      ],
      "text/plain": [
       "| 110       | 30.37s        | 8.89207e+006   | 0               |"
      ]
     },
     "metadata": {},
     "output_type": "display_data"
    },
    {
     "data": {
      "text/html": [
       "<pre>| 120       | 32.91s        | 7.66663e+006   | 0               |</pre>"
      ],
      "text/plain": [
       "| 120       | 32.91s        | 7.66663e+006   | 0               |"
      ]
     },
     "metadata": {},
     "output_type": "display_data"
    },
    {
     "data": {
      "text/html": [
       "<pre>| 130       | 35.52s        | 8.60986e+006   | 0               |</pre>"
      ],
      "text/plain": [
       "| 130       | 35.52s        | 8.60986e+006   | 0               |"
      ]
     },
     "metadata": {},
     "output_type": "display_data"
    },
    {
     "data": {
      "text/html": [
       "<pre>| 140       | 38.03s        | 8.69604e+006   | 0               |</pre>"
      ],
      "text/plain": [
       "| 140       | 38.03s        | 8.69604e+006   | 0               |"
      ]
     },
     "metadata": {},
     "output_type": "display_data"
    },
    {
     "data": {
      "text/html": [
       "<pre>| 150       | 40.56s        | 8.57575e+006   | 0               |</pre>"
      ],
      "text/plain": [
       "| 150       | 40.56s        | 8.57575e+006   | 0               |"
      ]
     },
     "metadata": {},
     "output_type": "display_data"
    },
    {
     "data": {
      "text/html": [
       "<pre>| 160       | 43.09s        | 8.37712e+006   | 0               |</pre>"
      ],
      "text/plain": [
       "| 160       | 43.09s        | 8.37712e+006   | 0               |"
      ]
     },
     "metadata": {},
     "output_type": "display_data"
    },
    {
     "data": {
      "text/html": [
       "<pre>| 170       | 45.60s        | 8.71356e+006   | 0               |</pre>"
      ],
      "text/plain": [
       "| 170       | 45.60s        | 8.71356e+006   | 0               |"
      ]
     },
     "metadata": {},
     "output_type": "display_data"
    },
    {
     "data": {
      "text/html": [
       "<pre>| 180       | 48.13s        | 8.36095e+006   | 0               |</pre>"
      ],
      "text/plain": [
       "| 180       | 48.13s        | 8.36095e+006   | 0               |"
      ]
     },
     "metadata": {},
     "output_type": "display_data"
    },
    {
     "data": {
      "text/html": [
       "<pre>| 190       | 50.64s        | 8.71352e+006   | 0               |</pre>"
      ],
      "text/plain": [
       "| 190       | 50.64s        | 8.71352e+006   | 0               |"
      ]
     },
     "metadata": {},
     "output_type": "display_data"
    },
    {
     "data": {
      "text/html": [
       "<pre>| 200       | 53.15s        | 8.94703e+006   | 0               |</pre>"
      ],
      "text/plain": [
       "| 200       | 53.15s        | 8.94703e+006   | 0               |"
      ]
     },
     "metadata": {},
     "output_type": "display_data"
    },
    {
     "data": {
      "text/html": [
       "<pre>| 210       | 55.69s        | 8.81979e+006   | 0               |</pre>"
      ],
      "text/plain": [
       "| 210       | 55.69s        | 8.81979e+006   | 0               |"
      ]
     },
     "metadata": {},
     "output_type": "display_data"
    },
    {
     "data": {
      "text/html": [
       "<pre>| 220       | 58.22s        | 8.67859e+006   | 0               |</pre>"
      ],
      "text/plain": [
       "| 220       | 58.22s        | 8.67859e+006   | 0               |"
      ]
     },
     "metadata": {},
     "output_type": "display_data"
    },
    {
     "data": {
      "text/html": [
       "<pre>| 230       | 1m 0s         | 8.64407e+006   | 0               |</pre>"
      ],
      "text/plain": [
       "| 230       | 1m 0s         | 8.64407e+006   | 0               |"
      ]
     },
     "metadata": {},
     "output_type": "display_data"
    },
    {
     "data": {
      "text/html": [
       "<pre>| 240       | 1m 3s         | 8.37708e+006   | 0               |</pre>"
      ],
      "text/plain": [
       "| 240       | 1m 3s         | 8.37708e+006   | 0               |"
      ]
     },
     "metadata": {},
     "output_type": "display_data"
    },
    {
     "data": {
      "text/html": [
       "<pre>| 250       | 1m 5s         | 8.64414e+006   | 0               |</pre>"
      ],
      "text/plain": [
       "| 250       | 1m 5s         | 8.64414e+006   | 0               |"
      ]
     },
     "metadata": {},
     "output_type": "display_data"
    },
    {
     "data": {
      "text/html": [
       "<pre>| 260       | 1m 8s         | 8.49186e+006   | 0               |</pre>"
      ],
      "text/plain": [
       "| 260       | 1m 8s         | 8.49186e+006   | 0               |"
      ]
     },
     "metadata": {},
     "output_type": "display_data"
    },
    {
     "data": {
      "text/html": [
       "<pre>| 270       | 1m 10s        | 8.87389e+006   | 0               |</pre>"
      ],
      "text/plain": [
       "| 270       | 1m 10s        | 8.87389e+006   | 0               |"
      ]
     },
     "metadata": {},
     "output_type": "display_data"
    },
    {
     "data": {
      "text/html": [
       "<pre>| 280       | 1m 13s        | 8.69607e+006   | 0               |</pre>"
      ],
      "text/plain": [
       "| 280       | 1m 13s        | 8.69607e+006   | 0               |"
      ]
     },
     "metadata": {},
     "output_type": "display_data"
    },
    {
     "data": {
      "text/html": [
       "<pre>| 290       | 1m 15s        | 8.71356e+006   | 0               |</pre>"
      ],
      "text/plain": [
       "| 290       | 1m 15s        | 8.71356e+006   | 0               |"
      ]
     },
     "metadata": {},
     "output_type": "display_data"
    },
    {
     "data": {
      "text/html": [
       "<pre>| 300       | 1m 18s        | 8.26546e+006   | 0               |</pre>"
      ],
      "text/plain": [
       "| 300       | 1m 18s        | 8.26546e+006   | 0               |"
      ]
     },
     "metadata": {},
     "output_type": "display_data"
    },
    {
     "data": {
      "text/html": [
       "<pre>| 310       | 1m 21s        | 7.38691e+006   | 0               |</pre>"
      ],
      "text/plain": [
       "| 310       | 1m 21s        | 7.38691e+006   | 0               |"
      ]
     },
     "metadata": {},
     "output_type": "display_data"
    },
    {
     "data": {
      "text/html": [
       "<pre>| 320       | 1m 23s        | 8.64373e+006   | 0               |</pre>"
      ],
      "text/plain": [
       "| 320       | 1m 23s        | 8.64373e+006   | 0               |"
      ]
     },
     "metadata": {},
     "output_type": "display_data"
    },
    {
     "data": {
      "text/html": [
       "<pre>| 330       | 1m 26s        | 8.54201e+006   | 0               |</pre>"
      ],
      "text/plain": [
       "| 330       | 1m 26s        | 8.54201e+006   | 0               |"
      ]
     },
     "metadata": {},
     "output_type": "display_data"
    },
    {
     "data": {
      "text/html": [
       "<pre>| 340       | 1m 28s        | 8.6441e+006    | 0               |</pre>"
      ],
      "text/plain": [
       "| 340       | 1m 28s        | 8.6441e+006    | 0               |"
      ]
     },
     "metadata": {},
     "output_type": "display_data"
    },
    {
     "data": {
      "text/html": [
       "<pre>| 350       | 1m 31s        | 8.83777e+006   | 0               |</pre>"
      ],
      "text/plain": [
       "| 350       | 1m 31s        | 8.83777e+006   | 0               |"
      ]
     },
     "metadata": {},
     "output_type": "display_data"
    },
    {
     "data": {
      "text/html": [
       "<pre>| 360       | 1m 34s        | 7.86114e+006   | 0               |</pre>"
      ],
      "text/plain": [
       "| 360       | 1m 34s        | 7.86114e+006   | 0               |"
      ]
     },
     "metadata": {},
     "output_type": "display_data"
    },
    {
     "data": {
      "text/html": [
       "<pre>| 370       | 1m 36s        | 7.91848e+006   | 0               |</pre>"
      ],
      "text/plain": [
       "| 370       | 1m 36s        | 7.91848e+006   | 0               |"
      ]
     },
     "metadata": {},
     "output_type": "display_data"
    },
    {
     "data": {
      "text/html": [
       "<pre>| 380       | 1m 39s        | 6.52533e+006   | 0               |</pre>"
      ],
      "text/plain": [
       "| 380       | 1m 39s        | 6.52533e+006   | 0               |"
      ]
     },
     "metadata": {},
     "output_type": "display_data"
    },
    {
     "data": {
      "text/html": [
       "<pre>| 390       | 1m 42s        | 8.81982e+006   | 0               |</pre>"
      ],
      "text/plain": [
       "| 390       | 1m 42s        | 8.81982e+006   | 0               |"
      ]
     },
     "metadata": {},
     "output_type": "display_data"
    },
    {
     "data": {
      "text/html": [
       "<pre>| 400       | 1m 45s        | 7.43018e+006   | 0               |</pre>"
      ],
      "text/plain": [
       "| 400       | 1m 45s        | 7.43018e+006   | 0               |"
      ]
     },
     "metadata": {},
     "output_type": "display_data"
    },
    {
     "data": {
      "text/html": [
       "<pre>| 410       | 1m 47s        | 9.00276e+006   | 0               |</pre>"
      ],
      "text/plain": [
       "| 410       | 1m 47s        | 9.00276e+006   | 0               |"
      ]
     },
     "metadata": {},
     "output_type": "display_data"
    },
    {
     "data": {
      "text/html": [
       "<pre>| 420       | 1m 50s        | 8.61665e+006   | 0               |</pre>"
      ],
      "text/plain": [
       "| 420       | 1m 50s        | 8.61665e+006   | 0               |"
      ]
     },
     "metadata": {},
     "output_type": "display_data"
    },
    {
     "data": {
      "text/html": [
       "<pre>| 430       | 1m 52s        | 9.07816e+006   | 0               |</pre>"
      ],
      "text/plain": [
       "| 430       | 1m 52s        | 9.07816e+006   | 0               |"
      ]
     },
     "metadata": {},
     "output_type": "display_data"
    },
    {
     "data": {
      "text/html": [
       "<pre>| 440       | 1m 55s        | 9.07808e+006   | 0               |</pre>"
      ],
      "text/plain": [
       "| 440       | 1m 55s        | 9.07808e+006   | 0               |"
      ]
     },
     "metadata": {},
     "output_type": "display_data"
    },
    {
     "data": {
      "text/html": [
       "<pre>| 450       | 1m 57s        | 9.11627e+006   | 0               |</pre>"
      ],
      "text/plain": [
       "| 450       | 1m 57s        | 9.11627e+006   | 0               |"
      ]
     },
     "metadata": {},
     "output_type": "display_data"
    },
    {
     "data": {
      "text/html": [
       "<pre>| 460       | 1m 59s        | 8.8905e+006    | 0               |</pre>"
      ],
      "text/plain": [
       "| 460       | 1m 59s        | 8.8905e+006    | 0               |"
      ]
     },
     "metadata": {},
     "output_type": "display_data"
    },
    {
     "data": {
      "text/html": [
       "<pre>| 470       | 2m 2s         | 8.42591e+006   | 0               |</pre>"
      ],
      "text/plain": [
       "| 470       | 2m 2s         | 8.42591e+006   | 0               |"
      ]
     },
     "metadata": {},
     "output_type": "display_data"
    },
    {
     "data": {
      "text/html": [
       "<pre>| 480       | 2m 4s         | 8.89207e+006   | 0               |</pre>"
      ],
      "text/plain": [
       "| 480       | 2m 4s         | 8.89207e+006   | 0               |"
      ]
     },
     "metadata": {},
     "output_type": "display_data"
    },
    {
     "data": {
      "text/html": [
       "<pre>| 490       | 2m 7s         | 9.07566e+006   | 0               |</pre>"
      ],
      "text/plain": [
       "| 490       | 2m 7s         | 9.07566e+006   | 0               |"
      ]
     },
     "metadata": {},
     "output_type": "display_data"
    },
    {
     "data": {
      "text/html": [
       "<pre>| 500       | 2m 9s         | 8.18747e+006   | 0               |</pre>"
      ],
      "text/plain": [
       "| 500       | 2m 9s         | 8.18747e+006   | 0               |"
      ]
     },
     "metadata": {},
     "output_type": "display_data"
    },
    {
     "data": {
      "text/html": [
       "<pre>| 510       | 2m 12s        | 8.71356e+006   | 0               |</pre>"
      ],
      "text/plain": [
       "| 510       | 2m 12s        | 8.71356e+006   | 0               |"
      ]
     },
     "metadata": {},
     "output_type": "display_data"
    },
    {
     "data": {
      "text/html": [
       "<pre>| 520       | 2m 15s        | 8.34488e+006   | 0               |</pre>"
      ],
      "text/plain": [
       "| 520       | 2m 15s        | 8.34488e+006   | 0               |"
      ]
     },
     "metadata": {},
     "output_type": "display_data"
    },
    {
     "data": {
      "text/html": [
       "<pre>| 530       | 2m 18s        | 8.94707e+006   | 0               |</pre>"
      ],
      "text/plain": [
       "| 530       | 2m 18s        | 8.94707e+006   | 0               |"
      ]
     },
     "metadata": {},
     "output_type": "display_data"
    },
    {
     "data": {
      "text/html": [
       "<pre>| 540       | 2m 20s        | 8.5085e+006    | 0               |</pre>"
      ],
      "text/plain": [
       "| 540       | 2m 20s        | 8.5085e+006    | 0               |"
      ]
     },
     "metadata": {},
     "output_type": "display_data"
    },
    {
     "data": {
      "text/html": [
       "<pre>| 550       | 2m 23s        | 8.96554e+006   | 0               |</pre>"
      ],
      "text/plain": [
       "| 550       | 2m 23s        | 8.96554e+006   | 0               |"
      ]
     },
     "metadata": {},
     "output_type": "display_data"
    },
    {
     "data": {
      "text/html": [
       "<pre>| 560       | 2m 26s        | 7.73503e+006   | 0               |</pre>"
      ],
      "text/plain": [
       "| 560       | 2m 26s        | 7.73503e+006   | 0               |"
      ]
     },
     "metadata": {},
     "output_type": "display_data"
    },
    {
     "data": {
      "text/html": [
       "<pre>| 570       | 2m 29s        | 7.62881e+006   | 0               |</pre>"
      ],
      "text/plain": [
       "| 570       | 2m 29s        | 7.62881e+006   | 0               |"
      ]
     },
     "metadata": {},
     "output_type": "display_data"
    },
    {
     "data": {
      "text/html": [
       "<pre>| 580       | 2m 31s        | 7.72124e+006   | 0               |</pre>"
      ],
      "text/plain": [
       "| 580       | 2m 31s        | 7.72124e+006   | 0               |"
      ]
     },
     "metadata": {},
     "output_type": "display_data"
    },
    {
     "data": {
      "text/html": [
       "<pre>| 590       | 2m 34s        | 7.79054e+006   | 0               |</pre>"
      ],
      "text/plain": [
       "| 590       | 2m 34s        | 7.79054e+006   | 0               |"
      ]
     },
     "metadata": {},
     "output_type": "display_data"
    },
    {
     "data": {
      "text/html": [
       "<pre>| 600       | 2m 37s        | 7.66669e+006   | 0               |</pre>"
      ],
      "text/plain": [
       "| 600       | 2m 37s        | 7.66669e+006   | 0               |"
      ]
     },
     "metadata": {},
     "output_type": "display_data"
    },
    {
     "data": {
      "text/html": [
       "<pre>| 610       | 2m 39s        | 9.04581e+006   | 0               |</pre>"
      ],
      "text/plain": [
       "| 610       | 2m 39s        | 9.04581e+006   | 0               |"
      ]
     },
     "metadata": {},
     "output_type": "display_data"
    },
    {
     "data": {
      "text/html": [
       "<pre>| 620       | 2m 42s        | 8.94707e+006   | 0               |</pre>"
      ],
      "text/plain": [
       "| 620       | 2m 42s        | 8.94707e+006   | 0               |"
      ]
     },
     "metadata": {},
     "output_type": "display_data"
    },
    {
     "data": {
      "text/html": [
       "<pre>| 630       | 2m 44s        | 9.09718e+006   | 0               |</pre>"
      ],
      "text/plain": [
       "| 630       | 2m 44s        | 9.09718e+006   | 0               |"
      ]
     },
     "metadata": {},
     "output_type": "display_data"
    },
    {
     "data": {
      "text/html": [
       "<pre>| 640       | 2m 47s        | 8.81971e+006   | 0               |</pre>"
      ],
      "text/plain": [
       "| 640       | 2m 47s        | 8.81971e+006   | 0               |"
      ]
     },
     "metadata": {},
     "output_type": "display_data"
    },
    {
     "data": {
      "text/html": [
       "<pre>| 650       | 2m 49s        | 9.07808e+006   | 0               |</pre>"
      ],
      "text/plain": [
       "| 650       | 2m 49s        | 9.07808e+006   | 0               |"
      ]
     },
     "metadata": {},
     "output_type": "display_data"
    },
    {
     "data": {
      "text/html": [
       "<pre>| 660       | 2m 52s        | 9.04028e+006   | 0               |</pre>"
      ],
      "text/plain": [
       "| 660       | 2m 52s        | 9.04028e+006   | 0               |"
      ]
     },
     "metadata": {},
     "output_type": "display_data"
    },
    {
     "data": {
      "text/html": [
       "<pre>| 670       | 2m 54s        | 8.8558e+006    | 0               |</pre>"
      ],
      "text/plain": [
       "| 670       | 2m 54s        | 8.8558e+006    | 0               |"
      ]
     },
     "metadata": {},
     "output_type": "display_data"
    },
    {
     "data": {
      "text/html": [
       "<pre>| 680       | 2m 56s        | 8.98435e+006   | 0               |</pre>"
      ],
      "text/plain": [
       "| 680       | 2m 56s        | 8.98435e+006   | 0               |"
      ]
     },
     "metadata": {},
     "output_type": "display_data"
    },
    {
     "data": {
      "text/html": [
       "<pre>| 690       | 2m 59s        | 8.6441e+006    | 0               |</pre>"
      ],
      "text/plain": [
       "| 690       | 2m 59s        | 8.6441e+006    | 0               |"
      ]
     },
     "metadata": {},
     "output_type": "display_data"
    },
    {
     "data": {
      "text/html": [
       "<pre>| 700       | 3m 1s         | 8.95631e+006   | 0               |</pre>"
      ],
      "text/plain": [
       "| 700       | 3m 1s         | 8.95631e+006   | 0               |"
      ]
     },
     "metadata": {},
     "output_type": "display_data"
    },
    {
     "data": {
      "text/html": [
       "<pre>| 710       | 3m 4s         | 8.8558e+006    | 0               |</pre>"
      ],
      "text/plain": [
       "| 710       | 3m 4s         | 8.8558e+006    | 0               |"
      ]
     },
     "metadata": {},
     "output_type": "display_data"
    },
    {
     "data": {
      "text/html": [
       "<pre>| 720       | 3m 6s         | 9.3319e+006    | 0               |</pre>"
      ],
      "text/plain": [
       "| 720       | 3m 6s         | 9.3319e+006    | 0               |"
      ]
     },
     "metadata": {},
     "output_type": "display_data"
    },
    {
     "data": {
      "text/html": [
       "<pre>| 730       | 3m 9s         | 7.97673e+006   | 0               |</pre>"
      ],
      "text/plain": [
       "| 730       | 3m 9s         | 7.97673e+006   | 0               |"
      ]
     },
     "metadata": {},
     "output_type": "display_data"
    },
    {
     "data": {
      "text/html": [
       "<pre>| 740       | 3m 11s        | 8.98413e+006   | 0               |</pre>"
      ],
      "text/plain": [
       "| 740       | 3m 11s        | 8.98413e+006   | 0               |"
      ]
     },
     "metadata": {},
     "output_type": "display_data"
    },
    {
     "data": {
      "text/html": [
       "<pre>| 750       | 3m 14s        | 8.69607e+006   | 0               |</pre>"
      ],
      "text/plain": [
       "| 750       | 3m 14s        | 8.69607e+006   | 0               |"
      ]
     },
     "metadata": {},
     "output_type": "display_data"
    },
    {
     "data": {
      "text/html": [
       "<pre>| 760       | 3m 16s        | 8.94707e+006   | 0               |</pre>"
      ],
      "text/plain": [
       "| 760       | 3m 16s        | 8.94707e+006   | 0               |"
      ]
     },
     "metadata": {},
     "output_type": "display_data"
    },
    {
     "data": {
      "text/html": [
       "<pre>| 770       | 3m 18s        | 9.11624e+006   | 0               |</pre>"
      ],
      "text/plain": [
       "| 770       | 3m 18s        | 9.11624e+006   | 0               |"
      ]
     },
     "metadata": {},
     "output_type": "display_data"
    },
    {
     "data": {
      "text/html": [
       "<pre>| 780       | 3m 21s        | 8.70484e+006   | 0               |</pre>"
      ],
      "text/plain": [
       "| 780       | 3m 21s        | 8.70484e+006   | 0               |"
      ]
     },
     "metadata": {},
     "output_type": "display_data"
    },
    {
     "data": {
      "text/html": [
       "<pre>| 790       | 3m 24s        | 8.29695e+006   | 0               |</pre>"
      ],
      "text/plain": [
       "| 790       | 3m 24s        | 8.29695e+006   | 0               |"
      ]
     },
     "metadata": {},
     "output_type": "display_data"
    },
    {
     "data": {
      "text/html": [
       "<pre>| 800       | 3m 26s        | 8.94711e+006   | 0               |</pre>"
      ],
      "text/plain": [
       "| 800       | 3m 26s        | 8.94711e+006   | 0               |"
      ]
     },
     "metadata": {},
     "output_type": "display_data"
    },
    {
     "data": {
      "text/html": [
       "<pre>| 810       | 3m 29s        | 8.74867e+006   | 0               |</pre>"
      ],
      "text/plain": [
       "| 810       | 3m 29s        | 8.74867e+006   | 0               |"
      ]
     },
     "metadata": {},
     "output_type": "display_data"
    },
    {
     "data": {
      "text/html": [
       "<pre>| 820       | 3m 32s        | 6.06052e+006   | 0               |</pre>"
      ],
      "text/plain": [
       "| 820       | 3m 32s        | 6.06052e+006   | 0               |"
      ]
     },
     "metadata": {},
     "output_type": "display_data"
    },
    {
     "data": {
      "text/html": [
       "<pre>| 830       | 3m 34s        | 9.00276e+006   | 0               |</pre>"
      ],
      "text/plain": [
       "| 830       | 3m 34s        | 9.00276e+006   | 0               |"
      ]
     },
     "metadata": {},
     "output_type": "display_data"
    },
    {
     "data": {
      "text/html": [
       "<pre>| 840       | 3m 37s        | 6.92077e+006   | 0               |</pre>"
      ],
      "text/plain": [
       "| 840       | 3m 37s        | 6.92077e+006   | 0               |"
      ]
     },
     "metadata": {},
     "output_type": "display_data"
    },
    {
     "data": {
      "text/html": [
       "<pre>| 850       | 3m 41s        | 6.23471e+006   | 0               |</pre>"
      ],
      "text/plain": [
       "| 850       | 3m 41s        | 6.23471e+006   | 0               |"
      ]
     },
     "metadata": {},
     "output_type": "display_data"
    },
    {
     "data": {
      "text/html": [
       "<pre>| 860       | 3m 44s        | 5.87189e+006   | 0               |</pre>"
      ],
      "text/plain": [
       "| 860       | 3m 44s        | 5.87189e+006   | 0               |"
      ]
     },
     "metadata": {},
     "output_type": "display_data"
    },
    {
     "data": {
      "text/html": [
       "<pre>| 870       | 3m 47s        | 8.78407e+006   | 0               |</pre>"
      ],
      "text/plain": [
       "| 870       | 3m 47s        | 8.78407e+006   | 0               |"
      ]
     },
     "metadata": {},
     "output_type": "display_data"
    },
    {
     "data": {
      "text/html": [
       "<pre>| 880       | 3m 50s        | 7.07598e+006   | 0               |</pre>"
      ],
      "text/plain": [
       "| 880       | 3m 50s        | 7.07598e+006   | 0               |"
      ]
     },
     "metadata": {},
     "output_type": "display_data"
    },
    {
     "data": {
      "text/html": [
       "<pre>| 890       | 3m 53s        | 6.63507e+006   | 0               |</pre>"
      ],
      "text/plain": [
       "| 890       | 3m 53s        | 6.63507e+006   | 0               |"
      ]
     },
     "metadata": {},
     "output_type": "display_data"
    },
    {
     "data": {
      "text/html": [
       "<pre>| 900       | 3m 56s        | 8.60979e+006   | 0               |</pre>"
      ],
      "text/plain": [
       "| 900       | 3m 56s        | 8.60979e+006   | 0               |"
      ]
     },
     "metadata": {},
     "output_type": "display_data"
    },
    {
     "data": {
      "text/html": [
       "<pre>| 910       | 4m 0s         | 5.39718e+006   | 0               |</pre>"
      ],
      "text/plain": [
       "| 910       | 4m 0s         | 5.39718e+006   | 0               |"
      ]
     },
     "metadata": {},
     "output_type": "display_data"
    },
    {
     "data": {
      "text/html": [
       "<pre>| 920       | 4m 3s         | 5.5067e+006    | 0               |</pre>"
      ],
      "text/plain": [
       "| 920       | 4m 3s         | 5.5067e+006    | 0               |"
      ]
     },
     "metadata": {},
     "output_type": "display_data"
    },
    {
     "data": {
      "text/html": [
       "<pre>| 930       | 4m 7s         | 5.89581e+006   | 0               |</pre>"
      ],
      "text/plain": [
       "| 930       | 4m 7s         | 5.89581e+006   | 0               |"
      ]
     },
     "metadata": {},
     "output_type": "display_data"
    },
    {
     "data": {
      "text/html": [
       "<pre>| 940       | 4m 10s        | 5.84027e+006   | 0               |</pre>"
      ],
      "text/plain": [
       "| 940       | 4m 10s        | 5.84027e+006   | 0               |"
      ]
     },
     "metadata": {},
     "output_type": "display_data"
    },
    {
     "data": {
      "text/html": [
       "<pre>| 950       | 4m 14s        | 8.2654e+006    | 0               |</pre>"
      ],
      "text/plain": [
       "| 950       | 4m 14s        | 8.2654e+006    | 0               |"
      ]
     },
     "metadata": {},
     "output_type": "display_data"
    },
    {
     "data": {
      "text/html": [
       "<pre>| 960       | 4m 16s        | 8.14136e+006   | 0               |</pre>"
      ],
      "text/plain": [
       "| 960       | 4m 16s        | 8.14136e+006   | 0               |"
      ]
     },
     "metadata": {},
     "output_type": "display_data"
    },
    {
     "data": {
      "text/html": [
       "<pre>| 970       | 4m 19s        | 8.32888e+006   | 0               |</pre>"
      ],
      "text/plain": [
       "| 970       | 4m 19s        | 8.32888e+006   | 0               |"
      ]
     },
     "metadata": {},
     "output_type": "display_data"
    },
    {
     "data": {
      "text/html": [
       "<pre>| 980       | 4m 22s        | 7.9621e+006    | 0               |</pre>"
      ],
      "text/plain": [
       "| 980       | 4m 22s        | 7.9621e+006    | 0               |"
      ]
     },
     "metadata": {},
     "output_type": "display_data"
    },
    {
     "data": {
      "text/html": [
       "<pre>| 990       | 4m 25s        | 5.11114e+006   | 0               |</pre>"
      ],
      "text/plain": [
       "| 990       | 4m 25s        | 5.11114e+006   | 0               |"
      ]
     },
     "metadata": {},
     "output_type": "display_data"
    },
    {
     "data": {
      "text/html": [
       "<pre>| 1000      | 4m 27s        | 7.36727e+006   | 0               |</pre>"
      ],
      "text/plain": [
       "| 1000      | 4m 27s        | 7.36727e+006   | 0               |"
      ]
     },
     "metadata": {},
     "output_type": "display_data"
    },
    {
     "data": {
      "text/html": [
       "<pre>| 1010      | 4m 31s        | 6.84436e+006   | 0               |</pre>"
      ],
      "text/plain": [
       "| 1010      | 4m 31s        | 6.84436e+006   | 0               |"
      ]
     },
     "metadata": {},
     "output_type": "display_data"
    },
    {
     "data": {
      "text/html": [
       "<pre>| 1020      | 4m 33s        | 8.47525e+006   | 0               |</pre>"
      ],
      "text/plain": [
       "| 1020      | 4m 33s        | 8.47525e+006   | 0               |"
      ]
     },
     "metadata": {},
     "output_type": "display_data"
    },
    {
     "data": {
      "text/html": [
       "<pre>| 1030      | 4m 36s        | 7.72127e+006   | 0               |</pre>"
      ],
      "text/plain": [
       "| 1030      | 4m 36s        | 7.72127e+006   | 0               |"
      ]
     },
     "metadata": {},
     "output_type": "display_data"
    },
    {
     "data": {
      "text/html": [
       "<pre>| 1040      | 4m 39s        | 7.69059e+006   | 0               |</pre>"
      ],
      "text/plain": [
       "| 1040      | 4m 39s        | 7.69059e+006   | 0               |"
      ]
     },
     "metadata": {},
     "output_type": "display_data"
    },
    {
     "data": {
      "text/html": [
       "<pre>| 1050      | 4m 42s        | 8.66135e+006   | 0               |</pre>"
      ],
      "text/plain": [
       "| 1050      | 4m 42s        | 8.66135e+006   | 0               |"
      ]
     },
     "metadata": {},
     "output_type": "display_data"
    },
    {
     "data": {
      "text/html": [
       "<pre>| 1060      | 4m 45s        | 7.52052e+006   | 0               |</pre>"
      ],
      "text/plain": [
       "| 1060      | 4m 45s        | 7.52052e+006   | 0               |"
      ]
     },
     "metadata": {},
     "output_type": "display_data"
    },
    {
     "data": {
      "text/html": [
       "<pre>| 1070      | 4m 47s        | 8.05073e+006   | 0               |</pre>"
      ],
      "text/plain": [
       "| 1070      | 4m 47s        | 8.05073e+006   | 0               |"
      ]
     },
     "metadata": {},
     "output_type": "display_data"
    },
    {
     "data": {
      "text/html": [
       "<pre>| 1080      | 4m 50s        | 5.38379e+006   | 0               |</pre>"
      ],
      "text/plain": [
       "| 1080      | 4m 50s        | 5.38379e+006   | 0               |"
      ]
     },
     "metadata": {},
     "output_type": "display_data"
    },
    {
     "data": {
      "text/html": [
       "<pre>| 1090      | 4m 53s        | 8.2654e+006    | 0               |</pre>"
      ],
      "text/plain": [
       "| 1090      | 4m 53s        | 8.2654e+006    | 0               |"
      ]
     },
     "metadata": {},
     "output_type": "display_data"
    },
    {
     "data": {
      "text/html": [
       "<pre>| 1100      | 4m 56s        | 7.90404e+006   | 0               |</pre>"
      ],
      "text/plain": [
       "| 1100      | 4m 56s        | 7.90404e+006   | 0               |"
      ]
     },
     "metadata": {},
     "output_type": "display_data"
    },
    {
     "data": {
      "text/html": [
       "<pre>| 1110      | 4m 58s        | 7.9767e+006    | 0               |</pre>"
      ],
      "text/plain": [
       "| 1110      | 4m 58s        | 7.9767e+006    | 0               |"
      ]
     },
     "metadata": {},
     "output_type": "display_data"
    },
    {
     "data": {
      "text/html": [
       "<pre>| 1120      | 5m 1s         | 7.61292e+006   | 0               |</pre>"
      ],
      "text/plain": [
       "| 1120      | 5m 1s         | 7.61292e+006   | 0               |"
      ]
     },
     "metadata": {},
     "output_type": "display_data"
    },
    {
     "data": {
      "text/html": [
       "<pre>| 1130      | 5m 4s         | 8.28116e+006   | 0               |</pre>"
      ],
      "text/plain": [
       "| 1130      | 5m 4s         | 8.28116e+006   | 0               |"
      ]
     },
     "metadata": {},
     "output_type": "display_data"
    },
    {
     "data": {
      "text/html": [
       "<pre>| 1140      | 5m 7s         | 6.67589e+006   | 0               |</pre>"
      ],
      "text/plain": [
       "| 1140      | 5m 7s         | 6.67589e+006   | 0               |"
      ]
     },
     "metadata": {},
     "output_type": "display_data"
    },
    {
     "data": {
      "text/html": [
       "<pre>| 1150      | 5m 10s        | 8.28113e+006   | 0               |</pre>"
      ],
      "text/plain": [
       "| 1150      | 5m 10s        | 8.28113e+006   | 0               |"
      ]
     },
     "metadata": {},
     "output_type": "display_data"
    },
    {
     "data": {
      "text/html": [
       "<pre>| 1160      | 5m 13s        | 7.14883e+006   | 0               |</pre>"
      ],
      "text/plain": [
       "| 1160      | 5m 13s        | 7.14883e+006   | 0               |"
      ]
     },
     "metadata": {},
     "output_type": "display_data"
    },
    {
     "data": {
      "text/html": [
       "<pre>| 1170      | 5m 16s        | 8.26537e+006   | 0               |</pre>"
      ],
      "text/plain": [
       "| 1170      | 5m 16s        | 8.26537e+006   | 0               |"
      ]
     },
     "metadata": {},
     "output_type": "display_data"
    },
    {
     "data": {
      "text/html": [
       "<pre>| 1180      | 5m 19s        | 7.8754e+006    | 0               |</pre>"
      ],
      "text/plain": [
       "| 1180      | 5m 19s        | 7.8754e+006    | 0               |"
      ]
     },
     "metadata": {},
     "output_type": "display_data"
    },
    {
     "data": {
      "text/html": [
       "<pre>| 1190      | 5m 22s        | 7.99144e+006   | 0               |</pre>"
      ],
      "text/plain": [
       "| 1190      | 5m 22s        | 7.99144e+006   | 0               |"
      ]
     },
     "metadata": {},
     "output_type": "display_data"
    },
    {
     "data": {
      "text/html": [
       "<pre>| 1200      | 5m 25s        | 7.43041e+006   | 0               |</pre>"
      ],
      "text/plain": [
       "| 1200      | 5m 25s        | 7.43041e+006   | 0               |"
      ]
     },
     "metadata": {},
     "output_type": "display_data"
    },
    {
     "data": {
      "text/html": [
       "<pre>| 1210      | 5m 27s        | 8.14136e+006   | 0               |</pre>"
      ],
      "text/plain": [
       "| 1210      | 5m 27s        | 8.14136e+006   | 0               |"
      ]
     },
     "metadata": {},
     "output_type": "display_data"
    },
    {
     "data": {
      "text/html": [
       "<pre>| 1220      | 5m 30s        | 8.08058e+006   | 0               |</pre>"
      ],
      "text/plain": [
       "| 1220      | 5m 30s        | 8.08058e+006   | 0               |"
      ]
     },
     "metadata": {},
     "output_type": "display_data"
    },
    {
     "data": {
      "text/html": [
       "<pre>| 1230      | 5m 33s        | 8.15665e+006   | 0               |</pre>"
      ],
      "text/plain": [
       "| 1230      | 5m 33s        | 8.15665e+006   | 0               |"
      ]
     },
     "metadata": {},
     "output_type": "display_data"
    },
    {
     "data": {
      "text/html": [
       "<pre>| 1240      | 5m 36s        | 7.58624e+006   | 0               |</pre>"
      ],
      "text/plain": [
       "| 1240      | 5m 36s        | 7.58624e+006   | 0               |"
      ]
     },
     "metadata": {},
     "output_type": "display_data"
    },
    {
     "data": {
      "text/html": [
       "<pre>| 1250      | 5m 39s        | 7.53357e+006   | 0               |</pre>"
      ],
      "text/plain": [
       "| 1250      | 5m 39s        | 7.53357e+006   | 0               |"
      ]
     },
     "metadata": {},
     "output_type": "display_data"
    },
    {
     "data": {
      "text/html": [
       "<pre>| 1260      | 5m 42s        | 7.34238e+006   | 0               |</pre>"
      ],
      "text/plain": [
       "| 1260      | 5m 42s        | 7.34238e+006   | 0               |"
      ]
     },
     "metadata": {},
     "output_type": "display_data"
    },
    {
     "data": {
      "text/html": [
       "<pre>| 1270      | 5m 45s        | 7.62626e+006   | 0               |</pre>"
      ],
      "text/plain": [
       "| 1270      | 5m 45s        | 7.62626e+006   | 0               |"
      ]
     },
     "metadata": {},
     "output_type": "display_data"
    },
    {
     "data": {
      "text/html": [
       "<pre>| 1280      | 5m 47s        | 7.96207e+006   | 0               |</pre>"
      ],
      "text/plain": [
       "| 1280      | 5m 47s        | 7.96207e+006   | 0               |"
      ]
     },
     "metadata": {},
     "output_type": "display_data"
    },
    {
     "data": {
      "text/html": [
       "<pre>| 1290      | 5m 50s        | 8.29702e+006   | 0               |</pre>"
      ],
      "text/plain": [
       "| 1290      | 5m 50s        | 8.29702e+006   | 0               |"
      ]
     },
     "metadata": {},
     "output_type": "display_data"
    },
    {
     "data": {
      "text/html": [
       "<pre>| 1300      | 5m 53s        | 7.99144e+006   | 0               |</pre>"
      ],
      "text/plain": [
       "| 1300      | 5m 53s        | 7.99144e+006   | 0               |"
      ]
     },
     "metadata": {},
     "output_type": "display_data"
    },
    {
     "data": {
      "text/html": [
       "<pre>| 1310      | 5m 56s        | 8.20288e+006   | 0               |</pre>"
      ],
      "text/plain": [
       "| 1310      | 5m 56s        | 8.20288e+006   | 0               |"
      ]
     },
     "metadata": {},
     "output_type": "display_data"
    },
    {
     "data": {
      "text/html": [
       "<pre>| 1320      | 5m 58s        | 7.09042e+006   | 0               |</pre>"
      ],
      "text/plain": [
       "| 1320      | 5m 58s        | 7.09042e+006   | 0               |"
      ]
     },
     "metadata": {},
     "output_type": "display_data"
    },
    {
     "data": {
      "text/html": [
       "<pre>| 1330      | 6m 1s         | 4.9423e+006    | 0               |</pre>"
      ],
      "text/plain": [
       "| 1330      | 6m 1s         | 4.9423e+006    | 0               |"
      ]
     },
     "metadata": {},
     "output_type": "display_data"
    },
    {
     "data": {
      "text/html": [
       "<pre>| 1340      | 6m 5s         | 5.59194e+006   | 0               |</pre>"
      ],
      "text/plain": [
       "| 1340      | 6m 5s         | 5.59194e+006   | 0               |"
      ]
     },
     "metadata": {},
     "output_type": "display_data"
    },
    {
     "data": {
      "text/html": [
       "<pre>| 1350      | 6m 10s        | 5.56324e+006   | 0               |</pre>"
      ],
      "text/plain": [
       "| 1350      | 6m 10s        | 5.56324e+006   | 0               |"
      ]
     },
     "metadata": {},
     "output_type": "display_data"
    },
    {
     "data": {
      "text/html": [
       "<pre>| 1360      | 6m 14s        | 4.94228e+006   | 0               |</pre>"
      ],
      "text/plain": [
       "| 1360      | 6m 14s        | 4.94228e+006   | 0               |"
      ]
     },
     "metadata": {},
     "output_type": "display_data"
    },
    {
     "data": {
      "text/html": [
       "<pre>| 1370      | 6m 18s        | 7.04434e+006   | 0               |</pre>"
      ],
      "text/plain": [
       "| 1370      | 6m 18s        | 7.04434e+006   | 0               |"
      ]
     },
     "metadata": {},
     "output_type": "display_data"
    },
    {
     "data": {
      "text/html": [
       "<pre>| 1380      | 6m 21s        | 7.76271e+006   | 0               |</pre>"
      ],
      "text/plain": [
       "| 1380      | 6m 21s        | 7.76271e+006   | 0               |"
      ]
     },
     "metadata": {},
     "output_type": "display_data"
    },
    {
     "data": {
      "text/html": [
       "<pre>| 1390      | 6m 24s        | 7.58624e+006   | 0               |</pre>"
      ],
      "text/plain": [
       "| 1390      | 6m 24s        | 7.58624e+006   | 0               |"
      ]
     },
     "metadata": {},
     "output_type": "display_data"
    },
    {
     "data": {
      "text/html": [
       "<pre>| 1400      | 6m 27s        | 8.11092e+006   | 0               |</pre>"
      ],
      "text/plain": [
       "| 1400      | 6m 27s        | 8.11092e+006   | 0               |"
      ]
     },
     "metadata": {},
     "output_type": "display_data"
    },
    {
     "data": {
      "text/html": [
       "<pre>| 1410      | 6m 30s        | 7.97673e+006   | 0               |</pre>"
      ],
      "text/plain": [
       "| 1410      | 6m 30s        | 7.97673e+006   | 0               |"
      ]
     },
     "metadata": {},
     "output_type": "display_data"
    },
    {
     "data": {
      "text/html": [
       "<pre>| 1420      | 6m 32s        | 8.2654e+006    | 0               |</pre>"
      ],
      "text/plain": [
       "| 1420      | 6m 32s        | 8.2654e+006    | 0               |"
      ]
     },
     "metadata": {},
     "output_type": "display_data"
    },
    {
     "data": {
      "text/html": [
       "<pre>| 1430      | 6m 35s        | 8.3129e+006    | 0               |</pre>"
      ],
      "text/plain": [
       "| 1430      | 6m 35s        | 8.3129e+006    | 0               |"
      ]
     },
     "metadata": {},
     "output_type": "display_data"
    },
    {
     "data": {
      "text/html": [
       "<pre>| 1440      | 6m 38s        | 8.39328e+006   | 0               |</pre>"
      ],
      "text/plain": [
       "| 1440      | 6m 38s        | 8.39328e+006   | 0               |"
      ]
     },
     "metadata": {},
     "output_type": "display_data"
    },
    {
     "data": {
      "text/html": [
       "<pre>| 1450      | 6m 40s        | 8.23393e+006   | 0               |</pre>"
      ],
      "text/plain": [
       "| 1450      | 6m 40s        | 8.23393e+006   | 0               |"
      ]
     },
     "metadata": {},
     "output_type": "display_data"
    },
    {
     "data": {
      "text/html": [
       "<pre>| 1460      | 6m 43s        | 8.14127e+006   | 0               |</pre>"
      ],
      "text/plain": [
       "| 1460      | 6m 43s        | 8.14127e+006   | 0               |"
      ]
     },
     "metadata": {},
     "output_type": "display_data"
    },
    {
     "data": {
      "text/html": [
       "<pre>| 1470      | 6m 46s        | 8.172e+006     | 0               |</pre>"
      ],
      "text/plain": [
       "| 1470      | 6m 46s        | 8.172e+006     | 0               |"
      ]
     },
     "metadata": {},
     "output_type": "display_data"
    },
    {
     "data": {
      "text/html": [
       "<pre>| 1480      | 6m 49s        | 8.34488e+006   | 0               |</pre>"
      ],
      "text/plain": [
       "| 1480      | 6m 49s        | 8.34488e+006   | 0               |"
      ]
     },
     "metadata": {},
     "output_type": "display_data"
    },
    {
     "data": {
      "text/html": [
       "<pre>| 1490      | 6m 51s        | 8.34488e+006   | 0               |</pre>"
      ],
      "text/plain": [
       "| 1490      | 6m 51s        | 8.34488e+006   | 0               |"
      ]
     },
     "metadata": {},
     "output_type": "display_data"
    },
    {
     "data": {
      "text/html": [
       "<pre>| 1500      | 6m 54s        | 8.5085e+006    | 0               |</pre>"
      ],
      "text/plain": [
       "| 1500      | 6m 54s        | 8.5085e+006    | 0               |"
      ]
     },
     "metadata": {},
     "output_type": "display_data"
    },
    {
     "data": {
      "text/html": [
       "<pre>| 1510      | 6m 57s        | 7.735e+006     | 0               |</pre>"
      ],
      "text/plain": [
       "| 1510      | 6m 57s        | 7.735e+006     | 0               |"
      ]
     },
     "metadata": {},
     "output_type": "display_data"
    },
    {
     "data": {
      "text/html": [
       "<pre>| 1520      | 6m 59s        | 8.36092e+006   | 0               |</pre>"
      ],
      "text/plain": [
       "| 1520      | 6m 59s        | 8.36092e+006   | 0               |"
      ]
     },
     "metadata": {},
     "output_type": "display_data"
    },
    {
     "data": {
      "text/html": [
       "<pre>| 1530      | 7m 2s         | 8.32891e+006   | 0               |</pre>"
      ],
      "text/plain": [
       "| 1530      | 7m 2s         | 8.32891e+006   | 0               |"
      ]
     },
     "metadata": {},
     "output_type": "display_data"
    },
    {
     "data": {
      "text/html": [
       "<pre>| 1540      | 7m 5s         | 8.29705e+006   | 0               |</pre>"
      ],
      "text/plain": [
       "| 1540      | 7m 5s         | 8.29705e+006   | 0               |"
      ]
     },
     "metadata": {},
     "output_type": "display_data"
    },
    {
     "data": {
      "text/html": [
       "<pre>| 1550      | 7m 7s         | 8.20288e+006   | 0               |</pre>"
      ],
      "text/plain": [
       "| 1550      | 7m 7s         | 8.20288e+006   | 0               |"
      ]
     },
     "metadata": {},
     "output_type": "display_data"
    },
    {
     "data": {
      "text/html": [
       "<pre>| 1560      | 7m 10s        | 8.18738e+006   | 0               |</pre>"
      ],
      "text/plain": [
       "| 1560      | 7m 10s        | 8.18738e+006   | 0               |"
      ]
     },
     "metadata": {},
     "output_type": "display_data"
    },
    {
     "data": {
      "text/html": [
       "<pre>| 1570      | 7m 13s        | 7.83272e+006   | 0               |</pre>"
      ],
      "text/plain": [
       "| 1570      | 7m 13s        | 7.83272e+006   | 0               |"
      ]
     },
     "metadata": {},
     "output_type": "display_data"
    },
    {
     "data": {
      "text/html": [
       "<pre>| 1580      | 7m 15s        | 8.09579e+006   | 0               |</pre>"
      ],
      "text/plain": [
       "| 1580      | 7m 15s        | 8.09579e+006   | 0               |"
      ]
     },
     "metadata": {},
     "output_type": "display_data"
    },
    {
     "data": {
      "text/html": [
       "<pre>| 1590      | 7m 18s        | 8.14136e+006   | 0               |</pre>"
      ],
      "text/plain": [
       "| 1590      | 7m 18s        | 8.14136e+006   | 0               |"
      ]
     },
     "metadata": {},
     "output_type": "display_data"
    },
    {
     "data": {
      "text/html": [
       "<pre>| 1600      | 7m 21s        | 8.24963e+006   | 0               |</pre>"
      ],
      "text/plain": [
       "| 1600      | 7m 21s        | 8.24963e+006   | 0               |"
      ]
     },
     "metadata": {},
     "output_type": "display_data"
    },
    {
     "data": {
      "text/html": [
       "<pre>| 1610      | 7m 23s        | 8.20291e+006   | 0               |</pre>"
      ],
      "text/plain": [
       "| 1610      | 7m 23s        | 8.20291e+006   | 0               |"
      ]
     },
     "metadata": {},
     "output_type": "display_data"
    },
    {
     "data": {
      "text/html": [
       "<pre>| 1620      | 7m 26s        | 7.97673e+006   | 0               |</pre>"
      ],
      "text/plain": [
       "| 1620      | 7m 26s        | 7.97673e+006   | 0               |"
      ]
     },
     "metadata": {},
     "output_type": "display_data"
    },
    {
     "data": {
      "text/html": [
       "<pre>| 1630      | 7m 29s        | 8.21847e+006   | 0               |</pre>"
      ],
      "text/plain": [
       "| 1630      | 7m 29s        | 8.21847e+006   | 0               |"
      ]
     },
     "metadata": {},
     "output_type": "display_data"
    },
    {
     "data": {
      "text/html": [
       "<pre>| 1640      | 7m 32s        | 7.06734e+006   | 0               |</pre>"
      ],
      "text/plain": [
       "| 1640      | 7m 32s        | 7.06734e+006   | 0               |"
      ]
     },
     "metadata": {},
     "output_type": "display_data"
    },
    {
     "data": {
      "text/html": [
       "<pre>| 1650      | 7m 35s        | 8.36098e+006   | 0               |</pre>"
      ],
      "text/plain": [
       "| 1650      | 7m 35s        | 8.36098e+006   | 0               |"
      ]
     },
     "metadata": {},
     "output_type": "display_data"
    },
    {
     "data": {
      "text/html": [
       "<pre>| 1660      | 7m 38s        | 8.55885e+006   | 0               |</pre>"
      ],
      "text/plain": [
       "| 1660      | 7m 38s        | 8.55885e+006   | 0               |"
      ]
     },
     "metadata": {},
     "output_type": "display_data"
    },
    {
     "data": {
      "text/html": [
       "<pre>| 1670      | 7m 40s        | 8.36095e+006   | 0               |</pre>"
      ],
      "text/plain": [
       "| 1670      | 7m 40s        | 8.36095e+006   | 0               |"
      ]
     },
     "metadata": {},
     "output_type": "display_data"
    },
    {
     "data": {
      "text/html": [
       "<pre>| 1680      | 7m 43s        | 8.00617e+006   | 0               |</pre>"
      ],
      "text/plain": [
       "| 1680      | 7m 43s        | 8.00617e+006   | 0               |"
      ]
     },
     "metadata": {},
     "output_type": "display_data"
    },
    {
     "data": {
      "text/html": [
       "<pre>| 1690      | 7m 45s        | 8.49186e+006   | 0               |</pre>"
      ],
      "text/plain": [
       "| 1690      | 7m 45s        | 8.49186e+006   | 0               |"
      ]
     },
     "metadata": {},
     "output_type": "display_data"
    },
    {
     "data": {
      "text/html": [
       "<pre>| 1700      | 7m 48s        | 8.18747e+006   | 0               |</pre>"
      ],
      "text/plain": [
       "| 1700      | 7m 48s        | 8.18747e+006   | 0               |"
      ]
     },
     "metadata": {},
     "output_type": "display_data"
    },
    {
     "data": {
      "text/html": [
       "<pre>| 1710      | 7m 51s        | 8.85572e+006   | 0               |</pre>"
      ],
      "text/plain": [
       "| 1710      | 7m 51s        | 8.85572e+006   | 0               |"
      ]
     },
     "metadata": {},
     "output_type": "display_data"
    },
    {
     "data": {
      "text/html": [
       "<pre>| 1720      | 7m 53s        | 8.5085e+006    | 0               |</pre>"
      ],
      "text/plain": [
       "| 1720      | 7m 53s        | 8.5085e+006    | 0               |"
      ]
     },
     "metadata": {},
     "output_type": "display_data"
    },
    {
     "data": {
      "text/html": [
       "<pre>| 1730      | 7m 56s        | 8.4096e+006    | 0               |</pre>"
      ],
      "text/plain": [
       "| 1730      | 7m 56s        | 8.4096e+006    | 0               |"
      ]
     },
     "metadata": {},
     "output_type": "display_data"
    },
    {
     "data": {
      "text/html": [
       "<pre>| 1740      | 7m 58s        | 8.96558e+006   | 0               |</pre>"
      ],
      "text/plain": [
       "| 1740      | 7m 58s        | 8.96558e+006   | 0               |"
      ]
     },
     "metadata": {},
     "output_type": "display_data"
    },
    {
     "data": {
      "text/html": [
       "<pre>| 1750      | 8m 1s         | 8.32885e+006   | 0               |</pre>"
      ],
      "text/plain": [
       "| 1750      | 8m 1s         | 8.32885e+006   | 0               |"
      ]
     },
     "metadata": {},
     "output_type": "display_data"
    },
    {
     "data": {
      "text/html": [
       "<pre>| 1760      | 8m 4s         | 8.36095e+006   | 0               |</pre>"
      ],
      "text/plain": [
       "| 1760      | 8m 4s         | 8.36095e+006   | 0               |"
      ]
     },
     "metadata": {},
     "output_type": "display_data"
    },
    {
     "data": {
      "text/html": [
       "<pre>| 1770      | 8m 6s         | 7.9621e+006    | 0               |</pre>"
      ],
      "text/plain": [
       "| 1770      | 8m 6s         | 7.9621e+006    | 0               |"
      ]
     },
     "metadata": {},
     "output_type": "display_data"
    },
    {
     "data": {
      "text/html": [
       "<pre>| 1780      | 8m 9s         | 7.53357e+006   | 0               |</pre>"
      ],
      "text/plain": [
       "| 1780      | 8m 9s         | 7.53357e+006   | 0               |"
      ]
     },
     "metadata": {},
     "output_type": "display_data"
    },
    {
     "data": {
      "text/html": [
       "<pre>| 1790      | 8m 12s        | 7.93295e+006   | 0               |</pre>"
      ],
      "text/plain": [
       "| 1790      | 8m 12s        | 7.93295e+006   | 0               |"
      ]
     },
     "metadata": {},
     "output_type": "display_data"
    },
    {
     "data": {
      "text/html": [
       "<pre>| 1800      | 8m 15s        | 5.97701e+006   | 0               |</pre>"
      ],
      "text/plain": [
       "| 1800      | 8m 15s        | 5.97701e+006   | 0               |"
      ]
     },
     "metadata": {},
     "output_type": "display_data"
    },
    {
     "data": {
      "text/html": [
       "<pre>| 1810      | 8m 18s        | 8.172e+006     | 0               |</pre>"
      ],
      "text/plain": [
       "| 1810      | 8m 18s        | 8.172e+006     | 0               |"
      ]
     },
     "metadata": {},
     "output_type": "display_data"
    },
    {
     "data": {
      "text/html": [
       "<pre>| 1820      | 8m 21s        | 8.49186e+006   | 0               |</pre>"
      ],
      "text/plain": [
       "| 1820      | 8m 21s        | 8.49186e+006   | 0               |"
      ]
     },
     "metadata": {},
     "output_type": "display_data"
    },
    {
     "data": {
      "text/html": [
       "<pre>| 1830      | 8m 24s        | 8.69604e+006   | 0               |</pre>"
      ],
      "text/plain": [
       "| 1830      | 8m 24s        | 8.69604e+006   | 0               |"
      ]
     },
     "metadata": {},
     "output_type": "display_data"
    },
    {
     "data": {
      "text/html": [
       "<pre>| 1840      | 8m 27s        | 8.32888e+006   | 0               |</pre>"
      ],
      "text/plain": [
       "| 1840      | 8m 27s        | 8.32888e+006   | 0               |"
      ]
     },
     "metadata": {},
     "output_type": "display_data"
    },
    {
     "data": {
      "text/html": [
       "<pre>| 1850      | 8m 29s        | 7.54663e+006   | 0               |</pre>"
      ],
      "text/plain": [
       "| 1850      | 8m 29s        | 7.54663e+006   | 0               |"
      ]
     },
     "metadata": {},
     "output_type": "display_data"
    },
    {
     "data": {
      "text/html": [
       "<pre>| 1860      | 8m 32s        | 7.76265e+006   | 0               |</pre>"
      ],
      "text/plain": [
       "| 1860      | 8m 32s        | 7.76265e+006   | 0               |"
      ]
     },
     "metadata": {},
     "output_type": "display_data"
    },
    {
     "data": {
      "text/html": [
       "<pre>| 1870      | 8m 35s        | 8.03583e+006   | 0               |</pre>"
      ],
      "text/plain": [
       "| 1870      | 8m 35s        | 8.03583e+006   | 0               |"
      ]
     },
     "metadata": {},
     "output_type": "display_data"
    },
    {
     "data": {
      "text/html": [
       "<pre>| 1880      | 8m 38s        | 7.96207e+006   | 0               |</pre>"
      ],
      "text/plain": [
       "| 1880      | 8m 38s        | 7.96207e+006   | 0               |"
      ]
     },
     "metadata": {},
     "output_type": "display_data"
    },
    {
     "data": {
      "text/html": [
       "<pre>| 1890      | 8m 41s        | 8.34485e+006   | 0               |</pre>"
      ],
      "text/plain": [
       "| 1890      | 8m 41s        | 8.34485e+006   | 0               |"
      ]
     },
     "metadata": {},
     "output_type": "display_data"
    },
    {
     "data": {
      "text/html": [
       "<pre>| 1900      | 8m 44s        | 7.07886e+006   | 0               |</pre>"
      ],
      "text/plain": [
       "| 1900      | 8m 44s        | 7.07886e+006   | 0               |"
      ]
     },
     "metadata": {},
     "output_type": "display_data"
    },
    {
     "data": {
      "text/html": [
       "<pre>| 1910      | 8m 47s        | 7.52052e+006   | 0               |</pre>"
      ],
      "text/plain": [
       "| 1910      | 8m 47s        | 7.52052e+006   | 0               |"
      ]
     },
     "metadata": {},
     "output_type": "display_data"
    },
    {
     "data": {
      "text/html": [
       "<pre>| 1920      | 8m 50s        | 6.19015e+006   | 0               |</pre>"
      ],
      "text/plain": [
       "| 1920      | 8m 50s        | 6.19015e+006   | 0               |"
      ]
     },
     "metadata": {},
     "output_type": "display_data"
    },
    {
     "data": {
      "text/html": [
       "<pre>| 1930      | 8m 53s        | 6.84436e+006   | 0               |</pre>"
      ],
      "text/plain": [
       "| 1930      | 8m 53s        | 6.84436e+006   | 0               |"
      ]
     },
     "metadata": {},
     "output_type": "display_data"
    },
    {
     "data": {
      "text/html": [
       "<pre>| 1940      | 8m 57s        | 5.11112e+006   | 0               |</pre>"
      ],
      "text/plain": [
       "| 1940      | 8m 57s        | 5.11112e+006   | 0               |"
      ]
     },
     "metadata": {},
     "output_type": "display_data"
    },
    {
     "data": {
      "text/html": [
       "<pre>| 1950      | 9m 0s         | 7.39238e+006   | 0               |</pre>"
      ],
      "text/plain": [
       "| 1950      | 9m 0s         | 7.39238e+006   | 0               |"
      ]
     },
     "metadata": {},
     "output_type": "display_data"
    },
    {
     "data": {
      "text/html": [
       "<pre>| 1960      | 9m 3s         | 7.8754e+006    | 0               |</pre>"
      ],
      "text/plain": [
       "| 1960      | 9m 3s         | 7.8754e+006    | 0               |"
      ]
     },
     "metadata": {},
     "output_type": "display_data"
    },
    {
     "data": {
      "text/html": [
       "<pre>| 1970      | 9m 6s         | 5.89584e+006   | 0               |</pre>"
      ],
      "text/plain": [
       "| 1970      | 9m 6s         | 5.89584e+006   | 0               |"
      ]
     },
     "metadata": {},
     "output_type": "display_data"
    },
    {
     "data": {
      "text/html": [
       "<pre>| 1980      | 9m 9s         | 8.34485e+006   | 0               |</pre>"
      ],
      "text/plain": [
       "| 1980      | 9m 9s         | 8.34485e+006   | 0               |"
      ]
     },
     "metadata": {},
     "output_type": "display_data"
    },
    {
     "data": {
      "text/html": [
       "<pre>| 1990      | 9m 12s        | 8.49547e+006   | 0               |</pre>"
      ],
      "text/plain": [
       "| 1990      | 9m 12s        | 8.49547e+006   | 0               |"
      ]
     },
     "metadata": {},
     "output_type": "display_data"
    },
    {
     "data": {
      "text/html": [
       "<pre>| 2000      | 9m 14s        | 8.71352e+006   | 0               |</pre>"
      ],
      "text/plain": [
       "| 2000      | 9m 14s        | 8.71352e+006   | 0               |"
      ]
     },
     "metadata": {},
     "output_type": "display_data"
    },
    {
     "data": {
      "text/html": [
       "<pre>| 2010      | 9m 17s        | 7.13706e+006   | 0               |</pre>"
      ],
      "text/plain": [
       "| 2010      | 9m 17s        | 7.13706e+006   | 0               |"
      ]
     },
     "metadata": {},
     "output_type": "display_data"
    },
    {
     "data": {
      "text/html": [
       "<pre>| 2020      | 9m 20s        | 7.99138e+006   | 0               |</pre>"
      ],
      "text/plain": [
       "| 2020      | 9m 20s        | 7.99138e+006   | 0               |"
      ]
     },
     "metadata": {},
     "output_type": "display_data"
    },
    {
     "data": {
      "text/html": [
       "<pre>| 2030      | 9m 22s        | 8.67873e+006   | 0               |</pre>"
      ],
      "text/plain": [
       "| 2030      | 9m 22s        | 8.67873e+006   | 0               |"
      ]
     },
     "metadata": {},
     "output_type": "display_data"
    },
    {
     "data": {
      "text/html": [
       "<pre>| 2040      | 9m 25s        | 8.80187e+006   | 0               |</pre>"
      ],
      "text/plain": [
       "| 2040      | 9m 25s        | 8.80187e+006   | 0               |"
      ]
     },
     "metadata": {},
     "output_type": "display_data"
    },
    {
     "data": {
      "text/html": [
       "<pre>| 2050      | 9m 27s        | 8.81982e+006   | 0               |</pre>"
      ],
      "text/plain": [
       "| 2050      | 9m 27s        | 8.81982e+006   | 0               |"
      ]
     },
     "metadata": {},
     "output_type": "display_data"
    },
    {
     "data": {
      "text/html": [
       "<pre>| 2060      | 9m 30s        | 8.50853e+006   | 0               |</pre>"
      ],
      "text/plain": [
       "| 2060      | 9m 30s        | 8.50853e+006   | 0               |"
      ]
     },
     "metadata": {},
     "output_type": "display_data"
    },
    {
     "data": {
      "text/html": [
       "<pre>| 2070      | 9m 33s        | 8.69607e+006   | 0               |</pre>"
      ],
      "text/plain": [
       "| 2070      | 9m 33s        | 8.69607e+006   | 0               |"
      ]
     },
     "metadata": {},
     "output_type": "display_data"
    },
    {
     "data": {
      "text/html": [
       "<pre>| 2080      | 9m 35s        | 5.63549e+006   | 0               |</pre>"
      ],
      "text/plain": [
       "| 2080      | 9m 35s        | 5.63549e+006   | 0               |"
      ]
     },
     "metadata": {},
     "output_type": "display_data"
    },
    {
     "data": {
      "text/html": [
       "<pre>| 2090      | 9m 39s        | 6.56481e+006   | 0               |</pre>"
      ],
      "text/plain": [
       "| 2090      | 9m 39s        | 6.56481e+006   | 0               |"
      ]
     },
     "metadata": {},
     "output_type": "display_data"
    },
    {
     "data": {
      "text/html": [
       "<pre>| 2100      | 9m 42s        | 7.30528e+006   | 0               |</pre>"
      ],
      "text/plain": [
       "| 2100      | 9m 42s        | 7.30528e+006   | 0               |"
      ]
     },
     "metadata": {},
     "output_type": "display_data"
    },
    {
     "data": {
      "text/html": [
       "<pre>| 2110      | 9m 45s        | 8.09453e+006   | 0               |</pre>"
      ],
      "text/plain": [
       "| 2110      | 9m 45s        | 8.09453e+006   | 0               |"
      ]
     },
     "metadata": {},
     "output_type": "display_data"
    },
    {
     "data": {
      "text/html": [
       "<pre>| 2120      | 9m 48s        | 8.12606e+006   | 0               |</pre>"
      ],
      "text/plain": [
       "| 2120      | 9m 48s        | 8.12606e+006   | 0               |"
      ]
     },
     "metadata": {},
     "output_type": "display_data"
    },
    {
     "data": {
      "text/html": [
       "<pre>| 2130      | 9m 50s        | 7.12534e+006   | 0               |</pre>"
      ],
      "text/plain": [
       "| 2130      | 9m 50s        | 7.12534e+006   | 0               |"
      ]
     },
     "metadata": {},
     "output_type": "display_data"
    },
    {
     "data": {
      "text/html": [
       "<pre>| 2140      | 9m 53s        | 7.41769e+006   | 0               |</pre>"
      ],
      "text/plain": [
       "| 2140      | 9m 53s        | 7.41769e+006   | 0               |"
      ]
     },
     "metadata": {},
     "output_type": "display_data"
    },
    {
     "data": {
      "text/html": [
       "<pre>| 2150      | 9m 56s        | 7.90407e+006   | 0               |</pre>"
      ],
      "text/plain": [
       "| 2150      | 9m 56s        | 7.90407e+006   | 0               |"
      ]
     },
     "metadata": {},
     "output_type": "display_data"
    },
    {
     "data": {
      "text/html": [
       "<pre>| 2160      | 9m 59s        | 8.02096e+006   | 0               |</pre>"
      ],
      "text/plain": [
       "| 2160      | 9m 59s        | 8.02096e+006   | 0               |"
      ]
     },
     "metadata": {},
     "output_type": "display_data"
    },
    {
     "data": {
      "text/html": [
       "<pre>| 2170      | 10m 2s        | 7.58621e+006   | 0               |</pre>"
      ],
      "text/plain": [
       "| 2170      | 10m 2s        | 7.58621e+006   | 0               |"
      ]
     },
     "metadata": {},
     "output_type": "display_data"
    },
    {
     "data": {
      "text/html": [
       "<pre>| 2180      | 10m 5s        | 7.81851e+006   | 0               |</pre>"
      ],
      "text/plain": [
       "| 2180      | 10m 5s        | 7.81851e+006   | 0               |"
      ]
     },
     "metadata": {},
     "output_type": "display_data"
    },
    {
     "data": {
      "text/html": [
       "<pre>| 2190      | 10m 7s        | 8.15668e+006   | 0               |</pre>"
      ],
      "text/plain": [
       "| 2190      | 10m 7s        | 8.15668e+006   | 0               |"
      ]
     },
     "metadata": {},
     "output_type": "display_data"
    },
    {
     "data": {
      "text/html": [
       "<pre>| 2200      | 10m 10s       | 8.0482e+006    | 0               |</pre>"
      ],
      "text/plain": [
       "| 2200      | 10m 10s       | 8.0482e+006    | 0               |"
      ]
     },
     "metadata": {},
     "output_type": "display_data"
    },
    {
     "data": {
      "text/html": [
       "<pre>| 2210      | 10m 13s       | 8.18741e+006   | 0               |</pre>"
      ],
      "text/plain": [
       "| 2210      | 10m 13s       | 8.18741e+006   | 0               |"
      ]
     },
     "metadata": {},
     "output_type": "display_data"
    },
    {
     "data": {
      "text/html": [
       "<pre>| 2220      | 10m 16s       | 8.05067e+006   | 0               |</pre>"
      ],
      "text/plain": [
       "| 2220      | 10m 16s       | 8.05067e+006   | 0               |"
      ]
     },
     "metadata": {},
     "output_type": "display_data"
    },
    {
     "data": {
      "text/html": [
       "<pre>| 2230      | 10m 18s       | 7.50749e+006   | 0               |</pre>"
      ],
      "text/plain": [
       "| 2230      | 10m 18s       | 7.50749e+006   | 0               |"
      ]
     },
     "metadata": {},
     "output_type": "display_data"
    },
    {
     "data": {
      "text/html": [
       "<pre>| 2240      | 10m 22s       | 7.03297e+006   | 0               |</pre>"
      ],
      "text/plain": [
       "| 2240      | 10m 22s       | 7.03297e+006   | 0               |"
      ]
     },
     "metadata": {},
     "output_type": "display_data"
    },
    {
     "data": {
      "text/html": [
       "<pre>| 2250      | 10m 25s       | 8.17204e+006   | 0               |</pre>"
      ],
      "text/plain": [
       "| 2250      | 10m 25s       | 8.17204e+006   | 0               |"
      ]
     },
     "metadata": {},
     "output_type": "display_data"
    },
    {
     "data": {
      "text/html": [
       "<pre>| 2260      | 10m 27s       | 7.87537e+006   | 0               |</pre>"
      ],
      "text/plain": [
       "| 2260      | 10m 27s       | 7.87537e+006   | 0               |"
      ]
     },
     "metadata": {},
     "output_type": "display_data"
    },
    {
     "data": {
      "text/html": [
       "<pre>| 2270      | 10m 30s       | 8.14136e+006   | 0               |</pre>"
      ],
      "text/plain": [
       "| 2270      | 10m 30s       | 8.14136e+006   | 0               |"
      ]
     },
     "metadata": {},
     "output_type": "display_data"
    },
    {
     "data": {
      "text/html": [
       "<pre>| 2280      | 10m 33s       | 7.49453e+006   | 0               |</pre>"
      ],
      "text/plain": [
       "| 2280      | 10m 33s       | 7.49453e+006   | 0               |"
      ]
     },
     "metadata": {},
     "output_type": "display_data"
    },
    {
     "data": {
      "text/html": [
       "<pre>| 2290      | 10m 36s       | 7.86111e+006   | 0               |</pre>"
      ],
      "text/plain": [
       "| 2290      | 10m 36s       | 7.86111e+006   | 0               |"
      ]
     },
     "metadata": {},
     "output_type": "display_data"
    },
    {
     "data": {
      "text/html": [
       "<pre>| 2300      | 10m 38s       | 7.19624e+006   | 0               |</pre>"
      ],
      "text/plain": [
       "| 2300      | 10m 38s       | 7.19624e+006   | 0               |"
      ]
     },
     "metadata": {},
     "output_type": "display_data"
    },
    {
     "data": {
      "text/html": [
       "<pre>| 2310      | 10m 41s       | 8.21844e+006   | 0               |</pre>"
      ],
      "text/plain": [
       "| 2310      | 10m 41s       | 8.21844e+006   | 0               |"
      ]
     },
     "metadata": {},
     "output_type": "display_data"
    },
    {
     "data": {
      "text/html": [
       "<pre>| 2320      | 10m 44s       | 7.02155e+006   | 0               |</pre>"
      ],
      "text/plain": [
       "| 2320      | 10m 44s       | 7.02155e+006   | 0               |"
      ]
     },
     "metadata": {},
     "output_type": "display_data"
    },
    {
     "data": {
      "text/html": [
       "<pre>| 2330      | 10m 47s       | 8.29711e+006   | 0               |</pre>"
      ],
      "text/plain": [
       "| 2330      | 10m 47s       | 8.29711e+006   | 0               |"
      ]
     },
     "metadata": {},
     "output_type": "display_data"
    },
    {
     "data": {
      "text/html": [
       "<pre>| 2340      | 10m 49s       | 8.58424e+006   | 0               |</pre>"
      ],
      "text/plain": [
       "| 2340      | 10m 49s       | 8.58424e+006   | 0               |"
      ]
     },
     "metadata": {},
     "output_type": "display_data"
    },
    {
     "data": {
      "text/html": [
       "<pre>| 2350      | 10m 52s       | 8.59272e+006   | 0               |</pre>"
      ],
      "text/plain": [
       "| 2350      | 10m 52s       | 8.59272e+006   | 0               |"
      ]
     },
     "metadata": {},
     "output_type": "display_data"
    },
    {
     "data": {
      "text/html": [
       "<pre>| 2360      | 10m 55s       | 6.71722e+006   | 0               |</pre>"
      ],
      "text/plain": [
       "| 2360      | 10m 55s       | 6.71722e+006   | 0               |"
      ]
     },
     "metadata": {},
     "output_type": "display_data"
    },
    {
     "data": {
      "text/html": [
       "<pre>| 2370      | 10m 58s       | 8.2497e+006    | 0               |</pre>"
      ],
      "text/plain": [
       "| 2370      | 10m 58s       | 8.2497e+006    | 0               |"
      ]
     },
     "metadata": {},
     "output_type": "display_data"
    },
    {
     "data": {
      "text/html": [
       "<pre>| 2380      | 11m 1s        | 6.85517e+006   | 0               |</pre>"
      ],
      "text/plain": [
       "| 2380      | 11m 1s        | 6.85517e+006   | 0               |"
      ]
     },
     "metadata": {},
     "output_type": "display_data"
    },
    {
     "data": {
      "text/html": [
       "<pre>| 2390      | 11m 4s        | 8.2497e+006    | 0               |</pre>"
      ],
      "text/plain": [
       "| 2390      | 11m 4s        | 8.2497e+006    | 0               |"
      ]
     },
     "metadata": {},
     "output_type": "display_data"
    },
    {
     "data": {
      "text/html": [
       "<pre>| 2400      | 11m 7s        | 7.54666e+006   | 0               |</pre>"
      ],
      "text/plain": [
       "| 2400      | 11m 7s        | 7.54666e+006   | 0               |"
      ]
     },
     "metadata": {},
     "output_type": "display_data"
    },
    {
     "data": {
      "text/html": [
       "<pre>| 2410      | 11m 10s       | 6.86603e+006   | 0               |</pre>"
      ],
      "text/plain": [
       "| 2410      | 11m 10s       | 6.86603e+006   | 0               |"
      ]
     },
     "metadata": {},
     "output_type": "display_data"
    },
    {
     "data": {
      "text/html": [
       "<pre>| 2420      | 11m 12s       | 7.77659e+006   | 0               |</pre>"
      ],
      "text/plain": [
       "| 2420      | 11m 12s       | 7.77659e+006   | 0               |"
      ]
     },
     "metadata": {},
     "output_type": "display_data"
    },
    {
     "data": {
      "text/html": [
       "<pre>| 2430      | 11m 15s       | 8.09579e+006   | 0               |</pre>"
      ],
      "text/plain": [
       "| 2430      | 11m 15s       | 8.09579e+006   | 0               |"
      ]
     },
     "metadata": {},
     "output_type": "display_data"
    },
    {
     "data": {
      "text/html": [
       "<pre>| 2440      | 11m 18s       | 6.41912e+006   | 0               |</pre>"
      ],
      "text/plain": [
       "| 2440      | 11m 18s       | 6.41912e+006   | 0               |"
      ]
     },
     "metadata": {},
     "output_type": "display_data"
    },
    {
     "data": {
      "text/html": [
       "<pre>| 2450      | 11m 21s       | 8.55881e+006   | 0               |</pre>"
      ],
      "text/plain": [
       "| 2450      | 11m 21s       | 8.55881e+006   | 0               |"
      ]
     },
     "metadata": {},
     "output_type": "display_data"
    },
    {
     "data": {
      "text/html": [
       "<pre>| 2460      | 11m 24s       | 8.33446e+006   | 0               |</pre>"
      ],
      "text/plain": [
       "| 2460      | 11m 24s       | 8.33446e+006   | 0               |"
      ]
     },
     "metadata": {},
     "output_type": "display_data"
    },
    {
     "data": {
      "text/html": [
       "<pre>| 2470      | 11m 27s       | 8.78407e+006   | 0               |</pre>"
      ],
      "text/plain": [
       "| 2470      | 11m 27s       | 8.78407e+006   | 0               |"
      ]
     },
     "metadata": {},
     "output_type": "display_data"
    },
    {
     "data": {
      "text/html": [
       "<pre>| 2480      | 11m 29s       | 8.32888e+006   | 0               |</pre>"
      ],
      "text/plain": [
       "| 2480      | 11m 29s       | 8.32888e+006   | 0               |"
      ]
     },
     "metadata": {},
     "output_type": "display_data"
    },
    {
     "data": {
      "text/html": [
       "<pre>| 2490      | 11m 32s       | 8.73108e+006   | 0               |</pre>"
      ],
      "text/plain": [
       "| 2490      | 11m 32s       | 8.73108e+006   | 0               |"
      ]
     },
     "metadata": {},
     "output_type": "display_data"
    },
    {
     "data": {
      "text/html": [
       "<pre>| 2500      | 11m 34s       | 7.7488e+006    | 0               |</pre>"
      ],
      "text/plain": [
       "| 2500      | 11m 34s       | 7.7488e+006    | 0               |"
      ]
     },
     "metadata": {},
     "output_type": "display_data"
    },
    {
     "data": {
      "text/html": [
       "<pre>| 2510      | 11m 37s       | 8.52524e+006   | 0               |</pre>"
      ],
      "text/plain": [
       "| 2510      | 11m 37s       | 8.52524e+006   | 0               |"
      ]
     },
     "metadata": {},
     "output_type": "display_data"
    },
    {
     "data": {
      "text/html": [
       "<pre>| 2520      | 11m 40s       | 8.6441e+006    | 0               |</pre>"
      ],
      "text/plain": [
       "| 2520      | 11m 40s       | 8.6441e+006    | 0               |"
      ]
     },
     "metadata": {},
     "output_type": "display_data"
    },
    {
     "data": {
      "text/html": [
       "<pre>| 2530      | 11m 43s       | 7.8754e+006    | 0               |</pre>"
      ],
      "text/plain": [
       "| 2530      | 11m 43s       | 7.8754e+006    | 0               |"
      ]
     },
     "metadata": {},
     "output_type": "display_data"
    },
    {
     "data": {
      "text/html": [
       "<pre>| 2540      | 11m 46s       | 6.96522e+006   | 0               |</pre>"
      ],
      "text/plain": [
       "| 2540      | 11m 46s       | 6.96522e+006   | 0               |"
      ]
     },
     "metadata": {},
     "output_type": "display_data"
    },
    {
     "data": {
      "text/html": [
       "<pre>| 2550      | 11m 49s       | 7.04436e+006   | 0               |</pre>"
      ],
      "text/plain": [
       "| 2550      | 11m 49s       | 7.04436e+006   | 0               |"
      ]
     },
     "metadata": {},
     "output_type": "display_data"
    },
    {
     "data": {
      "text/html": [
       "<pre>| 2560      | 11m 52s       | 7.34236e+006   | 0               |</pre>"
      ],
      "text/plain": [
       "| 2560      | 11m 52s       | 7.34236e+006   | 0               |"
      ]
     },
     "metadata": {},
     "output_type": "display_data"
    },
    {
     "data": {
      "text/html": [
       "<pre>| 2570      | 11m 55s       | 7.52052e+006   | 0               |</pre>"
      ],
      "text/plain": [
       "| 2570      | 11m 55s       | 7.52052e+006   | 0               |"
      ]
     },
     "metadata": {},
     "output_type": "display_data"
    },
    {
     "data": {
      "text/html": [
       "<pre>| 2580      | 11m 58s       | 7.44327e+006   | 0               |</pre>"
      ],
      "text/plain": [
       "| 2580      | 11m 58s       | 7.44327e+006   | 0               |"
      ]
     },
     "metadata": {},
     "output_type": "display_data"
    },
    {
     "data": {
      "text/html": [
       "<pre>| 2590      | 12m 2s        | 5.42441e+006   | 0               |</pre>"
      ],
      "text/plain": [
       "| 2590      | 12m 2s        | 5.42441e+006   | 0               |"
      ]
     },
     "metadata": {},
     "output_type": "display_data"
    },
    {
     "data": {
      "text/html": [
       "<pre>| 2600      | 12m 5s        | 6.36267e+006   | 0               |</pre>"
      ],
      "text/plain": [
       "| 2600      | 12m 5s        | 6.36267e+006   | 0               |"
      ]
     },
     "metadata": {},
     "output_type": "display_data"
    },
    {
     "data": {
      "text/html": [
       "<pre>| 2610      | 12m 8s        | 5.82462e+006   | 0               |</pre>"
      ],
      "text/plain": [
       "| 2610      | 12m 8s        | 5.82462e+006   | 0               |"
      ]
     },
     "metadata": {},
     "output_type": "display_data"
    },
    {
     "data": {
      "text/html": [
       "<pre>| 2620      | 12m 12s       | 7.36715e+006   | 0               |</pre>"
      ],
      "text/plain": [
       "| 2620      | 12m 12s       | 7.36715e+006   | 0               |"
      ]
     },
     "metadata": {},
     "output_type": "display_data"
    },
    {
     "data": {
      "text/html": [
       "<pre>| 2630      | 12m 15s       | 6.88783e+006   | 0               |</pre>"
      ],
      "text/plain": [
       "| 2630      | 12m 15s       | 6.88783e+006   | 0               |"
      ]
     },
     "metadata": {},
     "output_type": "display_data"
    },
    {
     "data": {
      "text/html": [
       "<pre>| 2640      | 12m 18s       | 7.48165e+006   | 0               |</pre>"
      ],
      "text/plain": [
       "| 2640      | 12m 18s       | 7.48165e+006   | 0               |"
      ]
     },
     "metadata": {},
     "output_type": "display_data"
    },
    {
     "data": {
      "text/html": [
       "<pre>| 2650      | 12m 21s       | 6.86614e+006   | 0               |</pre>"
      ],
      "text/plain": [
       "| 2650      | 12m 21s       | 6.86614e+006   | 0               |"
      ]
     },
     "metadata": {},
     "output_type": "display_data"
    },
    {
     "data": {
      "text/html": [
       "<pre>| 2660      | 12m 24s       | 8.03583e+006   | 0               |</pre>"
      ],
      "text/plain": [
       "| 2660      | 12m 24s       | 8.03583e+006   | 0               |"
      ]
     },
     "metadata": {},
     "output_type": "display_data"
    },
    {
     "data": {
      "text/html": [
       "<pre>| 2670      | 12m 27s       | 7.99141e+006   | 0               |</pre>"
      ],
      "text/plain": [
       "| 2670      | 12m 27s       | 7.99141e+006   | 0               |"
      ]
     },
     "metadata": {},
     "output_type": "display_data"
    },
    {
     "data": {
      "text/html": [
       "<pre>| 2680      | 12m 30s       | 8.20291e+006   | 0               |</pre>"
      ],
      "text/plain": [
       "| 2680      | 12m 30s       | 8.20291e+006   | 0               |"
      ]
     },
     "metadata": {},
     "output_type": "display_data"
    },
    {
     "data": {
      "text/html": [
       "<pre>| 2690      | 12m 33s       | 7.9621e+006    | 0               |</pre>"
      ],
      "text/plain": [
       "| 2690      | 12m 33s       | 7.9621e+006    | 0               |"
      ]
     },
     "metadata": {},
     "output_type": "display_data"
    },
    {
     "data": {
      "text/html": [
       "<pre>| 2700      | 12m 35s       | 8.21844e+006   | 0               |</pre>"
      ],
      "text/plain": [
       "| 2700      | 12m 35s       | 8.21844e+006   | 0               |"
      ]
     },
     "metadata": {},
     "output_type": "display_data"
    },
    {
     "data": {
      "text/html": [
       "<pre>| 2710      | 12m 38s       | 8.18744e+006   | 0               |</pre>"
      ],
      "text/plain": [
       "| 2710      | 12m 38s       | 8.18744e+006   | 0               |"
      ]
     },
     "metadata": {},
     "output_type": "display_data"
    },
    {
     "data": {
      "text/html": [
       "<pre>| 2720      | 12m 41s       | 8.29695e+006   | 0               |</pre>"
      ],
      "text/plain": [
       "| 2720      | 12m 41s       | 8.29695e+006   | 0               |"
      ]
     },
     "metadata": {},
     "output_type": "display_data"
    },
    {
     "data": {
      "text/html": [
       "<pre>| 2730      | 12m 43s       | 8.20291e+006   | 0               |</pre>"
      ],
      "text/plain": [
       "| 2730      | 12m 43s       | 8.20291e+006   | 0               |"
      ]
     },
     "metadata": {},
     "output_type": "display_data"
    },
    {
     "data": {
      "text/html": [
       "<pre>| 2740      | 12m 46s       | 7.93298e+006   | 0               |</pre>"
      ],
      "text/plain": [
       "| 2740      | 12m 46s       | 7.93298e+006   | 0               |"
      ]
     },
     "metadata": {},
     "output_type": "display_data"
    },
    {
     "data": {
      "text/html": [
       "<pre>| 2750      | 12m 49s       | 8.11095e+006   | 0               |</pre>"
      ],
      "text/plain": [
       "| 2750      | 12m 49s       | 8.11095e+006   | 0               |"
      ]
     },
     "metadata": {},
     "output_type": "display_data"
    },
    {
     "data": {
      "text/html": [
       "<pre>| 2760      | 12m 51s       | 8.32885e+006   | 0               |</pre>"
      ],
      "text/plain": [
       "| 2760      | 12m 51s       | 8.32885e+006   | 0               |"
      ]
     },
     "metadata": {},
     "output_type": "display_data"
    },
    {
     "data": {
      "text/html": [
       "<pre>| 2770      | 12m 54s       | 8.29702e+006   | 0               |</pre>"
      ],
      "text/plain": [
       "| 2770      | 12m 54s       | 8.29702e+006   | 0               |"
      ]
     },
     "metadata": {},
     "output_type": "display_data"
    },
    {
     "data": {
      "text/html": [
       "<pre>| 2780      | 12m 57s       | 8.31287e+006   | 0               |</pre>"
      ],
      "text/plain": [
       "| 2780      | 12m 57s       | 8.31287e+006   | 0               |"
      ]
     },
     "metadata": {},
     "output_type": "display_data"
    },
    {
     "data": {
      "text/html": [
       "<pre>| 2790      | 13m 0s        | 7.91846e+006   | 0               |</pre>"
      ],
      "text/plain": [
       "| 2790      | 13m 0s        | 7.91846e+006   | 0               |"
      ]
     },
     "metadata": {},
     "output_type": "display_data"
    },
    {
     "data": {
      "text/html": [
       "<pre>| 2800      | 13m 2s        | 8.21844e+006   | 0               |</pre>"
      ],
      "text/plain": [
       "| 2800      | 13m 2s        | 8.21844e+006   | 0               |"
      ]
     },
     "metadata": {},
     "output_type": "display_data"
    },
    {
     "data": {
      "text/html": [
       "<pre>| 2810      | 13m 5s        | 8.14136e+006   | 0               |</pre>"
      ],
      "text/plain": [
       "| 2810      | 13m 5s        | 8.14136e+006   | 0               |"
      ]
     },
     "metadata": {},
     "output_type": "display_data"
    },
    {
     "data": {
      "text/html": [
       "<pre>| 2820      | 13m 8s        | 7.72124e+006   | 0               |</pre>"
      ],
      "text/plain": [
       "| 2820      | 13m 8s        | 7.72124e+006   | 0               |"
      ]
     },
     "metadata": {},
     "output_type": "display_data"
    },
    {
     "data": {
      "text/html": [
       "<pre>| 2830      | 13m 11s       | 8.29699e+006   | 0               |</pre>"
      ],
      "text/plain": [
       "| 2830      | 13m 11s       | 8.29699e+006   | 0               |"
      ]
     },
     "metadata": {},
     "output_type": "display_data"
    },
    {
     "data": {
      "text/html": [
       "<pre>| 2840      | 13m 13s       | 8.24966e+006   | 0               |</pre>"
      ],
      "text/plain": [
       "| 2840      | 13m 13s       | 8.24966e+006   | 0               |"
      ]
     },
     "metadata": {},
     "output_type": "display_data"
    },
    {
     "data": {
      "text/html": [
       "<pre>| 2850      | 13m 16s       | 8.0358e+006    | 0               |</pre>"
      ],
      "text/plain": [
       "| 2850      | 13m 16s       | 8.0358e+006    | 0               |"
      ]
     },
     "metadata": {},
     "output_type": "display_data"
    },
    {
     "data": {
      "text/html": [
       "<pre>| 2860      | 13m 19s       | 8.15665e+006   | 0               |</pre>"
      ],
      "text/plain": [
       "| 2860      | 13m 19s       | 8.15665e+006   | 0               |"
      ]
     },
     "metadata": {},
     "output_type": "display_data"
    },
    {
     "data": {
      "text/html": [
       "<pre>| 2870      | 13m 22s       | 7.79054e+006   | 0               |</pre>"
      ],
      "text/plain": [
       "| 2870      | 13m 22s       | 7.79054e+006   | 0               |"
      ]
     },
     "metadata": {},
     "output_type": "display_data"
    },
    {
     "data": {
      "text/html": [
       "<pre>| 2880      | 13m 24s       | 8.32888e+006   | 0               |</pre>"
      ],
      "text/plain": [
       "| 2880      | 13m 24s       | 8.32888e+006   | 0               |"
      ]
     },
     "metadata": {},
     "output_type": "display_data"
    },
    {
     "data": {
      "text/html": [
       "<pre>| 2890      | 13m 27s       | 7.9041e+006    | 0               |</pre>"
      ],
      "text/plain": [
       "| 2890      | 13m 27s       | 7.9041e+006    | 0               |"
      ]
     },
     "metadata": {},
     "output_type": "display_data"
    },
    {
     "data": {
      "text/html": [
       "<pre>| 2900      | 13m 30s       | 8.09582e+006   | 0               |</pre>"
      ],
      "text/plain": [
       "| 2900      | 13m 30s       | 8.09582e+006   | 0               |"
      ]
     },
     "metadata": {},
     "output_type": "display_data"
    },
    {
     "data": {
      "text/html": [
       "<pre>| 2910      | 13m 33s       | 7.96213e+006   | 0               |</pre>"
      ],
      "text/plain": [
       "| 2910      | 13m 33s       | 7.96213e+006   | 0               |"
      ]
     },
     "metadata": {},
     "output_type": "display_data"
    },
    {
     "data": {
      "text/html": [
       "<pre>| 2920      | 13m 36s       | 7.9767e+006    | 0               |</pre>"
      ],
      "text/plain": [
       "| 2920      | 13m 36s       | 7.9767e+006    | 0               |"
      ]
     },
     "metadata": {},
     "output_type": "display_data"
    },
    {
     "data": {
      "text/html": [
       "<pre>| 2930      | 13m 39s       | 7.53359e+006   | 0               |</pre>"
      ],
      "text/plain": [
       "| 2930      | 13m 39s       | 7.53359e+006   | 0               |"
      ]
     },
     "metadata": {},
     "output_type": "display_data"
    },
    {
     "data": {
      "text/html": [
       "<pre>| 2940      | 13m 42s       | 8.76637e+006   | 0               |</pre>"
      ],
      "text/plain": [
       "| 2940      | 13m 42s       | 8.76637e+006   | 0               |"
      ]
     },
     "metadata": {},
     "output_type": "display_data"
    },
    {
     "data": {
      "text/html": [
       "<pre>| 2950      | 13m 44s       | 8.5085e+006    | 0               |</pre>"
      ],
      "text/plain": [
       "| 2950      | 13m 44s       | 8.5085e+006    | 0               |"
      ]
     },
     "metadata": {},
     "output_type": "display_data"
    },
    {
     "data": {
      "text/html": [
       "<pre>| 2960      | 13m 47s       | 8.45871e+006   | 0               |</pre>"
      ],
      "text/plain": [
       "| 2960      | 13m 47s       | 8.45871e+006   | 0               |"
      ]
     },
     "metadata": {},
     "output_type": "display_data"
    },
    {
     "data": {
      "text/html": [
       "<pre>| 2970      | 13m 50s       | 8.42591e+006   | 0               |</pre>"
      ],
      "text/plain": [
       "| 2970      | 13m 50s       | 8.42591e+006   | 0               |"
      ]
     },
     "metadata": {},
     "output_type": "display_data"
    },
    {
     "data": {
      "text/html": [
       "<pre>| 2980      | 13m 53s       | 8.09576e+006   | 0               |</pre>"
      ],
      "text/plain": [
       "| 2980      | 13m 53s       | 8.09576e+006   | 0               |"
      ]
     },
     "metadata": {},
     "output_type": "display_data"
    },
    {
     "data": {
      "text/html": [
       "<pre>| 2990      | 13m 55s       | 8.96562e+006   | 0               |</pre>"
      ],
      "text/plain": [
       "| 2990      | 13m 55s       | 8.96562e+006   | 0               |"
      ]
     },
     "metadata": {},
     "output_type": "display_data"
    },
    {
     "data": {
      "text/html": [
       "<pre>| 3000      | 13m 58s       | 8.87393e+006   | 0               |</pre>"
      ],
      "text/plain": [
       "| 3000      | 13m 58s       | 8.87393e+006   | 0               |"
      ]
     },
     "metadata": {},
     "output_type": "display_data"
    },
    {
     "data": {
      "text/html": [
       "<pre>+-----------+---------------+----------------+-----------------+</pre>"
      ],
      "text/plain": [
       "+-----------+---------------+----------------+-----------------+"
      ]
     },
     "metadata": {},
     "output_type": "display_data"
    }
   ],
   "source": [
    "topic_model = gl.topic_model.create(docs, num_topics=15, num_iterations=3000)"
   ]
  },
  {
   "cell_type": "code",
   "execution_count": 18,
   "metadata": {
    "collapsed": false
   },
   "outputs": [
    {
     "data": {
      "text/html": [
       "\n",
       "<link rel=\"stylesheet\" type=\"text/css\" href=\"https://cdn.rawgit.com/bmabey/pyLDAvis/files/ldavis.v1.0.0.css\">\n",
       "\n",
       "\n",
       "<div id=\"ldavis_el86446843376966669924637\"></div>\n",
       "<script type=\"text/javascript\">\n",
       "\n",
       "var ldavis_el86446843376966669924637_data = {\"plot.opts\": {\"xlab\": \"PC1\", \"ylab\": \"PC2\"}, \"topic.order\": [7, 15, 5, 10, 6, 9, 11, 1, 13, 14, 4, 8, 12, 3, 2], \"token.table\": {\"Topic\": [2, 6, 7, 10, 13, 14, 1, 7, 7, 1, 5, 6, 7, 8, 11, 12, 14, 15, 6, 10, 4, 7, 8, 10, 11, 12, 13, 14, 15, 2, 3, 9, 11, 12, 13, 6, 8, 12, 14, 1, 2, 3, 4, 5, 6, 7, 8, 9, 10, 12, 13, 14, 15, 1, 5, 6, 12, 4, 6, 7, 8, 13, 14, 9, 13, 13, 7, 11, 1, 2, 5, 6, 7, 9, 10, 13, 14, 1, 5, 6, 13, 14, 8, 4, 1, 5, 8, 11, 13, 15, 6, 12, 6, 9, 13, 6, 9, 15, 7, 8, 14, 15, 14, 1, 2, 3, 4, 6, 9, 12, 13, 14, 1, 4, 9, 10, 12, 13, 9, 12, 2, 3, 6, 9, 13, 14, 5, 9, 2, 4, 7, 10, 11, 14, 5, 14, 8, 7, 9, 10, 12, 14, 15, 3, 4, 7, 8, 14, 15, 1, 4, 8, 13, 15, 3, 8, 15, 2, 3, 7, 13, 14, 7, 8, 12, 1, 2, 3, 7, 13, 15, 2, 6, 9, 10, 14, 1, 2, 4, 5, 6, 10, 14, 3, 5, 9, 1, 5, 10, 7, 8, 10, 15, 4, 7, 8, 9, 14, 9, 13, 13, 4, 7, 8, 10, 11, 12, 15, 11, 5, 6, 13, 4, 10, 14, 15, 3, 12, 15, 4, 7, 9, 11, 14, 10, 4, 7, 8, 14, 1, 7, 8, 11, 15, 12, 15, 4, 7, 9, 10, 11, 12, 11, 3, 1, 3, 5, 6, 8, 11, 13, 1, 3, 5, 8, 10, 11, 13, 1, 6, 9, 11, 12, 13, 14, 9, 15, 8, 1, 2, 3, 4, 5, 6, 7, 8, 9, 10, 11, 12, 13, 14, 15, 2, 6, 10, 2, 13, 3, 11, 12, 13, 14, 2, 9, 12, 2, 8, 9, 12, 13, 3, 4, 9, 11, 12, 15, 2, 4, 5, 14, 3, 4, 7, 10, 12, 6, 8, 14, 13, 2, 6, 7, 8, 9, 11, 12, 13, 14, 1, 5, 9, 14, 2, 7, 13, 14, 15, 2, 2, 6, 8, 11, 14, 1, 6, 7, 8, 10, 11, 12, 13, 14, 2, 4, 7, 2, 3, 9, 12, 1, 2, 3, 6, 9, 12, 4, 11, 15, 4, 15, 1, 2, 5, 6, 9, 11, 13, 14, 4, 9, 14, 2, 3, 4, 5, 9, 11, 12, 14, 15, 15, 9, 10, 5, 3, 5, 6, 10, 2, 4, 5, 7, 9, 13, 14, 3, 4, 5, 6, 11, 14, 4, 8, 10, 3, 4, 7, 12, 3, 12, 13, 3, 12, 3, 12, 7, 8, 11, 11, 14, 7, 7, 4, 6, 13, 6, 7, 14, 4, 5, 9, 10, 11, 13, 1, 3, 5, 11, 1, 6, 10, 11, 1, 7, 11, 11, 1, 7, 14, 13, 3, 7, 1, 2, 3, 4, 5, 9, 10, 1, 11, 1, 9, 12, 1, 2, 5, 6, 8, 9, 11, 12, 13, 14, 8, 9, 4, 14, 15, 15, 3, 12, 4, 6, 10, 11, 3, 1, 2, 9, 1, 5, 11, 13, 15, 1, 6, 13, 14, 15, 2, 4, 5, 6, 7, 8, 9, 10, 13, 15, 6, 11, 12, 1, 3, 6, 7, 9, 1, 6, 7, 13, 14, 15, 7, 11, 13, 6, 7, 9, 4, 12, 15, 9, 10, 15, 8, 9, 1, 11, 11, 1, 4, 11, 4, 5, 6, 8, 10, 11, 14, 2, 4, 9, 11, 14, 1, 5, 6, 7, 11, 12, 6, 7, 9, 10, 11, 14, 2, 5, 6, 9, 12, 14, 15, 2, 1, 2, 5, 1, 2, 3, 5, 6, 9, 12, 13, 14, 5, 8, 9, 3, 6, 9, 2, 6, 2, 5, 6, 4, 7, 8, 11, 11, 6, 7, 8, 11, 14, 11, 13, 4, 6, 9, 10, 12, 14, 11, 1, 2, 5, 7, 9, 10, 11, 12, 13, 14, 14, 14, 3, 15, 15, 4, 14, 3, 8, 11, 12, 1, 4, 8, 10, 9, 14, 7, 8, 9, 10, 11, 4, 6, 7, 8, 10, 12, 15, 3, 5, 12, 7, 9, 2, 3, 4, 6, 8, 11, 12, 13, 3, 8, 9, 13, 4, 5, 9, 13, 14, 1, 2, 3, 4, 5, 6, 7, 8, 9, 10, 11, 12, 13, 14, 1, 2, 4, 14, 1, 2, 5, 6, 10, 4, 1, 2, 3, 5, 6, 7, 9, 10, 13, 14, 15, 14, 15, 2, 6, 1, 11, 5, 10, 14, 14, 1, 2, 6, 8, 10, 13, 1, 2, 5, 7, 9, 11, 12, 14, 1, 6, 7, 3, 8, 9, 1, 5, 8, 9, 10, 4, 7, 9, 15, 3, 7, 12, 14, 15, 4, 9, 2, 5, 9, 13, 3, 4, 7, 8, 10, 11, 12, 14, 3, 4, 8, 13, 7, 9, 9, 2, 3, 6, 8, 11, 12, 13, 14, 8, 11, 14, 7, 2, 3, 4, 6, 7, 8, 10, 11, 12, 13, 14, 15, 2, 4, 6, 8, 10, 12, 13, 14, 15, 7, 8, 1, 9, 15, 4, 13, 15, 5, 8, 10, 15, 9, 10, 11, 13, 3, 4, 5, 7, 8, 9, 10, 14, 14, 15, 2, 3, 8, 13, 3, 12, 14, 1, 6, 11, 1, 2, 5, 6, 14, 2, 3, 4, 6, 8, 9, 10, 11, 13, 14, 15, 8, 5, 13, 2, 3, 5, 6, 7, 8, 9, 11, 12, 13, 15, 3, 6, 7, 8, 14, 15, 2, 4, 6, 7, 9, 12, 15, 2, 3, 4, 5, 6, 7, 8, 10, 12, 13, 5, 6, 9, 10, 13, 1, 2, 5, 7, 8, 8, 9, 8, 8, 5, 7, 3, 8, 12, 3, 12, 15, 1, 13, 2, 10, 7, 8, 1, 2, 3, 4, 5, 6, 8, 9, 13, 1, 2, 5, 6, 9, 1, 4, 6, 10, 13, 15, 1, 4, 11, 14, 4, 15, 4, 13, 4, 9, 9, 8, 13, 15, 4, 5, 2, 5, 6, 8, 9, 10, 13, 15, 1, 2, 5, 6, 7, 8, 9, 10, 11, 14, 1, 5, 14, 7, 3, 4, 7, 8, 12, 1, 3, 5, 6, 7, 8, 10, 13, 14, 15, 3, 1, 2, 3, 4, 6, 7, 8, 9, 10, 12, 13, 14, 15, 11, 1, 3, 4, 5, 6, 7, 8, 12, 13, 14, 2, 5, 14, 4, 7, 9, 10, 11, 12, 2, 3, 4, 7, 8, 10, 14, 15, 13, 2, 3, 4, 5, 6, 8, 11, 12, 13, 14, 15, 10, 13, 1, 2, 3, 4, 5, 6, 7, 8, 10, 11, 12, 13, 14, 15, 10, 13, 10, 7, 10, 1, 2, 3, 4, 6, 8, 10, 11, 12, 13, 1, 3, 4, 7, 9, 11, 12, 13, 15, 2, 3, 4, 5, 8, 9, 11, 12, 13, 14, 15, 4, 6, 7, 9, 11, 14, 1, 3, 7, 8, 11, 12, 14, 15, 2, 8, 10, 13, 4, 5, 6, 7, 8, 11, 12, 13, 14, 15, 4, 6, 7, 8, 9, 2, 5, 6, 8, 9, 14, 4, 6, 7, 8, 9, 10, 13, 14, 4, 11, 15, 1, 2, 5, 12, 14, 9, 1, 5, 11, 14, 1, 6, 11, 14, 15, 9, 1, 2, 5, 1, 3, 6, 7, 9, 13, 14, 1, 5, 10, 11, 6, 9, 13, 1, 1, 5, 5, 13, 14, 7, 8, 11, 3, 8, 7, 12, 5, 12, 13, 10, 5, 7, 10, 1, 4, 5, 7, 12, 14, 2, 3, 4, 15, 9, 15, 5, 9, 9, 3, 4, 7, 12, 14, 2, 3, 4, 5, 6, 7, 8, 10, 11, 12, 14, 15, 7, 13, 15, 2, 3, 4, 6, 7, 12, 14, 1, 2, 5, 6, 7, 8, 9, 10, 11, 12, 13, 14, 13, 8, 5, 7, 9, 10, 11, 1, 2, 5, 6, 9, 10, 11, 12, 13, 14, 15, 8, 12, 13, 3, 4, 5, 6, 9, 1, 5, 9, 5, 9, 11, 14, 1, 2, 3, 6, 7, 9, 11, 13, 14, 2, 5, 6, 9, 10, 3, 12, 3, 4, 6, 7, 11, 14, 15, 4, 6, 12, 13, 14, 6, 8, 2, 4, 5, 12, 13, 15, 1, 2, 3, 4, 6, 8, 9, 10, 11, 12, 13, 14, 15, 4, 5, 6, 9, 12, 1, 3, 4, 5, 6, 12, 13, 14, 6, 7, 8, 9, 13, 15, 6, 9, 10, 11, 13, 14, 15, 2, 4, 5, 7, 8, 9, 10, 11, 12, 13, 15, 4, 11, 1, 3, 4, 7, 9, 10, 11, 13, 14, 4, 6, 7, 8, 9, 10, 11, 13, 14, 1, 2, 3, 4, 7, 8, 11, 12, 13, 14, 15, 1, 2, 3, 4, 6, 7, 8, 10, 11, 12, 13, 14, 15, 4, 7, 8, 9, 10, 11, 12, 15, 2, 4, 5, 8, 12, 5, 8, 9, 11, 14, 1, 3, 4, 7, 8, 9, 11, 12, 14, 15, 1, 2, 3, 4, 8, 10, 12, 13, 14, 3, 9, 13, 14, 1, 6, 15, 1, 7, 10, 11, 12, 1, 4, 7, 3, 14, 15, 14, 15, 1, 2, 3, 6, 7, 9, 10, 11, 12, 9, 14, 14, 10, 14, 1, 5, 8, 11, 15, 2, 4, 5, 6, 9, 10, 13, 1, 8, 15, 5, 6, 8, 13, 2, 6, 15, 1, 2, 5, 10, 12, 13, 6, 10, 11, 13, 3, 7, 12, 13, 15, 6, 6, 4, 7, 1, 2, 4, 5, 6, 9, 11, 12, 13, 15, 2, 4, 6, 8, 9, 11, 12, 13, 14, 4, 7, 9, 11, 2, 6, 10, 13, 7, 15, 2, 7, 11, 11, 8, 7, 11, 15, 7, 15, 7, 4, 5, 7, 9, 10, 13, 14, 15, 1, 2, 3, 5, 6, 7, 9, 10, 13, 14, 15, 1, 2, 3, 4, 5, 6, 7, 11, 12, 14, 15, 5, 9, 1, 7, 10, 11, 2, 3, 4, 5, 9, 10, 11, 12, 13, 14, 15, 2, 3, 4, 7, 8, 9, 10, 12, 13, 14, 15, 13, 6, 1, 2, 3, 5, 6, 7, 8, 9, 10, 11, 12, 13, 14, 14, 1, 8, 9, 10, 3, 4, 11, 12, 1, 3, 5, 6, 7, 8, 9, 11, 12, 14, 15, 1, 6, 9, 13, 1, 2, 5, 6, 9, 12, 13, 14, 1, 6, 13, 15, 15, 6, 15, 1, 11, 1, 2, 3, 5, 6, 7, 8, 9, 10, 11, 13, 14, 15, 2, 7, 6, 11, 15, 1, 6, 8, 12, 15, 12, 14, 8, 5, 10, 12, 15, 8, 1, 4, 7, 9, 14, 1, 8, 9, 4, 8, 12, 6, 1, 2, 3, 4, 5, 6, 7, 8, 9, 10, 11, 12, 13, 14, 15, 3, 5, 8, 9, 11, 12, 13, 14, 6, 8, 13, 14, 12, 1, 3, 4, 5, 6, 8, 11, 12, 13, 5, 6, 12, 6, 15, 1, 2, 5, 13, 14, 15, 1, 2, 4, 5, 6, 10, 11, 14, 14, 11, 14, 1, 2, 3, 5, 8, 9, 11, 12, 13, 15, 8, 7, 11, 13, 4, 12, 2, 3, 4, 5, 6, 7, 8, 9, 10, 11, 12, 13, 15, 1, 2, 3, 4, 5, 8, 9, 12, 15, 4, 6, 9, 13, 13, 3, 5, 7, 12, 15, 3, 6, 7, 10, 12, 13, 3, 12, 1, 2, 3, 4, 7, 8, 12, 3, 12, 1, 2, 3, 4, 5, 6, 7, 9, 10, 13, 14, 3, 6, 9, 13, 2, 5, 6, 9, 10, 1, 2, 6, 9, 2, 6, 7, 10, 11, 11, 1, 14, 15, 3, 12, 13, 15, 1, 2, 3, 5, 6, 7, 8, 9, 10, 11, 12, 13, 8, 10, 7, 1, 2, 5, 6, 9, 12, 2, 6, 4, 5, 1, 5, 8, 10, 11, 1, 15, 10, 2, 2, 11, 4, 7, 9, 13, 1, 2, 3, 4, 5, 6, 9, 11, 12, 13, 14, 1, 5, 7, 15, 1, 11, 14, 15, 1, 3, 6, 7, 13, 14, 1, 5, 13, 5, 10, 11, 14, 2, 5, 11, 1, 5, 9, 10, 11, 9, 1, 2, 4, 5, 6, 9, 10, 14, 5, 6, 10, 11, 14, 1, 3, 15, 3, 12, 2, 3, 4, 5, 6, 9, 10, 11, 12, 13, 14, 7, 2, 3, 10, 13, 14, 7, 10, 10, 5, 10, 4, 13, 15, 1, 3, 5, 14, 1, 2, 3, 4, 6, 7, 8, 11, 12, 14, 15, 8, 6, 3, 12, 3, 7, 12, 13, 14, 15, 15, 3, 4, 6, 8, 15, 9, 11, 10, 2, 6, 10, 3, 4, 7, 8, 10, 12, 1, 6, 9, 10, 12, 13, 14, 2, 3, 4, 5, 9, 10, 2, 5, 1, 2, 10, 11, 14, 8, 14, 8, 12, 15, 1, 2, 3, 4, 5, 6, 7, 9, 11, 13, 14, 15, 1, 3, 5, 6, 7, 9, 11, 12, 15, 1, 5, 1, 14, 2, 3, 4, 5, 6, 7, 8, 9, 10, 12, 13, 14, 1, 2, 4, 6, 13, 14, 2, 3, 8, 12, 13, 1, 3, 4, 7, 8, 14, 15, 6, 9, 1, 2, 3, 4, 6, 7, 8, 11, 12, 15, 6, 13, 13, 5, 12, 1, 11, 7, 14, 15, 2, 3, 4, 10, 13, 14, 11, 12, 13, 15, 4, 5, 11, 2, 4, 5, 8, 10, 14, 7, 10, 14, 6, 8, 10, 13, 14, 3, 3, 7, 6, 7, 4, 9, 10, 11, 12, 13, 15, 3, 7, 12, 15, 2, 3, 6, 8, 12, 13, 8, 4, 2, 9, 15, 2, 3, 4, 5, 6, 7, 8, 11, 13, 14, 2, 5, 6, 9, 15, 1, 5, 11, 4, 5, 6, 9, 10, 11, 15, 1, 2, 3, 5, 6, 7, 8, 9, 11, 13, 15, 5, 1, 3, 4, 5, 6, 8, 12, 1, 1, 13, 2, 3, 4, 6, 7, 8, 9, 10, 2, 5, 7, 8, 9, 10, 11, 13, 14, 2, 3, 5, 6, 7, 8, 9, 12, 13, 14, 15, 7, 4, 9, 10, 5, 11, 6, 8, 10, 11, 12, 8, 7, 8, 6, 8, 1, 2, 5, 6, 7, 8, 9, 10, 11, 12, 13, 15, 2, 6, 13, 14, 6, 10, 14, 11, 8, 4, 6, 1, 4, 5, 9, 11, 15, 7, 10, 2, 3, 7, 8, 10, 11, 13, 14, 7, 15, 4, 6, 10, 11, 5, 8, 11, 13, 14, 1, 2, 5, 2, 4, 8, 11, 12, 14, 1, 8, 15, 5, 14, 7, 3, 4, 14, 1, 15, 5, 10, 12, 13, 1, 3, 12, 4, 5, 5, 9, 10, 14, 7, 15, 5, 13, 14, 7, 8, 13, 15, 2, 4, 5, 6, 9, 11, 13, 14, 2, 6, 9, 3, 14, 15, 5, 8, 10, 11, 14, 5, 1, 2, 5, 6, 7, 9, 11, 13, 15, 3, 9, 12, 1, 2, 4, 5, 6, 7, 10, 12, 13, 7, 11, 15, 1, 2, 5, 5, 14, 3, 12, 15, 1, 10, 11, 4, 7, 11, 12, 15, 1, 2, 4, 6, 7, 9, 11, 12, 14, 2, 3, 4, 6, 7, 8, 11, 12, 1, 11, 13, 15, 15, 6, 2, 6, 13, 14, 9, 9, 7, 4, 6, 8, 14, 2, 3, 4, 5, 6, 7, 8, 9, 12, 13, 3, 7, 8, 9, 11, 13, 15, 3, 1, 2, 3, 4, 6, 7, 9, 10, 11, 12, 13, 14, 15, 14, 2, 3, 4, 5, 6, 7, 9, 10, 12, 13, 3, 3, 5, 7, 8, 13, 8, 10, 11, 3, 2, 4, 5, 6, 7, 8, 10, 12, 13, 4, 9, 11, 13, 13, 4, 6, 10, 13, 13, 14, 4, 9, 11, 14, 5, 6, 13, 5, 1, 3, 9, 2, 5, 8, 12, 11, 13, 1, 6, 7, 8, 11, 14, 15, 7, 11, 1, 2, 6, 7, 8, 9, 10, 15, 7, 11, 3, 3, 9, 13, 3, 6, 11, 8, 10, 11, 13, 2, 2, 4, 2, 14, 2, 2, 5, 6, 7, 8, 10, 11, 13, 1, 2, 3, 4, 6, 7, 9, 12, 5, 6, 9, 10, 13, 5, 8, 9, 13, 15, 3, 6, 11, 2, 3, 5, 8, 13, 15, 11, 14, 13, 8, 9, 13, 7, 8, 10, 15, 4, 7, 9, 11, 2, 3, 4, 5, 9, 12, 8, 10, 13, 6, 8, 11, 13, 5, 15, 15, 5, 14, 7, 12, 2, 4, 9, 14, 2, 3, 4, 6, 7, 8, 9, 11, 12, 13, 14, 15, 2, 4, 6, 7, 9, 10, 11, 12, 5, 6, 11, 13, 14, 7, 10, 11, 15, 2, 4, 7, 9, 10, 11, 14, 15, 4, 11, 13, 9, 11, 13, 12, 3, 8, 4, 7, 9, 10, 11, 12, 14, 7, 4, 4, 7, 10, 12, 13, 4, 2, 12, 1, 7, 2, 7, 13, 11, 1, 2, 6, 7, 10, 11, 13, 1, 1, 6, 7, 9, 10, 11, 15, 5, 14, 7, 4, 1, 1, 6, 13, 11, 5, 6, 7, 13, 5, 1, 10, 12, 4, 2, 2, 11, 12, 10, 6, 3, 12, 13, 13, 6, 2, 3, 3, 3, 2, 12, 7, 10, 12, 6, 6, 2, 6, 10, 14, 10, 10, 10, 8, 2, 5, 6, 9, 1, 1, 2, 5, 9, 15, 9, 9, 14, 12, 3, 12, 10, 1, 13, 7, 4, 3, 12, 14, 12, 11, 10, 14, 3, 9, 9, 4, 14, 1, 9, 14, 3, 5, 9, 10, 11, 12, 13, 3, 3, 7, 4, 2, 2, 1, 12, 5, 5, 2, 11, 2, 2, 6, 5, 10, 5, 6, 5, 7, 7, 10, 14, 5, 4, 7, 8, 9, 6, 1, 11, 2, 8, 6, 6, 13, 10, 6, 5, 10, 5, 5, 10, 3, 4, 5, 9, 10, 5, 4, 3, 12, 13, 10, 4, 13, 2, 12, 12, 1, 9, 10, 6, 6, 3, 5, 9, 3, 4, 12, 11, 11, 1, 12, 2, 1, 13, 3, 9, 1, 12, 11, 5, 8, 12, 13, 8, 6, 11, 10, 1, 4, 11, 13, 1, 6, 9, 2, 4, 5, 11, 13, 1, 2, 7, 10, 12, 13, 2, 11, 5, 9, 13, 1, 2, 4, 5, 7, 8, 9, 10, 11, 12, 13, 3, 3, 12, 12, 7, 1, 7, 13, 2, 6, 5, 13, 14, 12, 6, 13, 12, 3, 13, 11, 3, 11, 12, 9, 2, 14, 12, 10, 11, 4, 2, 3, 6, 6, 4, 10, 6, 6, 6, 5, 5, 3, 7, 8, 10, 15, 6, 3, 8, 12, 11, 1, 2, 3, 13, 3, 12, 8, 12, 4, 5, 3, 2, 3, 7, 4, 10, 1, 6, 8, 6, 11, 14, 7, 12, 12, 1, 5, 6, 9, 11, 13, 5, 6, 9, 13, 6, 10, 1, 5, 6, 9, 10, 11, 13, 14, 3, 3, 4, 6, 1, 1, 6, 4, 12, 4, 6, 11, 4, 12, 14, 5], \"Freq\": [0.9970542097147571, 0.008363337756569231, 0.019514454765328208, 0.0027877792521897437, 0.9478449457445128, 0.019514454765328208, 0.9938699357546771, 0.9982110256004113, 0.9969272633425078, 0.06303357054818887, 0.0422786143920779, 0.0061496166388476945, 0.2106243698805335, 0.0015374041597119236, 0.09993127038127503, 0.009224424958271542, 0.039972508152510015, 0.5265609247013339, 0.21263111835998785, 0.7832361448450186, 0.5153152748786375, 0.07219712720022041, 0.03311794825698184, 0.08080779374703569, 0.14439425440044082, 0.01457189723307201, 0.002649435860558547, 0.13180943406278772, 0.0046365127559774575, 0.0007737412541042318, 0.002321223762312695, 0.09594391550892474, 0.08124283168094433, 0.4348425848065782, 0.38377566203569896, 0.006220665908628719, 0.0031103329543143597, 0.10575132044668822, 0.8833345590252781, 0.1623941505851291, 0.057956923000346425, 0.014345773019887728, 0.1850604719565517, 0.028691546039775456, 0.0530793601735846, 0.0008607463811932637, 0.13341568908495588, 0.007172886509943864, 0.08636155357972412, 0.16067265782274257, 0.0530793601735846, 0.05652234569835765, 0.0002869154603977546, 0.0885991456903784, 0.7324196043737947, 0.11517888939749192, 0.0630038369353802, 0.0035102307973915435, 0.07511893906417903, 0.18112790914540364, 0.26467140212332235, 0.47458320380733665, 0.0007020461594783087, 0.004905302010685106, 0.9908710061583914, 0.9859594093966884, 0.9576669444081982, 0.04052488183464536, 0.01945954578520296, 0.07450226100620562, 0.13315889187303168, 0.08451002741002428, 0.02168349387494044, 0.032525240812410657, 0.3010669726482115, 0.04614692286205273, 0.28688930357613507, 0.9122334813991535, 0.0005634548989494463, 0.08564514464031583, 0.0011269097978988925, 0.993268399557196, 0.9721320448977867, 0.9878659825634212, 0.0014012714365525863, 0.17025447954113926, 0.30407590173191124, 0.029426700167604316, 0.4736297455547742, 0.020318435830012502, 0.9896419315047492, 0.007497287359884463, 0.0049001442268159735, 0.9677784847961548, 0.02450072113407987, 0.009773099978622711, 0.9748667228676153, 0.012216374973278387, 0.23010021681437018, 0.5256056322437839, 0.2356163179023859, 0.00709212997030593, 0.993268399557196, 0.00317146123665141, 0.24948828394991093, 0.028190766548012534, 0.27133612802462065, 0.04545761105867021, 0.1666779072151241, 0.19204959710833538, 0.01162869120105517, 0.032066996948364256, 0.0012263430990608363, 0.017168803386851707, 0.035563949872764254, 0.024526861981216726, 0.7897649557951786, 0.13121871159950949, 0.986876057597109, 0.993112773768218, 0.37924412419736053, 0.03371058881754316, 0.43402383102586817, 0.027389853414253817, 0.002809215734795263, 0.12220088446359395, 0.002905501659117339, 0.9951343182476886, 0.2535556222958666, 0.018957429704363857, 0.5817561240526659, 0.14336556213925167, 0.9843374368154812, 0.006350564108486976, 0.9789233487979707, 0.9965733484644873, 0.9947631042580672, 0.6812641058266005, 0.023349777820669774, 0.16070141205990374, 0.11537537276095652, 0.013735163423923396, 0.004120549027177019, 0.0020869339242924967, 0.7575570145181764, 0.0020869339242924967, 0.0041738678485849934, 0.09599896051745485, 0.1377376390033048, 0.01931250273938951, 0.12875001826259674, 0.7188542686328317, 0.006437500913129836, 0.12445835098717684, 0.9151925656196827, 0.04772240459917605, 0.036946377754200815, 0.9977491452295201, 0.004598589898024883, 0.8484398361855909, 0.14025699188975893, 0.0022992949490124415, 0.0017353147397210528, 0.008676573698605264, 0.9873940869012791, 0.022193182816735876, 0.06750426440090496, 0.7730625347829664, 0.045311081584169084, 0.0425369337320771, 0.04993466133765572, 0.16799930576778374, 0.01633326583853453, 0.025666560603411406, 0.7396636101164923, 0.04899979751560359, 0.12802053896498608, 0.11389413466540142, 0.001765800537448084, 0.588011578970212, 0.00441450134362021, 0.000882900268724042, 0.16245364944522372, 0.1429165558867333, 0.5385439316246861, 0.317728652143038, 0.5894862101282584, 0.4098857386312376, 0.9855441268075893, 0.001278390539654475, 0.1103677165901697, 0.8032553890828952, 0.08522603597696501, 0.03981493699076523, 0.007109810176922362, 0.0014219620353844724, 0.03128316477845839, 0.9185874748583691, 0.1251510169053143, 0.8728064425734257, 0.9887281952374457, 0.004913204703191328, 0.172617258572122, 0.0003275469802127552, 0.4887000944774308, 0.31641038288552154, 0.0009826409406382657, 0.015722255050212252, 0.9930811104495505, 0.09946290183215983, 0.31607099915553016, 0.5824105473949803, 0.3732101359150856, 0.5893550022751738, 0.03458317861761411, 0.0014409657757339213, 0.025115062510868546, 0.0025115062510868546, 0.966929906668439, 0.2149472505856383, 0.059853197825675705, 0.6920252945683965, 0.031455695207654386, 0.000873769311323733, 0.9877224381606561, 0.008058756456792025, 0.028205647598772088, 0.08058756456792025, 0.8824338320187267, 0.8941330989042907, 0.0012198268743578318, 0.04513359435123978, 0.015857749366651814, 0.041474113728166284, 0.9947037646303363, 0.9921960102684096, 0.6785173892650201, 0.1457378899477684, 0.17082392018467937, 0.0011945728684243312, 0.0011945728684243312, 0.0011945728684243312, 0.9883293742441652, 0.9951737398734161, 0.0876238033578342, 0.0006395898055316366, 0.15861827177184587, 0.06843610919188511, 0.5890622108946373, 0.0006395898055316366, 0.0946592912186822, 0.09745808203527129, 0.03248602734509043, 0.0009844250710633463, 0.451851107618076, 0.04528355326891393, 0.1378195099488685, 0.23330874184201308, 0.6120354701363768, 0.021896556959503884, 0.0005340623648659484, 0.17170105030440241, 0.06034904722985217, 0.05287217412172889, 0.08037638591232524, 0.003548037637975386, 0.9934505386331081, 0.9729075004844553, 0.0002552511217244912, 0.07044930959595956, 0.03547990591970428, 0.09750592849875563, 0.0750438297870004, 0.03879817050212266, 0.02782237226796954, 0.0811698567083882, 0.053092233318694164, 0.11613926038464349, 0.19884062382337864, 0.08065935446493921, 0.059984013605255425, 0.06457853379629627, 0.9929121605181054, 0.9849297747147614, 0.014633035904603022, 0.0001806547642543583, 0.9959728935926113, 0.9803553267700652, 0.0012892086279364568, 0.0012892086279364568, 0.0012892086279364568, 0.01675971216317394, 0.9785093486037707, 0.9451111201671091, 0.0012226534542912149, 0.05257409853452224, 0.9992017616746165, 0.7928524307012124, 0.0645676230990209, 0.00047476193455162416, 0.141479056496384, 0.15697732443536402, 0.07554533738451893, 0.00196221655544205, 0.701492418570533, 0.059847604940982534, 0.0039244331108841, 0.27189016327262683, 0.08175075855156685, 0.40599814921115224, 0.2397409885613365, 0.26866874384582073, 0.17756508772531565, 0.19381287353024648, 0.029594181287552607, 0.3301782186787732, 0.006593179608793867, 0.9757905821014924, 0.006593179608793867, 0.9811706270027718, 0.024493510537311726, 0.0003180975394456068, 0.018131559748399587, 0.0003180975394456068, 0.8913093055265903, 0.0028628778550104615, 0.02004014498507323, 0.022584925300638083, 0.01972204744562762, 0.00822927872238004, 0.0027430929074600137, 0.6373119188332098, 0.35111589215488176, 0.2627133772279821, 0.6747585688802908, 0.024888635737387775, 0.002765403970820864, 0.0345675496352608, 0.9970385989849292, 0.9986189381221713, 0.002489920731044092, 0.2054184603111376, 0.001244960365522046, 0.7893048717409772, 0.9971577176874501, 0.05083310631292624, 0.037696460861271146, 0.12851066202706074, 0.5254658180662038, 0.1485012094534924, 0.0005711584978980477, 0.03655414386547505, 0.07082365373935791, 0.008138721914852, 0.1277779340631764, 0.8635183951657971, 0.026956012877310174, 0.002995112541923353, 0.9629286822283579, 0.004492668812885029, 0.1311834068445812, 0.01338606192291645, 0.001338606192291645, 0.05756006626854073, 0.7937934720289455, 0.00267721238458329, 0.10612344042178011, 0.8914368995429529, 0.9955469535297923, 0.004659281780983325, 0.9924270193494482, 0.5487826335963326, 0.09599312840063645, 0.0008766495744350361, 0.11484109425098973, 0.02279288893531094, 0.0582971966999299, 0.0013149743616525543, 0.15648194903665394, 0.581193389829461, 0.3872245529784016, 0.03066419111983659, 0.0019659589142260866, 0.0003931917828452173, 0.7922814424331128, 0.1360443568644452, 0.04718301394142608, 0.010616178136820868, 0.0007863835656904346, 0.009043411005439999, 0.001179575348535652, 0.9927608647858128, 0.04393850095512591, 0.9545260552320456, 0.9898281717178782, 0.00265374816955008, 0.00265374816955008, 0.9898480672421799, 0.00265374816955008, 0.04169893620134281, 0.6316945228799166, 0.18986324142739064, 0.01863143957932338, 0.015969805353705756, 0.10114210057346978, 0.0008872114085392086, 0.0039324609293158105, 0.8887361700253733, 0.07471675765700041, 0.027527226505210677, 0.993871283323154, 0.9929457729652794, 0.028130210432928834, 0.8551583971610366, 0.11252084173171534, 0.10270104583251417, 0.004053988651283454, 0.16080821650091034, 0.7297179572310217, 0.37285435906323716, 0.626610776788458, 0.0002992410586382321, 0.2616819288584641, 0.7363011135527371, 0.13149449992578577, 0.8661104395111756, 0.007195209143516497, 0.9785484435182434, 0.007195209143516497, 0.5339041386324502, 0.4655902098563048, 0.9950727173230683, 0.994361252472747, 0.005639824757246546, 0.9841494201395222, 0.005639824757246546, 0.007366275113997486, 0.004910850075998324, 0.984625440237664, 0.11195322867223018, 0.1984274466811252, 0.21309718009334847, 0.4478129146889207, 0.01775809834111237, 0.010809277251111879, 0.9122287216722883, 0.0005625832387741524, 0.0002812916193870762, 0.08663781877121948, 0.9013093625366148, 0.00033307810884575565, 0.0004996171632686335, 0.09759188589180641, 0.015515719657154111, 0.9774903384007091, 0.9995965542866717, 0.9835535054106188, 0.010611036696375345, 0.9514562904416559, 0.03537012232125115, 0.9830399857582747, 0.9911252921794727, 0.006061928392535001, 0.038204563798880015, 0.8574802097081959, 0.011673616716324449, 0.0021224757666044453, 0.0010612378833022226, 0.012734854599626672, 0.07640912759776003, 0.6897567483306066, 0.3099105867250837, 0.09169246723522187, 0.0008043198880282621, 0.9064685138078513, 0.03760907992285037, 0.04855855888773086, 0.23089118686813204, 0.21946564360043067, 0.0775984813598052, 0.0014281929084626723, 0.0518910090074771, 0.03665695131720859, 0.23517576559352005, 0.06046016645825313, 0.0039564190019359844, 0.989104750483996, 0.011225637346252705, 0.0028064093365631764, 0.9822432677971117, 0.9963845229054039, 0.14156845656718234, 0.8559953187783118, 0.016577473515509387, 0.004144368378877347, 0.07045426244091489, 0.9034723065952616, 0.9950324113666649, 0.8891665473688443, 0.10635371776595355, 0.002473342273626827, 0.40723377864379084, 0.4052424154230388, 0.046299194882484775, 0.14039110706301836, 0.0004978408051880083, 0.0859143804706251, 0.7807823368044722, 0.07741735383067318, 0.050038045768605835, 0.003776456284423082, 0.07324114207141687, 0.05485672584296405, 0.05989761416366886, 0.40386411134117317, 0.025204441603524023, 0.015419187804508815, 0.13551093897424094, 0.1008177664140961, 0.1037829948380401, 0.027280101500284825, 0.9851976560702742, 0.004192330451362869, 0.004192330451362869, 0.0004069012745910499, 0.04394533765583339, 0.0004069012745910499, 0.0004069012745910499, 0.954183488916012, 0.09189013213971726, 0.018918556617000613, 0.02972916039814382, 0.8567403496555992, 0.010690728566998892, 0.9862197103056477, 0.15544937109065593, 0.07254303984230609, 0.7689562223284446, 0.13904138823304193, 0.0016751974485908665, 0.8560258962299329, 0.9706653365194426, 0.009610547886331115, 0.009610547886331115, 0.9940974126803995, 0.003987021708611228, 0.9980841597280969, 0.9777604935759716, 0.9971673410218411, 0.8632397584754987, 0.13576605116477566, 0.9892618930900647, 0.00539408819613664, 0.9709358753045952, 0.01618226458840992, 0.0018681831534348716, 0.008406824190456923, 0.05324321987289384, 0.0009340915767174358, 0.026154564148088203, 0.11676144708967948, 0.7911755654796682, 0.0009090098428907242, 0.827198957030559, 0.06272167915945998, 0.10817217130399619, 0.9946437213173699, 0.5263068085037149, 0.14091213079082057, 0.020784539291646035, 0.0123298114441968, 0.029943827793049375, 0.2691421698104673, 0.004320597426474012, 0.07399023092836746, 0.4871473598349449, 0.25437517348365746, 0.0534673931526159, 0.12637747472436486, 0.824820554998679, 0.04109160373634723, 0.0537926448912182, 0.07471200679335861, 0.002988480271734344, 0.000747120067933586, 0.000747120067933586, 0.9969532274656149, 0.2335592250498787, 0.05401057079278444, 0.7094361460890065, 0.023524012410323668, 0.141144074461942, 0.0022765173300313226, 0.09902850385636253, 0.048945122595673435, 0.478448058861583, 0.19236571438764677, 0.0015176782200208817, 0.012900264870177494, 0.9826322178860475, 0.9861634849061292, 0.9943905819386971, 0.6650289987024993, 0.2660115994809997, 0.06779421831433245, 0.9544822813158146, 0.04426897458591447, 0.8822335930557853, 0.0011048636105895871, 0.11601067911190664, 0.008258796180629793, 0.002752932060209931, 0.8836911913273878, 0.10185848622776744, 0.9892618930900647, 0.02788641034269604, 0.003983772906099434, 0.007967545812198868, 0.9481379516516653, 0.007967545812198868, 0.9865729189160636, 0.010170854834186224, 0.23968102257523133, 0.04186209640868766, 0.1625234331160815, 0.4621247113351207, 0.010670730457116463, 0.08208254197781895, 0.9967552274893939, 0.12006914411913987, 0.03231218557334651, 0.2507866221204053, 0.2886065665982995, 0.03781994447789421, 0.09069442996155214, 0.0007343678539396934, 0.04185896767456252, 0.0007343678539396934, 0.13585805297884326, 0.9984509359273205, 0.9956755507667457, 0.003163611094490693, 0.9933738836700776, 0.9943294291110927, 0.005289003060297413, 0.9890435722756163, 0.029412818233168214, 0.8004488390597921, 0.1575686691062583, 0.008403662352333776, 0.9897524330066271, 0.9631961629372172, 0.022142440527292348, 0.005535610131823087, 0.006140214423098612, 0.9929603895639469, 0.9943156926780522, 0.01837065410772669, 0.006123551369242229, 0.006123551369242229, 0.96139756497103, 0.2696123627429821, 0.012255107397408278, 0.01414050853547109, 0.5439382283311213, 0.125379175681177, 0.0018854011380628121, 0.03205181934706781, 0.06418397881263269, 0.08099406850165553, 0.852730004224977, 0.9956711342846656, 0.002310141842887855, 0.05790962491665897, 0.24147220955814402, 0.09833709891508127, 0.002185268864779584, 0.46764753706283096, 0.05353908718709981, 0.002185268864779584, 0.07539177583489565, 0.0013599683613212904, 0.6228655094851511, 0.07751819659531356, 0.29647310276804134, 0.963292717323439, 0.20946619894149535, 0.00954671684183759, 0.1909343368367518, 0.5896501578782041, 0.09244150492939328, 0.0881030949507575, 0.13882911931634515, 0.03637589905163851, 0.007008200734719346, 0.0770902080819128, 0.060737739700900996, 0.08910426648428882, 0.03871196596321162, 0.09911598181960217, 0.027365355249856494, 0.03737707058516984, 0.1518443492522525, 0.05539815818873388, 0.9831768966408698, 0.0013712369548687167, 0.010969895638949734, 0.0027424739097374334, 0.2296341685667838, 0.0891596352815166, 0.24182145684267453, 0.43810094170702046, 0.0006414362250468821, 0.9771426146227681, 0.05588367866739178, 0.14127393967116642, 0.02414174918431325, 0.36257330719403785, 0.13233255108438374, 0.02011812432026104, 0.08986095529716598, 0.021459332608278443, 0.11310856562280096, 0.03889504035250468, 0.00044706942933913426, 0.015035059789981264, 0.9802858983067784, 0.7430798217143146, 0.2564564294436407, 0.16204643428152857, 0.8372399104545643, 0.9691299759128558, 0.006873262240516708, 0.020619786721550123, 0.9946092473454187, 0.1568703499145874, 0.001254962799316699, 0.7605074563859197, 0.04266873517676777, 0.03388399558155088, 0.0037648883979500974, 0.6516737476252928, 0.019294559515182618, 0.14567392433962875, 0.051130582715233935, 0.0265300193333761, 0.06222495443646394, 0.038589119030365236, 0.004341275890916089, 0.928535113300925, 0.003304395420999733, 0.0671893735603279, 0.014083649855412175, 0.9811609399270482, 0.9883891842173691, 0.01104845992578106, 0.002209691985156212, 0.004419383970312424, 0.002209691985156212, 0.9788935494242019, 0.6866210763582347, 0.00030652726623135474, 0.3123512842897505, 0.00030652726623135474, 0.2901669698322766, 0.19504147736367647, 0.5132670456938855, 0.08570707118261657, 0.9135594632874358, 0.4951193346896206, 0.5043206674581888, 0.0903817786696916, 0.3933352942964261, 0.47479526648799364, 0.041505795354751074, 0.11798145085607835, 0.42947035709352765, 0.10502136723931217, 0.10233997062894676, 0.08178259661614522, 0.0040220949155481255, 0.1099372610249821, 0.04960583729176021, 0.07842739113029452, 0.001985503572918849, 0.7405928326987307, 0.17770256977623697, 0.9908527540560718, 0.9939515248152117, 0.9914237821209633, 0.08687061460869884, 0.592249976325972, 0.0786752736078782, 0.09834409200984774, 0.0016390682001641292, 0.10216858447689738, 0.004370848533771011, 0.03496678827016809, 0.10568812446761928, 0.8545639778381787, 0.03623592838889804, 0.9994113106302194, 0.0019647970995928963, 0.02390503137838024, 0.15816616651722817, 0.021285301912256378, 0.1309864733061931, 0.07793695161718489, 0.08252147818290166, 0.34056483059610204, 0.010478917864495448, 0.0550143187886011, 0.03503888160940666, 0.06221857482044172, 0.07939623121176477, 0.001167591635467129, 0.12960267153685132, 0.10625083882750874, 0.001167591635467129, 0.07122308976349487, 0.5079023614282011, 0.001167591635467129, 0.10158047228564022, 0.03406896319478806, 0.9607447620930233, 0.9571704957358607, 0.0005908459850221362, 0.04195006493657167, 0.957589972181729, 0.030171714431385287, 0.9676499842637138, 0.00858122840409757, 0.9782600380671229, 0.9980993605116576, 0.9938983612572714, 0.0073871424070700974, 0.0018467856017675244, 0.0018467856017675244, 0.986183511343858, 0.13594008987154013, 0.18628827130544387, 0.0025174090716951875, 0.0012587045358475938, 0.6054368817426926, 0.039019840611275405, 0.028950204324494657, 0.9950057872617288, 0.07342598908467939, 0.9259833067901234, 0.0010389783131568558, 0.31481042888652727, 0.5454636144073493, 0.13714513733670497, 0.43965123772273745, 0.5584110536423855, 0.0011995941001984652, 0.002551759220945844, 0.8956674865519911, 0.10079448922736083, 0.12270272733203513, 0.06917469191873121, 0.057645576598942684, 0.5303393047102727, 0.2190531910759822, 0.004483086334901491, 0.001724263974962112, 0.16863301675129455, 0.05483159440379516, 0.05379703601881789, 0.15345949377162796, 0.0693154117934769, 0.05138306645387094, 0.13138891489211293, 0.31036751549318015, 0.0003448527949924224, 0.9842733442678009, 0.9822687882954649, 0.00861639287978478, 0.025262094285253254, 0.15679920590846846, 0.0561863821172012, 0.08449734985067467, 0.00827551364516917, 0.024826540935507506, 0.06271968236338739, 0.34974933984583384, 0.19556345403583983, 0.006533300246186186, 0.02961762778271071, 0.03385427867603425, 0.008060542541912916, 0.10156283602810275, 0.14025344022928476, 0.0016121085083825833, 0.7141640692134844, 0.06777094449312816, 0.8040538485934705, 0.008713407149116477, 0.04017848852092598, 0.03727401947122049, 0.029044690497054926, 0.013070110723674717, 0.26978956861601916, 0.1191427394312781, 0.0704546007213808, 0.0028640081594057238, 0.014892842428909762, 0.0034368097912868684, 0.2789543947261175, 0.04811533707801616, 0.10654110352989292, 0.08534744315029057, 0.0028601045079057153, 0.045761672126491446, 0.0028601045079057153, 0.0028601045079057153, 0.943834487608886, 0.5829651369531659, 0.23171484938832462, 0.18436042580301226, 0.0004597516852942949, 0.9849324055028519, 0.9940251925025919, 0.9932378787693246, 0.9864882835016667, 0.9823103970049206, 0.9659907565064598, 0.02773179205281703, 0.9208113983220857, 0.0009790658142712235, 0.07799890987027414, 0.8815728604217675, 0.11790669860947962, 0.9938983612572714, 0.00988637485708963, 0.9787511108518734, 0.4805332364331384, 0.5179617045975285, 0.9855090659749577, 0.9777604935759716, 0.120253817520581, 0.0074090029752016725, 0.681628273718554, 0.0011398466115694881, 0.15615898578501988, 0.01709769917354232, 0.0011398466115694881, 0.01253831272726437, 0.0017097699173542322, 0.009039848636589258, 0.0007136722607833625, 0.35778769340605904, 0.4748299441745305, 0.15748367887952866, 0.003667353839636504, 0.8214872600785769, 0.051342953754911054, 0.09901855367018561, 0.003667353839636504, 0.01833676919818252, 0.003707937880899454, 0.8639495262495728, 0.003707937880899454, 0.12606988795058144, 0.9697612308666521, 0.9950162763132807, 0.9251049588517921, 0.06869591278602417, 0.03797385660837643, 0.9611314051913208, 0.992863526684484, 0.29411679243704164, 0.0606907666933578, 0.6442558310525675, 0.9686207987947916, 0.0167003585999102, 0.04053168516105083, 0.05836562663191319, 0.06485069625768132, 0.12321632288959453, 0.011348871845094232, 0.03242534812884066, 0.35830009682368935, 0.30966207463042833, 0.03045009404072821, 0.05154937180123279, 0.26326144296629583, 0.11508696960275229, 0.05922183644141628, 0.007432700120177752, 0.18653679656446098, 0.15153117664362384, 0.05130960728122706, 0.08343805296199541, 0.9068028837527897, 0.051976419130149665, 0.03991046468922207, 0.990783100059813, 0.4062118906414483, 0.12438804786873726, 0.10786417435111903, 0.00045899648660050656, 0.36077123846799813, 0.11540332388360063, 0.4059895327761019, 0.049230226809070625, 0.026533174189304298, 0.04315636765730217, 0.0658534202770685, 0.01054933431622942, 0.12467395100998405, 0.04091863007507169, 0.11732138466836961, 0.9948302226415745, 0.023549681149388053, 0.07513469700042855, 0.06915382559740936, 0.21792800174751167, 0.07737752377656075, 0.05457545155255009, 0.15139080738892322, 0.03625903288080383, 0.0007476089253773985, 0.07476089253773985, 0.018690223134434962, 0.009718916029906181, 0.19064027597123662, 0.9918868933089227, 0.00032479833645067136, 0.04059979205633392, 0.07502841572010509, 0.007795160074816113, 0.069182045663993, 0.04319817874793929, 0.15070642811311152, 0.5586531386951548, 0.035403018673123184, 0.01883830351413894, 0.2558318919135636, 0.40166028499773654, 0.3422331074692152, 0.057572679239287855, 0.03310429056259052, 0.8247286301027985, 0.010075218866875376, 0.0014393169809821965, 0.07196584904910983, 0.03993757653037203, 0.008875017006749341, 0.249240060939544, 0.07321889030568207, 0.019229203514623573, 0.025145881519123135, 0.5657823341802706, 0.01701044926293624, 0.9960664213543389, 0.0508305857871827, 0.02072979196907451, 0.3064033634881013, 0.23285519746083697, 0.043163402456155145, 0.006247334566022455, 0.10819247589338887, 0.038619886408138814, 0.031236672830112274, 0.11330393144740725, 0.047990888257172494, 0.9904506142067049, 0.0041441448293167565, 0.1910773036877489, 0.03381489253140768, 0.10260272185899728, 0.11858373271288174, 0.09750732709399064, 0.02107640561889109, 0.03589937220800131, 0.08384240476965467, 0.0018528708236387771, 0.07596770376918986, 0.0442372909143758, 0.02246605873662017, 0.07550448606328017, 0.09542284741739702, 0.011192603555859661, 0.9849491129156501, 0.995599436065865, 0.07505960126671651, 0.9217319035552788, 0.02888290981734889, 0.0169899469513817, 0.16904997216624792, 0.0012742460213536276, 0.027608663795995265, 0.044173862073592425, 0.5640662387858725, 0.050969840854145104, 0.0917457135374612, 0.004247486737845425, 0.048008316173619725, 0.34052410309195386, 0.05135773358108157, 0.32266054358549073, 0.0011164724691539471, 0.0022329449383078942, 0.10159899469300919, 0.12225373537235722, 0.009490015987808551, 0.0002218968531095371, 0.10695428319879688, 0.35902910833123103, 0.049926791949645846, 0.0945280594246628, 0.15199934438003293, 0.10140686187105846, 0.061909222017560855, 0.0002218968531095371, 0.03062176572911612, 0.04282609265014066, 0.9925375756482209, 0.07146393837505727, 0.037993486224714, 0.016282922667734567, 0.024424384001601854, 0.8485211923519459, 0.06229810049131223, 0.06817527978294546, 0.0717015873579254, 0.1763153787489969, 0.009403486866613167, 0.012929794441593104, 0.002350871716653292, 0.5947705443132828, 0.005455068712732031, 0.7937124977025105, 0.0722796604436994, 0.1268303475710197, 0.2536469103918731, 0.01733198336449067, 0.001999844234364308, 0.16632037882463163, 0.07799392514020802, 0.008332684309851283, 0.03466396672898134, 0.2759785043422745, 0.016998675992096618, 0.14632193648098854, 0.32842039171872417, 0.003069349455315179, 0.041129282701223395, 0.5371361546801563, 0.08962500409520323, 0.002781571235615871, 0.10569970695340311, 0.050068282241085685, 0.7899662309149075, 0.019470998649311098, 0.030597283591774584, 0.1189307113641372, 0.16378457965004037, 0.022426934142951587, 0.0027184162597517075, 0.0428150560910894, 0.16038655932535076, 0.05164990893528244, 0.43630580969014904, 0.8784265004805173, 0.11852665264995631, 0.001107725725700526, 0.14213663764049028, 0.07106831882024514, 0.7535692426629442, 0.0036759475251850935, 0.029407580201480748, 0.9923004075449954, 0.7063391096210685, 0.16887058935340876, 0.12398804068805094, 0.9950013893643289, 0.996733448670913, 0.024637648638294842, 0.5232368431149735, 0.45182942079042404, 0.9953153165649629, 0.9960195379600111, 0.1707652381208391, 0.10029069540430233, 0.7277851815150047, 0.10435117329705147, 0.0009317069044379597, 0.6726923850042068, 0.0027951207133138788, 0.09037556973048208, 0.07826337997278861, 0.04938046593521186, 0.29280662088062803, 0.0005927259531996519, 0.0011854519063993038, 0.7047511583543861, 0.0015147541352948017, 0.833114774412141, 0.16359344661183858, 0.9987611988049406, 0.9990488216922153, 0.996150985213679, 0.9843263251538458, 0.0035793684551048937, 0.0071587369102097875, 0.013950329572642929, 0.976523070085005, 0.0046501098575476435, 0.9764711780571674, 0.020485409329870644, 0.9781786796797597, 0.01716102946806596, 0.002149861202668497, 0.8943422603100947, 0.10247671732719835, 0.9954573070759719, 0.2149069897673594, 0.0069324835408825615, 0.7764381565788468, 0.15170025709768234, 0.30128094972493796, 0.1710791322558693, 0.0003027949243466713, 0.36910701277859237, 0.006055898486933426, 0.12911188495370585, 0.012911188495370584, 0.8435309816975448, 0.008607458996913722, 0.9980977929312239, 0.9958983172596703, 0.0033302889451803175, 0.9924261056637346, 0.995766414256966, 0.024455125258806897, 0.7602050366166259, 0.09851921889976493, 0.0838461437444808, 0.032839739633254976, 0.05739273477451331, 0.07822708369950787, 0.26848793048625064, 0.04638590892734637, 0.0483514135429119, 0.19026084678674274, 0.07704778093016855, 0.12421989170374113, 0.06250304677498367, 0.02987567015659597, 0.01297233046273246, 0.004717211077357258, 0.9890495518813964, 0.002511302372613503, 0.9944757395549471, 0.000786425869159714, 0.17694582056093563, 0.580382291439869, 0.059768366056138264, 0.01572851738319428, 0.1336923977571514, 0.033029886504707985, 0.08466344551019996, 0.0318025125266741, 0.0004297636827928932, 0.11259808489173802, 0.04899305983838982, 0.11302784857453091, 0.06962171661244869, 0.20628656774058873, 0.13451603271417556, 0.07177053502641316, 0.022347711505230447, 0.10314328387029437, 0.9823194399661598, 0.9743924125303797, 0.02425607137017241, 0.20375099950944825, 0.01940485709613793, 0.743852855351954, 0.006468285698712643, 0.23430721146940361, 0.0857097808188944, 0.0796238792222865, 0.06187333289884684, 0.01014316932767981, 0.06136617443246285, 0.03448677571411136, 0.0005071584663839905, 0.04564426197455915, 0.0588303821005429, 0.32711721081767386, 0.9802040132835413, 0.006902845163968601, 0.006902845163968601, 0.016126835513517214, 0.9756735485677915, 0.1594691592339578, 0.030717420016377114, 0.8094366955379374, 0.04909745523269823, 0.011330181976776514, 0.9385167404096546, 0.0007275225175536656, 0.9661499033112678, 0.03201099077236128, 0.988848557588728, 0.00046420286518392536, 0.16432781427510956, 0.5050527173201108, 0.05524014095688712, 0.04084985213618543, 0.029244780506587294, 0.06081057533909422, 0.09469738449752077, 0.049205503709496085, 0.1440509571271583, 0.16748324615317603, 0.4782491776621655, 0.08450989484793286, 0.12484416284353718, 0.3996773237083796, 0.5990824960574627, 0.03901056736389453, 0.6478540651503912, 0.0027864690974210376, 0.1044925911532889, 0.13653698577363085, 0.0668752583381049, 0.0027864690974210376, 0.739651973043285, 0.0648598694742847, 0.0498922072879113, 0.0848167523894492, 0.05987064874549356, 0.006509974942481762, 0.9830062163147459, 0.005390736964230567, 0.07367340517781774, 0.12758077482012342, 0.09523635303474001, 0.023359860178332456, 0.6738421205288209, 0.0008793384118974594, 0.04396692059487297, 0.41768574565129324, 0.1389354690797986, 0.06419170406851454, 0.0562776583614374, 0.052760304713847565, 0.045139371810736253, 0.0011724512158632792, 0.08412337473819029, 0.09291675885716488, 0.0011724512158632792, 0.0008793384118974594, 0.002171088463175542, 0.002171088463175542, 0.001085544231587771, 0.9921874276712227, 0.001085544231587771, 0.16019285101706157, 0.08955225351995456, 0.03671086169140994, 0.17910450703990913, 0.024473907794273296, 0.03782331204569509, 0.1240382145027942, 0.3476407357141093, 0.002210276334054042, 0.06557153124360324, 0.6232979262032398, 0.000736758778018014, 0.212186528069188, 0.0950418823643238, 0.05512176815262869, 0.09779668543208316, 0.023115580193037836, 0.761036024816938, 0.014224972426484824, 0.033784309512901456, 0.01244685087317422, 0.008463839641495278, 0.17703531250127622, 0.10509267554856636, 0.01199043949211831, 0.01199043949211831, 0.0007053199701246064, 0.13048419447305218, 0.41966538222414085, 0.10509267554856636, 0.0007053199701246064, 0.02962343874523347, 0.012864273399292117, 0.9776847783462009, 0.0027072345330320983, 0.0006768086332580246, 0.49339349364509993, 0.07106490649209259, 0.019627450364482713, 0.10558214678825184, 0.11641108492038023, 0.08866193095680122, 0.10152129498870369, 0.5396292440232404, 0.023728378105986457, 0.11098757501187215, 0.0773085867324075, 0.03980244069391277, 0.044395030004748856, 0.13165422691063455, 0.006123452414448119, 0.027555535865016533, 0.031051780415873097, 0.0410515063125102, 0.073682190817326, 0.10368136850723729, 0.10078671101084234, 0.3070968452993551, 0.11104958758896989, 0.08762917693631984, 0.00026315068149045, 0.10078671101084234, 0.04289356108294334, 0.0817149937580304, 0.021714473865770318, 0.05714335227834294, 0.2348591778639895, 0.0017143005683502883, 0.04171464716319035, 0.2520021835474924, 0.03771461250370634, 0.047428982391024645, 0.11771530569338647, 0.06628628864287782, 0.03257171079865548, 0.007428635796184583, 0.3062291937961614, 0.435893807385527, 0.01862204556868549, 0.0172426347858199, 0.09173081706056187, 0.04552055583456453, 0.08207494158050271, 0.000689705391432796, 0.004608559850665091, 0.004608559850665091, 0.009217119701330182, 0.963189008789004, 0.013825679551995275, 0.0012364274697344907, 0.030292473008495024, 0.0006182137348672453, 0.937212022058744, 0.029674259273627778, 0.07785432274602831, 0.04411744955608271, 0.14844224203576065, 0.17491271176941028, 0.039446190191321014, 0.004671259364761699, 0.1235288587570316, 0.06851180401650492, 0.058650256468674666, 0.26055246679004146, 0.2762917569581313, 0.013322244046199203, 0.0005792280020086609, 0.0017376840060259829, 0.06950736024103932, 0.004633824016069287, 0.4604862615968855, 0.012743016044190541, 0.1604461565563991, 0.0017783340294460959, 0.0035566680588921917, 0.035566680588921915, 0.9567437078419996, 0.9607927499396925, 0.021635629331975298, 0.01736543933224333, 0.8907736795744882, 0.06581317563866493, 0.00306107793668209, 0.00306107793668209, 0.03673293524018508, 0.008359690834036027, 0.8046202427759676, 0.18391319834879258, 0.003286668255451027, 0.026293346043608216, 0.966280467102602, 0.08603685094646583, 0.9103253906593803, 0.5276947185793539, 0.11597076359945843, 0.01942094127263658, 0.02275024549080285, 0.012762332836304038, 0.08045818527235155, 0.05215909941793824, 0.0005548840363610451, 0.16812986301739666, 0.07695657543598033, 0.9213111143744124, 0.9871355579784818, 0.004490937376844774, 0.9880062229058502, 0.10669755018884704, 0.0045403212846317886, 0.0045403212846317886, 0.029512088350106627, 0.8535804015107763, 0.08060259329880785, 0.07692363675819837, 0.3217414720060297, 0.10836199265067943, 0.18729233297648298, 0.15886403243540967, 0.0658867671363699, 0.9983763400854472, 0.9517399221161414, 0.04287116766288925, 0.0024412411447371335, 0.013426826296054236, 0.2429034939013448, 0.7396960668553515, 0.10030783382049209, 0.8992242678352195, 0.9953040848983974, 0.4285807183846888, 0.05562826141195994, 0.29973479670814407, 0.001573035669746939, 0.17546497879813586, 0.03903988525826495, 0.8806006011312265, 0.09389689406874749, 0.02283978504374939, 0.0012688769468749662, 0.34289833039261053, 0.15068690673932447, 0.0004280878032367172, 0.027397619407149902, 0.47817407621541314, 0.9961422329957291, 0.9900403404223639, 0.9651936492499841, 0.03005793371366732, 0.2676540217761276, 0.22407098419160637, 0.07362332337724209, 0.3560512561989701, 0.000984927403040028, 0.000492463701520014, 0.00246231850760007, 0.04062825537540116, 0.03324129985260094, 0.000492463701520014, 0.10837673446043758, 0.2114109538418395, 0.0053425150790356556, 0.10074457006181521, 0.009158597278346838, 0.04884585215118314, 0.11066638378002429, 0.3403945321785575, 0.0648733973882901, 0.6850128290049733, 0.03894129777289254, 0.2731791040734734, 0.002360078652902578, 0.014167028842488534, 0.1515872086146273, 0.655933435407219, 0.17708786053110667, 0.9982562905831306, 0.0006704206115400475, 0.0013719931848757614, 0.9192354338667602, 0.0782036115379184, 0.9871924448296622, 0.9957433039682284, 0.865055821991699, 0.1333094099839159, 0.0005821371615018162, 0.9915883749861748, 0.005448287774649312, 0.9914828318204415, 0.022847198399509456, 0.0038078663999182426, 0.125659591197302, 0.03807866399918242, 0.675896285985488, 0.04379046359905979, 0.06854159519852837, 0.022847198399509456, 0.16566835130092564, 0.07215520527043799, 0.08658624632452559, 0.12410695306515335, 0.03521174017197374, 0.06407382228014893, 0.04271588152009929, 0.08023658826072705, 0.24763666448814317, 0.03925243166711827, 0.04271588152009929, 0.0680701137765966, 0.054221366491013154, 0.049761600415994756, 0.17956426565205655, 0.16008212964013407, 0.06642704206474771, 0.004225041544754272, 0.08919532150036795, 0.07229515532135086, 0.21571184331273197, 0.04060734373569383, 0.9750711205646813, 0.018751367703166946, 0.22761026342791024, 0.5588586295117566, 0.0006559373585818738, 0.21186776682194527, 0.037634111649628016, 0.029497006428086826, 0.1274813151374787, 0.03526078929334517, 0.1274813151374787, 0.24241792639174806, 0.1664716109906969, 0.02475036171552113, 0.01084947362872159, 0.16511542678710672, 0.03322651298795987, 0.18287875708460313, 0.21383957966133652, 0.12331853060224314, 0.11308571636078041, 0.039356977851779724, 0.042243156227576906, 0.0005247597046903964, 0.043817435341648094, 0.13302658513901547, 0.08396155275046342, 0.02413894641575823, 0.9861851219619825, 0.9984440179805597, 0.18558293872684523, 0.09189058131135054, 0.02972930571837812, 0.1552530409737524, 0.023723385371231025, 0.029128713683663408, 0.009309176538077996, 0.03963907429117082, 0.09519383750228144, 0.1657634015812598, 0.033633153944023726, 0.06576482780126068, 0.07507400433933868, 0.9944593699498989, 0.005389537563396453, 0.9728115301930599, 0.0026947687816982267, 0.016168612690189363, 0.9834325127186812, 0.0012755285508672908, 0.0012755285508672908, 0.012755285508672908, 0.2273054248765092, 0.0004715880184159942, 0.041971333639023486, 0.024994164976047693, 0.043857685712687465, 0.09101648755428689, 0.010374936405151873, 0.34944672164625173, 0.08771537142537493, 0.059891678338831265, 0.06224961843091124, 0.17305190096104062, 0.17745685844004894, 0.5216728214425551, 0.1277437668912409, 0.0026856820478731625, 0.022105229163263723, 0.28261638780696047, 0.22084570070587775, 0.3286861644743232, 0.0010329546337973703, 0.14110160297672078, 0.0004131818535189481, 0.10075382270709095, 0.12848423262647377, 0.000924346997312761, 0.7681323547669043, 0.9956640111295418, 0.0036283035075385496, 0.9905268575580239, 0.07364156013241119, 0.9258817511793446, 0.05804994557424168, 0.042745869013759784, 0.11926625181616926, 0.15567939949455722, 0.044329049347602734, 0.043273595791707434, 0.2728347441989359, 0.01952589078406311, 0.06965993468909001, 0.01002680878100538, 0.043273595791707434, 0.025330885341487277, 0.0960462735864726, 0.0033114525538869427, 0.9934357661660829, 0.03277793534300884, 0.957115712015858, 0.9958953718289588, 0.04163176351795737, 0.0005863628664501037, 0.20698609185688663, 0.7487853804567826, 0.0011727257329002074, 0.9915929939396624, 0.993882841363377, 0.9964838993111783, 0.9958620628025118, 0.0027407981171452015, 0.005481596234290403, 0.9894281202894178, 0.9925771362010916, 0.006213663949501123, 0.8194269333404606, 0.0007767079936876404, 0.13747731488271234, 0.036505275703319094, 0.011611394963747497, 0.876660319762936, 0.10740540341466435, 0.005523706872787444, 0.9445538752466528, 0.04418965498229955, 0.9905967570828382, 0.0928405436163333, 0.047093029370603855, 0.026686049976675515, 0.11436878561432363, 0.10965948267726325, 0.05852990793203622, 0.08095516001327614, 0.04081395878785667, 0.014800666373618354, 0.11795682594732203, 0.08588871547114893, 0.0930647961371457, 0.08342193774221254, 0.015921928977680348, 0.017940201664991943, 0.7835782837815956, 0.11011588916686374, 0.04388676742157613, 0.03670529638895458, 0.0007979412258468387, 0.004787647355081032, 0.014362942065243096, 0.006383529806774709, 0.0046971632118401494, 0.23016099738016732, 0.7632890219240243, 0.9989052599901255, 0.9982756808902673, 0.23972167255744806, 0.0016052790573043397, 0.07330774361689818, 0.5350930191014466, 0.0005350930191014466, 0.003745651133710126, 0.03638632529889837, 0.10862388287759366, 0.0005350930191014466, 0.7026122283751304, 0.2949122379627192, 0.0009244897741778032, 0.00218137894394631, 0.9947087984395172, 0.5521383385465076, 0.20110184529372688, 0.07994874583542659, 0.0003689942115481227, 0.14095578881138288, 0.025337602526304424, 0.03686134896521855, 0.1523138759128842, 0.13840393290714137, 0.028515383161772843, 0.00278198860114857, 0.13005796710369566, 0.41173431296998836, 0.09806509819048709, 0.9931620425390307, 0.06567431161568055, 0.9313811465496514, 0.008411686699151351, 0.051521581032302026, 0.14194721304817903, 0.001051460837393919, 0.08096248447933176, 0.04941865935751419, 0.03154382512181757, 0.5930239122901703, 0.013668990886120945, 0.028389442609635808, 0.9888493768796202, 0.055677485742158674, 0.046769088023413286, 0.8952939707339115, 0.026827708121271533, 0.9696300220973855, 0.09827774137211996, 0.056443297409663494, 0.14774863145470737, 0.023241357756920263, 0.07868859697700147, 0.056775316806190926, 0.1676697952463533, 0.006640387930548646, 0.16036536852274982, 0.043494540945093633, 0.09728168318253767, 0.05113098706522458, 0.012284717671514995, 0.1569213581172733, 0.20252662782010586, 0.01103353299262078, 0.030403513135221702, 0.5575612005604367, 0.0007355688661747187, 0.012259481102911977, 0.013975808457319654, 0.014466187701436133, 0.006712493579816002, 0.07831242509785336, 0.004474995719877335, 0.9084241311350989, 0.9929892326039657, 0.7153864106494969, 0.00020197244795299178, 0.221159830508526, 0.06281343131338045, 0.00020197244795299178, 0.7450387066186314, 0.01087993031887525, 0.16745631882094952, 0.01371817301075575, 0.061495258324077505, 0.00047304044864675005, 0.42336564315902175, 0.5761184484746396, 0.0005901742855885709, 0.004131219999119996, 0.6686674655718509, 0.04131219999119996, 0.20951187138394267, 0.010032962855005705, 0.06550934570033137, 0.8845614967608755, 0.11462146294041729, 0.09952899835530907, 0.09613596432046898, 0.6303503229169574, 0.06654116746103049, 0.005089551052260123, 0.0030160302531911836, 0.022997230680582775, 0.019792698536567142, 0.02186621933563608, 0.03449584602087417, 0.00037700378164889795, 0.9935620142726248, 0.15312179366894849, 0.7451927291888826, 0.10072011316890833, 0.738950053553868, 0.0007244608368175176, 0.13402525481124075, 0.08476191790764956, 0.04129426769859851, 0.00080104424232483, 0.5188096542790482, 0.3914436197494003, 0.08864889615061453, 0.9985542477397807, 0.0007576284125491509, 0.9120934706231757, 0.014987451395216502, 0.07065512800602065, 0.989986702058665, 0.9916325759199263, 0.9890072517165435, 0.9919299079227507, 0.13584214225947658, 0.03223372867174021, 0.3016156039998548, 0.5295541138928749, 0.04184820813650541, 0.0213343806186106, 0.04225848468686331, 0.0073849779064421315, 0.4648433315554964, 0.0004102765503578962, 0.04882290949258965, 0.008205531007157924, 0.060310652902610735, 0.06646480115797918, 0.04841263294223175, 0.18954776626534803, 0.0039066147255838604, 0.9922801402983006, 0.9905453133721184, 0.17407335846295996, 0.4306125421058561, 0.19616581971208835, 0.14721959091014009, 0.0001904522521476586, 0.05161256033201548, 0.9261048794642832, 0.07334131116269041, 0.9698094914923387, 0.016437449008344724, 0.7933144126054265, 0.03259107306294838, 0.09697831496779762, 0.0007949042210475215, 0.07551590099951454, 0.9934732684513807, 0.005223308456631865, 0.9978470122874341, 0.9956176462489643, 0.9989880831516489, 0.9832275086667, 0.0013272137447984868, 0.0013272137447984868, 0.9887742398748727, 0.006636068723992434, 0.1047887538801207, 0.051990307195021325, 0.02990116113288791, 0.10694379252032883, 0.08808720441850763, 0.0686918566566344, 0.0002693798300260172, 0.09320542118900196, 0.030439920792939945, 0.2785387442469018, 0.1470813871942054, 0.045324271598467115, 0.0016187239856595397, 0.9437160836395118, 0.008093619928297699, 0.5446761719167605, 0.2687870376961346, 0.09997566646014763, 0.08577147341116491, 0.2577136716050758, 0.013015842000256354, 0.048158615400948505, 0.6221572476122537, 0.053364952201051044, 0.005206336800102541, 0.9892713183265467, 0.0022820560976390927, 0.006846168292917278, 0.6380842660925061, 0.00029554620939903017, 0.29525066318963117, 0.06590680469598373, 0.27206897514088235, 0.7263728298572614, 0.000855562814908435, 0.10162855429257203, 0.8772148896832533, 0.014709396016030163, 0.0026744356392782113, 0.0026744356392782113, 0.9980008254963124, 0.12743203110023374, 0.15446306800028334, 0.005346798507702115, 0.38081087149300624, 0.05851773922318426, 0.09950986111556714, 0.11436207919251747, 0.05970591666934029, 0.0013977043661629527, 0.07547603577279943, 0.5856381294222771, 0.11740716675768802, 0.2180418811214206, 0.4868016432805281, 0.47693053205072017, 0.0358477197293025, 0.901809102462277, 0.09720587245743746, 0.2807629725946956, 0.026918789318762765, 0.11090541199330259, 0.03741711715308024, 0.02180421934819784, 0.0535683907443379, 0.04979976023971111, 0.0837174347813522, 0.07106560380153369, 0.010767515727505105, 0.2533058074895576, 0.9890495518813964, 0.6698577633409531, 0.0040527263123480315, 0.0914758224787127, 0.23390020431265782, 0.0005789609017640045, 0.006818359298944807, 0.9909348847799785, 0.9934921612147384, 0.006287639507114244, 0.9871594026169364, 0.005615832846892785, 0.9771549153593447, 0.014039582117231964, 0.8990169808194087, 0.0011660401826451474, 0.0011660401826451474, 0.09678133515954723, 0.11557747873185462, 0.0811308576196156, 0.0226622507317362, 0.3798193222638987, 0.06390754706349608, 0.13869297447822554, 0.10243337330744763, 0.01812980058538896, 0.07115946729765167, 0.000906490029269448, 0.00453245014634724, 0.9923866300797951, 0.9983062672557788, 0.991645456315136, 0.004958227281575679, 0.92468620244541, 0.0028672440385904188, 0.06594661288757964, 0.0028672440385904188, 0.0028672440385904188, 0.9964390542292102, 0.9950869260250105, 0.023021604154008123, 0.07545970250480441, 0.007673868051336042, 0.38369340256680207, 0.5103122254138468, 0.9384716810458549, 0.05943193267300701, 0.9969933133086784, 0.08785998838474825, 0.024330458321930284, 0.8867100366214593, 0.11678276723965339, 0.6650129801146929, 0.005406609594428398, 0.11786408915853906, 0.006487931513314077, 0.08650575351085436, 0.15121496397232403, 0.05850578963214918, 0.15211505304358786, 0.0036003562850553342, 0.0009000890712638336, 0.4383433777054869, 0.19441923939298805, 0.31974874715168145, 0.000551290943364968, 0.06615491320379616, 0.07387298641090571, 0.15601533697228595, 0.3831472056386528, 0.972861022838833, 0.02635602580884671, 0.21290233511597909, 0.0007713852721593445, 0.00848523799375279, 0.07251021558297839, 0.705046138753641, 0.12065578174338248, 0.8778748257880588, 0.13854317605713476, 0.0011642283702280234, 0.8592005372282812, 0.2729510758844793, 0.11987014929527515, 0.030097266922623198, 0.009859449509135185, 0.09029180076786959, 0.029059430132187914, 0.025945919760882067, 0.014010796670876315, 0.017124307042182162, 0.061232370635681675, 0.27917809662709103, 0.05033508433611121, 0.05510008994650328, 0.14273960308976047, 0.17658060321438454, 0.03557643602845094, 0.03904730783610469, 0.3631399628757736, 0.05379851301863313, 0.11106789784492001, 0.022560666749749377, 0.9335800774976699, 0.06425449926097324, 0.9950892760265655, 0.9910251152341035, 0.12467503614797987, 0.15245588659399711, 0.10570274803850467, 0.02981359560060388, 0.07521157071970525, 0.025748105291430623, 0.03980792594398814, 0.17786520102632997, 0.13348359848452193, 0.10350060745436915, 0.03150754989609274, 0.0003387908590977714, 0.2876503285140646, 0.023606561914528097, 0.016612025050964218, 0.09180329633427593, 0.06557378309591139, 0.5140984594719452, 0.009231305370764714, 0.34540467595611307, 0.3815606219916082, 0.0007692754475637261, 0.2630922030667944, 0.003081637159443859, 0.07483975958649372, 0.3733183301726275, 0.0004402338799205513, 0.39841166132809896, 0.04666479127157844, 0.103014727901409, 0.0567155266908485, 0.9411711726535399, 0.10999358118664855, 0.16111331343527371, 0.2837432329305712, 0.05715071189593488, 0.033313982813710785, 0.048822216192507185, 0.1025266540042651, 0.010626011759545683, 0.17690873632108486, 0.0155082333787964, 0.9978327762028845, 0.9898255148113606, 0.9799316859125987, 0.10060433297195907, 0.8945628526425551, 0.7195860127052801, 0.2796954609527704, 0.003698660835595506, 0.003698660835595506, 0.9875424431040001, 0.002708511333455027, 0.11646598733856615, 0.7854682867019578, 0.0812553400036508, 0.002708511333455027, 0.005417022666910054, 0.02710943198952901, 0.006777357997382253, 0.9556074776308976, 0.9942045003581998, 0.6429155841874808, 0.3024760052906591, 0.05423367658023227, 0.021940431335607476, 0.0016877254873544213, 0.0016877254873544213, 0.010126352924126529, 0.18396207812163193, 0.7797291751577426, 0.003599806081996904, 0.07199612163993808, 0.9215503569912075, 0.06642244207170626, 0.04608904143751046, 0.0013555600422797195, 0.1802894856232027, 0.7035356619431744, 0.9972552731752554, 0.9895547012022994, 0.007937604555098659, 0.056183352949010286, 0.9426318105889504, 0.09936898553097784, 0.029662383740590402, 0.00148311918702952, 0.6748192300984316, 0.0444935756108856, 0.12903136927156825, 0.01928054943138376, 0.650650410191468, 0.017355820070311834, 0.27865733335111775, 0.05303167243706393, 0.20916433232182566, 0.001230378425422504, 0.0947391387575328, 0.5290627229316767, 0.0639796781219702, 0.09966065245922281, 0.9817899174444037, 0.9852713406484304, 0.9535022421029878, 0.04316265293470316, 0.0013079591798394895, 0.005677815350130756, 0.018452899887924958, 0.0007097269187663445, 0.044003068963513366, 0.035486345938317225, 0.6841767496907561, 0.027679349831887436, 0.06742405728280274, 0.11355630700261513, 0.002838907675065378, 0.2334668329322854, 0.04265259447801368, 0.10101930271108503, 0.049387214658752676, 0.5724427153628151, 0.43780044581942573, 0.12066584725765091, 0.4401209428820729, 0.00719967585180397, 0.03455844408865905, 0.02591883306649429, 0.0057597406814431755, 0.0719967585180397, 0.11375487845850273, 0.7401266775654481, 0.05127299428310047, 0.02861748518126538, 0.11059465627343183, 0.14159693188646932, 0.03606995528055324, 0.17170491108759228, 0.09449732085897006, 0.04292622777189807, 0.16872392304787712, 0.06349504524593257, 0.09062203640734037, 0.9781030870541826, 0.8591761595738585, 0.0007330854603872513, 0.07330854603872514, 0.0036654273019362566, 0.04251895670246058, 0.00586468368309801, 0.014661709207745026, 0.9974245940675448, 0.9981570578717737, 0.9976814477773437, 0.022455206118641827, 0.7129527942668781, 0.08216564057048487, 0.01837244136979786, 0.0392966107076232, 0.0392966107076232, 0.06736561835592549, 0.017862095776192365, 0.07031605599655436, 0.032345385758415, 0.6724223983441926, 0.11210388356022094, 0.02491197412449354, 0.018282174559104133, 0.028528228432887767, 0.004018060342660249, 0.03676525213534128, 0.14799357414721537, 0.049331191382405125, 0.02752161203439444, 0.036868574612113306, 0.05192756987621592, 0.2991028024870037, 0.05867815396012399, 0.034272196118302505, 0.08671904169328058, 0.06387091094774558, 0.14435864425588027, 0.997048983343991, 0.8167823415051707, 0.1779759187715547, 0.003178141406634905, 0.0004064561502758263, 0.9990692173779812, 0.0015534359130605728, 0.034175590087332605, 0.0031068718261211456, 0.9592466763149038, 0.0007767179565302864, 0.9927482193553964, 0.009538006674907182, 0.9824146875154397, 0.012279761340660037, 0.982380907252803, 0.15097683619867208, 0.05288454149332017, 0.042222335547086265, 0.07591490633718541, 0.03710447669289399, 0.27337896046143734, 0.01791250598967296, 0.059281865061060514, 0.03028066488730429, 0.012794647135480685, 0.02217738836816652, 0.2247593013466107, 0.012675070563286553, 0.0015843838204108191, 0.9823179686547079, 0.0015843838204108191, 0.2341191163009167, 0.6812338196124418, 0.08449411716123309, 0.9985806661450768, 0.9764682525595367, 0.02249162105091013, 0.9751724269930321, 0.0005739166788792014, 0.7357611823231361, 0.0005739166788792014, 0.256540755459003, 0.0005739166788792014, 0.005165250109912812, 0.9542658145739629, 0.04337571884427104, 0.07735385736911547, 0.0009100453808131233, 0.4586628719298141, 0.2029401199213265, 0.03640181523252493, 0.1574378508806703, 0.007280363046504986, 0.05733285899122676, 0.9851336969168805, 0.9940477883933988, 0.0030082724084542815, 0.9626471707053701, 0.0030082724084542815, 0.027074451676088535, 0.0011475366741602665, 0.7619643516424169, 0.14229454759587304, 0.08950786058450079, 0.0034426100224807994, 0.12084530732789996, 0.16817638603132745, 0.7109732247791448, 0.0005886736530655621, 0.0011773473061311242, 0.10713860485793229, 0.044739197632982716, 0.6369448926169381, 0.20897914683827454, 0.0611748531197539, 0.8670870485669466, 0.0691541817875479, 0.004766266345753889, 0.9866171335710551, 0.9961600379199027, 0.002802728165358787, 0.014013640826793934, 0.9809548578755753, 0.9701705825343662, 0.0291896137262913, 0.001912736965798432, 0.001912736965798432, 0.021040106623782754, 0.973583115591402, 0.005569357257430165, 0.9885609131938543, 0.0027846786287150827, 0.7277834890175636, 0.27198094306068743, 0.017112194844685534, 0.0017112194844685533, 0.26866145906156286, 0.7118673055389182, 0.9882005158041715, 0.008823218891108674, 0.16766754205151982, 0.021660400169335094, 0.8094571766984856, 0.09086317416606485, 0.741252210302108, 0.03825817859623783, 0.1267302166000378, 0.4429328236202773, 0.03028255403055679, 0.12113021612222716, 0.22409089982612024, 0.14091481808885759, 0.003230139096592724, 0.023822275837371343, 0.013324323773444988, 0.8428053594566678, 0.09084129622886239, 0.06459825509607993, 0.20037609027497102, 0.794970358156135, 0.002178000981249685, 0.9882417921319908, 0.005383850514772728, 0.9879365694607956, 0.002691925257386364, 0.9944593699498989, 0.998216236973382, 0.024370231321534166, 0.028751396502933565, 0.24096408497696703, 0.06462218642564116, 0.0008214684715123876, 0.0043811651813994, 0.3817090164294228, 0.25383375769732774, 0.9975472333027658, 0.9803649534070189, 0.005173429833282422, 0.010346859666564843, 0.03527213901633962, 0.0544198716252097, 0.21028913356408194, 0.41822679119374123, 0.01108552940513531, 0.06248207482894447, 0.06516947589685607, 0.14176040633233639, 0.0006718502669778976, 0.019072758109039977, 0.002384094763629997, 0.9750947583246689, 0.005949656597073438, 0.5562928918263664, 0.43729975988489767, 0.9926498010910093, 0.9931620425390307, 0.5439370891400169, 0.4559110709879993, 0.9961198204652508, 0.3690196786881146, 0.0005694748127903003, 0.6298391429460721, 0.9712923461901938, 0.040704345228253815, 0.8059460355194256, 0.04680999701249189, 0.10379608033204724, 0.09770892153030852, 0.21468439096800182, 0.0018349093245128361, 0.04266164179492344, 0.3633120462535416, 0.030734731185590006, 0.18532584177579645, 0.06330437169569285, 0.00045872733112820903, 0.1533819280282926, 0.02847807784238657, 0.5320904017919597, 0.01998461602974496, 0.019485000629001336, 0.06644884829890199, 0.12940038879259863, 0.049961540074362404, 0.00593746806538833, 0.01187493613077666, 0.9559323585275211, 0.017812404196164987, 0.9893037629980151, 0.9931783407900593, 0.08882554675392675, 0.06538547191608497, 0.16654790016361265, 0.6791453262227316, 0.9872117632597729, 0.991366091156228, 0.9971813984497945, 0.02117170422271446, 0.05645787792723856, 0.00352861737045241, 0.9174405163176266, 0.02425820933112183, 0.1503142613910585, 0.46610416500512664, 0.002165911547421592, 0.08100509187356754, 0.04288504863894752, 0.06281143487522617, 0.006064552332780458, 0.1459824382962153, 0.01862683930782569, 0.8819051700349028, 0.06570485538339507, 0.005840431589635118, 0.02336172635854047, 0.005840431589635118, 0.0014601078974087794, 0.014601078974087793, 0.9989193192352531, 0.08383219539388664, 0.04717997973330365, 0.11580540479992714, 0.14543911107869636, 0.06745567350298787, 0.035872381284825915, 0.0007798343757570851, 0.08734145008479353, 0.028463954715133608, 0.0658960047514737, 0.061996832872688264, 0.23940915335742513, 0.020665610957562756, 0.9931620425390307, 0.12931326763523018, 0.048572894061989454, 0.33293341294145085, 0.04953791844732699, 0.03506255266726391, 0.0006433495902250258, 0.1769211373118821, 0.07076845492475284, 0.11355120267471706, 0.04213939815973919, 0.9985013421279284, 0.13622357017023032, 0.003967676801074669, 0.3002208779479833, 0.5554747521504537, 0.002645117867383113, 0.8960582463373706, 0.09515662792963227, 0.003964859497068011, 0.997215471524457, 0.19224329355974704, 0.11098581896232818, 0.0006606298747757629, 0.07531180572443698, 0.0013212597495515259, 0.28605273577790535, 0.22065037817510483, 0.001981889624327289, 0.11032518908755241, 0.01552426114955487, 0.06209704459821948, 0.11643195862166152, 0.8053210471331589, 0.9833876143432235, 0.11050264000456173, 0.026310152382038505, 0.007893045714611552, 0.8524489371780476, 0.06431354817659668, 0.9332027092563315, 0.0009093597208056099, 0.6692887545129288, 0.04364926659866927, 0.2855389523329615, 0.028932245611500755, 0.964975485983584, 0.00340379360135303, 0.989249025188861, 0.006887900876448325, 0.9884137757703347, 0.9932298497596616, 0.008875840167373377, 0.9452769778252645, 0.002218960041843344, 0.04326972081594521, 0.9901241506527458, 0.00870712192785078, 0.9900331501079501, 0.004243667946296444, 0.2885694203481582, 0.033949343570371555, 0.5495549990453895, 0.05092401535555733, 0.07214235508703955, 0.28423178752562656, 0.7141146900519473, 0.09892863242255069, 0.19019827394787164, 0.11297011573413854, 0.06765441959219595, 0.13722358690869935, 0.07276041352368244, 0.3191246207179055, 0.0012764984828716219, 0.8914537612867314, 0.10583469312079916, 0.9957585461147082, 0.017154826662963994, 0.9675322237911692, 0.010292895997778396, 0.008000013407724021, 0.004000006703862011, 0.9840016491500547, 0.8555761724553634, 0.02021046076666213, 0.11228033759256738, 0.00898242700740539, 0.9988951258380983, 0.9974964652256961, 0.001597698556154345, 0.9943490561104529, 0.001988698112220906, 0.9957215504257882, 0.014595036440089306, 0.9778674414859835, 0.03121817862985383, 0.03800473920156119, 0.8673224410641999, 0.050220548230634425, 0.0013573121143414708, 0.009501184800390297, 0.02472109751701029, 0.02126014386462885, 0.09295132666395868, 0.4494295528592471, 0.055869680388443255, 0.04499239748095873, 0.11569473637960816, 0.19430782648370087, 0.0004644475773416468, 0.7960631475635827, 0.05573370928099762, 0.002322237886708234, 0.14490764413059382, 0.0006418913529181477, 0.19128362316960804, 0.0006418913529181477, 0.28050652122523057, 0.5269928007457992, 0.03203337034737355, 0.920611208678866, 0.04596092267231858, 0.0030994305561012456, 0.03719316667321495, 0.004649145834151869, 0.13017608335625233, 0.8105010904204758, 0.012397722224404982, 0.961496852397572, 0.038317955741305455, 0.9940489238016134, 0.9188048928078736, 0.022807213651259275, 0.055388947438772526, 0.006801088295302241, 0.1718820496449112, 0.5595440824771389, 0.26153275899207706, 0.8764336063035425, 0.03934748992818221, 0.06219441956390092, 0.020943018832742147, 0.2888920254308188, 0.5631971382475199, 0.0007115567128837902, 0.0003557783564418951, 0.0003557783564418951, 0.145869126141177, 0.1755205501239427, 0.00354586969947359, 0.8190959005783992, 0.0011673493107347682, 0.37588647805659536, 0.619862484000162, 0.0011673493107347682, 0.0021570020394207734, 0.9943779401729765, 0.991462367561337, 0.9890976546450075, 0.004643650960774683, 0.0051882567589795585, 0.985768784206116, 0.019267221814285588, 0.6073912712929702, 0.12192045279203666, 0.2507897396810288, 0.10670674011925715, 0.3191588983747151, 0.06697209815292716, 0.04325948923753668, 0.07017650476311507, 0.04454125188161184, 0.01185630445769524, 0.020187761644183788, 0.2707723585608778, 0.010254101152601289, 0.017624236356033465, 0.018585558339089835, 0.061000951294384986, 0.32702013739019925, 0.044489415605679275, 0.09906921413223427, 0.007338460306091427, 0.2683124549414678, 0.13300959304790713, 0.06008364375612356, 0.9051425164919366, 0.026662052978236803, 0.0177747019854912, 0.025978410594179446, 0.023927483442007385, 0.46584847689726866, 0.47966601646625545, 0.04638745426731277, 0.006908769784493392, 0.0037043285905539207, 0.12372457492450095, 0.19855201245369017, 0.1452096807497137, 0.4719314624365695, 0.005926925744886274, 0.048897137395311756, 0.0014817314362215684, 0.01836931946570767, 0.9789316498600045, 0.0015307766221423057, 0.9878679733739991, 0.12101707185168824, 0.875692978260133, 0.99526375753252, 0.9965919728229837, 0.0026658724194997337, 0.6492905892119776, 0.19450731013031225, 0.008862443387232452, 0.02145644188487857, 0.025187996995292235, 0.0760304353746784, 0.024721552606490525, 0.9962077279469563, 0.9873118095102071, 0.011217665526955535, 0.10095898974259981, 0.8712386892602132, 0.011217665526955535, 0.987676101516827, 0.9753747277827555, 0.999709021395052, 0.9924990624290193, 0.9910793088866735, 0.005342745600467242, 0.9975075182709456, 0.06509914442125575, 0.9314185278733514, 0.9887068380254836, 0.09570903241945117, 0.19194978168567706, 0.16270535511306697, 0.02445897495163752, 0.2929759825728755, 0.06540117215329162, 0.16642737304049007, 0.9982941055131362, 0.10333750824656249, 0.41883324770953695, 0.09237107879998852, 0.041335003298624995, 0.278378593643801, 0.02488535912876403, 0.040913217550679844, 0.005234404663186923, 0.9893024813423285, 0.9861510744475258, 0.9614771897269945, 0.9986164882636445, 0.9887239950662451, 0.005203810500348658, 0.9857540470710935, 0.9936978897683878, 0.9866636046519465, 0.2995629737069515, 0.003915855865450346, 0.6950644161174364, 0.9961111402408929, 0.005756389320540989, 0.9843425738125091, 0.9988037464072358, 0.972031127389636, 0.9995779725028487, 0.9987068317919905, 0.9922767089438073, 0.999034425066411, 0.9984195384200457, 0.9971402238920819, 0.9908848875541819, 0.9889780202530422, 0.9956021079034025, 0.9853137813986884, 0.9987620918752674, 0.9989690799547879, 0.9947566540951195, 0.9901615721589477, 0.9972685388680749, 0.9994290534520679, 0.9909739180999959, 0.9786055971035165, 0.01806656486960338, 0.9954103813298038, 0.9953761815951584, 0.9981055015094665, 0.08057267108249176, 0.905747957685942, 0.0013891839841808926, 0.01111347187344714, 0.981677647454438, 0.9943654622136192, 0.9870690543537366, 0.9835237906970763, 0.24353724467654037, 0.6892803478573623, 0.028931970320581164, 0.03783411503460614, 0.9938668828172595, 0.995682046999405, 0.15740991356294692, 0.6133342448787334, 0.22890286235249255, 0.9937826287479983, 0.9988588610022165, 0.9891227068447332, 0.993268399557196, 0.9884909615273207, 0.9942581360607188, 0.9921706525357336, 0.992389607310072, 0.008073654691594424, 0.9849858723745197, 0.990190966933931, 0.9751875320689726, 0.9957171067399135, 0.0021883892455822275, 0.9880219054785672, 0.9856477952453355, 0.9827190488336187, 0.9959744924578103, 0.9972245241292611, 0.9962215874994881, 0.9988438728640855, 0.9974277688631915, 0.9807379704609802, 0.9881918132060199, 0.9957940130953433, 0.9937824502595611, 0.0023774699766975146, 0.1356511450293, 0.011899223248184211, 0.7579805209093342, 0.0035697669744552633, 0.0011899223248184212, 0.03093798044527895, 0.05830619391610264, 0.9924905742425578, 0.010131959195597546, 0.9861773617048278, 0.9740657495441715, 0.9975634131873048, 0.9996194633011741, 0.9946123140554584, 0.9939822500466903, 0.9904515013158536, 0.9939886905835011, 0.9949474752423498, 0.001966299358186462, 0.998166988996344, 0.9985692465871739, 0.9965901550611885, 0.9841633235584295, 0.9931209767991434, 0.996370042224272, 0.9942336455196259, 0.9897400911340691, 0.9978367244699549, 0.009800179498838723, 0.9849180396332916, 0.9937910905873868, 0.9909172113090711, 0.9555059443310798, 0.9922730197680086, 0.9837996278371045, 0.9969684180167455, 0.9949976231306236, 0.4411465957095147, 0.5583531912362583, 0.9989221492754602, 0.0004555048560307616, 0.9941290402157065, 0.991102741191158, 0.0036843968074020744, 0.9902118019641447, 0.9905967570828382, 0.9966933925892927, 0.001859502598114352, 0.9945105306878891, 0.9772629472354591, 0.9893833411130197, 0.9977689047683915, 0.957589972181729, 0.9690270273616385, 0.023072072080039013, 0.991931428051071, 0.988480883896817, 0.9555059443310798, 0.9960281056220854, 0.9956079224413148, 0.9807681712940453, 0.9966487465292994, 0.9790237697242579, 0.9891794897099512, 0.9989368549786678, 0.9978950967968037, 0.9918097580035944, 0.011225970430626488, 0.9841434077515888, 0.9976745571960538, 0.9973164623655797, 0.9957616081832806, 0.9986580254759557, 0.9859182435398918, 0.005833835760591075, 0.995470139420243, 0.9812486286325945, 0.992897497745506, 0.9827190488336187, 0.9923749273575291, 0.991805531185027, 0.994960690043414, 0.9995666976135191, 0.9861674473229146, 0.9900330598309832, 0.23431552804338582, 0.765430724941727, 0.9918753233203926, 0.9976774495831316, 0.9983122239683914, 0.9689119663892751, 0.02306933253307798, 0.9062962593717957, 0.09062962593717958, 0.9873086292092761, 0.9975893961333766, 0.9843092018504365, 0.9849705717024635, 0.007649390436044047, 0.007649390436044047, 0.007649390436044047, 0.9638231949415499, 0.9936324663371827, 0.9923748055964436, 0.9908727343250245, 0.01002619871454289, 0.003342066238180963, 0.003342066238180963, 0.07686752347816216, 0.905699950547041, 0.0030394668242879337, 0.027355201418591404, 0.9665504501235629, 0.008787059110265817, 0.8312557918311462, 0.1581670639847847, 0.9989710408721917, 0.00041797951500928524, 0.0038632680459430697, 0.06567555678103218, 0.9271843310263367, 0.06766128078386924, 0.1149668372641168, 0.00028670034230453067, 0.038991246553416174, 0.11726044000255305, 0.0719617859184372, 0.18176801702107245, 0.20671094680156663, 0.023796128411276044, 0.14879747765605142, 0.028096633545844005, 0.9908848875541819, 0.4643127367308726, 0.5347041720370107, 0.993506171531921, 0.9916885385762779, 0.007061398308196484, 0.007061398308196484, 0.9744729665311148, 0.7775534452674069, 0.22093478951430726, 0.9924711912752604, 0.9927919240587615, 0.9931620425390307, 0.9889780202530422, 0.9873459630291836, 0.007368253455441669, 0.9929173532228206, 0.9927696502844974, 0.9949147893856565, 0.9906018594697842, 0.9991239283122503, 0.9909823070989948, 0.9892899898086148, 0.9951288634261285, 0.9991071426159823, 0.9937831655630224, 0.987803179271846, 0.9886525412392828, 0.005991833583268381, 0.9804078277167123, 0.9957820101546134, 0.0007497977579723615, 0.9979808158612132, 0.9986386978792652, 0.9595782365065509, 0.9841818260665023, 0.9945826232450959, 0.9976819732247376, 0.9945836278165036, 0.9781030870541826, 0.9880892103054185, 0.9952561977053149, 0.9910728451873396, 0.98533009699978, 0.9195363444049419, 0.07623099228227498, 0.9959440182161691, 0.9725834910996467, 0.008933028620892278, 0.017866057241784555, 0.989986702058665, 0.9939985287506039, 0.9987596376214997, 0.9968903900344165, 0.9945459627598094, 0.8301536307402212, 0.16914658427950888, 0.9792137027195484, 0.010200142736661963, 0.9595782365065509, 0.998216236973382, 0.9960818760644173, 0.019999907324171753, 0.9781772854913093, 0.0009090866965532614, 0.980155537551422, 0.9845689114481271, 0.9974372594486319, 0.0010014430315749316, 0.9919988741341308, 0.9897566951167657, 0.9868994026163308, 0.9931620425390307, 0.9882932479576559, 0.006376085470694555, 0.9881527794167781, 0.05220094021599373, 0.1239772330129851, 0.48687415393763384, 0.1771820374639018, 0.013552167171459911, 0.1450583819463672, 0.3078685802584498, 0.6890392034355782, 0.001221700715311309, 0.9799316859125987, 0.9829499723133222, 0.013019204931302281, 0.08557643679942252, 0.0027275358342445425, 0.5431205729939446, 0.21649815684316057, 0.03170760407309281, 0.0003409419792805678, 0.09785034805352297, 0.02182028667395634, 0.994508306273649, 0.9941324817475202, 0.9823946990994858, 0.9978834703403185, 0.9960025854319212, 0.9891085794471313, 0.9934195463939589, 0.963292717323439, 0.9868752629632526, 0.017429036583805176, 0.017429036583805176, 0.9585970121092847, 0.9309777840854321, 0.042317172003883276, 0.010579293000970819, 0.9820190872253877], \"Term\": [\"abortion\", \"accident\", \"accident\", \"accident\", \"accident\", \"accident\", \"acquisition\", \"actor\", \"actress\", \"add\", \"add\", \"add\", \"add\", \"add\", \"add\", \"add\", \"add\", \"add\", \"african\", \"african\", \"age\", \"age\", \"age\", \"age\", \"age\", \"age\", \"age\", \"age\", \"age\", \"agent\", \"agent\", \"agent\", \"agent\", \"agent\", \"agent\", \"aging\", \"aging\", \"aging\", \"aging\", \"ago\", \"ago\", \"ago\", \"ago\", \"ago\", \"ago\", \"ago\", \"ago\", \"ago\", \"ago\", \"ago\", \"ago\", \"ago\", \"ago\", \"agreement\", \"agreement\", \"agreement\", \"agreement\", \"air\", \"air\", \"air\", \"air\", \"air\", \"air\", \"airline\", \"airline\", \"airlines\", \"album\", \"album\", \"american\", \"american\", \"american\", \"american\", \"american\", \"american\", \"american\", \"american\", \"american\", \"analyst\", \"analyst\", \"analyst\", \"analyst\", \"andya\", \"antiques\", \"applicant\", \"area\", \"area\", \"area\", \"area\", \"area\", \"area\", \"army\", \"army\", \"arrest\", \"arrest\", \"arrest\", \"arrested\", \"arrested\", \"arrested\", \"art\", \"art\", \"art\", \"art\", \"artd\", \"asked\", \"asked\", \"asked\", \"asked\", \"asked\", \"asked\", \"asked\", \"asked\", \"asked\", \"assistant\", \"assistant\", \"assistant\", \"assistant\", \"assistant\", \"assistant\", \"asylum\", \"athletes\", \"attack\", \"attack\", \"attack\", \"attack\", \"attack\", \"attack\", \"attorney\", \"attorney\", \"audience\", \"audience\", \"audience\", \"audience\", \"audio\", \"audio\", \"audit\", \"austin\", \"avalanche\", \"award\", \"award\", \"award\", \"award\", \"award\", \"award\", \"baby\", \"baby\", \"baby\", \"baby\", \"baby\", \"baby\", \"bag\", \"bag\", \"bag\", \"bag\", \"bag\", \"ball\", \"ball\", \"ball\", \"ballot\", \"band\", \"band\", \"band\", \"band\", \"baseball\", \"baseball\", \"baseball\", \"beat\", \"beat\", \"beat\", \"beat\", \"beat\", \"beat\", \"belief\", \"belief\", \"belief\", \"belief\", \"belief\", \"benefit\", \"benefit\", \"benefit\", \"benefit\", \"benefit\", \"benefit\", \"benefit\", \"bill\", \"bill\", \"bill\", \"billion\", \"billion\", \"bishop\", \"black\", \"black\", \"black\", \"black\", \"blood\", \"blood\", \"blood\", \"blood\", \"blood\", \"boat\", \"boat\", \"bonfire\", \"book\", \"book\", \"book\", \"book\", \"book\", \"book\", \"book\", \"bookstores\", \"border\", \"border\", \"border\", \"born\", \"born\", \"born\", \"born\", \"bowl\", \"bowl\", \"bowl\", \"boy\", \"boy\", \"boy\", \"boy\", \"boy\", \"boycott\", \"brain\", \"brain\", \"brain\", \"brain\", \"brand\", \"brand\", \"brand\", \"brand\", \"brand\", \"braves\", \"bread\", \"brother\", \"brother\", \"brother\", \"brother\", \"brother\", \"brother\", \"browser\", \"buccaneer\", \"building\", \"building\", \"building\", \"building\", \"building\", \"building\", \"building\", \"built\", \"built\", \"built\", \"built\", \"built\", \"built\", \"built\", \"business\", \"business\", \"business\", \"business\", \"business\", \"business\", \"business\", \"butter\", \"butter\", \"cab\", \"called\", \"called\", \"called\", \"called\", \"called\", \"called\", \"called\", \"called\", \"called\", \"called\", \"called\", \"called\", \"called\", \"called\", \"calories\", \"campaign\", \"campaign\", \"campaign\", \"campaigning\", \"canal\", \"cancer\", \"cancer\", \"cancer\", \"cancer\", \"cancer\", \"candidate\", \"candidate\", \"candidate\", \"candidates\", \"car\", \"car\", \"car\", \"car\", \"card\", \"card\", \"card\", \"card\", \"card\", \"card\", \"care\", \"care\", \"care\", \"care\", \"career\", \"career\", \"career\", \"career\", \"career\", \"carpet\", \"carpet\", \"carpet\", \"cartel\", \"case\", \"case\", \"case\", \"case\", \"case\", \"case\", \"case\", \"case\", \"case\", \"cases\", \"cases\", \"cases\", \"cases\", \"cast\", \"cast\", \"cast\", \"cast\", \"cast\", \"caucus\", \"caucuses\", \"cell\", \"cell\", \"cell\", \"cell\", \"cent\", \"century\", \"century\", \"century\", \"century\", \"century\", \"century\", \"century\", \"century\", \"character\", \"character\", \"character\", \"charged\", \"charged\", \"charged\", \"charged\", \"charges\", \"charges\", \"charges\", \"charges\", \"charges\", \"charges\", \"chat\", \"chat\", \"cheese\", \"chicken\", \"chicken\", \"chief\", \"chief\", \"chief\", \"chief\", \"chief\", \"chief\", \"chief\", \"chief\", \"child\", \"child\", \"child\", \"children\", \"children\", \"children\", \"children\", \"children\", \"children\", \"children\", \"children\", \"children\", \"chopped\", \"church\", \"church\", \"cigarettes\", \"civilian\", \"civilian\", \"civilian\", \"civilian\", \"class\", \"class\", \"class\", \"class\", \"class\", \"class\", \"class\", \"classes\", \"classes\", \"classes\", \"classes\", \"click\", \"clinical\", \"clothes\", \"clothes\", \"clothes\", \"club\", \"club\", \"club\", \"club\", \"coach\", \"coach\", \"coach\", \"coaches\", \"coaches\", \"coaching\", \"coaching\", \"collector\", \"collector\", \"collector\", \"com\", \"com\", \"comedy\", \"comic\", \"commander\", \"commander\", \"commander\", \"commentary\", \"commentary\", \"commentary\", \"community\", \"community\", \"community\", \"community\", \"community\", \"community\", \"companies\", \"companies\", \"companies\", \"companies\", \"company\", \"company\", \"company\", \"company\", \"composer\", \"composer\", \"computer\", \"computing\", \"concert\", \"concert\", \"concert\", \"congestion\", \"consecutive\", \"consecutive\", \"conservative\", \"conservative\", \"conservative\", \"conservative\", \"conservative\", \"conservative\", \"conservative\", \"consumer\", \"consumer\", \"contract\", \"contract\", \"contract\", \"control\", \"control\", \"control\", \"control\", \"control\", \"control\", \"control\", \"control\", \"control\", \"control\", \"convicted\", \"convicted\", \"cook\", \"cook\", \"cook\", \"cooking\", \"coordinator\", \"coordinator\", \"copy\", \"copy\", \"copy\", \"copy\", \"cornerback\", \"corporate\", \"corporate\", \"corporate\", \"cost\", \"cost\", \"cost\", \"cost\", \"cost\", \"countries\", \"countries\", \"countries\", \"countries\", \"countries\", \"country\", \"country\", \"country\", \"country\", \"country\", \"country\", \"country\", \"country\", \"country\", \"country\", \"coup\", \"coup\", \"coup\", \"court\", \"court\", \"court\", \"court\", \"court\", \"crash\", \"crash\", \"crash\", \"crash\", \"cream\", \"cream\", \"crew\", \"crew\", \"crew\", \"criminal\", \"criminal\", \"criminal\", \"crying\", \"crying\", \"crying\", \"cuban\", \"cuban\", \"cup\", \"curator\", \"custody\", \"customer\", \"customer\", \"cyberspace\", \"dad\", \"dad\", \"dad\", \"daily\", \"daily\", \"daily\", \"daily\", \"daily\", \"daily\", \"daily\", \"daughter\", \"daughter\", \"daughter\", \"daughter\", \"dayton\", \"deal\", \"deal\", \"deal\", \"deal\", \"deal\", \"deal\", \"death\", \"death\", \"death\", \"death\", \"death\", \"death\", \"debate\", \"debate\", \"debate\", \"debate\", \"debate\", \"debate\", \"debate\", \"debates\", \"debt\", \"debt\", \"debt\", \"decision\", \"decision\", \"decision\", \"decision\", \"decision\", \"decision\", \"decision\", \"decision\", \"decision\", \"deduction\", \"deer\", \"defendant\", \"defense\", \"defense\", \"defense\", \"democrat\", \"democrat\", \"democratic\", \"democratic\", \"democratic\", \"designer\", \"designer\", \"designer\", \"designer\", \"desktop\", \"device\", \"device\", \"device\", \"device\", \"device\", \"devices\", \"devices\", \"died\", \"died\", \"died\", \"died\", \"died\", \"died\", \"digital\", \"director\", \"director\", \"director\", \"director\", \"director\", \"director\", \"director\", \"director\", \"director\", \"director\", \"disease\", \"diseases\", \"dish\", \"dish\", \"dishes\", \"disorder\", \"disorder\", \"display\", \"display\", \"display\", \"display\", \"dividend\", \"divorce\", \"divorce\", \"divorce\", \"doctor\", \"doctor\", \"documentary\", \"domain\", \"domain\", \"domain\", \"domain\", \"door\", \"door\", \"door\", \"door\", \"door\", \"door\", \"door\", \"draft\", \"draft\", \"draft\", \"drama\", \"drama\", \"drive\", \"drive\", \"drive\", \"drive\", \"drive\", \"drive\", \"drive\", \"drive\", \"driver\", \"driver\", \"driver\", \"driver\", \"dropout\", \"drug\", \"drug\", \"drug\", \"drug\", \"early\", \"early\", \"early\", \"early\", \"early\", \"early\", \"early\", \"early\", \"early\", \"early\", \"early\", \"early\", \"early\", \"early\", \"earning\", \"earning\", \"earning\", \"earning\", \"economic\", \"economic\", \"economic\", \"economic\", \"economic\", \"educator\", \"effort\", \"effort\", \"effort\", \"effort\", \"effort\", \"effort\", \"effort\", \"effort\", \"effort\", \"effort\", \"effort\", \"egg\", \"egg\", \"election\", \"election\", \"electronic\", \"electronic\", \"employer\", \"employer\", \"employer\", \"eta\", \"european\", \"european\", \"european\", \"european\", \"european\", \"european\", \"executive\", \"executive\", \"executive\", \"executive\", \"executive\", \"executive\", \"executive\", \"executive\", \"executives\", \"executives\", \"executives\", \"exhibition\", \"exhibition\", \"exile\", \"faith\", \"faith\", \"faith\", \"faith\", \"faith\", \"family\", \"family\", \"family\", \"family\", \"fan\", \"fan\", \"fan\", \"fat\", \"fat\", \"father\", \"father\", \"federal\", \"federal\", \"federal\", \"federal\", \"feel\", \"feel\", \"feel\", \"feel\", \"feel\", \"feel\", \"feel\", \"feel\", \"feet\", \"feet\", \"feet\", \"feet\", \"festival\", \"fff\", \"ffx\", \"field\", \"field\", \"field\", \"field\", \"field\", \"field\", \"field\", \"field\", \"files\", \"files\", \"files\", \"film\", \"find\", \"find\", \"find\", \"find\", \"find\", \"find\", \"find\", \"find\", \"find\", \"find\", \"find\", \"find\", \"fire\", \"fire\", \"fire\", \"fire\", \"fire\", \"fire\", \"fire\", \"fire\", \"fire\", \"firework\", \"firework\", \"firm\", \"firm\", \"firm\", \"firsthand\", \"fish\", \"fish\", \"fishing\", \"fishing\", \"flag\", \"flavor\", \"flight\", \"flight\", \"flight\", \"flight\", \"floor\", \"floor\", \"floor\", \"floor\", \"floor\", \"floor\", \"floor\", \"flu\", \"food\", \"food\", \"foot\", \"foot\", \"foot\", \"foot\", \"football\", \"football\", \"football\", \"forces\", \"forces\", \"forces\", \"foreign\", \"foreign\", \"foreign\", \"foreign\", \"foreign\", \"found\", \"found\", \"found\", \"found\", \"found\", \"found\", \"found\", \"found\", \"found\", \"found\", \"found\", \"frames\", \"framework\", \"framework\", \"free\", \"free\", \"free\", \"free\", \"free\", \"free\", \"free\", \"free\", \"free\", \"free\", \"free\", \"fresh\", \"fresh\", \"fresh\", \"fresh\", \"fresh\", \"fresh\", \"friend\", \"friend\", \"friend\", \"friend\", \"friend\", \"friend\", \"friend\", \"front\", \"front\", \"front\", \"front\", \"front\", \"front\", \"front\", \"front\", \"front\", \"front\", \"fuel\", \"fuel\", \"fuel\", \"fuel\", \"fuel\", \"fund\", \"fund\", \"fund\", \"fund\", \"fur\", \"furniture\", \"fxf\", \"galaxies\", \"galleries\", \"gambling\", \"gambling\", \"game\", \"game\", \"game\", \"games\", \"games\", \"garlic\", \"gasoline\", \"gasoline\", \"gay\", \"gay\", \"genre\", \"glow\", \"goal\", \"goal\", \"goal\", \"goal\", \"goal\", \"goal\", \"goal\", \"goal\", \"goal\", \"government\", \"government\", \"government\", \"government\", \"government\", \"grade\", \"grade\", \"grade\", \"grade\", \"grade\", \"grade\", \"graduate\", \"graduate\", \"graduate\", \"graduate\", \"graduation\", \"gram\", \"grandchildren\", \"grandchildren\", \"grandmother\", \"grandmother\", \"grandparent\", \"green\", \"green\", \"green\", \"grief\", \"grief\", \"ground\", \"ground\", \"ground\", \"ground\", \"ground\", \"ground\", \"ground\", \"ground\", \"group\", \"group\", \"group\", \"group\", \"group\", \"group\", \"group\", \"group\", \"group\", \"group\", \"growth\", \"growth\", \"growth\", \"guitar\", \"guy\", \"guy\", \"guy\", \"guy\", \"guy\", \"half\", \"half\", \"half\", \"half\", \"half\", \"half\", \"half\", \"half\", \"half\", \"half\", \"halftime\", \"hand\", \"hand\", \"hand\", \"hand\", \"hand\", \"hand\", \"hand\", \"hand\", \"hand\", \"hand\", \"hand\", \"hand\", \"hand\", \"hardware\", \"head\", \"head\", \"head\", \"head\", \"head\", \"head\", \"head\", \"head\", \"head\", \"head\", \"health\", \"health\", \"health\", \"hearing\", \"hearing\", \"hearing\", \"hearing\", \"hearing\", \"hearing\", \"heart\", \"heart\", \"heart\", \"heart\", \"heart\", \"heart\", \"heart\", \"heart\", \"helicopter\", \"help\", \"help\", \"help\", \"help\", \"help\", \"help\", \"help\", \"help\", \"help\", \"help\", \"help\", \"heritage\", \"heritage\", \"high\", \"high\", \"high\", \"high\", \"high\", \"high\", \"high\", \"high\", \"high\", \"high\", \"high\", \"high\", \"high\", \"high\", \"highway\", \"highway\", \"hispanic\", \"historical\", \"historical\", \"history\", \"history\", \"history\", \"history\", \"history\", \"history\", \"history\", \"history\", \"history\", \"history\", \"hit\", \"hit\", \"hit\", \"hit\", \"hit\", \"hit\", \"hit\", \"hit\", \"hit\", \"home\", \"home\", \"home\", \"home\", \"home\", \"home\", \"home\", \"home\", \"home\", \"home\", \"home\", \"homeless\", \"hospital\", \"hospital\", \"hospital\", \"hospital\", \"hospital\", \"hot\", \"hot\", \"hot\", \"hot\", \"hot\", \"hot\", \"hot\", \"hot\", \"hotel\", \"hotel\", \"hotel\", \"hotel\", \"hour\", \"hour\", \"hour\", \"hour\", \"hour\", \"hour\", \"hour\", \"hour\", \"hour\", \"hour\", \"house\", \"house\", \"house\", \"house\", \"house\", \"houses\", \"houses\", \"houses\", \"houses\", \"houses\", \"houses\", \"human\", \"human\", \"human\", \"human\", \"human\", \"human\", \"human\", \"human\", \"husband\", \"husband\", \"husband\", \"income\", \"income\", \"income\", \"income\", \"income\", \"indictment\", \"industry\", \"industry\", \"industry\", \"infection\", \"inflation\", \"information\", \"information\", \"information\", \"ingredient\", \"inmates\", \"insurance\", \"insurance\", \"insurance\", \"international\", \"international\", \"international\", \"international\", \"international\", \"international\", \"international\", \"internet\", \"internet\", \"internet\", \"internet\", \"investigation\", \"investigation\", \"investigation\", \"investment\", \"investor\", \"israeli\", \"israelis\", \"israelis\", \"israelis\", \"jacket\", \"jacket\", \"jacket\", \"jaguar\", \"jaguar\", \"jazz\", \"jazz\", \"jet\", \"jet\", \"jet\", \"jew\", \"jewish\", \"jewish\", \"jewish\", \"job\", \"job\", \"job\", \"job\", \"job\", \"job\", \"joke\", \"joke\", \"joke\", \"joke\", \"judge\", \"juice\", \"jury\", \"jury\", \"juvenile\", \"kid\", \"kid\", \"kid\", \"kid\", \"kid\", \"kind\", \"kind\", \"kind\", \"kind\", \"kind\", \"kind\", \"kind\", \"kind\", \"kind\", \"kind\", \"kind\", \"kind\", \"kiss\", \"kitchen\", \"kitchen\", \"knew\", \"knew\", \"knew\", \"knew\", \"knew\", \"knew\", \"knew\", \"known\", \"known\", \"known\", \"known\", \"known\", \"known\", \"known\", \"known\", \"known\", \"known\", \"known\", \"known\", \"lake\", \"landlord\", \"language\", \"language\", \"language\", \"language\", \"language\", \"large\", \"large\", \"large\", \"large\", \"large\", \"large\", \"large\", \"large\", \"large\", \"large\", \"large\", \"laser\", \"laser\", \"laser\", \"laughed\", \"laughed\", \"law\", \"law\", \"law\", \"lawsuit\", \"lawsuit\", \"lawsuit\", \"lawyer\", \"lawyer\", \"lawyer\", \"layout\", \"lead\", \"lead\", \"lead\", \"lead\", \"lead\", \"lead\", \"lead\", \"lead\", \"lead\", \"leader\", \"leader\", \"leader\", \"leader\", \"leader\", \"league\", \"league\", \"learn\", \"learn\", \"learn\", \"learn\", \"learn\", \"learn\", \"learn\", \"learned\", \"learned\", \"learned\", \"learned\", \"learned\", \"leather\", \"leather\", \"leaves\", \"leaves\", \"leaves\", \"leaves\", \"leaves\", \"leaves\", \"left\", \"left\", \"left\", \"left\", \"left\", \"left\", \"left\", \"left\", \"left\", \"left\", \"left\", \"left\", \"left\", \"legal\", \"legal\", \"legal\", \"legal\", \"legal\", \"level\", \"level\", \"level\", \"level\", \"level\", \"level\", \"level\", \"level\", \"light\", \"light\", \"light\", \"light\", \"light\", \"light\", \"link\", \"link\", \"link\", \"link\", \"link\", \"link\", \"link\", \"list\", \"list\", \"list\", \"list\", \"list\", \"list\", \"list\", \"list\", \"list\", \"list\", \"list\", \"listing\", \"listing\", \"live\", \"live\", \"live\", \"live\", \"live\", \"live\", \"live\", \"live\", \"live\", \"lives\", \"lives\", \"lives\", \"lives\", \"lives\", \"lives\", \"lives\", \"lives\", \"lives\", \"look\", \"look\", \"look\", \"look\", \"look\", \"look\", \"look\", \"look\", \"look\", \"look\", \"look\", \"looking\", \"looking\", \"looking\", \"looking\", \"looking\", \"looking\", \"looking\", \"looking\", \"looking\", \"looking\", \"looking\", \"looking\", \"looking\", \"love\", \"love\", \"love\", \"love\", \"love\", \"love\", \"love\", \"love\", \"luxury\", \"luxury\", \"luxury\", \"luxury\", \"luxury\", \"mail\", \"mail\", \"mail\", \"mail\", \"mail\", \"makes\", \"makes\", \"makes\", \"makes\", \"makes\", \"makes\", \"makes\", \"makes\", \"makes\", \"makes\", \"manager\", \"manager\", \"manager\", \"manager\", \"manager\", \"manager\", \"manager\", \"manager\", \"manager\", \"marked\", \"marked\", \"marked\", \"marked\", \"market\", \"market\", \"market\", \"marketing\", \"marketing\", \"marketing\", \"marketing\", \"marketing\", \"married\", \"married\", \"married\", \"meal\", \"meal\", \"meal\", \"meat\", \"meat\", \"media\", \"media\", \"media\", \"media\", \"media\", \"media\", \"media\", \"media\", \"media\", \"medical\", \"medical\", \"medication\", \"medicine\", \"medicine\", \"medium\", \"medium\", \"medium\", \"medium\", \"medium\", \"member\", \"member\", \"member\", \"member\", \"member\", \"member\", \"member\", \"merger\", \"metal\", \"metal\", \"miles\", \"miles\", \"miles\", \"miles\", \"military\", \"military\", \"milk\", \"million\", \"million\", \"million\", \"million\", \"million\", \"million\", \"minister\", \"minister\", \"minister\", \"minister\", \"minutes\", \"minutes\", \"minutes\", \"minutes\", \"minutes\", \"missile\", \"missiles\", \"mom\", \"mom\", \"money\", \"money\", \"money\", \"money\", \"money\", \"money\", \"money\", \"money\", \"money\", \"money\", \"morning\", \"morning\", \"morning\", \"morning\", \"morning\", \"morning\", \"morning\", \"morning\", \"morning\", \"mother\", \"mother\", \"mother\", \"mother\", \"movement\", \"movement\", \"movement\", \"movement\", \"movie\", \"movie\", \"movies\", \"movies\", \"movies\", \"mp3\", \"museum\", \"music\", \"music\", \"music\", \"musical\", \"musical\", \"musician\", \"nature\", \"nature\", \"nature\", \"nature\", \"nature\", \"nature\", \"nature\", \"nature\", \"nearly\", \"nearly\", \"nearly\", \"nearly\", \"nearly\", \"nearly\", \"nearly\", \"nearly\", \"nearly\", \"nearly\", \"nearly\", \"need\", \"need\", \"need\", \"need\", \"need\", \"need\", \"need\", \"need\", \"need\", \"need\", \"need\", \"negotiator\", \"negotiator\", \"network\", \"network\", \"network\", \"network\", \"newspaper\", \"newspaper\", \"newspaper\", \"newspaper\", \"newspaper\", \"newspaper\", \"newspaper\", \"newspaper\", \"newspaper\", \"newspaper\", \"newspaper\", \"night\", \"night\", \"night\", \"night\", \"night\", \"night\", \"night\", \"night\", \"night\", \"night\", \"night\", \"northwest\", \"nuclear\", \"number\", \"number\", \"number\", \"number\", \"number\", \"number\", \"number\", \"number\", \"number\", \"number\", \"number\", \"number\", \"number\", \"nytsyn\", \"object\", \"object\", \"object\", \"object\", \"offense\", \"offense\", \"offense\", \"offense\", \"offer\", \"offer\", \"offer\", \"offer\", \"offer\", \"offer\", \"offer\", \"offer\", \"offer\", \"offer\", \"offer\", \"officer\", \"officer\", \"officer\", \"officer\", \"official\", \"official\", \"official\", \"official\", \"official\", \"official\", \"official\", \"official\", \"oil\", \"oil\", \"oil\", \"oil\", \"olive\", \"onion\", \"onion\", \"online\", \"online\", \"open\", \"open\", \"open\", \"open\", \"open\", \"open\", \"open\", \"open\", \"open\", \"open\", \"open\", \"open\", \"open\", \"opera\", \"opera\", \"org\", \"org\", \"oven\", \"owner\", \"owner\", \"owner\", \"owner\", \"owner\", \"packer\", \"pageex\", \"painting\", \"palestinian\", \"pan\", \"pan\", \"pan\", \"pant\", \"parent\", \"parent\", \"parent\", \"parent\", \"parent\", \"park\", \"park\", \"park\", \"parking\", \"parking\", \"parking\", \"parliamentary\", \"part\", \"part\", \"part\", \"part\", \"part\", \"part\", \"part\", \"part\", \"part\", \"part\", \"part\", \"part\", \"part\", \"part\", \"part\", \"pass\", \"pass\", \"pass\", \"pass\", \"pass\", \"pass\", \"pass\", \"pass\", \"passenger\", \"passenger\", \"passenger\", \"patient\", \"patriot\", \"pay\", \"pay\", \"pay\", \"pay\", \"pay\", \"pay\", \"pay\", \"pay\", \"pay\", \"peace\", \"peace\", \"peace\", \"pepper\", \"pepper\", \"percent\", \"percent\", \"percent\", \"percent\", \"percent\", \"percent\", \"personal\", \"personal\", \"personal\", \"personal\", \"personal\", \"personal\", \"personal\", \"personal\", \"pfoutch\", \"physician\", \"physician\", \"pick\", \"pick\", \"pick\", \"pick\", \"pick\", \"pick\", \"pick\", \"pick\", \"pick\", \"pick\", \"pigeon\", \"pilot\", \"pilot\", \"pilot\", \"pitcher\", \"pitcher\", \"place\", \"place\", \"place\", \"place\", \"place\", \"place\", \"place\", \"place\", \"place\", \"place\", \"place\", \"place\", \"place\", \"plan\", \"plan\", \"plan\", \"plan\", \"plan\", \"plan\", \"plan\", \"plan\", \"plan\", \"plane\", \"plane\", \"plane\", \"plane\", \"planes\", \"play\", \"play\", \"play\", \"play\", \"play\", \"played\", \"played\", \"played\", \"played\", \"played\", \"played\", \"player\", \"player\", \"playing\", \"playing\", \"playing\", \"playing\", \"playing\", \"playing\", \"playing\", \"playoff\", \"playoff\", \"point\", \"point\", \"point\", \"point\", \"point\", \"point\", \"point\", \"point\", \"point\", \"point\", \"point\", \"pointer\", \"police\", \"police\", \"police\", \"politic\", \"politic\", \"politic\", \"politic\", \"politic\", \"political\", \"political\", \"political\", \"political\", \"poll\", \"poll\", \"pop\", \"pop\", \"pop\", \"portable\", \"portfolio\", \"potassium\", \"potatoes\", \"pound\", \"pound\", \"pound\", \"pound\", \"power\", \"power\", \"power\", \"power\", \"power\", \"power\", \"power\", \"power\", \"power\", \"power\", \"power\", \"power\", \"prayer\", \"prayer\", \"premiere\", \"president\", \"president\", \"president\", \"president\", \"president\", \"president\", \"presidential\", \"presidential\", \"pretend\", \"pretend\", \"price\", \"price\", \"price\", \"price\", \"price\", \"prices\", \"prices\", \"priest\", \"primaries\", \"primary\", \"printer\", \"prison\", \"prison\", \"prison\", \"prison\", \"problem\", \"problem\", \"problem\", \"problem\", \"problem\", \"problem\", \"problem\", \"problem\", \"problem\", \"problem\", \"problem\", \"producer\", \"producer\", \"producer\", \"producer\", \"product\", \"product\", \"product\", \"product\", \"production\", \"production\", \"production\", \"production\", \"production\", \"production\", \"profit\", \"profit\", \"profit\", \"program\", \"program\", \"program\", \"program\", \"proposal\", \"proposal\", \"proposal\", \"proposed\", \"proposed\", \"proposed\", \"proposed\", \"proposed\", \"prosecutor\", \"public\", \"public\", \"public\", \"public\", \"public\", \"public\", \"public\", \"public\", \"published\", \"published\", \"published\", \"published\", \"published\", \"quarter\", \"quarter\", \"quarter\", \"quarterback\", \"quarterback\", \"question\", \"question\", \"question\", \"question\", \"question\", \"question\", \"question\", \"question\", \"question\", \"question\", \"question\", \"quiz\", \"race\", \"race\", \"race\", \"race\", \"race\", \"racial\", \"racial\", \"racism\", \"racist\", \"racist\", \"rain\", \"rain\", \"rain\", \"rates\", \"rates\", \"rates\", \"rates\", \"real\", \"real\", \"real\", \"real\", \"real\", \"real\", \"real\", \"real\", \"real\", \"real\", \"real\", \"rear\", \"rebel\", \"rebound\", \"rebound\", \"receiver\", \"receiver\", \"receiver\", \"receiver\", \"receiver\", \"recipe\", \"recipes\", \"red\", \"red\", \"red\", \"red\", \"red\", \"relatives\", \"relatives\", \"religion\", \"religious\", \"religious\", \"religious\", \"remember\", \"remember\", \"remember\", \"remember\", \"remember\", \"remember\", \"reported\", \"reported\", \"reported\", \"reported\", \"reported\", \"reported\", \"reported\", \"reporter\", \"reporter\", \"reporter\", \"reporter\", \"reporter\", \"reporter\", \"republican\", \"republican\", \"research\", \"research\", \"research\", \"research\", \"research\", \"researcher\", \"researcher\", \"restaurant\", \"restaurant\", \"restaurant\", \"result\", \"result\", \"result\", \"result\", \"result\", \"result\", \"result\", \"result\", \"result\", \"result\", \"result\", \"result\", \"return\", \"return\", \"return\", \"return\", \"return\", \"return\", \"return\", \"return\", \"return\", \"revenue\", \"revenue\", \"revenues\", \"rickc\", \"right\", \"right\", \"right\", \"right\", \"right\", \"right\", \"right\", \"right\", \"right\", \"right\", \"right\", \"right\", \"risk\", \"risk\", \"risk\", \"risk\", \"risk\", \"risk\", \"road\", \"road\", \"road\", \"road\", \"road\", \"room\", \"room\", \"room\", \"room\", \"room\", \"room\", \"room\", \"ruling\", \"ruling\", \"run\", \"run\", \"run\", \"run\", \"run\", \"run\", \"run\", \"run\", \"run\", \"run\", \"russian\", \"sail\", \"sailing\", \"salary\", \"salary\", \"sales\", \"sales\", \"salt\", \"salt\", \"salt\", \"sat\", \"sat\", \"sat\", \"sat\", \"sat\", \"sat\", \"satellites\", \"satellites\", \"satellites\", \"sauce\", \"school\", \"school\", \"school\", \"science\", \"science\", \"science\", \"science\", \"science\", \"science\", \"scientific\", \"scientific\", \"scientific\", \"scientist\", \"scientist\", \"scientist\", \"scientist\", \"scientist\", \"scored\", \"scoring\", \"scoring\", \"script\", \"script\", \"search\", \"search\", \"search\", \"search\", \"search\", \"search\", \"search\", \"season\", \"season\", \"season\", \"season\", \"seat\", \"seat\", \"seat\", \"seat\", \"seat\", \"seat\", \"sedan\", \"semester\", \"senator\", \"senator\", \"senator\", \"series\", \"series\", \"series\", \"series\", \"series\", \"series\", \"series\", \"series\", \"series\", \"series\", \"serve\", \"serve\", \"serve\", \"serve\", \"serve\", \"services\", \"services\", \"services\", \"serving\", \"serving\", \"serving\", \"serving\", \"serving\", \"serving\", \"serving\", \"set\", \"set\", \"set\", \"set\", \"set\", \"set\", \"set\", \"set\", \"set\", \"set\", \"set\", \"sharaa\", \"share\", \"share\", \"share\", \"share\", \"share\", \"share\", \"share\", \"shareholder\", \"shares\", \"ship\", \"shot\", \"shot\", \"shot\", \"shot\", \"shot\", \"shot\", \"shot\", \"shot\", \"show\", \"show\", \"show\", \"show\", \"show\", \"show\", \"show\", \"show\", \"show\", \"side\", \"side\", \"side\", \"side\", \"side\", \"side\", \"side\", \"side\", \"side\", \"side\", \"side\", \"singer\", \"sister\", \"sister\", \"sister\", \"site\", \"site\", \"sites\", \"sites\", \"sites\", \"sites\", \"sites\", \"ski\", \"skier\", \"skier\", \"sky\", \"sky\", \"small\", \"small\", \"small\", \"small\", \"small\", \"small\", \"small\", \"small\", \"small\", \"small\", \"small\", \"small\", \"snow\", \"snow\", \"snow\", \"snow\", \"society\", \"society\", \"society\", \"software\", \"solar\", \"soldier\", \"soldier\", \"son\", \"son\", \"son\", \"son\", \"son\", \"son\", \"song\", \"song\", \"sound\", \"sound\", \"sound\", \"sound\", \"sound\", \"sound\", \"sound\", \"sound\", \"soundtrack\", \"soup\", \"soviet\", \"soviet\", \"soviet\", \"soviet\", \"space\", \"space\", \"space\", \"space\", \"space\", \"spending\", \"spending\", \"spending\", \"sport\", \"sport\", \"sport\", \"sport\", \"sport\", \"sport\", \"square\", \"square\", \"square\", \"staffed\", \"staffed\", \"starring\", \"statesman\", \"statesman\", \"statesman\", \"stock\", \"stock\", \"storm\", \"storm\", \"storm\", \"storm\", \"streak\", \"streak\", \"streak\", \"student\", \"student\", \"studies\", \"studies\", \"studies\", \"studies\", \"studio\", \"studio\", \"study\", \"study\", \"study\", \"sun\", \"sun\", \"sun\", \"sun\", \"support\", \"support\", \"support\", \"support\", \"support\", \"support\", \"support\", \"support\", \"supporter\", \"supporter\", \"supporter\", \"surgery\", \"surgery\", \"surgery\", \"surpluses\", \"symbol\", \"symbol\", \"symbol\", \"symptom\", \"syrian\", \"system\", \"system\", \"system\", \"system\", \"system\", \"system\", \"system\", \"system\", \"tablespoon\", \"tackle\", \"tackle\", \"tackle\", \"talk\", \"talk\", \"talk\", \"talk\", \"talk\", \"talk\", \"talk\", \"talk\", \"talk\", \"taste\", \"taste\", \"taste\", \"tax\", \"tax\", \"tax\", \"taxpayer\", \"tduncan\", \"team\", \"team\", \"teaspoon\", \"technology\", \"technology\", \"technology\", \"teenage\", \"telegram\", \"telegram\", \"telegram\", \"telegram\", \"television\", \"television\", \"television\", \"television\", \"television\", \"television\", \"television\", \"television\", \"television\", \"tell\", \"tell\", \"tell\", \"tell\", \"tell\", \"tell\", \"tell\", \"tell\", \"temperatures\", \"temperatures\", \"temperatures\", \"temperatures\", \"tender\", \"terrorism\", \"test\", \"test\", \"test\", \"test\", \"testified\", \"testimony\", \"theater\", \"therapy\", \"therapy\", \"therapy\", \"therapy\", \"thought\", \"thought\", \"thought\", \"thought\", \"thought\", \"thought\", \"thought\", \"thought\", \"thought\", \"thought\", \"throw\", \"throw\", \"throw\", \"throw\", \"throw\", \"throw\", \"throw\", \"titan\", \"today\", \"today\", \"today\", \"today\", \"today\", \"today\", \"today\", \"today\", \"today\", \"today\", \"today\", \"today\", \"today\", \"toder\", \"told\", \"told\", \"told\", \"told\", \"told\", \"told\", \"told\", \"told\", \"told\", \"told\", \"touchdown\", \"tour\", \"tour\", \"tour\", \"tour\", \"tour\", \"tourist\", \"tourist\", \"tourist\", \"tournament\", \"town\", \"town\", \"town\", \"town\", \"town\", \"town\", \"town\", \"town\", \"town\", \"traffic\", \"traffic\", \"traffic\", \"traffic\", \"trafficking\", \"train\", \"train\", \"train\", \"train\", \"treatment\", \"treatment\", \"trial\", \"trial\", \"trial\", \"trial\", \"troop\", \"troop\", \"troop\", \"tuition\", \"turnover\", \"turnover\", \"uncle\", \"union\", \"union\", \"union\", \"union\", \"user\", \"user\", \"valuation\", \"version\", \"version\", \"version\", \"version\", \"version\", \"version\", \"video\", \"video\", \"view\", \"view\", \"view\", \"view\", \"view\", \"view\", \"view\", \"view\", \"viewer\", \"viewer\", \"viking\", \"violation\", \"violation\", \"violation\", \"virtual\", \"virtual\", \"virtual\", \"visitor\", \"visitor\", \"visitor\", \"visitor\", \"vote\", \"voter\", \"voter\", \"votes\", \"votes\", \"voting\", \"voucher\", \"voucher\", \"wall\", \"wall\", \"wall\", \"wall\", \"wall\", \"wall\", \"wanted\", \"wanted\", \"wanted\", \"wanted\", \"wanted\", \"wanted\", \"wanted\", \"wanted\", \"war\", \"war\", \"war\", \"war\", \"war\", \"water\", \"water\", \"water\", \"water\", \"water\", \"weapon\", \"weapon\", \"weapon\", \"weather\", \"weather\", \"weather\", \"weather\", \"weather\", \"weather\", \"web\", \"web\", \"west\", \"wheel\", \"wheel\", \"wheel\", \"white\", \"white\", \"white\", \"white\", \"wife\", \"wife\", \"wife\", \"wife\", \"win\", \"win\", \"win\", \"win\", \"win\", \"win\", \"wind\", \"wind\", \"wind\", \"window\", \"window\", \"window\", \"window\", \"wine\", \"wine\", \"wines\", \"withdrawal\", \"withdrawal\", \"wizard\", \"wizard\", \"women\", \"women\", \"women\", \"women\", \"won\", \"won\", \"won\", \"won\", \"won\", \"won\", \"won\", \"won\", \"won\", \"won\", \"won\", \"won\", \"word\", \"word\", \"word\", \"word\", \"word\", \"word\", \"word\", \"word\", \"worker\", \"worker\", \"worker\", \"worker\", \"worker\", \"writer\", \"writer\", \"writer\", \"writer\", \"wrote\", \"wrote\", \"wrote\", \"wrote\", \"wrote\", \"wrote\", \"wrote\", \"wrote\", \"www\", \"www\", \"www\", \"xff\", \"y2k\", \"y2k\", \"yankees\", \"yard\", \"yard\", \"young\", \"young\", \"young\", \"young\", \"young\", \"young\", \"young\", \"zzz_abc\", \"zzz_abc_executive\", \"zzz_african_american\", \"zzz_african_american\", \"zzz_african_american\", \"zzz_african_american\", \"zzz_airbus\", \"zzz_akira_hareruya\", \"zzz_al_gore\", \"zzz_al_groh\", \"zzz_alan_greenspan\", \"zzz_alan_greenspan\", \"zzz_alan_keyes\", \"zzz_alaska\", \"zzz_alaska\", \"zzz_amazon\", \"zzz_america\", \"zzz_america\", \"zzz_america\", \"zzz_america\", \"zzz_america\", \"zzz_america\", \"zzz_america\", \"zzz_america_online\", \"zzz_american\", \"zzz_american\", \"zzz_american\", \"zzz_american\", \"zzz_american\", \"zzz_american\", \"zzz_american\", \"zzz_andy_alexander\", \"zzz_andy_alexander\", \"zzz_angela\", \"zzz_ann_bowden\", \"zzz_aol\", \"zzz_aol_time_warner\", \"zzz_aol_time_warner\", \"zzz_apache\", \"zzz_apple\", \"zzz_arafat\", \"zzz_army\", \"zzz_army\", \"zzz_army\", \"zzz_barak\", \"zzz_bible\", \"zzz_bible\", \"zzz_bill_belichick\", \"zzz_bill_bennett\", \"zzz_bill_bradley\", \"zzz_bill_clinton\", \"zzz_bill_gates\", \"zzz_bill_parcell\", \"zzz_black\", \"zzz_bleated_nato\", \"zzz_bobby_bowden\", \"zzz_bobby_phill\", \"zzz_boeing\", \"zzz_border_patrol\", \"zzz_boris_yeltsin\", \"zzz_bradley\", \"zzz_bruin\", \"zzz_bud_adam\", \"zzz_buffalo\", \"zzz_bush\", \"zzz_carlton_fisk\", \"zzz_cb\", \"zzz_cb\", \"zzz_chan_gailey\", \"zzz_chechen\", \"zzz_chechnya\", \"zzz_china\", \"zzz_china\", \"zzz_china\", \"zzz_china\", \"zzz_christ\", \"zzz_christian\", \"zzz_christianity\", \"zzz_christie\", \"zzz_clinton\", \"zzz_clinton\", \"zzz_clinton\", \"zzz_clinton\", \"zzz_coca_cola\", \"zzz_coke\", \"zzz_congress\", \"zzz_congress\", \"zzz_congress\", \"zzz_craig_claiborne\", \"zzz_cuba\", \"zzz_cuban_american\", \"zzz_dalglish\", \"zzz_dallas_maverick\", \"zzz_dan_marino\", \"zzz_dave_campo\", \"zzz_david_irving\", \"zzz_delta\", \"zzz_delta\", \"zzz_denzel_washington\", \"zzz_derrick_thomas\", \"zzz_dick_vermeil\", \"zzz_dick_vermeil\", \"zzz_dna\", \"zzz_don_nelson\", \"zzz_dsl\", \"zzz_earl_caldwell\", \"zzz_eastern\", \"zzz_eddie_george\", \"zzz_elian\", \"zzz_elian_gonzalez\", \"zzz_faith\", \"zzz_fda\", \"zzz_fed\", \"zzz_fidel_castro\", \"zzz_fidel_castro\", \"zzz_florida\", \"zzz_florida\", \"zzz_florida\", \"zzz_florida\", \"zzz_florida\", \"zzz_florida\", \"zzz_florida\", \"zzz_florida_state\", \"zzz_fox\", \"zzz_fox\", \"zzz_fred\", \"zzz_gary_bauer\", \"zzz_george_bush\", \"zzz_gerald_levin\", \"zzz_giant\", \"zzz_golan\", \"zzz_golan_height\", \"zzz_gop\", \"zzz_gop\", \"zzz_gore\", \"zzz_governor_bush\", \"zzz_grozny\", \"zzz_hafez_assad\", \"zzz_harlem\", \"zzz_harvard_pilgrim\", \"zzz_helmut_kohl\", \"zzz_hmo\", \"zzz_hollywood\", \"zzz_holocaust\", \"zzz_holocaust\", \"zzz_homocysteine\", \"zzz_house_republican\", \"zzz_hub\", \"zzz_hurricane\", \"zzz_ice\", \"zzz_immigration\", \"zzz_india\", \"zzz_internet\", \"zzz_internet\", \"zzz_iowa\", \"zzz_iowa\", \"zzz_iran\", \"zzz_iraq\", \"zzz_iraq\", \"zzz_islam\", \"zzz_islamic\", \"zzz_israel\", \"zzz_israel\", \"zzz_israeli\", \"zzz_israeli_syrian\", \"zzz_jackson\", \"zzz_jacksonville\", \"zzz_james_casserly\", \"zzz_james_rubin\", \"zzz_james_rubin\", \"zzz_jane_fonda\", \"zzz_jane_hull\", \"zzz_jane_swift\", \"zzz_jeff_fisher\", \"zzz_jerry_jones\", \"zzz_jerry_thomas\", \"zzz_jesus\", \"zzz_jim_washburn\", \"zzz_john_koskinen\", \"zzz_john_mccain\", \"zzz_john_rocker\", \"zzz_johnson\", \"zzz_justice_department\", \"zzz_justice_department\", \"zzz_king\", \"zzz_kosovo\", \"zzz_kremlin\", \"zzz_kurt_warner\", \"zzz_labor\", \"zzz_labor\", \"zzz_laker\", \"zzz_laura_bush\", \"zzz_leon_smith\", \"zzz_levine_scholastic\", \"zzz_mac\", \"zzz_mannesmann\", \"zzz_mark_cuban\", \"zzz_mccain\", \"zzz_merrill_lynch\", \"zzz_mexican\", \"zzz_miami\", \"zzz_miami\", \"zzz_michael_dell\", \"zzz_michael_jordan\", \"zzz_microsoft\", \"zzz_middle_east\", \"zzz_middle_east\", \"zzz_mike_tyson\", \"zzz_mike_tyson\", \"zzz_modern_art\", \"zzz_moscow\", \"zzz_motorola\", \"zzz_naacp\", \"zzz_nasa\", \"zzz_nasa\", \"zzz_nasa\", \"zzz_nasa\", \"zzz_nasdaq\", \"zzz_nato\", \"zzz_naturalization_service\", \"zzz_navy\", \"zzz_navy\", \"zzz_navy\", \"zzz_navy\", \"zzz_navy\", \"zzz_nbc\", \"zzz_nbc\", \"zzz_nbc\", \"zzz_new_england\", \"zzz_new_england\", \"zzz_new_england\", \"zzz_new_hampshire\", \"zzz_new_hampshire\", \"zzz_new_mexico\", \"zzz_new_mexico\", \"zzz_new_mexico\", \"zzz_new_york\", \"zzz_new_york\", \"zzz_new_york\", \"zzz_new_york\", \"zzz_new_york\", \"zzz_new_york\", \"zzz_new_york\", \"zzz_new_york\", \"zzz_new_york\", \"zzz_new_york\", \"zzz_new_york\", \"zzz_nfc\", \"zzz_nfl\", \"zzz_nfl\", \"zzz_olympic\", \"zzz_oscar\", \"zzz_pacific\", \"zzz_pacific\", \"zzz_pacific\", \"zzz_party\", \"zzz_party\", \"zzz_pataki\", \"zzz_paul_cayard\", \"zzz_paul_foutch\", \"zzz_paul_tagliabue\", \"zzz_pentagon\", \"zzz_pentagon\", \"zzz_pete_carroll\", \"zzz_phil_jackson\", \"zzz_prada\", \"zzz_putnam\", \"zzz_ram\", \"zzz_random_house\", \"zzz_red_sox\", \"zzz_reno\", \"zzz_republican\", \"zzz_rick_christie\", \"zzz_robert_kraft\", \"zzz_roman_catholic\", \"zzz_roman_catholic\", \"zzz_roman_polanski\", \"zzz_rudolph_giuliani\", \"zzz_russia\", \"zzz_russia\", \"zzz_russian\", \"zzz_sat\", \"zzz_schulke\", \"zzz_security_council\", \"zzz_serb\", \"zzz_serbia\", \"zzz_sharaa\", \"zzz_shepherdstown\", \"zzz_sonic\", \"zzz_sopranos\", \"zzz_sotheby\", \"zzz_southern\", \"zzz_southern\", \"zzz_soviet\", \"zzz_st_louis\", \"zzz_st_louis\", \"zzz_st_louis\", \"zzz_steve_ballmer\", \"zzz_steve_case\", \"zzz_steve_forbes\", \"zzz_steve_mcnair\", \"zzz_stripes\", \"zzz_super_bowl\", \"zzz_super_bowl\", \"zzz_suv\", \"zzz_suv\", \"zzz_swift\", \"zzz_syria\", \"zzz_tampa_bay\", \"zzz_tennessee\", \"zzz_tennessee\", \"zzz_tennessee\", \"zzz_thad_steele\", \"zzz_thomas_jefferson\", \"zzz_time_warner\", \"zzz_time_warner\", \"zzz_times_square\", \"zzz_today_russia\", \"zzz_tom_brokaw\", \"zzz_tom_oder\", \"zzz_tony\", \"zzz_tony\", \"zzz_tony_perez\", \"zzz_u_s\", \"zzz_u_s\", \"zzz_u_s\", \"zzz_u_s\", \"zzz_u_s\", \"zzz_u_s\", \"zzz_union\", \"zzz_union\", \"zzz_union\", \"zzz_united\", \"zzz_united_nation\", \"zzz_united_nation\", \"zzz_united_states\", \"zzz_united_states\", \"zzz_united_states\", \"zzz_united_states\", \"zzz_united_states\", \"zzz_united_states\", \"zzz_united_states\", \"zzz_united_states\", \"zzz_usc\", \"zzz_virginia_tech\", \"zzz_virtue\", \"zzz_vladimir_putin\", \"zzz_wall_street\", \"zzz_warner_lambert\", \"zzz_will_putin\", \"zzz_wolf\", \"zzz_world_series\", \"zzz_world_wide\", \"zzz_world_wide\", \"zzz_world_wide\", \"zzz_yale\", \"zzz_yale\", \"zzz_yale\", \"zzz_yasser_arafat\"]}, \"mdsDat\": {\"y\": [-0.11065660785497788, 0.07397037371498329, 0.2471922414424776, 0.12220569633009312, -0.05666524548393978, 0.01646140414508983, 0.02244392139488773, -0.06626941510857666, 0.06098020941836745, -0.012953969702987643, -0.17274883017143758, 0.21176976070621933, -0.05270667745513375, -0.13221330760553704, -0.15080955376952684], \"cluster\": [1, 1, 1, 1, 1, 1, 1, 1, 1, 1, 1, 1, 1, 1, 1], \"Freq\": [8.341027114045145, 8.266866888480454, 7.688328433390956, 7.4176733754241875, 7.254663218743759, 7.037523822544246, 7.016593983297664, 6.716628583491429, 6.460550128347843, 6.217595047997858, 5.878394619195471, 5.8024759579753775, 5.678665745950559, 5.565539673375812, 4.657473407739237], \"topics\": [1, 2, 3, 4, 5, 6, 7, 8, 9, 10, 11, 12, 13, 14, 15], \"x\": [0.0906893284983158, 0.1563421969572949, -0.13386944070924212, -0.07909782787134519, 0.2102323052574763, 0.15724847141633205, -0.1565862909200111, -0.19766002051470122, 0.18141251196655245, 0.04411369172226518, -0.05353279591141653, -0.03280894217151337, -0.003914157664841861, 0.0235498166079447, -0.20611884666310995]}, \"R\": 30, \"lambda.step\": 0.01, \"tinfo\": {\"Category\": [\"Default\", \"Default\", \"Default\", \"Default\", \"Default\", \"Default\", \"Default\", \"Default\", \"Default\", \"Default\", \"Default\", \"Default\", \"Default\", \"Default\", \"Default\", \"Default\", \"Default\", \"Default\", \"Default\", \"Default\", \"Default\", \"Default\", \"Default\", \"Default\", \"Default\", \"Default\", \"Default\", \"Default\", \"Default\", \"Default\", \"Topic1\", \"Topic1\", \"Topic1\", \"Topic1\", \"Topic1\", \"Topic1\", \"Topic1\", \"Topic1\", \"Topic1\", \"Topic1\", \"Topic1\", \"Topic1\", \"Topic1\", \"Topic1\", \"Topic1\", \"Topic1\", \"Topic1\", \"Topic1\", \"Topic1\", \"Topic1\", \"Topic1\", \"Topic1\", \"Topic1\", \"Topic1\", \"Topic1\", \"Topic1\", \"Topic1\", \"Topic1\", \"Topic1\", \"Topic1\", \"Topic1\", \"Topic1\", \"Topic1\", \"Topic1\", \"Topic1\", \"Topic1\", \"Topic1\", \"Topic1\", \"Topic1\", \"Topic1\", \"Topic1\", \"Topic1\", \"Topic1\", \"Topic1\", \"Topic1\", \"Topic1\", \"Topic1\", \"Topic1\", \"Topic1\", \"Topic1\", \"Topic1\", \"Topic1\", \"Topic1\", \"Topic1\", \"Topic1\", \"Topic1\", \"Topic1\", \"Topic1\", \"Topic1\", \"Topic1\", \"Topic1\", \"Topic1\", \"Topic2\", \"Topic2\", \"Topic2\", \"Topic2\", \"Topic2\", \"Topic2\", \"Topic2\", \"Topic2\", \"Topic2\", \"Topic2\", \"Topic2\", \"Topic2\", \"Topic2\", \"Topic2\", \"Topic2\", \"Topic2\", \"Topic2\", \"Topic2\", \"Topic2\", \"Topic2\", \"Topic2\", \"Topic2\", \"Topic2\", \"Topic2\", \"Topic2\", \"Topic2\", \"Topic2\", \"Topic2\", \"Topic2\", \"Topic2\", \"Topic2\", \"Topic2\", \"Topic2\", \"Topic2\", \"Topic2\", \"Topic2\", \"Topic2\", \"Topic2\", \"Topic2\", \"Topic2\", \"Topic2\", \"Topic2\", \"Topic2\", \"Topic2\", \"Topic2\", \"Topic2\", \"Topic2\", \"Topic2\", \"Topic2\", \"Topic2\", \"Topic2\", \"Topic2\", \"Topic3\", \"Topic3\", \"Topic3\", \"Topic3\", \"Topic3\", \"Topic3\", \"Topic3\", \"Topic3\", \"Topic3\", \"Topic3\", \"Topic3\", \"Topic3\", \"Topic3\", \"Topic3\", \"Topic3\", \"Topic3\", \"Topic3\", \"Topic3\", \"Topic3\", \"Topic3\", \"Topic3\", \"Topic3\", \"Topic3\", \"Topic3\", \"Topic3\", \"Topic3\", \"Topic3\", \"Topic3\", \"Topic3\", \"Topic3\", \"Topic3\", \"Topic3\", \"Topic3\", \"Topic3\", \"Topic3\", \"Topic3\", \"Topic3\", \"Topic3\", \"Topic3\", \"Topic3\", \"Topic3\", \"Topic3\", \"Topic3\", \"Topic3\", \"Topic3\", \"Topic3\", \"Topic3\", \"Topic3\", \"Topic3\", \"Topic3\", \"Topic3\", \"Topic3\", \"Topic3\", \"Topic3\", \"Topic3\", \"Topic3\", \"Topic3\", \"Topic3\", \"Topic3\", \"Topic3\", \"Topic3\", \"Topic3\", \"Topic3\", \"Topic3\", \"Topic3\", \"Topic3\", \"Topic3\", \"Topic3\", \"Topic3\", \"Topic4\", \"Topic4\", \"Topic4\", \"Topic4\", \"Topic4\", \"Topic4\", \"Topic4\", \"Topic4\", \"Topic4\", \"Topic4\", \"Topic4\", \"Topic4\", \"Topic4\", \"Topic4\", \"Topic4\", \"Topic4\", \"Topic4\", \"Topic4\", \"Topic4\", \"Topic4\", \"Topic4\", \"Topic4\", \"Topic4\", \"Topic4\", \"Topic4\", \"Topic4\", \"Topic4\", \"Topic4\", \"Topic4\", \"Topic4\", \"Topic4\", \"Topic4\", \"Topic4\", \"Topic4\", \"Topic4\", \"Topic4\", \"Topic4\", \"Topic4\", \"Topic4\", \"Topic4\", \"Topic4\", \"Topic4\", \"Topic4\", \"Topic4\", \"Topic4\", \"Topic4\", \"Topic4\", \"Topic4\", \"Topic4\", \"Topic4\", \"Topic4\", \"Topic4\", \"Topic4\", \"Topic4\", \"Topic4\", \"Topic4\", \"Topic4\", \"Topic4\", \"Topic4\", \"Topic4\", \"Topic4\", \"Topic4\", \"Topic4\", \"Topic4\", \"Topic4\", \"Topic4\", \"Topic4\", \"Topic4\", \"Topic4\", \"Topic4\", \"Topic4\", \"Topic4\", \"Topic4\", \"Topic4\", \"Topic4\", \"Topic4\", \"Topic4\", \"Topic4\", \"Topic4\", \"Topic4\", \"Topic4\", \"Topic5\", \"Topic5\", \"Topic5\", \"Topic5\", \"Topic5\", \"Topic5\", \"Topic5\", \"Topic5\", \"Topic5\", \"Topic5\", \"Topic5\", \"Topic5\", \"Topic5\", \"Topic5\", \"Topic5\", \"Topic5\", \"Topic5\", \"Topic5\", \"Topic5\", \"Topic5\", \"Topic5\", \"Topic5\", \"Topic5\", \"Topic5\", \"Topic5\", \"Topic5\", \"Topic5\", \"Topic5\", \"Topic5\", \"Topic5\", \"Topic5\", \"Topic5\", \"Topic5\", \"Topic5\", \"Topic5\", \"Topic5\", \"Topic5\", \"Topic5\", \"Topic5\", \"Topic5\", \"Topic5\", \"Topic5\", \"Topic5\", \"Topic5\", \"Topic5\", \"Topic5\", \"Topic5\", \"Topic5\", \"Topic5\", \"Topic5\", \"Topic5\", \"Topic5\", \"Topic5\", \"Topic5\", \"Topic5\", \"Topic5\", \"Topic5\", \"Topic5\", \"Topic5\", \"Topic5\", \"Topic5\", \"Topic5\", \"Topic5\", \"Topic5\", \"Topic5\", \"Topic5\", \"Topic5\", \"Topic5\", \"Topic5\", \"Topic5\", \"Topic5\", \"Topic5\", \"Topic5\", \"Topic6\", \"Topic6\", \"Topic6\", \"Topic6\", \"Topic6\", \"Topic6\", \"Topic6\", \"Topic6\", \"Topic6\", \"Topic6\", \"Topic6\", \"Topic6\", \"Topic6\", \"Topic6\", \"Topic6\", \"Topic6\", \"Topic6\", \"Topic6\", \"Topic6\", \"Topic6\", \"Topic6\", \"Topic6\", \"Topic6\", \"Topic6\", \"Topic6\", \"Topic6\", \"Topic6\", \"Topic6\", \"Topic6\", \"Topic6\", \"Topic6\", \"Topic6\", \"Topic6\", \"Topic6\", \"Topic6\", \"Topic6\", \"Topic6\", \"Topic6\", \"Topic6\", \"Topic6\", \"Topic6\", \"Topic6\", \"Topic6\", \"Topic6\", \"Topic6\", \"Topic6\", \"Topic6\", \"Topic6\", \"Topic6\", \"Topic6\", \"Topic6\", \"Topic6\", \"Topic6\", \"Topic6\", \"Topic6\", \"Topic6\", \"Topic6\", \"Topic6\", \"Topic6\", \"Topic6\", \"Topic6\", \"Topic6\", \"Topic7\", \"Topic7\", \"Topic7\", \"Topic7\", \"Topic7\", \"Topic7\", \"Topic7\", \"Topic7\", \"Topic7\", \"Topic7\", \"Topic7\", \"Topic7\", \"Topic7\", \"Topic7\", \"Topic7\", \"Topic7\", \"Topic7\", \"Topic7\", \"Topic7\", \"Topic7\", \"Topic7\", \"Topic7\", \"Topic7\", \"Topic7\", \"Topic7\", \"Topic7\", \"Topic7\", \"Topic7\", \"Topic7\", \"Topic7\", \"Topic7\", \"Topic7\", \"Topic7\", \"Topic7\", \"Topic7\", \"Topic7\", \"Topic7\", \"Topic7\", \"Topic7\", \"Topic7\", \"Topic7\", \"Topic7\", \"Topic7\", \"Topic7\", \"Topic7\", \"Topic7\", \"Topic7\", \"Topic7\", \"Topic7\", \"Topic7\", \"Topic7\", \"Topic7\", \"Topic7\", \"Topic7\", \"Topic7\", \"Topic7\", \"Topic7\", \"Topic7\", \"Topic7\", \"Topic7\", \"Topic7\", \"Topic7\", \"Topic7\", \"Topic7\", \"Topic8\", \"Topic8\", \"Topic8\", \"Topic8\", \"Topic8\", \"Topic8\", \"Topic8\", \"Topic8\", \"Topic8\", \"Topic8\", \"Topic8\", \"Topic8\", \"Topic8\", \"Topic8\", \"Topic8\", \"Topic8\", \"Topic8\", \"Topic8\", \"Topic8\", \"Topic8\", \"Topic8\", \"Topic8\", \"Topic8\", \"Topic8\", \"Topic8\", \"Topic8\", \"Topic8\", \"Topic8\", \"Topic8\", \"Topic8\", \"Topic8\", \"Topic8\", \"Topic8\", \"Topic8\", \"Topic8\", \"Topic8\", \"Topic8\", \"Topic8\", \"Topic8\", \"Topic8\", \"Topic8\", \"Topic8\", \"Topic8\", \"Topic8\", \"Topic8\", \"Topic8\", \"Topic8\", \"Topic8\", \"Topic8\", \"Topic8\", \"Topic8\", \"Topic8\", \"Topic8\", \"Topic8\", \"Topic8\", \"Topic8\", \"Topic8\", \"Topic8\", \"Topic8\", \"Topic8\", \"Topic8\", \"Topic8\", \"Topic8\", \"Topic8\", \"Topic8\", \"Topic8\", \"Topic8\", \"Topic8\", \"Topic8\", \"Topic8\", \"Topic8\", \"Topic8\", \"Topic8\", \"Topic8\", \"Topic8\", \"Topic8\", \"Topic8\", \"Topic8\", \"Topic8\", \"Topic8\", \"Topic8\", \"Topic8\", \"Topic9\", \"Topic9\", \"Topic9\", \"Topic9\", \"Topic9\", \"Topic9\", \"Topic9\", \"Topic9\", \"Topic9\", \"Topic9\", \"Topic9\", \"Topic9\", \"Topic9\", \"Topic9\", \"Topic9\", \"Topic9\", \"Topic9\", \"Topic9\", \"Topic9\", \"Topic9\", \"Topic9\", \"Topic9\", \"Topic9\", \"Topic9\", \"Topic9\", \"Topic9\", \"Topic9\", \"Topic9\", \"Topic9\", \"Topic9\", \"Topic9\", \"Topic9\", \"Topic9\", \"Topic9\", \"Topic9\", \"Topic9\", \"Topic9\", \"Topic9\", \"Topic9\", \"Topic9\", \"Topic9\", \"Topic9\", \"Topic9\", \"Topic9\", \"Topic9\", \"Topic9\", \"Topic9\", \"Topic9\", \"Topic9\", \"Topic9\", \"Topic9\", \"Topic9\", \"Topic9\", \"Topic9\", \"Topic9\", \"Topic9\", \"Topic9\", \"Topic9\", \"Topic9\", \"Topic9\", \"Topic9\", \"Topic9\", \"Topic9\", \"Topic9\", \"Topic9\", \"Topic9\", \"Topic10\", \"Topic10\", \"Topic10\", \"Topic10\", \"Topic10\", \"Topic10\", \"Topic10\", \"Topic10\", \"Topic10\", \"Topic10\", \"Topic10\", \"Topic10\", \"Topic10\", \"Topic10\", \"Topic10\", \"Topic10\", \"Topic10\", \"Topic10\", \"Topic10\", \"Topic10\", \"Topic10\", \"Topic10\", \"Topic10\", \"Topic10\", \"Topic10\", \"Topic10\", \"Topic10\", \"Topic10\", \"Topic10\", \"Topic10\", \"Topic10\", \"Topic10\", \"Topic10\", \"Topic10\", \"Topic10\", \"Topic10\", \"Topic10\", \"Topic10\", \"Topic10\", \"Topic10\", \"Topic10\", \"Topic10\", \"Topic10\", \"Topic10\", \"Topic10\", \"Topic10\", \"Topic10\", \"Topic10\", \"Topic10\", \"Topic10\", \"Topic10\", \"Topic10\", \"Topic10\", \"Topic10\", \"Topic10\", \"Topic10\", \"Topic10\", \"Topic10\", \"Topic10\", \"Topic10\", \"Topic10\", \"Topic10\", \"Topic10\", \"Topic10\", \"Topic10\", \"Topic10\", \"Topic10\", \"Topic10\", \"Topic10\", \"Topic10\", \"Topic10\", \"Topic11\", \"Topic11\", \"Topic11\", \"Topic11\", \"Topic11\", \"Topic11\", \"Topic11\", \"Topic11\", \"Topic11\", \"Topic11\", \"Topic11\", \"Topic11\", \"Topic11\", \"Topic11\", \"Topic11\", \"Topic11\", \"Topic11\", \"Topic11\", \"Topic11\", \"Topic11\", \"Topic11\", \"Topic11\", \"Topic11\", \"Topic11\", \"Topic11\", \"Topic11\", \"Topic11\", \"Topic11\", \"Topic11\", \"Topic11\", \"Topic11\", \"Topic11\", \"Topic11\", \"Topic11\", \"Topic11\", \"Topic11\", \"Topic11\", \"Topic11\", \"Topic11\", \"Topic11\", \"Topic11\", \"Topic11\", \"Topic11\", \"Topic11\", \"Topic11\", \"Topic11\", \"Topic11\", \"Topic11\", \"Topic11\", \"Topic11\", \"Topic11\", \"Topic11\", \"Topic11\", \"Topic11\", \"Topic11\", \"Topic11\", \"Topic11\", \"Topic11\", \"Topic11\", \"Topic11\", \"Topic11\", \"Topic11\", \"Topic11\", \"Topic11\", \"Topic11\", \"Topic11\", \"Topic11\", \"Topic11\", \"Topic11\", \"Topic11\", \"Topic12\", \"Topic12\", \"Topic12\", \"Topic12\", \"Topic12\", \"Topic12\", \"Topic12\", \"Topic12\", \"Topic12\", \"Topic12\", \"Topic12\", \"Topic12\", \"Topic12\", \"Topic12\", \"Topic12\", \"Topic12\", \"Topic12\", \"Topic12\", \"Topic12\", \"Topic12\", \"Topic12\", \"Topic12\", \"Topic12\", \"Topic12\", \"Topic12\", \"Topic12\", \"Topic12\", \"Topic12\", \"Topic12\", \"Topic12\", \"Topic12\", \"Topic12\", \"Topic12\", \"Topic12\", \"Topic12\", \"Topic12\", \"Topic12\", \"Topic12\", \"Topic12\", \"Topic12\", \"Topic12\", \"Topic12\", \"Topic12\", \"Topic12\", \"Topic12\", \"Topic12\", \"Topic12\", \"Topic12\", \"Topic12\", \"Topic12\", \"Topic12\", \"Topic12\", \"Topic12\", \"Topic12\", \"Topic12\", \"Topic12\", \"Topic12\", \"Topic12\", \"Topic12\", \"Topic12\", \"Topic12\", \"Topic12\", \"Topic12\", \"Topic12\", \"Topic13\", \"Topic13\", \"Topic13\", \"Topic13\", \"Topic13\", \"Topic13\", \"Topic13\", \"Topic13\", \"Topic13\", \"Topic13\", \"Topic13\", \"Topic13\", \"Topic13\", \"Topic13\", \"Topic13\", \"Topic13\", \"Topic13\", \"Topic13\", \"Topic13\", \"Topic13\", \"Topic13\", \"Topic13\", \"Topic13\", \"Topic13\", \"Topic13\", \"Topic13\", \"Topic13\", \"Topic13\", \"Topic13\", \"Topic13\", \"Topic13\", \"Topic13\", \"Topic13\", \"Topic13\", \"Topic13\", \"Topic13\", \"Topic13\", \"Topic13\", \"Topic13\", \"Topic13\", \"Topic13\", \"Topic13\", \"Topic13\", \"Topic13\", \"Topic13\", \"Topic13\", \"Topic13\", \"Topic13\", \"Topic13\", \"Topic13\", \"Topic13\", \"Topic13\", \"Topic13\", \"Topic13\", \"Topic13\", \"Topic13\", \"Topic13\", \"Topic13\", \"Topic13\", \"Topic13\", \"Topic13\", \"Topic13\", \"Topic13\", \"Topic13\", \"Topic13\", \"Topic13\", \"Topic13\", \"Topic13\", \"Topic13\", \"Topic13\", \"Topic13\", \"Topic13\", \"Topic13\", \"Topic13\", \"Topic14\", \"Topic14\", \"Topic14\", \"Topic14\", \"Topic14\", \"Topic14\", \"Topic14\", \"Topic14\", \"Topic14\", \"Topic14\", \"Topic14\", \"Topic14\", \"Topic14\", \"Topic14\", \"Topic14\", \"Topic14\", \"Topic14\", \"Topic14\", \"Topic14\", \"Topic14\", \"Topic14\", \"Topic14\", \"Topic14\", \"Topic14\", \"Topic14\", \"Topic14\", \"Topic14\", \"Topic14\", \"Topic14\", \"Topic14\", \"Topic14\", \"Topic14\", \"Topic14\", \"Topic14\", \"Topic14\", \"Topic14\", \"Topic14\", \"Topic14\", \"Topic14\", \"Topic14\", \"Topic14\", \"Topic14\", \"Topic14\", \"Topic14\", \"Topic14\", \"Topic14\", \"Topic14\", \"Topic14\", \"Topic14\", \"Topic14\", \"Topic14\", \"Topic14\", \"Topic14\", \"Topic14\", \"Topic14\", \"Topic14\", \"Topic14\", \"Topic14\", \"Topic14\", \"Topic14\", \"Topic14\", \"Topic14\", \"Topic14\", \"Topic14\", \"Topic14\", \"Topic14\", \"Topic14\", \"Topic14\", \"Topic14\", \"Topic14\", \"Topic14\", \"Topic14\", \"Topic14\", \"Topic14\", \"Topic15\", \"Topic15\", \"Topic15\", \"Topic15\", \"Topic15\", \"Topic15\", \"Topic15\", \"Topic15\", \"Topic15\", \"Topic15\", \"Topic15\", \"Topic15\", \"Topic15\", \"Topic15\", \"Topic15\", \"Topic15\", \"Topic15\", \"Topic15\", \"Topic15\", \"Topic15\", \"Topic15\", \"Topic15\", \"Topic15\", \"Topic15\", \"Topic15\", \"Topic15\", \"Topic15\", \"Topic15\", \"Topic15\", \"Topic15\", \"Topic15\", \"Topic15\", \"Topic15\", \"Topic15\", \"Topic15\", \"Topic15\", \"Topic15\", \"Topic15\", \"Topic15\", \"Topic15\", \"Topic15\", \"Topic15\", \"Topic15\", \"Topic15\", \"Topic15\", \"Topic15\", \"Topic15\", \"Topic15\", \"Topic15\", \"Topic15\", \"Topic15\", \"Topic15\", \"Topic15\", \"Topic15\", \"Topic15\", \"Topic15\", \"Topic15\", \"Topic15\", \"Topic15\", \"Topic15\", \"Topic15\", \"Topic15\", \"Topic15\", \"Topic15\", \"Topic15\"], \"Term\": [\"team\", \"game\", \"campaign\", \"company\", \"zzz_al_gore\", \"percent\", \"season\", \"play\", \"million\", \"computer\", \"player\", \"market\", \"companies\", \"web\", \"com\", \"school\", \"coach\", \"show\", \"site\", \"case\", \"film\", \"government\", \"law\", \"zzz_bill_bradley\", \"family\", \"point\", \"court\", \"zzz_george_bush\", \"program\", \"official\", \"investment\", \"investor\", \"zzz_aol\", \"merger\", \"shares\", \"zzz_america_online\", \"zzz_time_warner\", \"cent\", \"zzz_wall_street\", \"zzz_fed\", \"inflation\", \"shareholder\", \"zzz_coke\", \"revenues\", \"zzz_coca_cola\", \"acquisition\", \"zzz_nasdaq\", \"zzz_steve_case\", \"portfolio\", \"prices\", \"zzz_gerald_levin\", \"zzz_michael_dell\", \"zzz_alan_greenspan\", \"zzz_mannesmann\", \"valuation\", \"zzz_warner_lambert\", \"profit\", \"zzz_merrill_lynch\", \"dividend\", \"zzz_aol_time_warner\", \"earning\", \"stock\", \"market\", \"firm\", \"company\", \"companies\", \"analyst\", \"executives\", \"growth\", \"rates\", \"revenue\", \"customer\", \"share\", \"brand\", \"corporate\", \"price\", \"percent\", \"marketing\", \"business\", \"industry\", \"sales\", \"executive\", \"billion\", \"million\", \"deal\", \"fund\", \"chief\", \"consumer\", \"product\", \"zzz_internet\", \"money\", \"media\", \"zzz_al_gore\", \"zzz_bill_bradley\", \"zzz_george_bush\", \"candidates\", \"zzz_mccain\", \"zzz_bush\", \"primary\", \"zzz_john_mccain\", \"zzz_steve_forbes\", \"vote\", \"zzz_bradley\", \"zzz_new_hampshire\", \"zzz_republican\", \"zzz_iowa\", \"zzz_governor_bush\", \"zzz_bill_clinton\", \"poll\", \"caucuses\", \"voter\", \"zzz_alan_keyes\", \"zzz_gore\", \"ballot\", \"zzz_gary_bauer\", \"abortion\", \"debates\", \"campaigning\", \"voting\", \"caucus\", \"primaries\", \"zzz_rudolph_giuliani\", \"campaign\", \"zzz_gop\", \"votes\", \"republican\", \"candidate\", \"presidential\", \"democrat\", \"senator\", \"democratic\", \"debate\", \"election\", \"conservative\", \"supporter\", \"political\", \"politic\", \"president\", \"tax\", \"race\", \"zzz_party\", \"percent\", \"support\", \"question\", \"zzz_ram\", \"titan\", \"touchdown\", \"zzz_kurt_warner\", \"scored\", \"zzz_jacksonville\", \"zzz_steve_mcnair\", \"yard\", \"zzz_tampa_bay\", \"zzz_laker\", \"viking\", \"zzz_buffalo\", \"zzz_eddie_george\", \"zzz_jeff_fisher\", \"tournament\", \"pointer\", \"zzz_dick_vermeil\", \"zzz_bruin\", \"zzz_usc\", \"zzz_dan_marino\", \"zzz_phil_jackson\", \"zzz_florida_state\", \"cornerback\", \"zzz_virginia_tech\", \"zzz_sonic\", \"zzz_bobby_bowden\", \"zzz_nfc\", \"zzz_bud_adam\", \"buccaneer\", \"halftime\", \"rebound\", \"offense\", \"scoring\", \"consecutive\", \"zzz_tennessee\", \"streak\", \"zzz_st_louis\", \"turnover\", \"game\", \"tackle\", \"jaguar\", \"ball\", \"games\", \"quarterback\", \"playoff\", \"receiver\", \"zzz_super_bowl\", \"play\", \"season\", \"played\", \"point\", \"throw\", \"pass\", \"shot\", \"team\", \"goal\", \"beat\", \"playing\", \"win\", \"defense\", \"field\", \"player\", \"left\", \"lead\", \"half\", \"coach\", \"won\", \"run\", \"quarter\", \"homeless\", \"applicant\", \"zzz_abc_executive\", \"zzz_roman_polanski\", \"zzz_virtue\", \"zzz_faith\", \"educator\", \"zzz_derrick_thomas\", \"zzz_bill_bennett\", \"graduation\", \"semester\", \"zzz_laura_bush\", \"zzz_thad_steele\", \"zzz_jim_washburn\", \"laughed\", \"zzz_akira_hareruya\", \"zzz_fred\", \"teenage\", \"dad\", \"dropout\", \"zzz_wolf\", \"zzz_ann_bowden\", \"crying\", \"zzz_swift\", \"zzz_sat\", \"zzz_james_casserly\", \"firsthand\", \"mom\", \"zzz_jane_swift\", \"zzz_hub\", \"divorce\", \"pretend\", \"grief\", \"wife\", \"grandchildren\", \"husband\", \"friend\", \"daughter\", \"classes\", \"children\", \"parent\", \"sister\", \"zzz_yale\", \"kid\", \"graduate\", \"student\", \"son\", \"family\", \"married\", \"school\", \"mother\", \"learned\", \"young\", \"women\", \"joke\", \"baby\", \"sat\", \"brother\", \"remember\", \"grade\", \"class\", \"child\", \"tell\", \"knew\", \"father\", \"thought\", \"lives\", \"age\", \"learn\", \"home\", \"wanted\", \"feel\", \"live\", \"told\", \"help\", \"job\", \"room\", \"real\", \"asked\", \"hour\", \"need\", \"syrian\", \"zzz_syria\", \"israeli\", \"zzz_israel\", \"palestinian\", \"zzz_barak\", \"zzz_harvard_pilgrim\", \"zzz_israeli\", \"zzz_golan_height\", \"taxpayer\", \"zzz_golan\", \"zzz_pataki\", \"zzz_jane_hull\", \"zzz_shepherdstown\", \"zzz_house_republican\", \"tuition\", \"withdrawal\", \"zzz_hmo\", \"surpluses\", \"zzz_arafat\", \"deduction\", \"zzz_labor\", \"cigarettes\", \"israelis\", \"zzz_hafez_assad\", \"zzz_yasser_arafat\", \"audit\", \"sharaa\", \"zzz_sharaa\", \"zzz_israeli_syrian\", \"framework\", \"employer\", \"union\", \"negotiator\", \"voucher\", \"gambling\", \"zzz_james_rubin\", \"zzz_middle_east\", \"worker\", \"proposed\", \"zzz_clinton\", \"program\", \"proposal\", \"agreement\", \"income\", \"plan\", \"peace\", \"spending\", \"insurance\", \"zzz_congress\", \"debt\", \"pay\", \"bill\", \"benefit\", \"tax\", \"talk\", \"million\", \"government\", \"money\", \"public\", \"billion\", \"federal\", \"official\", \"health\", \"school\", \"care\", \"group\", \"member\", \"cost\", \"president\", \"effort\", \"system\", \"help\", \"zzz_russian\", \"zzz_russia\", \"zzz_vladimir_putin\", \"russian\", \"zzz_boris_yeltsin\", \"nuclear\", \"rebel\", \"zzz_chechnya\", \"zzz_kosovo\", \"zzz_moscow\", \"zzz_serb\", \"zzz_bleated_nato\", \"zzz_kremlin\", \"zzz_chechen\", \"zzz_grozny\", \"zzz_soviet\", \"zzz_iran\", \"zzz_india\", \"missile\", \"zzz_nato\", \"zzz_security_council\", \"zzz_helmut_kohl\", \"zzz_serbia\", \"zzz_will_putin\", \"terrorism\", \"zzz_iraq\", \"parliamentary\", \"zzz_islamic\", \"missiles\", \"zzz_today_russia\", \"army\", \"civilian\", \"commander\", \"zzz_pentagon\", \"soldier\", \"zzz_united_nation\", \"coup\", \"troop\", \"military\", \"weapon\", \"zzz_china\", \"forces\", \"war\", \"minister\", \"soviet\", \"countries\", \"zzz_united_states\", \"european\", \"government\", \"international\", \"leader\", \"political\", \"power\", \"country\", \"zzz_u_s\", \"zzz_american\", \"zzz_union\", \"official\", \"foreign\", \"economic\", \"president\", \"attack\", \"film\", \"movie\", \"actor\", \"theater\", \"zzz_hollywood\", \"zzz_abc\", \"comedy\", \"singer\", \"actress\", \"starring\", \"drama\", \"comic\", \"zzz_oscar\", \"musician\", \"festival\", \"opera\", \"documentary\", \"musical\", \"zzz_sopranos\", \"guitar\", \"zzz_denzel_washington\", \"zzz_tony\", \"genre\", \"soundtrack\", \"zzz_hurricane\", \"premiere\", \"kiss\", \"quiz\", \"studio\", \"zzz_angela\", \"zzz_fox\", \"jazz\", \"zzz_cb\", \"song\", \"composer\", \"album\", \"zzz_nbc\", \"producer\", \"movies\", \"music\", \"character\", \"pop\", \"script\", \"concert\", \"viewer\", \"show\", \"series\", \"band\", \"network\", \"award\", \"cast\", \"production\", \"television\", \"love\", \"play\", \"audience\", \"director\", \"sound\", \"hit\", \"writer\", \"set\", \"book\", \"hour\", \"kind\", \"museum\", \"painting\", \"ski\", \"avalanche\", \"furniture\", \"pant\", \"rear\", \"zzz_times_square\", \"zzz_sotheby\", \"zzz_christie\", \"pigeon\", \"zzz_modern_art\", \"galaxies\", \"leather\", \"frames\", \"zzz_ice\", \"galleries\", \"sedan\", \"sky\", \"glow\", \"curator\", \"solar\", \"exhibition\", \"landlord\", \"fishing\", \"cab\", \"antiques\", \"deer\", \"carpet\", \"fur\", \"object\", \"jacket\", \"laser\", \"collector\", \"skier\", \"luxury\", \"zzz_suv\", \"metal\", \"firework\", \"wheel\", \"wall\", \"parking\", \"car\", \"designer\", \"park\", \"visitor\", \"square\", \"hotel\", \"tourist\", \"space\", \"clothes\", \"feet\", \"display\", \"light\", \"building\", \"house\", \"houses\", \"art\", \"driver\", \"floor\", \"door\", \"bag\", \"room\", \"foot\", \"look\", \"sun\", \"tour\", \"seat\", \"built\", \"small\", \"road\", \"side\", \"drive\", \"open\", \"front\", \"area\", \"place\", \"show\", \"looking\", \"town\", \"head\", \"ago\", \"zzz_elian\", \"zzz_cuba\", \"judge\", \"prosecutor\", \"zzz_immigration\", \"zzz_elian_gonzalez\", \"inmates\", \"custody\", \"attorney\", \"zzz_reno\", \"zzz_fidel_castro\", \"cuban\", \"defendant\", \"juvenile\", \"uncle\", \"grandparent\", \"indictment\", \"fff\", \"jury\", \"legal\", \"testimony\", \"exile\", \"convicted\", \"fxf\", \"ffx\", \"zzz_naturalization_service\", \"zzz_cuban_american\", \"xff\", \"testified\", \"asylum\", \"prison\", \"zzz_justice_department\", \"lawyer\", \"court\", \"arrested\", \"charged\", \"grandmother\", \"arrest\", \"case\", \"relatives\", \"ruling\", \"lawsuit\", \"violation\", \"law\", \"zzz_miami\", \"boy\", \"police\", \"criminal\", \"investigation\", \"hearing\", \"charges\", \"zzz_florida\", \"decision\", \"father\", \"federal\", \"trial\", \"official\", \"death\", \"officer\", \"cases\", \"family\", \"return\", \"right\", \"group\", \"home\", \"government\", \"flag\", \"zzz_black\", \"zzz_king\", \"priest\", \"religion\", \"hispanic\", \"jew\", \"zzz_jesus\", \"racism\", \"zzz_earl_caldwell\", \"zzz_christian\", \"zzz_david_irving\", \"zzz_jackson\", \"zzz_harlem\", \"prayer\", \"zzz_islam\", \"racial\", \"heritage\", \"bishop\", \"zzz_naacp\", \"symbol\", \"zzz_jane_fonda\", \"boycott\", \"zzz_bible\", \"zzz_christianity\", \"zzz_roman_catholic\", \"zzz_thomas_jefferson\", \"racist\", \"zzz_schulke\", \"zzz_christ\", \"faith\", \"zzz_holocaust\", \"church\", \"religious\", \"historical\", \"black\", \"zzz_southern\", \"zzz_african_american\", \"language\", \"history\", \"book\", \"white\", \"jewish\", \"century\", \"movement\", \"society\", \"african\", \"belief\", \"wrote\", \"american\", \"nature\", \"died\", \"community\", \"reporter\", \"published\", \"born\", \"writer\", \"zzz_american\", \"newspaper\", \"zzz_new_york\", \"word\", \"right\", \"zzz_america\", \"gay\", \"view\", \"group\", \"part\", \"known\", \"place\", \"death\", \"member\", \"computer\", \"site\", \"software\", \"zzz_microsoft\", \"digital\", \"zzz_apple\", \"click\", \"zzz_bill_gates\", \"zzz_random_house\", \"zzz_amazon\", \"mp3\", \"bookstores\", \"zzz_mac\", \"hardware\", \"user\", \"zzz_putnam\", \"browser\", \"zzz_motorola\", \"computing\", \"portable\", \"zzz_steve_ballmer\", \"cyberspace\", \"desktop\", \"devices\", \"audio\", \"zzz_tom_brokaw\", \"printer\", \"zzz_levine_scholastic\", \"zzz_dsl\", \"virtual\", \"www\", \"web\", \"sites\", \"mail\", \"listing\", \"online\", \"zzz_world_wide\", \"device\", \"domain\", \"org\", \"electronic\", \"chat\", \"internet\", \"copy\", \"telegram\", \"files\", \"card\", \"technology\", \"com\", \"link\", \"zzz_internet\", \"video\", \"information\", \"search\", \"window\", \"system\", \"find\", \"version\", \"book\", \"program\", \"free\", \"offer\", \"list\", \"personal\", \"services\", \"called\", \"business\", \"company\", \"set\", \"number\", \"zzz_bill_belichick\", \"zzz_bill_parcell\", \"patriot\", \"zzz_john_rocker\", \"zzz_michael_jordan\", \"zzz_jerry_jones\", \"zzz_chan_gailey\", \"braves\", \"zzz_giant\", \"athletes\", \"zzz_leon_smith\", \"zzz_johnson\", \"yankees\", \"zzz_mark_cuban\", \"zzz_olympic\", \"zzz_pete_carroll\", \"zzz_al_groh\", \"zzz_dave_campo\", \"packer\", \"zzz_carlton_fisk\", \"zzz_red_sox\", \"zzz_bobby_phill\", \"zzz_paul_tagliabue\", \"zzz_dallas_maverick\", \"zzz_tony_perez\", \"zzz_robert_kraft\", \"wizard\", \"zzz_world_series\", \"baseball\", \"zzz_don_nelson\", \"pitcher\", \"contract\", \"jet\", \"zzz_mike_tyson\", \"coaching\", \"draft\", \"coordinator\", \"salary\", \"owner\", \"zzz_new_england\", \"assistant\", \"coach\", \"player\", \"sport\", \"head\", \"coaches\", \"team\", \"club\", \"football\", \"league\", \"zzz_nfl\", \"fan\", \"job\", \"manager\", \"season\", \"pick\", \"guy\", \"million\", \"won\", \"deal\", \"agent\", \"run\", \"career\", \"right\", \"ship\", \"helicopter\", \"zzz_boeing\", \"west\", \"planes\", \"zzz_prada\", \"zzz_stripes\", \"zzz_paul_cayard\", \"zzz_airbus\", \"airlines\", \"zzz_apache\", \"airline\", \"zzz_mexican\", \"sail\", \"zzz_john_koskinen\", \"bonfire\", \"flight\", \"northwest\", \"zzz_border_patrol\", \"highway\", \"trafficking\", \"congestion\", \"lake\", \"cartel\", \"snow\", \"zzz_jerry_thomas\", \"canal\", \"sailing\", \"zzz_united\", \"zzz_delta\", \"storm\", \"rain\", \"zzz_pacific\", \"accident\", \"fuel\", \"gasoline\", \"zzz_nasa\", \"temperatures\", \"plane\", \"zzz_new_mexico\", \"pilot\", \"y2k\", \"boat\", \"zzz_navy\", \"zzz_alaska\", \"satellites\", \"weather\", \"wind\", \"crash\", \"train\", \"traffic\", \"miles\", \"crew\", \"passenger\", \"border\", \"zzz_army\", \"air\", \"area\", \"problem\", \"system\", \"hour\", \"fire\", \"reported\", \"agent\", \"official\", \"ground\", \"morning\", \"control\", \"water\", \"night\", \"power\", \"nearly\", \"early\", \"race\", \"patient\", \"disease\", \"zzz_eastern\", \"flu\", \"austin\", \"eta\", \"zzz_homocysteine\", \"diseases\", \"infection\", \"dayton\", \"symptom\", \"nytsyn\", \"doctor\", \"pageex\", \"zzz_rick_christie\", \"andya\", \"artd\", \"zzz_dalglish\", \"zzz_tom_oder\", \"pfoutch\", \"tduncan\", \"toder\", \"zzz_paul_foutch\", \"clinical\", \"rickc\", \"potassium\", \"layout\", \"zzz_fda\", \"zzz_dna\", \"medication\", \"commentary\", \"cancer\", \"medicine\", \"staffed\", \"statesman\", \"marked\", \"treatment\", \"medical\", \"blood\", \"zzz_andy_alexander\", \"hospital\", \"disorder\", \"study\", \"physician\", \"brain\", \"daily\", \"researcher\", \"cell\", \"test\", \"research\", \"scientific\", \"science\", \"therapy\", \"drug\", \"aging\", \"com\", \"scientist\", \"surgery\", \"heart\", \"information\", \"studies\", \"risk\", \"american\", \"found\", \"health\", \"human\", \"question\", \"need\", \"percent\", \"women\", \"level\", \"today\", \"result\", \"problem\", \"cup\", \"tablespoon\", \"cooking\", \"teaspoon\", \"sauce\", \"recipes\", \"ingredient\", \"cheese\", \"olive\", \"flavor\", \"garlic\", \"wine\", \"pepper\", \"juice\", \"recipe\", \"chopped\", \"soup\", \"gram\", \"milk\", \"kitchen\", \"oven\", \"bread\", \"wines\", \"potatoes\", \"dish\", \"calories\", \"zzz_craig_claiborne\", \"chicken\", \"dishes\", \"tender\", \"butter\", \"onion\", \"pan\", \"cream\", \"cook\", \"salt\", \"taste\", \"food\", \"egg\", \"fish\", \"bowl\", \"restaurant\", \"fat\", \"meal\", \"oil\", \"serving\", \"medium\", \"meat\", \"minutes\", \"water\", \"add\", \"fresh\", \"hot\", \"serve\", \"green\", \"large\", \"pound\", \"leaves\", \"small\", \"makes\", \"hand\", \"red\", \"white\", \"hour\", \"high\"], \"loglift\": [30.0, 29.0, 28.0, 27.0, 26.0, 25.0, 24.0, 23.0, 22.0, 21.0, 20.0, 19.0, 18.0, 17.0, 16.0, 15.0, 14.0, 13.0, 12.0, 11.0, 10.0, 9.0, 8.0, 7.0, 6.0, 5.0, 4.0, 3.0, 2.0, 1.0, 2.4827, 2.4826, 2.4825, 2.4824, 2.4823, 2.4818, 2.4816, 2.4814, 2.4809, 2.4803, 2.4802, 2.48, 2.4792, 2.4791, 2.479, 2.4783, 2.4783, 2.4779, 2.4777, 2.4771, 2.4769, 2.4766, 2.4751, 2.474, 2.4737, 2.4735, 2.4734, 2.4731, 2.4723, 2.4718, 2.4674, 2.4539, 2.4439, 2.4399, 2.3802, 2.392, 2.3919, 2.4093, 2.3864, 2.378, 2.416, 2.3368, 2.332, 2.3727, 2.3668, 2.2526, 1.8901, 2.3677, 1.9931, 2.1363, 2.1548, 2.0558, 1.9557, 1.6367, 1.8423, 1.944, 1.8842, 2.1123, 1.8766, 1.6656, 1.1662, 1.8444, 2.4926, 2.4924, 2.4924, 2.4923, 2.4923, 2.4923, 2.492, 2.492, 2.492, 2.492, 2.4919, 2.4919, 2.4919, 2.4918, 2.4912, 2.4912, 2.4911, 2.4911, 2.4907, 2.4905, 2.4904, 2.4904, 2.4899, 2.4899, 2.4894, 2.4893, 2.4893, 2.4892, 2.4888, 2.4886, 2.4777, 2.4883, 2.4882, 2.4654, 2.4366, 2.4163, 2.4465, 2.4455, 2.3676, 2.3005, 2.1956, 2.3387, 2.3223, 1.8369, 2.1904, 1.6503, 1.9061, 2.0921, 2.2414, 0.8891, 1.6782, 1.2227, 2.5647, 2.5646, 2.5638, 2.5636, 2.5633, 2.5629, 2.5626, 2.5623, 2.5622, 2.5621, 2.562, 2.5617, 2.5612, 2.5612, 2.5611, 2.5606, 2.5603, 2.5602, 2.5601, 2.5601, 2.5597, 2.5597, 2.5591, 2.559, 2.5586, 2.5582, 2.5582, 2.5581, 2.5581, 2.5581, 2.5571, 2.5485, 2.5541, 2.5554, 2.5431, 2.5535, 2.5371, 2.5542, 2.483, 2.5465, 2.5421, 2.4765, 2.4396, 2.462, 2.4428, 2.4867, 2.379, 2.2305, 2.1356, 2.2714, 2.1041, 2.4402, 2.3211, 2.2268, 1.9564, 2.1823, 2.3077, 2.1631, 1.9913, 2.158, 2.0418, 1.7062, 1.6923, 1.8823, 1.6644, 1.5789, 1.4231, 1.3059, 1.8246, 2.593, 2.5873, 2.5872, 2.5854, 2.5825, 2.582, 2.5809, 2.5803, 2.5793, 2.5786, 2.5783, 2.5767, 2.5762, 2.5758, 2.5748, 2.5743, 2.5738, 2.5727, 2.5726, 2.5695, 2.5695, 2.5688, 2.5681, 2.568, 2.568, 2.5672, 2.5672, 2.567, 2.5664, 2.5664, 2.5661, 2.5624, 2.5618, 2.4695, 2.5243, 2.4718, 2.3831, 2.4115, 2.4839, 2.3686, 2.4017, 2.3997, 2.5321, 2.3272, 2.4543, 2.2833, 2.2941, 2.2254, 2.3842, 2.1596, 2.2229, 2.2996, 2.1692, 2.1028, 2.4333, 2.3239, 2.3608, 2.2135, 2.1933, 2.4056, 2.1415, 2.0588, 1.9705, 2.0566, 1.8985, 1.8376, 1.9844, 1.938, 2.1664, 1.5768, 1.8015, 1.7558, 1.8948, 1.5019, 1.4189, 1.4018, 1.6156, 1.6334, 1.2971, 1.2289, 0.8845, 2.621, 2.621, 2.6205, 2.6204, 2.6204, 2.6199, 2.6195, 2.6185, 2.6177, 2.6175, 2.6161, 2.6147, 2.614, 2.614, 2.6132, 2.6129, 2.6125, 2.6114, 2.6111, 2.6107, 2.6099, 2.6098, 2.6092, 2.6079, 2.6078, 2.6072, 2.6065, 2.6063, 2.6063, 2.6061, 2.6031, 2.5912, 2.5669, 2.5964, 2.5993, 2.5898, 2.5928, 2.5927, 2.5241, 2.4925, 2.2515, 2.1741, 2.3036, 2.3119, 2.3405, 2.0394, 2.2706, 2.2819, 2.3051, 2.1344, 2.2803, 1.9979, 2.0051, 2.0918, 1.7966, 1.7518, 1.4185, 1.5956, 1.5912, 1.6583, 1.7318, 1.6904, 1.36, 1.7113, 1.4277, 1.7223, 1.2889, 1.49, 1.7208, 0.995, 1.6086, 1.2008, 1.1664, 2.6528, 2.6522, 2.6521, 2.652, 2.652, 2.6519, 2.6518, 2.6516, 2.6515, 2.6513, 2.6508, 2.6505, 2.6504, 2.6503, 2.6499, 2.6498, 2.6492, 2.6489, 2.6485, 2.648, 2.6476, 2.6476, 2.6457, 2.6455, 2.6454, 2.6452, 2.6449, 2.6449, 2.6448, 2.6447, 2.643, 2.6426, 2.639, 2.6415, 2.6283, 2.6366, 2.6399, 2.6184, 2.5474, 2.5711, 2.5552, 2.5431, 2.4256, 2.5265, 2.6169, 2.4068, 2.0432, 2.3797, 1.9091, 2.2573, 1.9165, 1.7159, 1.8879, 1.7475, 1.9337, 1.7834, 2.2817, 1.1438, 2.0204, 1.8288, 0.7383, 1.8198, 2.6564, 2.6553, 2.6548, 2.6547, 2.6543, 2.654, 2.6532, 2.6531, 2.6524, 2.6518, 2.6515, 2.6501, 2.6496, 2.6496, 2.6495, 2.6492, 2.6491, 2.6475, 2.6468, 2.6468, 2.6466, 2.6462, 2.6454, 2.6453, 2.645, 2.6444, 2.644, 2.644, 2.6436, 2.6431, 2.6427, 2.6358, 2.6349, 2.6106, 2.6349, 2.6135, 2.6231, 2.5985, 2.5727, 2.5121, 2.5099, 2.5642, 2.5965, 2.6058, 2.5427, 2.2599, 2.2771, 2.4938, 2.0753, 2.274, 2.263, 2.1824, 1.6446, 1.8268, 1.1477, 2.1145, 1.4146, 1.8779, 1.5256, 1.8935, 0.8948, 0.8993, 0.8638, 0.9972, 2.6971, 2.6964, 2.6947, 2.6942, 2.6928, 2.6925, 2.6924, 2.6923, 2.6884, 2.6879, 2.6863, 2.6857, 2.6854, 2.6853, 2.6845, 2.6843, 2.6837, 2.6835, 2.683, 2.6819, 2.6819, 2.6814, 2.6807, 2.6806, 2.6805, 2.68, 2.6797, 2.679, 2.6785, 2.6783, 2.673, 2.6759, 2.6773, 2.6765, 2.6781, 2.6623, 2.6763, 2.6489, 2.6574, 2.6158, 2.5582, 2.6423, 2.4684, 2.5769, 2.5705, 2.5458, 2.5576, 2.4702, 2.5925, 2.4292, 2.5455, 2.4006, 2.4792, 2.2276, 2.1712, 2.0791, 2.4646, 2.0578, 2.2262, 2.1987, 2.0909, 2.3694, 1.7806, 2.0942, 1.5197, 2.402, 2.1138, 2.0645, 1.9073, 1.4036, 1.7363, 1.4929, 1.9412, 1.4018, 1.4235, 1.5104, 0.9155, 0.5123, 1.3222, 1.4494, 0.809, 0.6871, 2.7385, 2.7383, 2.7379, 2.737, 2.7367, 2.7361, 2.736, 2.7358, 2.7347, 2.7343, 2.7339, 2.7337, 2.7336, 2.7331, 2.7326, 2.7326, 2.7325, 2.7317, 2.7317, 2.7317, 2.7312, 2.7306, 2.7302, 2.7301, 2.7297, 2.7295, 2.7291, 2.7288, 2.7286, 2.7285, 2.7285, 2.7236, 2.7053, 2.6926, 2.7137, 2.7022, 2.6993, 2.7067, 2.6244, 2.6763, 2.6792, 2.6757, 2.708, 2.5281, 2.4717, 2.3716, 2.4458, 2.5848, 2.5573, 2.5459, 2.5084, 2.4617, 2.0026, 2.0547, 1.9942, 2.3373, 1.627, 2.0207, 2.0883, 2.2886, 1.5757, 1.727, 1.0126, 1.0606, 0.8557, 0.8907, 2.7764, 2.7756, 2.7755, 2.7747, 2.7738, 2.7736, 2.773, 2.7726, 2.7719, 2.7714, 2.771, 2.7705, 2.7698, 2.7691, 2.7686, 2.7682, 2.768, 2.768, 2.7668, 2.7666, 2.7662, 2.7662, 2.7645, 2.7644, 2.7643, 2.7637, 2.7633, 2.7631, 2.7631, 2.7621, 2.7555, 2.7615, 2.7305, 2.6575, 2.6947, 2.5585, 2.6936, 2.6403, 2.4823, 2.2056, 2.0618, 2.1967, 2.5244, 2.1346, 2.3564, 2.3933, 2.5329, 2.4771, 2.0275, 1.5772, 2.3873, 2.0058, 1.9738, 1.8186, 2.2429, 2.2498, 2.0424, 1.4988, 1.3603, 1.2008, 1.4614, 0.7642, 1.5505, 2.1196, 1.6363, 0.89, 0.6399, 1.1988, 0.9469, 1.4088, 0.9378, 2.8334, 2.8329, 2.8326, 2.8324, 2.8313, 2.8287, 2.8272, 2.8269, 2.8252, 2.8247, 2.8243, 2.824, 2.8237, 2.8236, 2.8235, 2.8232, 2.8225, 2.8213, 2.821, 2.8199, 2.8199, 2.8196, 2.8196, 2.8191, 2.8188, 2.8187, 2.8172, 2.817, 2.817, 2.8169, 2.8128, 2.7944, 2.7926, 2.7691, 2.8126, 2.7568, 2.7936, 2.7806, 2.7949, 2.7924, 2.6554, 2.7175, 2.4836, 2.7346, 2.618, 2.6761, 2.479, 2.3713, 2.2065, 2.5611, 2.2511, 2.4974, 2.1861, 2.4415, 2.3565, 1.871, 1.7571, 2.2349, 1.6835, 1.6144, 1.7839, 1.7826, 1.9653, 1.9463, 2.014, 1.2188, 1.0713, 0.507, 1.0536, 1.0366, 2.8456, 2.8455, 2.8452, 2.8442, 2.8435, 2.8428, 2.8428, 2.8413, 2.841, 2.8407, 2.8406, 2.8402, 2.8394, 2.8392, 2.8384, 2.8381, 2.8378, 2.8377, 2.8373, 2.837, 2.8361, 2.8359, 2.8359, 2.8356, 2.8354, 2.8352, 2.8347, 2.8347, 2.8343, 2.834, 2.8155, 2.7488, 2.7353, 2.749, 2.7026, 2.6878, 2.6923, 2.736, 2.5574, 2.6619, 2.6115, 2.3792, 2.2956, 2.3954, 2.2646, 2.5408, 2.0615, 2.5324, 2.2641, 2.3345, 2.221, 2.1805, 1.8505, 2.0715, 1.5693, 2.3245, 1.8275, 1.1068, 1.54, 1.5348, 2.0143, 1.1142, 1.7389, 0.5782, 2.8657, 2.8643, 2.8642, 2.8628, 2.8624, 2.8614, 2.8613, 2.8606, 2.8586, 2.8579, 2.8578, 2.857, 2.8559, 2.8558, 2.8554, 2.8552, 2.8551, 2.8538, 2.8533, 2.8523, 2.8522, 2.852, 2.8516, 2.851, 2.8509, 2.8507, 2.8505, 2.8503, 2.8503, 2.8496, 2.8409, 2.8444, 2.845, 2.8142, 2.8103, 2.8454, 2.8355, 2.8237, 2.7722, 2.793, 2.7578, 2.7366, 2.7329, 2.7681, 2.796, 2.8252, 2.6592, 2.6693, 2.714, 2.7087, 2.6515, 2.5675, 2.6067, 2.5982, 2.3286, 2.5035, 2.1238, 2.1218, 1.5902, 1.4977, 1.5805, 2.19, 2.0435, 1.9103, 0.9107, 1.8431, 1.7917, 1.4206, 1.5962, 0.8505, 1.2058, 1.4718, 0.9842, 1.4155, 2.8877, 2.8867, 2.8853, 2.8849, 2.8837, 2.8831, 2.8829, 2.8819, 2.8817, 2.8815, 2.8815, 2.8815, 2.8814, 2.8812, 2.8812, 2.881, 2.881, 2.881, 2.881, 2.881, 2.881, 2.881, 2.881, 2.8809, 2.8801, 2.8793, 2.8792, 2.879, 2.8789, 2.8786, 2.8732, 2.8663, 2.878, 2.8775, 2.8685, 2.845, 2.8197, 2.8071, 2.8036, 2.8764, 2.7246, 2.8762, 2.6776, 2.8181, 2.7626, 2.6549, 2.7578, 2.6522, 2.5019, 2.5387, 2.8064, 2.6404, 2.8018, 2.3603, 2.7629, 2.1242, 2.5361, 2.6578, 2.3197, 2.0937, 2.5484, 2.2227, 1.64, 1.7183, 1.8162, 2.0592, 1.5157, 1.3543, 0.929, 1.5056, 1.8324, 1.4596, 1.6133, 0.9722, 3.0652, 3.064, 3.0636, 3.0624, 3.0622, 3.0621, 3.0621, 3.062, 3.062, 3.0618, 3.0618, 3.0617, 3.0616, 3.0614, 3.0614, 3.0613, 3.0611, 3.0609, 3.0609, 3.0608, 3.0608, 3.0606, 3.0597, 3.0596, 3.0594, 3.0594, 3.0591, 3.059, 3.059, 3.0588, 3.0584, 3.0582, 3.0548, 3.0524, 3.0492, 3.0544, 3.0424, 2.9897, 3.0476, 3.0334, 3.0343, 2.9144, 2.9754, 3.0326, 2.803, 2.7663, 2.9087, 2.9738, 2.3287, 2.4258, 2.4248, 2.7291, 2.547, 2.5091, 2.6259, 1.9495, 2.4315, 2.6722, 1.5735, 1.7214, 1.4096, 2.3939, 1.7252, 1.1458, 0.7184], \"Freq\": [6907.0, 6128.0, 5535.0, 6004.0, 4454.0, 8130.0, 5185.0, 4951.0, 6992.0, 2894.0, 3868.0, 3512.0, 3555.0, 2818.0, 3410.0, 4056.0, 3341.0, 4977.0, 2460.0, 3143.0, 2540.0, 4203.0, 3060.0, 2665.0, 3262.0, 5304.0, 2457.0, 2491.0, 3383.0, 4840.0, 1074.9682016270017, 971.5602641304497, 945.9454539248818, 870.0497199824582, 795.102682714315, 635.7216414352255, 996.2263776617374, 535.1597939615143, 438.39273318492417, 368.1891792881824, 356.80481919681887, 343.5230657568947, 281.8577819286756, 279.0116919058347, 273.3195118601529, 240.11512826034257, 239.1664315860623, 223.98728479757756, 215.44901472905494, 950.6889372962833, 192.68029454632784, 184.1420244778052, 371.0352693110233, 135.75849408951015, 131.96370739238898, 130.0663140438284, 867.2036299596174, 124.37413399814663, 115.83586392962397, 189.83420452348696, 717.3095554233308, 2526.4741132758527, 3374.608940082436, 1619.5200926638909, 5412.409396436509, 3242.740102357475, 1618.5713959896107, 842.5375164283297, 977.2524441761315, 771.3852658573077, 494.3658369674616, 1188.8118025406372, 1171.7352624035918, 733.4373988860958, 719.2069487718915, 998.1237710102979, 4489.327532361783, 581.6459310012486, 2292.14603472862, 1259.015356437379, 1113.8647652724937, 1351.0389338425678, 1605.2896425496865, 2997.027663718879, 1494.292131658892, 1267.5536265059015, 1252.374479717417, 1005.7133444045404, 997.1750743360177, 1019.9437945187448, 1087.3012583926457, 950.6889372962833, 4452.931751382001, 2663.7604024457205, 2490.5839242866473, 2250.433117557767, 2224.60016225227, 2217.902729395289, 1547.2026675747907, 1502.2341898207771, 1496.4935330862222, 1479.2715628825574, 1395.0752641090853, 2390.1224314319365, 1355.847443089627, 2193.026550212218, 803.7876204499299, 784.6520980014136, 1317.5763981925943, 761.6894710631939, 1873.4633253219947, 576.0749033125852, 541.6309629052557, 536.8470822931266, 450.73723127480304, 445.95335066267387, 382.8061265825699, 375.1519176031633, 373.23836535831174, 362.71382801162775, 332.0969920940015, 312.9614696454852, 5451.806023194555, 506.2302463755004, 500.4895896409456, 2104.046370826617, 1546.2458914523647, 2033.2449377671064, 884.1568147336988, 729.159082900716, 1596.9550259409332, 1104.2153228916368, 1384.5507267624016, 807.6147249396332, 835.361232489982, 1943.3079822590794, 1020.0190241181648, 2260.957654904451, 1495.5367569637963, 1156.8380096250569, 908.0762177943441, 1635.2260708379658, 1096.5611139122302, 1042.9816510563844, 1769.1851992099469, 1575.3379830846081, 832.8843252064911, 725.6096522050902, 618.3349792036893, 530.8214301762306, 478.12509957905115, 2243.4521745845614, 412.25468633257685, 408.4906627184926, 395.3165800691978, 358.61734983187637, 322.8591254980761, 321.91811959455504, 312.50806055934436, 281.45486574314936, 454.5999519910246, 256.9887122516018, 256.04770634808074, 255.10670044455966, 235.34557647061737, 234.4045705670963, 213.70244068963297, 210.87942297906977, 199.58735213681703, 187.35427539104325, 187.35427539104325, 185.47226358400113, 184.53125768048005, 183.590251776959, 400.0216095868031, 770.7779355741011, 373.6734442882134, 326.6231491121603, 1075.6638483149247, 354.85332621779213, 870.5245613473336, 287.10090116427574, 5643.306504006156, 379.31947970933976, 429.19279259595595, 1188.584556737452, 2101.3602831528815, 1103.8940254205565, 1118.9501198768935, 644.683144502279, 1491.5884576712338, 3542.040321443626, 3373.600264713356, 1575.3379830846081, 3344.429081704203, 604.2198906508733, 981.5632579628186, 1396.5468614156066, 3756.589667446428, 1196.1126039656206, 835.7073429170543, 1133.0652084297096, 1582.8660303127767, 1030.4955649459139, 1084.1329014466144, 1638.3853786205193, 1424.7770385212384, 1087.8969250606985, 1270.4520703437843, 1245.9859168522369, 995.6783465156346, 988.1502992874662, 917.5748565233866, 163.86878164635874, 96.82719944153635, 95.86946255289602, 85.3343567778525, 71.92604033688802, 70.01056655960738, 66.1796190050461, 64.26414522776547, 61.39093456184451, 59.47546078456388, 58.51772389592356, 54.686776341362275, 53.729039452721956, 52.77130256408164, 120.77062165754434, 49.89809189816068, 48.94035500952035, 47.024881232239714, 180.1503087532442, 42.23619678903811, 42.23619678903811, 41.2784599003978, 100.65814699609763, 40.32072301175747, 40.32072301175747, 39.36298612311715, 39.36298612311715, 289.3323140582407, 38.405249234476834, 38.405249234476834, 174.4038874214023, 58.51772389592356, 57.55998700728323, 1381.1523671082055, 202.17825719197154, 793.1019174830491, 1660.8115385911788, 909.945817897168, 226.12167940797954, 2015.1741873880974, 1054.5640880818564, 514.4004828887159, 88.20756744377347, 1088.0848791842675, 232.82583762846178, 1551.6295332861823, 1281.5477306896123, 2240.2423562185727, 385.1060029222727, 2608.0133214564553, 1160.8728827209318, 592.9349077572222, 1391.687472883249, 1923.2314460786265, 196.43183586012964, 363.0780544835453, 290.290050946881, 568.0337486525739, 614.9628561959495, 224.20620563069895, 711.6942819486218, 815.1298659217764, 1065.0991938568998, 737.5531779419105, 1130.2253022844416, 1075.6342996319433, 704.9901237281396, 777.7781272648039, 464.59816467941926, 1617.7133786023646, 908.9880810085277, 960.7058729951051, 728.9335459441476, 1035.40935030905, 1079.4652471865047, 995.1844009861563, 847.6929201355473, 838.1155512491441, 770.1162321556814, 760.5388632692782, 765.3275477124797, 537.5968192166521, 537.5968192166521, 457.401236168883, 1072.2340395351125, 435.44292176294624, 379.1150717651084, 341.8814082072156, 273.1423370234135, 233.04454549952897, 227.31628956754548, 183.3996607556719, 153.80367177375715, 143.30186923178738, 142.34715990979012, 131.84535736782036, 128.02652007983136, 212.9956497375867, 111.79646160587808, 108.93233363988634, 106.06820567389458, 99.38524041991381, 169.07902092571317, 94.61169380992756, 275.05175566740803, 86.0193099119523, 83.15518194596056, 79.33634465797155, 78.38163533597431, 78.38163533597431, 77.42692601397705, 113.70588024987258, 281.7347209213888, 851.6961861537476, 155.71309041775163, 133.75477601181487, 209.1768124495977, 168.12431160371588, 168.12431160371588, 1324.2773005423867, 655.9807751443111, 2168.240341187957, 2158.693247967984, 848.8320581877559, 743.8140327680583, 614.9282742984294, 2274.2130759296515, 760.0440912420115, 705.6256598881682, 536.6421098946548, 977.7178166573847, 486.0425158288005, 999.6761310633213, 878.4280471696705, 665.5278683642837, 1176.2973556328127, 1245.036426816615, 2095.6824327161653, 1503.76265307787, 1446.4800937580349, 1282.2700903745076, 1116.150668346986, 1013.9967708932801, 1368.1939293542603, 952.8953742854562, 1226.8969496986672, 884.1563031016542, 1098.0111912290383, 962.4424675054288, 814.4625225958549, 1030.2268293672334, 810.6436853078658, 880.3374658136653, 820.1907785278383, 1272.3706564797785, 1331.3886855614198, 741.2083947450068, 712.1831345409208, 702.5080478062256, 667.6777355613225, 636.7174580102975, 576.7319202551868, 564.1543075000828, 512.8763478061977, 430.63811056128765, 396.7753069898542, 382.2626768878112, 378.3926421939331, 336.78976923474335, 330.98471719392614, 290.3493529082059, 270.9991794388153, 252.61651464289423, 229.39630647962548, 216.81869372452164, 214.88367637758256, 165.54073403063654, 160.70319066328886, 159.73568198981937, 269.06416209187626, 150.06059525512407, 150.06059525512407, 148.125577908185, 147.15806923471547, 395.8077983163846, 372.5875901531159, 349.3673819898472, 268.09665341840673, 606.7246891327421, 301.95945698984025, 235.20135852044268, 567.0568335204914, 1774.5076580104644, 660.9051748470357, 652.19759678581, 701.540539132756, 1713.554611581884, 693.8004697449998, 320.3421217857613, 827.3166666837949, 1592.616027398193, 605.7571804592726, 1996.067144234987, 721.8582212756162, 1245.2804136226316, 1465.8723911736843, 1133.0494075001664, 1362.3489631124448, 969.5404416838157, 992.7606498470843, 564.1543075000828, 1069.1938350511773, 644.4575273980538, 683.157874336835, 773.1361809695013, 618.3347932143765, 2539.1324783905857, 1489.199114220831, 644.7928721230876, 625.4035209842185, 518.7620897204392, 466.41084164549306, 369.46408595114826, 361.70834549560067, 302.57082452205026, 267.66999247208616, 430.54054203858544, 200.77673104298816, 187.20418524577988, 186.23471768883644, 183.3263150180061, 299.66242185121996, 173.6316394485716, 363.64728060948755, 134.85293717083368, 133.88346961389024, 131.94453450000333, 310.32656497759785, 118.37198870279504, 117.4025211458516, 113.5246509180778, 108.67731313336056, 104.79944290558677, 104.79944290558677, 335.5327214581275, 98.01317000698263, 291.90668139567236, 342.31899435673165, 324.8685783317496, 814.449694588191, 189.1431203596668, 448.96042562051105, 318.08230543314545, 582.7469484787068, 669.9990286036173, 1486.2907115500007, 1060.6944540518268, 425.69320425386826, 301.60135696510685, 268.6394600290296, 438.29628249413304, 3346.698953324478, 963.747698357482, 369.46408595114826, 852.2589293089854, 496.4643359107399, 487.73912789824897, 478.0444523288145, 792.1519407784917, 632.1897938828228, 1094.6258185448476, 490.6475305690792, 786.335135436831, 504.2200763662875, 577.8996106939896, 472.2276469871538, 575.9606755801027, 526.5178301759869, 499.37273858157033, 483.86125767047514, 388.2961647119313, 328.798385140397, 229.3102947093068, 211.7535728685262, 174.68938231576712, 166.88639483097572, 165.9110213953768, 163.96027452417894, 111.29010900183711, 106.4132418238425, 94.70876059665542, 90.80726685425972, 88.85651998306189, 151.28041986139297, 83.97965280506726, 83.00427936946835, 80.07815906267157, 79.10278562707265, 240.03940250089497, 72.27517157788019, 72.27517157788019, 70.32442470668235, 208.82745256172942, 67.39830439988557, 114.21622930863387, 65.44755752868774, 64.47218409308881, 62.52143722189096, 148.3542995545962, 60.57069035069312, 360.98570851516143, 209.80282599732834, 141.52668550540372, 135.67444489181017, 102.5117480814468, 208.82745256172942, 95.68413403225433, 221.50730722451542, 140.5513120698048, 281.98046023164864, 638.9671376608545, 170.78788857337142, 1669.936859088916, 320.9953976556056, 302.46330237922604, 381.4685506627388, 325.8722648336002, 582.3954783961169, 226.38417440251, 664.3268469864265, 304.4140492504239, 746.258215576736, 381.4685506627388, 845.7463060078262, 920.8500605489431, 875.0075090757938, 283.9312071028465, 667.2529672932233, 457.5476786394548, 480.9566410938289, 576.5432377825234, 334.6506257539905, 905.2440855793603, 524.8484456957805, 1166.6441663198718, 310.26628986401744, 420.48348808669573, 430.237222442685, 459.4984255106526, 640.9178845320523, 495.5872426278128, 575.5678643469245, 428.2864755714871, 517.0454582109891, 486.80888170742253, 434.1387161850806, 505.340976983802, 558.0111425061439, 440.9663302342731, 433.16334274948167, 464.3752926886472, 465.3506661242462, 1396.2528131201068, 1176.9816465818926, 873.300783190472, 564.7687877959935, 488.12090214767966, 404.6814316950848, 388.1875828846882, 371.69373407429157, 685.0768614718279, 265.9390564076307, 418.26460130364677, 748.1415775115797, 232.95135878683737, 213.54683077460598, 198.9934347654325, 197.05298196420938, 194.14230276237464, 175.70800115075488, 297.9565276278124, 914.0502920161579, 164.06528434341607, 152.42256753607725, 250.4154339978456, 145.63098273179628, 138.8393979275153, 136.89894512629218, 131.07758672262275, 127.19668112017649, 125.25622831895338, 124.2860019183418, 745.230898309745, 263.028377205796, 1328.336965077297, 2345.13423291822, 398.86007329141546, 643.3571262455305, 733.5881815024062, 394.9791676889692, 2802.110867606268, 679.2555030681584, 614.2503342271834, 496.85293975318376, 282.4329052180273, 2477.085023401393, 1224.5227402118592, 1584.4767348387509, 1095.4826289305208, 511.40633576235734, 550.21539178682, 572.530599000886, 592.905353413729, 636.5655414412495, 1261.3913434350989, 1150.7855337653803, 1223.5525138112478, 735.5286343036294, 1591.2683196430319, 902.4075752088189, 828.6703687623399, 696.7195782791667, 1018.8347432822071, 837.402406367844, 1049.881988101777, 778.2185959305383, 685.0768614718279, 661.7914278571502, 958.4621409916867, 625.6287961472649, 606.050364097593, 441.5915348803492, 344.6782962344734, 326.07878578728514, 285.9430000854578, 259.5121168184008, 230.14446874389293, 213.50280150167183, 200.77682066938507, 187.07191823461477, 169.4513293899101, 156.72534855762336, 253.63858720349918, 142.04152452036948, 435.71800526544763, 238.95476316624527, 123.44201407318118, 121.48417086821398, 367.19349309159605, 116.58956285579603, 101.9057388185421, 171.40917259487728, 99.94789561357493, 164.55672137749212, 93.09544439618978, 156.72534855762336, 92.11652279370617, 86.24299317880461, 442.5704564828328, 200.77682066938507, 629.5444825571992, 655.9753658242563, 306.5003537376133, 1884.5219769411665, 192.94544784951634, 233.0812335513437, 460.1910453275375, 1328.4945067304852, 1491.9744143452451, 904.621452855089, 335.86800181212107, 920.2841984948267, 463.1278101349883, 386.77192514126796, 290.8376080978757, 317.26849136493274, 637.375855377068, 1082.785184507103, 355.4464338617929, 562.9778135883148, 579.619480830536, 695.1322299236, 419.0763380232265, 409.2871219983906, 485.64300699211094, 659.8910522341906, 714.7106619732718, 720.5841915881734, 584.5140888429539, 788.1297821595415, 551.2307543585117, 428.8655540480625, 500.3268310293649, 631.5023257621664, 525.7787926939383, 479.7694773772094, 482.70624218466014, 470.959182954857, 474.87486936479144, 2892.805104474383, 2457.9727507971984, 1050.1298837347435, 930.2097503215291, 534.3758140144954, 264.3117737261991, 202.88926636821108, 193.13966202567332, 157.06612595828352, 147.31652161574576, 141.46675901022311, 136.59195683895422, 133.66707553619287, 131.71715466768532, 795.6652103945078, 126.84235249641644, 119.04266902238622, 107.3431438113409, 105.39322294283333, 96.61857903454933, 96.61857903454933, 94.6686581660418, 94.6686581660418, 290.6357054510511, 155.116205089776, 88.81889556051912, 81.0192120864889, 80.04425165223512, 80.04425165223512, 245.78752547537727, 1279.2455857843813, 2709.512542834673, 1235.3723662429613, 1516.160971308049, 152.19132378701465, 1294.8449527324417, 220.43855418477906, 237.98784200134708, 157.06612595828352, 146.34156118149198, 526.5761305404652, 251.63728808089996, 1188.57426539878, 218.4886333162715, 395.93143235045903, 282.83602197702083, 714.7434943514442, 1105.7026284872088, 1821.3235872294813, 428.1051266808337, 1290.9451109954266, 505.1270009868821, 1252.9216540595291, 455.4040188399395, 531.450932711734, 1394.290917026327, 1040.3802793922057, 517.8014866321812, 966.2832863889189, 999.4319411535472, 803.4648938685381, 741.0674260762962, 594.8233609382296, 591.8984796354683, 569.4743896476314, 779.0908830121937, 642.5964222166647, 586.0487170299456, 565.5745479106164, 551.9251018310634, 1039.8846842836174, 962.5698378684787, 799.0192012210695, 497.6895433979643, 398.56794542983755, 336.1213387099177, 331.1652588115114, 243.93825259955983, 232.04366084338466, 219.15785310752818, 216.18420516848437, 202.30718145294665, 180.50042989995876, 176.5355659812337, 159.68489432665214, 153.73759844856454, 149.77273452983948, 146.79908659079567, 141.84300669238934, 136.886926793983, 124.99233503780779, 123.00990307844525, 123.00990307844525, 120.03625513940145, 118.05382318003892, 116.07139122067639, 190.41258969677145, 111.11531132227005, 569.0570939350155, 105.16801544418244, 252.85919641669125, 1127.1116904955688, 1248.0400400166834, 330.17404283183015, 493.7246794792392, 558.1537181585217, 520.4875109306334, 329.1828268521489, 1276.78530342744, 472.9091439059326, 644.3895083907919, 2093.5472706848045, 2229.343859901138, 1081.5157554302305, 1719.8588463449667, 574.0131738334219, 3149.192289045354, 540.3118305242589, 930.8509265186781, 690.9766594358114, 790.0982574039382, 750.4496182166874, 1219.294776605927, 795.0543373023445, 1445.2920199732557, 564.1010140366093, 786.1333934852131, 1227.2245044433769, 844.6151362864078, 764.3266419322251, 562.1185820772467, 615.6442449800351, 569.0570939350155, 610.6881650816288, 494.78905998377047, 326.9300693686418, 318.04341692431143, 238.06354492533833, 225.22726917241673, 193.63028270368665, 189.6806593950954, 172.89476033358252, 137.34815055626115, 128.4614981119308, 127.474092284783, 201.52952932086916, 107.72597574182669, 106.73856991467886, 103.77635243323542, 101.8015407789398, 534.2852930696831, 91.92748250746162, 88.96526502601817, 263.7360964311816, 83.0408300631313, 82.05342423598347, 80.07861258168784, 77.11639510024439, 620.189600031543, 76.12898927309658, 75.14158344594877, 74.15417761880094, 74.15417761880094, 121.5496573218961, 508.61274156383985, 347.66559173874595, 138.33555638340897, 339.7663451215634, 329.89228685008527, 98.83932329749634, 126.48668645763517, 161.0458904078087, 405.92253554046704, 240.03835657963398, 401.9729122318758, 521.4490173167615, 537.2475105511265, 270.6479372212163, 185.7310360865041, 141.29777386485242, 523.4238289710571, 462.20466768789254, 317.0560110971636, 323.9678518871984, 414.8091879847974, 606.3659184514736, 371.3633315902935, 324.95525771434615, 527.3734522796483, 354.5774325287806, 676.4717321789685, 676.4717321789685, 1033.9126416064778, 927.2728122745137, 827.5448237325843, 434.5573045277537, 486.88981336658793, 495.77646581091824, 683.3835729690032, 442.4565511449362, 446.40617445352746, 493.80165415662265, 436.53211618204926, 506.63792990954425, 462.20466768789254, 428.6328695648668, 455.29282689785776, 403.9477238861714, 1497.2793493664644, 740.7883648570578, 420.8104549601284, 367.48080331064017, 278.59805056149315, 247.98288017012024, 237.11943261189114, 204.5290899372039, 196.6284008039464, 192.6780562373176, 190.70288395400323, 190.70288395400323, 1131.8724769533046, 184.77736710406012, 183.78978096240292, 178.85185025411695, 178.85185025411695, 178.85185025411695, 177.8642641124598, 177.8642641124598, 177.8642641124598, 177.8642641124598, 177.8642641124598, 175.8890918291454, 160.08771356263037, 146.26150757942975, 145.27392143777254, 141.32357687114379, 140.3359907294866, 135.39806002120065, 401.0587321269846, 758.5649154068872, 220.3304682037189, 207.49184836217546, 349.70425276081073, 538.3332058173339, 711.1607806073421, 850.4104265810057, 645.9800952579675, 188.72771167068888, 938.3055931884955, 186.7525393873745, 1009.4117953878132, 312.17597937783756, 437.59941936830063, 847.4476681560341, 421.79804110178554, 634.1290615580813, 1101.2573065619317, 913.6159396470658, 255.88356930337778, 462.28907290973035, 259.83391387000654, 1049.902827195758, 283.5359812697791, 1588.1372743989261, 518.5814829841902, 364.5180448856686, 765.4780183984875, 1081.505583728788, 415.87252425184244, 587.7125129001934, 1032.1262766459286, 899.7897336638651, 811.8945670563753, 642.0297506913388, 941.2683516134671, 918.5538703553518, 1145.6986829365053, 794.1180165065459, 625.2407862831666, 614.3773387249374, 538.3332058173339, 546.2338949505914, 920.409797244155, 503.88307487093965, 432.21139446258087, 315.8747537997377, 303.4101137287188, 295.1003536813728, 293.02291366953636, 290.94547365769984, 289.90675365178157, 274.32595356300794, 274.32595356300794, 461.29555462829165, 456.10195459870044, 257.70643346831605, 253.55155344464308, 251.47411343280658, 241.08691337362416, 233.81587333219647, 231.73843332035997, 395.85619425544235, 227.583553296687, 222.3899532670958, 193.30579310138498, 190.18963308363027, 313.7973137879012, 183.9573130481208, 178.7637130185296, 425.97907442707145, 175.64755300077485, 171.49267297710188, 279.51955359259915, 273.28723355708973, 360.53971405422215, 368.84947410156803, 350.15251399503967, 267.05491352158026, 409.35955433237956, 1361.865799759408, 326.2619538589201, 448.83091455727276, 385.4689941962599, 737.5950762025443, 468.56659466971934, 294.0616336754546, 831.0798767351861, 514.270274930122, 376.1205141429958, 328.33939387075657, 1116.7278783627028, 820.6926766760037, 684.6203559007139, 442.5985945217633, 505.96051488277607, 510.1153949064491, 413.5144343560525, 645.1489956758206, 460.25683462237345, 375.0817941370775, 526.734915001141, 501.8056348591031, 510.1153949064491, 398.97235427319714, 422.86291440931666, 439.48243450400855, 412.47571435013424], \"Total\": [6907.0, 6128.0, 5535.0, 6004.0, 4454.0, 8130.0, 5185.0, 4951.0, 6992.0, 2894.0, 3868.0, 3512.0, 3555.0, 2818.0, 3410.0, 4056.0, 3341.0, 4977.0, 2460.0, 3143.0, 2540.0, 4203.0, 3060.0, 2665.0, 3262.0, 5304.0, 2457.0, 2491.0, 3383.0, 4840.0, 1076.3333630564366, 972.9254255598847, 947.3106153543168, 871.4148814118932, 796.4678441437501, 637.0868028646605, 998.559047764642, 536.5249553909493, 439.7578946143591, 369.5543407176173, 358.1699806262538, 344.88822718632963, 283.2229433581105, 280.37685333526963, 274.6846732895878, 241.48028968977752, 240.53159301549724, 225.3524462270125, 216.8141761584899, 957.2476987553094, 194.0454559757628, 185.50718590724014, 374.33936585434515, 137.1236555189451, 133.32886882182393, 131.43147547326336, 876.4026449959339, 125.73929542758162, 117.20102535905896, 192.16687462639146, 729.2685603676287, 2603.6658351373194, 3512.7242583916704, 1692.488440896378, 6004.597561006854, 3555.0294821401435, 1774.7649401300546, 907.8816599656105, 1077.4116596946633, 857.6033784114649, 529.1458246668004, 1377.3693673467976, 1364.0974402517156, 819.7884642658345, 808.6224140208733, 1258.01319646058, 8130.208838272663, 653.3646125220206, 3744.880994379762, 1782.4299728715557, 1548.112359510606, 2073.12325365731, 2722.710001393908, 6992.848421402686, 2838.648438251117, 2175.0871872495322, 2281.413301647829, 1458.4851868934743, 1830.4454121638448, 2312.156570900181, 4061.213027126465, 1802.178355243459, 4454.296104866619, 2665.124755930341, 2491.948277771268, 2251.7974710423878, 2225.9645157368905, 2219.2670828799096, 1548.567021059411, 1503.5985433053975, 1497.8578865708425, 1480.6359163671777, 1396.4396175937056, 2392.461745350811, 1357.2117965742473, 2195.3662771324375, 805.1519739345505, 786.0164514860342, 1319.908260350684, 763.0538245478144, 1877.700889472536, 577.4392567972058, 542.9953163898763, 538.2114357777472, 452.1015847594234, 447.31770414729425, 384.1704800671903, 376.5162710877837, 374.6027188429321, 364.07818149624813, 333.4613455786219, 314.32582313010556, 5535.420026853098, 508.5695602943746, 502.84152926722317, 2162.693283631073, 1635.7864879704782, 2195.215731047669, 926.1565325040395, 764.5498540120482, 1810.1781802124358, 1338.4729482181347, 1863.8643649409696, 942.2957997770768, 990.7388350476323, 3745.1114950820347, 1380.3368645748992, 5250.659883111778, 2689.230838611795, 1727.2323518792969, 1167.7653870953288, 8130.208838272663, 2476.673530387193, 3714.8773228927735, 1770.5511297164578, 1576.703913591119, 834.250255713002, 726.9755827116012, 619.7009097102002, 532.1873606827415, 479.491030085562, 2250.670345704666, 413.6206168390877, 409.85659322500345, 396.68251057570865, 359.9832803383872, 324.2250560045869, 323.2840501010659, 313.8739910658552, 282.8207962496602, 456.95709847721673, 258.3546427581126, 257.4136368545916, 256.4726309510705, 236.71150697712827, 235.7705010736072, 215.06837119614386, 212.24535348558067, 200.95328264332792, 188.72020589755414, 188.72020589755414, 186.83819409051202, 185.89718818699095, 184.9561822834699, 403.3699720526765, 783.9887232003186, 377.94777746555457, 329.9280147325581, 1100.005097194173, 359.1078660525448, 895.5529350135362, 290.36422501934715, 6128.29077733263, 386.59072693579884, 439.3370840228571, 1299.1801339589342, 2383.2403359091913, 1224.2058734888194, 1265.0335834168695, 697.533929125625, 1797.2576939398937, 4951.170370687123, 5185.580377959229, 2113.984127278648, 5304.98657401424, 684.880892552309, 1253.2251343934768, 1959.4565183470816, 6907.048765400324, 1754.6220515110726, 1081.4131617886553, 1694.4147253090107, 2810.738713846742, 1548.8046416164937, 1830.3082200603935, 3868.9960474302006, 3411.6558078323014, 2154.230563837176, 3128.1594658756608, 3341.7874022727324, 3120.7025875575796, 3482.021367684045, 1924.8086216094325, 165.2330390543577, 98.19145684953534, 97.23371996089502, 86.6986141858515, 73.29029774488701, 71.37482396760637, 67.5438764130451, 65.62840263576446, 62.75519196984349, 60.839718192562856, 59.88198130392254, 56.05103374936125, 55.09329686072093, 54.135559972080614, 124.01689087258545, 51.262349306159656, 50.30461241751933, 48.38913864023869, 185.3881441382848, 43.60045419703709, 43.60045419703709, 42.642717308396776, 104.05234038969614, 41.68498041975645, 41.68498041975645, 40.72724353111613, 40.72724353111613, 299.4217794787306, 39.76950664247581, 39.76950664247581, 180.64856017428053, 60.836690625919786, 59.87895373727946, 1575.704069386982, 218.35360200718773, 902.7505426648818, 2065.7820404759996, 1100.0980988499748, 254.2936898737313, 2543.2881449449237, 1287.4851400102345, 629.2986195720125, 94.52427491215472, 1431.192832978667, 269.6916809613393, 2132.502349146513, 1742.4132052633395, 3262.352521831579, 478.4865947092466, 4056.520115772276, 1694.8587688298185, 801.7284095925709, 2143.8782929064537, 3165.998740657662, 232.35661078572863, 479.1718551122866, 369.2065038267282, 837.1192971417664, 924.7939790497513, 272.6761702653477, 1127.12707521029, 1402.2871117635125, 2001.5395812691263, 1271.5756681154032, 2282.2780708177597, 2308.4968571095374, 1306.4525464628775, 1509.7553632254114, 717.7542366613939, 4506.598385630824, 2022.5639240165451, 2237.6398839343383, 1477.5225238871367, 3108.7297332395215, 3521.5018128934516, 3302.56526643457, 2271.519857082488, 2206.3121881349603, 2837.808608848916, 3000.233666652155, 4260.313137594693, 538.9613793813154, 538.9613793813154, 458.7657963335462, 1075.5564429047429, 436.80748192760944, 380.4796319297716, 343.2459683718788, 274.5068971880767, 234.40910566419223, 228.68084973220874, 184.76422092033516, 155.1682319384204, 144.66642939645064, 143.71172007445338, 133.20991753248362, 129.39108024449462, 215.34779604390715, 113.16102177054137, 110.29689380454963, 107.43276583855787, 100.7498005845771, 171.41380749098798, 95.97625397459085, 279.37889394253347, 87.3838700766156, 84.51974211062385, 80.70090482263484, 79.7461955006376, 79.7461955006376, 78.79148617864034, 116.05784624168368, 290.98264114096236, 901.3231253765847, 159.98832978424957, 137.03288842132977, 216.35817795592163, 173.3697773708254, 173.39036551077484, 1462.753075760302, 747.8213237316, 3145.309461874633, 3383.5656428597777, 1168.8212514320448, 1015.8111491787638, 816.1161114096541, 4078.476044807767, 1081.6777296313007, 993.0050463142411, 737.8550891653854, 1594.5628475275616, 685.0510827214406, 1868.8339490566466, 1630.321963430613, 1132.6307573166664, 2689.230838611795, 2976.853769808498, 6992.848421402686, 4203.610207165751, 4061.213027126465, 3366.5005281330173, 2722.710001393908, 2577.9532493105676, 4840.483634425349, 2372.6518045102976, 4056.520115772276, 2177.3498271299945, 4170.758876151005, 2989.9782393672003, 2008.674237987287, 5250.659883111778, 2236.789040749705, 3651.9965209093975, 3521.5018128934516, 1273.7339367092943, 1333.692971694457, 742.5716749745229, 713.546414770437, 703.8713280357417, 669.0410157908386, 638.0807382398136, 578.0952004847029, 565.517587729599, 514.2396280357138, 432.00139079080367, 398.1385872193702, 383.62595711732723, 379.75592242344914, 338.15304946425937, 332.34799742344217, 291.7126331377219, 272.3624596683313, 253.97979487241028, 230.75958670914153, 218.1819739540377, 216.2469566070986, 166.9040142601526, 162.06647089280492, 161.09896221933542, 271.4148481485401, 151.42387548464012, 151.42387548464012, 149.48885813770104, 148.52134946423152, 400.14472648494444, 376.8255072106338, 354.6209476509395, 271.4347453022184, 622.4540226918631, 307.23842362929065, 238.5308151638938, 587.5796932002537, 1973.9235955821248, 718.0012515256857, 719.8470550966164, 783.7730078853887, 2153.0955242003593, 788.0984854069849, 332.41670441468517, 1059.1940429706492, 2933.050374465857, 796.8363688106763, 4203.610207165751, 1073.2989046627677, 2603.2454589591916, 3745.1114950820347, 2437.380345349182, 3372.4214698775754, 1992.3012798174786, 2370.87195305147, 818.5310751374849, 4840.483634425349, 1214.3169368746312, 1559.0014423131634, 5250.659883111778, 1423.8849478363475, 2540.495562731755, 1491.600918567918, 646.1559564642563, 626.7666053253872, 520.1251740616079, 467.7739259866617, 370.8271702923169, 363.0714298367693, 303.9339088632189, 269.0330768132548, 432.87385278036567, 202.1398153841568, 188.56726958694853, 187.59780203000508, 184.68939935917476, 301.9822823148144, 174.99472378974025, 367.08780496249267, 136.21602151200233, 135.24655395505889, 133.30761884117197, 313.67208127812904, 119.7350730439637, 118.76560548702025, 114.88773525924645, 110.04039747452921, 106.16252724675543, 106.16252724675543, 340.0119658170509, 99.37625434815129, 296.0927834474042, 349.6293745759879, 332.10519228781976, 853.0117998237364, 193.35229472367632, 468.84775821250145, 329.00507155042675, 617.7705457255925, 728.8665942539309, 1717.8082179467253, 1228.694149354266, 467.0573945770505, 320.37959742872704, 282.724495809611, 491.33226985075186, 4977.526043513459, 1408.9926330231513, 434.91592952418085, 1524.535821777226, 728.0583194650872, 723.2216417937425, 768.2945137013069, 2179.9442329729236, 1449.8944222004661, 4951.170370687123, 843.9962721484823, 2723.4307564941982, 1098.846300507017, 1791.3563077068816, 1013.204987045794, 3354.5924595375354, 3052.997158912773, 3000.233666652155, 2543.875990116348, 389.6586584652344, 330.1608788937001, 230.6727884626099, 213.1160666218293, 176.05187606907023, 168.24888858427883, 167.2735151486799, 165.32276827748206, 112.65260275514022, 107.77573557714561, 96.07125434995854, 92.16976060756284, 90.219013736365, 153.6104222881656, 85.34214655837037, 84.36677312277146, 81.44065281597469, 80.46527938037576, 244.30442227460668, 73.6376653311833, 73.6376653311833, 71.68691845998546, 213.01296402559572, 68.76079815318869, 116.53343238393424, 66.81005128199085, 65.83467784639193, 63.883930975194076, 151.67188812302604, 61.93318410399623, 371.08935163253824, 215.0486828557156, 144.86780106553593, 138.98136663631053, 104.84370939169335, 216.987525909137, 98.03784376523872, 233.25700103700095, 146.76114360782515, 306.92043785074566, 736.7502208474515, 181.037847052765, 2106.3188247061603, 363.2490661334166, 344.48918605288986, 445.31394429392816, 375.9714789175864, 733.2629909251323, 252.21574704967318, 871.4318439816057, 355.4896975919575, 1007.3011337168435, 475.98295032512374, 1357.2963496819712, 1563.5020936094895, 1629.0096884672164, 359.50903834342705, 1269.012276661897, 735.3112237320288, 794.4676224802942, 1060.782217440971, 466.0193513730215, 2271.519857082488, 962.4839973430984, 3800.1041621330214, 418.21123187431044, 756.1099732688489, 812.7580745384141, 1015.8213452648357, 2344.7305488251686, 1299.9244980025971, 1925.7592881465152, 915.219189837187, 1894.919950602158, 1745.8050821466552, 1427.2752215091232, 3011.872229330365, 4977.526043513459, 1749.9848366071362, 1513.7069003115082, 3078.8335030523613, 3485.347212080127, 1397.6158215769085, 1178.3446550386943, 874.6637916472739, 566.1317962527954, 489.4839106044815, 406.04444015188665, 389.55059134149, 373.0567425310934, 688.3492885726243, 267.3020648644325, 420.61519590210577, 752.4413507758325, 234.31436724363923, 214.90983923140783, 200.35644322223436, 198.41599042101123, 195.5053112191765, 177.07100960755673, 300.2742454066115, 921.1969175473856, 165.42829280021792, 153.7855759928791, 252.75381589024636, 146.99399118859813, 140.20240638431716, 138.26195358309403, 132.4405951794246, 128.55968957697831, 126.61923677575523, 125.64901037514365, 753.4581403478697, 267.2374756854387, 1374.527902397516, 2457.598593184637, 409.28671647168665, 667.7545407745088, 763.6832966184177, 408.15125176418826, 3143.6898309331164, 723.5167706321265, 652.3786722758275, 529.5590143475371, 291.46316067387795, 3060.1528367253345, 1600.4060982700432, 2288.9336740037975, 1469.418523704426, 596.9445576944822, 660.1731440762034, 694.7739887829264, 747.0457000412022, 840.3909895148805, 2635.60479898365, 2282.2780708177597, 2577.9532493105676, 1099.6748339744927, 4840.483634425349, 1851.5957888093972, 1589.1186313053624, 1093.6559938751295, 3262.352521831579, 2304.8964189224444, 5903.346995034543, 4170.758876151005, 4506.598385630824, 4203.610207165751, 959.8242799283015, 626.9909350838797, 607.4125030342078, 442.9536738169638, 346.04043517108806, 327.4409247238998, 287.30513902207247, 260.87425575501544, 231.50660768050756, 214.86494043828645, 202.1389596059997, 188.4340571712294, 170.8134683265247, 158.087487494238, 255.97609957571274, 143.4036634569841, 439.9885468728926, 241.30430793000772, 124.80415300979583, 122.84630980482862, 371.4813393336623, 117.95170179241067, 103.26787775515675, 173.7200082057722, 101.31003455018957, 166.89382074836055, 94.45758333280442, 159.04219681623525, 93.47866173032081, 87.60513211541925, 452.5517613846556, 204.07789471988661, 660.013413512161, 739.8134372082782, 333.06864915475757, 2346.7007201186293, 209.88838687490463, 267.4353226873397, 618.4018743631104, 2354.333425199248, 3052.997158912773, 1617.3882064724994, 432.7453476532994, 1750.8274912833406, 705.8643072716038, 568.0868871427533, 371.53545825899175, 428.57319957929866, 1349.7722671660542, 3597.2062643532004, 525.228511179631, 1218.2858570221042, 1295.1837273449446, 1813.9242300920146, 715.4588797237928, 693.9790082735824, 1013.204987045794, 2370.87195305147, 2949.4518439389585, 3487.962351080169, 2180.293867191582, 5903.346995034543, 1880.700237477463, 828.2465599138176, 1566.78603761501, 4170.758876151005, 4459.258680247167, 2326.860179299768, 3011.872229330365, 1851.5957888093972, 2989.9782393672003, 2894.167639527821, 2460.2899951726336, 1051.492418788181, 931.5722853749668, 535.7383490679331, 265.67430877963665, 204.2518014216487, 194.50219707911094, 158.42866101172115, 148.67905666918338, 142.82929406366074, 137.95449189239184, 135.0296105896305, 133.07968972112295, 803.9395862379802, 128.20488754985405, 120.40520407582385, 108.70567886477852, 106.75575799627096, 97.98111408798695, 97.98111408798695, 96.03119321947942, 96.03119321947942, 294.9604579859321, 157.46632628487083, 90.18143061395675, 82.38174713992653, 81.40678670567274, 81.40678670567274, 249.99958100932653, 1306.5263547081227, 2818.5219673287443, 1287.4686256349053, 1617.5635441272411, 155.46933261773293, 1398.666728608151, 229.5020714866561, 251.01832448052707, 163.30392932161308, 152.54163960227726, 629.4492097418945, 282.68966668218746, 1687.1203202792155, 241.29129183996102, 491.34803392237205, 331.1630344119059, 1019.2554916801412, 1756.0039136765713, 3410.7246380676793, 562.3912483025392, 2312.156570900181, 707.1693203276136, 2394.7090433092303, 674.2546443639907, 856.6416160134338, 3651.9965209093975, 3053.750436237509, 942.5808170243151, 3052.997158912773, 3383.5656428597777, 2295.9299947612617, 2120.4949255472525, 1417.7962376754106, 1437.8204131924058, 1292.8264587319566, 3917.710501109428, 3744.880994379762, 6004.597561006854, 3354.5924595375354, 3330.0474938033954, 1041.2455937825123, 963.9307473673736, 800.3801107199644, 499.05045289685916, 399.9288549287324, 337.48224820881256, 332.52616831040626, 245.2991620984547, 233.40457034227953, 220.51876260642305, 217.54511466737924, 203.66809095184152, 181.86133939885363, 177.89647548012857, 161.045803825547, 155.0985079474594, 151.13364402873435, 148.15999608969054, 143.2039161912842, 138.24783629287788, 126.35324453670268, 124.37081257734013, 124.37081257734013, 121.39716463829633, 119.4147326789338, 117.43230071957127, 192.7429667526098, 112.47622082116493, 576.2643381688484, 106.52892494307733, 260.92426413606836, 1243.2864273087105, 1395.4389224180034, 364.1193446266029, 570.366061259819, 654.3689060257132, 607.4799576499449, 367.7773999089365, 1705.4285958694734, 569.0185916876967, 815.4324844049146, 3341.7874022727324, 3868.9960474302006, 1698.734086012556, 3078.8335030523613, 779.5723643963871, 6907.048765400324, 740.0119383783249, 1667.2306071437938, 1153.4304616600261, 1477.4524705696863, 1461.2276519449547, 3302.56526643457, 1726.4358707316906, 5185.580377959229, 951.0577707093055, 2178.6659139950298, 6992.848421402686, 3120.7025875575796, 2838.648438251117, 1292.4217168150228, 3482.021367684045, 1723.3117383602275, 5903.346995034543, 496.1503504979187, 328.29135988279, 319.40470743845964, 239.42483543948657, 226.58855968656496, 194.99157321783488, 191.04194990924364, 174.25605084773076, 138.70944107040938, 129.82278862607905, 128.83538279893122, 203.86104623562895, 109.08726625597491, 108.09986042882709, 105.13764294738364, 103.16283129308802, 541.481371223015, 93.28877302160984, 90.3265555401664, 268.0341517527806, 84.40212057727952, 83.4147147501317, 81.43990309583606, 78.47768561439261, 631.1601943402245, 77.4902797872448, 76.50287396009699, 75.51546813294917, 75.51546813294917, 123.85964451032463, 522.8110387789629, 356.13595605976604, 141.61501112878094, 358.7084591488083, 349.6375734648384, 101.14931048592486, 130.7293709689578, 168.42195848249952, 446.9278017666624, 258.8482052261761, 449.014528345883, 594.9573799656893, 615.2566867135887, 299.2160923011164, 199.69540484091715, 147.55012209569702, 645.2798227929286, 564.0365184024993, 370.0070857260671, 380.08141704366676, 515.3224313177304, 819.2554038799615, 482.47219962222323, 425.7889091353257, 904.8599864085189, 510.74402856500143, 1424.4077636477653, 1427.2752215091232, 3712.230421644479, 3651.9965209093975, 3000.233666652155, 856.4638265843014, 1111.0011574697596, 1292.4217168150228, 4840.483634425349, 1233.6027925147264, 1310.2443131079617, 2100.5565720314657, 1557.8960449518897, 3811.2682473971254, 2437.380345349182, 1732.3767499725004, 2996.4895120603273, 1727.2323518792969, 1498.6406218491616, 742.1496373397551, 422.1717274428257, 368.8420757933375, 279.95932304419046, 249.3441526528175, 238.48070509458842, 205.89036241990118, 197.98967328664367, 194.03932872001488, 192.0641564367005, 192.0641564367005, 1140.0253342402827, 186.1386395867574, 185.1510534451002, 180.21312273681423, 180.21312273681423, 180.21312273681423, 179.22553659515708, 179.22553659515708, 179.22553659515708, 179.22553659515708, 179.22553659515708, 177.25036431184267, 161.44898604532764, 147.62278006212702, 146.63519392046982, 142.68484935384106, 141.69726321218388, 136.75933250389792, 407.26146574397734, 775.6696459599622, 222.6706622888998, 209.80783016687, 356.79521559023067, 562.3240535477318, 761.8923444474302, 922.5982263083475, 703.2536559456163, 191.0436934753834, 1105.4526492143764, 189.0715487587121, 1246.5143667208995, 334.98638141411794, 496.35449606232334, 1070.558845540796, 480.7063462848193, 803.2384224381894, 1621.1552336280342, 1296.3690597834368, 277.7927413926904, 592.5134196838734, 283.3971198956571, 1780.7168979286257, 321.50898784417745, 3410.7246380676793, 737.7024763272346, 459.1366159193481, 1352.1100850707269, 2394.7090433092303, 584.3785727524988, 1143.7497801568254, 3597.2062643532004, 2899.7880096113863, 2372.6518045102976, 1471.4449950962803, 3714.8773228927735, 4260.313137594693, 8130.208838272663, 3165.998740657662, 1797.833037938292, 2564.64713812897, 1927.0852781786366, 3712.230421644479, 921.7659563404262, 505.23923396721085, 433.56755355885207, 317.2309128960089, 304.76627282499, 296.456512777644, 294.37907276580756, 292.30163275397103, 291.26291274805277, 275.68211265927914, 275.68211265927914, 463.6064230465601, 458.42562236844117, 259.06259256458725, 254.90771254091428, 252.83027252907777, 242.44307246989536, 235.17203242846767, 233.09459241663117, 398.19975917886137, 228.9397123929582, 223.746112363367, 194.66195219765618, 191.54579217990147, 316.09447878769345, 185.313472144392, 180.11987211480078, 429.2507073006233, 177.00371209704605, 172.84883207337307, 281.84593908948193, 275.61090132683046, 364.85722671233947, 374.155977764468, 356.32720678752935, 270.3681263164521, 419.4464143184521, 1470.8688482963128, 332.5560436634772, 464.0107552336134, 398.16743421094407, 858.9380104215654, 513.3765439989069, 304.25948780850433, 1081.8448081804513, 694.4757101456431, 440.49746143949284, 360.31072335840065, 2335.9693792701582, 1557.8960449518897, 1300.8940995546395, 620.3056399741309, 850.7482504605595, 890.9188401091997, 642.6018672172795, 1971.770297220788, 868.6553232840239, 556.5101803159853, 2344.7305488251686, 1926.6752918694183, 2675.1954559536393, 781.8742725131146, 1617.3882064724994, 3000.233666652155, 4317.624249859538], \"logprob\": [30.0, 29.0, 28.0, 27.0, 26.0, 25.0, 24.0, 23.0, 22.0, 21.0, 20.0, 19.0, 18.0, 17.0, 16.0, 15.0, 14.0, 13.0, 12.0, 11.0, 10.0, 9.0, 8.0, 7.0, 6.0, 5.0, 4.0, 3.0, 2.0, 1.0, -5.4785, -5.5797, -5.6064, -5.69, -5.7801, -6.0038, -5.5546, -6.176, -6.3755, -6.55, -6.5814, -6.6193, -6.8172, -6.8273, -6.8479, -6.9775, -6.9814, -7.047, -7.0859, -5.6014, -7.1976, -7.2429, -6.5423, -7.5477, -7.5761, -7.5905, -5.6933, -7.6353, -7.7064, -7.2124, -5.8831, -4.624, -4.3345, -5.0687, -3.8621, -4.3744, -5.0693, -5.7222, -5.5738, -5.8104, -6.2553, -5.3779, -5.3923, -5.8608, -5.8804, -5.5527, -4.0491, -6.0927, -4.7213, -5.3205, -5.443, -5.25, -5.0775, -4.4532, -5.1492, -5.3137, -5.3258, -5.5451, -5.5537, -5.5311, -5.4671, -5.6014, -4.0483, -4.5622, -4.6294, -4.7308, -4.7423, -4.7453, -5.1054, -5.1349, -5.1388, -5.1503, -5.2089, -4.6706, -5.2375, -4.7566, -5.7603, -5.7844, -5.2661, -5.8141, -4.9141, -6.0934, -6.1551, -6.1639, -6.3388, -6.3494, -6.5021, -6.5223, -6.5274, -6.556, -6.6442, -6.7036, -3.8459, -6.2227, -6.2341, -4.798, -5.1061, -4.8323, -5.665, -5.8578, -5.0738, -5.4428, -5.2165, -5.7556, -5.7218, -4.8775, -5.5221, -4.7261, -5.1394, -5.3962, -5.6383, -5.0501, -5.4497, -5.4998, -4.8988, -5.0149, -5.6522, -5.7901, -5.9501, -6.1027, -6.2072, -4.6613, -6.3555, -6.3646, -6.3974, -6.4948, -6.5999, -6.6028, -6.6325, -6.7371, -6.2577, -6.8281, -6.8317, -6.8354, -6.916, -6.9201, -7.0125, -7.0258, -7.0808, -7.1441, -7.1441, -7.1542, -7.1593, -7.1644, -6.3856, -5.7297, -6.4537, -6.5883, -5.3964, -6.5054, -5.608, -6.7173, -3.7389, -6.4387, -6.3152, -5.2966, -4.7268, -5.3705, -5.357, -5.9083, -5.0695, -4.2046, -4.2534, -5.0149, -4.262, -5.9732, -5.488, -5.1353, -4.1458, -5.2903, -5.6488, -5.3444, -5.0101, -5.4393, -5.3886, -4.9756, -5.1153, -5.3851, -5.23, -5.2494, -5.4737, -5.4813, -5.5554, -7.2422, -7.7683, -7.7783, -7.8947, -8.0656, -8.0926, -8.1489, -8.1783, -8.224, -8.2557, -8.2719, -8.3396, -8.3573, -8.3753, -7.5474, -8.4313, -8.4507, -8.4906, -7.1475, -8.598, -8.598, -8.6209, -7.7295, -8.6444, -8.6444, -8.6684, -8.6684, -6.6737, -8.6931, -8.6931, -7.1799, -8.2719, -8.2884, -5.1106, -7.0321, -5.6653, -4.9262, -5.5279, -6.9202, -4.7328, -5.3804, -6.0983, -7.8616, -5.3491, -6.891, -4.9942, -5.1854, -4.6269, -6.3877, -4.4749, -5.2843, -5.9562, -5.103, -4.7795, -7.0609, -6.4466, -6.6704, -5.9991, -5.9197, -6.9287, -5.7736, -5.6379, -5.3704, -5.7379, -5.3111, -5.3606, -5.7831, -5.6848, -6.2001, -4.9525, -5.5289, -5.4736, -5.7497, -5.3987, -5.357, -5.4383, -5.5987, -5.6101, -5.6947, -5.7072, -5.701, -6.0319, -6.0319, -6.1935, -5.3415, -6.2427, -6.3812, -6.4846, -6.709, -6.8678, -6.8927, -7.1074, -7.2834, -7.3541, -7.3608, -7.4374, -7.4668, -6.9578, -7.6024, -7.6283, -7.655, -7.72, -7.1887, -7.7693, -6.7021, -7.8645, -7.8983, -7.9453, -7.9575, -7.9575, -7.9697, -7.5854, -6.6781, -5.5718, -7.271, -7.423, -6.9759, -7.1943, -7.1943, -5.1304, -5.8329, -4.6374, -4.6418, -5.5752, -5.7072, -5.8975, -4.5897, -5.6857, -5.76, -6.0337, -5.4338, -6.1327, -5.4116, -5.5409, -5.8185, -5.2489, -5.1921, -4.6714, -5.0033, -5.0422, -5.1627, -5.3014, -5.3974, -5.0978, -5.4595, -5.2068, -5.5344, -5.3178, -5.4496, -5.6165, -5.3815, -5.6212, -5.5387, -5.6095, -5.14, -5.0947, -5.6804, -5.7203, -5.734, -5.7848, -5.8323, -5.9313, -5.9533, -6.0486, -6.2234, -6.3053, -6.3425, -6.3527, -6.4692, -6.4866, -6.6176, -6.6865, -6.7568, -6.8532, -6.9096, -6.9186, -7.1794, -7.2091, -7.2151, -6.6937, -7.2776, -7.2776, -7.2906, -7.2971, -6.3077, -6.3682, -6.4325, -6.6973, -5.8806, -6.5784, -6.8282, -5.9482, -4.8074, -5.795, -5.8083, -5.7354, -4.8423, -5.7465, -6.5193, -5.5705, -4.9155, -5.8822, -4.6897, -5.7068, -5.1615, -4.9984, -5.256, -5.0717, -5.4118, -5.3882, -5.9533, -5.314, -5.8202, -5.7619, -5.6382, -5.8616, -4.4461, -4.9797, -5.8167, -5.8473, -6.0342, -6.1406, -6.3736, -6.3948, -6.5734, -6.6959, -6.2206, -6.9835, -7.0535, -7.0587, -7.0744, -6.583, -7.1287, -6.3895, -7.3815, -7.3887, -7.4033, -6.548, -7.5118, -7.5201, -7.5537, -7.5973, -7.6336, -7.6336, -6.47, -7.7006, -6.6092, -6.4499, -6.5023, -5.5832, -7.0432, -6.1787, -6.5234, -5.9179, -5.7784, -4.9816, -5.319, -6.232, -6.5766, -6.6923, -6.2028, -4.1699, -5.4148, -6.3736, -5.5378, -6.0782, -6.0959, -6.116, -5.6109, -5.8365, -5.2875, -6.0899, -5.6183, -6.0627, -5.9263, -6.1282, -5.9296, -6.0194, -6.0723, -6.1039, -6.2802, -6.4465, -6.8069, -6.8866, -7.079, -7.1247, -7.1305, -7.1424, -7.5298, -7.5747, -7.6912, -7.7332, -7.755, -7.2228, -7.8114, -7.8231, -7.859, -7.8712, -6.7612, -7.9615, -7.9615, -7.9889, -6.9005, -8.0314, -7.5039, -8.0607, -8.0757, -8.1065, -7.2424, -8.1382, -6.3531, -6.8958, -7.2895, -7.3317, -7.612, -6.9005, -7.6809, -6.8415, -7.2964, -6.6001, -5.7821, -7.1016, -4.8214, -6.4706, -6.53, -6.298, -6.4555, -5.8748, -6.8197, -5.7432, -6.5236, -5.6269, -6.298, -5.5018, -5.4167, -5.4678, -6.5933, -5.7388, -6.1161, -6.0662, -5.8849, -6.4289, -5.4338, -5.9789, -5.1801, -6.5046, -6.2006, -6.1776, -6.1118, -5.7791, -6.0362, -5.8866, -6.1822, -5.9939, -6.0541, -6.1686, -6.0167, -5.9176, -6.153, -6.1709, -6.1013, -6.0992, -4.9616, -5.1324, -5.4308, -5.8667, -6.0125, -6.2, -6.2416, -6.285, -5.6736, -6.6198, -6.167, -5.5855, -6.7523, -6.8393, -6.9098, -6.9196, -6.9345, -7.0343, -6.5062, -5.3852, -7.1028, -7.1765, -6.68, -7.222, -7.2698, -7.2839, -7.3273, -7.3574, -7.3727, -7.3805, -5.5894, -6.6308, -5.0114, -4.443, -6.2145, -5.7364, -5.6052, -6.2243, -4.265, -5.6821, -5.7827, -5.9948, -6.5597, -4.3883, -5.0928, -4.8351, -5.2042, -5.9659, -5.8928, -5.853, -5.8181, -5.747, -5.0631, -5.1549, -5.0936, -5.6025, -4.8308, -5.398, -5.4833, -5.6567, -5.2767, -5.4728, -5.2467, -5.5461, -5.6736, -5.7082, -5.2994, -5.726, -5.7578, -6.0744, -6.3222, -6.3776, -6.509, -6.606, -6.7261, -6.8011, -6.8626, -6.9333, -7.0322, -7.1103, -6.6289, -7.2087, -6.0878, -6.6885, -7.349, -7.365, -6.2589, -7.4061, -7.5407, -7.0207, -7.5601, -7.0615, -7.6312, -7.1103, -7.6417, -7.7076, -6.0722, -6.8626, -5.7198, -5.6787, -6.4396, -4.6233, -6.9024, -6.7134, -6.0331, -4.973, -4.8569, -5.3573, -6.3481, -5.3401, -6.0268, -6.2069, -6.492, -6.405, -5.7074, -5.1775, -6.2914, -5.8315, -5.8024, -5.6207, -6.1267, -6.1504, -5.9793, -5.6727, -5.5929, -5.5847, -5.794, -5.4951, -5.8526, -6.1036, -5.9495, -5.7167, -5.8999, -5.9915, -5.9854, -6.01, -6.0017, -4.1387, -4.3016, -5.152, -5.2733, -5.8276, -6.5316, -6.796, -6.8453, -7.052, -7.1161, -7.1566, -7.1917, -7.2133, -7.228, -5.4295, -7.2657, -7.3292, -7.4326, -7.451, -7.5379, -7.5379, -7.5583, -7.5583, -6.4366, -7.0645, -7.6221, -7.714, -7.7261, -7.7261, -6.6042, -4.9547, -4.2042, -4.9896, -4.7847, -7.0835, -4.9425, -6.7131, -6.6365, -7.052, -7.1227, -5.8423, -6.5807, -5.0282, -6.7219, -6.1274, -6.4638, -5.5368, -5.1004, -4.6014, -6.0493, -4.9456, -5.8839, -4.9754, -5.9875, -5.8331, -4.8685, -5.1613, -5.8591, -5.2352, -5.2015, -5.4197, -5.5006, -5.7204, -5.7253, -5.764, -5.4506, -5.6432, -5.7353, -5.7708, -5.7953, -5.1488, -5.2261, -5.4123, -5.8857, -6.1078, -6.2782, -6.2931, -6.5988, -6.6488, -6.7059, -6.7196, -6.7859, -6.8999, -6.9222, -7.0225, -7.0604, -7.0866, -7.1066, -7.141, -7.1765, -7.2674, -7.2834, -7.2834, -7.3079, -7.3245, -7.3415, -6.8465, -7.3851, -5.7517, -7.4401, -6.5628, -5.0683, -4.9664, -6.2961, -5.8937, -5.771, -5.8409, -6.2991, -4.9436, -5.9368, -5.6274, -4.4491, -4.3862, -5.1096, -4.6457, -5.743, -4.0408, -5.8035, -5.2596, -5.5576, -5.4235, -5.475, -4.9897, -5.4173, -4.8196, -5.7604, -5.4286, -4.9832, -5.3568, -5.4567, -5.764, -5.673, -5.7517, -5.6811, -5.87, -6.2844, -6.3119, -6.6016, -6.657, -6.8082, -6.8288, -6.9214, -7.1516, -7.2185, -7.2262, -6.7682, -7.3945, -7.4037, -7.4319, -7.4511, -5.7932, -7.5531, -7.5859, -6.4992, -7.6548, -7.6667, -7.6911, -7.7288, -5.6441, -7.7417, -7.7547, -7.768, -7.768, -7.2738, -5.8424, -6.2229, -7.1444, -6.2459, -6.2753, -7.4806, -7.234, -6.9924, -6.068, -6.5933, -6.0777, -5.8175, -5.7877, -6.4733, -6.8498, -7.1232, -5.8137, -5.9381, -6.315, -6.2935, -6.0463, -5.6666, -6.1569, -6.2904, -5.8062, -6.2032, -5.5572, -5.5572, -5.133, -5.2419, -5.3556, -5.9998, -5.8861, -5.868, -5.5471, -5.9818, -5.9729, -5.872, -5.9953, -5.8463, -5.9381, -6.0135, -5.9532, -6.0728, -4.7426, -5.4463, -6.0118, -6.1473, -6.4242, -6.5406, -6.5854, -6.7333, -6.7727, -6.793, -6.8033, -6.8033, -5.0224, -6.8348, -6.8402, -6.8674, -6.8674, -6.8674, -6.873, -6.873, -6.873, -6.873, -6.873, -6.8841, -6.9783, -7.0686, -7.0754, -7.1029, -7.11, -7.1458, -6.0599, -5.4226, -6.6589, -6.7189, -6.1969, -5.7655, -5.4871, -5.3083, -5.5832, -6.8137, -5.2099, -6.8242, -5.1369, -6.3104, -5.9727, -5.3118, -6.0095, -5.6017, -5.0498, -5.2366, -6.5093, -5.9178, -6.4939, -5.0975, -6.4067, -4.6837, -5.8029, -6.1554, -5.4135, -5.0679, -6.0236, -5.6778, -5.1146, -5.2518, -5.3546, -5.5894, -5.2068, -5.2312, -5.0102, -5.3768, -5.6159, -5.6334, -5.7655, -5.7509, -5.0511, -5.6535, -5.807, -6.1205, -6.1608, -6.1886, -6.1956, -6.2027, -6.2063, -6.2616, -6.2616, -5.7418, -5.7532, -6.324, -6.3403, -6.3485, -6.3907, -6.4213, -6.4303, -5.8948, -6.4484, -6.4714, -6.6116, -6.6278, -6.1271, -6.6612, -6.6898, -5.8215, -6.7074, -6.7313, -6.2428, -6.2653, -5.9883, -5.9655, -6.0175, -6.2884, -5.8613, -4.6593, -6.0882, -5.7692, -5.9214, -5.2725, -5.7262, -6.1921, -5.1531, -5.6331, -5.946, -6.0818, -4.8577, -5.1657, -5.347, -5.7832, -5.6494, -5.6412, -5.8512, -5.4064, -5.7441, -5.9487, -5.6092, -5.6577, -5.6412, -5.887, -5.8288, -5.7903, -5.8537]}};\n",
       "\n",
       "function LDAvis_load_lib(url, callback){\n",
       "  var s = document.createElement('script');\n",
       "  s.src = url;\n",
       "  s.async = true;\n",
       "  s.onreadystatechange = s.onload = callback;\n",
       "  s.onerror = function(){console.warn(\"failed to load library \" + url);};\n",
       "  document.getElementsByTagName(\"head\")[0].appendChild(s);\n",
       "}\n",
       "\n",
       "if(typeof(LDAvis) !== \"undefined\"){\n",
       "   // already loaded: just create the visualization\n",
       "   !function(LDAvis){\n",
       "       new LDAvis(\"#\" + \"ldavis_el86446843376966669924637\", ldavis_el86446843376966669924637_data);\n",
       "   }(LDAvis);\n",
       "}else if(typeof define === \"function\" && define.amd){\n",
       "   // require.js is available: use it to load d3/LDAvis\n",
       "   require.config({paths: {d3: \"https://cdnjs.cloudflare.com/ajax/libs/d3/3.5.5/d3.min\"}});\n",
       "   require([\"d3\"], function(d3){\n",
       "      window.d3 = d3;\n",
       "      LDAvis_load_lib(\"https://cdn.rawgit.com/bmabey/pyLDAvis/files/ldavis.v1.0.0.js\", function(){\n",
       "        new LDAvis(\"#\" + \"ldavis_el86446843376966669924637\", ldavis_el86446843376966669924637_data);\n",
       "      });\n",
       "    });\n",
       "}else{\n",
       "    // require.js not available: dynamically load d3 & LDAvis\n",
       "    LDAvis_load_lib(\"https://cdnjs.cloudflare.com/ajax/libs/d3/3.5.5/d3.min.js\", function(){\n",
       "         LDAvis_load_lib(\"https://cdn.rawgit.com/bmabey/pyLDAvis/files/ldavis.v1.0.0.js\", function(){\n",
       "                 new LDAvis(\"#\" + \"ldavis_el86446843376966669924637\", ldavis_el86446843376966669924637_data);\n",
       "            })\n",
       "         });\n",
       "}\n",
       "</script>"
      ],
      "text/plain": [
       "PreparedData(topic_coordinates=           Freq  cluster  topics         x         y\n",
       "topic                                               \n",
       "6      8.341027        1       1  0.090689 -0.110657\n",
       "14     8.266867        1       2  0.156342  0.073970\n",
       "4      7.688328        1       3 -0.133869  0.247192\n",
       "9      7.417673        1       4 -0.079098  0.122206\n",
       "5      7.254663        1       5  0.210232 -0.056665\n",
       "8      7.037524        1       6  0.157248  0.016461\n",
       "10     7.016594        1       7 -0.156586  0.022444\n",
       "0      6.716629        1       8 -0.197660 -0.066269\n",
       "12     6.460550        1       9  0.181413  0.060980\n",
       "13     6.217595        1      10  0.044114 -0.012954\n",
       "3      5.878395        1      11 -0.053533 -0.172749\n",
       "7      5.802476        1      12 -0.032809  0.211770\n",
       "11     5.678666        1      13 -0.003914 -0.052707\n",
       "2      5.565540        1      14  0.023550 -0.132213\n",
       "1      4.657473        1      15 -0.206119 -0.150810, topic_info=      Category         Freq              Term        Total  loglift  logprob\n",
       "term                                                                        \n",
       "16975  Default  6907.000000              team  6907.000000  30.0000  30.0000\n",
       "38603  Default  6128.000000              game  6128.000000  29.0000  29.0000\n",
       "55971  Default  5535.000000          campaign  5535.000000  28.0000  28.0000\n",
       "2124   Default  6004.000000           company  6004.000000  27.0000  27.0000\n",
       "36803  Default  4454.000000       zzz_al_gore  4454.000000  26.0000  26.0000\n",
       "63714  Default  8130.000000           percent  8130.000000  25.0000  25.0000\n",
       "48402  Default  5185.000000            season  5185.000000  24.0000  24.0000\n",
       "18415  Default  4951.000000              play  4951.000000  23.0000  23.0000\n",
       "17274  Default  6992.000000           million  6992.000000  22.0000  22.0000\n",
       "55419  Default  2894.000000          computer  2894.000000  21.0000  21.0000\n",
       "36018  Default  3868.000000            player  3868.000000  20.0000  20.0000\n",
       "53029  Default  3512.000000            market  3512.000000  19.0000  19.0000\n",
       "23905  Default  3555.000000         companies  3555.000000  18.0000  18.0000\n",
       "3691   Default  2818.000000               web  2818.000000  17.0000  17.0000\n",
       "20486  Default  3410.000000               com  3410.000000  16.0000  16.0000\n",
       "7636   Default  4056.000000            school  4056.000000  15.0000  15.0000\n",
       "44901  Default  3341.000000             coach  3341.000000  14.0000  14.0000\n",
       "41339  Default  4977.000000              show  4977.000000  13.0000  13.0000\n",
       "22043  Default  2460.000000              site  2460.000000  12.0000  12.0000\n",
       "13484  Default  3143.000000              case  3143.000000  11.0000  11.0000\n",
       "41811  Default  2540.000000              film  2540.000000  10.0000  10.0000\n",
       "35640  Default  4203.000000        government  4203.000000   9.0000   9.0000\n",
       "52110  Default  3060.000000               law  3060.000000   8.0000   8.0000\n",
       "42644  Default  2665.000000  zzz_bill_bradley  2665.000000   7.0000   7.0000\n",
       "37935  Default  3262.000000            family  3262.000000   6.0000   6.0000\n",
       "10411  Default  5304.000000             point  5304.000000   5.0000   5.0000\n",
       "46130  Default  2457.000000             court  2457.000000   4.0000   4.0000\n",
       "31870  Default  2491.000000   zzz_george_bush  2491.000000   3.0000   3.0000\n",
       "30002  Default  3383.000000           program  3383.000000   2.0000   2.0000\n",
       "19811  Default  4840.000000          official  4840.000000   1.0000   1.0000\n",
       "...        ...          ...               ...          ...      ...      ...\n",
       "49442  Topic15   267.054914              salt   270.368126   3.0544  -6.2884\n",
       "19534  Topic15   409.359554             taste   419.446414   3.0424  -5.8613\n",
       "22154  Topic15  1361.865800              food  1470.868848   2.9897  -4.6593\n",
       "54068  Topic15   326.261954               egg   332.556044   3.0476  -6.0882\n",
       "42209  Topic15   448.830915              fish   464.010755   3.0334  -5.7692\n",
       "50201  Topic15   385.468994              bowl   398.167434   3.0343  -5.9214\n",
       "10394  Topic15   737.595076        restaurant   858.938010   2.9144  -5.2725\n",
       "61937  Topic15   468.566595               fat   513.376544   2.9754  -5.7262\n",
       "42511  Topic15   294.061634              meal   304.259488   3.0326  -6.1921\n",
       "58173  Topic15   831.079877               oil  1081.844808   2.8030  -5.1531\n",
       "5154   Topic15   514.270275           serving   694.475710   2.7663  -5.6331\n",
       "28846  Topic15   376.120514            medium   440.497461   2.9087  -5.9460\n",
       "40147  Topic15   328.339394              meat   360.310723   2.9738  -6.0818\n",
       "27846  Topic15  1116.727878           minutes  2335.969379   2.3287  -4.8577\n",
       "60961  Topic15   820.692677             water  1557.896045   2.4258  -5.1657\n",
       "43704  Topic15   684.620356               add  1300.894100   2.4248  -5.3470\n",
       "34852  Topic15   442.598595             fresh   620.305640   2.7291  -5.7832\n",
       "48149  Topic15   505.960515               hot   850.748250   2.5470  -5.6494\n",
       "28338  Topic15   510.115395             serve   890.918840   2.5091  -5.6412\n",
       "57313  Topic15   413.514434             green   642.601867   2.6259  -5.8512\n",
       "33928  Topic15   645.148996             large  1971.770297   1.9495  -5.4064\n",
       "50636  Topic15   460.256835             pound   868.655323   2.4315  -5.7441\n",
       "11885  Topic15   375.081794            leaves   556.510180   2.6722  -5.9487\n",
       "2024   Topic15   526.734915             small  2344.730549   1.5735  -5.6092\n",
       "3069   Topic15   501.805635             makes  1926.675292   1.7214  -5.6577\n",
       "4651   Topic15   510.115395              hand  2675.195456   1.4096  -5.6412\n",
       "35913  Topic15   398.972354               red   781.874273   2.3939  -5.8870\n",
       "61292  Topic15   422.862914             white  1617.388206   1.7252  -5.8288\n",
       "9973   Topic15   439.482435              hour  3000.233667   1.1458  -5.7903\n",
       "19107  Topic15   412.475714              high  4317.624250   0.7184  -5.8537\n",
       "\n",
       "[1059 rows x 6 columns], token_table=       Topic      Freq                Term\n",
       "term                                      \n",
       "1163       2  0.997054            abortion\n",
       "48559      6  0.008363            accident\n",
       "48559      7  0.019514            accident\n",
       "48559     10  0.002788            accident\n",
       "48559     13  0.947845            accident\n",
       "48559     14  0.019514            accident\n",
       "48371      1  0.993870         acquisition\n",
       "16882      7  0.998211               actor\n",
       "45675      7  0.996927             actress\n",
       "43704      1  0.063034                 add\n",
       "43704      5  0.042279                 add\n",
       "43704      6  0.006150                 add\n",
       "43704      7  0.210624                 add\n",
       "43704      8  0.001537                 add\n",
       "43704     11  0.099931                 add\n",
       "43704     12  0.009224                 add\n",
       "43704     14  0.039973                 add\n",
       "43704     15  0.526561                 add\n",
       "57102      6  0.212631             african\n",
       "57102     10  0.783236             african\n",
       "50926      4  0.515315                 age\n",
       "50926      7  0.072197                 age\n",
       "50926      8  0.033118                 age\n",
       "50926     10  0.080808                 age\n",
       "50926     11  0.144394                 age\n",
       "50926     12  0.014572                 age\n",
       "50926     13  0.002649                 age\n",
       "50926     14  0.131809                 age\n",
       "50926     15  0.004637                 age\n",
       "57055      2  0.000774               agent\n",
       "...      ...       ...                 ...\n",
       "13088      5  0.307869           zzz_union\n",
       "13088      6  0.689039           zzz_union\n",
       "13088      9  0.001222           zzz_union\n",
       "2974      13  0.979932          zzz_united\n",
       "32145      6  0.982950   zzz_united_nation\n",
       "32145     10  0.013019   zzz_united_nation\n",
       "24573      1  0.085576   zzz_united_states\n",
       "24573      5  0.002728   zzz_united_states\n",
       "24573      6  0.543121   zzz_united_states\n",
       "24573      9  0.216498   zzz_united_states\n",
       "24573     10  0.031708   zzz_united_states\n",
       "24573     11  0.000341   zzz_united_states\n",
       "24573     13  0.097850   zzz_united_states\n",
       "24573     14  0.021820   zzz_united_states\n",
       "28353      3  0.994508             zzz_usc\n",
       "22517      3  0.994132   zzz_virginia_tech\n",
       "17257      4  0.982395          zzz_virtue\n",
       "53972      6  0.997883  zzz_vladimir_putin\n",
       "37329      1  0.996003     zzz_wall_street\n",
       "56072      1  0.989109  zzz_warner_lambert\n",
       "43716      6  0.993420      zzz_will_putin\n",
       "47766      4  0.963293            zzz_wolf\n",
       "27110     12  0.986875    zzz_world_series\n",
       "12310      4  0.017429      zzz_world_wide\n",
       "12310      6  0.017429      zzz_world_wide\n",
       "12310     11  0.958597      zzz_world_wide\n",
       "27039      4  0.930978            zzz_yale\n",
       "27039     12  0.042317            zzz_yale\n",
       "27039     14  0.010579            zzz_yale\n",
       "8910       5  0.982019   zzz_yasser_arafat\n",
       "\n",
       "[3118 rows x 3 columns], R=30, lambda_step=0.01, plot_opts={'xlab': 'PC1', 'ylab': 'PC2'}, topic_order=[7, 15, 5, 10, 6, 9, 11, 1, 13, 14, 4, 8, 12, 3, 2])"
      ]
     },
     "execution_count": 18,
     "metadata": {},
     "output_type": "execute_result"
    }
   ],
   "source": [
    "pyLDAvis.graphlab.prepare(topic_model, docs)"
   ]
  },
  {
   "cell_type": "code",
   "execution_count": null,
   "metadata": {
    "collapsed": false
   },
   "outputs": [],
   "source": [
    "print topic_model"
   ]
  },
  {
   "cell_type": "code",
   "execution_count": 19,
   "metadata": {
    "collapsed": false
   },
   "outputs": [
    {
     "name": "stdout",
     "output_type": "stream",
     "text": [
      "Class                          : TopicModel\n",
      "\n",
      "Schema\n",
      "------\n",
      "Vocabulary Size                : 63958\n",
      "\n",
      "Settings\n",
      "--------\n",
      "Number of Topics               : 15\n",
      "alpha                          : 3.3333\n",
      "beta                           : 0.1\n",
      "Iterations                     : 3000\n",
      "Training time                  : 838.4709\n",
      "Verbose                        : False\n",
      "\n",
      "Accessible fields             : \n",
      "m['topics']                   : An SFrame containing the topics.\n",
      "m['vocabulary']               : An SArray containing the words in the vocabulary.\n",
      "Useful methods                : \n",
      "m.get_topics()                : Get the most probable words per topic.\n",
      "m.predict(new_docs)           : Make predictions for new documents.\n"
     ]
    }
   ],
   "source": []
  },
  {
   "cell_type": "code",
   "execution_count": null,
   "metadata": {
    "collapsed": true
   },
   "outputs": [],
   "source": []
  }
 ],
 "metadata": {
  "kernelspec": {
   "display_name": "Python 2",
   "language": "python",
   "name": "python2"
  },
  "language_info": {
   "codemirror_mode": {
    "name": "ipython",
    "version": 2
   },
   "file_extension": ".py",
   "mimetype": "text/x-python",
   "name": "python",
   "nbconvert_exporter": "python",
   "pygments_lexer": "ipython2",
   "version": "2.7.13"
  }
 },
 "nbformat": 4,
 "nbformat_minor": 0
}
