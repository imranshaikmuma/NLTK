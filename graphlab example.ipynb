{
 "cells": [
  {
   "cell_type": "code",
   "execution_count": 3,
   "metadata": {
    "collapsed": false
   },
   "outputs": [],
   "source": [
    "import graphlab as gl\n",
    "import pyLDAvis\n",
    "import pyLDAvis.graphlab"
   ]
  },
  {
   "cell_type": "code",
   "execution_count": 4,
   "metadata": {
    "collapsed": false
   },
   "outputs": [],
   "source": [
    "\n",
    "pyLDAvis.enable_notebook()"
   ]
  },
  {
   "cell_type": "code",
   "execution_count": 5,
   "metadata": {
    "collapsed": false
   },
   "outputs": [
    {
     "data": {
      "text/html": [
       "<pre>Downloading http://s3.amazonaws.com/GraphLab-Datasets/nytimes/dir_archive.ini to C:/Users/iimra/AppData/Local/Temp/graphlab-iimra/8644/742cd443-16ed-478a-bd49-37bdf3499906.ini</pre>"
      ],
      "text/plain": [
       "Downloading http://s3.amazonaws.com/GraphLab-Datasets/nytimes/dir_archive.ini to C:/Users/iimra/AppData/Local/Temp/graphlab-iimra/8644/742cd443-16ed-478a-bd49-37bdf3499906.ini"
      ]
     },
     "metadata": {},
     "output_type": "display_data"
    },
    {
     "data": {
      "text/html": [
       "<pre>Downloading http://s3.amazonaws.com/GraphLab-Datasets/nytimes/objects.bin to C:/Users/iimra/AppData/Local/Temp/graphlab-iimra/8644/59325520-aa56-455f-9882-225bc7601efe.bin</pre>"
      ],
      "text/plain": [
       "Downloading http://s3.amazonaws.com/GraphLab-Datasets/nytimes/objects.bin to C:/Users/iimra/AppData/Local/Temp/graphlab-iimra/8644/59325520-aa56-455f-9882-225bc7601efe.bin"
      ]
     },
     "metadata": {},
     "output_type": "display_data"
    },
    {
     "data": {
      "text/html": [
       "<pre>Downloading http://s3.amazonaws.com/GraphLab-Datasets/nytimes/m_2ae8944a.sidx to C:/Users/iimra/AppData/Local/Temp/graphlab-iimra/8644/795a8a1d-dd0b-49cf-bb3c-41b551d53f51.sidx</pre>"
      ],
      "text/plain": [
       "Downloading http://s3.amazonaws.com/GraphLab-Datasets/nytimes/m_2ae8944a.sidx to C:/Users/iimra/AppData/Local/Temp/graphlab-iimra/8644/795a8a1d-dd0b-49cf-bb3c-41b551d53f51.sidx"
      ]
     },
     "metadata": {},
     "output_type": "display_data"
    }
   ],
   "source": [
    "docs = gl.SArray('http://s3.amazonaws.com/GraphLab-Datasets/nytimes')"
   ]
  },
  {
   "cell_type": "code",
   "execution_count": 6,
   "metadata": {
    "collapsed": false
   },
   "outputs": [
    {
     "name": "stderr",
     "output_type": "stream",
     "text": [
      "C:\\Users\\iimra\\Anaconda2\\envs\\gl-env\\lib\\site-packages\\IPython\\core\\formatters.py:92: DeprecationWarning: DisplayFormatter._ipython_display_formatter_default is deprecated: use @default decorator instead.\n",
      "  def _ipython_display_formatter_default(self):\n",
      "C:\\Users\\iimra\\Anaconda2\\envs\\gl-env\\lib\\site-packages\\IPython\\core\\formatters.py:669: DeprecationWarning: PlainTextFormatter._singleton_printers_default is deprecated: use @default decorator instead.\n",
      "  def _singleton_printers_default(self):\n",
      "C:\\Users\\iimra\\Anaconda2\\envs\\gl-env\\lib\\site-packages\\IPython\\core\\formatters.py:672: DeprecationWarning: PlainTextFormatter._type_printers_default is deprecated: use @default decorator instead.\n",
      "  def _type_printers_default(self):\n",
      "C:\\Users\\iimra\\Anaconda2\\envs\\gl-env\\lib\\site-packages\\IPython\\core\\formatters.py:677: DeprecationWarning: PlainTextFormatter._deferred_printers_default is deprecated: use @default decorator instead.\n",
      "  def _deferred_printers_default(self):\n"
     ]
    },
    {
     "data": {
      "text/plain": [
       "<function graphlab.toolkits.topic_model.topic_model.create>"
      ]
     },
     "execution_count": 6,
     "metadata": {},
     "output_type": "execute_result"
    }
   ],
   "source": [
    "\n",
    "gl.topic_model.create"
   ]
  },
  {
   "cell_type": "code",
   "execution_count": 7,
   "metadata": {
    "collapsed": false
   },
   "outputs": [
    {
     "data": {
      "text/html": [
       "<pre>Downloading http://s3.amazonaws.com/GraphLab-Datasets/nytimes/m_2ae8944a.0000 to C:/Users/iimra/AppData/Local/Temp/graphlab-iimra/8644/2a7b6969-1b38-4a2c-8f4d-10b4302f27cb.0000</pre>"
      ],
      "text/plain": [
       "Downloading http://s3.amazonaws.com/GraphLab-Datasets/nytimes/m_2ae8944a.0000 to C:/Users/iimra/AppData/Local/Temp/graphlab-iimra/8644/2a7b6969-1b38-4a2c-8f4d-10b4302f27cb.0000"
      ]
     },
     "metadata": {},
     "output_type": "display_data"
    },
    {
     "data": {
      "text/html": [
       "<pre>Downloading http://s3.amazonaws.com/GraphLab-Datasets/nytimes/m_2ae8944a.0001 to C:/Users/iimra/AppData/Local/Temp/graphlab-iimra/8644/51d163be-ff66-4ab2-a443-c3ee3a069206.0001</pre>"
      ],
      "text/plain": [
       "Downloading http://s3.amazonaws.com/GraphLab-Datasets/nytimes/m_2ae8944a.0001 to C:/Users/iimra/AppData/Local/Temp/graphlab-iimra/8644/51d163be-ff66-4ab2-a443-c3ee3a069206.0001"
      ]
     },
     "metadata": {},
     "output_type": "display_data"
    },
    {
     "data": {
      "text/html": [
       "<pre>Downloading http://s3.amazonaws.com/GraphLab-Datasets/nytimes/m_2ae8944a.0002 to C:/Users/iimra/AppData/Local/Temp/graphlab-iimra/8644/9824765b-f4c2-4173-87fe-31b70e854c99.0002</pre>"
      ],
      "text/plain": [
       "Downloading http://s3.amazonaws.com/GraphLab-Datasets/nytimes/m_2ae8944a.0002 to C:/Users/iimra/AppData/Local/Temp/graphlab-iimra/8644/9824765b-f4c2-4173-87fe-31b70e854c99.0002"
      ]
     },
     "metadata": {},
     "output_type": "display_data"
    },
    {
     "data": {
      "text/html": [
       "<pre>Downloading http://s3.amazonaws.com/GraphLab-Datasets/nytimes/m_2ae8944a.0003 to C:/Users/iimra/AppData/Local/Temp/graphlab-iimra/8644/1e029c1a-2e80-4064-958b-7e6a748859b3.0003</pre>"
      ],
      "text/plain": [
       "Downloading http://s3.amazonaws.com/GraphLab-Datasets/nytimes/m_2ae8944a.0003 to C:/Users/iimra/AppData/Local/Temp/graphlab-iimra/8644/1e029c1a-2e80-4064-958b-7e6a748859b3.0003"
      ]
     },
     "metadata": {},
     "output_type": "display_data"
    },
    {
     "data": {
      "text/html": [
       "<pre>Downloading http://s3.amazonaws.com/GraphLab-Datasets/nytimes/m_2ae8944a.0004 to C:/Users/iimra/AppData/Local/Temp/graphlab-iimra/8644/08d7e203-d5ae-4694-bc76-61bfc15a3019.0004</pre>"
      ],
      "text/plain": [
       "Downloading http://s3.amazonaws.com/GraphLab-Datasets/nytimes/m_2ae8944a.0004 to C:/Users/iimra/AppData/Local/Temp/graphlab-iimra/8644/08d7e203-d5ae-4694-bc76-61bfc15a3019.0004"
      ]
     },
     "metadata": {},
     "output_type": "display_data"
    },
    {
     "data": {
      "text/html": [
       "<pre>Downloading http://s3.amazonaws.com/GraphLab-Datasets/nytimes/m_2ae8944a.0005 to C:/Users/iimra/AppData/Local/Temp/graphlab-iimra/8644/8a8767f3-bb26-4a11-91a3-44b9704ba734.0005</pre>"
      ],
      "text/plain": [
       "Downloading http://s3.amazonaws.com/GraphLab-Datasets/nytimes/m_2ae8944a.0005 to C:/Users/iimra/AppData/Local/Temp/graphlab-iimra/8644/8a8767f3-bb26-4a11-91a3-44b9704ba734.0005"
      ]
     },
     "metadata": {},
     "output_type": "display_data"
    },
    {
     "data": {
      "text/html": [
       "<pre>Downloading http://s3.amazonaws.com/GraphLab-Datasets/nytimes/m_2ae8944a.0006 to C:/Users/iimra/AppData/Local/Temp/graphlab-iimra/8644/a420337a-cb4d-4a29-b1cd-591f2ffd3ec9.0006</pre>"
      ],
      "text/plain": [
       "Downloading http://s3.amazonaws.com/GraphLab-Datasets/nytimes/m_2ae8944a.0006 to C:/Users/iimra/AppData/Local/Temp/graphlab-iimra/8644/a420337a-cb4d-4a29-b1cd-591f2ffd3ec9.0006"
      ]
     },
     "metadata": {},
     "output_type": "display_data"
    },
    {
     "data": {
      "text/html": [
       "<pre>Downloading http://s3.amazonaws.com/GraphLab-Datasets/nytimes/m_2ae8944a.0007 to C:/Users/iimra/AppData/Local/Temp/graphlab-iimra/8644/51df638f-6d90-46fa-96e8-d1ca8fd0d57c.0007</pre>"
      ],
      "text/plain": [
       "Downloading http://s3.amazonaws.com/GraphLab-Datasets/nytimes/m_2ae8944a.0007 to C:/Users/iimra/AppData/Local/Temp/graphlab-iimra/8644/51df638f-6d90-46fa-96e8-d1ca8fd0d57c.0007"
      ]
     },
     "metadata": {},
     "output_type": "display_data"
    },
    {
     "data": {
      "text/html": [
       "<pre>Learning a topic model</pre>"
      ],
      "text/plain": [
       "Learning a topic model"
      ]
     },
     "metadata": {},
     "output_type": "display_data"
    },
    {
     "data": {
      "text/html": [
       "<pre>       Number of documents     10000</pre>"
      ],
      "text/plain": [
       "       Number of documents     10000"
      ]
     },
     "metadata": {},
     "output_type": "display_data"
    },
    {
     "data": {
      "text/html": [
       "<pre>           Vocabulary size     63958</pre>"
      ],
      "text/plain": [
       "           Vocabulary size     63958"
      ]
     },
     "metadata": {},
     "output_type": "display_data"
    },
    {
     "data": {
      "text/html": [
       "<pre>   Running collapsed Gibbs sampling</pre>"
      ],
      "text/plain": [
       "   Running collapsed Gibbs sampling"
      ]
     },
     "metadata": {},
     "output_type": "display_data"
    },
    {
     "data": {
      "text/html": [
       "<pre>+-----------+---------------+----------------+-----------------+</pre>"
      ],
      "text/plain": [
       "+-----------+---------------+----------------+-----------------+"
      ]
     },
     "metadata": {},
     "output_type": "display_data"
    },
    {
     "data": {
      "text/html": [
       "<pre>| Iteration | Elapsed Time  | Tokens/Second  | Est. Perplexity |</pre>"
      ],
      "text/plain": [
       "| Iteration | Elapsed Time  | Tokens/Second  | Est. Perplexity |"
      ]
     },
     "metadata": {},
     "output_type": "display_data"
    },
    {
     "data": {
      "text/html": [
       "<pre>+-----------+---------------+----------------+-----------------+</pre>"
      ],
      "text/plain": [
       "+-----------+---------------+----------------+-----------------+"
      ]
     },
     "metadata": {},
     "output_type": "display_data"
    },
    {
     "data": {
      "text/html": [
       "<pre>| 10        | 3.54s         | 7.76246e+006   | 0               |</pre>"
      ],
      "text/plain": [
       "| 10        | 3.54s         | 7.76246e+006   | 0               |"
      ]
     },
     "metadata": {},
     "output_type": "display_data"
    },
    {
     "data": {
      "text/html": [
       "<pre>| 20        | 6.39s         | 7.72352e+006   | 0               |</pre>"
      ],
      "text/plain": [
       "| 20        | 6.39s         | 7.72352e+006   | 0               |"
      ]
     },
     "metadata": {},
     "output_type": "display_data"
    },
    {
     "data": {
      "text/html": [
       "<pre>| 30        | 9.21s         | 7.81365e+006   | 0               |</pre>"
      ],
      "text/plain": [
       "| 30        | 9.21s         | 7.81365e+006   | 0               |"
      ]
     },
     "metadata": {},
     "output_type": "display_data"
    },
    {
     "data": {
      "text/html": [
       "<pre>| 40        | 12.04s        | 7.70762e+006   | 0               |</pre>"
      ],
      "text/plain": [
       "| 40        | 12.04s        | 7.70762e+006   | 0               |"
      ]
     },
     "metadata": {},
     "output_type": "display_data"
    },
    {
     "data": {
      "text/html": [
       "<pre>| 50        | 14.94s        | 7.69375e+006   | 0               |</pre>"
      ],
      "text/plain": [
       "| 50        | 14.94s        | 7.69375e+006   | 0               |"
      ]
     },
     "metadata": {},
     "output_type": "display_data"
    },
    {
     "data": {
      "text/html": [
       "<pre>| 60        | 17.92s        | 8.00968e+006   | 0               |</pre>"
      ],
      "text/plain": [
       "| 60        | 17.92s        | 8.00968e+006   | 0               |"
      ]
     },
     "metadata": {},
     "output_type": "display_data"
    },
    {
     "data": {
      "text/html": [
       "<pre>| 70        | 20.66s        | 8.11095e+006   | 0               |</pre>"
      ],
      "text/plain": [
       "| 70        | 20.66s        | 8.11095e+006   | 0               |"
      ]
     },
     "metadata": {},
     "output_type": "display_data"
    },
    {
     "data": {
      "text/html": [
       "<pre>| 80        | 23.82s        | 7.735e+006     | 0               |</pre>"
      ],
      "text/plain": [
       "| 80        | 23.82s        | 7.735e+006     | 0               |"
      ]
     },
     "metadata": {},
     "output_type": "display_data"
    },
    {
     "data": {
      "text/html": [
       "<pre>| 90        | 26.82s        | 8.06566e+006   | 0               |</pre>"
      ],
      "text/plain": [
       "| 90        | 26.82s        | 8.06566e+006   | 0               |"
      ]
     },
     "metadata": {},
     "output_type": "display_data"
    },
    {
     "data": {
      "text/html": [
       "<pre>| 100       | 29.54s        | 8.09878e+006   | 0               |</pre>"
      ],
      "text/plain": [
       "| 100       | 29.54s        | 8.09878e+006   | 0               |"
      ]
     },
     "metadata": {},
     "output_type": "display_data"
    },
    {
     "data": {
      "text/html": [
       "<pre>| 110       | 32.27s        | 7.62626e+006   | 0               |</pre>"
      ],
      "text/plain": [
       "| 110       | 32.27s        | 7.62626e+006   | 0               |"
      ]
     },
     "metadata": {},
     "output_type": "display_data"
    },
    {
     "data": {
      "text/html": [
       "<pre>| 120       | 35.32s        | 7.86083e+006   | 0               |</pre>"
      ],
      "text/plain": [
       "| 120       | 35.32s        | 7.86083e+006   | 0               |"
      ]
     },
     "metadata": {},
     "output_type": "display_data"
    },
    {
     "data": {
      "text/html": [
       "<pre>| 130       | 38.04s        | 8.39324e+006   | 0               |</pre>"
      ],
      "text/plain": [
       "| 130       | 38.04s        | 8.39324e+006   | 0               |"
      ]
     },
     "metadata": {},
     "output_type": "display_data"
    },
    {
     "data": {
      "text/html": [
       "<pre>| 140       | 40.83s        | 8.02093e+006   | 0               |</pre>"
      ],
      "text/plain": [
       "| 140       | 40.83s        | 8.02093e+006   | 0               |"
      ]
     },
     "metadata": {},
     "output_type": "display_data"
    },
    {
     "data": {
      "text/html": [
       "<pre>| 150       | 43.57s        | 8.00614e+006   | 0               |</pre>"
      ],
      "text/plain": [
       "| 150       | 43.57s        | 8.00614e+006   | 0               |"
      ]
     },
     "metadata": {},
     "output_type": "display_data"
    },
    {
     "data": {
      "text/html": [
       "<pre>| 160       | 46.50s        | 7.7488e+006    | 0               |</pre>"
      ],
      "text/plain": [
       "| 160       | 46.50s        | 7.7488e+006    | 0               |"
      ]
     },
     "metadata": {},
     "output_type": "display_data"
    },
    {
     "data": {
      "text/html": [
       "<pre>| 170       | 49.47s        | 7.97673e+006   | 0               |</pre>"
      ],
      "text/plain": [
       "| 170       | 49.47s        | 7.97673e+006   | 0               |"
      ]
     },
     "metadata": {},
     "output_type": "display_data"
    },
    {
     "data": {
      "text/html": [
       "<pre>| 180       | 52.39s        | 7.61287e+006   | 0               |</pre>"
      ],
      "text/plain": [
       "| 180       | 52.39s        | 7.61287e+006   | 0               |"
      ]
     },
     "metadata": {},
     "output_type": "display_data"
    },
    {
     "data": {
      "text/html": [
       "<pre>| 190       | 55.30s        | 7.70754e+006   | 0               |</pre>"
      ],
      "text/plain": [
       "| 190       | 55.30s        | 7.70754e+006   | 0               |"
      ]
     },
     "metadata": {},
     "output_type": "display_data"
    },
    {
     "data": {
      "text/html": [
       "<pre>| 200       | 58.17s        | 7.1371e+006    | 0               |</pre>"
      ],
      "text/plain": [
       "| 200       | 58.17s        | 7.1371e+006    | 0               |"
      ]
     },
     "metadata": {},
     "output_type": "display_data"
    },
    {
     "data": {
      "text/html": [
       "<pre>| 210       | 1m 1s         | 7.8754e+006    | 0               |</pre>"
      ],
      "text/plain": [
       "| 210       | 1m 1s         | 7.8754e+006    | 0               |"
      ]
     },
     "metadata": {},
     "output_type": "display_data"
    },
    {
     "data": {
      "text/html": [
       "<pre>| 220       | 1m 3s         | 7.63966e+006   | 0               |</pre>"
      ],
      "text/plain": [
       "| 220       | 1m 3s         | 7.63966e+006   | 0               |"
      ]
     },
     "metadata": {},
     "output_type": "display_data"
    },
    {
     "data": {
      "text/html": [
       "<pre>| 230       | 1m 6s         | 7.81862e+006   | 0               |</pre>"
      ],
      "text/plain": [
       "| 230       | 1m 6s         | 7.81862e+006   | 0               |"
      ]
     },
     "metadata": {},
     "output_type": "display_data"
    },
    {
     "data": {
      "text/html": [
       "<pre>| 240       | 1m 10s        | 3.88829e+006   | 0               |</pre>"
      ],
      "text/plain": [
       "| 240       | 1m 10s        | 3.88829e+006   | 0               |"
      ]
     },
     "metadata": {},
     "output_type": "display_data"
    },
    {
     "data": {
      "text/html": [
       "<pre>| 250       | 1m 12s        | 7.68027e+006   | 0               |</pre>"
      ],
      "text/plain": [
       "| 250       | 1m 12s        | 7.68027e+006   | 0               |"
      ]
     },
     "metadata": {},
     "output_type": "display_data"
    },
    {
     "data": {
      "text/html": [
       "<pre>| 260       | 1m 15s        | 7.52052e+006   | 0               |</pre>"
      ],
      "text/plain": [
       "| 260       | 1m 15s        | 7.52052e+006   | 0               |"
      ]
     },
     "metadata": {},
     "output_type": "display_data"
    },
    {
     "data": {
      "text/html": [
       "<pre>| 270       | 1m 18s        | 7.99141e+006   | 0               |</pre>"
      ],
      "text/plain": [
       "| 270       | 1m 18s        | 7.99141e+006   | 0               |"
      ]
     },
     "metadata": {},
     "output_type": "display_data"
    },
    {
     "data": {
      "text/html": [
       "<pre>| 280       | 1m 21s        | 8.172e+006     | 0               |</pre>"
      ],
      "text/plain": [
       "| 280       | 1m 21s        | 8.172e+006     | 0               |"
      ]
     },
     "metadata": {},
     "output_type": "display_data"
    },
    {
     "data": {
      "text/html": [
       "<pre>| 290       | 1m 24s        | 7.69388e+006   | 0               |</pre>"
      ],
      "text/plain": [
       "| 290       | 1m 24s        | 7.69388e+006   | 0               |"
      ]
     },
     "metadata": {},
     "output_type": "display_data"
    },
    {
     "data": {
      "text/html": [
       "<pre>| 300       | 1m 27s        | 8.05073e+006   | 0               |</pre>"
      ],
      "text/plain": [
       "| 300       | 1m 27s        | 8.05073e+006   | 0               |"
      ]
     },
     "metadata": {},
     "output_type": "display_data"
    },
    {
     "data": {
      "text/html": [
       "<pre>| 310       | 1m 30s        | 7.84696e+006   | 0               |</pre>"
      ],
      "text/plain": [
       "| 310       | 1m 30s        | 7.84696e+006   | 0               |"
      ]
     },
     "metadata": {},
     "output_type": "display_data"
    },
    {
     "data": {
      "text/html": [
       "<pre>| 320       | 1m 33s        | 8.32891e+006   | 0               |</pre>"
      ],
      "text/plain": [
       "| 320       | 1m 33s        | 8.32891e+006   | 0               |"
      ]
     },
     "metadata": {},
     "output_type": "display_data"
    },
    {
     "data": {
      "text/html": [
       "<pre>| 330       | 1m 35s        | 7.63968e+006   | 0               |</pre>"
      ],
      "text/plain": [
       "| 330       | 1m 35s        | 7.63968e+006   | 0               |"
      ]
     },
     "metadata": {},
     "output_type": "display_data"
    },
    {
     "data": {
      "text/html": [
       "<pre>| 340       | 1m 38s        | 7.91857e+006   | 0               |</pre>"
      ],
      "text/plain": [
       "| 340       | 1m 38s        | 7.91857e+006   | 0               |"
      ]
     },
     "metadata": {},
     "output_type": "display_data"
    },
    {
     "data": {
      "text/html": [
       "<pre>| 350       | 1m 41s        | 7.39238e+006   | 0               |</pre>"
      ],
      "text/plain": [
       "| 350       | 1m 41s        | 7.39238e+006   | 0               |"
      ]
     },
     "metadata": {},
     "output_type": "display_data"
    },
    {
     "data": {
      "text/html": [
       "<pre>| 360       | 1m 44s        | 7.91848e+006   | 0               |</pre>"
      ],
      "text/plain": [
       "| 360       | 1m 44s        | 7.91848e+006   | 0               |"
      ]
     },
     "metadata": {},
     "output_type": "display_data"
    },
    {
     "data": {
      "text/html": [
       "<pre>| 370       | 1m 47s        | 7.49456e+006   | 0               |</pre>"
      ],
      "text/plain": [
       "| 370       | 1m 47s        | 7.49456e+006   | 0               |"
      ]
     },
     "metadata": {},
     "output_type": "display_data"
    },
    {
     "data": {
      "text/html": [
       "<pre>| 380       | 1m 50s        | 7.76274e+006   | 0               |</pre>"
      ],
      "text/plain": [
       "| 380       | 1m 50s        | 7.76274e+006   | 0               |"
      ]
     },
     "metadata": {},
     "output_type": "display_data"
    },
    {
     "data": {
      "text/html": [
       "<pre>| 390       | 1m 53s        | 7.99132e+006   | 0               |</pre>"
      ],
      "text/plain": [
       "| 390       | 1m 53s        | 7.99132e+006   | 0               |"
      ]
     },
     "metadata": {},
     "output_type": "display_data"
    },
    {
     "data": {
      "text/html": [
       "<pre>| 400       | 1m 55s        | 8.06566e+006   | 0               |</pre>"
      ],
      "text/plain": [
       "| 400       | 1m 55s        | 8.06566e+006   | 0               |"
      ]
     },
     "metadata": {},
     "output_type": "display_data"
    },
    {
     "data": {
      "text/html": [
       "<pre>| 410       | 1m 58s        | 7.87537e+006   | 0               |</pre>"
      ],
      "text/plain": [
       "| 410       | 1m 58s        | 7.87537e+006   | 0               |"
      ]
     },
     "metadata": {},
     "output_type": "display_data"
    },
    {
     "data": {
      "text/html": [
       "<pre>| 420       | 2m 1s         | 7.97585e+006   | 0               |</pre>"
      ],
      "text/plain": [
       "| 420       | 2m 1s         | 7.97585e+006   | 0               |"
      ]
     },
     "metadata": {},
     "output_type": "display_data"
    },
    {
     "data": {
      "text/html": [
       "<pre>| 430       | 2m 4s         | 7.73516e+006   | 0               |</pre>"
      ],
      "text/plain": [
       "| 430       | 2m 4s         | 7.73516e+006   | 0               |"
      ]
     },
     "metadata": {},
     "output_type": "display_data"
    },
    {
     "data": {
      "text/html": [
       "<pre>| 440       | 2m 7s         | 7.65317e+006   | 0               |</pre>"
      ],
      "text/plain": [
       "| 440       | 2m 7s         | 7.65317e+006   | 0               |"
      ]
     },
     "metadata": {},
     "output_type": "display_data"
    },
    {
     "data": {
      "text/html": [
       "<pre>| 450       | 2m 10s        | 7.45588e+006   | 0               |</pre>"
      ],
      "text/plain": [
       "| 450       | 2m 10s        | 7.45588e+006   | 0               |"
      ]
     },
     "metadata": {},
     "output_type": "display_data"
    },
    {
     "data": {
      "text/html": [
       "<pre>| 460       | 2m 13s        | 7.39238e+006   | 0               |</pre>"
      ],
      "text/plain": [
       "| 460       | 2m 13s        | 7.39238e+006   | 0               |"
      ]
     },
     "metadata": {},
     "output_type": "display_data"
    },
    {
     "data": {
      "text/html": [
       "<pre>| 470       | 2m 16s        | 7.62626e+006   | 0               |</pre>"
      ],
      "text/plain": [
       "| 470       | 2m 16s        | 7.62626e+006   | 0               |"
      ]
     },
     "metadata": {},
     "output_type": "display_data"
    },
    {
     "data": {
      "text/html": [
       "<pre>| 480       | 2m 18s        | 5.7857e+006    | 0               |</pre>"
      ],
      "text/plain": [
       "| 480       | 2m 18s        | 5.7857e+006    | 0               |"
      ]
     },
     "metadata": {},
     "output_type": "display_data"
    },
    {
     "data": {
      "text/html": [
       "<pre>| 490       | 2m 21s        | 7.77659e+006   | 0               |</pre>"
      ],
      "text/plain": [
       "| 490       | 2m 21s        | 7.77659e+006   | 0               |"
      ]
     },
     "metadata": {},
     "output_type": "display_data"
    },
    {
     "data": {
      "text/html": [
       "<pre>| 500       | 2m 24s        | 8.18744e+006   | 0               |</pre>"
      ],
      "text/plain": [
       "| 500       | 2m 24s        | 8.18744e+006   | 0               |"
      ]
     },
     "metadata": {},
     "output_type": "display_data"
    },
    {
     "data": {
      "text/html": [
       "<pre>| 510       | 2m 27s        | 8.46236e+006   | 0               |</pre>"
      ],
      "text/plain": [
       "| 510       | 2m 27s        | 8.46236e+006   | 0               |"
      ]
     },
     "metadata": {},
     "output_type": "display_data"
    },
    {
     "data": {
      "text/html": [
       "<pre>| 520       | 2m 30s        | 8.15375e+006   | 0               |</pre>"
      ],
      "text/plain": [
       "| 520       | 2m 30s        | 8.15375e+006   | 0               |"
      ]
     },
     "metadata": {},
     "output_type": "display_data"
    },
    {
     "data": {
      "text/html": [
       "<pre>| 530       | 2m 33s        | 5.71701e+006   | 0               |</pre>"
      ],
      "text/plain": [
       "| 530       | 2m 33s        | 5.71701e+006   | 0               |"
      ]
     },
     "metadata": {},
     "output_type": "display_data"
    },
    {
     "data": {
      "text/html": [
       "<pre>| 540       | 2m 36s        | 8.34488e+006   | 0               |</pre>"
      ],
      "text/plain": [
       "| 540       | 2m 36s        | 8.34488e+006   | 0               |"
      ]
     },
     "metadata": {},
     "output_type": "display_data"
    },
    {
     "data": {
      "text/html": [
       "<pre>| 550       | 2m 38s        | 7.07883e+006   | 0               |</pre>"
      ],
      "text/plain": [
       "| 550       | 2m 38s        | 7.07883e+006   | 0               |"
      ]
     },
     "metadata": {},
     "output_type": "display_data"
    },
    {
     "data": {
      "text/html": [
       "<pre>| 560       | 2m 41s        | 6.14635e+006   | 0               |</pre>"
      ],
      "text/plain": [
       "| 560       | 2m 41s        | 6.14635e+006   | 0               |"
      ]
     },
     "metadata": {},
     "output_type": "display_data"
    },
    {
     "data": {
      "text/html": [
       "<pre>| 570       | 2m 44s        | 8.44233e+006   | 0               |</pre>"
      ],
      "text/plain": [
       "| 570       | 2m 44s        | 8.44233e+006   | 0               |"
      ]
     },
     "metadata": {},
     "output_type": "display_data"
    },
    {
     "data": {
      "text/html": [
       "<pre>| 580       | 2m 47s        | 8.59268e+006   | 0               |</pre>"
      ],
      "text/plain": [
       "| 580       | 2m 47s        | 8.59268e+006   | 0               |"
      ]
     },
     "metadata": {},
     "output_type": "display_data"
    },
    {
     "data": {
      "text/html": [
       "<pre>| 590       | 2m 50s        | 8.4423e+006    | 0               |</pre>"
      ],
      "text/plain": [
       "| 590       | 2m 50s        | 8.4423e+006    | 0               |"
      ]
     },
     "metadata": {},
     "output_type": "display_data"
    },
    {
     "data": {
      "text/html": [
       "<pre>| 600       | 2m 53s        | 7.60433e+006   | 0               |</pre>"
      ],
      "text/plain": [
       "| 600       | 2m 53s        | 7.60433e+006   | 0               |"
      ]
     },
     "metadata": {},
     "output_type": "display_data"
    },
    {
     "data": {
      "text/html": [
       "<pre>| 610       | 2m 55s        | 7.79057e+006   | 0               |</pre>"
      ],
      "text/plain": [
       "| 610       | 2m 55s        | 7.79057e+006   | 0               |"
      ]
     },
     "metadata": {},
     "output_type": "display_data"
    },
    {
     "data": {
      "text/html": [
       "<pre>| 620       | 2m 58s        | 8.57051e+006   | 0               |</pre>"
      ],
      "text/plain": [
       "| 620       | 2m 58s        | 8.57051e+006   | 0               |"
      ]
     },
     "metadata": {},
     "output_type": "display_data"
    },
    {
     "data": {
      "text/html": [
       "<pre>| 630       | 3m 1s         | 8.14136e+006   | 0               |</pre>"
      ],
      "text/plain": [
       "| 630       | 3m 1s         | 8.14136e+006   | 0               |"
      ]
     },
     "metadata": {},
     "output_type": "display_data"
    },
    {
     "data": {
      "text/html": [
       "<pre>| 640       | 3m 3s         | 7.88971e+006   | 0               |</pre>"
      ],
      "text/plain": [
       "| 640       | 3m 3s         | 7.88971e+006   | 0               |"
      ]
     },
     "metadata": {},
     "output_type": "display_data"
    },
    {
     "data": {
      "text/html": [
       "<pre>| 650       | 3m 6s         | 8.59275e+006   | 0               |</pre>"
      ],
      "text/plain": [
       "| 650       | 3m 6s         | 8.59275e+006   | 0               |"
      ]
     },
     "metadata": {},
     "output_type": "display_data"
    },
    {
     "data": {
      "text/html": [
       "<pre>| 660       | 3m 9s         | 7.52088e+006   | 0               |</pre>"
      ],
      "text/plain": [
       "| 660       | 3m 9s         | 7.52088e+006   | 0               |"
      ]
     },
     "metadata": {},
     "output_type": "display_data"
    },
    {
     "data": {
      "text/html": [
       "<pre>| 670       | 3m 12s        | 7.61287e+006   | 0               |</pre>"
      ],
      "text/plain": [
       "| 670       | 3m 12s        | 7.61287e+006   | 0               |"
      ]
     },
     "metadata": {},
     "output_type": "display_data"
    },
    {
     "data": {
      "text/html": [
       "<pre>| 680       | 3m 14s        | 8.09579e+006   | 0               |</pre>"
      ],
      "text/plain": [
       "| 680       | 3m 14s        | 8.09579e+006   | 0               |"
      ]
     },
     "metadata": {},
     "output_type": "display_data"
    },
    {
     "data": {
      "text/html": [
       "<pre>| 690       | 3m 17s        | 8.23405e+006   | 0               |</pre>"
      ],
      "text/plain": [
       "| 690       | 3m 17s        | 8.23405e+006   | 0               |"
      ]
     },
     "metadata": {},
     "output_type": "display_data"
    },
    {
     "data": {
      "text/html": [
       "<pre>| 700       | 3m 20s        | 8.17197e+006   | 0               |</pre>"
      ],
      "text/plain": [
       "| 700       | 3m 20s        | 8.17197e+006   | 0               |"
      ]
     },
     "metadata": {},
     "output_type": "display_data"
    },
    {
     "data": {
      "text/html": [
       "<pre>| 710       | 3m 23s        | 5.92442e+006   | 0               |</pre>"
      ],
      "text/plain": [
       "| 710       | 3m 23s        | 5.92442e+006   | 0               |"
      ]
     },
     "metadata": {},
     "output_type": "display_data"
    },
    {
     "data": {
      "text/html": [
       "<pre>| 720       | 3m 26s        | 7.48152e+006   | 0               |</pre>"
      ],
      "text/plain": [
       "| 720       | 3m 26s        | 7.48152e+006   | 0               |"
      ]
     },
     "metadata": {},
     "output_type": "display_data"
    },
    {
     "data": {
      "text/html": [
       "<pre>| 730       | 3m 29s        | 8.49186e+006   | 0               |</pre>"
      ],
      "text/plain": [
       "| 730       | 3m 29s        | 8.49186e+006   | 0               |"
      ]
     },
     "metadata": {},
     "output_type": "display_data"
    },
    {
     "data": {
      "text/html": [
       "<pre>| 740       | 3m 31s        | 8.50853e+006   | 0               |</pre>"
      ],
      "text/plain": [
       "| 740       | 3m 31s        | 8.50853e+006   | 0               |"
      ]
     },
     "metadata": {},
     "output_type": "display_data"
    },
    {
     "data": {
      "text/html": [
       "<pre>| 750       | 3m 34s        | 8.31287e+006   | 0               |</pre>"
      ],
      "text/plain": [
       "| 750       | 3m 34s        | 8.31287e+006   | 0               |"
      ]
     },
     "metadata": {},
     "output_type": "display_data"
    },
    {
     "data": {
      "text/html": [
       "<pre>| 760       | 3m 36s        | 7.9621e+006    | 0               |</pre>"
      ],
      "text/plain": [
       "| 760       | 3m 36s        | 7.9621e+006    | 0               |"
      ]
     },
     "metadata": {},
     "output_type": "display_data"
    },
    {
     "data": {
      "text/html": [
       "<pre>| 770       | 3m 39s        | 8.3995e+006    | 0               |</pre>"
      ],
      "text/plain": [
       "| 770       | 3m 39s        | 8.3995e+006    | 0               |"
      ]
     },
     "metadata": {},
     "output_type": "display_data"
    },
    {
     "data": {
      "text/html": [
       "<pre>| 780       | 3m 42s        | 8.57582e+006   | 0               |</pre>"
      ],
      "text/plain": [
       "| 780       | 3m 42s        | 8.57582e+006   | 0               |"
      ]
     },
     "metadata": {},
     "output_type": "display_data"
    },
    {
     "data": {
      "text/html": [
       "<pre>| 790       | 3m 44s        | 8.37712e+006   | 0               |</pre>"
      ],
      "text/plain": [
       "| 790       | 3m 44s        | 8.37712e+006   | 0               |"
      ]
     },
     "metadata": {},
     "output_type": "display_data"
    },
    {
     "data": {
      "text/html": [
       "<pre>| 800       | 3m 47s        | 8.49514e+006   | 0               |</pre>"
      ],
      "text/plain": [
       "| 800       | 3m 47s        | 8.49514e+006   | 0               |"
      ]
     },
     "metadata": {},
     "output_type": "display_data"
    },
    {
     "data": {
      "text/html": [
       "<pre>| 810       | 3m 49s        | 6.75911e+006   | 0               |</pre>"
      ],
      "text/plain": [
       "| 810       | 3m 49s        | 6.75911e+006   | 0               |"
      ]
     },
     "metadata": {},
     "output_type": "display_data"
    },
    {
     "data": {
      "text/html": [
       "<pre>| 820       | 3m 52s        | 8.40953e+006   | 0               |</pre>"
      ],
      "text/plain": [
       "| 820       | 3m 52s        | 8.40953e+006   | 0               |"
      ]
     },
     "metadata": {},
     "output_type": "display_data"
    },
    {
     "data": {
      "text/html": [
       "<pre>| 830       | 3m 55s        | 8.21841e+006   | 0               |</pre>"
      ],
      "text/plain": [
       "| 830       | 3m 55s        | 8.21841e+006   | 0               |"
      ]
     },
     "metadata": {},
     "output_type": "display_data"
    },
    {
     "data": {
      "text/html": [
       "<pre>| 840       | 3m 58s        | 8.54201e+006   | 0               |</pre>"
      ],
      "text/plain": [
       "| 840       | 3m 58s        | 8.54201e+006   | 0               |"
      ]
     },
     "metadata": {},
     "output_type": "display_data"
    },
    {
     "data": {
      "text/html": [
       "<pre>| 850       | 4m 0s         | 8.15668e+006   | 0               |</pre>"
      ],
      "text/plain": [
       "| 850       | 4m 0s         | 8.15668e+006   | 0               |"
      ]
     },
     "metadata": {},
     "output_type": "display_data"
    },
    {
     "data": {
      "text/html": [
       "<pre>| 860       | 4m 3s         | 8.66131e+006   | 0               |</pre>"
      ],
      "text/plain": [
       "| 860       | 4m 3s         | 8.66131e+006   | 0               |"
      ]
     },
     "metadata": {},
     "output_type": "display_data"
    },
    {
     "data": {
      "text/html": [
       "<pre>| 870       | 4m 6s         | 8.54204e+006   | 0               |</pre>"
      ],
      "text/plain": [
       "| 870       | 4m 6s         | 8.54204e+006   | 0               |"
      ]
     },
     "metadata": {},
     "output_type": "display_data"
    },
    {
     "data": {
      "text/html": [
       "<pre>| 880       | 4m 8s         | 8.76633e+006   | 0               |</pre>"
      ],
      "text/plain": [
       "| 880       | 4m 8s         | 8.76633e+006   | 0               |"
      ]
     },
     "metadata": {},
     "output_type": "display_data"
    },
    {
     "data": {
      "text/html": [
       "<pre>| 890       | 4m 11s        | 8.172e+006     | 0               |</pre>"
      ],
      "text/plain": [
       "| 890       | 4m 11s        | 8.172e+006     | 0               |"
      ]
     },
     "metadata": {},
     "output_type": "display_data"
    },
    {
     "data": {
      "text/html": [
       "<pre>| 900       | 4m 14s        | 8.57575e+006   | 0               |</pre>"
      ],
      "text/plain": [
       "| 900       | 4m 14s        | 8.57575e+006   | 0               |"
      ]
     },
     "metadata": {},
     "output_type": "display_data"
    },
    {
     "data": {
      "text/html": [
       "<pre>| 910       | 4m 16s        | 8.2654e+006    | 0               |</pre>"
      ],
      "text/plain": [
       "| 910       | 4m 16s        | 8.2654e+006    | 0               |"
      ]
     },
     "metadata": {},
     "output_type": "display_data"
    },
    {
     "data": {
      "text/html": [
       "<pre>| 920       | 4m 19s        | 8.64407e+006   | 0               |</pre>"
      ],
      "text/plain": [
       "| 920       | 4m 19s        | 8.64407e+006   | 0               |"
      ]
     },
     "metadata": {},
     "output_type": "display_data"
    },
    {
     "data": {
      "text/html": [
       "<pre>| 930       | 4m 21s        | 8.15665e+006   | 0               |</pre>"
      ],
      "text/plain": [
       "| 930       | 4m 21s        | 8.15665e+006   | 0               |"
      ]
     },
     "metadata": {},
     "output_type": "display_data"
    },
    {
     "data": {
      "text/html": [
       "<pre>| 940       | 4m 24s        | 8.18741e+006   | 0               |</pre>"
      ],
      "text/plain": [
       "| 940       | 4m 24s        | 8.18741e+006   | 0               |"
      ]
     },
     "metadata": {},
     "output_type": "display_data"
    },
    {
     "data": {
      "text/html": [
       "<pre>| 950       | 4m 27s        | 7.23225e+006   | 0               |</pre>"
      ],
      "text/plain": [
       "| 950       | 4m 27s        | 7.23225e+006   | 0               |"
      ]
     },
     "metadata": {},
     "output_type": "display_data"
    },
    {
     "data": {
      "text/html": [
       "<pre>| 960       | 4m 29s        | 8.54184e+006   | 0               |</pre>"
      ],
      "text/plain": [
       "| 960       | 4m 29s        | 8.54184e+006   | 0               |"
      ]
     },
     "metadata": {},
     "output_type": "display_data"
    },
    {
     "data": {
      "text/html": [
       "<pre>| 970       | 4m 32s        | 8.4096e+006    | 0               |</pre>"
      ],
      "text/plain": [
       "| 970       | 4m 32s        | 8.4096e+006    | 0               |"
      ]
     },
     "metadata": {},
     "output_type": "display_data"
    },
    {
     "data": {
      "text/html": [
       "<pre>| 980       | 4m 35s        | 8.64417e+006   | 0               |</pre>"
      ],
      "text/plain": [
       "| 980       | 4m 35s        | 8.64417e+006   | 0               |"
      ]
     },
     "metadata": {},
     "output_type": "display_data"
    },
    {
     "data": {
      "text/html": [
       "<pre>| 990       | 4m 37s        | 8.57149e+006   | 0               |</pre>"
      ],
      "text/plain": [
       "| 990       | 4m 37s        | 8.57149e+006   | 0               |"
      ]
     },
     "metadata": {},
     "output_type": "display_data"
    },
    {
     "data": {
      "text/html": [
       "<pre>| 1000      | 4m 40s        | 8.57585e+006   | 0               |</pre>"
      ],
      "text/plain": [
       "| 1000      | 4m 40s        | 8.57585e+006   | 0               |"
      ]
     },
     "metadata": {},
     "output_type": "display_data"
    },
    {
     "data": {
      "text/html": [
       "<pre>| 1010      | 4m 42s        | 8.31293e+006   | 0               |</pre>"
      ],
      "text/plain": [
       "| 1010      | 4m 42s        | 8.31293e+006   | 0               |"
      ]
     },
     "metadata": {},
     "output_type": "display_data"
    },
    {
     "data": {
      "text/html": [
       "<pre>| 1020      | 4m 45s        | 8.42588e+006   | 0               |</pre>"
      ],
      "text/plain": [
       "| 1020      | 4m 45s        | 8.42588e+006   | 0               |"
      ]
     },
     "metadata": {},
     "output_type": "display_data"
    },
    {
     "data": {
      "text/html": [
       "<pre>| 1030      | 4m 47s        | 8.57575e+006   | 0               |</pre>"
      ],
      "text/plain": [
       "| 1030      | 4m 47s        | 8.57575e+006   | 0               |"
      ]
     },
     "metadata": {},
     "output_type": "display_data"
    },
    {
     "data": {
      "text/html": [
       "<pre>| 1040      | 4m 50s        | 8.66135e+006   | 0               |</pre>"
      ],
      "text/plain": [
       "| 1040      | 4m 50s        | 8.66135e+006   | 0               |"
      ]
     },
     "metadata": {},
     "output_type": "display_data"
    },
    {
     "data": {
      "text/html": [
       "<pre>| 1050      | 4m 53s        | 8.64414e+006   | 0               |</pre>"
      ],
      "text/plain": [
       "| 1050      | 4m 53s        | 8.64414e+006   | 0               |"
      ]
     },
     "metadata": {},
     "output_type": "display_data"
    },
    {
     "data": {
      "text/html": [
       "<pre>| 1060      | 4m 55s        | 8.73104e+006   | 0               |</pre>"
      ],
      "text/plain": [
       "| 1060      | 4m 55s        | 8.73104e+006   | 0               |"
      ]
     },
     "metadata": {},
     "output_type": "display_data"
    },
    {
     "data": {
      "text/html": [
       "<pre>| 1070      | 4m 58s        | 8.44236e+006   | 0               |</pre>"
      ],
      "text/plain": [
       "| 1070      | 4m 58s        | 8.44236e+006   | 0               |"
      ]
     },
     "metadata": {},
     "output_type": "display_data"
    },
    {
     "data": {
      "text/html": [
       "<pre>| 1080      | 5m 0s         | 8.62693e+006   | 0               |</pre>"
      ],
      "text/plain": [
       "| 1080      | 5m 0s         | 8.62693e+006   | 0               |"
      ]
     },
     "metadata": {},
     "output_type": "display_data"
    },
    {
     "data": {
      "text/html": [
       "<pre>| 1090      | 5m 3s         | 8.63107e+006   | 0               |</pre>"
      ],
      "text/plain": [
       "| 1090      | 5m 3s         | 8.63107e+006   | 0               |"
      ]
     },
     "metadata": {},
     "output_type": "display_data"
    },
    {
     "data": {
      "text/html": [
       "<pre>| 1100      | 5m 5s         | 8.31284e+006   | 0               |</pre>"
      ],
      "text/plain": [
       "| 1100      | 5m 5s         | 8.31284e+006   | 0               |"
      ]
     },
     "metadata": {},
     "output_type": "display_data"
    },
    {
     "data": {
      "text/html": [
       "<pre>| 1110      | 5m 8s         | 7.12537e+006   | 0               |</pre>"
      ],
      "text/plain": [
       "| 1110      | 5m 8s         | 7.12537e+006   | 0               |"
      ]
     },
     "metadata": {},
     "output_type": "display_data"
    },
    {
     "data": {
      "text/html": [
       "<pre>| 1120      | 5m 11s        | 8.5084e+006    | 0               |</pre>"
      ],
      "text/plain": [
       "| 1120      | 5m 11s        | 8.5084e+006    | 0               |"
      ]
     },
     "metadata": {},
     "output_type": "display_data"
    },
    {
     "data": {
      "text/html": [
       "<pre>| 1130      | 5m 13s        | 8.60976e+006   | 0               |</pre>"
      ],
      "text/plain": [
       "| 1130      | 5m 13s        | 8.60976e+006   | 0               |"
      ]
     },
     "metadata": {},
     "output_type": "display_data"
    },
    {
     "data": {
      "text/html": [
       "<pre>| 1140      | 5m 16s        | 8.67869e+006   | 0               |</pre>"
      ],
      "text/plain": [
       "| 1140      | 5m 16s        | 8.67869e+006   | 0               |"
      ]
     },
     "metadata": {},
     "output_type": "display_data"
    },
    {
     "data": {
      "text/html": [
       "<pre>| 1150      | 5m 19s        | 8.29695e+006   | 0               |</pre>"
      ],
      "text/plain": [
       "| 1150      | 5m 19s        | 8.29695e+006   | 0               |"
      ]
     },
     "metadata": {},
     "output_type": "display_data"
    },
    {
     "data": {
      "text/html": [
       "<pre>| 1160      | 5m 21s        | 8.39324e+006   | 0               |</pre>"
      ],
      "text/plain": [
       "| 1160      | 5m 21s        | 8.39324e+006   | 0               |"
      ]
     },
     "metadata": {},
     "output_type": "display_data"
    },
    {
     "data": {
      "text/html": [
       "<pre>| 1170      | 5m 24s        | 8.407e+006     | 0               |</pre>"
      ],
      "text/plain": [
       "| 1170      | 5m 24s        | 8.407e+006     | 0               |"
      ]
     },
     "metadata": {},
     "output_type": "display_data"
    },
    {
     "data": {
      "text/html": [
       "<pre>| 1180      | 5m 27s        | 8.15665e+006   | 0               |</pre>"
      ],
      "text/plain": [
       "| 1180      | 5m 27s        | 8.15665e+006   | 0               |"
      ]
     },
     "metadata": {},
     "output_type": "display_data"
    },
    {
     "data": {
      "text/html": [
       "<pre>| 1190      | 5m 30s        | 8.20294e+006   | 0               |</pre>"
      ],
      "text/plain": [
       "| 1190      | 5m 30s        | 8.20294e+006   | 0               |"
      ]
     },
     "metadata": {},
     "output_type": "display_data"
    },
    {
     "data": {
      "text/html": [
       "<pre>| 1200      | 5m 32s        | 8.11098e+006   | 0               |</pre>"
      ],
      "text/plain": [
       "| 1200      | 5m 32s        | 8.11098e+006   | 0               |"
      ]
     },
     "metadata": {},
     "output_type": "display_data"
    },
    {
     "data": {
      "text/html": [
       "<pre>| 1210      | 5m 35s        | 8.59275e+006   | 0               |</pre>"
      ],
      "text/plain": [
       "| 1210      | 5m 35s        | 8.59275e+006   | 0               |"
      ]
     },
     "metadata": {},
     "output_type": "display_data"
    },
    {
     "data": {
      "text/html": [
       "<pre>| 1220      | 5m 37s        | 8.36092e+006   | 0               |</pre>"
      ],
      "text/plain": [
       "| 1220      | 5m 37s        | 8.36092e+006   | 0               |"
      ]
     },
     "metadata": {},
     "output_type": "display_data"
    },
    {
     "data": {
      "text/html": [
       "<pre>| 1230      | 5m 40s        | 8.45877e+006   | 0               |</pre>"
      ],
      "text/plain": [
       "| 1230      | 5m 40s        | 8.45877e+006   | 0               |"
      ]
     },
     "metadata": {},
     "output_type": "display_data"
    },
    {
     "data": {
      "text/html": [
       "<pre>| 1240      | 5m 42s        | 8.4096e+006    | 0               |</pre>"
      ],
      "text/plain": [
       "| 1240      | 5m 42s        | 8.4096e+006    | 0               |"
      ]
     },
     "metadata": {},
     "output_type": "display_data"
    },
    {
     "data": {
      "text/html": [
       "<pre>| 1250      | 5m 45s        | 8.42598e+006   | 0               |</pre>"
      ],
      "text/plain": [
       "| 1250      | 5m 45s        | 8.42598e+006   | 0               |"
      ]
     },
     "metadata": {},
     "output_type": "display_data"
    },
    {
     "data": {
      "text/html": [
       "<pre>| 1260      | 5m 48s        | 8.73108e+006   | 0               |</pre>"
      ],
      "text/plain": [
       "| 1260      | 5m 48s        | 8.73108e+006   | 0               |"
      ]
     },
     "metadata": {},
     "output_type": "display_data"
    },
    {
     "data": {
      "text/html": [
       "<pre>| 1270      | 5m 50s        | 8.59275e+006   | 0               |</pre>"
      ],
      "text/plain": [
       "| 1270      | 5m 50s        | 8.59275e+006   | 0               |"
      ]
     },
     "metadata": {},
     "output_type": "display_data"
    },
    {
     "data": {
      "text/html": [
       "<pre>| 1280      | 5m 53s        | 8.26543e+006   | 0               |</pre>"
      ],
      "text/plain": [
       "| 1280      | 5m 53s        | 8.26543e+006   | 0               |"
      ]
     },
     "metadata": {},
     "output_type": "display_data"
    },
    {
     "data": {
      "text/html": [
       "<pre>| 1290      | 5m 55s        | 7.21039e+006   | 0               |</pre>"
      ],
      "text/plain": [
       "| 1290      | 5m 55s        | 7.21039e+006   | 0               |"
      ]
     },
     "metadata": {},
     "output_type": "display_data"
    },
    {
     "data": {
      "text/html": [
       "<pre>| 1300      | 5m 58s        | 8.40956e+006   | 0               |</pre>"
      ],
      "text/plain": [
       "| 1300      | 5m 58s        | 8.40956e+006   | 0               |"
      ]
     },
     "metadata": {},
     "output_type": "display_data"
    },
    {
     "data": {
      "text/html": [
       "<pre>| 1310      | 6m 0s         | 8.47525e+006   | 0               |</pre>"
      ],
      "text/plain": [
       "| 1310      | 6m 0s         | 8.47525e+006   | 0               |"
      ]
     },
     "metadata": {},
     "output_type": "display_data"
    },
    {
     "data": {
      "text/html": [
       "<pre>| 1320      | 6m 3s         | 8.34485e+006   | 0               |</pre>"
      ],
      "text/plain": [
       "| 1320      | 6m 3s         | 8.34485e+006   | 0               |"
      ]
     },
     "metadata": {},
     "output_type": "display_data"
    },
    {
     "data": {
      "text/html": [
       "<pre>| 1330      | 6m 6s         | 8.76637e+006   | 0               |</pre>"
      ],
      "text/plain": [
       "| 1330      | 6m 6s         | 8.76637e+006   | 0               |"
      ]
     },
     "metadata": {},
     "output_type": "display_data"
    },
    {
     "data": {
      "text/html": [
       "<pre>| 1340      | 6m 8s         | 8.59275e+006   | 0               |</pre>"
      ],
      "text/plain": [
       "| 1340      | 6m 8s         | 8.59275e+006   | 0               |"
      ]
     },
     "metadata": {},
     "output_type": "display_data"
    },
    {
     "data": {
      "text/html": [
       "<pre>| 1350      | 6m 11s        | 8.73108e+006   | 0               |</pre>"
      ],
      "text/plain": [
       "| 1350      | 6m 11s        | 8.73108e+006   | 0               |"
      ]
     },
     "metadata": {},
     "output_type": "display_data"
    },
    {
     "data": {
      "text/html": [
       "<pre>| 1360      | 6m 13s        | 8.50847e+006   | 0               |</pre>"
      ],
      "text/plain": [
       "| 1360      | 6m 13s        | 8.50847e+006   | 0               |"
      ]
     },
     "metadata": {},
     "output_type": "display_data"
    },
    {
     "data": {
      "text/html": [
       "<pre>| 1370      | 6m 16s        | 8.39324e+006   | 0               |</pre>"
      ],
      "text/plain": [
       "| 1370      | 6m 16s        | 8.39324e+006   | 0               |"
      ]
     },
     "metadata": {},
     "output_type": "display_data"
    },
    {
     "data": {
      "text/html": [
       "<pre>| 1380      | 6m 18s        | 8.57578e+006   | 0               |</pre>"
      ],
      "text/plain": [
       "| 1380      | 6m 18s        | 8.57578e+006   | 0               |"
      ]
     },
     "metadata": {},
     "output_type": "display_data"
    },
    {
     "data": {
      "text/html": [
       "<pre>| 1390      | 6m 21s        | 8.55885e+006   | 0               |</pre>"
      ],
      "text/plain": [
       "| 1390      | 6m 21s        | 8.55885e+006   | 0               |"
      ]
     },
     "metadata": {},
     "output_type": "display_data"
    },
    {
     "data": {
      "text/html": [
       "<pre>| 1400      | 6m 24s        | 7.86111e+006   | 0               |</pre>"
      ],
      "text/plain": [
       "| 1400      | 6m 24s        | 7.86111e+006   | 0               |"
      ]
     },
     "metadata": {},
     "output_type": "display_data"
    },
    {
     "data": {
      "text/html": [
       "<pre>| 1410      | 6m 26s        | 8.49186e+006   | 0               |</pre>"
      ],
      "text/plain": [
       "| 1410      | 6m 26s        | 8.49186e+006   | 0               |"
      ]
     },
     "metadata": {},
     "output_type": "display_data"
    },
    {
     "data": {
      "text/html": [
       "<pre>| 1420      | 6m 29s        | 8.34495e+006   | 0               |</pre>"
      ],
      "text/plain": [
       "| 1420      | 6m 29s        | 8.34495e+006   | 0               |"
      ]
     },
     "metadata": {},
     "output_type": "display_data"
    },
    {
     "data": {
      "text/html": [
       "<pre>| 1430      | 6m 31s        | 8.2497e+006    | 0               |</pre>"
      ],
      "text/plain": [
       "| 1430      | 6m 31s        | 8.2497e+006    | 0               |"
      ]
     },
     "metadata": {},
     "output_type": "display_data"
    },
    {
     "data": {
      "text/html": [
       "<pre>| 1440      | 6m 34s        | 8.55881e+006   | 0               |</pre>"
      ],
      "text/plain": [
       "| 1440      | 6m 34s        | 8.55881e+006   | 0               |"
      ]
     },
     "metadata": {},
     "output_type": "display_data"
    },
    {
     "data": {
      "text/html": [
       "<pre>| 1450      | 6m 36s        | 8.46651e+006   | 0               |</pre>"
      ],
      "text/plain": [
       "| 1450      | 6m 36s        | 8.46651e+006   | 0               |"
      ]
     },
     "metadata": {},
     "output_type": "display_data"
    },
    {
     "data": {
      "text/html": [
       "<pre>| 1460      | 6m 39s        | 8.47528e+006   | 0               |</pre>"
      ],
      "text/plain": [
       "| 1460      | 6m 39s        | 8.47528e+006   | 0               |"
      ]
     },
     "metadata": {},
     "output_type": "display_data"
    },
    {
     "data": {
      "text/html": [
       "<pre>| 1470      | 6m 42s        | 8.73108e+006   | 0               |</pre>"
      ],
      "text/plain": [
       "| 1470      | 6m 42s        | 8.73108e+006   | 0               |"
      ]
     },
     "metadata": {},
     "output_type": "display_data"
    },
    {
     "data": {
      "text/html": [
       "<pre>| 1480      | 6m 44s        | 8.64407e+006   | 0               |</pre>"
      ],
      "text/plain": [
       "| 1480      | 6m 44s        | 8.64407e+006   | 0               |"
      ]
     },
     "metadata": {},
     "output_type": "display_data"
    },
    {
     "data": {
      "text/html": [
       "<pre>| 1490      | 6m 47s        | 8.37712e+006   | 0               |</pre>"
      ],
      "text/plain": [
       "| 1490      | 6m 47s        | 8.37712e+006   | 0               |"
      ]
     },
     "metadata": {},
     "output_type": "display_data"
    },
    {
     "data": {
      "text/html": [
       "<pre>| 1500      | 6m 49s        | 8.6269e+006    | 0               |</pre>"
      ],
      "text/plain": [
       "| 1500      | 6m 49s        | 8.6269e+006    | 0               |"
      ]
     },
     "metadata": {},
     "output_type": "display_data"
    },
    {
     "data": {
      "text/html": [
       "<pre>| 1510      | 6m 52s        | 8.11092e+006   | 0               |</pre>"
      ],
      "text/plain": [
       "| 1510      | 6m 52s        | 8.11092e+006   | 0               |"
      ]
     },
     "metadata": {},
     "output_type": "display_data"
    },
    {
     "data": {
      "text/html": [
       "<pre>| 1520      | 6m 55s        | 7.97679e+006   | 0               |</pre>"
      ],
      "text/plain": [
       "| 1520      | 6m 55s        | 7.97679e+006   | 0               |"
      ]
     },
     "metadata": {},
     "output_type": "display_data"
    },
    {
     "data": {
      "text/html": [
       "<pre>| 1530      | 6m 57s        | 6.68607e+006   | 0               |</pre>"
      ],
      "text/plain": [
       "| 1530      | 6m 57s        | 6.68607e+006   | 0               |"
      ]
     },
     "metadata": {},
     "output_type": "display_data"
    },
    {
     "data": {
      "text/html": [
       "<pre>| 1540      | 7m 0s         | 7.3673e+006    | 0               |</pre>"
      ],
      "text/plain": [
       "| 1540      | 7m 0s         | 7.3673e+006    | 0               |"
      ]
     },
     "metadata": {},
     "output_type": "display_data"
    },
    {
     "data": {
      "text/html": [
       "<pre>| 1550      | 7m 3s         | 8.36098e+006   | 0               |</pre>"
      ],
      "text/plain": [
       "| 1550      | 7m 3s         | 8.36098e+006   | 0               |"
      ]
     },
     "metadata": {},
     "output_type": "display_data"
    },
    {
     "data": {
      "text/html": [
       "<pre>| 1560      | 7m 6s         | 8.66235e+006   | 0               |</pre>"
      ],
      "text/plain": [
       "| 1560      | 7m 6s         | 8.66235e+006   | 0               |"
      ]
     },
     "metadata": {},
     "output_type": "display_data"
    },
    {
     "data": {
      "text/html": [
       "<pre>| 1570      | 7m 9s         | 7.65301e+006   | 0               |</pre>"
      ],
      "text/plain": [
       "| 1570      | 7m 9s         | 7.65301e+006   | 0               |"
      ]
     },
     "metadata": {},
     "output_type": "display_data"
    },
    {
     "data": {
      "text/html": [
       "<pre>| 1580      | 7m 11s        | 8.54191e+006   | 0               |</pre>"
      ],
      "text/plain": [
       "| 1580      | 7m 11s        | 8.54191e+006   | 0               |"
      ]
     },
     "metadata": {},
     "output_type": "display_data"
    },
    {
     "data": {
      "text/html": [
       "<pre>| 1590      | 7m 14s        | 8.54201e+006   | 0               |</pre>"
      ],
      "text/plain": [
       "| 1590      | 7m 14s        | 8.54201e+006   | 0               |"
      ]
     },
     "metadata": {},
     "output_type": "display_data"
    },
    {
     "data": {
      "text/html": [
       "<pre>| 1600      | 7m 16s        | 7.36725e+006   | 0               |</pre>"
      ],
      "text/plain": [
       "| 1600      | 7m 16s        | 7.36725e+006   | 0               |"
      ]
     },
     "metadata": {},
     "output_type": "display_data"
    },
    {
     "data": {
      "text/html": [
       "<pre>| 1610      | 7m 19s        | 8.39716e+006   | 0               |</pre>"
      ],
      "text/plain": [
       "| 1610      | 7m 19s        | 8.39716e+006   | 0               |"
      ]
     },
     "metadata": {},
     "output_type": "display_data"
    },
    {
     "data": {
      "text/html": [
       "<pre>| 1620      | 7m 22s        | 7.16069e+006   | 0               |</pre>"
      ],
      "text/plain": [
       "| 1620      | 7m 22s        | 7.16069e+006   | 0               |"
      ]
     },
     "metadata": {},
     "output_type": "display_data"
    },
    {
     "data": {
      "text/html": [
       "<pre>| 1630      | 7m 25s        | 8.4423e+006    | 0               |</pre>"
      ],
      "text/plain": [
       "| 1630      | 7m 25s        | 8.4423e+006    | 0               |"
      ]
     },
     "metadata": {},
     "output_type": "display_data"
    },
    {
     "data": {
      "text/html": [
       "<pre>| 1640      | 7m 28s        | 8.42588e+006   | 0               |</pre>"
      ],
      "text/plain": [
       "| 1640      | 7m 28s        | 8.42588e+006   | 0               |"
      ]
     },
     "metadata": {},
     "output_type": "display_data"
    },
    {
     "data": {
      "text/html": [
       "<pre>| 1650      | 7m 31s        | 6.43819e+006   | 0               |</pre>"
      ],
      "text/plain": [
       "| 1650      | 7m 31s        | 6.43819e+006   | 0               |"
      ]
     },
     "metadata": {},
     "output_type": "display_data"
    },
    {
     "data": {
      "text/html": [
       "<pre>| 1660      | 7m 33s        | 7.39238e+006   | 0               |</pre>"
      ],
      "text/plain": [
       "| 1660      | 7m 33s        | 7.39238e+006   | 0               |"
      ]
     },
     "metadata": {},
     "output_type": "display_data"
    },
    {
     "data": {
      "text/html": [
       "<pre>| 1670      | 7m 36s        | 8.52524e+006   | 0               |</pre>"
      ],
      "text/plain": [
       "| 1670      | 7m 36s        | 8.52524e+006   | 0               |"
      ]
     },
     "metadata": {},
     "output_type": "display_data"
    },
    {
     "data": {
      "text/html": [
       "<pre>| 1680      | 7m 39s        | 8.69607e+006   | 0               |</pre>"
      ],
      "text/plain": [
       "| 1680      | 7m 39s        | 8.69607e+006   | 0               |"
      ]
     },
     "metadata": {},
     "output_type": "display_data"
    },
    {
     "data": {
      "text/html": [
       "<pre>| 1690      | 7m 42s        | 7.97676e+006   | 0               |</pre>"
      ],
      "text/plain": [
       "| 1690      | 7m 42s        | 7.97676e+006   | 0               |"
      ]
     },
     "metadata": {},
     "output_type": "display_data"
    },
    {
     "data": {
      "text/html": [
       "<pre>| 1700      | 7m 44s        | 8.15665e+006   | 0               |</pre>"
      ],
      "text/plain": [
       "| 1700      | 7m 44s        | 8.15665e+006   | 0               |"
      ]
     },
     "metadata": {},
     "output_type": "display_data"
    },
    {
     "data": {
      "text/html": [
       "<pre>| 1710      | 7m 47s        | 8.59268e+006   | 0               |</pre>"
      ],
      "text/plain": [
       "| 1710      | 7m 47s        | 8.59268e+006   | 0               |"
      ]
     },
     "metadata": {},
     "output_type": "display_data"
    },
    {
     "data": {
      "text/html": [
       "<pre>| 1720      | 7m 50s        | 8.74867e+006   | 0               |</pre>"
      ],
      "text/plain": [
       "| 1720      | 7m 50s        | 8.74867e+006   | 0               |"
      ]
     },
     "metadata": {},
     "output_type": "display_data"
    },
    {
     "data": {
      "text/html": [
       "<pre>| 1730      | 7m 52s        | 8.49186e+006   | 0               |</pre>"
      ],
      "text/plain": [
       "| 1730      | 7m 52s        | 8.49186e+006   | 0               |"
      ]
     },
     "metadata": {},
     "output_type": "display_data"
    },
    {
     "data": {
      "text/html": [
       "<pre>| 1740      | 7m 55s        | 8.66135e+006   | 0               |</pre>"
      ],
      "text/plain": [
       "| 1740      | 7m 55s        | 8.66135e+006   | 0               |"
      ]
     },
     "metadata": {},
     "output_type": "display_data"
    },
    {
     "data": {
      "text/html": [
       "<pre>| 1750      | 7m 57s        | 8.37712e+006   | 0               |</pre>"
      ],
      "text/plain": [
       "| 1750      | 7m 57s        | 8.37712e+006   | 0               |"
      ]
     },
     "metadata": {},
     "output_type": "display_data"
    },
    {
     "data": {
      "text/html": [
       "<pre>| 1760      | 8m 0s         | 8.60982e+006   | 0               |</pre>"
      ],
      "text/plain": [
       "| 1760      | 8m 0s         | 8.60982e+006   | 0               |"
      ]
     },
     "metadata": {},
     "output_type": "display_data"
    },
    {
     "data": {
      "text/html": [
       "<pre>| 1770      | 8m 2s         | 8.55413e+006   | 0               |</pre>"
      ],
      "text/plain": [
       "| 1770      | 8m 2s         | 8.55413e+006   | 0               |"
      ]
     },
     "metadata": {},
     "output_type": "display_data"
    },
    {
     "data": {
      "text/html": [
       "<pre>| 1780      | 8m 5s         | 8.57578e+006   | 0               |</pre>"
      ],
      "text/plain": [
       "| 1780      | 8m 5s         | 8.57578e+006   | 0               |"
      ]
     },
     "metadata": {},
     "output_type": "display_data"
    },
    {
     "data": {
      "text/html": [
       "<pre>| 1790      | 8m 7s         | 8.59272e+006   | 0               |</pre>"
      ],
      "text/plain": [
       "| 1790      | 8m 7s         | 8.59272e+006   | 0               |"
      ]
     },
     "metadata": {},
     "output_type": "display_data"
    },
    {
     "data": {
      "text/html": [
       "<pre>| 1800      | 8m 10s        | 8.4423e+006    | 0               |</pre>"
      ],
      "text/plain": [
       "| 1800      | 8m 10s        | 8.4423e+006    | 0               |"
      ]
     },
     "metadata": {},
     "output_type": "display_data"
    },
    {
     "data": {
      "text/html": [
       "<pre>| 1810      | 8m 13s        | 8.0807e+006    | 0               |</pre>"
      ],
      "text/plain": [
       "| 1810      | 8m 13s        | 8.0807e+006    | 0               |"
      ]
     },
     "metadata": {},
     "output_type": "display_data"
    },
    {
     "data": {
      "text/html": [
       "<pre>| 1820      | 8m 15s        | 8.18744e+006   | 0               |</pre>"
      ],
      "text/plain": [
       "| 1820      | 8m 15s        | 8.18744e+006   | 0               |"
      ]
     },
     "metadata": {},
     "output_type": "display_data"
    },
    {
     "data": {
      "text/html": [
       "<pre>| 1830      | 8m 18s        | 8.7841e+006    | 0               |</pre>"
      ],
      "text/plain": [
       "| 1830      | 8m 18s        | 8.7841e+006    | 0               |"
      ]
     },
     "metadata": {},
     "output_type": "display_data"
    },
    {
     "data": {
      "text/html": [
       "<pre>| 1840      | 8m 20s        | 8.59275e+006   | 0               |</pre>"
      ],
      "text/plain": [
       "| 1840      | 8m 20s        | 8.59275e+006   | 0               |"
      ]
     },
     "metadata": {},
     "output_type": "display_data"
    },
    {
     "data": {
      "text/html": [
       "<pre>| 1850      | 8m 23s        | 8.6441e+006    | 0               |</pre>"
      ],
      "text/plain": [
       "| 1850      | 8m 23s        | 8.6441e+006    | 0               |"
      ]
     },
     "metadata": {},
     "output_type": "display_data"
    },
    {
     "data": {
      "text/html": [
       "<pre>| 1860      | 8m 25s        | 8.55885e+006   | 0               |</pre>"
      ],
      "text/plain": [
       "| 1860      | 8m 25s        | 8.55885e+006   | 0               |"
      ]
     },
     "metadata": {},
     "output_type": "display_data"
    },
    {
     "data": {
      "text/html": [
       "<pre>| 1870      | 8m 28s        | 8.47532e+006   | 0               |</pre>"
      ],
      "text/plain": [
       "| 1870      | 8m 28s        | 8.47532e+006   | 0               |"
      ]
     },
     "metadata": {},
     "output_type": "display_data"
    },
    {
     "data": {
      "text/html": [
       "<pre>| 1880      | 8m 30s        | 8.55885e+006   | 0               |</pre>"
      ],
      "text/plain": [
       "| 1880      | 8m 30s        | 8.55885e+006   | 0               |"
      ]
     },
     "metadata": {},
     "output_type": "display_data"
    },
    {
     "data": {
      "text/html": [
       "<pre>| 1890      | 8m 33s        | 8.7349e+006    | 0               |</pre>"
      ],
      "text/plain": [
       "| 1890      | 8m 33s        | 8.7349e+006    | 0               |"
      ]
     },
     "metadata": {},
     "output_type": "display_data"
    },
    {
     "data": {
      "text/html": [
       "<pre>| 1900      | 8m 36s        | 7.72127e+006   | 0               |</pre>"
      ],
      "text/plain": [
       "| 1900      | 8m 36s        | 7.72127e+006   | 0               |"
      ]
     },
     "metadata": {},
     "output_type": "display_data"
    },
    {
     "data": {
      "text/html": [
       "<pre>| 1910      | 8m 38s        | 8.73108e+006   | 0               |</pre>"
      ],
      "text/plain": [
       "| 1910      | 8m 38s        | 8.73108e+006   | 0               |"
      ]
     },
     "metadata": {},
     "output_type": "display_data"
    },
    {
     "data": {
      "text/html": [
       "<pre>| 1920      | 8m 41s        | 8.71656e+006   | 0               |</pre>"
      ],
      "text/plain": [
       "| 1920      | 8m 41s        | 8.71656e+006   | 0               |"
      ]
     },
     "metadata": {},
     "output_type": "display_data"
    },
    {
     "data": {
      "text/html": [
       "<pre>| 1930      | 8m 43s        | 8.64407e+006   | 0               |</pre>"
      ],
      "text/plain": [
       "| 1930      | 8m 43s        | 8.64407e+006   | 0               |"
      ]
     },
     "metadata": {},
     "output_type": "display_data"
    },
    {
     "data": {
      "text/html": [
       "<pre>| 1940      | 8m 46s        | 8.66286e+006   | 0               |</pre>"
      ],
      "text/plain": [
       "| 1940      | 8m 46s        | 8.66286e+006   | 0               |"
      ]
     },
     "metadata": {},
     "output_type": "display_data"
    },
    {
     "data": {
      "text/html": [
       "<pre>| 1950      | 8m 48s        | 8.57578e+006   | 0               |</pre>"
      ],
      "text/plain": [
       "| 1950      | 8m 48s        | 8.57578e+006   | 0               |"
      ]
     },
     "metadata": {},
     "output_type": "display_data"
    },
    {
     "data": {
      "text/html": [
       "<pre>| 1960      | 8m 51s        | 8.57571e+006   | 0               |</pre>"
      ],
      "text/plain": [
       "| 1960      | 8m 51s        | 8.57571e+006   | 0               |"
      ]
     },
     "metadata": {},
     "output_type": "display_data"
    },
    {
     "data": {
      "text/html": [
       "<pre>| 1970      | 8m 53s        | 8.55885e+006   | 0               |</pre>"
      ],
      "text/plain": [
       "| 1970      | 8m 53s        | 8.55885e+006   | 0               |"
      ]
     },
     "metadata": {},
     "output_type": "display_data"
    },
    {
     "data": {
      "text/html": [
       "<pre>| 1980      | 8m 56s        | 8.60982e+006   | 0               |</pre>"
      ],
      "text/plain": [
       "| 1980      | 8m 56s        | 8.60982e+006   | 0               |"
      ]
     },
     "metadata": {},
     "output_type": "display_data"
    },
    {
     "data": {
      "text/html": [
       "<pre>| 1990      | 8m 58s        | 8.5085e+006    | 0               |</pre>"
      ],
      "text/plain": [
       "| 1990      | 8m 58s        | 8.5085e+006    | 0               |"
      ]
     },
     "metadata": {},
     "output_type": "display_data"
    },
    {
     "data": {
      "text/html": [
       "<pre>| 2000      | 9m 1s         | 8.64414e+006   | 0               |</pre>"
      ],
      "text/plain": [
       "| 2000      | 9m 1s         | 8.64414e+006   | 0               |"
      ]
     },
     "metadata": {},
     "output_type": "display_data"
    },
    {
     "data": {
      "text/html": [
       "<pre>| 2010      | 9m 4s         | 8.55885e+006   | 0               |</pre>"
      ],
      "text/plain": [
       "| 2010      | 9m 4s         | 8.55885e+006   | 0               |"
      ]
     },
     "metadata": {},
     "output_type": "display_data"
    },
    {
     "data": {
      "text/html": [
       "<pre>| 2020      | 9m 6s         | 8.7422e+006    | 0               |</pre>"
      ],
      "text/plain": [
       "| 2020      | 9m 6s         | 8.7422e+006    | 0               |"
      ]
     },
     "metadata": {},
     "output_type": "display_data"
    },
    {
     "data": {
      "text/html": [
       "<pre>| 2030      | 9m 9s         | 8.31293e+006   | 0               |</pre>"
      ],
      "text/plain": [
       "| 2030      | 9m 9s         | 8.31293e+006   | 0               |"
      ]
     },
     "metadata": {},
     "output_type": "display_data"
    },
    {
     "data": {
      "text/html": [
       "<pre>| 2040      | 9m 12s        | 8.57578e+006   | 0               |</pre>"
      ],
      "text/plain": [
       "| 2040      | 9m 12s        | 8.57578e+006   | 0               |"
      ]
     },
     "metadata": {},
     "output_type": "display_data"
    },
    {
     "data": {
      "text/html": [
       "<pre>| 2050      | 9m 14s        | 6.63505e+006   | 0               |</pre>"
      ],
      "text/plain": [
       "| 2050      | 9m 14s        | 6.63505e+006   | 0               |"
      ]
     },
     "metadata": {},
     "output_type": "display_data"
    },
    {
     "data": {
      "text/html": [
       "<pre>| 2060      | 9m 17s        | 7.61268e+006   | 0               |</pre>"
      ],
      "text/plain": [
       "| 2060      | 9m 17s        | 7.61268e+006   | 0               |"
      ]
     },
     "metadata": {},
     "output_type": "display_data"
    },
    {
     "data": {
      "text/html": [
       "<pre>| 2070      | 9m 20s        | 7.30528e+006   | 0               |</pre>"
      ],
      "text/plain": [
       "| 2070      | 9m 20s        | 7.30528e+006   | 0               |"
      ]
     },
     "metadata": {},
     "output_type": "display_data"
    },
    {
     "data": {
      "text/html": [
       "<pre>| 2080      | 9m 23s        | 8.17197e+006   | 0               |</pre>"
      ],
      "text/plain": [
       "| 2080      | 9m 23s        | 8.17197e+006   | 0               |"
      ]
     },
     "metadata": {},
     "output_type": "display_data"
    },
    {
     "data": {
      "text/html": [
       "<pre>| 2090      | 9m 26s        | 7.9621e+006    | 0               |</pre>"
      ],
      "text/plain": [
       "| 2090      | 9m 26s        | 7.9621e+006    | 0               |"
      ]
     },
     "metadata": {},
     "output_type": "display_data"
    },
    {
     "data": {
      "text/html": [
       "<pre>| 2100      | 9m 29s        | 7.87537e+006   | 0               |</pre>"
      ],
      "text/plain": [
       "| 2100      | 9m 29s        | 7.87537e+006   | 0               |"
      ]
     },
     "metadata": {},
     "output_type": "display_data"
    },
    {
     "data": {
      "text/html": [
       "<pre>| 2110      | 9m 32s        | 7.3548e+006    | 0               |</pre>"
      ],
      "text/plain": [
       "| 2110      | 9m 32s        | 7.3548e+006    | 0               |"
      ]
     },
     "metadata": {},
     "output_type": "display_data"
    },
    {
     "data": {
      "text/html": [
       "<pre>| 2120      | 9m 34s        | 7.65315e+006   | 0               |</pre>"
      ],
      "text/plain": [
       "| 2120      | 9m 34s        | 7.65315e+006   | 0               |"
      ]
     },
     "metadata": {},
     "output_type": "display_data"
    },
    {
     "data": {
      "text/html": [
       "<pre>| 2130      | 9m 37s        | 7.81865e+006   | 0               |</pre>"
      ],
      "text/plain": [
       "| 2130      | 9m 37s        | 7.81865e+006   | 0               |"
      ]
     },
     "metadata": {},
     "output_type": "display_data"
    },
    {
     "data": {
      "text/html": [
       "<pre>| 2140      | 9m 40s        | 6.94294e+006   | 0               |</pre>"
      ],
      "text/plain": [
       "| 2140      | 9m 40s        | 6.94294e+006   | 0               |"
      ]
     },
     "metadata": {},
     "output_type": "display_data"
    },
    {
     "data": {
      "text/html": [
       "<pre>| 2150      | 9m 43s        | 7.81865e+006   | 0               |</pre>"
      ],
      "text/plain": [
       "| 2150      | 9m 43s        | 7.81865e+006   | 0               |"
      ]
     },
     "metadata": {},
     "output_type": "display_data"
    },
    {
     "data": {
      "text/html": [
       "<pre>| 2160      | 9m 46s        | 8.2654e+006    | 0               |</pre>"
      ],
      "text/plain": [
       "| 2160      | 9m 46s        | 8.2654e+006    | 0               |"
      ]
     },
     "metadata": {},
     "output_type": "display_data"
    },
    {
     "data": {
      "text/html": [
       "<pre>| 2170      | 9m 49s        | 7.44312e+006   | 0               |</pre>"
      ],
      "text/plain": [
       "| 2170      | 9m 49s        | 7.44312e+006   | 0               |"
      ]
     },
     "metadata": {},
     "output_type": "display_data"
    },
    {
     "data": {
      "text/html": [
       "<pre>| 2180      | 9m 52s        | 7.45595e+006   | 0               |</pre>"
      ],
      "text/plain": [
       "| 2180      | 9m 52s        | 7.45595e+006   | 0               |"
      ]
     },
     "metadata": {},
     "output_type": "display_data"
    },
    {
     "data": {
      "text/html": [
       "<pre>| 2190      | 9m 55s        | 7.29293e+006   | 0               |</pre>"
      ],
      "text/plain": [
       "| 2190      | 9m 55s        | 7.29293e+006   | 0               |"
      ]
     },
     "metadata": {},
     "output_type": "display_data"
    },
    {
     "data": {
      "text/html": [
       "<pre>| 2200      | 9m 58s        | 7.90263e+006   | 0               |</pre>"
      ],
      "text/plain": [
       "| 2200      | 9m 58s        | 7.90263e+006   | 0               |"
      ]
     },
     "metadata": {},
     "output_type": "display_data"
    },
    {
     "data": {
      "text/html": [
       "<pre>| 2210      | 10m 0s        | 7.84691e+006   | 0               |</pre>"
      ],
      "text/plain": [
       "| 2210      | 10m 0s        | 7.84691e+006   | 0               |"
      ]
     },
     "metadata": {},
     "output_type": "display_data"
    },
    {
     "data": {
      "text/html": [
       "<pre>| 2220      | 10m 3s        | 6.83357e+006   | 0               |</pre>"
      ],
      "text/plain": [
       "| 2220      | 10m 3s        | 6.83357e+006   | 0               |"
      ]
     },
     "metadata": {},
     "output_type": "display_data"
    },
    {
     "data": {
      "text/html": [
       "<pre>| 2230      | 10m 6s        | 7.50746e+006   | 0               |</pre>"
      ],
      "text/plain": [
       "| 2230      | 10m 6s        | 7.50746e+006   | 0               |"
      ]
     },
     "metadata": {},
     "output_type": "display_data"
    },
    {
     "data": {
      "text/html": [
       "<pre>| 2240      | 10m 9s        | 8.17204e+006   | 0               |</pre>"
      ],
      "text/plain": [
       "| 2240      | 10m 9s        | 8.17204e+006   | 0               |"
      ]
     },
     "metadata": {},
     "output_type": "display_data"
    },
    {
     "data": {
      "text/html": [
       "<pre>| 2250      | 10m 12s       | 8.09579e+006   | 0               |</pre>"
      ],
      "text/plain": [
       "| 2250      | 10m 12s       | 8.09579e+006   | 0               |"
      ]
     },
     "metadata": {},
     "output_type": "display_data"
    },
    {
     "data": {
      "text/html": [
       "<pre>| 2260      | 10m 14s       | 8.23402e+006   | 0               |</pre>"
      ],
      "text/plain": [
       "| 2260      | 10m 14s       | 8.23402e+006   | 0               |"
      ]
     },
     "metadata": {},
     "output_type": "display_data"
    },
    {
     "data": {
      "text/html": [
       "<pre>| 2270      | 10m 17s       | 8.05073e+006   | 0               |</pre>"
      ],
      "text/plain": [
       "| 2270      | 10m 17s       | 8.05073e+006   | 0               |"
      ]
     },
     "metadata": {},
     "output_type": "display_data"
    },
    {
     "data": {
      "text/html": [
       "<pre>| 2280      | 10m 20s       | 8.21847e+006   | 0               |</pre>"
      ],
      "text/plain": [
       "| 2280      | 10m 20s       | 8.21847e+006   | 0               |"
      ]
     },
     "metadata": {},
     "output_type": "display_data"
    },
    {
     "data": {
      "text/html": [
       "<pre>| 2290      | 10m 22s       | 8.14484e+006   | 0               |</pre>"
      ],
      "text/plain": [
       "| 2290      | 10m 22s       | 8.14484e+006   | 0               |"
      ]
     },
     "metadata": {},
     "output_type": "display_data"
    },
    {
     "data": {
      "text/html": [
       "<pre>| 2300      | 10m 26s       | 7.13708e+006   | 0               |</pre>"
      ],
      "text/plain": [
       "| 2300      | 10m 26s       | 7.13708e+006   | 0               |"
      ]
     },
     "metadata": {},
     "output_type": "display_data"
    },
    {
     "data": {
      "text/html": [
       "<pre>| 2310      | 10m 29s       | 7.3548e+006    | 0               |</pre>"
      ],
      "text/plain": [
       "| 2310      | 10m 29s       | 7.3548e+006    | 0               |"
      ]
     },
     "metadata": {},
     "output_type": "display_data"
    },
    {
     "data": {
      "text/html": [
       "<pre>| 2320      | 10m 32s       | 7.68025e+006   | 0               |</pre>"
      ],
      "text/plain": [
       "| 2320      | 10m 32s       | 7.68025e+006   | 0               |"
      ]
     },
     "metadata": {},
     "output_type": "display_data"
    },
    {
     "data": {
      "text/html": [
       "<pre>| 2330      | 10m 35s       | 6.08605e+006   | 0               |</pre>"
      ],
      "text/plain": [
       "| 2330      | 10m 35s       | 6.08605e+006   | 0               |"
      ]
     },
     "metadata": {},
     "output_type": "display_data"
    },
    {
     "data": {
      "text/html": [
       "<pre>| 2340      | 10m 38s       | 5.47872e+006   | 0               |</pre>"
      ],
      "text/plain": [
       "| 2340      | 10m 38s       | 5.47872e+006   | 0               |"
      ]
     },
     "metadata": {},
     "output_type": "display_data"
    },
    {
     "data": {
      "text/html": [
       "<pre>| 2350      | 10m 41s       | 7.8754e+006    | 0               |</pre>"
      ],
      "text/plain": [
       "| 2350      | 10m 41s       | 7.8754e+006    | 0               |"
      ]
     },
     "metadata": {},
     "output_type": "display_data"
    },
    {
     "data": {
      "text/html": [
       "<pre>| 2360      | 10m 44s       | 7.76277e+006   | 0               |</pre>"
      ],
      "text/plain": [
       "| 2360      | 10m 44s       | 7.76277e+006   | 0               |"
      ]
     },
     "metadata": {},
     "output_type": "display_data"
    },
    {
     "data": {
      "text/html": [
       "<pre>| 2370      | 10m 47s       | 7.19627e+006   | 0               |</pre>"
      ],
      "text/plain": [
       "| 2370      | 10m 47s       | 7.19627e+006   | 0               |"
      ]
     },
     "metadata": {},
     "output_type": "display_data"
    },
    {
     "data": {
      "text/html": [
       "<pre>| 2380      | 10m 49s       | 8.0062e+006    | 0               |</pre>"
      ],
      "text/plain": [
       "| 2380      | 10m 49s       | 8.0062e+006    | 0               |"
      ]
     },
     "metadata": {},
     "output_type": "display_data"
    },
    {
     "data": {
      "text/html": [
       "<pre>| 2390      | 10m 52s       | 8.34492e+006   | 0               |</pre>"
      ],
      "text/plain": [
       "| 2390      | 10m 52s       | 8.34492e+006   | 0               |"
      ]
     },
     "metadata": {},
     "output_type": "display_data"
    },
    {
     "data": {
      "text/html": [
       "<pre>| 2400      | 10m 55s       | 8.09579e+006   | 0               |</pre>"
      ],
      "text/plain": [
       "| 2400      | 10m 55s       | 8.09579e+006   | 0               |"
      ]
     },
     "metadata": {},
     "output_type": "display_data"
    },
    {
     "data": {
      "text/html": [
       "<pre>| 2410      | 10m 57s       | 8.15662e+006   | 0               |</pre>"
      ],
      "text/plain": [
       "| 2410      | 10m 57s       | 8.15662e+006   | 0               |"
      ]
     },
     "metadata": {},
     "output_type": "display_data"
    },
    {
     "data": {
      "text/html": [
       "<pre>| 2420      | 11m 0s        | 7.23059e+006   | 0               |</pre>"
      ],
      "text/plain": [
       "| 2420      | 11m 0s        | 7.23059e+006   | 0               |"
      ]
     },
     "metadata": {},
     "output_type": "display_data"
    },
    {
     "data": {
      "text/html": [
       "<pre>| 2430      | 11m 3s        | 7.57301e+006   | 0               |</pre>"
      ],
      "text/plain": [
       "| 2430      | 11m 3s        | 7.57301e+006   | 0               |"
      ]
     },
     "metadata": {},
     "output_type": "display_data"
    },
    {
     "data": {
      "text/html": [
       "<pre>| 2440      | 11m 6s        | 7.11365e+006   | 0               |</pre>"
      ],
      "text/plain": [
       "| 2440      | 11m 6s        | 7.11365e+006   | 0               |"
      ]
     },
     "metadata": {},
     "output_type": "display_data"
    },
    {
     "data": {
      "text/html": [
       "<pre>| 2450      | 11m 9s        | 8.23399e+006   | 0               |</pre>"
      ],
      "text/plain": [
       "| 2450      | 11m 9s        | 8.23399e+006   | 0               |"
      ]
     },
     "metadata": {},
     "output_type": "display_data"
    },
    {
     "data": {
      "text/html": [
       "<pre>| 2460      | 11m 12s       | 8.12619e+006   | 0               |</pre>"
      ],
      "text/plain": [
       "| 2460      | 11m 12s       | 8.12619e+006   | 0               |"
      ]
     },
     "metadata": {},
     "output_type": "display_data"
    },
    {
     "data": {
      "text/html": [
       "<pre>| 2470      | 11m 15s       | 8.03583e+006   | 0               |</pre>"
      ],
      "text/plain": [
       "| 2470      | 11m 15s       | 8.03583e+006   | 0               |"
      ]
     },
     "metadata": {},
     "output_type": "display_data"
    },
    {
     "data": {
      "text/html": [
       "<pre>| 2480      | 11m 18s       | 6.8988e+006    | 0               |</pre>"
      ],
      "text/plain": [
       "| 2480      | 11m 18s       | 6.8988e+006    | 0               |"
      ]
     },
     "metadata": {},
     "output_type": "display_data"
    },
    {
     "data": {
      "text/html": [
       "<pre>| 2490      | 11m 21s       | 7.20821e+006   | 0               |</pre>"
      ],
      "text/plain": [
       "| 2490      | 11m 21s       | 7.20821e+006   | 0               |"
      ]
     },
     "metadata": {},
     "output_type": "display_data"
    },
    {
     "data": {
      "text/html": [
       "<pre>| 2500      | 11m 24s       | 7.03259e+006   | 0               |</pre>"
      ],
      "text/plain": [
       "| 2500      | 11m 24s       | 7.03259e+006   | 0               |"
      ]
     },
     "metadata": {},
     "output_type": "display_data"
    },
    {
     "data": {
      "text/html": [
       "<pre>| 2510      | 11m 27s       | 7.70759e+006   | 0               |</pre>"
      ],
      "text/plain": [
       "| 2510      | 11m 27s       | 7.70759e+006   | 0               |"
      ]
     },
     "metadata": {},
     "output_type": "display_data"
    },
    {
     "data": {
      "text/html": [
       "<pre>| 2520      | 11m 30s       | 6.90975e+006   | 0               |</pre>"
      ],
      "text/plain": [
       "| 2520      | 11m 30s       | 6.90975e+006   | 0               |"
      ]
     },
     "metadata": {},
     "output_type": "display_data"
    },
    {
     "data": {
      "text/html": [
       "<pre>| 2530      | 11m 32s       | 6.82285e+006   | 0               |</pre>"
      ],
      "text/plain": [
       "| 2530      | 11m 32s       | 6.82285e+006   | 0               |"
      ]
     },
     "metadata": {},
     "output_type": "display_data"
    },
    {
     "data": {
      "text/html": [
       "<pre>| 2540      | 11m 35s       | 7.99141e+006   | 0               |</pre>"
      ],
      "text/plain": [
       "| 2540      | 11m 35s       | 7.99141e+006   | 0               |"
      ]
     },
     "metadata": {},
     "output_type": "display_data"
    },
    {
     "data": {
      "text/html": [
       "<pre>| 2550      | 11m 38s       | 8.12606e+006   | 0               |</pre>"
      ],
      "text/plain": [
       "| 2550      | 11m 38s       | 8.12606e+006   | 0               |"
      ]
     },
     "metadata": {},
     "output_type": "display_data"
    },
    {
     "data": {
      "text/html": [
       "<pre>| 2560      | 11m 41s       | 7.29296e+006   | 0               |</pre>"
      ],
      "text/plain": [
       "| 2560      | 11m 41s       | 7.29296e+006   | 0               |"
      ]
     },
     "metadata": {},
     "output_type": "display_data"
    },
    {
     "data": {
      "text/html": [
       "<pre>| 2570      | 11m 44s       | 7.84688e+006   | 0               |</pre>"
      ],
      "text/plain": [
       "| 2570      | 11m 44s       | 7.84688e+006   | 0               |"
      ]
     },
     "metadata": {},
     "output_type": "display_data"
    },
    {
     "data": {
      "text/html": [
       "<pre>| 2580      | 11m 47s       | 7.13706e+006   | 0               |</pre>"
      ],
      "text/plain": [
       "| 2580      | 11m 47s       | 7.13706e+006   | 0               |"
      ]
     },
     "metadata": {},
     "output_type": "display_data"
    },
    {
     "data": {
      "text/html": [
       "<pre>| 2590      | 11m 50s       | 7.23222e+006   | 0               |</pre>"
      ],
      "text/plain": [
       "| 2590      | 11m 50s       | 7.23222e+006   | 0               |"
      ]
     },
     "metadata": {},
     "output_type": "display_data"
    },
    {
     "data": {
      "text/html": [
       "<pre>| 2600      | 11m 53s       | 8.17194e+006   | 0               |</pre>"
      ],
      "text/plain": [
       "| 2600      | 11m 53s       | 8.17194e+006   | 0               |"
      ]
     },
     "metadata": {},
     "output_type": "display_data"
    },
    {
     "data": {
      "text/html": [
       "<pre>| 2610      | 11m 56s       | 8.11092e+006   | 0               |</pre>"
      ],
      "text/plain": [
       "| 2610      | 11m 56s       | 8.11092e+006   | 0               |"
      ]
     },
     "metadata": {},
     "output_type": "display_data"
    },
    {
     "data": {
      "text/html": [
       "<pre>| 2620      | 11m 59s       | 8.4096e+006    | 0               |</pre>"
      ],
      "text/plain": [
       "| 2620      | 11m 59s       | 8.4096e+006    | 0               |"
      ]
     },
     "metadata": {},
     "output_type": "display_data"
    },
    {
     "data": {
      "text/html": [
       "<pre>| 2630      | 12m 1s        | 8.18744e+006   | 0               |</pre>"
      ],
      "text/plain": [
       "| 2630      | 12m 1s        | 8.18744e+006   | 0               |"
      ]
     },
     "metadata": {},
     "output_type": "display_data"
    },
    {
     "data": {
      "text/html": [
       "<pre>| 2640      | 12m 4s        | 8.31293e+006   | 0               |</pre>"
      ],
      "text/plain": [
       "| 2640      | 12m 4s        | 8.31293e+006   | 0               |"
      ]
     },
     "metadata": {},
     "output_type": "display_data"
    },
    {
     "data": {
      "text/html": [
       "<pre>| 2650      | 12m 7s        | 7.70757e+006   | 0               |</pre>"
      ],
      "text/plain": [
       "| 2650      | 12m 7s        | 7.70757e+006   | 0               |"
      ]
     },
     "metadata": {},
     "output_type": "display_data"
    },
    {
     "data": {
      "text/html": [
       "<pre>| 2660      | 12m 9s        | 7.90117e+006   | 0               |</pre>"
      ],
      "text/plain": [
       "| 2660      | 12m 9s        | 7.90117e+006   | 0               |"
      ]
     },
     "metadata": {},
     "output_type": "display_data"
    },
    {
     "data": {
      "text/html": [
       "<pre>| 2670      | 12m 12s       | 7.64621e+006   | 0               |</pre>"
      ],
      "text/plain": [
       "| 2670      | 12m 12s       | 7.64621e+006   | 0               |"
      ]
     },
     "metadata": {},
     "output_type": "display_data"
    },
    {
     "data": {
      "text/html": [
       "<pre>| 2680      | 12m 15s       | 8.12609e+006   | 0               |</pre>"
      ],
      "text/plain": [
       "| 2680      | 12m 15s       | 8.12609e+006   | 0               |"
      ]
     },
     "metadata": {},
     "output_type": "display_data"
    },
    {
     "data": {
      "text/html": [
       "<pre>| 2690      | 12m 17s       | 8.14133e+006   | 0               |</pre>"
      ],
      "text/plain": [
       "| 2690      | 12m 17s       | 8.14133e+006   | 0               |"
      ]
     },
     "metadata": {},
     "output_type": "display_data"
    },
    {
     "data": {
      "text/html": [
       "<pre>| 2700      | 12m 20s       | 8.14133e+006   | 0               |</pre>"
      ],
      "text/plain": [
       "| 2700      | 12m 20s       | 8.14133e+006   | 0               |"
      ]
     },
     "metadata": {},
     "output_type": "display_data"
    },
    {
     "data": {
      "text/html": [
       "<pre>| 2710      | 12m 23s       | 7.86111e+006   | 0               |</pre>"
      ],
      "text/plain": [
       "| 2710      | 12m 23s       | 7.86111e+006   | 0               |"
      ]
     },
     "metadata": {},
     "output_type": "display_data"
    },
    {
     "data": {
      "text/html": [
       "<pre>| 2720      | 12m 26s       | 8.0807e+006    | 0               |</pre>"
      ],
      "text/plain": [
       "| 2720      | 12m 26s       | 8.0807e+006    | 0               |"
      ]
     },
     "metadata": {},
     "output_type": "display_data"
    },
    {
     "data": {
      "text/html": [
       "<pre>| 2730      | 12m 28s       | 8.14133e+006   | 0               |</pre>"
      ],
      "text/plain": [
       "| 2730      | 12m 28s       | 8.14133e+006   | 0               |"
      ]
     },
     "metadata": {},
     "output_type": "display_data"
    },
    {
     "data": {
      "text/html": [
       "<pre>| 2740      | 12m 31s       | 7.97673e+006   | 0               |</pre>"
      ],
      "text/plain": [
       "| 2740      | 12m 31s       | 7.97673e+006   | 0               |"
      ]
     },
     "metadata": {},
     "output_type": "display_data"
    },
    {
     "data": {
      "text/html": [
       "<pre>| 2750      | 12m 34s       | 7.10201e+006   | 0               |</pre>"
      ],
      "text/plain": [
       "| 2750      | 12m 34s       | 7.10201e+006   | 0               |"
      ]
     },
     "metadata": {},
     "output_type": "display_data"
    },
    {
     "data": {
      "text/html": [
       "<pre>| 2760      | 12m 37s       | 8.19543e+006   | 0               |</pre>"
      ],
      "text/plain": [
       "| 2760      | 12m 37s       | 8.19543e+006   | 0               |"
      ]
     },
     "metadata": {},
     "output_type": "display_data"
    },
    {
     "data": {
      "text/html": [
       "<pre>| 2770      | 12m 40s       | 7.96207e+006   | 0               |</pre>"
      ],
      "text/plain": [
       "| 2770      | 12m 40s       | 7.96207e+006   | 0               |"
      ]
     },
     "metadata": {},
     "output_type": "display_data"
    },
    {
     "data": {
      "text/html": [
       "<pre>| 2780      | 12m 43s       | 8.11089e+006   | 0               |</pre>"
      ],
      "text/plain": [
       "| 2780      | 12m 43s       | 8.11089e+006   | 0               |"
      ]
     },
     "metadata": {},
     "output_type": "display_data"
    },
    {
     "data": {
      "text/html": [
       "<pre>| 2790      | 12m 46s       | 7.96207e+006   | 0               |</pre>"
      ],
      "text/plain": [
       "| 2790      | 12m 46s       | 7.96207e+006   | 0               |"
      ]
     },
     "metadata": {},
     "output_type": "display_data"
    },
    {
     "data": {
      "text/html": [
       "<pre>| 2800      | 12m 49s       | 7.05581e+006   | 0               |</pre>"
      ],
      "text/plain": [
       "| 2800      | 12m 49s       | 7.05581e+006   | 0               |"
      ]
     },
     "metadata": {},
     "output_type": "display_data"
    },
    {
     "data": {
      "text/html": [
       "<pre>| 2810      | 12m 52s       | 8.25242e+006   | 0               |</pre>"
      ],
      "text/plain": [
       "| 2810      | 12m 52s       | 8.25242e+006   | 0               |"
      ]
     },
     "metadata": {},
     "output_type": "display_data"
    },
    {
     "data": {
      "text/html": [
       "<pre>| 2820      | 12m 55s       | 7.94762e+006   | 0               |</pre>"
      ],
      "text/plain": [
       "| 2820      | 12m 55s       | 7.94762e+006   | 0               |"
      ]
     },
     "metadata": {},
     "output_type": "display_data"
    },
    {
     "data": {
      "text/html": [
       "<pre>| 2830      | 12m 58s       | 7.88622e+006   | 0               |</pre>"
      ],
      "text/plain": [
       "| 2830      | 12m 58s       | 7.88622e+006   | 0               |"
      ]
     },
     "metadata": {},
     "output_type": "display_data"
    },
    {
     "data": {
      "text/html": [
       "<pre>| 2840      | 13m 1s        | 6.51552e+006   | 0               |</pre>"
      ],
      "text/plain": [
       "| 2840      | 13m 1s        | 6.51552e+006   | 0               |"
      ]
     },
     "metadata": {},
     "output_type": "display_data"
    },
    {
     "data": {
      "text/html": [
       "<pre>| 2850      | 13m 3s        | 7.49453e+006   | 0               |</pre>"
      ],
      "text/plain": [
       "| 2850      | 13m 3s        | 7.49453e+006   | 0               |"
      ]
     },
     "metadata": {},
     "output_type": "display_data"
    },
    {
     "data": {
      "text/html": [
       "<pre>| 2860      | 13m 6s        | 7.65202e+006   | 0               |</pre>"
      ],
      "text/plain": [
       "| 2860      | 13m 6s        | 7.65202e+006   | 0               |"
      ]
     },
     "metadata": {},
     "output_type": "display_data"
    },
    {
     "data": {
      "text/html": [
       "<pre>| 2870      | 13m 9s        | 6.66564e+006   | 0               |</pre>"
      ],
      "text/plain": [
       "| 2870      | 13m 9s        | 6.66564e+006   | 0               |"
      ]
     },
     "metadata": {},
     "output_type": "display_data"
    },
    {
     "data": {
      "text/html": [
       "<pre>| 2880      | 13m 12s       | 7.43036e+006   | 0               |</pre>"
      ],
      "text/plain": [
       "| 2880      | 13m 12s       | 7.43036e+006   | 0               |"
      ]
     },
     "metadata": {},
     "output_type": "display_data"
    },
    {
     "data": {
      "text/html": [
       "<pre>| 2890      | 13m 15s       | 7.72075e+006   | 0               |</pre>"
      ],
      "text/plain": [
       "| 2890      | 13m 15s       | 7.72075e+006   | 0               |"
      ]
     },
     "metadata": {},
     "output_type": "display_data"
    },
    {
     "data": {
      "text/html": [
       "<pre>| 2900      | 13m 18s       | 7.91848e+006   | 0               |</pre>"
      ],
      "text/plain": [
       "| 2900      | 13m 18s       | 7.91848e+006   | 0               |"
      ]
     },
     "metadata": {},
     "output_type": "display_data"
    },
    {
     "data": {
      "text/html": [
       "<pre>| 2910      | 13m 21s       | 5.1414e+006    | 0               |</pre>"
      ],
      "text/plain": [
       "| 2910      | 13m 21s       | 5.1414e+006    | 0               |"
      ]
     },
     "metadata": {},
     "output_type": "display_data"
    },
    {
     "data": {
      "text/html": [
       "<pre>| 2920      | 13m 25s       | 6.08603e+006   | 0               |</pre>"
      ],
      "text/plain": [
       "| 2920      | 13m 25s       | 6.08603e+006   | 0               |"
      ]
     },
     "metadata": {},
     "output_type": "display_data"
    },
    {
     "data": {
      "text/html": [
       "<pre>| 2930      | 13m 27s       | 8.55881e+006   | 0               |</pre>"
      ],
      "text/plain": [
       "| 2930      | 13m 27s       | 8.55881e+006   | 0               |"
      ]
     },
     "metadata": {},
     "output_type": "display_data"
    },
    {
     "data": {
      "text/html": [
       "<pre>| 2940      | 13m 30s       | 8.98413e+006   | 0               |</pre>"
      ],
      "text/plain": [
       "| 2940      | 13m 30s       | 8.98413e+006   | 0               |"
      ]
     },
     "metadata": {},
     "output_type": "display_data"
    },
    {
     "data": {
      "text/html": [
       "<pre>| 2950      | 13m 33s       | 8.69604e+006   | 0               |</pre>"
      ],
      "text/plain": [
       "| 2950      | 13m 33s       | 8.69604e+006   | 0               |"
      ]
     },
     "metadata": {},
     "output_type": "display_data"
    },
    {
     "data": {
      "text/html": [
       "<pre>| 2960      | 13m 35s       | 9.13545e+006   | 0               |</pre>"
      ],
      "text/plain": [
       "| 2960      | 13m 35s       | 9.13545e+006   | 0               |"
      ]
     },
     "metadata": {},
     "output_type": "display_data"
    },
    {
     "data": {
      "text/html": [
       "<pre>| 2970      | 13m 38s       | 8.11092e+006   | 0               |</pre>"
      ],
      "text/plain": [
       "| 2970      | 13m 38s       | 8.11092e+006   | 0               |"
      ]
     },
     "metadata": {},
     "output_type": "display_data"
    },
    {
     "data": {
      "text/html": [
       "<pre>| 2980      | 13m 40s       | 8.28116e+006   | 0               |</pre>"
      ],
      "text/plain": [
       "| 2980      | 13m 40s       | 8.28116e+006   | 0               |"
      ]
     },
     "metadata": {},
     "output_type": "display_data"
    },
    {
     "data": {
      "text/html": [
       "<pre>| 2990      | 13m 43s       | 7.2202e+006    | 0               |</pre>"
      ],
      "text/plain": [
       "| 2990      | 13m 43s       | 7.2202e+006    | 0               |"
      ]
     },
     "metadata": {},
     "output_type": "display_data"
    },
    {
     "data": {
      "text/html": [
       "<pre>| 3000      | 13m 46s       | 7.4687e+006    | 0               |</pre>"
      ],
      "text/plain": [
       "| 3000      | 13m 46s       | 7.4687e+006    | 0               |"
      ]
     },
     "metadata": {},
     "output_type": "display_data"
    },
    {
     "data": {
      "text/html": [
       "<pre>+-----------+---------------+----------------+-----------------+</pre>"
      ],
      "text/plain": [
       "+-----------+---------------+----------------+-----------------+"
      ]
     },
     "metadata": {},
     "output_type": "display_data"
    }
   ],
   "source": [
    "topic_model = gl.topic_model.create(docs, num_topics=15, num_iterations=3000)"
   ]
  },
  {
   "cell_type": "code",
   "execution_count": 8,
   "metadata": {
    "collapsed": false
   },
   "outputs": [
    {
     "data": {
      "text/html": [
       "\n",
       "<link rel=\"stylesheet\" type=\"text/css\" href=\"https://cdn.rawgit.com/bmabey/pyLDAvis/files/ldavis.v1.0.0.css\">\n",
       "\n",
       "\n",
       "<div id=\"ldavis_el86446819822566226471118\"></div>\n",
       "<script type=\"text/javascript\">\n",
       "\n",
       "var ldavis_el86446819822566226471118_data = {\"plot.opts\": {\"xlab\": \"PC1\", \"ylab\": \"PC2\"}, \"topic.order\": [13, 12, 8, 15, 11, 6, 2, 5, 4, 7, 14, 1, 10, 3, 9], \"token.table\": {\"Topic\": [1, 11, 1, 3, 5, 6, 13, 14, 6, 7, 8, 12, 14, 2, 8, 2, 8, 4, 5, 6, 7, 8, 13, 15, 2, 8, 9, 11, 12, 13, 3, 4, 5, 7, 9, 10, 13, 14, 1, 3, 7, 8, 12, 7, 14, 6, 8, 13, 14, 5, 11, 1, 2, 3, 4, 5, 8, 10, 11, 13, 14, 15, 3, 4, 6, 9, 2, 3, 7, 11, 14, 5, 3, 5, 7, 9, 10, 11, 1, 3, 11, 3, 4, 8, 11, 7, 8, 10, 12, 13, 15, 1, 2, 3, 8, 9, 11, 12, 13, 14, 3, 4, 10, 9, 11, 12, 14, 1, 2, 6, 8, 10, 5, 15, 5, 8, 10, 13, 15, 3, 11, 12, 6, 8, 12, 14, 8, 9, 12, 15, 1, 15, 3, 7, 8, 1, 4, 7, 11, 4, 14, 2, 9, 10, 11, 12, 1, 2, 7, 9, 12, 15, 2, 1, 4, 8, 10, 13, 2, 1, 3, 4, 5, 13, 1, 5, 9, 14, 3, 4, 5, 6, 11, 10, 1, 7, 8, 11, 14, 15, 8, 10, 13, 14, 7, 10, 14, 2, 3, 7, 10, 11, 12, 13, 14, 15, 2, 4, 5, 7, 8, 14, 11, 1, 6, 8, 10, 13, 14, 15, 13, 2, 3, 5, 10, 13, 14, 4, 9, 12, 15, 7, 8, 13, 14, 14, 6, 8, 13, 9, 14, 6, 4, 6, 3, 4, 5, 6, 7, 10, 12, 1, 6, 7, 10, 12, 2, 3, 4, 5, 6, 11, 15, 15, 6, 8, 1, 2, 3, 5, 6, 7, 8, 9, 10, 11, 12, 13, 14, 1, 3, 1, 11, 13, 1, 3, 1, 8, 2, 4, 7, 14, 1, 2, 5, 7, 11, 13, 14, 15, 2, 8, 9, 11, 12, 13, 7, 4, 8, 11, 13, 14, 11, 13, 1, 8, 11, 15, 2, 6, 13, 1, 10, 1, 6, 7, 11, 13, 4, 5, 1, 3, 5, 7, 10, 12, 14, 15, 10, 15, 1, 3, 6, 7, 8, 10, 13, 15, 1, 4, 5, 6, 10, 13, 1, 2, 6, 8, 10, 15, 1, 5, 8, 11, 12, 1, 3, 4, 7, 8, 11, 13, 15, 7, 8, 15, 1, 3, 4, 6, 10, 11, 13, 14, 15, 2, 3, 5, 13, 14, 2, 5, 8, 10, 13, 14, 4, 6, 15, 15, 10, 14, 10, 14, 3, 6, 8, 12, 13, 2, 10, 13, 14, 9, 12, 9, 12, 11, 9, 10, 6, 8, 10, 13, 6, 15, 4, 8, 8, 3, 3, 6, 15, 5, 6, 11, 15, 4, 6, 2, 3, 4, 6, 8, 6, 13, 6, 3, 8, 13, 3, 4, 7, 9, 11, 13, 14, 1, 2, 4, 9, 10, 1, 4, 4, 6, 15, 3, 6, 8, 10, 11, 12, 15, 1, 3, 4, 5, 6, 7, 9, 12, 13, 11, 14, 14, 15, 15, 2, 9, 4, 5, 6, 7, 15, 2, 6, 11, 3, 4, 8, 10, 13, 14, 15, 1, 3, 4, 5, 6, 8, 10, 11, 14, 15, 2, 3, 4, 5, 6, 7, 8, 9, 10, 11, 12, 13, 15, 3, 11, 12, 14, 13, 15, 2, 5, 7, 8, 11, 3, 11, 2, 9, 13, 9, 14, 2, 3, 4, 8, 10, 1, 6, 8, 10, 11, 13, 15, 15, 10, 11, 14, 4, 6, 1, 4, 5, 7, 8, 10, 12, 15, 2, 9, 2, 3, 6, 8, 13, 14, 15, 11, 2, 8, 13, 14, 3, 4, 5, 6, 8, 9, 11, 12, 13, 1, 2, 4, 9, 10, 2, 8, 10, 11, 13, 1, 3, 8, 11, 14, 1, 4, 5, 1, 3, 4, 9, 11, 14, 7, 5, 11, 9, 12, 1, 1, 3, 5, 13, 2, 3, 8, 10, 11, 13, 14, 13, 15, 6, 3, 1, 3, 4, 5, 8, 10, 11, 12, 13, 14, 3, 13, 13, 15, 4, 13, 5, 10, 13, 8, 9, 2, 6, 7, 14, 15, 6, 2, 8, 14, 15, 2, 8, 2, 8, 4, 5, 7, 8, 9, 11, 14, 4, 11, 13, 2, 3, 8, 12, 13, 4, 14, 1, 3, 4, 5, 1, 3, 4, 5, 11, 1, 5, 10, 15, 1, 2, 3, 6, 7, 14, 5, 6, 1, 5, 5, 11, 4, 15, 1, 3, 4, 11, 13, 6, 11, 13, 14, 4, 5, 6, 8, 11, 1, 10, 11, 12, 14, 1, 2, 10, 2, 3, 5, 8, 10, 15, 2, 13, 14, 9, 13, 15, 2, 11, 14, 1, 5, 11, 14, 2, 6, 7, 8, 9, 10, 12, 13, 14, 15, 2, 7, 9, 12, 8, 13, 12, 1, 3, 5, 6, 7, 9, 10, 12, 13, 8, 8, 1, 3, 4, 8, 9, 11, 12, 13, 2, 3, 4, 5, 6, 7, 8, 9, 10, 11, 12, 13, 14, 15, 4, 6, 11, 15, 7, 14, 3, 7, 10, 11, 13, 3, 13, 14, 15, 2, 7, 9, 12, 13, 15, 7, 9, 13, 1, 3, 11, 12, 13, 1, 3, 4, 15, 1, 2, 3, 4, 6, 7, 9, 11, 12, 14, 12, 2, 3, 5, 6, 7, 10, 11, 12, 13, 14, 15, 3, 10, 15, 1, 2, 3, 7, 8, 9, 15, 1, 2, 3, 9, 11, 14, 1, 4, 5, 7, 5, 8, 9, 12, 2, 9, 12, 15, 15, 15, 10, 13, 7, 8, 2, 7, 8, 11, 2, 3, 4, 5, 9, 10, 12, 5, 1, 3, 5, 11, 14, 2, 15, 14, 15, 14, 4, 10, 3, 5, 7, 12, 15, 2, 1, 3, 4, 5, 6, 8, 9, 10, 11, 13, 14, 4, 5, 2, 3, 9, 11, 12, 8, 1, 2, 11, 2, 8, 9, 11, 12, 2, 8, 13, 15, 1, 2, 3, 4, 5, 7, 8, 9, 10, 11, 12, 13, 15, 1, 2, 3, 4, 6, 7, 8, 9, 11, 12, 13, 14, 15, 2, 1, 2, 3, 4, 6, 7, 8, 9, 11, 12, 14, 15, 1, 5, 13, 1, 2, 8, 9, 13, 15, 1, 2, 3, 5, 6, 7, 9, 12, 13, 14, 15, 1, 2, 3, 4, 5, 6, 7, 8, 9, 12, 13, 15, 6, 7, 14, 15, 5, 10, 1, 3, 4, 7, 9, 10, 13, 14, 2, 4, 7, 8, 9, 12, 13, 2, 3, 5, 6, 9, 11, 12, 14, 15, 2, 6, 13, 3, 5, 13, 4, 7, 8, 9, 12, 13, 14, 15, 1, 2, 3, 5, 6, 7, 8, 11, 12, 14, 15, 2, 5, 6, 7, 11, 14, 3, 10, 11, 13, 14, 2, 13, 14, 5, 11, 13, 3, 11, 13, 7, 10, 11, 14, 1, 4, 5, 4, 6, 11, 11, 11, 4, 5, 6, 13, 4, 5, 6, 7, 8, 2, 3, 5, 6, 11, 13, 15, 5, 8, 11, 4, 5, 7, 8, 10, 3, 4, 5, 10, 11, 14, 6, 11, 13, 3, 10, 11, 13, 4, 4, 3, 3, 2, 15, 9, 8, 12, 2, 3, 7, 9, 14, 10, 3, 8, 10, 2, 4, 5, 8, 9, 1, 2, 6, 2, 8, 11, 14, 15, 11, 2, 11, 14, 2, 8, 12, 15, 1, 2, 3, 4, 5, 6, 7, 8, 9, 10, 12, 13, 15, 3, 4, 8, 10, 12, 1, 15, 2, 3, 9, 12, 13, 1, 2, 3, 4, 5, 6, 7, 8, 9, 10, 11, 12, 13, 14, 2, 3, 7, 10, 11, 12, 3, 8, 9, 10, 11, 13, 14, 1, 3, 4, 5, 6, 7, 8, 10, 13, 14, 15, 2, 8, 3, 5, 11, 14, 5, 14, 5, 11, 13, 14, 1, 3, 4, 6, 8, 9, 11, 12, 13, 15, 1, 2, 3, 5, 10, 12, 14, 9, 12, 1, 2, 3, 4, 5, 6, 7, 9, 10, 11, 12, 14, 15, 11, 12, 14, 5, 11, 14, 1, 3, 4, 5, 7, 8, 9, 10, 11, 12, 13, 15, 7, 8, 10, 11, 14, 15, 2, 4, 9, 12, 15, 9, 1, 3, 5, 6, 8, 10, 12, 13, 14, 15, 1, 10, 15, 2, 3, 6, 10, 13, 14, 3, 4, 5, 1, 2, 4, 6, 7, 8, 9, 12, 13, 14, 15, 2, 4, 5, 6, 7, 8, 9, 11, 12, 13, 14, 2, 8, 10, 13, 14, 6, 8, 13, 2, 6, 7, 13, 14, 15, 1, 2, 4, 6, 7, 8, 9, 10, 12, 13, 14, 15, 13, 4, 5, 6, 9, 1, 3, 11, 12, 15, 4, 6, 10, 15, 2, 5, 9, 2, 15, 8, 13, 15, 1, 3, 6, 9, 14, 11, 13, 13, 13, 1, 3, 4, 5, 9, 11, 12, 14, 1, 3, 5, 6, 8, 10, 11, 13, 14, 15, 9, 10, 12, 13, 3, 4, 7, 11, 4, 7, 8, 3, 7, 14, 1, 3, 1, 2, 4, 5, 6, 8, 9, 11, 13, 14, 3, 10, 13, 7, 8, 9, 12, 15, 6, 3, 8, 10, 13, 15, 2, 4, 1, 2, 4, 5, 11, 7, 13, 7, 2, 5, 13, 14, 3, 7, 8, 10, 13, 8, 11, 1, 6, 8, 6, 7, 8, 11, 13, 6, 10, 2, 6, 8, 5, 8, 10, 2, 10, 1, 2, 3, 4, 5, 6, 9, 10, 12, 13, 14, 15, 5, 6, 8, 11, 1, 2, 3, 4, 6, 9, 11, 14, 15, 1, 2, 3, 7, 8, 12, 14, 15, 5, 6, 3, 7, 11, 10, 3, 7, 15, 11, 9, 12, 3, 5, 9, 11, 12, 1, 3, 4, 5, 6, 7, 8, 9, 10, 12, 13, 14, 15, 1, 2, 3, 5, 6, 8, 9, 11, 15, 2, 3, 4, 6, 7, 9, 11, 1, 3, 5, 11, 12, 14, 3, 4, 5, 15, 15, 15, 4, 6, 8, 15, 8, 1, 2, 4, 6, 7, 9, 12, 15, 10, 2, 3, 8, 10, 15, 3, 6, 15, 9, 15, 2, 5, 14, 7, 14, 1, 2, 3, 4, 5, 6, 7, 8, 9, 10, 11, 12, 13, 14, 15, 5, 7, 9, 11, 12, 13, 14, 7, 3, 13, 9, 2, 4, 5, 6, 10, 13, 3, 15, 1, 4, 5, 13, 15, 3, 4, 7, 8, 9, 12, 13, 3, 8, 10, 2, 7, 8, 11, 13, 11, 1, 3, 4, 5, 6, 7, 9, 14, 15, 2, 7, 2, 3, 8, 9, 12, 14, 8, 9, 12, 13, 14, 6, 9, 12, 13, 2, 8, 9, 12, 9, 12, 5, 10, 1, 2, 4, 8, 9, 10, 11, 12, 14, 15, 12, 3, 6, 11, 13, 14, 1, 3, 8, 14, 1, 3, 11, 14, 1, 3, 7, 2, 6, 7, 8, 9, 10, 4, 11, 13, 15, 1, 3, 4, 5, 6, 7, 8, 9, 10, 11, 12, 1, 6, 10, 1, 3, 4, 5, 6, 7, 14, 1, 3, 4, 6, 7, 13, 4, 8, 5, 10, 1, 11, 12, 2, 11, 13, 1, 2, 3, 4, 5, 6, 7, 9, 11, 12, 13, 4, 6, 8, 13, 4, 6, 13, 14, 15, 3, 4, 5, 8, 11, 13, 4, 6, 3, 5, 6, 8, 13, 1, 3, 5, 1, 5, 6, 5, 11, 13, 3, 5, 6, 11, 14, 1, 3, 5, 6, 10, 11, 13, 14, 15, 5, 6, 13, 1, 2, 3, 4, 5, 10, 11, 13, 3, 6, 10, 13, 4, 9, 12, 15, 9, 1, 2, 3, 4, 5, 6, 9, 10, 11, 13, 14, 15, 1, 3, 7, 8, 14, 14, 14, 14, 7, 4, 5, 13, 3, 4, 5, 8, 9, 10, 1, 2, 3, 4, 5, 6, 7, 8, 9, 10, 12, 13, 6, 7, 14, 3, 6, 12, 3, 9, 15, 5, 15, 13, 14, 10, 1, 3, 10, 11, 1, 2, 3, 6, 7, 8, 9, 12, 15, 1, 2, 3, 4, 7, 10, 14, 1, 5, 7, 8, 12, 13, 14, 4, 5, 6, 13, 5, 7, 11, 13, 2, 3, 11, 15, 1, 3, 4, 5, 6, 8, 9, 10, 11, 12, 13, 15, 3, 4, 5, 8, 9, 12, 13, 14, 15, 4, 5, 6, 1, 2, 3, 4, 5, 8, 9, 10, 11, 12, 13, 14, 1, 2, 3, 4, 7, 8, 11, 13, 1, 7, 9, 12, 3, 12, 2, 6, 7, 9, 12, 13, 15, 1, 2, 3, 4, 6, 7, 8, 9, 12, 15, 1, 2, 4, 6, 8, 9, 11, 12, 15, 3, 10, 4, 6, 13, 11, 15, 2, 5, 9, 12, 13, 14, 15, 2, 3, 4, 7, 9, 11, 12, 14, 1, 10, 14, 2, 5, 9, 13, 14, 1, 3, 7, 12, 13, 5, 9, 12, 3, 8, 3, 8, 9, 12, 15, 1, 2, 4, 5, 7, 12, 4, 3, 6, 11, 1, 4, 5, 13, 14, 7, 11, 2, 3, 4, 5, 6, 11, 14, 15, 1, 3, 5, 6, 7, 8, 9, 10, 11, 12, 13, 1, 2, 3, 6, 7, 11, 15, 4, 5, 6, 3, 9, 10, 12, 13, 15, 1, 2, 3, 4, 5, 6, 7, 8, 9, 11, 12, 13, 14, 15, 2, 3, 4, 5, 6, 10, 12, 4, 7, 2, 4, 6, 8, 4, 7, 11, 2, 8, 14, 1, 2, 7, 8, 10, 11, 12, 14, 1, 4, 5, 6, 7, 8, 10, 11, 13, 14, 7, 1, 2, 3, 5, 7, 8, 9, 11, 12, 13, 14, 15, 6, 8, 8, 2, 8, 2, 3, 7, 12, 14, 8, 5, 6, 10, 14, 5, 6, 7, 10, 2, 3, 4, 6, 8, 12, 7, 7, 7, 10, 14, 1, 2, 3, 4, 5, 6, 7, 8, 10, 14, 15, 11, 6, 11, 7, 14, 2, 3, 8, 10, 11, 13, 14, 6, 3, 7, 10, 2, 8, 9, 11, 14, 8, 8, 1, 2, 3, 5, 6, 7, 8, 10, 12, 13, 15, 4, 6, 7, 9, 13, 7, 1, 4, 5, 9, 5, 7, 9, 12, 13, 15, 1, 2, 4, 7, 8, 9, 12, 13, 15, 7, 15, 8, 3, 15, 4, 15, 6, 11, 7, 13, 14, 9, 12, 14, 2, 5, 5, 10, 13, 6, 8, 10, 4, 5, 13, 8, 11, 1, 3, 5, 6, 11, 12, 14, 9, 12, 13, 1, 5, 5, 7, 10, 14, 13, 3, 1, 3, 4, 5, 6, 7, 11, 15, 9, 1, 2, 3, 4, 5, 7, 8, 9, 14, 8, 9, 14, 15, 1, 2, 5, 1, 5, 2, 5, 1, 6, 9, 12, 15, 4, 6, 2, 4, 6, 13, 1, 3, 6, 7, 8, 9, 10, 13, 14, 1, 2, 8, 9, 12, 13, 14, 7, 1, 2, 3, 4, 5, 6, 8, 10, 11, 13, 1, 3, 5, 7, 11, 13, 14, 8, 11, 4, 10, 13, 1, 2, 3, 4, 6, 7, 8, 9, 10, 11, 12, 9, 1, 2, 3, 4, 5, 6, 8, 9, 10, 12, 13, 14, 15, 1, 2, 3, 9, 11, 12, 14, 9, 12, 3, 4, 9, 7, 11, 12, 13, 3, 7, 15, 11, 13, 3, 7, 13, 5, 14, 5, 5, 9, 6, 11, 3, 4, 7, 11, 4, 5, 7, 8, 1, 3, 9, 12, 6, 8, 9, 3, 11, 12, 14, 6, 13, 1, 4, 5, 1, 1, 5, 8, 15, 1, 2, 5, 1, 2, 3, 4, 8, 9, 11, 12, 14, 3, 8, 11, 14, 3, 6, 7, 15, 3, 7, 9, 10, 11, 12, 13, 1, 2, 7, 12, 1, 3, 7, 9, 15, 6, 15, 2, 7, 6, 7, 10, 2, 7, 8, 10, 14, 15, 2, 3, 7, 8, 11, 12, 13, 14, 1, 9, 10, 12, 1, 7, 9, 13, 15, 15, 1, 8, 9, 10, 11, 12, 13, 7, 10, 12, 15, 6, 13, 1, 11, 14, 9, 12, 1, 2, 3, 8, 10, 11, 13, 1, 2, 3, 11, 13, 14, 1, 2, 3, 6, 7, 8, 9, 12, 13, 15, 1, 2, 3, 6, 8, 9, 10, 14, 15, 5, 7, 11, 4, 8, 10, 13, 14, 5, 6, 8, 10, 1, 8, 10, 11, 13, 14, 6, 15, 6, 11, 15, 5, 7, 9, 2, 4, 8, 9, 11, 12, 13, 14, 2, 1, 8, 2, 2, 5, 11, 11, 13, 4, 2, 1, 4, 1, 7, 8, 11, 11, 2, 6, 1, 3, 4, 5, 7, 8, 10, 13, 14, 6, 3, 4, 10, 13, 14, 15, 12, 15, 8, 4, 6, 6, 3, 7, 6, 6, 7, 11, 3, 10, 4, 10, 9, 1, 5, 1, 14, 15, 1, 6, 9, 10, 14, 3, 1, 12, 4, 11, 3, 1, 4, 5, 2, 12, 5, 1, 6, 13, 12, 5, 9, 12, 3, 3, 1, 10, 10, 2, 1, 3, 5, 14, 4, 12, 4, 5, 14, 14, 1, 3, 4, 5, 14, 15, 9, 14, 14, 9, 9, 10, 5, 8, 9, 13, 4, 14, 2, 7, 15, 9, 14, 14, 8, 10, 13, 14, 15, 7, 10, 13, 4, 14, 11, 12, 8, 14, 15, 1, 12, 1, 3, 6, 2, 2, 9, 10, 3, 1, 1, 1, 1, 3, 14, 5, 14, 5, 13, 3, 5, 7, 8, 10, 13, 5, 2, 8, 6, 7, 14, 6, 1, 3, 3, 10, 3, 12, 14, 9, 14, 2, 11, 9, 9, 10, 6, 1, 14, 12, 13, 12, 3, 3, 9, 5, 12, 12, 6, 4, 2, 12, 9, 12, 13, 1, 1, 5, 13, 4, 11, 9, 12, 14, 4, 12, 11, 6, 12, 8, 10, 11, 3, 6, 14, 7, 10, 4, 14, 14, 12, 1, 8, 12, 1, 5, 7, 5, 7, 11, 1, 4, 5, 6, 7, 8, 9, 10, 11, 14, 9, 12, 10, 8, 5, 1, 3, 5, 7, 8, 3, 12, 12, 11, 4, 7, 15, 4, 5, 5, 13, 9, 8, 13, 2, 5, 14, 1, 2, 15, 14, 10, 1, 10, 3, 3, 1, 1, 3, 6, 12, 8, 10, 14, 3, 12, 9, 6, 6, 1, 9, 7, 5, 9, 7, 3, 9, 1, 9, 2, 10, 12, 6, 8, 4, 12, 3, 4, 11, 12, 13, 14, 12, 3, 10, 3, 4, 11, 13, 14, 1, 5, 9, 12, 13, 14, 15, 12, 10, 12, 10, 3, 4, 4, 10, 15, 4, 1, 3, 5, 9, 12, 13, 14, 15, 5, 2], \"Freq\": [0.9940930679431095, 0.0022440024107067934, 0.02017663292601641, 0.042034651929200854, 0.03867187977486479, 0.8608696715100335, 0.00840693038584017, 0.02858356331185658, 0.002837882205562312, 0.973393596507873, 0.002837882205562312, 0.01418941102781156, 0.002837882205562312, 0.009274552738808742, 0.9892856254729325, 0.013145865813329575, 0.9826534695463858, 0.0007796830705113034, 0.09824006688442423, 0.15671629717277197, 0.0007796830705113034, 0.19648013376884846, 0.05067939958323472, 0.49509874977467766, 0.014145541023612727, 0.0007858633902007071, 0.19960930111097958, 0.6051148104545444, 0.12180882548110959, 0.05736802748465161, 0.01236784905516558, 0.00618392452758279, 0.003091962263791395, 0.00618392452758279, 0.021643735846539766, 0.03401158490170535, 0.884301207444339, 0.03091962263791395, 0.04186171294143491, 0.08301390532454042, 0.6591445986880176, 0.21143712638216278, 0.0035476027916470265, 0.9891260374735996, 0.004995586047846463, 0.004252706774931073, 0.9143319566101806, 0.07654872194875931, 0.0021263533874655363, 0.005933481642250381, 0.9849579526135633, 0.10405834749025648, 0.00027675092417621405, 0.11983315016830069, 0.037361374763788896, 0.09907683085508463, 0.0019372564692334985, 0.16300629433979008, 0.04760115895830882, 0.14695474073756967, 0.16577380358155222, 0.1142981316847764, 0.07489913665101472, 0.791471473864454, 0.13247086109172007, 0.0005589487809777218, 0.7625777314102304, 0.043738872375150374, 0.0038033802065348156, 0.0722642239241615, 0.11410140619604446, 0.9819648683688422, 0.024784375822730135, 0.18198813104118983, 0.6946706480599503, 0.02407625079922356, 0.0007081250235065753, 0.07293687742117726, 0.002493162902299706, 0.9947719980175828, 0.9963647067229855, 0.007327146031601139, 0.002442382010533713, 0.002442382010533713, 0.9842799502450863, 0.13163915268783855, 0.181003834945778, 0.43801360924108185, 0.000783566385046658, 0.016454894085979818, 0.23193564997381078, 0.22038594070070333, 0.2836056256132448, 0.03072688596307883, 0.0007063651945535363, 0.09747839684838801, 0.12785210021419008, 0.033199164144016205, 0.03143325115763237, 0.1741190204574467, 0.013273921484790802, 0.9734209088846588, 0.011061601237325669, 0.0014474164380329543, 0.8177902874886193, 0.0028948328760659086, 0.17513738900198747, 0.2767368261698033, 0.021378810605392526, 0.08907837752246886, 0.5629753459420033, 0.04869617971228298, 0.003485664121156239, 0.9934142745295281, 0.0010698259140442077, 0.02353617010897257, 0.6429653743405689, 0.2899228227059803, 0.0417232106477241, 0.09228388006934504, 0.9036129923456703, 0.0019225808347780218, 0.030289260723610795, 0.7861439942355347, 0.1363016732562486, 0.04681067566376214, 0.0030102610421885567, 0.5960316863533343, 0.3823031523579467, 0.0173090009925842, 0.9958597139812037, 0.001864905831425475, 0.02302220249166895, 0.08057770872084133, 0.8932614566767553, 0.005820702568903934, 0.8579715586564398, 0.02793937233073888, 0.10593678675405159, 0.9811582912610896, 0.012419725205836576, 0.9866712874903557, 0.0685107811607634, 0.005709231763396949, 0.0014273079408492373, 0.9220409297886073, 0.057926588488652286, 0.000905102945135192, 0.006335720615946344, 0.37652282517623986, 0.5014270316048963, 0.057021485543517096, 0.9933861193124459, 0.192012774382228, 0.021074572798049414, 0.007024857599349805, 0.7633678591293455, 0.01404971519869961, 0.967511729367533, 0.058580049672894964, 0.007868961896359026, 0.08918156815873562, 0.6391345718042719, 0.20371868020573922, 0.008479179573258545, 0.48755282546236633, 0.1859362949278838, 0.31736357831339124, 0.009833281763776007, 0.5958240357606499, 0.36455981650147345, 0.02658628032428328, 0.00254936934616415, 0.9880332962024119, 0.0008491577822620379, 0.05349694028250839, 0.02080436566541993, 0.0033966311290481517, 0.8011803675642328, 0.12015582619007838, 0.0014107589251574175, 0.12696830326416755, 0.8520983907950801, 0.018339866027046427, 0.8053668577677673, 0.0016469669893001376, 0.19104817075881597, 0.23226384690324575, 0.0011113102722643338, 0.1611399894783284, 0.04445241089057335, 0.005556551361321669, 0.031116687623401345, 0.4900878300685712, 0.0022226205445286676, 0.028894067078872678, 0.0015675545371399702, 0.946802940432542, 0.014107990834259732, 0.010972881759979791, 0.0015675545371399702, 0.023513318057099553, 0.9850799992929661, 0.00032609829018517383, 0.014022226477962476, 0.12652613659184744, 0.6182823581910896, 0.17772356815091975, 0.00032609829018517383, 0.06195867513518303, 0.9933077025459692, 0.21015445942654817, 0.001439414105661289, 0.005757656422645156, 0.7312223656759348, 0.008636484633967734, 0.041743009064177376, 0.9846188575219478, 0.036069903561307466, 0.023187795146554797, 0.9403939142769445, 0.002147680711258912, 0.08805490916161539, 0.04896712021670319, 0.8603608929303201, 0.9914155957164379, 0.033993164444954586, 0.06798632888990917, 0.893820265111453, 0.06986292826251116, 0.9246564034744124, 0.9923188100955398, 0.9919427187804042, 0.9846772733712956, 0.045564754726079335, 0.12706790754596772, 0.15145467768105242, 0.07444382462289018, 0.5012123019868726, 0.09883059475797489, 0.0006417571088180188, 0.005939736344397467, 0.21878028868530672, 0.5731845572343556, 0.17324231004492613, 0.027718769607188182, 0.03833823300815516, 0.002129901833786398, 0.4550002792426192, 0.023695157900873676, 0.34584281026106634, 0.04259803667572796, 0.09211825431126171, 0.9934858753513771, 0.9279716960437328, 0.07036123017212852, 0.08100564063259806, 0.07461718316945941, 0.0628624214372843, 0.05775165546677338, 0.17376604299737122, 0.07001749379599959, 0.026575983046656777, 0.06030703845202884, 0.10195978111169282, 0.051618736302160274, 0.014565683015956118, 0.12828022585982404, 0.09633793854413082, 0.9851701982201573, 0.014687794230780921, 0.9971132380691353, 0.023014134765153058, 0.975543601433988, 0.9927941810855295, 0.006762065629684721, 0.9990079946348058, 0.00044578669997090843, 0.078044243269997, 0.0009575980769324786, 0.898705795201131, 0.021545956730980767, 0.2684593797377394, 0.07329948934818824, 0.48331850788961617, 0.000916243616852353, 0.0004581218084261765, 0.17133755635139, 0.000916243616852353, 0.000916243616852353, 0.0990967570592838, 0.2909156259869033, 0.30888053516139335, 0.004636105593416786, 0.26947363761735066, 0.026657607162146518, 0.9857116104133756, 0.007281409538631318, 0.01487940210068139, 0.6683067624369875, 0.020577896522218943, 0.2887237173579027, 0.705882234252853, 0.292749608779284, 0.27141300442050714, 0.6577611076517392, 0.03184948521261053, 0.03600376589251625, 0.8331647378246414, 0.003204479760864005, 0.16022398804320026, 0.992513499535855, 0.002756981943155153, 0.9984933843052267, 0.0272739977746085, 0.20579471048113687, 0.021075361916742932, 0.7450760301154413, 0.9930117748300623, 0.005547551814693085, 0.02175002429036314, 0.035645873142539586, 0.10935428879321467, 0.4017712820303191, 0.07370841565067508, 0.2567711200945648, 0.0833750931130587, 0.016312518217772354, 0.9727803188357108, 0.017903932248510016, 0.0011419483572016192, 0.06737495307489554, 0.0022838967144032385, 0.06737495307489554, 0.037684295787653435, 0.6771753758205603, 0.14217257047160162, 0.003996819250205667, 0.2602738840916048, 0.6041093836020932, 0.054109570640096784, 0.07191778376215396, 0.006849312739252758, 0.0020547938217758276, 0.0382119074870194, 0.08780608528932117, 0.0016260386164689106, 0.8609874474202882, 0.007317173774110098, 0.0032520772329378213, 0.046393008282519764, 0.007482743271374155, 0.002993097308549662, 0.9413291035388687, 0.001496548654274831, 0.0013347347744568617, 0.020021021616852926, 0.1081135167310058, 0.018686286842396062, 0.0013347347744568617, 0.8422176426822797, 0.008008408646741171, 0.9967940024057571, 0.0023909141178277376, 0.014345484706966427, 0.9802747883093724, 0.12005199865790049, 0.06853877741560137, 0.4631824384582997, 0.17811351073608508, 0.0013096581671770964, 0.07508706825148685, 0.033178006901819775, 0.0004365527223923654, 0.06024427569014643, 0.40137917447017357, 0.000706653476179883, 0.07207865457034807, 0.09327825885574456, 0.4317652739459085, 0.43359744766785646, 0.2267328971632457, 0.0031166033974329307, 0.058825889126546564, 0.07791508493582326, 0.19907304201102843, 0.06766379817752463, 0.8540268580784866, 0.07680755468800093, 0.9941388276441969, 0.8323883495496994, 0.16526471785230826, 0.029533015647132007, 0.9680266239893269, 0.9951488748131738, 0.9722286563785211, 0.004960350287645516, 0.014881050862936547, 0.9899131448534592, 0.9462062645459438, 0.0028672917107452844, 0.005734583421490569, 0.04300937566117927, 0.7441551037642968, 0.2555866861045458, 0.8274157104319245, 0.17172778895756924, 0.9897009338861742, 0.031144118200465584, 0.95923884057434, 0.10987188521526615, 0.21346537698965995, 0.6074345654044, 0.06749272948937778, 0.4375925363701344, 0.5622453903560493, 0.0026931721706620984, 0.9937805309743142, 0.9930403926560898, 0.9957189180579988, 0.0383874414088025, 0.0023992150880501563, 0.9572868201320123, 0.03258147680345747, 0.9448628273002667, 0.01861798674483284, 0.002327248343104105, 0.6369657845425327, 0.36286394386734994, 0.000165270782696435, 0.00033054156539287, 0.5984455041437912, 0.4007816480388549, 0.9913684336216264, 0.974042903214627, 0.02554063647078584, 0.987159448795358, 0.014123786766732496, 0.9498246600627603, 0.03177852022514811, 0.043483909181517275, 0.0009663090929226062, 0.24061096413772895, 0.0009663090929226062, 0.1565420730534622, 0.527604764735743, 0.028989272787678187, 0.8624321390405183, 0.0010647310358524917, 0.03939504832654219, 0.034071393147279735, 0.06175440007944452, 0.9944186268961575, 0.9871605858257366, 0.3868116183237752, 0.6109710013806625, 0.0013668255064444353, 0.001461964402117923, 0.7879988127415605, 0.13303876059273098, 0.021929466031768846, 0.01608160842329715, 0.001461964402117923, 0.03654911005294807, 0.057839220487517794, 0.25955947706381954, 0.059751260834212595, 0.15105118738888945, 0.09416798707471906, 0.2648175880172302, 0.04302090780063307, 0.03441672624050646, 0.03489473632718016, 0.9878144592374313, 0.007902515673899449, 0.005753345845648324, 0.9895754854515116, 0.9962330543619382, 0.001684069519547834, 0.99528508605277, 0.4397848023633255, 0.41844084468655013, 0.09480688177358372, 0.04516977089736188, 0.0009927422175244368, 0.9520135307294577, 0.011069924775923926, 0.022139849551847852, 0.6926918345732903, 0.12329161729497423, 0.000941157383931101, 0.05929291518765936, 0.10635078438421441, 0.015999675526828717, 0.000941157383931101, 0.09036560906321867, 0.31998314028943003, 0.06014497914699472, 0.07703297821782576, 0.000296280685453176, 0.03584996293983429, 0.12740069474486568, 0.09599494208682902, 0.1638432190556063, 0.029035507174411244, 0.5634745579460615, 0.0017719325721574262, 0.047842179448250505, 0.0008859662860787131, 0.004429831430393566, 0.06024570745335249, 0.0806229320331629, 0.08416679717747774, 0.0008859662860787131, 0.0026578988582361394, 0.11251771833199656, 0.03632461772922724, 0.0035438651443148524, 0.00040440519422268507, 0.6802095366825562, 0.08088103884453701, 0.2381946593971615, 0.027417673828233888, 0.9678438861366563, 0.006069840795740659, 0.0015174601989351648, 0.0015174601989351648, 0.09559999253291537, 0.8937840571728121, 0.04516001227297699, 0.9517054438268113, 0.9544652839043306, 0.019282126947562234, 0.009641063473781117, 0.0013092772564336841, 0.9963599921460337, 0.046165467692438816, 0.09925575553874345, 0.0023082733846219406, 0.020774460461597467, 0.8286701450792767, 0.0031272226203846887, 0.12039807088481053, 0.0844350107503866, 0.7317700931700172, 0.004690833930577033, 0.018763335722308132, 0.03439944882423158, 0.9984501177333971, 0.9767393653652544, 0.1428821289375043, 0.8520008429236368, 0.3680378316225034, 0.6309219970671488, 0.31692922146760266, 0.04681438173312301, 0.41967228934206735, 0.014500029740347834, 0.03728579076089443, 0.00041428656400993813, 0.04971438768119257, 0.11392880510273298, 0.9844335447786281, 0.010817951041523386, 0.0009160799535882448, 0.09344015526600097, 0.03847535805070628, 0.002748239860764734, 0.13649591308464848, 0.0009160799535882448, 0.7264514031954781, 0.9915945424641706, 0.6963013944394574, 0.008138587727214437, 0.13293026621116913, 0.1618674670190427, 0.1066893701130523, 0.345067929738585, 0.005633762118180979, 0.31865966980961163, 0.02007027754601974, 0.10880203090737017, 0.0003521101323863112, 0.07570367846305691, 0.019013947148860805, 0.0220278973985899, 0.939856955673169, 0.0073426324661966325, 0.0073426324661966325, 0.014685264932393265, 0.0010781194995100342, 0.05606221397452178, 0.2167020194015169, 0.5552315422476677, 0.17034288092258543, 0.843980671190817, 0.059108575375952606, 0.000748209814885476, 0.0037410490744273803, 0.09202980723091356, 0.08689614744582466, 0.2288265216073383, 0.6821347574497236, 0.1332662461383389, 0.06587592848883798, 0.04959624501171135, 0.09389212796110241, 0.2688040760176722, 0.3880622224198789, 0.9876460647009278, 0.9835516517584303, 0.9931805116471752, 0.9537902159736492, 0.044808936320909695, 0.9987242300888642, 0.8731659775358303, 0.12576692696740702, 0.000554039325847608, 0.9892150493550239, 0.1792920995266391, 0.020467134649159717, 0.0016373707719327774, 0.4789309507903374, 0.09906093170193303, 0.1318083471405886, 0.08841802168436998, 0.9186242518551454, 0.07540945351049701, 0.996919090244981, 0.9964449744450767, 0.0010979779142806895, 0.020495587733239538, 0.12773143069465354, 0.26754061844639465, 0.29864999268434755, 0.10613786504713331, 0.0666106601330285, 0.00036599263809356316, 0.09003418897101653, 0.021227573009426664, 0.004007361082533973, 0.9938255484684252, 0.9918295554065252, 0.9961151926066429, 0.005243306751639317, 0.9857416693081916, 0.0008694386836061617, 0.0008694386836061617, 0.9972461700962675, 0.9929980908783916, 0.9969844356115826, 0.4049880183267796, 0.002845349074895407, 0.41542096493472946, 0.15080350096945658, 0.024659691982426863, 0.9903046308168634, 0.0023067623625105827, 0.9872942911545294, 0.004613524725021165, 0.0023067623625105827, 0.9819902321548487, 0.011222745510341128, 0.9859907975182368, 0.005272678061594849, 0.0013724810116597355, 0.013724810116597356, 0.8166262019375427, 0.002744962023319471, 0.0013724810116597355, 0.16332524038750854, 0.9854656193134748, 0.019003592298035596, 0.4197558181124922, 0.5606059727920502, 0.8961050437976079, 0.018213517150357884, 0.025498924010501037, 0.0036427034300715766, 0.05464055145107365, 0.9960216328695153, 0.0027213705816106974, 0.10993725458309052, 0.38158454061688973, 0.32150255264706123, 0.1866376647573397, 0.1263144926685129, 0.11503641296596713, 0.6007457121556061, 0.15638937187530172, 0.0007518719801697198, 0.1875146075232194, 0.7774254268665367, 0.03344855161224995, 0.9957004493301548, 0.7610969727386004, 0.0016136331577496828, 0.2366661964699535, 0.9275497835150452, 0.06728340398554733, 0.0032039716183593966, 0.9883248533240022, 0.006816033471200016, 0.0834451093455202, 0.9091125070801411, 0.9794565777736365, 0.9968296620211113, 0.9945959236971865, 0.9939131536056444, 0.0010471256727007314, 0.11832520101518265, 0.06178041468934316, 0.6251340266023366, 0.1926711237769346, 0.0036172358602081555, 0.9694192105357857, 0.0036172358602081555, 0.018086179301040776, 0.5245879359314087, 0.1404975002083206, 0.2018752477396006, 0.057541638310574995, 0.0748041298037475, 0.009377838835874052, 0.9377838835874052, 0.018755677671748103, 0.028133516507622157, 0.9929925709324265, 0.09549751034176757, 0.028871340335883216, 0.8750236994106144, 0.29315237765763613, 0.0010857495468801338, 0.6416779822061591, 0.01411474410944174, 0.047772980062725894, 0.0010857495468801338, 0.5769051953231851, 0.01401142501840893, 0.4087680951022779, 0.005978024332231749, 0.07173629198678098, 0.9206157471636893, 0.3358270615972775, 0.00043332524077068066, 0.6634209436199121, 0.05855915819208845, 0.33941196294230214, 0.4141519411611519, 0.18762046078649391, 0.4228951753368566, 0.0008931260302784723, 0.06609132624060694, 0.08127446875534097, 0.10940793870911285, 0.08618666192187258, 0.12057201408759376, 0.05537381387726528, 0.051354746741012154, 0.005358756181670834, 0.0009976053414250394, 0.8389860921384581, 0.01596168546280063, 0.1416599584823556, 0.9894018173681818, 0.005406567308022851, 0.9950943090908301, 0.0739890517859777, 0.05184634285732744, 0.003780462500013459, 0.010261255357179389, 0.07830958035742165, 0.5568081196448394, 0.07722944821456067, 0.11827446964327822, 0.02862350178581619, 0.9996370471971838, 0.994244255639315, 0.15973875144648034, 0.07785101604792363, 0.026527012875588795, 0.06228081283833891, 0.20241264172460147, 0.02768036126148396, 0.4128987221504691, 0.02998705803327429, 0.23235987253964463, 0.02067609035310397, 0.01148671686283554, 0.0003281919103667297, 0.2057763277999395, 0.006563838207334594, 0.09714480546855199, 0.007876605848801512, 0.0872990481575501, 0.018706938890903593, 0.02330162563603781, 0.2090582469036068, 0.012799484504302457, 0.0662947658940794, 0.8642267904831116, 0.09746035816589438, 0.014677764784020237, 0.02348442365443238, 0.9841726632367296, 0.9982222824158647, 0.07522059160623223, 0.8575147443110475, 0.0018805147901558058, 0.0639375028652974, 0.997069202871826, 0.0006964341837367272, 0.13092962654250473, 0.0006964341837367272, 0.8663641245684887, 0.002065349956518429, 0.5989514873903444, 0.06609119860858972, 0.29844306871691295, 0.0010326749782592144, 0.03304559930429486, 0.0012080673931996687, 0.9960515656931269, 0.0018121010897995033, 0.015238958352000695, 0.8559214941040391, 0.01142921876400052, 0.0012699131960000579, 0.11556210083600527, 0.09360324462071919, 0.5139967643207913, 0.24714540904242524, 0.1445102723968998, 0.03002928702962254, 0.06662748059697501, 0.08727261542984051, 0.004692076098378522, 0.05818174361989367, 0.07695004801340775, 0.03753660878702818, 0.0018768304393514087, 0.596832079713748, 0.03941343922637958, 0.9946925734341087, 0.10688085198256, 0.02965081700161342, 0.0334433633622849, 0.038959794432352514, 0.10653607504068077, 0.11929282189021213, 0.2503080598043179, 0.0010343308256376773, 0.1965228568711587, 0.07826436580658426, 0.038959794432352514, 0.0465474347875019, 0.7645416163847187, 0.18735342501969515, 0.004935682019976335, 0.00987136403995267, 0.00987136403995267, 0.17439409803916384, 0.12010159581942415, 0.018097500739913227, 0.663026618016821, 0.06078340936522312, 0.8888965785570229, 0.012642949147966409, 0.0009725345498435699, 0.00583520729906142, 0.030148571045150667, 0.19332104772000902, 0.5671664780627215, 0.23856639931405368, 0.9814564868200473, 0.9803488929362285, 0.01374320877947984, 0.5468840232101276, 0.4528684131594355, 0.0008191140298618436, 0.3636866292586585, 0.6348133731429287, 0.0004095570149309218, 0.9957004493301548, 0.9936141970929855, 0.007249824162355711, 0.9859760860803767, 0.977972298127914, 0.9925548227786279, 0.47235842983775406, 0.03197185878814493, 0.49401678579101355, 0.0010313502834885461, 0.0005557470624647179, 0.03334482374788307, 0.03612355906020666, 0.13171205380413814, 0.23897123685982868, 0.011670688311759075, 0.5474108565277471, 0.9892480570033039, 0.00968966216612949, 0.41783713926138877, 0.2835998682769607, 0.2096275693013868, 0.07893529667042072, 0.9791521298439774, 0.9946140458084076, 0.996583232797213, 0.0012892409221179986, 0.9930428230319325, 0.00935510561450168, 0.9822860895226764, 0.004749048241136813, 0.0031660321607578754, 0.2232052673334302, 0.08548286834046263, 0.6822799306433222, 0.9710712243709002, 0.044618086383821094, 0.12025409378313277, 0.04485668577624794, 0.24337138027538777, 0.035789908864027616, 0.047242679700516446, 0.0021473945318416566, 0.07253421529776263, 0.13791044882271974, 0.08661157945094683, 0.16487218016695387, 0.9759489175985622, 0.02306117480147831, 0.002220733875297021, 0.062180548508316585, 0.05884944769537105, 0.1399062341437123, 0.7350629127233139, 0.9894771524326171, 0.23004125475374665, 0.10273687105507132, 0.6666729567377997, 0.17680722392050316, 0.08794556215734872, 0.38567793404420636, 0.00045804980290285795, 0.34811785020617203, 0.8836527089440095, 0.027351155276838388, 0.07784559578792465, 0.008415740085181042, 0.0003166691314994714, 0.005383375235491014, 0.028183552703452956, 0.10070078381683191, 0.058267120195902744, 0.07473391503387526, 0.06016713498489957, 0.14883449180475158, 0.030716905755448727, 0.006966720892988372, 0.32490252891845767, 0.04053364883193234, 0.12001760083829967, 0.0852243812971444, 0.19898203562769398, 0.08222087887257544, 0.030035024245689657, 0.02665608401804957, 0.09348401296470905, 0.02703152182112069, 0.0690805557650862, 0.016894701138200432, 0.07959281425107759, 0.04430166076239224, 0.05481391924838362, 0.19147327956627155, 0.9849344937468134, 0.006283424687973524, 0.19743181782737862, 0.07870816188093151, 0.055889409066711866, 0.008267664063123058, 0.07242473719295799, 0.04497609250338944, 0.43157206409502363, 0.04927527781621342, 0.021826633126644873, 0.019511687188970415, 0.013558969063521815, 0.23559203907632711, 0.4917616359329395, 0.27212770289030297, 0.024317194111801693, 0.26454159654960024, 0.07884665969584186, 0.03168604081234766, 0.5983503520843325, 0.0007368846700545967, 0.04774282504803328, 0.2677008404479009, 0.05854179738032652, 0.26088043686961043, 0.12532491575108737, 0.007957137508005547, 0.021313761182157713, 0.034954568338738654, 0.13214531932937784, 0.008809687955291856, 0.03467038485630988, 0.028222021017154805, 0.05713802615768227, 0.035855846374254055, 0.1348642479754201, 0.1691007980618046, 0.14111010508577404, 0.08119614243460112, 0.023364132153546192, 0.03539319029200562, 0.13417026385204744, 0.0855913752159613, 0.07379364511862609, 0.0037984839765880774, 0.9724118980065478, 0.01519393590635231, 0.0037984839765880774, 0.006016003864200942, 0.989632635661055, 0.015273064583403275, 0.06872879062531474, 0.04497069016224298, 0.047516200926143524, 0.20830763084586132, 0.48322279334712026, 0.023333848669088338, 0.1081842074657732, 0.06268486239651046, 0.03550293091483778, 0.05325439637225667, 0.3411609767597693, 0.17640518798310023, 0.32673791107561645, 0.0038831330688103823, 0.40246246550546133, 0.006205368410877157, 0.043215958575751626, 0.08687515775228019, 0.06870229312042567, 0.0456537818800248, 0.08798325925422254, 0.19347452223913422, 0.06559960891498709, 0.9648938630318206, 0.025062178260566767, 0.9890709767366763, 0.06109454803907145, 0.09164182205860717, 0.8463391801883133, 0.09441227460210598, 0.21750675920991505, 0.05975460417854809, 0.03943803875784174, 0.044218407092125586, 0.0035852762507128854, 0.0011950920835709618, 0.5389865296905038, 0.0006744146335796552, 0.2808936948859264, 0.021244060957759138, 0.0451857804498369, 0.021581268274548968, 0.2711146826990214, 0.16927807302849346, 0.029337036560715003, 0.0003372073167898276, 0.036081182896511556, 0.12442949989544638, 0.7655109114526547, 0.0006198468918644978, 0.03533127283627637, 0.11529152188679659, 0.0037190813511869866, 0.07872055526679121, 0.16604520979628065, 0.28146688002052456, 0.03982385113000227, 0.46843648617324707, 0.043873734295765215, 0.825530824044995, 0.17240001144714756, 0.0011051282785073562, 0.0023849994263193596, 0.9826197636435763, 0.011924997131596799, 0.01026497650358405, 0.0068433176690560335, 0.9785944266750127, 0.002289726849031885, 0.011448634245159423, 0.9754236376875829, 0.00915890739612754, 0.03160817175685349, 0.08753032178820966, 0.8801660135369972, 0.955731189975157, 0.03914257433345353, 0.0032618811944544607, 0.9837696041907436, 0.991096263197446, 0.45964026563001753, 0.15265628216075736, 0.3872121025610451, 0.991356271991215, 0.977698643452858, 0.008309053627078114, 0.005539369084718742, 0.002769684542359371, 0.002769684542359371, 0.00041927699152712896, 0.012997586737340997, 0.00041927699152712896, 0.5823757412311821, 0.11236623372927056, 0.054086731906999634, 0.23689150021282787, 0.9873967239207609, 0.005912555233058449, 0.9973645890791445, 0.18405915196567116, 0.8101289681408738, 0.001343497459603439, 0.001343497459603439, 0.001343497459603439, 0.6640011013495574, 0.14135597675788897, 0.006509814719113307, 0.07997772369196349, 0.0037198941252076043, 0.10322706197451102, 0.9992805188403268, 0.9889845604488889, 0.009101084912106339, 0.01536990853930119, 0.002561651423216865, 0.9426877237438064, 0.03586311992503611, 0.9983066517074298, 0.9983573871335386, 0.9976261660983665, 0.9938706498558971, 0.9518366233489227, 0.04261955029920549, 0.9964248687005205, 0.9169444183001669, 0.07712616602524769, 0.975429683812652, 0.009470191104977205, 0.11939319814244809, 0.8438593325500189, 0.035375762412577214, 0.9944887274342491, 0.25155814608840205, 0.002307872899893597, 0.7431350737657382, 0.30431345324890685, 0.16193386568465928, 0.2838425683416009, 0.0036664271475771912, 0.24595615448330324, 0.0949789748626989, 0.8936658089353942, 0.004317226130122677, 0.9111271836674798, 0.08363003135112133, 0.7729457456047958, 0.22539507751067683, 0.9939865688399103, 0.9944895140183241, 0.006398384600733123, 0.9213673825055697, 0.07038223060806435, 0.7356969183456723, 0.11458147636152921, 0.08244276957719784, 0.06637341618503216, 0.057781949264767735, 0.26689757517535573, 0.06800188586942053, 0.0027515213935603686, 0.012185309028624488, 0.08962098253310914, 0.034197480177107435, 0.1662705070680051, 0.06957418380859788, 0.16784280500718246, 0.04677586369052626, 0.003930744847943384, 0.014150681452596181, 0.0018992970867623645, 0.018992970867623644, 0.08166977473078167, 0.07027399221020748, 0.8261942327416285, 0.0025765688510332495, 0.9945555764988344, 0.533749758019566, 0.062009163064037816, 0.21036019874888778, 0.12480325224281029, 0.06828857198191506, 0.019375798781968216, 0.033154144582478944, 0.08482294133439419, 0.03875159756393643, 0.015500639025574572, 0.11324077954794758, 0.07793376843413882, 0.05296051667071312, 0.04951593022058544, 0.22906499893349092, 0.14381148429283075, 0.00043057330626596036, 0.13003313849232004, 0.01119490596291497, 0.0017954420371063709, 0.2926570520483385, 0.5251667958536135, 0.1732601565807648, 0.0017954420371063709, 0.004488605092765927, 0.003236862967694252, 0.18935648361011373, 0.001618431483847126, 0.7590443659243021, 0.03236862967694252, 0.00809215741923563, 0.004855294451541378, 0.0853188394553782, 0.05875249423573948, 0.22734660812960059, 0.08020992691313998, 0.05415447294772508, 0.04240397410057719, 0.0051089125422382154, 0.048534669151263046, 0.06437229803220151, 0.0403604090836819, 0.29376247117869736, 0.9778179447890278, 0.008081140039578742, 0.004230526967125867, 0.12008188083611117, 0.7855763152801419, 0.08981734176359535, 0.7787834196493162, 0.21965686195237122, 0.010871582938531462, 0.8204421257611743, 0.04203678736232165, 0.12611036208696497, 0.14265466931689838, 0.07087010815422837, 0.008687303580195736, 0.018289060168833127, 0.04755155643896613, 0.14402634882956086, 0.035663667329224595, 0.4631704487756989, 0.0667550696162409, 0.002286132521104141, 0.16146790410074485, 0.00038262536516764183, 0.46909869769552887, 0.11937911393230424, 0.09029958617956346, 0.015305014606705672, 0.14310188657269804, 0.6804435313931891, 0.31887622597939463, 0.02672658357811024, 0.12491772759334133, 0.06507342088583362, 0.016558861564698733, 0.004067088805364601, 0.0005810126864806574, 0.06914050969119823, 0.24983545518668265, 0.04619050857521226, 0.04415696417252996, 0.3079367238347484, 0.03834683730772338, 0.00668164589452756, 0.7804310936817153, 0.0010809294926339547, 0.21726682801942487, 0.7976319822167879, 0.0019082104837722198, 0.19845389031231087, 0.0011071699927517541, 0.033768684778928505, 0.20980871362645742, 0.21479097859384033, 0.07473397451074341, 0.0033215099782552627, 0.03266151478617675, 0.012732454916645174, 0.012178869920269297, 0.08414491944913333, 0.319972127905257, 0.0005535849963758771, 0.6811167427320374, 0.11512878421315789, 0.04605151368526316, 0.025254055891918505, 0.002228299049286927, 0.12924134485864178, 0.8541275662149656, 0.006350390826877067, 0.047627931201578, 0.04445273578813947, 0.04127754037470093, 0.9963799093279184, 0.04655058442667127, 0.011990302049294113, 0.09239585696808994, 0.2602600856582075, 0.015516861475557088, 0.3582984377083182, 0.06488869344323873, 0.10650209467314183, 0.007758430737778544, 0.036676218033134936, 0.07380274200811342, 0.9151540009006063, 0.004920182800540894, 0.5291467487998303, 0.03178316510648331, 0.011167058010386028, 0.22677717805707012, 0.08246442838438914, 0.11854261580255937, 0.005812289055406441, 0.15693180449597388, 0.8340634794508242, 0.03065687151459474, 0.2669262088770749, 0.04360675689575976, 0.1152275515548561, 0.10650620017570414, 0.13980590544155705, 0.05127097477440845, 0.08932778079252605, 0.03092115488972056, 0.009514201504529403, 0.11602040168023355, 0.46521263430147936, 0.06225893990651769, 0.0005764716658010897, 0.0893531081991689, 0.14181202978706806, 0.05937658157751224, 0.08012956154635147, 0.031129469953258843, 0.05764716658010897, 0.0040353016606076274, 0.008070603321215255, 0.3060826035517315, 0.42948077029893855, 0.09858065835112073, 0.047566891092498814, 0.11719378964818548, 0.9701093942356939, 0.0044297232613502, 0.0177188930454008, 0.019977646305758788, 0.840934049183034, 0.03183937379980307, 0.01685613907048398, 0.04557400563501224, 0.04432540274090231, 0.022936569540907392, 0.07975670772179162, 0.06933099429410644, 0.09383142084916661, 0.006776713727995366, 0.1866202703555647, 0.03231971162582405, 0.0698522799654907, 0.046915710424583305, 0.11103384800484715, 0.022415283869523135, 0.25803640733520816, 0.9892150493550239, 0.8359172027671147, 0.11921870553560839, 0.030497808392830054, 0.012476376160703203, 0.029690400845794145, 0.0314368950131938, 0.034929883347993115, 0.054141319189389324, 0.847049671188833, 0.8843182319117251, 0.10174322898313233, 0.0016957204830522054, 0.012152663461874139, 0.8641576764493685, 0.1321406155735685, 0.002097470088469341, 0.9691810901002968, 0.9964265645392095, 0.0028377293266673314, 0.0539168572066793, 0.9392884071268868, 0.12824107954391945, 0.022663294229744384, 0.5897984132472501, 0.12105515698326878, 0.1376380552001549, 0.09788268303915224, 0.9003055571842903, 0.9930827761754645, 0.9927237647591096, 0.18732587401824566, 0.2116973525257215, 0.07359230765002509, 0.021982117869488012, 0.07837102892600074, 0.0004778721275975655, 0.040619130845793064, 0.3856428069712353, 0.08591164423515808, 0.10189520595332703, 0.36762191951788575, 0.0219773973624823, 0.03762796821152273, 0.020312443016839703, 0.15950262631256096, 0.011321689550369671, 0.19346769496366995, 0.0003329908691285197, 0.0026275905129967726, 0.013137952564983863, 0.04204144820794836, 0.9406774036528446, 0.004022247526067766, 0.004022247526067766, 0.9774061488344673, 0.008044495052135532, 0.020199343328813728, 0.9123370070180867, 0.06396458720791014, 0.05327359710790878, 0.9304295680939417, 0.014867050355695473, 0.11429735047378799, 0.8850458554386238, 0.03042180653601042, 0.000142825382798171, 0.40419583331882386, 0.32764142813900426, 0.12425808303440876, 0.000142825382798171, 0.051131487041745215, 0.04356174175344215, 0.018281648998165888, 0.000285650765596342, 0.8628714715455897, 0.09995138746642461, 0.035425808215947964, 0.015013557158318437, 0.1432722311679531, 0.047185465354715087, 0.36247016567940227, 0.4315325286076671, 0.9876182088435018, 0.06984093497865504, 0.21439542830656896, 0.6561799472413171, 0.016242077902012802, 0.040605194755032, 0.9948430889582061, 0.9910505707925279, 0.16967468569350552, 0.05271684598858914, 0.2285213974947213, 0.45287448623685644, 0.09587110130948072, 0.9832379036784202, 0.010136473233798146, 0.9947197356413812, 0.5658968762480091, 0.0005858145716853096, 0.05799564259684565, 0.37492132587859817, 0.06554194457265194, 0.8520452794444753, 0.0018206095714625539, 0.005461828714387662, 0.07282438285850215, 0.9982973192177531, 0.0006695488391802502, 0.0013721964519470523, 0.11526450196355238, 0.8823223186019545, 0.9932851052425937, 0.9863570477366009, 0.15004249639452383, 0.6935926720124215, 0.1557044773905436, 0.002563655461192523, 0.994698318942699, 0.0005830650972085856, 0.2343921690778514, 0.7643983424404557, 0.002721537936516164, 0.9906398088918836, 0.002721537936516164, 0.9796670446333334, 0.9822819289762763, 0.055016918113361485, 0.14585336163669874, 0.0678932180973397, 0.04518410721650539, 0.19969970702424403, 0.10535154532345815, 0.037224212680955215, 0.015451559980773863, 0.07796014353935904, 0.09903045260405068, 0.0278596308744256, 0.1236124798461909, 0.005905928852372258, 0.6083106717943426, 0.332044444366707, 0.05315335967135033, 0.04192859847203656, 0.11969938596049146, 0.07371318118470943, 0.0003381338586454561, 0.19544137029707362, 0.03719472445100017, 0.05714462211108208, 0.277269764089274, 0.1971320395903009, 0.19374719006651608, 0.15719111646906023, 0.021933644158473518, 0.11489051702057558, 0.06971765464657655, 0.28618183330579733, 0.05065627341361741, 0.10575149862121161, 0.909449533597186, 0.0842082901478876, 0.13706298706977507, 0.8365568521155237, 0.023631549494788805, 0.9892221298615942, 0.9854230660734293, 0.013417258085719915, 0.9906537248576152, 0.9859125823597822, 0.8464393494903862, 0.1520848315726467, 0.09365458188823843, 0.004568516189670167, 0.7972060750974441, 0.0022842580948350833, 0.10164948522016122, 0.0028459985367707834, 0.01375565959439212, 0.18404123871117734, 0.0687782979719606, 0.4359121092153917, 0.023716654473089863, 0.07921362594012014, 0.022767988294166267, 0.02229365520470447, 0.003794664715694378, 0.027985652278246037, 0.04174131187263816, 0.07352162886657858, 0.14160931372224964, 0.09323346120843765, 0.10730643648518295, 0.25771135975539844, 0.08443785166047184, 0.036941560101456425, 0.019790121482923088, 0.2581511402327967, 0.0004397804773982908, 0.0031447838409704946, 0.1251623968706257, 0.16730250033963032, 0.0018868703045822968, 0.0018868703045822968, 0.0018868703045822968, 0.6981420126954498, 0.01851502838564945, 0.30940669657796416, 0.16745814562131836, 0.3558999900797061, 0.00020572253761832722, 0.14832594962281392, 0.0625194501856325, 0.257655915916546, 0.0009472643967520075, 0.6782413080744374, 0.9968260416319303, 0.9936141970929855, 0.0014462730382211045, 0.9979283963725621, 0.995374524452469, 0.9906391689654892, 0.991620039796653, 0.0006015626682167348, 0.14918754171775023, 0.14076566436271595, 0.0024062506728669392, 0.08722658689142655, 0.5708829721376814, 0.04752345078912205, 0.9907443044651644, 0.9865601058755592, 0.00302497717673204, 0.00907493153019612, 0.00302497717673204, 0.9710176737309848, 0.00907493153019612, 0.9959540752800735, 0.006923719058999001, 0.9900918254368571, 0.00843584934389791, 0.9869943732360555, 0.627557872173145, 0.15417779822525413, 0.21770834824772065, 0.9359292069954908, 0.06122901354176107, 0.05933677542637565, 0.07664333492573522, 0.07776713749062869, 0.07664333492573522, 0.0937251339121161, 0.11125645392445435, 0.09979366776254087, 0.09417465493807348, 0.05394252311488696, 0.10631172263892305, 0.04382830003084565, 0.032815034894889565, 0.040456892336165215, 0.021352248732976087, 0.011687546674892173, 0.14950986297113517, 0.014872708881945383, 0.6583130615640036, 0.00782774151681336, 0.14950986297113517, 0.005479419061769352, 0.013307160578582711, 0.9970915539214705, 0.0013228972637158835, 0.9981259854736342, 0.9980542503631197, 0.06873900575018302, 0.2094141803086971, 0.6223810753194866, 0.07300188982771375, 0.0015985815290740237, 0.024511583445801698, 0.9984546337598261, 0.998012751861958, 0.17799005335847393, 0.5536239961950601, 0.21078739238312028, 0.05245117514428459, 0.005159131981405041, 0.003888732749624899, 0.38304017583805255, 0.0019443663748124494, 0.46178701401795674, 0.025276762872561843, 0.12346726480059055, 0.9964061720411196, 0.006149831507827739, 0.9839730412524382, 0.9878046781176575, 0.9803713367484759, 0.8277276245556383, 0.0814158319235054, 0.0407079159617527, 0.04749256862204482, 0.9930007788994922, 0.17660195147781801, 0.007794844754883003, 0.07283308067843805, 0.609946602069595, 0.07697409195446965, 0.00024358889859009384, 0.012423033828094785, 0.033858856904023044, 0.009012789247833471, 0.011826210007759937, 0.9815754306440747, 0.0005944159137319925, 0.0007925545516426566, 0.19457214242827217, 0.4018251576828269, 0.40142888040700553, 0.0005944159137319925, 0.13296480735033453, 0.36229435312878605, 0.49803891254916244, 0.00046329201167363945, 0.005559504140083674, 0.009835558544234953, 0.5062724345400939, 0.48116587720349413, 0.0025883048800618294, 0.001157068205447279, 0.1897591856933538, 0.27711783520462335, 0.5310943063003011, 0.8880382051999024, 0.11032495637654081, 0.007137759180558942, 0.9850107669171341, 0.08960106913361762, 0.002581100756935487, 0.09937237914201624, 0.022676813793076064, 0.12223355727487342, 0.031341937762788055, 0.0007374573591244248, 0.6111677863743671, 0.019542620016797258, 0.0003687286795622124, 0.9969840123403587, 0.07551760934133446, 0.000680338822894905, 0.8905635191694307, 0.0047623717602643355, 0.027893891738691105, 0.7403103722566302, 0.12253913115707199, 0.0007250836163140355, 0.13559063625072462, 0.5543445988536003, 0.3297762907438326, 0.012283165485195383, 0.10333880527762203, 0.9970234220755902, 0.0015210120855462857, 0.0007605060427731429, 0.004284180834733909, 0.12852542504201725, 0.004284180834733909, 0.8568361669467818, 0.004284180834733909, 0.9733783903338228, 0.9884165562261068, 0.004576002575120865, 0.9938633626181506, 0.9908079649102829, 0.022635676516827873, 0.44201302871042064, 0.043213564259398665, 0.0012346732645542476, 0.1349909435912644, 0.10741657401621954, 0.03580552467207318, 0.017285425703759467, 0.06132210547286096, 0.0362170824269246, 0.09671607239008273, 0.003917917627584368, 0.019589588137921842, 0.9716435716409233, 0.45090466605802554, 0.18085632113925865, 0.1310304997528383, 0.16336023118677517, 0.040887601519390755, 0.000760699563151456, 0.03232973143393688, 0.9371707125221546, 0.062173276538055135, 0.871614536008245, 0.08074903058387012, 0.04591611543004379, 0.0007916571625869619, 0.9975425736656804, 0.0010369465422720172, 0.002263359264460396, 0.9936147170981137, 0.996276930294249, 0.0006481957906924196, 0.001944587372077259, 0.010590373976255653, 0.9240101294283057, 0.06486604060456587, 0.04728000947559937, 0.057546525818872374, 0.049171209854623345, 0.06349029843866201, 0.19047089531598602, 0.18776918048880892, 0.08186195926346633, 0.013778745618603244, 0.11293167977600306, 0.042146751303962865, 0.15345740218365966, 0.05336278364568315, 0.012936432398953491, 0.9265719705750438, 0.006468216199476746, 0.4147530700192698, 0.507469034084424, 0.04169475307072024, 0.0005486151719831611, 0.03511137100692231, 0.05457541487896247, 0.30796126967414533, 0.005197658559901187, 0.6289166857480436, 0.0012994146399752968, 0.0012994146399752968, 0.9839742699201671, 0.014719983324467402, 0.030927939647110495, 0.6556723205187425, 0.21413916308046982, 0.024447799911525438, 0.07452160695922815, 0.22532498381148938, 0.0017005659155584104, 0.7720569256635184, 0.03445592655429849, 0.8653738476906505, 0.09806686788531109, 0.9670036354855607, 0.9949684053322094, 0.0017641283782485982, 0.051431741617562005, 0.05814022965463531, 0.011180813395122176, 0.06037639233365975, 0.8161993778439188, 0.008829856385363134, 0.0724048223599777, 0.577472607602749, 0.21279953888725153, 0.0008829856385363134, 0.0052979138312178806, 0.06092600905900562, 0.004414928192681567, 0.05739406650486037, 0.04705605110372959, 0.949425031092897, 0.9907458359997592, 0.11474377675426405, 0.0005914627667745569, 0.06535663572858853, 0.1194754788884605, 0.3752831255184564, 0.09552123683409094, 0.20642050560432038, 0.02247558513743316, 0.11055113236469759, 0.10495360667534581, 0.5751457645808951, 0.20850783192835368, 0.49181415551663066, 0.23465976858849633, 0.24846328438781964, 0.024539583643241446, 0.9985441924960732, 0.27189547694513294, 0.07119792627515832, 0.03815134162668861, 0.0037613998786876096, 0.0056420998180314146, 0.10666255370278437, 0.05292826972153279, 0.10128912530465921, 0.0943036683870965, 0.037882670206782355, 0.046211484223876345, 0.16980033738075495, 0.6758052866120273, 0.0005820889634901182, 0.1717162442295849, 0.002910444817450591, 0.14843268568998016, 0.9961325619732415, 0.996052915976084, 0.9935414344274722, 0.9959052929840807, 0.8598145228626977, 0.10429017123671534, 0.03476339041223845, 0.033714510934268124, 0.1442231856632581, 0.003746056770474236, 0.7567034676357957, 0.05993690832758777, 0.001873028385237118, 0.1040178722009303, 0.35656781518659514, 0.03225008264745001, 0.08221499942518945, 0.0436057455514817, 0.11037704342718806, 0.03406698871209508, 0.13172568968676762, 0.021348646259579582, 0.03542966826057888, 0.03951770690603029, 0.008630303807064086, 0.006015237506913323, 0.9804837136268716, 0.006015237506913323, 0.9957241958380963, 0.0015631463042984244, 0.9960713834473727, 0.0014075129150504168, 0.9880740663653926, 0.008445077490302502, 0.9794565777736365, 0.9966680904017691, 0.08435823032013247, 0.9143343673407907, 0.9966217691336604, 0.08944058176481763, 0.024392885935859355, 0.8835645350100166, 0.0013551603297699642, 0.0010844290385450465, 0.7775356206367984, 0.0010844290385450465, 0.004337716154180186, 0.021688580770900932, 0.040123874426166724, 0.09976747154614428, 0.047714877695982046, 0.005422145192725233, 0.27641866442736507, 0.07842831153395477, 0.09159110507811502, 0.0005484497310066767, 0.0005484497310066767, 0.0016453491930200302, 0.5500950801996968, 0.9859510449500687, 0.0046397696232944406, 0.0004639769623294441, 0.0004639769623294441, 0.0004639769623294441, 0.0004639769623294441, 0.007423631397271106, 0.13853808761042663, 0.1269932469762244, 0.1762512336821539, 0.5572309746108272, 0.0041362813345009524, 0.15304240937653524, 0.0020681406672504762, 0.8396651109036932, 0.2097801327544132, 0.001198743615739504, 0.001198743615739504, 0.7863758119251146, 0.12831024360954976, 0.022247340625849352, 0.24627288692800678, 0.10244124288181794, 0.05225538147001824, 0.006208560174655633, 0.000517380014554636, 0.019143060538521536, 0.0631203617756656, 0.041390401164370885, 0.3062889686163446, 0.011382360320201994, 0.13762660864700105, 0.1066606217014258, 0.06107180758710671, 0.018063492384918885, 0.1462282716874386, 0.10020937442109763, 0.006881330432350052, 0.40427816290056556, 0.019353741840984522, 0.8921900987903025, 0.08434570261673029, 0.02061783841742296, 0.11352748368343535, 0.12314273861650492, 0.07135531292435833, 0.0013495094642904648, 0.0021929528794720054, 0.013495094642904647, 0.10812944582627348, 0.04757020861623888, 0.14102373901835358, 0.13680652194244586, 0.0016868868303630809, 0.23987530727763012, 0.025157222352450853, 0.004337452129732905, 0.05812185853842094, 0.27586195545101283, 0.01561482766703846, 0.0008674904259465811, 0.042507030871382474, 0.5786161141063696, 0.036769226107507755, 0.5438781361735523, 0.05362178807344881, 0.36539418444335836, 0.13078163389374978, 0.8657744163766236, 0.5929079898195403, 0.023450838403310175, 0.1389351558233848, 0.019468620561238638, 0.04867155140309659, 0.022123432455952996, 0.1535366212443138, 0.1388153990622562, 0.09091835021226284, 0.03986640592903639, 0.10353793194519523, 0.06596599542214654, 0.05592769177095033, 0.035851084468557906, 0.32610146432600273, 0.1279166693838146, 0.015200859814668552, 0.2629986034903779, 0.060499678749687695, 0.02349987521682084, 0.09049951945201216, 0.05349971591914532, 0.41899777514246517, 0.026499859287053288, 0.03849979556798308, 0.024999867251937063, 0.9980340270957776, 0.9767393653652544, 0.7634441817453196, 0.08789231336059562, 0.14819798822115027, 0.003793434686880569, 0.9900864532758286, 0.8468267539033782, 0.008116550356901389, 0.002705516785633796, 0.06763791964084491, 0.008116550356901389, 0.06222688606957732, 0.9964265645392095, 0.5394376382992128, 0.03177835866269295, 0.05084537386030872, 0.03416173556239492, 0.13982477811584898, 0.10486858358688673, 0.04528416109433745, 0.05322875076001069, 0.03256920286937758, 0.8923961586209458, 0.07165224631263069, 0.2996521619590695, 0.6186604324993055, 0.00024501403267299224, 0.07815947642268453, 0.003185182424748899, 0.01619086742976353, 0.008095433714881766, 0.18484573648980032, 0.0013492389524802945, 0.7879555482484919, 0.0015639033465402127, 0.2736830856445372, 0.7225233461015782, 0.052987405854123794, 0.9444225866940887, 0.00019109851012564188, 0.044143755839023274, 0.5916409873489873, 0.31129947299467065, 0.05255209028455152, 0.1413529479723021, 0.07935604096690645, 0.008679566980755393, 0.11159443260971219, 0.6236888844742804, 0.03347832978291366, 0.9877424433109707, 0.6871610710804597, 0.21514354722087267, 0.09644365909901188, 0.9288100637774308, 0.0013118786211545632, 0.031485086907709514, 0.0013118786211545632, 0.0354207227711732, 0.977972298127914, 0.9876259642057488, 0.0013041369237425542, 0.050861340025959614, 0.013041369237425542, 0.11606818621308733, 0.108243364670632, 0.0769440785008107, 0.07303166772958303, 0.5594747402855558, 0.0021300671573826328, 0.013490425330090008, 0.04473141030503529, 0.0518316341629774, 0.08662273106689374, 0.6283698114278766, 0.01562049248747264, 0.050411589391388976, 0.07384232812259793, 0.02343073873120896, 0.008520268629530531, 0.25901042400689844, 0.00342304525119249, 0.08215308602861976, 0.02852537709327075, 0.00114101508373083, 0.08785816144727392, 0.5374181044372209, 0.17473797036283484, 0.16545984804268432, 0.6587466847306871, 0.021903032047600676, 0.002920404273013423, 0.03504485127616108, 0.004380606409520135, 0.20880890552045978, 0.7271806639803424, 0.021714411452741812, 0.0008923730734003484, 0.06722543819615957, 0.026176276819743553, 0.08447798428189965, 0.15438054169826027, 0.08893984964890139, 0.19632207614807665, 0.05770679207988919, 0.02290424221727561, 0.09459154578043692, 0.041346619067549474, 0.04789068827248536, 0.09548391885383728, 0.06992455328755406, 0.0065554268707081935, 0.8055891243336958, 0.013110853741416387, 0.09468949924356279, 0.008012188397532236, 0.001456761526824043, 0.9924723040441281, 0.0028767313160699367, 0.0024912941333463984, 0.9915350650718665, 0.0024912941333463984, 0.0024912941333463984, 0.016422813665790247, 0.8293520901224075, 0.1519110264085598, 0.8812084271198163, 0.009441518861998031, 0.1070038804359777, 0.00894937663119628, 0.038283444477895195, 0.0024859379531100775, 0.05369625978717767, 0.000994375181244031, 0.06314282400899597, 0.8317948391106319, 0.0004971875906220156, 0.0868083406395729, 0.002612288028505666, 0.014468056773262152, 0.061891131752288095, 0.05907789849082045, 0.6832137920707128, 0.014267111540300177, 0.018888851898425586, 0.02290775655766507, 0.03576825146723143, 0.9883974097464059, 0.14220737087728771, 0.14011608601144526, 0.07371779152094694, 0.0036597485152243163, 0.25618239606570214, 0.03241491542055823, 0.035029021502861316, 0.0036597485152243163, 0.034506200286400696, 0.02614106082303083, 0.09463064017937162, 0.15789200737110623, 0.011383415495598691, 0.9827682044533537, 0.9957153914974476, 0.004714736591757413, 0.9900946842690567, 0.6898426900123007, 0.0015822080046153685, 0.0015822080046153685, 0.0015822080046153685, 0.30378393688615074, 0.9891838324500587, 0.000823387021907566, 0.9604809610551758, 0.037464109496794254, 0.000823387021907566, 0.009442180306866183, 0.9552339077112956, 0.011015877024677214, 0.02360545076716546, 0.805337753633295, 0.003807743515996666, 0.003807743515996666, 0.09519358789991665, 0.022846461095979997, 0.06663551152994165, 0.9945926422616546, 0.9884654413120991, 0.9883998166830976, 0.004118332569512907, 0.989955563257732, 0.04643195532692099, 0.04213270020405793, 0.06921800747809517, 0.16165199261965083, 0.059329720695510145, 0.08813473001869261, 0.18572782130768395, 0.04514217879006207, 0.03869329610576749, 0.05503046557264709, 0.2080839479465718, 0.9927904503003584, 0.006220371562318223, 0.9828187068462793, 0.9871434104501134, 0.011290856001880383, 0.005287260361744322, 0.17095475169639973, 0.0035248402411628813, 0.667957225700366, 0.07049680482325762, 0.02114904144697729, 0.059922284099768984, 0.998533340560025, 0.9513122901920955, 0.0032030716841484697, 0.04324146773600434, 0.5660207103121404, 0.03423512360758914, 0.021111659558013304, 0.000570585393459819, 0.3777275304704002, 0.9978915497025472, 0.9911524036229176, 0.05311364358158959, 0.13827862380724187, 0.0018315049510892964, 0.023809564364160853, 0.17765598025566176, 0.13919437628278652, 0.43772968331034184, 0.0027472574266339447, 0.01923080198643761, 0.004578762377723241, 0.0009157524755446482, 0.011575039593043021, 0.18983064932590554, 0.7882601962862298, 0.001157503959304302, 0.009260031674434416, 0.987335086749707, 0.10299801221545922, 0.19199629461522497, 0.7029864328880372, 0.0009999807011209633, 0.9696486038533573, 0.06211738837681854, 0.2709501321579323, 0.3082205651840234, 0.05146869322650679, 0.30703737683398874, 0.09355217889364607, 0.03178957535220983, 0.012715830140883932, 0.06993706577486163, 0.07175361293784505, 0.09809354680110462, 0.10081836754557975, 0.005449641488950257, 0.5149911207057992, 0.8922612758709006, 0.10418619688312912, 0.9948316539075863, 0.01093698386793852, 0.9843285481144668, 0.9666703475761157, 0.03279433920771044, 0.006840379344748144, 0.9850146256437328, 0.9577768482456369, 0.023360410932820413, 0.015573607288546943, 0.04574731264937742, 0.9472384736812266, 0.0026910183911398483, 0.20012625281395918, 0.7991055269704245, 0.13469479654782085, 0.1756147347395639, 0.6888189595610079, 0.026455702760278164, 0.964163389485693, 0.005879045057839592, 0.002391390950186321, 0.23913909501863206, 0.7580709312090637, 0.006535969680822299, 0.986931421804167, 0.4248285717365408, 0.16928652763695176, 0.1604191380940638, 0.023377663340340957, 0.08222488485223371, 0.0016122526441614453, 0.13784760107580357, 0.12059059438015789, 0.13135761173552912, 0.7472310044627641, 0.2131985699097785, 0.7832242199843442, 0.9882456660559779, 0.00535589389599318, 0.09640609012787724, 0.8944342806308611, 0.990975754587579, 0.9970968571677107, 0.03143489859972523, 0.057354902708270594, 0.001102978898235973, 0.21425365098233776, 0.43677964370144534, 0.14476598039347147, 0.1144340606919822, 0.9970688073534547, 0.9955567900523455, 0.0899926100151921, 0.31598151501602895, 0.3915350122302761, 0.055741691278066746, 0.002014759925713256, 0.00033579332095220934, 0.041638371798073955, 0.05372693135235349, 0.049025824859022564, 0.01955890798961426, 0.0024448634987017824, 0.0024448634987017824, 0.9730556724833095, 0.5044251741088487, 0.0007418017266306599, 0.4944108507993348, 0.00866648868364882, 0.9879797099359654, 0.2552386777863099, 0.7440155789722394, 0.0001442233953185011, 0.0001442233953185011, 0.5852585382024775, 0.4142095913547352, 0.9960879981627841, 0.16360888414082908, 0.8340062630593482, 0.0005707685998863852, 0.17237211716568832, 0.7682545354470743, 0.058218397188411285, 0.23158289461901163, 0.04273255793565096, 0.27661290190604165, 0.00045948987027581673, 0.3188859699714168, 0.036299699751789524, 0.00045948987027581673, 0.01975806442186012, 0.07259939950357905, 0.12635002988695976, 0.5967916431419641, 0.034459099060079934, 0.04544605818068513, 0.016979845913662577, 0.1473251336626606, 0.03196206289630602, 0.9923346651225345, 0.08881823739385344, 0.00786411476924744, 0.11009760676946417, 0.4172606777565407, 0.12952659619936963, 0.05412361341187945, 0.00046259498642632006, 0.0763281727603428, 0.03145645907698976, 0.08372969254316392, 0.044284648335259566, 0.061506456021193846, 0.129778622204719, 0.027062840649325293, 0.05043529393737895, 0.679646339034192, 0.007380774722543261, 0.9974361358011395, 0.9863172565289119, 0.009618698418158959, 0.9811072386522138, 0.9950887536695693, 0.0385764233847415, 0.43387640233849706, 0.05634758471928533, 0.017771161334543838, 0.03597576562846679, 0.009102302146961477, 0.034675436750329434, 0.14780404914827922, 0.08668859187582359, 0.012136402862615303, 0.12656534413870243, 0.9992654724755407, 0.025571440133271176, 0.10887234359771517, 0.05036798814129171, 0.09337450109270233, 0.035257591698904196, 0.03990694445040805, 0.04145672870090933, 0.11042212784821645, 0.13289399948048505, 0.038357160199906766, 0.020534641319142004, 0.07710176646243885, 0.22626850057318737, 0.08694535432725839, 0.2736693256131048, 0.09304115407713998, 0.08598285962990868, 0.14982834122077368, 0.032724819709890614, 0.2771984728367205, 0.9982666545204609, 0.996777840853835, 0.01195945887400344, 0.9647296825029441, 0.02192567460233964, 0.9923346651225345, 0.18956824889783766, 0.0013073672337781909, 0.8079529504749219, 0.9951988774589694, 0.9895216255782797, 0.003651371312096973, 0.6700798894967581, 0.3287013511990854, 0.9977916120937368, 0.9893911576569534, 0.007481218583417416, 0.9878972435422649, 0.99325828782908, 0.9836390070133709, 0.9964736093507333, 0.0022021516228745487, 0.9946995006585921, 0.0037821273789300077, 0.028302304887485894, 0.0028302304887485893, 0.9339760612870345, 0.03396276586498307, 0.03367583925395158, 0.006735167850790316, 0.9530262508868297, 0.003367583925395158, 0.2530253640049912, 0.07512797922837273, 0.20908258370160338, 0.4621079477065946, 0.23029628673913316, 0.7683336292093204, 0.996714733321744, 0.03424967206540997, 0.9281661129726103, 0.020549803239245983, 0.013699868826163988, 0.004336925195100985, 0.9888189444830247, 0.9938791871791908, 0.004067718364989867, 0.0013559061216632889, 0.9991789564965612, 0.9900336204131529, 0.003992071050053036, 0.001996035525026518, 0.001996035525026518, 0.01446551171769857, 0.007232755858849285, 0.9691892850858042, 0.019777555230439784, 0.3965399823703177, 0.02126087187272277, 0.024721944038049733, 0.05636603240675339, 0.17849243595471906, 0.05191608247990444, 0.10086553167524291, 0.15030941975134238, 0.8014910888253728, 0.0009281888695140392, 0.12623368625390932, 0.07100644851782399, 0.019678519315315186, 0.0006559506438438396, 0.4958986867459427, 0.4827796738690659, 0.8154457082309617, 0.0027736248579284415, 0.015254936718606428, 0.0013868124289642208, 0.11649224403299453, 0.008320874573785324, 0.0402175604399624, 0.0022790001005763764, 0.9047630399288215, 0.004558000201152753, 0.08660200382190231, 0.03623246492563019, 0.01260259649587137, 0.8900583775209155, 0.05671168423142117, 0.0031506491239678427, 0.9247116346718105, 0.07490881071566217, 0.9859985596608302, 0.005272719570378771, 0.0065608980385843665, 0.9874151548069472, 0.0032804490192921833, 0.1558223924891889, 0.09349343549351334, 0.0168288183888324, 0.0024931582798270223, 0.47494665230704775, 0.25492543411231305, 0.7559568150894381, 0.0038019621882117594, 0.0006336603647019599, 0.0760392437642352, 0.05132648954085875, 0.0012673207294039198, 0.026613735317482318, 0.08364316814065871, 0.2496667970642556, 0.3072552003252091, 0.0003511488003716675, 0.4420963396679294, 0.001802153979504642, 0.9857782267890393, 0.00901076989752321, 0.001802153979504642, 0.9978984718879876, 0.9907599648531922, 0.12373645722951983, 0.008140556396678936, 0.3500439250571943, 0.0065124451173431495, 0.004884333838007362, 0.4916896063594078, 0.014653001514022086, 0.839722673272396, 0.0014305326631557, 0.0042915979894671006, 0.15163646229450423, 0.991537655547668, 0.9909700322627473, 0.0055787735841963245, 0.9707066036501606, 0.016736320752588976, 0.010551724905225079, 0.9813104161859323, 0.02320810432353585, 0.4422433212762665, 0.00773603477451195, 0.10765981727862464, 0.033522817356218454, 0.08831973034234476, 0.29654799968962475, 0.04014305925570908, 0.4650949755954419, 0.0003136176504352272, 0.0003136176504352272, 0.3518790037883249, 0.1420687956471579, 0.1058612068714191, 0.08795115374513672, 0.0323020601027593, 0.036139928629819816, 0.03166241534824922, 0.0997845817035733, 0.2564975465585442, 0.29743481084718965, 0.026225434934913493, 0.026225434934913493, 0.06201013526211754, 0.23012650197274728, 0.04409609618639469, 0.12585760786533484, 0.10656556578378718, 0.012402027052423506, 0.34266341411510876, 0.07441216231454104, 0.0013780030058248341, 0.9734100967496369, 0.0033940379942455955, 0.02240065076202093, 0.000986508706258069, 0.4528074961724537, 0.4271582698097439, 0.029595261187742073, 0.08878578356322622, 0.03661823654226933, 0.07062088476009085, 0.260251038282557, 0.630356786191922, 0.006651622329363001, 0.138205930621209, 0.5483893075985941, 0.19807053158547602, 0.04286601056700601, 0.065038084998216, 0.8224487676923198, 0.17678805286844257, 0.9017588047048248, 0.001714370351149857, 0.09429036931324214, 0.0013043752815463225, 0.013913336336494107, 0.984368545806958, 0.5717033297154578, 0.003261551188270745, 0.22225141668644935, 0.003727487072309423, 0.0004659358840386779, 0.01723962770943108, 0.08526626677907805, 0.09598279211196764, 0.9722640995822616, 0.002135000390802305, 0.9949101821138742, 0.9898695407223358, 0.02896466360333583, 0.9558338989100825, 0.9927904503003584, 0.012750297556297334, 0.983897961427611, 0.9898030435861578, 0.9778873673353217, 0.9997067518949697, 0.9966971177127144, 0.9978460950278335, 0.9679487507758024, 0.025472335546731645, 0.9884864313716535, 0.9803884636127984, 0.006816091741368429, 0.9815172107570538, 0.1859419677946207, 0.11881105678567454, 0.0932373764013141, 0.06499977097691612, 0.12786840192180218, 0.03036874545642802, 0.291966184388115, 0.0522129307847359, 0.03463102552048809, 0.9984651317494597, 0.2772404859308767, 0.18833814165820956, 0.37077754957320896, 0.06657142367337161, 0.09690776863845235, 0.00042133812451501017, 0.9899611550858857, 0.9906684312448806, 0.9870056822411533, 0.01145238298539711, 0.988028313921987, 0.9906686467029239, 0.007905374953193219, 0.980266494195959, 0.9955856357049243, 0.9911072370818664, 0.006233378849571487, 0.9846516414179823, 0.9959559909879722, 0.9862672215319739, 0.005770617281229025, 0.9867755550901633, 0.998831150557851, 0.9988781219289262, 0.0007533017510776216, 0.9340197864074019, 0.057340914581627676, 0.006371212731291964, 0.005210420832154672, 0.9899799581093877, 0.9987428980620086, 0.982765696140992, 0.9970892119712826, 0.9970594969519287, 0.9946456813500713, 0.9927508726288001, 0.9398329564524236, 0.058133997306335485, 0.9975824493053091, 0.9991992381249016, 0.9859401809322494, 0.006279873763899678, 0.9791521298439774, 0.9942364857861997, 0.9708983079270073, 0.9991851861510208, 0.9872600874809299, 0.9903943195921353, 0.9930791781263344, 0.9842575966146336, 0.9949365180528522, 0.9915037620564332, 0.9954220262023581, 0.9972377263979165, 0.03971361572571364, 0.9531267774171275, 0.9895593726523725, 0.9723175714447213, 0.28632182633360104, 0.3083950948835482, 0.3323603578806338, 0.07252645380696943, 0.9638615396259657, 0.03248971481885278, 0.9949188759708765, 0.8806501137173827, 0.11431515899216026, 0.9957979181149659, 0.12135131448949556, 0.0006223144332794644, 0.0018669432998383933, 0.7019706807392359, 0.17238109801841164, 0.0012446288665589288, 0.9980252515560745, 0.9990023524360708, 0.9893987379662191, 0.996180661068537, 0.9959833382761751, 0.994900022695241, 0.9928678797034493, 0.9888862460473155, 0.9981273333853113, 0.9934524273481716, 0.9862215619746469, 0.994563092729696, 0.9691810901002968, 0.002311218309663808, 0.9938238731554373, 0.9961118774870726, 0.998738048316097, 0.9971397469960538, 0.07628465059483185, 0.8696450167810831, 0.03051386023793274, 0.01525693011896637, 0.003051386023793274, 0.9894100357456547, 0.97610326477181, 0.9935232870327755, 0.9960668012052234, 0.9977677229398914, 0.9885955551758117, 0.9952899187838763, 0.9843449704506702, 0.006742088838703221, 0.0033710444193516104, 0.9969367083219822, 0.98972944485932, 0.9981902307756668, 0.0012084627491230834, 0.9911462883555818, 0.9657690322082102, 0.311317469356935, 0.013601248661225316, 0.6725061838050295, 0.9951823691057032, 0.9968141127346771, 0.9982871746345366, 0.9955195331049891, 0.9986500847609285, 0.9969579311566805, 0.9934067677696972, 0.9958805622442157, 0.9854656193134748, 0.9732650343561189, 0.9920763551872632, 0.0525220266425846, 0.9366428084594255, 0.005760157061060922, 0.9926670668561657, 0.992230702275632, 0.9934503535799445, 0.9893272568260238, 0.9579589173771044, 0.990970556635994, 0.9960355951440857, 0.977972298127914, 0.9982208844165973, 0.9994486230035993, 0.9990899902729813, 0.00045724942346589534, 0.9959622400642285, 0.9927142767481161, 0.9983970541346467, 0.005819277951980279, 0.9892772518366474, 0.9948035121029671, 0.0018388234974176841, 0.9901663854512971, 0.9920393428876483, 0.9959843233779303, 0.9955971659628576, 0.9953291306626698, 0.9856849652628201, 0.9994232164538437, 0.9981869872791647, 0.9940439677148838, 0.9886210201681382, 0.9940034207344394, 0.9982530391490918, 0.9957797983073604, 0.9975032210773676, 0.9943412620476744, 0.9965523020857339, 0.9956282150440714, 0.9906153037234475, 0.9913529205921853, 0.9723175714447213, 0.9945779158395165, 0.9936912892679391, 0.9950943090908301, 0.9894948395835611, 0.9993356104310072, 0.19693853082141485, 0.7985452756594356, 0.9907458359997592, 0.986422609186785, 0.9874873327920202, 0.23290725336238552, 0.000614531011510252, 0.765705640341774, 0.9948578137863889, 0.9967603579851371, 0.9893023869576235, 0.9986979440793262, 0.9966887503202218, 0.9886329160227978, 0.9862672215319739, 0.9842149253962932, 0.9969384953321931, 0.9880983636797194, 0.9871292505358963, 0.9809937365758348, 0.007785664575998689, 0.9941373696906944, 0.9844236285390087, 0.9904889399972334, 0.996685526943718, 0.03035786054373042, 0.9684157513450004, 0.9906347357065945, 0.9985970803032156, 0.0004195786051694183, 0.0004195786051694183, 0.003922219258220526, 0.06275550813152841, 0.9295659641982646, 0.15039806177641443, 0.07376393487889028, 0.03932163065528393, 0.006027403239131113, 0.007462499248448045, 0.11078941191926713, 0.03932163065528393, 0.17651680914598258, 0.12140912238821241, 0.27439035698139735, 0.998720738806392, 0.0006807912329968589, 0.9791237282812674, 0.9903727088119127, 0.9670036354855607, 0.7629300866910353, 0.23600199532062396, 0.9897979355635415, 0.9936724658818243, 0.9902987739468907, 0.9959622400642285, 0.9910059394961843, 0.9954119931543771, 0.9859125823597822, 0.9927115608760584, 0.9870453928337527, 0.005222462395945781, 0.9914427182198005, 0.9656026078987754, 0.9903470868460507, 0.9925180259097663, 0.999295876883764, 0.006178923014931462, 0.9886276823890339, 0.9707816482404825, 0.9740658646433044, 0.9950904441124522, 0.9992338747044818, 0.9722640995822616, 0.9907599648531922, 0.9852117737521094, 0.9911289813700696, 0.0246187528280126, 0.9662860484994945, 0.9991015285168383, 0.9991707333999635, 0.994449886207509, 0.9942990514092848, 0.9974022865719593, 0.9906686467029239, 0.9947749084012786, 0.9897662970918383, 0.9842833441459765, 0.9940639229486771, 0.9933504001911581, 0.00300105861084942, 0.9988837056628707, 0.9903046308168634, 0.9934894221637596, 0.9992325185938369, 0.9980553148228325, 0.9916807510158834, 0.9732650343561189, 0.9990041792152843, 0.9854549513297473, 0.9970968571677107, 0.9961184493641934, 0.017801956898019493, 0.980887825080874, 0.9826825866880644, 0.9870518831780984, 0.9901899228798785, 0.9985087207388049, 0.9966627257121355, 0.9917270769973915, 0.9904158039355424, 0.5048827126491997, 0.10847480063849142, 0.17445947199462444, 0.0009997677478201974, 0.0384910582910776, 0.17245993649898406, 0.9964931915686094, 0.9935177343490768, 0.0032467899815329304, 0.4667989440163657, 0.13113856796966314, 0.13351672852869848, 0.021403445031318077, 0.24698896091695624, 0.08451520641411346, 0.2753866276414933, 0.10065856044826996, 0.0009496090608327355, 0.47005648511220405, 0.06457341613662601, 0.002848827182498206, 0.9941203793457367, 0.9845938466242402, 0.9918861754553988, 0.9773588343495292, 0.9979749861666356, 0.9835016102647036, 0.9925548083101314, 0.002255806382523026, 0.002255806382523026, 0.9889945396950156, 0.15175218787749836, 0.19452547612728344, 0.14877665478186114, 0.09893647542993765, 0.03421863059982806, 0.03682222205851063, 0.2726332198877605, 0.06211425337142702, 0.9765637853512013, 0.967511729367533], \"Term\": [\"abortion\", \"abortion\", \"access\", \"access\", \"access\", \"access\", \"access\", \"access\", \"accident\", \"accident\", \"accident\", \"accident\", \"accident\", \"actor\", \"actor\", \"actress\", \"actress\", \"add\", \"add\", \"add\", \"add\", \"add\", \"add\", \"add\", \"agent\", \"agent\", \"agent\", \"agent\", \"agent\", \"agent\", \"aging\", \"aging\", \"aging\", \"aging\", \"aging\", \"aging\", \"aging\", \"aging\", \"air\", \"air\", \"air\", \"air\", \"air\", \"airline\", \"airline\", \"album\", \"album\", \"album\", \"album\", \"alleged\", \"alleged\", \"american\", \"american\", \"american\", \"american\", \"american\", \"american\", \"american\", \"american\", \"american\", \"american\", \"american\", \"analyst\", \"analyst\", \"analyst\", \"analyst\", \"apartment\", \"apartment\", \"apartment\", \"apartment\", \"apartment\", \"applicant\", \"area\", \"area\", \"area\", \"area\", \"area\", \"area\", \"army\", \"army\", \"arrest\", \"arrested\", \"arrested\", \"arrested\", \"arrested\", \"art\", \"art\", \"art\", \"art\", \"art\", \"art\", \"asked\", \"asked\", \"asked\", \"asked\", \"asked\", \"asked\", \"asked\", \"asked\", \"asked\", \"asset\", \"asset\", \"asset\", \"attorney\", \"attorney\", \"attorney\", \"attorney\", \"audience\", \"audience\", \"audience\", \"audience\", \"audience\", \"austin\", \"austin\", \"author\", \"author\", \"author\", \"author\", \"author\", \"authorities\", \"authorities\", \"authorities\", \"award\", \"award\", \"award\", \"award\", \"ball\", \"ball\", \"ball\", \"ball\", \"ballot\", \"ballot\", \"band\", \"band\", \"band\", \"bank\", \"bank\", \"bank\", \"bank\", \"banking\", \"banking\", \"barn\", \"basketball\", \"basketball\", \"basketball\", \"basketball\", \"beat\", \"beat\", \"beat\", \"beat\", \"beat\", \"beat\", \"bedroom\", \"belief\", \"belief\", \"belief\", \"belief\", \"belief\", \"belly\", \"benefit\", \"benefit\", \"benefit\", \"benefit\", \"benefit\", \"bill\", \"bill\", \"bill\", \"bill\", \"billion\", \"billion\", \"billion\", \"billion\", \"billion\", \"bishop\", \"black\", \"black\", \"black\", \"black\", \"black\", \"black\", \"blood\", \"blood\", \"blood\", \"blood\", \"boat\", \"boat\", \"boat\", \"body\", \"body\", \"body\", \"body\", \"body\", \"body\", \"body\", \"body\", \"body\", \"bond\", \"bond\", \"bond\", \"bond\", \"bond\", \"bond\", \"bonfire\", \"book\", \"book\", \"book\", \"book\", \"book\", \"book\", \"book\", \"bookstores\", \"born\", \"born\", \"born\", \"born\", \"born\", \"born\", \"bottler\", \"bowl\", \"bowl\", \"bowl\", \"boy\", \"boy\", \"boy\", \"boy\", \"boycott\", \"brain\", \"brain\", \"brain\", \"braves\", \"braves\", \"broadband\", \"brokerage\", \"browser\", \"building\", \"building\", \"building\", \"building\", \"building\", \"building\", \"building\", \"built\", \"built\", \"built\", \"built\", \"built\", \"business\", \"business\", \"business\", \"business\", \"business\", \"business\", \"business\", \"butter\", \"cable\", \"cable\", \"called\", \"called\", \"called\", \"called\", \"called\", \"called\", \"called\", \"called\", \"called\", \"called\", \"called\", \"called\", \"called\", \"campaign\", \"campaign\", \"campaigning\", \"cancer\", \"cancer\", \"candidate\", \"candidate\", \"candidates\", \"candidates\", \"car\", \"car\", \"car\", \"car\", \"care\", \"care\", \"care\", \"care\", \"care\", \"care\", \"care\", \"care\", \"career\", \"career\", \"career\", \"career\", \"career\", \"career\", \"cargo\", \"case\", \"case\", \"case\", \"case\", \"case\", \"cases\", \"cases\", \"cast\", \"cast\", \"cast\", \"cast\", \"cat\", \"cat\", \"cat\", \"caucus\", \"caucus\", \"caucuses\", \"cell\", \"cell\", \"cell\", \"cell\", \"cent\", \"cent\", \"center\", \"center\", \"center\", \"center\", \"center\", \"center\", \"center\", \"center\", \"centuries\", \"centuries\", \"century\", \"century\", \"century\", \"century\", \"century\", \"century\", \"century\", \"century\", \"chairman\", \"chairman\", \"chairman\", \"chairman\", \"chairman\", \"chairman\", \"character\", \"character\", \"character\", \"character\", \"character\", \"character\", \"charged\", \"charged\", \"charged\", \"charged\", \"charged\", \"charges\", \"charges\", \"charges\", \"charges\", \"charges\", \"charges\", \"charges\", \"cheese\", \"chicken\", \"chicken\", \"chicken\", \"chief\", \"chief\", \"chief\", \"chief\", \"chief\", \"chief\", \"chief\", \"chief\", \"chief\", \"child\", \"child\", \"child\", \"child\", \"child\", \"children\", \"children\", \"children\", \"children\", \"children\", \"children\", \"chip\", \"chip\", \"chip\", \"chopped\", \"church\", \"church\", \"citizenship\", \"citizenship\", \"civilian\", \"click\", \"click\", \"click\", \"clinical\", \"clothes\", \"clothes\", \"clothes\", \"clothes\", \"coach\", \"coach\", \"coaches\", \"coaches\", \"cocaine\", \"coin\", \"coin\", \"collection\", \"collection\", \"collection\", \"collection\", \"com\", \"com\", \"comedy\", \"comedy\", \"comic\", \"commander\", \"commentary\", \"commentary\", \"commentary\", \"commerce\", \"commerce\", \"commerce\", \"commerce\", \"companies\", \"companies\", \"company\", \"company\", \"company\", \"company\", \"composer\", \"computer\", \"computer\", \"computing\", \"concert\", \"concert\", \"concert\", \"condition\", \"condition\", \"condition\", \"condition\", \"condition\", \"condition\", \"condition\", \"conservative\", \"conservative\", \"conservative\", \"conservative\", \"conservative\", \"conservatives\", \"consolidation\", \"consumer\", \"consumer\", \"consumer\", \"content\", \"content\", \"content\", \"content\", \"content\", \"content\", \"content\", \"control\", \"control\", \"control\", \"control\", \"control\", \"control\", \"control\", \"control\", \"control\", \"convicted\", \"convicted\", \"cook\", \"cook\", \"cooking\", \"coordinator\", \"coordinator\", \"cost\", \"cost\", \"cost\", \"cost\", \"cost\", \"counselor\", \"counselor\", \"counselor\", \"countries\", \"countries\", \"countries\", \"countries\", \"countries\", \"countries\", \"countries\", \"country\", \"country\", \"country\", \"country\", \"country\", \"country\", \"country\", \"country\", \"country\", \"country\", \"couple\", \"couple\", \"couple\", \"couple\", \"couple\", \"couple\", \"couple\", \"couple\", \"couple\", \"couple\", \"couple\", \"couple\", \"couple\", \"court\", \"court\", \"court\", \"court\", \"cream\", \"cream\", \"crime\", \"crime\", \"crime\", \"crime\", \"crime\", \"criminal\", \"criminal\", \"crying\", \"crying\", \"crying\", \"cuban\", \"cuban\", \"cultural\", \"cultural\", \"cultural\", \"cultural\", \"cultural\", \"culture\", \"culture\", \"culture\", \"culture\", \"culture\", \"culture\", \"culture\", \"cup\", \"curator\", \"custody\", \"custody\", \"customer\", \"customer\", \"cut\", \"cut\", \"cut\", \"cut\", \"cut\", \"cut\", \"cut\", \"cut\", \"dad\", \"dad\", \"daily\", \"daily\", \"daily\", \"daily\", \"daily\", \"daily\", \"daily\", \"damages\", \"daughter\", \"daughter\", \"daughter\", \"daughter\", \"deal\", \"deal\", \"deal\", \"deal\", \"deal\", \"deal\", \"deal\", \"deal\", \"deal\", \"dear\", \"dear\", \"dear\", \"dear\", \"dear\", \"death\", \"death\", \"death\", \"death\", \"death\", \"debate\", \"debate\", \"debate\", \"debate\", \"debate\", \"debt\", \"debt\", \"debt\", \"decision\", \"decision\", \"decision\", \"decision\", \"decision\", \"decision\", \"deck\", \"deduction\", \"defendant\", \"defensive\", \"defensive\", \"democrat\", \"democratic\", \"democratic\", \"democratic\", \"dentist\", \"died\", \"died\", \"died\", \"died\", \"died\", \"died\", \"died\", \"diet\", \"diet\", \"digital\", \"diplomat\", \"director\", \"director\", \"director\", \"director\", \"director\", \"director\", \"director\", \"director\", \"director\", \"director\", \"disease\", \"disease\", \"diseases\", \"dish\", \"disorder\", \"disorder\", \"doctor\", \"doctor\", \"doctor\", \"documentary\", \"dolphin\", \"door\", \"door\", \"door\", \"door\", \"door\", \"download\", \"drama\", \"drama\", \"drama\", \"drama\", \"dress\", \"dress\", \"dressed\", \"dressed\", \"driver\", \"driver\", \"driver\", \"driver\", \"driver\", \"driver\", \"drowned\", \"drug\", \"drug\", \"drug\", \"ear\", \"ear\", \"ear\", \"ear\", \"ear\", \"earning\", \"earning\", \"economic\", \"economic\", \"economic\", \"economic\", \"economy\", \"economy\", \"economy\", \"economy\", \"economy\", \"education\", \"education\", \"education\", \"egg\", \"election\", \"election\", \"election\", \"electronic\", \"electronic\", \"electronic\", \"employer\", \"employer\", \"encourage\", \"encourage\", \"endowment\", \"enforcement\", \"equity\", \"eta\", \"evidence\", \"evidence\", \"evidence\", \"evidence\", \"evidence\", \"execution\", \"execution\", \"execution\", \"execution\", \"executive\", \"executive\", \"executive\", \"executive\", \"executive\", \"exhibition\", \"exhibition\", \"exhibition\", \"exhibition\", \"exile\", \"faith\", \"faith\", \"faith\", \"families\", \"families\", \"families\", \"families\", \"families\", \"families\", \"family\", \"family\", \"family\", \"fat\", \"fat\", \"fat\", \"father\", \"father\", \"father\", \"federal\", \"federal\", \"federal\", \"federal\", \"feel\", \"feel\", \"feel\", \"feel\", \"feel\", \"feel\", \"feel\", \"feel\", \"feel\", \"feel\", \"feet\", \"feet\", \"feet\", \"feet\", \"festival\", \"festival\", \"fff\", \"field\", \"field\", \"field\", \"field\", \"field\", \"field\", \"field\", \"field\", \"field\", \"film\", \"filmmaker\", \"final\", \"final\", \"final\", \"final\", \"final\", \"final\", \"final\", \"final\", \"find\", \"find\", \"find\", \"find\", \"find\", \"find\", \"find\", \"find\", \"find\", \"find\", \"find\", \"find\", \"find\", \"find\", \"firm\", \"firm\", \"firm\", \"firm\", \"fishing\", \"flag\", \"flight\", \"flight\", \"flight\", \"flight\", \"flu\", \"food\", \"food\", \"food\", \"food\", \"foot\", \"foot\", \"foot\", \"foot\", \"foot\", \"foot\", \"football\", \"football\", \"football\", \"forces\", \"forces\", \"forces\", \"forces\", \"forces\", \"foreign\", \"foreign\", \"foreign\", \"foreign\", \"forward\", \"forward\", \"forward\", \"forward\", \"forward\", \"forward\", \"forward\", \"forward\", \"forward\", \"forward\", \"foul\", \"found\", \"found\", \"found\", \"found\", \"found\", \"found\", \"found\", \"found\", \"found\", \"found\", \"found\", \"french\", \"french\", \"french\", \"fresh\", \"fresh\", \"fresh\", \"fresh\", \"fresh\", \"fresh\", \"fresh\", \"friend\", \"friend\", \"friend\", \"friend\", \"friend\", \"friend\", \"fund\", \"fund\", \"fund\", \"galaxies\", \"gambling\", \"gambling\", \"game\", \"game\", \"games\", \"games\", \"games\", \"games\", \"garden\", \"garlic\", \"gene\", \"gene\", \"generator\", \"genre\", \"girl\", \"girl\", \"girl\", \"girl\", \"goal\", \"goal\", \"goal\", \"goal\", \"goal\", \"goal\", \"goal\", \"gov\", \"government\", \"government\", \"government\", \"government\", \"government\", \"gown\", \"gram\", \"grandmother\", \"grandmother\", \"grandparent\", \"greek\", \"greek\", \"green\", \"green\", \"green\", \"green\", \"green\", \"grief\", \"group\", \"group\", \"group\", \"group\", \"group\", \"group\", \"group\", \"group\", \"group\", \"group\", \"group\", \"growth\", \"growth\", \"guard\", \"guard\", \"guard\", \"guard\", \"guard\", \"guitar\", \"gun\", \"gun\", \"gun\", \"guy\", \"guy\", \"guy\", \"guy\", \"guy\", \"hair\", \"hair\", \"hair\", \"hair\", \"half\", \"half\", \"half\", \"half\", \"half\", \"half\", \"half\", \"half\", \"half\", \"half\", \"half\", \"half\", \"half\", \"hand\", \"hand\", \"hand\", \"hand\", \"hand\", \"hand\", \"hand\", \"hand\", \"hand\", \"hand\", \"hand\", \"hand\", \"hand\", \"hated\", \"head\", \"head\", \"head\", \"head\", \"head\", \"head\", \"head\", \"head\", \"head\", \"head\", \"head\", \"head\", \"health\", \"health\", \"health\", \"heart\", \"heart\", \"heart\", \"heart\", \"heart\", \"heart\", \"help\", \"help\", \"help\", \"help\", \"help\", \"help\", \"help\", \"help\", \"help\", \"help\", \"help\", \"high\", \"high\", \"high\", \"high\", \"high\", \"high\", \"high\", \"high\", \"high\", \"high\", \"high\", \"high\", \"highway\", \"highway\", \"highway\", \"highway\", \"historical\", \"historical\", \"history\", \"history\", \"history\", \"history\", \"history\", \"history\", \"history\", \"history\", \"hit\", \"hit\", \"hit\", \"hit\", \"hit\", \"hit\", \"hit\", \"home\", \"home\", \"home\", \"home\", \"home\", \"home\", \"home\", \"home\", \"home\", \"homework\", \"homework\", \"hormone\", \"hospital\", \"hospital\", \"hospital\", \"hot\", \"hot\", \"hot\", \"hot\", \"hot\", \"hot\", \"hot\", \"hot\", \"hour\", \"hour\", \"hour\", \"hour\", \"hour\", \"hour\", \"hour\", \"hour\", \"hour\", \"hour\", \"hour\", \"house\", \"house\", \"house\", \"house\", \"house\", \"house\", \"human\", \"human\", \"human\", \"human\", \"human\", \"husband\", \"husband\", \"husband\", \"illegal\", \"illegal\", \"illegal\", \"illness\", \"illness\", \"illness\", \"incident\", \"incident\", \"incident\", \"incident\", \"income\", \"income\", \"income\", \"index\", \"index\", \"index\", \"indicted\", \"indictment\", \"industry\", \"industry\", \"industry\", \"infection\", \"inflation\", \"inflation\", \"inflation\", \"inflation\", \"inflation\", \"information\", \"information\", \"information\", \"information\", \"information\", \"information\", \"information\", \"initiatives\", \"initiatives\", \"inmates\", \"insurance\", \"insurance\", \"insurance\", \"insurance\", \"insurance\", \"international\", \"international\", \"international\", \"international\", \"international\", \"international\", \"internet\", \"investigation\", \"investigation\", \"investigator\", \"investigator\", \"investigator\", \"investigator\", \"investment\", \"investor\", \"israeli\", \"israelis\", \"jacket\", \"jacket\", \"jaguar\", \"jazz\", \"jazz\", \"jean\", \"jean\", \"jet\", \"jet\", \"jet\", \"jew\", \"jewish\", \"jewish\", \"jewish\", \"job\", \"job\", \"job\", \"job\", \"job\", \"joke\", \"joke\", \"joke\", \"jokes\", \"jokes\", \"judge\", \"judge\", \"juice\", \"jury\", \"justice\", \"justice\", \"justice\", \"kid\", \"kid\", \"kid\", \"kid\", \"kind\", \"kind\", \"kind\", \"kind\", \"kind\", \"kind\", \"kind\", \"kind\", \"kind\", \"kind\", \"kind\", \"kind\", \"kind\", \"king\", \"king\", \"king\", \"king\", \"king\", \"kitchen\", \"kitchen\", \"knew\", \"knew\", \"knew\", \"knew\", \"knew\", \"known\", \"known\", \"known\", \"known\", \"known\", \"known\", \"known\", \"known\", \"known\", \"known\", \"known\", \"known\", \"known\", \"known\", \"land\", \"land\", \"land\", \"land\", \"land\", \"land\", \"language\", \"language\", \"language\", \"language\", \"language\", \"language\", \"language\", \"large\", \"large\", \"large\", \"large\", \"large\", \"large\", \"large\", \"large\", \"large\", \"large\", \"large\", \"laughed\", \"laughed\", \"law\", \"law\", \"law\", \"law\", \"lawmaker\", \"lawmaker\", \"lawyer\", \"lawyer\", \"lawyer\", \"lawyer\", \"lead\", \"lead\", \"lead\", \"lead\", \"lead\", \"lead\", \"lead\", \"lead\", \"lead\", \"lead\", \"leader\", \"leader\", \"leader\", \"leader\", \"leader\", \"leader\", \"leader\", \"league\", \"league\", \"left\", \"left\", \"left\", \"left\", \"left\", \"left\", \"left\", \"left\", \"left\", \"left\", \"left\", \"left\", \"left\", \"legal\", \"legal\", \"legal\", \"legislation\", \"legislation\", \"legislation\", \"level\", \"level\", \"level\", \"level\", \"level\", \"level\", \"level\", \"level\", \"level\", \"level\", \"level\", \"level\", \"light\", \"light\", \"light\", \"light\", \"light\", \"light\", \"liked\", \"liked\", \"liked\", \"liked\", \"liked\", \"linebacker\", \"list\", \"list\", \"list\", \"list\", \"list\", \"list\", \"list\", \"list\", \"list\", \"list\", \"literature\", \"literature\", \"literature\", \"living\", \"living\", \"living\", \"living\", \"living\", \"living\", \"loan\", \"loan\", \"loan\", \"look\", \"look\", \"look\", \"look\", \"look\", \"look\", \"look\", \"look\", \"look\", \"look\", \"look\", \"looking\", \"looking\", \"looking\", \"looking\", \"looking\", \"looking\", \"looking\", \"looking\", \"looking\", \"looking\", \"looking\", \"love\", \"love\", \"love\", \"love\", \"love\", \"machines\", \"machines\", \"machines\", \"mail\", \"mail\", \"mail\", \"mail\", \"mail\", \"mail\", \"makes\", \"makes\", \"makes\", \"makes\", \"makes\", \"makes\", \"makes\", \"makes\", \"makes\", \"makes\", \"makes\", \"makes\", \"males\", \"management\", \"management\", \"management\", \"management\", \"marked\", \"marked\", \"marked\", \"marked\", \"marked\", \"market\", \"market\", \"market\", \"market\", \"married\", \"married\", \"married\", \"marry\", \"meal\", \"meat\", \"meat\", \"meat\", \"media\", \"media\", \"media\", \"media\", \"media\", \"medical\", \"medical\", \"medication\", \"medicine\", \"meeting\", \"meeting\", \"meeting\", \"meeting\", \"meeting\", \"meeting\", \"meeting\", \"meeting\", \"member\", \"member\", \"member\", \"member\", \"member\", \"member\", \"member\", \"member\", \"member\", \"member\", \"mental\", \"mental\", \"mental\", \"mental\", \"midnight\", \"midnight\", \"midnight\", \"midnight\", \"mile\", \"mile\", \"mile\", \"miles\", \"miles\", \"miles\", \"military\", \"military\", \"million\", \"million\", \"million\", \"million\", \"million\", \"million\", \"million\", \"million\", \"million\", \"million\", \"minister\", \"minister\", \"minister\", \"minutes\", \"minutes\", \"minutes\", \"minutes\", \"minutes\", \"modem\", \"modern\", \"modern\", \"modern\", \"modern\", \"modern\", \"mom\", \"monetary\", \"money\", \"money\", \"money\", \"money\", \"money\", \"monument\", \"monument\", \"moon\", \"mother\", \"mother\", \"mother\", \"mother\", \"mountain\", \"mountain\", \"mountain\", \"mountain\", \"mountain\", \"movie\", \"movie\", \"movies\", \"movies\", \"movies\", \"mp3\", \"mph\", \"murder\", \"murder\", \"murder\", \"museum\", \"museum\", \"music\", \"music\", \"music\", \"musical\", \"musical\", \"musical\", \"nap\", \"nazi\", \"need\", \"need\", \"need\", \"need\", \"need\", \"need\", \"need\", \"need\", \"need\", \"need\", \"need\", \"need\", \"network\", \"network\", \"network\", \"network\", \"newspaper\", \"newspaper\", \"newspaper\", \"newspaper\", \"newspaper\", \"newspaper\", \"newspaper\", \"newspaper\", \"newspaper\", \"night\", \"night\", \"night\", \"night\", \"night\", \"night\", \"night\", \"night\", \"nonprofit\", \"nonprofit\", \"north\", \"north\", \"north\", \"norwegian\", \"nuclear\", \"nuclear\", \"nytsyn\", \"offender\", \"offense\", \"offense\", \"offensive\", \"offensive\", \"offensive\", \"offensive\", \"offensive\", \"offer\", \"offer\", \"offer\", \"offer\", \"offer\", \"offer\", \"offer\", \"offer\", \"offer\", \"offer\", \"offer\", \"offer\", \"offer\", \"office\", \"office\", \"office\", \"office\", \"office\", \"office\", \"office\", \"office\", \"office\", \"officer\", \"officer\", \"officer\", \"officer\", \"officer\", \"officer\", \"officer\", \"official\", \"official\", \"official\", \"official\", \"official\", \"official\", \"oil\", \"oil\", \"oil\", \"oil\", \"olive\", \"onion\", \"online\", \"online\", \"opera\", \"orange\", \"orchestra\", \"owner\", \"owner\", \"owner\", \"owner\", \"owner\", \"owner\", \"owner\", \"pageex\", \"painter\", \"painting\", \"painting\", \"painting\", \"painting\", \"painting\", \"palestinian\", \"palm\", \"palm\", \"pan\", \"pan\", \"parent\", \"parent\", \"parent\", \"park\", \"park\", \"part\", \"part\", \"part\", \"part\", \"part\", \"part\", \"part\", \"part\", \"part\", \"part\", \"part\", \"part\", \"part\", \"part\", \"part\", \"pass\", \"pass\", \"pass\", \"pass\", \"pass\", \"pass\", \"pass\", \"passenger\", \"patient\", \"patient\", \"patriot\", \"pay\", \"pay\", \"pay\", \"pay\", \"pay\", \"pay\", \"peace\", \"pepper\", \"percent\", \"percent\", \"percent\", \"percent\", \"percent\", \"performance\", \"performance\", \"performance\", \"performance\", \"performance\", \"performance\", \"physician\", \"piano\", \"piano\", \"pigeon\", \"pillow\", \"pilot\", \"pilot\", \"pilot\", \"pilot\", \"plaintiff\", \"plan\", \"plan\", \"plan\", \"plan\", \"plan\", \"plan\", \"plan\", \"plan\", \"plan\", \"planet\", \"planet\", \"play\", \"play\", \"play\", \"play\", \"play\", \"play\", \"played\", \"played\", \"played\", \"played\", \"played\", \"player\", \"player\", \"player\", \"player\", \"playing\", \"playing\", \"playing\", \"playing\", \"playoff\", \"playoff\", \"poem\", \"poem\", \"point\", \"point\", \"point\", \"point\", \"point\", \"point\", \"point\", \"point\", \"point\", \"point\", \"pointer\", \"police\", \"police\", \"police\", \"police\", \"police\", \"politic\", \"politic\", \"politic\", \"politic\", \"political\", \"political\", \"political\", \"political\", \"poll\", \"poll\", \"poll\", \"pop\", \"pop\", \"pop\", \"pop\", \"pop\", \"pope\", \"portfolio\", \"portfolio\", \"potassium\", \"potatoes\", \"power\", \"power\", \"power\", \"power\", \"power\", \"power\", \"power\", \"power\", \"power\", \"power\", \"power\", \"prayer\", \"prayer\", \"prayer\", \"president\", \"president\", \"president\", \"president\", \"president\", \"president\", \"president\", \"presidential\", \"presidential\", \"price\", \"price\", \"price\", \"price\", \"prices\", \"prices\", \"priest\", \"priest\", \"primary\", \"primary\", \"primary\", \"prison\", \"prison\", \"prison\", \"problem\", \"problem\", \"problem\", \"problem\", \"problem\", \"problem\", \"problem\", \"problem\", \"problem\", \"problem\", \"problem\", \"producer\", \"producer\", \"producer\", \"producer\", \"product\", \"product\", \"product\", \"product\", \"product\", \"production\", \"production\", \"production\", \"production\", \"production\", \"production\", \"profit\", \"profit\", \"program\", \"program\", \"program\", \"program\", \"program\", \"proposal\", \"proposal\", \"proposal\", \"proposed\", \"proposed\", \"proposed\", \"proposes\", \"prosecutor\", \"prosecutor\", \"protest\", \"protest\", \"protest\", \"protest\", \"protest\", \"provide\", \"provide\", \"provide\", \"provide\", \"provide\", \"provide\", \"provide\", \"provide\", \"provide\", \"provider\", \"provider\", \"psychology\", \"public\", \"public\", \"public\", \"public\", \"public\", \"public\", \"public\", \"public\", \"published\", \"published\", \"published\", \"published\", \"quarter\", \"quarter\", \"quarter\", \"quarter\", \"quarterback\", \"question\", \"question\", \"question\", \"question\", \"question\", \"question\", \"question\", \"question\", \"question\", \"question\", \"question\", \"question\", \"race\", \"race\", \"race\", \"race\", \"race\", \"racial\", \"racism\", \"racist\", \"rain\", \"rates\", \"rates\", \"rates\", \"rating\", \"rating\", \"rating\", \"rating\", \"rating\", \"rating\", \"real\", \"real\", \"real\", \"real\", \"real\", \"real\", \"real\", \"real\", \"real\", \"real\", \"real\", \"real\", \"rear\", \"rear\", \"rear\", \"rebel\", \"rebel\", \"rebound\", \"receiver\", \"receiver\", \"receiver\", \"receivership\", \"recipes\", \"relatives\", \"relatives\", \"religion\", \"religious\", \"religious\", \"religious\", \"religious\", \"remember\", \"remember\", \"remember\", \"remember\", \"remember\", \"remember\", \"remember\", \"remember\", \"remember\", \"reporter\", \"reporter\", \"reporter\", \"reporter\", \"reporter\", \"reporter\", \"reporter\", \"republican\", \"republican\", \"republican\", \"republican\", \"republican\", \"republican\", \"republican\", \"research\", \"research\", \"research\", \"research\", \"researcher\", \"researcher\", \"researcher\", \"researcher\", \"restaurant\", \"restaurant\", \"restaurant\", \"restaurant\", \"result\", \"result\", \"result\", \"result\", \"result\", \"result\", \"result\", \"result\", \"result\", \"result\", \"result\", \"result\", \"return\", \"return\", \"return\", \"return\", \"return\", \"return\", \"return\", \"return\", \"return\", \"revenue\", \"revenue\", \"revenue\", \"right\", \"right\", \"right\", \"right\", \"right\", \"right\", \"right\", \"right\", \"right\", \"right\", \"right\", \"right\", \"risk\", \"risk\", \"risk\", \"risk\", \"risk\", \"risk\", \"risk\", \"risk\", \"road\", \"road\", \"road\", \"road\", \"rocket\", \"rocket\", \"room\", \"room\", \"room\", \"room\", \"room\", \"room\", \"room\", \"run\", \"run\", \"run\", \"run\", \"run\", \"run\", \"run\", \"run\", \"run\", \"run\", \"running\", \"running\", \"running\", \"running\", \"running\", \"running\", \"running\", \"running\", \"running\", \"russian\", \"saint\", \"sales\", \"sales\", \"sales\", \"salt\", \"salt\", \"sat\", \"sat\", \"sat\", \"sat\", \"sat\", \"sat\", \"sauce\", \"saw\", \"saw\", \"saw\", \"saw\", \"saw\", \"saw\", \"saw\", \"saw\", \"scholar\", \"scholar\", \"scholar\", \"school\", \"school\", \"school\", \"school\", \"school\", \"scientist\", \"scientist\", \"scientist\", \"scientist\", \"scientist\", \"scored\", \"scored\", \"scored\", \"script\", \"script\", \"season\", \"season\", \"season\", \"season\", \"season\", \"seat\", \"seat\", \"seat\", \"seat\", \"seat\", \"seat\", \"securities\", \"security\", \"security\", \"security\", \"senator\", \"senator\", \"senator\", \"senator\", \"senator\", \"sensor\", \"sentenced\", \"separate\", \"separate\", \"separate\", \"separate\", \"separate\", \"separate\", \"separate\", \"separate\", \"series\", \"series\", \"series\", \"series\", \"series\", \"series\", \"series\", \"series\", \"series\", \"series\", \"series\", \"serve\", \"serve\", \"serve\", \"serve\", \"serve\", \"serve\", \"serve\", \"services\", \"services\", \"services\", \"serving\", \"serving\", \"serving\", \"serving\", \"serving\", \"serving\", \"set\", \"set\", \"set\", \"set\", \"set\", \"set\", \"set\", \"set\", \"set\", \"set\", \"set\", \"set\", \"set\", \"set\", \"share\", \"share\", \"share\", \"share\", \"share\", \"share\", \"share\", \"shareholder\", \"shareholder\", \"shares\", \"shares\", \"shares\", \"shares\", \"ship\", \"ship\", \"ship\", \"shirt\", \"shirt\", \"shirt\", \"shot\", \"shot\", \"shot\", \"shot\", \"shot\", \"shot\", \"shot\", \"shot\", \"show\", \"show\", \"show\", \"show\", \"show\", \"show\", \"show\", \"show\", \"show\", \"show\", \"shuttle\", \"side\", \"side\", \"side\", \"side\", \"side\", \"side\", \"side\", \"side\", \"side\", \"side\", \"side\", \"side\", \"sing\", \"sing\", \"singer\", \"singing\", \"singing\", \"sister\", \"sister\", \"sister\", \"sister\", \"sister\", \"sitcom\", \"site\", \"site\", \"site\", \"site\", \"sites\", \"sites\", \"sites\", \"sites\", \"sitting\", \"sitting\", \"sitting\", \"sitting\", \"sitting\", \"sitting\", \"ski\", \"skier\", \"sky\", \"sky\", \"slavery\", \"small\", \"small\", \"small\", \"small\", \"small\", \"small\", \"small\", \"small\", \"small\", \"small\", \"small\", \"smuggler\", \"smuggling\", \"smuggling\", \"snow\", \"snow\", \"society\", \"society\", \"society\", \"society\", \"society\", \"society\", \"society\", \"software\", \"soldier\", \"soldier\", \"soldier\", \"son\", \"son\", \"son\", \"son\", \"son\", \"song\", \"soprano\", \"sound\", \"sound\", \"sound\", \"sound\", \"sound\", \"sound\", \"sound\", \"sound\", \"sound\", \"sound\", \"sound\", \"space\", \"space\", \"space\", \"space\", \"space\", \"spacecraft\", \"spending\", \"spending\", \"spending\", \"spending\", \"sponsorship\", \"sport\", \"sport\", \"sport\", \"sport\", \"sport\", \"spot\", \"spot\", \"spot\", \"spot\", \"spot\", \"spot\", \"spot\", \"spot\", \"spot\", \"square\", \"square\", \"starring\", \"statesman\", \"statesman\", \"stock\", \"stock\", \"stolen\", \"stolen\", \"storm\", \"storm\", \"storm\", \"streak\", \"streak\", \"streak\", \"student\", \"student\", \"studies\", \"studies\", \"studies\", \"studio\", \"studio\", \"studio\", \"study\", \"study\", \"study\", \"sued\", \"sued\", \"support\", \"support\", \"support\", \"support\", \"support\", \"support\", \"support\", \"surgery\", \"surgery\", \"surgery\", \"surplus\", \"surplus\", \"surpluses\", \"symbol\", \"symbol\", \"symbol\", \"symptom\", \"syrian\", \"system\", \"system\", \"system\", \"system\", \"system\", \"system\", \"system\", \"tablespoon\", \"tackle\", \"talk\", \"talk\", \"talk\", \"talk\", \"talk\", \"talk\", \"talk\", \"talk\", \"talk\", \"taste\", \"taste\", \"taste\", \"taste\", \"tax\", \"tax\", \"tax\", \"taxpayer\", \"taxpayer\", \"teacher\", \"teacher\", \"team\", \"team\", \"team\", \"team\", \"teaspoon\", \"tech\", \"tech\", \"technology\", \"technology\", \"technology\", \"technology\", \"television\", \"television\", \"television\", \"television\", \"television\", \"television\", \"television\", \"television\", \"television\", \"tell\", \"tell\", \"tell\", \"tell\", \"tell\", \"tell\", \"tell\", \"temperatures\", \"term\", \"term\", \"term\", \"term\", \"term\", \"term\", \"term\", \"term\", \"term\", \"term\", \"test\", \"test\", \"test\", \"test\", \"test\", \"test\", \"test\", \"theater\", \"theft\", \"theories\", \"theories\", \"therapy\", \"thought\", \"thought\", \"thought\", \"thought\", \"thought\", \"thought\", \"thought\", \"thought\", \"thought\", \"thought\", \"thought\", \"titan\", \"today\", \"today\", \"today\", \"today\", \"today\", \"today\", \"today\", \"today\", \"today\", \"today\", \"today\", \"today\", \"today\", \"told\", \"told\", \"told\", \"told\", \"told\", \"told\", \"told\", \"touchdown\", \"tournament\", \"trading\", \"trading\", \"trading\", \"traveler\", \"treatment\", \"treatment\", \"treatment\", \"treaty\", \"trees\", \"trees\", \"trial\", \"trial\", \"troop\", \"truck\", \"truck\", \"tuition\", \"uncle\", \"uninsured\", \"union\", \"union\", \"user\", \"user\", \"vehicle\", \"vehicle\", \"vehicle\", \"vehicle\", \"vehicles\", \"vehicles\", \"vehicles\", \"vehicles\", \"victory\", \"victory\", \"victory\", \"victory\", \"viewer\", \"viewer\", \"viking\", \"violation\", \"violation\", \"violation\", \"violation\", \"virus\", \"virus\", \"vote\", \"vote\", \"vote\", \"voter\", \"votes\", \"votes\", \"votes\", \"votes\", \"voucher\", \"voucher\", \"voucher\", \"wanted\", \"wanted\", \"wanted\", \"wanted\", \"wanted\", \"wanted\", \"wanted\", \"wanted\", \"wanted\", \"war\", \"war\", \"war\", \"war\", \"water\", \"water\", \"water\", \"water\", \"weapon\", \"weapon\", \"weapon\", \"weapon\", \"weapon\", \"weapon\", \"weapon\", \"wear\", \"wear\", \"wear\", \"wear\", \"weather\", \"weather\", \"weather\", \"weather\", \"weather\", \"web\", \"web\", \"wedding\", \"wedding\", \"wheel\", \"wheel\", \"wheel\", \"white\", \"white\", \"white\", \"white\", \"white\", \"white\", \"wife\", \"wife\", \"wife\", \"wife\", \"wife\", \"wife\", \"wife\", \"wife\", \"win\", \"win\", \"win\", \"win\", \"wind\", \"wind\", \"wind\", \"wind\", \"wine\", \"wines\", \"winning\", \"winning\", \"winning\", \"winning\", \"winning\", \"winning\", \"winning\", \"winter\", \"winter\", \"winter\", \"winter\", \"wireless\", \"witchcraft\", \"witnesses\", \"witnesses\", \"witnesses\", \"wizard\", \"wizard\", \"woman\", \"woman\", \"woman\", \"woman\", \"woman\", \"woman\", \"woman\", \"women\", \"women\", \"women\", \"women\", \"women\", \"women\", \"won\", \"won\", \"won\", \"won\", \"won\", \"won\", \"won\", \"won\", \"won\", \"won\", \"word\", \"word\", \"word\", \"word\", \"word\", \"word\", \"word\", \"word\", \"word\", \"worker\", \"worker\", \"worker\", \"writer\", \"writer\", \"writer\", \"writer\", \"writer\", \"writing\", \"writing\", \"writing\", \"writing\", \"wrote\", \"wrote\", \"wrote\", \"wrote\", \"wrote\", \"wrote\", \"www\", \"www\", \"y2k\", \"y2k\", \"y2k\", \"yard\", \"yard\", \"yard\", \"young\", \"young\", \"young\", \"young\", \"young\", \"young\", \"young\", \"young\", \"zoo\", \"zzz_abc\", \"zzz_abc\", \"zzz_abc_executive\", \"zzz_act\", \"zzz_act\", \"zzz_ahmed_ressam\", \"zzz_aid\", \"zzz_aid\", \"zzz_airbus\", \"zzz_akira_hareruya\", \"zzz_al_gore\", \"zzz_alan_greenspan\", \"zzz_alan_keyes\", \"zzz_alaska\", \"zzz_alaska\", \"zzz_algerian\", \"zzz_amadou_diallo\", \"zzz_amazon\", \"zzz_amazon\", \"zzz_america\", \"zzz_america\", \"zzz_america\", \"zzz_america\", \"zzz_america\", \"zzz_america\", \"zzz_america\", \"zzz_america\", \"zzz_america\", \"zzz_america_online\", \"zzz_american\", \"zzz_american\", \"zzz_american\", \"zzz_american\", \"zzz_american\", \"zzz_american\", \"zzz_andre_agassi\", \"zzz_andy_alexander\", \"zzz_angel\", \"zzz_aol\", \"zzz_aol\", \"zzz_aol_time_warner\", \"zzz_apache\", \"zzz_apache\", \"zzz_apple\", \"zzz_at\", \"zzz_at\", \"zzz_attica\", \"zzz_barak\", \"zzz_berlin\", \"zzz_bible\", \"zzz_bible\", \"zzz_bill_belichick\", \"zzz_bill_bradley\", \"zzz_bill_bradley\", \"zzz_bill_clinton\", \"zzz_bill_clinton\", \"zzz_bill_clinton\", \"zzz_bill_gates\", \"zzz_bill_gates\", \"zzz_bill_parcell\", \"zzz_birthright_israel\", \"zzz_black\", \"zzz_bleated_nato\", \"zzz_bob_dole\", \"zzz_bobby_bowden\", \"zzz_boeing\", \"zzz_boeing\", \"zzz_boris_yeltsin\", \"zzz_bradley\", \"zzz_brazil\", \"zzz_brazil\", \"zzz_brian_goldberg\", \"zzz_bruin\", \"zzz_budget_office\", \"zzz_bush\", \"zzz_cable\", \"zzz_cdc\", \"zzz_celtic\", \"zzz_census\", \"zzz_chan_gailey\", \"zzz_charlotte\", \"zzz_chechen\", \"zzz_chechnya\", \"zzz_christian\", \"zzz_christian\", \"zzz_christianity\", \"zzz_clean\", \"zzz_clinton\", \"zzz_clinton\", \"zzz_clinton\", \"zzz_clinton\", \"zzz_coca_cola\", \"zzz_coca_cola\", \"zzz_coke\", \"zzz_commission\", \"zzz_commission\", \"zzz_confederate\", \"zzz_congress\", \"zzz_congress\", \"zzz_congress\", \"zzz_congress\", \"zzz_congress\", \"zzz_congress\", \"zzz_cowboy\", \"zzz_cuba\", \"zzz_cuban_american\", \"zzz_dallas_cowboy\", \"zzz_dan_marino\", \"zzz_david_irving\", \"zzz_davis\", \"zzz_denzel_washington\", \"zzz_dick_vermeil\", \"zzz_dna\", \"zzz_doug_daft\", \"zzz_earl_caldwell\", \"zzz_east_texas\", \"zzz_eastern\", \"zzz_eastern\", \"zzz_eddie_george\", \"zzz_elian\", \"zzz_elian_gonzalez\", \"zzz_english\", \"zzz_english\", \"zzz_english\", \"zzz_english\", \"zzz_english\", \"zzz_faa\", \"zzz_faith\", \"zzz_fda\", \"zzz_fed\", \"zzz_fidel_castro\", \"zzz_first_amendment\", \"zzz_florida_state\", \"zzz_fox\", \"zzz_fox\", \"zzz_fox\", \"zzz_gary_bauer\", \"zzz_gary_payton\", \"zzz_george_bush\", \"zzz_george_bush\", \"zzz_gerald_levin\", \"zzz_go_ram\", \"zzz_god\", \"zzz_god\", \"zzz_god\", \"zzz_golan_height\", \"zzz_gop\", \"zzz_gore\", \"zzz_gov_george_w_bush\", \"zzz_governor_bush\", \"zzz_grozny\", \"zzz_harlem\", \"zzz_harvard_pilgrim\", \"zzz_havana\", \"zzz_health_care\", \"zzz_hiv\", \"zzz_hmo\", \"zzz_hmo\", \"zzz_hollywood\", \"zzz_hollywood\", \"zzz_holocaust\", \"zzz_homocysteine\", \"zzz_house_republican\", \"zzz_hub\", \"zzz_hurricane\", \"zzz_ibm\", \"zzz_ice\", \"zzz_immigration\", \"zzz_internet\", \"zzz_iowa\", \"zzz_iowa\", \"zzz_iraq\", \"zzz_islam\", \"zzz_israel\", \"zzz_jackson\", \"zzz_jackson\", \"zzz_jacksonville\", \"zzz_jacksonville\", \"zzz_jane_fonda\", \"zzz_jane_hull\", \"zzz_jeff_fisher\", \"zzz_jerry_jones\", \"zzz_jesus\", \"zzz_john_koskinen\", \"zzz_john_mccain\", \"zzz_john_rocker\", \"zzz_jones\", \"zzz_kilmer_mccully\", \"zzz_knick\", \"zzz_kosovo\", \"zzz_kremlin\", \"zzz_kurt_warner\", \"zzz_labor\", \"zzz_laker\", \"zzz_leon_smith\", \"zzz_mac\", \"zzz_mannesmann\", \"zzz_marc_gorlin\", \"zzz_mark_cuban\", \"zzz_marshall_faulk\", \"zzz_maverick\", \"zzz_max_india\", \"zzz_mccain\", \"zzz_medicare\", \"zzz_medicare\", \"zzz_medicine\", \"zzz_merrill_lynch\", \"zzz_mexican\", \"zzz_miami\", \"zzz_miami\", \"zzz_miami\", \"zzz_michael_dell\", \"zzz_michael_jordan\", \"zzz_michael_skakel\", \"zzz_microsoft\", \"zzz_mike_tyson\", \"zzz_millionaire\", \"zzz_modern_art\", \"zzz_mokhtar_haouari\", \"zzz_moscow\", \"zzz_motorola\", \"zzz_naacp\", \"zzz_nasa\", \"zzz_nasa\", \"zzz_nasdaq\", \"zzz_national_council\", \"zzz_naturalization_service\", \"zzz_nba\", \"zzz_nbc\", \"zzz_nbc\", \"zzz_ncaa\", \"zzz_new_hampshire\", \"zzz_new_hampshire\", \"zzz_new_hampshire\", \"zzz_new_mexico\", \"zzz_new_mexico\", \"zzz_new_mexico\", \"zzz_new_york\", \"zzz_new_york\", \"zzz_new_york\", \"zzz_new_york\", \"zzz_new_york\", \"zzz_new_york\", \"zzz_new_york\", \"zzz_new_york\", \"zzz_new_york\", \"zzz_new_york\", \"zzz_nfl\", \"zzz_nfl\", \"zzz_norway\", \"zzz_oscar\", \"zzz_osha\", \"zzz_party\", \"zzz_party\", \"zzz_pataki\", \"zzz_paul_cayard\", \"zzz_pb\", \"zzz_pentagon\", \"zzz_peter_warrick\", \"zzz_phil_jackson\", \"zzz_pinochet\", \"zzz_poor\", \"zzz_prada\", \"zzz_prada\", \"zzz_procter\", \"zzz_proposition\", \"zzz_public\", \"zzz_putnam\", \"zzz_ram\", \"zzz_random_house\", \"zzz_random_house\", \"zzz_raymond\", \"zzz_reilly\", \"zzz_reno\", \"zzz_republican\", \"zzz_reunion_gilbert\", \"zzz_rick_christie\", \"zzz_rochester\", \"zzz_roman_catholic\", \"zzz_rome\", \"zzz_rome\", \"zzz_russia\", \"zzz_russian\", \"zzz_sen_john_mccain\", \"zzz_senator_bradley\", \"zzz_serb\", \"zzz_silicon_valley\", \"zzz_sonic\", \"zzz_sopranos\", \"zzz_sotheby\", \"zzz_south_florida\", \"zzz_soviet\", \"zzz_soviet\", \"zzz_st_louis\", \"zzz_stephen_case\", \"zzz_steve_case\", \"zzz_steve_forbes\", \"zzz_steve_mcnair\", \"zzz_stripes\", \"zzz_student\", \"zzz_super_bowl\", \"zzz_suv\", \"zzz_syria\", \"zzz_tampa_bay\", \"zzz_tennessee\", \"zzz_tennessee\", \"zzz_thad_steele\", \"zzz_thomas_jefferson\", \"zzz_tiger_wood\", \"zzz_time_warner\", \"zzz_tony\", \"zzz_treasury\", \"zzz_trojan\", \"zzz_u_s\", \"zzz_u_s\", \"zzz_u_s\", \"zzz_u_s\", \"zzz_u_s\", \"zzz_u_s\", \"zzz_ucla\", \"zzz_united_nation\", \"zzz_united_nation\", \"zzz_united_states\", \"zzz_united_states\", \"zzz_united_states\", \"zzz_united_states\", \"zzz_united_states\", \"zzz_university\", \"zzz_university\", \"zzz_university\", \"zzz_university\", \"zzz_university\", \"zzz_university\", \"zzz_university\", \"zzz_usc\", \"zzz_vatican\", \"zzz_virginia_tech\", \"zzz_virtue\", \"zzz_vladimir_putin\", \"zzz_vodafone\", \"zzz_wall_street\", \"zzz_wall_street\", \"zzz_wall_street\", \"zzz_warner_lambert\", \"zzz_washington\", \"zzz_washington\", \"zzz_washington\", \"zzz_washington\", \"zzz_washington\", \"zzz_washington\", \"zzz_washington\", \"zzz_washington\", \"zzz_welfare\", \"zzz_young_children\"]}, \"mdsDat\": {\"y\": [0.12067257773750156, 0.03286187452776546, 0.09289070437668029, -0.08584542229060318, -0.01847403921744967, -0.17217505105555206, -0.12261054750893634, -0.062208979250867644, 0.19252979485891195, -0.0440689882529028, 0.10193946300077149, 0.159567793804337, -0.09967179358776018, 0.13076094190537504, -0.22616832904727022], \"cluster\": [1, 1, 1, 1, 1, 1, 1, 1, 1, 1, 1, 1, 1, 1, 1], \"Freq\": [8.190018577294133, 7.779829117131473, 7.377813002814582, 7.366860238278954, 7.015564885076278, 6.9790911104162285, 6.83724067506514, 6.8045577408306706, 6.800670221551284, 6.4265324215756365, 6.401967789691616, 6.1480703720393866, 5.3804033934392255, 5.3411170476069145, 5.150263407188487], \"topics\": [1, 2, 3, 4, 5, 6, 7, 8, 9, 10, 11, 12, 13, 14, 15], \"x\": [-0.10873681963753126, 0.1501406553693611, -0.14580514123978397, -0.1124398624728148, -0.19598993153227698, -0.033850565086811814, 0.09950567330863687, 0.13579352053732038, 0.2008050417466173, -0.028667204782539375, -0.16405544092230348, 0.21940663425334353, -0.06146085210393553, -0.08629381747504573, 0.13164811003776408]}, \"R\": 30, \"lambda.step\": 0.01, \"tinfo\": {\"Category\": [\"Default\", \"Default\", \"Default\", \"Default\", \"Default\", \"Default\", \"Default\", \"Default\", \"Default\", \"Default\", \"Default\", \"Default\", \"Default\", \"Default\", \"Default\", \"Default\", \"Default\", \"Default\", \"Default\", \"Default\", \"Default\", \"Default\", \"Default\", \"Default\", \"Default\", \"Default\", \"Default\", \"Default\", \"Default\", \"Default\", \"Topic1\", \"Topic1\", \"Topic1\", \"Topic1\", \"Topic1\", \"Topic1\", \"Topic1\", \"Topic1\", \"Topic1\", \"Topic1\", \"Topic1\", \"Topic1\", \"Topic1\", \"Topic1\", \"Topic1\", \"Topic1\", \"Topic1\", \"Topic1\", \"Topic1\", \"Topic1\", \"Topic1\", \"Topic1\", \"Topic1\", \"Topic1\", \"Topic1\", \"Topic1\", \"Topic1\", \"Topic1\", \"Topic1\", \"Topic1\", \"Topic1\", \"Topic1\", \"Topic1\", \"Topic1\", \"Topic1\", \"Topic1\", \"Topic1\", \"Topic1\", \"Topic1\", \"Topic1\", \"Topic1\", \"Topic1\", \"Topic1\", \"Topic1\", \"Topic1\", \"Topic1\", \"Topic1\", \"Topic1\", \"Topic1\", \"Topic1\", \"Topic1\", \"Topic2\", \"Topic2\", \"Topic2\", \"Topic2\", \"Topic2\", \"Topic2\", \"Topic2\", \"Topic2\", \"Topic2\", \"Topic2\", \"Topic2\", \"Topic2\", \"Topic2\", \"Topic2\", \"Topic2\", \"Topic2\", \"Topic2\", \"Topic2\", \"Topic2\", \"Topic2\", \"Topic2\", \"Topic2\", \"Topic2\", \"Topic2\", \"Topic2\", \"Topic2\", \"Topic2\", \"Topic2\", \"Topic2\", \"Topic2\", \"Topic2\", \"Topic2\", \"Topic2\", \"Topic2\", \"Topic2\", \"Topic2\", \"Topic2\", \"Topic2\", \"Topic2\", \"Topic2\", \"Topic2\", \"Topic2\", \"Topic2\", \"Topic2\", \"Topic2\", \"Topic2\", \"Topic2\", \"Topic2\", \"Topic2\", \"Topic2\", \"Topic2\", \"Topic2\", \"Topic2\", \"Topic2\", \"Topic2\", \"Topic2\", \"Topic2\", \"Topic2\", \"Topic2\", \"Topic2\", \"Topic2\", \"Topic2\", \"Topic2\", \"Topic2\", \"Topic2\", \"Topic2\", \"Topic2\", \"Topic2\", \"Topic2\", \"Topic2\", \"Topic2\", \"Topic2\", \"Topic2\", \"Topic2\", \"Topic2\", \"Topic2\", \"Topic2\", \"Topic2\", \"Topic2\", \"Topic2\", \"Topic2\", \"Topic2\", \"Topic2\", \"Topic2\", \"Topic2\", \"Topic3\", \"Topic3\", \"Topic3\", \"Topic3\", \"Topic3\", \"Topic3\", \"Topic3\", \"Topic3\", \"Topic3\", \"Topic3\", \"Topic3\", \"Topic3\", \"Topic3\", \"Topic3\", \"Topic3\", \"Topic3\", \"Topic3\", \"Topic3\", \"Topic3\", \"Topic3\", \"Topic3\", \"Topic3\", \"Topic3\", \"Topic3\", \"Topic3\", \"Topic3\", \"Topic3\", \"Topic3\", \"Topic3\", \"Topic3\", \"Topic3\", \"Topic3\", \"Topic3\", \"Topic3\", \"Topic3\", \"Topic3\", \"Topic3\", \"Topic3\", \"Topic3\", \"Topic3\", \"Topic3\", \"Topic3\", \"Topic3\", \"Topic3\", \"Topic3\", \"Topic3\", \"Topic3\", \"Topic3\", \"Topic3\", \"Topic3\", \"Topic3\", \"Topic3\", \"Topic3\", \"Topic3\", \"Topic3\", \"Topic3\", \"Topic3\", \"Topic4\", \"Topic4\", \"Topic4\", \"Topic4\", \"Topic4\", \"Topic4\", \"Topic4\", \"Topic4\", \"Topic4\", \"Topic4\", \"Topic4\", \"Topic4\", \"Topic4\", \"Topic4\", \"Topic4\", \"Topic4\", \"Topic4\", \"Topic4\", \"Topic4\", \"Topic4\", \"Topic4\", \"Topic4\", \"Topic4\", \"Topic4\", \"Topic4\", \"Topic4\", \"Topic4\", \"Topic4\", \"Topic4\", \"Topic4\", \"Topic4\", \"Topic4\", \"Topic4\", \"Topic4\", \"Topic4\", \"Topic4\", \"Topic4\", \"Topic4\", \"Topic4\", \"Topic4\", \"Topic4\", \"Topic4\", \"Topic4\", \"Topic4\", \"Topic4\", \"Topic4\", \"Topic4\", \"Topic4\", \"Topic4\", \"Topic4\", \"Topic4\", \"Topic4\", \"Topic4\", \"Topic4\", \"Topic4\", \"Topic4\", \"Topic4\", \"Topic4\", \"Topic4\", \"Topic4\", \"Topic4\", \"Topic4\", \"Topic4\", \"Topic4\", \"Topic4\", \"Topic4\", \"Topic4\", \"Topic4\", \"Topic5\", \"Topic5\", \"Topic5\", \"Topic5\", \"Topic5\", \"Topic5\", \"Topic5\", \"Topic5\", \"Topic5\", \"Topic5\", \"Topic5\", \"Topic5\", \"Topic5\", \"Topic5\", \"Topic5\", \"Topic5\", \"Topic5\", \"Topic5\", \"Topic5\", \"Topic5\", \"Topic5\", \"Topic5\", \"Topic5\", \"Topic5\", \"Topic5\", \"Topic5\", \"Topic5\", \"Topic5\", \"Topic5\", \"Topic5\", \"Topic5\", \"Topic5\", \"Topic5\", \"Topic5\", \"Topic5\", \"Topic5\", \"Topic5\", \"Topic5\", \"Topic5\", \"Topic5\", \"Topic5\", \"Topic5\", \"Topic5\", \"Topic5\", \"Topic5\", \"Topic5\", \"Topic5\", \"Topic5\", \"Topic5\", \"Topic5\", \"Topic5\", \"Topic5\", \"Topic5\", \"Topic5\", \"Topic5\", \"Topic5\", \"Topic5\", \"Topic5\", \"Topic5\", \"Topic5\", \"Topic5\", \"Topic5\", \"Topic5\", \"Topic5\", \"Topic5\", \"Topic5\", \"Topic5\", \"Topic5\", \"Topic5\", \"Topic5\", \"Topic5\", \"Topic5\", \"Topic5\", \"Topic5\", \"Topic5\", \"Topic5\", \"Topic5\", \"Topic5\", \"Topic5\", \"Topic6\", \"Topic6\", \"Topic6\", \"Topic6\", \"Topic6\", \"Topic6\", \"Topic6\", \"Topic6\", \"Topic6\", \"Topic6\", \"Topic6\", \"Topic6\", \"Topic6\", \"Topic6\", \"Topic6\", \"Topic6\", \"Topic6\", \"Topic6\", \"Topic6\", \"Topic6\", \"Topic6\", \"Topic6\", \"Topic6\", \"Topic6\", \"Topic6\", \"Topic6\", \"Topic6\", \"Topic6\", \"Topic6\", \"Topic6\", \"Topic6\", \"Topic6\", \"Topic6\", \"Topic6\", \"Topic6\", \"Topic6\", \"Topic6\", \"Topic6\", \"Topic6\", \"Topic6\", \"Topic6\", \"Topic6\", \"Topic6\", \"Topic6\", \"Topic6\", \"Topic6\", \"Topic6\", \"Topic6\", \"Topic6\", \"Topic6\", \"Topic6\", \"Topic6\", \"Topic6\", \"Topic6\", \"Topic6\", \"Topic6\", \"Topic6\", \"Topic6\", \"Topic6\", \"Topic6\", \"Topic6\", \"Topic6\", \"Topic6\", \"Topic6\", \"Topic7\", \"Topic7\", \"Topic7\", \"Topic7\", \"Topic7\", \"Topic7\", \"Topic7\", \"Topic7\", \"Topic7\", \"Topic7\", \"Topic7\", \"Topic7\", \"Topic7\", \"Topic7\", \"Topic7\", \"Topic7\", \"Topic7\", \"Topic7\", \"Topic7\", \"Topic7\", \"Topic7\", \"Topic7\", \"Topic7\", \"Topic7\", \"Topic7\", \"Topic7\", \"Topic7\", \"Topic7\", \"Topic7\", \"Topic7\", \"Topic7\", \"Topic7\", \"Topic7\", \"Topic7\", \"Topic7\", \"Topic7\", \"Topic7\", \"Topic7\", \"Topic7\", \"Topic7\", \"Topic7\", \"Topic7\", \"Topic7\", \"Topic7\", \"Topic7\", \"Topic7\", \"Topic7\", \"Topic7\", \"Topic7\", \"Topic7\", \"Topic7\", \"Topic7\", \"Topic7\", \"Topic7\", \"Topic7\", \"Topic7\", \"Topic7\", \"Topic7\", \"Topic7\", \"Topic7\", \"Topic7\", \"Topic7\", \"Topic7\", \"Topic7\", \"Topic7\", \"Topic7\", \"Topic7\", \"Topic7\", \"Topic7\", \"Topic7\", \"Topic7\", \"Topic7\", \"Topic7\", \"Topic7\", \"Topic8\", \"Topic8\", \"Topic8\", \"Topic8\", \"Topic8\", \"Topic8\", \"Topic8\", \"Topic8\", \"Topic8\", \"Topic8\", \"Topic8\", \"Topic8\", \"Topic8\", \"Topic8\", \"Topic8\", \"Topic8\", \"Topic8\", \"Topic8\", \"Topic8\", \"Topic8\", \"Topic8\", \"Topic8\", \"Topic8\", \"Topic8\", \"Topic8\", \"Topic8\", \"Topic8\", \"Topic8\", \"Topic8\", \"Topic8\", \"Topic8\", \"Topic8\", \"Topic8\", \"Topic8\", \"Topic8\", \"Topic8\", \"Topic8\", \"Topic8\", \"Topic8\", \"Topic8\", \"Topic8\", \"Topic8\", \"Topic8\", \"Topic8\", \"Topic8\", \"Topic8\", \"Topic8\", \"Topic8\", \"Topic8\", \"Topic8\", \"Topic8\", \"Topic8\", \"Topic8\", \"Topic8\", \"Topic8\", \"Topic8\", \"Topic8\", \"Topic8\", \"Topic8\", \"Topic8\", \"Topic8\", \"Topic8\", \"Topic8\", \"Topic8\", \"Topic8\", \"Topic8\", \"Topic8\", \"Topic8\", \"Topic8\", \"Topic8\", \"Topic8\", \"Topic9\", \"Topic9\", \"Topic9\", \"Topic9\", \"Topic9\", \"Topic9\", \"Topic9\", \"Topic9\", \"Topic9\", \"Topic9\", \"Topic9\", \"Topic9\", \"Topic9\", \"Topic9\", \"Topic9\", \"Topic9\", \"Topic9\", \"Topic9\", \"Topic9\", \"Topic9\", \"Topic9\", \"Topic9\", \"Topic9\", \"Topic9\", \"Topic9\", \"Topic9\", \"Topic9\", \"Topic9\", \"Topic9\", \"Topic9\", \"Topic9\", \"Topic9\", \"Topic9\", \"Topic9\", \"Topic9\", \"Topic9\", \"Topic9\", \"Topic9\", \"Topic9\", \"Topic9\", \"Topic9\", \"Topic9\", \"Topic9\", \"Topic9\", \"Topic9\", \"Topic9\", \"Topic9\", \"Topic9\", \"Topic9\", \"Topic9\", \"Topic9\", \"Topic9\", \"Topic9\", \"Topic9\", \"Topic9\", \"Topic9\", \"Topic9\", \"Topic10\", \"Topic10\", \"Topic10\", \"Topic10\", \"Topic10\", \"Topic10\", \"Topic10\", \"Topic10\", \"Topic10\", \"Topic10\", \"Topic10\", \"Topic10\", \"Topic10\", \"Topic10\", \"Topic10\", \"Topic10\", \"Topic10\", \"Topic10\", \"Topic10\", \"Topic10\", \"Topic10\", \"Topic10\", \"Topic10\", \"Topic10\", \"Topic10\", \"Topic10\", \"Topic10\", \"Topic10\", \"Topic10\", \"Topic10\", \"Topic10\", \"Topic10\", \"Topic10\", \"Topic10\", \"Topic10\", \"Topic10\", \"Topic10\", \"Topic10\", \"Topic10\", \"Topic10\", \"Topic10\", \"Topic10\", \"Topic10\", \"Topic10\", \"Topic10\", \"Topic10\", \"Topic10\", \"Topic10\", \"Topic10\", \"Topic10\", \"Topic10\", \"Topic10\", \"Topic10\", \"Topic10\", \"Topic10\", \"Topic10\", \"Topic10\", \"Topic10\", \"Topic10\", \"Topic10\", \"Topic10\", \"Topic10\", \"Topic10\", \"Topic10\", \"Topic10\", \"Topic10\", \"Topic10\", \"Topic10\", \"Topic10\", \"Topic10\", \"Topic10\", \"Topic10\", \"Topic10\", \"Topic10\", \"Topic10\", \"Topic10\", \"Topic10\", \"Topic11\", \"Topic11\", \"Topic11\", \"Topic11\", \"Topic11\", \"Topic11\", \"Topic11\", \"Topic11\", \"Topic11\", \"Topic11\", \"Topic11\", \"Topic11\", \"Topic11\", \"Topic11\", \"Topic11\", \"Topic11\", \"Topic11\", \"Topic11\", \"Topic11\", \"Topic11\", \"Topic11\", \"Topic11\", \"Topic11\", \"Topic11\", \"Topic11\", \"Topic11\", \"Topic11\", \"Topic11\", \"Topic11\", \"Topic11\", \"Topic11\", \"Topic11\", \"Topic11\", \"Topic11\", \"Topic11\", \"Topic11\", \"Topic11\", \"Topic11\", \"Topic11\", \"Topic11\", \"Topic11\", \"Topic11\", \"Topic11\", \"Topic11\", \"Topic11\", \"Topic11\", \"Topic11\", \"Topic11\", \"Topic11\", \"Topic11\", \"Topic11\", \"Topic11\", \"Topic11\", \"Topic11\", \"Topic11\", \"Topic11\", \"Topic11\", \"Topic11\", \"Topic11\", \"Topic11\", \"Topic11\", \"Topic11\", \"Topic11\", \"Topic11\", \"Topic11\", \"Topic11\", \"Topic11\", \"Topic11\", \"Topic11\", \"Topic11\", \"Topic11\", \"Topic11\", \"Topic11\", \"Topic12\", \"Topic12\", \"Topic12\", \"Topic12\", \"Topic12\", \"Topic12\", \"Topic12\", \"Topic12\", \"Topic12\", \"Topic12\", \"Topic12\", \"Topic12\", \"Topic12\", \"Topic12\", \"Topic12\", \"Topic12\", \"Topic12\", \"Topic12\", \"Topic12\", \"Topic12\", \"Topic12\", \"Topic12\", \"Topic12\", \"Topic12\", \"Topic12\", \"Topic12\", \"Topic12\", \"Topic12\", \"Topic12\", \"Topic12\", \"Topic12\", \"Topic12\", \"Topic12\", \"Topic12\", \"Topic12\", \"Topic12\", \"Topic12\", \"Topic12\", \"Topic12\", \"Topic12\", \"Topic12\", \"Topic12\", \"Topic12\", \"Topic12\", \"Topic12\", \"Topic12\", \"Topic12\", \"Topic12\", \"Topic12\", \"Topic12\", \"Topic12\", \"Topic12\", \"Topic12\", \"Topic12\", \"Topic12\", \"Topic12\", \"Topic12\", \"Topic12\", \"Topic12\", \"Topic12\", \"Topic12\", \"Topic12\", \"Topic12\", \"Topic12\", \"Topic12\", \"Topic13\", \"Topic13\", \"Topic13\", \"Topic13\", \"Topic13\", \"Topic13\", \"Topic13\", \"Topic13\", \"Topic13\", \"Topic13\", \"Topic13\", \"Topic13\", \"Topic13\", \"Topic13\", \"Topic13\", \"Topic13\", \"Topic13\", \"Topic13\", \"Topic13\", \"Topic13\", \"Topic13\", \"Topic13\", \"Topic13\", \"Topic13\", \"Topic13\", \"Topic13\", \"Topic13\", \"Topic13\", \"Topic13\", \"Topic13\", \"Topic13\", \"Topic13\", \"Topic13\", \"Topic13\", \"Topic13\", \"Topic13\", \"Topic13\", \"Topic13\", \"Topic13\", \"Topic13\", \"Topic13\", \"Topic13\", \"Topic13\", \"Topic13\", \"Topic13\", \"Topic13\", \"Topic13\", \"Topic13\", \"Topic13\", \"Topic13\", \"Topic13\", \"Topic13\", \"Topic13\", \"Topic13\", \"Topic13\", \"Topic13\", \"Topic13\", \"Topic13\", \"Topic13\", \"Topic13\", \"Topic13\", \"Topic13\", \"Topic13\", \"Topic13\", \"Topic13\", \"Topic13\", \"Topic13\", \"Topic13\", \"Topic13\", \"Topic14\", \"Topic14\", \"Topic14\", \"Topic14\", \"Topic14\", \"Topic14\", \"Topic14\", \"Topic14\", \"Topic14\", \"Topic14\", \"Topic14\", \"Topic14\", \"Topic14\", \"Topic14\", \"Topic14\", \"Topic14\", \"Topic14\", \"Topic14\", \"Topic14\", \"Topic14\", \"Topic14\", \"Topic14\", \"Topic14\", \"Topic14\", \"Topic14\", \"Topic14\", \"Topic14\", \"Topic14\", \"Topic14\", \"Topic14\", \"Topic14\", \"Topic14\", \"Topic14\", \"Topic14\", \"Topic14\", \"Topic14\", \"Topic14\", \"Topic14\", \"Topic14\", \"Topic14\", \"Topic14\", \"Topic14\", \"Topic14\", \"Topic14\", \"Topic14\", \"Topic14\", \"Topic14\", \"Topic14\", \"Topic14\", \"Topic14\", \"Topic14\", \"Topic14\", \"Topic14\", \"Topic14\", \"Topic14\", \"Topic14\", \"Topic14\", \"Topic14\", \"Topic14\", \"Topic14\", \"Topic15\", \"Topic15\", \"Topic15\", \"Topic15\", \"Topic15\", \"Topic15\", \"Topic15\", \"Topic15\", \"Topic15\", \"Topic15\", \"Topic15\", \"Topic15\", \"Topic15\", \"Topic15\", \"Topic15\", \"Topic15\", \"Topic15\", \"Topic15\", \"Topic15\", \"Topic15\", \"Topic15\", \"Topic15\", \"Topic15\", \"Topic15\", \"Topic15\", \"Topic15\", \"Topic15\", \"Topic15\", \"Topic15\", \"Topic15\", \"Topic15\", \"Topic15\", \"Topic15\", \"Topic15\", \"Topic15\", \"Topic15\", \"Topic15\", \"Topic15\", \"Topic15\", \"Topic15\", \"Topic15\", \"Topic15\", \"Topic15\", \"Topic15\", \"Topic15\", \"Topic15\", \"Topic15\", \"Topic15\", \"Topic15\", \"Topic15\", \"Topic15\", \"Topic15\", \"Topic15\", \"Topic15\", \"Topic15\", \"Topic15\", \"Topic15\", \"Topic15\", \"Topic15\", \"Topic15\", \"Topic15\", \"Topic15\", \"Topic15\", \"Topic15\", \"Topic15\", \"Topic15\", \"Topic15\", \"Topic15\", \"Topic15\", \"Topic15\"], \"Term\": [\"team\", \"campaign\", \"game\", \"percent\", \"company\", \"zzz_al_gore\", \"season\", \"play\", \"point\", \"million\", \"market\", \"player\", \"com\", \"computer\", \"show\", \"school\", \"coach\", \"companies\", \"film\", \"zzz_bill_bradley\", \"web\", \"family\", \"official\", \"stock\", \"law\", \"case\", \"zzz_george_bush\", \"zzz_internet\", \"site\", \"yard\", \"zzz_al_gore\", \"zzz_mccain\", \"zzz_bush\", \"voter\", \"zzz_john_mccain\", \"zzz_steve_forbes\", \"zzz_bradley\", \"zzz_republican\", \"candidates\", \"zzz_iowa\", \"zzz_bill_bradley\", \"zzz_new_hampshire\", \"democrat\", \"zzz_governor_bush\", \"zzz_george_bush\", \"caucuses\", \"zzz_alan_keyes\", \"zzz_gore\", \"zzz_gop\", \"zzz_gary_bauer\", \"poll\", \"primary\", \"campaigning\", \"ballot\", \"conservatives\", \"zzz_bob_dole\", \"zzz_sen_john_mccain\", \"abortion\", \"zzz_gov_george_w_bush\", \"zzz_senator_bradley\", \"campaign\", \"vote\", \"candidate\", \"republican\", \"caucus\", \"votes\", \"presidential\", \"democratic\", \"zzz_bill_clinton\", \"senator\", \"debate\", \"election\", \"conservative\", \"political\", \"president\", \"politic\", \"race\", \"tax\", \"zzz_party\", \"percent\", \"support\", \"mom\", \"bedroom\", \"zzz_jane_fonda\", \"wedding\", \"dressed\", \"barn\", \"zzz_abc_executive\", \"dad\", \"dress\", \"hated\", \"laughed\", \"nap\", \"jean\", \"zzz_reunion_gilbert\", \"zoo\", \"grief\", \"zzz_thad_steele\", \"pillow\", \"gown\", \"zzz_brian_goldberg\", \"zzz_akira_hareruya\", \"zzz_marc_gorlin\", \"zzz_clean\", \"zzz_raymond\", \"zzz_east_texas\", \"marry\", \"belly\", \"zzz_young_children\", \"zzz_go_ram\", \"zzz_hub\", \"crying\", \"clothes\", \"jacket\", \"homework\", \"friend\", \"counselor\", \"dear\", \"wear\", \"jokes\", \"hair\", \"ear\", \"married\", \"shirt\", \"husband\", \"joke\", \"house\", \"wife\", \"sat\", \"remember\", \"liked\", \"kid\", \"sitting\", \"daughter\", \"cat\", \"family\", \"apartment\", \"room\", \"tell\", \"young\", \"parent\", \"son\", \"mother\", \"women\", \"home\", \"sister\", \"children\", \"couple\", \"saw\", \"knew\", \"thought\", \"feel\", \"looking\", \"school\", \"living\", \"wanted\", \"job\", \"talk\", \"look\", \"woman\", \"help\", \"real\", \"told\", \"hour\", \"father\", \"asked\", \"zzz_russia\", \"zzz_russian\", \"peace\", \"zzz_israel\", \"zzz_vladimir_putin\", \"russian\", \"zzz_boris_yeltsin\", \"troop\", \"zzz_chechnya\", \"zzz_kosovo\", \"syrian\", \"zzz_syria\", \"zzz_moscow\", \"israeli\", \"palestinian\", \"zzz_serb\", \"zzz_bleated_nato\", \"zzz_barak\", \"zzz_kremlin\", \"zzz_chechen\", \"civilian\", \"rebel\", \"commander\", \"zzz_grozny\", \"israelis\", \"zzz_pentagon\", \"zzz_iraq\", \"treaty\", \"diplomat\", \"zzz_golan_height\", \"army\", \"zzz_soviet\", \"nuclear\", \"zzz_united_nation\", \"soldier\", \"military\", \"war\", \"minister\", \"forces\", \"weapon\", \"countries\", \"security\", \"government\", \"zzz_united_states\", \"leader\", \"international\", \"zzz_u_s\", \"power\", \"official\", \"talk\", \"political\", \"country\", \"zzz_clinton\", \"president\", \"foreign\", \"zzz_american\", \"economic\", \"investment\", \"investor\", \"prices\", \"zzz_alan_greenspan\", \"zzz_fed\", \"earning\", \"zzz_coke\", \"zzz_nasdaq\", \"shareholder\", \"zzz_michael_dell\", \"equity\", \"zzz_wall_street\", \"cent\", \"brokerage\", \"shares\", \"zzz_treasury\", \"zzz_mannesmann\", \"zzz_airbus\", \"zzz_warner_lambert\", \"portfolio\", \"zzz_merrill_lynch\", \"zzz_poor\", \"zzz_procter\", \"securities\", \"zzz_doug_daft\", \"bottler\", \"zzz_vodafone\", \"monetary\", \"consolidation\", \"zzz_brazil\", \"profit\", \"growth\", \"stock\", \"banking\", \"inflation\", \"asset\", \"trading\", \"bond\", \"market\", \"zzz_coca_cola\", \"index\", \"firm\", \"price\", \"zzz_boeing\", \"rates\", \"bank\", \"analyst\", \"share\", \"revenue\", \"sales\", \"management\", \"company\", \"companies\", \"percent\", \"billion\", \"million\", \"fund\", \"business\", \"chairman\", \"executive\", \"economy\", \"chief\", \"quarter\", \"cost\", \"term\", \"deal\", \"money\", \"industry\", \"union\", \"zzz_harvard_pilgrim\", \"zzz_labor\", \"zzz_pataki\", \"zzz_davis\", \"zzz_public\", \"zzz_house_republican\", \"tuition\", \"employer\", \"surpluses\", \"deduction\", \"applicant\", \"initiatives\", \"taxpayer\", \"gov\", \"zzz_census\", \"uninsured\", \"zzz_welfare\", \"zzz_reilly\", \"gambling\", \"receivership\", \"endowment\", \"zzz_health_care\", \"zzz_student\", \"zzz_budget_office\", \"sponsorship\", \"worker\", \"zzz_osha\", \"proposes\", \"zzz_proposition\", \"voucher\", \"zzz_act\", \"income\", \"proposed\", \"nonprofit\", \"encourage\", \"student\", \"zzz_hmo\", \"insurance\", \"proposal\", \"education\", \"zzz_commission\", \"program\", \"zzz_congress\", \"teacher\", \"school\", \"legislation\", \"plan\", \"loan\", \"spending\", \"pay\", \"surplus\", \"lawmaker\", \"benefit\", \"zzz_medicare\", \"money\", \"tax\", \"families\", \"health\", \"debt\", \"care\", \"provide\", \"million\", \"bill\", \"public\", \"cut\", \"member\", \"billion\", \"cost\", \"percent\", \"zzz_clinton\", \"government\", \"group\", \"federal\", \"job\", \"help\", \"need\", \"president\", \"official\", \"zzz_internet\", \"internet\", \"software\", \"zzz_time_warner\", \"zzz_microsoft\", \"zzz_america_online\", \"online\", \"digital\", \"zzz_apple\", \"user\", \"zzz_steve_case\", \"zzz_ibm\", \"zzz_gerald_levin\", \"zzz_aol_time_warner\", \"zzz_silicon_valley\", \"wireless\", \"zzz_cable\", \"mp3\", \"broadband\", \"zzz_mac\", \"zzz_at\", \"modem\", \"browser\", \"zzz_bill_gates\", \"download\", \"zzz_stephen_case\", \"zzz_aol\", \"zzz_motorola\", \"computing\", \"zzz_john_koskinen\", \"computer\", \"site\", \"sites\", \"zzz_amazon\", \"web\", \"machines\", \"cable\", \"commerce\", \"click\", \"electronic\", \"provider\", \"mail\", \"y2k\", \"www\", \"technology\", \"access\", \"chip\", \"content\", \"tech\", \"information\", \"services\", \"media\", \"customer\", \"company\", \"network\", \"consumer\", \"system\", \"com\", \"product\", \"companies\", \"business\", \"offer\", \"deal\", \"million\", \"passenger\", \"rain\", \"ski\", \"zzz_stripes\", \"moon\", \"zzz_paul_cayard\", \"temperatures\", \"traveler\", \"trees\", \"sky\", \"truck\", \"cargo\", \"airline\", \"fishing\", \"zzz_prada\", \"skier\", \"deck\", \"snow\", \"mph\", \"zzz_suv\", \"wheel\", \"wind\", \"galaxies\", \"sensor\", \"zzz_ice\", \"generator\", \"zzz_faa\", \"shuttle\", \"monument\", \"spacecraft\", \"midnight\", \"accident\", \"planet\", \"rear\", \"zzz_nasa\", \"zzz_apache\", \"highway\", \"storm\", \"miles\", \"zzz_alaska\", \"car\", \"vehicles\", \"park\", \"vehicle\", \"weather\", \"feet\", \"winter\", \"flight\", \"mountain\", \"square\", \"driver\", \"space\", \"area\", \"boat\", \"mile\", \"light\", \"ship\", \"air\", \"pilot\", \"north\", \"road\", \"building\", \"foot\", \"water\", \"built\", \"seat\", \"land\", \"center\", \"hour\", \"control\", \"door\", \"side\", \"system\", \"part\", \"film\", \"movie\", \"song\", \"theater\", \"singer\", \"zzz_tony\", \"opera\", \"zzz_abc\", \"starring\", \"comedy\", \"filmmaker\", \"comic\", \"composer\", \"zzz_oscar\", \"documentary\", \"zzz_hollywood\", \"zzz_millionaire\", \"musical\", \"soprano\", \"zzz_sopranos\", \"guitar\", \"sitcom\", \"zzz_denzel_washington\", \"zzz_angel\", \"singing\", \"actor\", \"genre\", \"orchestra\", \"zzz_hurricane\", \"zzz_pb\", \"drama\", \"zzz_fox\", \"actress\", \"sing\", \"festival\", \"zzz_nbc\", \"studio\", \"piano\", \"producer\", \"script\", \"character\", \"album\", \"movies\", \"concert\", \"show\", \"music\", \"band\", \"jazz\", \"pop\", \"award\", \"series\", \"rating\", \"cast\", \"production\", \"viewer\", \"love\", \"director\", \"audience\", \"play\", \"television\", \"hit\", \"girl\", \"set\", \"performance\", \"sound\", \"network\", \"writer\", \"career\", \"look\", \"hour\", \"young\", \"zzz_super_bowl\", \"zzz_ram\", \"titan\", \"quarterback\", \"zzz_bill_belichick\", \"zzz_bill_parcell\", \"zzz_st_louis\", \"zzz_nfl\", \"touchdown\", \"patriot\", \"zzz_kurt_warner\", \"zzz_steve_mcnair\", \"zzz_dick_vermeil\", \"jaguar\", \"zzz_cowboy\", \"zzz_tampa_bay\", \"viking\", \"tackle\", \"football\", \"linebacker\", \"coordinator\", \"dolphin\", \"zzz_eddie_george\", \"zzz_jeff_fisher\", \"zzz_jerry_jones\", \"zzz_chan_gailey\", \"zzz_jacksonville\", \"zzz_dallas_cowboy\", \"zzz_dan_marino\", \"zzz_marshall_faulk\", \"yard\", \"receiver\", \"zzz_tennessee\", \"defensive\", \"playoff\", \"jet\", \"coach\", \"team\", \"season\", \"game\", \"offense\", \"player\", \"offensive\", \"coaches\", \"play\", \"pass\", \"field\", \"head\", \"owner\", \"league\", \"run\", \"ball\", \"games\", \"win\", \"running\", \"guy\", \"left\", \"religion\", \"jew\", \"zzz_jesus\", \"priest\", \"museum\", \"zzz_holocaust\", \"zzz_david_irving\", \"zzz_roman_catholic\", \"zzz_islam\", \"historical\", \"bishop\", \"painter\", \"zzz_sotheby\", \"zzz_bible\", \"zzz_christianity\", \"norwegian\", \"pigeon\", \"zzz_thomas_jefferson\", \"zzz_berlin\", \"zzz_modern_art\", \"zzz_vatican\", \"zzz_birthright_israel\", \"nazi\", \"poem\", \"zzz_norway\", \"zzz_virtue\", \"curator\", \"saint\", \"zzz_faith\", \"pope\", \"painting\", \"prayer\", \"greek\", \"centuries\", \"theories\", \"zzz_rome\", \"zzz_christian\", \"coin\", \"religious\", \"exhibition\", \"faith\", \"scholar\", \"church\", \"zzz_english\", \"literature\", \"french\", \"cultural\", \"century\", \"book\", \"language\", \"born\", \"culture\", \"author\", \"belief\", \"zzz_god\", \"history\", \"wrote\", \"writing\", \"jewish\", \"modern\", \"society\", \"zzz_american\", \"died\", \"word\", \"art\", \"published\", \"collection\", \"list\", \"zzz_america\", \"zzz_new_york\", \"known\", \"american\", \"writer\", \"part\", \"human\", \"kind\", \"country\", \"enforcement\", \"arrest\", \"inmates\", \"prosecutor\", \"jury\", \"defendant\", \"indictment\", \"cocaine\", \"zzz_algerian\", \"plaintiff\", \"zzz_jane_hull\", \"sentenced\", \"smuggler\", \"zzz_ahmed_ressam\", \"investigation\", \"damages\", \"zzz_michael_skakel\", \"zzz_first_amendment\", \"zzz_mexican\", \"theft\", \"zzz_pinochet\", \"offender\", \"convicted\", \"bonfire\", \"zzz_attica\", \"zzz_mokhtar_haouari\", \"alleged\", \"indicted\", \"smuggling\", \"zzz_amadou_diallo\", \"arrested\", \"illegal\", \"sued\", \"incident\", \"stolen\", \"execution\", \"criminal\", \"charged\", \"prison\", \"investigator\", \"witnesses\", \"police\", \"crime\", \"authorities\", \"law\", \"lawyer\", \"violation\", \"justice\", \"charges\", \"attorney\", \"zzz_new_mexico\", \"case\", \"court\", \"legal\", \"judge\", \"officer\", \"cases\", \"trial\", \"death\", \"agent\", \"gun\", \"official\", \"federal\", \"evidence\", \"drug\", \"government\", \"murder\", \"decision\", \"found\", \"right\", \"public\", \"office\", \"group\", \"zzz_nba\", \"zzz_laker\", \"rebound\", \"zzz_michael_jordan\", \"zzz_mike_tyson\", \"tournament\", \"pointer\", \"zzz_ucla\", \"foul\", \"zzz_bruin\", \"zzz_usc\", \"zzz_knick\", \"zzz_phil_jackson\", \"zzz_florida_state\", \"zzz_virginia_tech\", \"zzz_leon_smith\", \"zzz_sonic\", \"zzz_celtic\", \"zzz_bobby_bowden\", \"zzz_peter_warrick\", \"zzz_ncaa\", \"fff\", \"zzz_maverick\", \"zzz_mark_cuban\", \"zzz_jones\", \"zzz_charlotte\", \"zzz_trojan\", \"zzz_tiger_wood\", \"zzz_andre_agassi\", \"zzz_gary_payton\", \"wizard\", \"basketball\", \"streak\", \"shot\", \"point\", \"king\", \"games\", \"rocket\", \"guard\", \"game\", \"player\", \"team\", \"goal\", \"scored\", \"play\", \"played\", \"playing\", \"win\", \"forward\", \"lead\", \"season\", \"half\", \"left\", \"night\", \"minutes\", \"victory\", \"final\", \"won\", \"winning\", \"guy\", \"coach\", \"beat\", \"right\", \"hit\", \"high\", \"patient\", \"doctor\", \"flu\", \"physician\", \"therapy\", \"zzz_homocysteine\", \"disease\", \"medicine\", \"diseases\", \"infection\", \"symptom\", \"clinical\", \"potassium\", \"zzz_fda\", \"zzz_dna\", \"bookstores\", \"medication\", \"virus\", \"zzz_putnam\", \"zzz_hiv\", \"witchcraft\", \"psychology\", \"zzz_medicine\", \"disorder\", \"zzz_cdc\", \"zzz_max_india\", \"males\", \"dentist\", \"hormone\", \"zzz_kilmer_mccully\", \"zzz_aid\", \"cancer\", \"zzz_random_house\", \"illness\", \"gene\", \"mental\", \"medical\", \"hospital\", \"brain\", \"blood\", \"diet\", \"treatment\", \"study\", \"researcher\", \"scientist\", \"aging\", \"test\", \"cell\", \"drug\", \"heart\", \"research\", \"risk\", \"studies\", \"women\", \"human\", \"condition\", \"surgery\", \"zzz_university\", \"health\", \"level\", \"result\", \"find\", \"body\", \"found\", \"problem\", \"book\", \"american\", \"called\", \"help\", \"zzz_elian\", \"zzz_cuba\", \"flag\", \"zzz_black\", \"zzz_immigration\", \"zzz_john_rocker\", \"cuban\", \"grandmother\", \"racial\", \"zzz_fidel_castro\", \"zzz_elian_gonzalez\", \"zzz_confederate\", \"zzz_reno\", \"racism\", \"zzz_earl_caldwell\", \"uncle\", \"grandparent\", \"zzz_south_florida\", \"racist\", \"zzz_harlem\", \"exile\", \"zzz_naturalization_service\", \"slavery\", \"zzz_cuban_american\", \"zzz_naacp\", \"zzz_havana\", \"drowned\", \"zzz_rochester\", \"zzz_national_council\", \"boycott\", \"zzz_jackson\", \"citizenship\", \"relatives\", \"boy\", \"black\", \"symbol\", \"zzz_miami\", \"braves\", \"father\", \"custody\", \"protest\", \"reporter\", \"family\", \"white\", \"decision\", \"return\", \"meeting\", \"right\", \"child\", \"case\", \"zzz_new_york\", \"told\", \"son\", \"newspaper\", \"mother\", \"home\", \"zzz_washington\", \"zzz_united_states\", \"official\", \"group\", \"cup\", \"tablespoon\", \"wine\", \"pepper\", \"cooking\", \"egg\", \"garden\", \"teaspoon\", \"dish\", \"sauce\", \"meal\", \"recipes\", \"cheese\", \"olive\", \"butter\", \"garlic\", \"onion\", \"eta\", \"juice\", \"zzz_eastern\", \"chopped\", \"gram\", \"kitchen\", \"orange\", \"nytsyn\", \"zzz_andy_alexander\", \"pageex\", \"zzz_rick_christie\", \"wines\", \"potatoes\", \"cook\", \"austin\", \"salt\", \"pan\", \"statesman\", \"palm\", \"chicken\", \"taste\", \"cream\", \"commentary\", \"food\", \"fat\", \"bowl\", \"restaurant\", \"marked\", \"com\", \"daily\", \"meat\", \"oil\", \"serving\", \"minutes\", \"water\", \"add\", \"spot\", \"green\", \"serve\", \"fresh\", \"hot\", \"large\", \"separate\", \"today\", \"question\", \"information\", \"sport\", \"newspaper\", \"makes\", \"hand\", \"need\", \"small\", \"look\"], \"loglift\": [30.0, 29.0, 28.0, 27.0, 26.0, 25.0, 24.0, 23.0, 22.0, 21.0, 20.0, 19.0, 18.0, 17.0, 16.0, 15.0, 14.0, 13.0, 12.0, 11.0, 10.0, 9.0, 8.0, 7.0, 6.0, 5.0, 4.0, 3.0, 2.0, 1.0, 2.5019, 2.5016, 2.5016, 2.5015, 2.5013, 2.5013, 2.5013, 2.5012, 2.5012, 2.5012, 2.501, 2.5009, 2.5008, 2.5006, 2.5005, 2.5005, 2.4999, 2.4997, 2.4996, 2.4992, 2.499, 2.4988, 2.4986, 2.4978, 2.4974, 2.4971, 2.4971, 2.497, 2.4968, 2.4963, 2.4873, 2.4961, 2.4948, 2.4879, 2.4958, 2.4917, 2.4375, 2.3664, 2.4341, 2.4288, 2.3323, 2.2289, 2.3546, 1.9123, 1.706, 2.2015, 2.1104, 1.8181, 2.2321, 0.7761, 1.6464, 2.5491, 2.546, 2.5417, 2.5413, 2.5413, 2.541, 2.5395, 2.5357, 2.5349, 2.5348, 2.5346, 2.5332, 2.5313, 2.5309, 2.5309, 2.5306, 2.5285, 2.5276, 2.5271, 2.5271, 2.5266, 2.5244, 2.5244, 2.5238, 2.5232, 2.5232, 2.5225, 2.5225, 2.5218, 2.5187, 2.5115, 2.4973, 2.5028, 2.5116, 2.4361, 2.5052, 2.4924, 2.4524, 2.4624, 2.4309, 2.4423, 2.4072, 2.4271, 2.362, 2.4431, 2.2866, 2.274, 2.3887, 2.3014, 2.3977, 2.2465, 2.3378, 2.1917, 2.3708, 2.0037, 2.2833, 2.0311, 2.0375, 1.9942, 2.0879, 1.9841, 1.9841, 1.7879, 1.6435, 2.1816, 1.718, 1.9805, 1.9368, 1.9261, 1.7188, 1.6927, 1.7887, 1.3483, 1.9175, 1.6281, 1.3644, 1.4016, 1.2326, 1.7377, 1.2357, 1.5228, 1.258, 1.2839, 1.4622, 1.294, 2.6057, 2.6056, 2.6054, 2.6054, 2.6049, 2.6048, 2.6048, 2.6044, 2.6043, 2.6043, 2.6042, 2.6042, 2.6041, 2.6038, 2.6036, 2.6035, 2.6033, 2.6032, 2.6031, 2.6031, 2.6031, 2.6031, 2.6029, 2.6027, 2.6019, 2.6017, 2.6017, 2.6016, 2.6012, 2.601, 2.6009, 2.5997, 2.5915, 2.5991, 2.5564, 2.4846, 2.3853, 2.4593, 2.4515, 2.4026, 2.24, 2.2318, 1.7343, 1.8446, 1.8499, 2.1973, 1.9232, 1.7902, 1.4334, 1.6691, 1.4973, 1.467, 1.4302, 0.8964, 1.9408, 1.3235, 1.6427, 2.6069, 2.6068, 2.6058, 2.6046, 2.6045, 2.6036, 2.6034, 2.6025, 2.6014, 2.6009, 2.6008, 2.6006, 2.6003, 2.5995, 2.5992, 2.5983, 2.5983, 2.598, 2.5978, 2.5974, 2.5974, 2.597, 2.5968, 2.596, 2.5957, 2.5953, 2.5951, 2.5946, 2.5936, 2.5935, 2.5924, 2.5835, 2.5743, 2.5901, 2.5854, 2.5811, 2.5721, 2.5542, 2.4852, 2.5709, 2.5619, 2.4621, 2.4705, 2.5454, 2.4573, 2.4554, 2.3745, 2.3924, 2.4947, 2.3379, 2.4297, 2.0948, 2.157, 2.0168, 2.0905, 1.7021, 2.0413, 1.8206, 2.1039, 1.963, 2.098, 1.8381, 1.8986, 1.7873, 1.7339, 1.5444, 1.1325, 1.8312, 2.6534, 2.6531, 2.6491, 2.6483, 2.6476, 2.6471, 2.6469, 2.6466, 2.6458, 2.6447, 2.6436, 2.6432, 2.6432, 2.6428, 2.6423, 2.6408, 2.6406, 2.6384, 2.6376, 2.6373, 2.6342, 2.6342, 2.6317, 2.6317, 2.6308, 2.6303, 2.63, 2.6292, 2.6292, 2.6287, 2.626, 2.6154, 2.5291, 2.5131, 2.5619, 2.5631, 2.433, 2.5921, 2.447, 2.3981, 2.4054, 2.5311, 2.235, 2.3036, 2.3612, 2.1767, 2.4316, 2.1629, 2.4765, 2.304, 2.1828, 2.4125, 2.4066, 2.21, 2.4318, 1.8651, 1.9525, 2.213, 1.9472, 2.2751, 1.9302, 2.1085, 1.5414, 1.9383, 1.6771, 1.7886, 1.6567, 1.6483, 1.7861, 1.1003, 1.5558, 1.3967, 1.2435, 1.5763, 1.3977, 1.3138, 1.046, 0.8449, 0.8704, 2.6617, 2.6614, 2.6609, 2.6609, 2.6608, 2.6601, 2.6599, 2.6597, 2.657, 2.6568, 2.6563, 2.656, 2.6553, 2.6552, 2.6552, 2.6546, 2.6527, 2.6525, 2.6523, 2.652, 2.6519, 2.6513, 2.6507, 2.6501, 2.65, 2.65, 2.6498, 2.6495, 2.6492, 2.6489, 2.636, 2.6219, 2.6166, 2.6463, 2.584, 2.6339, 2.5868, 2.6057, 2.6358, 2.5874, 2.6091, 2.4889, 2.5594, 2.4666, 2.3986, 2.5122, 2.5037, 2.4236, 2.4798, 2.1218, 2.2453, 2.1342, 2.2022, 1.748, 2.1657, 2.1693, 1.8336, 1.8355, 1.9835, 1.6483, 1.6003, 1.8317, 1.519, 0.5766, 2.6795, 2.6789, 2.6768, 2.6755, 2.675, 2.6748, 2.6745, 2.6745, 2.6741, 2.6731, 2.6727, 2.6714, 2.671, 2.671, 2.6703, 2.6696, 2.6694, 2.6694, 2.669, 2.6687, 2.6687, 2.668, 2.6675, 2.6664, 2.6664, 2.6664, 2.6662, 2.6658, 2.6656, 2.6654, 2.6615, 2.6565, 2.6633, 2.6627, 2.6644, 2.6642, 2.6548, 2.6406, 2.6111, 2.6506, 2.5758, 2.6351, 2.6164, 2.6134, 2.5667, 2.5077, 2.5089, 2.5283, 2.5232, 2.5703, 2.4806, 2.4442, 2.3185, 2.4655, 2.5929, 2.2988, 2.4964, 2.2656, 2.495, 2.504, 2.0732, 1.9925, 2.1697, 1.9816, 2.1258, 2.211, 2.038, 1.771, 1.3771, 1.3533, 1.8048, 1.3201, 0.751, 0.3782, 2.687, 2.686, 2.686, 2.6854, 2.6838, 2.6832, 2.6831, 2.6826, 2.6825, 2.6813, 2.6811, 2.6808, 2.6805, 2.6803, 2.6798, 2.6793, 2.6789, 2.6786, 2.6779, 2.6776, 2.6775, 2.6774, 2.6773, 2.6769, 2.6766, 2.6766, 2.6762, 2.6759, 2.6757, 2.6755, 2.6753, 2.6728, 2.6704, 2.6713, 2.6748, 2.654, 2.6518, 2.6731, 2.6111, 2.6303, 2.5381, 2.5984, 2.562, 2.6361, 2.3066, 2.4186, 2.5758, 2.6022, 2.5332, 2.4468, 2.2235, 2.4086, 2.2683, 2.2229, 2.4234, 1.8429, 1.4785, 2.1127, 1.0502, 1.5449, 1.6115, 1.9817, 1.0599, 1.9145, 1.8608, 1.5848, 1.8959, 1.4528, 0.7204, 0.9113, 1.1831, 2.6874, 2.6874, 2.6873, 2.6871, 2.6868, 2.6867, 2.6867, 2.6866, 2.6866, 2.6864, 2.6863, 2.6854, 2.6852, 2.6851, 2.6851, 2.6849, 2.6848, 2.6847, 2.6843, 2.6843, 2.6842, 2.6841, 2.684, 2.684, 2.684, 2.6839, 2.6838, 2.6834, 2.6829, 2.6821, 2.6723, 2.6762, 2.6689, 2.6413, 2.5698, 2.5187, 2.3925, 2.1525, 2.1631, 2.0846, 2.5214, 2.0075, 2.4618, 2.4983, 1.7765, 2.2707, 2.1026, 1.8478, 2.1278, 2.303, 1.5673, 2.1713, 1.6763, 1.5083, 1.8178, 1.7359, 1.3009, 2.7408, 2.74, 2.7395, 2.7395, 2.7388, 2.738, 2.7375, 2.7365, 2.7352, 2.7348, 2.7337, 2.7333, 2.7326, 2.7313, 2.7312, 2.7311, 2.7305, 2.7302, 2.7299, 2.7299, 2.7292, 2.7285, 2.7283, 2.728, 2.7271, 2.7264, 2.7261, 2.7261, 2.7259, 2.7248, 2.7164, 2.7164, 2.7228, 2.7181, 2.7222, 2.7124, 2.6991, 2.7056, 2.6215, 2.6818, 2.6102, 2.6326, 2.561, 2.6058, 2.654, 2.4766, 2.558, 2.3545, 2.2641, 2.4686, 2.4314, 2.432, 2.3024, 2.4754, 2.3488, 2.0171, 2.1442, 2.2842, 2.4489, 2.3243, 2.3411, 1.7524, 2.0085, 1.6739, 1.9186, 2.192, 2.2456, 1.718, 1.5134, 1.0108, 1.2715, 0.9306, 1.8934, 0.5027, 1.4771, 0.9595, 0.6837, 2.7453, 2.7452, 2.7451, 2.7444, 2.744, 2.7427, 2.7416, 2.7402, 2.74, 2.7395, 2.7393, 2.7382, 2.7374, 2.7374, 2.7374, 2.7371, 2.7364, 2.7361, 2.7358, 2.7354, 2.7353, 2.7353, 2.7353, 2.7351, 2.7349, 2.7348, 2.7347, 2.7347, 2.734, 2.7336, 2.7333, 2.731, 2.7332, 2.7227, 2.7325, 2.7183, 2.6997, 2.6875, 2.6689, 2.6903, 2.7187, 2.6324, 2.6359, 2.6478, 2.5073, 2.5505, 2.6745, 2.6654, 2.5761, 2.5482, 2.6761, 2.3456, 2.363, 2.5005, 2.4912, 2.3896, 2.4007, 2.3486, 2.16, 2.2468, 2.3424, 1.7156, 1.8675, 2.278, 1.8805, 1.1862, 2.3821, 1.4351, 1.3632, 0.7892, 1.1701, 1.3941, 0.7676, 2.7863, 2.7858, 2.7858, 2.7856, 2.7852, 2.7848, 2.7844, 2.7843, 2.784, 2.7839, 2.7839, 2.7839, 2.7835, 2.7834, 2.7828, 2.7827, 2.7825, 2.7821, 2.782, 2.7817, 2.7816, 2.7814, 2.7814, 2.7812, 2.7811, 2.7805, 2.7802, 2.7801, 2.7801, 2.78, 2.7716, 2.7083, 2.7347, 2.6046, 2.2966, 2.5976, 2.3345, 2.6464, 2.4811, 1.997, 2.0574, 1.9078, 2.186, 2.4642, 1.8765, 2.0921, 2.1565, 1.9731, 2.2723, 2.0192, 1.6219, 1.6652, 1.6108, 1.5376, 1.7744, 2.0173, 1.9051, 1.5764, 2.0798, 1.7343, 1.4249, 2.0982, 0.7999, 1.6701, 0.7804, 2.9202, 2.9195, 2.9188, 2.9184, 2.9177, 2.9167, 2.9167, 2.9163, 2.9158, 2.9156, 2.9154, 2.9148, 2.9132, 2.9129, 2.9129, 2.9127, 2.9125, 2.9123, 2.912, 2.9116, 2.9105, 2.9103, 2.9103, 2.9102, 2.91, 2.9091, 2.9089, 2.9089, 2.9087, 2.9083, 2.907, 2.898, 2.9079, 2.9009, 2.9053, 2.8606, 2.8174, 2.7552, 2.8112, 2.7621, 2.8379, 2.7089, 2.645, 2.7467, 2.684, 2.7996, 2.5362, 2.6279, 2.3441, 2.409, 2.3382, 2.3748, 2.5487, 1.8779, 2.1634, 2.2832, 2.6305, 2.1681, 1.6205, 1.7828, 1.739, 1.3569, 2.2103, 1.2954, 1.0481, 1.195, 1.005, 0.8694, 0.8994, 2.9288, 2.9286, 2.9283, 2.9276, 2.927, 2.927, 2.9267, 2.9267, 2.9267, 2.9265, 2.9264, 2.9249, 2.9247, 2.9239, 2.9234, 2.923, 2.923, 2.9214, 2.9212, 2.9212, 2.921, 2.92, 2.9198, 2.9196, 2.9187, 2.918, 2.918, 2.9179, 2.9176, 2.9166, 2.9161, 2.8959, 2.8399, 2.7796, 2.7082, 2.8182, 2.6628, 2.8499, 2.5192, 2.7701, 2.7253, 2.3318, 2.0348, 2.1858, 1.9836, 2.0238, 1.9766, 1.5023, 2.0895, 1.6876, 1.637, 1.6466, 1.9561, 1.6464, 1.9492, 1.2868, 1.63, 1.5313, 1.0215, 1.1265, 2.9646, 2.9634, 2.9631, 2.9631, 2.9629, 2.9619, 2.9619, 2.9617, 2.9617, 2.9615, 2.9615, 2.9614, 2.9613, 2.9613, 2.9612, 2.9611, 2.9611, 2.9608, 2.9607, 2.9607, 2.9606, 2.9602, 2.9602, 2.9592, 2.9592, 2.9592, 2.959, 2.9589, 2.9589, 2.9588, 2.9565, 2.958, 2.9573, 2.9541, 2.9517, 2.9547, 2.9464, 2.9387, 2.9346, 2.9224, 2.8229, 2.8828, 2.9034, 2.726, 2.8002, 2.3901, 2.6462, 2.9039, 2.5776, 2.6479, 2.1261, 2.238, 2.2629, 2.3025, 2.5846, 2.3448, 2.5552, 2.3472, 1.7413, 2.3861, 1.4805, 1.1927, 1.5259, 1.7862, 1.3426, 1.6117, 1.3137, 0.8746, 1.3963, 0.8132], \"Freq\": [6933.0, 5514.0, 6275.0, 8140.0, 6050.0, 4437.0, 5232.0, 5046.0, 5424.0, 7001.0, 3538.0, 3863.0, 3441.0, 2858.0, 4976.0, 4081.0, 3317.0, 3582.0, 2543.0, 2654.0, 2790.0, 3283.0, 4860.0, 2622.0, 3072.0, 3158.0, 2482.0, 2309.0, 2428.0, 2299.0, 4435.938740908836, 2216.11077683916, 2209.4389023228487, 1869.173301991001, 1496.5014540085006, 1490.7827044230914, 1389.7514617475285, 1350.6733395805657, 2240.8920250425995, 2184.657654119409, 2651.6888702611614, 2380.0482649542237, 920.8139957439734, 800.7202544503799, 2478.220132837082, 758.7827574907122, 573.8765208958145, 539.5640233833592, 505.25152587090383, 449.01715494771327, 1310.642092482701, 1537.4858260372666, 373.72028540649205, 533.84527379795, 282.22029203994464, 265.064043283717, 264.1109183528155, 443.2984053623041, 250.767169320194, 226.93904604765555, 5432.907418631841, 1466.0014562196516, 1614.6889454402908, 2124.610783472612, 360.3765363738705, 495.72027656188857, 2050.267038862293, 1575.610823273328, 733.0483843563708, 708.2671361529309, 1127.6421057496063, 1414.5327099509684, 810.2515037593952, 2076.001411996634, 2371.4701405761098, 1020.8921134886344, 1161.0014783311601, 1360.204588889581, 889.3608730242227, 1448.8452074634238, 1054.2514860701883, 297.17726477364926, 176.816173929934, 113.7698882498927, 187.32388820994086, 187.32388820994086, 107.0831609807974, 95.62019994806262, 181.59240769357348, 174.9056804244782, 71.73903112986517, 121.41186227171588, 66.00755061349778, 103.26217396988581, 59.3208233444025, 59.3208233444025, 58.365576591674596, 53.5893428280351, 51.6788493225793, 50.72360256985141, 50.72360256985141, 49.768355817123506, 45.94736880621191, 45.94736880621191, 44.99212205348402, 44.036875300756115, 44.036875300756115, 43.08162854802822, 43.08162854802822, 42.126381795300325, 38.30539478438873, 99.44118695897421, 329.65565436639775, 200.69734274813143, 76.51526489350466, 1828.4378093964704, 86.06773242078364, 128.09858954081116, 396.5229270573506, 207.38407001722672, 420.4040958755481, 245.5939401263427, 411.806875100997, 279.9828232245471, 747.0984853084894, 207.38407001722672, 1235.2295759524454, 1193.1987188324176, 313.4164595700235, 716.5305892211967, 269.4751089445402, 1052.7774461814167, 423.2698361337318, 770.024407373959, 259.9226414172612, 1894.3498353346954, 401.29916082099015, 1340.3067187525144, 1195.1092123378735, 1226.6323551778942, 810.1447709885307, 991.6416540068313, 965.8499916831782, 1482.638484908971, 1816.0196016110076, 435.6880439191945, 1112.9579916032742, 636.2898619920531, 679.2759658648085, 680.2312126175365, 1001.1941215341103, 946.7450566286202, 807.279030730347, 1222.8113681669827, 616.2296801847673, 801.5475502139797, 996.4178877704708, 941.0135761122528, 1009.7913423086613, 685.9626931339038, 941.9688228649807, 785.3083554176053, 853.1308748612861, 833.0706930540002, 774.8006411375984, 803.4580437194354, 1335.840639492362, 1275.6982245271986, 1093.3309017296065, 1091.3908238275046, 743.1468404001879, 714.0456718686571, 704.345282358147, 587.9406082320243, 578.2402187215141, 565.6297123578508, 546.2289333368304, 546.2289333368304, 514.2176479521466, 464.7456614485446, 442.43476557437106, 431.7643371128098, 397.81297382602406, 385.20246746236074, 383.2623895602587, 379.38223375605463, 376.4721169029016, 637.4125947356265, 354.16122102872805, 337.6705588608607, 282.37833865095246, 270.7378712383402, 270.7378712383402, 264.91763753203406, 245.51685851101362, 236.7865079515544, 398.78301277707504, 330.88028620350354, 660.693529560851, 305.65927347617696, 593.7608419383305, 1750.0472715911483, 1726.7663367659238, 682.0343864839734, 674.2740748755652, 587.9406082320243, 736.3565677428307, 741.2067624980857, 1768.4780116611178, 1373.672158583352, 1226.2262380235966, 714.0456718686571, 1009.9075519392187, 1073.9301227085862, 1503.6573780241886, 1166.0838230584332, 1234.9565885830557, 1079.7503564148922, 977.896266554535, 950.7351759251064, 625.7721273230142, 657.783412707698, 596.6709587914836, 1083.4748255383417, 979.2485825027055, 962.0369093408575, 375.8838177734729, 371.10279745073734, 731.5917297850016, 284.0882275769494, 241.05904467232895, 345.2852877079651, 185.599208928596, 184.6430048640489, 439.94949009812996, 536.526100617389, 156.91308699218237, 795.6574021096586, 137.78900570123997, 136.8328016366929, 133.00798537850437, 131.09557724941016, 216.19773899410382, 125.35835286212743, 121.53353660393896, 118.66492441029759, 111.01529189392063, 108.14667970027928, 105.27806750663791, 103.36565937754366, 99.54084311935519, 92.84741466752536, 156.91308699218237, 869.2851150797868, 1057.6573157955693, 2534.99259552087, 237.2342284141405, 352.934920224342, 439.94949009812996, 483.93487706729746, 604.4165892002346, 3128.7953196046315, 266.8765544151012, 292.69406415787347, 1471.6936757444723, 1100.6864987001898, 290.7816560287792, 742.1099744950199, 737.3289541722843, 1416.2338400007395, 1106.4237230874724, 476.28524455092054, 1189.613476703072, 603.4603851356875, 3621.240412846398, 2281.598518415883, 4506.685376617032, 1636.1607748465772, 2829.503447401383, 1241.2484961886164, 1708.832283752158, 881.7157679188994, 1093.9930702483598, 798.5260143032999, 1060.5259279892107, 962.0369093408575, 886.4967882416349, 901.7960532743889, 980.2047865672528, 932.3945833398968, 825.2997281106193, 904.9180271327492, 345.0656431862821, 171.61740031130086, 155.23617737310818, 143.67296118144276, 135.96415038699917, 133.0733463390828, 129.21894094186098, 290.1403662758714, 109.94691395575198, 100.31090046269746, 97.4200964147811, 166.7993935647736, 227.50627857101702, 91.6384883189484, 82.96607617519933, 82.00247482589388, 72.36646133283938, 69.47565728492303, 214.01585968074068, 58.87604244256307, 58.87604244256307, 53.09443434673036, 53.09443434673036, 51.16723164811946, 50.203630298814005, 1433.935167901442, 48.2764276002031, 48.2764276002031, 47.31282625089765, 134.03694768838827, 99.34729911339201, 723.7609734633244, 653.4180749640265, 215.9430623793516, 207.27065023560255, 1713.3795592000226, 107.0561099078356, 603.3108048001429, 907.8088311806656, 767.1230341820697, 208.23425158490798, 2226.0154770305226, 1128.4735401716139, 719.9065680661026, 2524.7318953152126, 418.29934573349635, 2504.4962669797983, 287.24956222795504, 702.5617437786044, 1167.9811954931372, 348.9200485835039, 350.8472512821148, 731.469784257768, 295.9219743717041, 1847.3201467534805, 1332.7570262243694, 590.7839872591721, 1170.8719995410536, 471.2974199452962, 1055.2398376243996, 654.3816763133319, 2294.4311728312096, 804.7034868049823, 1269.1593371702097, 1012.8413782549596, 1104.3835064389775, 1001.2781620632943, 843.2475407772004, 1716.270363247939, 1054.276236275094, 1199.780040020217, 1019.5865877000979, 880.827993400113, 929.0080608653856, 918.4084460230255, 852.8835542702549, 858.6651623660875, 814.3395002980368, 2307.911677464842, 1676.8458359338772, 1036.1600882820144, 1011.1483323676773, 917.8352429949587, 644.6299091614316, 1379.590736798103, 527.2670544864657, 260.7956549375677, 788.9285009749142, 227.12598351442168, 217.50607739352284, 195.3802933154555, 193.45631209127575, 193.45631209127575, 176.14048107365784, 142.47080965051185, 139.5848378142422, 136.69886597797256, 131.88891291752316, 317.55310105087085, 124.19298802080405, 117.45905373617488, 189.60834964291618, 110.7251194515457, 110.7251194515457, 948.618942581835, 105.91516639109628, 103.9911851669165, 101.10521333064685, 2784.0970304493344, 2332.9234333791783, 1214.1283515186428, 144.39479087469164, 2580.155020686279, 219.43005861770263, 698.501383438465, 406.0562373631402, 196.3422839275454, 579.2145475393195, 342.56485696520787, 1346.883055987047, 526.3050638743758, 1069.8297597051603, 1345.9210653749572, 511.8752046930275, 466.66164592480294, 538.8109418315443, 417.60012470821886, 1389.2106429190019, 852.4198813728465, 1066.9437878688907, 876.4696466750937, 2425.2745321398074, 927.4551491158576, 893.7854776927117, 1583.5327465611585, 1505.611506981878, 924.5691772795878, 1299.7455159946426, 1298.7835253825529, 918.7972336070486, 905.3293650377902, 869.7357123904644, 417.85840331624684, 348.0699434721973, 227.87870707411184, 186.19948800058228, 174.568078026574, 169.72165720407057, 163.9059522170664, 163.9059522170664, 271.4964944766429, 240.47940121262084, 529.326082233826, 118.34959648553406, 197.83089797459053, 114.47245982753131, 189.10734049408435, 102.84104985352305, 100.90248152452168, 611.7152362163846, 97.99462903101961, 96.05606070201823, 300.57501941166356, 546.7731971948384, 88.30178738601272, 82.48608239900858, 82.48608239900858, 82.48608239900858, 81.5167982345079, 79.57822990550652, 193.9537613165878, 77.63966157650515, 243.3872537061229, 343.22352264969385, 165.84452054606783, 162.93666805256575, 126.10386980153959, 124.1653014725382, 255.9879478446319, 492.4932839827999, 751.2921559044837, 190.07662465858502, 1876.6310708897831, 283.12790445065116, 320.929986866178, 329.6535443466842, 565.1895963203515, 841.4355832030478, 587.4831321038673, 455.66048573177375, 468.2611798702826, 334.49996516918765, 595.2374054198729, 680.5344118959334, 981.0125028911469, 488.6161473247971, 271.4964944766429, 917.0397480341015, 404.28842501323726, 928.6711580081097, 366.48634259771035, 353.88564845920143, 709.6129368309541, 781.3399650040051, 579.7288587878619, 756.1385767269871, 578.7595746233611, 503.15540979230747, 584.5752796103653, 665.0258652639225, 803.6335007875209, 553.5581863463433, 438.2133707707613, 489.58543148929783, 525.4489455758234, 444.0290757577655, 2542.562600060536, 1491.2108777644953, 852.4394712355988, 626.2483804738467, 362.1969783828743, 312.687340490817, 301.03801392798, 466.0701402348377, 268.0315886666084, 368.9924188778626, 207.8434014252838, 201.04796093029552, 192.31096600816775, 187.457079940319, 173.8661989503425, 516.5505553404648, 155.4214318925172, 364.13853281001377, 139.8889964754012, 135.03511040755242, 134.0643331939827, 133.09355598041293, 132.12277876684317, 126.29811548542466, 209.7849558524233, 639.8392614638233, 118.53189777686664, 115.6195661361574, 113.6780117090179, 111.73645728187839, 428.20982890561737, 292.3010190058522, 299.09645950084047, 259.29459374448066, 182.60319387247026, 318.51200377223546, 328.219775907933, 160.27531796036595, 572.8556337275104, 302.97956835511945, 1059.215017725956, 430.1513833327569, 642.7515931045325, 269.00236588017816, 3399.7588796426267, 1310.6463160405215, 388.4079631492576, 321.42433541294474, 400.0572897120946, 570.9140793003709, 885.4458964969704, 403.94039856637363, 474.8071351569655, 483.5441300790933, 376.7586365864206, 623.3360488331375, 815.5499371199483, 473.83635794339574, 981.5528406403758, 694.2027854237293, 614.5990539110097, 478.6902440112445, 660.225582948788, 474.8071351569655, 477.7194667976747, 505.8720059911975, 459.27469973984944, 501.9888971369185, 529.1706591168715, 501.9888971369185, 476.748689584105, 1819.451562305313, 1807.9123102849844, 1609.8218172693435, 1243.4505656239103, 1008.8191078772285, 933.8139697450925, 912.6586743744901, 1466.5427713502631, 851.1159969327376, 775.1492544655742, 741.4931027396158, 488.59116262741384, 465.5126585867566, 447.24217622123626, 440.5109458760446, 421.27885917549696, 403.969981145004, 393.3923334597028, 1649.247595005466, 354.92816005860743, 591.4828264753438, 336.6576776930871, 329.9264473478954, 328.9648430128681, 326.0800300077859, 321.272008332649, 541.4794010539199, 284.7310436016084, 260.6909352259238, 226.07317916493795, 2263.7127650879643, 702.067325003493, 1102.0947283748847, 1043.4368639382142, 1143.4437147810622, 1145.366923451117, 2468.534488448797, 4058.0664542490636, 3095.5005148866517, 3432.062032146236, 678.9888209628359, 1955.9993778792016, 698.2209076633835, 635.7166258866035, 2028.1197030062556, 841.4999535824636, 1030.9360075828583, 1304.9932430656627, 949.1996391055307, 780.9188804757385, 1136.7124844358705, 792.4581324960672, 887.6569616637782, 875.1561053084222, 837.6535362423541, 842.4615579174912, 859.7704359479841, 343.8058932335941, 285.21925990778993, 258.85527491117807, 439.49739433240757, 387.74586822794726, 202.2215293629007, 186.59842714268623, 165.11666158989138, 141.68200825956973, 329.15923490214306, 123.12957437306508, 118.24735492924806, 111.41224770790423, 170.9753249224718, 99.69492104274342, 98.71847715397999, 94.8127015989264, 92.85981382139958, 90.90692604387277, 90.90692604387277, 87.00115048881918, 83.09537493376556, 82.11893104500216, 137.7762327045161, 76.26026771242174, 73.33093604613154, 72.35449215736814, 72.35449215736814, 71.37804826860473, 67.4722727135511, 321.3476837920358, 248.11439213478062, 104.57714048656042, 163.16377381236458, 101.64780882027021, 157.30511047978416, 192.45709047526665, 154.37577881349395, 652.3621620828293, 200.2686415853739, 393.6045315605276, 274.4783771313925, 548.8591098739087, 285.21925990778993, 185.62198325392285, 657.2443815266464, 359.4289954538085, 1185.500525347647, 1896.3516763674043, 468.7907109953096, 507.8484665458457, 467.81426710654625, 600.610635978369, 326.2299032358529, 445.356057664988, 1138.6312186870039, 742.1949998490624, 482.4609254379973, 322.3241276807992, 404.34541433692505, 378.9578732290766, 879.8735881647021, 584.9875337581545, 746.100775404116, 558.6235487615427, 411.1805215582689, 386.7694243391838, 507.8484665458457, 547.8826659851452, 615.25729430982, 532.2595637649308, 588.8933093132082, 432.66228711106373, 472.69648655036326, 417.0391848908493, 426.80362377848337, 429.7329554447735, 412.95285462722626, 407.1243033974842, 388.66722450330093, 564.4951866005202, 299.2961056472557, 233.23919171017883, 194.38218351189826, 162.32515174831687, 157.4680257235318, 149.6966240838757, 145.81092326404766, 130.26811998473545, 121.52529314012233, 121.52529314012233, 651.9234550466514, 117.63959232029426, 110.83961588559517, 108.89676547568115, 105.98248986081012, 103.06821424593906, 102.09678904098206, 102.09678904098206, 249.75342019444804, 100.15393863106803, 99.18251342611102, 98.21108822115401, 166.2108525681449, 97.239663016197, 158.4394509284888, 90.4396865814979, 403.2386025776561, 411.98142942226923, 150.6680492888327, 425.5813822916674, 143.8680728541336, 268.21049908863125, 569.3523126253053, 628.609250127683, 697.580439679631, 368.26729519920366, 173.98225420780102, 1308.6068935975923, 588.7808167244456, 470.26694171968995, 2414.088776838673, 1131.8075062954158, 271.12477470350234, 287.63900318777155, 630.5521005375971, 565.4666118054772, 237.12489253000686, 2111.004112892085, 1681.634172301085, 721.8660698035563, 679.1233607854477, 1110.4361517863613, 774.3230308712351, 740.3231486977396, 1029.8078597749293, 770.437330051407, 596.5522183641017, 1730.2054325489357, 1075.464844407909, 596.5522183641017, 751.0088259522668, 887.0083546462486, 489.69544581883025, 710.2089673440722, 725.7517706233843, 835.5228187835268, 697.580439679631, 586.8379663145315, 578.0951394699184, 493.27913416445597, 423.1030866247586, 416.2804153361769, 391.91373216267084, 356.8257083928222, 323.687019276854, 291.5229974878261, 286.64966085312483, 270.0803162951408, 266.1816469873798, 265.2069796604396, 264.23231233349935, 243.76429846775426, 242.78963114081398, 218.42294796730795, 212.57494400566654, 206.72694004402507, 196.00559944768244, 194.05626479380197, 184.30959152439956, 182.36025687051907, 176.51225290887763, 176.51225290887763, 173.58825092805688, 170.66424894723616, 157.99357369701303, 153.12023706231184, 152.1455697353716, 151.17090240843135, 150.1962350814911, 186.25892617828, 646.3019044940737, 351.95237175812105, 1672.6265997621472, 3314.9410456564533, 434.7990945480415, 1549.8185165676769, 331.48435789237595, 661.8965817251176, 2842.2273920904363, 1858.7880592077333, 2872.4420792255837, 984.5114669423373, 462.0897797023682, 2026.4308394414547, 1075.1555283477796, 918.2340887104009, 1259.3676531394851, 635.580563897731, 1012.7768194236043, 1628.7665700498367, 1026.4221620007677, 1059.5608511167359, 1095.6235422135248, 845.134039189883, 652.1499084557153, 716.4779520337711, 929.9300966336838, 604.3912094356433, 760.3379817460819, 848.0580411707035, 553.7085084347509, 811.0206827469746, 588.7965322045995, 580.0245262621373, 1508.534950161397, 1146.869150736929, 370.73235252298787, 336.857318968079, 285.04844411939484, 239.2175163686358, 744.3540461433062, 223.2763241075022, 206.33880733004779, 198.368211199481, 192.39026410155589, 177.44539635674315, 147.5556608671177, 142.57403828551347, 141.5777137691926, 139.58506473655092, 136.59609118758837, 228.25794668910646, 129.62181957334244, 124.64019699173818, 113.68062731220884, 111.68797827956715, 111.68797827956715, 188.40496603627253, 108.6990047306046, 101.72473311635866, 99.73208408371696, 99.73208408371696, 98.7357595673961, 95.74678601843357, 463.39053254082677, 763.2842119534022, 159.5115550629679, 286.04476863571574, 135.59976667126753, 357.7801338108169, 837.0122261611451, 941.6263003748343, 447.4493402796932, 603.8722893420666, 268.11092734194045, 617.8208325705583, 950.5932210217219, 405.6037105942176, 583.9457990156495, 286.04476863571574, 1105.0235210514534, 600.8833157931039, 1003.3984203867268, 812.104113253124, 724.4275558168893, 666.64073387028, 403.6110615615759, 1121.9610378289078, 693.5414958109428, 546.0854673954573, 346.8205641312875, 495.272917063094, 647.7105680601838, 577.9678519177244, 591.9163951462162, 636.7509983806546, 441.4713931817681, 569.9972557871577, 568.0046067545159, 545.0891428791364, 531.1405996506445, 502.2471886773399, 465.3831815734685, 1417.431137506515, 1194.8340719263103, 964.3574642016739, 629.476923063313, 495.5247066079687, 494.5397638399147, 761.4592539825493, 773.2785671991975, 441.3528543649986, 425.59377007613455, 410.8196285553245, 279.8222404041422, 269.9728127236021, 231.56004476949602, 214.81601771257797, 202.01176172787592, 200.04187619176793, 162.61405100571582, 158.6742799334998, 157.6893371654458, 154.73450886128379, 138.97542457241977, 136.02059626825775, 133.06576796409573, 122.23139751550173, 115.3367981391237, 115.3367981391237, 114.3518553710697, 111.39702706690768, 102.53254215442166, 169.50865038209383, 294.59638192495214, 671.8294620896352, 2003.4720844986464, 1887.2488378682742, 333.9940926471123, 1246.0510958651184, 224.66544539311798, 1530.6995558327253, 322.17477943046424, 364.5273184567864, 1002.77023215578, 1341.5905443663569, 762.4441967506033, 1025.4239158210219, 939.7338950003239, 806.7666213130335, 1422.3558513467851, 610.763010470287, 912.1554974948117, 956.4779220572419, 863.8933018601657, 661.9800344090951, 819.5708772977355, 640.311293511907, 872.7577867726517, 732.8959137089834, 726.9862571006593, 721.0766004923353, 690.5433746826612, 897.0358348451371, 491.0868790016657, 450.59321757089555, 445.53150989204926, 421.2353130335871, 323.03818406396937, 323.03818406396937, 307.85306102743056, 306.8407194916613, 295.7049625981995, 295.7049625981995, 287.60623031204545, 283.55686416896845, 282.54452263319916, 273.43344881127587, 267.35939959666035, 267.35939959666035, 254.19895963166, 251.1619350243522, 430.3463868555104, 245.0878858097367, 227.87807970165935, 385.8033592816632, 196.49549209281244, 195.4831505570432, 194.47080902127394, 189.40910134242762, 188.3967598066584, 188.3967598066584, 185.35973519935064, 344.29735631512375, 284.56920570473767, 261.28535038204484, 351.3837470655085, 360.49482088743184, 285.5815472405069, 410.0995561401253, 397.95145771089426, 353.40843013704705, 398.96379924666354, 1244.2689816139916, 461.72897446435735, 364.54418703050885, 656.0985493320543, 485.01282978705024, 1934.6859090086234, 792.7646566609037, 331.1369163501234, 715.8266999424404, 498.17326975205054, 1006.3687207082166, 736.0735306578255, 634.8393770808999, 567.0124941843599, 431.3587283912797, 470.84004828628065, 403.0131653897405, 450.59321757089555, 575.1112264705139, 429.33404531974116, 584.2223002924372, 631.8023524735922, 564.9878111128214, 519.4324420032049, 583.209958756668, 495.13624514474276, 510.32136818128157, 527.5311742893589, 484.0004882512809, 439.4574606774337], \"Total\": [6933.0, 5514.0, 6275.0, 8140.0, 6050.0, 4437.0, 5232.0, 5046.0, 5424.0, 7001.0, 3538.0, 3863.0, 3441.0, 2858.0, 4976.0, 4081.0, 3317.0, 3582.0, 2543.0, 2654.0, 2790.0, 3283.0, 4860.0, 2622.0, 3072.0, 3158.0, 2482.0, 2309.0, 2428.0, 2299.0, 4437.301230177198, 2217.4732661075222, 2210.801391591211, 1870.5357912593634, 1497.863943276863, 1492.1451936914539, 1391.113951015891, 1352.035828848928, 2243.2252915245317, 2186.9901823388227, 2654.9785622281347, 2383.343639736392, 922.1764850123357, 802.0827437187422, 2482.492738958598, 760.1452467590746, 575.2390101641768, 540.9265126517215, 506.61401513926626, 450.3796442160757, 1314.9139438176662, 1542.7437424914067, 375.0827746748545, 536.2201046020815, 283.58278130830706, 266.42653255207944, 265.4734076211779, 445.63231983562355, 252.12965858855642, 228.30153531601798, 5514.783140837438, 1475.0283725739077, 1626.7218631702146, 2155.2794237442245, 362.71546953099636, 500.99308727820096, 2187.434981277798, 1804.926028436935, 784.7799486340637, 762.2656424722556, 1336.5234992982068, 1859.1586232546786, 939.2043307907674, 3744.9629784311496, 5258.317729838891, 1379.151283383705, 1717.9504555526182, 2696.1382377528384, 1165.2443854400244, 8140.904352007233, 2481.00073799566, 298.53954185982906, 178.17845101611377, 115.13216533607248, 189.65544946062133, 189.65694250969037, 108.44543806697718, 96.9824770342424, 184.877893449808, 178.20951193779746, 73.10130821604494, 123.7449165714654, 67.36982769967756, 105.5944900071166, 60.68310043058225, 60.68310043058225, 59.72785367785435, 54.95161991421485, 53.041126408759055, 52.08587965603116, 52.08587965603116, 51.13063290330326, 47.309645892391664, 47.309645892391664, 46.35439913966377, 45.39915238693587, 45.39915238693587, 44.44390563420797, 44.44390563420797, 43.48865888148008, 39.66767187056848, 103.7229972315296, 348.76116589479267, 211.17069365623448, 79.8015232038642, 2056.48220962607, 90.33485052896732, 136.19093759679683, 438.7889231541027, 227.19111416123178, 475.2998499850831, 274.52138753451874, 476.7648442270585, 317.7454860652722, 904.8723297087756, 231.6302111262317, 1613.3016283940744, 1578.132475542078, 369.61515275379793, 922.1442477616396, 314.94124606241604, 1431.2959232829635, 525.2454614124674, 1105.84296706726, 312.06313493157336, 3283.035090261186, 525.8480329060135, 2260.0471287422647, 2002.3738833014036, 2146.21804041388, 1290.7176149270242, 1752.586048402623, 1707.024796469529, 3188.5960455740815, 4512.222022292803, 632.0281512183968, 2566.8970285373503, 1128.711121081142, 1258.718249881139, 1274.0052614226624, 2307.108648003978, 2239.325618330047, 1734.6906349861224, 4081.3988859758456, 1164.1383064285353, 2022.4946680182036, 3272.9410723269684, 2978.0223059955433, 3783.8172738785875, 1551.1822722845832, 3518.8533529588567, 2201.5447456725797, 3116.9002886568064, 2965.534702864332, 2307.7354049846554, 2831.3965855354973, 1337.2014373587097, 1277.0590223935462, 1094.691699595954, 1092.7516216938523, 744.5076382665352, 715.4064697350044, 705.7060802244943, 589.3014060983716, 579.6010165878614, 566.9905102241981, 547.5897312031777, 547.5897312031777, 515.578445818494, 466.10645931489205, 443.7955634407185, 433.1251349791573, 399.17377169237153, 386.5632653287082, 384.6231874266062, 380.7430316224021, 377.83291476924904, 639.7353832140637, 355.5220188950755, 339.03135672720816, 283.7391365172999, 272.09866910468764, 272.09866910468764, 266.27843539838153, 246.8776563773611, 238.14730581790187, 401.09693557432405, 333.21575139679123, 670.7778849077044, 307.99651523128784, 624.4006370190544, 1977.2986780811598, 2154.733875495745, 790.3842257971402, 787.4553970694816, 721.0780485626868, 1062.5215474835043, 1078.349794808496, 4231.313671937578, 2943.451388681437, 2613.522497552833, 1075.2994212642445, 2000.4646122668169, 2429.792631075628, 4860.9161231292965, 2978.0223059955433, 3744.9629784311496, 3375.177826628997, 3171.256664666792, 5258.317729838891, 1217.9064995228377, 2373.3907325644227, 1564.5287910114446, 1084.8370068933398, 980.6107638577032, 964.3698679094249, 377.24599912847077, 372.4649788057352, 734.9237966761073, 285.45040893194727, 242.4212260273268, 347.6167532274637, 186.96139028359386, 186.00518621904675, 443.3004568776605, 540.779086020303, 158.27526834718023, 802.7956126214315, 139.15118705623783, 138.19498299169075, 134.37016673350223, 132.457758604408, 218.53134555405867, 126.72053421712529, 122.89571795893681, 120.02710576529545, 112.37747324891849, 109.50886105527714, 106.64024886163577, 104.72784073254152, 100.90302447435305, 94.20959602252321, 159.2388696964857, 883.153174391953, 1084.073132232509, 2622.4038074162545, 241.55123807330034, 361.0519482295065, 452.014124603251, 501.6949398139027, 637.936337337594, 3538.318997716135, 277.01074171256124, 306.57155806290694, 1703.2566176028135, 1263.173059323078, 309.6294910730033, 862.97681682505, 859.0028335602663, 1789.0726915099174, 1372.908305973935, 533.5185860562632, 1558.7256127612704, 721.3633096721841, 6050.676251934823, 3582.6100167043146, 8140.904352007233, 2745.777111712898, 7001.55658895112, 2188.0700781874507, 3756.0416508859153, 1460.000496501051, 2085.4463571633555, 1330.013654417964, 2290.6740668569664, 1956.0234068282527, 2014.621685967303, 2161.718197002715, 2840.020516373179, 4078.392702904456, 1794.881914597262, 908.2026774293258, 346.42708481280414, 172.9788419378229, 156.5976189996302, 145.0344028079648, 137.3255920135212, 134.43478796560484, 130.58038256838302, 293.42578912657314, 111.308355582274, 101.67234208921948, 98.78153804130312, 169.13161240486536, 230.77397005934213, 92.99992994547043, 84.32751780172136, 83.3639164524159, 73.7279029593614, 70.83709891144505, 218.28963294797197, 60.23748406908506, 60.23748406908506, 54.455875973252354, 54.455875973252354, 52.528673274641456, 51.565071925336, 1473.171487319006, 49.637869226725094, 49.637869226725094, 48.674267877419645, 138.25988592944125, 103.57448099809773, 822.5720930652217, 754.5871668558109, 237.50630685976122, 227.69459048015528, 2143.6467928013712, 114.23778524066375, 744.3259329237367, 1176.0790814999166, 986.5898046214451, 236.18914794888806, 3394.9885184094323, 1606.9047197414548, 967.7216718964222, 4081.3988859758456, 524.0512032106457, 4105.277398880064, 344.09850937121786, 1000.0192992514906, 1876.6637456006051, 445.5939833001795, 450.7029697140371, 1143.7340933324772, 370.6740356776444, 4078.392702904456, 2696.1382377528384, 921.0227191652693, 2381.234961077132, 690.4794028688896, 2182.825575222848, 1132.5212510337724, 7001.55658895112, 1651.103137873492, 3381.447002837837, 2413.7881526276374, 3003.0853477067694, 2745.777111712898, 2014.621685967303, 8140.904352007233, 3171.256664666792, 4231.313671937578, 4191.125508865567, 2595.66572834607, 3272.9410723269684, 3518.8533529588567, 4271.413377168569, 5258.317729838891, 4860.9161231292965, 2309.273280165086, 1678.2074386341208, 1037.521690982258, 1012.5099350679208, 919.1968456952021, 645.991511861675, 1382.864747627441, 528.6286571867091, 262.1572576378113, 793.2043792900287, 228.48758621466527, 218.86768009376644, 196.7418960156991, 194.81791479151934, 194.81791479151934, 177.50208377390143, 143.83241235075545, 140.9464405144858, 138.06046867821615, 133.25051561776675, 320.85327208011586, 125.55459072104762, 118.82065643641845, 191.9230772740613, 112.08672215178926, 112.08672215178926, 960.4987899920967, 107.27676909133984, 105.35278786716006, 102.46681603089041, 2858.190322841, 2428.9914059691378, 1270.8929092652272, 146.71164032766313, 2790.058979754989, 225.74773659679934, 753.2557328850448, 429.69200212908555, 201.59866582217944, 624.2252548492006, 361.2712839529496, 1601.7902965263545, 583.304534711116, 1300.9928910250246, 1752.0234998895453, 594.747401313269, 546.8212101089237, 684.0111828655452, 501.1952769595148, 2385.058136287681, 1293.3651428520204, 1809.0926934262563, 1388.4442198434995, 6050.676251934823, 1523.892384241123, 1463.244569676389, 3626.542635038004, 3441.557784537168, 1822.771317798505, 3582.6100167043146, 3756.0416508859153, 2108.2231499696795, 2840.020516373179, 7001.55658895112, 419.21927666124935, 349.4308168171998, 229.23958041911436, 187.5603613455848, 175.92895137157652, 171.08253054907308, 165.26682556206893, 165.26682556206893, 273.8697093574147, 242.81671844638674, 534.6722536441118, 119.71046983053655, 200.17671408764704, 115.8333331725338, 191.48055537485612, 104.20192319852553, 102.26335486952416, 619.970708937765, 99.3555023760221, 97.41693404702072, 304.8363178696093, 554.8915416622002, 89.66266073101521, 83.84695574401107, 83.84695574401107, 83.84695574401107, 82.87767157951039, 80.939103250509, 197.30728369423198, 79.00053492150764, 248.61722047663758, 352.3754432231112, 169.11588739652615, 166.24447477771216, 128.4411870353055, 126.49621376859172, 263.26292440970957, 513.6895936680846, 807.1540563123791, 196.29138407143628, 2088.5589144108344, 296.94879835330556, 342.9746583403146, 353.3281137262282, 634.7898230829505, 1002.4004067295189, 699.0403125742256, 531.7692821321268, 549.2665839368668, 374.32981687342186, 728.6075300893993, 863.9279304072816, 1412.180006078707, 607.1767111889353, 297.0393592667534, 1346.318395172328, 487.1272464513497, 1409.402431346796, 442.1744413767577, 423.16311091683536, 1305.4394960518105, 1558.2219289191655, 968.3588941853759, 1524.5049446709095, 1010.1458469043622, 806.4918463698268, 1113.931811033736, 1655.1705653014212, 2965.534702864332, 2092.0060640532465, 1054.352180008099, 1912.6997308368195, 3626.542635038004, 4449.180092834131, 2543.923324100632, 1493.543027009548, 853.8001952756943, 627.6091045139422, 363.5577024229699, 314.0480645309126, 302.3987379680756, 468.38398920583484, 269.392312706704, 371.3093469825053, 209.2041254653794, 202.40868497039114, 193.67169004826337, 188.81780398041462, 175.2269229904381, 520.8191318740624, 156.78215593261282, 367.43930208817824, 141.24972051549682, 136.39583444764804, 135.4250572340783, 134.45428002050855, 133.4835028069388, 127.65883952552024, 212.10092664524683, 646.9314660202862, 119.89262181696222, 116.98029017625298, 115.03873574911347, 113.09718132197396, 433.50802677031817, 296.64397011782506, 304.27817055184767, 263.54128962084593, 184.96024242888672, 329.40397712134643, 340.1913032343644, 162.60608095151258, 618.4085189242105, 320.83095456308246, 1229.9830888046067, 470.28871395263684, 728.7586253273494, 283.21016637136546, 4976.48033376952, 1715.0743626869166, 434.3633066218882, 350.0757446073671, 466.83370220627495, 726.3300415533341, 1408.4062981780896, 533.894738532435, 722.1466798117461, 769.577292140568, 490.6722622410327, 1450.5888111506438, 2732.295395910007, 841.9551644963698, 5046.971204328534, 2176.32654099585, 1802.668071363438, 969.6026810769823, 3361.822638337385, 1028.612727471651, 1091.9981400052948, 1523.892384241123, 1013.6757979492191, 1725.5862358613886, 3783.8172738785875, 2965.534702864332, 2146.21804041388, 1820.813203633263, 1809.2739516129343, 1611.1834585972933, 1244.8122069518602, 1010.1807492051781, 935.1756110730422, 914.0203157024398, 1468.8790800051531, 852.4776382606873, 776.5108957935239, 742.8547440675654, 489.95280395536366, 466.8742999147064, 448.6038175491861, 441.87258720399444, 422.6405005034468, 405.3316224729538, 394.7539747876526, 1655.53677821138, 356.28980138655726, 593.7997145560214, 338.01931902103695, 331.28808867584524, 330.3264843408179, 327.44167133573575, 322.63364966059885, 543.8259851499236, 286.09268492955823, 262.0525765538736, 227.4348204928878, 2299.9515878923535, 710.4730544971093, 1123.471993251767, 1093.531871613176, 1287.1067858422873, 1356.861215885328, 3317.8567042147565, 6933.687823612894, 5232.903173041633, 6275.553598831928, 802.1838781583157, 3863.5324907169047, 875.5578034383168, 768.6583563514857, 5046.971204328534, 1277.507692163928, 1851.6252971627357, 3023.828714994548, 1662.337197493302, 1147.7807694062788, 3486.6448770783327, 1328.7884153368543, 2441.6624878679363, 2847.795575384472, 2000.0106199014258, 2183.168715852668, 3442.2656278204736, 345.1660506061703, 286.57941728036616, 260.2154322837543, 441.82115305428925, 390.0680162126134, 203.58168673547692, 187.95858451526246, 166.4768189624676, 143.04216563214595, 332.4465949733302, 124.4897317456413, 119.60751230182427, 112.77240508048044, 173.29168635959516, 101.05507841531963, 100.0786345265562, 96.1728589715026, 94.2199711939758, 92.26708341644898, 92.26708341644898, 88.36130786139539, 84.45553230634177, 83.47908841757837, 140.0999914263978, 77.62042508499795, 74.69109341870775, 73.71464952994435, 73.71464952994435, 72.73820564118094, 68.83243008612732, 330.58100659137057, 255.2376274987078, 106.89350192368376, 167.56095579224856, 103.96417025739355, 162.47776757596654, 201.44224729505518, 160.5439578612071, 737.9200660114867, 213.26875360122267, 450.27351860913564, 307.03852471017217, 659.547914500479, 327.7199253724275, 203.2444810566929, 859.3384400796259, 433.22424746659044, 1751.3926854810347, 3066.5600835630057, 617.8821964232488, 694.7271088055544, 639.545130865667, 934.7315174108576, 427.0549199855196, 661.7039526420366, 2357.0907988642953, 1353.0533686902656, 764.646324999264, 433.29942478465966, 615.6847701586722, 567.4016021050019, 2373.3907325644227, 1221.470441688152, 2177.063465985899, 1276.2160540366394, 714.6014546407953, 637.1056604958832, 1417.8124896362235, 1876.9296901573211, 3484.0874530616734, 2322.4848950164856, 3613.3574006180215, 1013.6757979492191, 4449.180092834131, 1481.5242204325866, 2544.047092049775, 3375.177826628997, 414.3135138681831, 408.48496263844106, 390.0278837442578, 566.8521703577978, 300.65676488821254, 234.5998509511357, 195.74284275285513, 163.68581098927373, 158.82868496448867, 151.05728332483255, 147.17158250500452, 131.6287792256923, 122.88595238107918, 122.88595238107918, 659.2620613855332, 119.00025156125112, 112.20027512655203, 110.257424716638, 107.34314910176697, 104.42887348689591, 103.45744828193891, 103.45744828193891, 253.0839649715129, 101.51459787202488, 100.54317266706788, 99.57174746211088, 168.53511315840723, 98.60032225715385, 160.76210078153557, 91.80034582245476, 409.4363599498829, 419.2873125941358, 152.99948574335932, 436.733316213158, 146.19072270718036, 276.45418729826883, 597.8740624956906, 668.2041356580959, 755.4029742421326, 390.3731752637219, 179.2508666838214, 1469.8558517429697, 658.9958673721538, 520.1341768890869, 3072.903234282402, 1379.7438776681224, 291.97359848882684, 312.5788968313723, 749.2125170762304, 690.8861705059842, 254.9576997522802, 3158.7290727123823, 2472.7674478121357, 925.1297210544698, 878.457516405259, 1589.9343970353705, 1096.5001843675054, 1104.3459318794855, 1855.0819282175366, 1272.4857939299134, 895.4915509416683, 4860.9161231292965, 2595.66572834607, 954.995208379157, 1789.1354153874677, 4231.313671937578, 706.4665181341833, 2641.3289951500656, 2900.4259813589756, 5928.079951781725, 3381.447002837837, 2273.8617364643537, 4191.125508865567, 494.6394691932145, 424.4634216535171, 417.6407503649354, 393.27406719142937, 358.18604342158073, 325.04735430561254, 292.88333251658463, 288.00999588188336, 271.4406513238993, 267.5419820161383, 266.5673146891981, 265.5926473622579, 245.1246334965128, 244.14996616957254, 219.7832829960665, 213.9352790344251, 208.08727507278363, 197.365934476441, 195.41659982256053, 185.66992655315812, 183.72059189927762, 177.87258793763618, 177.87258793763618, 174.94858595681544, 172.02458397599472, 159.3539087257716, 154.4805720910704, 153.50590476413015, 152.5312374371899, 151.55657011024965, 189.54246987709334, 700.619657034212, 371.6065275854265, 2011.3132726199622, 5424.042421583747, 526.5105743434005, 2441.6624878679363, 382.3166794247366, 900.6031844912088, 6275.553598831928, 3863.5324907169047, 6933.687823612894, 1799.3797314286046, 639.425705055416, 5046.971204328534, 2158.465880703417, 1728.5065742748286, 2847.795575384472, 1065.6263656354358, 2187.099808888215, 5232.903173041633, 3157.8701569832965, 3442.2656278204736, 3829.732961521977, 2331.2263463564223, 1410.9257441596162, 1734.0814141320457, 3126.73556047815, 1228.4172620043087, 2183.168715852668, 3317.8567042147565, 1104.8466976876687, 5928.079951781725, 1802.668071363438, 4322.865464732029, 1511.8331973733198, 1150.1673652848185, 372.09052183280835, 338.2154882778995, 286.4066134292153, 240.5756856784563, 748.6223323062796, 224.6344934173227, 207.69697663986827, 199.7263805093015, 193.74843341137637, 178.80356566656363, 148.91383017693818, 143.93220759533395, 142.93588307901308, 140.9432340463714, 137.95426049740885, 230.57810661101684, 130.97998888316292, 125.99836630155865, 115.03879662202931, 113.04614758938762, 113.04614758938762, 190.71933941064015, 110.05717404042507, 103.08290242617913, 101.09025339353742, 101.09025339353742, 100.09392887721657, 97.10495532825404, 470.5772530803893, 782.1280349524488, 161.84050158635813, 292.2559052086033, 137.93437986985143, 380.5768041305256, 929.6843647369247, 1113.0289392846043, 500.1005430820729, 708.8383296163918, 291.74061043868454, 764.8960247459139, 1254.5000221591793, 483.5261043096583, 741.1585606550334, 323.4192123592705, 1625.8455854706062, 806.6290897948786, 1789.1354153874677, 1357.0644642748623, 1299.281685670193, 1152.7504743453833, 586.5111498346006, 3188.5960455740815, 1481.5242204325866, 1034.8655593993176, 464.3811591429912, 1053.0649308706843, 2381.234961077132, 1806.4073386140199, 1932.8152844496828, 3046.997712047733, 899.8387083766128, 2900.4259813589756, 3701.3528960969297, 3066.5600835630057, 3613.3574006180215, 3913.307734183066, 3518.8533529588567, 1418.790444991162, 1196.1933794109575, 965.7167716863211, 630.8362305479602, 496.88401409261587, 495.8990713245619, 763.7801658022238, 775.6502162196139, 442.7121618496458, 426.9530775607817, 412.1789360399717, 281.18154788878934, 271.33212020824925, 232.91935225414318, 216.17532519722513, 203.37106921252308, 201.4011836764151, 163.97335849036298, 160.03358741814696, 159.04864465009297, 156.09381634593095, 140.33473205706693, 137.3799037529049, 134.4250754487429, 123.59070500014887, 116.69610562377085, 116.69610562377085, 115.71116285571685, 112.75633455155483, 103.89184963906881, 171.84262519368124, 304.7436844084699, 734.960889586175, 2328.092799729591, 2355.2748873975797, 373.42039234500675, 1627.2571786774952, 243.33363090825804, 2307.7354049846554, 377.9338983927041, 447.1946559971511, 1823.321160472638, 3283.035090261186, 1604.3907169333525, 2641.3289951500656, 2325.1317688192776, 2092.61001479069, 5928.079951781725, 1415.1207539598147, 3158.7290727123823, 3484.0874530616734, 3116.9002886568064, 1752.586048402623, 2957.4086546846856, 1707.024796469529, 4512.222022292803, 2688.5938562504098, 2943.451388681437, 4860.9161231292965, 4191.125508865567, 898.3924024530127, 492.4434466095413, 451.94978517877115, 446.88807749992486, 422.5918806414627, 324.394751671845, 324.394751671845, 309.20962863530616, 308.1972870995369, 297.0615302060751, 297.0615302060751, 288.96279791992106, 284.91343177684405, 283.90109024107477, 274.79001641915147, 268.71596720453596, 268.71596720453596, 255.55552723953562, 252.51850263222784, 432.6722386278867, 246.44445341761232, 229.23464730953498, 388.1130518204403, 197.85205970068807, 196.83971816491882, 195.82737662914957, 190.76566895030325, 189.75332741453403, 189.75332741453403, 186.71630280722627, 347.6238094591074, 286.88937466191874, 263.6133431948775, 355.62512767846624, 365.73154429951154, 288.8620960725623, 418.2500711939201, 409.0207901304093, 364.72824290813116, 416.8029806834454, 1435.8858645256128, 501.8380376648657, 388.13522127123, 834.2067368451433, 572.5756310362569, 3441.557784537168, 1091.6077751543892, 352.3944269816649, 1055.671471902473, 684.83669144077, 2331.2263463564223, 1524.5049446709095, 1282.5724166926138, 1100.9898563356242, 631.7055223852325, 876.4126033551227, 607.8187346466019, 836.7556054860456, 1957.3637084848194, 766.7906504251443, 2581.004419619173, 3722.018517447483, 2385.058136287681, 1690.3479483561923, 2957.4086546846856, 1918.3339479570368, 2663.5570308048227, 4271.413377168569, 2325.98431919541, 3783.8172738785875], \"logprob\": [30.0, 29.0, 28.0, 27.0, 26.0, 25.0, 24.0, 23.0, 22.0, 21.0, 20.0, 19.0, 18.0, 17.0, 16.0, 15.0, 14.0, 13.0, 12.0, 11.0, 10.0, 9.0, 8.0, 7.0, 6.0, 5.0, 4.0, 3.0, 2.0, 1.0, -4.0428, -4.7368, -4.7398, -4.9071, -5.1294, -5.1333, -5.2034, -5.232, -4.7257, -4.7511, -4.5574, -4.6654, -5.6151, -5.7548, -4.625, -5.8086, -6.0879, -6.1496, -6.2153, -6.3333, -5.262, -5.1024, -6.5168, -6.1602, -6.7976, -6.8603, -6.8639, -6.3461, -6.9158, -7.0156, -3.8401, -5.15, -5.0534, -4.779, -6.5532, -6.2343, -4.8146, -5.0779, -5.8431, -5.8775, -5.4124, -5.1858, -5.743, -4.8021, -4.669, -5.5119, -5.3833, -5.2249, -5.6498, -5.1618, -5.4797, -6.6946, -7.2138, -7.6548, -7.1561, -7.1561, -7.7153, -7.8285, -7.1872, -7.2247, -8.1159, -7.5897, -8.1992, -7.7517, -8.306, -8.306, -8.3222, -8.4076, -8.4439, -8.4625, -8.4625, -8.4816, -8.5614, -8.5614, -8.5824, -8.6039, -8.6039, -8.6258, -8.6258, -8.6483, -8.7433, -7.7894, -6.5909, -7.0871, -8.0514, -4.8777, -7.9338, -7.5361, -6.4062, -7.0544, -6.3477, -6.8853, -6.3684, -6.7542, -5.7727, -7.0544, -5.2699, -5.3045, -6.6414, -5.8145, -6.7925, -5.4297, -6.3409, -5.7425, -6.8285, -4.8423, -6.3942, -5.1883, -5.3029, -5.2769, -5.6917, -5.4896, -5.5159, -5.0874, -4.8845, -6.312, -5.3742, -5.9333, -5.8679, -5.8665, -5.48, -5.5359, -5.6953, -5.28, -5.9653, -5.7024, -5.4848, -5.542, -5.4714, -5.8581, -5.541, -5.7229, -5.64, -5.6638, -5.7363, -5.7, -5.1386, -5.1846, -5.3389, -5.3407, -5.725, -5.7649, -5.7786, -5.9592, -5.9759, -5.9979, -6.0328, -6.0328, -6.0932, -6.1944, -6.2436, -6.268, -6.3499, -6.3821, -6.3872, -6.3973, -6.405, -5.8785, -6.4661, -6.5138, -6.6926, -6.7347, -6.7347, -6.7565, -6.8325, -6.8687, -6.3475, -6.5341, -5.8426, -6.6134, -5.9494, -4.8685, -4.8819, -5.8108, -5.8222, -5.9592, -5.7342, -5.7276, -4.858, -5.1106, -5.2242, -5.7649, -5.4183, -5.3568, -5.0202, -5.2745, -5.2171, -5.3514, -5.4505, -5.4786, -5.8969, -5.847, -5.9445, -5.3465, -5.4476, -5.4653, -6.4051, -6.4179, -5.7392, -6.6851, -6.8493, -6.49, -7.1108, -7.116, -6.2477, -6.0493, -7.2787, -5.6552, -7.4087, -7.4156, -7.444, -7.4585, -6.9582, -7.5032, -7.5342, -7.5581, -7.6247, -7.6509, -7.6778, -7.6961, -7.7338, -7.8034, -7.2787, -5.5667, -5.3706, -4.4964, -6.8653, -6.4681, -6.2477, -6.1524, -5.9301, -4.286, -6.7476, -6.6553, -5.0402, -5.3307, -6.6618, -5.7249, -5.7314, -5.0786, -5.3255, -6.1684, -5.253, -5.9317, -4.1398, -4.6018, -3.9211, -4.9343, -4.3865, -5.2105, -4.8908, -5.5525, -5.3368, -5.6516, -5.3679, -5.4653, -5.5471, -5.53, -5.4466, -5.4966, -5.6186, -5.4777, -6.4418, -7.1403, -7.2406, -7.318, -7.3731, -7.3946, -7.424, -6.6152, -7.5855, -7.6773, -7.7065, -7.1687, -6.8583, -7.7677, -7.8671, -7.8788, -8.0038, -8.0446, -6.9195, -8.2101, -8.2101, -8.3135, -8.3135, -8.3504, -8.3694, -5.0173, -8.4086, -8.4086, -8.4287, -7.3874, -7.6869, -5.7011, -5.8033, -6.9105, -6.9515, -4.8393, -7.6122, -5.8831, -5.4745, -5.6429, -6.9469, -4.5776, -5.2569, -5.7064, -4.4516, -6.2493, -4.4597, -6.6252, -5.7308, -5.2225, -6.4307, -6.4252, -5.6905, -6.5954, -4.764, -5.0905, -5.9041, -5.22, -6.13, -5.324, -5.8018, -4.5473, -5.5951, -5.1394, -5.365, -5.2785, -5.3765, -5.5483, -4.8376, -5.3249, -5.1956, -5.3584, -5.5047, -5.4514, -5.4629, -5.5369, -5.5301, -5.5832, -4.5362, -4.8556, -5.337, -5.3615, -5.4583, -5.8116, -5.0508, -6.0126, -6.7166, -5.6096, -6.8548, -6.8981, -7.0054, -7.0153, -7.0153, -7.109, -7.3212, -7.3416, -7.3625, -7.3984, -6.5197, -7.4585, -7.5142, -7.0354, -7.5733, -7.5733, -5.4253, -7.6177, -7.636, -7.6642, -4.3486, -4.5254, -5.1785, -7.3078, -4.4247, -6.8893, -5.7314, -6.2738, -7.0005, -5.9186, -6.4439, -5.0748, -6.0144, -5.3051, -5.0755, -6.0422, -6.1347, -5.991, -6.2458, -5.0438, -5.5322, -5.3078, -5.5044, -4.4866, -5.4479, -5.4848, -4.9129, -4.9634, -5.451, -5.1104, -5.1111, -5.4572, -5.472, -5.5121, -6.2246, -6.4074, -6.831, -7.033, -7.0975, -7.1256, -7.1605, -7.1605, -6.6558, -6.7771, -5.9882, -7.4861, -6.9724, -7.5194, -7.0175, -7.6266, -7.6456, -5.8435, -7.6749, -7.6948, -6.5541, -5.9557, -7.779, -7.8472, -7.8472, -7.8472, -7.859, -7.883, -6.9922, -7.9077, -6.7651, -6.4214, -7.1487, -7.1664, -7.4227, -7.4382, -6.7147, -6.0603, -5.638, -7.0124, -4.7225, -6.6139, -6.4886, -6.4617, -5.9226, -5.5247, -5.8839, -6.138, -6.1108, -6.4471, -5.8708, -5.7369, -5.3712, -6.0682, -6.6558, -5.4386, -6.2577, -5.426, -6.3558, -6.3908, -5.6951, -5.5988, -5.8972, -5.6316, -5.8989, -6.0389, -5.8889, -5.76, -5.5706, -5.9434, -6.1771, -6.0662, -5.9955, -6.1639, -4.4141, -4.9476, -5.5069, -5.8152, -6.3628, -6.5098, -6.5478, -6.1107, -6.6639, -6.3442, -6.9182, -6.9514, -6.9959, -7.0214, -7.0967, -6.0078, -7.2088, -6.3575, -7.3141, -7.3495, -7.3567, -7.3639, -7.3713, -7.4163, -6.9089, -5.7938, -7.4798, -7.5047, -7.5216, -7.5388, -6.1954, -6.5772, -6.5542, -6.697, -7.0477, -6.4913, -6.4613, -7.1781, -5.9044, -6.5413, -5.2897, -6.1909, -5.7892, -6.6603, -4.1235, -5.0767, -6.2929, -6.4822, -6.2634, -5.9078, -5.4689, -6.2537, -6.0921, -6.0738, -6.3234, -5.8199, -5.5511, -6.0941, -5.3659, -5.7122, -5.834, -6.0839, -5.7624, -6.0921, -6.086, -6.0287, -6.1253, -6.0364, -5.9837, -6.0364, -6.088, -4.7481, -4.7545, -4.8705, -5.1288, -5.3379, -5.4151, -5.4381, -4.9638, -5.5079, -5.6014, -5.6458, -6.0629, -6.1113, -6.1513, -6.1665, -6.2111, -6.2531, -6.2796, -4.8463, -6.3825, -5.8718, -6.4354, -6.4555, -6.4585, -6.4673, -6.4821, -5.9601, -6.6029, -6.6911, -6.8336, -4.5297, -5.7004, -5.2494, -5.3041, -5.2126, -5.2109, -4.443, -3.946, -4.2167, -4.1135, -5.7338, -4.6758, -5.7059, -5.7997, -4.6396, -5.5192, -5.3162, -5.0805, -5.3988, -5.5939, -5.2185, -5.5793, -5.4658, -5.48, -5.5238, -5.5181, -5.4978, -6.3578, -6.5446, -6.6416, -6.1122, -6.2375, -6.8885, -6.9689, -7.0912, -7.2442, -6.4013, -7.3846, -7.4251, -7.4846, -7.0563, -7.5957, -7.6056, -7.6459, -7.6667, -7.688, -7.688, -7.7319, -7.7778, -7.7897, -7.2722, -7.8637, -7.9028, -7.9163, -7.9163, -7.9298, -7.9861, -6.4253, -6.6839, -7.5479, -7.1031, -7.5763, -7.1396, -6.938, -7.1584, -5.7172, -6.8982, -6.2225, -6.583, -5.89, -6.5446, -6.9741, -5.7098, -6.3133, -5.1199, -4.6501, -6.0477, -5.9676, -6.0498, -5.7999, -6.4102, -6.099, -5.1602, -5.5882, -6.0189, -6.4223, -6.1956, -6.2604, -5.4181, -5.8262, -5.583, -5.8724, -6.1788, -6.24, -5.9676, -5.8918, -5.7758, -5.9207, -5.8196, -6.1279, -6.0394, -6.1647, -6.1415, -6.1347, -6.1707, -6.1849, -6.2313, -5.8581, -6.4926, -6.7419, -6.9242, -7.1044, -7.1348, -7.1854, -7.2117, -7.3244, -7.3939, -7.3939, -5.7141, -7.4264, -7.4859, -7.5036, -7.5307, -7.5586, -7.5681, -7.5681, -6.6735, -7.5873, -7.597, -7.6069, -7.0807, -7.6168, -7.1286, -7.6893, -6.1945, -6.173, -7.1789, -6.1405, -7.2251, -6.6022, -5.8495, -5.7505, -5.6464, -6.2852, -7.035, -5.0173, -5.8159, -6.0407, -4.4049, -5.1624, -6.5914, -6.5323, -5.7474, -5.8564, -6.7254, -4.5391, -4.7665, -5.6122, -5.6732, -5.1815, -5.542, -5.5869, -5.2569, -5.547, -5.8028, -4.738, -5.2135, -5.8028, -5.5726, -5.4061, -6.0002, -5.6284, -5.6068, -5.4659, -5.6464, -5.8193, -5.8343, -5.9525, -6.1059, -6.1222, -6.1825, -6.2763, -6.3738, -6.4784, -6.4953, -6.5548, -6.5694, -6.573, -6.5767, -6.6573, -6.6613, -6.7671, -6.7942, -6.8221, -6.8754, -6.8854, -6.9369, -6.9476, -6.9801, -6.9801, -6.9968, -7.0138, -7.091, -7.1223, -7.1287, -7.1351, -7.1416, -6.9264, -5.6823, -6.29, -4.7314, -4.0473, -6.0787, -4.8076, -6.35, -5.6584, -4.2012, -4.6259, -4.1906, -5.2614, -6.0178, -4.5395, -5.1733, -5.3311, -5.0152, -5.699, -5.2331, -4.758, -5.2197, -5.1879, -5.1545, -5.414, -5.6733, -5.5792, -5.3184, -5.7493, -5.5198, -5.4106, -5.8369, -5.4552, -5.7755, -5.7905, -4.7013, -4.9754, -6.1047, -6.2005, -6.3675, -6.5428, -5.4076, -6.6117, -6.6906, -6.73, -6.7606, -6.8415, -7.026, -7.0603, -7.0673, -7.0815, -7.1031, -6.5897, -7.1555, -7.1947, -7.2868, -7.3045, -7.3045, -6.7816, -7.3316, -7.3979, -7.4177, -7.4177, -7.4277, -7.4585, -5.8816, -5.3825, -6.948, -6.364, -7.1105, -6.1402, -5.2903, -5.1726, -5.9166, -5.6168, -6.4288, -5.594, -5.1631, -6.0148, -5.6504, -6.364, -5.0125, -5.6218, -5.109, -5.3205, -5.4348, -5.5179, -6.0197, -4.9973, -5.4783, -5.7174, -6.1714, -5.8151, -5.5467, -5.6606, -5.6368, -5.5638, -5.93, -5.6745, -5.678, -5.7192, -5.7451, -5.8011, -5.8773, -4.7562, -4.9271, -5.1414, -5.5679, -5.8072, -5.8092, -5.3776, -5.3622, -5.923, -5.9593, -5.9947, -6.3787, -6.4145, -6.568, -6.643, -6.7045, -6.7143, -6.9215, -6.946, -6.9522, -6.9711, -7.0785, -7.1, -7.122, -7.2069, -7.265, -7.265, -7.2736, -7.2997, -7.3827, -6.8799, -6.3272, -5.5028, -4.4102, -4.47, -6.2017, -4.8851, -6.5982, -4.6794, -6.2377, -6.1142, -5.1023, -4.8112, -5.3763, -5.08, -5.1672, -5.3198, -4.7528, -5.5981, -5.197, -5.1496, -5.2514, -5.5176, -5.3041, -5.5509, -5.2412, -5.4158, -5.4239, -5.4321, -5.4754, -5.1773, -5.7798, -5.8659, -5.8772, -5.9333, -6.1987, -6.1987, -6.2468, -6.2501, -6.2871, -6.2871, -6.3149, -6.329, -6.3326, -6.3654, -6.3879, -6.3879, -6.4383, -6.4503, -5.9119, -6.4748, -6.5476, -6.0211, -6.6958, -6.701, -6.7062, -6.7325, -6.7379, -6.7379, -6.7541, -6.1349, -6.3255, -6.4108, -6.1146, -6.089, -6.3219, -5.96, -5.9901, -6.1088, -5.9876, -4.8501, -5.8415, -6.0778, -5.4901, -5.7923, -4.4087, -5.3009, -6.1739, -5.403, -5.7655, -5.0623, -5.3751, -5.5231, -5.6361, -5.9095, -5.8219, -5.9775, -5.8659, -5.6219, -5.9142, -5.6062, -5.5279, -5.6396, -5.7237, -5.6079, -5.7716, -5.7414, -5.7082, -5.7944, -5.8909]}};\n",
       "\n",
       "function LDAvis_load_lib(url, callback){\n",
       "  var s = document.createElement('script');\n",
       "  s.src = url;\n",
       "  s.async = true;\n",
       "  s.onreadystatechange = s.onload = callback;\n",
       "  s.onerror = function(){console.warn(\"failed to load library \" + url);};\n",
       "  document.getElementsByTagName(\"head\")[0].appendChild(s);\n",
       "}\n",
       "\n",
       "if(typeof(LDAvis) !== \"undefined\"){\n",
       "   // already loaded: just create the visualization\n",
       "   !function(LDAvis){\n",
       "       new LDAvis(\"#\" + \"ldavis_el86446819822566226471118\", ldavis_el86446819822566226471118_data);\n",
       "   }(LDAvis);\n",
       "}else if(typeof define === \"function\" && define.amd){\n",
       "   // require.js is available: use it to load d3/LDAvis\n",
       "   require.config({paths: {d3: \"https://cdnjs.cloudflare.com/ajax/libs/d3/3.5.5/d3.min\"}});\n",
       "   require([\"d3\"], function(d3){\n",
       "      window.d3 = d3;\n",
       "      LDAvis_load_lib(\"https://cdn.rawgit.com/bmabey/pyLDAvis/files/ldavis.v1.0.0.js\", function(){\n",
       "        new LDAvis(\"#\" + \"ldavis_el86446819822566226471118\", ldavis_el86446819822566226471118_data);\n",
       "      });\n",
       "    });\n",
       "}else{\n",
       "    // require.js not available: dynamically load d3 & LDAvis\n",
       "    LDAvis_load_lib(\"https://cdnjs.cloudflare.com/ajax/libs/d3/3.5.5/d3.min.js\", function(){\n",
       "         LDAvis_load_lib(\"https://cdn.rawgit.com/bmabey/pyLDAvis/files/ldavis.v1.0.0.js\", function(){\n",
       "                 new LDAvis(\"#\" + \"ldavis_el86446819822566226471118\", ldavis_el86446819822566226471118_data);\n",
       "            })\n",
       "         });\n",
       "}\n",
       "</script>"
      ],
      "text/plain": [
       "PreparedData(topic_coordinates=           Freq  cluster  topics         x         y\n",
       "topic                                               \n",
       "12     8.190019        1       1 -0.108737  0.120673\n",
       "11     7.779829        1       2  0.150141  0.032862\n",
       "7      7.377813        1       3 -0.145805  0.092891\n",
       "14     7.366860        1       4 -0.112440 -0.085845\n",
       "10     7.015565        1       5 -0.195990 -0.018474\n",
       "5      6.979091        1       6 -0.033851 -0.172175\n",
       "1      6.837241        1       7  0.099506 -0.122611\n",
       "4      6.804558        1       8  0.135794 -0.062209\n",
       "3      6.800670        1       9  0.200805  0.192530\n",
       "6      6.426532        1      10 -0.028667 -0.044069\n",
       "13     6.401968        1      11 -0.164055  0.101939\n",
       "0      6.148070        1      12  0.219407  0.159568\n",
       "9      5.380403        1      13 -0.061461 -0.099672\n",
       "2      5.341117        1      14 -0.086294  0.130761\n",
       "8      5.150263        1      15  0.131648 -0.226168, topic_info=      Category         Freq              Term        Total  loglift  logprob\n",
       "term                                                                        \n",
       "16975  Default  6933.000000              team  6933.000000  30.0000  30.0000\n",
       "55971  Default  5514.000000          campaign  5514.000000  29.0000  29.0000\n",
       "38603  Default  6275.000000              game  6275.000000  28.0000  28.0000\n",
       "63714  Default  8140.000000           percent  8140.000000  27.0000  27.0000\n",
       "2124   Default  6050.000000           company  6050.000000  26.0000  26.0000\n",
       "36803  Default  4437.000000       zzz_al_gore  4437.000000  25.0000  25.0000\n",
       "48402  Default  5232.000000            season  5232.000000  24.0000  24.0000\n",
       "18415  Default  5046.000000              play  5046.000000  23.0000  23.0000\n",
       "10411  Default  5424.000000             point  5424.000000  22.0000  22.0000\n",
       "17274  Default  7001.000000           million  7001.000000  21.0000  21.0000\n",
       "53029  Default  3538.000000            market  3538.000000  20.0000  20.0000\n",
       "36018  Default  3863.000000            player  3863.000000  19.0000  19.0000\n",
       "20486  Default  3441.000000               com  3441.000000  18.0000  18.0000\n",
       "55419  Default  2858.000000          computer  2858.000000  17.0000  17.0000\n",
       "41339  Default  4976.000000              show  4976.000000  16.0000  16.0000\n",
       "7636   Default  4081.000000            school  4081.000000  15.0000  15.0000\n",
       "44901  Default  3317.000000             coach  3317.000000  14.0000  14.0000\n",
       "23905  Default  3582.000000         companies  3582.000000  13.0000  13.0000\n",
       "41811  Default  2543.000000              film  2543.000000  12.0000  12.0000\n",
       "42644  Default  2654.000000  zzz_bill_bradley  2654.000000  11.0000  11.0000\n",
       "3691   Default  2790.000000               web  2790.000000  10.0000  10.0000\n",
       "37935  Default  3283.000000            family  3283.000000   9.0000   9.0000\n",
       "19811  Default  4860.000000          official  4860.000000   8.0000   8.0000\n",
       "59072  Default  2622.000000             stock  2622.000000   7.0000   7.0000\n",
       "52110  Default  3072.000000               law  3072.000000   6.0000   6.0000\n",
       "13484  Default  3158.000000              case  3158.000000   5.0000   5.0000\n",
       "31870  Default  2482.000000   zzz_george_bush  2482.000000   4.0000   4.0000\n",
       "59972  Default  2309.000000      zzz_internet  2309.000000   3.0000   3.0000\n",
       "22043  Default  2428.000000              site  2428.000000   2.0000   2.0000\n",
       "5094   Default  2299.000000              yard  2299.000000   1.0000   1.0000\n",
       "...        ...          ...               ...          ...      ...      ...\n",
       "22154  Topic15  1244.268982              food  1435.885865   2.8229  -4.8501\n",
       "61937  Topic15   461.728974               fat   501.838038   2.8828  -5.8415\n",
       "50201  Topic15   364.544187              bowl   388.135221   2.9034  -6.0778\n",
       "10394  Topic15   656.098549        restaurant   834.206737   2.7260  -5.4901\n",
       "53021  Topic15   485.012830            marked   572.575631   2.8002  -5.7923\n",
       "20486  Topic15  1934.685909               com  3441.557785   2.3901  -4.4087\n",
       "56821  Topic15   792.764657             daily  1091.607775   2.6462  -5.3009\n",
       "40147  Topic15   331.136916              meat   352.394427   2.9039  -6.1739\n",
       "58173  Topic15   715.826700               oil  1055.671472   2.5776  -5.4030\n",
       "5154   Topic15   498.173270           serving   684.836691   2.6479  -5.7655\n",
       "27846  Topic15  1006.368721           minutes  2331.226346   2.1261  -5.0623\n",
       "60961  Topic15   736.073531             water  1524.504945   2.2380  -5.3751\n",
       "43704  Topic15   634.839377               add  1282.572417   2.2629  -5.5231\n",
       "17143  Topic15   567.012494              spot  1100.989856   2.3025  -5.6361\n",
       "57313  Topic15   431.358728             green   631.705522   2.5846  -5.9095\n",
       "28338  Topic15   470.840048             serve   876.412603   2.3448  -5.8219\n",
       "34852  Topic15   403.013165             fresh   607.818735   2.5552  -5.9775\n",
       "48149  Topic15   450.593218               hot   836.755605   2.3472  -5.8659\n",
       "33928  Topic15   575.111226             large  1957.363708   1.7413  -5.6219\n",
       "51722  Topic15   429.334045          separate   766.790650   2.3861  -5.9142\n",
       "10862  Topic15   584.222300             today  2581.004420   1.4805  -5.6062\n",
       "25266  Topic15   631.802352          question  3722.018517   1.1927  -5.5279\n",
       "18148  Topic15   564.987811       information  2385.058136   1.5259  -5.6396\n",
       "37388  Topic15   519.432442             sport  1690.347948   1.7862  -5.7237\n",
       "1656   Topic15   583.209959         newspaper  2957.408655   1.3426  -5.6079\n",
       "3069   Topic15   495.136245             makes  1918.333948   1.6117  -5.7716\n",
       "4651   Topic15   510.321368              hand  2663.557031   1.3137  -5.7414\n",
       "55280  Topic15   527.531174              need  4271.413377   0.8746  -5.7082\n",
       "2024   Topic15   484.000488             small  2325.984319   1.3963  -5.7944\n",
       "38492  Topic15   439.457461              look  3783.817274   0.8132  -5.8909\n",
       "\n",
       "[1050 rows x 6 columns], token_table=       Topic      Freq                Term\n",
       "term                                      \n",
       "1163       1  0.994093            abortion\n",
       "1163      11  0.002244            abortion\n",
       "10876      1  0.020177              access\n",
       "10876      3  0.042035              access\n",
       "10876      5  0.038672              access\n",
       "10876      6  0.860870              access\n",
       "10876     13  0.008407              access\n",
       "10876     14  0.028584              access\n",
       "48559      6  0.002838            accident\n",
       "48559      7  0.973394            accident\n",
       "48559      8  0.002838            accident\n",
       "48559     12  0.014189            accident\n",
       "48559     14  0.002838            accident\n",
       "16882      2  0.009275               actor\n",
       "16882      8  0.989286               actor\n",
       "45675      2  0.013146             actress\n",
       "45675      8  0.982653             actress\n",
       "43704      4  0.000780                 add\n",
       "43704      5  0.098240                 add\n",
       "43704      6  0.156716                 add\n",
       "43704      7  0.000780                 add\n",
       "43704      8  0.196480                 add\n",
       "43704     13  0.050679                 add\n",
       "43704     15  0.495099                 add\n",
       "57055      2  0.014146               agent\n",
       "57055      8  0.000786               agent\n",
       "57055      9  0.199609               agent\n",
       "57055     11  0.605115               agent\n",
       "57055     12  0.121809               agent\n",
       "57055     13  0.057368               agent\n",
       "...      ...       ...                 ...\n",
       "24573     11  0.133517   zzz_united_states\n",
       "24573     13  0.021403   zzz_united_states\n",
       "24573     14  0.246989   zzz_united_states\n",
       "21700      1  0.084515      zzz_university\n",
       "21700      5  0.275387      zzz_university\n",
       "21700      9  0.100659      zzz_university\n",
       "21700     12  0.000950      zzz_university\n",
       "21700     13  0.470056      zzz_university\n",
       "21700     14  0.064573      zzz_university\n",
       "21700     15  0.002849      zzz_university\n",
       "28353     12  0.994120             zzz_usc\n",
       "20279     10  0.984594         zzz_vatican\n",
       "22517     12  0.991886   zzz_virginia_tech\n",
       "17257     10  0.977359          zzz_virtue\n",
       "53972      3  0.997975  zzz_vladimir_putin\n",
       "750        4  0.983502        zzz_vodafone\n",
       "37329      4  0.992555     zzz_wall_street\n",
       "37329     10  0.002256     zzz_wall_street\n",
       "37329     15  0.002256     zzz_wall_street\n",
       "56072      4  0.988995  zzz_warner_lambert\n",
       "1831       1  0.151752      zzz_washington\n",
       "1831       3  0.194525      zzz_washington\n",
       "1831       5  0.148777      zzz_washington\n",
       "1831       9  0.098936      zzz_washington\n",
       "1831      12  0.034219      zzz_washington\n",
       "1831      13  0.036822      zzz_washington\n",
       "1831      14  0.272633      zzz_washington\n",
       "1831      15  0.062114      zzz_washington\n",
       "34775      5  0.976564         zzz_welfare\n",
       "49973      2  0.967512  zzz_young_children\n",
       "\n",
       "[3026 rows x 3 columns], R=30, lambda_step=0.01, plot_opts={'xlab': 'PC1', 'ylab': 'PC2'}, topic_order=[13, 12, 8, 15, 11, 6, 2, 5, 4, 7, 14, 1, 10, 3, 9])"
      ]
     },
     "execution_count": 8,
     "metadata": {},
     "output_type": "execute_result"
    }
   ],
   "source": [
    "pyLDAvis.graphlab.prepare(topic_model, docs)"
   ]
  },
  {
   "cell_type": "code",
   "execution_count": 9,
   "metadata": {
    "collapsed": false
   },
   "outputs": [
    {
     "name": "stdout",
     "output_type": "stream",
     "text": [
      "[{'coach': 2L, 'shot': 1L, 'help': 1L, 'zzz_frozena_jerro': 1L, 'foul': 2L, 'ended': 2L, 'committed': 1L, 'glimpse': 1L, 'cut': 2L, 'hope': 1L, 'board': 1L, 'halftime': 1L, 'momentum': 1L, 'gave': 2L, 'rebound': 2L, 'game': 4L, 'valuable': 1L, 'half': 4L, 'minute': 1L, 'desire': 1L, 'school': 1L, 'level': 2L, 'trailed': 1L, 'admitted': 1L, 'victory': 1L, 'team': 5L, 'right': 1L, 'crowd': 1L, 'hard': 1L, 'begin': 1L, 'past': 1L, 'defense': 1L, 'fewer': 2L, 'close': 1L, 'provided': 1L, 'zzz_ncaa': 2L, 'won': 1L, 'deficit': 1L, 'learned': 1L, 'run': 2L, 'zzz_mississippi_state': 7L, 'schedule': 1L, 'night': 3L, 'deliver': 1L, 'ranked': 4L, 'clues': 1L, 'put': 1L, 'comeback': 1L, 'strong': 1L, 'zzz_division_i': 1L, 'getting': 1L, 'leaves': 1L, 'losses': 1L, 'experience': 1L, 'figures': 1L, 'commit': 1L, 'zzz_illinois': 1L, 'point': 4L, 'win': 3L, 'number': 1L, 'talked': 1L, 'reached': 1L, 'lesson': 1L, 'conference': 1L, 'basketball': 1L, 'mark': 1L, 'needed': 1L, 'basic': 1L, 'percentage': 1L, 'type': 1L, 'footwork': 1L, 'zzz_big_sky': 1L, 'season': 1L, 'completed': 1L, 'took': 1L, 'zzz_bulldog': 4L, 'zzz_dartmouth': 1L, 'attempt': 1L, 'believe': 1L, 'women': 1L, 'shoot': 1L, 'rebounding': 1L, 'player': 3L, 'double': 1L, 'straight': 1L, 'record': 1L, 'weren': 1L, 'era': 1L, 'learn': 1L, 'taking': 2L, 'streak': 1L, 'heart': 1L, 'zzz_northern_arizona': 1L, 'tournament': 2L, 'turned': 1L, 'elevating': 1L, 'hungry': 1L, 'high': 1L, 'talking': 1L, 'nonconference': 1L, 'home': 1L, 'need': 2L, 'seen': 1L, 'shooting': 1L, 'goal': 2L, 'percent': 2L, 'field': 1L, 'zzz_big_sky_conference': 1L, 'difficult': 1L, 'scored': 5L, 'play': 6L, 'caliber': 1L, 'committing': 1L, 'reach': 1L, 'nationally': 2L, 'ball': 1L, 'zzz_northridge': 6L, 'freshman': 1L, 'zzz_christmas': 1L, 'zzz_matador': 3L, 'remain': 1L, 'face': 1L, 'portion': 1L, 'zzz_cal_state_northridge': 1L, 'bunches': 1L, 'responded': 1L, 'turnover': 2L}, {'executive': 1L, 'numbering': 1L, 'assigned': 1L, 'paper': 4L, 'corner': 1L, 'issues': 2L, 'bearing': 1L, 'passage': 1L, 'finally': 1L, 'program': 1L, 'glanced': 1L, 'holiday': 1L, 'decades': 1L, 'propped': 1L, 'skipped': 1L, 'founding': 1L, 'assistant': 1L, 'bound': 1L, 'early': 1L, 'historic': 1L, 'preparing': 1L, 'desk': 2L, 'front': 3L, 'minute': 1L, 'produced': 1L, 'appeal': 1L, 'persisted': 1L, 'scanning': 1L, 'mental': 1L, 'sequence': 1L, 'unpublished': 1L, 'alive': 1L, 'celebrating': 1L, 'computer': 1L, 'curious': 1L, 'message': 1L, 'centuries': 1L, 'zzz_union_square': 1L, 'wondered': 1L, 'clock': 1L, 'numeral': 1L, 'learned': 1L, 'reading': 1L, 'issue': 8L, 'correct': 1L, 'arrival': 1L, 'earlier': 1L, 'recently': 1L, 'zzz_roman': 1L, 'disputes': 1L, 'article': 1L, 'change': 1L, 'extension': 1L, 'newsboy': 1L, 'turn': 1L, 'advertising': 1L, 'published': 2L, 'book': 1L, 'upper': 1L, 'appeared': 1L, 'number': 7L, 'feet': 1L, 'zzz_seattle': 1L, 'perpetuating': 1L, 'labor': 1L, 'necessarily': 1L, 'publication': 1L, 'working': 1L, 'mark': 1L, 'archives': 2L, 'hawking': 1L, 'strike': 1L, 'offer': 1L, 'memo': 1L, 'gap': 1L, 'volume': 1L, 'sobering': 1L, 'zeroed': 1L, 'catch': 1L, 'believe': 1L, 'reel': 1L, 'edition': 1L, 'premature': 1L, 'remain': 1L, 'error': 3L, 'newspaper': 1L, 'treated': 1L, 'noticed': 1L, 'century': 1L, 'calculator': 1L, 'apparently': 1L, 'snowy': 1L, 'spreadsheet': 1L, 'potential': 1L, 'arithmetic': 1L, 'tried': 1L, 'steadily': 1L, 'nightly': 1L, 'date': 1L, 'climbing': 1L, 'microfilm': 1L, 'pages': 1L, 'longer': 1L, 'light': 1L, 'calculated': 1L, 'enter': 1L, 'left': 1L}, {'walking': 1L, 'outdoor': 1L, 'customary': 1L, 'heavily': 1L, 'midnight': 3L, 'actress': 1L, 'zzz_stomp': 1L, 'alien': 1L, 'zzz_new_york': 3L, 'zzz_robert_duvall': 1L, 'fear': 2L, 'find': 1L, 'earlier': 1L, 'busy': 1L, 'entrances': 1L, 'zone': 1L, 'concerned': 2L, 'fenced': 1L, 'bug': 2L, 'production': 1L, 'black': 1L, 'mail': 1L, 'pegged': 1L, 'skies': 1L, 'zzz_maryland': 1L, 'activities': 1L, 'massive': 1L, 'string': 1L, 'spectacular': 1L, 'sitting': 1L, 'zzz_america': 3L, 'stop': 1L, 'nation': 1L, 'scaling': 1L, 'mention': 1L, 'game': 1L, 'anxiety': 1L, 'descending': 1L, 'foot': 1L, 'join': 1L, 'killed': 1L, 'celebrate': 1L, 'zzz_uno': 1L, 'zzz_trisha_yearwood': 1L, 'joked': 2L, 'racing': 1L, 'brother': 1L, 'cascading': 1L, 'worried': 1L, 'leave': 1L, 'festivities': 1L, 'independence': 1L, 'night': 2L, 'security': 3L, 'mayor': 1L, 'lines': 1L, 'futuristic': 1L, 'zzz_don_mclean': 1L, 'set': 1L, 'century': 1L, 'prompted': 1L, 'crowd': 5L, 'house': 1L, 'globe': 1L, 'light': 3L, 'seat': 1L, 'past': 1L, 'pricetag': 1L, 'street': 1L, 'zzz_bobby_mcferrin': 1L, 'booth': 1L, 'needle': 1L, 'hosted': 2L, 'dignitaries': 1L, 'patch': 1L, 'event': 1L, 'zzz_jack_nicholson': 1L, 'concern': 1L, 'large': 1L, 'shown': 1L, 'visiting': 2L, 'memories': 1L, 'section': 1L, 'performer': 1L, 'chaos': 1L, 'daytime': 1L, 'children': 1L, 'waiting': 2L, 'firework': 3L, 'closed': 1L, 'capital': 1L, 'progress': 1L, 'zzz_washington_monument': 2L, 'zzz_sal': 1L, 'reveler': 1L, 'handful': 1L, 'hero': 1L, 'barrier': 1L, 'screen': 2L, 'million': 1L, 'unease': 1L, 'drew': 1L, 'water': 1L, 'host': 1L, 'competed': 1L, 'focused': 1L, 'possibility': 1L, 'nightfall': 1L, 'police': 1L, 'estimate': 1L, 'change': 1L, 'celebration': 4L, 'chapter': 1L, 'remark': 1L, 'y2k': 2L, 'grassy': 1L, 'themed': 1L, 'step': 1L, 'zzz_god': 1L, 'flawless': 1L, 'american': 1L, 'fuse': 1L, 'husband': 1L, 'neighbor': 1L, 'leading': 1L, 'greet': 1L, 'concession': 1L, 'com': 1L, 'major': 1L, 'peering': 1L, 'family': 1L, 'danger': 2L, 'feel': 2L, 'welcome': 1L, 'walk': 1L, 'brought': 1L, 'featured': 1L, 'weather': 1L, 'rising': 1L, 'heated': 1L, 'zzz_seattle': 2L, 'reached': 1L, 'thick': 1L, 'rollover': 1L, 'open': 1L, 'choked': 1L, 'size': 1L, 'sparked': 1L, 'smaller': 2L, 'rushed': 1L, 'zzz_washington': 7L, 'create': 1L, 'destination': 1L, 'thanked': 1L, 'bottled': 1L, 'sunlight': 1L, 'checkpoint': 1L, 'attack': 1L, 'enticed': 1L, 'card': 1L, 'expected': 1L, 'white': 1L, 'stage': 1L, 'cancel': 1L, 'company': 1L, 'musician': 2L, 'gas': 1L, 'throng': 1L, 'zzz_kenny_roger': 1L, 'reflecting': 1L, 'lives': 1L, 'overwhelming': 1L, 'zzz_luther_vandross': 1L, 'endit': 1L, 'case': 1L, 'zzz_diane_keaton': 1L, 'television': 1L, 'hundred': 1L, 'tank': 1L, 'room': 1L, 'hour': 2L, 'famed': 1L, 'official': 1L, 'zzz_julia': 1L, 'submitted': 1L, 'show': 2L, 'shower': 1L, 'weren': 1L, 'protected': 1L, 'friend': 3L, 'faded': 1L, 'newspaper': 1L, 'curb': 1L, 'problem': 1L, 'grass': 1L, 'called': 2L, 'distance': 1L, 'point': 1L, 'nearest': 1L, 'streamed': 1L, 'zzz_richmond': 2L, 'zzz_lincoln_memorial': 5L, 'played': 2L, 'zzz_national_mall': 7L, 'pass': 1L, 'share': 1L, 'pushed': 1L, 'single': 1L, 'embrace': 1L, 'gala': 2L, 'watched': 1L, 'helpless': 1L, 'film': 1L, 'thought': 1L, 'speaking': 1L, 'zzz_peggy': 1L, 'cheering': 1L, 'trip': 2L, 'secured': 1L, 'actor': 2L, 'zzz_clinton': 6L, 'member': 1L, 'teemed': 1L, 'potential': 1L, 'holding': 1L, 'terrorism': 3L, 'zzz_siegel': 2L, 'thousand': 1L, 'zzz_rhode_island': 1L, 'begin': 1L, 'hotel': 1L, 'normal': 1L, 'wonderful': 1L, 'zzz_will_smith': 3L, 'ball': 1L, 'suburb': 1L, 'modest': 1L, 'terrorist': 1L, 'arrived': 1L, 'pair': 1L, 'truly': 1L, 'opportunity': 1L, 'upstate': 1L, 'pool': 1L, 'tomorrow': 1L, 'searches': 1L, 'planet': 1L, 'today': 1L, 'zzz_times_square': 1L, 'wife': 1L, 'zzz_broadway': 1L, 'settled': 2L, 'clear': 1L, 'stronger': 1L, 'zzz_scott_montgomery': 2L, 'zzz_sen_john_glenn': 1L, 'traditional': 1L, 'ignited': 1L, 'zzz_capitol_hill': 1L, 'spectator': 1L, 'sun': 1L, 'dream': 1L, 'original': 1L, 'fact': 1L, 'left': 3L}, {'zzz_faa': 2L, 'affair': 1L, 'desolate': 1L, 'consider': 1L, 'producer': 1L, 'chances': 1L, 'caused': 1L, 'global': 1L, 'midnight': 4L, 'trade': 1L, 'zzz_new_york': 1L, 'follow': 1L, 'fear': 1L, 'adding': 1L, 'group': 1L, 'zzz_long_island': 1L, 'coordinates': 1L, 'operational': 1L, 'surveyed': 1L, 'millennium': 1L, 'handle': 1L, 'read': 1L, 'zzz_greenwich': 2L, 'zzz_sen_slade_gorton': 1L, 'flew': 1L, 'witching': 1L, 'traffic': 5L, 'despite': 1L, 'zzz_california': 1L, 'son': 1L, 'zzz_air_transport_association': 1L, 'zzz_worldwide': 1L, 'officer': 1L, 'flanked': 1L, 'night': 1L, 'found': 1L, 'fixed': 1L, 'boarded': 1L, 'mean': 1L, 'zzz_jane_garvey': 3L, 'observes': 1L, 'globe': 1L, 'seat': 1L, 'computer': 1L, 'result': 1L, 'home': 1L, 'happen': 1L, 'estimated': 2L, 'concern': 1L, 'expert': 1L, 'waiting': 1L, 'score': 1L, 'safety': 1L, 'correctly': 1L, 'progress': 1L, 'subsequently': 1L, 'public': 2L, 'journalist': 1L, 'rolled': 1L, 'lasted': 1L, 'commercial': 4L, 'aloft': 1L, 'incident': 1L, 'put': 1L, 'change': 1L, 'reported': 1L, 'industry': 1L, 'quiet': 1L, 'assure': 1L, 'carrier': 1L, 'expecting': 1L, 'afternoon': 1L, 'zzz_united_states': 1L, 'arrived': 1L, 'executives': 1L, 'major': 1L, 'zzz_newark': 1L, 'appeared': 2L, 'reassure': 1L, 'number': 1L, 'blink': 1L, 'glitch': 1L, 'directly': 1L, 'traveler': 1L, 'difficulty': 1L, 'jet': 2L, 'zzz_washington': 3L, 'flying': 1L, 'airliner': 1L, 'system': 3L, 'airborne': 1L, 'low': 1L, 'entered': 1L, 'recent': 1L, 'tell': 1L, 'empty': 1L, 'head': 1L, 'flight': 5L, 'grandchildren': 1L, 'thousand': 3L, 'airplanes': 1L, 'booked': 1L, 'hoped': 1L, 'failure': 1L, 'zzz_united_airlines': 3L, 'aviation': 3L, 'trying': 1L, 'effort': 2L, 'haven': 1L, 'zzz_london': 1L, 'television': 1L, 'hour': 1L, 'official': 1L, 'told': 1L, 'air': 8L, 'zzz_boeing_co': 1L, 'zzz_kennedy_international': 1L, 'crossed': 1L, 'planes': 2L, 'unusually': 1L, 'problem': 1L, 'minutes': 1L, 'taking': 1L, 'control': 3L, 'passenger': 4L, 'half': 1L, 'ordinarily': 1L, 'canceled': 3L, 'jetliner': 1L, 'zzz_federal_aviation_administration': 1L, 'vulnerable': 1L, 'information': 1L, 'compared': 1L, 'relay': 1L, 'sensitive': 1L, 'zzz_laguardia': 1L, 'percent': 1L, 'mid': 1L, 'zzz_american_airlines': 2L, 'potential': 1L, 'zzz_long_beach': 1L, 'largest': 2L, 'test': 1L, 'terrorism': 1L, 'zzz_dallas': 1L, 'airline': 2L, 'zzz_europe': 1L, 'printer': 1L, 'zzz_alaska': 1L, 'effect': 1L, 'connected': 1L, 'peak': 1L, 'date': 2L, 'zzz_eurocontrol': 1L, 'winter': 1L, 'billion': 1L, 'demand': 1L, 'center': 1L, 'zzz_los_angeles_international_airport': 1L, 'clear': 1L, 'spent': 1L, 'greet': 1L, 'ocean': 1L, 'chief': 1L, 'stayed': 1L, 'organization': 1L, 'zzz_calif': 1L, 'typical': 1L}, {'affair': 1L, 'producer': 2L, 'show': 3L, 'executive': 2L, 'contemporary': 1L, 'zzz_george_foster_peabody': 1L, 'produced': 3L, 'manager': 1L, 'zzz_new_york': 1L, 'guides': 1L, 'group': 1L, 'earned': 1L, 'writer': 1L, 'zzz_oakland': 1L, 'production': 2L, 'zzz_stanford_university': 1L, 'local': 1L, 'scheduled': 1L, 'zzz_marion': 1L, 'suffering': 1L, 'zzz_stephen': 1L, 'zzz_gregory': 1L, 'half': 2L, 'part': 1L, 'recipient': 1L, 'zzz_well': 1L, 'prime': 1L, 'school': 1L, 'zzz_steve_allen': 1L, 'zzz_regis_philbin': 1L, 'series': 2L, 'examples': 1L, 'special': 2L, 'established': 1L, 'pioneer': 1L, 'worked': 1L, 'public': 1L, 'program': 5L, 'zzz_brussel': 1L, 'degree': 1L, 'zzz_san_francisco_museum': 1L, 'zzz_boris_karloff': 1L, 'graduated': 1L, 'zzz_kenwood': 1L, 'earliest': 1L, 'created': 1L, 'disabilities': 1L, 'zzz_dupont': 1L, 'programming': 2L, 'zzz_merv_griffin': 1L, 'nonprofit': 1L, 'zzz_discovery': 1L, 'major': 1L, 'communication': 1L, 'son': 1L, 'learning': 1L, 'zzz_pasadena': 1L, 'zzz_washington': 1L, 'create': 1L, 'system': 1L, 'station': 1L, 'master': 1L, 'zzz_emmy': 1L, 'zzz_westinghouse': 1L, 'featuring': 1L, 'medium': 1L, 'zzz_los_angeles': 1L, 'grandchildren': 1L, 'zzz_mike_wallace': 1L, 'company': 1L, 'award': 2L, 'delivery': 1L, 'dramatic': 1L, 'survived': 1L, 'zzz_craft': 1L, 'zzz_maine': 1L, 'women': 1L, 'television': 3L, 'pavilion': 1L, 'hour': 2L, 'vice': 1L, 'study': 1L, 'interactive': 1L, 'zzz_parkinson': 1L, 'zzz_bruce': 1L, 'zzz_belgium': 1L, 'disease': 1L, 'helped': 1L, 'zzz_fair': 1L, 'hourlong': 1L, 'zzz_baltimore': 1L, 'educational': 1L, 'develop': 1L, 'variety': 1L, 'retiring': 1L, 'responsible': 2L, 'oriented': 1L, 'broadcasting': 2L, 'zzz_benny_goodman': 1L, 'fare': 1L, 'living': 1L, 'hired': 1L, 'president': 1L, 'died': 1L, 'broadcast': 1L, 'theater': 1L, 'wife': 1L, 'zzz_american': 2L, 'zzz_mostel': 1L, 'daily': 1L, 'zzz_washington_post': 1L, 'zzz_calif': 2L}, {'atmosphere': 1L, 'mexican': 2L, 'heavily': 1L, 'welcomed': 1L, 'percent': 1L, 'tequila': 1L, 'zzz_millennium': 4L, 'installed': 1L, 'bring': 2L, 'human': 1L, 'stores': 2L, 'fear': 2L, 'find': 1L, 'crashing': 1L, 'impact': 1L, 'attack': 1L, 'tourism': 2L, 'show': 1L, 'troubles': 1L, 'young': 1L, 'program': 1L, 'fervor': 1L, 'zzz_organization': 1L, 'zzz_mexico': 6L, 'bye': 1L, 'parades': 1L, 'wearing': 1L, 'violating': 1L, 'watching': 1L, 'fiesta': 1L, 'indigenous': 1L, 'famous': 1L, 'historic': 1L, 'glitches': 1L, 'bringing': 1L, 'minute': 1L, 'areas': 1L, 'drop': 1L, 'joined': 1L, 'banking': 1L, 'troop': 1L, 'night': 1L, 'small': 1L, 'luck': 2L, 'prevent': 1L, 'right': 1L, 'neighborhood': 1L, 'concert': 2L, 'street': 2L, 'video': 1L, 'zzz_spain': 1L, 'measure': 1L, 'special': 1L, 'concern': 2L, 'blouse': 1L, 'opted': 1L, 'muted': 1L, 'colonial': 2L, 'celebrated': 1L, 'firecracker': 1L, 'looking': 1L, 'prevailed': 1L, 'firework': 2L, 'millennium': 1L, 'capital': 2L, 'international': 1L, 'filled': 2L, 'toast': 1L, 'business': 2L, 'festive': 1L, 'stopping': 1L, 'rebel': 3L, 'grapes': 1L, 'address': 1L, 'sing': 1L, 'strong': 1L, 'celebration': 2L, 'boy': 1L, 'underwear': 2L, 'ate': 1L, 'country': 1L, 'larger': 1L, 'display': 1L, 'soldier': 1L, 'airport': 1L, 'place': 1L, 'massive': 1L, 'threat': 1L, 'zzz_united_states': 1L, 'military': 1L, 'guerillas': 1L, 'cancellation': 1L, 'comes': 1L, 'highway': 1L, 'zzz_mexico_city': 2L, 'rang': 1L, 'eaten': 1L, 'family': 1L, 'bell': 1L, 'endit': 1L, 'coming': 1L, 'due': 1L, 'square': 1L, 'owner': 1L, 'traveler': 1L, 'armed': 2L, 'market': 1L, 'red': 3L, 'standing': 1L, 'boulevard': 1L, 'families': 1L, 'zzz_ernesto_zedillo': 1L, 'negative': 1L, 'blamed': 1L, 'checkpoint': 1L, 'live': 1L, 'today': 1L, 'flight': 1L, 'innocent': 1L, 'zzz_guerrero': 1L, 'thousand': 1L, 'villages': 3L, 'singer': 1L, 'glass': 1L, 'hemisphere': 1L, 'y2k': 6L, 'hear': 1L, 'known': 1L, 'believe': 1L, 'bug': 1L, 'center': 1L, 'main': 2L, 'cancelled': 1L, 'official': 2L, 'computer': 3L, 'era': 1L, 'error': 1L, 'newspaper': 1L, 'called': 2L, 'history': 1L, 'claim': 1L, 'turned': 1L, 'struggles': 1L, 'seen': 1L, 'mountain': 1L, 'taped': 1L, 'government': 3L, 'tossing': 1L, 'mid': 1L, 'member': 1L, 'planned': 1L, 'reveler': 1L, 'answer': 1L, 'compliant': 1L, 'toasted': 1L, 'stock': 1L, 'traditional': 2L, 'zzz_zocalo': 1L, 'stop': 1L, 'southern': 1L, 'director': 1L, 'fruit': 1L, 'mariachis': 1L, 'supper': 1L, 'song': 1L, 'nation': 1L, 'tradition': 2L, 'stronghold': 1L, 'zzz_cathedral': 2L, 'guerilla': 1L, 'especially': 1L, 'zzz_oaxaca': 1L, 'vehicles': 1L, 'thought': 1L, 'rural': 1L, 'counted': 1L, 'talk': 1L}, {'global': 1L, 'dollar': 1L, 'zzz_millennium': 9L, 'avalanche': 1L, 'religious': 1L, 'children': 1L, 'zzz_berlin': 1L, 'seized': 1L, 'witching': 1L, 'confetti': 1L, 'trouble': 2L, 'vast': 4L, 'auld': 1L, 'joined': 1L, 'culminating': 1L, 'subway': 1L, 'biological': 1L, 'syne': 1L, 'cost': 1L, 'video': 1L, 'blue': 1L, 'power': 2L, 'clock': 1L, 'suspect': 1L, 'revolved': 1L, 'public': 1L, 'terrorism': 1L, 'christian': 1L, 'festive': 1L, 'gathered': 1L, 'drew': 1L, 'reported': 1L, 'poverty': 1L, 'address': 1L, 'consideration': 1L, 'strong': 1L, 'celebration': 2L, 'boy': 1L, 'dusty': 1L, 'zzz_god': 1L, 'airport': 1L, 'descended': 1L, 'skyrocket': 1L, 'zzz_united_states': 1L, 'zzz_pope_john_paul_ii': 1L, 'glittering': 1L, 'torchlight': 1L, 'golden': 1L, 'stray': 1L, 'claim': 1L, 'suddenly': 1L, 'brought': 1L, 'gateway': 1L, 'eye': 1L, 'spoke': 1L, 'angry': 1L, 'music': 2L, 'sweated': 1L, 'today': 1L, 'wary': 1L, 'hurt': 1L, 'train': 1L, 'baby': 1L, 'casualties': 1L, 'town': 2L, 'zzz_paris': 2L, 'hour': 2L, 'science': 1L, 'shrieked': 1L, 'zzz_africa': 2L, 'gunfire': 1L, 'history': 1L, 'heart': 1L, 'rode': 1L, 'high': 1L, 'zzz_christianity': 1L, 'flight': 1L, 'chemical': 1L, 'intelligent': 1L, 'tension': 1L, 'staying': 1L, 'crashes': 1L, 'halted': 1L, 'plane': 1L, 'president': 1L, 'law': 1L, 'zzz_times_square': 4L, 'zzz_nairobi': 1L, 'extravaganzas': 1L, 'light': 1L, 'deserted': 1L, 'zzz_sun': 1L, 'deafening': 1L, 'enter': 1L, 'inhabitant': 1L, 'dream': 1L, 'pulsed': 1L, 'consent': 1L, 'midnight': 2L, 'rang': 1L, 'held': 1L, 'zzz_martian': 1L, 'police': 1L, 'personal': 1L, 'fix': 1L, 'holiday': 1L, 'parades': 1L, 'non': 1L, 'greater': 1L, 'safe': 1L, 'nation': 1L, 'killed': 1L, 'bank': 1L, 'resignation': 1L, 'meal': 1L, 'garish': 1L, 'series': 1L, 'plant': 1L, 'related': 1L, 'zzz_judea': 1L, 'dawn': 1L, 'event': 2L, 'mattered': 1L, 'health': 1L, 'flowed': 1L, 'announced': 1L, 'turning': 1L, 'million': 6L, 'reason': 1L, 'put': 2L, 'care': 1L, 'enormous': 1L, 'zzz_st_peter': 1L, 'zzz_jerusalem': 1L, 'turn': 1L, 'american': 1L, 'threat': 1L, 'major': 1L, 'embraced': 1L, 'traveler': 1L, 'concert': 1L, 'system': 1L, 'elevator': 1L, 'euphoria': 1L, 'attack': 1L, 'inconvenient': 1L, 'hundred': 1L, 'friend': 1L, 'enforcement': 1L, 'exploded': 1L, 'part': 1L, 'surged': 1L, 'unexpectedly': 1L, 'kind': 1L, 'peril': 1L, 'zzz_vatican': 1L, 'midtown': 1L, 'future': 1L, 'ran': 2L, 'zzz_new_delhi': 1L, 'spectrum': 1L, 'voices': 1L, 'saw': 1L, 'marathon': 1L, 'prosperity': 1L, 'zzz_clinton': 1L, 'potential': 1L, 'worldwide': 1L, 'urge': 1L, 'zzz_asia': 2L, 'zzz_moscow': 2L, 'extending': 1L, 'soared': 1L, 'face': 1L, 'looked': 1L, 'fact': 1L, 'show': 1L, 'businesses': 1L, 'zzz_new_york': 2L, 'threshold': 2L, 'earth': 1L, 'fear': 1L, 'giant': 1L, 'collapses': 1L, 'filipinos': 1L, 'loved': 1L, 'publicity': 1L, 'watching': 1L, 'television': 1L, 'conjunction': 1L, 'celebrate': 7L, 'countries': 1L, 'zzz_pacific': 1L, 'calling': 1L, 'banking': 1L, 'common': 1L, 'obscure': 1L, 'insane': 1L, 'set': 1L, 'disaster': 1L, 'burst': 1L, 'zones': 1L, 'computer': 4L, 'explosion': 1L, 'calendar': 1L, 'packed': 1L, 'concern': 2L, 'televised': 1L, 'expert': 1L, 'politic': 1L, 'nuclear': 1L, 'firework': 3L, 'closed': 1L, 'recently': 1L, 'screen': 1L, 'agencies': 1L, 'recent': 1L, 'invisible': 1L, 'cities': 3L, 'zzz_shanghai': 1L, 'faces': 1L, 'bell': 1L, 'appeared': 1L, 'dances': 1L, 'shutdown': 1L, 'zzz_tokyo': 1L, 'tuning': 1L, 'zzz_washington': 1L, 'thanked': 1L, 'airlines': 1L, 'zzz_philippines': 1L, 'senses': 1L, 'raced': 1L, 'thousand': 2L, 'blessing': 1L, 'zzz_roman_catholic_church': 1L, 'lives': 1L, 'westward': 1L, 'case': 1L, 'politician': 1L, 'mount': 1L, 'supernovas': 1L, 'zzz_champagne': 1L, 'pound': 1L, 'zzz_manhattan': 1L, 'century': 2L, 'canceled': 1L, 'zzz_kenya': 1L, 'audiences': 1L, 'ready': 1L, 'hyperbole': 1L, 'terrorist': 1L, 'develop': 1L, 'intercity': 1L, 'harmony': 1L, 'party': 1L, 'zzz_rome': 1L, 'injured': 1L, 'ball': 1L, 'moment': 1L, 'arrived': 1L, 'delicate': 1L, 'changing': 2L, 'opportunity': 1L, 'cycle': 1L, 'zzz_rio_de_janeiro': 1L, 'zzz_kenyan': 1L, 'zzz_americas': 1L, 'lavish': 1L, 'plagued': 1L, 'exercising': 1L, 'celebrator': 2L, 'humanity': 1L, 'gave': 1L, 'zzz_cape_town': 1L, 'zzz_boris_yeltsin': 1L, 'government': 3L, 'elapsed': 1L, 'game': 1L, 'birth': 1L, 'lost': 1L, 'greeting': 1L, 'specific': 1L, 'festivities': 1L, 'night': 1L, 'zzz_christ': 1L, 'crowd': 5L, 'zzz_europe': 2L, 'home': 1L, 'reveler': 1L, 'zzz_australia': 1L, 'mood': 1L, 'lead': 1L, 'firecracker': 1L, 'religion': 1L, 'leader': 1L, 'business': 1L, 'slum': 1L, 'y2k': 1L, 'preoccupied': 1L, 'freedom': 1L, 'zzz_mexico_city': 1L, 'primal': 1L, 'overkill': 1L, 'parties': 1L, 'technically': 1L, 'zzz_beijing': 1L, 'seeker': 1L, 'zzz_russia': 2L, 'biggest': 1L, 'war': 2L, 'happy': 1L, 'zzz_buenos_aires': 1L, 'lang': 1L, 'reiterated': 1L, 'line': 1L, 'ear': 1L, 'true': 1L, 'eat': 1L, 'zzz_london': 1L, 'fulfilling': 1L, 'planet': 1L, 'crystal': 1L, 'tones': 1L, 'problem': 3L, 'stages': 1L, 'guesses': 1L, 'prayer': 1L, 'watched': 1L, 'diplomat': 1L, 'peace': 1L, 'field': 1L, 'setting': 1L, 'irresistible': 1L, 'poor': 1L, 'briefly': 1L, 'energetic': 1L, 'millennial': 1L, 'diet': 1L, 'meaning': 1L, 'authorities': 1L, 'died': 1L, 'billion': 3L, 'age': 1L, 'failures': 1L}, {'limited': 1L, 'chinese': 1L, 'welcomed': 1L, 'midnight': 3L, 'zzz_millennium': 8L, 'ending': 1L, 'beset': 1L, 'dispel': 1L, 'atomic': 1L, 'human': 2L, 'threshold': 1L, 'earth': 2L, 'zzz_dragon': 1L, 'commentaries': 1L, 'religious': 3L, 'zzz_south_africa': 2L, 'atoll': 1L, 'millisecond': 1L, 'communism': 1L, 'outer': 1L, 'exclusion': 1L, 'nines': 1L, 'doomsayer': 1L, 'pledged': 1L, 'shrines': 1L, 'lake': 1L, 'reuniting': 1L, 'countdown': 1L, 'conch': 1L, 'zzz_kiribati': 2L, 'microscopic': 1L, 'absorbed': 1L, 'adequate': 1L, 'literacy': 1L, 'earthquakes': 1L, 'climax': 1L, 'gave': 1L, 'lighted': 2L, 'division': 1L, 'mournful': 1L, 'zzz_jesus': 1L, 'rescue': 1L, 'fire': 1L, 'government': 1L, 'survival': 1L, 'watch': 1L, 'reigning': 1L, 'ship': 1L, 'early': 1L, 'mention': 1L, 'cultural': 1L, 'anxiety': 1L, 'nearly': 1L, 'birth': 1L, 'zzz_voltaire': 1L, 'suggest': 1L, 'trade': 1L, 'humanity': 1L, 'association': 1L, 'areas': 1L, 'articles': 1L, 'ancient': 2L, 'hour': 2L, 'lavish': 1L, 'signal': 1L, 'zzz_pacific': 2L, 'calling': 1L, 'zzz_muslim': 1L, 'miles': 1L, 'common': 1L, 'arbitrary': 1L, 'popular': 1L, 'clean': 1L, 'tower': 1L, 'coming': 1L, 'noted': 1L, 'vision': 1L, 'zzz_bible': 1L, 'apocalyptic': 1L, 'zzz_gregorian': 1L, 'revolution': 1L, 'art': 1L, 'concert': 1L, 'crowd': 1L, 'spring': 1L, 'parties': 2L, 'idea': 2L, 'dead': 1L, 'past': 1L, 'coercive': 1L, 'fires': 1L, 'economic': 1L, 'zzz_jiang_zemin': 1L, 'duration': 1L, 'recently': 1L, 'calendar': 5L, 'strife': 1L, 'event': 1L, 'special': 1L, 'enemies': 1L, 'closer': 1L, 'colonialism': 1L, 'freedom': 1L, 'curse': 1L, 'literature': 1L, 'trapping': 1L, 'zzz_asia': 1L, 'clock': 1L, 'nuclear': 1L, 'zzz_marshall_island': 1L, 'chaos': 1L, 'grinding': 1L, 'cast': 1L, 'case': 1L, 'shell': 1L, 'version': 1L, 'health': 1L, 'flame': 1L, 'afflicted': 1L, 'leader': 1L, 'anew': 1L, 'measuring': 1L, 'islander': 1L, 'million': 1L, 'misstep': 1L, 'rolled': 1L, 'continuing': 1L, 'rock': 1L, 'commercial': 1L, 'costumes': 1L, 'understanding': 1L, 'notably': 1L, 'strides': 1L, 'job': 1L, 'uneven': 1L, 'zzz_b_c': 2L, 'conflagration': 1L, 'resurrection': 1L, 'flowering': 1L, 'wanted': 1L, 'prelude': 1L, 'swept': 1L, 'zzz_gobi_desert': 1L, 'water': 1L, 'zone': 1L, 'ventures': 1L, 'purist': 2L, 'certainty': 1L, 'zzz_samoa': 1L, 'terrible': 1L, 'agree': 2L, 'prompted': 1L, 'foretold': 1L, 'genocide': 1L, 'zzz_buddhist': 1L, 'threat': 2L, 'social': 1L, 'poverty': 1L, 'receding': 1L, 'flood': 1L, 'major': 1L, 'volcanic': 1L, 'eternal': 1L, 'bell': 1L, 'dubbed': 1L, 'communication': 1L, 'zzz_christ': 2L, 'ethnic': 1L, 'flocked': 1L, 'reflected': 1L, 'insist': 1L, 'zzz_great_wall': 1L, 'weather': 1L, 'jewish': 1L, 'coral': 1L, 'speculated': 1L, 'equinox': 1L, 'technicalities': 1L, 'temples': 1L, 'zzz_tokyo': 1L, 'cities': 1L, 'eye': 1L, 'uninhabited': 1L, 'start': 2L, 'billion': 1L, 'revelation': 1L, 'political': 2L, 'terrorism': 1L, 'mark': 1L, 'scenarios': 1L, 'christian': 2L, 'doubt': 1L, 'zeros': 1L, 'unrecognizable': 1L, 'basic': 1L, 'ballistic': 1L, 'celebration': 2L, 'overlooked': 1L, 'zzz_middle_east': 1L, 'racial': 1L, 'zzz_china': 1L, 'historian': 1L, 'swarmed': 1L, 'turned': 1L, 'offered': 1L, 'universe': 1L, 'prediction': 1L, 'hear': 1L, 'western': 4L, 'tolled': 1L, 'zzz_julian': 1L, 'hold': 1L, 'true': 1L, 'zzz_fiji': 1L, 'countless': 1L, 'undreamed': 1L, 'television': 1L, 'troubled': 1L, 'rejuvenation': 1L, 'science': 2L, 'frontier': 1L, 'ranging': 1L, 'annihilation': 1L, 'brilliant': 1L, 'zzz_japan': 1L, 'printing': 1L, 'replaced': 1L, 'era': 1L, 'chant': 1L, 'growing': 1L, 'problem': 2L, 'region': 1L, 'care': 1L, 'history': 2L, 'real': 1L, 'promises': 1L, 'ritual': 1L, 'zzz_ireland': 1L, 'century': 1L, 'celebrant': 1L, 'universal': 1L, 'preserving': 1L, 'mind': 1L, 'purposes': 1L, 'war': 2L, 'westward': 1L, 'tide': 1L, 'overtones': 1L, 'exploration': 1L, 'right': 1L, 'dropped': 1L, 'zzz_ufo': 1L, 'zzz_balkan': 1L, 'education': 1L, 'saw': 1L, 'display': 1L, 'zzz_chapter': 1L, 'zzz_chechnya': 1L, 'lie': 1L, 'marking': 2L, 'wild': 1L, 'ticked': 1L, 'dancing': 1L, 'technology': 2L, 'travel': 1L, 'peace': 2L, 'exception': 1L, 'speak': 1L, 'snakes': 1L, 'sound': 1L, 'need': 1L, 'book': 2L, 'speech': 1L, 'firework': 2L, 'widespread': 1L, 'swelled': 1L, 'beach': 1L, 'thousand': 6L, 'studied': 1L, 'zzz_europe': 1L, 'nonevent': 1L, 'minority': 1L, 'ecstatic': 1L, 'prosperity': 1L, 'shelter': 1L, 'zzz_australia': 1L, 'zzz_biblical': 1L, 'eruption': 1L, 'evil': 1L, 'fascism': 1L, 'wrong': 1L, 'fell': 1L, 'necessity': 1L, 'opinion': 1L, 'date': 1L, 'judgment': 1L, 'tradition': 1L, 'achievement': 2L, 'scholar': 1L, 'ago': 1L, 'especially': 1L, 'torchbearer': 1L, 'largely': 1L, 'space': 1L, 'astounding': 1L, 'greet': 1L, 'traditional': 1L, 'academic': 1L, 'zzz_taiwan': 1L, 'zzz_americas': 1L, 'deadly': 1L, 'inaccuracies': 1L, 'inhabitant': 1L, 'democratic': 1L, 'starting': 1L, 'conceit': 1L, 'talk': 1L, 'sinner': 1L}, {'global': 2L, 'zzz_longitude': 1L, 'pulsing': 1L, 'mile': 1L, 'zzz_canada': 1L, 'follow': 1L, 'amplified': 1L, 'religious': 1L, 'birthplace': 1L, 'sparkling': 2L, 'program': 1L, 'zzz_wall': 1L, 'countless': 3L, 'paying': 1L, 'seized': 1L, 'zzz_south_street': 3L, 'zzz_paris': 1L, 'confetti': 1L, 'zzz_brooklyn': 2L, 'screaming': 1L, 'vast': 1L, 'zzz_flushing_meadows_corona_park': 1L, 'puppeteer': 1L, 'sang': 1L, 'small': 1L, 'force': 1L, 'japanese': 1L, 'sabbath': 1L, 'horn': 1L, 'past': 1L, 'street': 2L, 'video': 2L, 'zzz_millennium_dome': 1L, 'estimated': 1L, 'floodlight': 1L, 'blue': 1L, 'stood': 2L, 'darkness': 1L, 'clock': 1L, 'sun': 2L, 'indian': 1L, 'zoomed': 1L, 'churches': 1L, 'public': 2L, 'filled': 1L, 'underfoot': 1L, 'christian': 1L, 'leg': 1L, 'gathered': 1L, 'muslim': 2L, 'zzz_sri_lankan': 1L, 'celebration': 5L, 'speeches': 1L, 'ahead': 1L, 'chant': 1L, 'experience': 2L, 'zzz_tel_aviv': 1L, 'base': 1L, 'descended': 1L, 'zzz_united_states': 1L, 'glittering': 1L, 'torchlight': 1L, 'gawking': 1L, 'ago': 1L, 'blizzard': 1L, 'claim': 1L, 'private': 1L, 'glitch': 1L, 'singing': 1L, 'crisis': 1L, 'zzz_queen_elizabeth': 1L, 'reflected': 1L, 'working': 1L, 'zzz_gulf': 1L, 'music': 3L, 'sunburst': 1L, 'holy': 3L, 'musician': 1L, 'secular': 1L, 'billed': 1L, 'zzz_russian': 1L, 'town': 2L, 'pageant': 2L, 'hour': 5L, 'reducing': 1L, 'car': 1L, 'aqsa': 1L, 'history': 1L, 'control': 1L, 'fundamentalist': 1L, 'slid': 1L, 'performer': 1L, 'joyous': 1L, 'climax': 1L, 'fortunes': 1L, 'streamer': 1L, 'sense': 1L, 'huge': 2L, 'dazzle': 1L, 'curving': 1L, 'zzz_giza': 2L, 'forest': 1L, 'sacred': 1L, 'bleary': 1L, 'beach': 2L, 'zzz_mosque': 1L, 'encampment': 1L, 'tension': 1L, 'zzz_egypt': 2L, 'sparkled': 1L, 'bonfires': 1L, 'zzz_prospect_park': 1L, 'lighting': 1L, 'adventure': 1L, 'waves': 1L, 'eighth': 1L, 'supersonic': 1L, 'chasing': 1L, 'remember': 1L, 'light': 2L, 'bathed': 1L, 'zzz_washington_mall': 1L, 'deafening': 1L, 'lined': 1L, 'counted': 2L, 'exotic': 2L, 'zzz_queen': 1L, 'midnight': 6L, 'embraces': 1L, 'held': 2L, 'cruise': 1L, 'cold': 1L, 'wickedness': 1L, 'dreamer': 1L, 'perfect': 2L, 'bridges': 1L, 'pray': 1L, 'continued': 1L, 'torn': 1L, 'zzz_westminster': 1L, 'zzz_old_city': 1L, 'tiara': 1L, 'massed': 1L, 'argentine': 1L, 'evening': 1L, 'zzz_jesus': 1L, 'food': 1L, 'material': 1L, 'din': 1L, 'nation': 2L, 'band': 1L, 'armadillos': 1L, 'half': 2L, 'twilight': 1L, 'zzz_new_orlean': 1L, 'opera': 1L, 'holiest': 1L, 'choir': 1L, 'zzz_seventh_avenue': 3L, 'zzz_san_francisco': 1L, 'heavy': 1L, 'generation': 1L, 'house': 1L, 'parties': 2L, 'zzz_central_park': 2L, 'fussing': 1L, 'celebrating': 1L, 'persian': 1L, 'dignitaries': 2L, 'worried': 1L, 'event': 2L, 'easternmost': 1L, 'flower': 1L, 'container': 1L, 'network': 1L, 'entertainment': 2L, 'electronic': 2L, 'washed': 1L, 'chaos': 1L, 'seaport': 1L, 'looking': 1L, 'millennium': 7L, 'print': 1L, 'announced': 1L, 'shut': 1L, 'barrier': 1L, 'million': 4L, 'zzz_temple_mount': 3L, 'wined': 1L, 'attending': 1L, 'ancient': 1L, 'coastline': 1L, 'acre': 1L, 'ate': 1L, 'carnival': 1L, 'islamic': 1L, 'writhing': 1L, 'phrases': 1L, 'transition': 1L, 'zzz_jerusalem': 1L, 'zzz_eiffel_tower': 1L, 'rainforest': 1L, 'feed': 1L, 'major': 2L, 'striking': 1L, 'number': 1L, 'tableaux': 1L, 'zzz_laser': 1L, 'puppet': 1L, 'shoal': 1L, 'hear': 1L, 'reached': 1L, 'ring': 1L, 'zzz_jules_verne': 1L, 'umbrellas': 1L, 'zzz_peter_jenning': 1L, 'boulevard': 1L, 'jew': 2L, 'zzz_lilliputian': 1L, 'families': 1L, 'caught': 1L, 'euphoric': 1L, 'tradition': 1L, 'doomsday': 1L, 'paint': 1L, 'white': 2L, 'hundred': 2L, 'zzz_auld_lang_syne': 1L, 'final': 1L, 'friend': 1L, 'eyes': 1L, 'exploded': 1L, 'released': 1L, 'western': 1L, 'zzz_times_square': 6L, 'distance': 1L, 'television': 2L, 'showed': 1L, 'zzz_newfoundland': 1L, 'scenes': 1L, 'midtown': 2L, 'firework': 5L, 'zzz_great_pyramid': 1L, 'flashes': 1L, 'gigantic': 1L, 'ran': 1L, 'zzz_new_delhi': 1L, 'voices': 1L, 'zzz_st_petersburg': 1L, 'spectacle': 1L, 'border': 1L, 'awed': 1L, 'luxury': 1L, 'converged': 1L, 'blinding': 1L, 'zzz_kenyan': 1L, 'province': 1L, 'lively': 1L, 'paid': 1L, 'reverberated': 1L, 'barrage': 1L, 'plenty': 1L, 'camped': 1L, 'future': 1L, 'especially': 1L, 'zzz_broadway': 1L, 'clear': 1L, 'proud': 1L, 'face': 2L, 'looked': 1L, 'occasion': 2L, 'scream': 1L, 'doves': 1L, 'shrieking': 1L, 'planetary': 1L, 'zzz_judaism': 1L, 'bomb': 1L, 'show': 3L, 'padded': 1L, 'zzz_new_york': 2L, 'zzz_tallinn': 1L, 'imagined': 1L, 'ground': 2L, 'jostling': 1L, 'giant': 1L, 'zzz_estonia': 1L, 'facades': 1L, 'colorful': 1L, 'watching': 1L, 'hostage': 1L, 'banned': 1L, 'watch': 2L, 'congratulatory': 1L, 'revered': 1L, 'international': 1L, 'celebrate': 1L, 'countries': 2L, 'colossus': 1L, 'perfume': 1L, 'ban': 1L, 'precaution': 1L, 'ballerinas': 1L, 'set': 1L, 'concert': 2L, 'swept': 1L, 'burst': 1L, 'seas': 1L, 'zones': 1L, 'sea': 1L, 'packed': 2L, 'closer': 1L, 'record': 1L, 'muted': 1L, 'pictures': 1L, 'festive': 1L, 'sites': 1L, 'determined': 1L, 'skyscraper': 1L, 'closed': 1L, 'tent': 1L, 'missing': 1L, 'screen': 1L, 'attention': 1L, 'cities': 3L, 'optional': 1L, 'goddess': 1L, 'drum': 1L, 'restaurant': 1L, 'zzz_arc_de_triomphe': 1L, 'taking': 2L, 'monk': 1L, 'display': 1L, 'figures': 1L, 'planned': 1L, 'faces': 1L, 'zzz_stockholm': 1L, 'safely': 1L, 'duty': 1L, 'madness': 1L, 'danced': 1L, 'bell': 1L, 'dances': 1L, 'dancer': 3L, 'jammed': 1L, 'zzz_atlantic': 1L, 'create': 1L, 'zzz_ramadan': 2L, 'mark': 2L, 'drank': 1L, 'zzz_yoruba': 1L, 'entered': 1L, 'zzz_miami': 1L, 'flight': 1L, 'zzz_copacabana': 1L, 'thousand': 3L, 'centerpiece': 1L, 'zzz_manger_square': 1L, 'zzz_israel': 2L, 'spirit': 1L, 'volunteer': 1L, 'case': 1L, 'cacophonous': 1L, 'laser': 2L, 'zzz_prime_minister_tony_blair': 1L, 'zzz_los_angeles': 1L, 'air': 2L, 'squeezed': 1L, 'layer': 1L, 'pyramid': 1L, 'century': 1L, 'celebrant': 1L, 'site': 1L, 'watched': 3L, 'zzz_india': 1L, 'watchful': 1L, 'emergency': 1L, 'open': 2L, 'doctor': 1L, 'balloon': 1L, 'party': 1L, 'ball': 3L, 'flooded': 1L, 'hand': 1L, 'suburb': 1L, 'moment': 1L, 'arose': 1L, 'butterfly': 1L, 'clogged': 1L, 'fasting': 1L, 'center': 1L, 'largely': 1L, 'failing': 1L, 'zzz_rio_de_janeiro': 2L, 'edge': 1L, 'illusory': 1L, 'zzz_americas': 1L, 'descending': 1L, 'zzz_iceland': 1L, 'gridlock': 1L, 'rocket': 1L, 'camel': 1L, 'neon': 1L, 'distracting': 1L, 'pyrotechnic': 1L, 'human': 1L, 'echoed': 1L, 'zzz_iran': 1L, 'happiness': 1L, 'ushered': 1L, 'samba': 1L, 'observant': 1L, 'sky': 1L, 'deliberately': 1L, 'zzz_east_river': 1L, 'struck': 1L, 'crossroad': 1L, 'spectacular': 1L, 'zzz_greenwich': 1L, 'early': 1L, 'traffic': 1L, 'marked': 2L, 'intersection': 1L, 'occurring': 1L, 'shoulder': 2L, 'zzz_olives': 1L, 'gift': 1L, 'towed': 1L, 'audience': 1L, 'officer': 3L, 'night': 3L, 'worldwide': 1L, 'right': 1L, 'honored': 1L, 'crowd': 7L, 'images': 1L, 'home': 1L, 'saucer': 1L, 'booming': 1L, 'scale': 1L, 'mood': 1L, 'festivities': 3L, 'religion': 1L, 'pen': 1L, 'cultist': 1L, 'medieval': 1L, 'flashbulb': 1L, 'reflection': 1L, 'zzz_champs_elysees': 1L, 'zzz_south': 1L, 'abroad': 1L, 'stage': 2L, 'comparison': 1L, 'subdued': 1L, 'preoccupied': 1L, 'roar': 1L, 'zzz_christian': 2L, 'dinner': 1L, 'dined': 1L, 'neighbor': 1L, 'block': 1L, 'zzz_giuliani': 1L, 'quietly': 1L, 'garbage': 1L, 'zzz_airlines': 1L, 'capped': 1L, 'zzz_mediterranean': 1L, 'stall': 1L, 'stench': 1L, 'area': 1L, 'flying': 1L, 'desert': 1L, 'zzz_russia': 1L, 'scintillating': 1L, 'brazilian': 1L, 'biggest': 2L, 'war': 2L, 'building': 2L, 'illuminated': 1L, 'peaceful': 1L, 'wealthier': 1L, 'zzz_security': 1L, 'zzz_thames': 1L, 'zzz_london': 1L, 'zzz_reykjavik': 1L, 'places': 2L, 'crystal': 1L, 'pumped': 1L, 'zzz_st_paul': 1L, 'zzz_boston': 1L, 'parades': 1L, 'toss': 1L, 'flocked': 1L, 'partygoer': 1L, 'imagination': 1L, 'exist': 1L, 'fashioned': 1L, 'prayer': 2L, 'lanes': 1L, 'ship': 1L, 'eerie': 1L, 'dressed': 1L, 'stake': 1L, 'yogi': 1L, 'actor': 1L, 'tight': 1L, 'desecrate': 1L, 'witness': 1L, 'digital': 1L, 'zzz_chicago': 1L, 'millennial': 1L, 'inescapable': 1L, 'zzz_overcoming': 1L, 'fell': 1L, 'authorities': 1L, 'zzz_britain': 2L, 'alcohol': 1L, 'billion': 2L, 'vehicles': 2L, 'beamed': 1L, 'summit': 1L, 'mass': 1L}, {'shop': 1L, 'help': 1L, 'bring': 1L, 'sleep': 2L, 'cold': 1L, 'marching': 1L, 'group': 2L, 'young': 1L, 'zzz_pomona': 1L, 'board': 1L, 'evening': 1L, 'stop': 1L, 'band': 1L, 'zzz_calif': 2L, 'traveled': 1L, 'continued': 1L, 'celebrate': 1L, 'distraction': 1L, 'clan': 1L, 'bag': 1L, 'night': 9L, 'dip': 1L, 'side': 1L, 'enjoy': 1L, 'set': 2L, 'partying': 1L, 'parade': 8L, 'crowd': 1L, 'begin': 1L, 'seat': 1L, 'past': 2L, 'decided': 1L, 'uncomfortable': 1L, 'home': 2L, 'special': 1L, 'friend': 3L, 'camping': 1L, 'sun': 1L, 'millennium': 4L, 'unit': 2L, 'tent': 1L, 'unbearable': 1L, 'hasn': 1L, 'zzz_northern_california': 1L, 'missing': 1L, 'million': 1L, 'memorable': 1L, 'wanted': 1L, 'rowdiness': 1L, 'refuge': 2L, 'dry': 1L, 'shift': 1L, 'route': 1L, 'chilly': 1L, 'doorway': 2L, 'games': 1L, 'family': 4L, 'float': 2L, 'prefer': 1L, 'zzz_placerville': 1L, 'brought': 1L, 'weather': 1L, 'zzz_glendale': 1L, 'church': 1L, 'zzz_pasadena': 1L, 'zzz_temecula': 1L, 'crammed': 1L, 'zzz_westwood': 1L, 'low': 1L, 'expected': 1L, 'today': 2L, 'thousand': 1L, 'took': 2L, 'meteorologist': 1L, 'zzz_san_jose': 1L, 'effort': 1L, 'spirit': 1L, 'hour': 1L, 'youth': 1L, 'street': 2L, 'decorate': 1L, 'fun': 1L, 'history': 1L, 'gather': 1L, 'tournament': 1L, 'mind': 1L, 'sleeping': 1L, 'high': 2L, 'rained': 1L, 'chat': 1L, 'dozen': 1L, 'curbside': 1L, 'zzz_rose_parade': 1L, 'mid': 1L, 'stayed': 1L, 'member': 1L, 'roses': 1L, 'party': 2L, 'tarp': 1L, 'play': 1L, 'equestrian': 1L, 'closest': 1L, 'temperatures': 2L, 'watch': 2L, 'camper': 1L, 'rain': 5L, 'camped': 2L, 'kid': 1L, 'dignitary': 1L, 'camp': 1L, 'spent': 2L, 'awning': 1L, 'pulled': 1L, 'spend': 2L}, {'gown': 1L, 'altogether': 1L, 'zzz_s_c': 1L, 'mild': 1L, 'tend': 1L, 'children': 2L, 'anticipation': 1L, 'nervous': 1L, 'explain': 1L, 'danger': 1L, 'young': 1L, 'celebrator': 1L, 'languages': 1L, 'suspicion': 1L, 'glad': 1L, 'venturing': 1L, 'fences': 1L, 'friendly': 2L, 'evening': 3L, 'return': 1L, 'risk': 1L, 'checking': 1L, 'couple': 1L, 'capital': 1L, 'soon': 1L, 'early': 2L, 'potentates': 1L, 'funneled': 1L, 'merchandise': 1L, 'formal': 1L, 'heightened': 1L, 'countries': 1L, 'protest': 1L, 'morning': 1L, 'festivities': 1L, 'stopped': 1L, 'officer': 1L, 'night': 3L, 'found': 1L, 'security': 1L, 'disorder': 1L, 'husband': 1L, 'repulsed': 1L, 'crowd': 4L, 'relative': 1L, 'rate': 1L, 'zzz_u_s_park_police': 1L, 'proper': 1L, 'close': 3L, 'event': 3L, 'alcohol': 1L, 'pictures': 1L, 'section': 1L, 'injuries': 1L, 'laid': 1L, 'millennium': 2L, 'attire': 1L, 'certificates': 1L, 'drawn': 1L, 'tent': 1L, 'zzz_patrick': 1L, 'business': 1L, 'inauguration': 1L, 'pushing': 1L, 'drew': 1L, 'pleasant': 1L, 'reported': 1L, 'greeted': 1L, 'celebration': 4L, 'throng': 1L, 'y2k': 1L, 'getting': 1L, 'country': 1L, 'leaving': 1L, 'dinner': 1L, 'zzz_kuwait': 1L, 'afternoon': 1L, 'zzz_united_states': 1L, 'family': 1L, 'point': 2L, 'feel': 1L, 'shoving': 1L, 'delighted': 1L, 'brought': 1L, 'entrepreneur': 1L, 'zzz_wilson': 3L, 'changing': 1L, 'lovely': 1L, 'miss': 1L, 'speak': 1L, 'zzz_clarence': 1L, 'guest': 1L, 'zzz_washington': 1L, 'cent': 1L, 'noticed': 1L, 'live': 1L, 'focal': 1L, 'memory': 1L, 'hundred': 1L, 'midday': 1L, 'zzz_washingtonian': 1L, 'lived': 1L, 'cosmopolitan': 1L, 'befitting': 1L, 'thousand': 1L, 'pleased': 1L, 'took': 1L, 'gap': 1L, 'downtown': 1L, 'zzz_memorial': 1L, 'survived': 1L, 'remote': 1L, 'line': 1L, 'trying': 1L, 'ceremonies': 1L, 'motorcades': 1L, 'wore': 1L, 'places': 1L, 'pedestrian': 1L, 'hat': 1L, 'parades': 1L, 'labeled': 1L, 'firework': 2L, 'called': 1L, 'control': 1L, 'gathering': 1L, 'injury': 1L, 'sense': 1L, 'turned': 1L, 'pushed': 1L, 'tuxedos': 1L, 'seen': 1L, 'saw': 1L, 'huge': 1L, 'winter': 1L, 'efficient': 1L, 'fencing': 1L, 'travel': 1L, 'airport': 1L, 'zzz_clinton': 2L, 'zzz_america': 1L, 'party': 1L, 'offered': 1L, 'planned': 1L, 'temporary': 1L, 'oppressive': 1L, 'zzz_greenville': 1L, 'hawked': 1L, 'measures': 1L, 'stay': 1L, 'zzz_metro': 1L, 'arrived': 1L, 'stormed': 1L, 'president': 1L, 'nation': 1L, 'pool': 1L, 'shirt': 1L, 'ave': 1L, 'threaded': 1L, 'shortly': 1L, 'remember': 1L, 'room': 1L, 'home': 2L, 'clear': 1L, 'nonchalantly': 1L, 'jewel': 1L, 'order': 1L, 'thought': 1L, 'reflecting': 1L, 'blase': 1L, 'restored': 1L, 'thronged': 1L, 'sunset': 1L, 'talk': 1L}, {'anyway': 1L, 'human': 1L, 'adding': 1L, 'fit': 1L, 'peering': 1L, 'vicinity': 1L, 'window': 1L, 'zillion': 1L, 'include': 1L, 'watching': 2L, 'cushion': 1L, 'half': 2L, 'bit': 1L, 'areas': 1L, 'drop': 1L, 'pavement': 2L, 'filled': 1L, 'zzz_seventh_avenue': 3L, 'side': 4L, 'square': 3L, 'partying': 1L, 'crowd': 1L, 'estimates': 1L, 'zones': 1L, 'street': 1L, 'video': 1L, 'capacity': 1L, 'space': 1L, 'pen': 1L, 'skyscraper': 1L, 'intersect': 1L, 'math': 1L, 'run': 1L, 'screen': 1L, 'million': 3L, 'estimate': 1L, 'celebration': 1L, 'viewing': 1L, 'estimation': 1L, 'block': 4L, 'allowing': 1L, 'feet': 7L, 'simply': 1L, 'impossible': 1L, 'total': 2L, 'theoretically': 1L, 'size': 1L, 'standing': 1L, 'area': 2L, 'approximately': 1L, 'north': 1L, 'inches': 1L, 'inexact': 1L, 'zzz_times_square': 4L, 'case': 1L, 'wide': 1L, 'room': 1L, 'science': 1L, 'official': 1L, 'zzz_broadway': 5L, 'squeezed': 1L, 'trapezoid': 1L, 'enthusiastic': 1L, 'calculation': 1L, 'mind': 1L, 'high': 1L, 'zzz_seventh': 2L, 'mid': 1L, 'figuring': 1L, 'inch': 1L, 'manhattan': 1L, 'ball': 1L, 'practitioner': 1L, 'took': 1L, 'running': 1L, 'plan': 1L, 'zzz_designated': 1L, 'longer': 1L, 'scenario': 1L, 'crowded': 1L, 'assume': 1L, 'average': 1L, 'zzz_central_park_south': 1L, 'person': 1L, 'spectator': 1L, 'typical': 2L}, {'impression': 1L, 'dance': 2L, 'playful': 1L, 'episodes': 1L, 'aspect': 1L, 'polish': 2L, 'ballet': 1L, 'group': 1L, 'hint': 1L, 'young': 1L, 'passive': 1L, 'heroism': 1L, 'score': 1L, 'nobler': 1L, 'women': 1L, 'lighted': 1L, 'eventually': 1L, 'advantage': 1L, 'gobbling': 1L, 'jazz': 1L, 'zzz_cage': 1L, 'dark': 1L, 'happiest': 1L, 'heightened': 1L, 'level': 1L, 'subtler': 1L, 'performing': 1L, 'slide': 1L, 'dancer': 3L, 'small': 1L, 'set': 1L, 'hard': 1L, 'hair': 1L, 'elegant': 1L, 'zzz_ailey': 2L, 'desperate': 1L, 'odd': 1L, 'arm': 1L, 'zzz_city_center': 1L, 'driving': 1L, 'space': 1L, 'crooked': 1L, 'projected': 1L, 'zzz_revelation': 1L, 'limbed': 1L, 'leap': 1L, 'version': 1L, 'longtime': 1L, 'resolutely': 1L, 'body': 1L, 'faceless': 1L, 'associate': 1L, 'burn': 1L, 'diagonal': 1L, 'killing': 1L, 'crossing': 1L, 'strong': 1L, 'slug': 1L, 'stage': 2L, 'pausing': 1L, 'piece': 1L, 'colored': 1L, 'technical': 1L, 'stride': 1L, 'layered': 1L, 'greatly': 1L, 'comes': 1L, 'staggered': 1L, 'danced': 1L, 'right': 1L, 'zzz_judith_jamison': 1L, 'zzz_ulysses': 1L, 'clarity': 1L, 'similarly': 1L, 'program': 1L, 'music': 1L, 'white': 1L, 'females': 1L, 'season': 1L, 'completed': 3L, 'postmodernist': 1L, 'chill': 1L, 'choreographed': 1L, 'embedded': 1L, 'staged': 1L, 'air': 1L, 'cast': 2L, 'lover': 2L, 'duet': 4L, 'male': 1L, 'bittersweet': 1L, 'individuality': 1L, 'performer': 1L, 'enhanced': 1L, 'flow': 1L, 'zzz_jerome_robbin': 1L, 'pieces': 2L, 'dash': 1L, 'clinging': 1L, 'seen': 1L, 'winter': 1L, 'dancing': 1L, 'zzz_alvin_ailey_american_dance_theater': 1L, 'tossing': 1L, 'jewel': 1L, 'zzz_ascension': 1L, 'high': 1L, 'afternoon': 1L, 'emotionally': 1L, 'unobtrusive': 1L, 'evil': 1L, 'director': 2L, 'lighting': 1L, 'troupe': 1L, 'dove': 1L, 'glow': 1L, 'propulsive': 1L, 'variety': 1L, 'lines': 1L, 'looked': 1L, 'artistic': 2L, 'resolution': 1L, 'charged': 1L}, {'zzz_deng_xiaoping': 1L, 'atmosphere': 1L, 'chinese': 2L, 'show': 2L, 'money': 1L, 'midnight': 3L, 'zzz_richard_li': 1L, 'rest': 1L, 'detail': 1L, 'cheerful': 1L, 'held': 1L, 'radio': 1L, 'human': 1L, 'cold': 1L, 'prince': 1L, 'perfect': 1L, 'passage': 1L, 'countdown': 1L, 'window': 1L, 'transformed': 1L, 'rumor': 1L, 'crack': 1L, 'millennium': 2L, 'holiday': 1L, 'local': 2L, 'reverted': 1L, 'lighted': 1L, 'evening': 4L, 'billionaire': 1L, 'largest': 1L, 'crazed': 1L, 'nearly': 1L, 'legendary': 1L, 'gambling': 1L, 'foot': 2L, 'ticket': 1L, 'celebrate': 2L, 'prize': 1L, 'stability': 1L, 'dampen': 1L, 'zzz_jackie_chan': 2L, 'bring': 1L, 'marquee': 1L, 'vied': 1L, 'gun': 1L, 'clown': 1L, 'festivities': 1L, 'race': 2L, 'zzz_whitney_houston': 2L, 'popular': 1L, 'served': 1L, 'guy': 1L, 'set': 1L, 'concert': 1L, 'celebrating': 1L, 'decided': 1L, 'hosted': 1L, 'dawn': 1L, 'event': 1L, 'zzz_australia': 1L, 'splashy': 1L, 'clock': 1L, 'frantically': 1L, 'won': 1L, 'fountain': 1L, 'skyscraper': 1L, 'numeral': 1L, 'racing': 2L, 'leader': 1L, 'led': 1L, 'performed': 1L, 'dizzying': 1L, 'extraordinary': 1L, 'host': 1L, 'cheered': 1L, 'swirled': 1L, 'colony': 1L, 'roughing': 1L, 'throw': 1L, 'bash': 1L, 'paraphrasing': 1L, 'enormous': 1L, 'flames': 1L, 'brilliant': 1L, 'island': 1L, 'british': 1L, 'gambler': 1L, 'dinner': 1L, 'mugging': 1L, 'rule': 1L, 'smoke': 1L, 'caught': 1L, 'dancing': 2L, 'gazed': 1L, 'slipped': 1L, 'simple': 1L, 'win': 1L, 'infield': 1L, 'pop': 1L, 'son': 1L, 'chronic': 1L, 'featured': 1L, 'zzz_bronx': 1L, 'capped': 1L, 'drifted': 1L, 'total': 1L, 'singing': 1L, 'considering': 1L, 'horse': 4L, 'jockey': 1L, 'guest': 1L, 'strictly': 1L, 'mark': 1L, 'ting': 1L, 'zzz_tung': 1L, 'interest': 1L, 'wildly': 1L, 'wrapped': 1L, 'hundred': 1L, 'final': 1L, 'speaking': 1L, 'happy': 2L, 'main': 1L, 'head': 1L, 'erupted': 1L, 'offhand': 1L, 'club': 1L, 'streaked': 1L, 'hotel': 1L, 'remark': 1L, 'biggest': 1L, 'races': 3L, 'eyed': 1L, 'line': 1L, 'mounted': 1L, 'billed': 1L, 'spirit': 1L, 'starter': 1L, 'zzz_chow_yun_fat': 1L, 'ahead': 1L, 'flashed': 1L, 'worth': 1L, 'wisp': 1L, 'firework': 2L, 'light': 1L, 'zzz_michelle_yeoh': 1L, 'arrive': 1L, 'building': 1L, 'display': 1L, 'bet': 1L, 'history': 1L, 'performer': 1L, 'bad': 1L, 'resident': 1L, 'purse': 1L, 'ceiling': 1L, 'threw': 1L, 'stroke': 1L, 'promised': 1L, 'ready': 1L, 'organizer': 2L, 'film': 2L, 'illuminated': 1L, 'zzz_dragon': 2L, 'court': 1L, 'floor': 1L, 'handover': 1L, 'length': 1L, 'hot': 1L, 'book': 1L, 'exuberance': 1L, 'season': 1L, 'party': 3L, 'status': 2L, 'sure': 1L, 'edged': 1L, 'skyline': 1L, 'dusk': 1L, 'track': 2L, 'welcome': 1L, 'zzz_li_ka_shing': 1L, 'rumble': 1L, 'audience': 1L, 'oddsmaker': 1L, 'symbolized': 1L, 'billion': 1L, 'younger': 1L, 'remember': 1L, 'zzz_hong_kong': 6L, 'performances': 1L, 'interval': 1L, 'lost': 1L, 'worked': 1L, 'dragon': 1L, 'zzz_new_zealand': 1L, 'dramatic': 1L, 'ultimate': 1L, 'businessman': 1L, 'zzz_valley': 1L, 'fireball': 1L}, {'lack': 1L, 'dollar': 1L, 'hitch': 1L, 'manager': 2L, 'disk': 1L, 'extra': 1L, 'certainly': 1L, 'concerned': 1L, 'zzz_ibm': 1L, 'program': 3L, 'sputter': 1L, 'digit': 1L, 'zzz_calif': 1L, 'malfunctioned': 1L, 'affect': 1L, 'shock': 1L, 'companies': 1L, 'cascading': 1L, 'try': 1L, 'circuit': 1L, 'small': 1L, 'dip': 1L, 'prediction': 1L, 'crop': 1L, 'past': 1L, 'likely': 2L, 'air': 2L, 'investment': 2L, 'ticketing': 1L, 'clock': 2L, 'specialist': 1L, 'water': 1L, 'reported': 1L, 'zzz_citigroup': 1L, 'address': 1L, 'aftermath': 1L, 'interpret': 1L, 'publisher': 1L, 'ahead': 3L, 'withdrawing': 1L, 'credit': 1L, 'amount': 1L, 'survey': 1L, 'zzz_united_states': 2L, 'zzz_spaniard': 2L, 'buses': 1L, 'strolling': 1L, 'scaled': 1L, 'fixable': 1L, 'rollover': 3L, 'market': 2L, 'minor': 1L, 'relax': 1L, 'company': 2L, 'apparent': 1L, 'testified': 1L, 'occurred': 1L, 'zzz_palo_alto': 1L, 'sharply': 2L, 'known': 2L, 'cases': 1L, 'factories': 1L, 'effort': 1L, 'recession': 3L, 'industry': 1L, 'control': 2L, 'caution': 1L, 'zzz_edward_yardeni': 4L, 'sense': 2L, 'monitoring': 1L, 'nyt': 1L, 'machine': 1L, 'widespread': 1L, 'panic': 2L, 'economy': 1L, 'plant': 2L, 'crowding': 1L, 'countryside': 1L, 'earlier': 1L, 'zzz_social_security': 1L, 'zzz_thai': 1L, 'date': 1L, 'readiness': 1L, 'light': 1L, 'lines': 1L, 'zzz_new_zealand': 1L, 'chief': 1L, 'advocates': 1L, 'green': 1L, 'office': 1L, 'mainly': 1L, 'zzz_council': 1L, 'destructively': 1L, 'fix': 4L, 'farmer': 1L, 'main': 1L, 'decades': 1L, 'zzz_astrologer': 1L, 'eventually': 1L, 'return': 1L, 'greater': 1L, 'food': 2L, 'half': 2L, 'bank': 2L, 'pregnant': 1L, 'warned': 1L, 'found': 1L, 'lasting': 1L, 'rethinking': 1L, 'hard': 1L, 'related': 1L, 'finish': 1L, 'trading': 1L, 'programmer': 1L, 'avoided': 1L, 'event': 1L, 'special': 1L, 'tried': 1L, 'sentiment': 1L, 'space': 1L, 'fathom': 1L, 'research': 2L, 'plaguing': 1L, 'clearing': 1L, 'issue': 2L, 'shut': 1L, 'million': 1L, 'dire': 2L, 'put': 1L, 'afterward': 1L, 'card': 1L, 'programming': 1L, 'terribly': 1L, 'expecting': 1L, 'massive': 1L, 'threat': 1L, 'major': 2L, 'feel': 1L, 'omitted': 1L, 'coming': 1L, 'zzz_gartner_group': 1L, 'district': 1L, 'leading': 1L, 'system': 5L, 'passed': 1L, 'hundred': 1L, 'headache': 1L, 'zzz_president': 1L, 'explanation': 1L, 'shallow': 1L, 'japanese': 2L, 'task': 1L, 'zzz_deutsche_bank_securities': 1L, 'kind': 1L, 'zzz_conversion': 1L, 'preparation': 2L, 'zzz_japan': 2L, 'feeling': 1L, 'prospect': 1L, 'illness': 1L, 'roughly': 1L, 'zzz_federal_aviation_administration': 1L, 'apparently': 2L, 'estimated': 1L, 'isolated': 1L, 'hangover': 1L, 'recommended': 1L, 'chairman': 1L, 'finding': 1L, 'encouraged': 1L, 'villager': 1L, 'worldwide': 2L, 'begin': 1L, 'electric': 1L, 'normal': 2L, 'significant': 1L, 'revising': 1L, 'device': 1L, 'nuclear': 1L, 'zzz_eastern': 1L, 'reactor': 1L, 'zzz_gary_beach': 1L, 'zzz_u_s': 2L, 'planning': 1L, 'businesses': 1L, 'scarce': 1L, 'fear': 2L, 'economist': 2L, 'find': 1L, 'zzz_wall_street': 1L, 'crashing': 1L, 'impact': 1L, 'slow': 1L, 'rash': 1L, 'cautioned': 1L, 'meant': 1L, 'handle': 1L, 'listened': 1L, 'watching': 2L, 'midnight': 3L, 'watch': 1L, 'expectation': 1L, 'nearly': 1L, 'fallout': 1L, 'despite': 1L, 'timing': 1L, 'worried': 1L, 'bad': 1L, 'common': 1L, 'precaution': 1L, 'catastrophic': 1L, 'observed': 1L, 'computer': 15L, 'result': 1L, 'fail': 1L, 'feared': 1L, 'expert': 1L, 'jumped': 1L, 'downturn': 1L, 'infrastructure': 1L, 'recently': 1L, 'rolled': 1L, 'supermarket': 1L, 'reaction': 2L, 'dates': 2L, 'quiet': 1L, 'duty': 1L, 'jammed': 2L, 'zzz_tokyo': 1L, 'quickly': 1L, 'basic': 1L, 'firm': 1L, 'sending': 1L, 'thousand': 1L, 'citizen': 1L, 'airplanes': 1L, 'evidence': 1L, 'case': 1L, 'exception': 1L, 'look': 1L, 'cash': 1L, 'governor': 1L, 'earthquakes': 1L, 'mistake': 1L, 'zzz_thailand': 2L, 'costly': 2L, 'ready': 2L, 'technology': 3L, 'severity': 1L, 'administration': 1L, 'painstaking': 1L, 'zzz_rome': 1L, 'breakdown': 1L, 'oil': 1L, 'zzz_john_koskinen': 2L, 'hand': 1L, 'director': 2L, 'flurry': 1L, 'arrived': 1L, 'student': 1L, 'recent': 1L, 'dark': 1L, 'tracking': 1L, 'center': 1L, 'largely': 2L, 'spent': 2L, 'unconcerned': 1L, 'thought': 2L, 'severe': 2L, 'relief': 1L, 'corporation': 1L, 'grid': 1L, 'corporate': 1L, 'summer': 1L, 'routinely': 1L, 'heavily': 1L, 'percent': 2L, 'danger': 1L, 'teller': 1L, 'technological': 1L, 'humanity': 1L, 'real': 2L, 'government': 5L, 'stockpiling': 1L, 'zzz_greenwich': 1L, 'early': 2L, 'cultural': 1L, 'traffic': 2L, 'desk': 2L, 'bit': 1L, 'glitches': 4L, 'securities': 1L, 'offices': 1L, 'night': 2L, 'searching': 1L, 'economic': 3L, 'zzz_spain': 1L, 'intact': 1L, 'deputy': 1L, 'operation': 3L, 'zzz_ginza': 1L, 'rewarding': 1L, 'minimal': 1L, 'run': 1L, 'power': 2L, 'zzz_congress': 1L, 'roundup': 1L, 'faith': 2L, 'y2k': 4L, 'exaggerated': 1L, 'withdrew': 1L, 'zzz_auckland': 1L, 'stand': 1L, 'mean': 2L, 'software': 1L, 'consulting': 1L, 'malfunction': 2L, 'spreading': 1L, 'zzz_wisconsin': 1L, 'spending': 1L, 'start': 2L, 'ago': 1L, 'head': 1L, 'complacency': 1L, 'relaxed': 1L, 'regard': 1L, 'catalyst': 1L, 'survived': 1L, 'automated': 1L, 'analyst': 4L, 'buying': 1L, 'reset': 1L, 'zzz_madrid': 1L, 'stores': 1L, 'accustomed': 1L, 'planes': 1L, 'problem': 22L, 'panicky': 1L, 'proved': 1L, 'general': 1L, 'globally': 1L, 'warning': 3L, 'check': 1L, 'fixing': 1L, 'storage': 1L, 'insurance': 1L, 'field': 1L, 'zzz_hewlett_packard': 2L, 'digital': 1L, 'test': 2L, 'zzz_australia': 1L, 'felt': 1L, 'chance': 2L, 'invested': 2L, 'rural': 1L, 'tackle': 1L, 'billion': 3L, 'land': 1L, 'status': 1L, 'failures': 3L}, {'decidedly': 1L, 'walking': 1L, 'bomb': 1L, 'help': 1L, 'hordes': 1L, 'zzz_susan': 7L, 'midnight': 1L, 'cropland': 1L, 'rest': 1L, 'hillside': 2L, 'shape': 1L, 'fact': 1L, 'higher': 1L, 'committee': 1L, 'festooned': 1L, 'chicken': 1L, 'plucked': 1L, 'ground': 1L, 'generator': 1L, 'electricity': 1L, 'perhap': 1L, 'point': 1L, 'disheartened': 1L, 'zzz_san_francisco': 1L, 'acres': 1L, 'countdown': 1L, 'compost': 1L, 'spread': 1L, 'differently': 1L, 'easy': 1L, 'farmer': 2L, 'health': 1L, 'grow': 1L, 'local': 2L, 'hope': 1L, 'plump': 1L, 'real': 3L, 'zzz_armed': 1L, 'garden': 1L, 'government': 1L, 'food': 3L, 'big': 2L, 'couple': 2L, 'trees': 2L, 'soon': 1L, 'property': 1L, 'bean': 1L, 'grew': 1L, 'grid': 1L, 'breast': 1L, 'despite': 1L, 'expertly': 1L, 'glitches': 1L, 'realize': 1L, 'celebrate': 1L, 'term': 1L, 'homegrown': 1L, 'sighed': 1L, 'showed': 1L, 'lost': 1L, 'legumes': 1L, 'generally': 2L, 'yield': 1L, 'patch': 1L, 'large': 1L, 'entertaining': 1L, 'steep': 1L, 'dangerous': 1L, 'found': 1L, 'security': 1L, 'spent': 1L, 'refineries': 1L, 'husband': 1L, 'view': 1L, 'intervening': 1L, 'prevent': 1L, 'pork': 1L, 'dealing': 1L, 'chunk': 1L, 'idea': 1L, 'crop': 1L, 'observed': 1L, 'manning': 1L, 'fruit': 1L, 'defense': 1L, 'warmer': 1L, 'perspective': 1L, 'notwithstanding': 1L, 'home': 1L, 'connection': 1L, 'creep': 1L, 'concern': 1L, 'wire': 1L, 'funding': 1L, 'power': 2L, 'harvested': 1L, 'nuclear': 1L, 'diesel': 1L, 'chaos': 1L, 'supplied': 1L, 'wholly': 1L, 'farm': 5L, 'seriously': 1L, 'won': 1L, 'millennium': 1L, 'drawn': 1L, 'offline': 1L, 'champagne': 1L, 'reactor': 1L, 'bird': 1L, 'drink': 1L, 'bought': 1L, 'core': 1L, 'shut': 1L, 'infrastructure': 1L, 'eating': 1L, 'approached': 2L, 'assured': 1L, 'carcass': 1L, 'sheep': 1L, 'digging': 1L, 'dory': 1L, 'plow': 1L, 'water': 1L, 'raspberries': 2L, 'concentrate': 1L, 'focused': 1L, 'rampart': 1L, 'served': 1L, 'aftermath': 1L, 'raspberry': 1L, 'assiduously': 1L, 'dormant': 1L, 'scary': 1L, 'y2k': 8L, 'country': 1L, 'taking': 1L, 'cultivator': 1L, 'insect': 1L, 'experience': 1L, 'piped': 1L, 'dinner': 1L, 'hooted': 1L, 'grain': 2L, 'planned': 1L, 'smoke': 1L, 'decent': 1L, 'bunker': 1L, 'narrow': 1L, 'backup': 1L, 'road': 1L, 'plan': 1L, 'owl': 1L, 'photovoltaic': 1L, 'industrial': 2L, 'secure': 1L, 'supply': 1L, 'foreboding': 1L, 'float': 1L, 'prefer': 1L, 'concertina': 1L, 'community': 2L, 'station': 1L, 'variety': 1L, 'zzz_susan_smith': 1L, 'scalded': 1L, 'simply': 1L, 'names': 2L, 'delicious': 1L, 'loaded': 1L, 'labor': 1L, 'market': 1L, 'engineer': 1L, 'turkey': 3L, 'unusual': 1L, 'necessarily': 1L, 'arsenal': 1L, 'raise': 1L, 'aren': 2L, 'west': 1L, 'vegetables': 1L, 'zzz_marin': 1L, 'hunky': 1L, 'system': 2L, 'quickly': 1L, 'devise': 1L, 'live': 1L, 'wood': 1L, 'draft': 1L, 'interest': 1L, 'spring': 1L, 'survive': 1L, 'hundred': 1L, 'valley': 1L, 'meeting': 1L, 'final': 1L, 'friend': 2L, 'festivity': 1L, 'building': 1L, 'repast': 1L, 'shortages': 1L, 'fire': 1L, 'subsistence': 1L, 'completed': 1L, 'acre': 1L, 'deter': 1L, 'corporate': 1L, 'glass': 1L, 'heat': 1L, 'part': 1L, 'game': 1L, 'zzz_thing': 3L, 'solar': 1L, 'upbeat': 1L, 'cases': 1L, 'convinced': 1L, 'collapses': 1L, 'high': 1L, 'kind': 2L, 'zzz_marin_county': 1L, 'locked': 2L, 'urbanites': 1L, 'protection': 1L, 'isolation': 1L, 'preparation': 3L, 'ugly': 1L, 'protected': 1L, 'thin': 1L, 'drill': 1L, 'grasses': 1L, 'strategies': 1L, 'providing': 1L, 'minor': 1L, 'tractor': 2L, 'result': 1L, 'control': 1L, 'horses': 1L, 'marketplace': 1L, 'give': 1L, 'taste': 1L, 'soil': 1L, 'larder': 1L, 'store': 1L, 'zzz_smith': 7L, 'twist': 1L, 'need': 2L, 'seed': 1L, 'unlikely': 1L, 'beautifully': 1L, 'ready': 1L, 'watched': 1L, 'horse': 1L, 'assurances': 1L, 'survivalist': 1L, 'grown': 2L, 'manner': 1L, 'winter': 1L, 'turn': 1L, 'provide': 1L, 'pit': 1L, 'comfort': 1L, 'radiation': 1L, 'feature': 1L, 'camouflage': 1L, 'coolant': 1L, 'field': 1L, 'potentially': 1L, 'holding': 1L, 'sufficiency': 1L, 'gate': 1L, 'compliant': 1L, 'sufficient': 1L, 'tomatoes': 1L, 'afternoon': 1L, 'poor': 1L, 'fairly': 1L, 'plant': 2L, 'oil': 1L, 'intend': 1L, 'tried': 2L, 'nil': 1L, 'temperatures': 1L, 'shelter': 1L, 'price': 1L, 'felt': 1L, 'sure': 1L, 'running': 2L, 'produce': 2L, 'garlic': 1L, 'preferred': 1L, 'eaten': 1L, 'coming': 1L, 'decapitating': 1L, 'model': 1L, 'slaughtering': 1L, 'ago': 1L, 'organically': 1L, 'land': 1L, 'remote': 1L, 'haven': 1L, 'plowed': 1L, 'shotgun': 1L, 'depending': 1L, 'finished': 1L, 'perimeter': 1L, 'spend': 1L, 'green': 2L, 'talk': 1L, 'rural': 1L, 'publicize': 1L, 'usual': 1L, 'pulled': 1L, 'convened': 1L, 'wind': 2L, 'basically': 1L}, {'decidedly': 1L, 'walking': 1L, 'bomb': 1L, 'help': 1L, 'hordes': 1L, 'zzz_susan': 7L, 'midnight': 1L, 'cropland': 1L, 'rest': 1L, 'hillside': 2L, 'shape': 1L, 'fact': 1L, 'higher': 1L, 'committee': 1L, 'festooned': 1L, 'chicken': 1L, 'plucked': 1L, 'ground': 1L, 'generator': 1L, 'electricity': 1L, 'perhap': 1L, 'point': 1L, 'disheartened': 1L, 'zzz_san_francisco': 1L, 'acres': 1L, 'countdown': 1L, 'compost': 1L, 'spread': 1L, 'differently': 1L, 'easy': 1L, 'farmer': 2L, 'health': 1L, 'grow': 1L, 'local': 2L, 'hope': 1L, 'plump': 1L, 'real': 3L, 'zzz_armed': 1L, 'garden': 1L, 'government': 1L, 'food': 3L, 'big': 2L, 'couple': 2L, 'trees': 2L, 'soon': 1L, 'property': 1L, 'bean': 1L, 'grew': 1L, 'grid': 1L, 'breast': 1L, 'despite': 1L, 'expertly': 1L, 'glitches': 1L, 'realize': 1L, 'celebrate': 1L, 'term': 1L, 'homegrown': 1L, 'sighed': 1L, 'showed': 1L, 'lost': 1L, 'legumes': 1L, 'generally': 2L, 'yield': 1L, 'patch': 1L, 'large': 1L, 'entertaining': 1L, 'steep': 1L, 'dangerous': 1L, 'found': 1L, 'security': 1L, 'spent': 1L, 'refineries': 1L, 'husband': 1L, 'view': 1L, 'intervening': 1L, 'prevent': 1L, 'pork': 1L, 'dealing': 1L, 'chunk': 1L, 'idea': 1L, 'crop': 1L, 'observed': 1L, 'manning': 1L, 'fruit': 1L, 'defense': 1L, 'warmer': 1L, 'perspective': 1L, 'notwithstanding': 1L, 'home': 1L, 'connection': 1L, 'creep': 1L, 'concern': 1L, 'wire': 1L, 'funding': 1L, 'power': 2L, 'harvested': 1L, 'nuclear': 1L, 'diesel': 1L, 'chaos': 1L, 'supplied': 1L, 'wholly': 1L, 'farm': 5L, 'seriously': 1L, 'won': 1L, 'millennium': 1L, 'drawn': 1L, 'offline': 1L, 'champagne': 1L, 'reactor': 1L, 'bird': 1L, 'drink': 1L, 'bought': 1L, 'core': 1L, 'shut': 1L, 'infrastructure': 1L, 'eating': 1L, 'approached': 2L, 'assured': 1L, 'carcass': 1L, 'sheep': 1L, 'digging': 1L, 'dory': 1L, 'plow': 1L, 'water': 1L, 'raspberries': 2L, 'concentrate': 1L, 'focused': 1L, 'rampart': 1L, 'served': 1L, 'aftermath': 1L, 'raspberry': 1L, 'assiduously': 1L, 'dormant': 1L, 'scary': 1L, 'y2k': 8L, 'country': 1L, 'taking': 1L, 'cultivator': 1L, 'insect': 1L, 'experience': 1L, 'piped': 1L, 'dinner': 1L, 'hooted': 1L, 'grain': 2L, 'planned': 1L, 'smoke': 1L, 'decent': 1L, 'bunker': 1L, 'narrow': 1L, 'backup': 1L, 'road': 1L, 'plan': 1L, 'owl': 1L, 'photovoltaic': 1L, 'industrial': 2L, 'secure': 1L, 'supply': 1L, 'foreboding': 1L, 'float': 1L, 'prefer': 1L, 'concertina': 1L, 'community': 2L, 'station': 1L, 'variety': 1L, 'zzz_susan_smith': 1L, 'scalded': 1L, 'simply': 1L, 'names': 2L, 'delicious': 1L, 'loaded': 1L, 'labor': 1L, 'market': 1L, 'engineer': 1L, 'turkey': 3L, 'unusual': 1L, 'necessarily': 1L, 'arsenal': 1L, 'raise': 1L, 'aren': 2L, 'west': 1L, 'vegetables': 1L, 'zzz_marin': 1L, 'hunky': 1L, 'system': 2L, 'quickly': 1L, 'devise': 1L, 'live': 1L, 'wood': 1L, 'draft': 1L, 'interest': 1L, 'spring': 1L, 'survive': 1L, 'hundred': 1L, 'valley': 1L, 'meeting': 1L, 'final': 1L, 'friend': 2L, 'festivity': 1L, 'building': 1L, 'repast': 1L, 'shortages': 1L, 'fire': 1L, 'subsistence': 1L, 'completed': 1L, 'acre': 1L, 'deter': 1L, 'corporate': 1L, 'glass': 1L, 'heat': 1L, 'part': 1L, 'game': 1L, 'zzz_thing': 3L, 'solar': 1L, 'upbeat': 1L, 'cases': 1L, 'convinced': 1L, 'collapses': 1L, 'high': 1L, 'kind': 2L, 'zzz_marin_county': 1L, 'locked': 2L, 'urbanites': 1L, 'protection': 1L, 'isolation': 1L, 'preparation': 3L, 'ugly': 1L, 'protected': 1L, 'thin': 1L, 'drill': 1L, 'grasses': 1L, 'strategies': 1L, 'providing': 1L, 'minor': 1L, 'tractor': 2L, 'result': 1L, 'control': 1L, 'horses': 1L, 'marketplace': 1L, 'give': 1L, 'taste': 1L, 'soil': 1L, 'larder': 1L, 'store': 1L, 'zzz_smith': 7L, 'twist': 1L, 'need': 2L, 'seed': 1L, 'unlikely': 1L, 'beautifully': 1L, 'ready': 1L, 'watched': 1L, 'horse': 1L, 'assurances': 1L, 'survivalist': 1L, 'grown': 2L, 'manner': 1L, 'winter': 1L, 'turn': 1L, 'provide': 1L, 'pit': 1L, 'comfort': 1L, 'radiation': 1L, 'feature': 1L, 'camouflage': 1L, 'coolant': 1L, 'field': 1L, 'potentially': 1L, 'holding': 1L, 'sufficiency': 1L, 'gate': 1L, 'compliant': 1L, 'sufficient': 1L, 'tomatoes': 1L, 'afternoon': 1L, 'poor': 1L, 'fairly': 1L, 'plant': 2L, 'oil': 1L, 'intend': 1L, 'tried': 2L, 'nil': 1L, 'temperatures': 1L, 'shelter': 1L, 'price': 1L, 'felt': 1L, 'sure': 1L, 'running': 2L, 'produce': 2L, 'garlic': 1L, 'preferred': 1L, 'eaten': 1L, 'coming': 1L, 'decapitating': 1L, 'model': 1L, 'slaughtering': 1L, 'ago': 1L, 'organically': 1L, 'land': 1L, 'remote': 1L, 'haven': 1L, 'plowed': 1L, 'shotgun': 1L, 'depending': 1L, 'finished': 1L, 'perimeter': 1L, 'spend': 1L, 'green': 2L, 'talk': 1L, 'rural': 1L, 'publicize': 1L, 'usual': 1L, 'pulled': 1L, 'convened': 1L, 'wind': 2L, 'basically': 1L}, {'outdoor': 1L, 'heavily': 1L, 'issued': 1L, 'wailing': 1L, 'zzz_israel': 2L, 'midnight': 2L, 'crackled': 1L, 'ending': 1L, 'stringent': 1L, 'hanging': 1L, 'battle': 1L, 'especially': 1L, 'religious': 2L, 'find': 1L, 'blocked': 1L, 'violinist': 1L, 'suicide': 1L, 'group': 1L, 'referring': 1L, 'observe': 1L, 'shrines': 1L, 'source': 1L, 'smallest': 1L, 'black': 1L, 'zzz_chronicle': 1L, 'covered': 1L, 'mournful': 1L, 'volunteer': 1L, 'hat': 1L, 'humanity': 1L, 'donned': 1L, 'flowed': 1L, 'scheduled': 1L, 'book': 1L, 'zzz_lion': 1L, 'hit': 1L, 'returned': 1L, 'song': 1L, 'food': 1L, 'big': 2L, 'zzz_council': 1L, 'famous': 1L, 'congregation': 2L, 'trouble': 1L, 'tourism': 1L, 'pilgrim': 3L, 'shoulder': 1L, 'zzz_olives': 4L, 'prosperous': 1L, 'mesmerizing': 1L, 'zzz_armageddon': 1L, 'wooden': 1L, 'descend': 1L, 'grandfather': 1L, 'juxtaposition': 1L, 'sang': 1L, 'coincidences': 1L, 'common': 1L, 'night': 3L, 'waving': 1L, 'zzz_church': 2L, 'quarter': 2L, 'essential': 1L, 'someday': 1L, 'set': 1L, 'significantly': 1L, 'deal': 1L, 'parties': 2L, 'procession': 1L, 'correspondent': 1L, 'extremist': 1L, 'mentioned': 1L, 'louder': 1L, 'usher': 1L, 'flashed': 1L, 'christian': 5L, 'calendar': 2L, 'bay': 1L, 'arm': 1L, 'special': 1L, 'feared': 1L, 'hymn': 1L, 'israeli': 2L, 'business': 1L, 'candlelight': 1L, 'armed': 1L, 'ear': 1L, 'sail': 1L, 'contributed': 1L, 'zzz_revelation': 1L, 'zzz_gethsemane': 1L, 'version': 1L, 'millennium': 2L, 'hill': 1L, 'certificates': 2L, 'churches': 1L, 'weekly': 1L, 'approach': 1L, 'public': 1L, 'highway': 1L, 'officer': 1L, 'apocalyptic': 2L, 'shut': 1L, 'attended': 1L, 'run': 1L, 'zzz_roman': 1L, 'power': 1L, 'associate': 1L, 'rub': 1L, 'sixth': 1L, 'gathered': 1L, 'muslim': 3L, 'threatened': 1L, 'zzz_temple_mount': 5L, 'zzz_roman_catholic': 2L, 'extraordinary': 1L, 'focused': 1L, 'choruses': 1L, 'key': 1L, 'usual': 1L, 'cult': 1L, 'police': 2L, 'hand': 1L, 'beginning': 1L, 'throw': 1L, 'celebration': 1L, 'faith': 2L, 'enormous': 1L, 'firecracker': 1L, 'zzz_lord': 1L, 'ahead': 1L, 'noontime': 1L, 'shift': 1L, 'messianic': 1L, 'kosher': 1L, 'soldier': 1L, 'fell': 1L, 'descended': 1L, 'planned': 1L, 'zzz_biblical': 1L, 'tomb': 2L, 'narrow': 1L, 'studies': 1L, 'zzz_southern_california': 1L, 'zzz_holy_city': 2L, 'deported': 1L, 'partied': 1L, 'major': 2L, 'zzz_jesus_christ': 2L, 'zzz_megiddo': 4L, 'heart': 1L, 'ground': 1L, 'political': 1L, 'tag': 1L, 'number': 1L, 'comforted': 1L, 'walk': 1L, 'zzz_frank_sinatra': 1L, 'jewish': 4L, 'stern': 1L, 'approximately': 1L, 'singing': 1L, 'boat': 1L, 'checkpoint': 1L, 'ancient': 1L, 'jew': 4L, 'zzz_islamic': 3L, 'area': 1L, 'zzz_nation': 1L, 'century': 1L, 'visit': 1L, 'due': 1L, 'zzz_ramadan': 2L, 'doomsday': 1L, 'music': 1L, 'low': 1L, 'wondering': 1L, 'bowed': 1L, 'claim': 1L, 'hundred': 2L, 'part': 1L, 'final': 1L, 'chanted': 1L, 'zzz_sabbath': 3L, 'eyes': 1L, 'graveyard': 1L, 'dumbfounded': 1L, 'started': 1L, 'atop': 1L, 'hotel': 2L, 'park': 1L, 'stone': 1L, 'kitchen': 1L, 'environmental': 1L, 'tightened': 1L, 'wake': 2L, 'western': 1L, 'zzz_security': 3L, 'hang': 1L, 'believe': 2L, 'effort': 1L, 'spirit': 2L, 'women': 1L, 'evangelical': 3L, 'zzz_galilee': 2L, 'target': 1L, 'unlike': 1L, 'redeemed': 1L, 'local': 1L, 'zzz_messiah': 2L, 'morning': 1L, 'believer': 1L, 'spirited': 1L, 'street': 1L, 'neat': 1L, 'growing': 1L, 'feeling': 1L, 'root': 1L, 'zzz_shabbat': 1L, 'connect': 1L, 'bell': 1L, 'prayed': 1L, 'gather': 1L, 'ringing': 1L, 'played': 2L, 'predict': 1L, 'zzz_wis': 1L, 'prayer': 2L, 'site': 3L, 'rooftop': 1L, 'return': 1L, 'middle': 1L, 'fascination': 1L, 'warning': 1L, 'sundown': 2L, 'king': 1L, 'need': 1L, 'seen': 1L, 'counting': 1L, 'dress': 1L, 'everyday': 1L, 'tourist': 2L, 'zzz_jerusalem': 7L, 'zzz_christianity': 1L, 'cafe': 2L, 'zzz_orthodox': 1L, 'wearing': 1L, 'verify': 1L, 'watching': 1L, 'tip': 1L, 'hangover': 1L, 'event': 1L, 'tight': 1L, 'amazing': 1L, 'shrine': 1L, 'packed': 1L, 'forces': 1L, 'zzz_king': 1L, 'sat': 1L, 'thousand': 2L, 'sighting': 1L, 'traditional': 1L, 'catholic': 1L, 'southern': 1L, 'pastor': 1L, 'zzz_jesus': 3L, 'town': 1L, 'afraid': 1L, 'portal': 1L, 'walled': 1L, 'authorities': 1L, 'zzz_christian': 4L, 'explosives': 1L, 'recent': 1L, 'ago': 1L, 'thought': 1L, 'short': 1L, 'zzz_times_square': 1L, 'overlooking': 1L, 'rabbis': 1L, 'coat': 1L, 'professor': 1L, 'zzz_american': 1L, 'spent': 1L, 'theology': 1L, 'zzz_dome': 2L, 'zzz_tom_zoellner': 1L, 'zzz_wall': 2L, 'withdraw': 1L, 'zzz_golden_gate': 3L, 'nearby': 1L, 'minister': 1L}, {'unmolested': 1L, 'cute': 1L, 'soggy': 2L, 'looked': 1L, 'rating': 1L, 'welcomed': 1L, 'midnight': 5L, 'flirted': 1L, 'hitch': 1L, 'decently': 1L, 'front': 1L, 'hugged': 1L, 'sleep': 1L, 'martinis': 1L, 'zzz_copland': 1L, 'appetite': 1L, 'graduate': 1L, 'mayor': 1L, 'row': 1L, 'planned': 1L, 'crush': 1L, 'glimpse': 1L, 'apartment': 1L, 'police': 3L, 'blizzard': 1L, 'zone': 2L, 'bragging': 1L, 'ment': 1L, 'cherry': 1L, 'zzz_southeast_asia': 1L, 'hope': 1L, 'carat': 1L, 'hot': 1L, 'actually': 1L, 'eager': 1L, 'shout': 1L, 'celebrate': 1L, 'homeland': 1L, 'zzz_mexico': 2L, 'friendly': 1L, 'hates': 1L, 'meant': 1L, 'count': 1L, 'triangle': 1L, 'tourist': 1L, 'stay': 1L, 'watching': 4L, 'neon': 1L, 'couple': 1L, 'colleagues': 1L, 'zzz_taylor': 1L, 'coast': 2L, 'break': 1L, 'famous': 1L, 'game': 1L, 'historic': 1L, 'traffic': 1L, 'despite': 1L, 'confetti': 2L, 'bravura': 1L, 'intersection': 1L, 'fireplace': 1L, 'minute': 1L, 'prime': 1L, 'brought': 1L, 'school': 1L, 'hour': 5L, 'marquee': 1L, 'upper': 1L, 'die': 2L, 'marry': 1L, 'drop': 1L, 'admitted': 1L, 'morning': 1L, 'zzz_rudolph_giuliani': 1L, 'bag': 1L, 'festivities': 1L, 'tower': 1L, 'haul': 1L, 'common': 1L, 'night': 2L, 'quick': 1L, 'noisiest': 1L, 'zzz_seventh_avenue': 1L, 'side': 1L, 'zzz_new_york': 1L, 'someday': 1L, 'cookies': 1L, 'right': 2L, 'crowd': 3L, 'peek': 1L, 'throwing': 1L, 'spring': 1L, 'special': 2L, 'hard': 1L, 'arrive': 1L, 'hail': 1L, 'immigrant': 1L, 'past': 2L, 'usher': 1L, 'zzz_east': 1L, 'close': 1L, 'happen': 1L, 'battalion': 1L, 'fanfare': 1L, 'cold': 1L, 'popping': 1L, 'living': 1L, 'alcohol': 1L, 'camping': 1L, 'movie': 2L, 'noon': 1L, 'cameras': 1L, 'lean': 1L, 'whooped': 1L, 'havoc': 1L, 'noisemaker': 1L, 'video': 1L, 'pen': 1L, 'won': 1L, 'millennium': 1L, 'contraband': 2L, 'noting': 1L, 'champagne': 2L, 'order': 1L, 'screen': 1L, 'reveler': 2L, 'officer': 1L, 'undeterred': 1L, 'solo': 1L, 'drink': 1L, 'led': 1L, 'business': 1L, 'schedule': 1L, 'dropped': 1L, 'dismantle': 1L, 'zipped': 1L, 'effect': 1L, 'fun': 2L, 'zzz_disney': 1L, 'zzz_waterford': 1L, 'crazier': 1L, 'making': 1L, 'nightfall': 1L, 'cardboard': 2L, 'teacher': 1L, 'celebration': 4L, 'hoisted': 1L, 'smelling': 1L, 'y2k': 2L, 'soda': 1L, 'ahead': 1L, 'marijuana': 1L, 'country': 1L, 'region': 1L, 'compulsive': 1L, 'quiet': 1L, 'zzz_indonesia': 1L, 'fear': 1L, 'place': 1L, 'hijink': 1L, 'threat': 1L, 'social': 1L, 'platinum': 1L, 'asked': 1L, 'ventured': 1L, 'peacefully': 1L, 'liked': 1L, 'family': 2L, 'wilder': 1L, 'simple': 1L, 'zzz_south_pacific': 1L, 'evocation': 1L, 'sign': 1L, 'swilling': 1L, 'hopeful': 1L, 'zzz_new_york_city': 1L, 'posterity': 1L, 'weather': 1L, 'village': 1L, 'alike': 1L, 'ring': 2L, 'drove': 1L, 'son': 2L, 'bent': 1L, 'mighty': 1L, 'wanted': 1L, 'quilt': 1L, 'wah': 1L, 'blossom': 1L, 'tos': 1L, 'recruiting': 1L, 'zzz_washington_height': 1L, 'parties': 1L, 'resident': 1L, 'secret': 1L, 'symphony': 1L, 'statement': 1L, 'biggest': 1L, 'cultures': 1L, 'huge': 1L, 'jubilant': 1L, 'tell': 1L, 'friend': 1L, 'happy': 1L, 'sort': 1L, 'sweetheart': 1L, 'diamond': 1L, 'families': 2L, 'zzz_new_yorker': 2L, 'started': 1L, 'bottle': 1L, 'atop': 1L, 'worker': 3L, 'downed': 1L, 'improve': 1L, 'sales': 1L, 'moment': 1L, 'train': 1L, 'awake': 1L, 'zzz_lord': 1L, 'squalid': 1L, 'trying': 1L, 'eat': 1L, 'shoot': 1L, 'zones': 1L, 'kind': 1L, 'daylong': 1L, 'kissed': 1L, 'showed': 1L, 'zzz_los_angeles': 1L, 'consonant': 1L, 'resemble': 1L, 'soul': 1L, 'air': 1L, 'shower': 1L, 'crystal': 1L, 'remain': 1L, 'diverse': 1L, 'nervous': 1L, 'venture': 1L, 'island': 2L, 'wild': 1L, 'college': 1L, 'tion': 1L, 'feeling': 1L, 'campsites': 1L, 'called': 1L, 'history': 1L, 'zzz_fort_lauderdale': 1L, 'crazy': 3L, 'dangerous': 1L, 'hoping': 1L, 'zzz_manhattan': 1L, 'taste': 1L, 'celebrant': 1L, 'dent': 1L, 'head': 1L, 'sleeping': 1L, 'sample': 1L, 'strain': 1L, 'excitement': 1L, 'rained': 1L, 'imitation': 1L, 'home': 5L, 'need': 1L, 'station': 1L, 'education': 1L, 'television': 2L, 'trip': 1L, 'film': 2L, 'parent': 1L, 'rainbow': 1L, 'ing': 1L, 'upheaval': 1L, 'objection': 1L, 'pit': 1L, 'travel': 1L, 'stake': 1L, 'makeshift': 1L, 'fire': 1L, 'relatives': 1L, 'grew': 1L, 'boom': 2L, 'animal': 1L, 'stroke': 1L, 'suspiciously': 1L, 'party': 3L, 'terrorism': 2L, 'roll': 1L, 'ultimate': 1L, 'encampment': 1L, 'pink': 1L, 'play': 1L, 'ball': 4L, 'set': 1L, 'tried': 1L, 'diego': 1L, 'broad': 1L, 'await': 1L, 'spot': 1L, 'mosh': 1L, 'rain': 1L, 'took': 1L, 'mother': 1L, 'viewing': 1L, 'flown': 1L, 'arrived': 2L, 'plan': 1L, 'student': 1L, 'waves': 1L, 'watt': 1L, 'witching': 1L, 'zzz_japan': 1L, 'hut': 1L, 'shortly': 1L, 'zzz_times_square': 10L, 'wife': 2L, 'zzz_broadway': 1L, 'proud': 2L, 'rowdy': 2L, 'spent': 1L, 'wedged': 1L, 'zzz_southern_california': 1L, 'thought': 2L, 'beer': 1L, 'luckier': 1L, 'overnight': 1L, 'zzz_armed_forces': 1L, 'spectator': 2L, 'zzz_university': 1L, 'north': 1L, 'san': 1L, 'tirelessly': 1L, 'zzz_new_jersey': 1L, 'transformation': 1L}, {'stores': 1L, 'show': 1L, 'despite': 1L, 'zzz_ohio': 1L, 'loaf': 1L, 'performance': 1L, 'surgical': 1L, 'chair': 2L, 'seller': 1L, 'fine': 1L, 'milk': 1L, 'perfect': 2L, 'busy': 1L, 'gallon': 1L, 'peanut': 1L, 'jar': 1L, 'young': 1L, 'window': 1L, 'sniffling': 1L, 'carton': 1L, 'zzz_maryland': 1L, 'evening': 1L, 'seeking': 1L, 'zzz_america': 1L, 'blanket': 2L, 'kind': 1L, 'wave': 2L, 'pathologist': 1L, 'mom': 1L, 'half': 1L, 'front': 1L, 'mob': 1L, 'bread': 1L, 'mystery': 1L, 'cool': 1L, 'bag': 1L, 'night': 1L, 'pantomime': 1L, 'simultaneously': 1L, 'husband': 1L, 'enjoy': 1L, 'set': 1L, 'picnic': 1L, 'crowd': 1L, 'immigrant': 1L, 'inopportune': 1L, 'full': 1L, 'home': 1L, 'salesman': 1L, 'folk': 1L, 'cameras': 1L, 'denizen': 1L, 'jolly': 1L, 'looking': 1L, 'waiting': 1L, 'millennium': 1L, 'supplies': 1L, 'pressed': 1L, 'zzz_oregon': 1L, 'run': 1L, 'written': 1L, 'prepared': 1L, 'disposable': 1L, 'munchies': 1L, 'souvenir': 1L, 'studio': 1L, 'armenian': 2L, 'scarves': 1L, 'cough': 1L, 'staring': 1L, 'bulletproof': 1L, 'jelly': 1L, 'conversation': 1L, 'stand': 1L, 'camcorder': 1L, 'overnight': 1L, 'nearby': 1L, 'seeing': 1L, 'raised': 1L, 'family': 1L, 'scene': 1L, 'feet': 1L, 'dancer': 1L, 'puppet': 1L, 'table': 1L, 'electronic': 2L, 'zzz_peter_jenning': 1L, 'fed': 1L, 'metaphor': 1L, 'zzz_dick_clark': 1L, 'fast': 1L, 'camera': 2L, 'extravagant': 1L, 'stuffed': 1L, 'wrapped': 1L, 'zzz_abc': 1L, 'syrup': 1L, 'store': 1L, 'toe': 1L, 'head': 1L, 'door': 1L, 'poster': 1L, 'zzz_alaska': 1L, 'zzz_abc_tv': 1L, 'broadcast': 1L, 'repeated': 1L, 'part': 1L, 'commissioned': 1L, 'editing': 1L, 'sound': 1L, 'television': 1L, 'grew': 1L, 'hour': 2L, 'flu': 1L, 'braved': 1L, 'friend': 1L, 'hacking': 1L, 'voice': 1L, 'tissues': 1L, 'turned': 1L, 'comfortable': 1L, 'high': 1L, 'talking': 1L, 'unlikely': 1L, 'pen': 1L, 'seen': 1L, 'occupied': 1L, 'dozen': 1L, 'hoc': 1L, 'turn': 1L, 'watching': 1L, 'square': 1L, 'chess': 1L, 'disappoint': 1L, 'sat': 1L, 'beach': 1L, 'zzz_ok': 1L, 'play': 1L, 'companion': 1L, 'undaunted': 1L, 'butter': 1L, 'lawn': 1L, 'zzz_times_square': 1L, 'crowded': 1L, 'zzz_broadway': 1L, 'light': 1L, 'interval': 1L, 'unpacked': 1L, 'thought': 1L, 'upside': 1L, 'spectator': 1L, 'position': 1L, 'marvel': 1L}, {'migrated': 1L, 'looked': 1L, 'show': 3L, 'dance': 1L, 'visitor': 1L, 'midnight': 1L, 'planning': 2L, 'zzz_canada': 1L, 'police': 1L, 'headline': 1L, 'banner': 1L, 'winner': 1L, 'easterly': 1L, 'morgue': 1L, 'struck': 2L, 'east': 1L, 'local': 1L, 'happened': 1L, 'meant': 1L, 'handle': 1L, 'watching': 1L, 'read': 1L, 'big': 1L, 'rise': 1L, 'nation': 4L, 'early': 1L, 'worst': 1L, 'front': 1L, 'awaiting': 1L, 'lifelong': 1L, 'entire': 1L, 'fortune': 1L, 'augment': 1L, 'opera': 1L, 'zzz_maori': 1L, 'fewer': 1L, 'morning': 1L, 'cobblestones': 1L, 'festivities': 1L, 'miles': 1L, 'officer': 1L, 'small': 1L, 'sidewalk': 1L, 'ceremonial': 1L, 'zzz_san_francisco': 1L, 'force': 1L, 'concert': 1L, 'crowd': 3L, 'idea': 1L, 'past': 1L, 'edition': 1L, 'rate': 1L, 'computer': 1L, 'usher': 1L, 'sea': 1L, 'impossible': 1L, 'home': 2L, 'dawn': 2L, 'event': 1L, 'sunrise': 1L, 'shining': 1L, 'clock': 2L, 'sun': 1L, 'contributed': 1L, 'hour': 1L, 'jockeyed': 1L, 'firework': 1L, 'emerged': 1L, 'capital': 1L, 'leader': 2L, 'gathered': 1L, 'million': 2L, 'drew': 1L, 'souvenir': 1L, 'water': 1L, 'host': 1L, 'poverty': 1L, 'zzz_north_island': 1L, 'worthy': 1L, 'wanted': 1L, 'cop': 1L, 'y2k': 2L, 'country': 2L, 'zzz_auckland': 1L, 'place': 1L, 'smoke': 1L, 'sunshine': 1L, 'honor': 1L, 'raised': 1L, 'zzz_winnipeg': 1L, 'drunk': 1L, 'appeared': 1L, 'zzz_south_pacific': 1L, 'number': 1L, 'brought': 1L, 'visible': 1L, 'dances': 1L, 'reached': 1L, 'readily': 1L, 'casket': 1L, 'deal': 1L, 'aren': 1L, 'live': 1L, 'zzz_dubliner': 1L, 'beer': 1L, 'biggest': 1L, 'tell': 1L, 'lived': 1L, 'north': 1L, 'spit': 1L, 'apparent': 1L, 'downtown': 1L, 'expected': 1L, 'wafted': 1L, 'overflow': 1L, 'haven': 1L, 'resist': 1L, 'main': 1L, 'slogan': 1L, 'room': 1L, 'places': 1L, 'quoting': 1L, 'official': 1L, 'heatedly': 1L, 'air': 2L, 'corpses': 1L, 'matter': 1L, 'determined': 1L, 'hand': 1L, 'island': 2L, 'problem': 2L, 'arrive': 1L, 'minutes': 1L, 'aquamarine': 1L, 'ordered': 1L, 'zzz_ireland': 1L, 'century': 2L, 'resident': 1L, 'celebrant': 1L, 'street': 2L, 'sought': 1L, 'seen': 2L, 'meltdown': 1L, 'counting': 1L, 'sat': 1L, 'zzz_new_zealand': 3L, 'shirt': 1L, 'travel': 1L, 'zzz_wellington': 1L, 'potential': 1L, 'ashore': 1L, 'largest': 2L, 'party': 4L, 'native': 1L, 'toasted': 1L, 'disaster': 1L, 'begin': 1L, 'tally': 1L, 'ray': 1L, 'ecstatic': 1L, 'huge': 1L, 'drink': 1L, 'prepared': 1L, 'crashed': 1L, 'fell': 1L, 'waves': 1L, 'waterfront': 1L, 'refrigerator': 1L, 'included': 1L, 'singer': 1L, 'correspondent': 1L, 'center': 1L, 'considered': 1L, 'light': 1L, 'spent': 1L, 'thought': 3L, 'maintain': 1L, 'truck': 1L, 'steeled': 1L, 'talk': 1L, 'left': 1L}, {'test': 2L, 'item': 1L, 'zzz_houston_chronicle': 1L}, {'zzz_fox_new': 1L, 'zzz_hillary': 1L, 'dollar': 1L, 'primed': 2L, 'cobalt': 1L, 'groceries': 1L, 'battle': 1L, 'shrugged': 1L, 'displaying': 1L, 'apartment': 1L, 'depend': 1L, 'young': 1L, 'program': 2L, 'zzz_millennium': 3L, 'fall': 1L, 'ticket': 1L, 'zzz_brooklyn': 1L, 'readied': 1L, 'entire': 1L, 'try': 1L, 'sleep': 3L, 'zzz_season': 1L, 'noted': 1L, 'concluded': 1L, 'neighborhood': 1L, 'blitz': 1L, 'mishap': 1L, 'video': 1L, 'destitute': 1L, 'port': 1L, 'spokesman': 1L, 'waiting': 1L, 'capital': 1L, 'shared': 1L, 'proclaiming': 1L, 'exchange': 1L, 'stared': 1L, 'zzz_mtv': 1L, 'handmaiden': 1L, 'witch': 1L, 'wearily': 1L, 'zzz_washington_street': 3L, 'detoxification': 1L, 'celebration': 2L, 'daughter': 3L, 'colored': 1L, 'ahead': 1L, 'healthy': 1L, 'zzz_god': 1L, 'donning': 1L, 'zzz_blockbuster': 1L, 'advertising': 2L, 'makes': 1L, 'beautiful': 1L, 'campaign': 1L, 'explained': 1L, 'zzz_richmond_hill': 1L, 'plow': 1L, 'zzz_manhattan': 2L, 'working': 1L, 'positive': 2L, 'destination': 1L, 'zzz_academy': 1L, 'assuring': 1L, 'sort': 1L, 'grandest': 1L, 'started': 1L, 'occurred': 1L, 'award': 1L, 'glass': 1L, 'carrying': 1L, 'basically': 1L, 'women': 2L, 'room': 2L, 'hour': 2L, 'methadone': 1L, 'refusing': 1L, 'zzz_command_center': 1L, 'making': 2L, 'history': 1L, 'control': 1L, 'wearing': 1L, 'confused': 2L, 'david': 1L, 'evidently': 1L, 'machine': 1L, 'interview': 1L, 'goat': 1L, 'nonstop': 1L, 'staying': 1L, 'designer': 1L, 'ubiquitous': 1L, 'tried': 1L, 'beauty': 1L, 'advice': 1L, 'earlier': 1L, 'spot': 1L, 'modest': 1L, 'huddled': 1L, 'nomination': 1L, 'zzz_times_square': 6L, 'effective': 1L, 'crowded': 2L, 'light': 1L, 'switch': 1L, 'agenda': 1L, 'wolves': 1L, 'playing': 1L, 'talk': 1L, 'wine': 2L, 'uncork': 1L, 'salon': 3L, 'help': 2L, 'midnight': 2L, 'trade': 1L, 'mayor': 8L, 'interesting': 1L, 'actually': 1L, 'window': 1L, 'evening': 2L, 'food': 2L, 'gadget': 1L, 'number': 1L, 'alex': 1L, 'drop': 1L, 'zzz_rudolph_giuliani': 6L, 'wrangled': 1L, 'found': 1L, 'glasses': 1L, 'dour': 1L, 'globe': 1L, 'expect': 1L, 'awry': 1L, 'dawn': 1L, 'inflated': 1L, 'event': 1L, 'large': 1L, 'cameras': 1L, 'washed': 1L, 'looking': 2L, 'safety': 1L, 'hairdresser': 1L, 'squished': 1L, 'salami': 1L, 'heroin': 2L, 'wanted': 3L, 'craving': 1L, 'zzz_n_j': 1L, 'ate': 1L, 'wrong': 2L, 'heading': 1L, 'turn': 1L, 'perhap': 2L, 'place': 1L, 'scheduled': 1L, 'waited': 1L, 'cheese': 1L, 'dwelling': 1L, 'blown': 1L, 'zzz_emergency_management': 1L, 'confuse': 1L, 'scene': 1L, 'comforted': 1L, 'zzz_new_york_city': 2L, 'conga': 1L, 'law': 1L, 'ordering': 1L, 'slept': 1L, 'zzz_world_trade_center': 1L, 'plastic': 2L, 'master': 1L, 'statement': 1L, 'zzz_abc': 1L, 'friend': 1L, 'eyes': 1L, 'selling': 1L, 'gear': 1L, 'needle': 1L, 'part': 2L, 'zzz_mindel': 2L, 'convinced': 1L, 'haven': 1L, 'boyfriend': 2L, 'kind': 1L, 'syringes': 1L, 'bed': 1L, 'project': 3L, 'midtown': 1L, 'firework': 1L, 'supposed': 1L, 'dispenses': 1L, 'fashion': 1L, 'ages': 1L, 'tonight': 1L, 'rent': 1L, 'need': 3L, 'couch': 1L, 'causing': 1L, 'sandwiches': 1L, 'colorist': 1L, 'added': 1L, 'bottle': 2L, 'paid': 1L, 'regular': 1L, 'plan': 3L, 'pair': 1L, 'glow': 1L, 'clear': 1L, 'looked': 2L, 'clean': 1L, 'professional': 1L, 'responded': 1L, 'zzz_hillary_clinton': 5L, 'sanctuary': 1L, 'show': 2L, 'headquarter': 1L, 'radio': 1L, 'fear': 2L, 'explain': 1L, 'won': 1L, 'buying': 1L, 'condom': 1L, 'hip': 1L, 'plate': 1L, 'hiv': 1L, 'sunny': 1L, 'zzz_blockbuster_video': 1L, 'listener': 1L, 'basement': 1L, 'zzz_nbc': 1L, 'celebrate': 2L, 'bar': 1L, 'zzz_front': 3L, 'hype': 1L, 'husband': 1L, 'declared': 1L, 'official': 1L, 'swept': 1L, 'excoriated': 1L, 'liquor': 1L, 'computer': 1L, 'injecting': 1L, 'buzzed': 1L, 'yes': 1L, 'subject': 1L, 'spokeswoman': 1L, 'zzz_chicken_little': 1L, 'closed': 1L, 'approach': 1L, 'screen': 2L, 'job': 3L, 'dutiful': 1L, 'taking': 1L, 'drug': 3L, 'planned': 1L, 'womanhood': 1L, 'senator': 1L, 'load': 1L, 'point': 1L, 'simple': 1L, 'pop': 1L, 'walk': 1L, 'simply': 1L, 'picking': 1L, 'conference': 1L, 'patrolling': 1L, 'commission': 1L, 'beer': 1L, 'empty': 1L, 'zzz_cinderella': 1L, 'thousand': 2L, 'citizen': 1L, 'lives': 1L, 'prices': 1L, 'worked': 1L, 'odyssey': 1L, 'case': 1L, 'look': 1L, 'leave': 1L, 'cracker': 1L, 'zzz_champagne': 1L, 'real': 1L, 'conferences': 1L, 'surprisingly': 1L, 'sleeping': 1L, 'ready': 1L, 'zzz_honey': 1L, 'check': 1L, 'big': 2L, 'party': 3L, 'ball': 1L, 'companion': 1L, 'director': 1L, 'moment': 2L, 'user': 1L, 'zzz_u_s_senate': 1L, 'dark': 1L, 'shortly': 1L, 'zzz_cb': 1L, 'zzz_american': 1L, 'spent': 1L, 'zzz_americas': 1L, 'mother': 3L, 'zzz_carl': 8L, 'left': 1L, 'money': 3L, 'zzz_yep': 1L, 'executive': 2L, 'sleepy': 1L, 'rest': 2L, 'victim': 1L, 'skill': 1L, 'weekly': 1L, 'web': 1L, 'family': 1L, 'disappointed': 1L, 'eying': 1L, 'prison': 1L, 'hat': 1L, 'humanity': 1L, 'gave': 2L, 'styles': 1L, 'zzz_mickey_blue': 1L, 'early': 1L, 'zzz_avenue': 1L, 'desk': 1L, 'lady': 1L, 'shoulder': 1L, 'officer': 1L, 'night': 7L, 'right': 1L, 'deal': 1L, 'scared': 1L, 'hair': 3L, 'erase': 1L, 'home': 2L, 'tube': 1L, 'run': 1L, 'y2k': 1L, 'getting': 2L, 'plying': 1L, 'zzz_auckland': 1L, 'ideology': 1L, 'dinner': 3L, 'afternoon': 1L, 'illegal': 1L, 'block': 1L, 'addict': 1L, 'zzz_seat': 1L, 'son': 1L, 'services': 1L, 'homeless': 1L, 'parties': 1L, 'behaving': 1L, 'spending': 1L, 'lone': 1L, 'start': 1L, 'biggest': 1L, 'happy': 1L, 'head': 1L, 'hopes': 2L, 'line': 2L, 'considerable': 1L, 'ceremonies': 1L, 'caller': 1L, 'flip': 1L, 'convince': 1L, 'agree': 1L, 'chuckling': 1L, 'gizmo': 1L, 'zzz_arkansas': 1L, 'zzz_blair': 1L, 'scrape': 1L, 'grabbing': 1L, 'nap': 2L, 'role': 1L, 'zzz_howard_wolfson': 1L, 'shelter': 1L, 'millennial': 1L, 'trouble': 1L, 'included': 1L, 'younger': 1L, 'potato': 1L, 'waxing': 1L, 'hello': 2L}, {'caused': 1L, 'half': 1L, 'manholes': 1L, 'zzz_new_york_city_police_department': 1L, 'batteries': 1L, 'paper': 1L, 'alert': 1L, 'flashlight': 1L, 'midafternoon': 1L, 'apartment': 1L, 'police': 11L, 'knowledge': 1L, 'generator': 2L, 'trying': 1L, 'extra': 2L, 'negligible': 1L, 'investigating': 1L, 'thousand': 2L, 'arrest': 1L, 'black': 1L, 'bank': 1L, 'equipped': 2L, 'worth': 1L, 'lookout': 1L, 'municipal': 1L, 'emergency': 1L, 'powerful': 1L, 'safe': 1L, 'zzz_fbi': 2L, 'zzz_department': 3L, 'dark': 1L, 'famous': 1L, 'putting': 1L, 'nearly': 1L, 'fall': 1L, 'timing': 1L, 'precinct': 1L, 'condition': 1L, 'areas': 2L, 'swelled': 1L, 'level': 1L, 'clad': 1L, 'morning': 1L, 'specific': 1L, 'frozen': 1L, 'planning': 1L, 'officer': 5L, 'team': 1L, 'gathered': 1L, 'found': 1L, 'security': 1L, 'zzz_seventh_avenue': 3L, 'undercover': 1L, 'clothes': 1L, 'saddled': 1L, 'force': 2L, 'portable': 1L, 'crowd': 4L, 'series': 1L, 'past': 1L, 'computer': 1L, 'entering': 2L, 'seal': 1L, 'operation': 1L, 'event': 2L, 'special': 2L, 'concern': 2L, 'zzz_rudolph_giuliani': 1L, 'giant': 1L, 'tracked': 1L, 'cover': 1L, 'federal': 1L, 'scrap': 1L, 'uniform': 2L, 'conduct': 1L, 'officially': 1L, 'method': 1L, 'arrival': 1L, 'shut': 1L, 'beverages': 1L, 'dozen': 1L, 'creating': 1L, 'power': 2L, 'leg': 1L, 'screen': 1L, 'million': 1L, 'detectives': 1L, 'possibility': 1L, 'control': 1L, 'cut': 1L, 'issued': 1L, 'biological': 1L, 'put': 2L, 'cities': 1L, 'celebration': 3L, 'sending': 1L, 'search': 1L, 'disorderly': 1L, 'mingled': 1L, 'country': 1L, 'larger': 1L, 'welded': 1L, 'connection': 1L, 'threat': 1L, 'act': 1L, 'view': 1L, 'smuggle': 1L, 'block': 1L, 'duty': 1L, 'freeing': 1L, 'constantly': 1L, 'supply': 2L, 'circled': 1L, 'symbolic': 1L, 'number': 1L, 'zzz_new_york_city': 1L, 'zzz_ahmed_ressam': 3L, 'anti': 1L, 'aimed': 1L, 'zzz_seattle': 1L, 'illumination': 1L, 'ring': 1L, 'parking': 1L, 'unit': 1L, 'size': 1L, 'plot': 1L, 'zzz_abdel_ghani': 2L, 'additional': 1L, 'working': 1L, 'area': 4L, 'addition': 1L, 'zzz_washington': 1L, 'blanketed': 1L, 'twisted': 1L, 'elevator': 1L, 'strict': 1L, 'attack': 1L, 'poured': 1L, 'biggest': 1L, 'helicopter': 2L, 'stashed': 1L, 'questioned': 1L, 'horses': 2L, 'confiscate': 1L, 'north': 1L, 'stationed': 1L, 'trapped': 1L, 'tool': 1L, 'highest': 1L, 'sophisticated': 1L, 'failure': 1L, 'stick': 1L, 'sharply': 1L, 'hopes': 1L, 'cases': 1L, 'mounted': 3L, 'steel': 1L, 'zones': 1L, 'television': 1L, 'responding': 1L, 'locked': 1L, 'interlocking': 1L, 'tunnel': 1L, 'plain': 1L, 'official': 2L, 'devices': 1L, 'air': 1L, 'crystal': 1L, 'zzz_brooklyn': 3L, 'motorist': 1L, 'believed': 1L, 'making': 1L, 'problem': 2L, 'history': 1L, 'detailed': 1L, 'scheduled': 2L, 'gathering': 2L, 'zzz_algerian': 2L, 'alcoholic': 1L, 'metal': 1L, 'measure': 1L, 'mailboxes': 1L, 'agent': 1L, 'shabby': 1L, 'canceled': 1L, 'purchased': 1L, 'seen': 1L, 'troublemaker': 1L, 'border': 1L, 'car': 1L, 'borough': 2L, 'large': 1L, 'amount': 1L, 'chemical': 2L, 'equipment': 1L, 'department': 1L, 'truck': 2L, 'terrorism': 2L, 'trash': 1L, 'adjusting': 1L, 'ball': 1L, 'electric': 1L, 'spot': 1L, 'barricades': 2L, 'prepared': 1L, 'assault': 1L, 'terrorist': 5L, 'lighting': 1L, 'plan': 2L, 'stormed': 1L, 'included': 1L, 'detained': 1L, 'eighth': 1L, 'explosives': 2L, 'recent': 1L, 'searches': 1L, 'early': 1L, 'task': 1L, 'individual': 1L, 'zzz_times_square': 3L, 'keeping': 1L, 'garages': 1L, 'zzz_broadway': 1L, 'light': 2L, 'removed': 1L, 'rowdy': 1L, 'dog': 1L, 'prepare': 1L, 'zzz_police_commissioner_howard_safir': 1L, 'south': 1L, 'zzz_americas': 1L, 'searched': 1L, 'failures': 2L, 'order': 1L, 'charged': 2L}, {'laureate': 2L, 'zzz_muhammad_ali': 2L, 'dawning': 1L, 'show': 3L, 'beam': 1L, 'midnight': 3L, 'zzz_de_niro': 1L, 'ending': 1L, 'course': 1L, 'scientist': 1L, 'artichoke': 1L, 'roasted': 1L, 'follow': 1L, 'zzz_rose_garden': 1L, 'enjoyed': 1L, 'zzz_neil_simon': 1L, 'tables': 1L, 'giant': 1L, 'group': 1L, 'unfinished': 1L, 'tight': 1L, 'chosen': 1L, 'rose': 1L, 'young': 1L, 'counted': 1L, 'zzz_elizabeth_taylor': 2L, 'praised': 1L, 'blaze': 1L, 'polenta': 1L, 'circle': 1L, 'main': 1L, 'scheduled': 1L, 'evening': 2L, 'captivating': 1L, 'freedom': 1L, 'read': 1L, 'couple': 1L, 'material': 1L, 'tent': 1L, 'nation': 1L, 'band': 2L, 'zzz_robert_pinsky': 1L, 'half': 1L, 'foot': 1L, 'feasted': 1L, 'blast': 1L, 'lady': 2L, 'silver': 4L, 'celebrate': 1L, 'endless': 1L, 'entire': 1L, 'champagne': 2L, 'scholar': 1L, 'zzz_trisha_yearwood': 1L, 'ended': 1L, 'opera': 2L, 'gras': 1L, 'rapper': 1L, 'eve': 1L, 'cascading': 1L, 'bono': 1L, 'filled': 1L, 'burned': 1L, 'served': 3L, 'security': 1L, 'artist': 1L, 'rack': 1L, 'zzz_don_mclean': 1L, 'set': 1L, 'concert': 1L, 'crowd': 4L, 'burst': 1L, 'centuries': 1L, 'torch': 1L, 'seat': 1L, 'past': 1L, 'ball': 1L, 'lobster': 1L, 'zzz_east': 1L, 'hosted': 2L, 'dawn': 1L, 'zzz_itzhak_perlman': 1L, 'orchid': 1L, 'zzz_john_william': 1L, 'splashy': 1L, 'shown': 2L, 'capacity': 1L, 'cast': 1L, 'oyster': 1L, 'sun': 1L, 'scaffold': 1L, 'surrounded': 1L, 'balmy': 1L, 'children': 1L, 'violinist': 1L, 'sparkle': 1L, 'written': 1L, 'score': 1L, 'millennium': 1L, 'capital': 1L, 'truffle': 1L, 'zzz_washington_monument': 2L, 'reading': 1L, 'gathered': 2L, 'reveler': 2L, 'told': 1L, 'pepper': 1L, 'earlier': 2L, 'shuttle': 1L, 'refurbishing': 1L, 'screen': 2L, 'zzz_lincoln_memorial': 4L, 'ragtime': 1L, 'base': 1L, 'china': 1L, 'zzz_rita': 1L, 'musical': 1L, 'optional': 1L, 'zzz_white_house': 5L, 'stage': 1L, 'dining': 1L, 'diner': 1L, 'taper': 1L, 'brilliant': 2L, 'country': 1L, 'elaborate': 1L, 'according': 1L, 'zzz_creator': 1L, 'dinner': 4L, 'fuse': 2L, 'descended': 1L, 'candlestick': 1L, 'threat': 1L, 'invitation': 1L, 'conducted': 1L, 'honor': 1L, 'waited': 1L, 'playwright': 1L, 'projection': 1L, 'amid': 1L, 'caviar': 1L, 'garlic': 1L, 'irish': 1L, 'pop': 1L, 'erected': 1L, 'feet': 2L, 'addressed': 1L, 'weather': 1L, 'composer': 1L, 'heated': 1L, 'table': 1L, 'ring': 1L, 'crispy': 1L, 'select': 1L, 'standing': 1L, 'poem': 1L, 'light': 1L, 'van': 1L, 'guest': 5L, 'west': 1L, 'creativity': 1L, 'ferris': 1L, 'live': 1L, 'production': 1L, 'change': 1L, 'passed': 1L, 'poet': 2L, 'white': 8L, 'zzz_first_lady_hillary_rodham_clinton': 1L, 'final': 2L, 'zzz_robert_de_niro': 1L, 'shower': 1L, 'higher': 1L, 'receiving': 1L, 'historian': 1L, 'zzz_america': 4L, 'exploded': 1L, 'formed': 1L, 'minute': 1L, 'chocolate': 1L, 'draped': 1L, 'zzz_kenny_roger': 1L, 'zzz_steven_spielberg': 1L, 'reflecting': 2L, 'zzz_tom_jones': 1L, 'glitzy': 1L, 'beluga': 1L, 'butler': 1L, 'traveled': 1L, 'zzz_stomp': 1L, 'television': 1L, 'room': 2L, 'hour': 4L, 'solid': 1L, 'inside': 1L, 'scenes': 1L, 'seated': 1L, 'air': 1L, 'spokeswoman': 1L, 'crystal': 1L, 'stunning': 1L, 'foie': 1L, 'monument': 2L, 'program': 1L, 'inventor': 1L, 'century': 1L, 'pool': 3L, 'zzz_national_mall': 2L, 'zzz_smith': 1L, 'zzz_journey': 1L, 'middle': 1L, 'presented': 1L, 'rained': 2L, 'held': 1L, 'gala': 1L, 'zzz_u_s': 1L, 'breakfast': 1L, 'film': 3L, 'returned': 1L, 'lamb': 1L, 'terrorist': 1L, 'author': 1L, 'divas': 1L, 'bowl': 2L, 'length': 1L, 'actor': 1L, 'zzz_maya_angelou': 1L, 'member': 1L, 'roses': 1L, 'high': 1L, 'zzz_jack_nicholson': 1L, 'front': 2L, 'thundering': 1L, 'party': 2L, 'zzz_jessye_norman': 1L, 'lit': 1L, 'toasted': 1L, 'expected': 1L, 'wheel': 1L, 'marinated': 1L, 'express': 1L, 'orchestration': 1L, 'faces': 1L, 'delight': 1L, 'zzz_brian_stokes_mitchell': 1L, 'moment': 1L, 'waterfall': 1L, 'lighting': 1L, 'ushered': 1L, 'successive': 1L, 'included': 1L, 'velvet': 1L, 'tablecloth': 1L, 'president': 4L, 'dove': 1L, 'sides': 2L, 'zzz_mary_tyler_moore': 1L, 'singer': 3L, 'shortly': 1L, 'famous': 1L, 'zzz_broadway': 1L, 'performances': 1L, 'sit': 2L, 'unconcerned': 1L, 'holly': 1L, 'temperature': 1L, 'american': 2L, 'zzz_clinton': 4L, 'original': 1L, 'left': 1L}, {'zzz_eastern': 2L, 'reactor': 1L, 'zzz_energy_secretary_bill_richardson': 1L, 'money': 1L, 'lack': 1L, 'midnight': 4L, 'rest': 1L, 'interpreted': 1L, 'coordination': 1L, 'earlier': 1L, 'slot': 4L, 'busy': 1L, 'referring': 1L, 'zone': 1L, 'electricity': 1L, 'fix': 1L, 'zzz_worldwide': 1L, 'cautioned': 1L, 'holiday': 1L, 'gave': 1L, 'paying': 1L, 'digit': 1L, 'temporarily': 1L, 'government': 2L, 'read': 1L, 'zzz_greenwich': 1L, 'nation': 4L, 'early': 3L, 'grid': 1L, 'half': 1L, 'affect': 1L, 'glitches': 1L, 'easily': 1L, 'zzz_east_coast': 1L, 'lost': 2L, 'millenium': 1L, 'eve': 1L, 'race': 1L, 'zzz_gmt': 1L, 'predicted': 1L, 'night': 1L, 'repaired': 1L, 'mean': 1L, 'heavy': 1L, 'zzz_jane_garvey': 1L, 'preceded': 1L, 'right': 1L, 'swept': 1L, 'smoothly': 1L, 'globe': 1L, 'estimates': 1L, 'japanese': 1L, 'crop': 1L, 'joined': 1L, 'past': 3L, 'computer': 7L, 'result': 1L, 'close': 1L, 'operation': 2L, 'estimated': 1L, 'regionally': 1L, 'machines': 2L, 'bonker': 1L, 'zzz_australia': 1L, 'est': 2L, 'network': 1L, 'lead': 1L, 'clock': 3L, 'nuclear': 4L, 'celebrated': 1L, 'crucial': 1L, 'zzz_central': 1L, 'miles': 1L, 'safety': 1L, 'indication': 1L, 'issue': 1L, 'arrival': 1L, 'shut': 2L, 'infrastructure': 1L, 'business': 1L, 'nature': 1L, 'rolled': 2L, 'attention': 1L, 'effect': 1L, 'reported': 5L, 'host': 1L, 'key': 1L, 'congestion': 1L, 'northwest': 1L, 'zzz_white_house': 3L, 'received': 1L, 'y2k': 9L, 'ahead': 2L, 'country': 1L, 'industry': 1L, 'transition': 1L, 'messages': 1L, 'incident': 2L, 'smattering': 1L, 'airline': 1L, 'circuit': 1L, 'zzz_state_department': 1L, 'zzz_united_states': 5L, 'military': 1L, 'backup': 1L, 'honor': 1L, 'major': 1L, 'airspace': 1L, 'appeared': 1L, 'private': 1L, 'glitch': 1L, 'preparedness': 1L, 'weather': 1L, 'zzz_wisconsin': 2L, 'zzz_tokyo': 1L, 'jet': 1L, 'zzz_washington': 2L, 'system': 5L, 'zzz_commerce_department': 1L, 'quickly': 2L, 'zzz_russia': 4L, 'passed': 2L, 'biggest': 1L, 'upbeat': 1L, 'chip': 1L, 'minor': 1L, 'programmed': 1L, 'zzz_delaware': 2L, 'confused': 1L, 'slipped': 1L, 'part': 1L, 'zzz_ukraine': 1L, 'effort': 1L, 'center': 3L, 'reset': 1L, 'zones': 2L, 'grew': 1L, 'hour': 2L, 'zzz_u_s': 2L, 'originally': 1L, 'official': 3L, 'optimism': 1L, 'air': 1L, 'zzz_japan': 1L, 'crossed': 1L, 'zzz_thomas_pickering': 1L, 'situation': 1L, 'problem': 9L, 'traveling': 1L, 'control': 1L, 'zzz_eastern_standard_time': 1L, 'century': 2L, 'cited': 1L, 'zzz_china': 1L, 'telephone': 2L, 'reassuring': 1L, 'zzz_federal_aviation_administration': 1L, 'seen': 1L, 'occur': 1L, 'chance': 1L, 'aging': 1L, 'haywire': 1L, 'fixing': 1L, 'radiation': 1L, 'note': 1L, 'find': 1L, 'underestimate': 1L, 'test': 1L, 'feared': 1L, 'roll': 2L, 'zzz_dallas': 1L, 'zzz_europe': 1L, 'plant': 5L, 'experienced': 1L, 'normal': 1L, 'track': 1L, 'milestone': 1L, 'felt': 1L, 'zzz_john_koskinen': 4L, 'nationally': 1L, 'running': 1L, 'power': 4L, 'significant': 2L, 'coming': 1L, 'billion': 2L, 'shortly': 1L, 'zzz_d_c': 2L, 'concern': 1L, 'safely': 1L, 'alarm': 1L, 'spent': 3L, 'highlight': 1L, 'zzz_new_zealand': 1L, 'person': 1L, 'chief': 2L, 'virtually': 1L, 'command': 1L, 'zzz_asia': 1L, 'traffic': 2L, 'overseas': 1L, 'fact': 1L}, {'affair': 1L, 'adult': 1L, 'show': 2L, 'midnight': 1L, 'zzz_hollywood': 2L, 'rest': 1L, 'padded': 1L, 'zzz_san_pedro': 3L, 'children': 2L, 'certainly': 1L, 'cut': 1L, 'police': 1L, 'mcdonald': 1L, 'promote': 1L, 'themed': 1L, 'proportion': 1L, 'eager': 1L, 'bike': 1L, 'wet': 1L, 'covered': 1L, 'enjoying': 1L, 'ski': 1L, 'gave': 1L, 'real': 4L, 'activities': 1L, 'evening': 1L, 'spectacular': 3L, 'big': 1L, 'stop': 1L, 'keeping': 1L, 'early': 1L, 'cultural': 1L, 'nixed': 1L, 'private': 1L, 'despite': 1L, 'laser': 3L, 'ticket': 1L, 'blast': 1L, 'continued': 2L, 'minute': 1L, 'gray': 1L, 'backstage': 1L, 'zzz_bob_levy': 2L, 'interfered': 1L, 'brother': 1L, 'cloudy': 1L, 'choir': 2L, 'audience': 1L, 'dancer': 3L, 'gloves': 1L, 'officer': 1L, 'zzz_church': 1L, 'nice': 1L, 'wrote': 1L, 'hanger': 1L, 'concert': 2L, 'crowd': 2L, 'smoothly': 1L, 'zzz_van_nuys_airport': 2L, 'torch': 1L, 'light': 3L, 'dodged': 1L, 'jump': 2L, 'skydiver': 2L, 'reached': 1L, 'link': 1L, 'home': 1L, 'musician': 1L, 'zzz_canyon_country': 1L, 'event': 4L, 'gladiator': 1L, 'hymn': 1L, 'zzz_staples_center': 1L, 'capacity': 1L, 'noon': 2L, 'zzz_aaron': 1L, 'firework': 2L, 'millennium': 2L, 'zzz_national_guard': 1L, 'zzz_grand_avenue': 1L, 'reveler': 1L, 'told': 1L, 'director': 1L, 'zzz_vincent': 1L, 'full': 1L, 'eating': 1L, 'wanted': 2L, 'join': 1L, 'free': 1L, 'puddles': 1L, 'step': 1L, 'busy': 1L, 'drew': 1L, 'scarves': 1L, 'exciting': 1L, 'prelude': 1L, 'throw': 1L, 'change': 1L, 'stage': 2L, 'dry': 1L, 'geared': 1L, 'poles': 1L, 'rare': 1L, 'district': 1L, 'carnival': 1L, 'country': 1L, 'taking': 1L, 'uncertainty': 1L, 'favorite': 1L, 'blimp': 1L, 'nightclub': 1L, 'festival': 3L, 'airport': 1L, 'zzz_pollution': 1L, 'gospel': 1L, 'quashed': 1L, 'swing': 1L, 'zzz_northridge': 1L, 'spotty': 1L, 'cancellation': 1L, 'family': 1L, 'sky': 1L, 'venues': 2L, 'brought': 1L, 'guard': 1L, 'weather': 2L, 'parties': 3L, 'zzz_bmx': 1L, 'array': 1L, 'drove': 1L, 'singing': 1L, 'zzz_van_nuy': 1L, 'cloud': 1L, 'san': 1L, 'attendance': 2L, 'smaller': 1L, 'zzz_dwight_yoakam': 1L, 'failed': 1L, 'trouper': 1L, 'coupled': 1L, 'dud': 1L, 'fast': 1L, 'mark': 1L, 'outing': 1L, 'music': 1L, 'zzz_encino': 1L, 'expected': 2L, 'eagles': 1L, 'featuring': 1L, 'bundled': 1L, 'sort': 1L, 'scalper': 1L, 'prophetic': 1L, 'families': 1L, 'fire': 1L, 'season': 1L, 'zzz_tustin': 1L, 'exactly': 1L, 'singer': 1L, 'joined': 2L, 'downtown': 2L, 'craft': 1L, 'contradictory': 1L, 'zzz_san_jose': 1L, 'daylong': 1L, 'line': 4L, 'sign': 3L, 'zzz_l_a': 1L, 'spirit': 1L, 'volunteer': 1L, 'television': 1L, 'grew': 1L, 'unify': 1L, 'showed': 1L, 'zzz_los_angeles': 5L, 'official': 5L, 'zzz_now': 1L, 'zzz_crenshaw': 2L, 'air': 1L, 'spokeswoman': 1L, 'zzz_take_follow': 1L, 'future': 1L, 'planes': 1L, 'slugging': 1L, 'display': 1L, 'scheduled': 1L, 'gathering': 1L, 'security': 1L, 'stream': 1L, 'played': 1L, 'resident': 2L, 'inflatable': 1L, 'partygoer': 2L, 'high': 1L, 'canceled': 1L, 'zzz_jay_leno': 1L, 'zzz_rose_parade': 1L, 'right': 1L, 'festivities': 1L, 'boredom': 1L, 'zzz_federal_aviation_administration': 1L, 'zzz_valencia': 1L, 'organizer': 1L, 'zzz_christian': 2L, 'demonstration': 1L, 'film': 1L, 'fill': 1L, 'party': 3L, 'unexpected': 1L, 'dancing': 4L, 'perform': 1L, 'member': 1L, 'need': 1L, 'grand': 1L, 'marshal': 1L, 'place': 1L, 'rides': 1L, 'explanation': 1L, 'planned': 2L, 'worldwide': 1L, 'explaining': 1L, 'sure': 1L, 'building': 1L, 'millennial': 2L, 'slowly': 1L, 'rain': 2L, 'promenade': 1L, 'undaunted': 1L, 'running': 1L, 'sponsored': 1L, 'zzz_judy': 1L, 'y2k': 1L, 'rolling': 1L, 'priced': 1L, 'thrown': 1L, 'kid': 2L, 'ago': 1L, 'zzz_rachel': 1L, 'short': 1L, 'wife': 2L, 'performances': 1L, 'rainstorm': 1L, 'steady': 1L, 'game': 1L, 'zzz_alameda': 2L, 'jacket': 1L, 'switch': 1L, 'mass': 1L, 'mother': 1L, 'hazard': 1L, 'lives': 1L, 'zzz_valley': 2L, 'left': 1L, 'pulled': 1L, 'drawing': 1L, 'icon': 1L, 'zzz_riordan': 2L}, {'dance': 1L, 'zzz_jimmy_buffett': 2L, 'ticket': 4L, 'costume': 1L, 'children': 1L, 'gamut': 1L, 'nostalgia': 1L, 'real': 1L, 'indulge': 1L, 'bit': 1L, 'zzz_darth': 1L, 'pillar': 1L, 'performing': 1L, 'guard': 1L, 'leave': 1L, 'audience': 1L, 'continue': 1L, 'rock': 1L, 'security': 1L, 'ticketholder': 1L, 'zzz_star_war': 1L, 'attorney': 1L, 'concert': 5L, 'phones': 1L, 'decided': 1L, 'zzz_texas': 1L, 'home': 1L, 'zzz_universal_city': 1L, 'event': 2L, 'special': 1L, 'zzz_staples_center': 2L, 'missed': 2L, 'cell': 1L, 'closed': 1L, 'business': 1L, 'opening': 1L, 'outfit': 1L, 'reason': 1L, 'zzz_jackson_browne': 1L, 'faced': 1L, 'chilly': 1L, 'swing': 1L, 'zzz_universal_studios': 1L, 'waited': 2L, 'ventured': 1L, 'family': 1L, 'feel': 1L, 'scene': 1L, 'son': 1L, 'twin': 1L, 'stretched': 1L, 'ring': 1L, 'drove': 1L, 'open': 1L, 'taker': 1L, 'working': 1L, 'angry': 1L, 'visit': 1L, 'music': 1L, 'suit': 1L, 'eagles': 2L, 'featuring': 1L, 'friend': 1L, 'door': 1L, 'thousand': 1L, 'deter': 1L, 'zzz_woodland_hill': 1L, 'zzz_l_a': 2L, 'spirit': 1L, 'hour': 1L, 'supposed': 1L, 'highlight': 1L, 'minutes': 1L, 'maul': 1L, 'zzz_college_station': 1L, 'wand': 1L, 'ran': 1L, 'metal': 1L, 'amphitheater': 1L, 'performed': 1L, 'checked': 1L, 'zzz_universal_amphitheatre': 1L, 'rid': 1L, 'clothing': 1L, 'zzz_linda_ronstadt': 2L, 'party': 2L, 'dressed': 1L, 'stayed': 1L, 'drizzle': 1L, 'tight': 1L, 'zzz_scalper': 1L, 'zzz_thousand_oak': 1L, 'detector': 1L, 'offered': 1L, 'begin': 1L, 'paid': 1L, 'model': 1L, 'wife': 2L, 'lines': 1L, 'block': 1L, 'occasion': 1L, 'jean': 1L, 'zzz_citywalk': 1L, 'starting': 1L, 'wind': 1L}, {'coup': 1L, 'relinquishing': 1L, 'shot': 1L, 'office': 1L, 'represent': 1L, 'issued': 1L, 'mainly': 2L, 'mistakes': 1L, 'inconsistent': 1L, 'zzz_west': 2L, 'remarkably': 1L, 'wrought': 1L, 'cut': 1L, 'anointed': 1L, 'buses': 1L, 'character': 1L, 'created': 1L, 'age': 1L, 'zzz_chechnya': 1L, 'easy': 1L, 'speech': 1L, 'criminal': 1L, 'local': 1L, 'grip': 1L, 'adviser': 1L, 'zzz_union': 1L, 'topple': 1L, 'zzz_boris_yeltsin': 16L, 'government': 1L, 'rules': 1L, 'ruler': 2L, 'bureaucrat': 1L, 'introduce': 1L, 'choice': 2L, 'famous': 1L, 'oversaw': 1L, 'birth': 1L, 'tank': 1L, 'entrenched': 1L, 'ruled': 1L, 'desire': 1L, 'term': 1L, 'lost': 1L, 'level': 1L, 'upper': 1L, 'contradict': 1L, 'fragile': 1L, 'democrat': 1L, 'populist': 1L, 'leader': 2L, 'heart': 1L, 'bag': 1L, 'victory': 1L, 'rock': 1L, 'quaking': 1L, 'voluntarily': 1L, 'shaking': 1L, 'revere': 1L, 'respond': 1L, 'zzz_boris_berezovsky': 1L, 'revolution': 1L, 'force': 1L, 'concert': 1L, 'past': 2L, 'mentioned': 1L, 'economic': 1L, 'election': 2L, 'fist': 1L, 'home': 1L, 'empire': 1L, 'odd': 1L, 'stood': 1L, 'driving': 1L, 'unpredictable': 1L, 'zzz_kremlin': 2L, 'surrounded': 1L, 'preserve': 2L, 'thirst': 1L, 'millennium': 1L, 'finger': 1L, 'restraint': 1L, 'surprise': 1L, 'learned': 1L, 'public': 3L, 'czar': 2L, 'body': 1L, 'notice': 1L, 'kicked': 1L, 'run': 1L, 'business': 2L, 'remembered': 1L, 'nimbly': 1L, 'free': 1L, 'broken': 2L, 'retirement': 2L, 'rebel': 1L, 'instinct': 1L, 'regretted': 1L, 'hand': 1L, 'raise': 1L, 'protect': 1L, 'unproven': 1L, 'recovering': 1L, 'getting': 1L, 'recast': 1L, 'freedom': 1L, 'taking': 1L, 'impose': 2L, 'contradiction': 1L, 'surge': 1L, 'rehired': 1L, 'credit': 2L, 'connection': 1L, 'extremes': 1L, 'place': 1L, 'military': 1L, 'successor': 1L, 'allowing': 1L, 'hold': 1L, 'deputy': 1L, 'plutocracy': 1L, 'political': 2L, 'zzz_mikhail_gorbachev': 1L, 'matter': 1L, 'seizure': 2L, 'autocrat': 1L, 'brought': 1L, 'put': 1L, 'guard': 1L, 'promise': 1L, 'financial': 1L, 'wages': 1L, 'market': 2L, 'fired': 2L, 'toppled': 1L, 'zzz_vladimir_putin': 3L, 'ordering': 1L, 'support': 1L, 'classic': 1L, 'totalitarian': 1L, 'system': 1L, 'symbolizes': 1L, 'doubt': 2L, 'zzz_russia': 3L, 'interest': 1L, 'symbolized': 1L, 'guarantor': 1L, 'tycoon': 1L, 'zzz_anatoly_chubais': 1L, 'rode': 1L, 'zzz_lenin': 4L, 'took': 1L, 'zzz_lyndon_johnson': 1L, 'minister': 1L, 'conceded': 1L, 'russian': 2L, 'highest': 1L, 'ceremonies': 1L, 'zzz_russian': 5L, 'bodyguard': 1L, 'toppling': 1L, 'word': 2L, 'succeeded': 1L, 'straight': 1L, 'official': 2L, 'refusing': 1L, 'politic': 1L, 'remain': 1L, 'future': 1L, 'supposed': 1L, 'iron': 1L, 'country': 1L, 'seamlessly': 1L, 'electrifying': 1L, 'zzz_holding': 1L, 'history': 3L, 'real': 1L, 'ritual': 1L, 'embarrassing': 1L, 'sight': 1L, 'clip': 1L, 'played': 1L, 'dacha': 1L, 'turned': 1L, 'shrewd': 1L, 'unveiled': 1L, 'ready': 1L, 'seen': 2L, 'leaving': 1L, 'surgery': 1L, 'viewed': 1L, 'sycophant': 1L, 'hound': 1L, 'democracy': 1L, 'deserves': 1L, 'prime': 1L, 'seeking': 1L, 'administration': 1L, 'feature': 1L, 'prism': 1L, 'role': 1L, 'party': 1L, 'experienced': 1L, 'tried': 1L, 'opposite': 1L, 'uprising': 1L, 'defy': 1L, 'soldier': 1L, 'loyalty': 1L, 'zzz_moscow': 1L, 'corruption': 1L, 'moment': 2L, 'purpose': 1L, 'scores': 1L, 'date': 1L, 'president': 1L, 'misjudgment': 1L, 'flourish': 1L, 'recent': 1L, 'ago': 1L, 'realized': 1L, 'crackdown': 1L, 'theater': 1L, 'surprising': 1L, 'seize': 1L, 'charges': 1L, 'republic': 1L, 'clear': 2L, 'popularity': 1L, 'steady': 1L, 'rule': 1L, 'face': 1L, 'clean': 1L, 'tenure': 1L, 'soviet': 3L, 'crafty': 1L, 'left': 2L}, {'coup': 1L, 'relinquishing': 1L, 'shot': 1L, 'office': 1L, 'represent': 1L, 'issued': 1L, 'mainly': 2L, 'mistakes': 1L, 'inconsistent': 1L, 'zzz_west': 2L, 'remarkably': 1L, 'wrought': 1L, 'cut': 1L, 'anointed': 1L, 'buses': 1L, 'character': 1L, 'created': 1L, 'age': 1L, 'zzz_chechnya': 1L, 'easy': 1L, 'speech': 1L, 'criminal': 1L, 'local': 1L, 'grip': 1L, 'adviser': 1L, 'zzz_union': 1L, 'topple': 1L, 'zzz_boris_yeltsin': 16L, 'government': 1L, 'rules': 1L, 'ruler': 2L, 'bureaucrat': 1L, 'introduce': 1L, 'choice': 2L, 'famous': 1L, 'oversaw': 1L, 'birth': 1L, 'tank': 1L, 'entrenched': 1L, 'ruled': 1L, 'desire': 1L, 'term': 1L, 'lost': 1L, 'level': 1L, 'upper': 1L, 'contradict': 1L, 'fragile': 1L, 'democrat': 1L, 'populist': 1L, 'leader': 2L, 'heart': 1L, 'bag': 1L, 'victory': 1L, 'rock': 1L, 'quaking': 1L, 'voluntarily': 1L, 'shaking': 1L, 'revere': 1L, 'respond': 1L, 'zzz_boris_berezovsky': 1L, 'revolution': 1L, 'force': 1L, 'concert': 1L, 'past': 2L, 'mentioned': 1L, 'economic': 1L, 'election': 2L, 'fist': 1L, 'home': 1L, 'empire': 1L, 'odd': 1L, 'stood': 1L, 'driving': 1L, 'unpredictable': 1L, 'zzz_kremlin': 2L, 'surrounded': 1L, 'preserve': 2L, 'thirst': 1L, 'millennium': 1L, 'finger': 1L, 'restraint': 1L, 'surprise': 1L, 'learned': 1L, 'public': 3L, 'czar': 2L, 'body': 1L, 'notice': 1L, 'kicked': 1L, 'run': 1L, 'business': 2L, 'remembered': 1L, 'nimbly': 1L, 'free': 1L, 'broken': 2L, 'retirement': 2L, 'rebel': 1L, 'instinct': 1L, 'regretted': 1L, 'hand': 1L, 'raise': 1L, 'protect': 1L, 'unproven': 1L, 'recovering': 1L, 'getting': 1L, 'recast': 1L, 'freedom': 1L, 'taking': 1L, 'impose': 2L, 'contradiction': 1L, 'surge': 1L, 'rehired': 1L, 'credit': 2L, 'connection': 1L, 'extremes': 1L, 'place': 1L, 'military': 1L, 'successor': 1L, 'allowing': 1L, 'hold': 1L, 'deputy': 1L, 'plutocracy': 1L, 'political': 2L, 'zzz_mikhail_gorbachev': 1L, 'matter': 1L, 'seizure': 2L, 'autocrat': 1L, 'brought': 1L, 'put': 1L, 'guard': 1L, 'promise': 1L, 'financial': 1L, 'wages': 1L, 'market': 2L, 'fired': 2L, 'toppled': 1L, 'zzz_vladimir_putin': 3L, 'ordering': 1L, 'support': 1L, 'classic': 1L, 'totalitarian': 1L, 'system': 1L, 'symbolizes': 1L, 'doubt': 2L, 'zzz_russia': 3L, 'interest': 1L, 'symbolized': 1L, 'guarantor': 1L, 'tycoon': 1L, 'zzz_anatoly_chubais': 1L, 'rode': 1L, 'zzz_lenin': 4L, 'took': 1L, 'zzz_lyndon_johnson': 1L, 'minister': 1L, 'conceded': 1L, 'russian': 2L, 'highest': 1L, 'ceremonies': 1L, 'zzz_russian': 5L, 'bodyguard': 1L, 'toppling': 1L, 'word': 2L, 'succeeded': 1L, 'straight': 1L, 'official': 2L, 'refusing': 1L, 'politic': 1L, 'remain': 1L, 'future': 1L, 'supposed': 1L, 'iron': 1L, 'country': 1L, 'seamlessly': 1L, 'electrifying': 1L, 'zzz_holding': 1L, 'history': 3L, 'real': 1L, 'ritual': 1L, 'embarrassing': 1L, 'sight': 1L, 'clip': 1L, 'played': 1L, 'dacha': 1L, 'turned': 1L, 'shrewd': 1L, 'unveiled': 1L, 'ready': 1L, 'seen': 2L, 'leaving': 1L, 'surgery': 1L, 'viewed': 1L, 'sycophant': 1L, 'hound': 1L, 'democracy': 1L, 'deserves': 1L, 'prime': 1L, 'seeking': 1L, 'administration': 1L, 'feature': 1L, 'prism': 1L, 'role': 1L, 'party': 1L, 'experienced': 1L, 'tried': 1L, 'opposite': 1L, 'uprising': 1L, 'defy': 1L, 'soldier': 1L, 'loyalty': 1L, 'zzz_moscow': 1L, 'corruption': 1L, 'moment': 2L, 'purpose': 1L, 'scores': 1L, 'date': 1L, 'president': 1L, 'misjudgment': 1L, 'flourish': 1L, 'recent': 1L, 'ago': 1L, 'realized': 1L, 'crackdown': 1L, 'theater': 1L, 'surprising': 1L, 'seize': 1L, 'charges': 1L, 'republic': 1L, 'clear': 2L, 'popularity': 1L, 'steady': 1L, 'rule': 1L, 'face': 1L, 'clean': 1L, 'tenure': 1L, 'soviet': 3L, 'crafty': 1L, 'left': 2L}, {'rating': 1L, 'excessive': 1L, 'chinese': 1L, 'summer': 1L, 'german': 1L, 'money': 2L, 'distribute': 1L, 'terrorist': 1L, 'installed': 2L, 'embezzlement': 1L, 'held': 1L, 'radio': 1L, 'mansion': 1L, 'shot': 1L, 'rough': 1L, 'find': 1L, 'decade': 1L, 'conjure': 1L, 'mounted': 1L, 'group': 1L, 'trigger': 1L, 'associates': 1L, 'raid': 1L, 'young': 1L, 'arrest': 2L, 'air': 1L, 'believing': 1L, 'presidential': 1L, 'fade': 1L, 'citizen': 1L, 'speaker': 1L, 'criminal': 2L, 'decades': 1L, 'earthquakes': 1L, 'gave': 1L, 'colleague': 1L, 'sound': 2L, 'executive': 1L, 'ensued': 1L, 'government': 2L, 'beat': 1L, 'chancellor': 1L, 'dan': 1L, 'multimillionaire': 1L, 'kind': 1L, 'engineered': 1L, 'coast': 2L, 'early': 2L, 'fraud': 1L, 'injuring': 1L, 'nearly': 1L, 'network': 1L, 'judge': 1L, 'stabbed': 1L, 'continued': 1L, 'fled': 1L, 'bank': 2L, 'deny': 1L, 'term': 1L, 'impresario': 1L, 'lavish': 1L, 'zzz_beatle': 2L, 'arrested': 1L, 'gun': 3L, 'indisputable': 1L, 'morning': 1L, 'collect': 1L, 'bad': 2L, 'surging': 1L, 'red': 1L, 'witches': 1L, 'found': 2L, 'blared': 1L, 'quarter': 1L, 'stiffer': 1L, 'patron': 1L, 'vision': 1L, 'zzz_san_francisco': 1L, 'newspaper': 1L, 'declared': 1L, 'disaster': 1L, 'throwing': 1L, 'testing': 1L, 'light': 1L, 'zzz_bradley': 1L, 'past': 1L, 'meted': 1L, 'doubt': 1L, 'entering': 1L, 'home': 1L, 'empire': 1L, 'sport': 1L, 'matching': 1L, 'spasm': 1L, 'taunted': 1L, 'poll': 1L, 'jewelry': 1L, 'matter': 3L, 'zzz_erik_eckholm': 1L, 'movie': 1L, 'noon': 1L, 'wail': 1L, 'attracted': 2L, 'investigation': 2L, 'impending': 1L, 'routine': 1L, 'learned': 1L, 'zzz_germany': 1L, 'zzz_new_hampshire': 1L, 'movement': 2L, 'attention': 2L, 'run': 1L, 'ability': 1L, 'business': 1L, 'zzz_falun_gong': 1L, 'confusion': 1L, 'million': 7L, 'reported': 1L, 'job': 2L, 'china': 1L, 'intruder': 1L, 'violation': 1L, 'latest': 1L, 'cult': 1L, 'cities': 2L, 'throw': 1L, 'received': 1L, 'dates': 1L, 'live': 1L, 'zzz_hubert_herring': 1L, 'zzz_texas_gov_george_bush': 1L, 'violence': 2L, 'guilty': 2L, 'quiet': 1L, 'nightclub': 1L, 'fired': 1L, 'resulting': 1L, 'barry': 1L, 'unwanted': 1L, 'contribution': 1L, 'slightly': 1L, 'comes': 1L, 'chest': 1L, 'collecting': 1L, 'theoretically': 1L, 'resurrected': 1L, 'slipped': 1L, 'point': 2L, 'wall': 1L, 'political': 1L, 'sign': 2L, 'primary': 1L, 'peer': 1L, 'follower': 1L, 'lung': 1L, 'parties': 1L, 'friend': 1L, 'loaded': 1L, 'message': 1L, 'total': 1L, 'open': 1L, 'depicting': 1L, 'zzz_mccain': 1L, 'utility': 1L, 'conference': 1L, 'strong': 1L, 'zzz_manhattan': 1L, 'jet': 1L, 'illegal': 2L, 'zzz_beijing': 1L, 'wad': 1L, 'question': 2L, 'system': 4L, 'earthquake': 1L, 'secret': 1L, 'station': 1L, 'spiritual': 1L, 'low': 1L, 'vehicle': 1L, 'jane': 1L, 'zzz_chancellor_helmut_kohl': 1L, 'john': 1L, 'tell': 1L, 'prosecutor': 1L, 'prone': 1L, 'possession': 1L, 'zzz_jennifer_lopez': 2L, 'inevitable': 1L, 'murder': 2L, 'controlled': 1L, 'ranging': 1L, 'mushroom': 1L, 'drapes': 1L, 'club': 1L, 'attempted': 1L, 'prison': 2L, 'took': 1L, 'sales': 1L, 'fund': 3L, 'cloud': 1L, 'surgeon': 1L, 'broke': 1L, 'charged': 2L, 'zzz_beatles': 1L, 'episode': 1L, 'reunification': 1L, 'photograph': 1L, 'raising': 1L, 'town': 2L, 'zzz_london': 1L, 'account': 1L, 'stolen': 1L, 'fur': 1L, 'look': 1L, 'zzz_comb': 8L, 'challenger': 2L, 'bodyguard': 1L, 'car': 1L, 'require': 1L, 'beg': 1L, 'final': 1L, 'record': 2L, 'echoes': 1L, 'warning': 1L, 'defendant': 1L, 'visit': 1L, 'zzz_george_harrison': 3L, 'zzz_sen_bill_bradley': 1L, 'led': 1L, 'similar': 1L, 'zzz_kohl': 3L, 'strongly': 1L, 'hip': 1L, 'frightened': 1L, 'ran': 1L, 'zzz_puffy_comb': 1L, 'injury': 1L, 'zzz_cold_war': 2L, 'surprisingly': 1L, 'tad': 1L, 'woman': 1L, 'terrifying': 1L, 'rap': 2L, 'sentences': 3L, 'need': 1L, 'relic': 2L, 'organizer': 1L, 'recover': 1L, 'attract': 1L, 'simple': 1L, 'chase': 1L, 'zzz_baltimore': 1L, 'siren': 5L, 'annoying': 1L, 'allegedly': 1L, 'democracy': 1L, 'bystander': 1L, 'demonstration': 1L, 'sending': 1L, 'zzz_olivia': 1L, 'member': 2L, 'started': 1L, 'high': 1L, 'role': 1L, 'angered': 1L, 'hop': 1L, 'big': 1L, 'test': 4L, 'performance': 1L, 'attack': 1L, 'dominance': 1L, 'zzz_sen_john_mccain': 1L, 'zzz_soviet': 1L, 'obsessed': 1L, 'harsh': 1L, 'driver': 1L, 'evil': 1L, 'alert': 1L, 'compared': 1L, 'schoolchildren': 1L, 'authorities': 1L, 'climbing': 1L, 'pleaded': 1L, 'judgment': 1L, 'pull': 1L, 'ago': 1L, 'forever': 1L, 'shootout': 2L, 'natural': 1L, 'wife': 1L, 'zzz_edmund_andrew': 1L, 'pulled': 3L, 'weapon': 1L, 'zzz_al_gore': 1L, 'inquiry': 1L, 'season': 1L, 'face': 1L, 'mark': 1L, 'advocates': 1L, 'put': 1L, 'wounded': 1L, 'model': 1L, 'requirement': 1L, 'zzz_john_lennon': 1L, 'protege': 3L}, {'rating': 1L, 'excessive': 1L, 'chinese': 1L, 'summer': 1L, 'german': 1L, 'money': 2L, 'distribute': 1L, 'terrorist': 1L, 'installed': 2L, 'embezzlement': 1L, 'held': 1L, 'radio': 1L, 'mansion': 1L, 'shot': 1L, 'rough': 1L, 'find': 1L, 'decade': 1L, 'conjure': 1L, 'mounted': 1L, 'group': 1L, 'trigger': 1L, 'associates': 1L, 'raid': 1L, 'young': 1L, 'arrest': 2L, 'air': 1L, 'believing': 1L, 'presidential': 1L, 'fade': 1L, 'citizen': 1L, 'speaker': 1L, 'criminal': 2L, 'decades': 1L, 'earthquakes': 1L, 'gave': 1L, 'colleague': 1L, 'sound': 2L, 'executive': 1L, 'ensued': 1L, 'government': 2L, 'beat': 1L, 'chancellor': 1L, 'dan': 1L, 'multimillionaire': 1L, 'kind': 1L, 'engineered': 1L, 'coast': 2L, 'early': 2L, 'fraud': 1L, 'injuring': 1L, 'nearly': 1L, 'network': 1L, 'judge': 1L, 'stabbed': 1L, 'continued': 1L, 'fled': 1L, 'bank': 2L, 'deny': 1L, 'term': 1L, 'impresario': 1L, 'lavish': 1L, 'zzz_beatle': 2L, 'arrested': 1L, 'gun': 3L, 'indisputable': 1L, 'morning': 1L, 'collect': 1L, 'bad': 2L, 'surging': 1L, 'red': 1L, 'witches': 1L, 'found': 2L, 'blared': 1L, 'quarter': 1L, 'stiffer': 1L, 'patron': 1L, 'vision': 1L, 'zzz_san_francisco': 1L, 'newspaper': 1L, 'declared': 1L, 'disaster': 1L, 'throwing': 1L, 'testing': 1L, 'light': 1L, 'zzz_bradley': 1L, 'past': 1L, 'meted': 1L, 'doubt': 1L, 'entering': 1L, 'home': 1L, 'empire': 1L, 'sport': 1L, 'matching': 1L, 'spasm': 1L, 'taunted': 1L, 'poll': 1L, 'jewelry': 1L, 'matter': 3L, 'zzz_erik_eckholm': 1L, 'movie': 1L, 'noon': 1L, 'wail': 1L, 'attracted': 2L, 'investigation': 2L, 'impending': 1L, 'routine': 1L, 'learned': 1L, 'zzz_germany': 1L, 'zzz_new_hampshire': 1L, 'movement': 2L, 'attention': 2L, 'run': 1L, 'ability': 1L, 'business': 1L, 'zzz_falun_gong': 1L, 'confusion': 1L, 'million': 7L, 'reported': 1L, 'job': 2L, 'china': 1L, 'intruder': 1L, 'violation': 1L, 'latest': 1L, 'cult': 1L, 'cities': 2L, 'throw': 1L, 'received': 1L, 'dates': 1L, 'live': 1L, 'zzz_hubert_herring': 1L, 'zzz_texas_gov_george_bush': 1L, 'violence': 2L, 'guilty': 2L, 'quiet': 1L, 'nightclub': 1L, 'fired': 1L, 'resulting': 1L, 'barry': 1L, 'unwanted': 1L, 'contribution': 1L, 'slightly': 1L, 'comes': 1L, 'chest': 1L, 'collecting': 1L, 'theoretically': 1L, 'resurrected': 1L, 'slipped': 1L, 'point': 2L, 'wall': 1L, 'political': 1L, 'sign': 2L, 'primary': 1L, 'peer': 1L, 'follower': 1L, 'lung': 1L, 'parties': 1L, 'friend': 1L, 'loaded': 1L, 'message': 1L, 'total': 1L, 'open': 1L, 'depicting': 1L, 'zzz_mccain': 1L, 'utility': 1L, 'conference': 1L, 'strong': 1L, 'zzz_manhattan': 1L, 'jet': 1L, 'illegal': 2L, 'zzz_beijing': 1L, 'wad': 1L, 'question': 2L, 'system': 4L, 'earthquake': 1L, 'secret': 1L, 'station': 1L, 'spiritual': 1L, 'low': 1L, 'vehicle': 1L, 'jane': 1L, 'zzz_chancellor_helmut_kohl': 1L, 'john': 1L, 'tell': 1L, 'prosecutor': 1L, 'prone': 1L, 'possession': 1L, 'zzz_jennifer_lopez': 2L, 'inevitable': 1L, 'murder': 2L, 'controlled': 1L, 'ranging': 1L, 'mushroom': 1L, 'drapes': 1L, 'club': 1L, 'attempted': 1L, 'prison': 2L, 'took': 1L, 'sales': 1L, 'fund': 3L, 'cloud': 1L, 'surgeon': 1L, 'broke': 1L, 'charged': 2L, 'zzz_beatles': 1L, 'episode': 1L, 'reunification': 1L, 'photograph': 1L, 'raising': 1L, 'town': 2L, 'zzz_london': 1L, 'account': 1L, 'stolen': 1L, 'fur': 1L, 'look': 1L, 'zzz_comb': 8L, 'challenger': 2L, 'bodyguard': 1L, 'car': 1L, 'require': 1L, 'beg': 1L, 'final': 1L, 'record': 2L, 'echoes': 1L, 'warning': 1L, 'defendant': 1L, 'visit': 1L, 'zzz_george_harrison': 3L, 'zzz_sen_bill_bradley': 1L, 'led': 1L, 'similar': 1L, 'zzz_kohl': 3L, 'strongly': 1L, 'hip': 1L, 'frightened': 1L, 'ran': 1L, 'zzz_puffy_comb': 1L, 'injury': 1L, 'zzz_cold_war': 2L, 'surprisingly': 1L, 'tad': 1L, 'woman': 1L, 'terrifying': 1L, 'rap': 2L, 'sentences': 3L, 'need': 1L, 'relic': 2L, 'organizer': 1L, 'recover': 1L, 'attract': 1L, 'simple': 1L, 'chase': 1L, 'zzz_baltimore': 1L, 'siren': 5L, 'annoying': 1L, 'allegedly': 1L, 'democracy': 1L, 'bystander': 1L, 'demonstration': 1L, 'sending': 1L, 'zzz_olivia': 1L, 'member': 2L, 'started': 1L, 'high': 1L, 'role': 1L, 'angered': 1L, 'hop': 1L, 'big': 1L, 'test': 4L, 'performance': 1L, 'attack': 1L, 'dominance': 1L, 'zzz_sen_john_mccain': 1L, 'zzz_soviet': 1L, 'obsessed': 1L, 'harsh': 1L, 'driver': 1L, 'evil': 1L, 'alert': 1L, 'compared': 1L, 'schoolchildren': 1L, 'authorities': 1L, 'climbing': 1L, 'pleaded': 1L, 'judgment': 1L, 'pull': 1L, 'ago': 1L, 'forever': 1L, 'shootout': 2L, 'natural': 1L, 'wife': 1L, 'zzz_edmund_andrew': 1L, 'pulled': 3L, 'weapon': 1L, 'zzz_al_gore': 1L, 'inquiry': 1L, 'season': 1L, 'face': 1L, 'mark': 1L, 'advocates': 1L, 'put': 1L, 'wounded': 1L, 'model': 1L, 'requirement': 1L, 'zzz_john_lennon': 1L, 'protege': 3L}, {'coup': 3L, 'zzz_huntington': 1L, 'pates': 1L, 'caused': 1L, 'stability': 1L, 'known': 1L, 'nefarious': 1L, 'deadline': 1L, 'left': 1L, 'bail': 3L, 'mayor': 1L, 'contaminated': 2L, 'tore': 1L, 'candidate': 1L, 'zzz_ministry': 1L, 'bypass': 1L, 'mishandling': 1L, 'zzz_senate': 1L, 'customer': 1L, 'government': 1L, 'food': 1L, 'big': 1L, 'internet': 2L, 'trees': 1L, 'damages': 1L, 'historic': 1L, 'grid': 1L, 'recipient': 2L, 'killed': 1L, 'easily': 1L, 'hour': 1L, 'james': 1L, 'shock': 1L, 'zzz_lee': 4L, 'miles': 1L, 'notifying': 1L, 'victory': 2L, 'found': 1L, 'security': 2L, 'quarter': 1L, 'precaution': 1L, 'referred': 1L, 'zzz_newark': 1L, 'declared': 1L, 'set': 1L, 'force': 1L, 'achieved': 1L, 'plant': 1L, 'zzz_france': 5L, 'engaging': 1L, 'donald': 1L, 'computer': 1L, 'distributor': 1L, 'suzanne': 1L, 'insurance': 1L, 'voluntary': 1L, 'nuclear': 1L, 'denied': 1L, 'flooding': 1L, 'evaluation': 1L, 'leader': 1L, 'zzz_wen_ho_lee': 1L, 'ripped': 1L, 'disputed': 1L, 'creating': 1L, 'nationwide': 1L, 'exchange': 1L, 'million': 1L, 'zzz_d_artagnan': 1L, 'refused': 1L, 'downloaded': 1L, 'french': 1L, 'ask': 1L, 'zzz_bedie': 1L, 'repairing': 1L, 'zzz_n_j': 1L, 'zzz_communication': 1L, 'defense': 1L, 'tapes': 1L, 'met': 1L, 'successes': 1L, 'country': 1L, 'sensitive': 1L, 'zzz_n_y': 1L, 'loudly': 1L, 'figures': 1L, 'act': 1L, 'action': 1L, 'military': 1L, 'delete': 1L, 'repair': 1L, 'truffled': 1L, 'simple': 1L, 'merely': 1L, 'retailer': 1L, 'hearing': 2L, 'included': 1L, 'zzz_marian_burros': 1L, 'reached': 1L, 'total': 1L, 'armed': 1L, 'announced': 1L, 'toppled': 1L, 'quality': 1L, 'secret': 2L, 'noting': 1L, 'low': 1L, 'storm': 4L, 'zzz_welfare': 3L, 'war': 1L, 'prosecutor': 2L, 'files': 1L, 'billion': 1L, 'turned': 1L, 'company': 4L, 'took': 1L, 'released': 1L, 'part': 1L, 'recalled': 1L, 'adult': 1L, 'nonviolent': 1L, 'effort': 1L, 'independence': 1L, 'case': 1L, 'zzz_ivory_coast': 2L, 'looting': 1L, 'showed': 1L, 'avalanches': 1L, 'recall': 3L, 'terrines': 1L, 'likely': 1L, 'roof': 1L, 'preparation': 1L, 'cost': 1L, 'zzz_africa': 2L, 'monument': 1L, 'aid': 1L, 'devious': 1L, 'ousted': 1L, 'called': 4L, 'zzz_versailles': 1L, 'mini': 1L, 'ordered': 1L, 'palace': 1L, 'division': 1L, 'history': 1L, 'surface': 1L, 'evidence': 1L, 'high': 1L, 'gale': 1L, 'critic': 1L, 'sought': 1L, 'sees': 1L, 'huge': 1L, 'damaged': 1L, 'open': 1L, 'trial': 1L, 'deadly': 1L, 'damage': 2L, 'junta': 1L, 'potentially': 1L, 'luxury': 1L, 'forces': 1L, 'zzz_frances': 1L, 'listeria': 1L, 'thousand': 2L, 'zzz_europe': 2L, 'product': 2L, 'electric': 1L, 'prosperity': 1L, 'soldier': 1L, 'reach': 1L, 'lab': 2L, 'scientist': 2L, 'catalog': 1L, 'zzz_new_york_city_mayor_rudolph_giuliani': 1L, 'ethnic': 1L, 'peppercorn': 1L, 'wind': 1L, 'spree': 1L, 'data': 1L, 'ago': 1L, 'especially': 1L, 'largely': 1L, 'considered': 1L, 'weapon': 1L, 'bacterium': 1L, 'chief': 1L, 'zzz_culture': 1L, 'pay': 1L, 'model': 1L, 'usual': 1L, 'counted': 1L, 'zzz_los_alamos_national_laboratory': 1L, 'zzz_los_alamos': 1L}, {'coup': 3L, 'zzz_huntington': 1L, 'pates': 1L, 'caused': 1L, 'stability': 1L, 'known': 1L, 'nefarious': 1L, 'deadline': 1L, 'left': 1L, 'bail': 3L, 'mayor': 1L, 'contaminated': 2L, 'tore': 1L, 'candidate': 1L, 'zzz_ministry': 1L, 'bypass': 1L, 'mishandling': 1L, 'zzz_senate': 1L, 'customer': 1L, 'government': 1L, 'food': 1L, 'big': 1L, 'internet': 2L, 'trees': 1L, 'damages': 1L, 'historic': 1L, 'grid': 1L, 'recipient': 2L, 'killed': 1L, 'easily': 1L, 'hour': 1L, 'james': 1L, 'shock': 1L, 'zzz_lee': 4L, 'miles': 1L, 'notifying': 1L, 'victory': 2L, 'found': 1L, 'security': 2L, 'quarter': 1L, 'precaution': 1L, 'referred': 1L, 'zzz_newark': 1L, 'declared': 1L, 'set': 1L, 'force': 1L, 'achieved': 1L, 'plant': 1L, 'zzz_france': 5L, 'engaging': 1L, 'donald': 1L, 'computer': 1L, 'distributor': 1L, 'suzanne': 1L, 'insurance': 1L, 'voluntary': 1L, 'nuclear': 1L, 'denied': 1L, 'flooding': 1L, 'evaluation': 1L, 'leader': 1L, 'zzz_wen_ho_lee': 1L, 'ripped': 1L, 'disputed': 1L, 'creating': 1L, 'nationwide': 1L, 'exchange': 1L, 'million': 1L, 'zzz_d_artagnan': 1L, 'refused': 1L, 'downloaded': 1L, 'french': 1L, 'ask': 1L, 'zzz_bedie': 1L, 'repairing': 1L, 'zzz_n_j': 1L, 'zzz_communication': 1L, 'defense': 1L, 'tapes': 1L, 'met': 1L, 'successes': 1L, 'country': 1L, 'sensitive': 1L, 'zzz_n_y': 1L, 'loudly': 1L, 'figures': 1L, 'act': 1L, 'action': 1L, 'military': 1L, 'delete': 1L, 'repair': 1L, 'truffled': 1L, 'simple': 1L, 'merely': 1L, 'retailer': 1L, 'hearing': 2L, 'included': 1L, 'zzz_marian_burros': 1L, 'reached': 1L, 'total': 1L, 'armed': 1L, 'announced': 1L, 'toppled': 1L, 'quality': 1L, 'secret': 2L, 'noting': 1L, 'low': 1L, 'storm': 4L, 'zzz_welfare': 3L, 'war': 1L, 'prosecutor': 2L, 'files': 1L, 'billion': 1L, 'turned': 1L, 'company': 4L, 'took': 1L, 'released': 1L, 'part': 1L, 'recalled': 1L, 'adult': 1L, 'nonviolent': 1L, 'effort': 1L, 'independence': 1L, 'case': 1L, 'zzz_ivory_coast': 2L, 'looting': 1L, 'showed': 1L, 'avalanches': 1L, 'recall': 3L, 'terrines': 1L, 'likely': 1L, 'roof': 1L, 'preparation': 1L, 'cost': 1L, 'zzz_africa': 2L, 'monument': 1L, 'aid': 1L, 'devious': 1L, 'ousted': 1L, 'called': 4L, 'zzz_versailles': 1L, 'mini': 1L, 'ordered': 1L, 'palace': 1L, 'division': 1L, 'history': 1L, 'surface': 1L, 'evidence': 1L, 'high': 1L, 'gale': 1L, 'critic': 1L, 'sought': 1L, 'sees': 1L, 'huge': 1L, 'damaged': 1L, 'open': 1L, 'trial': 1L, 'deadly': 1L, 'damage': 2L, 'junta': 1L, 'potentially': 1L, 'luxury': 1L, 'forces': 1L, 'zzz_frances': 1L, 'listeria': 1L, 'thousand': 2L, 'zzz_europe': 2L, 'product': 2L, 'electric': 1L, 'prosperity': 1L, 'soldier': 1L, 'reach': 1L, 'lab': 2L, 'scientist': 2L, 'catalog': 1L, 'zzz_new_york_city_mayor_rudolph_giuliani': 1L, 'ethnic': 1L, 'peppercorn': 1L, 'wind': 1L, 'spree': 1L, 'data': 1L, 'ago': 1L, 'especially': 1L, 'largely': 1L, 'considered': 1L, 'weapon': 1L, 'bacterium': 1L, 'chief': 1L, 'zzz_culture': 1L, 'pay': 1L, 'model': 1L, 'usual': 1L, 'counted': 1L, 'zzz_los_alamos_national_laboratory': 1L, 'zzz_los_alamos': 1L}, {'selection': 1L, 'help': 1L, 'sentence': 1L, 'zzz_chairman': 1L, 'consent': 2L, 'executive': 1L, 'rest': 1L, 'reviewed': 1L, 'cottage': 1L, 'manager': 2L, 'zzz_new_york': 1L, 'carefully': 2L, 'follow': 1L, 'wage': 1L, 'hurry': 1L, 'personal': 1L, 'purport': 1L, 'writing': 1L, 'passive': 1L, 'analytic': 1L, 'governmental': 1L, 'convoluted': 1L, 'easy': 1L, 'developed': 1L, 'integrate': 2L, 'easier': 1L, 'crucial': 1L, 'greater': 1L, 'read': 2L, 'advocate': 1L, 'slicing': 1L, 'increases': 1L, 'qualified': 1L, 'decide': 1L, 'ambition': 1L, 'average': 1L, 'difference': 1L, 'discuss': 1L, 'bigger': 1L, 'entire': 1L, 'term': 1L, 'effectiveness': 1L, 'companies': 3L, 'summary': 2L, 'turgid': 1L, 'withdrawal': 3L, 'stock': 2L, 'experiences': 3L, 'prospectus': 1L, 'consultant': 2L, 'right': 2L, 'determine': 1L, 'pronoun': 1L, 'direct': 1L, 'past': 1L, 'growth': 3L, 'perspective': 1L, 'sustaining': 1L, 'investment': 1L, 'philosophy': 1L, 'subject': 1L, 'aim': 1L, 'capacity': 1L, 'parent': 2L, 'expert': 1L, 'investing': 1L, 'sum': 1L, 'interference': 1L, 'integrative': 1L, 'creative': 1L, 'increase': 1L, 'contained': 1L, 'capital': 1L, 'approach': 1L, 'public': 1L, 'contrast': 1L, 'common': 1L, 'zzz_texaco': 2L, 'stamping': 1L, 'business': 2L, 'importance': 1L, 'guardian': 2L, 'sprung': 1L, 'interfere': 1L, 'complicated': 1L, 'proxy': 2L, 'highlight': 1L, 'active': 1L, 'relating': 1L, 'standard': 1L, 'beginning': 1L, 'simpler': 1L, 'faced': 1L, 'language': 4L, 'getting': 1L, 'technical': 1L, 'industry': 2L, 'david': 1L, 'turn': 1L, 'american': 1L, 'wrote': 1L, 'opinion': 1L, 'zzz_gale': 1L, 'consulting': 1L, 'letter': 2L, 'revenue': 1L, 'simple': 1L, 'zzz_marketing': 4L, 'thereof': 1L, 'primarily': 2L, 'vote': 1L, 'impossible': 1L, 'offered': 2L, 'earning': 1L, 'instill': 1L, 'strong': 1L, 'start': 3L, 'leading': 1L, 'strategy': 1L, 'zzz_securities': 2L, 'handbook': 1L, 'statement': 2L, 'basic': 1L, 'war': 1L, 'minor': 3L, 'firm': 1L, 'zzz_exchange_commission': 2L, 'complete': 1L, 'offer': 1L, 'company': 4L, 'fund': 6L, 'part': 2L, 'understand': 1L, 'brochure': 1L, 'synergistic': 1L, 'dicing': 1L, 'believe': 1L, 'effort': 1L, 'sound': 1L, 'account': 1L, 'look': 2L, 'plain': 3L, 'zzz_rutgers_university': 1L, 'matter': 1L, 'simplifying': 1L, 'making': 1L, 'buzzword': 1L, 'detailed': 1L, 'century': 1L, 'reader': 1L, 'manner': 1L, 'sentences': 1L, 'need': 1L, 'zzz_peter_bijur': 1L, 'seek': 2L, 'attach': 1L, 'information': 2L, 'mutual': 3L, 'practices': 1L, 'doctor': 1L, 'cumulative': 1L, 'ideas': 3L, 'zzz_sec': 1L, 'field': 2L, 'entirety': 1L, 'potential': 1L, 'department': 1L, 'performance': 1L, 'document': 4L, 'zzz_siegel': 1L, 'privileged': 1L, 'toughest': 1L, 'draw': 3L, 'samples': 1L, 'hand': 2L, 'simplify': 1L, 'important': 1L, 'shareholder': 1L, 'plan': 2L, 'plenty': 1L, 'urges': 1L, 'recent': 1L, 'short': 1L, 'appreciation': 1L, 'professor': 1L, 'legalese': 1L, 'chief': 1L, 'verb': 1L, 'deposit': 3L, 'fundamental': 1L, 'requires': 1L, 'order': 1L, 'meet': 1L}, {'selection': 1L, 'help': 1L, 'sentence': 1L, 'zzz_chairman': 1L, 'consent': 2L, 'executive': 1L, 'rest': 1L, 'reviewed': 1L, 'cottage': 1L, 'manager': 2L, 'zzz_new_york': 1L, 'carefully': 2L, 'follow': 1L, 'wage': 1L, 'hurry': 1L, 'personal': 1L, 'purport': 1L, 'writing': 1L, 'passive': 1L, 'analytic': 1L, 'governmental': 1L, 'convoluted': 1L, 'easy': 1L, 'developed': 1L, 'integrate': 2L, 'easier': 1L, 'crucial': 1L, 'greater': 1L, 'read': 2L, 'advocate': 1L, 'slicing': 1L, 'increases': 1L, 'qualified': 1L, 'decide': 1L, 'ambition': 1L, 'average': 1L, 'difference': 1L, 'discuss': 1L, 'bigger': 1L, 'entire': 1L, 'term': 1L, 'effectiveness': 1L, 'companies': 3L, 'summary': 2L, 'turgid': 1L, 'withdrawal': 3L, 'stock': 2L, 'experiences': 3L, 'prospectus': 1L, 'consultant': 2L, 'right': 2L, 'determine': 1L, 'pronoun': 1L, 'direct': 1L, 'past': 1L, 'growth': 3L, 'perspective': 1L, 'sustaining': 1L, 'investment': 1L, 'philosophy': 1L, 'subject': 1L, 'aim': 1L, 'capacity': 1L, 'parent': 2L, 'expert': 1L, 'investing': 1L, 'sum': 1L, 'interference': 1L, 'integrative': 1L, 'creative': 1L, 'increase': 1L, 'contained': 1L, 'capital': 1L, 'approach': 1L, 'public': 1L, 'contrast': 1L, 'common': 1L, 'zzz_texaco': 2L, 'stamping': 1L, 'business': 2L, 'importance': 1L, 'guardian': 2L, 'sprung': 1L, 'interfere': 1L, 'complicated': 1L, 'proxy': 2L, 'highlight': 1L, 'active': 1L, 'relating': 1L, 'standard': 1L, 'beginning': 1L, 'simpler': 1L, 'faced': 1L, 'language': 4L, 'getting': 1L, 'technical': 1L, 'industry': 2L, 'david': 1L, 'turn': 1L, 'american': 1L, 'wrote': 1L, 'opinion': 1L, 'zzz_gale': 1L, 'consulting': 1L, 'letter': 2L, 'revenue': 1L, 'simple': 1L, 'zzz_marketing': 4L, 'thereof': 1L, 'primarily': 2L, 'vote': 1L, 'impossible': 1L, 'offered': 2L, 'earning': 1L, 'instill': 1L, 'strong': 1L, 'start': 3L, 'leading': 1L, 'strategy': 1L, 'zzz_securities': 2L, 'handbook': 1L, 'statement': 2L, 'basic': 1L, 'war': 1L, 'minor': 3L, 'firm': 1L, 'zzz_exchange_commission': 2L, 'complete': 1L, 'offer': 1L, 'company': 4L, 'fund': 6L, 'part': 2L, 'understand': 1L, 'brochure': 1L, 'synergistic': 1L, 'dicing': 1L, 'believe': 1L, 'effort': 1L, 'sound': 1L, 'account': 1L, 'look': 2L, 'plain': 3L, 'zzz_rutgers_university': 1L, 'matter': 1L, 'simplifying': 1L, 'making': 1L, 'buzzword': 1L, 'detailed': 1L, 'century': 1L, 'reader': 1L, 'manner': 1L, 'sentences': 1L, 'need': 1L, 'zzz_peter_bijur': 1L, 'seek': 2L, 'attach': 1L, 'information': 2L, 'mutual': 3L, 'practices': 1L, 'doctor': 1L, 'cumulative': 1L, 'ideas': 3L, 'zzz_sec': 1L, 'field': 2L, 'entirety': 1L, 'potential': 1L, 'department': 1L, 'performance': 1L, 'document': 4L, 'zzz_siegel': 1L, 'privileged': 1L, 'toughest': 1L, 'draw': 3L, 'samples': 1L, 'hand': 2L, 'simplify': 1L, 'important': 1L, 'shareholder': 1L, 'plan': 2L, 'plenty': 1L, 'urges': 1L, 'recent': 1L, 'short': 1L, 'appreciation': 1L, 'professor': 1L, 'legalese': 1L, 'chief': 1L, 'verb': 1L, 'deposit': 3L, 'fundamental': 1L, 'requires': 1L, 'order': 1L, 'meet': 1L}, {'rating': 2L, 'passages': 1L, 'consider': 1L, 'represent': 1L, 'existing': 1L, 'selection': 1L, 'identify': 1L, 'zzz_certificates': 2L, 'disciples': 1L, 'eligible': 3L, 'iii': 2L, 'warrant': 1L, 'counsel': 1L, 'fall': 1L, 'applying': 1L, 'installed': 1L, 'procedures': 2L, 'condition': 2L, 'processes': 1L, 'list': 3L, 'identified': 1L, 'fewer': 1L, 'benefit': 1L, 'turgid': 1L, 'withdrawal': 1L, 'requirement': 1L, 'financial': 1L, 'series': 2L, 'hasn': 1L, 'related': 4L, 'computer': 5L, 'design': 1L, 'result': 1L, 'complete': 1L, 'respect': 3L, 'materially': 1L, 'subject': 1L, 'delivered': 2L, 'accomplish': 1L, 'zzz_lutz': 2L, 'written': 3L, 'supplier': 1L, 'insolvent': 1L, 'approach': 1L, 'warranties': 1L, 'trap': 1L, 'notice': 3L, 'run': 1L, 'business': 3L, 'selecting': 1L, 'deliver': 1L, 'agreement': 1L, 'completely': 1L, 'relating': 1L, 'hand': 1L, 'throw': 1L, 'improve': 1L, 'suggested': 1L, 'received': 1L, 'language': 1L, 'employees': 1L, 'amount': 1L, 'hopeless': 1L, 'opinion': 1L, 'asked': 2L, 'comes': 1L, 'breathtaking': 1L, 'clause': 2L, 'approximate': 1L, 'aggregate': 1L, 'utilized': 1L, 'simply': 1L, 'apply': 1L, 'zzz_account': 4L, 'receivable': 2L, 'dated': 1L, 'additional': 11L, 'addition': 4L, 'transfer': 2L, 'give': 1L, 'system': 4L, 'decode': 1L, 'needed': 2L, 'reduction': 1L, 'interest': 2L, 'assessment': 1L, 'inefficient': 1L, 'completed': 1L, 'delivery': 1L, 'automated': 2L, 'cases': 1L, 'careful': 1L, 'true': 1L, 'behalf': 1L, 'circumstances': 1L, 'account': 9L, 'word': 2L, 'plain': 1L, 'transferred': 1L, 'conveyance': 1L, 'believed': 1L, 'making': 1L, 'zzz_automatic': 1L, 'participation': 7L, 'force': 1L, 'receivables': 4L, 'outstanding': 2L, 'cited': 1L, 'talking': 1L, 'file': 2L, 'need': 1L, 'technology': 1L, 'trustee': 4L, 'date': 4L, 'goal': 1L, 'adverse': 1L, 'department': 2L, 'document': 1L, 'revision': 2L, 'provided': 3L, 'assignment': 4L, 'zzz_purchasing': 1L, 'designed': 1L, 'included': 1L, 'fervent': 1L, 'pool': 1L, 'representation': 1L}, {'rating': 2L, 'passages': 1L, 'consider': 1L, 'represent': 1L, 'existing': 1L, 'selection': 1L, 'identify': 1L, 'zzz_certificates': 2L, 'disciples': 1L, 'eligible': 3L, 'iii': 2L, 'warrant': 1L, 'counsel': 1L, 'fall': 1L, 'applying': 1L, 'installed': 1L, 'procedures': 2L, 'condition': 2L, 'processes': 1L, 'list': 3L, 'identified': 1L, 'fewer': 1L, 'benefit': 1L, 'turgid': 1L, 'withdrawal': 1L, 'requirement': 1L, 'financial': 1L, 'series': 2L, 'hasn': 1L, 'related': 4L, 'computer': 5L, 'design': 1L, 'result': 1L, 'complete': 1L, 'respect': 3L, 'materially': 1L, 'subject': 1L, 'delivered': 2L, 'accomplish': 1L, 'zzz_lutz': 2L, 'written': 3L, 'supplier': 1L, 'insolvent': 1L, 'approach': 1L, 'warranties': 1L, 'trap': 1L, 'notice': 3L, 'run': 1L, 'business': 3L, 'selecting': 1L, 'deliver': 1L, 'agreement': 1L, 'completely': 1L, 'relating': 1L, 'hand': 1L, 'throw': 1L, 'improve': 1L, 'suggested': 1L, 'received': 1L, 'language': 1L, 'employees': 1L, 'amount': 1L, 'hopeless': 1L, 'opinion': 1L, 'asked': 2L, 'comes': 1L, 'breathtaking': 1L, 'clause': 2L, 'approximate': 1L, 'aggregate': 1L, 'utilized': 1L, 'simply': 1L, 'apply': 1L, 'zzz_account': 4L, 'receivable': 2L, 'dated': 1L, 'additional': 11L, 'addition': 4L, 'transfer': 2L, 'give': 1L, 'system': 4L, 'decode': 1L, 'needed': 2L, 'reduction': 1L, 'interest': 2L, 'assessment': 1L, 'inefficient': 1L, 'completed': 1L, 'delivery': 1L, 'automated': 2L, 'cases': 1L, 'careful': 1L, 'true': 1L, 'behalf': 1L, 'circumstances': 1L, 'account': 9L, 'word': 2L, 'plain': 1L, 'transferred': 1L, 'conveyance': 1L, 'believed': 1L, 'making': 1L, 'zzz_automatic': 1L, 'participation': 7L, 'force': 1L, 'receivables': 4L, 'outstanding': 2L, 'cited': 1L, 'talking': 1L, 'file': 2L, 'need': 1L, 'technology': 1L, 'trustee': 4L, 'date': 4L, 'goal': 1L, 'adverse': 1L, 'department': 2L, 'document': 1L, 'revision': 2L, 'provided': 3L, 'assignment': 4L, 'zzz_purchasing': 1L, 'designed': 1L, 'included': 1L, 'fervent': 1L, 'pool': 1L, 'representation': 1L}, {'represent': 1L, 'executed': 1L, 'shot': 1L, 'consider': 1L, 'proposed': 1L, 'flesh': 5L, 'german': 1L, 'forbidden': 1L, 'supported': 1L, 'focus': 1L, 'zzz_u_s': 1L, 'beset': 1L, 'brain': 1L, 'mile': 1L, 'zzz_new_york': 1L, 'oven': 1L, 'agricultural': 1L, 'captain': 2L, 'brig': 1L, 'debate': 1L, 'phenomenon': 2L, 'dismaying': 1L, 'cow': 1L, 'cut': 4L, 'patches': 1L, 'propensity': 1L, 'thinking': 1L, 'ruin': 1L, 'bell': 1L, 'crew': 1L, 'culinary': 1L, 'spread': 1L, 'chewing': 1L, 'zzz_berkeley': 1L, 'bout': 1L, 'atavistic': 1L, 'decades': 1L, 'merely': 1L, 'limbo': 1L, 'southwest': 1L, 'lived': 1L, 'animal': 1L, 'myth': 3L, 'food': 2L, 'horror': 1L, 'advocate': 1L, 'assumed': 1L, 'nation': 1L, 'dark': 1L, 'despite': 1L, 'cook': 1L, 'zzz_california': 1L, 'accepted': 1L, 'falling': 1L, 'advanced': 1L, 'societies': 1L, 'desire': 1L, 'enemy': 1L, 'ancestor': 1L, 'showed': 1L, 'airman': 1L, 'course': 2L, 'issue': 1L, 'feast': 1L, 'remove': 1L, 'disbelief': 1L, 'try': 1L, 'book': 2L, 'form': 1L, 'burned': 2L, 'zzz_western_europe': 2L, 'found': 2L, 'beneath': 1L, 'river': 1L, 'summarily': 1L, 'noted': 1L, 'bone': 1L, 'referred': 1L, 'burial': 1L, 'delicately': 1L, 'revolution': 1L, 'accuser': 1L, 'challenged': 1L, 'acquired': 1L, 'house': 1L, 'reported': 1L, 'arouses': 1L, 'japanese': 1L, 'dead': 1L, 'past': 1L, 'strongest': 1L, 'countrymen': 1L, 'desperate': 1L, 'polish': 2L, 'close': 1L, 'operation': 1L, 'epithet': 1L, 'bizarre': 1L, 'concern': 1L, 'zzz_australia': 1L, 'neanderthal': 2L, 'expert': 1L, 'sun': 1L, 'cooking': 1L, 'washed': 1L, 'jocular': 1L, 'find': 1L, 'crush': 1L, 'mate': 1L, 'suspect': 1L, 'civilization': 1L, 'zzz_papua_new_guinea': 1L, 'nurse': 1L, 'numerous': 1L, 'method': 1L, 'oversized': 1L, 'refer': 1L, 'revealing': 1L, 'survivor': 2L, 'eating': 5L, 'belief': 1L, 'leg': 2L, 'routine': 1L, 'sole': 1L, 'pieces': 1L, 'french': 3L, 'broken': 1L, 'base': 1L, 'justify': 1L, 'instinct': 1L, 'skeleton': 1L, 'engaged': 1L, 'archaeologist': 2L, 'cabbage': 1L, 'extreme': 1L, 'central': 1L, 'consumption': 1L, 'zzz_n_m': 1L, 'met': 1L, 'study': 1L, 'ritual': 3L, 'guilty': 2L, 'sacrament': 1L, 'yarn': 1L, 'perhap': 1L, 'les': 1L, 'cradle': 1L, 'suggestion': 1L, 'social': 2L, 'intent': 1L, 'skepticism': 1L, 'shiny': 1L, 'terrorized': 1L, 'unconvincing': 1L, 'zzz_world_war_ii': 1L, 'zzz_paleolithic': 1L, 'natural': 1L, 'extremis': 1L, 'wall': 1L, 'question': 1L, 'pot': 3L, 'recycling': 1L, 'symbolic': 1L, 'zzz_garvey': 1L, 'disease': 1L, 'hopes': 1L, 'lies': 1L, 'moral': 1L, 'names': 1L, 'zzz_state_university': 2L, 'extinct': 1L, 'improvement': 1L, 'shipmates': 1L, 'horrid': 1L, 'doubtless': 2L, 'ancient': 1L, 'zzz_jeffrey_dahmer': 1L, 'resort': 1L, 'leading': 1L, 'support': 1L, 'century': 1L, 'paleoanthropologist': 1L, 'frog': 2L, 'mark': 1L, 'gig': 1L, 'macabre': 1L, 'doubt': 1L, 'zzz_arizona': 1L, 'died': 1L, 'heritage': 1L, 'show': 1L, 'captives': 1L, 'australian': 1L, 'participated': 1L, 'war': 1L, 'recovered': 1L, 'happy': 1L, 'zzz_arizona_state_university': 1L, 'institutionalized': 1L, 'hard': 1L, 'missionaries': 1L, 'repast': 1L, 'allegedly': 1L, 'historian': 1L, 'funerary': 1L, 'turned': 1L, 'mad': 1L, 'peaceful': 1L, 'fore': 1L, 'bold': 1L, 'part': 2L, 'grisly': 1L, 'zzz_france': 1L, 'folklore': 1L, 'muscles': 1L, 'known': 1L, 'zzz_nancy': 2L, 'zzz_tim_white': 2L, 'believe': 1L, 'convinced': 1L, 'eat': 2L, 'population': 1L, 'case': 2L, 'tide': 1L, 'account': 1L, 'circumstantial': 1L, 'zzz_victoria': 1L, 'skull': 1L, 'lament': 1L, 'rival': 1L, 'reliable': 1L, 'zzz_stony_brook': 1L, 'smooth': 1L, 'told': 1L, 'roof': 1L, 'preparation': 1L, 'remain': 3L, 'cannibal': 3L, 'zzz_aboriginal': 1L, 'supposed': 1L, 'behavior': 1L, 'magazine': 1L, 'radius': 1L, 'primitive': 2L, 'cracked': 1L, 'anthropologist': 1L, 'control': 1L, 'claim': 1L, 'headhunting': 1L, 'inhabited': 1L, 'expedition': 1L, 'taste': 1L, 'stripped': 1L, 'antithesis': 1L, 'modern': 1L, 'mind': 1L, 'site': 1L, 'deep': 1L, 'evidence': 3L, 'topic': 1L, 'consumed': 1L, 'critic': 1L, 'writes': 2L, 'fanciful': 1L, 'attributed': 1L, 'scavenger': 1L, 'bones': 6L, 'seen': 1L, 'zzz_rhone': 1L, 'species': 1L, 'influenced': 1L, 'zzz_christianity': 1L, 'cave': 1L, 'adversaries': 1L, 'rubbed': 1L, 'maligned': 1L, 'savor': 1L, 'zzz_aztec': 1L, 'belong': 1L, 'tip': 1L, 'american': 3L, 'dismissed': 2L, 'tight': 1L, 'relatives': 2L, 'strange': 1L, 'ogres': 1L, 'widely': 1L, 'peoples': 2L, 'finding': 2L, 'enemies': 1L, 'survival': 1L, 'dated': 1L, 'clear': 1L, 'practice': 2L, 'indian': 3L, 'zzz_central_african_republic': 1L, 'sacrifice': 2L, 'reporting': 1L, 'southern': 1L, 'polite': 1L, 'companion': 2L, 'reflect': 1L, 'regeneration': 1L, 'designed': 1L, 'echoes': 1L, 'buried': 1L, 'zzz_john_dower': 1L, 'marrow': 1L, 'revisionism': 1L, 'tongue': 1L, 'refrigerator': 1L, 'ago': 5L, 'zzz_anthropology': 2L, 'paradigm': 1L, 'practiced': 2L, 'closet': 1L, 'blood': 1L, 'possessed': 1L, 'domination': 1L, 'deer': 1L, 'zzz_anasazi': 5L, 'cooked': 1L, 'practices': 1L, 'mass': 1L, 'qualities': 1L, 'embracing': 1L, 'position': 1L, 'zzz_cannibalism': 14L, 'surface': 1L, 'liver': 1L}, {'represent': 1L, 'executed': 1L, 'shot': 1L, 'consider': 1L, 'proposed': 1L, 'flesh': 5L, 'german': 1L, 'forbidden': 1L, 'supported': 1L, 'focus': 1L, 'zzz_u_s': 1L, 'beset': 1L, 'brain': 1L, 'mile': 1L, 'zzz_new_york': 1L, 'oven': 1L, 'agricultural': 1L, 'captain': 2L, 'brig': 1L, 'debate': 1L, 'phenomenon': 2L, 'dismaying': 1L, 'cow': 1L, 'cut': 4L, 'patches': 1L, 'propensity': 1L, 'thinking': 1L, 'ruin': 1L, 'bell': 1L, 'crew': 1L, 'culinary': 1L, 'spread': 1L, 'chewing': 1L, 'zzz_berkeley': 1L, 'bout': 1L, 'atavistic': 1L, 'decades': 1L, 'merely': 1L, 'limbo': 1L, 'southwest': 1L, 'lived': 1L, 'animal': 1L, 'myth': 3L, 'food': 2L, 'horror': 1L, 'advocate': 1L, 'assumed': 1L, 'nation': 1L, 'dark': 1L, 'despite': 1L, 'cook': 1L, 'zzz_california': 1L, 'accepted': 1L, 'falling': 1L, 'advanced': 1L, 'societies': 1L, 'desire': 1L, 'enemy': 1L, 'ancestor': 1L, 'showed': 1L, 'airman': 1L, 'course': 2L, 'issue': 1L, 'feast': 1L, 'remove': 1L, 'disbelief': 1L, 'try': 1L, 'book': 2L, 'form': 1L, 'burned': 2L, 'zzz_western_europe': 2L, 'found': 2L, 'beneath': 1L, 'river': 1L, 'summarily': 1L, 'noted': 1L, 'bone': 1L, 'referred': 1L, 'burial': 1L, 'delicately': 1L, 'revolution': 1L, 'accuser': 1L, 'challenged': 1L, 'acquired': 1L, 'house': 1L, 'reported': 1L, 'arouses': 1L, 'japanese': 1L, 'dead': 1L, 'past': 1L, 'strongest': 1L, 'countrymen': 1L, 'desperate': 1L, 'polish': 2L, 'close': 1L, 'operation': 1L, 'epithet': 1L, 'bizarre': 1L, 'concern': 1L, 'zzz_australia': 1L, 'neanderthal': 2L, 'expert': 1L, 'sun': 1L, 'cooking': 1L, 'washed': 1L, 'jocular': 1L, 'find': 1L, 'crush': 1L, 'mate': 1L, 'suspect': 1L, 'civilization': 1L, 'zzz_papua_new_guinea': 1L, 'nurse': 1L, 'numerous': 1L, 'method': 1L, 'oversized': 1L, 'refer': 1L, 'revealing': 1L, 'survivor': 2L, 'eating': 5L, 'belief': 1L, 'leg': 2L, 'routine': 1L, 'sole': 1L, 'pieces': 1L, 'french': 3L, 'broken': 1L, 'base': 1L, 'justify': 1L, 'instinct': 1L, 'skeleton': 1L, 'engaged': 1L, 'archaeologist': 2L, 'cabbage': 1L, 'extreme': 1L, 'central': 1L, 'consumption': 1L, 'zzz_n_m': 1L, 'met': 1L, 'study': 1L, 'ritual': 3L, 'guilty': 2L, 'sacrament': 1L, 'yarn': 1L, 'perhap': 1L, 'les': 1L, 'cradle': 1L, 'suggestion': 1L, 'social': 2L, 'intent': 1L, 'skepticism': 1L, 'shiny': 1L, 'terrorized': 1L, 'unconvincing': 1L, 'zzz_world_war_ii': 1L, 'zzz_paleolithic': 1L, 'natural': 1L, 'extremis': 1L, 'wall': 1L, 'question': 1L, 'pot': 3L, 'recycling': 1L, 'symbolic': 1L, 'zzz_garvey': 1L, 'disease': 1L, 'hopes': 1L, 'lies': 1L, 'moral': 1L, 'names': 1L, 'zzz_state_university': 2L, 'extinct': 1L, 'improvement': 1L, 'shipmates': 1L, 'horrid': 1L, 'doubtless': 2L, 'ancient': 1L, 'zzz_jeffrey_dahmer': 1L, 'resort': 1L, 'leading': 1L, 'support': 1L, 'century': 1L, 'paleoanthropologist': 1L, 'frog': 2L, 'mark': 1L, 'gig': 1L, 'macabre': 1L, 'doubt': 1L, 'zzz_arizona': 1L, 'died': 1L, 'heritage': 1L, 'show': 1L, 'captives': 1L, 'australian': 1L, 'participated': 1L, 'war': 1L, 'recovered': 1L, 'happy': 1L, 'zzz_arizona_state_university': 1L, 'institutionalized': 1L, 'hard': 1L, 'missionaries': 1L, 'repast': 1L, 'allegedly': 1L, 'historian': 1L, 'funerary': 1L, 'turned': 1L, 'mad': 1L, 'peaceful': 1L, 'fore': 1L, 'bold': 1L, 'part': 2L, 'grisly': 1L, 'zzz_france': 1L, 'folklore': 1L, 'muscles': 1L, 'known': 1L, 'zzz_nancy': 2L, 'zzz_tim_white': 2L, 'believe': 1L, 'convinced': 1L, 'eat': 2L, 'population': 1L, 'case': 2L, 'tide': 1L, 'account': 1L, 'circumstantial': 1L, 'zzz_victoria': 1L, 'skull': 1L, 'lament': 1L, 'rival': 1L, 'reliable': 1L, 'zzz_stony_brook': 1L, 'smooth': 1L, 'told': 1L, 'roof': 1L, 'preparation': 1L, 'remain': 3L, 'cannibal': 3L, 'zzz_aboriginal': 1L, 'supposed': 1L, 'behavior': 1L, 'magazine': 1L, 'radius': 1L, 'primitive': 2L, 'cracked': 1L, 'anthropologist': 1L, 'control': 1L, 'claim': 1L, 'headhunting': 1L, 'inhabited': 1L, 'expedition': 1L, 'taste': 1L, 'stripped': 1L, 'antithesis': 1L, 'modern': 1L, 'mind': 1L, 'site': 1L, 'deep': 1L, 'evidence': 3L, 'topic': 1L, 'consumed': 1L, 'critic': 1L, 'writes': 2L, 'fanciful': 1L, 'attributed': 1L, 'scavenger': 1L, 'bones': 6L, 'seen': 1L, 'zzz_rhone': 1L, 'species': 1L, 'influenced': 1L, 'zzz_christianity': 1L, 'cave': 1L, 'adversaries': 1L, 'rubbed': 1L, 'maligned': 1L, 'savor': 1L, 'zzz_aztec': 1L, 'belong': 1L, 'tip': 1L, 'american': 3L, 'dismissed': 2L, 'tight': 1L, 'relatives': 2L, 'strange': 1L, 'ogres': 1L, 'widely': 1L, 'peoples': 2L, 'finding': 2L, 'enemies': 1L, 'survival': 1L, 'dated': 1L, 'clear': 1L, 'practice': 2L, 'indian': 3L, 'zzz_central_african_republic': 1L, 'sacrifice': 2L, 'reporting': 1L, 'southern': 1L, 'polite': 1L, 'companion': 2L, 'reflect': 1L, 'regeneration': 1L, 'designed': 1L, 'echoes': 1L, 'buried': 1L, 'zzz_john_dower': 1L, 'marrow': 1L, 'revisionism': 1L, 'tongue': 1L, 'refrigerator': 1L, 'ago': 5L, 'zzz_anthropology': 2L, 'paradigm': 1L, 'practiced': 2L, 'closet': 1L, 'blood': 1L, 'possessed': 1L, 'domination': 1L, 'deer': 1L, 'zzz_anasazi': 5L, 'cooked': 1L, 'practices': 1L, 'mass': 1L, 'qualities': 1L, 'embracing': 1L, 'position': 1L, 'zzz_cannibalism': 14L, 'surface': 1L, 'liver': 1L}, {'saying': 1L, 'phenomenon': 1L, 'show': 1L, 'increasingly': 1L, 'domestic': 1L, 'soon': 1L, 'profoundly': 1L, 'bring': 1L, 'zzz_u_n': 4L, 'zzz_canada': 1L, 'capitalism': 1L, 'citizenship': 3L, 'tempted': 1L, 'zzz_new_york': 1L, 'find': 2L, 'decade': 1L, 'surplus': 1L, 'style': 2L, 'believe': 1L, 'depend': 1L, 'turkish': 1L, 'thinking': 1L, 'demographic': 1L, 'unskilled': 1L, 'labor': 6L, 'languages': 1L, 'add': 1L, 'program': 1L, 'attractive': 1L, 'citizen': 1L, 'decades': 2L, 'worth': 1L, 'equilibrium': 1L, 'division': 1L, 'zzz_union': 3L, 'forces': 2L, 'food': 1L, 'big': 1L, 'socially': 1L, 'nation': 1L, 'early': 1L, 'answer': 1L, 'cultural': 1L, 'foretell': 1L, 'culturally': 1L, 'decide': 1L, 'import': 1L, 'racially': 1L, 'highly': 1L, 'societies': 3L, 'identity': 1L, 'severely': 1L, 'bar': 1L, 'semi': 1L, 'countries': 6L, 'level': 2L, 'debating': 1L, 'calling': 1L, 'large': 3L, 'demography': 1L, 'fertility': 1L, 'economically': 1L, 'replacement': 1L, 'overpopulated': 1L, 'force': 2L, 'idea': 2L, 'zzz_france': 2L, 'immigrant': 3L, 'society': 1L, 'thinker': 1L, 'computer': 1L, 'fewer': 1L, 'callousness': 1L, 'racial': 2L, 'emulating': 1L, 'zzz_australia': 1L, 'gross': 1L, 'zzz_european': 7L, 'scale': 2L, 'expert': 3L, 'unsettling': 1L, 'freer': 1L, 'unavoidable': 1L, 'weren': 1L, 'rod': 1L, 'waiting': 1L, 'corporate': 1L, 'millennium': 1L, 'zzz_american': 9L, 'surprise': 1L, 'zzz_germany': 2L, 'movement': 1L, 'full': 1L, 'business': 1L, 'million': 5L, 'superficial': 1L, 'pressure': 1L, 'job': 1L, 'concentrate': 1L, 'group': 1L, 'wanted': 1L, 'inevitable': 1L, 'change': 1L, 'care': 1L, 'naturalized': 1L, 'naturalization': 1L, 'language': 1L, 'getting': 1L, 'staked': 1L, 'invited': 2L, 'larger': 1L, 'foreign': 1L, 'published': 1L, 'zzz_united_states': 1L, 'military': 1L, 'geniuses': 1L, 'comes': 1L, 'politic': 1L, 'projection': 2L, 'ethnic': 2L, 'point': 2L, 'wall': 1L, 'skilled': 2L, 'number': 3L, 'rank': 1L, 'migrant': 2L, 'pop': 1L, 'rising': 1L, 'zzz_will_europe': 6L, 'maximize': 1L, 'dissenting': 1L, 'afield': 1L, 'zzz_americanization': 1L, 'quality': 1L, 'size': 1L, 'conference': 1L, 'decline': 1L, 'pensioner': 1L, 'guest': 1L, 'basis': 1L, 'question': 1L, 'fast': 2L, 'response': 1L, 'resentment': 2L, 'migrate': 1L, 'wonderful': 1L, 'slowly': 1L, 'declining': 1L, 'heritage': 1L, 'survive': 1L, 'meeting': 1L, 'store': 1L, 'larder': 1L, 'capita': 1L, 'prosperous': 1L, 'worker': 5L, 'immigration': 3L, 'gap': 1L, 'ended': 1L, 'tolerates': 1L, 'agreeable': 1L, 'demographer': 3L, 'cases': 1L, 'trying': 1L, 'shrunken': 1L, 'population': 2L, 'kind': 4L, 'word': 1L, 'look': 3L, 'places': 1L, 'culture': 2L, 'challenge': 3L, 'economies': 2L, 'triumphant': 1L, 'underclass': 1L, 'zzz_japan': 1L, 'cost': 1L, 'values': 1L, 'today': 1L, 'growing': 1L, 'distribution': 1L, 'feeling': 1L, 'agenda': 1L, 'migration': 5L, 'developing': 1L, 'nationalist': 1L, 'century': 1L, 'predict': 1L, 'share': 1L, 'zzz_gee': 1L, 'voices': 1L, 'high': 1L, 'importing': 1L, 'zzz_joseph_chamie': 2L, 'sense': 1L, 'need': 2L, 'zzz_india': 1L, 'linked': 1L, 'worse': 2L, 'ratio': 1L, 'sought': 1L, 'moves': 1L, 'productivity': 1L, 'goal': 3L, 'author': 1L, 'allow': 1L, 'european': 8L, 'erecting': 1L, 'minorities': 1L, 'machine': 1L, 'zzz_america': 2L, 'ideal': 1L, 'cling': 1L, 'zzz_wang': 1L, 'mass': 1L, 'fill': 1L, 'parameter': 1L, 'shrink': 1L, 'economy': 1L, 'product': 1L, 'babies': 1L, 'emulate': 1L, 'symbol': 1L, 'social': 2L, 'marginalized': 1L, 'effect': 1L, 'barricades': 1L, 'hand': 1L, 'director': 2L, 'running': 1L, 'traditionally': 1L, 'compete': 1L, 'coming': 1L, 'services': 1L, 'equitable': 1L, 'lightning': 1L, 'linguistic': 1L, 'structure': 1L, 'building': 1L, 'lower': 1L, 'intrusion': 1L, 'older': 2L, 'zzz_algerian': 1L, 'restricted': 1L, 'zzz_italy': 1L, 'differ': 1L, 'spent': 1L, 'face': 4L, 'traditional': 1L, 'logical': 1L, 'qualified': 1L, 'unchallenged': 1L, 'fundamental': 1L, 'swollen': 1L, 'zzz_silicon_valley': 1L, 'hear': 1L, 'model': 1L, 'democratic': 1L, 'diverse': 1L, 'preparing': 1L}, {'saying': 1L, 'phenomenon': 1L, 'show': 1L, 'increasingly': 1L, 'domestic': 1L, 'soon': 1L, 'profoundly': 1L, 'bring': 1L, 'zzz_u_n': 4L, 'zzz_canada': 1L, 'capitalism': 1L, 'citizenship': 3L, 'tempted': 1L, 'zzz_new_york': 1L, 'find': 2L, 'decade': 1L, 'surplus': 1L, 'style': 2L, 'believe': 1L, 'depend': 1L, 'turkish': 1L, 'thinking': 1L, 'demographic': 1L, 'unskilled': 1L, 'labor': 6L, 'languages': 1L, 'add': 1L, 'program': 1L, 'attractive': 1L, 'citizen': 1L, 'decades': 2L, 'worth': 1L, 'equilibrium': 1L, 'division': 1L, 'zzz_union': 3L, 'forces': 2L, 'food': 1L, 'big': 1L, 'socially': 1L, 'nation': 1L, 'early': 1L, 'answer': 1L, 'cultural': 1L, 'foretell': 1L, 'culturally': 1L, 'decide': 1L, 'import': 1L, 'racially': 1L, 'highly': 1L, 'societies': 3L, 'identity': 1L, 'severely': 1L, 'bar': 1L, 'semi': 1L, 'countries': 6L, 'level': 2L, 'debating': 1L, 'calling': 1L, 'large': 3L, 'demography': 1L, 'fertility': 1L, 'economically': 1L, 'replacement': 1L, 'overpopulated': 1L, 'force': 2L, 'idea': 2L, 'zzz_france': 2L, 'immigrant': 3L, 'society': 1L, 'thinker': 1L, 'computer': 1L, 'fewer': 1L, 'callousness': 1L, 'racial': 2L, 'emulating': 1L, 'zzz_australia': 1L, 'gross': 1L, 'zzz_european': 7L, 'scale': 2L, 'expert': 3L, 'unsettling': 1L, 'freer': 1L, 'unavoidable': 1L, 'weren': 1L, 'rod': 1L, 'waiting': 1L, 'corporate': 1L, 'millennium': 1L, 'zzz_american': 9L, 'surprise': 1L, 'zzz_germany': 2L, 'movement': 1L, 'full': 1L, 'business': 1L, 'million': 5L, 'superficial': 1L, 'pressure': 1L, 'job': 1L, 'concentrate': 1L, 'group': 1L, 'wanted': 1L, 'inevitable': 1L, 'change': 1L, 'care': 1L, 'naturalized': 1L, 'naturalization': 1L, 'language': 1L, 'getting': 1L, 'staked': 1L, 'invited': 2L, 'larger': 1L, 'foreign': 1L, 'published': 1L, 'zzz_united_states': 1L, 'military': 1L, 'geniuses': 1L, 'comes': 1L, 'politic': 1L, 'projection': 2L, 'ethnic': 2L, 'point': 2L, 'wall': 1L, 'skilled': 2L, 'number': 3L, 'rank': 1L, 'migrant': 2L, 'pop': 1L, 'rising': 1L, 'zzz_will_europe': 6L, 'maximize': 1L, 'dissenting': 1L, 'afield': 1L, 'zzz_americanization': 1L, 'quality': 1L, 'size': 1L, 'conference': 1L, 'decline': 1L, 'pensioner': 1L, 'guest': 1L, 'basis': 1L, 'question': 1L, 'fast': 2L, 'response': 1L, 'resentment': 2L, 'migrate': 1L, 'wonderful': 1L, 'slowly': 1L, 'declining': 1L, 'heritage': 1L, 'survive': 1L, 'meeting': 1L, 'store': 1L, 'larder': 1L, 'capita': 1L, 'prosperous': 1L, 'worker': 5L, 'immigration': 3L, 'gap': 1L, 'ended': 1L, 'tolerates': 1L, 'agreeable': 1L, 'demographer': 3L, 'cases': 1L, 'trying': 1L, 'shrunken': 1L, 'population': 2L, 'kind': 4L, 'word': 1L, 'look': 3L, 'places': 1L, 'culture': 2L, 'challenge': 3L, 'economies': 2L, 'triumphant': 1L, 'underclass': 1L, 'zzz_japan': 1L, 'cost': 1L, 'values': 1L, 'today': 1L, 'growing': 1L, 'distribution': 1L, 'feeling': 1L, 'agenda': 1L, 'migration': 5L, 'developing': 1L, 'nationalist': 1L, 'century': 1L, 'predict': 1L, 'share': 1L, 'zzz_gee': 1L, 'voices': 1L, 'high': 1L, 'importing': 1L, 'zzz_joseph_chamie': 2L, 'sense': 1L, 'need': 2L, 'zzz_india': 1L, 'linked': 1L, 'worse': 2L, 'ratio': 1L, 'sought': 1L, 'moves': 1L, 'productivity': 1L, 'goal': 3L, 'author': 1L, 'allow': 1L, 'european': 8L, 'erecting': 1L, 'minorities': 1L, 'machine': 1L, 'zzz_america': 2L, 'ideal': 1L, 'cling': 1L, 'zzz_wang': 1L, 'mass': 1L, 'fill': 1L, 'parameter': 1L, 'shrink': 1L, 'economy': 1L, 'product': 1L, 'babies': 1L, 'emulate': 1L, 'symbol': 1L, 'social': 2L, 'marginalized': 1L, 'effect': 1L, 'barricades': 1L, 'hand': 1L, 'director': 2L, 'running': 1L, 'traditionally': 1L, 'compete': 1L, 'coming': 1L, 'services': 1L, 'equitable': 1L, 'lightning': 1L, 'linguistic': 1L, 'structure': 1L, 'building': 1L, 'lower': 1L, 'intrusion': 1L, 'older': 2L, 'zzz_algerian': 1L, 'restricted': 1L, 'zzz_italy': 1L, 'differ': 1L, 'spent': 1L, 'face': 4L, 'traditional': 1L, 'logical': 1L, 'qualified': 1L, 'unchallenged': 1L, 'fundamental': 1L, 'swollen': 1L, 'zzz_silicon_valley': 1L, 'hear': 1L, 'model': 1L, 'democratic': 1L, 'diverse': 1L, 'preparing': 1L}, {'restriction': 1L, 'rounded': 1L, 'proposed': 1L, 'foreigner': 1L, 'zzz_arthur_helton': 3L, 'zzz_council': 1L, 'invent': 1L, 'homogeneity': 1L, 'citizenship': 2L, 'fear': 1L, 'zzz_central': 1L, 'debate': 1L, 'depend': 1L, 'labor': 1L, 'program': 1L, 'citizen': 1L, 'overcome': 1L, 'non': 1L, 'zzz_union': 1L, 'combination': 1L, 'government': 1L, 'nation': 1L, 'cultural': 1L, 'racially': 1L, 'zzz_anglo_saxon': 1L, 'societies': 1L, 'term': 1L, 'prosperous': 1L, 'countries': 1L, 'instructive': 1L, 'multicultural': 1L, 'exploit': 1L, 'leader': 1L, 'try': 1L, 'race': 2L, 'common': 1L, 'zzz_immigration': 4L, 'fertility': 1L, 'view': 1L, 'right': 2L, 'deal': 1L, 'immigrant': 2L, 'culture': 1L, 'european': 6L, 'lawyer': 1L, 'recognition': 1L, 'missed': 1L, 'lead': 1L, 'deeply': 1L, 'integration': 1L, 'thirst': 1L, 'zzz_scandinavia': 1L, 'defined': 2L, 'continue': 1L, 'poles': 1L, 'international': 1L, 'zzz_germany': 1L, 'integrated': 1L, 'preserve': 1L, 'model': 3L, 'million': 1L, 'recently': 1L, 'barrier': 1L, 'muslim': 1L, 'french': 5L, 'leadership': 2L, 'put': 1L, 'group': 1L, 'backlash': 1L, 'change': 2L, 'definition': 1L, 'naturalization': 1L, 'language': 4L, 'canadian': 1L, 'country': 1L, 'inspired': 1L, 'violence': 1L, 'british': 1L, 'minorities': 1L, 'american': 2L, 'disastrous': 1L, 'zzz_united_states': 1L, 'settled': 1L, 'comes': 1L, 'blood': 1L, 'origin': 1L, 'dilemma': 1L, 'zzz_foreign_relation': 1L, 'civil': 1L, 'image': 1L, 'manage': 2L, 'number': 1L, 'zzz_denmark': 1L, 'beneficiaries': 1L, 'set': 1L, 'simply': 1L, 'linguistically': 1L, 'speak': 1L, 'necessarily': 1L, 'recalling': 1L, 'discrimination': 1L, 'political': 3L, 'system': 1L, 'borrow': 1L, 'predict': 1L, 'live': 1L, 'low': 1L, 'erupted': 1L, 'scant': 1L, 'war': 1L, 'sort': 1L, 'intolerance': 1L, 'compromises': 1L, 'form': 1L, 'zzz_french': 1L, 'sophisticated': 1L, 'russian': 1L, 'stitches': 1L, 'valued': 1L, 'comity': 1L, 'wish': 1L, 'remain': 1L, 'policies': 1L, 'learn': 1L, 'multiculturalism': 1L, 'balance': 1L, 'control': 1L, 'enforced': 1L, 'camp': 1L, 'nationalist': 1L, 'century': 1L, 'process': 1L, 'fellow': 1L, 'high': 1L, 'diverse': 1L, 'exist': 1L, 'ethnically': 2L, 'ready': 1L, 'seen': 1L, 'zzz_eastern_europe': 5L, 'riot': 1L, 'peace': 1L, 'stigmatized': 1L, 'arrangement': 1L, 'conflict': 1L, 'difficult': 1L, 'status': 1L, 'hurdles': 1L, 'minority': 1L, 'protection': 1L, 'deploy': 1L, 'delicate': 1L, 'profound': 1L, 'class': 1L, 'xenophobic': 1L, 'zzz_britain': 1L, 'zzz_american': 1L, 'senior': 1L, 'wing': 1L}, {'restriction': 1L, 'rounded': 1L, 'proposed': 1L, 'foreigner': 1L, 'zzz_arthur_helton': 3L, 'zzz_council': 1L, 'invent': 1L, 'homogeneity': 1L, 'citizenship': 2L, 'fear': 1L, 'zzz_central': 1L, 'debate': 1L, 'depend': 1L, 'labor': 1L, 'program': 1L, 'citizen': 1L, 'overcome': 1L, 'non': 1L, 'zzz_union': 1L, 'combination': 1L, 'government': 1L, 'nation': 1L, 'cultural': 1L, 'racially': 1L, 'zzz_anglo_saxon': 1L, 'societies': 1L, 'term': 1L, 'prosperous': 1L, 'countries': 1L, 'instructive': 1L, 'multicultural': 1L, 'exploit': 1L, 'leader': 1L, 'try': 1L, 'race': 2L, 'common': 1L, 'zzz_immigration': 4L, 'fertility': 1L, 'view': 1L, 'right': 2L, 'deal': 1L, 'immigrant': 2L, 'culture': 1L, 'european': 6L, 'lawyer': 1L, 'recognition': 1L, 'missed': 1L, 'lead': 1L, 'deeply': 1L, 'integration': 1L, 'thirst': 1L, 'zzz_scandinavia': 1L, 'defined': 2L, 'continue': 1L, 'poles': 1L, 'international': 1L, 'zzz_germany': 1L, 'integrated': 1L, 'preserve': 1L, 'model': 3L, 'million': 1L, 'recently': 1L, 'barrier': 1L, 'muslim': 1L, 'french': 5L, 'leadership': 2L, 'put': 1L, 'group': 1L, 'backlash': 1L, 'change': 2L, 'definition': 1L, 'naturalization': 1L, 'language': 4L, 'canadian': 1L, 'country': 1L, 'inspired': 1L, 'violence': 1L, 'british': 1L, 'minorities': 1L, 'american': 2L, 'disastrous': 1L, 'zzz_united_states': 1L, 'settled': 1L, 'comes': 1L, 'blood': 1L, 'origin': 1L, 'dilemma': 1L, 'zzz_foreign_relation': 1L, 'civil': 1L, 'image': 1L, 'manage': 2L, 'number': 1L, 'zzz_denmark': 1L, 'beneficiaries': 1L, 'set': 1L, 'simply': 1L, 'linguistically': 1L, 'speak': 1L, 'necessarily': 1L, 'recalling': 1L, 'discrimination': 1L, 'political': 3L, 'system': 1L, 'borrow': 1L, 'predict': 1L, 'live': 1L, 'low': 1L, 'erupted': 1L, 'scant': 1L, 'war': 1L, 'sort': 1L, 'intolerance': 1L, 'compromises': 1L, 'form': 1L, 'zzz_french': 1L, 'sophisticated': 1L, 'russian': 1L, 'stitches': 1L, 'valued': 1L, 'comity': 1L, 'wish': 1L, 'remain': 1L, 'policies': 1L, 'learn': 1L, 'multiculturalism': 1L, 'balance': 1L, 'control': 1L, 'enforced': 1L, 'camp': 1L, 'nationalist': 1L, 'century': 1L, 'process': 1L, 'fellow': 1L, 'high': 1L, 'diverse': 1L, 'exist': 1L, 'ethnically': 2L, 'ready': 1L, 'seen': 1L, 'zzz_eastern_europe': 5L, 'riot': 1L, 'peace': 1L, 'stigmatized': 1L, 'arrangement': 1L, 'conflict': 1L, 'difficult': 1L, 'status': 1L, 'hurdles': 1L, 'minority': 1L, 'protection': 1L, 'deploy': 1L, 'delicate': 1L, 'profound': 1L, 'class': 1L, 'xenophobic': 1L, 'zzz_britain': 1L, 'zzz_american': 1L, 'senior': 1L, 'wing': 1L}, {'atmosphere': 1L, 'evidence': 1L, 'remarkable': 1L, 'zzz_england': 1L, 'violation': 1L, 'percent': 2L, 'vary': 1L, 'zzz_s_c': 1L, 'violent': 1L, 'gang': 1L, 'committed': 1L, 'noncommissioned': 1L, 'enlistment': 1L, 'children': 1L, 'discipline': 1L, 'current': 1L, 'group': 2L, 'grounded': 1L, 'rose': 1L, 'boot': 12L, 'young': 2L, 'crime': 2L, 'environment': 1L, 'charge': 1L, 'program': 3L, 'citizen': 1L, 'policy': 1L, 'criminal': 3L, 'zzz_topeka': 1L, 'zzz_maryland': 4L, 'real': 1L, 'assistant': 1L, 'zzz_townsend': 5L, 'nation': 1L, 'chooses': 1L, 'nearly': 1L, 'theft': 1L, 'judge': 1L, 'documented': 1L, 'continued': 1L, 'skeptical': 1L, 'increasing': 1L, 'auto': 1L, 'level': 1L, 'clientele': 1L, 'shaped': 1L, 'advent': 1L, 'fewer': 1L, 'zzz_justice': 3L, 'large': 1L, 'brutal': 1L, 'investigatory': 1L, 'allegation': 1L, 'imprison': 1L, 'shocking': 1L, 'mean': 1L, 'attorney': 1L, 'force': 3L, 'suspended': 1L, 'crimes': 2L, 'idea': 2L, 'breakthrough': 1L, 'elected': 1L, 'street': 2L, 'begun': 1L, 'close': 1L, 'event': 1L, 'annually': 1L, 'shown': 1L, 'attendees': 1L, 'charges': 1L, 'expert': 1L, 'visiting': 1L, 'alarming': 1L, 'associate': 1L, 'camp': 18L, 'increase': 1L, 'experiment': 1L, 'attitudes': 1L, 'routine': 1L, 'suggesting': 1L, 'beating': 2L, 'public': 1L, 'contrast': 1L, 'officer': 1L, 'model': 2L, 'led': 2L, 'chose': 1L, 'ranged': 1L, 'handful': 1L, 'graduates': 1L, 'reason': 1L, 'base': 1L, 'key': 1L, 'delinquency': 1L, 'standard': 1L, 'beginning': 1L, 'throw': 1L, 'zzz_kan': 1L, 'launch': 1L, 'root': 1L, 'study': 1L, 'according': 2L, 'experience': 1L, 'called': 1L, 'turn': 1L, 'leadership': 1L, 'place': 1L, 'oversees': 1L, 'publicized': 1L, 'zzz_united_states': 1L, 'passing': 1L, 'slightly': 1L, 'punishment': 1L, 'comes': 1L, 'deputy': 1L, 'appeared': 1L, 'servicemen': 1L, 'chaired': 1L, 'number': 1L, 'highly': 1L, 'instances': 1L, 'guard': 1L, 'initiative': 1L, 'verge': 1L, 'home': 1L, 'false': 1L, 'fight': 1L, 'custody': 1L, 'accused': 1L, 'working': 1L, 'positive': 1L, 'structured': 1L, 'moderately': 1L, 'system': 1L, 'quickly': 1L, 'intermediate': 1L, 'treat': 1L, 'war': 1L, 'unexamined': 1L, 'exploring': 1L, 'popped': 1L, 'murder': 1L, 'general': 1L, 'initiated': 1L, 'successful': 1L, 'prison': 3L, 'failure': 1L, 'assumption': 1L, 'part': 2L, 'adult': 1L, 'inmates': 1L, 'worked': 1L, 'instructor': 2L, 'potential': 1L, 'population': 1L, 'high': 1L, 'responding': 1L, 'juveniles': 2L, 'showed': 1L, 'offender': 2L, 'zzz_glendening': 2L, 'official': 2L, 'zzz_marine_corp': 1L, 'youth': 1L, 'record': 1L, 'cost': 1L, 'zzz_challenge': 1L, 'drill': 1L, 'promising': 1L, 'problem': 1L, 'similar': 1L, 'rethink': 1L, 'zzz_ohio': 2L, 'penal': 2L, 'sentenced': 1L, 'teen': 2L, 'juvenile': 7L, 'modeled': 1L, 'ordered': 1L, 'ran': 1L, 'reviewing': 1L, 'zzz_u_s_marine_corp': 1L, 'organized': 1L, 'ager': 1L, 'surface': 1L, 'conceding': 1L, 'states': 6L, 'priorities': 1L, 'sentences': 1L, 'zzz_rumor': 1L, 'zzz_gov_parris_glendening': 1L, 'physical': 2L, 'compared': 1L, 'goal': 1L, 'administration': 1L, 'marines': 1L, 'dismissed': 1L, 'zzz_clinton': 1L, 'zzz_west_virginia': 1L, 'widely': 1L, 'largest': 1L, 'higher': 1L, 'zzz_justice_department': 1L, 'clear': 1L, 'added': 1L, 'zzz_georgia': 1L, 'recruitment': 1L, 'zzz_parris_island': 2L, 'greeted': 1L, 'traditionally': 1L, 'designed': 1L, 'included': 1L, 'law': 1L, 'extremely': 1L, 'response': 1L, 'kid': 1L, 'ago': 1L, 'task': 3L, 'shortly': 1L, 'offenses': 1L, 'effective': 1L, 'released': 1L, 'considered': 1L, 'age': 1L, 'inappropriate': 1L, 'spent': 1L, 'thought': 1L, 'contact': 1L, 'zzz_louisiana': 1L, 'recidivism': 1L, 'failures': 1L, 'senior': 1L, 'spend': 1L, 'charged': 2L}, {'atmosphere': 1L, 'evidence': 1L, 'remarkable': 1L, 'zzz_england': 1L, 'violation': 1L, 'percent': 2L, 'vary': 1L, 'zzz_s_c': 1L, 'violent': 1L, 'gang': 1L, 'committed': 1L, 'noncommissioned': 1L, 'enlistment': 1L, 'children': 1L, 'discipline': 1L, 'current': 1L, 'group': 2L, 'grounded': 1L, 'rose': 1L, 'boot': 12L, 'young': 2L, 'crime': 2L, 'environment': 1L, 'charge': 1L, 'program': 3L, 'citizen': 1L, 'policy': 1L, 'criminal': 3L, 'zzz_topeka': 1L, 'zzz_maryland': 4L, 'real': 1L, 'assistant': 1L, 'zzz_townsend': 5L, 'nation': 1L, 'chooses': 1L, 'nearly': 1L, 'theft': 1L, 'judge': 1L, 'documented': 1L, 'continued': 1L, 'skeptical': 1L, 'increasing': 1L, 'auto': 1L, 'level': 1L, 'clientele': 1L, 'shaped': 1L, 'advent': 1L, 'fewer': 1L, 'zzz_justice': 3L, 'large': 1L, 'brutal': 1L, 'investigatory': 1L, 'allegation': 1L, 'imprison': 1L, 'shocking': 1L, 'mean': 1L, 'attorney': 1L, 'force': 3L, 'suspended': 1L, 'crimes': 2L, 'idea': 2L, 'breakthrough': 1L, 'elected': 1L, 'street': 2L, 'begun': 1L, 'close': 1L, 'event': 1L, 'annually': 1L, 'shown': 1L, 'attendees': 1L, 'charges': 1L, 'expert': 1L, 'visiting': 1L, 'alarming': 1L, 'associate': 1L, 'camp': 18L, 'increase': 1L, 'experiment': 1L, 'attitudes': 1L, 'routine': 1L, 'suggesting': 1L, 'beating': 2L, 'public': 1L, 'contrast': 1L, 'officer': 1L, 'model': 2L, 'led': 2L, 'chose': 1L, 'ranged': 1L, 'handful': 1L, 'graduates': 1L, 'reason': 1L, 'base': 1L, 'key': 1L, 'delinquency': 1L, 'standard': 1L, 'beginning': 1L, 'throw': 1L, 'zzz_kan': 1L, 'launch': 1L, 'root': 1L, 'study': 1L, 'according': 2L, 'experience': 1L, 'called': 1L, 'turn': 1L, 'leadership': 1L, 'place': 1L, 'oversees': 1L, 'publicized': 1L, 'zzz_united_states': 1L, 'passing': 1L, 'slightly': 1L, 'punishment': 1L, 'comes': 1L, 'deputy': 1L, 'appeared': 1L, 'servicemen': 1L, 'chaired': 1L, 'number': 1L, 'highly': 1L, 'instances': 1L, 'guard': 1L, 'initiative': 1L, 'verge': 1L, 'home': 1L, 'false': 1L, 'fight': 1L, 'custody': 1L, 'accused': 1L, 'working': 1L, 'positive': 1L, 'structured': 1L, 'moderately': 1L, 'system': 1L, 'quickly': 1L, 'intermediate': 1L, 'treat': 1L, 'war': 1L, 'unexamined': 1L, 'exploring': 1L, 'popped': 1L, 'murder': 1L, 'general': 1L, 'initiated': 1L, 'successful': 1L, 'prison': 3L, 'failure': 1L, 'assumption': 1L, 'part': 2L, 'adult': 1L, 'inmates': 1L, 'worked': 1L, 'instructor': 2L, 'potential': 1L, 'population': 1L, 'high': 1L, 'responding': 1L, 'juveniles': 2L, 'showed': 1L, 'offender': 2L, 'zzz_glendening': 2L, 'official': 2L, 'zzz_marine_corp': 1L, 'youth': 1L, 'record': 1L, 'cost': 1L, 'zzz_challenge': 1L, 'drill': 1L, 'promising': 1L, 'problem': 1L, 'similar': 1L, 'rethink': 1L, 'zzz_ohio': 2L, 'penal': 2L, 'sentenced': 1L, 'teen': 2L, 'juvenile': 7L, 'modeled': 1L, 'ordered': 1L, 'ran': 1L, 'reviewing': 1L, 'zzz_u_s_marine_corp': 1L, 'organized': 1L, 'ager': 1L, 'surface': 1L, 'conceding': 1L, 'states': 6L, 'priorities': 1L, 'sentences': 1L, 'zzz_rumor': 1L, 'zzz_gov_parris_glendening': 1L, 'physical': 2L, 'compared': 1L, 'goal': 1L, 'administration': 1L, 'marines': 1L, 'dismissed': 1L, 'zzz_clinton': 1L, 'zzz_west_virginia': 1L, 'widely': 1L, 'largest': 1L, 'higher': 1L, 'zzz_justice_department': 1L, 'clear': 1L, 'added': 1L, 'zzz_georgia': 1L, 'recruitment': 1L, 'zzz_parris_island': 2L, 'greeted': 1L, 'traditionally': 1L, 'designed': 1L, 'included': 1L, 'law': 1L, 'extremely': 1L, 'response': 1L, 'kid': 1L, 'ago': 1L, 'task': 3L, 'shortly': 1L, 'offenses': 1L, 'effective': 1L, 'released': 1L, 'considered': 1L, 'age': 1L, 'inappropriate': 1L, 'spent': 1L, 'thought': 1L, 'contact': 1L, 'zzz_louisiana': 1L, 'recidivism': 1L, 'failures': 1L, 'senior': 1L, 'spend': 1L, 'charged': 2L}, {'money': 1L, 'follow': 1L, 'find': 1L, 'discipline': 2L, 'voter': 1L, 'justice': 1L, 'extra': 1L, 'young': 1L, 'crime': 2L, 'citing': 1L, 'program': 4L, 'treatment': 1L, 'prison': 1L, 'local': 1L, 'zzz_maryland': 1L, 'jerk': 1L, 'zzz_townsend': 1L, 'nation': 1L, 'scaling': 1L, 'zzz_north_dakota': 1L, 'zzz_california': 1L, 'zzz_well': 1L, 'entire': 1L, 'paramilitary': 1L, 'lost': 1L, 'drop': 2L, 'bad': 1L, 'popular': 1L, 'concluded': 1L, 'cynical': 1L, 'society': 1L, 'likely': 1L, 'led': 1L, 'criminology': 1L, 'expert': 3L, 'experiment': 1L, 'falling': 1L, 'issue': 1L, 'public': 2L, 'maneuver': 1L, 'run': 1L, 'bandwagon': 1L, 'reaction': 1L, 'conducting': 1L, 'drug': 1L, 'agree': 1L, 'zzz_facilities': 1L, 'ineffective': 1L, 'expense': 2L, 'comes': 1L, 'tough': 4L, 'headed': 1L, 'feel': 1L, 'highly': 1L, 'respect': 2L, 'zzz_policy_studies': 1L, 'observer': 1L, 'political': 3L, 'fight': 1L, 'start': 1L, 'zzz_arizona': 1L, 'treat': 1L, 'form': 1L, 'regard': 1L, 'properly': 1L, 'investigation': 1L, 'believe': 1L, 'population': 1L, 'case': 1L, 'juveniles': 1L, 'unfortunately': 1L, 'official': 2L, 'zzz_johns_hopkins_university': 1L, 'learn': 1L, 'individualized': 1L, 'problem': 1L, 'similar': 1L, 'rehabilitation': 1L, 'juvenile': 4L, 'proven': 1L, 'effectively': 1L, 'unlikely': 1L, 'need': 2L, 'incarcerating': 1L, 'zzz_baltimore': 1L, 'education': 1L, 'provide': 1L, 'pay': 1L, 'boot': 5L, 'role': 1L, 'answer': 1L, 'zzz_florida': 1L, 'zzz_colorado': 1L, 'added': 1L, 'zzz_georgia': 1L, 'disagree': 1L, 'harmful': 1L, 'running': 1L, 'resonated': 1L, 'knee': 1L, 'structure': 1L, 'kid': 3L, 'revamped': 1L, 'zzz_justice_department': 1L, 'professor': 1L, 'camp': 5L, 'zzz_university': 1L, 'model': 1L}, {'money': 1L, 'follow': 1L, 'find': 1L, 'discipline': 2L, 'voter': 1L, 'justice': 1L, 'extra': 1L, 'young': 1L, 'crime': 2L, 'citing': 1L, 'program': 4L, 'treatment': 1L, 'prison': 1L, 'local': 1L, 'zzz_maryland': 1L, 'jerk': 1L, 'zzz_townsend': 1L, 'nation': 1L, 'scaling': 1L, 'zzz_north_dakota': 1L, 'zzz_california': 1L, 'zzz_well': 1L, 'entire': 1L, 'paramilitary': 1L, 'lost': 1L, 'drop': 2L, 'bad': 1L, 'popular': 1L, 'concluded': 1L, 'cynical': 1L, 'society': 1L, 'likely': 1L, 'led': 1L, 'criminology': 1L, 'expert': 3L, 'experiment': 1L, 'falling': 1L, 'issue': 1L, 'public': 2L, 'maneuver': 1L, 'run': 1L, 'bandwagon': 1L, 'reaction': 1L, 'conducting': 1L, 'drug': 1L, 'agree': 1L, 'zzz_facilities': 1L, 'ineffective': 1L, 'expense': 2L, 'comes': 1L, 'tough': 4L, 'headed': 1L, 'feel': 1L, 'highly': 1L, 'respect': 2L, 'zzz_policy_studies': 1L, 'observer': 1L, 'political': 3L, 'fight': 1L, 'start': 1L, 'zzz_arizona': 1L, 'treat': 1L, 'form': 1L, 'regard': 1L, 'properly': 1L, 'investigation': 1L, 'believe': 1L, 'population': 1L, 'case': 1L, 'juveniles': 1L, 'unfortunately': 1L, 'official': 2L, 'zzz_johns_hopkins_university': 1L, 'learn': 1L, 'individualized': 1L, 'problem': 1L, 'similar': 1L, 'rehabilitation': 1L, 'juvenile': 4L, 'proven': 1L, 'effectively': 1L, 'unlikely': 1L, 'need': 2L, 'incarcerating': 1L, 'zzz_baltimore': 1L, 'education': 1L, 'provide': 1L, 'pay': 1L, 'boot': 5L, 'role': 1L, 'answer': 1L, 'zzz_florida': 1L, 'zzz_colorado': 1L, 'added': 1L, 'zzz_georgia': 1L, 'disagree': 1L, 'harmful': 1L, 'running': 1L, 'resonated': 1L, 'knee': 1L, 'structure': 1L, 'kid': 3L, 'revamped': 1L, 'zzz_justice_department': 1L, 'professor': 1L, 'camp': 5L, 'zzz_university': 1L, 'model': 1L}, {'ambassador': 2L, 'bomb': 2L, 'consciousness': 1L, 'embassies': 1L, 'german': 1L, 'visitor': 1L, 'oilmen': 1L, 'zzz_u_s': 4L, 'course': 1L, 'embassy': 1L, 'distant': 1L, 'zzz_canada': 1L, 'victim': 1L, 'zzz_sahara': 1L, 'fear': 1L, 'continent': 1L, 'ground': 1L, 'blow': 1L, 'style': 1L, 'police': 2L, 'chain': 1L, 'bringing': 1L, 'explain': 1L, 'stave': 1L, 'sparkling': 1L, 'hipped': 1L, 'easy': 1L, 'suite': 2L, 'communist': 1L, 'eastward': 1L, 'garden': 1L, 'government': 1L, 'rules': 2L, 'familiar': 1L, 'material': 1L, 'seemingly': 1L, 'coast': 1L, 'dark': 1L, 'nearly': 1L, 'compound': 1L, 'front': 1L, 'height': 1L, 'frightening': 1L, 'vast': 1L, 'defied': 1L, 'term': 1L, 'impressive': 1L, 'north': 1L, 'warned': 1L, 'shadowy': 1L, 'arrested': 2L, 'troop': 1L, 'plain': 1L, 'security': 3L, 'heading': 1L, 'view': 2L, 'upper': 1L, 'set': 1L, 'climactic': 1L, 'hour': 1L, 'formidable': 1L, 'magnificent': 1L, 'hail': 1L, 'society': 1L, 'economic': 2L, 'palm': 1L, 'pass': 1L, 'headlines': 2L, 'blue': 1L, 'savage': 1L, 'represent': 1L, 'zzz_algeria': 10L, 'driving': 1L, 'colonial': 3L, 'wrecked': 1L, 'sites': 1L, 'denizen': 1L, 'current': 2L, 'dominated': 1L, 'hill': 1L, 'previous': 1L, 'numerous': 1L, 'public': 1L, 'independence': 2L, 'movement': 1L, 'civil': 1L, 'zzz_wash': 1L, 'knew': 1L, 'policies': 1L, 'importance': 2L, 'million': 1L, 'french': 2L, 'courtyard': 1L, 'focused': 1L, 'trunk': 1L, 'zzz_ahmed_ressam': 1L, 'cities': 1L, 'intense': 1L, 'wall': 1L, 'extreme': 1L, 'enormous': 1L, 'zzz_algier': 2L, 'zzz_port_angeles': 1L, 'country': 3L, 'area': 1L, 'american': 7L, 'allied': 1L, 'figures': 1L, 'threat': 1L, 'scented': 1L, 'zzz_united_states': 2L, 'military': 1L, 'guardianship': 1L, 'guerrilla': 1L, 'zzz_world_war_ii': 2L, 'major': 1L, 'suddenly': 1L, 'armchair': 1L, 'sweep': 1L, 'owned': 1L, 'strategic': 2L, 'political': 1L, 'zzz_mediterranean': 1L, 'wider': 2L, 'watchdog': 1L, 'intellect': 1L, 'brass': 1L, 'wanted': 1L, 'palace': 1L, 'zzz_islamic': 2L, 'army': 1L, 'blossom': 1L, 'zzz_state_department': 1L, 'initial': 1L, 'visit': 1L, 'arches': 1L, 'custom': 1L, 'fought': 1L, 'lovely': 1L, 'war': 3L, 'today': 3L, 'building': 1L, 'grandest': 1L, 'modern': 1L, 'door': 2L, 'form': 1L, 'thrusting': 1L, 'gas': 1L, 'oil': 1L, 'marbled': 1L, 'part': 1L, 'understand': 1L, 'zzz_france': 1L, 'known': 1L, 'smoking': 1L, 'carnage': 1L, 'fort': 1L, 'kind': 1L, 'warfare': 1L, 'places': 1L, 'miseries': 1L, 'socialist': 2L, 'official': 1L, 'attention': 1L, 'recording': 1L, 'remain': 1L, 'venture': 1L, 'learn': 1L, 'making': 1L, 'fact': 4L, 'charm': 1L, 'ferry': 1L, 'claim': 1L, 'larger': 1L, 'whitewashed': 1L, 'century': 1L, 'zzz_armed_islamic_group': 1L, 'slim': 1L, 'command': 1L, 'reserves': 1L, 'fighting': 2L, 'pushing': 1L, 'allowed': 1L, 'graceful': 1L, 'allege': 1L, 'linked': 1L, 'zzz_eastern_europe': 1L, 'car': 2L, 'grown': 1L, 'cavalry': 1L, 'diplomat': 1L, 'terrorist': 2L, 'winter': 1L, 'floor': 1L, 'trip': 1L, 'occupied': 2L, 'travel': 1L, 'puzzled': 1L, 'foreigner': 1L, 'zzz_st_george': 2L, 'zzz_gia': 2L, 'zzz_america': 2L, 'forces': 1L, 'largest': 1L, 'underground': 1L, 'palaces': 1L, 'balcony': 1L, 'target': 1L, 'conflict': 3L, 'economy': 1L, 'independent': 1L, 'begin': 1L, 'exactly': 1L, 'desert': 1L, 'swiftly': 1L, 'springtime': 1L, 'hand': 1L, 'panoramic': 1L, 'moment': 1L, 'intent': 1L, 'utterly': 1L, 'fruitlessly': 1L, 'hostelry': 1L, 'lobby': 1L, 'died': 3L, 'breathtakingly': 1L, 'ago': 1L, 'remote': 1L, 'zzz_algerian': 3L, 'amid': 2L, 'nonetheless': 1L, 'jewel': 1L, 'zzz_indian': 1L, 'rule': 2L, 'thought': 1L, 'contact': 1L, 'venturing': 1L, 'place': 1L, 'earlier': 1L, 'plaque': 1L}, {'ambassador': 2L, 'bomb': 2L, 'consciousness': 1L, 'embassies': 1L, 'german': 1L, 'visitor': 1L, 'oilmen': 1L, 'zzz_u_s': 4L, 'course': 1L, 'embassy': 1L, 'distant': 1L, 'zzz_canada': 1L, 'victim': 1L, 'zzz_sahara': 1L, 'fear': 1L, 'continent': 1L, 'ground': 1L, 'blow': 1L, 'style': 1L, 'police': 2L, 'chain': 1L, 'bringing': 1L, 'explain': 1L, 'stave': 1L, 'sparkling': 1L, 'hipped': 1L, 'easy': 1L, 'suite': 2L, 'communist': 1L, 'eastward': 1L, 'garden': 1L, 'government': 1L, 'rules': 2L, 'familiar': 1L, 'material': 1L, 'seemingly': 1L, 'coast': 1L, 'dark': 1L, 'nearly': 1L, 'compound': 1L, 'front': 1L, 'height': 1L, 'frightening': 1L, 'vast': 1L, 'defied': 1L, 'term': 1L, 'impressive': 1L, 'north': 1L, 'warned': 1L, 'shadowy': 1L, 'arrested': 2L, 'troop': 1L, 'plain': 1L, 'security': 3L, 'heading': 1L, 'view': 2L, 'upper': 1L, 'set': 1L, 'climactic': 1L, 'hour': 1L, 'formidable': 1L, 'magnificent': 1L, 'hail': 1L, 'society': 1L, 'economic': 2L, 'palm': 1L, 'pass': 1L, 'headlines': 2L, 'blue': 1L, 'savage': 1L, 'represent': 1L, 'zzz_algeria': 10L, 'driving': 1L, 'colonial': 3L, 'wrecked': 1L, 'sites': 1L, 'denizen': 1L, 'current': 2L, 'dominated': 1L, 'hill': 1L, 'previous': 1L, 'numerous': 1L, 'public': 1L, 'independence': 2L, 'movement': 1L, 'civil': 1L, 'zzz_wash': 1L, 'knew': 1L, 'policies': 1L, 'importance': 2L, 'million': 1L, 'french': 2L, 'courtyard': 1L, 'focused': 1L, 'trunk': 1L, 'zzz_ahmed_ressam': 1L, 'cities': 1L, 'intense': 1L, 'wall': 1L, 'extreme': 1L, 'enormous': 1L, 'zzz_algier': 2L, 'zzz_port_angeles': 1L, 'country': 3L, 'area': 1L, 'american': 7L, 'allied': 1L, 'figures': 1L, 'threat': 1L, 'scented': 1L, 'zzz_united_states': 2L, 'military': 1L, 'guardianship': 1L, 'guerrilla': 1L, 'zzz_world_war_ii': 2L, 'major': 1L, 'suddenly': 1L, 'armchair': 1L, 'sweep': 1L, 'owned': 1L, 'strategic': 2L, 'political': 1L, 'zzz_mediterranean': 1L, 'wider': 2L, 'watchdog': 1L, 'intellect': 1L, 'brass': 1L, 'wanted': 1L, 'palace': 1L, 'zzz_islamic': 2L, 'army': 1L, 'blossom': 1L, 'zzz_state_department': 1L, 'initial': 1L, 'visit': 1L, 'arches': 1L, 'custom': 1L, 'fought': 1L, 'lovely': 1L, 'war': 3L, 'today': 3L, 'building': 1L, 'grandest': 1L, 'modern': 1L, 'door': 2L, 'form': 1L, 'thrusting': 1L, 'gas': 1L, 'oil': 1L, 'marbled': 1L, 'part': 1L, 'understand': 1L, 'zzz_france': 1L, 'known': 1L, 'smoking': 1L, 'carnage': 1L, 'fort': 1L, 'kind': 1L, 'warfare': 1L, 'places': 1L, 'miseries': 1L, 'socialist': 2L, 'official': 1L, 'attention': 1L, 'recording': 1L, 'remain': 1L, 'venture': 1L, 'learn': 1L, 'making': 1L, 'fact': 4L, 'charm': 1L, 'ferry': 1L, 'claim': 1L, 'larger': 1L, 'whitewashed': 1L, 'century': 1L, 'zzz_armed_islamic_group': 1L, 'slim': 1L, 'command': 1L, 'reserves': 1L, 'fighting': 2L, 'pushing': 1L, 'allowed': 1L, 'graceful': 1L, 'allege': 1L, 'linked': 1L, 'zzz_eastern_europe': 1L, 'car': 2L, 'grown': 1L, 'cavalry': 1L, 'diplomat': 1L, 'terrorist': 2L, 'winter': 1L, 'floor': 1L, 'trip': 1L, 'occupied': 2L, 'travel': 1L, 'puzzled': 1L, 'foreigner': 1L, 'zzz_st_george': 2L, 'zzz_gia': 2L, 'zzz_america': 2L, 'forces': 1L, 'largest': 1L, 'underground': 1L, 'palaces': 1L, 'balcony': 1L, 'target': 1L, 'conflict': 3L, 'economy': 1L, 'independent': 1L, 'begin': 1L, 'exactly': 1L, 'desert': 1L, 'swiftly': 1L, 'springtime': 1L, 'hand': 1L, 'panoramic': 1L, 'moment': 1L, 'intent': 1L, 'utterly': 1L, 'fruitlessly': 1L, 'hostelry': 1L, 'lobby': 1L, 'died': 3L, 'breathtakingly': 1L, 'ago': 1L, 'remote': 1L, 'zzz_algerian': 3L, 'amid': 2L, 'nonetheless': 1L, 'jewel': 1L, 'zzz_indian': 1L, 'rule': 2L, 'thought': 1L, 'contact': 1L, 'venturing': 1L, 'place': 1L, 'earlier': 1L, 'plaque': 1L}, {'zzz_salman_rushdie': 1L, 'insurgency': 1L, 'zzz_u_s': 2L, 'embassy': 1L, 'religious': 1L, 'zzz_iran': 2L, 'anonymously': 1L, 'enfeebled': 1L, 'group': 1L, 'zzz_salvation_front': 3L, 'send': 1L, 'compelling': 1L, 'east': 1L, 'decades': 1L, 'resources': 1L, 'government': 2L, 'zzz_america': 1L, 'secular': 1L, 'rise': 1L, 'nation': 1L, 'cemeteries': 1L, 'cutting': 1L, 'reaches': 1L, 'background': 1L, 'massacring': 1L, 'killed': 1L, 'minute': 1L, 'look': 1L, 'zzz_ressam': 2L, 'moderate': 1L, 'investigator': 1L, 'shadowy': 1L, 'countries': 1L, 'arrested': 1L, 'try': 1L, 'zzz_muslim': 1L, 'victory': 1L, 'fires': 1L, 'zzz_western_europe': 3L, 'triumph': 1L, 'revolution': 1L, 'zzz_morocco': 1L, 'radicalism': 1L, 'tragedies': 1L, 'idea': 1L, 'zzz_france': 1L, 'immigrant': 1L, 'intensity': 1L, 'zzz_spain': 1L, 'zzz_islam': 1L, 'faceless': 1L, 'happen': 1L, 'battalion': 1L, 'zzz_gia': 2L, 'closer': 1L, 'decree': 1L, 'leaf': 1L, 'zzz_algeria': 8L, 'driving': 1L, 'mattered': 1L, 'justifies': 1L, 'custody': 1L, 'learned': 1L, 'propagating': 1L, 'zzz_tehran': 1L, 'independence': 2L, 'breakaway': 1L, 'led': 1L, 'belief': 1L, 'million': 1L, 'sprung': 1L, 'free': 1L, 'killing': 2L, 'extraordinary': 1L, 'french': 1L, 'key': 1L, 'police': 1L, 'disappeared': 1L, 'strewn': 1L, 'allies': 1L, 'zzz_algier': 2L, 'mesmerized': 1L, 'country': 3L, 'sinister': 1L, 'zzz_mauritania': 1L, 'equal': 1L, 'urged': 1L, 'american': 2L, 'west': 1L, 'military': 1L, 'history': 2L, 'radical': 1L, 'seizure': 1L, 'brought': 1L, 'set': 1L, 'verge': 1L, 'strip': 1L, 'anonymity': 1L, 'lesson': 1L, 'unit': 2L, 'zzz_pakistan': 1L, 'zzz_islamic': 6L, 'army': 3L, 'stretch': 1L, 'zzz_washington': 1L, 'support': 1L, 'political': 1L, 'zzz_mediterranean': 1L, 'resulted': 1L, 'relearn': 1L, 'hundred': 1L, 'war': 3L, 'slaughtered': 1L, 'canceling': 1L, 'holy': 1L, 'thousand': 1L, 'villages': 1L, 'worker': 1L, 'guerrillas': 1L, 'carrying': 1L, 'prescription': 1L, 'believe': 1L, 'standard': 1L, 'town': 1L, 'kind': 2L, 'savagery': 1L, 'room': 1L, 'roles': 1L, 'espoused': 1L, 'twenty': 1L, 'zzz_marseilles': 1L, 'matter': 1L, 'stunning': 1L, 'learn': 1L, 'believed': 1L, 'ferry': 2L, 'called': 3L, 'election': 2L, 'counter': 1L, 'played': 1L, 'modern': 1L, 'general': 2L, 'canceled': 1L, 'buried': 2L, 'throat': 1L, 'novelist': 1L, 'fill': 1L, 'parliamentary': 1L, 'diplomat': 1L, 'crescent': 1L, 'form': 1L, 'civilian': 1L, 'generally': 1L, 'zzz_st_george': 1L, 'lit': 1L, 'setting': 1L, 'pivotal': 1L, 'tactic': 1L, 'significance': 2L, 'party': 1L, 'villager': 1L, 'zzz_afghanistan': 1L, 'economy': 1L, 'worldwide': 1L, 'knew': 1L, 'southern': 1L, 'marking': 1L, 'hand': 1L, 'meaning': 1L, 'journey': 1L, 'allowing': 1L, 'significant': 1L, 'mullah': 1L, 'sides': 1L, 'recent': 1L, 'ago': 2L, 'militias': 1L, 'fighter': 2L, 'gravestones': 1L, 'zzz_algerian': 2L, 'profound': 1L, 'overnight': 1L, 'thought': 1L, 'person': 1L, 'rogue': 1L, 'conflict': 1L, 'perhap': 1L, 'reward': 1L, 'responded': 1L}, {'zzz_salman_rushdie': 1L, 'insurgency': 1L, 'zzz_u_s': 2L, 'embassy': 1L, 'religious': 1L, 'zzz_iran': 2L, 'anonymously': 1L, 'enfeebled': 1L, 'group': 1L, 'zzz_salvation_front': 3L, 'send': 1L, 'compelling': 1L, 'east': 1L, 'decades': 1L, 'resources': 1L, 'government': 2L, 'zzz_america': 1L, 'secular': 1L, 'rise': 1L, 'nation': 1L, 'cemeteries': 1L, 'cutting': 1L, 'reaches': 1L, 'background': 1L, 'massacring': 1L, 'killed': 1L, 'minute': 1L, 'look': 1L, 'zzz_ressam': 2L, 'moderate': 1L, 'investigator': 1L, 'shadowy': 1L, 'countries': 1L, 'arrested': 1L, 'try': 1L, 'zzz_muslim': 1L, 'victory': 1L, 'fires': 1L, 'zzz_western_europe': 3L, 'triumph': 1L, 'revolution': 1L, 'zzz_morocco': 1L, 'radicalism': 1L, 'tragedies': 1L, 'idea': 1L, 'zzz_france': 1L, 'immigrant': 1L, 'intensity': 1L, 'zzz_spain': 1L, 'zzz_islam': 1L, 'faceless': 1L, 'happen': 1L, 'battalion': 1L, 'zzz_gia': 2L, 'closer': 1L, 'decree': 1L, 'leaf': 1L, 'zzz_algeria': 8L, 'driving': 1L, 'mattered': 1L, 'justifies': 1L, 'custody': 1L, 'learned': 1L, 'propagating': 1L, 'zzz_tehran': 1L, 'independence': 2L, 'breakaway': 1L, 'led': 1L, 'belief': 1L, 'million': 1L, 'sprung': 1L, 'free': 1L, 'killing': 2L, 'extraordinary': 1L, 'french': 1L, 'key': 1L, 'police': 1L, 'disappeared': 1L, 'strewn': 1L, 'allies': 1L, 'zzz_algier': 2L, 'mesmerized': 1L, 'country': 3L, 'sinister': 1L, 'zzz_mauritania': 1L, 'equal': 1L, 'urged': 1L, 'american': 2L, 'west': 1L, 'military': 1L, 'history': 2L, 'radical': 1L, 'seizure': 1L, 'brought': 1L, 'set': 1L, 'verge': 1L, 'strip': 1L, 'anonymity': 1L, 'lesson': 1L, 'unit': 2L, 'zzz_pakistan': 1L, 'zzz_islamic': 6L, 'army': 3L, 'stretch': 1L, 'zzz_washington': 1L, 'support': 1L, 'political': 1L, 'zzz_mediterranean': 1L, 'resulted': 1L, 'relearn': 1L, 'hundred': 1L, 'war': 3L, 'slaughtered': 1L, 'canceling': 1L, 'holy': 1L, 'thousand': 1L, 'villages': 1L, 'worker': 1L, 'guerrillas': 1L, 'carrying': 1L, 'prescription': 1L, 'believe': 1L, 'standard': 1L, 'town': 1L, 'kind': 2L, 'savagery': 1L, 'room': 1L, 'roles': 1L, 'espoused': 1L, 'twenty': 1L, 'zzz_marseilles': 1L, 'matter': 1L, 'stunning': 1L, 'learn': 1L, 'believed': 1L, 'ferry': 2L, 'called': 3L, 'election': 2L, 'counter': 1L, 'played': 1L, 'modern': 1L, 'general': 2L, 'canceled': 1L, 'buried': 2L, 'throat': 1L, 'novelist': 1L, 'fill': 1L, 'parliamentary': 1L, 'diplomat': 1L, 'crescent': 1L, 'form': 1L, 'civilian': 1L, 'generally': 1L, 'zzz_st_george': 1L, 'lit': 1L, 'setting': 1L, 'pivotal': 1L, 'tactic': 1L, 'significance': 2L, 'party': 1L, 'villager': 1L, 'zzz_afghanistan': 1L, 'economy': 1L, 'worldwide': 1L, 'knew': 1L, 'southern': 1L, 'marking': 1L, 'hand': 1L, 'meaning': 1L, 'journey': 1L, 'allowing': 1L, 'significant': 1L, 'mullah': 1L, 'sides': 1L, 'recent': 1L, 'ago': 2L, 'militias': 1L, 'fighter': 2L, 'gravestones': 1L, 'zzz_algerian': 2L, 'profound': 1L, 'overnight': 1L, 'thought': 1L, 'person': 1L, 'rogue': 1L, 'conflict': 1L, 'perhap': 1L, 'reward': 1L, 'responded': 1L}, {'saying': 1L, 'taller': 1L, 'german': 1L, 'patina': 1L, 'colonist': 3L, 'hillside': 1L, 'meticulously': 1L, 'episodes': 1L, 'earth': 1L, 'fine': 1L, 'children': 1L, 'decade': 1L, 'certainly': 1L, 'position': 1L, 'group': 4L, 'system': 1L, 'zzz_tutsi': 11L, 'explain': 1L, 'zzz_burundi': 8L, 'grotesque': 1L, 'civil': 1L, 'grim': 1L, 'zzz_human_rights_watch': 1L, 'willing': 1L, 'suspicion': 1L, 'easy': 1L, 'farmer': 2L, 'hardened': 1L, 'animosities': 2L, 'inferior': 1L, 'meant': 1L, 'division': 1L, 'halt': 1L, 'stay': 1L, 'ruler': 1L, 'shatter': 1L, 'fluid': 1L, 'preferred': 1L, 'truly': 1L, 'break': 1L, 'preparing': 1L, 'enslaved': 1L, 'half': 1L, 'documented': 1L, 'continued': 1L, 'fled': 1L, 'ruled': 1L, 'exiles': 1L, 'imposed': 1L, 'scholar': 2L, 'stranger': 1L, 'generally': 1L, 'zzz_intermarriage': 1L, 'shape': 1L, 'preying': 1L, 'distrust': 1L, 'race': 1L, 'superiority': 1L, 'common': 1L, 'unifying': 1L, 'relentless': 1L, 'vision': 1L, 'easiest': 1L, 'administrator': 1L, 'tended': 3L, 'extremist': 1L, 'discriminated': 1L, 'today': 2L, 'result': 1L, 'cattle': 1L, 'led': 1L, 'happen': 1L, 'special': 1L, 'spasm': 1L, 'universities': 1L, 'expert': 3L, 'colonial': 1L, 'lend': 1L, 'herded': 1L, 'formula': 1L, 'officially': 1L, 'inaction': 1L, 'run': 1L, 'power': 3L, 'intentioned': 1L, 'million': 1L, 'zzz_twa': 2L, 'french': 1L, 'killing': 2L, 'step': 1L, 'complicated': 1L, 'put': 1L, 'drawn': 1L, 'safer': 1L, 'scarred': 1L, 'periodically': 1L, 'raise': 1L, 'prestige': 1L, 'created': 1L, 'country': 2L, 'spilled': 1L, 'violence': 1L, 'according': 1L, 'surround': 1L, 'agree': 1L, 'perhap': 1L, 'genocide': 3L, 'wrote': 1L, 'logic': 1L, 'hatred': 5L, 'argue': 1L, 'makes': 1L, 'comes': 1L, 'control': 2L, 'thinner': 1L, 'presence': 1L, 'simple': 2L, 'question': 1L, 'tribal': 2L, 'resentment': 1L, 'vis': 2L, 'twin': 1L, 'underlay': 1L, 'crisis': 1L, 'strong': 1L, 'takes': 1L, 'area': 1L, 'distinct': 1L, 'leading': 1L, 'century': 1L, 'political': 2L, 'transform': 1L, 'insult': 1L, 'secret': 1L, 'rivalries': 1L, 'assassinated': 1L, 'war': 1L, 'killed': 1L, 'belgian': 1L, 'firm': 1L, 'partly': 1L, 'outsider': 3L, 'form': 1L, 'historian': 1L, 'started': 1L, 'exploded': 1L, 'took': 1L, 'reign': 1L, 'guerrillas': 2L, 'hierarchical': 1L, 'rigid': 1L, 'zzz_great_lakes': 4L, 'manipulation': 1L, 'known': 1L, 'elite': 3L, 'pygmies': 1L, 'distance': 1L, 'kind': 2L, 'politician': 1L, 'warfare': 1L, 'places': 1L, 'zzz_belgian': 2L, 'consultant': 1L, 'zzz_rwanda': 11L, 'official': 1L, 'monarchies': 1L, 'indifference': 1L, 'zzz_africa': 5L, 'slaughtered': 1L, 'spontaneous': 1L, 'region': 2L, 'zzz_zaire': 1L, 'pre': 1L, 'real': 1L, 'figure': 1L, 'give': 1L, 'lines': 2L, 'trusting': 1L, 'turned': 1L, 'zzz_columbia_university_press': 1L, 'deep': 1L, 'quiet': 1L, 'high': 1L, 'regularity': 1L, 'exist': 1L, 'rent': 1L, 'past': 1L, 'zzz_balkan': 1L, 'seek': 1L, 'viewed': 1L, 'firmly': 1L, 'court': 1L, 'daring': 1L, 'author': 1L, 'authoritative': 1L, 'eastern': 1L, 'percent': 3L, 'ideas': 1L, 'rebellion': 1L, 'book': 1L, 'smarter': 1L, 'wonder': 1L, 'intelligent': 1L, 'conflict': 2L, 'european': 3L, 'tension': 1L, 'product': 1L, 'separate': 1L, 'zzz_hutu': 9L, 'southern': 1L, 'occurred': 1L, 'helping': 1L, 'arrived': 2L, 'arose': 1L, 'violent': 1L, 'ethnic': 6L, 'zzz_ancient': 4L, 'fighting': 3L, 'nation': 1L, 'response': 1L, 'recent': 1L, 'land': 1L, 'fighter': 1L, 'outline': 1L, 'surprising': 1L, 'seize': 1L, 'zzz_north_american': 1L, 'professor': 1L, 'camp': 1L, 'revolt': 1L, 'zzz_antwerp': 1L, 'rule': 1L, 'zzz_congo': 2L, 'person': 1L, 'races': 1L, 'withdraw': 1L, 'broad': 1L, 'nomad': 1L, 'dragged': 1L}, {'saying': 1L, 'taller': 1L, 'german': 1L, 'patina': 1L, 'colonist': 3L, 'hillside': 1L, 'meticulously': 1L, 'episodes': 1L, 'earth': 1L, 'fine': 1L, 'children': 1L, 'decade': 1L, 'certainly': 1L, 'position': 1L, 'group': 4L, 'system': 1L, 'zzz_tutsi': 11L, 'explain': 1L, 'zzz_burundi': 8L, 'grotesque': 1L, 'civil': 1L, 'grim': 1L, 'zzz_human_rights_watch': 1L, 'willing': 1L, 'suspicion': 1L, 'easy': 1L, 'farmer': 2L, 'hardened': 1L, 'animosities': 2L, 'inferior': 1L, 'meant': 1L, 'division': 1L, 'halt': 1L, 'stay': 1L, 'ruler': 1L, 'shatter': 1L, 'fluid': 1L, 'preferred': 1L, 'truly': 1L, 'break': 1L, 'preparing': 1L, 'enslaved': 1L, 'half': 1L, 'documented': 1L, 'continued': 1L, 'fled': 1L, 'ruled': 1L, 'exiles': 1L, 'imposed': 1L, 'scholar': 2L, 'stranger': 1L, 'generally': 1L, 'zzz_intermarriage': 1L, 'shape': 1L, 'preying': 1L, 'distrust': 1L, 'race': 1L, 'superiority': 1L, 'common': 1L, 'unifying': 1L, 'relentless': 1L, 'vision': 1L, 'easiest': 1L, 'administrator': 1L, 'tended': 3L, 'extremist': 1L, 'discriminated': 1L, 'today': 2L, 'result': 1L, 'cattle': 1L, 'led': 1L, 'happen': 1L, 'special': 1L, 'spasm': 1L, 'universities': 1L, 'expert': 3L, 'colonial': 1L, 'lend': 1L, 'herded': 1L, 'formula': 1L, 'officially': 1L, 'inaction': 1L, 'run': 1L, 'power': 3L, 'intentioned': 1L, 'million': 1L, 'zzz_twa': 2L, 'french': 1L, 'killing': 2L, 'step': 1L, 'complicated': 1L, 'put': 1L, 'drawn': 1L, 'safer': 1L, 'scarred': 1L, 'periodically': 1L, 'raise': 1L, 'prestige': 1L, 'created': 1L, 'country': 2L, 'spilled': 1L, 'violence': 1L, 'according': 1L, 'surround': 1L, 'agree': 1L, 'perhap': 1L, 'genocide': 3L, 'wrote': 1L, 'logic': 1L, 'hatred': 5L, 'argue': 1L, 'makes': 1L, 'comes': 1L, 'control': 2L, 'thinner': 1L, 'presence': 1L, 'simple': 2L, 'question': 1L, 'tribal': 2L, 'resentment': 1L, 'vis': 2L, 'twin': 1L, 'underlay': 1L, 'crisis': 1L, 'strong': 1L, 'takes': 1L, 'area': 1L, 'distinct': 1L, 'leading': 1L, 'century': 1L, 'political': 2L, 'transform': 1L, 'insult': 1L, 'secret': 1L, 'rivalries': 1L, 'assassinated': 1L, 'war': 1L, 'killed': 1L, 'belgian': 1L, 'firm': 1L, 'partly': 1L, 'outsider': 3L, 'form': 1L, 'historian': 1L, 'started': 1L, 'exploded': 1L, 'took': 1L, 'reign': 1L, 'guerrillas': 2L, 'hierarchical': 1L, 'rigid': 1L, 'zzz_great_lakes': 4L, 'manipulation': 1L, 'known': 1L, 'elite': 3L, 'pygmies': 1L, 'distance': 1L, 'kind': 2L, 'politician': 1L, 'warfare': 1L, 'places': 1L, 'zzz_belgian': 2L, 'consultant': 1L, 'zzz_rwanda': 11L, 'official': 1L, 'monarchies': 1L, 'indifference': 1L, 'zzz_africa': 5L, 'slaughtered': 1L, 'spontaneous': 1L, 'region': 2L, 'zzz_zaire': 1L, 'pre': 1L, 'real': 1L, 'figure': 1L, 'give': 1L, 'lines': 2L, 'trusting': 1L, 'turned': 1L, 'zzz_columbia_university_press': 1L, 'deep': 1L, 'quiet': 1L, 'high': 1L, 'regularity': 1L, 'exist': 1L, 'rent': 1L, 'past': 1L, 'zzz_balkan': 1L, 'seek': 1L, 'viewed': 1L, 'firmly': 1L, 'court': 1L, 'daring': 1L, 'author': 1L, 'authoritative': 1L, 'eastern': 1L, 'percent': 3L, 'ideas': 1L, 'rebellion': 1L, 'book': 1L, 'smarter': 1L, 'wonder': 1L, 'intelligent': 1L, 'conflict': 2L, 'european': 3L, 'tension': 1L, 'product': 1L, 'separate': 1L, 'zzz_hutu': 9L, 'southern': 1L, 'occurred': 1L, 'helping': 1L, 'arrived': 2L, 'arose': 1L, 'violent': 1L, 'ethnic': 6L, 'zzz_ancient': 4L, 'fighting': 3L, 'nation': 1L, 'response': 1L, 'recent': 1L, 'land': 1L, 'fighter': 1L, 'outline': 1L, 'surprising': 1L, 'seize': 1L, 'zzz_north_american': 1L, 'professor': 1L, 'camp': 1L, 'revolt': 1L, 'zzz_antwerp': 1L, 'rule': 1L, 'zzz_congo': 2L, 'person': 1L, 'races': 1L, 'withdraw': 1L, 'broad': 1L, 'nomad': 1L, 'dragged': 1L}, {'show': 1L, 'pointed': 1L, 'soon': 1L, 'ending': 1L, 'bring': 1L, 'committed': 2L, 'zzz_tutsis': 1L, 'fear': 1L, 'find': 1L, 'zzz_burundian': 1L, 'death': 1L, 'group': 1L, 'justice': 1L, 'zzz_tutsi': 4L, 'mediator': 1L, 'zzz_hang': 1L, 'hope': 1L, 'happened': 1L, 'zzz_cape_town': 1L, 'crash': 1L, 'increased': 1L, 'killer': 1L, 'supporter': 1L, 'seemingly': 1L, 'nation': 2L, 'awful': 1L, 'spur': 1L, 'killed': 1L, 'intractable': 1L, 'oddly': 1L, 'continue': 1L, 'demonized': 1L, 'round': 2L, 'set': 1L, 'force': 1L, 'deal': 1L, 'crimes': 1L, 'past': 1L, 'table': 1L, 'expert': 2L, 'zzz_south_africa': 1L, 'international': 1L, 'approach': 1L, 'leader': 1L, 'independence': 1L, 'opening': 1L, 'continuing': 1L, 'slaughter': 3L, 'leadership': 1L, 'rebel': 2L, 'beginning': 1L, 'oust': 1L, 'country': 3L, 'spilled': 1L, 'violence': 2L, 'experience': 1L, 'ignoring': 1L, 'mutually': 1L, 'amount': 1L, 'place': 1L, 'settled': 1L, 'zzz_burundi': 3L, 'point': 1L, 'merely': 1L, 'powerful': 1L, 'community': 1L, 'zzz_resolution': 1L, 'trust': 1L, 'crisis': 1L, 'rebuild': 1L, 'adopted': 1L, 'uniting': 1L, 'realization': 1L, 'war': 1L, 'offer': 1L, 'negotiating': 1L, 'argument': 1L, 'believe': 1L, 'shoot': 1L, 'room': 1L, 'presidency': 1L, 'consultant': 1L, 'zzz_rwanda': 2L, 'anew': 1L, 'situation': 1L, 'problem': 2L, 'engaged': 1L, 'belonging': 1L, 'alike': 1L, 'guarantee': 1L, 'administration': 1L, 'battles': 1L, 'polarization': 1L, 'ideal': 1L, 'party': 1L, 'conflict': 2L, 'added': 1L, 'zzz_hutu': 4L, 'hand': 1L, 'plane': 1L, 'blood': 2L, 'ethnic': 3L, 'president': 1L, 'died': 1L, 'cycle': 1L, 'zzz_nelson_mandela': 1L, 'fighting': 1L, 'zzz_congo': 1L, 'evenhandedness': 1L, 'starting': 1L}, {'show': 1L, 'pointed': 1L, 'soon': 1L, 'ending': 1L, 'bring': 1L, 'committed': 2L, 'zzz_tutsis': 1L, 'fear': 1L, 'find': 1L, 'zzz_burundian': 1L, 'death': 1L, 'group': 1L, 'justice': 1L, 'zzz_tutsi': 4L, 'mediator': 1L, 'zzz_hang': 1L, 'hope': 1L, 'happened': 1L, 'zzz_cape_town': 1L, 'crash': 1L, 'increased': 1L, 'killer': 1L, 'supporter': 1L, 'seemingly': 1L, 'nation': 2L, 'awful': 1L, 'spur': 1L, 'killed': 1L, 'intractable': 1L, 'oddly': 1L, 'continue': 1L, 'demonized': 1L, 'round': 2L, 'set': 1L, 'force': 1L, 'deal': 1L, 'crimes': 1L, 'past': 1L, 'table': 1L, 'expert': 2L, 'zzz_south_africa': 1L, 'international': 1L, 'approach': 1L, 'leader': 1L, 'independence': 1L, 'opening': 1L, 'continuing': 1L, 'slaughter': 3L, 'leadership': 1L, 'rebel': 2L, 'beginning': 1L, 'oust': 1L, 'country': 3L, 'spilled': 1L, 'violence': 2L, 'experience': 1L, 'ignoring': 1L, 'mutually': 1L, 'amount': 1L, 'place': 1L, 'settled': 1L, 'zzz_burundi': 3L, 'point': 1L, 'merely': 1L, 'powerful': 1L, 'community': 1L, 'zzz_resolution': 1L, 'trust': 1L, 'crisis': 1L, 'rebuild': 1L, 'adopted': 1L, 'uniting': 1L, 'realization': 1L, 'war': 1L, 'offer': 1L, 'negotiating': 1L, 'argument': 1L, 'believe': 1L, 'shoot': 1L, 'room': 1L, 'presidency': 1L, 'consultant': 1L, 'zzz_rwanda': 2L, 'anew': 1L, 'situation': 1L, 'problem': 2L, 'engaged': 1L, 'belonging': 1L, 'alike': 1L, 'guarantee': 1L, 'administration': 1L, 'battles': 1L, 'polarization': 1L, 'ideal': 1L, 'party': 1L, 'conflict': 2L, 'added': 1L, 'zzz_hutu': 4L, 'hand': 1L, 'plane': 1L, 'blood': 2L, 'ethnic': 3L, 'president': 1L, 'died': 1L, 'cycle': 1L, 'zzz_nelson_mandela': 1L, 'fighting': 1L, 'zzz_congo': 1L, 'evenhandedness': 1L, 'starting': 1L}, {'saying': 1L, 'selection': 1L, 'shot': 1L, 'bearer': 1L, 'zzz_michigan': 1L, 'money': 2L, 'competing': 1L, 'recipe': 1L, 'cross': 1L, 'produced': 1L, 'course': 1L, 'zzz_new_york': 1L, 'crowded': 1L, 'faster': 2L, 'supporter': 1L, 'figure': 1L, 'consider': 2L, 'devoted': 1L, 'certainly': 1L, 'death': 1L, 'number': 1L, 'candidate': 4L, 'field': 1L, 'chosen': 1L, 'effort': 1L, 'window': 1L, 'candidates': 8L, 'problematic': 1L, 'holiday': 1L, 'secretaries': 1L, 'suffocates': 1L, 'premium': 1L, 'finance': 1L, 'big': 3L, 'showing': 1L, 'watch': 1L, 'nation': 1L, 'early': 2L, 'earnest': 1L, 'historic': 1L, 'nearly': 1L, 'fall': 1L, 'front': 1L, 'zzz_california': 1L, 'trouble': 1L, 'presidential': 3L, 'insurgent': 1L, 'tumult': 1L, 'drop': 1L, 'zzz_massachusett': 1L, 'democrat': 1L, 'leader': 2L, 'consensus': 1L, 'unpredictable': 1L, 'race': 2L, 'victory': 2L, 'truth': 1L, 'wish': 1L, 'side': 1L, 'mean': 1L, 'credential': 1L, 'zzz_primaries': 6L, 'series': 1L, 'begin': 1L, 'zzz_bradley': 1L, 'engaging': 1L, 'elected': 1L, 'zzz_bruce_babbitt': 1L, 'election': 4L, 'surmount': 1L, 'fail': 1L, 'close': 1L, 'calendar': 5L, 'avoiding': 1L, 'excitement': 1L, 'countenanced': 1L, 'likelihood': 1L, 'cast': 1L, 'selected': 2L, 'continue': 2L, 'zzz_bush': 1L, 'nominees': 2L, 'progress': 1L, 'dilutes': 1L, 'judgment': 1L, 'public': 1L, 'zzz_new_hampshire': 6L, 'inevitably': 1L, 'zzz_national_association': 1L, 'transportation': 1L, 'schedule': 2L, 'equivalent': 1L, 'pushing': 1L, 'delegates': 4L, 'standard': 1L, 'voter': 2L, 'struggle': 1L, 'put': 2L, 'strong': 2L, 'beginning': 1L, 'earlier': 1L, 'raise': 1L, 'protect': 1L, 'feeling': 1L, 'flourished': 1L, 'country': 2L, 'rushed': 2L, 'moment': 1L, 'turn': 1L, 'american': 1L, 'disenfranchise': 1L, 'advertising': 1L, 'faces': 1L, 'seeing': 1L, 'narrow': 1L, 'settled': 1L, 'credible': 1L, 'zzz_iowa': 3L, 'presumably': 2L, 'author': 1L, 'campaign': 3L, 'win': 1L, 'primary': 4L, 'apt': 1L, 'raiser': 1L, 'formidable': 1L, 'vote': 1L, 'zzz_committee': 1L, 'precisely': 1L, 'zzz_mccain': 2L, 'quit': 1L, 'tuning': 1L, 'zzz_william_galvin': 1L, 'similarly': 1L, 'nomination': 1L, 'tinkering': 1L, 'question': 1L, 'shortening': 1L, 'start': 1L, 'assuring': 1L, 'zzz_arizona': 2L, 'zzz_white_house': 1L, 'passed': 1L, 'spring': 1L, 'shouldered': 1L, 'conceivable': 1L, 'especially': 2L, 'type': 1L, 'historically': 1L, 'multistate': 1L, 'season': 1L, 'training': 1L, 'inched': 1L, 'part': 1L, 'survive': 1L, 'known': 1L, 'line': 3L, 'believe': 2L, 'producing': 1L, 'analyst': 1L, 'raising': 1L, 'underfunded': 2L, 'poll': 1L, 'secretary': 1L, 'science': 2L, 'past': 1L, 'accommodating': 1L, 'edged': 1L, 'zzz_south_carolina': 1L, 'final': 1L, 'spirited': 1L, 'politic': 2L, 'remain': 1L, 'supposed': 1L, 'zzz_sen_bill_bradley': 1L, 'voice': 1L, 'examples': 1L, 'president': 1L, 'zzz_al_gore': 1L, 'constant': 1L, 'nominee': 3L, 'largely': 1L, 'process': 3L, 'zzz_paul_tsongas': 1L, 'influence': 2L, 'startling': 1L, 'general': 2L, 'states': 3L, 'middle': 2L, 'single': 1L, 'dropped': 1L, 'nominating': 1L, 'ready': 1L, 'intramural': 1L, 'engages': 1L, 'worse': 1L, 'result': 1L, 'trick': 1L, 'waging': 1L, 'excused': 1L, 'assure': 1L, 'zzz_tennessee_gov_lamar_alexander': 1L, 'travel': 1L, 'judges': 1L, 'percent': 4L, 'ideas': 1L, 'zzz_texas_gov_george_w_bush': 1L, 'haphazard': 1L, 'chairman': 1L, 'grand': 1L, 'finding': 1L, 'party': 1L, 'establishment': 1L, 'defeat': 1L, 'status': 1L, 'badly': 1L, 'zzz_republican': 4L, 'finish': 1L, 'zzz_sen_john_mccain': 1L, 'intended': 1L, 'attend': 1L, 'opposite': 1L, 'await': 1L, 'running': 1L, 'plan': 1L, 'contest': 3L, 'meaningful': 1L, 'retail': 1L, 'remember': 1L, 'fund': 1L, 'slightly': 1L, 'professor': 2L, 'zzz_american': 2L, 'spent': 1L, 'exhausting': 1L, 'prepare': 1L, 'democratic': 4L, 'starting': 1L, 'order': 1L}, {'saying': 1L, 'selection': 1L, 'shot': 1L, 'bearer': 1L, 'zzz_michigan': 1L, 'money': 2L, 'competing': 1L, 'recipe': 1L, 'cross': 1L, 'produced': 1L, 'course': 1L, 'zzz_new_york': 1L, 'crowded': 1L, 'faster': 2L, 'supporter': 1L, 'figure': 1L, 'consider': 2L, 'devoted': 1L, 'certainly': 1L, 'death': 1L, 'number': 1L, 'candidate': 4L, 'field': 1L, 'chosen': 1L, 'effort': 1L, 'window': 1L, 'candidates': 8L, 'problematic': 1L, 'holiday': 1L, 'secretaries': 1L, 'suffocates': 1L, 'premium': 1L, 'finance': 1L, 'big': 3L, 'showing': 1L, 'watch': 1L, 'nation': 1L, 'early': 2L, 'earnest': 1L, 'historic': 1L, 'nearly': 1L, 'fall': 1L, 'front': 1L, 'zzz_california': 1L, 'trouble': 1L, 'presidential': 3L, 'insurgent': 1L, 'tumult': 1L, 'drop': 1L, 'zzz_massachusett': 1L, 'democrat': 1L, 'leader': 2L, 'consensus': 1L, 'unpredictable': 1L, 'race': 2L, 'victory': 2L, 'truth': 1L, 'wish': 1L, 'side': 1L, 'mean': 1L, 'credential': 1L, 'zzz_primaries': 6L, 'series': 1L, 'begin': 1L, 'zzz_bradley': 1L, 'engaging': 1L, 'elected': 1L, 'zzz_bruce_babbitt': 1L, 'election': 4L, 'surmount': 1L, 'fail': 1L, 'close': 1L, 'calendar': 5L, 'avoiding': 1L, 'excitement': 1L, 'countenanced': 1L, 'likelihood': 1L, 'cast': 1L, 'selected': 2L, 'continue': 2L, 'zzz_bush': 1L, 'nominees': 2L, 'progress': 1L, 'dilutes': 1L, 'judgment': 1L, 'public': 1L, 'zzz_new_hampshire': 6L, 'inevitably': 1L, 'zzz_national_association': 1L, 'transportation': 1L, 'schedule': 2L, 'equivalent': 1L, 'pushing': 1L, 'delegates': 4L, 'standard': 1L, 'voter': 2L, 'struggle': 1L, 'put': 2L, 'strong': 2L, 'beginning': 1L, 'earlier': 1L, 'raise': 1L, 'protect': 1L, 'feeling': 1L, 'flourished': 1L, 'country': 2L, 'rushed': 2L, 'moment': 1L, 'turn': 1L, 'american': 1L, 'disenfranchise': 1L, 'advertising': 1L, 'faces': 1L, 'seeing': 1L, 'narrow': 1L, 'settled': 1L, 'credible': 1L, 'zzz_iowa': 3L, 'presumably': 2L, 'author': 1L, 'campaign': 3L, 'win': 1L, 'primary': 4L, 'apt': 1L, 'raiser': 1L, 'formidable': 1L, 'vote': 1L, 'zzz_committee': 1L, 'precisely': 1L, 'zzz_mccain': 2L, 'quit': 1L, 'tuning': 1L, 'zzz_william_galvin': 1L, 'similarly': 1L, 'nomination': 1L, 'tinkering': 1L, 'question': 1L, 'shortening': 1L, 'start': 1L, 'assuring': 1L, 'zzz_arizona': 2L, 'zzz_white_house': 1L, 'passed': 1L, 'spring': 1L, 'shouldered': 1L, 'conceivable': 1L, 'especially': 2L, 'type': 1L, 'historically': 1L, 'multistate': 1L, 'season': 1L, 'training': 1L, 'inched': 1L, 'part': 1L, 'survive': 1L, 'known': 1L, 'line': 3L, 'believe': 2L, 'producing': 1L, 'analyst': 1L, 'raising': 1L, 'underfunded': 2L, 'poll': 1L, 'secretary': 1L, 'science': 2L, 'past': 1L, 'accommodating': 1L, 'edged': 1L, 'zzz_south_carolina': 1L, 'final': 1L, 'spirited': 1L, 'politic': 2L, 'remain': 1L, 'supposed': 1L, 'zzz_sen_bill_bradley': 1L, 'voice': 1L, 'examples': 1L, 'president': 1L, 'zzz_al_gore': 1L, 'constant': 1L, 'nominee': 3L, 'largely': 1L, 'process': 3L, 'zzz_paul_tsongas': 1L, 'influence': 2L, 'startling': 1L, 'general': 2L, 'states': 3L, 'middle': 2L, 'single': 1L, 'dropped': 1L, 'nominating': 1L, 'ready': 1L, 'intramural': 1L, 'engages': 1L, 'worse': 1L, 'result': 1L, 'trick': 1L, 'waging': 1L, 'excused': 1L, 'assure': 1L, 'zzz_tennessee_gov_lamar_alexander': 1L, 'travel': 1L, 'judges': 1L, 'percent': 4L, 'ideas': 1L, 'zzz_texas_gov_george_w_bush': 1L, 'haphazard': 1L, 'chairman': 1L, 'grand': 1L, 'finding': 1L, 'party': 1L, 'establishment': 1L, 'defeat': 1L, 'status': 1L, 'badly': 1L, 'zzz_republican': 4L, 'finish': 1L, 'zzz_sen_john_mccain': 1L, 'intended': 1L, 'attend': 1L, 'opposite': 1L, 'await': 1L, 'running': 1L, 'plan': 1L, 'contest': 3L, 'meaningful': 1L, 'retail': 1L, 'remember': 1L, 'fund': 1L, 'slightly': 1L, 'professor': 2L, 'zzz_american': 2L, 'spent': 1L, 'exhausting': 1L, 'prepare': 1L, 'democratic': 4L, 'starting': 1L, 'order': 1L}, {'summer': 1L, 'help': 1L, 'produces': 1L, 'shape': 1L, 'find': 1L, 'loading': 1L, 'candidate': 3L, 'winning': 2L, 'believing': 1L, 'sway': 1L, 'congressional': 1L, 'happened': 1L, 'hit': 1L, 'posed': 1L, 'zzz_witness': 1L, 'sooner': 1L, 'break': 1L, 'front': 1L, 'republican': 4L, 'struggled': 1L, 'gray': 2L, 'resolve': 1L, 'committees': 1L, 'success': 1L, 'feverish': 1L, 'leave': 1L, 'bad': 2L, 'race': 2L, 'guy': 1L, 'view': 2L, 'set': 1L, 'force': 1L, 'spring': 1L, 'reduce': 1L, 'zzz_bradley': 1L, 'hair': 2L, 'likely': 2L, 'result': 2L, 'concern': 1L, 'reform': 1L, 'supporter': 1L, 'shut': 1L, 'evolved': 1L, 'pushing': 1L, 'notably': 1L, 'voter': 1L, 'change': 1L, 'stage': 1L, 'enormous': 1L, 'prescription': 1L, 'thread': 1L, 'country': 1L, 'zzz_joe_andrew': 1L, 'experience': 1L, 'participating': 1L, 'turn': 1L, 'tactical': 1L, 'mean': 1L, 'campaign': 3L, 'feel': 1L, 'washington': 1L, 'primary': 3L, 'traveled': 1L, 'uphill': 1L, 'likes': 1L, 'reducing': 1L, 'zzz_mccain': 1L, 'disinterested': 1L, 'complication': 1L, 'outsider': 1L, 'political': 2L, 'system': 3L, 'commission': 1L, 'examination': 1L, 'interest': 1L, 'convention': 1L, 'candidates': 2L, 'happy': 1L, 'season': 1L, 'offered': 1L, 'needle': 1L, 'tested': 1L, 'zzz_richard_bond': 2L, 'worked': 1L, 'hold': 2L, 'present': 1L, 'count': 1L, 'distance': 1L, 'exception': 1L, 'consultant': 1L, 'past': 1L, 'record': 1L, 'policies': 1L, 'learn': 1L, 'feeling': 1L, 'zzz_paul_begala': 1L, 'zzz_bob_dole': 1L, 'nominee': 2L, 'played': 1L, 'process': 2L, 'states': 1L, 'examine': 1L, 'campaigning': 1L, 'zzz_james_carville': 2L, 'fill': 1L, 'dominant': 1L, 'contest': 1L, 'zzz_clinton': 1L, 'shorter': 1L, 'role': 1L, 'chairman': 2L, 'zzz_donald_trump': 1L, 'zzz_party': 5L, 'play': 1L, 'zzz_bill_clinton': 2L, 'chance': 2L, 'running': 1L, 'professional': 1L, 'nomination': 2L, 'grow': 1L, 'cycle': 1L, 'early': 3L, 'fighter': 1L, 'largely': 1L, 'traditional': 1L, 'compete': 1L, 'fundamental': 1L, 'position': 1L, 'democratic': 2L}, {'summer': 1L, 'help': 1L, 'produces': 1L, 'shape': 1L, 'find': 1L, 'loading': 1L, 'candidate': 3L, 'winning': 2L, 'believing': 1L, 'sway': 1L, 'congressional': 1L, 'happened': 1L, 'hit': 1L, 'posed': 1L, 'zzz_witness': 1L, 'sooner': 1L, 'break': 1L, 'front': 1L, 'republican': 4L, 'struggled': 1L, 'gray': 2L, 'resolve': 1L, 'committees': 1L, 'success': 1L, 'feverish': 1L, 'leave': 1L, 'bad': 2L, 'race': 2L, 'guy': 1L, 'view': 2L, 'set': 1L, 'force': 1L, 'spring': 1L, 'reduce': 1L, 'zzz_bradley': 1L, 'hair': 2L, 'likely': 2L, 'result': 2L, 'concern': 1L, 'reform': 1L, 'supporter': 1L, 'shut': 1L, 'evolved': 1L, 'pushing': 1L, 'notably': 1L, 'voter': 1L, 'change': 1L, 'stage': 1L, 'enormous': 1L, 'prescription': 1L, 'thread': 1L, 'country': 1L, 'zzz_joe_andrew': 1L, 'experience': 1L, 'participating': 1L, 'turn': 1L, 'tactical': 1L, 'mean': 1L, 'campaign': 3L, 'feel': 1L, 'washington': 1L, 'primary': 3L, 'traveled': 1L, 'uphill': 1L, 'likes': 1L, 'reducing': 1L, 'zzz_mccain': 1L, 'disinterested': 1L, 'complication': 1L, 'outsider': 1L, 'political': 2L, 'system': 3L, 'commission': 1L, 'examination': 1L, 'interest': 1L, 'convention': 1L, 'candidates': 2L, 'happy': 1L, 'season': 1L, 'offered': 1L, 'needle': 1L, 'tested': 1L, 'zzz_richard_bond': 2L, 'worked': 1L, 'hold': 2L, 'present': 1L, 'count': 1L, 'distance': 1L, 'exception': 1L, 'consultant': 1L, 'past': 1L, 'record': 1L, 'policies': 1L, 'learn': 1L, 'feeling': 1L, 'zzz_paul_begala': 1L, 'zzz_bob_dole': 1L, 'nominee': 2L, 'played': 1L, 'process': 2L, 'states': 1L, 'examine': 1L, 'campaigning': 1L, 'zzz_james_carville': 2L, 'fill': 1L, 'dominant': 1L, 'contest': 1L, 'zzz_clinton': 1L, 'shorter': 1L, 'role': 1L, 'chairman': 2L, 'zzz_donald_trump': 1L, 'zzz_party': 5L, 'play': 1L, 'zzz_bill_clinton': 2L, 'chance': 2L, 'running': 1L, 'professional': 1L, 'nomination': 2L, 'grow': 1L, 'cycle': 1L, 'early': 3L, 'fighter': 1L, 'largely': 1L, 'traditional': 1L, 'compete': 1L, 'fundamental': 1L, 'position': 1L, 'democratic': 2L}, {'essay': 2L, 'represent': 1L, 'zzz_bessie_smith': 1L, 'medalist': 1L, 'rom': 2L, 'saying': 2L, 'captures': 1L, 'executive': 1L, 'unseen': 1L, 'fabricated': 1L, 'zzz_u_s': 1L, 'psyche': 1L, 'drawer': 1L, 'paper': 1L, 'human': 3L, 'integrity': 1L, 'principal': 1L, 'zzz_harvard': 1L, 'collaborated': 1L, 'generous': 2L, 'fit': 1L, 'chosen': 1L, 'reel': 1L, 'zzz_northern_mariana_island': 1L, 'winner': 2L, 'values': 1L, 'spoken': 1L, 'finally': 1L, 'wood': 1L, 'black': 2L, 'choose': 1L, 'developed': 1L, 'millennium': 1L, 'smart': 1L, 'congressional': 1L, 'capsules': 1L, 'seeking': 1L, 'compassion': 1L, 'showing': 1L, 'nation': 2L, 'early': 1L, 'capsule': 4L, 'courage': 2L, 'humanities': 1L, 'birth': 1L, 'recipient': 2L, 'realize': 1L, 'presidential': 1L, 'school': 1L, 'scholar': 1L, 'gift': 1L, 'countries': 1L, 'collective': 1L, 'accompanying': 1L, 'composition': 1L, 'large': 1L, 'item': 3L, 'continue': 1L, 'announced': 1L, 'zzz_smithsonian_institution': 2L, 'anti': 1L, 'limit': 1L, 'zzz_august_wilson': 1L, 'wrote': 2L, 'brave': 1L, 'titled': 1L, 'generation': 2L, 'zzz_hillary_rodham_clinton': 1L, 'oppressed': 1L, 'past': 1L, 'culture': 1L, 'defense': 1L, 'design': 2L, 'convey': 1L, 'origami': 1L, 'functioning': 1L, 'profound': 1L, 'blue': 1L, 'shapes': 1L, 'ultimately': 1L, 'computer': 1L, 'space': 2L, 'historic': 1L, 'cell': 1L, 'written': 1L, 'sustain': 1L, 'rotunda': 1L, 'fortitude': 1L, 'zzz_berlin_wall': 1L, 'red': 1L, 'eagle': 2L, 'biology': 1L, 'zzz_cherokee': 2L, 'chose': 1L, 'power': 1L, 'rolled': 1L, 'learn': 1L, 'drawing': 1L, 'twentieth': 1L, 'grapes': 1L, 'resurrection': 1L, 'beginning': 1L, 'properties': 1L, 'bronze': 1L, 'publication': 1L, 'suggested': 2L, 'received': 1L, 'climate': 1L, 'baptism': 1L, 'actual': 1L, 'redemption': 1L, 'language': 2L, 'created': 1L, 'universe': 1L, 'zzz_james_watson': 1L, 'experience': 1L, 'display': 3L, 'silicon': 1L, 'honoring': 1L, 'american': 1L, 'important': 1L, 'place': 1L, 'stand': 2L, 'stainless': 2L, 'discard': 1L, 'contribution': 1L, 'fell': 1L, 'zzz_world_war_ii': 1L, 'playwright': 1L, 'love': 1L, 'reverence': 1L, 'simple': 1L, 'sweet': 1L, 'explained': 1L, 'commitment': 1L, 'grade': 1L, 'submission': 2L, 'feet': 3L, 'thankful': 1L, 'zzz_freedom': 3L, 'ninety': 1L, 'promise': 1L, 'crafted': 1L, 'strip': 2L, 'elementary': 1L, 'respect': 1L, 'fight': 1L, 'open': 1L, 'engineer': 1L, 'stuttered': 1L, 'ancient': 1L, 'legacy': 1L, 'wrath': 1L, 'area': 1L, 'zzz_washington': 1L, 'century': 1L, 'racism': 1L, 'teacher': 2L, 'chief': 1L, 'live': 1L, 'refuge': 1L, 'sealed': 1L, 'zzz_twinkie': 1L, 'expected': 1L, 'architect': 1L, 'white': 1L, 'compartment': 1L, 'today': 1L, 'archives': 1L, 'project': 1L, 'letter': 1L, 'controlled': 1L, 'statement': 1L, 'trait': 1L, 'completed': 2L, 'formed': 2L, 'immemorial': 1L, 'award': 2L, 'symbolizing': 1L, 'flag': 2L, 'part': 1L, 'taught': 1L, 'survived': 1L, 'child': 1L, 'believe': 1L, 'representing': 1L, 'steel': 2L, 'prototype': 3L, 'landing': 1L, 'effective': 1L, 'heard': 1L, 'zzz_right': 2L, 'instruction': 1L, 'submitted': 5L, 'recording': 1L, 'remain': 1L, 'future': 4L, 'obvious': 1L, 'relocated': 1L, 'zzz_w_e_b_du_bois': 1L, 'country': 1L, 'industrial': 2L, 'mighty': 1L, 'piece': 2L, 'called': 1L, 'history': 2L, 'zzz_american': 4L, 'motif': 1L, 'citizenship': 1L, 'inclusive': 1L, 'defined': 1L, 'banded': 1L, 'chip': 1L, 'official': 2L, 'mine': 1L, 'deep': 1L, 'zzz_amidst': 1L, 'high': 1L, 'titanium': 1L, 'smaller': 1L, 'audiences': 1L, 'carved': 1L, 'unveiled': 1L, 'seen': 1L, 'sunglasses': 1L, 'zzz_cold_spring_harbor_laboratory': 1L, 'fairer': 1L, 'film': 1L, 'zzz_oklahoma': 1L, 'helmet': 1L, 'secure': 1L, 'sit': 1L, 'alphabet': 1L, 'song': 2L, 'ideas': 1L, 'actor': 1L, 'zzz_clinton': 1L, 'write': 1L, 'zzz_america': 4L, 'chest': 1L, 'book': 1L, 'republic': 1L, 'genome': 1L, 'explanation': 1L, 'zzz_bill': 1L, 'development': 1L, 'replicas': 1L, 'summer': 2L, 'comprehensive': 1L, 'symbol': 1L, 'object': 1L, 'solicited': 1L, 'director': 4L, 'class': 1L, 'produce': 1L, 'plan': 1L, 'student': 2L, 'society': 1L, 'president': 1L, 'medal': 2L, 'zzz_gregory_peck': 1L, 'lower': 1L, 'land': 2L, 'individual': 1L, 'council': 1L, 'older': 1L, 'zzz_national_museum': 2L, 'age': 1L, 'zzz_encarta_africana': 1L, 'metal': 2L, 'cultural': 1L, 'zzz_neil_armstrong': 1L, 'fondest': 1L, 'construction': 1L, 'encyclopedia': 2L, 'artistic': 1L, 'communication': 1L, 'determination': 1L, 'embodying': 1L, 'zzz_ray_charles': 1L, 'hope': 2L}, {'essay': 2L, 'represent': 1L, 'zzz_bessie_smith': 1L, 'medalist': 1L, 'rom': 2L, 'saying': 2L, 'captures': 1L, 'executive': 1L, 'unseen': 1L, 'fabricated': 1L, 'zzz_u_s': 1L, 'psyche': 1L, 'drawer': 1L, 'paper': 1L, 'human': 3L, 'integrity': 1L, 'principal': 1L, 'zzz_harvard': 1L, 'collaborated': 1L, 'generous': 2L, 'fit': 1L, 'chosen': 1L, 'reel': 1L, 'zzz_northern_mariana_island': 1L, 'winner': 2L, 'values': 1L, 'spoken': 1L, 'finally': 1L, 'wood': 1L, 'black': 2L, 'choose': 1L, 'developed': 1L, 'millennium': 1L, 'smart': 1L, 'congressional': 1L, 'capsules': 1L, 'seeking': 1L, 'compassion': 1L, 'showing': 1L, 'nation': 2L, 'early': 1L, 'capsule': 4L, 'courage': 2L, 'humanities': 1L, 'birth': 1L, 'recipient': 2L, 'realize': 1L, 'presidential': 1L, 'school': 1L, 'scholar': 1L, 'gift': 1L, 'countries': 1L, 'collective': 1L, 'accompanying': 1L, 'composition': 1L, 'large': 1L, 'item': 3L, 'continue': 1L, 'announced': 1L, 'zzz_smithsonian_institution': 2L, 'anti': 1L, 'limit': 1L, 'zzz_august_wilson': 1L, 'wrote': 2L, 'brave': 1L, 'titled': 1L, 'generation': 2L, 'zzz_hillary_rodham_clinton': 1L, 'oppressed': 1L, 'past': 1L, 'culture': 1L, 'defense': 1L, 'design': 2L, 'convey': 1L, 'origami': 1L, 'functioning': 1L, 'profound': 1L, 'blue': 1L, 'shapes': 1L, 'ultimately': 1L, 'computer': 1L, 'space': 2L, 'historic': 1L, 'cell': 1L, 'written': 1L, 'sustain': 1L, 'rotunda': 1L, 'fortitude': 1L, 'zzz_berlin_wall': 1L, 'red': 1L, 'eagle': 2L, 'biology': 1L, 'zzz_cherokee': 2L, 'chose': 1L, 'power': 1L, 'rolled': 1L, 'learn': 1L, 'drawing': 1L, 'twentieth': 1L, 'grapes': 1L, 'resurrection': 1L, 'beginning': 1L, 'properties': 1L, 'bronze': 1L, 'publication': 1L, 'suggested': 2L, 'received': 1L, 'climate': 1L, 'baptism': 1L, 'actual': 1L, 'redemption': 1L, 'language': 2L, 'created': 1L, 'universe': 1L, 'zzz_james_watson': 1L, 'experience': 1L, 'display': 3L, 'silicon': 1L, 'honoring': 1L, 'american': 1L, 'important': 1L, 'place': 1L, 'stand': 2L, 'stainless': 2L, 'discard': 1L, 'contribution': 1L, 'fell': 1L, 'zzz_world_war_ii': 1L, 'playwright': 1L, 'love': 1L, 'reverence': 1L, 'simple': 1L, 'sweet': 1L, 'explained': 1L, 'commitment': 1L, 'grade': 1L, 'submission': 2L, 'feet': 3L, 'thankful': 1L, 'zzz_freedom': 3L, 'ninety': 1L, 'promise': 1L, 'crafted': 1L, 'strip': 2L, 'elementary': 1L, 'respect': 1L, 'fight': 1L, 'open': 1L, 'engineer': 1L, 'stuttered': 1L, 'ancient': 1L, 'legacy': 1L, 'wrath': 1L, 'area': 1L, 'zzz_washington': 1L, 'century': 1L, 'racism': 1L, 'teacher': 2L, 'chief': 1L, 'live': 1L, 'refuge': 1L, 'sealed': 1L, 'zzz_twinkie': 1L, 'expected': 1L, 'architect': 1L, 'white': 1L, 'compartment': 1L, 'today': 1L, 'archives': 1L, 'project': 1L, 'letter': 1L, 'controlled': 1L, 'statement': 1L, 'trait': 1L, 'completed': 2L, 'formed': 2L, 'immemorial': 1L, 'award': 2L, 'symbolizing': 1L, 'flag': 2L, 'part': 1L, 'taught': 1L, 'survived': 1L, 'child': 1L, 'believe': 1L, 'representing': 1L, 'steel': 2L, 'prototype': 3L, 'landing': 1L, 'effective': 1L, 'heard': 1L, 'zzz_right': 2L, 'instruction': 1L, 'submitted': 5L, 'recording': 1L, 'remain': 1L, 'future': 4L, 'obvious': 1L, 'relocated': 1L, 'zzz_w_e_b_du_bois': 1L, 'country': 1L, 'industrial': 2L, 'mighty': 1L, 'piece': 2L, 'called': 1L, 'history': 2L, 'zzz_american': 4L, 'motif': 1L, 'citizenship': 1L, 'inclusive': 1L, 'defined': 1L, 'banded': 1L, 'chip': 1L, 'official': 2L, 'mine': 1L, 'deep': 1L, 'zzz_amidst': 1L, 'high': 1L, 'titanium': 1L, 'smaller': 1L, 'audiences': 1L, 'carved': 1L, 'unveiled': 1L, 'seen': 1L, 'sunglasses': 1L, 'zzz_cold_spring_harbor_laboratory': 1L, 'fairer': 1L, 'film': 1L, 'zzz_oklahoma': 1L, 'helmet': 1L, 'secure': 1L, 'sit': 1L, 'alphabet': 1L, 'song': 2L, 'ideas': 1L, 'actor': 1L, 'zzz_clinton': 1L, 'write': 1L, 'zzz_america': 4L, 'chest': 1L, 'book': 1L, 'republic': 1L, 'genome': 1L, 'explanation': 1L, 'zzz_bill': 1L, 'development': 1L, 'replicas': 1L, 'summer': 2L, 'comprehensive': 1L, 'symbol': 1L, 'object': 1L, 'solicited': 1L, 'director': 4L, 'class': 1L, 'produce': 1L, 'plan': 1L, 'student': 2L, 'society': 1L, 'president': 1L, 'medal': 2L, 'zzz_gregory_peck': 1L, 'lower': 1L, 'land': 2L, 'individual': 1L, 'council': 1L, 'older': 1L, 'zzz_national_museum': 2L, 'age': 1L, 'zzz_encarta_africana': 1L, 'metal': 2L, 'cultural': 1L, 'zzz_neil_armstrong': 1L, 'fondest': 1L, 'construction': 1L, 'encyclopedia': 2L, 'artistic': 1L, 'communication': 1L, 'determination': 1L, 'embodying': 1L, 'zzz_ray_charles': 1L, 'hope': 2L}, {'cave': 2L, 'evidence': 1L, 'shoes': 2L, 'cried': 1L, 'money': 1L, 'surrender': 1L, 'paper': 1L, 'victim': 5L, 'dirty': 1L, 'zzz_jang': 3L, 'children': 4L, 'tables': 1L, 'apartment': 3L, 'police': 9L, 'office': 2L, 'mother': 2L, 'hated': 1L, 'sale': 1L, 'dispose': 1L, 'upstair': 1L, 'actually': 1L, 'finally': 1L, 'spread': 1L, 'easy': 1L, 'wet': 1L, 'tormented': 1L, 'fool': 1L, 'complaint': 1L, 'mixture': 1L, 'fate': 1L, 'entire': 1L, 'read': 1L, 'killer': 5L, 'nation': 1L, 'early': 1L, 'historic': 1L, 'diary': 1L, 'wealthy': 1L, 'son': 1L, 'killed': 2L, 'easily': 1L, 'term': 1L, 'rumpled': 1L, 'announcing': 1L, 'policeman': 1L, 'wooden': 1L, 'notes': 1L, 'confederates': 1L, 'list': 1L, 'satchel': 1L, 'admitted': 1L, 'fretted': 1L, 'large': 2L, 'item': 1L, 'offices': 1L, 'annotated': 1L, 'drainage': 1L, 'small': 1L, 'found': 2L, 'clothes': 2L, 'cry': 1L, 'pledge': 2L, 'badly': 1L, 'arrested': 1L, 'belonged': 1L, 'crimes': 2L, 'dead': 1L, 'past': 1L, 'society': 1L, 'likely': 1L, 'accused': 1L, 'surrendered': 1L, 'unsure': 1L, 'died': 1L, 'acid': 3L, 'contend': 1L, 'army': 1L, 'friend': 1L, 'container': 1L, 'pathetic': 1L, 'section': 1L, 'beaten': 1L, 'recorded': 1L, 'find': 2L, 'looking': 1L, 'written': 2L, 'custody': 2L, 'summoned': 1L, 'shared': 1L, 'learned': 1L, 'public': 2L, 'filled': 1L, 'told': 3L, 'body': 1L, 'earlier': 1L, 'led': 1L, 'parent': 1L, 'missing': 1L, 'slaying': 1L, 'revenge': 2L, 'fugitive': 1L, 'death': 1L, 'notorious': 1L, 'alleyway': 1L, 'killing': 1L, 'business': 1L, 'heroic': 1L, 'hiding': 1L, 'retribution': 1L, 'boy': 1L, 'dates': 1L, 'piles': 2L, 'invited': 1L, 'incriminating': 1L, 'according': 1L, 'acknowledged': 1L, 'called': 1L, 'murderer': 3L, 'bothersome': 1L, 'act': 1L, 'cyanide': 1L, 'enticed': 1L, 'introduced': 1L, 'binge': 1L, 'beggar': 1L, 'staggered': 1L, 'family': 1L, 'danger': 1L, 'search': 1L, 'merely': 2L, 'confession': 1L, 'reflected': 1L, 'young': 2L, 'fantasy': 1L, 'names': 1L, 'traveler': 1L, 'mass': 2L, 'runaway': 1L, 'fed': 1L, 'accomplices': 1L, 'zzz_pakistan': 1L, 'publication': 1L, 'homicidal': 1L, 'caught': 1L, 'slept': 1L, 'deadlines': 1L, 'haggard': 1L, 'breath': 1L, 'immense': 1L, 'poured': 1L, 'zzz_english': 1L, 'calm': 1L, 'interest': 1L, 'mean': 1L, 'unrepentant': 1L, 'tell': 1L, 'today': 1L, 'wobbly': 1L, 'suffocated': 1L, 'rummage': 1L, 'stopped': 1L, 'lived': 1L, 'passed': 1L, 'riot': 1L, 'relieved': 1L, 'ages': 1L, 'thousand': 1L, 'mask': 1L, 'took': 1L, 'zzz_criticism': 1L, 'grief': 1L, 'fund': 1L, 'repeated': 1L, 'drown': 1L, 'wanted': 2L, 'suspected': 1L, 'trying': 1L, 'violate': 1L, 'reporter': 3L, 'count': 1L, 'word': 1L, 'wore': 1L, 'hour': 1L, 'recall': 1L, 'cash': 1L, 'entertained': 1L, 'decided': 1L, 'apples': 1L, 'newspaper': 2L, 'sister': 1L, 'problem': 2L, 'minutes': 1L, 'inhale': 1L, 'gallow': 1L, 'teen': 1L, 'confessional': 1L, 'servant': 1L, 'zzz_lahore': 2L, 'confessed': 1L, 'turned': 1L, 'sleeping': 1L, 'helped': 1L, 'tiny': 1L, 'frantic': 1L, 'receptionist': 2L, 'spectacle': 1L, 'station': 1L, 'deed': 1L, 'clothing': 1L, 'check': 1L, 'charged': 1L, 'huge': 1L, 'terrorist': 1L, 'scoop': 1L, 'saw': 1L, 'seeking': 1L, 'pressing': 1L, 'detail': 1L, 'vat': 2L, 'chemical': 1L, 'action': 1L, 'morbid': 1L, 'holding': 1L, 'place': 1L, 'parental': 1L, 'residue': 1L, 'hunt': 1L, 'intended': 1L, 'diaries': 1L, 'reporting': 1L, 'questioning': 1L, 'helping': 1L, 'wrinkled': 1L, 'vengeance': 1L, 'hide': 1L, 'lobby': 1L, 'culvert': 2L, 'complained': 1L, 'dissolving': 1L, 'drain': 1L, 'succeeded': 1L, 'scourge': 1L, 'request': 1L, 'spent': 1L, 'daily': 1L, 'asked': 1L, 'looked': 1L, 'sodomy': 1L, 'sewer': 1L, 'snapshot': 1L, 'remarked': 1L, 'lined': 1L, 'egg': 1L, 'bodies': 2L, 'left': 1L}, {'summer': 1L, 'show': 1L, 'money': 1L, 'dollar': 1L, 'soon': 1L, 'competitive': 2L, 'founded': 1L, 'catch': 1L, 'zzz_new_york': 1L, 'zzz_minnesota': 1L, 'zzz_california': 1L, 'follow': 1L, 'cold': 1L, 'conservative': 1L, 'zzz_richard_nixon': 1L, 'find': 2L, 'ground': 1L, 'begin': 1L, 'adding': 1L, 'giant': 1L, 'disregarded': 1L, 'campaign': 4L, 'candidate': 1L, 'recover': 1L, 'disposal': 1L, 'mantle': 1L, 'zzz_steve_forbes': 1L, 'add': 1L, 'bracing': 1L, 'candidates': 4L, 'include': 2L, 'jab': 1L, 'hope': 1L, 'real': 2L, 'adviser': 1L, 'greater': 1L, 'aggressively': 1L, 'material': 1L, 'rush': 1L, 'choice': 1L, 'zzz_texas': 1L, 'possibly': 1L, 'candid': 1L, 'half': 1L, 'front': 2L, 'affect': 1L, 'emergence': 1L, 'republican': 3L, 'caucuses': 1L, 'presidential': 2L, 'entire': 1L, 'term': 1L, 'zzz_senator_mccain': 3L, 'fortune': 1L, 'selectman': 1L, 'democrat': 2L, 'loses': 1L, 'race': 1L, 'zzz_new_hampshire': 6L, 'truth': 1L, 'recall': 1L, 'side': 1L, 'mean': 1L, 'upper': 1L, 'politicking': 1L, 'constructing': 1L, 'truncated': 1L, 'deluge': 1L, 'hard': 1L, 'zzz_republican': 2L, 'potent': 1L, 'sign': 2L, 'unexpectedly': 1L, 'challenger': 1L, 'tidily': 1L, 'election': 1L, 'close': 2L, 'calendar': 1L, 'organizing': 1L, 'skill': 1L, 'situation': 1L, 'contend': 1L, 'shown': 1L, 'describing': 1L, 'leader': 1L, 'reform': 1L, 'firecracker': 1L, 'rejiggered': 1L, 'expressed': 1L, 'mayor': 1L, 'zzz_ed_rendell': 2L, 'juggernaut': 1L, 'zzz_bush': 4L, 'nominees': 1L, 'chairmen': 1L, 'commentator': 1L, 'public': 1L, 'exercise': 1L, 'attention': 1L, 'recently': 1L, 'schedule': 3L, 'commercial': 1L, 'million': 2L, 'wrapping': 1L, 'votes': 1L, 'free': 1L, 'electoral': 1L, 'unusually': 1L, 'losing': 1L, 'alert': 1L, 'optional': 1L, 'intense': 1L, 'stage': 1L, 'comparison': 1L, 'dates': 1L, 'zzz_n_h': 1L, 'ahead': 1L, 'battling': 1L, 'seeking': 1L, 'funded': 1L, 'equal': 1L, 'comment': 1L, 'drama': 1L, 'turn': 2L, 'american': 1L, 'stick': 1L, 'survey': 1L, 'threat': 2L, 'faces': 1L, 'retail': 1L, 'traded': 1L, 'asked': 1L, 'stakes': 1L, 'sticking': 1L, 'zzz_iowa': 4L, 'major': 1L, 'hero': 1L, 'family': 1L, 'striking': 1L, 'threatening': 1L, 'contender': 5L, 'period': 1L, 'rank': 1L, 'sway': 1L, 'weather': 1L, 'zzz_nelson_rockefeller': 1L, 'carry': 1L, 'poll': 1L, 'bingo': 1L, 'eye': 1L, 'stretch': 1L, 'beginning': 1L, 'political': 2L, 'quickly': 1L, 'parties': 2L, 'runner': 2L, 'zzz_jim_nicholson': 4L, 'zzz_arizona': 1L, 'dash': 1L, 'leading': 1L, 'head': 2L, 'frenzied': 1L, 'season': 2L, 'government': 1L, 'apparent': 1L, 'zzz_lyndon_johnson': 2L, 'fund': 1L, 'races': 1L, 'zzz_gov_jesse_ventura': 1L, 'qualm': 1L, 'known': 1L, 'zzz_bradley': 2L, 'brushed': 1L, 'potential': 1L, 'raising': 1L, 'twist': 1L, 'keeping': 1L, 'calculus': 1L, 'debates': 1L, 'happen': 1L, 'frozen': 1L, 'rival': 1L, 'challenge': 1L, 'zzz_pat_buchanan': 1L, 'critic': 1L, 'zzz_south_carolina': 1L, 'cast': 1L, 'strategize': 1L, 'zzz_national_committee': 2L, 'prelude': 1L, 'sedate': 1L, 'speediest': 1L, 'zzz_sen_bill_bradley': 1L, 'outcome': 1L, 'playing': 1L, 'recalling': 1L, 'unfolding': 1L, 'zzz_ross_perot': 2L, 'zzz_al_gore': 5L, 'estate': 1L, 'retires': 1L, 'zzz_gov_george_w_bush': 1L, 'zzz_philadelphia': 1L, 'tycoon': 1L, 'general': 2L, 'states': 3L, 'authentic': 1L, 'hearten': 1L, 'comfortably': 1L, 'elbowed': 1L, 'unanticipated': 1L, 'organizational': 1L, 'campaigning': 2L, 'zzz_john_kennedy': 2L, 'television': 1L, 'hastened': 1L, 'viewed': 1L, 'string': 1L, 'democratic': 2L, 'counting': 1L, 'piled': 1L, 'pay': 1L, 'stake': 1L, 'reminded': 1L, 'clearly': 1L, 'high': 2L, 'unaccustomed': 1L, 'chairman': 3L, 'zzz_donald_trump': 1L, 'zzz_party': 2L, 'primaries': 1L, 'ferocious': 1L, 'profile': 1L, 'unbelievable': 1L, 'zzz_sen_john_mccain': 1L, 'handicap': 1L, 'surprise': 1L, 'immersed': 1L, 'enter': 1L, 'reach': 1L, 'primary': 3L, 'hand': 1L, 'donation': 1L, 'regular': 1L, 'favorites': 1L, 'successive': 1L, 'account': 1L, 'advocates': 1L, 'anticipated': 1L, 'nomination': 3L, 'sides': 1L, 'muscle': 1L, 'center': 1L, 'overtaken': 1L, 'practically': 1L, 'considered': 2L, 'contest': 3L, 'face': 2L, 'zzz_national_football_league': 1L, 'credibility': 1L, 'position': 1L, 'voting': 1L, 'unglued': 1L, 'zzz_new_jersey': 1L, 'gain': 1L}, {'managed': 1L, 'zzz_michigan': 1L, 'institutional': 2L, 'dynamic': 1L, 'soon': 1L, 'zzz_gary_hart': 1L, 'zzz_poll': 1L, 'financially': 1L, 'zzz_new_york': 1L, 'committed': 1L, 'sneaking': 1L, 'zzz_rudman': 1L, 'assembled': 1L, 'zzz_supreme_court': 1L, 'retirement': 1L, 'group': 1L, 'candidate': 2L, 'insurgencies': 1L, 'cemetery': 1L, 'labor': 1L, 'failed': 1L, 'program': 1L, 'candidates': 1L, 'raising': 1L, 'pretty': 1L, 'poised': 2L, 'match': 1L, 'alter': 1L, 'resources': 1L, 'luxury': 1L, 'predecessor': 1L, 'adviser': 1L, 'digit': 1L, 'explained': 1L, 'exaggeration': 1L, 'government': 1L, 'showing': 1L, 'endorsement': 1L, 'expectation': 2L, 'break': 1L, 'nightly': 1L, 'nearly': 1L, 'despite': 1L, 'front': 1L, 'affect': 2L, 'republican': 2L, 'presidential': 2L, 'matched': 1L, 'loss': 1L, 'critically': 1L, 'double': 1L, 'impressive': 1L, 'retake': 1L, 'chamber': 1L, 'victories': 1L, 'journalist': 1L, 'lose': 1L, 'redraw': 1L, 'side': 1L, 'triumph': 1L, 'prevailing': 1L, 'zzz_new_york_mayor_rudolph_giuliani': 1L, 'tougher': 1L, 'chunk': 1L, 'showdown': 1L, 'positioned': 1L, 'begin': 1L, 'competition': 1L, 'seat': 3L, 'battle': 1L, 'likely': 1L, 'allure': 1L, 'expect': 1L, 'operation': 1L, 'octane': 1L, 'contend': 1L, 'established': 1L, 'ultimately': 1L, 'opened': 1L, 'mantra': 1L, 'subsequent': 2L, 'candidacies': 1L, 'boundaries': 1L, 'granite': 1L, 'race': 1L, 'legislator': 2L, 'zzz_bush': 6L, 'net': 1L, 'momentum': 1L, 'strategist': 1L, 'public': 1L, 'zzz_new_hampshire': 8L, 'zzz_walter_mondale': 1L, 'led': 1L, 'power': 1L, 'delegates': 1L, 'unstoppable': 1L, 'voter': 3L, 'advantages': 2L, 'zzz_white_house': 4L, 'zzz_gore': 6L, 'convert': 1L, 'census': 1L, 'recites': 1L, 'face': 1L, 'guide': 1L, 'drama': 1L, 'perhap': 1L, 'stand': 1L, 'pick': 1L, 'comes': 1L, 'campaign': 4L, 'firewall': 1L, 'win': 5L, 'northeastern': 1L, 'primary': 2L, 'reaches': 1L, 'governor': 1L, 'zzz_nbc': 1L, 'zzz_mccain': 12L, 'legislative': 1L, 'zzz_karl_rove': 1L, 'district': 1L, 'agree': 1L, 'addition': 1L, 'mastermind': 1L, 'political': 1L, 'process': 1L, 'slowly': 1L, 'interest': 2L, 'expected': 2L, 'zzz_arizona': 1L, 'zzz_hillary_rodham_clinton': 1L, 'opponent': 2L, 'door': 1L, 'snatching': 1L, 'multistate': 1L, 'season': 1L, 'explanation': 1L, 'scrutiny': 1L, 'fund': 1L, 'potent': 1L, 'personally': 1L, 'line': 1L, 'zzz_bradley': 11L, 'reel': 1L, 'zzz_tom_brokaw': 1L, 'longer': 1L, 'charmed': 2L, 'exception': 1L, 'toppling': 1L, 'politician': 1L, 'elected': 1L, 'invincible': 1L, 'vacancies': 1L, 'official': 1L, 'zzz_south_carolina': 1L, 'excitement': 1L, 'evenly': 2L, 'congressional': 1L, 'demonstrate': 1L, 'zzz_boston': 1L, 'anchor': 1L, 'bet': 1L, 'history': 3L, 'control': 3L, 'real': 1L, 'devastating': 1L, 'trump': 1L, 'nominee': 1L, 'runner': 1L, 'election': 3L, 'circuited': 1L, 'states': 1L, 'awakening': 1L, 'need': 1L, 'counting': 1L, 'dozen': 1L, 'result': 1L, 'huge': 1L, 'contest': 1L, 'media': 1L, 'divided': 1L, 'stake': 1L, 'high': 2L, 'potential': 1L, 'zzz_senate': 2L, 'significance': 1L, 'ferment': 1L, 'party': 1L, 'ordinary': 2L, 'fill': 1L, 'independent': 2L, 'zzz_republican': 2L, 'finish': 1L, 'hankering': 1L, 'arguing': 1L, 'whistling': 1L, 'stay': 1L, 'scientist': 1L, 'sure': 1L, 'chance': 2L, 'important': 2L, 'coming': 1L, 'president': 2L, 'nomination': 2L, 'sides': 2L, 'gain': 1L, 'short': 1L, 'branches': 1L, 'remember': 1L, 'energize': 1L, 'concentrating': 1L, 'clear': 1L, 'camp': 1L, 'worked': 1L, 'breather': 1L, 'thought': 1L, 'broadcasting': 1L, 'command': 1L, 'fact': 1L, 'allow': 1L, 'zzz_university': 1L, 'organization': 2L, 'voting': 1L, 'zzz_democrat': 4L, 'dragged': 1L, 'zzz_r_n_h': 1L, 'gallup': 1L}, {'unimpeded': 1L, 'summer': 1L, 'managed': 1L, 'versed': 1L, 'money': 1L, 'half': 1L, 'zzz_ohio': 2L, 'zzz_department': 2L, 'awful': 1L, 'economy': 1L, 'aspect': 1L, 'argued': 1L, 'aggressive': 1L, 'debate': 1L, 'captured': 1L, 'zzz_youngstown': 1L, 'cut': 1L, 'grabbed': 1L, 'burning': 1L, 'glide': 1L, 'point': 1L, 'winning': 1L, 'candidates': 3L, 'zzz_alan_keyes': 1L, 'policy': 1L, 'overcome': 1L, 'chairman': 2L, 'paying': 1L, 'finance': 1L, 'righted': 1L, 'big': 1L, 'expectation': 1L, 'choice': 1L, 'early': 1L, 'football': 1L, 'game': 1L, 'zzz_family_research_council': 1L, 'zzz_utah': 1L, 'despite': 1L, 'front': 1L, 'emergence': 1L, 'republican': 4L, 'discuss': 1L, 'success': 1L, 'towered': 1L, 'democrat': 1L, 'leader': 1L, 'zzz_gov_lamar_alexander': 1L, 'slide': 1L, 'race': 3L, 'rival': 2L, 'reinvent': 1L, 'endorsed': 1L, 'economically': 1L, 'enjoy': 1L, 'shed': 1L, 'set': 2L, 'human': 1L, 'seasoning': 1L, 'lifetimes': 1L, 'incumbency': 1L, 'terrain': 1L, 'zzz_bradley': 1L, 'elected': 2L, 'economic': 1L, 'election': 1L, 'scares': 1L, 'zzz_sen_orrin_hatch': 1L, 'concern': 1L, 'poll': 1L, 'trapping': 1L, 'record': 1L, 'clearing': 1L, 'decision': 1L, 'interference': 1L, 'conservative': 1L, 'crush': 1L, 'health': 2L, 'issues': 8L, 'zzz_bush': 7L, 'nominees': 1L, 'chairmen': 1L, 'issue': 1L, 'public': 1L, 'contrast': 1L, 'million': 1L, 'nation': 1L, 'power': 1L, 'zzz_congress': 1L, 'wrangling': 1L, 'marketing': 1L, 'pushing': 1L, 'expansion': 1L, 'zzz_rochester': 1L, 'zzz_gore': 2L, 'nimble': 1L, 'voter': 1L, 'opposition': 1L, 'practically': 1L, 'crowned': 1L, 'care': 2L, 'faced': 1L, 'defend': 1L, 'candidate': 1L, 'ahead': 1L, 'god': 1L, 'vehemently': 1L, 'experience': 1L, 'foreign': 1L, 'cogent': 1L, 'nominating': 1L, 'social': 1L, 'confronted': 1L, 'bruised': 1L, 'campaign': 4L, 'striking': 1L, 'owe': 1L, 'image': 1L, 'private': 1L, 'feet': 1L, 'moral': 1L, 'determine': 1L, 'parties': 1L, 'electorate': 1L, 'actually': 1L, 'zzz_mccain': 2L, 'standing': 1L, 'aren': 1L, 'leading': 1L, 'create': 2L, 'support': 1L, 'political': 4L, 'runner': 1L, 'poured': 1L, 'devoting': 1L, 'biggest': 1L, 'war': 1L, 'head': 1L, 'zzz_dwight_eisenhower': 1L, 'staggering': 1L, 'company': 1L, 'apparent': 1L, 'excite': 1L, 'hoped': 1L, 'expected': 2L, 'lives': 1L, 'offended': 1L, 'midst': 1L, 'trying': 1L, 'blocking': 1L, 'zzz_d_del': 1L, 'helped': 1L, 'zzz_rendell': 1L, 'zzz_rush_limbaugh': 1L, 'debates': 1L, 'showed': 1L, 'science': 1L, 'challenge': 1L, 'official': 1L, 'abortion': 1L, 'zzz_dan_quayle': 1L, 'governor': 3L, 'zzz_sen_joseph_biden': 1L, 'politic': 1L, 'attention': 1L, 'zzz_bob_dole': 3L, 'meet': 1L, 'amount': 1L, 'agree': 1L, 'zzz_texas': 2L, 'amass': 1L, 'crazy': 1L, 'zzz_elizabeth_dole': 1L, 'nominee': 1L, 'zzz_gary_bauer': 1L, 'tax': 1L, 'popped': 1L, 'eve': 1L, 'high': 1L, 'talking': 1L, 'single': 1L, 'battered': 1L, 'zzz_forbes': 1L, 'need': 1L, 'ship': 1L, 'education': 1L, 'forced': 2L, 'breaking': 1L, 'detail': 1L, 'zzz_clinton': 2L, 'member': 1L, 'field': 2L, 'chest': 1L, 'virtually': 1L, 'party': 1L, 'primaries': 1L, 'higher': 1L, 'foreman': 1L, 'zzz_republican': 4L, 'altered': 1L, 'lend': 1L, 'luminaries': 1L, 'enter': 1L, 'upbringing': 1L, 'running': 2L, 'plane': 1L, 'zzz_rep_john_kasich': 1L, 'zzz_tennessee': 1L, 'robust': 1L, 'president': 2L, 'nomination': 1L, 'tradition': 1L, 'ago': 1L, 'potency': 1L, 'especially': 1L, 'vice': 1L, 'settled': 1L, 'reform': 1L, 'responded': 1L, 'outpouring': 1L, 'zzz_university': 1L, 'perhap': 2L, 'zzz_social_security': 1L, 'democratic': 1L, 'rockier': 1L, 'left': 1L}, {'impression': 1L, 'atmosphere': 1L, 'office': 1L, 'pieces': 1L, 'chances': 1L, 'knowledgeable': 1L, 'demand': 1L, 'focus': 2L, 'competitive': 2L, 'held': 1L, 'session': 1L, 'relation': 1L, 'telling': 1L, 'retired': 1L, 'vilify': 1L, 'children': 1L, 'issues': 1L, 'member': 1L, 'zzz_harvard': 1L, 'boundaries': 1L, 'preserves': 1L, 'bribes': 1L, 'group': 1L, 'remarkable': 1L, 'candidate': 1L, 'pollster': 1L, 'supply': 1L, 'writing': 1L, 'passive': 1L, 'welcomed': 1L, 'interested': 1L, 'candidates': 5L, 'capturing': 1L, 'citizen': 3L, 'covered': 1L, 'struck': 2L, 'bipartisan': 1L, 'decades': 1L, 'achieve': 1L, 'majority': 2L, 'colleague': 1L, 'finance': 1L, 'zzz_theda_skocpol': 2L, 'government': 2L, 'press': 3L, 'big': 1L, 'condemning': 1L, 'condemnation': 1L, 'watch': 1L, 'headquarter': 1L, 'early': 1L, 'zzz_house': 1L, 'half': 1L, 'front': 1L, 'politician': 4L, 'squabbles': 1L, 'highly': 1L, 'enter': 1L, 'struggling': 1L, 'presidential': 3L, 'appeal': 1L, 'married': 1L, 'democrat': 1L, 'large': 1L, 'stuff': 1L, 'participation': 2L, 'treated': 1L, 'conduct': 1L, 'republican': 3L, 'drop': 1L, 'force': 1L, 'observer': 1L, 'trend': 1L, 'generally': 1L, 'parties': 2L, 'direct': 1L, 'zzz_bradley': 1L, 'challenges': 1L, 'electorate': 1L, 'likely': 1L, 'economic': 1L, 'election': 2L, 'unfairly': 1L, 'sketched': 1L, 'download': 1L, 'led': 1L, 'happen': 1L, 'drawing': 1L, 'special': 1L, 'concern': 1L, 'zzz_john_chafee': 1L, 'slice': 1L, 'barrier': 1L, 'expert': 1L, 'deliberate': 1L, 'advocate': 1L, 'antiwar': 1L, 'decision': 1L, 'electoral': 1L, 'legal': 1L, 'portrayed': 1L, 'looking': 1L, 'zzz_former_sen_bill_bradley': 1L, 'adapt': 1L, 'envelopes': 1L, 'capital': 1L, 'zzz_st_louis': 1L, 'moderate': 1L, 'public': 1L, 'zzz_new_hampshire': 1L, 'locate': 1L, 'basis': 1L, 'zzz_lyme': 1L, 'attention': 1L, 'run': 2L, 'chose': 1L, 'parent': 1L, 'zzz_congress': 3L, 'million': 1L, 'lobbyist': 1L, 'votes': 1L, 'disappeared': 1L, 'mobilizing': 1L, 'broken': 1L, 'voter': 6L, 'web': 1L, 'miasma': 1L, 'aide': 1L, 'change': 1L, 'care': 1L, 'thrown': 1L, 'zzz_n_h': 1L, 'district': 1L, 'getting': 1L, 'career': 1L, 'involved': 1L, 'taking': 1L, 'paralysis': 1L, 'messages': 1L, 'shelved': 1L, 'turn': 1L, 'american': 5L, 'involving': 1L, 'zzz_rhode_island': 1L, 'swing': 1L, 'zzz_united_states': 1L, 'senator': 1L, 'contribution': 2L, 'narrow': 1L, 'mad': 1L, 'create': 1L, 'influx': 1L, 'scorned': 1L, 'zzz_iowa': 1L, 'major': 1L, 'tone': 1L, 'thermostat': 1L, 'campaign': 4L, 'drunk': 1L, 'political': 3L, 'skilled': 1L, 'matter': 1L, 'period': 1L, 'insist': 1L, 'incessant': 1L, 'set': 1L, 'brush': 1L, 'registration': 1L, 'speculated': 1L, 'zzz_committee': 1L, 'rarely': 1L, 'died': 1L, 'truly': 1L, 'legislative': 1L, 'overt': 1L, 'working': 1L, 'similarly': 1L, 'zzz_washington': 3L, 'museum': 1L, 'question': 2L, 'system': 7L, 'vote': 5L, 'center': 1L, 'live': 2L, 'doubt': 1L, 'examination': 1L, 'calm': 1L, 'interest': 2L, 'huge': 1L, 'bitter': 1L, 'tell': 1L, 'today': 1L, 'firm': 1L, 'building': 1L, 'head': 1L, 'educated': 1L, 'door': 2L, 'invite': 1L, 'form': 1L, 'believe': 1L, 'offered': 1L, 'scrutiny': 1L, 'fund': 1L, 'majorities': 1L, 'hear': 1L, 'sociology': 1L, 'mail': 1L, 'number': 1L, 'fellow': 1L, 'amiable': 1L, 'wholly': 1L, 'raising': 1L, 'volunteer': 1L, 'paying': 1L, 'observed': 1L, 'television': 2L, 'turnout': 2L, 'presidency': 1L, 'oligarchy': 1L, 'dog': 1L, 'consultant': 2L, 'legislating': 1L, 'harder': 2L, 'recruit': 1L, 'lead': 1L, 'politic': 2L, 'congressional': 2L, 'rate': 1L, 'zzz_national_republican_congressional_committee': 1L, 'study': 1L, 'zzz_texas': 1L, 'zzz_al_gore': 1L, 'age': 2L, 'ran': 1L, 'zzz_gov_george_w_bush': 1L, 'household': 1L, 'evidence': 1L, 'high': 1L, 'incumbent': 1L, 'expertise': 1L, 'insatiable': 1L, 'element': 1L, 'saw': 1L, 'check': 1L, 'dozen': 1L, 'prosperity': 1L, 'democracy': 1L, 'contest': 1L, 'zzz_dwight': 2L, 'media': 2L, 'veteran': 2L, 'percent': 2L, 'ideas': 2L, 'terrific': 1L, 'zzz_america': 1L, 'potential': 1L, 'zzz_missouri': 1L, 'reject': 1L, 'zzz_party': 1L, 'attack': 1L, 'bid': 1L, 'stand': 1L, 'discourages': 1L, 'fairly': 1L, 'fodder': 1L, 'practice': 1L, 'zzz_sen_john_mccain': 1L, 'tried': 1L, 'combat': 1L, 'opposite': 1L, 'blames': 1L, 'weaknesses': 1L, 'effect': 1L, 'savvy': 1L, 'chance': 1L, 'regular': 1L, 'zzz_carter': 1L, 'idea': 1L, 'advertisement': 1L, 'intended': 1L, 'information': 1L, 'nation': 2L, 'nomination': 1L, 'structure': 1L, 'ago': 1L, 'canvassing': 1L, 'especially': 2L, 'obstacles': 2L, 'law': 1L, 'professor': 1L, 'reform': 1L, 'cover': 1L, 'drive': 1L, 'zzz_house_democrat': 1L, 'traditional': 1L, 'seat': 2L, 'compete': 1L, 'legislatures': 1L, 'fundamental': 1L, 'womanizer': 1L, 'challenge': 1L, 'zzz_curtis_gan': 2L, 'voting': 2L, 'consumer': 1L, 'partisan': 2L, 'zzz_john_danforth': 2L, 'typical': 1L}, {'impression': 1L, 'saying': 2L, 'money': 1L, 'press': 1L, 'zzz_pat_buchanan': 1L, 'zzz_minnesota': 1L, 'participate': 2L, 'elect': 1L, 'tend': 1L, 'portrayed': 1L, 'issues': 1L, 'group': 2L, 'knowledge': 1L, 'candidate': 1L, 'pollster': 1L, 'interesting': 1L, 'show': 1L, 'zzz_steve_forbes': 1L, 'candidates': 1L, 'choose': 1L, 'weakening': 1L, 'covered': 1L, 'decades': 1L, 'zzz_maryland': 1L, 'paying': 1L, 'worse': 1L, 'combination': 1L, 'government': 4L, 'kind': 1L, 'nation': 1L, 'heard': 1L, 'revered': 1L, 'front': 1L, 'zzz_california': 1L, 'republican': 1L, 'disappointed': 1L, 'zzz_berkeley': 1L, 'school': 1L, 'covering': 1L, 'level': 1L, 'large': 1L, 'race': 2L, 'victory': 1L, 'polling': 1L, 'activity': 1L, 'reform': 1L, 'consultant': 1L, 'cynical': 1L, 'hard': 1L, 'direct': 1L, 'challenges': 1L, 'culture': 1L, 'actively': 1L, 'election': 1L, 'mirror': 1L, 'zzz_jesse_ventura': 1L, 'zzz_edward_kennedy': 1L, 'mattered': 1L, 'children': 1L, 'increase': 1L, 'seriously': 1L, 'goes': 1L, 'internet': 1L, 'churches': 1L, 'cynically': 1L, 'zzz_new_hampshire': 1L, 'common': 1L, 'implying': 1L, 'zzz_congress': 1L, 'attention': 3L, 'offended': 1L, 'blame': 1L, 'lieutenant': 1L, 'step': 1L, 'confrontation': 1L, 'active': 1L, 'invented': 1L, 'observing': 1L, 'speechwriter': 1L, 'engage': 1L, 'ahead': 1L, 'created': 1L, 'exaggerated': 1L, 'involved': 1L, 'modest': 1L, 'american': 3L, 'columnist': 1L, 'zzz_ithaca': 1L, 'criticism': 2L, 'retired': 1L, 'zzz_chicago_tribune': 1L, 'zzz_walter_cronkite': 2L, 'negative': 1L, 'involvement': 2L, 'bothered': 1L, 'governor': 1L, 'vote': 1L, 'biographer': 1L, 'standing': 1L, 'horse': 1L, 'span': 1L, 'observer': 1L, 'working': 1L, 'political': 3L, 'system': 1L, 'interest': 1L, 'biggest': 1L, 'tell': 1L, 'manufacture': 1L, 'head': 1L, 'disengaged': 1L, 'insisting': 1L, 'attacked': 1L, 'offered': 1L, 'zzz_cornell': 1L, 'nonvoting': 1L, 'societal': 1L, 'zzz_lyndon_johnson': 1L, 'broadcast': 1L, 'failure': 1L, 'part': 1L, 'basically': 1L, 'hopes': 1L, 'captivity': 1L, 'volunteer': 1L, 'continual': 1L, 'television': 3L, 'politician': 1L, 'look': 1L, 'society': 1L, 'local': 1L, 'signed': 1L, 'politic': 3L, 'policies': 1L, 'fault': 1L, 'believed': 1L, 'problem': 2L, 'zzz_kathleen_kennedy_townsend': 1L, 'powerless': 1L, 'urging': 1L, 'history': 1L, 'control': 1L, 'zzz_bob_dole': 2L, 'played': 1L, 'zzz_johnny_carson': 1L, 'influence': 1L, 'involve': 1L, 'talking': 1L, 'zzz_jay_leno': 1L, 'audiences': 1L, 'zzz_david_letterman': 1L, 'uninterrupted': 1L, 'zzz_iran': 1L, 'worry': 1L, 'condemn': 1L, 'democracy': 1L, 'zzz_dwight': 1L, 'media': 3L, 'mid': 1L, 'zzz_clinton': 1L, 'member': 1L, 'potential': 1L, 'role': 1L, 'dismisses': 1L, 'zzz_party': 1L, 'product': 1L, 'interviewed': 1L, 'thread': 1L, 'preferring': 1L, 'zzz_newt_gingrich': 1L, 'president': 2L, 'truly': 1L, 'data': 1L, 'younger': 1L, 'remote': 1L, 'especially': 1L, 'professor': 2L, 'attempting': 1L, 'thought': 1L, 'severe': 1L, 'idiosyncratic': 1L, 'zzz_university': 1L, 'anchorman': 1L, 'entertaining': 1L, 'spend': 1L, 'talk': 1L}, {'saying': 1L, 'taller': 1L, 'german': 1L, 'patina': 1L, 'colonist': 3L, 'hillside': 1L, 'meticulously': 1L, 'episodes': 1L, 'earth': 1L, 'fine': 1L, 'children': 1L, 'decade': 1L, 'certainly': 1L, 'position': 1L, 'group': 4L, 'system': 1L, 'zzz_tutsi': 11L, 'explain': 1L, 'zzz_burundi': 8L, 'grotesque': 1L, 'civil': 1L, 'grim': 1L, 'zzz_human_rights_watch': 1L, 'willing': 1L, 'suspicion': 1L, 'easy': 1L, 'farmer': 2L, 'hardened': 1L, 'animosities': 2L, 'inferior': 1L, 'meant': 1L, 'division': 1L, 'halt': 1L, 'stay': 1L, 'ruler': 1L, 'shatter': 1L, 'fluid': 1L, 'preferred': 1L, 'truly': 1L, 'break': 1L, 'preparing': 1L, 'enslaved': 1L, 'half': 1L, 'documented': 1L, 'continued': 1L, 'fled': 1L, 'ruled': 1L, 'exiles': 1L, 'imposed': 1L, 'scholar': 2L, 'stranger': 1L, 'generally': 1L, 'zzz_intermarriage': 1L, 'shape': 1L, 'preying': 1L, 'distrust': 1L, 'race': 1L, 'superiority': 1L, 'common': 1L, 'unifying': 1L, 'relentless': 1L, 'vision': 1L, 'easiest': 1L, 'administrator': 1L, 'tended': 3L, 'extremist': 1L, 'discriminated': 1L, 'today': 2L, 'result': 1L, 'cattle': 1L, 'led': 1L, 'happen': 1L, 'special': 1L, 'spasm': 1L, 'universities': 1L, 'expert': 3L, 'colonial': 1L, 'lend': 1L, 'herded': 1L, 'formula': 1L, 'officially': 1L, 'inaction': 1L, 'run': 1L, 'power': 3L, 'intentioned': 1L, 'million': 1L, 'zzz_twa': 2L, 'french': 1L, 'killing': 2L, 'step': 1L, 'complicated': 1L, 'put': 1L, 'drawn': 1L, 'safer': 1L, 'scarred': 1L, 'periodically': 1L, 'raise': 1L, 'prestige': 1L, 'created': 1L, 'country': 2L, 'spilled': 1L, 'violence': 1L, 'according': 1L, 'surround': 1L, 'agree': 1L, 'perhap': 1L, 'genocide': 3L, 'wrote': 1L, 'logic': 1L, 'hatred': 5L, 'argue': 1L, 'makes': 1L, 'comes': 1L, 'control': 2L, 'thinner': 1L, 'presence': 1L, 'simple': 2L, 'question': 1L, 'tribal': 2L, 'resentment': 1L, 'vis': 2L, 'twin': 1L, 'underlay': 1L, 'crisis': 1L, 'strong': 1L, 'takes': 1L, 'area': 1L, 'distinct': 1L, 'leading': 1L, 'century': 1L, 'political': 2L, 'transform': 1L, 'insult': 1L, 'secret': 1L, 'rivalries': 1L, 'assassinated': 1L, 'war': 1L, 'killed': 1L, 'belgian': 1L, 'firm': 1L, 'partly': 1L, 'outsider': 3L, 'form': 1L, 'historian': 1L, 'started': 1L, 'exploded': 1L, 'took': 1L, 'reign': 1L, 'guerrillas': 2L, 'hierarchical': 1L, 'rigid': 1L, 'zzz_great_lakes': 4L, 'manipulation': 1L, 'known': 1L, 'elite': 3L, 'pygmies': 1L, 'distance': 1L, 'kind': 2L, 'politician': 1L, 'warfare': 1L, 'places': 1L, 'zzz_belgian': 2L, 'consultant': 1L, 'zzz_rwanda': 11L, 'official': 1L, 'monarchies': 1L, 'indifference': 1L, 'zzz_africa': 5L, 'slaughtered': 1L, 'spontaneous': 1L, 'region': 2L, 'zzz_zaire': 1L, 'pre': 1L, 'real': 1L, 'figure': 1L, 'give': 1L, 'lines': 2L, 'trusting': 1L, 'turned': 1L, 'zzz_columbia_university_press': 1L, 'deep': 1L, 'quiet': 1L, 'high': 1L, 'regularity': 1L, 'exist': 1L, 'rent': 1L, 'past': 1L, 'zzz_balkan': 1L, 'seek': 1L, 'viewed': 1L, 'firmly': 1L, 'court': 1L, 'daring': 1L, 'author': 1L, 'authoritative': 1L, 'eastern': 1L, 'percent': 3L, 'ideas': 1L, 'rebellion': 1L, 'book': 1L, 'smarter': 1L, 'wonder': 1L, 'intelligent': 1L, 'conflict': 2L, 'european': 3L, 'tension': 1L, 'product': 1L, 'separate': 1L, 'zzz_hutu': 9L, 'southern': 1L, 'occurred': 1L, 'helping': 1L, 'arrived': 2L, 'arose': 1L, 'violent': 1L, 'ethnic': 6L, 'zzz_ancient': 4L, 'fighting': 3L, 'nation': 1L, 'response': 1L, 'recent': 1L, 'land': 1L, 'fighter': 1L, 'outline': 1L, 'surprising': 1L, 'seize': 1L, 'zzz_north_american': 1L, 'professor': 1L, 'camp': 1L, 'revolt': 1L, 'zzz_antwerp': 1L, 'rule': 1L, 'zzz_congo': 2L, 'person': 1L, 'races': 1L, 'withdraw': 1L, 'broad': 1L, 'nomad': 1L, 'dragged': 1L}, {'saying': 1L, 'taller': 1L, 'german': 1L, 'patina': 1L, 'colonist': 3L, 'hillside': 1L, 'meticulously': 1L, 'episodes': 1L, 'earth': 1L, 'fine': 1L, 'children': 1L, 'decade': 1L, 'certainly': 1L, 'position': 1L, 'group': 4L, 'system': 1L, 'zzz_tutsi': 11L, 'explain': 1L, 'zzz_burundi': 8L, 'grotesque': 1L, 'civil': 1L, 'grim': 1L, 'zzz_human_rights_watch': 1L, 'willing': 1L, 'suspicion': 1L, 'easy': 1L, 'farmer': 2L, 'hardened': 1L, 'animosities': 2L, 'inferior': 1L, 'meant': 1L, 'division': 1L, 'halt': 1L, 'stay': 1L, 'ruler': 1L, 'shatter': 1L, 'fluid': 1L, 'preferred': 1L, 'truly': 1L, 'break': 1L, 'preparing': 1L, 'enslaved': 1L, 'half': 1L, 'documented': 1L, 'continued': 1L, 'fled': 1L, 'ruled': 1L, 'exiles': 1L, 'imposed': 1L, 'scholar': 2L, 'stranger': 1L, 'generally': 1L, 'zzz_intermarriage': 1L, 'shape': 1L, 'preying': 1L, 'distrust': 1L, 'race': 1L, 'superiority': 1L, 'common': 1L, 'unifying': 1L, 'relentless': 1L, 'vision': 1L, 'easiest': 1L, 'administrator': 1L, 'tended': 3L, 'extremist': 1L, 'discriminated': 1L, 'today': 2L, 'result': 1L, 'cattle': 1L, 'led': 1L, 'happen': 1L, 'special': 1L, 'spasm': 1L, 'universities': 1L, 'expert': 3L, 'colonial': 1L, 'lend': 1L, 'herded': 1L, 'formula': 1L, 'officially': 1L, 'inaction': 1L, 'run': 1L, 'power': 3L, 'intentioned': 1L, 'million': 1L, 'zzz_twa': 2L, 'french': 1L, 'killing': 2L, 'step': 1L, 'complicated': 1L, 'put': 1L, 'drawn': 1L, 'safer': 1L, 'scarred': 1L, 'periodically': 1L, 'raise': 1L, 'prestige': 1L, 'created': 1L, 'country': 2L, 'spilled': 1L, 'violence': 1L, 'according': 1L, 'surround': 1L, 'agree': 1L, 'perhap': 1L, 'genocide': 3L, 'wrote': 1L, 'logic': 1L, 'hatred': 5L, 'argue': 1L, 'makes': 1L, 'comes': 1L, 'control': 2L, 'thinner': 1L, 'presence': 1L, 'simple': 2L, 'question': 1L, 'tribal': 2L, 'resentment': 1L, 'vis': 2L, 'twin': 1L, 'underlay': 1L, 'crisis': 1L, 'strong': 1L, 'takes': 1L, 'area': 1L, 'distinct': 1L, 'leading': 1L, 'century': 1L, 'political': 2L, 'transform': 1L, 'insult': 1L, 'secret': 1L, 'rivalries': 1L, 'assassinated': 1L, 'war': 1L, 'killed': 1L, 'belgian': 1L, 'firm': 1L, 'partly': 1L, 'outsider': 3L, 'form': 1L, 'historian': 1L, 'started': 1L, 'exploded': 1L, 'took': 1L, 'reign': 1L, 'guerrillas': 2L, 'hierarchical': 1L, 'rigid': 1L, 'zzz_great_lakes': 4L, 'manipulation': 1L, 'known': 1L, 'elite': 3L, 'pygmies': 1L, 'distance': 1L, 'kind': 2L, 'politician': 1L, 'warfare': 1L, 'places': 1L, 'zzz_belgian': 2L, 'consultant': 1L, 'zzz_rwanda': 11L, 'official': 1L, 'monarchies': 1L, 'indifference': 1L, 'zzz_africa': 5L, 'slaughtered': 1L, 'spontaneous': 1L, 'region': 2L, 'zzz_zaire': 1L, 'pre': 1L, 'real': 1L, 'figure': 1L, 'give': 1L, 'lines': 2L, 'trusting': 1L, 'turned': 1L, 'zzz_columbia_university_press': 1L, 'deep': 1L, 'quiet': 1L, 'high': 1L, 'regularity': 1L, 'exist': 1L, 'rent': 1L, 'past': 1L, 'zzz_balkan': 1L, 'seek': 1L, 'viewed': 1L, 'firmly': 1L, 'court': 1L, 'daring': 1L, 'author': 1L, 'authoritative': 1L, 'eastern': 1L, 'percent': 3L, 'ideas': 1L, 'rebellion': 1L, 'book': 1L, 'smarter': 1L, 'wonder': 1L, 'intelligent': 1L, 'conflict': 2L, 'european': 3L, 'tension': 1L, 'product': 1L, 'separate': 1L, 'zzz_hutu': 9L, 'southern': 1L, 'occurred': 1L, 'helping': 1L, 'arrived': 2L, 'arose': 1L, 'violent': 1L, 'ethnic': 6L, 'zzz_ancient': 4L, 'fighting': 3L, 'nation': 1L, 'response': 1L, 'recent': 1L, 'land': 1L, 'fighter': 1L, 'outline': 1L, 'surprising': 1L, 'seize': 1L, 'zzz_north_american': 1L, 'professor': 1L, 'camp': 1L, 'revolt': 1L, 'zzz_antwerp': 1L, 'rule': 1L, 'zzz_congo': 2L, 'person': 1L, 'races': 1L, 'withdraw': 1L, 'broad': 1L, 'nomad': 1L, 'dragged': 1L}, {'show': 1L, 'pointed': 1L, 'soon': 1L, 'ending': 1L, 'bring': 1L, 'committed': 2L, 'zzz_tutsis': 1L, 'fear': 1L, 'find': 1L, 'zzz_burundian': 1L, 'death': 1L, 'group': 1L, 'justice': 1L, 'zzz_tutsi': 4L, 'mediator': 1L, 'zzz_hang': 1L, 'hope': 1L, 'happened': 1L, 'zzz_cape_town': 1L, 'crash': 1L, 'increased': 1L, 'killer': 1L, 'supporter': 1L, 'seemingly': 1L, 'nation': 2L, 'awful': 1L, 'spur': 1L, 'killed': 1L, 'intractable': 1L, 'oddly': 1L, 'continue': 1L, 'demonized': 1L, 'round': 2L, 'set': 1L, 'force': 1L, 'deal': 1L, 'crimes': 1L, 'past': 1L, 'table': 1L, 'expert': 2L, 'zzz_south_africa': 1L, 'international': 1L, 'approach': 1L, 'leader': 1L, 'independence': 1L, 'opening': 1L, 'continuing': 1L, 'slaughter': 3L, 'leadership': 1L, 'rebel': 2L, 'beginning': 1L, 'oust': 1L, 'country': 3L, 'spilled': 1L, 'violence': 2L, 'experience': 1L, 'ignoring': 1L, 'mutually': 1L, 'amount': 1L, 'place': 1L, 'settled': 1L, 'zzz_burundi': 3L, 'point': 1L, 'merely': 1L, 'powerful': 1L, 'community': 1L, 'zzz_resolution': 1L, 'trust': 1L, 'crisis': 1L, 'rebuild': 1L, 'adopted': 1L, 'uniting': 1L, 'realization': 1L, 'war': 1L, 'offer': 1L, 'negotiating': 1L, 'argument': 1L, 'believe': 1L, 'shoot': 1L, 'room': 1L, 'presidency': 1L, 'consultant': 1L, 'zzz_rwanda': 2L, 'anew': 1L, 'situation': 1L, 'problem': 2L, 'engaged': 1L, 'belonging': 1L, 'alike': 1L, 'guarantee': 1L, 'administration': 1L, 'battles': 1L, 'polarization': 1L, 'ideal': 1L, 'party': 1L, 'conflict': 2L, 'added': 1L, 'zzz_hutu': 4L, 'hand': 1L, 'plane': 1L, 'blood': 2L, 'ethnic': 3L, 'president': 1L, 'died': 1L, 'cycle': 1L, 'zzz_nelson_mandela': 1L, 'fighting': 1L, 'zzz_congo': 1L, 'evenhandedness': 1L, 'starting': 1L}, {'show': 1L, 'pointed': 1L, 'soon': 1L, 'ending': 1L, 'bring': 1L, 'committed': 2L, 'zzz_tutsis': 1L, 'fear': 1L, 'find': 1L, 'zzz_burundian': 1L, 'death': 1L, 'group': 1L, 'justice': 1L, 'zzz_tutsi': 4L, 'mediator': 1L, 'zzz_hang': 1L, 'hope': 1L, 'happened': 1L, 'zzz_cape_town': 1L, 'crash': 1L, 'increased': 1L, 'killer': 1L, 'supporter': 1L, 'seemingly': 1L, 'nation': 2L, 'awful': 1L, 'spur': 1L, 'killed': 1L, 'intractable': 1L, 'oddly': 1L, 'continue': 1L, 'demonized': 1L, 'round': 2L, 'set': 1L, 'force': 1L, 'deal': 1L, 'crimes': 1L, 'past': 1L, 'table': 1L, 'expert': 2L, 'zzz_south_africa': 1L, 'international': 1L, 'approach': 1L, 'leader': 1L, 'independence': 1L, 'opening': 1L, 'continuing': 1L, 'slaughter': 3L, 'leadership': 1L, 'rebel': 2L, 'beginning': 1L, 'oust': 1L, 'country': 3L, 'spilled': 1L, 'violence': 2L, 'experience': 1L, 'ignoring': 1L, 'mutually': 1L, 'amount': 1L, 'place': 1L, 'settled': 1L, 'zzz_burundi': 3L, 'point': 1L, 'merely': 1L, 'powerful': 1L, 'community': 1L, 'zzz_resolution': 1L, 'trust': 1L, 'crisis': 1L, 'rebuild': 1L, 'adopted': 1L, 'uniting': 1L, 'realization': 1L, 'war': 1L, 'offer': 1L, 'negotiating': 1L, 'argument': 1L, 'believe': 1L, 'shoot': 1L, 'room': 1L, 'presidency': 1L, 'consultant': 1L, 'zzz_rwanda': 2L, 'anew': 1L, 'situation': 1L, 'problem': 2L, 'engaged': 1L, 'belonging': 1L, 'alike': 1L, 'guarantee': 1L, 'administration': 1L, 'battles': 1L, 'polarization': 1L, 'ideal': 1L, 'party': 1L, 'conflict': 2L, 'added': 1L, 'zzz_hutu': 4L, 'hand': 1L, 'plane': 1L, 'blood': 2L, 'ethnic': 3L, 'president': 1L, 'died': 1L, 'cycle': 1L, 'zzz_nelson_mandela': 1L, 'fighting': 1L, 'zzz_congo': 1L, 'evenhandedness': 1L, 'starting': 1L}, {'precise': 1L, 'limited': 1L, 'consider': 1L, 'office': 6L, 'pant': 1L, 'money': 1L, 'dissolution': 1L, 'secretary': 2L, 'held': 1L, 'paper': 1L, 'deadline': 1L, 'aides': 1L, 'battle': 1L, 'follow': 1L, 'houses': 1L, 'sheepskin': 1L, 'staff': 3L, 'access': 1L, 'generous': 1L, 'retirement': 1L, 'campaign': 2L, 'candidate': 1L, 'assuage': 1L, 'guaranteed': 1L, 'fumbles': 1L, 'crew': 1L, 'terminal': 1L, 'air': 1L, 'tape': 1L, 'minute': 1L, 'clause': 1L, 'largest': 1L, 'criminal': 1L, 'friendly': 1L, 'gave': 3L, 'predecessor': 1L, 'belonging': 1L, 'guarded': 1L, 'advantage': 1L, 'government': 3L, 'capital': 1L, 'kind': 1L, 'preferred': 1L, 'nation': 1L, 'early': 2L, 'anxiety': 1L, 'occupant': 1L, 'closely': 1L, 'press': 2L, 'noon': 1L, 'association': 1L, 'successor': 1L, 'prime': 3L, 'term': 1L, 'champagne': 1L, 'publicly': 1L, 'success': 2L, 'legislation': 1L, 'array': 1L, 'zzz_kgb': 1L, 'greeting': 1L, 'morning': 1L, 'leave': 1L, 'benefit': 4L, 'session': 1L, 'officer': 1L, 'found': 1L, 'security': 1L, 'fixed': 1L, 'added': 1L, 'mean': 1L, 'status': 1L, 'unexpected': 1L, 'hour': 1L, 'house': 1L, 'zzz_chechen': 1L, 'discover': 1L, 'past': 1L, 'dislodge': 1L, 'likely': 1L, 'economic': 1L, 'summer': 1L, 'election': 2L, 'close': 1L, 'dawn': 1L, 'taping': 1L, 'event': 1L, 'concern': 1L, 'secretly': 1L, 'decree': 5L, 'flower': 1L, 'televised': 1L, 'mood': 2L, 'channel': 1L, 'giving': 2L, 'apparently': 3L, 'decision': 1L, 'zzz_gudermes': 1L, 'current': 1L, 'acting': 2L, 'investigation': 1L, 'safety': 1L, 'conduct': 1L, 'previous': 1L, 'leader': 1L, 'troop': 2L, 'holiday': 1L, 'full': 1L, 'disputed': 1L, 'power': 3L, 'zzz_kremlin': 5L, 'free': 1L, 'souvenir': 1L, 'extraordinary': 1L, 'job': 3L, 'leadership': 1L, 'key': 1L, 'concluding': 1L, 'prepared': 2L, 'optional': 1L, 'momentous': 1L, 'wait': 1L, 'advance': 1L, 'protect': 1L, 'granting': 1L, 'ahead': 1L, 'package': 1L, 'residence': 1L, 'hinting': 1L, 'losses': 1L, 'according': 1L, 'hinge': 1L, 'soldier': 1L, 'place': 1L, 'suggestion': 1L, 'transfer': 2L, 'military': 1L, 'passing': 1L, 'hunting': 1L, 'concerned': 1L, 'negotiation': 1L, 'named': 1L, 'hero': 1L, 'opposition': 1L, 'family': 3L, 'striking': 1L, 'previously': 1L, 'visit': 2L, 'image': 2L, 'zzz_mikhail_gorbachev': 2L, 'reflected': 1L, 'seizure': 1L, 'active': 1L, 'whim': 1L, 'message': 1L, 'administration': 1L, 'crammed': 1L, 'scarred': 1L, 'zzz_vladimir_putin': 11L, 'perk': 1L, 'unknown': 1L, 'sweater': 1L, 'initial': 1L, 'political': 1L, 'liberate': 1L, 'quickly': 1L, 'breath': 1L, 'secret': 1L, 'drank': 1L, 'zzz_russia': 2L, 'calm': 1L, 'forward': 1L, 'zzz_chechnya': 4L, 'entered': 1L, 'bargained': 1L, 'final': 2L, 'leading': 1L, 'building': 1L, 'offering': 1L, 'search': 1L, 'visibility': 1L, 'cabinet': 1L, 'broadcast': 1L, 'turtleneck': 1L, 'train': 1L, 'minister': 3L, 'russian': 1L, 'worked': 1L, 'hold': 1L, 'casualties': 1L, 'considerable': 1L, 'population': 1L, 'television': 1L, 'guarantees': 2L, 'zzz_grozny': 1L, 'hesitant': 1L, 'presidency': 1L, 'elected': 1L, 'car': 1L, 'official': 1L, 'smooth': 1L, 'signed': 1L, 'worth': 1L, 'preparation': 1L, 'zzz_russian': 7L, 'knives': 1L, 'era': 1L, 'hand': 2L, 'country': 1L, 'scheduled': 1L, 'largely': 1L, 'war': 2L, 'commander': 1L, 'sudden': 1L, 'rent': 1L, 'ready': 1L, 'seek': 1L, 'trip': 1L, 'physical': 1L, 'grown': 1L, 'gaffes': 1L, 'resigned': 1L, 'zzz_boris_yeltsin': 18L, 'depending': 1L, 'describes': 1L, 'granted': 1L, 'seeking': 1L, 'percent': 1L, 'detail': 1L, 'handed': 1L, 'zzz_prime_minister_yevgeny_primakov': 1L, 'democratically': 1L, 'holding': 1L, 'meeting': 2L, 'widespread': 1L, 'proposal': 1L, 'resignation': 2L, 'immunity': 2L, 'difficult': 1L, 'known': 1L, 'handing': 1L, 'material': 1L, 'tried': 1L, 'zzz_union': 1L, 'zzz_parliament': 1L, 'resign': 1L, 'zzz_moscow': 1L, 'corruption': 1L, 'propelling': 1L, 'retain': 1L, 'phase': 1L, 'president': 9L, 'law': 2L, 'presidential': 4L, 'pages': 1L, 'soared': 1L, 'privileges': 3L, 'salary': 2L, 'fighter': 1L, 'wife': 1L, 'coat': 1L, 'clear': 1L, 'popularity': 1L, 'spent': 2L, 'fighting': 1L, 'precedent': 1L, 'ostensibly': 1L, 'goodbye': 1L, 'personnel': 1L, 'zzz_security_council': 1L, 'soviet': 1L, 'spend': 1L, 'left': 3L}, {'saying': 1L, 'extrapolated': 1L, 'help': 1L, 'chinese': 2L, 'money': 1L, 'beware': 1L, 'scientist': 1L, 'human': 1L, 'welfare': 1L, 'dish': 1L, 'zzz_dragon': 1L, 'find': 1L, 'grabbed': 1L, 'severely': 1L, 'personal': 1L, 'sickened': 1L, 'crime': 1L, 'spread': 1L, 'homeland': 1L, 'issued': 1L, 'local': 1L, 'easier': 1L, 'customer': 1L, 'complaint': 1L, 'woman': 1L, 'government': 1L, 'food': 1L, 'stop': 2L, 'campaigner': 1L, 'theft': 3L, 'searched': 1L, 'zzz_eating': 2L, 'northwestern': 1L, 'meat': 5L, 'tear': 1L, 'morning': 1L, 'specific': 1L, 'item': 1L, 'benefit': 1L, 'night': 2L, 'found': 1L, 'inspection': 1L, 'pork': 1L, 'snakes': 1L, 'classical': 1L, 'house': 1L, 'fish': 1L, 'elderly': 1L, 'parasites': 1L, 'zzz_guangdong': 2L, 'carry': 2L, 'street': 1L, 'begun': 1L, 'tether': 1L, 'cat': 17L, 'stood': 1L, 'preferences': 1L, 'confirm': 1L, 'pet': 4L, 'section': 1L, 'veterinary': 1L, 'poison': 1L, 'perilous': 1L, 'anguished': 1L, 'longtime': 1L, 'distraught': 1L, 'newly': 1L, 'bird': 1L, 'told': 1L, 'fight': 1L, 'hasn': 1L, 'fables': 1L, 'leg': 1L, 'sold': 2L, 'refused': 1L, 'group': 1L, 'estimate': 1L, 'sunning': 1L, 'pity': 1L, 'diner': 2L, 'restaurant': 5L, 'favorite': 1L, 'seedy': 1L, 'nearby': 1L, 'major': 1L, 'zzz_cantonese': 2L, 'stray': 2L, 'supply': 1L, 'barbarian': 1L, 'owner': 6L, 'table': 1L, 'actually': 1L, 'market': 1L, 'combines': 1L, 'consumed': 1L, 'zzz_beijing': 6L, 'mark': 1L, 'live': 1L, 'thieves': 2L, 'prowling': 1L, 'empty': 1L, 'families': 2L, 'public': 1L, 'alley': 1L, 'zzz_post': 1L, 'eat': 2L, 'present': 1L, 'case': 1L, 'stolen': 2L, 'zzz_protection': 1L, 'bag': 1L, 'fearful': 1L, 'dangerous': 1L, 'roof': 1L, 'rarity': 1L, 'veterinarian': 1L, 'behavior': 1L, 'lover': 1L, 'problem': 1L, 'property': 1L, 'wandering': 1L, 'called': 2L, 'cages': 3L, 'claim': 1L, 'expanding': 1L, 'lure': 1L, 'dubious': 1L, 'heard': 1L, 'rat': 1L, 'warning': 1L, 'zzz_west': 1L, 'zzz_tiger': 1L, 'pay': 1L, 'member': 1L, 'menus': 1L, 'animal': 5L, 'interview': 1L, 'province': 1L, 'nabbing': 1L, 'literature': 1L, 'minority': 1L, 'combat': 1L, 'measures': 2L, 'southern': 1L, 'demanding': 2L, 'wholesale': 1L, 'membership': 1L, 'lay': 1L, 'law': 1L, 'police': 3L, 'recent': 1L, 'professor': 2L, 'stronger': 1L, 'persistent': 1L, 'traditional': 1L, 'concrete': 1L, 'zzz_university': 1L, 'operate': 1L, 'order': 1L}, {'longer': 1L, 'zzz_rudy_tomjanovich': 5L, 'coach': 3L, 'rocket': 1L, 'chances': 2L, 'soon': 1L, 'foot': 1L, 'manager': 1L, 'selection': 1L, 'zzz_u_s_olympic': 1L, 'zzz_eddie_jones': 5L, 'noncontact': 1L, 'nearer': 1L, 'fined': 1L, 'torn': 1L, 'reminisce': 1L, 'rejoined': 1L, 'zzz_chris_child': 1L, 'zzz_zydrunas_ilgauskas': 4L, 'input': 1L, 'suffered': 2L, 'spot': 1L, 'instigating': 1L, 'wearing': 1L, 'road': 2L, 'return': 6L, 'honest': 1L, 'returning': 1L, 'workout': 1L, 'practice': 3L, 'zzz_nba': 1L, 'layup': 1L, 'game': 5L, 'longest': 1L, 'anticipates': 1L, 'struggling': 1L, 'distraction': 1L, 'loss': 2L, 'school': 1L, 'alma': 1L, 'joked': 1L, 'brace': 1L, 'arrested': 1L, 'guard': 1L, 'zzz_john_wallace': 1L, 'laughing': 1L, 'zzz_shelby': 1L, 'team': 4L, 'quick': 1L, 'reduced': 1L, 'bone': 1L, 'zzz_alvin': 1L, 'woes': 1L, 'series': 1L, 'shake': 1L, 'begin': 1L, 'past': 3L, 'zzz_kurt_thomas': 1L, 'college': 1L, 'reaffirmed': 1L, 'home': 1L, 'barn': 1L, 'zzz_stephon_marbury': 1L, 'zzz_vince': 1L, 'driving': 1L, 'zzz_charlotte': 1L, 'resume': 1L, 'zzz_jalen_rose': 1L, 'zzz_dickey_simpkin': 1L, 'piston': 1L, 'net': 1L, 'told': 3L, 'hasn': 2L, 'drill': 1L, 'power': 1L, 'leg': 1L, 'zzz_olympic': 1L, 'night': 1L, 'met': 1L, 'wear': 2L, 'gentry': 2L, 'active': 1L, 'comeback': 2L, 'legend': 2L, 'improve': 1L, 'arena': 1L, 'league': 1L, 'y2k': 1L, 'license': 1L, 'broken': 1L, 'zzz_n_c': 1L, 'controversy': 1L, 'zzz_west_coast': 1L, 'range': 1L, 'games': 2L, 'diagnosed': 1L, 'postponed': 1L, 'asked': 1L, 'jersey': 1L, 'campaign': 1L, 'blown': 1L, 'getting': 1L, 'playoff': 1L, 'ligament': 1L, 'suspended': 2L, 'fight': 1L, 'spelling': 1L, 'elbow': 1L, 'played': 2L, 'zzz_rod_thorn': 1L, 'low': 1L, 'forward': 2L, 'injury': 3L, 'season': 1L, 'heal': 1L, 'took': 3L, 'bull': 2L, 'attempt': 1L, 'effort': 1L, 'center': 2L, 'physician': 1L, 'throw': 1L, 'word': 1L, 'born': 1L, 'collision': 1L, 'official': 1L, 'lead': 1L, 'zzz_knick': 2L, 'rehab': 1L, 'zzz_cav': 2L, 'newspaper': 1L, 'making': 2L, 'problem': 1L, 'laughter': 1L, 'hornet': 2L, 'prospect': 1L, 'fracturing': 1L, 'prompting': 1L, 'zzz_christmas_day': 1L, 'general': 1L, 'high': 1L, 'player': 2L, 'mater': 1L, 'foreign': 1L, 'trip': 2L, 'selfish': 1L, 'zzz_pacer': 1L, 'sit': 1L, 'elite': 1L, 'mid': 1L, 'squad': 1L, 'zzz_houston': 1L, 'test': 1L, 'jail': 1L, 'zzz_dickey': 1L, 'zzz_chicago': 1L, 'gym': 1L, 'planned': 1L, 'zzz_vince_carter': 3L, 'play': 1L, 'zzz_toronto': 1L, 'scored': 1L, 'zzz_russ_granik': 1L, 'roster': 1L, 'millennial': 1L, 'assist': 1L, 'zzz_cleveland': 1L, 'hand': 1L, 'effectively': 1L, 'zzz_don_casey': 1L, 'fouled': 1L, 'plan': 2L, 'zzz_appalachian_state': 1L, 'eighth': 1L, 'died': 1L, 'ago': 1L, 'dummy': 1L, 'practiced': 1L, 'remember': 1L, 'wife': 1L, 'light': 1L, 'spent': 1L, 'thought': 2L, 'zzz_new_york_knick': 1L, 'zzz_cleveland_clinic': 1L, 'zzz_jayson_william': 2L, 'push': 1L, 'overseas': 1L, 'zzz_new_jersey': 1L, 'left': 1L}, {'rating': 1L, 'emerging': 1L, 'coach': 6L, 'saying': 1L, 'athletic': 1L, 'bowl': 1L, 'fond': 1L, 'zzz_allegheny': 1L, 'held': 1L, 'surpass': 1L, 'zzz_jim_druckenmiller': 3L, 'skill': 1L, 'children': 1L, 'previous': 1L, 'culmination': 1L, 'style': 1L, 'believe': 1L, 'writes': 1L, 'zzz_florida_state': 4L, 'locales': 1L, 'easy': 1L, 'poised': 1L, 'east': 1L, 'surprised': 1L, 'happened': 1L, 'real': 1L, 'hit': 2L, 'tucked': 1L, 'big': 1L, 'showing': 1L, 'practice': 1L, 'kind': 2L, 'coast': 1L, 'unbeaten': 1L, 'game': 4L, 'listening': 1L, 'zzz_florida_international_university': 1L, 'easily': 1L, 'school': 4L, 'unlike': 1L, 'fewer': 1L, 'try': 1L, 'intangibles': 1L, 'team': 2L, 'small': 1L, 'guy': 2L, 'thought': 2L, 'making': 1L, 'zzz_donovan_mcnabb': 3L, 'play': 4L, 'deal': 1L, 'throwing': 1L, 'diplomatic': 1L, 'idea': 1L, 'seat': 1L, 'pocket': 1L, 'finish': 1L, 'palm': 1L, 'zzz_charlie_ward': 1L, 'choosing': 1L, 'pass': 1L, 'growing': 1L, 'close': 1L, 'operation': 1L, 'zzz_newport_new': 1L, 'untested': 1L, 'witness': 1L, 'living': 1L, 'zzz_paul_pasqualoni': 2L, 'stardom': 1L, 'lead': 1L, 'movie': 1L, 'decision': 1L, 'forty': 1L, 'rushing': 1L, 'adjust': 1L, 'freshman': 2L, 'falling': 1L, 'leader': 1L, 'zzz_nebraska': 1L, 'attended': 1L, 'run': 3L, 'business': 1L, 'doubt': 1L, 'redshirt': 1L, 'poise': 1L, 'happening': 1L, 'efficiency': 1L, 'reason': 1L, 'ranked': 1L, 'zzz_orange': 1L, 'defensive': 1L, 'situation': 3L, 'put': 2L, 'zzz_south_florida': 1L, 'finishing': 1L, 'change': 1L, 'zzz_university': 1L, 'dates': 1L, 'yard': 6L, 'ahead': 1L, 'getting': 1L, 'taking': 1L, 'approaches': 1L, 'aren': 1L, 'magazine': 1L, 'zzz_aaron_brook': 1L, 'games': 3L, 'action': 1L, 'passing': 3L, 'history': 1L, 'traded': 1L, 'hold': 1L, 'family': 1L, 'headed': 1L, 'number': 3L, 'brought': 1L, 'zzz_bobby_bowden': 1L, 'likes': 1L, 'reggie': 1L, 'touchdown': 1L, 'respect': 1L, 'zzz_virginia_tech': 3L, 'total': 1L, 'passes': 2L, 'publicly': 1L, 'comparing': 1L, 'tremendous': 1L, 'redshirted': 1L, 'cited': 1L, 'visit': 1L, 'system': 1L, 'fast': 1L, 'throw': 1L, 'posted': 1L, 'needed': 1L, 'zzz_blue_ridge': 1L, 'zzz_herring': 1L, 'biggest': 1L, 'farming': 1L, 'recruited': 1L, 'final': 1L, 'zzz_superprep': 1L, 'gaudy': 1L, 'zzz_miami': 1L, 'option': 1L, 'started': 1L, 'attempted': 1L, 'completed': 2L, 'zzz_tom_d_angelo': 1L, 'took': 1L, 'expected': 1L, 'finished': 1L, 'tying': 1L, 'zzz_texas': 1L, 'overwhelming': 1L, 'pain': 1L, 'starter': 1L, 'faster': 1L, 'town': 1L, 'highest': 1L, 'look': 1L, 'showed': 2L, 'coordinator': 1L, 'athlete': 1L, 'official': 1L, 'zzz_chris_weinke': 2L, 'believes': 2L, 'record': 2L, 'defense': 1L, 'newspaper': 1L, 'college': 1L, 'pressure': 1L, 'balance': 1L, 'expect': 1L, 'prospect': 1L, 'unfairly': 1L, 'played': 2L, 'runner': 1L, 'household': 1L, 'dolphin': 2L, 'influence': 1L, 'confused': 1L, 'zzz_sugar_bowl': 1L, 'high': 4L, 'player': 1L, 'zzz_clemson': 1L, 'offense': 2L, 'host': 1L, 'zzz_north_dallas': 1L, 'saw': 1L, 'backfield': 1L, 'mountain': 2L, 'compared': 1L, 'lacking': 1L, 'zzz_michael_vick': 23L, 'protect': 1L, 'wound': 1L, 'zzz_blacksburg': 2L, 'actor': 1L, 'need': 1L, 'zzz_hokies': 7L, 'zzz_heisman': 2L, 'zzz_joe_hamilton': 1L, 'zzz_syracuse': 5L, 'beach': 1L, 'relaxed': 1L, 'quarterback': 11L, 'zzz_seminoles': 1L, 'staying': 1L, 'championship': 1L, 'led': 2L, 'football': 1L, 'reached': 1L, 'ball': 1L, 'prepared': 1L, 'director': 1L, 'sure': 1L, 'running': 3L, 'zzz_warwick': 1L, 'peak': 1L, 'zzz_heisman_trophy_winning': 1L, 'date': 1L, 'ties': 1L, 'nation': 3L, 'overlooked': 1L, 'built': 1L, 'ago': 3L, 'early': 1L, 'stress': 1L, 'voting': 1L, 'attempt': 1L, 'especially': 1L, 'sturdy': 1L, 'zzz_beamer': 4L, 'steady': 1L, 'season': 3L, 'picked': 1L, 'immeasurable': 1L, 'deserve': 1L, 'zzz_troy_nunes': 1L, 'talk': 1L}, {'coach': 1L, 'shot': 1L, 'help': 1L, 'office': 1L, 'zzz_lavar_arrington': 1L, 'issued': 1L, 'supported': 1L, 'brilliance': 1L, 'bring': 1L, 'manager': 3L, 'zzz_brown': 1L, 'decade': 1L, 'row': 1L, 'fit': 1L, 'eligible': 1L, 'zzz_florida_state': 2L, 'zzz_bruce_coslet': 3L, 'charge': 1L, 'real': 1L, 'cornerback': 1L, 'song': 1L, 'focus': 1L, 'criticized': 1L, 'game': 2L, 'worst': 1L, 'half': 1L, 'stroll': 1L, 'joked': 1L, 'linebacker': 1L, 'continue': 1L, 'team': 4L, 'likes': 1L, 'individually': 1L, 'zzz_ralph_wilson': 1L, 'bill': 2L, 'sign': 2L, 'past': 1L, 'decided': 1L, 'home': 1L, 'retracting': 1L, 'obviously': 1L, 'shown': 1L, 'zzz_kevin_johnson': 1L, 'safety': 1L, 'zzz_peter_warrick': 4L, 'learned': 1L, 'officially': 1L, 'core': 1L, 'million': 4L, 'expansion': 1L, 'base': 1L, 'free': 1L, 'defensive': 2L, 'put': 1L, 'league': 1L, 'protect': 1L, 'diminished': 1L, 'turn': 1L, 'zzz_carl_picken': 3L, 'receiver': 5L, 'zzz_courtney_brown': 1L, 'comment': 1L, 'win': 1L, 'prefer': 1L, 'zzz_jacksonville': 1L, 'guard': 1L, 'zzz_buffalo': 1L, 'privately': 1L, 'owner': 2L, 'zzz_uncertain': 2L, 'zzz_nfl': 1L, 'aren': 1L, 'leading': 1L, 'support': 1L, 'question': 1L, 'fight': 1L, 'zzz_colt': 1L, 'zzz_dwight_clark': 4L, 'statement': 1L, 'draft': 2L, 'today': 2L, 'zzz_cincinnati': 1L, 'season': 5L, 'understand': 1L, 'trying': 2L, 'zzz_penn_state': 1L, 'kind': 1L, 'zzz_andre_reed': 2L, 'look': 1L, 'publicly': 1L, 'cap': 2L, 'zzz_bruce_smith': 1L, 'future': 2L, 'newspaper': 1L, 'making': 1L, 'prospect': 1L, 'figure': 1L, 'give': 2L, 'lobbying': 1L, 'zzz_bengal': 2L, 'proven': 1L, 'general': 3L, 'player': 4L, 'face': 1L, 'aging': 1L, 'zzz_mike_brown': 1L, 'damage': 1L, 'couch': 4L, 'role': 1L, 'zzz_thurman_thomas': 2L, 'zzz_eric_mould': 1L, 'quarterback': 2L, 'development': 1L, 'play': 1L, 'pick': 3L, 'zzz_cleveland': 1L, 'hand': 1L, 'running': 1L, 'tipped': 1L, 'ago': 1L, 'salary': 1L, 'zzz_cowboy': 1L, 'considered': 1L, 'weapon': 2L, 'zzz_john_butler': 1L, 'zzz_kentucky': 1L, 'zzz_thomas_smith': 1L, 'yell': 1L, 'left': 1L}, {'remarkable': 1L, 'battle': 1L, 'holdout': 1L, 'zzz_bob_mcnair': 1L, 'technique': 1L, 'zzz_oakland': 1L, 'zzz_tyrone_wheatley': 1L, 'zzz_jeff_george': 3L, 'zzz_walter_payton': 1L, 'putting': 1L, 'zzz_kansas_city': 1L, 'zzz_dick_vermeil': 2L, 'leave': 1L, 'team': 6L, 'guy': 2L, 'zzz_jerry_jones': 1L, 'zzz_bill_romanowski': 1L, 'tired': 2L, 'regained': 1L, 'prediction': 1L, 'sign': 1L, 'past': 1L, 'fold': 1L, 'cost': 1L, 'pass': 2L, 'buccaneer': 3L, 'zzz_brown': 2L, 'zzz_donnie_abraham': 2L, 'zzz_san_diego': 1L, 'zzz_bill_belichick': 1L, 'learned': 1L, 'drafted': 2L, 'zzz_redskin': 4L, 'million': 1L, 'leg': 1L, 'newspaper': 1L, 'legend': 1L, 'ahead': 1L, 'snubbed': 1L, 'zzz_ryan_leaf': 1L, 'pick': 1L, 'zzz_steeler': 1L, 'sweetness': 1L, 'retired': 2L, 'win': 1L, 'retires': 3L, 'zzz_new_england': 1L, 'handled': 1L, 'illegal': 1L, 'played': 1L, 'zzz_cecil_collin': 1L, 'live': 1L, 'zzz_arizona': 1L, 'injury': 2L, 'zzz_dallas': 2L, 'zzz_ray_lewis': 2L, 'afford': 1L, 'zzz_stephen_davis': 2L, 'landed': 1L, 'broke': 2L, 'zzz_memphis': 1L, 'zzz_marshall_faulk': 3L, 'zzz_brad_johnson': 3L, 'join': 1L, 'zzz_detroit': 1L, 'zzz_ricky_william': 2L, 'cap': 1L, 'worn': 1L, 'huge': 1L, 'making': 1L, 'history': 1L, 'zzz_trent_green': 1L, 'give': 1L, 'zzz_bengal': 2L, 'dolphin': 5L, 'agent': 1L, 'high': 1L, 'heard': 1L, 'slip': 1L, 'offense': 2L, 'sharp': 1L, 'native': 4L, 'pink': 1L, 'zzz_warren_sapp': 1L, 'cardinal': 1L, 'zzz_houston': 2L, 'zzz_florida': 1L, 'zzz_ray_rhodes': 2L, 'profile': 1L, 'zzz_jerry_rice': 2L, 'aging': 1L, 'zzz_rookie': 6L, 'coming': 1L, 'eighth': 1L, 'neck': 1L, 'worst': 1L, 'playing': 4L, 'nearly': 1L, 'zzz_london_fletcher': 1L, 'attitude': 1L, 'shake': 1L, 'fit': 1L, 'fade': 1L, 'troubled': 1L, 'fines': 1L, 'zzz_simeon_rice': 1L, 'return': 4L, 'zzz_kurt_warner': 3L, 'break': 3L, 'zzz_charles_haley': 2L, 'half': 1L, 'zzz_chris_spielman': 1L, 'bank': 1L, 'feet': 1L, 'pregnant': 1L, 'arrested': 1L, 'outplayed': 1L, 'zzz_damien_woody': 1L, 'zzz_san_francisco': 1L, 'development': 1L, 'fired': 1L, 'house': 1L, 'hard': 1L, 'space': 1L, 'zzz_americus': 1L, 'zzz_shannon_sharpe': 1L, 'zzz_bryant_young': 1L, 'zzz_dan_marino': 4L, 'incentives': 1L, 'reason': 2L, 'put': 1L, 'zzz_kansas_state': 1L, 'zzz_michael_westbrook': 3L, 'yard': 2L, 'zzz_chuck_smith': 1L, 'zzz_rae_carruth': 1L, 'zzz_green_bay': 3L, 'zzz_washington_state': 1L, 'zzz_joey_galloway': 1L, 'number': 1L, 'sack': 2L, 'linking': 1L, 'zzz_jacksonville': 1L, 'zzz_indianapolis': 2L, 'fast': 1L, 'owner': 4L, 'zzz_champ_bailey': 1L, 'zzz_nfl': 7L, 'zzz_morten_andersen': 2L, 'passes': 1L, 'sheet': 1L, 'jet': 6L, 'rookies': 1L, 'bite': 1L, 'zzz_corey_dillon': 2L, 'zzz_colt': 6L, 'draft': 1L, 'zzz_olandis_gary': 1L, 'passed': 2L, 'murder': 1L, 'happily': 1L, 'season': 17L, 'antic': 1L, 'convinced': 1L, 'shut': 1L, 'gotten': 1L, 'tackles': 1L, 'outrageous': 1L, 'zzz_tim_brown': 1L, 'zzz_curtis_conway': 1L, 'zzz_ben_coates': 2L, 'zzz_raven': 1L, 'outstanding': 2L, 'pro': 5L, 'couch': 2L, 'wonder': 1L, 'quarterback': 5L, 'hires': 1L, 'knew': 1L, 'regular': 1L, 'mouth': 2L, 'blaming': 1L, 'class': 1L, 'salary': 2L, 'death': 1L, 'zzz_cowboy': 4L, 'cover': 1L, 'zzz_mike_shanahan': 1L, 'clean': 1L, 'zzz_new_orlean': 1L, 'businessman': 1L, 'voting': 1L, 'zzz_saint': 1L, 'stunned': 1L, 'chances': 1L, 'anyway': 1L, 'zzz_tom_benson': 1L, 'staff': 1L, 'slow': 1L, 'zzz_n_c_state': 1L, 'earned': 1L, 'winner': 1L, 'zzz_ray_lucas': 1L, 'zzz_tony_bracken': 1L, 'factor': 1L, 'dominant': 1L, 'beat': 1L, 'assistant': 1L, 'bear': 2L, 'fastest': 1L, 'despite': 2L, 'secondary': 1L, 'prime': 1L, 'jaguar': 2L, 'rounder': 3L, 'zzz_seahawk': 2L, 'set': 2L, 'packer': 2L, 'manning': 2L, 'lion': 2L, 'defense': 1L, 'desperate': 1L, 'close': 1L, 'arm': 1L, 'concern': 1L, 'zzz_mark_schlabach': 1L, 'reporter': 1L, 'rushing': 2L, 'won': 1L, 'zzz_st_louis': 1L, 'linebacker': 2L, 'fearless': 1L, 'job': 2L, 'broncos': 3L, 'franchise': 1L, 'comeback': 1L, 'league': 6L, 'barely': 1L, 'contract': 4L, 'games': 1L, 'receiver': 5L, 'zzz_daunte_culpepper': 1L, 'tough': 1L, 'cancer': 1L, 'coincidence': 1L, 'inexplicably': 1L, 'respect': 1L, 'quit': 1L, 'zzz_washington': 1L, 'zzz_pittsburgh': 1L, 'zzz_cincinnati': 1L, 'zzz_miami': 2L, 'zzz_los_angeles': 1L, 'offered': 1L, 'liver': 1L, 'zzz_bill_parcell': 2L, 'replaces': 1L, 'look': 2L, 'bill': 2L, 'replaced': 1L, 'behavior': 1L, 'zzz_steve_young': 3L, 'zzz_aaron_beasley': 1L, 'overlooked': 1L, 'telephone': 1L, 'disappointing': 1L, 'player': 7L, 'zzz_jimmy_johnson': 2L, 'zzz_giant': 1L, 'confirmed': 1L, 'zzz_deion_sander': 1L, 'sidelined': 1L, 'zzz_jeff_blake': 2L, 'undrafted': 2L, 'injured': 2L, 'zzz_georgia': 1L, 'zzz_norv_turner': 1L, 'hand': 3L, 'coaches': 1L, 'running': 4L, 'zzz_steve_atwater': 2L, 'zzz_act': 1L, 'center': 1L, 'charges': 1L, 'charger': 2L, 'weapon': 1L, 'zzz_vinny_testaverde': 2L, 'thought': 1L, 'charged': 1L, 'zzz_michael_irvin': 2L, 'money': 3L, 'competitive': 1L, 'zzz_denver': 2L, 'zzz_minnesota': 2L, 'injuries': 3L, 'discipline': 1L, 'cut': 1L, 'zzz_ram': 5L, 'zzz_john_elway': 1L, 'viking': 2L, 'zzz_mississippi': 1L, 'preseason': 2L, 'zzz_comeback_player': 1L, 'big': 5L, 'specimen': 1L, 'game': 3L, 'zzz_edgerrin_james': 3L, 'falcon': 5L, 'zzz_terrell_davis': 2L, 'rumor': 1L, 'shoulder': 1L, 'zzz_robert_porcher': 2L, 'zzz_boston_college': 1L, 'laughing': 1L, 'zzz_pete_carroll': 3L, 'zzz_carolina': 1L, 'titan': 2L, 'zzz_barry_sander': 2L, 'scrimmage': 1L, 'mirror': 1L, 'home': 1L, 'lead': 2L, 'zzz_jamal_anderson': 2L, 'decision': 2L, 'quitting': 1L, 'run': 1L, 'zzz_bill_cowher': 2L, 'defensive': 2L, 'losing': 1L, 'raider': 4L, 'throw': 1L, 'takes': 1L, 'trophy': 1L, 'getting': 1L, 'rested': 1L, 'block': 1L, 'zzz_mike_ditka': 2L, 'playoff': 2L, 'zzz_norman': 1L, 'zzz_jim_mora': 2L, 'aren': 2L, 'zzz_alonzo_spellman': 1L, 'awarded': 1L, 'rusher': 1L, 'head': 2L, 'collapsed': 2L, 'succumbed': 1L, 'zzz_gunther_cunningham': 1L, 'zzz_peyton': 1L, 'line': 2L, 'zzz_kevin_carter': 2L, 'patriot': 4L, 'zzz_panther': 1L, 'surprising': 1L, 'record': 6L, 'zzz_oiler': 1L, 'zzz_chan_gailey': 1L, 'horrific': 1L, 'nepotism': 1L, 'zzz_jevon_kearse': 3L, 'deep': 1L, 'disease': 1L, 'girlfriend': 1L, 'shooting': 1L, 'physical': 1L, 'hit': 1L, 'offensive': 1L, 'field': 1L, 'zzz_west_virginia': 2L, 'zzz_heisman': 1L, 'zzz_chicago': 2L, 'scored': 1L, 'stat': 1L, 'dies': 1L, 'welcome': 1L, 'stay': 1L, 'offseason': 1L, 'important': 1L, 'invested': 2L, 'longer': 1L, 'rescued': 1L, 'zzz_robert_kraft': 1L, 'zzz_randall_cunningham': 1L, 'zzz_traded': 1L, 'starting': 1L}, {'zzz_saint': 1L, 'coach': 6L, 'mom': 1L, 'stunned': 1L, 'issued': 1L, 'despite': 1L, 'rest': 1L, 'zzz_denver': 1L, 'zzz_tom_benson': 1L, 'attitude': 1L, 'cocky': 1L, 'helm': 1L, 'adjustment': 1L, 'injuries': 1L, 'zzz_christmas_eve': 1L, 'zzz_virginia': 1L, 'scheduled': 1L, 'return': 1L, 'game': 1L, 'decide': 1L, 'half': 1L, 'discuss': 1L, 'closure': 1L, 'zzz_bill_bidwill': 1L, 'worried': 1L, 'leave': 1L, 'bad': 2L, 'team': 5L, 'speculation': 3L, 'newspaper': 1L, 'right': 1L, 'fired': 1L, 'fair': 1L, 'hard': 1L, 'zzz_vince_tobin': 5L, 'sign': 1L, 'past': 1L, 'owner': 2L, 'decision': 2L, 'unrestricted': 1L, 'red': 1L, 'told': 2L, 'hasn': 1L, 'free': 3L, 'met': 1L, 'resign': 1L, 'losing': 1L, 'wanted': 1L, 'guy': 1L, 'zzz_lord': 1L, 'extension': 2L, 'battling': 1L, 'contract': 3L, 'admit': 2L, 'games': 1L, 'receiver': 1L, 'zzz_mike_ditka': 5L, 'control': 1L, 'slipped': 1L, 'feel': 1L, 'acted': 1L, 'franchise': 1L, 'playoff': 2L, 'duck': 1L, 'touchdown': 1L, 'deal': 1L, 'revelation': 1L, 'confident': 1L, 'live': 1L, 'zzz_arizona': 2L, 'happy': 1L, 'sort': 1L, 'direction': 2L, 'offer': 1L, 'afford': 1L, 'season': 2L, 'yard': 1L, 'believe': 3L, 'effort': 1L, 'haven': 2L, 'town': 1L, 'berth': 1L, 'ultimatum': 1L, 'zzz_panther': 2L, 'publicly': 1L, 'bother': 2L, 'future': 1L, 'knocked': 1L, 'streak': 1L, 'angel': 1L, 'lobbying': 2L, 'zzz_dallas': 1L, 'head': 1L, 'agent': 4L, 'player': 1L, 'need': 1L, 'friendlier': 1L, 'lame': 1L, 'lately': 1L, 'hot': 1L, 'cardinal': 4L, 'play': 2L, 'sure': 1L, 'football': 2L, 'paid': 1L, 'zzz_carolina': 2L, 'moment': 1L, 'mad': 4L, 'coming': 1L, 'ago': 1L, 'zzz_cowboy': 1L, 'sit': 1L, 'spent': 1L, 'reception': 1L, 'fact': 1L, 'left': 1L}, {'coach': 1L, 'half': 2L, 'bombed': 1L, 'trade': 1L, 'manager': 1L, 'deadline': 1L, 'zzz_ken_holland': 3L, 'injuries': 1L, 'zzz_sabres': 1L, 'slow': 1L, 'group': 1L, 'cup': 1L, 'swan': 1L, 'appeared': 1L, 'finally': 1L, 'hockey': 1L, 'suffered': 1L, 'holiday': 1L, 'local': 1L, 'goalie': 1L, 'match': 1L, 'hit': 1L, 'string': 1L, 'assistant': 1L, 'practice': 1L, 'seemingly': 1L, 'period': 1L, 'early': 1L, 'game': 2L, 'fan': 1L, 'despite': 1L, 'zzz_motown': 1L, 'continued': 1L, 'zzz_detroit_red': 1L, 'failed': 1L, 'lost': 1L, 'zzz_chris_osgood': 1L, 'victories': 1L, 'team': 10L, 'guy': 1L, 'set': 2L, 'deal': 1L, 'series': 1L, 'consistent': 1L, 'hard': 2L, 'play': 3L, 'competition': 1L, 'jump': 1L, 'defenseman': 1L, 'defense': 1L, 'result': 1L, 'blues': 1L, 'dives': 1L, 'wonder': 1L, 'closer': 1L, 'imported': 1L, 'lead': 1L, 'record': 1L, 'ice': 1L, 'zzz_nhl': 2L, 'won': 1L, 'consecutive': 2L, 'unrestricted': 1L, 'measuring': 1L, 'hasn': 1L, 'perception': 1L, 'night': 1L, 'free': 1L, 'advantages': 1L, 'key': 1L, 'path': 1L, 'strong': 1L, 'zzz_thrasher': 1L, 'wait': 1L, 'league': 2L, 'training': 1L, 'feeling': 1L, 'career': 1L, 'trades': 2L, 'attributed': 1L, 'stride': 1L, 'amount': 1L, 'produce': 1L, 'games': 5L, 'pick': 1L, 'narrow': 1L, 'midway': 1L, 'jersey': 1L, 'adjusted': 1L, 'tough': 1L, 'family': 1L, 'point': 2L, 'feel': 1L, 'win': 3L, 'zzz_pat_verbeek': 2L, 'coming': 1L, 'primary': 1L, 'traveled': 1L, 'playoff': 7L, 'zzz_buffalo': 1L, 'conference': 1L, 'span': 1L, 'prove': 1L, 'celebratory': 1L, 'start': 1L, 'draft': 1L, 'judging': 1L, 'expected': 1L, 'final': 1L, 'champion': 1L, 'club': 1L, 'season': 6L, 'waxed': 1L, 'took': 1L, 'forward': 3L, 'western': 1L, 'worked': 1L, 'squeeze': 1L, 'matter': 1L, 'look': 2L, 'affirm': 1L, 'dead': 1L, 'zzz_detroit': 2L, 'blah': 1L, 'paired': 1L, 'future': 1L, 'zzz_phoenix': 1L, 'pumped': 1L, 'newspaper': 1L, 'piece': 1L, 'minus': 1L, 'stick': 1L, 'rejuvenated': 1L, 'zzz_dallas': 4L, 'agent': 1L, 'general': 1L, 'middle': 1L, 'defending': 1L, 'zzz_st_louis': 1L, 'ready': 1L, 'watched': 1L, 'awhile': 1L, 'chase': 1L, 'comfortable': 1L, 'goal': 1L, 'personnel': 1L, 'veteran': 2L, 'elevated': 1L, 'started': 2L, 'need': 1L, 'place': 1L, 'zzz_stanley_cup': 4L, 'overtime': 1L, 'nice': 1L, 'zzz_colorado': 3L, 'stat': 1L, 'tried': 1L, 'felt': 1L, 'paid': 1L, 'regular': 1L, 'exported': 1L, 'zzz_chris_chelios': 3L, 'absences': 1L, 'measured': 1L, 'needed': 1L, 'recent': 1L, 'reflected': 1L, 'zzz_slava_kozlov': 1L, 'mortgaged': 1L, 'average': 1L, 'camp': 1L, 'lines': 1L, 'depth': 1L, 'waited': 1L, 'prodded': 1L, 'title': 1L, 'zzz_dave_lewis': 3L, 'wing': 6L, 'turnover': 1L}, {'saying': 1L, 'coach': 1L, 'shot': 1L, 'chances': 1L, 'dollar': 2L, 'zzz_mike_vernon': 3L, 'ice': 1L, 'winger': 1L, 'adding': 1L, 'slow': 1L, 'group': 1L, 'thinking': 1L, 'responsible': 1L, 'bust': 1L, 'winning': 1L, 'hockey': 1L, 'team': 5L, 'remaining': 1L, 'kick': 1L, 'gave': 1L, 'return': 1L, 'returned': 1L, 'zzz_creatively': 1L, 'stop': 1L, 'girlfriend': 1L, 'despite': 2L, 'difference': 1L, 'entire': 1L, 'hook': 1L, 'pinch': 1L, 'try': 1L, 'night': 1L, 'hung': 1L, 'round': 1L, 'zzz_new_york': 1L, 'right': 1L, 'escalation': 1L, 'deal': 3L, 'play': 3L, 'past': 1L, 'defenseman': 1L, 'zzz_trevor_kidd': 1L, 'expect': 1L, 'picked': 1L, 'odd': 1L, 'giving': 1L, 'fact': 1L, 'rejecting': 1L, 'goes': 1L, 'learned': 1L, 'approach': 1L, 'misdirected': 1L, 'burn': 1L, 'slight': 1L, 'million': 8L, 'losing': 1L, 'wanted': 1L, 'zzz_alexei_yashin': 1L, 'dry': 1L, 'league': 1L, 'zzz_coyotes': 1L, 'working': 1L, 'taking': 1L, 'contract': 2L, 'games': 5L, 'pick': 1L, 'zzz_united_states': 1L, 'asked': 1L, 'family': 1L, 'point': 1L, 'win': 1L, 'zzz_john_mcmullen': 2L, 'synonymous': 1L, 'tendered': 1L, 'playoff': 1L, 'zzz_buffalo': 1L, 'send': 1L, 'owner': 1L, 'devil': 1L, 'span': 1L, 'fair': 2L, 'jet': 1L, 'twenty': 1L, 'structured': 1L, 'creativity': 1L, 'ballistic': 1L, 'draft': 1L, 'minor': 1L, 'selling': 1L, 'option': 1L, 'busting': 1L, 'fire': 1L, 'season': 1L, 'offered': 1L, 'rejected': 1L, 'zzz_switzerland': 1L, 'understand': 1L, 'zzz_san_jose': 1L, 'hurricanes': 1L, 'butt': 1L, 'copy': 1L, 'convinced': 1L, 'zzz_panther': 2L, 'likely': 1L, 'poison': 1L, 'zzz_phoenix': 2L, 'newspaper': 1L, 'zzz_keith_tkachuk': 1L, 'zzz_boston': 2L, 'philosophies': 1L, 'result': 1L, 'pre': 1L, 'played': 1L, 'player': 4L, 'sudden': 2L, 'anger': 1L, 'watched': 1L, 'zzz_keith_primeau': 6L, 'sell': 1L, 'anymore': 1L, 'offer': 3L, 'offensive': 1L, 'member': 1L, 'club': 2L, 'endorsement': 1L, 'conclusion': 1L, 'injured': 1L, 'zzz_canes': 1L, 'briefly': 1L, 'minority': 1L, 'zzz_ottawa': 1L, 'price': 1L, 'paid': 1L, 'zzz_carolina': 2L, 'coaches': 1L, 'fell': 1L, 'coming': 1L, 'approved': 1L, 'age': 1L, 'responded': 1L, 'zzz_twelve': 1L, 'zzz_pat_burn': 4L, 'talk': 1L, 'spend': 1L, 'zzz_new_jersey': 1L, 'left': 1L}, {'lumbered': 1L, 'shot': 1L, 'zzz_mike': 1L, 'chances': 1L, 'developed': 1L, 'footstep': 1L, 'retire': 1L, 'trade': 1L, 'zzz_phil': 1L, 'holdout': 1L, 'hate': 1L, 'winger': 1L, 'bunch': 1L, 'style': 1L, 'death': 1L, 'spite': 1L, 'father': 2L, 'bench': 1L, 'voted': 1L, 'zzz_gordie': 1L, 'kick': 1L, 'styles': 1L, 'zzz_marcel': 1L, 'game': 3L, 'foot': 1L, 'zzz_bobby': 2L, 'killed': 1L, 'thrill': 2L, 'level': 1L, 'list': 1L, 'mode': 1L, 'guy': 2L, 'zzz_wayne': 1L, 'approaching': 1L, 'unquote': 1L, 'right': 1L, 'deal': 1L, 'scared': 1L, 'pass': 1L, 'sum': 1L, 'ice': 2L, 'looking': 1L, 'zzz_nhl': 1L, 'score': 2L, 'zzz_brett': 2L, 'told': 1L, 'creating': 1L, 'hull': 1L, 'zzz_dino': 1L, 'fun': 1L, 'strong': 1L, 'change': 1L, 'career': 2L, 'games': 2L, 'zzz_famer': 1L, 'mean': 1L, 'honor': 1L, 'love': 1L, 'family': 2L, 'point': 1L, 'powerful': 1L, 'bound': 1L, 'rink': 1L, 'owner': 1L, 'reached': 1L, 'hoping': 1L, 'quit': 2L, 'zzz_carolina': 1L, 'leading': 1L, 'fast': 1L, 'comparing': 1L, 'stealth': 1L, 'tell': 1L, 'zzz_keith_primeau': 1L, 'hurt': 1L, 'hurricanes': 1L, 'true': 1L, 'kind': 1L, 'arranged': 1L, 'wish': 1L, 'newspaper': 1L, 'bet': 1L, 'crazy': 1L, 'money': 1L, 'zzz_all_star': 1L, 'played': 1L, 'player': 2L, 'counting': 1L, 'apparently': 1L, 'huge': 1L, 'goal': 5L, 'anymore': 1L, 'dallas': 1L, 'pay': 1L, 'zzz_entering': 1L, 'nice': 1L, 'scored': 1L, 'play': 2L, 'phoenix': 1L, 'quote': 1L, 'reach': 1L, 'update': 1L, 'mario': 1L, 'scorer': 1L, 'coming': 1L, 'animosity': 1L, 'eighth': 1L, 'weave': 1L, 'squelched': 1L, 'average': 1L, 'holes': 1L, 'honestly': 1L, 'dream': 2L}, {'saying': 1L, 'coach': 1L, 'bait': 1L, 'money': 1L, 'zzz_mike_vernon': 1L, 'rest': 1L, 'trade': 2L, 'zzz_new_york': 1L, 'chair': 1L, 'injuries': 1L, 'winger': 1L, 'realizing': 1L, 'group': 1L, 'finally': 1L, 'pretty': 1L, 'dressing': 1L, 'playing': 1L, 'goalie': 1L, 'risk': 1L, 'jerk': 1L, 'returning': 1L, 'devastated': 1L, 'zzz_radek_dvorak': 1L, 'zzz_av': 1L, 'preferred': 1L, 'immediately': 1L, 'net': 1L, 'term': 1L, 'trivia': 1L, 'lost': 1L, 'worried': 1L, 'stupid': 1L, 'team': 3L, 'guy': 2L, 'injured': 1L, 'right': 1L, 'deal': 3L, 'acquired': 1L, 'energy': 1L, 'testing': 1L, 'play': 3L, 'sign': 3L, 'defenseman': 1L, 'trading': 1L, 'shown': 1L, 'decision': 2L, 'zzz_bobby_francis': 1L, 'zzz_phil_housley': 1L, 'continue': 1L, 'safety': 1L, 'goes': 1L, 'surprise': 2L, 'unrestricted': 3L, 'leader': 1L, 'red': 1L, 'arbitration': 2L, 'million': 5L, 'expansion': 1L, 'youngest': 1L, 'ranger': 1L, 'free': 3L, 'affectionately': 1L, 'losing': 1L, 'arena': 2L, 'zzz_coyotes': 2L, 'folding': 1L, 'flames': 1L, 'career': 1L, 'leaves': 1L, 'contract': 4L, 'agree': 1L, 'extension': 1L, 'games': 1L, 'backup': 1L, 'block': 1L, 'destination': 1L, 'toughness': 1L, 'point': 1L, 'clause': 1L, 'zzz_joe_sakic': 2L, 'owner': 1L, 'table': 1L, 'market': 1L, 'considering': 1L, 'sheet': 1L, 'dump': 1L, 'dangle': 1L, 'question': 1L, 'add': 2L, 'needed': 1L, 'passed': 1L, 'injury': 1L, 'type': 1L, 'prone': 1L, 'option': 1L, 'big': 1L, 'offer': 1L, 'season': 3L, 'zzz_san_jose': 1L, 'zzz_joe_louis': 1L, 'haven': 1L, 'zzz_panther': 1L, 'zzz_evgeni_nabokov': 1L, 'zzz_detroit': 1L, 'signed': 2L, 'zzz_sergei_fedorov': 1L, 'stall': 1L, 'newspaper': 1L, 'zzz_keith_tkachuk': 4L, 'called': 1L, 'shark': 3L, 'chip': 1L, 'zzz_i': 1L, 'agent': 2L, 'player': 2L, 'goal': 3L, 'perform': 1L, 'veteran': 1L, 'agency': 1L, 'zzz_steve_shield': 1L, 'zzz_minnesota_wild': 1L, 'amusing': 1L, 'rookie': 1L, 'answer': 1L, 'zzz_florida': 1L, 'scored': 1L, 'briefly': 1L, 'sure': 1L, 'phoenix': 1L, 'zzz_jeremy_roenick': 3L, 'felt': 2L, 'zzz_todd_harvey': 2L, 'stay': 1L, 'zzz_carolina': 1L, 'zzz_calgary': 1L, 'scorer': 1L, 'tallied': 1L, 'balloon': 1L, 'salary': 1L, 'wife': 1L, 'traded': 1L, 'average': 1L, 'spend': 1L, 'thought': 1L, 'zzz_gatorade': 1L, 'ramification': 1L, 'teammates': 1L, 'operate': 1L, 'assisted': 1L}, {'help': 1L, 'contacted': 1L, 'money': 1L, 'zzz_memphis': 4L, 'zzz_nba': 1L, 'discovered': 1L, 'relation': 1L, 'plight': 1L, 'find': 1L, 'personal': 1L, 'young': 3L, 'pharmacy': 1L, 'eager': 1L, 'foster': 1L, 'touched': 1L, 'hometown': 1L, 'zzz_south_park': 1L, 'happened': 2L, 'pay': 1L, 'zzz_lorenzen_wright': 6L, 'hit': 1L, 'zzz_national_bank': 1L, 'preparing': 1L, 'hearing': 1L, 'bringing': 1L, 'learned': 2L, 'zzz_commerce': 1L, 'school': 3L, 'level': 1L, 'joined': 1L, 'zzz_hardaway': 2L, 'fixed': 1L, 'meal': 2L, 'house': 2L, 'idea': 1L, 'dead': 1L, 'kicked': 1L, 'zzz_travis': 1L, 'home': 1L, 'living': 1L, 'giving': 1L, 'sun': 1L, 'tales': 1L, 'grandmother': 2L, 'written': 1L, 'net': 1L, 'body': 2L, 'attended': 1L, 'run': 1L, 'parent': 2L, 'circumstance': 1L, 'newspaper': 2L, 'zzz_carthage': 1L, 'imagine': 1L, 'losing': 1L, 'care': 1L, 'wept': 1L, 'reaction': 1L, 'noncancerous': 1L, 'put': 1L, 'tumor': 1L, 'credit': 1L, 'neighbor': 1L, 'published': 1L, 'feel': 1L, 'relate': 1L, 'son': 1L, 'brought': 1L, 'thankful': 1L, 'involvement': 1L, 'elementary': 1L, 'trust': 3L, 'open': 1L, 'caring': 1L, 'complication': 1L, 'basketball': 1L, 'found': 1L, 'tragic': 1L, 'summertime': 1L, 'tell': 1L, 'shopping': 1L, 'boy': 1L, 'fund': 2L, 'child': 1L, 'encountered': 1L, 'grocery': 1L, 'grew': 1L, 'heard': 1L, 'fearful': 1L, 'bill': 1L, 'project': 1L, 'zzz_phoenix': 1L, 'growing': 1L, 'natives': 1L, 'heart': 1L, 'household': 1L, 'penny': 1L, 'fellow': 1L, 'player': 2L, 'saddest': 1L, 'donating': 1L, 'check': 1L, 'afraid': 1L, 'media': 1L, 'zzz_thanksgiving': 2L, 'pizza': 1L, 'maternal': 1L, 'attend': 1L, 'zzz_brandon': 1L, 'reach': 1L, 'prepared': 1L, 'student': 1L, 'president': 1L, 'hawk': 3L, 'died': 1L, 'center': 1L, 'vice': 1L, 'age': 1L, 'camp': 1L, 'allow': 1L, 'mother': 2L, 'zzz_new_jersey': 1L, 'nearly': 1L}, {'cute': 2L, 'coach': 3L, 'shot': 1L, 'show': 1L, 'zzz_orlando': 3L, 'zzz_nba': 4L, 'foul': 1L, 'hanging': 1L, 'zzz_eddie_jones': 2L, 'bunch': 1L, 'doom': 1L, 'grabbed': 1L, 'thank': 1L, 'torn': 1L, 'young': 1L, 'window': 1L, 'suspension': 1L, 'suffered': 1L, 'main': 1L, 'fines': 1L, 'retro': 1L, 'knick': 1L, 'hit': 1L, 'combination': 1L, 'big': 2L, 'rebound': 2L, 'stop': 1L, 'early': 1L, 'game': 2L, 'courage': 1L, 'fan': 1L, 'nearly': 1L, 'zzz_sampson': 1L, 'bit': 2L, 'zzz_indiana': 1L, 'zzz_chris_webber': 1L, 'zzz_afro': 2L, 'victory': 2L, 'team': 6L, 'mediocrity': 1L, 'guy': 3L, 'river': 1L, 'zzz_frank_layden': 1L, 'mean': 1L, 'newspaper': 1L, 'right': 1L, 'fearing': 1L, 'hard': 2L, 'hair': 2L, 'disciplined': 1L, 'zzz_hubie_brown': 1L, 'zzz_darling': 2L, 'zzz_doc': 1L, 'zzz_sacramento': 1L, 'sport': 2L, 'arm': 1L, 'special': 1L, 'provided': 1L, 'humor': 1L, 'decision': 1L, 'creative': 1L, 'zzz_jalen_rose': 1L, 'won': 1L, 'health': 1L, 'zzz_jason_william': 1L, 'darling': 2L, 'row': 3L, 'combed': 1L, 'power': 1L, 'defend': 1L, 'rolled': 1L, 'left': 1L, 'corn': 3L, 'free': 1L, 'elbow': 1L, 'step': 2L, 'chanting': 1L, 'change': 1L, 'thrown': 1L, 'league': 2L, 'quarter': 1L, 'taking': 1L, 'label': 1L, 'experience': 1L, 'perhap': 1L, 'games': 4L, 'blocked': 1L, 'finest': 1L, 'tough': 1L, 'point': 3L, 'win': 2L, 'contender': 1L, 'threes': 1L, 'ligament': 1L, 'zzz_seattle': 1L, 'poll': 1L, 'zzz_tb': 1L, 'zzz_magic': 3L, 'takes': 1L, 'aren': 2L, 'leading': 1L, 'fro': 1L, 'combined': 1L, 'threw': 1L, 'faith': 1L, 'started': 1L, 'season': 2L, 'part': 1L, 'line': 3L, 'zzz_turner': 1L, 'true': 1L, 'symptom': 1L, 'king': 3L, 'wore': 1L, 'showed': 1L, 'zzz_kurt_thomas': 2L, 'worn': 1L, 'matter': 1L, 'neat': 1L, 'zzz_tnt': 1L, 'fun': 1L, 'making': 1L, 'problem': 1L, 'zzz_ben_wallace': 6L, 'hairstyle': 1L, 'punches': 1L, 'century': 1L, 'need': 1L, 'dropped': 1L, 'sense': 1L, 'scheduling': 1L, 'shooting': 2L, 'trip': 1L, 'floor': 1L, 'retiring': 1L, 'percent': 4L, 'lately': 1L, 'assistant': 1L, 'struggling': 1L, 'nice': 1L, 'ball': 1L, 'zzz_nick_anderson': 1L, 'charm': 1L, 'zzz_delilah': 1L, 'president': 1L, 'hawk': 1L, 'kid': 1L, 'layup': 1L, 'likes': 1L, 'longer': 1L, 'zzz_rick_adelman': 1L, 'severe': 1L, 'putting': 1L, 'justify': 1L, 'starting': 1L, 'zzz_charlotte': 1L, 'talk': 1L, 'zzz_utah': 1L}, {'coach': 1L, 'shot': 2L, 'zzz_nba': 2L, 'foul': 2L, 'zzz_denver': 1L, 'bring': 1L, 'zzz_new_york': 1L, 'left': 2L, 'smiling': 1L, 'pointer': 1L, 'zzz_kobe_bryant': 4L, 'rousing': 1L, 'winning': 1L, 'rudder': 1L, 'arrest': 1L, 'finally': 1L, 'zzz_shareef_abdur_rahim': 1L, 'enjoying': 1L, 'yeoman': 1L, 'confidently': 1L, 'gave': 1L, 'returning': 1L, 'beat': 1L, 'big': 1L, 'rebound': 2L, 'jazz': 2L, 'watch': 1L, 'zzz_todd_macculloch': 1L, 'game': 1L, 'zzz_jerry_sloan': 1L, 'nearly': 1L, 'foot': 1L, 'awaken': 1L, 'zzz_greg_ostertag': 1L, 'loss': 2L, 'notified': 1L, 'zzz_raef_lafrentz': 3L, 'zzz_sammy_sosa': 1L, 'tear': 1L, 'victory': 1L, 'night': 1L, 'guy': 2L, 'quarter': 1L, 'repaired': 1L, 'inside': 1L, 'hawk': 1L, 'talked': 1L, 'fired': 1L, 'crowd': 1L, 'hard': 1L, 'alive': 1L, 'resist': 1L, 'pass': 1L, 'blue': 1L, 'zzz_red_auerbach': 1L, 'dugout': 1L, 'goes': 1L, 'zzz_maverick': 1L, 'fadeaway': 1L, 'filled': 1L, 'jumper': 1L, 'turmoil': 1L, 'run': 1L, 'opening': 1L, 'screen': 1L, 'team': 2L, 'drew': 2L, 'unstoppable': 1L, 'baseball': 2L, 'defensive': 1L, 'franchise': 1L, 'span': 1L, 'change': 1L, 'tug': 1L, 'league': 2L, 'getting': 1L, 'career': 1L, 'minutes': 1L, 'favorite': 1L, 'fouled': 1L, 'games': 2L, 'cartilage': 1L, 'history': 1L, 'block': 1L, 'mimicked': 1L, 'major': 2L, 'zzz_michael_olowokandi': 1L, 'point': 3L, 'win': 2L, 'zzz_grizzlies': 2L, 'lofting': 1L, 'guard': 1L, 'suspended': 1L, 'drove': 1L, 'stare': 1L, 'basketball': 1L, 'zzz_phil_jackson': 3L, 'takes': 1L, 'working': 1L, 'concussion': 1L, 'played': 1L, 'charge': 1L, 'forward': 1L, 'injury': 1L, 'final': 1L, 'happy': 2L, 'zzz_los_angeles': 1L, 'form': 1L, 'reaction': 1L, 'mentality': 1L, 'took': 1L, 'appreciation': 1L, 'zzz_laker': 1L, 'line': 1L, 'hold': 1L, 'junior': 1L, 'zzz_utah': 2L, 'kind': 1L, 'hour': 1L, 'zzz_glen_rice': 1L, 'signed': 1L, 'war': 1L, 'excitement': 1L, 'matter': 1L, 'zzz_vancouver': 2L, 'replaced': 1L, 'newspaper': 1L, 'zzz_boston': 1L, 'yelled': 1L, 'zzz_billy_owen': 1L, 'zzz_dallas': 1L, 'zzz_philadelphia': 1L, 'high': 1L, 'player': 1L, 'rim': 1L, 'seen': 1L, 'shooting': 1L, 'saw': 1L, 'zzz_clipper': 1L, 'baseline': 1L, 'floor': 1L, 'pay': 1L, 'zzz_bryant_reeves': 1L, 'field': 2L, 'zzz_leon_smith': 2L, 'rookie': 2L, 'scored': 1L, 'play': 2L, 'continues': 2L, 'zzz_grant_long': 4L, 'zzz_mav': 1L, 'zzz_kansas': 1L, 'tied': 1L, 'hand': 1L, 'coaches': 1L, 'crashed': 1L, 'zzz_karl_malone': 1L, 'letter': 1L, 'knee': 1L, 'zzz_george_lynch': 1L, 'collar': 1L, 'lane': 1L, 'center': 2L, 'suffering': 1L, 'drawing': 1L, 'looked': 1L, 'zzz_keith_closs': 1L, 'zzz_red_holzman': 1L, 'playing': 4L, 'zzz_tyrone_hill': 1L}, {'similarity': 1L, 'broaden': 1L, 'child': 1L, 'epitomized': 1L, 'broader': 1L, 'skin': 1L, 'children': 2L, 'voter': 1L, 'charge': 1L, 'program': 1L, 'suburban': 1L, 'ingredient': 1L, 'case': 1L, 'straightforward': 1L, 'putting': 1L, 'affect': 1L, 'difference': 1L, 'timely': 1L, 'scholar': 1L, 'level': 2L, 'notes': 1L, 'shock': 1L, 'gun': 1L, 'race': 1L, 'small': 1L, 'accumulation': 1L, 'trend': 1L, 'uncomfortably': 1L, 'filled': 1L, 'rate': 1L, 'cost': 1L, 'depression': 1L, 'dribbling': 1L, 'waiting': 1L, 'increasing': 1L, 'doting': 1L, 'contrast': 1L, 'told': 2L, 'impact': 1L, 'loose': 1L, 'lobbyist': 1L, 'met': 1L, 'focused': 1L, 'strong': 1L, 'teacher': 1L, 'speeches': 1L, 'engage': 1L, 'ahead': 1L, 'larger': 1L, 'social': 1L, 'action': 1L, 'makes': 2L, 'control': 1L, 'campaign': 7L, 'ground': 1L, 'ringing': 1L, 'discuss': 1L, 'eye': 1L, 'objectives': 1L, 'prompting': 1L, 'tell': 5L, 'sort': 1L, 'zzz_christmas': 1L, 'cases': 1L, 'hold': 1L, 'communist': 1L, 'town': 1L, 'high': 1L, 'keeping': 1L, 'word': 3L, 'room': 2L, 'believes': 1L, 'locker': 1L, 'growing': 1L, 'streak': 1L, 'performer': 2L, 'give': 1L, 'cited': 1L, 'tax': 1L, 'states': 1L, 'pointedly': 1L, 'sense': 2L, 'sharp': 1L, 'biography': 1L, 'discussion': 1L, 'need': 2L, 'vital': 1L, 'answer': 1L, 'cadence': 1L, 'tension': 1L, 'arthritis': 1L, 'wrong': 1L, 'president': 1L, 'nomination': 1L, 'short': 1L, 'effective': 1L, 'acknowledged': 1L, 'democratic': 4L, 'talk': 2L, 'office': 1L, 'cold': 1L, 'style': 3L, 'group': 2L, 'personal': 1L, 'hot': 1L, 'winning': 1L, 'platform': 2L, 'voiced': 1L, 'tumbling': 1L, 'return': 1L, 'finance': 2L, 'zzz_america': 2L, 'propose': 1L, 'commitment': 1L, 'mention': 1L, 'front': 3L, 'republican': 2L, 'outlines': 1L, 'presidential': 3L, 'swaying': 1L, 'stiff': 1L, 'possibilities': 1L, 'disregard': 1L, 'beneath': 1L, 'zzz_bradley': 16L, 'connect': 1L, 'message': 1L, 'initiatives': 1L, 'motel': 1L, 'laid': 1L, 'health': 2L, 'issue': 1L, 'earlier': 2L, 'boldness': 1L, 'belief': 2L, 'solution': 1L, 'grapes': 1L, 'put': 2L, 'beginning': 1L, 'care': 2L, 'language': 1L, 'subzero': 1L, 'discomfort': 1L, 'noted': 1L, 'american': 1L, 'anecdote': 1L, 'punctuates': 1L, 'zzz_perry': 1L, 'radical': 1L, 'feet': 2L, 'ring': 1L, 'zzz_john_steinbeck': 1L, 'quality': 1L, 'size': 1L, 'legislative': 1L, 'basketball': 1L, 'wrapped': 1L, 'white': 2L, 'bitter': 1L, 'muscles': 1L, 'biggest': 2L, 'explodes': 1L, 'television': 1L, 'rhetorical': 1L, 'distinguishes': 1L, 'bed': 1L, 'matter': 2L, 'defense': 2L, 'zzz_mo': 1L, 'willingness': 1L, 'runner': 1L, 'pro': 1L, 'turned': 1L, 'talking': 1L, 'manner': 2L, 'throat': 1L, 'clearly': 1L, 'microphone': 1L, 'majority': 1L, 'ideal': 2L, 'zzz_missouri': 1L, 'performance': 2L, 'begin': 1L, 'sure': 1L, 'knew': 1L, 'react': 1L, 'sponsored': 1L, 'especially': 1L, 'foot': 1L, 'steady': 1L, 'face': 2L, 'traditional': 1L, 'reputation': 1L, 'businessman': 1L, 'senior': 1L, 'saying': 1L, 'chances': 1L, 'cheap': 1L, 'lozenge': 1L, 'session': 1L, 'debate': 1L, 'setter': 1L, 'toast': 1L, 'candidates': 1L, 'pretty': 1L, 'piano': 1L, 'congressional': 1L, 'hit': 1L, 'stop': 1L, 'expectation': 1L, 'bear': 1L, 'listener': 1L, 'courage': 1L, 'pretending': 1L, 'zzz_crystal_city': 1L, 'prided': 1L, 'mysticism': 1L, 'bar': 1L, 'continuum': 1L, 'public': 1L, 'common': 1L, 'discussing': 1L, 'stump': 3L, 'concert': 1L, 'frame': 1L, 'arc': 1L, 'philosophy': 1L, 'subject': 1L, 'steadfast': 1L, 'reform': 3L, 'staffer': 1L, 'drawn': 1L, 'approach': 1L, 'missing': 1L, 'attention': 1L, 'boss': 2L, 'key': 2L, 'country': 2L, 'distinction': 1L, 'asked': 1L, 'premise': 1L, 'point': 2L, 'period': 1L, 'walk': 1L, 'anti': 1L, 'asserted': 1L, 'poll': 1L, 'conference': 1L, 'question': 3L, 'political': 1L, 'strategy': 1L, 'strengthen': 1L, 'interest': 1L, 'proposal': 2L, 'meeting': 2L, 'dialogue': 2L, 'deeper': 1L, 'zzz_new_jersey_democrat': 1L, 'thousand': 1L, 'fund': 1L, 'foreclosed': 1L, 'leapfrogged': 1L, 'careful': 1L, 'calcified': 1L, 'sound': 1L, 'politician': 2L, 'look': 1L, 'zzz_des_moines': 2L, 'transformation': 1L, 'enact': 1L, 'newspaper': 1L, 'frustrating': 1L, 'hoping': 1L, 'player': 1L, 'audiences': 2L, 'campaigning': 3L, 'decisively': 1L, 'administration': 3L, 'cross': 1L, 'speech': 3L, 'harmony': 2L, 'zzz_party': 3L, 'wheel': 1L, 'tighten': 1L, 'ball': 1L, 'refusal': 1L, 'evil': 2L, 'moment': 1L, 'frequently': 1L, 'tradition': 1L, 'recent': 2L, 'longing': 1L, 'center': 1L, 'settled': 1L, 'spurred': 1L, 'chord': 1L, 'underdog': 1L, 'proposed': 1L, 'money': 1L, 'guided': 1L, 'proposes': 1L, 'shape': 1L, 'zzz_republican_sen_john_mccain': 1L, 'handshake': 1L, 'cut': 1L, 'family': 1L, 'candidate': 2L, 'percent': 1L, 'realize': 1L, 'bank': 1L, 'humanity': 1L, 'kick': 1L, 'real': 1L, 'zzz_mississippi': 1L, 'big': 4L, 'early': 1L, 'rear': 1L, 'desire': 1L, 'stranger': 1L, 'collective': 1L, 'specific': 1L, 'audience': 1L, 'officer': 1L, 'night': 1L, 'simply': 1L, 'unabashedly': 1L, 'right': 1L, 'envision': 1L, 'crowd': 2L, 'play': 1L, 'competition': 1L, 'demeanor': 1L, 'economic': 1L, 'racial': 3L, 'describing': 1L, 'lead': 2L, 'broad': 1L, 'religion': 1L, 'asking': 1L, 'zzz_new_hampshire': 2L, 'run': 1L, 'bold': 1L, 'zzz_congress': 1L, 'agreement': 1L, 'refused': 1L, 'pressure': 1L, 'stage': 1L, 'freedom': 1L, 'stand': 1L, 'neighbor': 2L, 'act': 1L, 'mouth': 1L, 'hospital': 2L, 'road': 1L, 'zzz_iowa': 2L, 'civic': 1L, 'trademark': 1L, 'zzz_ronald_reagan': 3L, 'democrat': 1L, 'weather': 1L, 'determine': 1L, 'parties': 1L, 'spending': 3L, 'constantly': 1L, 'legislation': 1L, 'fast': 1L, 'low': 1L, 'forward': 1L, 'translate': 1L, 'assumes': 1L, 'medium': 1L, 'offer': 1L, 'jewish': 1L, 'relaxed': 1L, 'delivery': 1L, 'hear': 1L, 'library': 2L, 'promote': 1L, 'places': 1L, 'limit': 1L, 'zzz_sen_bill_bradley': 1L, 'problem': 1L, 'irish': 1L, 'liberal': 2L, 'fright': 1L, 'single': 1L, 'goodness': 1L, 'zzz_new_york_knick': 1L, 'tossing': 1L, 'boom': 1L, 'mock': 1L, 'conclusion': 1L, 'draw': 1L, 'chance': 1L, 'coverage': 1L, 'billion': 2L, 'individual': 1L, 'zzz_al_gore': 5L, 'resolving': 1L, 'depth': 1L, 'zzz_rhodes': 1L, 'paced': 1L}, {'similarity': 1L, 'broaden': 1L, 'child': 1L, 'epitomized': 1L, 'broader': 1L, 'skin': 1L, 'children': 2L, 'voter': 1L, 'charge': 1L, 'program': 1L, 'suburban': 1L, 'ingredient': 1L, 'case': 1L, 'straightforward': 1L, 'putting': 1L, 'affect': 1L, 'difference': 1L, 'timely': 1L, 'scholar': 1L, 'level': 2L, 'notes': 1L, 'shock': 1L, 'gun': 1L, 'race': 1L, 'small': 1L, 'accumulation': 1L, 'trend': 1L, 'uncomfortably': 1L, 'rate': 1L, 'cost': 1L, 'depression': 1L, 'dribbling': 1L, 'waiting': 1L, 'increasing': 1L, 'doting': 1L, 'filled': 1L, 'told': 2L, 'impact': 1L, 'loose': 1L, 'lobbyist': 1L, 'met': 1L, 'focused': 1L, 'strong': 1L, 'teacher': 1L, 'speeches': 1L, 'engage': 1L, 'ahead': 1L, 'larger': 1L, 'social': 1L, 'action': 1L, 'makes': 2L, 'control': 1L, 'campaign': 7L, 'ground': 1L, 'ringing': 1L, 'discuss': 1L, 'eye': 1L, 'objectives': 1L, 'prompting': 1L, 'tell': 5L, 'sort': 1L, 'zzz_christmas': 1L, 'cases': 1L, 'hold': 1L, 'communist': 1L, 'town': 1L, 'high': 1L, 'keeping': 1L, 'word': 3L, 'room': 2L, 'believes': 1L, 'locker': 1L, 'growing': 1L, 'streak': 1L, 'performer': 2L, 'give': 1L, 'cited': 1L, 'tax': 1L, 'states': 1L, 'pointedly': 1L, 'sense': 2L, 'sharp': 1L, 'biography': 1L, 'discussion': 1L, 'need': 2L, 'vital': 1L, 'answer': 1L, 'cadence': 1L, 'tension': 1L, 'arthritis': 1L, 'wrong': 1L, 'president': 1L, 'nomination': 1L, 'short': 1L, 'effective': 1L, 'acknowledged': 1L, 'democratic': 4L, 'talk': 2L, 'office': 1L, 'cold': 1L, 'style': 3L, 'group': 2L, 'personal': 1L, 'hot': 1L, 'winning': 1L, 'platform': 2L, 'voiced': 1L, 'tumbling': 1L, 'return': 1L, 'finance': 2L, 'zzz_america': 2L, 'propose': 1L, 'commitment': 1L, 'mention': 1L, 'front': 3L, 'republican': 2L, 'outlines': 1L, 'presidential': 3L, 'swaying': 1L, 'stiff': 1L, 'possibilities': 1L, 'disregard': 1L, 'beneath': 1L, 'zzz_bradley': 16L, 'connect': 1L, 'message': 1L, 'initiatives': 1L, 'motel': 1L, 'laid': 1L, 'health': 2L, 'issue': 1L, 'earlier': 2L, 'boldness': 1L, 'belief': 2L, 'solution': 1L, 'grapes': 1L, 'put': 2L, 'beginning': 1L, 'care': 2L, 'language': 1L, 'subzero': 1L, 'discomfort': 1L, 'noted': 1L, 'american': 1L, 'anecdote': 1L, 'punctuates': 1L, 'zzz_perry': 1L, 'radical': 1L, 'feet': 2L, 'ring': 1L, 'zzz_john_steinbeck': 1L, 'quality': 1L, 'size': 1L, 'legislative': 1L, 'basketball': 1L, 'wrapped': 1L, 'white': 2L, 'bitter': 1L, 'muscles': 1L, 'biggest': 2L, 'explodes': 1L, 'television': 1L, 'rhetorical': 1L, 'distinguishes': 1L, 'bed': 1L, 'matter': 2L, 'defense': 2L, 'zzz_mo': 1L, 'willingness': 1L, 'runner': 1L, 'pro': 1L, 'turned': 1L, 'talking': 1L, 'manner': 2L, 'throat': 1L, 'clearly': 1L, 'microphone': 1L, 'majority': 1L, 'ideal': 2L, 'zzz_missouri': 1L, 'performance': 2L, 'begin': 1L, 'sure': 1L, 'knew': 1L, 'react': 1L, 'sponsored': 1L, 'especially': 1L, 'foot': 1L, 'steady': 1L, 'face': 2L, 'traditional': 1L, 'reputation': 1L, 'businessman': 1L, 'senior': 1L, 'saying': 1L, 'chances': 1L, 'cheap': 1L, 'lozenge': 1L, 'session': 1L, 'debate': 1L, 'setter': 1L, 'toast': 1L, 'candidates': 1L, 'pretty': 1L, 'piano': 1L, 'congressional': 1L, 'hit': 1L, 'stop': 1L, 'expectation': 1L, 'bear': 1L, 'listener': 1L, 'courage': 1L, 'pretending': 1L, 'zzz_crystal_city': 1L, 'prided': 1L, 'mysticism': 1L, 'bar': 1L, 'continuum': 1L, 'public': 1L, 'common': 1L, 'discussing': 1L, 'stump': 3L, 'concert': 1L, 'frame': 1L, 'arc': 1L, 'philosophy': 1L, 'subject': 1L, 'steadfast': 1L, 'reform': 3L, 'staffer': 1L, 'drawn': 1L, 'approach': 1L, 'missing': 1L, 'attention': 1L, 'boss': 2L, 'key': 2L, 'country': 2L, 'distinction': 1L, 'asked': 1L, 'premise': 1L, 'point': 2L, 'period': 1L, 'walk': 1L, 'anti': 1L, 'asserted': 1L, 'poll': 1L, 'conference': 1L, 'question': 3L, 'political': 1L, 'strategy': 1L, 'strengthen': 1L, 'interest': 1L, 'proposal': 2L, 'meeting': 2L, 'dialogue': 2L, 'deeper': 1L, 'zzz_new_jersey_democrat': 1L, 'thousand': 1L, 'fund': 1L, 'foreclosed': 1L, 'leapfrogged': 1L, 'careful': 1L, 'calcified': 1L, 'sound': 1L, 'politician': 2L, 'look': 1L, 'zzz_des_moines': 2L, 'transformation': 1L, 'enact': 1L, 'newspaper': 1L, 'frustrating': 1L, 'hoping': 1L, 'player': 1L, 'audiences': 2L, 'campaigning': 3L, 'decisively': 1L, 'administration': 3L, 'cross': 1L, 'speech': 3L, 'harmony': 2L, 'zzz_party': 3L, 'wheel': 1L, 'tighten': 1L, 'ball': 1L, 'refusal': 1L, 'evil': 2L, 'moment': 1L, 'frequently': 1L, 'tradition': 1L, 'recent': 2L, 'longing': 1L, 'center': 1L, 'settled': 1L, 'spurred': 1L, 'chord': 1L, 'underdog': 1L, 'proposed': 1L, 'money': 1L, 'guided': 1L, 'proposes': 1L, 'shape': 1L, 'zzz_republican_sen_john_mccain': 1L, 'handshake': 1L, 'cut': 1L, 'family': 1L, 'candidate': 2L, 'percent': 1L, 'realize': 1L, 'bank': 1L, 'humanity': 1L, 'kick': 1L, 'real': 1L, 'zzz_mississippi': 1L, 'big': 4L, 'early': 1L, 'rear': 1L, 'desire': 1L, 'stranger': 1L, 'collective': 1L, 'specific': 1L, 'audience': 1L, 'officer': 1L, 'night': 1L, 'simply': 1L, 'unabashedly': 1L, 'right': 1L, 'envision': 1L, 'crowd': 2L, 'play': 1L, 'competition': 1L, 'demeanor': 1L, 'economic': 1L, 'racial': 3L, 'describing': 1L, 'lead': 2L, 'broad': 1L, 'religion': 1L, 'asking': 1L, 'zzz_new_hampshire': 2L, 'run': 1L, 'bold': 1L, 'zzz_congress': 1L, 'agreement': 1L, 'refused': 1L, 'pressure': 1L, 'stage': 1L, 'freedom': 1L, 'stand': 1L, 'neighbor': 2L, 'act': 1L, 'mouth': 1L, 'hospital': 2L, 'road': 1L, 'zzz_iowa': 2L, 'civic': 1L, 'trademark': 1L, 'zzz_ronald_reagan': 3L, 'democrat': 1L, 'weather': 1L, 'determine': 1L, 'parties': 1L, 'spending': 3L, 'constantly': 1L, 'legislation': 1L, 'fast': 1L, 'low': 1L, 'forward': 1L, 'translate': 1L, 'assumes': 1L, 'medium': 1L, 'offer': 1L, 'jewish': 1L, 'relaxed': 1L, 'delivery': 1L, 'hear': 1L, 'library': 2L, 'promote': 1L, 'places': 1L, 'limit': 1L, 'zzz_sen_bill_bradley': 1L, 'problem': 1L, 'irish': 1L, 'liberal': 2L, 'fright': 1L, 'single': 1L, 'goodness': 1L, 'zzz_new_york_knick': 1L, 'tossing': 1L, 'boom': 1L, 'mock': 1L, 'conclusion': 1L, 'draw': 1L, 'chance': 1L, 'coverage': 1L, 'billion': 2L, 'individual': 1L, 'zzz_al_gore': 5L, 'resolving': 1L, 'depth': 1L, 'zzz_rhodes': 1L, 'paced': 1L}, {'exclusive': 1L, 'emerging': 1L, 'selection': 1L, 'help': 1L, 'unemployment': 1L, 'issued': 1L, 'polled': 1L, 'executive': 1L, 'competitive': 1L, 'course': 1L, 'manager': 2L, 'paper': 1L, 'businesses': 1L, 'shares': 2L, 'find': 1L, 'issues': 1L, 'payoff': 3L, 'industries': 1L, 'current': 1L, 'cut': 1L, 'candidate': 1L, 'personal': 1L, 'explain': 2L, 'guaranteed': 1L, 'add': 1L, 'potential': 1L, 'rich': 1L, 'equity': 1L, 'employee': 6L, 'poised': 1L, 'distributes': 1L, 'worth': 1L, 'advises': 1L, 'lure': 1L, 'hit': 1L, 'risk': 1L, 'sitting': 1L, 'big': 4L, 'practice': 1L, 'awarding': 2L, 'seemingly': 1L, 'truly': 1L, 'increases': 2L, 'performance': 3L, 'growing': 1L, 'term': 1L, 'increasing': 1L, 'entitling': 1L, 'fully': 1L, 'companies': 9L, 'serves': 1L, 'collect': 1L, 'benefit': 2L, 'continue': 1L, 'quick': 1L, 'soft': 1L, 'mean': 2L, 'attorney': 3L, 'right': 1L, 'financial': 2L, 'accelerator': 3L, 'trend': 1L, 'house': 1L, 'frame': 1L, 'tech': 3L, 'direct': 1L, 'competition': 1L, 'past': 1L, 'recruitment': 1L, 'growth': 2L, 'trading': 1L, 'lawyer': 3L, 'recently': 1L, 'event': 2L, 'established': 1L, 'record': 1L, 'managing': 2L, 'paralegal': 2L, 'salaries': 1L, 'increase': 2L, 'encourage': 1L, 'future': 4L, 'market': 9L, 'goes': 1L, 'net': 2L, 'retention': 1L, 'public': 2L, 'exercise': 1L, 'ladder': 1L, 'deemed': 1L, 'drink': 1L, 'run': 1L, 'mature': 1L, 'business': 1L, 'eligibility': 1L, 'incentives': 1L, 'water': 1L, 'reported': 1L, 'job': 2L, 'fee': 1L, 'lucrative': 1L, 'graduated': 1L, 'rises': 1L, 'additional': 1L, 'payout': 1L, 'search': 1L, 'rare': 1L, 'getting': 1L, 'money': 2L, 'employees': 7L, 'annual': 1L, 'positioning': 1L, 'reason': 1L, 'range': 1L, 'place': 2L, 'amazingly': 1L, 'zzz_united_states': 1L, 'retain': 2L, 'maker': 1L, 'executives': 1L, 'seeing': 1L, 'raised': 1L, 'betting': 1L, 'requirement': 1L, 'linking': 1L, 'morale': 2L, 'lieu': 1L, 'wider': 1L, 'total': 2L, 'quality': 1L, 'unit': 1L, 'worthless': 1L, 'packages': 1L, 'wealth': 1L, 'spending': 1L, 'leading': 1L, 'placing': 1L, 'negative': 1L, 'liquidated': 1L, 'noticed': 1L, 'start': 1L, 'low': 1L, 'interest': 1L, 'today': 3L, 'firm': 7L, 'ago': 2L, 'option': 31L, 'form': 2L, 'expose': 1L, 'worker': 1L, 'zzz_home_depot': 1L, 'award': 3L, 'unending': 1L, 'larger': 1L, 'part': 2L, 'tying': 1L, 'bull': 2L, 'prices': 2L, 'cases': 1L, 'trying': 1L, 'holder': 2L, 'handsome': 1L, 'package': 2L, 'permit': 1L, 'cash': 3L, 'windfall': 1L, 'compensation': 8L, 'converted': 1L, 'netting': 1L, 'zzz_coke': 1L, 'newspaper': 1L, 'making': 1L, 'launched': 1L, 'receptionist': 1L, 'marketplace': 1L, 'performer': 2L, 'supervisor': 1L, 'zzz_coca_cola': 1L, 'recognize': 1L, 'zzz_atlanta_area': 1L, 'share': 4L, 'accept': 1L, 'high': 4L, 'middle': 1L, 'negotiating': 1L, 'zzz_red_hot': 4L, 'slip': 1L, 'need': 1L, 'partner': 3L, 'seek': 1L, 'viewed': 1L, 'brethren': 1L, 'huge': 1L, 'traditionally': 1L, 'offering': 4L, 'attract': 2L, 'granted': 1L, 'stake': 1L, 'percent': 4L, 'amount': 1L, 'incentive': 3L, 'investment': 1L, 'oriented': 1L, 'hot': 1L, 'setting': 1L, 'role': 1L, 'tie': 1L, 'company': 2L, 'stock': 1L, 'sell': 1L, 'play': 1L, 'price': 4L, 'swiftly': 1L, 'tool': 1L, 'expectation': 1L, 'director': 1L, 'important': 1L, 'shareholder': 3L, 'plan': 1L, 'position': 1L, 'changing': 1L, 'salary': 2L, 'purchase': 2L, 'lower': 2L, 'organization': 1L, 'individual': 1L, 'considered': 1L, 'corporate': 4L, 'average': 2L, 'spent': 1L, 'profit': 1L, 'client': 4L, 'upside': 2L, 'talk': 2L, 'pay': 3L, 'zzz_silicon_valley': 1L, 'american': 1L, 'reward': 2L, 'typically': 1L, 'migrate': 1L}, {'saying': 1L, 'managed': 1L, 'office': 2L, 'zzz_england': 1L, 'groundwork': 1L, 'caused': 1L, 'lack': 1L, 'dollar': 1L, 'soon': 2L, 'competitive': 1L, 'interpreted': 1L, 'discovered': 1L, 'ended': 1L, 'manager': 1L, 'planning': 1L, 'gauge': 1L, 'zzz_new_york': 3L, 'cooperative': 1L, 'mirage': 1L, 'carefully': 1L, 'functioned': 1L, 'defend': 1L, 'issues': 1L, 'devoted': 1L, 'constituted': 1L, 'wry': 1L, 'unique': 1L, 'group': 2L, 'catastrophe': 1L, 'acknowledge': 1L, 'lining': 1L, 'fix': 1L, 'percent': 2L, 'difficulties': 1L, 'condition': 1L, 'anticlimax': 1L, 'developed': 1L, 'pegged': 1L, 'holiday': 1L, 'decades': 1L, 'zzz_north_texas': 1L, 'real': 4L, 'activities': 1L, 'vendor': 1L, 'belatedly': 1L, 'advantage': 1L, 'government': 4L, 'dependent': 2L, 'workout': 1L, 'nation': 2L, 'early': 1L, 'insist': 1L, 'deployment': 1L, 'press': 1L, 'glitches': 2L, 'silver': 1L, 'encounter': 1L, 'success': 2L, 'level': 1L, 'tram': 1L, 'warned': 3L, 'array': 1L, 'companies': 1L, 'unnecessary': 1L, 'puffery': 1L, 'yorker': 1L, 'gotten': 1L, 'hype': 1L, 'failures': 2L, 'fixed': 2L, 'wrote': 1L, 'deceived': 1L, 'heavy': 1L, 'slow': 1L, 'right': 2L, 'financial': 1L, 'broader': 1L, 'deal': 1L, 'higher': 1L, 'list': 1L, 'globe': 1L, 'testing': 1L, 'related': 1L, 'zzz_working_group': 1L, 'responsive': 1L, 'individual': 1L, 'expect': 1L, 'statistic': 1L, 'proper': 1L, 'laundry': 1L, 'operation': 1L, 'zzz_council': 1L, 'investment': 3L, 'recognition': 1L, 'zzz_australia': 1L, 'instance': 1L, 'business': 4L, 'expert': 4L, 'avoid': 1L, 'normal': 1L, 'felt': 1L, 'looking': 1L, 'laid': 1L, 'critical': 2L, 'millennium': 1L, 'john': 1L, 'internet': 3L, 'international': 1L, 'fall': 1L, 'microchip': 1L, 'numerous': 1L, 'leader': 1L, 'zzz_society': 1L, 'impact': 1L, 'full': 2L, 'transportation': 1L, 'power': 1L, 'associate': 1L, 'million': 2L, 'deliver': 1L, 'gym': 1L, 'extraordinary': 1L, 'fluke': 1L, 'disastrous': 1L, 'betrayed': 1L, 'chairman': 3L, 'obligation': 1L, 'reaction': 1L, 'accident': 1L, 'ahead': 1L, 'face': 2L, 'exaggerated': 1L, 'changed': 1L, 'programming': 1L, 'according': 2L, 'british': 1L, 'amount': 1L, 'breakdown': 1L, 'massive': 1L, 'threat': 3L, 'resumes': 1L, 'skin': 2L, 'misused': 1L, 'studies': 1L, 'software': 1L, 'emerge': 1L, 'major': 2L, 'benefited': 1L, 'precautionary': 1L, 'danger': 1L, 'feel': 1L, 'vast': 1L, 'private': 1L, 'zzz_securities_industry_association': 1L, 'computing': 1L, 'exchanges': 1L, 'rollover': 2L, 'risk': 1L, 'dawned': 1L, 'conference': 1L, 'management': 1L, 'fascinating': 1L, 'working': 1L, 'zzz_delta_airlines': 1L, 'spending': 2L, 'termed': 1L, 'support': 1L, 'flying': 1L, 'question': 1L, 'system': 5L, 'quickly': 1L, 'zzz_securities': 1L, 'program': 2L, 'listed': 1L, 'zzz_president': 1L, 'wildly': 1L, 'expected': 1L, 'hundred': 1L, 'company': 1L, 'start': 2L, 'flaw': 2L, 'arises': 1L, 'form': 1L, 'relax': 1L, 'thousand': 1L, 'technological': 2L, 'worker': 1L, 'disruption': 2L, 'part': 1L, 'understand': 1L, 'automated': 1L, 'wasted': 1L, 'printed': 1L, 'evidence': 1L, 'effort': 1L, 'analyst': 1L, 'belated': 1L, 'cheated': 1L, 'case': 1L, 'commerce': 1L, 'kind': 1L, 'zzz_conversion': 1L, 'truly': 1L, 'hour': 1L, 'science': 1L, 'zzz_adelaide': 1L, 'official': 1L, 'signed': 1L, 'project': 1L, 'underpinning': 1L, 'remain': 1L, 'computer': 14L, 'problem': 5L, 'zzz_hunter_college': 1L, 'result': 1L, 'money': 1L, 'give': 1L, 'confused': 1L, 'quiet': 1L, 'tide': 1L, 'sense': 1L, 'voice': 1L, 'technology': 4L, 'trade': 1L, 'worse': 1L, 'chance': 1L, 'overstated': 1L, 'discussion': 1L, 'upgrading': 1L, 'perhap': 1L, 'denying': 1L, 'note': 1L, 'prevented': 1L, 'inventory': 1L, 'department': 1L, 'widespread': 1L, 'zzz_exchange_commission': 1L, 'failure': 2L, 'stock': 1L, 'fare': 1L, 'abused': 1L, 'added': 1L, 'temporary': 1L, 'huge': 1L, 'zzz_sydney': 1L, 'collection': 1L, 'director': 2L, 'zzz_united_states': 3L, 'wrong': 1L, 'important': 2L, 'arrived': 1L, 'user': 1L, 'significant': 3L, 'organization': 1L, 'services': 1L, 'frequently': 1L, 'future': 2L, 'needed': 3L, 'refrigerator': 1L, 'billion': 2L, 'correspondent': 1L, 'chasing': 1L, 'center': 1L, 'won': 1L, 'charges': 1L, 'light': 1L, 'professor': 1L, 'spent': 4L, 'filing': 1L, 'definitely': 1L, 'reflect': 1L, 'auditor': 1L, 'zzz_university': 1L, 'predictable': 1L, 'position': 1L, 'spend': 2L}, {'unimpeded': 1L, 'affair': 1L, 'rutted': 1L, 'pant': 1L, 'hijacker': 13L, 'pointed': 1L, 'defended': 1L, 'ended': 3L, 'zzz_quetta': 2L, 'follow': 1L, 'asylum': 1L, 'hijacked': 1L, 'tarmac': 1L, 'aggravate': 1L, 'clashed': 1L, 'assertion': 1L, 'winning': 1L, 'add': 1L, 'jam': 1L, 'easy': 1L, 'issued': 1L, 'terror': 1L, 'humanity': 1L, 'extradition': 1L, 'gave': 1L, 'wearing': 1L, 'hijacking': 4L, 'government': 4L, 'rules': 1L, 'blanket': 1L, 'material': 1L, 'stop': 1L, 'nation': 1L, 'criticized': 1L, 'traffic': 1L, 'emphasized': 1L, 'provision': 1L, 'comment': 1L, 'countries': 1L, 'pleasures': 1L, 'loosely': 1L, 'public': 1L, 'crossing': 3L, 'told': 2L, 'heading': 1L, 'right': 1L, 'savored': 1L, 'deal': 1L, 'donkey': 1L, 'past': 1L, 'implicated': 1L, 'likely': 1L, 'summer': 1L, 'expect': 2L, 'sea': 1L, 'home': 2L, 'special': 1L, 'opened': 1L, 'unabated': 1L, 'nuclear': 1L, 'decision': 1L, 'denied': 1L, 'increased': 1L, 'crisis': 1L, 'spokesman': 1L, 'indian': 1L, 'suspect': 1L, 'masked': 2L, 'capital': 1L, 'leader': 1L, 'independence': 1L, 'freed': 1L, 'muslim': 1L, 'zzz_muslim_kashmir': 4L, 'leg': 1L, 'listing': 1L, 'attention': 1L, 'cart': 1L, 'darkly': 1L, 'believed': 1L, 'step': 1L, 'hostages': 5L, 'nationalities': 1L, 'scarves': 1L, 'detecting': 1L, 'refused': 1L, 'optional': 1L, 'remark': 2L, 'freedom': 1L, 'ill': 1L, 'attributed': 1L, 'meal': 1L, 'greatly': 1L, 'faces': 2L, 'military': 1L, 'asked': 2L, 'road': 1L, 'load': 1L, 'headed': 4L, 'simple': 1L, 'zzz_airlines': 1L, 'sweep': 1L, 'zzz_pakistanis': 2L, 'accusation': 1L, 'names': 1L, 'directly': 1L, 'zzz_taliban': 5L, 'wrap': 1L, 'patrol': 2L, 'drove': 1L, 'armed': 1L, 'zzz_singh': 7L, 'risk': 1L, 'conference': 1L, 'zzz_kashmiris': 1L, 'wanted': 1L, 'zzz_pakistan': 17L, 'hinted': 1L, 'jet': 1L, 'unknown': 1L, 'support': 1L, 'political': 1L, 'detected': 1L, 'stark': 1L, 'militant': 3L, 'statement': 2L, 'vehicle': 1L, 'pakistani': 2L, 'patrolled': 1L, 'archrival': 1L, 'bloodshed': 1L, 'shifted': 1L, 'direction': 1L, 'turban': 1L, 'relieved': 1L, 'releasing': 1L, 'took': 2L, 'released': 2L, 'zzz_indian': 2L, 'carrying': 1L, 'minister': 2L, 'claim': 1L, 'evidence': 1L, 'convinced': 1L, 'territory': 1L, 'tunic': 1L, 'hour': 3L, 'iranian': 1L, 'official': 1L, 'jailed': 1L, 'shower': 1L, 'huge': 1L, 'newspaper': 2L, 'making': 1L, 'feeling': 1L, 'taking': 2L, 'zzz_border': 5L, 'supreme': 1L, 'fashion': 1L, 'zzz_himalayan': 1L, 'cited': 1L, 'head': 1L, 'sleeping': 1L, 'heard': 1L, 'sought': 2L, 'foreign': 1L, 'seek': 2L, 'disappear': 1L, 'string': 1L, 'mountain': 1L, 'diplomat': 1L, 'zzz_india': 5L, 'zzz_kandahar': 2L, 'winter': 1L, 'permission': 1L, 'offensive': 1L, 'handed': 1L, 'predominantly': 1L, 'inch': 1L, 'recent': 1L, 'zzz_afghanistan': 4L, 'difficult': 2L, 'wheel': 1L, 'bearded': 1L, 'added': 1L, 'trace': 1L, 'normal': 1L, 'ladder': 1L, 'act': 1L, 'yesterday': 1L, 'terrorist': 2L, 'sponsored': 1L, 'coming': 1L, 'outstretched': 1L, 'information': 1L, 'revealed': 1L, 'zzz_airbus': 1L, 'zzz_mullah_muhammad_omar': 1L, 'task': 1L, 'episode': 1L, 'largely': 1L, 'charges': 1L, 'neighboring': 1L, 'clear': 1L, 'cover': 1L, 'drive': 2L, 'rule': 1L, 'punishment': 2L, 'traditional': 1L, 'cooked': 1L, 'eating': 1L, 'truck': 1L, 'enter': 1L, 'authoritatively': 1L, 'wind': 1L, 'latest': 1L}, {'replied': 1L, 'concept': 1L, 'shot': 1L, 'consider': 1L, 'producer': 1L, 'show': 1L, 'executive': 1L, 'zzz_nbc': 1L, 'produced': 1L, 'bring': 2L, 'attitude': 1L, 'zzz_new_york': 1L, 'zzz_martha_stewart': 1L, 'fear': 1L, 'caregiver': 1L, 'saved': 1L, 'find': 1L, 'issues': 1L, 'web': 1L, 'position': 2L, 'group': 6L, 'thank': 1L, 'rousing': 1L, 'rose': 1L, 'unemployment': 1L, 'midseason': 1L, 'leap': 1L, 'writing': 1L, 'shouting': 1L, 'conducted': 1L, 'version': 1L, 'zzz_census_bureau': 1L, 'zzz_america_online': 1L, 'mail': 1L, 'pilot': 1L, 'postpartum': 1L, 'norm': 1L, 'gave': 1L, 'dad': 1L, 'apron': 1L, 'increased': 1L, 'familiar': 1L, 'couple': 1L, 'lurk': 1L, 'fat': 1L, 'zzz_james_levine': 2L, 'slickest': 1L, 'cultural': 1L, 'intellectual': 1L, 'mom': 1L, 'foot': 1L, 'tank': 1L, 'hall': 1L, 'look': 1L, 'gray': 1L, 'school': 1L, 'roles': 1L, 'brain': 1L, 'list': 1L, 'identified': 1L, 'zzz_work_institute': 1L, 'jokes': 1L, 'benefit': 1L, 'mode': 1L, 'night': 2L, 'small': 2L, 'found': 1L, 'guy': 1L, 'reduced': 1L, 'development': 1L, 'nut': 1L, 'bacon': 1L, 'idea': 2L, 'pantry': 1L, 'born': 1L, 'decided': 1L, 'fist': 2L, 'demeaning': 1L, 'quantum': 1L, 'home': 10L, 'air': 1L, 'yes': 2L, 'subject': 1L, 'blue': 1L, 'attendees': 1L, 'network': 1L, 'expert': 1L, 'broad': 1L, 'section': 1L, 'sites': 2L, 'pump': 1L, 'won': 1L, 'tainted': 1L, 'masculinity': 1L, 'internet': 2L, 'lecture': 1L, 'newly': 1L, 'movement': 1L, 'unsuccessfully': 1L, 'full': 1L, 'run': 1L, 'chose': 1L, 'proud': 1L, 'million': 2L, 'caretaker': 1L, 'sprung': 1L, 'drew': 1L, 'met': 1L, 'reason': 1L, 'firemen': 1L, 'shifting': 1L, 'wear': 1L, 'emotional': 1L, 'approval': 1L, 'hand': 1L, 'constituency': 1L, 'change': 1L, 'care': 2L, 'cop': 1L, 'responsibilities': 1L, 'reared': 1L, 'reported': 1L, 'zzz_n_c': 1L, 'chant': 1L, 'taking': 1L, 'sitcom': 1L, 'called': 1L, 'admit': 1L, 'zzz_disney': 1L, 'figures': 1L, 'stand': 1L, 'social': 1L, 'zzz_mom': 1L, 'slightly': 1L, 'asked': 1L, 'zzz_labor_statistic': 1L, 'consulting': 1L, 'unclear': 1L, 'barometer': 1L, 'necessity': 1L, 'father': 7L, 'child': 1L, 'number': 2L, 'pop': 1L, 'son': 1L, 'affirmation': 1L, 'playground': 1L, 'esteem': 1L, 'cheerleader': 1L, 'elementary': 1L, 'respect': 1L, 'researched': 1L, 'quit': 1L, 'attendance': 1L, 'raise': 3L, 'support': 1L, 'secret': 1L, 'clinical': 1L, 'convention': 3L, 'kid': 3L, 'meeting': 1L, 'duties': 1L, 'firm': 1L, 'ago': 1L, 'families': 2L, 'complete': 1L, 'reaction': 1L, 'ages': 1L, 'zzz_daddio': 1L, 'released': 1L, 'wake': 1L, 'diaper': 1L, 'zzz_army': 1L, 'butt': 1L, 'known': 2L, 'pitched': 1L, 'funk': 1L, 'women': 2L, 'states': 1L, 'kind': 1L, 'slogan': 1L, 'room': 1L, 'showed': 1L, 'emboldened': 1L, 'isolation': 1L, 'zzz_anatomy': 1L, 'average': 1L, 'believes': 1L, 'recession': 1L, 'economic': 1L, 'zzz_pta': 1L, 'shift': 1L, 'meet': 1L, 'problem': 1L, 'fried': 1L, 'study': 2L, 'versus': 1L, 'pound': 1L, 'teaching': 1L, 'household': 1L, 'organized': 1L, 'commander': 1L, 'topic': 1L, 'middle': 1L, 'reserves': 1L, 'comedian': 1L, 'partner': 1L, 'aged': 1L, 'seminar': 1L, 'dozen': 1L, 'proudly': 1L, 'traditionally': 1L, 'nonetheless': 1L, 'percent': 4L, 'isolated': 1L, 'virtual': 1L, 'instructed': 1L, 'high': 1L, 'book': 2L, 'forest': 1L, 'online': 1L, 'survey': 1L, 'unwilling': 1L, 'zzz_chicago': 1L, 'unemployed': 3L, 'higher': 1L, 'gaining': 1L, 'zzz_free_press': 1L, 'play': 1L, 'felt': 1L, 'breadwinner': 1L, 'primary': 2L, 'stay': 6L, 'director': 1L, 'suburb': 1L, 'connecting': 1L, 'cater': 1L, 'significant': 1L, 'weigh': 1L, 'choice': 2L, 'collar': 1L, 'recent': 1L, 'salary': 1L, 'newsletter': 1L, 'longer': 1L, 'wife': 2L, 'considered': 1L, 'zzz_robert_frank': 1L, 'professor': 1L, 'zzz_american': 1L, 'psychologist': 1L, 'clenched': 1L, 'face': 3L, 'psychology': 1L, 'stayed': 1L, 'lives': 1L, 'wives': 2L, 'pulled': 1L}, {'essay': 1L, 'cute': 1L, 'pervert': 1L, 'consider': 1L, 'equally': 1L, 'attitude': 1L, 'industrial': 1L, 'distant': 1L, 'touch': 1L, 'echoed': 1L, 'yes': 1L, 'adjustment': 1L, 'stir': 1L, 'children': 2L, 'principal': 1L, 'crush': 1L, 'group': 2L, 'craziness': 1L, 'freakish': 1L, 'father': 4L, 'bench': 1L, 'potential': 1L, 'differently': 1L, 'pretty': 1L, 'aviator': 1L, 'gave': 1L, 'dad': 1L, 'steel': 1L, 'woman': 1L, 'familiar': 1L, 'couple': 1L, 'males': 1L, 'birth': 1L, 'gonna': 2L, 'choice': 1L, 'lunch': 1L, 'corollary': 1L, 'putting': 1L, 'makes': 1L, 'mom': 1L, 'nurturing': 1L, 'difference': 1L, 'complain': 1L, 'minute': 1L, 'look': 1L, 'school': 1L, 'places': 1L, 'shop': 1L, 'zzz_edward_howard': 1L, 'fully': 1L, 'married': 1L, 'identified': 1L, 'admitted': 1L, 'manifest': 1L, 'rearing': 1L, 'audience': 3L, 'adjust': 1L, 'ovation': 1L, 'small': 1L, 'guy': 2L, 'ponytailed': 1L, 'husband': 4L, 'revolution': 1L, 'weight': 2L, 'tired': 1L, 'house': 3L, 'hard': 1L, 'begin': 1L, 'decided': 1L, 'design': 1L, 'result': 1L, 'fist': 1L, 'separating': 1L, 'home': 9L, 'girl': 1L, 'newsletter': 1L, 'sexual': 1L, 'depression': 1L, 'zzz_pensacola': 1L, 'zzz_loneliness': 1L, 'attendees': 1L, 'nationwide': 1L, 'whooped': 1L, 'expressed': 1L, 'find': 1L, 'looking': 1L, 'encourage': 1L, 'playground': 1L, 'zzz_working_woman': 1L, 'nurse': 1L, 'issue': 1L, 'math': 1L, 'told': 3L, 'run': 1L, 'parent': 1L, 'tables': 1L, 'rolled': 1L, 'gathered': 1L, 'pumping': 1L, 'cheered': 1L, 'web': 2L, 'schoolyard': 1L, 'making': 1L, 'pasta': 1L, 'approval': 1L, 'wanted': 1L, 'teacher': 1L, 'homemaker': 1L, 'care': 2L, 'chapter': 1L, 'publisher': 1L, 'training': 1L, 'daughter': 1L, 'certificate': 1L, 'zzz_anatomy': 1L, 'career': 3L, 'frustrating': 1L, 'route': 1L, 'called': 4L, 'participating': 1L, 'credit': 1L, 'zzz_pueblo': 1L, 'workplace': 1L, 'published': 1L, 'blacksmith': 1L, 'zzz_mom': 1L, 'documentary': 1L, 'asked': 2L, 'comment': 1L, 'named': 1L, 'motioning': 1L, 'point': 1L, 'wall': 2L, 'hometown': 1L, 'ages': 1L, 'profession': 1L, 'commitment': 1L, 'son': 3L, 'twin': 1L, 'zzz_chris_cooper': 2L, 'balanced': 1L, 'open': 1L, 'closing': 1L, 'standing': 1L, 'quit': 1L, 'bathroom': 2L, 'strangled': 1L, 'working': 2L, 'zzz_colo': 1L, 'grow': 1L, 'live': 1L, 'listed': 1L, 'convention': 3L, 'outweighed': 1L, 'prosecutor': 1L, 'loving': 1L, 'zzz_up': 1L, 'ago': 1L, 'door': 1L, 'form': 1L, 'reaction': 1L, 'started': 2L, 'bouncing': 1L, 'company': 2L, 'regard': 1L, 'park': 1L, 'problem': 1L, 'filmmaker': 1L, 'glass': 1L, 'lives': 1L, 'boredom': 1L, 'child': 4L, 'lifestyle': 1L, 'screening': 1L, 'raising': 1L, 'women': 3L, 'town': 1L, 'kind': 1L, 'occasional': 1L, 'room': 1L, 'hour': 1L, 'cluster': 1L, 'frozen': 1L, 'isolation': 1L, 'athlete': 1L, 'zzz_san_diego': 1L, 'defense': 1L, 'accustomed': 1L, 'endure': 1L, 'evolved': 1L, 'growing': 1L, 'manly': 2L, 'zzz_st_paul': 2L, 'feeling': 1L, 'similar': 1L, 'zzz_foot': 1L, 'meant': 1L, 'required': 1L, 'listening': 1L, 'site': 2L, 'rapt': 1L, 'pushed': 1L, 'single': 1L, 'classroom': 1L, 'shopping': 1L, 'happen': 2L, 'film': 2L, 'jacket': 1L, 'squat': 1L, 'sit': 1L, 'ambivalence': 1L, 'discussion': 1L, 'zzz_fla': 1L, 'clearly': 1L, 'workday': 1L, 'housework': 1L, 'zzz_burger_king': 1L, 'seminar': 1L, 'big': 2L, 'answer': 1L, 'zzz_chicago': 1L, 'play': 1L, 'salad': 1L, 'conventioneer': 1L, 'zzz_minn': 2L, 'farm': 1L, 'retrograde': 1L, 'stay': 7L, 'driven': 1L, 'chance': 1L, 'experiences': 1L, 'cleaning': 1L, 'date': 1L, 'burly': 1L, 'totally': 1L, 'sides': 1L, 'kid': 3L, 'salary': 1L, 'compendium': 1L, 'longer': 1L, 'wife': 3L, 'considered': 1L, 'traded': 1L, 'awkwardness': 1L, 'humiliated': 1L, 'drive': 1L, 'gruffly': 1L, 'looked': 1L, 'sensitive': 1L, 'clean': 4L, 'mother': 1L, 'recalled': 1L, 'intimacy': 1L, 'talk': 1L, 'gain': 3L}, {'zzz_anatoly_sobchak': 1L, 'coup': 1L, 'restore': 1L, 'money': 1L, 'domestic': 1L, 'merit': 1L, 'course': 1L, 'economy': 2L, 'freight': 1L, 'left': 1L, 'inherit': 1L, 'fear': 2L, 'mayor': 1L, 'industries': 2L, 'bridges': 1L, 'bribes': 1L, 'electricity': 1L, 'interesting': 1L, 'regarded': 1L, 'acting': 1L, 'writing': 1L, 'zzz_ministry': 4L, 'experiment': 1L, 'zzz_chechnya': 1L, 'atrophied': 1L, 'workable': 1L, 'policy': 1L, 'pay': 1L, 'communist': 2L, 'advanced': 1L, 'predecessor': 1L, 'customer': 1L, 'return': 1L, 'added': 2L, 'zzz_boris_yeltsin': 3L, 'government': 3L, 'read': 1L, 'material': 1L, 'bureaucrat': 2L, 'judiciary': 1L, 'congratulating': 1L, 'nation': 5L, 'heard': 1L, 'hiring': 1L, 'mistaken': 1L, 'accumulate': 1L, 'railroad': 2L, 'daily': 1L, 'enter': 1L, 'realize': 1L, 'bigger': 1L, 'prime': 1L, 'beseech': 1L, 'progressive': 1L, 'autocracy': 1L, 'held': 1L, 'benevolent': 1L, 'fully': 1L, 'level': 2L, 'corruption': 2L, 'ignore': 1L, 'collect': 1L, 'indication': 1L, 'streamlined': 1L, 'ideologically': 1L, 'promise': 1L, 'quarter': 1L, 'rote': 1L, 'ceremonial': 1L, 'wrote': 2L, 'mean': 1L, 'dwindled': 1L, 'westerner': 1L, 'accomplishment': 1L, 'pledge': 1L, 'thwarting': 1L, 'fantastically': 1L, 'fanned': 1L, 'rate': 1L, 'growth': 1L, 'election': 2L, 'pass': 1L, 'corrupt': 1L, 'led': 1L, 'odd': 1L, 'mill': 1L, 'packed': 1L, 'belief': 1L, 'closer': 1L, 'gross': 1L, 'reform': 1L, 'zzz_kremlin': 5L, 'zzz_portugal': 1L, 'crucial': 1L, 'chaos': 1L, 'zzz_soviet_era': 1L, 'icy': 1L, 'won': 1L, 'millennium': 1L, 'remain': 2L, 'internet': 1L, 'crackdown': 1L, 'gov': 1L, 'tolerance': 1L, 'method': 1L, 'law': 2L, 'victory': 1L, 'recently': 1L, 'dictatorial': 1L, 'power': 6L, 'rail': 1L, 'dictates': 1L, 'agencies': 1L, 'free': 1L, 'reported': 1L, 'communism': 1L, 'opposition': 1L, 'rewarding': 1L, 'backed': 1L, 'region': 1L, 'unnamed': 1L, 'remainder': 1L, 'zzz_stalin': 1L, 'remark': 1L, 'central': 1L, 'extraordinary': 1L, 'country': 2L, 'employees': 1L, 'annual': 1L, 'according': 1L, 'shipping': 1L, 'unpaid': 1L, 'stand': 1L, 'steadily': 1L, 'zzz_united_states': 1L, 'railway': 1L, 'mistake': 1L, 'asked': 1L, 'ago': 1L, 'prices': 1L, 'major': 1L, 'industrial': 2L, 'tone': 1L, 'divide': 1L, 'deputy': 1L, 'civil': 1L, 'political': 1L, 'merely': 1L, 'powerful': 1L, 'scene': 1L, 'rank': 1L, 'insist': 1L, 'plurality': 1L, 'simply': 1L, 'raises': 1L, 'right': 1L, 'president': 4L, 'swallowed': 1L, 'strong': 4L, 'zzz_vladimir_putin': 8L, 'capable': 1L, 'aren': 1L, 'zzz_nicholas_ii': 1L, 'flustered': 1L, 'tougher': 1L, 'visit': 1L, 'system': 2L, 'tradition': 1L, 'immense': 1L, 'live': 1L, 'doubt': 1L, 'zzz_russia': 10L, 'opposed': 1L, 'meeting': 1L, 'achieving': 1L, 'duties': 1L, 'bureaucracy': 3L, 'direction': 1L, 'parliament': 1L, 'offering': 1L, 'untamed': 1L, 'fire': 1L, 'worker': 1L, 'award': 1L, 'needed': 2L, 'sobering': 1L, 'zzz_france': 2L, 'demand': 1L, 'russian': 3L, 'believe': 1L, 'present': 1L, 'steel': 1L, 'look': 1L, 'minister': 1L, 'pushed': 1L, 'structures': 3L, 'require': 1L, 'bill': 1L, 'liberties': 1L, 'believes': 1L, 'outrageous': 1L, 'zzz_japan': 1L, 'individual': 1L, 'www': 1L, 'subjugate': 1L, 'root': 1L, 'idle': 1L, 'performed': 1L, 'control': 1L, 'mountain': 1L, 'promises': 1L, 'buying': 1L, 'recognize': 1L, 'admirer': 1L, 'turned': 1L, 'site': 1L, 'praising': 1L, 'raw': 1L, 'fortunes': 1L, 'ideological': 1L, 'doling': 1L, 'zzz_st_petersburg': 1L, 'allowed': 1L, 'need': 1L, 'indifferent': 1L, 'pit': 1L, 'trip': 1L, 'physical': 1L, 'parliamentary': 1L, 'provincial': 1L, 'compared': 1L, 'productivity': 1L, 'turn': 1L, 'personnel': 1L, 'granted': 1L, 'percent': 4L, 'equipment': 1L, 'html': 1L, 'special': 2L, 'discount': 1L, 'document': 1L, 'zzz_investment': 1L, 'conflict': 1L, 'mentor': 1L, 'product': 1L, 'war': 1L, 'making': 1L, 'zzz_soviet': 2L, 'savage': 1L, 'price': 1L, 'published': 1L, 'reach': 1L, 'zzz_moscow': 3L, 'zzz_kommersant': 1L, 'rise': 1L, 'ties': 2L, 'truly': 1L, 'contribution': 1L, 'infirmity': 1L, 'authoritarian': 1L, 'task': 1L, 'regime': 1L, 'zzz_britain': 2L, 'statistic': 1L, 'sale': 1L, 'rule': 4L, 'person': 1L, 'loyal': 1L, 'suggest': 1L, 'democratic': 5L, 'nearly': 1L}, {'shape': 1L, 'mistakes': 1L, 'businesses': 2L, 'zzz_west': 1L, 'follow': 1L, 'saved': 1L, 'mayor': 1L, 'slow': 1L, 'overcome': 1L, 'zzz_western': 2L, 'crash': 1L, 'government': 4L, 'zzz_america': 2L, 'nation': 1L, 'early': 1L, 'devising': 1L, 'politician': 1L, 'entrenched': 1L, 'benefit': 1L, 'thrive': 1L, 'team': 1L, 'small': 1L, 'wrote': 1L, 'zzz_east_germany': 1L, 'financial': 1L, 'intelligence': 1L, 'competition': 1L, 'economic': 2L, 'shortcoming': 1L, 'expect': 1L, 'recommendation': 1L, 'depression': 1L, 'expert': 1L, 'federal': 1L, 'interference': 1L, 'supporter': 1L, 'sustain': 1L, 'reformist': 1L, 'contrast': 1L, 'power': 1L, 'restructuring': 1L, 'beginning': 1L, 'improve': 1L, 'country': 2L, 'american': 1L, 'amassed': 1L, 'market': 1L, 'reworked': 1L, 'outsider': 1L, 'start': 1L, 'transfer': 1L, 'create': 1L, 'political': 1L, 'system': 3L, 'fast': 1L, 'needed': 1L, 'regulation': 1L, 'wonderful': 1L, 'zzz_russia': 2L, 'decisive': 1L, 'recruited': 1L, 'today': 1L, 'prone': 1L, 'took': 1L, 'carrying': 1L, 'blindly': 1L, 'convinced': 1L, 'zzz_russian': 1L, 'word': 1L, 'inside': 1L, 'plunged': 1L, 'monopolies': 1L, 'capitalistic': 1L, 'aid': 1L, 'history': 1L, 'exist': 1L, 'zzz_st_petersburg': 1L, 'education': 1L, 'recovery': 1L, 'majority': 1L, 'economy': 3L, 'poor': 1L, 'zzz_theodore_roosevelt': 2L, 'paramount': 1L, 'zzz_roosevelt': 1L, 'swiftly': 1L, 'helping': 1L, 'regular': 1L, 'plan': 1L, 'president': 3L, 'law': 1L, 'flourish': 1L, 'zzz_franklin_roosevelt': 3L, 'capitalism': 1L, 'zzz_putin': 3L, 'contact': 1L, 'model': 1L, 'opportunity': 1L}, {'zzz_saint': 1L, 'walking': 1L, 'outspoken': 1L, 'dogged': 1L, 'office': 1L, 'show': 1L, 'chances': 1L, 'executive': 2L, 'dollar': 1L, 'named': 1L, 'attitude': 1L, 'mistakes': 2L, 'zzz_new_york': 1L, 'zzz_minnesota': 1L, 'fear': 1L, 'longer': 1L, 'zzz_giant': 2L, 'decade': 1L, 'slot': 1L, 'rapid': 1L, 'excuses': 1L, 'pray': 1L, 'fix': 1L, 'blown': 1L, 'laid': 1L, 'improvement': 1L, 'zzz_emmitt_smith': 4L, 'starter': 1L, 'humiliate': 1L, 'wearing': 2L, 'cornerback': 1L, 'entire': 1L, 'beat': 3L, 'zzz_texas_stadium': 1L, 'nation': 1L, 'game': 1L, 'worst': 1L, 'unique': 1L, 'silver': 1L, 'minute': 1L, 'loss': 2L, 'earn': 1L, 'lost': 1L, 'quarterback': 1L, 'victories': 1L, 'indication': 1L, 'victory': 1L, 'team': 8L, 'foolish': 1L, 'luck': 1L, 'zzz_hawaii': 1L, 'signing': 1L, 'challenged': 1L, 'penalties': 1L, 'direct': 1L, 'experienced': 1L, 'bare': 1L, 'changed': 1L, 'close': 1L, 'special': 1L, 'blue': 1L, 'mood': 1L, 'lead': 2L, 'beaten': 1L, 'bonuses': 1L, 'longtime': 1L, 'closed': 1L, 'zzz_new_york_giant': 1L, 'learned': 1L, 'correct': 2L, 'contrast': 1L, 'football': 1L, 'run': 1L, 'business': 1L, 'reach': 3L, 'zzz_jerry_jones': 6L, 'million': 2L, 'newspaper': 1L, 'step': 1L, 'losing': 2L, 'afterward': 1L, 'card': 1L, 'improve': 1L, 'dry': 1L, 'league': 1L, 'passionate': 1L, 'talent': 1L, 'zzz_dallas_cowboy': 9L, 'chance': 1L, 'games': 1L, 'stand': 1L, 'encourage': 2L, 'turf': 1L, 'heavy': 1L, 'zzz_green_bay': 2L, 'session': 1L, 'extra': 1L, 'appeared': 1L, 'running': 1L, 'franchise': 1L, 'playoff': 6L, 'zzz_nfc': 1L, 'lowly': 1L, 'stern': 1L, 'owner': 1L, 'message': 1L, 'zzz_nfl': 2L, 'postseason': 1L, 'standing': 1L, 'jet': 1L, 'capable': 1L, 'zzz_washington': 2L, 'respond': 1L, 'night': 1L, 'zzz_arizona': 1L, 'frustration': 1L, 'seriously': 1L, 'meeting': 2L, 'final': 1L, 'today': 1L, 'considerably': 1L, 'zzz_miami': 1L, 'door': 1L, 'season': 5L, 'gas': 1L, 'took': 2L, 'moment': 1L, 'failure': 1L, 'zzz_troy_aikman': 1L, 'understand': 1L, 'personally': 1L, 'wasted': 1L, 'trying': 1L, 'zzz_superdome': 1L, 'countless': 1L, 'paying': 1L, 'word': 1L, 'showed': 1L, 'rage': 1L, 'zzz_tampa_bay': 1L, 'remain': 1L, 'sour': 1L, 'wild': 1L, 'making': 1L, 'agree': 1L, 'heart': 1L, 'losses': 1L, 'embarrassing': 1L, 'hoping': 1L, 'pro': 1L, 'zzz_philadelphia': 1L, 'sting': 1L, 'according': 1L, 'player': 6L, 'promised': 1L, 'seen': 1L, 'helmet': 1L, 'harsh': 1L, 'veteran': 1L, 'brightened': 1L, 'zzz_all_pro': 1L, 'potential': 1L, 'speech': 2L, 'laughed': 1L, 'zzz_dallas': 3L, 'oil': 1L, 'cupboard': 1L, 'roster': 1L, 'price': 1L, 'felt': 1L, 'spot': 1L, 'wrong': 1L, 'opportunity': 1L, 'blamed': 1L, 'especially': 2L, 'quarter': 1L, 'playing': 1L, 'chief': 1L, 'zzz_new_orlean': 2L, 'organization': 1L, 'zzz_deion_sander': 5L, 'urgency': 1L, 'travel': 1L}, {'zzz_u_s_army': 1L, 'help': 1L, 'visitor': 1L, 'zzz_tuzla': 1L, 'global': 1L, 'cheap': 1L, 'anyway': 1L, 'course': 1L, 'batteries': 1L, 'zzz_eagle_base': 1L, 'sleep': 1L, 'defiant': 1L, 'quake': 1L, 'follow': 1L, 'remarkably': 1L, 'captain': 1L, 'earlier': 1L, 'dawned': 1L, 'web': 2L, 'family': 1L, 'zone': 2L, 'radiologist': 1L, 'assurances': 1L, 'logged': 1L, 'actually': 1L, 'program': 1L, 'anticlimax': 1L, 'technological': 1L, 'mail': 3L, 'sorry': 1L, 'dreaded': 1L, 'humanity': 1L, 'gave': 1L, 'evening': 1L, 'zzz_wellington': 2L, 'midnight': 6L, 'flowing': 1L, 'watch': 1L, 'kind': 1L, 'break': 1L, 'spraying': 1L, 'game': 3L, 'harbinger': 1L, 'traffic': 1L, 'nearly': 1L, 'fall': 1L, 'immediately': 1L, 'bit': 1L, 'continued': 1L, 'net': 1L, 'minute': 1L, 'clan': 1L, 'zzz_germany': 1L, 'showed': 1L, 'list': 1L, 'server': 1L, 'offering': 1L, 'night': 3L, 'small': 2L, 'served': 1L, 'doomsayer': 1L, 'fixed': 1L, 'round': 1L, 'wrote': 6L, 'luck': 1L, 'gallon': 1L, 'talked': 1L, 'disaster': 1L, 'wishes': 1L, 'globe': 1L, 'grandfather': 1L, 'related': 3L, 'challenges': 1L, 'computer': 1L, 'asleep': 1L, 'educator': 1L, 'corner': 1L, 'images': 1L, 'home': 1L, 'happen': 2L, 'intact': 1L, 'event': 1L, 'concern': 1L, 'dial': 1L, 'network': 1L, 'clock': 1L, 'pictures': 1L, 'avoid': 1L, 'intimate': 1L, 'sites': 1L, 'hour': 2L, 'zzz_diana': 1L, 'looking': 1L, 'millennium': 2L, 'internet': 6L, 'resilient': 1L, 'zzz_maui': 1L, 'offline': 1L, 'champagne': 2L, 'novices': 1L, 'apocalyptic': 1L, 'prosaic': 1L, 'drink': 1L, 'zzz_am_i': 1L, 'zzz_yahoo': 1L, 'million': 1L, 'material': 1L, 'lack': 1L, 'reported': 1L, 'poignant': 1L, 'devour': 1L, 'zzz_fort_knox': 1L, 'address': 1L, 'engineer': 2L, 'optional': 1L, 'momentous': 1L, 'wait': 1L, 'box': 1L, 'faith': 1L, 'y2k': 3L, 'daughter': 2L, 'struck': 1L, 'auction': 1L, 'deprived': 1L, 'favorite': 1L, 'zzz_wales': 1L, 'experience': 1L, 'turn': 1L, 'connection': 1L, 'supplies': 1L, 'stand': 1L, 'shared': 1L, 'zzz_san_francisco': 1L, 'com': 1L, 'sooo': 1L, 'fake': 1L, 'presumably': 1L, 'shorthand': 1L, 'slipped': 1L, 'zzz_america_online': 2L, 'zones': 1L, 'period': 1L, 'community': 1L, 'height': 1L, 'feet': 1L, 'preparedness': 1L, 'harness': 1L, 'laugh': 1L, 'parties': 1L, 'zzz_seattle': 1L, 'zzz_bosnia': 1L, 'speak': 1L, 'necessarily': 1L, 'silent': 1L, 'working': 1L, 'zzz_colo': 1L, 'zzz_louisville': 1L, 'bottled': 1L, 'concede': 1L, 'noticed': 1L, 'sleeping': 1L, 'maintenance': 1L, 'collected': 1L, 'survive': 1L, 'celebration': 3L, 'type': 1L, 'friend': 3L, 'happy': 6L, 'yes': 1L, 'families': 1L, 'receiving': 1L, 'stationed': 1L, 'mind': 1L, 'company': 1L, 'took': 2L, 'meaningless': 1L, 'broadcast': 1L, 'expected': 1L, 'correspondent': 1L, 'bidding': 1L, 'doom': 1L, 'surged': 1L, 'zzz_world_wide': 1L, 'zzz_really': 1L, 'boyfriend': 1L, 'tempered': 1L, 'television': 1L, 'hundred': 1L, 'room': 1L, 'places': 1L, 'heard': 1L, 'past': 1L, 'signed': 2L, 'ebay': 2L, 'firework': 1L, 'universe': 2L, 'fun': 1L, 'problem': 2L, 'voice': 1L, 'bidder': 1L, 'called': 1L, 'care': 1L, 'alike': 1L, 'gathering': 1L, 'messages': 1L, 'turned': 1L, 'site': 4L, 'watcher': 1L, 'tonight': 1L, 'player': 1L, 'sudden': 2L, 'comrades': 1L, 'dropped': 1L, 'chat': 3L, 'sense': 3L, 'ready': 1L, 'wove': 1L, 'survivalist': 1L, 'happened': 1L, 'technology': 1L, 'sleepy': 1L, 'posting': 2L, 'cafe': 1L, 'inches': 1L, 'tone': 1L, 'country': 2L, 'water': 1L, 'virtual': 1L, 'zzz_duesseldorf': 1L, 'relatives': 1L, 'potential': 1L, 'ambitious': 1L, 'online': 2L, 'party': 2L, 'dozen': 1L, 'thousand': 2L, 'realize': 1L, 'breakdown': 1L, 'cyberspace': 1L, 'thereof': 1L, 'sure': 1L, 'retired': 1L, 'typed': 1L, 'knew': 1L, 'zzz_bahrain': 1L, 'noise': 1L, 'circled': 1L, 'waterfront': 1L, 'zzz_ky': 1L, 'dedicated': 1L, 'kid': 1L, 'apocalypse': 1L, 'shortly': 1L, 'observation': 1L, 'bug': 1L, 'light': 1L, 'stronger': 1L, 'zapped': 1L, 'playing': 1L, 'zzz_new_zealand': 2L, 'person': 4L, 'chemical': 1L, 'messenger': 1L, 'procedure': 1L, 'allow': 1L, 'stayed': 1L, 'businessman': 1L, 'responded': 1L, 'left': 1L}, {'zzz_eastern': 1L, 'gates': 1L, 'atmosphere': 1L, 'zzz_mass': 1L, 'office': 1L, 'advised': 1L, 'midnight': 3L, 'satisfied': 1L, 'vacancy': 1L, 'cries': 1L, 'session': 1L, 'businesses': 1L, 'zzz_new_york': 1L, 'directorship': 1L, 'zzz_clinton': 1L, 'staff': 1L, 'web': 2L, 'busy': 1L, 'catastrophe': 1L, 'zone': 1L, 'crises': 1L, 'leap': 1L, 'expert': 2L, 'finally': 1L, 'hubbub': 1L, 'bank': 1L, 'pretty': 1L, 'safety': 1L, 'suffered': 1L, 'occurring': 1L, 'applied': 1L, 'return': 1L, 'risk': 1L, 'casually': 1L, 'big': 2L, 'zzz_marion': 1L, 'zzz_government': 5L, 'zzz_council': 1L, 'early': 2L, 'shuttle': 1L, 'traffic': 3L, 'nearly': 1L, 'fall': 1L, 'press': 1L, 'bit': 1L, 'glitches': 1L, 'zzz_lincoln': 1L, 'rumor': 2L, 'areas': 1L, 'entire': 1L, 'shouted': 1L, 'hour': 2L, 'sleeve': 1L, 'held': 1L, 'leading': 1L, 'morning': 2L, 'victory': 1L, 'night': 2L, 'quick': 2L, 'nerves': 1L, 'guy': 1L, 'noted': 2L, 'prevent': 1L, 'declared': 1L, 'set': 1L, 'determine': 1L, 'deal': 1L, 'crop': 1L, 'seat': 3L, 'martial': 5L, 'street': 1L, 'asleep': 1L, 'proclaimed': 1L, 'begun': 1L, 'close': 1L, 'happen': 1L, 'worried': 1L, 'aggressive': 1L, 'computer': 6L, 'drill': 1L, 'culprit': 1L, 'clock': 2L, 'federal': 3L, 'fact': 1L, 'truly': 1L, 'slick': 1L, 'zzz_central': 1L, 'seriously': 1L, 'turnaround': 1L, 'closed': 2L, 'attire': 1L, 'supplies': 1L, 'public': 2L, 'arrival': 1L, 'shut': 1L, 'blowing': 1L, 'run': 1L, 'zzz_red_cross': 1L, 'written': 1L, 'wayward': 1L, 'million': 1L, 'free': 1L, 'reported': 2L, 'job': 2L, 'operating': 1L, 'possibility': 1L, 'attendant': 2L, 'beginning': 1L, 'celebration': 1L, 'ahead': 1L, 'country': 2L, 'taking': 1L, 'sinister': 1L, 'moment': 2L, 'round': 1L, 'zzz_wyo': 1L, 'historical': 1L, 'context': 1L, 'swing': 1L, 'settled': 1L, 'midway': 1L, 'commando': 1L, 'insurance': 1L, 'flying': 1L, 'distress': 1L, 'point': 3L, 'feel': 1L, 'zzz_delta': 1L, 'hearing': 1L, 'date': 1L, 'elevator': 1L, 'directly': 1L, 'reached': 1L, 'ring': 1L, 'rollover': 1L, 'open': 2L, 'conference': 1L, 'worries': 1L, 'law': 5L, 'eye': 1L, 'addition': 1L, 'zzz_washington': 2L, 'hoarding': 1L, 'slept': 1L, 'system': 2L, 'fast': 1L, 'strategy': 1L, 'avail': 1L, 'intention': 1L, 'rerouted': 1L, 'spread': 1L, 'calm': 1L, 'zzz_president': 5L, 'suit': 1L, 'hysterical': 1L, 'empty': 1L, 'happy': 1L, 'eyes': 1L, 'door': 1L, 'offering': 1L, 'successful': 1L, 'attempted': 1L, 'relaxed': 1L, 'downtown': 1L, 'excuse': 2L, 'related': 1L, 'upright': 1L, 'aviation': 1L, 'slowdown': 1L, 'effort': 1L, 'behalf': 1L, 'countless': 1L, 'shoot': 1L, 'zzz_conversion': 1L, 'arranged': 1L, 'look': 1L, 'places': 1L, 'society': 1L, 'meeting': 1L, 'straight': 1L, 'official': 3L, 'mishap': 1L, 'snoozer': 1L, 'catching': 1L, 'encountered': 1L, 'minor': 1L, 'sedate': 1L, 'briefing': 2L, 'making': 2L, 'problem': 2L, 'declare': 1L, 'urging': 1L, 'control': 1L, 'transition': 1L, 'zzz_quincy': 1L, 'behavior': 1L, 'transportation': 1L, 'half': 1L, 'flung': 1L, 'condition': 1L, 'site': 2L, 'reassuring': 1L, 'coordinator': 1L, 'pulling': 1L, 'home': 1L, 'ready': 1L, 'flight': 3L, 'zzz_la_guardia_airport': 1L, 'trip': 1L, 'information': 1L, 'debilitating': 1L, 'monitoring': 1L, 'zzz_ohio': 1L, 'air': 2L, 'dressed': 1L, 'snow': 1L, 'camouflage': 1L, 'reality': 1L, 'member': 1L, 'nap': 1L, 'potential': 1L, 'potentially': 1L, 'airlines': 1L, 'rioting': 1L, 'test': 1L, 'tie': 1L, 'begin': 1L, 'sir': 1L, 'zzz_civil_war': 1L, 'declaring': 1L, 'zzz_john_koskinen': 8L, 'collection': 1L, 'hand': 1L, 'running': 1L, 'arrived': 2L, 'position': 1L, 'head': 1L, 'nation': 1L, 'totally': 1L, 'careful': 1L, 'warn': 1L, 'zzz_delta_flight': 1L, 'center': 2L, 'corporate': 1L, 'devastating': 1L, 'command': 2L, 'road': 1L, 'worst': 1L, 'speechifying': 1L, 'order': 1L, 'talk': 1L, 'left': 1L}, {'stones': 1L, 'ambassador': 2L, 'rubies': 1L, 'zzz_muhammad_ali': 1L, 'gown': 2L, 'entryway': 1L, 'lack': 1L, 'midnight': 1L, 'major': 2L, 'course': 1L, 'openly': 1L, 'businesses': 1L, 'artichoke': 1L, 'stepping': 1L, 'roasted': 1L, 'argued': 1L, 'follow': 1L, 'rough': 1L, 'supporter': 1L, 'toast': 2L, 'cut': 2L, 'zzz_terry_mcauliffe': 1L, 'beluga': 1L, 'pant': 1L, 'father': 1L, 'sparkling': 1L, 'winning': 1L, 'shouting': 1L, 'zzz_hand': 1L, 'black': 2L, 'zzz_sophia_loren': 1L, 'pretty': 1L, 'dressing': 1L, 'main': 1L, 'worth': 1L, 'hope': 1L, 'scheduled': 1L, 'evening': 1L, 'return': 1L, 'watching': 1L, 'zzz_america': 2L, 'dessert': 1L, 'material': 1L, 'bear': 1L, 'traffic': 1L, 'despite': 1L, 'arriving': 1L, 'join': 1L, 'silk': 2L, 'bringing': 1L, 'accommodate': 1L, 'outright': 1L, 'champagne': 1L, 'crowed': 1L, 'prize': 1L, 'lost': 1L, 'artist': 1L, 'conspicuous': 1L, 'performing': 1L, 'list': 1L, 'joined': 1L, 'zzz_east': 3L, 'oddly': 1L, 'jokes': 1L, 'festivities': 1L, 'scientist': 2L, 'flashy': 1L, 'gotten': 1L, 'haltingly': 1L, 'accompanied': 1L, 'baldly': 1L, 'noted': 1L, 'gras': 1L, 'crowd': 1L, 'zzz_hillary_rodham_clinton': 1L, 'past': 2L, 'celebrating': 2L, 'zzz_bobby_mcferrin': 1L, 'seated': 1L, 'begun': 1L, 'reunion': 1L, 'dear': 1L, 'led': 1L, 'donation': 1L, 'packed': 1L, 'contingent': 1L, 'blue': 1L, 'project': 1L, 'velvet': 2L, 'jewelry': 1L, 'movie': 1L, 'appreciative': 1L, 'raising': 1L, 'zzz_supremes': 1L, 'zzz_julie_harris': 1L, 'sentimentalist': 1L, 'receiving': 1L, 'announced': 1L, 'zzz_mary_wilson': 1L, 'pepper': 1L, 'infrastructure': 1L, 'run': 1L, 'telecommunication': 1L, 'business': 1L, 'reporter': 3L, 'million': 1L, 'host': 1L, 'gamely': 1L, 'key': 1L, 'served': 1L, 'optional': 1L, 'zzz_white_house': 4L, 'guest': 6L, 'plug': 1L, 'sister': 2L, 'zzz_rhoda': 1L, 'employees': 1L, 'favorite': 1L, 'gusto': 1L, 'zzz_robert_deniro': 1L, 'rack': 2L, 'dinner': 4L, 'assistant': 1L, 'zzz_nobel': 1L, 'boa': 1L, 'asked': 3L, 'glittering': 1L, 'presumably': 1L, 'salad': 1L, 'caviar': 1L, 'imagine': 1L, 'bused': 1L, 'included': 2L, 'pink': 1L, 'raiser': 1L, 'zzz_ossie_davis': 1L, 'wrap': 1L, 'table': 1L, 'zzz_elizabeth_taylor': 2L, 'singing': 1L, 'red': 2L, 'unusual': 1L, 'foie': 1L, 'spoke': 1L, 'caught': 1L, 'neck': 1L, 'political': 1L, 'joking': 1L, 'zzz_abc': 1L, 'zzz_mary_tyler_moore': 1L, 'expected': 1L, 'john': 1L, 'duties': 1L, 'low': 2L, 'diamond': 1L, 'raced': 1L, 'taffeta': 1L, 'glad': 1L, 'took': 1L, 'chocolate': 1L, 'fund': 1L, 'part': 1L, 'zzz_tom_jones': 1L, 'hopes': 1L, 'smoking': 1L, 'line': 1L, 'zzz_d_mass': 1L, 'behalf': 1L, 'women': 1L, 'keeping': 1L, 'zzz_nicholson': 1L, 'tunic': 1L, 'room': 4L, 'hour': 2L, 'brocade': 1L, 'wish': 1L, 'official': 1L, 'show': 2L, 'single': 1L, 'worn': 1L, 'spokeswoman': 1L, 'donor': 1L, 'future': 2L, 'zzz_commerce_secretary_william_daley': 1L, 'display': 1L, 'zzz_sen_edward_m_kennedy': 1L, 'wearing': 1L, 'money': 1L, 'zzz_ireland': 1L, 'zzz_lincoln_memorial': 1L, 'century': 2L, 'lobbying': 1L, 'likewise': 1L, 'deep': 1L, 'tastes': 1L, 'hug': 1L, 'pushing': 1L, 'seen': 1L, 'dress': 2L, 'zzz_jessye_norman': 1L, 'parent': 1L, 'recap': 1L, 'dressed': 1L, 'responsible': 1L, 'american': 1L, 'actor': 1L, 'dining': 1L, 'recommended': 1L, 'laughed': 1L, 'eclectic': 1L, 'zzz_sid_caesar': 1L, 'extravaganza': 1L, 'lamb': 2L, 'product': 1L, 'senator': 1L, 'tried': 1L, 'millennial': 1L, 'felt': 1L, 'moment': 1L, 'arrived': 1L, 'offset': 1L, 'supper': 1L, 'ragout': 1L, 'president': 2L, 'zzz_lyndon_johnson': 1L, 'opportunity': 1L, 'collar': 1L, 'oyster': 1L, 'zzz_chelsea_clinton': 3L, 'zzz_monica_lewinsky': 1L, 'wife': 1L, 'foot': 1L, 'wheelchair': 1L, 'proud': 1L, 'jacket': 2L, 'loyal': 1L, 'warm': 2L, 'green': 1L, 'gesture': 1L, 'pay': 2L, 'executives': 1L, 'talk': 1L, 'hostess': 1L}, {'refund': 2L, 'zzz_eastern': 2L, 'stores': 2L, 'office': 1L, 'dollar': 1L, 'focus': 3L, 'making': 1L, 'zzz_u_s': 1L, 'bring': 1L, 'manager': 1L, 'epitomized': 1L, 'cases': 1L, 'web': 1L, 'style': 1L, 'cut': 1L, 'layout': 1L, 'zzz_tom_oder': 1L, 'generator': 1L, 'fined': 1L, 'headed': 1L, 'zzz_contreras': 1L, 'israel': 1L, 'employer': 1L, 'platform': 1L, 'policy': 1L, 'health': 1L, 'piano': 1L, 'clamping': 1L, 'warrant': 1L, 'zzz_aetna': 2L, 'toder': 1L, 'non': 1L, 'return': 1L, 'emergency': 2L, 'government': 1L, 'awarding': 1L, 'zzz_ace_hardware': 1L, 'arab': 1L, 'bankroll': 1L, 'putting': 1L, 'front': 1L, 'bit': 1L, 'look': 3L, 'stage': 1L, 'stuff': 1L, 'lozenge': 1L, 'overshadowed': 1L, 'investigator': 1L, 'postcard': 1L, 'notes': 1L, 'turner': 1L, 'charging': 1L, 'continue': 1L, 'common': 1L, 'night': 2L, 'disregard': 1L, 'found': 1L, 'noted': 1L, 'mean': 2L, 'www': 1L, 'zzz_todd_duncan': 1L, 'art': 1L, 'concert': 1L, 'crowd': 1L, 'nytsyn': 1L, 'series': 1L, 'breathtaking': 1L, 'play': 1L, 'zzz_e_t_a': 1L, 'zzz_bradley': 2L, 'demeanor': 1L, 'economic': 1L, 'pageex': 1L, 'amazing': 1L, 'concludes': 1L, 'patient': 2L, 'sport': 1L, 'event': 1L, 'special': 3L, 'restocking': 1L, 'initiatives': 1L, 'est': 1L, 'caribbean': 1L, 'federal': 1L, 'dribbling': 1L, 'missing': 1L, 'compensation': 1L, 'paying': 1L, 'won': 1L, 'millennium': 6L, 'rickc': 1L, 'goes': 1L, 'zzz_miller': 1L, 'supplies': 2L, 'reading': 1L, 'zzz_geewax': 1L, 'public': 1L, 'tduncan': 1L, 'attention': 1L, 'run': 1L, 'business': 5L, 'opening': 1L, 'reach': 1L, 'loose': 1L, 'reported': 1L, 'host': 1L, 'focused': 1L, 'key': 1L, 'strategies': 1L, 'approval': 1L, 'cities': 1L, 'zzz_mallory': 1L, 'celebration': 1L, 'speeches': 1L, 'y2k': 12L, 'package': 1L, 'employees': 1L, 'larger': 1L, 'zzz_atlanta_olympic': 3L, 'zzz_walker': 1L, 'foreign': 1L, 'zzz_jerusalem': 1L, 'turn': 1L, 'amount': 1L, 'eta': 1L, 'expecting': 1L, 'threat': 1L, 'act': 1L, 'zzz_prudential': 2L, 'com': 7L, 'comes': 1L, 'zzz_mexico_city': 1L, 'major': 1L, 'zzz_sear': 2L, 'coverage': 1L, 'shopper': 1L, 'point': 1L, 'question': 2L, 'deal': 2L, 'address': 1L, 'marked': 1L, 'political': 1L, 'zzz_coker': 1L, 'names': 1L, 'verge': 2L, 'church': 1L, 'wrap': 1L, 'stump': 1L, 'ring': 1L, 'quality': 1L, 'market': 1L, 'fee': 1L, 'additional': 1L, 'prepare': 1L, 'area': 1L, 'zzz_st_croix': 1L, 'zzz_washington': 3L, 'hospital': 1L, 'constantly': 1L, 'threatening': 1L, 'subscriber': 1L, 'papal': 1L, 'attack': 1L, 'proposes': 1L, 'treat': 1L, 'spike': 1L, 'forward': 1L, 'care': 1L, 'assessment': 1L, 'final': 1L, 'assumes': 1L, 'artd': 1L, 'exploring': 1L, 'direction': 1L, 'muscles': 1L, 'option': 3L, 'zzz_bond': 1L, 'thousand': 1L, 'acquire': 2L, 'zzz_rick_christie': 1L, 'zzz_home_depot': 1L, 'improve': 1L, 'fund': 1L, 'part': 1L, 'plague': 1L, 'eyed': 1L, 'survived': 2L, 'syndicate': 1L, 'line': 1L, 'general': 1L, 'bill': 1L, 'zzz_dalglish': 1L, 'customer': 2L, 'zzz_london': 1L, 'holiday': 1L, 'room': 1L, 'zzz_sherman': 1L, 'distinguishes': 1L, 'getting': 2L, 'chief': 1L, 'britain': 1L, 'raises': 1L, 'politic': 1L, 'locker': 1L, 'growth': 1L, 'light': 1L, 'newspaper': 2L, 'zzz_sen_bill_bradley': 1L, 'problem': 2L, 'directed': 1L, 'russia': 1L, 'zzz_sports_stories': 1L, 'zzz_andy_alexander': 2L, 'performer': 1L, 'liberal': 1L, 'person': 1L, 'fright': 1L, 'mexico': 1L, 'face': 1L, 'zzz_roughton': 1L, 'sales': 1L, 'sale': 1L, 'blip': 1L, 'critic': 1L, 'outraged': 1L, 'throat': 1L, 'seen': 1L, 'zzz_paul_foutch': 1L, 'recover': 1L, 'meltdown': 1L, 'information': 3L, 'zzz_christianity': 2L, 'century': 1L, 'italy': 1L, 'doctor': 1L, 'counter': 1L, 'congratulation': 1L, 'percent': 1L, 'zzz_retailer': 2L, 'nyt': 1L, 'note': 1L, 'zzz_greg_laudick': 1L, 'zzz_salt_lake_city': 1L, 'tumbling': 1L, 'low': 1L, 'main': 1L, 'commentary': 1L, 'zzz_rome': 1L, 'company': 2L, 'zzz_freeman': 1L, 'stock': 4L, 'development': 2L, 'tension': 1L, 'tighten': 1L, 'ball': 1L, 'zzz_georgia': 1L, 'games': 2L, 'separate': 1L, 'millennial': 1L, 'dow': 1L, 'spot': 1L, 'staffed': 1L, 'zzz_moscow': 1L, 'react': 1L, 'terrorist': 1L, 'mouth': 1L, 'plan': 2L, 'additionally': 1L, 'refusing': 1L, 'zzz_pope_john_paul_ii': 1L, 'funding': 1L, 'future': 1L, 'payment': 1L, 'zzz_congressional': 2L, 'billion': 1L, 'million': 1L, 'short': 1L, 'insured': 1L, 'zzz_kaplow': 1L, 'clear': 1L, 'zzz_american': 1L, 'lax': 1L, 'spent': 1L, 'daily': 1L, 'pfoutch': 1L, 'traditional': 1L, 'zzz_ace': 1L, 'recent': 1L, 'edge': 1L, 'andya': 1L, 'increasing': 1L, 'democratic': 1L, 'corporate': 1L, 'spend': 1L}, ... ]\n"
     ]
    }
   ],
   "source": [
    "print docs"
   ]
  },
  {
   "cell_type": "code",
   "execution_count": 12,
   "metadata": {
    "collapsed": false
   },
   "outputs": [
    {
     "name": "stdout",
     "output_type": "stream",
     "text": [
      "Class                          : TopicModel\n",
      "\n",
      "Schema\n",
      "------\n",
      "Vocabulary Size                : 63958\n",
      "\n",
      "Settings\n",
      "--------\n",
      "Number of Topics               : 15\n",
      "alpha                          : 3.3333\n",
      "beta                           : 0.1\n",
      "Iterations                     : 3000\n",
      "Training time                  : 827.9026\n",
      "Verbose                        : False\n",
      "\n",
      "Accessible fields             : \n",
      "m['topics']                   : An SFrame containing the topics.\n",
      "m['vocabulary']               : An SArray containing the words in the vocabulary.\n",
      "Useful methods                : \n",
      "m.get_topics()                : Get the most probable words per topic.\n",
      "m.predict(new_docs)           : Make predictions for new documents.\n"
     ]
    }
   ],
   "source": [
    "print topic_model"
   ]
  },
  {
   "cell_type": "code",
   "execution_count": null,
   "metadata": {
    "collapsed": true
   },
   "outputs": [],
   "source": []
  }
 ],
 "metadata": {
  "kernelspec": {
   "display_name": "Python 2",
   "language": "python",
   "name": "python2"
  },
  "language_info": {
   "codemirror_mode": {
    "name": "ipython",
    "version": 2
   },
   "file_extension": ".py",
   "mimetype": "text/x-python",
   "name": "python",
   "nbconvert_exporter": "python",
   "pygments_lexer": "ipython2",
   "version": "2.7.13"
  }
 },
 "nbformat": 4,
 "nbformat_minor": 0
}
